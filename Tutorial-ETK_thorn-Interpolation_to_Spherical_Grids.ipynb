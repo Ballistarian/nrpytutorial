{
 "cells": [
  {
   "cell_type": "markdown",
   "metadata": {},
   "source": [
    "# Interpolation to Spherical Grids in the Einstein Toolkit\n",
    "\n",
    "\n",
    "<font color='blue'>**This module has not yet undergone validation testing.**</font>"
   ]
  },
  {
   "cell_type": "markdown",
   "metadata": {},
   "source": [
    "## Structure\n",
    "\n",
    "This module is designed to interpolate arbitrary quantities on [Einstein Toolkit](https://einsteintoolkit.org/) Adaptive-Mesh Refinement (AMR) grids (using the [Carpet](https://carpetcode.org/) AMR infrastructure) to numerical grids with spherical sampling.\n",
    "\n",
    "Given some set of $N$ quantities $\\mathbf{Q}=\\{Q_0,Q_1,Q_2,...,Q_{N-2},Q_{N-1}\\}$, this module performs the following for each $Q_i$:\n",
    "\n",
    "1. Evaluate $Q_i$ at all gridpoints that are not ghost zones. Sometimes $Q_i$ is computed using finite difference derivatives, so this is necessary.\n",
    "1. Call upon Carpet's interpolation and interprocessor synchronization functions to fill in $Q_i$ at all ghost zones, *except* at the outer boundary. We do not generally trust $Q_i$ at the outer boundary due to errors associated with the approximate outer boundary conditions. \n",
    "1. At this point, $Q_i$ is set at all gridpoints except ghost zones at the outer boundary. Interpolate $Q_i$ to the spherical grids, **maintaining the Cartesian basis for all vectors and tensors**, and append the result to a file."
   ]
  },
  {
   "cell_type": "code",
   "execution_count": 1,
   "metadata": {},
   "outputs": [],
   "source": [
    "!mkdir interp_sph_grids_ETK     2>/dev/null # 2>/dev/null: Don't throw an error or warning if the directory already exists.\n",
    "!mkdir interp_sph_grids_ETK/src 2>/dev/null # 2>/dev/null: Don't throw an error or warning if the directory already exists."
   ]
  },
  {
   "cell_type": "markdown",
   "metadata": {},
   "source": [
    "### Low-Level ETK Interpolation Function\n",
    "\n",
    "We start by writing the low-level interpolation function **Interpolate_to_sph_grid()**, which  to file. \n",
    "\n",
    "**Interpolate_to_sph_grid()** takes as input\n",
    "* **cctkGH**: Information about the underlying Cactus/Carpet grid hierarchy.\n",
    "* **interp_num_points**: Number of destination interpolation points\n",
    "* **point_x_temp, point_y_temp, point_z_temp**: Cartesian $(x,y,z)$ location for each of the **interp_num_points** interpolation points.\n",
    "* **input_array_names[1]**: List of input gridfunction names to interpolate. We will do this only one gridfunction at a time, for gridfunction $Q_i$, as described above.\n",
    "\n",
    "**Interpolate_to_sph_grid()** outputs:\n",
    "* **output_f[1]**: The gridfunction **input_array_names[1]** interpolated to the set of **interp_num_points** specified in the input."
   ]
  },
  {
   "cell_type": "code",
   "execution_count": 2,
   "metadata": {},
   "outputs": [
    {
     "name": "stdout",
     "output_type": "stream",
     "text": [
      "Overwriting interp_sph_grids_ETK/src/Interpolate_to_sph_grid.h\n"
     ]
    }
   ],
   "source": [
    "%%writefile interp_sph_grids_ETK/src/Interpolate_to_sph_grid.h\n",
    "\n",
    "void Interpolate_to_sph_grid(cGH *cctkGH,CCTK_INT interp_num_points,\n",
    "                             CCTK_REAL *point_x_temp,CCTK_REAL *point_y_temp,CCTK_REAL *point_z_temp, \n",
    "                             const CCTK_STRING input_array_names[1], CCTK_REAL *output_f[1]) {\n",
    "  DECLARE_CCTK_PARAMETERS; \n",
    "  CCTK_INT ierr;\n",
    "\n",
    "  const CCTK_INT NUM_INPUT_ARRAYS=1;\n",
    "  const CCTK_INT NUM_OUTPUT_ARRAYS=1;\n",
    "\n",
    "  CCTK_STRING coord_system = \"cart3d\";\n",
    "\n",
    "  // Set up handles\n",
    "  const CCTK_INT coord_system_handle = CCTK_CoordSystemHandle(coord_system);\n",
    "  if (coord_system_handle < 0) {\n",
    "    CCTK_VWarn(0, __LINE__, __FILE__, CCTK_THORNSTRING,\n",
    "        \"can't get coordinate system handle for coordinate system \\\"%s\\\"!\",\n",
    "               coord_system);\n",
    "  }\n",
    "\n",
    "  const CCTK_INT operator_handle = CCTK_InterpHandle(interpolator_name);\n",
    "  if (operator_handle < 0)\n",
    "    CCTK_VWarn(0, __LINE__, __FILE__, CCTK_THORNSTRING,\n",
    "               \"couldn't find interpolator \\\"%s\\\"!\",\n",
    "               interpolator_name);\n",
    "\n",
    "  CCTK_INT param_table_handle = Util_TableCreateFromString(interpolator_pars);\n",
    "  if (param_table_handle < 0) {\n",
    "    CCTK_VWarn(0, __LINE__, __FILE__, CCTK_THORNSTRING,\n",
    "               \"bad interpolator parameter(s) \\\"%s\\\"!\",\n",
    "               interpolator_pars);\n",
    "  }\n",
    "  \n",
    "  CCTK_INT operand_indices[NUM_INPUT_ARRAYS]; //NUM_OUTPUT_ARRAYS + MAX_NUMBER_EXTRAS];\n",
    "  for(int i = 0 ; i < NUM_INPUT_ARRAYS  ; i++) {\n",
    "    operand_indices[i] = i;\n",
    "  }\n",
    "  Util_TableSetIntArray(param_table_handle, NUM_OUTPUT_ARRAYS,\n",
    "                        operand_indices, \"operand_indices\");\n",
    "  \n",
    "\n",
    "  CCTK_INT opcodes[NUM_INPUT_ARRAYS];\n",
    "  for(int i = 0 ; i < NUM_INPUT_ARRAYS  ; i++) {\n",
    "    opcodes[i] = 0;\n",
    "  }\n",
    "  Util_TableSetIntArray(param_table_handle, NUM_OUTPUT_ARRAYS, \n",
    "                        opcodes, \"opcodes\");\n",
    "\n",
    "  const void* interp_coords[3] \n",
    "    = { (const void *) point_x_temp,\n",
    "        (const void *) point_y_temp,\n",
    "        (const void *) point_z_temp };\n",
    "\n",
    "  CCTK_INT input_array_indices[NUM_INPUT_ARRAYS];\n",
    "  for(int i = 0 ; i < NUM_INPUT_ARRAYS ; i++) {\n",
    "    input_array_indices[i] = CCTK_VarIndex(input_array_names[i]);\n",
    "    if(input_array_indices[i] < 0) {\n",
    "      CCTK_VWarn(0, __LINE__, __FILE__, CCTK_THORNSTRING,\n",
    "        \"COULD NOT FIND VARIABLE '%s'.\",\n",
    "        input_array_names[i]);\n",
    "      exit(1);\n",
    "    }\n",
    "  }\n",
    "\n",
    "  CCTK_INT output_array_types[NUM_OUTPUT_ARRAYS];\n",
    "  for(int i = 0 ; i < NUM_OUTPUT_ARRAYS ; i++) {\n",
    "    output_array_types[i] = CCTK_VARIABLE_REAL;\n",
    "  }\n",
    "\n",
    "  void * output_arrays[NUM_OUTPUT_ARRAYS]\n",
    "    = { (void *) output_f[0] };\n",
    "\n",
    "  // actual interpolation call\n",
    "  ierr = CCTK_InterpGridArrays(cctkGH,\n",
    "                               3, // number of dimensions \n",
    "                               operator_handle,\n",
    "                               param_table_handle,\n",
    "                               coord_system_handle,\n",
    "                               interp_num_points,\n",
    "                               CCTK_VARIABLE_REAL,\n",
    "                               interp_coords,\n",
    "                               NUM_INPUT_ARRAYS, // Number of input arrays\n",
    "                               input_array_indices,\n",
    "                               NUM_OUTPUT_ARRAYS, // Number of output arrays\n",
    "                               output_array_types,\n",
    "                               output_arrays);\n",
    "  if (ierr<0) {\n",
    "    CCTK_WARN(1,\"interpolation screwed up\");\n",
    "    Util_TableDestroy(param_table_handle);\n",
    "    exit(1);\n",
    "  }\n",
    "\n",
    "  ierr = Util_TableDestroy(param_table_handle);\n",
    "  if (ierr != 0) {\n",
    "    CCTK_WARN(1,\"Could not destroy table\");\n",
    "    exit(1);\n",
    "  }\n",
    "}"
   ]
  },
  {
   "cell_type": "markdown",
   "metadata": {},
   "source": [
    "### Setting up the Spherical Grids\n",
    "\n",
    "\n",
    "* By default, we set logarithmic radial coordinates: $r(x_{0,i}) = R_0 + e^{x_{0,i}}$, where\n",
    "  + $x_{0,i} = x_{0, \\mathrm{beg}} + \\left(i+\\frac{1}{2}\\right) \\Delta x_0$\n",
    "  + $x_{0, {\\mathrm{beg}}} = \\log\\left( R_{\\mathrm{in}} - R_0 \\right)$\n",
    "  + $\\Delta x_0 = \\frac{1}{N_0}\\log\\left(\\frac{R_\\mathrm{out} - R_0}{R_\\mathrm{in} - R_0}\\right)$\n",
    "* As for the polar angle $\\theta$, there are two options:\n",
    "  + **Option 1**: \n",
    "  $$\n",
    "  \\theta(x_{1,j})  \\, = \\, \\theta_c \\, + \\, \\left( \\pi - 2 \\theta_c \\right) x_{1,j} \\, \n",
    "+ \\, \\xi \\, \\sin\\left(2 \\pi x_{1,j} \\right) \\text{, where}\n",
    "$$\n",
    "    + $x_{1,j} = x_{1, \\mathrm{beg}} + \\left(j+\\frac{1}{2}\\right) \\Delta x_1$\n",
    "    + $\\Delta x_1 = \\frac{1}{N_1}$\n",
    "  + **Option 2**: \n",
    "  $$\n",
    "  \\theta(x_{1,j}) = \\frac{\\pi}{2} \\left[  1  + \\left(1-\\xi \\right) \\left(2 x_{1,j} - 1 \\right) + \\left( \\xi - \\frac{2 \\theta_c}{\\pi} \\right) \\left( 2 x_{1,j} - 1 \\right)^n \\right] \\text{, where}\n",
    "  $$\n",
    "    + $n$ is odd\n",
    "    + $x_{1,j} = x_{1, \\mathrm{beg}} + \\left(j+\\frac{1}{2}\\right) \\Delta x_1$\n",
    "    + $\\Delta x_1 = \\frac{1}{N_1}$\n",
    "* The azimuthal angle $\\phi$ is uniform, so that $\\phi(x_{2,k}) = x_{2,k}$:\n",
    "  + $x_{2,k} \\in [0,2\\pi]$\n",
    "  + $x_{2,k} = x_{2, \\mathrm{beg}} + \\left(k+\\frac{1}{2}\\right)\\Delta x_{2}$\n",
    "  + $\\Delta x_{2} = \\frac{ 2 \\pi }{N_2}$"
   ]
  },
  {
   "cell_type": "code",
   "execution_count": 3,
   "metadata": {
    "scrolled": true
   },
   "outputs": [
    {
     "name": "stdout",
     "output_type": "stream",
     "text": [
      "Overwriting interp_sph_grids_ETK/src/Set_up_interp_points_on_sph_grid.h\n"
     ]
    }
   ],
   "source": [
    "%%writefile interp_sph_grids_ETK/src/Set_up_interp_points_on_sph_grid.h\n",
    "\n",
    "void sph_grid_Interpolate_many_pts__set_interp_pts(CCTK_ARGUMENTS) {\n",
    "  DECLARE_CCTK_ARGUMENTS;\n",
    "  DECLARE_CCTK_PARAMETERS;\n",
    "\n",
    "  CCTK_REAL dx0 = log( (Rout - R0) / (Rin - R0) ) / ((CCTK_REAL)N0);\n",
    "  CCTK_REAL dx1 = 1.0 / ((CCTK_REAL)N1);\n",
    "  CCTK_REAL dx2 = 1.0 / ((CCTK_REAL)N2);\n",
    "\n",
    "  CCTK_INT which_pt = 0;\n",
    "  for(CCTK_INT k=0;k<N2;k++) for(CCTK_INT j=0;j<N1;j++) for(CCTK_INT i=0;i<N0;i++) {\n",
    "    CCTK_REAL x0_i = x0_beg + ((CCTK_REAL)i + 0.5)*dx0;\n",
    "    CCTK_REAL rr = R0 + exp(x0_i);\n",
    "\n",
    "    CCTK_REAL x1_j = x1_beg + ((CCTK_REAL)j + 0.5)*dx1;\n",
    "    CCTK_REAL th = -1e300;\n",
    "    if(theta_option == 1) {\n",
    "       th = th_c + (M_PI - 2.0*th_c)*x1_j + xi*sin(2.0*M_PI*x1_j);\n",
    "    } else if (theta_option == 2) {\n",
    "       th = M_PI/2.0 * ( 1.0 + (1.0 - xi)*(2.0*x1_j - 1.0) + (xi - 2.0*th_c/M_PI)*pow(2.0*x1_j - 1.0 ,th_n) );\n",
    "    } else {\n",
    "       printf(\"Error: theta_option = %d NOT SUPPORTED.\",theta_option);\n",
    "       exit(1);\n",
    "    }\n",
    "    \n",
    "    CCTK_REAL x2_k = x2_beg + ((CCTK_REAL)k + 0.5)*dx2;\n",
    "    CCTK_REAL ph = x2_k;\n",
    "\n",
    "    points_x[which_pt] = rr*sin(th)*cos(ph);\n",
    "    points_y[which_pt] = rr*sin(th)*sin(ph);\n",
    "    points_z[which_pt] = rr*cos(th);\n",
    "    which_pt++;\n",
    "  }\n",
    "}"
   ]
  },
  {
   "cell_type": "markdown",
   "metadata": {},
   "source": [
    "### Outputting to File\n",
    "\n",
    "Since they take almost no space, we attach the entire metadata to each interpolated function that is output:"
   ]
  },
  {
   "cell_type": "code",
   "execution_count": 4,
   "metadata": {},
   "outputs": [
    {
     "name": "stdout",
     "output_type": "stream",
     "text": [
      "Overwriting interp_sph_grids_ETK/src/output_to_file.h\n"
     ]
    }
   ],
   "source": [
    "%%writefile interp_sph_grids_ETK/src/output_to_file.h\n",
    "\n",
    "void output_to_file(CCTK_ARGUMENTS,CCTK_REAL *output_f[1]) {\n",
    "  DECLARE_CCTK_ARGUMENTS;\n",
    "  DECLARE_CCTK_PARAMETERS;\n",
    "\n",
    "  char filename[100];\n",
    "  sprintf (filename, \"%s/interp_sph_grids.dat\", out_dir);\n",
    "  FILE *file = fopen (filename,\"a+\");\n",
    "  if (! file) {\n",
    "    CCTK_VWarn (1, __LINE__, __FILE__, CCTK_THORNSTRING,\n",
    "                \"interp_sph_grid__ET_thorn: Cannot open output file '%s'\", filename);\n",
    "    exit(1);\n",
    "  }\n",
    "\n",
    "  fwrite(&N0, sizeof(CCTK_INT), 1, file);\n",
    "  fwrite(&x0_beg, sizeof(CCTK_REAL), 1, file);\n",
    "  fwrite(&R0, sizeof(CCTK_REAL), 1, file);\n",
    "  fwrite(&Rin, sizeof(CCTK_REAL), 1, file);\n",
    "  fwrite(&Rout, sizeof(CCTK_REAL), 1, file);\n",
    "\n",
    "  fwrite(&N1, sizeof(CCTK_INT), 1, file);\n",
    "  fwrite(&x1_beg, sizeof(CCTK_REAL), 1, file);\n",
    "  fwrite(&theta_option, sizeof(CCTK_INT), 1, file);\n",
    "  fwrite(&th_c, sizeof(CCTK_REAL), 1, file);\n",
    "  fwrite(&xi, sizeof(CCTK_REAL), 1, file);\n",
    "  fwrite(&th_n, sizeof(CCTK_INT), 1, file);\n",
    "\n",
    "  fwrite(&N2, sizeof(CCTK_INT), 1, file);\n",
    "  fwrite(&x2_beg, sizeof(CCTK_REAL), 1, file);\n",
    "\n",
    "  CCTK_REAL magic_number = 1.130814081305130e-21;\n",
    "  fwrite(&magic_number, sizeof(CCTK_REAL), 1, file);\n",
    "  fwrite(&cctk_iteration, sizeof(CCTK_INT), 1, file);\n",
    "  fwrite(&cctk_time, sizeof(CCTK_REAL), 1, file);\n",
    "  for(CCTK_INT i=0;i<1;i++) {\n",
    "    fwrite(output_f[i], sizeof(CCTK_REAL)*N0*N1*N2, 1, file);\n",
    "  }\n",
    "\n",
    "  fclose(file);\n",
    "}"
   ]
  },
  {
   "cell_type": "markdown",
   "metadata": {},
   "source": [
    "## The Main Interpolation Driver Function\n",
    "\n",
    "The **Interpolate_to_sph_grid_main_function()** function calls the above functions as follows:\n",
    "1. **sph_grid_Interpolate_many_pts__set_interp_pts()**: First set up the spherical grids\n",
    "1. **Interpolate_to_sph_grid()**: Output"
   ]
  },
  {
   "cell_type": "code",
   "execution_count": 5,
   "metadata": {},
   "outputs": [
    {
     "name": "stdout",
     "output_type": "stream",
     "text": [
      "Overwriting interp_sph_grids_ETK/src/main_function.cc\n"
     ]
    }
   ],
   "source": [
    "%%writefile interp_sph_grids_ETK/src/main_function.cc\n",
    "\n",
    "// Include needed ETK & C library header files:\n",
    "#include <assert.h>\n",
    "#include <stdio.h>\n",
    "#include <stdlib.h>\n",
    "#include <string.h>\n",
    "#include <math.h>\n",
    "#include <ctype.h>\n",
    "#include \"cctk.h\"\n",
    "#include \"cctk_Arguments.h\"\n",
    "#include \"cctk_Parameters.h\"\n",
    "#include \"cctk_Functions.h\"\n",
    "#include \"util_Table.h\"\n",
    "#include \"util_String.h\"\n",
    "\n",
    "// Include locally-defined C++ functions:\n",
    "#include \"Set_up_interp_points_on_sph_grid.h\"\n",
    "#include \"Interpolate_to_sph_grid.h\"\n",
    "#include \"output_to_file.h\"\n",
    "\n",
    "void Interpolate_to_sph_grid_main_function(CCTK_ARGUMENTS) {\n",
    "  DECLARE_CCTK_ARGUMENTS;\n",
    "  DECLARE_CCTK_PARAMETERS;\n",
    "\n",
    "  // Perform interpolation only at iteration == interp_out_iteration:\n",
    "  if(cctk_iteration != interp_out_iteration) return;\n",
    "\n",
    "  // Set up spherically sampled interpolation grid arrays points_x,points_y,points_z: \n",
    "  sph_grid_Interpolate_many_pts__set_interp_pts(CCTK_PASS_CTOC);\n",
    "\n",
    "    \n",
    "    \n",
    "  // Set up output array:\n",
    "  CCTK_REAL *output_f[1];\n",
    "  output_f[0] = output_interped;\n",
    "  // The name of the input gridfunction is always \"interp_sph_grids_ETK::interped_gf\":\n",
    "  const CCTK_STRING input_array_names[1] = { \"interp_sph_grids_ETK::interped_gf\" };\n",
    "\n",
    "  // Perform interpolation!\n",
    "  Interpolate_to_sph_grid(cctkGH, interp_num_points,\n",
    "                             points_x,points_y,points_z, input_array_names, output_f);\n",
    "\n",
    "  if(CCTK_MyProc(cctkGH)==0) {\n",
    "    output_to_file(CCTK_PASS_CTOC,output_f);\n",
    "    printf(\"Interpolate_to_sph_grid_main_function(): Just output to file at iteration %d\\n\",cctk_iteration);\n",
    "  } else {\n",
    "    printf(\"Interpolate_to_sph_grid_main_function(): Process !=0 waiting for file output at iteration %d\\n\",cctk_iteration);\n",
    "  }\n",
    "}"
   ]
  },
  {
   "cell_type": "markdown",
   "metadata": {},
   "source": [
    "### Interpolation Function Counter Routines, for Scheduling"
   ]
  },
  {
   "cell_type": "code",
   "execution_count": 6,
   "metadata": {},
   "outputs": [
    {
     "name": "stdout",
     "output_type": "stream",
     "text": [
      "Overwriting interp_sph_grids_ETK/src/interp_counter.cc\n"
     ]
    }
   ],
   "source": [
    "%%writefile interp_sph_grids_ETK/src/interp_counter.cc\n",
    "\n",
    "void SphGrid_InitializeInterpCounterToZero(CCTK_ARGUMENTS)\n",
    "{\n",
    "  DECLARE_CCTK_ARGUMENTS;\n",
    "  DECLARE_CCTK_PARAMETERS;\n",
    "  *InterpCounter = 0;\n",
    "\n",
    "  if(verbose==2) printf(\"interp_sph_grids_ETK: Just set InterpCounter to %d\\n\",*InterpCounter);\n",
    "}\n",
    "\n",
    "void SphGrid_GRMHD_InitializeInterpCounter(CCTK_ARGUMENTS)\n",
    "{\n",
    "  DECLARE_CCTK_ARGUMENTS;\n",
    "  DECLARE_CCTK_PARAMETERS;\n",
    "\n",
    "  if(cctk_iteration%VolIntegral_out_every==0) {\n",
    "    *InterpCounter = NumInterpFunctions;\n",
    "    if(verbose==2) printf(\"interp_sph_grids_ETK: Just set InterpCounter to %d == NumInterpFunctions\\n\",\n",
    "                          *InterpCounter);\n",
    "  }\n",
    "}\n",
    "\n",
    "void SphGrid_GRMHD_DecrementInterpCounter(CCTK_ARGUMENTS)\n",
    "{\n",
    "  DECLARE_CCTK_ARGUMENTS;\n",
    "  DECLARE_CCTK_PARAMETERS;\n",
    "\n",
    "    (*InterpCounter)--;\n",
    "    if(verbose==2) printf(\"interp_sph_grids_ETK: Just decremented InterpCounter to %d\\n\",*InterpCounter);\n",
    "}"
   ]
  },
  {
   "cell_type": "markdown",
   "metadata": {},
   "source": [
    "# Use NRPy+ C Output to Set All Output Gridfunctions\n"
   ]
  },
  {
   "cell_type": "code",
   "execution_count": 7,
   "metadata": {},
   "outputs": [],
   "source": [
    "# Step 1: Import needed NRPy+ parameters\n",
    "import indexedexp as ixp\n",
    "import grid as gri\n",
    "import finite_difference as fin\n",
    "from outputC import *\n",
    "import sympy as sp\n",
    "import NRPy_param_funcs as par\n",
    "import loop\n",
    "\n",
    "from collections import namedtuple\n",
    "gf_interp = namedtuple('gf_interp', 'name interp_order')\n",
    "gf_interp_list = []\n",
    "\n",
    "gf_interp_list.append(gf_interp(\"IllinoisGRMHD::rho_b\",\"1\"))\n",
    "\n",
    "#interp_expr = "
   ]
  },
  {
   "cell_type": "code",
   "execution_count": 8,
   "metadata": {},
   "outputs": [
    {
     "name": "stdout",
     "output_type": "stream",
     "text": [
      "Overwriting interp_sph_grids_ETK/src/interp_functions.cc\n"
     ]
    }
   ],
   "source": [
    "%%writefile interp_sph_grids_ETK/src/interp_functions.cc\n",
    "\n",
    "// Set the gridfunction interped_gf, according to the interpolation counter variable interp_counter.\n",
    "//    For example, we might interpolate \"IllinoisGRMHD::rho_b\" if interp_counter==0. The following\n",
    "//    function takes care of these\n"
   ]
  },
  {
   "cell_type": "code",
   "execution_count": null,
   "metadata": {},
   "outputs": [],
   "source": []
  }
 ],
 "metadata": {
  "kernelspec": {
   "display_name": "Python 2",
   "language": "python",
   "name": "python2"
  },
  "language_info": {
   "codemirror_mode": {
    "name": "ipython",
    "version": 2
   },
   "file_extension": ".py",
   "mimetype": "text/x-python",
   "name": "python",
   "nbconvert_exporter": "python",
   "pygments_lexer": "ipython2",
   "version": "2.7.13"
  }
 },
 "nbformat": 4,
 "nbformat_minor": 2
}
