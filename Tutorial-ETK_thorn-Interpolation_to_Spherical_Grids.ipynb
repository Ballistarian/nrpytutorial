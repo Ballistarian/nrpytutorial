{
 "cells": [
  {
   "cell_type": "markdown",
   "metadata": {},
   "source": [
    "# Interpolation to Spherical Grids in the Einstein Toolkit\n",
    "\n",
    "\n",
    "<font color='blue'>**This module has not yet undergone validation testing.**</font>"
   ]
  },
  {
   "cell_type": "markdown",
   "metadata": {},
   "source": [
    "## Structure\n",
    "\n",
    "This module is designed to interpolate arbitrary quantities on [Einstein Toolkit](https://einsteintoolkit.org/) Adaptive-Mesh Refinement (AMR) grids (using the [Carpet](https://carpetcode.org/) AMR infrastructure) to numerical grids with spherical sampling.\n",
    "\n",
    "Given some set of $N$ quantities $\\mathbf{Q}=\\{Q_0,Q_1,Q_2,...,Q_{N-2},Q_{N-1}\\}$, this module performs the following for each $Q_i$:\n",
    "\n",
    "1. Evaluate $Q_i$ at all gridpoints that are not ghost zones. Sometimes $Q_i$ is computed using finite difference derivatives, so this is necessary.\n",
    "1. Call upon Carpet's interpolation and interprocessor synchronization functions to fill in $Q_i$ at all ghost zones, *except* at the outer boundary. We do not generally trust $Q_i$ at the outer boundary due to errors associated with the approximate outer boundary conditions. \n",
    "1. At this point, $Q_i$ is set at all gridpoints except ghost zones at the outer boundary. Interpolate $Q_i$ to the spherical grids, **maintaining the Cartesian basis for all vectors and tensors**, and append the result to a file."
   ]
  },
  {
   "cell_type": "code",
   "execution_count": 1,
   "metadata": {},
   "outputs": [],
   "source": [
    "!mkdir interp_sph_grids_ETK     2>/dev/null # 2>/dev/null: Don't throw an error or warning if the directory already exists.\n",
    "!mkdir interp_sph_grids_ETK/src 2>/dev/null # 2>/dev/null: Don't throw an error or warning if the directory already exists."
   ]
  },
  {
   "cell_type": "markdown",
   "metadata": {},
   "source": [
    "### Low-Level ETK Interpolation Function\n",
    "\n",
    "We start by writing the low-level interpolation function **Interpolate_to_sph_grid()**, which  to file. \n",
    "\n",
    "**Interpolate_to_sph_grid()** takes as input\n",
    "* **cctkGH**: Information about the underlying Cactus/Carpet grid hierarchy.\n",
    "* **interp_num_points**: Number of destination interpolation points\n",
    "* **point_x_temp, point_y_temp, point_z_temp**: Cartesian $(x,y,z)$ location for each of the **interp_num_points** interpolation points.\n",
    "* **input_array_names[1]**: List of input gridfunction names to interpolate. We will do this only one gridfunction at a time, for gridfunction $Q_i$, as described above.\n",
    "\n",
    "**Interpolate_to_sph_grid()** outputs:\n",
    "* **output_f[1]**: The gridfunction **input_array_names[1]** interpolated to the set of **interp_num_points** specified in the input."
   ]
  },
  {
   "cell_type": "code",
   "execution_count": 2,
   "metadata": {},
   "outputs": [
    {
     "name": "stdout",
     "output_type": "stream",
     "text": [
      "Overwriting interp_sph_grids_ETK/src/Interpolate_to_sph_grid.h\n"
     ]
    }
   ],
   "source": [
    "%%writefile interp_sph_grids_ETK/src/Interpolate_to_sph_grid.h\n",
    "\n",
    "void Interpolate_to_sph_grid(cGH *cctkGH,CCTK_INT interp_num_points, CCTK_INT interp_order,\n",
    "                             CCTK_REAL *point_x_temp,CCTK_REAL *point_y_temp,CCTK_REAL *point_z_temp, \n",
    "                             const CCTK_STRING input_array_names[1], CCTK_REAL *output_f[1]) {\n",
    "  DECLARE_CCTK_PARAMETERS; \n",
    "  CCTK_INT ierr;\n",
    "\n",
    "  const CCTK_INT NUM_INPUT_ARRAYS=1;\n",
    "  const CCTK_INT NUM_OUTPUT_ARRAYS=1;\n",
    "\n",
    "  CCTK_STRING coord_system = \"cart3d\";\n",
    "\n",
    "  // Set up handles\n",
    "  const CCTK_INT coord_system_handle = CCTK_CoordSystemHandle(coord_system);\n",
    "  if (coord_system_handle < 0) {\n",
    "    CCTK_VWarn(0, __LINE__, __FILE__, CCTK_THORNSTRING,\n",
    "        \"can't get coordinate system handle for coordinate system \\\"%s\\\"!\",\n",
    "               coord_system);\n",
    "  }\n",
    "\n",
    "  const CCTK_INT operator_handle = CCTK_InterpHandle(interpolator_name);\n",
    "  if (operator_handle < 0)\n",
    "    CCTK_VWarn(0, __LINE__, __FILE__, CCTK_THORNSTRING,\n",
    "               \"couldn't find interpolator \\\"%s\\\"!\",\n",
    "               interpolator_name);\n",
    "\n",
    "  char interp_order_string[10];\n",
    "  snprintf(interp_order_string, 10, \"order=%d\", interp_order);\n",
    "  CCTK_STRING interpolator_pars = interp_order_string;\n",
    "  CCTK_INT param_table_handle = Util_TableCreateFromString(interpolator_pars);\n",
    "  if (param_table_handle < 0) {\n",
    "    CCTK_VWarn(0, __LINE__, __FILE__, CCTK_THORNSTRING,\n",
    "               \"bad interpolator parameter(s) \\\"%s\\\"!\",\n",
    "               interpolator_pars);\n",
    "  }\n",
    "  \n",
    "  CCTK_INT operand_indices[NUM_INPUT_ARRAYS]; //NUM_OUTPUT_ARRAYS + MAX_NUMBER_EXTRAS];\n",
    "  for(int i = 0 ; i < NUM_INPUT_ARRAYS  ; i++) {\n",
    "    operand_indices[i] = i;\n",
    "  }\n",
    "  Util_TableSetIntArray(param_table_handle, NUM_OUTPUT_ARRAYS,\n",
    "                        operand_indices, \"operand_indices\");\n",
    "  \n",
    "\n",
    "  CCTK_INT opcodes[NUM_INPUT_ARRAYS];\n",
    "  for(int i = 0 ; i < NUM_INPUT_ARRAYS  ; i++) {\n",
    "    opcodes[i] = 0;\n",
    "  }\n",
    "  Util_TableSetIntArray(param_table_handle, NUM_OUTPUT_ARRAYS, \n",
    "                        opcodes, \"opcodes\");\n",
    "\n",
    "  const void* interp_coords[3] \n",
    "    = { (const void *) point_x_temp,\n",
    "        (const void *) point_y_temp,\n",
    "        (const void *) point_z_temp };\n",
    "\n",
    "  CCTK_INT input_array_indices[NUM_INPUT_ARRAYS];\n",
    "  for(int i = 0 ; i < NUM_INPUT_ARRAYS ; i++) {\n",
    "    input_array_indices[i] = CCTK_VarIndex(input_array_names[i]);\n",
    "    if(input_array_indices[i] < 0) {\n",
    "      CCTK_VWarn(0, __LINE__, __FILE__, CCTK_THORNSTRING,\n",
    "        \"COULD NOT FIND VARIABLE '%s'.\",\n",
    "        input_array_names[i]);\n",
    "      exit(1);\n",
    "    }\n",
    "  }\n",
    "\n",
    "  CCTK_INT output_array_types[NUM_OUTPUT_ARRAYS];\n",
    "  for(int i = 0 ; i < NUM_OUTPUT_ARRAYS ; i++) {\n",
    "    output_array_types[i] = CCTK_VARIABLE_REAL;\n",
    "  }\n",
    "\n",
    "  void * output_arrays[NUM_OUTPUT_ARRAYS]\n",
    "    = { (void *) output_f[0] };\n",
    "\n",
    "  // actual interpolation call\n",
    "  ierr = CCTK_InterpGridArrays(cctkGH,\n",
    "                               3, // number of dimensions \n",
    "                               operator_handle,\n",
    "                               param_table_handle,\n",
    "                               coord_system_handle,\n",
    "                               interp_num_points,\n",
    "                               CCTK_VARIABLE_REAL,\n",
    "                               interp_coords,\n",
    "                               NUM_INPUT_ARRAYS, // Number of input arrays\n",
    "                               input_array_indices,\n",
    "                               NUM_OUTPUT_ARRAYS, // Number of output arrays\n",
    "                               output_array_types,\n",
    "                               output_arrays);\n",
    "  if (ierr<0) {\n",
    "    CCTK_WARN(1,\"interpolation screwed up\");\n",
    "    Util_TableDestroy(param_table_handle);\n",
    "    exit(1);\n",
    "  }\n",
    "\n",
    "  ierr = Util_TableDestroy(param_table_handle);\n",
    "  if (ierr != 0) {\n",
    "    CCTK_WARN(1,\"Could not destroy table\");\n",
    "    exit(1);\n",
    "  }\n",
    "}"
   ]
  },
  {
   "cell_type": "markdown",
   "metadata": {},
   "source": [
    "### Setting up the Spherical Grids\n",
    "\n",
    "\n",
    "* By default, we set logarithmic radial coordinates: $r(x_{0,i}) = R_0 + e^{x_{0,i}}$, where\n",
    "  + $x_{0,i} = x_{0, \\mathrm{beg}} + \\left(i+\\frac{1}{2}\\right) \\Delta x_0$\n",
    "  + $x_{0, {\\mathrm{beg}}} = \\log\\left( R_{\\mathrm{in}} - R_0 \\right)$\n",
    "  + $\\Delta x_0 = \\frac{1}{N_0}\\log\\left(\\frac{R_\\mathrm{out} - R_0}{R_\\mathrm{in} - R_0}\\right)$\n",
    "* As for the polar angle $\\theta$, there are two options:\n",
    "  + **Option 1**: \n",
    "  $$\n",
    "  \\theta(x_{1,j})  \\, = \\, \\theta_c \\, + \\, \\left( \\pi - 2 \\theta_c \\right) x_{1,j} \\, \n",
    "+ \\, \\xi \\, \\sin\\left(2 \\pi x_{1,j} \\right) \\text{, where}\n",
    "$$\n",
    "    + $x_{1,j} = x_{1, \\mathrm{beg}} + \\left(j+\\frac{1}{2}\\right) \\Delta x_1$\n",
    "    + $\\Delta x_1 = \\frac{1}{N_1}$\n",
    "  + **Option 2**: \n",
    "  $$\n",
    "  \\theta(x_{1,j}) = \\frac{\\pi}{2} \\left[  1  + \\left(1-\\xi \\right) \\left(2 x_{1,j} - 1 \\right) + \\left( \\xi - \\frac{2 \\theta_c}{\\pi} \\right) \\left( 2 x_{1,j} - 1 \\right)^n \\right] \\text{, where}\n",
    "  $$\n",
    "    + $n$ is odd\n",
    "    + $x_{1,j} = x_{1, \\mathrm{beg}} + \\left(j+\\frac{1}{2}\\right) \\Delta x_1$\n",
    "    + $\\Delta x_1 = \\frac{1}{N_1}$\n",
    "* The azimuthal angle $\\phi$ is uniform, so that $\\phi(x_{2,k}) = x_{2,k}$:\n",
    "  + $x_{2,k} \\in [0,2\\pi]$\n",
    "  + $x_{2,k} = x_{2, \\mathrm{beg}} + \\left(k+\\frac{1}{2}\\right)\\Delta x_{2}$\n",
    "  + $\\Delta x_{2} = \\frac{ 2 \\pi }{N_2}$"
   ]
  },
  {
   "cell_type": "code",
   "execution_count": 3,
   "metadata": {
    "scrolled": true
   },
   "outputs": [
    {
     "name": "stdout",
     "output_type": "stream",
     "text": [
      "Overwriting interp_sph_grids_ETK/src/Set_up_interp_points_on_sph_grid.h\n"
     ]
    }
   ],
   "source": [
    "%%writefile interp_sph_grids_ETK/src/Set_up_interp_points_on_sph_grid.h\n",
    "\n",
    "void sph_grid_Interpolate_many_pts__set_interp_pts(CCTK_ARGUMENTS) {\n",
    "  DECLARE_CCTK_ARGUMENTS;\n",
    "  DECLARE_CCTK_PARAMETERS;\n",
    "\n",
    "  CCTK_REAL dx0 = log( (Rout - R0) / (Rin - R0) ) / ((CCTK_REAL)N0);\n",
    "  CCTK_REAL dx1 = 1.0 / ((CCTK_REAL)N1);\n",
    "  CCTK_REAL dx2 = 1.0 / ((CCTK_REAL)N2);\n",
    "  CCTK_REAL x0_beg = log( Rin - R0 );\n",
    "  CCTK_INT which_pt = 0;\n",
    "  for(CCTK_INT k=0;k<N2;k++) for(CCTK_INT j=0;j<N1;j++) for(CCTK_INT i=0;i<N0;i++) {\n",
    "    CCTK_REAL x0_i = x0_beg + ((CCTK_REAL)i + 0.5)*dx0;\n",
    "    CCTK_REAL rr = R0 + exp(x0_i);\n",
    "\n",
    "    CCTK_REAL x1_j = x1_beg + ((CCTK_REAL)j + 0.5)*dx1;\n",
    "    CCTK_REAL th = -1e300;\n",
    "    if(theta_option == 1) {\n",
    "       th = th_c + (M_PI - 2.0*th_c)*x1_j + xi*sin(2.0*M_PI*x1_j);\n",
    "    } else if (theta_option == 2) {\n",
    "       th = M_PI/2.0 * ( 1.0 + (1.0 - xi)*(2.0*x1_j - 1.0) + (xi - 2.0*th_c/M_PI)*pow(2.0*x1_j - 1.0 ,th_n) );\n",
    "    } else {\n",
    "       printf(\"Error: theta_option = %d NOT SUPPORTED.\",theta_option);\n",
    "       exit(1);\n",
    "    }\n",
    "    \n",
    "    CCTK_REAL x2_k = x2_beg + ((CCTK_REAL)k + 0.5)*dx2;\n",
    "    CCTK_REAL ph = x2_k;\n",
    "\n",
    "    points_x[which_pt] = rr*sin(th)*cos(ph);\n",
    "    points_y[which_pt] = rr*sin(th)*sin(ph);\n",
    "    points_z[which_pt] = rr*cos(th);\n",
    "    which_pt++;\n",
    "  }\n",
    "}"
   ]
  },
  {
   "cell_type": "markdown",
   "metadata": {},
   "source": [
    "### Outputting to File\n",
    "\n",
    "Since they take almost no space, we attach the entire metadata to each interpolated function that is output:"
   ]
  },
  {
   "cell_type": "code",
   "execution_count": 4,
   "metadata": {},
   "outputs": [
    {
     "name": "stdout",
     "output_type": "stream",
     "text": [
      "Overwriting interp_sph_grids_ETK/src/output_to_file.h\n"
     ]
    }
   ],
   "source": [
    "%%writefile interp_sph_grids_ETK/src/output_to_file.h\n",
    "\n",
    "void output_to_file(CCTK_ARGUMENTS,CCTK_REAL *output_f[1]) {\n",
    "  DECLARE_CCTK_ARGUMENTS;\n",
    "  DECLARE_CCTK_PARAMETERS;\n",
    "\n",
    "  char filename[100];\n",
    "  sprintf (filename, \"%s/interp_sph_grids.dat\", out_dir);\n",
    "  FILE *file = fopen (filename,\"a+\");\n",
    "  if (! file) {\n",
    "    CCTK_VWarn (1, __LINE__, __FILE__, CCTK_THORNSTRING,\n",
    "                \"interp_sph_grid__ET_thorn: Cannot open output file '%s'\", filename);\n",
    "    exit(1);\n",
    "  }\n",
    "\n",
    "  fwrite(&N0, sizeof(CCTK_INT), 1, file);\n",
    "  fwrite(&R0, sizeof(CCTK_REAL), 1, file);\n",
    "  fwrite(&Rin, sizeof(CCTK_REAL), 1, file);\n",
    "  fwrite(&Rout, sizeof(CCTK_REAL), 1, file);\n",
    "\n",
    "  fwrite(&N1, sizeof(CCTK_INT), 1, file);\n",
    "  fwrite(&x1_beg, sizeof(CCTK_REAL), 1, file);\n",
    "  fwrite(&theta_option, sizeof(CCTK_INT), 1, file);\n",
    "  fwrite(&th_c, sizeof(CCTK_REAL), 1, file);\n",
    "  fwrite(&xi, sizeof(CCTK_REAL), 1, file);\n",
    "  fwrite(&th_n, sizeof(CCTK_INT), 1, file);\n",
    "\n",
    "  fwrite(&N2, sizeof(CCTK_INT), 1, file);\n",
    "  fwrite(&x2_beg, sizeof(CCTK_REAL), 1, file);\n",
    "\n",
    "  CCTK_REAL magic_number = 1.130814081305130e-21;\n",
    "  fwrite(&magic_number, sizeof(CCTK_REAL), 1, file);\n",
    "  fwrite(&cctk_iteration, sizeof(CCTK_INT), 1, file);\n",
    "  fwrite(&cctk_time, sizeof(CCTK_REAL), 1, file);\n",
    "  for(CCTK_INT i=0;i<1;i++) {\n",
    "    fwrite(output_f[i], sizeof(CCTK_REAL)*N0*N1*N2, 1, file);\n",
    "  }\n",
    "\n",
    "  fclose(file);\n",
    "}"
   ]
  },
  {
   "cell_type": "markdown",
   "metadata": {},
   "source": [
    "## The Main Interpolation Driver Function\n",
    "\n",
    "The **Interpolate_to_sph_grid_main_function()** function calls the above functions as follows:\n",
    "1. **sph_grid_Interpolate_many_pts__set_interp_pts()**: First set up the spherical grids\n",
    "1. **Interpolate_to_sph_grid()**: Output"
   ]
  },
  {
   "cell_type": "code",
   "execution_count": 5,
   "metadata": {},
   "outputs": [
    {
     "name": "stdout",
     "output_type": "stream",
     "text": [
      "Overwriting interp_sph_grids_ETK/src/main_function.cc\n"
     ]
    }
   ],
   "source": [
    "%%writefile interp_sph_grids_ETK/src/main_function.cc\n",
    "\n",
    "// Include needed ETK & C library header files:\n",
    "#include <assert.h>\n",
    "#include <stdio.h>\n",
    "#include <stdlib.h>\n",
    "#include <string.h>\n",
    "#include <math.h>\n",
    "#include <ctype.h>\n",
    "#include \"cctk.h\"\n",
    "#include \"cctk_Arguments.h\"\n",
    "#include \"cctk_Parameters.h\"\n",
    "#include \"cctk_Functions.h\"\n",
    "#include \"util_Table.h\"\n",
    "#include \"util_String.h\"\n",
    "\n",
    "// Include locally-defined C++ functions:\n",
    "#include \"Set_up_interp_points_on_sph_grid.h\"\n",
    "#include \"Interpolate_to_sph_grid.h\"\n",
    "#include \"output_to_file.h\"\n",
    "\n",
    "void Interpolate_to_sph_grid_main_function(CCTK_ARGUMENTS) {\n",
    "  DECLARE_CCTK_ARGUMENTS;\n",
    "  DECLARE_CCTK_PARAMETERS;\n",
    "\n",
    "  // Perform interpolation only at iteration == interp_out_iteration:\n",
    "  if(cctk_iteration != interp_out_iteration) return;\n",
    "\n",
    "  // Set up spherically sampled interpolation grid arrays points_x,points_y,points_z: \n",
    "  sph_grid_Interpolate_many_pts__set_interp_pts(CCTK_PASS_CTOC);\n",
    "\n",
    "    \n",
    "    \n",
    "  // Set up output array:\n",
    "  CCTK_REAL *output_f[1];\n",
    "  output_f[0] = output_interped;\n",
    "  // The name of the input gridfunction is always \"interp_sph_grids_ETK::interped_gf\":\n",
    "  const CCTK_STRING input_array_names[1] = { \"interp_sph_grids_ETK::interped_gf\" };\n",
    "\n",
    "  // Perform interpolation!\n",
    "    int order=1;\n",
    "  Interpolate_to_sph_grid(cctkGH, N0*N1*N2, order,\n",
    "                             points_x,points_y,points_z, input_array_names, output_f);\n",
    "\n",
    "  if(CCTK_MyProc(cctkGH)==0) {\n",
    "    output_to_file(CCTK_PASS_CTOC,output_f);\n",
    "    printf(\"Interpolate_to_sph_grid_main_function(): Just output to file at iteration %d\\n\",cctk_iteration);\n",
    "  } else {\n",
    "    printf(\"Interpolate_to_sph_grid_main_function(): Process !=0 waiting for file output at iteration %d\\n\",cctk_iteration);\n",
    "  }\n",
    "}"
   ]
  },
  {
   "cell_type": "markdown",
   "metadata": {},
   "source": [
    "# Use NRPy+ C Output to Set All Output Gridfunctions\n"
   ]
  },
  {
   "cell_type": "code",
   "execution_count": 7,
   "metadata": {},
   "outputs": [],
   "source": [
    "# Step 1: Import needed NRPy+ parameters\n",
    "import indexedexp as ixp\n",
    "import grid as gri\n",
    "import finite_difference as fin\n",
    "from outputC import *\n",
    "import sympy as sp\n",
    "import NRPy_param_funcs as par\n",
    "import loop\n",
    "\n",
    "par.set_parval_from_str(\"grid::GridFuncMemAccess\",\"ETK\")\n",
    "\n",
    "from collections import namedtuple\n",
    "gf_interp = namedtuple('gf_interp', 'description order')\n",
    "gf_interp_list = []\n",
    "\n",
    "interped_gf = gri.register_gridfunctions(\"AUX\",\"interped_gf\")\n",
    "\n",
    "def interp_fileout(which_InterpCounter, expression, filename):\n",
    "    kernel = fin.FD_outputC(\"returnstring\",lhrh(lhs=gri.gfaccess(\"out_gfs\",\"interped_gf\"),rhs=expression),\"outCverbose=False\")\n",
    "    output_type=\"a\"\n",
    "    if which_InterpCounter == 0:\n",
    "        output_type=\"w\"\n",
    "    \n",
    "    with open(filename, output_type) as file:\n",
    "        file.write(\"if(*InterpCounter == \"+str(which_InterpCounter)+\") {\\n\")\n",
    "        file.write(loop.loop([\"i2\",\"i1\",\"i0\"],\n",
    "                             [\"cctk_nghostzones[2]\",\"cctk_nghostzones[1]\",\"cctk_nghostzones[0]\"],\\\n",
    "                             [\"cctk_lsh[2]-cctk_nghostzones[2]\",\n",
    "                              \"cctk_lsh[1]-cctk_nghostzones[1]\",\n",
    "                              \"cctk_lsh[0]-cctk_nghostzones[0]\"],\\\n",
    "                             [\"1\",\"1\",\"1\"],\\\n",
    "                             [\"#pragma omp parallel for\",\"\",\"\"],\"   \",kernel))\n",
    "        file.write(\"}\\n\")\n",
    "    # If successful, return incremented which_InterpCounter:\n",
    "    return which_InterpCounter+1"
   ]
  },
  {
   "cell_type": "markdown",
   "metadata": {},
   "source": [
    "## Define gridfunctions to interpolate"
   ]
  },
  {
   "cell_type": "code",
   "execution_count": 8,
   "metadata": {},
   "outputs": [],
   "source": [
    "NRPyoutfilename = \"interp_sph_grids_ETK/src/list_of_functions_to_interpolate.h\"\n",
    "\n",
    "which_InterpCounter = 0\n",
    "\n",
    "gf_interp_list.append(gf_interp(\"IGM density primitive\",order=\"1\"))\n",
    "rho_b       = gri.register_gridfunctions(\"AUX\",\"rho_b\")\n",
    "interp_expr = rho_b\n",
    "which_InterpCounter = interp_fileout(which_InterpCounter,interp_expr,NRPyoutfilename)\n",
    "\n",
    "gf_interp_list.append(gf_interp(\"IGM pressure primitive\",order=\"1\"))\n",
    "P = gri.register_gridfunctions(\"AUX\",\"P\")\n",
    "interp_expr = P\n",
    "which_InterpCounter = interp_fileout(which_InterpCounter,interp_expr,NRPyoutfilename)"
   ]
  },
  {
   "cell_type": "markdown",
   "metadata": {},
   "source": [
    "### Compute all 10 components of the 4-metric $g_{\\mu\\nu}$\n",
    "\n",
    "We are given $\\gamma_{ij}$, $\\alpha$, and $\\beta^i$ from ADMBase, and the 4-metric is given in terms of these quantities as\n",
    "$$\n",
    "g_{\\mu\\nu} = \\begin{pmatrix} \n",
    "-\\alpha^2 + \\beta^k \\beta_k & \\beta_i \\\\\n",
    "\\beta_j & \\gamma_{ij}\n",
    "\\end{pmatrix}.\n",
    "$$"
   ]
  },
  {
   "cell_type": "code",
   "execution_count": 9,
   "metadata": {},
   "outputs": [],
   "source": [
    "# INPUT GRIDFUNCTIONS: The AUX or EVOL designation is *not* used in diagnostic modules.\n",
    "gammaDD = ixp.register_gridfunctions_for_single_rank2(\"AUX\",\"gammaDD\", \"sym01\")\n",
    "betaU = ixp.register_gridfunctions_for_single_rank1(\"AUX\",\"betaU\")\n",
    "alpha = gri.register_gridfunctions(\"AUX\",\"alpha\")\n",
    "\n",
    "DIM=3\n",
    "# Eq. 2.121 in B&S\n",
    "betaD = ixp.zerorank1()\n",
    "for i in range(DIM):\n",
    "    for j in range(DIM):\n",
    "        betaD[i] += gammaDD[i][j]*betaU[j]\n",
    "\n",
    "# Now compute the beta contraction.\n",
    "beta2 = sp.sympify(0)\n",
    "for i in range(DIM):\n",
    "    beta2 += betaU[i]*betaD[i]\n",
    "\n",
    "# Eq. 2.122 in B&S\n",
    "g4DD = ixp.zerorank2(DIM=4)\n",
    "g4DD[0][0] = -alpha**2 + beta2\n",
    "for i in range(DIM):\n",
    "    g4DD[i+1][0] = g4DD[0][i+1] = betaD[i]\n",
    "for i in range(DIM):\n",
    "    for j in range(DIM):\n",
    "        g4DD[i+1][j+1] = gammaDD[i][j]\n",
    "\n",
    "for mu in range(4):\n",
    "    for nu in range(mu,4):\n",
    "        gf_interp_list.append(gf_interp(\"4-metric component g4DD\"+str(mu)+str(nu),order=\"4\"))\n",
    "        interp_expr = g4DD[mu][nu]\n",
    "        which_InterpCounter = interp_fileout(which_InterpCounter,interp_expr,NRPyoutfilename)"
   ]
  },
  {
   "cell_type": "markdown",
   "metadata": {},
   "source": [
    "### Compute all 40 4-Christoffels $\\Gamma^{\\mu}_{\\nu\\delta}$\n",
    "\n",
    "By definition,\n",
    "$$\n",
    "\\Gamma^{\\mu}_{\\nu\\delta} = \\frac{1}{2} g^{\\mu\\eta} \\left(g_{\\eta\\nu,\\delta} + g_{\\eta\\delta,\\nu} - g_{\\nu\\delta,\\eta}  \\right)\n",
    "$$\n",
    "\n",
    "Recall that $g_{\\mu\\nu}$ is given from $\\gamma_{ij}$, $\\alpha$, and $\\beta^i$ via\n",
    "$$\n",
    "g_{\\mu\\nu} = \\begin{pmatrix} \n",
    "-\\alpha^2 + \\beta^k \\beta_k & \\beta_i \\\\\n",
    "\\beta_j & \\gamma_{ij}\n",
    "\\end{pmatrix}.\n",
    "$$\n",
    "\n",
    "The derivatives $g_{\\mu\\nu,\\eta}$ are then computed in terms of finite-difference derivatives of the input ADM gridfunctions $\\gamma_{ij}$, $\\alpha$, and $\\beta^i$, **assuming that the 4-metric is static, so that $\\partial_t g_{\\mu\\nu}=0$ for all $\\mu$ and $\\nu$**.\n",
    "\n",
    "To compute $g^{\\mu\\nu}$, we use the standard formula (Eq. 4.49 in [Gourgoulhon](https://arxiv.org/pdf/gr-qc/0703035.pdf)):\n",
    "$$\n",
    "g^{\\mu\\nu} = \\begin{pmatrix} \n",
    "-\\frac{1}{\\alpha^2} & \\frac{\\beta^i}{\\alpha^2} \\\\\n",
    "\\frac{\\beta^i}{\\alpha^2} & \\gamma^{ij} - \\frac{\\beta^i\\beta^j}{\\alpha^2}\n",
    "\\end{pmatrix},\n",
    "$$\n",
    "where $\\gamma^{ij}$ is given by the inverse of $\\gamma_{ij}$."
   ]
  },
  {
   "cell_type": "code",
   "execution_count": 10,
   "metadata": {},
   "outputs": [],
   "source": [
    "betaDdD = ixp.zerorank2()\n",
    "gammaDD_dD = ixp.declarerank3(\"gammaDD_dD\",\"sym01\")\n",
    "betaU_dD   = ixp.declarerank2(\"betaU_dD\",\"nosym\")\n",
    "for i in range(DIM):\n",
    "    for j in range(DIM):\n",
    "        for k in range(DIM):\n",
    "            # Recall that betaD[i] = gammaDD[i][j]*betaU[j] (Eq. 2.121 in B&S)\n",
    "            betaDdD[i][k] += gammaDD_dD[i][j][k]*betaU[j] + gammaDD[i][j]*betaU_dD[j][k]\n",
    "\n",
    "# Eq. 2.122 in B&S\n",
    "g4DDdD = ixp.zerorank3(DIM=4)\n",
    "alpha_dD   = ixp.declarerank1(\"alpha_dD\")\n",
    "for i in range(DIM):\n",
    "    # Recall that g4DD[0][0] = -alpha^2 + betaU[i]*betaD[i]\n",
    "    g4DDdD[0][0][i+1] += -2*alpha*alpha_dD[i] \n",
    "    for j in range(DIM):\n",
    "        g4DDdD[0][0][i+1] += betaU_dD[j][i]*betaD[j] + betaU[j]*betaDdD[j][i]\n",
    "\n",
    "for i in range(DIM):\n",
    "    for j in range(DIM):\n",
    "        # Recall that g4DD[i][0] = g4DD[0][i] = betaD[i]\n",
    "        g4DDdD[i+1][0][j+1] = g4DDdD[0][i+1][j+1] = betaDdD[i][j]\n",
    "for i in range(DIM):\n",
    "    for j in range(DIM):\n",
    "        for k in range(DIM):\n",
    "            # Recall that g4DD[i][j] = gammaDD[i][j]\n",
    "            g4DDdD[i+1][j+1][k+1] = gammaDD_dD[i][j][k]\n",
    "\n",
    "gammaUU, dummyDET = ixp.symm_matrix_inverter3x3(gammaDD)\n",
    "\n",
    "g4UU = ixp.zerorank2(DIM=4)\n",
    "g4UU[0][0] = -1 / alpha**2\n",
    "for i in range(DIM):\n",
    "    g4UU[0][i+1] = g4UU[i+1][0] = betaU[i]/alpha**2\n",
    "for i in range(DIM):\n",
    "    for j in range(DIM):\n",
    "        g4UU[i+1][j+1] = gammaUU[i][j] - betaU[i]*betaU[j]/alpha**2"
   ]
  },
  {
   "cell_type": "markdown",
   "metadata": {},
   "source": [
    "Again, we are to compute:\n",
    "$$\n",
    "\\Gamma^{\\mu}_{\\nu\\delta} = \\frac{1}{2} g^{\\mu\\eta} \\left(g_{\\eta\\nu,\\delta} + g_{\\eta\\delta,\\nu} - g_{\\nu\\delta,\\eta}  \\right)\n",
    "$$"
   ]
  },
  {
   "cell_type": "code",
   "execution_count": 11,
   "metadata": {},
   "outputs": [],
   "source": [
    "Gamma4UDD = ixp.zerorank3(DIM=4)\n",
    "for mu in range(4):\n",
    "    for nu in range(4):\n",
    "        for delta in range(4):\n",
    "            for eta in range(4):\n",
    "                Gamma4UDD[mu][nu][delta] += sp.Rational(1,2)*g4UU[mu][eta]*\\\n",
    "                (g4DDdD[eta][nu][delta] + g4DDdD[eta][delta][nu] - g4DDdD[nu][delta][eta])\n",
    "\n",
    "# Now output the 4-Christoffels to file:\n",
    "for mu in range(4):\n",
    "    for nu in range(4):\n",
    "        for delta in range(nu,4):\n",
    "            gf_interp_list.append(gf_interp(\"4-Christoffel GammaUDD\"+str(mu)+str(nu)+str(delta),order=\"4\"))\n",
    "            interp_expr = Gamma4UDD[mu][nu][delta]\n",
    "            which_InterpCounter = interp_fileout(which_InterpCounter,interp_expr,NRPyoutfilename)"
   ]
  },
  {
   "cell_type": "markdown",
   "metadata": {},
   "source": [
    "### Next we write the function for the above NRPy+ output"
   ]
  },
  {
   "cell_type": "code",
   "execution_count": 26,
   "metadata": {},
   "outputs": [
    {
     "name": "stdout",
     "output_type": "stream",
     "text": [
      "Overwriting interp_sph_grids_ETK/src/interpolate_single_function.cc\n"
     ]
    }
   ],
   "source": [
    "%%writefile interp_sph_grids_ETK/src/interpolate_single_function.cc\n",
    "#include <stdio.h>\n",
    "#include <stdlib.h>\n",
    "#include \"cctk.h\"\n",
    "#include \"cctk_Arguments.h\"\n",
    "#include \"cctk_Parameters.h\"\n",
    "\n",
    "// Set the gridfunction interped_gf, according to the interpolation counter variable interp_counter.\n",
    "//    For example, we might interpolate \"IllinoisGRMHD::rho_b\" if interp_counter==0. The following\n",
    "//    function takes care of these\n",
    "void list_of_functions_to_interpolate(cGH *cctkGH,const CCTK_INT *cctk_lsh,const CCTK_INT *cctk_nghostzones,\n",
    "                                     const CCTK_REAL invdx0,const CCTK_REAL invdx1,const CCTK_REAL invdx2,\n",
    "                                     const CCTK_INT *InterpCounter,\n",
    "                                     const CCTK_REAL *rho_bGF,const CCTK_REAL *PGF,\n",
    "                                     const CCTK_REAL *gammaDD00GF,const CCTK_REAL *gammaDD01GF,const CCTK_REAL *gammaDD02GF,\n",
    "                                     const CCTK_REAL *gammaDD11GF,const CCTK_REAL *gammaDD12GF,const CCTK_REAL *gammaDD22GF,\n",
    "                                     const CCTK_REAL *betaU0GF,const CCTK_REAL *betaU1GF,const CCTK_REAL *betaU2GF,\n",
    "                                     const CCTK_REAL *alphaGF,   CCTK_REAL *interped_gfGF) {\n",
    "#include \"list_of_functions_to_interpolate.h\"\n",
    "}\n",
    "\n",
    "void Interpolate_single_function(CCTK_ARGUMENTS) {\n",
    "  DECLARE_CCTK_ARGUMENTS;\n",
    "  DECLARE_CCTK_PARAMETERS;\n",
    "  const CCTK_REAL invdx0 = 1.0 / CCTK_DELTA_SPACE(0);\n",
    "  const CCTK_REAL invdx1 = 1.0 / CCTK_DELTA_SPACE(1);\n",
    "  const CCTK_REAL invdx2 = 1.0 / CCTK_DELTA_SPACE(2);\n",
    "  list_of_functions_to_interpolate(cctkGH,cctk_lsh,cctk_nghostzones,invdx0,invdx1,invdx2,\n",
    "                                   InterpCounter,\n",
    "                                   rho_b,P,\n",
    "                                   gxx,gxy,gxz,gyy,gyz,gzz,\n",
    "                                   betax,betay,betaz,alp, interped_gf);\n",
    "}"
   ]
  },
  {
   "cell_type": "markdown",
   "metadata": {},
   "source": [
    "### Interpolation Function Counter Routines, for Scheduling"
   ]
  },
  {
   "cell_type": "code",
   "execution_count": 23,
   "metadata": {},
   "outputs": [],
   "source": [
    "with open(\"interp_sph_grids_ETK/src/interp_counter.cc\", \"w\") as file:\n",
    "    file.write(\"#define NumInterpFunctions \"+str(which_InterpCounter)+\"\\n\")"
   ]
  },
  {
   "cell_type": "code",
   "execution_count": 24,
   "metadata": {},
   "outputs": [
    {
     "name": "stdout",
     "output_type": "stream",
     "text": [
      "Appending to interp_sph_grids_ETK/src/interp_counter.cc\n"
     ]
    }
   ],
   "source": [
    "%%writefile -a interp_sph_grids_ETK/src/interp_counter.cc\n",
    "#include <assert.h>\n",
    "#include <stdio.h>\n",
    "#include <stdlib.h>\n",
    "#include <string.h>\n",
    "#include <math.h>\n",
    "#include <ctype.h>\n",
    "#include \"cctk.h\"\n",
    "#include \"cctk_Arguments.h\"\n",
    "#include \"cctk_Parameters.h\"\n",
    "\n",
    "void SphGrid_InitializeInterpCounterToZero(CCTK_ARGUMENTS)\n",
    "{\n",
    "  DECLARE_CCTK_ARGUMENTS;\n",
    "  DECLARE_CCTK_PARAMETERS;\n",
    "  *InterpCounter = 0;\n",
    "\n",
    "  if(verbose==2) printf(\"interp_sph_grids_ETK: Just set InterpCounter to %d\\n\",*InterpCounter);\n",
    "}\n",
    "\n",
    "void SphGrid_GRMHD_InitializeInterpCounter(CCTK_ARGUMENTS)\n",
    "{\n",
    "  DECLARE_CCTK_ARGUMENTS;\n",
    "  DECLARE_CCTK_PARAMETERS;\n",
    "\n",
    "  if(cctk_iteration == interp_out_iteration) {\n",
    "    *InterpCounter = NumInterpFunctions;\n",
    "    if(verbose==2) printf(\"interp_sph_grids_ETK: Just set InterpCounter to %d == NumInterpFunctions\\n\",\n",
    "                          *InterpCounter);\n",
    "  }\n",
    "}\n",
    "\n",
    "void SphGrid_GRMHD_DecrementInterpCounter(CCTK_ARGUMENTS)\n",
    "{\n",
    "  DECLARE_CCTK_ARGUMENTS;\n",
    "  DECLARE_CCTK_PARAMETERS;\n",
    "\n",
    "    (*InterpCounter)--;\n",
    "    if(verbose==2) printf(\"interp_sph_grids_ETK: Just decremented InterpCounter to %d\\n\",*InterpCounter);\n",
    "}"
   ]
  },
  {
   "cell_type": "code",
   "execution_count": 13,
   "metadata": {},
   "outputs": [
    {
     "name": "stdout",
     "output_type": "stream",
     "text": [
      "Overwriting interp_sph_grids_ETK/src/make.code.defn\n"
     ]
    }
   ],
   "source": [
    "%%writefile interp_sph_grids_ETK/src/make.code.defn\n",
    "# Main make.code.defn file for thorn interp_sph_grids_ETK\n",
    "\n",
    "# Source files in this directory\n",
    "SRCS =  main_function.cc interp_counter.cc interpolate_single_function.cc"
   ]
  },
  {
   "cell_type": "markdown",
   "metadata": {},
   "source": [
    "## CCL files - Define how this module interacts and interfaces with the larger Einstein Toolkit infrastructure\n",
    "\n",
    "Writing a module (\"thorn\") within the Einstein Toolkit requires that three \"ccl\" files be constructed, all in the root directory of the thorn:\n",
    "\n",
    "1. $\\text{interface.ccl}$: defines the gridfunction groups needed, and provides keywords denoting what this thorn provides and what it should inherit from other thorns.\n",
    "1. $\\text{param.ccl}$: specifies free parameters within the thorn.\n",
    "1. $\\text{schedule.ccl}$: allocates storage for gridfunctions, defines how the thorn's functions should be scheduled in a broader simulation, and specifies the regions of memory written to or read from gridfunctions.\n",
    "\n",
    "Let's start with $\\text{interface.ccl}$. The [official Einstein Toolkit (Cactus) documentation](http://cactuscode.org/documentation/referencemanual/ReferenceManual.html) defines what must/should be included in an interface.ccl file [**here**](http://cactuscode.org/documentation/referencemanual/ReferenceManualch8.html#x12-260000C2.2). "
   ]
  },
  {
   "cell_type": "code",
   "execution_count": 14,
   "metadata": {},
   "outputs": [
    {
     "name": "stdout",
     "output_type": "stream",
     "text": [
      "Overwriting interp_sph_grids_ETK/interface.ccl\n"
     ]
    }
   ],
   "source": [
    "%%writefile interp_sph_grids_ETK/interface.ccl\n",
    "\n",
    "# With \"implements\", we give our thorn its unique name.\n",
    "implements: interp_sph_grids_ETK\n",
    "\n",
    "# By \"inheriting\" other thorns, we tell the Toolkit that we \n",
    "#   will rely on variables/function that exist within those\n",
    "#   functions. \n",
    "inherits:   admbase IllinoisGRMHD Grid\n",
    "\n",
    "# Tell the Toolkit that we want \"interped_gf\" and \"InterpCounter\"\n",
    "#    and invariants to NOT be visible to other thorns, by using \n",
    "#    the keyword \"private\". Note that declaring these \n",
    "#    gridfunctions here *does not* allocate memory for them;\n",
    "#    that is done by the schedule.ccl file.\n",
    "private:\n",
    "CCTK_REAL interpolation_gf type=GF timelevels=1 tags='InterpNumTimelevels=1 prolongation=\"none\" Checkpoint=\"no\"'\n",
    "{\n",
    "  interped_gf\n",
    "} \"Gridfunction containing output from interpolation.\"\n",
    "\n",
    "int InterpCounterVar type = SCALAR tags='checkpoint=\"no\"'\n",
    "{\n",
    "  InterpCounter\n",
    "} \"Counter that keeps track of which function we are interpolating.\"\n",
    "\n",
    "CCTK_REAL interp_pointcoords_and_output_arrays TYPE=ARRAY DISTRIB=CONSTANT DIM=1 SIZE=N0*N1*N2\n",
    "{\n",
    "  points_x,points_y,points_z,\n",
    "  output_interped\n",
    "}"
   ]
  },
  {
   "cell_type": "markdown",
   "metadata": {},
   "source": [
    "We will now write the file $\\text{param.ccl}$. This file allows the listed parameters to be set at runtime. We also give allowed ranges and default values for each parameter. More information on this file's syntax can be found in the [official Einstein Toolkit documentation](http://cactuscode.org/documentation/referencemanual/ReferenceManualch8.html#x12-265000C2.3). "
   ]
  },
  {
   "cell_type": "code",
   "execution_count": 15,
   "metadata": {},
   "outputs": [
    {
     "name": "stdout",
     "output_type": "stream",
     "text": [
      "Overwriting interp_sph_grids_ETK/param.ccl\n"
     ]
    }
   ],
   "source": [
    "%%writefile interp_sph_grids_ETK/param.ccl\n",
    "\n",
    "# Output the interpolated data to the IO::out_dir directory:\n",
    "shares: IO\n",
    "USES STRING out_dir\n",
    "\n",
    "restricted:\n",
    "    \n",
    "########################################\n",
    "# BASIC THORN STEERING PARAMETERS\n",
    "CCTK_INT interp_out_iteration \"Which iteration to interpolate to spherical grids?\" STEERABLE=RECOVER\n",
    "{\n",
    "  0:* :: \"\"\n",
    "} 960000\n",
    "\n",
    "## Interpolator information\n",
    "CCTK_STRING interpolator_name \"Which interpolator to use?\" STEERABLE=RECOVER\n",
    "{\n",
    "  \".+\" :: \"Any nonempty string; an unsupported value will throw an error.\"\n",
    "} \"Lagrange polynomial interpolation\"\n",
    "\n",
    "CCTK_INT verbose \"Set verbosity level: 1=useful info; 2=moderately annoying (though useful for debugging)\" STEERABLE=ALWAYS\n",
    "{\n",
    "  0:2 :: \"0 = no output; 1=useful info; 2=moderately annoying (though useful for debugging)\"\n",
    "} 1\n",
    "########################################\n",
    "# SPHERICAL COORDINATE SYSTEM PARAMETERS\n",
    "CCTK_INT N0 \"Number of points in r direction\" STEERABLE=RECOVER\n",
    "{\n",
    "  0:* :: \"\"\n",
    "} 96\n",
    "\n",
    "CCTK_INT N1 \"Number of points in theta direction\" STEERABLE=RECOVER\n",
    "{\n",
    "  0:* :: \"\"\n",
    "} 96\n",
    "\n",
    "CCTK_INT N2 \"Number of points in phi direction\" STEERABLE=RECOVER\n",
    "{\n",
    "  0:* :: \"\"\n",
    "} 96\n",
    "\n",
    "##########\n",
    "# Radial parameters:\n",
    "CCTK_REAL R0 \"Radial offset: r(x0) = R_0 + exp(x0). Probably should keep it set to zero.\" STEERABLE=RECOVER\n",
    "{\n",
    "  0:* :: \"\"\n",
    "} 0.0\n",
    "\n",
    "CCTK_REAL Rin \"x0 offset: x0 = log(Rin-R0) + (i + 0.5)Dx0.\" STEERABLE=RECOVER\n",
    "{\n",
    "  0:* :: \"\"\n",
    "} 1.08986052555408\n",
    "\n",
    "CCTK_REAL Rout \"Dx0 = log( (Rout-R0) / (Rin-R0) )/N0\" STEERABLE=RECOVER\n",
    "{\n",
    "  0:* :: \"\"\n",
    "} 80.0\n",
    "\n",
    "##########\n",
    "# Theta parameters:\n",
    "CCTK_REAL x1_beg \"x1 offset: x1 = x1_beg + (j + 0.5)Dx1. Probably should keep it set to zero.\" STEERABLE=RECOVER\n",
    "{\n",
    "  0:* :: \"\"\n",
    "} 0.0\n",
    "\n",
    "CCTK_INT theta_option \"Which prescription for theta should be used? 1 or 2?\" STEERABLE=RECOVER\n",
    "{\n",
    "  1:2 :: \"\"\n",
    "} 1\n",
    "\n",
    "CCTK_REAL th_c \"theta_c: Angular cutout size for theta = 0 and pi\" STEERABLE=RECOVER\n",
    "{\n",
    "  0:* :: \"\"\n",
    "} 0.053407075111026485 # 0.017*pi\n",
    "\n",
    "CCTK_REAL xi \"Amplitude of nonlinear part of the theta distribution.\" STEERABLE=RECOVER\n",
    "{\n",
    "  0:* :: \"\"\n",
    "} 0.25\n",
    "\n",
    "CCTK_INT th_n \"Power of nonlinear part of theta distribution. Only for theta_option=2\" STEERABLE=RECOVER\n",
    "{\n",
    "  0:* :: \"\"\n",
    "} 9\n",
    "\n",
    "##########\n",
    "# Phi parameters:\n",
    "CCTK_REAL x2_beg \"x2 offset: x2 = x2_beg + (k + 0.5)Dx2. Probably should keep it set to zero.\" STEERABLE=RECOVER\n",
    "{\n",
    "  0:* :: \"\"\n",
    "} 0.0\n",
    "########################################"
   ]
  },
  {
   "cell_type": "markdown",
   "metadata": {},
   "source": [
    "Finally, we will write the file $\\text{schedule.ccl}$; its official documentation is found [here](http://cactuscode.org/documentation/referencemanual/ReferenceManualch8.html#x12-268000C2.4). \n",
    "\n",
    "This file declares storage for variables declared in the $\\text{interface.ccl}$ file and specifies when the various parts of the thorn will be run:"
   ]
  },
  {
   "cell_type": "code",
   "execution_count": 16,
   "metadata": {},
   "outputs": [
    {
     "name": "stdout",
     "output_type": "stream",
     "text": [
      "Overwriting interp_sph_grids_ETK/schedule.ccl\n"
     ]
    }
   ],
   "source": [
    "%%writefile interp_sph_grids_ETK/schedule.ccl\n",
    "\n",
    "STORAGE: interpolation_gf[1]\n",
    "STORAGE: InterpCounterVar\n",
    "STORAGE: interp_pointcoords_and_output_arrays"
   ]
  },
  {
   "cell_type": "code",
   "execution_count": null,
   "metadata": {},
   "outputs": [],
   "source": []
  }
 ],
 "metadata": {
  "kernelspec": {
   "display_name": "Python 2",
   "language": "python",
   "name": "python2"
  },
  "language_info": {
   "codemirror_mode": {
    "name": "ipython",
    "version": 2
   },
   "file_extension": ".py",
   "mimetype": "text/x-python",
   "name": "python",
   "nbconvert_exporter": "python",
   "pygments_lexer": "ipython2",
   "version": "2.7.13"
  }
 },
 "nbformat": 4,
 "nbformat_minor": 2
}
