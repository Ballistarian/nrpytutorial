{
 "cells": [
  {
   "cell_type": "markdown",
   "metadata": {},
   "source": [
    "# NRPy+ Tutorial\n",
    "\n",
    "**[Zachariah B. Etienne](http://math.wvu.edu/~zetienne/)** $\\leftarrow$ Please feel free to email comments, revisions, or errata!"
   ]
  },
  {
   "cell_type": "code",
   "execution_count": 1,
   "metadata": {},
   "outputs": [
    {
     "name": "stdout",
     "output_type": "stream",
     "text": [
      "ooooo      ooo ooooooooo.   ooooooooo.                 88\n",
      "`888b.     `8' `888   `Y88. `888   `Y88.             888888  \n",
      " 8 `88b.    8   888   .d88'  888   .d88' oooo    ooo   88\n",
      " 8   `88b.  8   888ooo88P'   888ooo88P'   `88.  .8'\n",
      " 8     `88b.8   888`88b.     888           `88..8'\n",
      " 8       `888   888  `88b.   888            `888'\n",
      "o8o        `8  o888o  o888o o888o            .8'\n",
      "                                         .o..P'\n",
      "  NRPy+: Python-based Code Generation    `Y8P'\n",
      "   for Numerical Relativity... and Beyond!\n",
      "\n"
     ]
    }
   ],
   "source": [
    "from NRPy_logo import *\n",
    "print_logo()"
   ]
  },
  {
   "cell_type": "markdown",
   "metadata": {},
   "source": [
    "## Introduction & Motivation\n",
    "\n",
    "[NRPy+](http://blackholesathome.net) (\"Python-based code generation for numerical relativity... and beyond!\") is a Python-based code generation package: users input complex tensorial expressions in clean tensorial form, and NRPy+ generates highly-optimized C code.\n",
    "\n",
    "Though it was originally designed to greatly ease the burden on developers when writing codes to numerically solve Einstein's equations of general relativity on the computer, NRPy+ can be used more broadly to rapidly develop codes to solve any number of [hyperbolic](https://en.wikipedia.org/wiki/Hyperbolic_partial_differential_equation) and [parabolic](https://en.wikipedia.org/wiki/Parabolic_partial_differential_equation) partial differential equations with finite difference approaches.\n",
    "\n",
    "## Interactive NRPy+ Tutorials\n",
    "#### (READ FIRST, IN ORDER) Basic functionality of NRPy+\n",
    "+ #### (90% complete) [Basic C Code Output Options (including SIMD), NRPy+'s Parameter Interface](Tutorial-Coutput__Parameter_Interface.ipynb)\n",
    "+ #### (95% complete) [Indexed Expressions (e.g., tensors, pseudotensors, etc.)](Tutorial-Indexed_Expressions.ipynb)\n",
    "+ #### (0% complete) [Numerical Grids](Tutorial-Numerical_Grids.ipynb)\n",
    "+ #### (70% complete) [Finite Difference Derivatives](Tutorial-Finite_Difference_Derivatives.ipynb)\n",
    "+ #### (0% complete) [Moving beyond Cartesian Grids: Reference Metric](Tutorial-Reference_Metric.ipynb)\n",
    "\n",
    "#### (READ SECOND, IN ORDER) Worked Examples\n",
    "+ #### (80% complete) [The Scalar Wave Equation (Cartesian Coordinates)](Tutorial-ScalarWave.ipynb)\n",
    "+ #### (0% complete) [The Scalar Wave Equation in Curvilinear Coordinates](Tutorial-ScalarWave-Curvi.ipynb)\n",
    "+ #### (0% complete) [General Relativity in the BSSN Formalism, Moving Puncture Gauge](Tutorial-BSSN.ipynb)"
   ]
  }
 ],
 "metadata": {
  "kernelspec": {
   "display_name": "Python 3",
   "language": "python",
   "name": "python3"
  },
  "language_info": {
   "codemirror_mode": {
    "name": "ipython",
    "version": 3
   },
   "file_extension": ".py",
   "mimetype": "text/x-python",
   "name": "python",
   "nbconvert_exporter": "python",
   "pygments_lexer": "ipython3",
   "version": "3.4.3"
  }
 },
 "nbformat": 4,
 "nbformat_minor": 2
}
