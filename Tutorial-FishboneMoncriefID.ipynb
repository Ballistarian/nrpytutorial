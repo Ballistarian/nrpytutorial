{
 "cells": [
  {
   "cell_type": "markdown",
   "metadata": {},
   "source": [
    "# Initial Data: Fishbone-Moncrief\n",
    "\n",
    "This goal of this module will be to construct Fishbone-Moncrief initial data for GRMHD simulations in a format suitable for the Einstein Toolkit (ETK). We will be using the equations as derived in [the original paper](http://articles.adsabs.harvard.edu/cgi-bin/nph-iarticle_query?1976ApJ...207..962F&amp;data_type=PDF_HIGH&amp;whole_paper=YES&amp;type=PRINTER&amp;filetype=.pdf), which will hereafter be called \"the FM paper\". To that end, we will use Cartesian coordinates, and thus not need to take advantage of the reference metric tools that NRPy+ provides."
   ]
  },
  {
   "cell_type": "markdown",
   "metadata": {},
   "source": [
    "We will begin, as usual, by importing the packages and NRPy+ modules that we will need. We will also set some of the most commonly used parameters."
   ]
  },
  {
   "cell_type": "code",
   "execution_count": 1,
   "metadata": {},
   "outputs": [],
   "source": [
    "# Step 1a: Import needed NRPy+ core modules:\n",
    "import NRPy_param_funcs as par\n",
    "import indexedexp as ixp\n",
    "import grid as gri\n",
    "import finite_difference as fin\n",
    "from outputC import *\n",
    "import loop\n",
    "\n",
    "#Set the spatial dimension parameter to 3.\n",
    "par.set_parval_from_str(\"grid::DIM\", 3)\n",
    "DIM = par.parval_from_str(\"grid::DIM\")\n"
   ]
  },
  {
   "cell_type": "markdown",
   "metadata": {},
   "source": [
    "With NRPy's most important functions now available to us, we can start to set up the rest of the tools we will need to build the initial data. We will now register the gridfunctions we expect to use. Critically, we register the physical metric and extrinsic curvature tensors. We will also invert the physical metric and take the determinant."
   ]
  },
  {
   "cell_type": "code",
   "execution_count": 2,
   "metadata": {},
   "outputs": [],
   "source": [
    "gammaDD = ixp.register_gridfunctions_for_single_rank2(\"AUX\",\"gammaDD\", \"sym01\") \n",
    "kDD = ixp.register_gridfunctions_for_single_rank2(\"AUX\",\"kDD\", \"sym01\")\n",
    "gammaUU, detgamma = ixp.symm_matrix_inverter3x3(gammaDD)\n",
    "\n",
    "# Variables needed for initial data given in spherical basis\n",
    "r, th, ph = gri.register_gridfunctions(\"AUX\",[\"r\",\"th\",\"ph\"])\n",
    "\n",
    "r_in,r_at_max_density,a,M,l = gri.register_gridfunctions(\"EVOL\",[\"r_in\",\"r_at_max_density\",\"a\",\"M\",\"l\"])\n",
    "kappa,gamma = gri.register_gridfunctions(\"EVOL\",[\"kappa\",\"gamma\"])\n",
    "\n",
    "LorentzFactor = gri.register_gridfunctions(\"AUX\",\"LorentzFactor\")"
   ]
  },
  {
   "cell_type": "markdown",
   "metadata": {},
   "source": [
    "Now, we can begin actually building the ID equations. We will start with the value of the angular momentum $l$ at the position $r \\equiv \\text{r_at_max_density}$ where the density is at a maximum, as in equation 3.8 of the FM paper:\n",
    "\\begin{align}\n",
    "l(r) &= \\pm \\left( \\frac{M}{r^3} \\right) ^{1/2}\n",
    "    \\left[ \\frac{r^4+r^2a^2-2Mra^2 \\mp a(Mr)^{1/2}(r^2-a^2)}\n",
    "    {r^2 -3Mr \\pm 2a(Mr)^{1/2}} \\right].\n",
    "\\end{align}"
   ]
  },
  {
   "cell_type": "code",
   "execution_count": 3,
   "metadata": {},
   "outputs": [],
   "source": [
    "# First compute angular momentum at r_at_max_density, TAKING POSITIVE ROOT. This way disk is co-rotating with black hole\n",
    "# Eq 3.8:\n",
    "l_r  = sp.sqrt(M/r_at_max_density**3) * (r_at_max_density**4 + r_at_max_density**2*a**2 - 2*M*r_at_max_density*a**2 - \\\n",
    "                                         a*sp.sqrt(M*r_at_max_density)*(r_at_max_density**2-a**2))\n",
    "l_r /= r_at_max_density**2 - 3*M*r_at_max_density + 2*a*sp.sqrt(M*r_at_max_density)\n",
    "\n",
    "l = l_r"
   ]
  },
  {
   "cell_type": "markdown",
   "metadata": {},
   "source": [
    "Next, we will follow equation 3.6 of the FM paper to compute the enthalpy $h$ by first finding its logarithm $\\ln h$. Fortunately, we can make this process quite a bit simpler by first identifying the common subexpressions. Let \n",
    "\\begin{align}\n",
    "\\Delta &= r^2 - 2Mr + a^2 \\\\\n",
    "\\Sigma &= r^2 + a^2 \\cos^2 (\\theta) \\\\\n",
    "A &= (r^2+a^2)^2 - \\Delta a^2 \\sin^2(\\theta);\n",
    "\\end{align}\n",
    "furthermore, let \n",
    "\\begin{align}\n",
    "\\text{tmp3} &= \\sqrt{\\frac{1 + 4 l^2 \\Sigma^2 \\Delta}{A \\sin^2 (\\theta)}}. \\\\\n",
    "\\end{align}\n",
    "(These terms reflect the radially-independent part of the log of the enthalpy, $\\text{ln_h_const}$.)\n",
    "So, \n",
    "\\begin{align}\n",
    "\\text{ln_h_const} &= \\frac{1}{2} * \\log \\left( \\frac{1+\\text{tmp3}}{\\Sigma \\Delta/A} \\right) - \\frac{1}{2} \\text{tmp3} - \\frac{2aMrl}{A}\n",
    "\\end{align}"
   ]
  },
  {
   "cell_type": "code",
   "execution_count": 4,
   "metadata": {},
   "outputs": [],
   "source": [
    "# Eq 3.6:\n",
    "# First compute the radially-independent part of the log of the enthalpy, ln_h_const\n",
    "Delta = r**2 - 2*M*r + a**2\n",
    "Sigma = r**2 + a**2*sp.cos(th)**2\n",
    "A = (r**2 + a**2)**2 - Delta*a**2*sp.sin(th)**2\n",
    "\n",
    "# Next compute the radially-dependent part of log(enthalpy), ln_h\n",
    "tmp3 = sp.sqrt(1 + 4*l**2*Sigma**2*Delta/(A*sp.sin(th))**2)\n",
    "# Term 1 of Eq 3.6\n",
    "ln_h  = sp.Rational(1,2)*sp.log( ( 1 + tmp3) / (Sigma*Delta/A))\n",
    "# Term 2 of Eq 3.6\n",
    "ln_h -= sp.Rational(1,2)*tmp3\n",
    "# Term 3 of Eq 3.6\n",
    "ln_h -= 2*a*M*r*l/A\n"
   ]
  },
  {
   "cell_type": "markdown",
   "metadata": {},
   "source": [
    "Additionally, let\n",
    "\\begin{align}\n",
    "\\Delta_{\\rm in} &= r_{\\rm in}^2 - 2Mr_{\\rm in} + a^2 \\\\\n",
    "\\Sigma_{\\rm in} &= r_{\\rm in}^2 + a^2 \\cos^2 (\\pi/2) \\\\\n",
    "A_{\\rm in} &= (r_{\\rm in}^2+a^2)^2 - \\Delta_{\\rm in} a^2 \\sin^2(\\pi/2)\n",
    "\\end{align}\n",
    "and \n",
    "\\begin{align}\n",
    "\\text{tmp3in} &= \\sqrt{\\frac{1 + 4 l^2 \\Sigma_{\\rm in}^2 \\Delta_{\\rm in}}{A_{\\rm in} \\sin^2 (\\theta)}}, \\\\\n",
    "\\end{align}\n",
    "corresponding to the radially INdependent part of log(enthalpy), $\\text{ln_h}$:\n",
    "\\begin{align}\n",
    "\\text{mln_h_in} = -\\frac{1}{2} * \\log \\left( \\frac{1+\\text{tmp3in}}{\\Sigma_{\\rm in} \\Delta_{\\rm in}/A_{\\rm in}} \\right) + \\frac{1}{2} \\text{tmp3in} + \\frac{2aMr_{\\rm in}l}{A_{\\rm in}}. \\\\\n",
    "\\end{align}\n",
    "(Note that there is some typo in the expression for these terms given in Eq 3.6, so we opt to just evaluate negative of the first three terms at r=r_in and th=pi/2 (the integration constant), as described in the text below Eq. 3.6.)\n",
    "\n",
    "So, then, we exponentiate:\n",
    "\\begin{align}\n",
    "\\text{hm1} \\equiv h-1 &= e^{\\text{ln_h}+\\text{mln_h_in}}-1. \\\\\n",
    "\\end{align}\n"
   ]
  },
  {
   "cell_type": "code",
   "execution_count": 5,
   "metadata": {},
   "outputs": [],
   "source": [
    "# Next compute the radially-INdependent part of log(enthalpy), ln_h\n",
    "# Note that there is some typo in the expression for these terms given in Eq 3.6, so we opt to just evaluate\n",
    "#   negative of the first three terms at r=r_in and th=pi/2 (the integration constant), as described in\n",
    "#   the text below Eq. 3.6, basically just copying the above lines of code.\n",
    "# Delin = Delta_in ; Sigin = Sigma_in ; Ain = A_in .\n",
    "Delin = r_in**2 - 2*M*r_in + a**2\n",
    "Sigin = r_in**2 + a**2*sp.cos(sp.pi/2)**2\n",
    "Ain   = (r_in**2 + a**2)**2 - Delin*a**2*sp.sin(sp.pi/2)**2\n",
    "\n",
    "tmp3in = sp.sqrt(1 + 4*l**2*Sigin**2*Delin/(Ain*sp.sin(sp.pi/2))**2)\n",
    "# Term 4 of Eq 3.6\n",
    "mln_h_in  = -sp.Rational(1,2)*sp.log( ( 1 + tmp3in) / (Sigin*Delin/Ain))\n",
    "# Term 5 of Eq 3.6\n",
    "mln_h_in += sp.Rational(1,2)*tmp3in\n",
    "# Term 6 of Eq 3.6\n",
    "mln_h_in += 2*a*M*r_in*l/Ain\n",
    "\n",
    "hm1 = sp.exp(ln_h + mln_h_in) - 1\n"
   ]
  },
  {
   "cell_type": "markdown",
   "metadata": {},
   "source": [
    "\\begin{align}\n",
    "\\rho_0 &= \\left( \\frac{(h-1)(\\gamma-1)}{\\kappa \\gamma} \\right)^{1/(\\gamma-1)} \\\\\n",
    "&= \\exp \\left[ {\\frac{1}{\\gamma-1} \\log \\left( \\frac{(h-1)(\\gamma-1)}{\\kappa \\gamma}\\right)} \\right]\n",
    "\\end{align}"
   ]
  },
  {
   "cell_type": "code",
   "execution_count": 6,
   "metadata": {},
   "outputs": [],
   "source": [
    "# Python 3.4 + sympy 1.0.0 has a serious problem taking the power here, hangs forever.\n",
    "# so instead we use the identity x^{1/y} = exp( [1/y] * log(x) )\n",
    "# Original expression (works with Python 2.7 + sympy 0.7.4.1):\n",
    "# rho0 = ( hm1*(gamma-1)/(kappa*gamma) )**(1/(gamma - 1))\n",
    "# New expression (workaround):\n",
    "rho0 = sp.exp( (1/(gamma-1)) * sp.log( hm1*(gamma-1)/(kappa*gamma) ))\n",
    "Pressure0 = kappa * rho0**gamma"
   ]
  },
  {
   "cell_type": "markdown",
   "metadata": {},
   "source": []
  },
  {
   "cell_type": "code",
   "execution_count": 7,
   "metadata": {},
   "outputs": [],
   "source": [
    "# Eq 3.3: First compute exp(-2 chi), assuming Boyer-Lindquist coordinates\n",
    "#    Eq 2.16: chi = psi - nu, so\n",
    "#    Eq 3.5 -> exp(-2 chi) = exp(-2 (psi - nu)) = exp(2 nu)/exp(2 psi)\n",
    "exp2nu  = Sigma*Delta / A\n",
    "exp2psi = A*sp.sin(th)**2 / Sigma\n",
    "expm2chi = exp2nu / exp2psi\n",
    "\n",
    "# Eq 3.3: Next compute u_(phi).\n",
    "u_pphip = sp.sqrt((-1 + sp.sqrt(1 + 4*l**2*expm2chi))/2)\n",
    "# Eq 2.13: Compute u_(t)\n",
    "u_ptp   = -sp.sqrt(1 + u_pphip**2)\n",
    "\n",
    "# Next compute spatial components of 4-velocity in Boyer-Lindquist coordinates:\n",
    "uBL4D = ixp.zerorank1(DIM=4) # Components 1 and 2: u_r = u_theta = 0\n",
    "# Eq 2.12 (typo): u_(phi) = e^(-psi) u_phi -> u_phi = e^(psi) u_(phi)\n",
    "uBL4D[3] = sp.sqrt(exp2psi)*u_pphip\n",
    "\n",
    "# Assumes Boyer-Lindquist coordinates:\n",
    "omega = 2*a*M*r/A\n",
    "# Eq 2.13: u_(t) = 1/sqrt(exp2nu) * ( u_t + omega*u_phi )\n",
    "#     -->  u_t = u_(t) * sqrt(exp2nu) - omega*u_phi\n",
    "#     -->  u_t = u_ptp * sqrt(exp2nu) - omega*uBL4D[3]\n",
    "uBL4D[0] = u_ptp*sp.sqrt(exp2nu) - omega*uBL4D[3]"
   ]
  }
 ],
 "metadata": {
  "kernelspec": {
   "display_name": "Python 3",
   "language": "python",
   "name": "python3"
  },
  "language_info": {
   "codemirror_mode": {
    "name": "ipython",
    "version": 3
   },
   "file_extension": ".py",
   "mimetype": "text/x-python",
   "name": "python",
   "nbconvert_exporter": "python",
   "pygments_lexer": "ipython3",
   "version": "3.6.5"
  }
 },
 "nbformat": 4,
 "nbformat_minor": 2
}
