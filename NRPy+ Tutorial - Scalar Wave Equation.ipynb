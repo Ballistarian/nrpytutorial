{
 "cells": [
  {
   "cell_type": "code",
   "execution_count": 1,
   "metadata": {},
   "outputs": [],
   "source": [
    "import NRPy_param_funcs as par\n",
    "import tensor as ten\n",
    "import grid as gri\n",
    "import finite_difference as fin\n",
    "from outputC import *\n",
    "\n",
    "import sympy as sp"
   ]
  },
  {
   "cell_type": "code",
   "execution_count": 2,
   "metadata": {},
   "outputs": [
    {
     "name": "stdout",
     "output_type": "stream",
     "text": [
      "/*\n",
      " *  Original SymPy expressions:\n",
      " *  \"[const REAL_SIMD_ARRAY uu_dDD11 = invdx1**2*(-5*uu/2 + 4*uu_i0_i1m1_i2/3 - uu_i0_i1m2_i2/12 + 4*uu_i0_i1p1_i2/3 - uu_i0_i1p2_i2/12),\n",
      " *    const REAL_SIMD_ARRAY uu_dDD00 = invdx0**2*(-5*uu/2 + 4*uu_i0m1_i1_i2/3 - uu_i0m2_i1_i2/12 + 4*uu_i0p1_i1_i2/3 - uu_i0p2_i1_i2/12),\n",
      " *    const REAL_SIMD_ARRAY uu_dDD22 = invdx2**2*(-5*uu/2 + 4*uu_i0_i1_i2m1/3 - uu_i0_i1_i2m2/12 + 4*uu_i0_i1_i2p1/3 - uu_i0_i1_i2p2/12),\n",
      " *    const REAL_SIMD_ARRAY __RHS_exp_0 = vv,\n",
      " *    const REAL_SIMD_ARRAY __RHS_exp_1 = uu_dDD00*wavespeed**2 + uu_dDD11*wavespeed**2 + uu_dDD22*wavespeed**2]\"\n",
      " */\n",
      "{\n",
      "   const REAL_SIMD_ARRAY uu_i0_i1_i2m2 = ReadSIMD(&UUGF[CCTK_GFINDEX3D(cctkGH, i0,i1,i2-2)]);\n",
      "   const REAL_SIMD_ARRAY uu_i0_i1_i2m1 = ReadSIMD(&UUGF[CCTK_GFINDEX3D(cctkGH, i0,i1,i2-1)]);\n",
      "   const REAL_SIMD_ARRAY uu_i0_i1m2_i2 = ReadSIMD(&UUGF[CCTK_GFINDEX3D(cctkGH, i0,i1-2,i2)]);\n",
      "   const REAL_SIMD_ARRAY uu_i0_i1m1_i2 = ReadSIMD(&UUGF[CCTK_GFINDEX3D(cctkGH, i0,i1-1,i2)]);\n",
      "   const REAL_SIMD_ARRAY uu_i0m2_i1_i2 = ReadSIMD(&UUGF[CCTK_GFINDEX3D(cctkGH, i0-2,i1,i2)]);\n",
      "   const REAL_SIMD_ARRAY uu_i0m1_i1_i2 = ReadSIMD(&UUGF[CCTK_GFINDEX3D(cctkGH, i0-1,i1,i2)]);\n",
      "   const REAL_SIMD_ARRAY uu = ReadSIMD(&UUGF[CCTK_GFINDEX3D(cctkGH, i0,i1,i2)]);\n",
      "   const REAL_SIMD_ARRAY uu_i0p1_i1_i2 = ReadSIMD(&UUGF[CCTK_GFINDEX3D(cctkGH, i0+1,i1,i2)]);\n",
      "   const REAL_SIMD_ARRAY uu_i0p2_i1_i2 = ReadSIMD(&UUGF[CCTK_GFINDEX3D(cctkGH, i0+2,i1,i2)]);\n",
      "   const REAL_SIMD_ARRAY uu_i0_i1p1_i2 = ReadSIMD(&UUGF[CCTK_GFINDEX3D(cctkGH, i0,i1+1,i2)]);\n",
      "   const REAL_SIMD_ARRAY uu_i0_i1p2_i2 = ReadSIMD(&UUGF[CCTK_GFINDEX3D(cctkGH, i0,i1+2,i2)]);\n",
      "   const REAL_SIMD_ARRAY uu_i0_i1_i2p1 = ReadSIMD(&UUGF[CCTK_GFINDEX3D(cctkGH, i0,i1,i2+1)]);\n",
      "   const REAL_SIMD_ARRAY uu_i0_i1_i2p2 = ReadSIMD(&UUGF[CCTK_GFINDEX3D(cctkGH, i0,i1,i2+2)]);\n",
      "   const REAL_SIMD_ARRAY vv = ReadSIMD(&VVGF[CCTK_GFINDEX3D(cctkGH, i0,i1,i2)]);\n",
      "   const double tmp_Rational_4_3 = 1.333333333333333333333333333333333;\n",
      "   const REAL_SIMD_ARRAY  = Set1SIMD(tmp_Rational_4_3);\n",
      "   const double tmp_Rational_m1_12 = -0.08333333333333333333333333333333333;\n",
      "   const REAL_SIMD_ARRAY  = Set1SIMD(tmp_Rational_m1_12);\n",
      "   const double tmp_Rational_m5_2 = -2.500000000000000000000000000000000;\n",
      "   const REAL_SIMD_ARRAY  = Set1SIMD(tmp_Rational_m5_2);\n",
      "\n",
      "   const REAL_SIMD_ARRAY tmp0 = MulSIMD(uu, _Rational_m5_2);\n",
      "   const REAL_SIMD_ARRAY tmp1 = MulSIMD(wavespeed, wavespeed);\n",
      "   const REAL_SIMD_ARRAY uu_dDD11 = MulSIMD(FusedMulAddSIMD(uu_i0_i1p1_i2, _Rational_4_3, FusedMulAddSIMD(uu_i0_i1m2_i2, _Rational_m1_12, FusedMulAddSIMD(uu_i0_i1m1_i2, _Rational_4_3, FusedMulAddSIMD(uu_i0_i1p2_i2, _Rational_m1_12, tmp0)))), MulSIMD(invdx1, invdx1));\n",
      "   const REAL_SIMD_ARRAY uu_dDD00 = MulSIMD(FusedMulAddSIMD(uu_i0p1_i1_i2, _Rational_4_3, FusedMulAddSIMD(uu_i0m2_i1_i2, _Rational_m1_12, FusedMulAddSIMD(uu_i0m1_i1_i2, _Rational_4_3, FusedMulAddSIMD(uu_i0p2_i1_i2, _Rational_m1_12, tmp0)))), MulSIMD(invdx0, invdx0));\n",
      "   const REAL_SIMD_ARRAY uu_dDD22 = MulSIMD(FusedMulAddSIMD(uu_i0_i1_i2p1, _Rational_4_3, FusedMulAddSIMD(uu_i0_i1_i2m2, _Rational_m1_12, FusedMulAddSIMD(uu_i0_i1_i2m1, _Rational_4_3, FusedMulAddSIMD(uu_i0_i1_i2p2, _Rational_m1_12, tmp0)))), MulSIMD(invdx2, invdx2));\n",
      "   const REAL_SIMD_ARRAY __RHS_exp_0 = vv;\n",
      "   const REAL_SIMD_ARRAY __RHS_exp_1 = FusedMulAddSIMD(tmp1, uu_dDD11, FusedMulAddSIMD(tmp1, uu_dDD22, MulSIMD(tmp1, uu_dDD00)));\n",
      "   WriteSIMD(&UU_rhs[CCTK_GFINDEX3D(cctkGH, i0, i1, i2)], __RHS_exp_0);\n",
      "   WriteSIMD(&VV_rhs[CCTK_GFINDEX3D(cctkGH, i0, i1, i2)], __RHS_exp_1);\n",
      "}\n",
      "\n"
     ]
    }
   ],
   "source": [
    "DIM = par.parval_from_str(\"DIM\")\n",
    "\n",
    "uu, vv = gri.register_gridfunctions(\"EVOL\",[\"uu\",\"vv\"])\n",
    "uu_dDD = ten.declarerank2(\"uu_dDD\",\"sym12\")\n",
    "wavespeed = par.Cparameters(\"REAL\",thismodule,\"wavespeed\")\n",
    "\n",
    "uu_rhs = vv\n",
    "vv_rhs = 0\n",
    "for i in range(DIM):\n",
    "    vv_rhs += wavespeed*wavespeed*uu_dDD[i][i]\n",
    "\n",
    "fin.FD_outputC_ToFile(str(thismodule)+\"/NRPy_codegen/scalarwave_RHS.h\",\n",
    "                      [lhrh(lhs=gri.gfaccess(\"out_gfs\",\"UU_rhs\"),rhs=uu_rhs),\n",
    "                       lhrh(lhs=gri.gfaccess(\"out_gfs\",\"VV_rhs\"),rhs=vv_rhs)])"
   ]
  },
  {
   "cell_type": "code",
   "execution_count": null,
   "metadata": {},
   "outputs": [],
   "source": []
  }
 ],
 "metadata": {
  "kernelspec": {
   "display_name": "Python 3",
   "language": "python",
   "name": "python3"
  },
  "language_info": {
   "codemirror_mode": {
    "name": "ipython",
    "version": 3
   },
   "file_extension": ".py",
   "mimetype": "text/x-python",
   "name": "python",
   "nbconvert_exporter": "python",
   "pygments_lexer": "ipython3",
   "version": "3.6.5"
  }
 },
 "nbformat": 4,
 "nbformat_minor": 2
}
