{
 "cells": [
  {
   "cell_type": "markdown",
   "metadata": {},
   "source": [
    "$\\newcommand{\\giraffe}{\\text{GiRaFFE}}$\n",
    "# $\\giraffe$: General Relativistic Force-Free Electrodynamics\n",
    "## Porting the original $\\giraffe$ code to NRPy+\n",
    "\n",
    "Porting the original $\\giraffe$ code to NRPy+ will generally make it easier to maintain, as well as to make changes. Specifically, it will make it nearly trivial to increase the finite-differencing order."
   ]
  },
  {
   "cell_type": "markdown",
   "metadata": {},
   "source": [
    "Our ultimate goal here will be to code the evolution equation \n",
    "\\begin{equation}\n",
    "\\partial_t \\tilde{S}_i = - \\partial_j \\left( \\alpha \\sqrt{\\gamma} T^j_{{\\rm EM} i} \\right) + \\frac{1}{2} \\alpha \\sqrt{\\gamma} T^{\\mu \\nu}_{\\rm EM} \\partial_i g_{\\mu \\nu},\n",
    "\\end{equation}\n",
    "where the densitized spatial Poynting flux one-form $\\tilde{S}_i = \\sqrt{\\gamma} S_i$ (and $S_i$ comes from $S_{\\mu} -n_{\\nu} T^{\\nu}_{{\\rm EM} \\mu}$) and\n",
    "\\begin{align}\n",
    "T^{\\mu \\nu}_{\\rm EM} &= b^2 u^{\\mu} u^{\\nu} + \\frac{b^2}{2} g^{\\mu \\nu} - b^{\\mu} b^{\\nu}, \\\\\n",
    "\\sqrt{4\\pi} b^0 &= B^0_{\\rm (u)} = \\frac{u_j B^j}{\\alpha}, \\\\\n",
    "\\sqrt{4\\pi} b^i &= B^i_{\\rm (u)} = \\frac{B^i + (u_j B^j) u^i}{\\alpha u^0}, \\\\\n",
    "\\end{align}\n",
    "and \n",
    "$$B^i = \\frac{\\tilde{B}^i}{\\gamma}.$$\n",
    "Furthermore, the four-metric $g_{\\mu\\nu}$ is related to the three-metric $\\gamma_{ij}$, lapse $\\beta_i$, and shift $\\alpha$ by\n",
    "$$\n",
    "g_{\\mu\\nu} = \\begin{pmatrix} \n",
    "-\\alpha^2 + \\beta^k \\beta_k & \\beta_i \\\\\n",
    "\\beta_j & \\gamma_{ij}\n",
    "\\end{pmatrix}.\n",
    "$$\n",
    "Most of these are computed in the module u0_smallb_Poynting__Cartesian.py, and we will import that module to save effort.\n",
    "Note that as usual, Greek indices refer to four-dimensional quantities where the zeroth component indicates $t$ components, while Latin indices refer to three-dimensional quantities. Since Python always indexes its lists from 0, however, the zeroth component will indicate a spatial direction, and any expressions involving mixed Greek and Latin indices will need to offset one set of indices by one."
   ]
  },
  {
   "cell_type": "markdown",
   "metadata": {},
   "source": [
    "## Preliminaries\n",
    "First, we will import the core modules of NRPy that we will need. Then, we will declare the gridfunctions related to the metric and build the four metric using code from [Tutorial-smallb2_Poynting_vector-Cartesian.ipynb](Tutorial-smallb2_Poynting_vector-Cartesian.ipynb)"
   ]
  },
  {
   "cell_type": "code",
   "execution_count": 1,
   "metadata": {},
   "outputs": [],
   "source": [
    "import NRPy_param_funcs as par\n",
    "import indexedexp as ixp\n",
    "import grid as gri\n",
    "import finite_difference as fin\n",
    "from outputC import *\n",
    "\n",
    "#Step 0: Set the spatial dimension parameter to 3.\n",
    "par.set_parval_from_str(\"grid::DIM\", 3)\n",
    "DIM = par.parval_from_str(\"grid::DIM\")\n",
    "\n",
    "# Step 1: Set the finite differencing order to 4.\n",
    "par.set_parval_from_str(\"finite_difference::FD_CENTDERIVS_ORDER\", 4)\n",
    "\n",
    "thismodule = \"GiRaFFE_NRPy\"\n"
   ]
  },
  {
   "cell_type": "markdown",
   "metadata": {},
   "source": [
    "Recall that the four-metric $g_{\\mu\\nu}$ is related to the three-metric $\\gamma_{ij}$, lapse $\\beta_i$, and shift $\\alpha$ by\n",
    "$$\n",
    "g_{\\mu\\nu} = \\begin{pmatrix} \n",
    "-\\alpha^2 + \\beta^k \\beta_k & \\beta_i \\\\\n",
    "\\beta_j & \\gamma_{ij}\n",
    "\\end{pmatrix}.\n",
    "$$\n",
    "This tensor and its inverse have already been built by the u0_smallb_Poynting__Cartesian.py module, so we can simply import the variables."
   ]
  },
  {
   "cell_type": "code",
   "execution_count": 2,
   "metadata": {},
   "outputs": [],
   "source": [
    "# Step 2: Build the four metric\n",
    "gammaDD = ixp.register_gridfunctions_for_single_rank2(\"AUX\",\"gammaDD\", \"sym01\",DIM=3)\n",
    "betaU   = ixp.register_gridfunctions_for_single_rank1(\"AUX\",\"betaU\",DIM=3)\n",
    "alpha   = gri.register_gridfunctions(\"AUX\",\"alpha\")\n",
    "ValenciavU = ixp.register_gridfunctions_for_single_rank1(\"AUX\",\"ValenciavU\",DIM=3)\n",
    "BtildeU = ixp.register_gridfunctions_for_single_rank1(\"AUX\",\"BtildeU\",DIM=3)\n",
    "\n",
    "import u0_smallb_Poynting__Cartesian.u0_smallb_Poynting__Cartesian as u0b\n",
    "u0b.compute_u0_smallb_Poynting__Cartesian(gammaDD,betaU,alpha,ValenciavU,BtildeU)\n",
    "\n",
    "dummygammaUU, gammaDET = ixp.symm_matrix_inverter3x3(gammaDD)\n",
    "betaD = ixp.zerorank1()\n",
    "for i in range(DIM):\n",
    "    for j in range(DIM):\n",
    "        betaD[i] = gammaDD[i][j] * betaU[j]\n",
    "\n",
    "# We will now pull in the four metric and its inverse.\n",
    "g4DD = ixp.zerorank2(DIM=4)\n",
    "g4UU = ixp.zerorank2(DIM=4)\n",
    "for mu in range(4):\n",
    "    for nu in range(4):\n",
    "        g4DD[mu][nu] = u0b.g4DD[mu][nu]\n",
    "        g4UU[mu][nu] = u0b.g4UU[mu][nu]\n"
   ]
  },
  {
   "cell_type": "markdown",
   "metadata": {},
   "source": [
    "We will also need spatial derivatives of the metric, $\\partial_i g_{\\mu\\nu} = g_{\\mu\\nu,i}$. In terms of the three-metric, lapse, and shift, we find\n",
    "$$\n",
    "g_{\\mu\\nu,i} = \\begin{pmatrix} \n",
    "-2\\alpha \\alpha_{,i} + \\beta^k_{\\ ,i} \\beta_k + \\beta^k \\beta_{k,i} & \\beta_{i,i} \\\\\n",
    "\\beta_{j,i} & \\gamma_{ij,i}\n",
    "\\end{pmatrix}.\n",
    "$$\n",
    "\n",
    "Since this expression mixes Greek and Latin indices, we will need to store the expressions for each of the three spatial derivatives as separate variables. \n",
    "Also, consider the term $\\beta_{i,j} = \\partial_j \\beta_i = \\partial_j (\\gamma_{ik} \\beta^k) =  \\gamma_{ik} \\partial_j\\beta^k + \\beta^k \\partial_j \\gamma_{ik} = \\gamma_{ik} \\beta^k_{\\ ,j} + \\beta^k \\gamma_{ik,j}$"
   ]
  },
  {
   "cell_type": "code",
   "execution_count": 3,
   "metadata": {},
   "outputs": [],
   "source": [
    "# Step 3: Build the spatial derivative of the four metric\n",
    "# Step 3a: Declare derivatives of grid functions. These will be handled by FD_outputC\n",
    "alpha_dD   = ixp.declarerank1(\"alpha_dD\")\n",
    "betaU_dD   = ixp.declarerank2(\"betaU_dD\",\"nosym\")\n",
    "gammaDD_dD = ixp.declarerank3(\"gammaDD_dD\",\"sym01\")\n",
    "\n",
    "# Step 3b: These derivatives will be constructed analytically.\n",
    "betaDdD    = ixp.zerorank2()\n",
    "\n",
    "# Zach says: Just set this up as a rank3 tensor with DIM=4. We'll not set the time deriv. \n",
    "#  This will get rid of a lot of unnecessary code below.\n",
    "g4DDdD     = ixp.zerorank3(DIM=4)\n",
    "\n",
    "for i in range(DIM):\n",
    "    for j in range(DIM):\n",
    "        for k in range(DIM):\n",
    "            betaDdD[i][j] = gammaDD[i][k] * betaU_dD[k][j] + betaU[k] * gammaDD_dD[i][k][j]\n",
    "\n",
    "# Step 3c: Set the 00 components\n",
    "for i in range(1,4):\n",
    "    g4DDdD[0][0][i] = -2*alpha*alpha_dD[i-1]\n",
    "    for k in range(DIM):\n",
    "        g4DDdD[0][0][i] += betaU_dD[k][i-1] * betaD[k] + betaU[k] * betaDdD[k][i-1]\n",
    "    for mu in range(1,4):\n",
    "        g4DDdD[mu][0][i] = g4DDdD[0][mu][i-1] = betaDdD[mu-1][i-1]\n",
    "    for mu in range(1,4):\n",
    "        for nu in range(1,4):\n",
    "            g4DDdD[mu][nu][i] = gammaDD_dD[mu-1][nu-1][i-1]\n",
    "        "
   ]
  },
  {
   "cell_type": "markdown",
   "metadata": {},
   "source": [
    "Now that the metric and its derivatives are out of the way, we will return our attention to the electromagnetic stress-energy tensor\n",
    "$$T^{\\mu \\nu}_{\\rm EM} = b^2 u^{\\mu} u^{\\nu} + \\frac{b^2}{2} g^{\\mu \\nu} - b^{\\mu} b^{\\nu}.$$\n",
    "We will need the four-velocity $u^\\mu$, where \n",
    "\\begin{align}\n",
    "u^i &= u^0 (\\alpha v^i_{(n)} - \\beta^i), \\\\\n",
    "u_j &= \\alpha u^0 \\gamma_{ij} v^i_{(n)}, \\\\\n",
    "\\end{align}\n",
    "and $v^i_{(n)}$ is the Valencia three-velocity. The values of $u^0$ and $v^i_{(n)}$ can be read from HydroBase and IllinoisGRMHD. These have already been built by the u0_smallb_Poynting__Cartesian.py module, so we can simply import the variables.\n"
   ]
  },
  {
   "cell_type": "code",
   "execution_count": 4,
   "metadata": {},
   "outputs": [],
   "source": [
    "u0 = par.Cparameters(\"REAL\",thismodule,\"u0\")\n",
    "uD = ixp.zerorank1()\n",
    "\n",
    "for i in range(DIM):\n",
    "    for j in range(DIM):\n",
    "        uD[j] += alpha*u0*gammaDD[i][j]*ValenciavU[j]\n",
    "\n",
    "uU = ixp.zerorank1()\n",
    "for i in range(DIM):\n",
    "    uU[i] = u0*(alpha*ValenciavU[i] - betaU[i])\n"
   ]
  },
  {
   "cell_type": "markdown",
   "metadata": {},
   "source": [
    "We also need the vector $b^{\\mu}$ before we can compute this, which is related to the magnetic field by \n",
    "\\begin{align}\n",
    "b^0 &= \\frac{1}{\\sqrt{4\\pi}} B^0_{\\rm (u)} = \\frac{u_j B^j}{\\sqrt{4\\pi}\\alpha}, \\\\\n",
    "b^i &= \\frac{1}{\\sqrt{4\\pi}} B^i_{\\rm (u)} = \\frac{B^i + (u_j B^j) u^i}{\\sqrt{4\\pi}\\alpha u^0}, \\\\\n",
    "\\end{align} and \\begin{align}\n",
    "B^i &= \\frac{\\tilde{B}^i}{\\gamma},\n",
    "\\end{align}\n",
    "where $\\tilde{B}^i$ is the variable tracked by the HydroBase thorn in the Einstein Toolkit. These have already been built by the u0_smallb_Poynting__Cartesian.py module, so we can simply import the variables."
   ]
  },
  {
   "cell_type": "code",
   "execution_count": 5,
   "metadata": {},
   "outputs": [],
   "source": [
    "smallbU = ixp.zerorank1(DIM=4)\n",
    "for mu in range(4):\n",
    "    smallbU[mu] = u0b.smallb4U[mu]\n",
    "\n",
    "smallb2 = u0b.smallb2\n"
   ]
  },
  {
   "cell_type": "markdown",
   "metadata": {},
   "source": [
    "We now have all the pieces to calculate the stress-energy tensor,\n",
    "$$T^{\\mu \\nu}_{\\rm EM} = b^2 u^{\\mu} u^{\\nu} + \\frac{b^2}{2} g^{\\mu \\nu} - b^{\\mu} b^{\\nu}.$$\n"
   ]
  },
  {
   "cell_type": "code",
   "execution_count": 6,
   "metadata": {},
   "outputs": [],
   "source": [
    "TEMUU = ixp.register_gridfunctions_for_single_rank2(\"AUX\",\"TEMUU\",\"sym01\",DIM=4)\n",
    "\n",
    "TEMUU[0][0] = smallb2*u0*u0 + smallb2*g4UU[0][0]/2 - smallbU[0]*smallbU[0]\n",
    "for mu in range(1,4):\n",
    "    TEMUU[mu][0] = TEMUU[0][mu] = smallb2*uU[mu-1]*u0 + smallb2*g4UU[mu][0]/2 - smallbU[mu]*smallbU[0]\n",
    "for mu in range(1,4):\n",
    "    for nu in range(1,4):\n",
    "        TEMUU[mu][nu] = smallb2*uU[mu-1]*uU[nu-1] + smallb2*g4UU[mu][nu]/2 - smallbU[mu]*smallbU[nu]"
   ]
  },
  {
   "cell_type": "markdown",
   "metadata": {},
   "source": [
    "If we look at the evolution equation, we see that we will need spatial  derivatives of $T^{\\mu\\nu}_{EM}$; analytically expanding that derivative would be a rather tedious affair, so to avoid it, we will simply declare the parenthetical term $$\\left( \\alpha \\sqrt{\\gamma} T^j_{{\\rm EM} i} \\right)$$ as a gridfunction, and set it accordingly. Then, we declare derivatives of it."
   ]
  },
  {
   "cell_type": "code",
   "execution_count": 7,
   "metadata": {},
   "outputs": [],
   "source": [
    "# We already handled the ADMBase variables' derivatives when we built g4DDdD.\n",
    "# That leaves the valencia 3 velocity and tilde B field.\n",
    "alpsqrtgamTEMUD = ixp.register_gridfunctions_for_single_rank2(\"AUX\",\"alpsqrtgamTEMUD\",\"nosym\")\n",
    "for i in range(DIM):\n",
    "    for j in range(DIM):\n",
    "        for k in range(DIM):\n",
    "            # Since TEMUU is a 4D quantity, we increment its indices to match gamma\n",
    "            alpsqrtgamTEMUD[i][j] = alpha * sp.sqrt(gammaDET) * gammaDD[k][i] * TEMUU[j+1][k+1]\n",
    "\n",
    "alpsqrtgamTEMUD_dD = ixp.declarerank3(\"alpsqrtgamTEMUD\",\"nosym\")"
   ]
  },
  {
   "cell_type": "markdown",
   "metadata": {},
   "source": [
    "Finally, we will return our attention to the time evolution equation,\n",
    "\\begin{equation}\n",
    "\\partial_t \\tilde{S}_i = - \\partial_j \\left( \\alpha \\sqrt{\\gamma} T^j_{{\\rm EM} i} \\right) + \\frac{1}{2} \\alpha \\sqrt{\\gamma} T^{\\mu \\nu}_{\\rm EM} \\partial_i g_{\\mu \\nu}.\n",
    "\\end{equation}\n",
    "We first construct the second term, to reduce the complication of dealing with mixed Greek and Latin indices."
   ]
  },
  {
   "cell_type": "code",
   "execution_count": 8,
   "metadata": {},
   "outputs": [],
   "source": [
    "secondterm = ixp.zerorank1()\n",
    "for i in range(DIM):\n",
    "    for mu in range(DIM):\n",
    "        for nu in range(DIM):\n",
    "            secondterm[i] += alpha * sp.sqrt(gammaDET) * TEMUU[mu][nu] * g4DDdD[mu][nu][i] / 2\n",
    "\n",
    "Stilde_rhs = ixp.register_gridfunctions_for_single_rank1(\"EVOL\",\"Stilde_rhs\")\n",
    "for i in range(DIM):\n",
    "    Stilde_rhs[i] = secondterm[i]\n",
    "    for j in range(DIM):\n",
    "        Stilde_rhs[i] -= alpsqrtgamTEMUD_dD[j][i][j]"
   ]
  },
  {
   "cell_type": "code",
   "execution_count": null,
   "metadata": {},
   "outputs": [],
   "source": []
  }
 ],
 "metadata": {
  "kernelspec": {
   "display_name": "Python 3",
   "language": "python",
   "name": "python3"
  },
  "language_info": {
   "codemirror_mode": {
    "name": "ipython",
    "version": 3
   },
   "file_extension": ".py",
   "mimetype": "text/x-python",
   "name": "python",
   "nbconvert_exporter": "python",
   "pygments_lexer": "ipython3",
   "version": "3.6.6"
  }
 },
 "nbformat": 4,
 "nbformat_minor": 2
}
