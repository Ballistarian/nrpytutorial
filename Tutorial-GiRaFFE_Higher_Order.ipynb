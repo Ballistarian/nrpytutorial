{
 "cells": [
  {
   "cell_type": "markdown",
   "metadata": {},
   "source": [
    "$\\newcommand{\\giraffe}{\\text{GiRaFFE}}$\n",
    "# $\\giraffe$: General Relativistic Force-Free Electrodynamics\n",
    "## Porting the original $\\giraffe$ code to NRPy+\n",
    "\n",
    "Porting the original $\\giraffe$ code as presented in [the original paper](https://arxiv.org/pdf/1704.00599.pdf) to NRPy+ will generally make it easier to maintain, as well as to make changes. Specifically, it will make it nearly trivial to increase the finite-differencing order."
   ]
  },
  {
   "cell_type": "markdown",
   "metadata": {},
   "source": [
    "Our ultimate goal here will be to code the evolution equation (from eq. 13 of the [original paper](https://arxiv.org/pdf/1704.00599.pdf)):\n",
    "\\begin{equation}\n",
    "\\partial_t \\tilde{S}_i = - \\partial_j \\left( \\alpha \\sqrt{\\gamma} T^j_{{\\rm EM} i} \\right) + \\frac{1}{2} \\alpha \\sqrt{\\gamma} T^{\\mu \\nu}_{\\rm EM} \\partial_i g_{\\mu \\nu},\n",
    "\\end{equation}\n",
    "where the densitized spatial Poynting flux one-form $\\tilde{S}_i = \\sqrt{\\gamma} S_i$ (and $S_i$ comes from $S_{\\mu} -n_{\\nu} T^{\\nu}_{{\\rm EM} \\mu}$) and\n",
    "\\begin{align}\n",
    "T^{\\mu \\nu}_{\\rm EM} &= b^2 u^{\\mu} u^{\\nu} + \\frac{b^2}{2} g^{\\mu \\nu} - b^{\\mu} b^{\\nu}, \\\\\n",
    "\\sqrt{4\\pi} b^0 &= B^0_{\\rm (u)} = \\frac{u_j B^j}{\\alpha}, \\\\\n",
    "\\sqrt{4\\pi} b^i &= B^i_{\\rm (u)} = \\frac{B^i + (u_j B^j) u^i}{\\alpha u^0}, \\\\\n",
    "\\end{align}\n",
    "and \n",
    "$$B^i = \\frac{\\tilde{B}^i}{\\gamma}.$$\n",
    "Furthermore, the four-metric $g_{\\mu\\nu}$ is related to the three-metric $\\gamma_{ij}$, lapse $\\beta_i$, and shift $\\alpha$ by\n",
    "$$\n",
    "g_{\\mu\\nu} = \\begin{pmatrix} \n",
    "-\\alpha^2 + \\beta^k \\beta_k & \\beta_i \\\\\n",
    "\\beta_j & \\gamma_{ij}\n",
    "\\end{pmatrix}.\n",
    "$$\n",
    "Most of these are computed in the module u0_smallb_Poynting__Cartesian.py, and we will import that module to save effort.\n",
    "Note that as usual, Greek indices refer to four-dimensional quantities where the zeroth component indicates $t$ components, while Latin indices refer to three-dimensional quantities. Since Python always indexes its lists from 0, however, the zeroth component will indicate a spatial direction, and any expressions involving mixed Greek and Latin indices will need to offset one set of indices by one."
   ]
  },
  {
   "cell_type": "markdown",
   "metadata": {},
   "source": [
    "## Preliminaries\n",
    "First, we will import the core modules of NRPy that we will need. Then, we will declare the gridfunctions related to the metric and build the four metric using code from [Tutorial-smallb2_Poynting_vector-Cartesian.ipynb](Tutorial-smallb2_Poynting_vector-Cartesian.ipynb)"
   ]
  },
  {
   "cell_type": "code",
   "execution_count": 1,
   "metadata": {},
   "outputs": [],
   "source": [
    "import NRPy_param_funcs as par\n",
    "import indexedexp as ixp\n",
    "import grid as gri\n",
    "import finite_difference as fin\n",
    "from outputC import *\n",
    "\n",
    "#Step 0: Set the spatial dimension parameter to 3.\n",
    "par.set_parval_from_str(\"grid::DIM\", 3)\n",
    "DIM = par.parval_from_str(\"grid::DIM\")\n",
    "\n",
    "# Step 1: Set the finite differencing order to 4.\n",
    "par.set_parval_from_str(\"finite_difference::FD_CENTDERIVS_ORDER\", 4)\n",
    "\n",
    "thismodule = \"GiRaFFE_NRPy\"\n",
    "\n",
    "M_PI = par.Cparameters(\"REAL\",thismodule,\"M_PI\")\n",
    "gammaDD = ixp.register_gridfunctions_for_single_rank2(\"AUX\",\"gammaDD\", \"sym01\",DIM=3)\n",
    "betaU   = ixp.register_gridfunctions_for_single_rank1(\"AUX\",\"betaU\",DIM=3)\n",
    "alpha   = gri.register_gridfunctions(\"AUX\",\"alpha\")\n",
    "ValenciavU = ixp.register_gridfunctions_for_single_rank1(\"AUX\",\"ValenciavU\",DIM=3)\n",
    "BU = ixp.register_gridfunctions_for_single_rank1(\"AUX\",\"BU\",DIM=3)\n",
    "AD = ixp.register_gridfunctions_for_single_rank1(\"AUX\",\"AD\",DIM=3)\n",
    "\n",
    "import u0_smallb_Poynting__Cartesian.u0_smallb_Poynting__Cartesian as u0b\n",
    "u0b.compute_u0_smallb_Poynting__Cartesian(gammaDD,betaU,alpha,ValenciavU,BU)\n"
   ]
  },
  {
   "cell_type": "markdown",
   "metadata": {},
   "source": [
    "Recall that the four-metric $g_{\\mu\\nu}$ is related to the three-metric $\\gamma_{ij}$, lapse $\\beta_i$, and shift $\\alpha$ by\n",
    "$$\n",
    "g_{\\mu\\nu} = \\begin{pmatrix} \n",
    "-\\alpha^2 + \\beta^k \\beta_k & \\beta_i \\\\\n",
    "\\beta_j & \\gamma_{ij}\n",
    "\\end{pmatrix}.\n",
    "$$\n",
    "This tensor and its inverse have already been built by the u0_smallb_Poynting__Cartesian.py module, so we can simply import the variables."
   ]
  },
  {
   "cell_type": "code",
   "execution_count": 2,
   "metadata": {},
   "outputs": [],
   "source": [
    "# Step 2: Import the four metric\n",
    "gammaUU = ixp.register_gridfunctions_for_single_rank2(\"AUX\",\"gammaUU\",\"sym01\")\n",
    "gammaDET = gri.register_gridfunctions(\"AUX\",\"gammaDET\")\n",
    "gammaUU, gammaDET = ixp.symm_matrix_inverter3x3(gammaDD)\n",
    "betaD = ixp.zerorank1()\n",
    "for i in range(DIM):\n",
    "    for j in range(DIM):\n",
    "        betaD[i] = gammaDD[i][j] * betaU[j]\n",
    "\n",
    "# We will now pull in the four metric and its inverse.\n",
    "g4DD = ixp.zerorank2(DIM=4)\n",
    "g4UU = ixp.zerorank2(DIM=4)\n",
    "for mu in range(4):\n",
    "    for nu in range(4):\n",
    "        g4DD[mu][nu] = u0b.g4DD[mu][nu]\n",
    "        g4UU[mu][nu] = u0b.g4UU[mu][nu]\n"
   ]
  },
  {
   "cell_type": "markdown",
   "metadata": {},
   "source": [
    "We will also need spatial derivatives of the metric, $\\partial_i g_{\\mu\\nu} = g_{\\mu\\nu,i}$. In terms of the three-metric, lapse, and shift, we find\n",
    "$$\n",
    "g_{\\mu\\nu,i} = \\begin{pmatrix} \n",
    "-2\\alpha \\alpha_{,i} + \\beta^k_{\\ ,i} \\beta_k + \\beta^k \\beta_{k,i} & \\beta_{i,i} \\\\\n",
    "\\beta_{j,i} & \\gamma_{ij,i}\n",
    "\\end{pmatrix}.\n",
    "$$\n",
    "\n",
    "Since this expression mixes Greek and Latin indices, we will need to store the expressions for each of the three spatial derivatives as separate variables. \n",
    "Also, consider the term $\\beta_{i,j} = \\partial_j \\beta_i = \\partial_j (\\gamma_{ik} \\beta^k) =  \\gamma_{ik} \\partial_j\\beta^k + \\beta^k \\partial_j \\gamma_{ik} = \\gamma_{ik} \\beta^k_{\\ ,j} + \\beta^k \\gamma_{ik,j}$"
   ]
  },
  {
   "cell_type": "code",
   "execution_count": 3,
   "metadata": {},
   "outputs": [],
   "source": [
    "# Step 3: Build the spatial derivative of the four metric\n",
    "# Step 3a: Declare derivatives of grid functions. These will be handled by FD_outputC\n",
    "alpha_dD   = ixp.declarerank1(\"alpha_dD\")\n",
    "betaU_dD   = ixp.declarerank2(\"betaU_dD\",\"nosym\")\n",
    "gammaDD_dD = ixp.declarerank3(\"gammaDD_dD\",\"sym01\")\n",
    "\n",
    "# Step 3b: These derivatives will be constructed analytically.\n",
    "betaDdD    = ixp.zerorank2()\n",
    "\n",
    "# Zach says: Just set this up as a rank3 tensor with DIM=4. We'll not set the time deriv. \n",
    "#  This will get rid of a lot of unnecessary code below.\n",
    "g4DDdD     = ixp.zerorank3(DIM=4)\n",
    "\n",
    "for i in range(DIM):\n",
    "    for j in range(DIM):\n",
    "        for k in range(DIM):\n",
    "            betaDdD[i][j] = gammaDD[i][k] * betaU_dD[k][j] + betaU[k] * gammaDD_dD[i][k][j]\n",
    "\n",
    "# Step 3c: Set the 00 components\n",
    "for i in range(1,4):\n",
    "    g4DDdD[0][0][i] = -2*alpha*alpha_dD[i-1]\n",
    "    for k in range(DIM):\n",
    "        g4DDdD[0][0][i] += betaU_dD[k][i-1] * betaD[k] + betaU[k] * betaDdD[k][i-1]\n",
    "    for mu in range(1,4):\n",
    "        g4DDdD[mu][0][i] = g4DDdD[0][mu][i-1] = betaDdD[mu-1][i-1]\n",
    "    for mu in range(1,4):\n",
    "        for nu in range(1,4):\n",
    "            g4DDdD[mu][nu][i] = gammaDD_dD[mu-1][nu-1][i-1]\n",
    "        "
   ]
  },
  {
   "cell_type": "markdown",
   "metadata": {},
   "source": [
    "Now that the metric and its derivatives are out of the way, we will return our attention to the electromagnetic stress-energy tensor, drawn from eq. 27 of [this paper](https://arxiv.org/pdf/1310.3274.pdf):\n",
    "$$T^{\\mu \\nu}_{\\rm EM} = b^2 u^{\\mu} u^{\\nu} + \\frac{b^2}{2} g^{\\mu \\nu} - b^{\\mu} b^{\\nu}.$$\n",
    "We will need the four-velocity $u^\\mu$, where \n",
    "\\begin{align}\n",
    "u^i &= u^0 (\\alpha v^i_{(n)} - \\beta^i), \\\\\n",
    "u_j &= \\alpha u^0 \\gamma_{ij} v^i_{(n)}, \\\\\n",
    "\\end{align}\n",
    "and $v^i_{(n)}$ is the Valencia three-velocity. The values of $u^0$ and $v^i_{(n)}$ can be read from HydroBase and IllinoisGRMHD. These have already been built by the u0_smallb_Poynting__Cartesian.py module, so we can simply import the variables.\n"
   ]
  },
  {
   "cell_type": "code",
   "execution_count": 4,
   "metadata": {},
   "outputs": [],
   "source": [
    "#u0 = par.Cparameters(\"REAL\",thismodule,\"u0\")\n",
    "u0 = gri.register_gridfunctions(\"AUX\",\"u0\")\n",
    "uD = ixp.zerorank1()\n",
    "uU = ixp.zerorank1()\n",
    "\n",
    "u0 = u0b.u0\n",
    "for i in range(DIM):\n",
    "    uD[i] = u0b.uD[i]\n",
    "    uU[i] = u0b.uU[i]\n"
   ]
  },
  {
   "cell_type": "markdown",
   "metadata": {},
   "source": [
    "We also need the vector $b^{\\mu}$ before we can compute this, which is related to the magnetic field by \n",
    "\\begin{align}\n",
    "b^0 &= \\frac{1}{\\sqrt{4\\pi}} B^0_{\\rm (u)} = \\frac{u_j B^j}{\\sqrt{4\\pi}\\alpha}, \\\\\n",
    "b^i &= \\frac{1}{\\sqrt{4\\pi}} B^i_{\\rm (u)} = \\frac{B^i + (u_j B^j) u^i}{\\sqrt{4\\pi}\\alpha u^0}, \\\\\n",
    "\\end{align} and \\begin{align}\n",
    "B^i &= \\frac{\\tilde{B}^i}{\\gamma},\n",
    "\\end{align}\n",
    "where $B^i$ is the variable tracked by the HydroBase thorn in the Einstein Toolkit. These have already been built by the u0_smallb_Poynting__Cartesian.py module, so we can simply import the variables."
   ]
  },
  {
   "cell_type": "code",
   "execution_count": 5,
   "metadata": {},
   "outputs": [],
   "source": [
    "smallbU = ixp.zerorank1(DIM=4)\n",
    "smallbD = ixp.zerorank1(DIM=4)\n",
    "for mu in range(4):\n",
    "    smallbU[mu] = u0b.smallb4U[mu]\n",
    "    smallbD[mu] = u0b.smallb4D[mu]\n",
    "\n",
    "smallb2 = u0b.smallb2\n"
   ]
  },
  {
   "cell_type": "markdown",
   "metadata": {},
   "source": [
    "We now have all the pieces to calculate the stress-energy tensor,\n",
    "$$T^{\\mu \\nu}_{\\rm EM} = b^2 u^{\\mu} u^{\\nu} + \\frac{b^2}{2} g^{\\mu \\nu} - b^{\\mu} b^{\\nu}.$$\n"
   ]
  },
  {
   "cell_type": "code",
   "execution_count": 6,
   "metadata": {},
   "outputs": [],
   "source": [
    "TEMUU = ixp.register_gridfunctions_for_single_rank2(\"AUX\",\"TEMUU\",\"sym01\",DIM=4)\n",
    "\n",
    "TEMUU[0][0] = smallb2*u0*u0 + smallb2*g4UU[0][0]/2 - smallbU[0]*smallbU[0]\n",
    "for mu in range(1,4):\n",
    "    TEMUU[mu][0] = TEMUU[0][mu] = smallb2*uU[mu-1]*u0 + smallb2*g4UU[mu][0]/2 - smallbU[mu]*smallbU[0]\n",
    "for mu in range(1,4):\n",
    "    for nu in range(1,4):\n",
    "        TEMUU[mu][nu] = smallb2*uU[mu-1]*uU[nu-1] + smallb2*g4UU[mu][nu]/2 - smallbU[mu]*smallbU[nu]\n",
    "        "
   ]
  },
  {
   "cell_type": "markdown",
   "metadata": {},
   "source": [
    "If we look at the evolution equation, we see that we will need spatial  derivatives of $T^{\\mu\\nu}_{\\rm EM}$; we will now now take these derivatives, applying the chain rule until it is only in terms of basic gridfunctions: $\\alpha$, $\\beta^i$, $\\gamma_{ij}$, $A_i$, and the Valencia 3-velocity, $v^i_{(n)}$. We will need the definitions of $\\tilde{B}^i$ and $B^i$ in terms of $B^i$ and $A_i$:\n",
    "\\begin{align}\n",
    "\\tilde{B}^i &= \\gamma B^i \\\\\n",
    "B^i &= \\epsilon^{ijk} \\partial_j A_k \\\\\n",
    "\\end{align}\n",
    "So then, \n",
    "\\begin{align}\n",
    "\\partial_j T^{i}_{{\\rm EM} j} &= \\partial_j (\\gamma_{ki} T^{kj}_{\\rm EM}) \\\\\n",
    "&= \\partial_j [\\gamma_{ki} (b^2 u^j u^k + \\frac{b^2}{2} g^{jk} - b^j b^k)] \\\\\n",
    "&= \\gamma_{ki,j} T^{i}_{{\\rm EM} j} + \\\\\n",
    "&\\gamma_{ki} \\left(\\left(\\gamma_{lm,j} b^l b^m + 2 b_l b^l_{,j}\\right) u^j u^k +b^2 u^j_{,j} u^k + b^2 u^j u^k_{,j} + \\frac{1}{2}\\left(\\gamma_{lm,j} b^l b^m + 2 b_l b^l_{,j}\\right) + \\frac{b^2}{2} g^{jk}_{\\ ,j} + b^j_{,j} b^k + b^j b^k_{,j}\\right),\n",
    "\\end{align}\n",
    "where \n",
    "\\begin{align}\n",
    "u^i_{,j} &= u^0_{,j} (\\alpha v^i_{(n)} - \\beta^i) + u^0 (\\alpha_{,j} v^i_{(n)} + \\alpha v^i_{(n),j} - \\beta^i_{,j}) \\\\\n",
    "u_{j,k} &= \\alpha_{,k} u^0 \\gamma_{ij} v^i_{(n)} + \\alpha u^0_{,k} \\gamma_{ij} v^i_{(n)} + \\alpha u^0 \\gamma_{ij,k} v^i_{(n)} + \\alpha u^0 \\gamma_{ij} v^i_{(n),k} \\\\\n",
    "b^i_{,k} &= \\frac{1}{\\sqrt{4 \\pi}} \\frac{\\alpha u^0 (B^i_{,k} + u_{j,k} B^j u^i + u_j B^j_{,k} u^i + u_j B^j u^i_{,k}) - (B^i + u_j B^j u^i)(\\alpha_{,k} u^0 + \\alpha u^0_{,k})}{(\\alpha u^0)^2} \\\\\n",
    "B^i_{,i} &= \\frac{\\gamma_{,i} \\tilde{B}^i}{\\gamma^2} \\\\\n",
    "B^i_{,l} &= \\partial_l \\left( \\frac{[ijk]}{\\sqrt{\\gamma}} \\partial_j A_k \\right) = \\frac{[ijk] \\gamma_{,l}}{2\\gamma^{3/2}} \\partial_j A_k + \\frac{[ijk]}{\\sqrt{\\gamma}} \\partial_l \\partial_j A_k \\\\\n",
    "&= -\\frac{\\gamma_{,l}}{2\\gamma} \\epsilon^{ijk} \\partial_j A_k + \\epsilon^{ijk} \\partial_l \\partial_j A_k = \\frac{\\gamma_{,l}}{2\\gamma} B^i + \\epsilon^{ijk} A_{k,jl}, i \\neq l, \\\\\n",
    "\\end{align}\n",
    "First, we will handle the derivatives of the velocity $u^i$ and its lowered form."
   ]
  },
  {
   "cell_type": "code",
   "execution_count": 7,
   "metadata": {},
   "outputs": [],
   "source": [
    "# We already handled the ADMBase variables' derivatives when we built g4DDdD.\n",
    "# That leaves the valencia 3 velocity and tilde B field.\n",
    "ValenciavU_dD = ixp.declarerank2(\"ValenciavU_dD\",\"nosym\")\n",
    "#BtildeU_dD    = ixp.declarerank2(\"BtildeU_dD\",   \"nosym\")\n",
    "u0_dD = ixp.declarerank1(\"u0_dD\")\n",
    "\n",
    "uU_dD = ixp.zerorank2()\n",
    "for i in range(DIM):\n",
    "     for j in range(DIM):\n",
    "            uU_dD[i][j] = u0_dD[j]*(alpha*ValenciavU[i]-betaU[i]) + u0*(alpha_dD[j]*ValenciavU[i]\\\n",
    "                                                                        +alpha*ValenciavU_dD[i][j]\\\n",
    "                                                                        +betaU_dD[i][j])\n",
    "            \n",
    "uD_dD = ixp.zerorank2()\n",
    "for i in range(DIM):\n",
    "    for j in range(DIM):\n",
    "        for k in range(DIM):\n",
    "            uD_dD[j][k] =  alpha_dD[k]*u0*gammaDD[i][j]*ValenciavU[i]\\\n",
    "                         + alpha*u0_dD[k]*gammaDD[i][j]*ValenciavU[i]\\\n",
    "                         + alpha*u0*gammaDD_dD[i][j][k]*ValenciavU[i]\\\n",
    "                         + alpha*u0*gammaDD[i][j]*ValenciavU_dD[i][k]\\\n",
    "\n",
    "#alpsqrtgamTEMUD = ixp.register_gridfunctions_for_single_rank2(\"AUX\",\"alpsqrtgamTEMUD\",\"nosym\")\n",
    "#for i in range(DIM):\n",
    "#    for j in range(DIM):\n",
    "#        for k in range(DIM):\n",
    "#            # Since TEMUU is a 4D quantity, we increment its indices to match gamma\n",
    "#            alpsqrtgamTEMUD[i][j] = alpha * sp.sqrt(gammaDET) * gammaDD[k][i] * TEMUU[j+1][k+1]\n",
    "#\n",
    "#alpsqrtgamTEMUD_dD = ixp.declarerank3(\"alpsqrtgamTEMUD\",\"nosym\")"
   ]
  },
  {
   "cell_type": "markdown",
   "metadata": {},
   "source": [
    "Now, we will build the derivatives of the magnetic field. We will build one expression for the divergence of $b^i$, $b^i_{,i}$ (reducing to functions of $\\tilde{B}^i$ since $\\tilde{B}^i$ is divergenceless) and another for $b^i_{,l}$, reducing to functions of second derivatives of the vector potential $A_i$\n",
    "\\begin{align}\n",
    "b^i_{,k} &= \\frac{1}{\\sqrt{4 \\pi}} \\frac{\\alpha u^0 (B^i_{,k} + u_{j,k} B^j u^i + u_j B^j_{,k} u^i + u_j B^j u^i_{,k}) - (B^i + u_j B^j u^i)(\\alpha_{,k} u^0 + \\alpha u^0_{,k})}{(\\alpha u^0)^2} \\\\\n",
    "B^i_{,i} &= -\\frac{\\gamma_{,i} \\tilde{B}^i}{\\gamma^2} = -\\frac{\\gamma_{,i} B^i}{\\gamma} \\\\\n",
    "B^i_{,l} &= \\frac{\\gamma_{,l}}{2\\gamma} B^i + \\epsilon^{ijk} A_{k,jl}, i \\neq l. \\\\\n",
    "\\end{align}\n",
    "where $\\epsilon_{ijk} = [ijk] \\sqrt{\\gamma}$ is the antisymmetric Levi-Civita tensor and $\\gamma$ is the determinant of the three metric.\n"
   ]
  },
  {
   "cell_type": "code",
   "execution_count": 8,
   "metadata": {},
   "outputs": [],
   "source": [
    "gammaDET_dD = ixp.declarerank1(\"gammaDET_dD\")\n",
    "\n",
    "# The divergence of the magnetic field can be expressed in terms of the B^i itself\n",
    "# since Btilde is what we choose to be divergenceless.\n",
    "divB = sp.sympify(0)\n",
    "for i in range(DIM):\n",
    "    divB += -gammaDET_dD[i]*BU[i]/gammaDET\n",
    "    \n",
    "# We already have a handy function to define the Levi-Civita symbol in WeylScalars\n",
    "import WeylScal4NRPy.WeylScalars_Cartesian as weyl\n",
    "LeviCivitaDDD = weyl.define_LeviCivitaSymbol_rank3()\n",
    "LeviCivitaUUU = ixp.zerorank3()\n",
    "for i in range(DIM):\n",
    "    for j in range(DIM):\n",
    "        for k in range(DIM):\n",
    "            LeviCivitaDDD[i][j][k] = LeviCivitaDDD[i][j][k] * sp.sqrt(gammaDET)\n",
    "            LeviCivitaUUU[i][j][k] = LeviCivitaDDD[i][j][k] / sp.sqrt(gammaDET)\n",
    "\n",
    "AD_dD = ixp.declarerank2(\"AD_dD\",\"nosym\")           \n",
    "for i in range(DIM):\n",
    "    for j in range(DIM):\n",
    "        for k in range(DIM):\n",
    "            BU[i] = LeviCivitaUUU[i][j][k] * AD_dD[k][j]\n",
    "\n",
    "AD_dDD = ixp.declarerank3(\"AD_dD\",\"sym12\")           \n",
    "# The other partial derivatives of B^i\n",
    "BU_dD = ixp.zerorank2()\n",
    "for i in range(DIM):\n",
    "    for l in range(DIM):\n",
    "        BU_dD[i][l] = gammaDET_dD[l]*BU[i]/(2*gammaDET)\n",
    "        for j in range(DIM):\n",
    "            for k in range(DIM):\n",
    "                BU_dD[i][l] += LeviCivitaUUU[i][j][k] * AD_dDD[k][j][l]"
   ]
  },
  {
   "cell_type": "markdown",
   "metadata": {},
   "source": [
    "Now, we will code the derivatives of the spatial componenets of $b^{\\mu}$, $b^i$.\n",
    "$$\n",
    "b^i_{,k} = \\frac{1}{\\sqrt{4 \\pi}} \\frac{\\alpha u^0 (B^i_{,k} + u_{j,k} B^j u^i + u_j B^j_{,k} u^i + u_j B^j u^i_{,k}) - (B^i + u_j B^j u^i)(\\alpha_{,k} u^0 + \\alpha u^0_{,k})}{(\\alpha u^0)^2} \n",
    "$$"
   ]
  },
  {
   "cell_type": "code",
   "execution_count": 9,
   "metadata": {},
   "outputs": [
    {
     "ename": "NameError",
     "evalue": "name 'M_PI' is not defined",
     "output_type": "error",
     "traceback": [
      "\u001b[0;31m---------------------------------------------------------------------------\u001b[0m",
      "\u001b[0;31mNameError\u001b[0m                                 Traceback (most recent call last)",
      "\u001b[0;32m<ipython-input-9-689a8feccd6e>\u001b[0m in \u001b[0;36m<module>\u001b[0;34m()\u001b[0m\n\u001b[1;32m      4\u001b[0m     \u001b[0;32mfor\u001b[0m \u001b[0mj\u001b[0m \u001b[0;32min\u001b[0m \u001b[0mrange\u001b[0m\u001b[0;34m(\u001b[0m\u001b[0mDIM\u001b[0m\u001b[0;34m)\u001b[0m\u001b[0;34m:\u001b[0m\u001b[0;34m\u001b[0m\u001b[0m\n\u001b[1;32m      5\u001b[0m         \u001b[0mdivb\u001b[0m \u001b[0;34m+=\u001b[0m \u001b[0malpha\u001b[0m\u001b[0;34m*\u001b[0m\u001b[0mu0\u001b[0m\u001b[0;34m*\u001b[0m\u001b[0;34m(\u001b[0m\u001b[0muD_dD\u001b[0m\u001b[0;34m[\u001b[0m\u001b[0mj\u001b[0m\u001b[0;34m]\u001b[0m\u001b[0;34m[\u001b[0m\u001b[0mi\u001b[0m\u001b[0;34m]\u001b[0m\u001b[0;34m*\u001b[0m\u001b[0mBU\u001b[0m\u001b[0;34m[\u001b[0m\u001b[0mj\u001b[0m\u001b[0;34m]\u001b[0m\u001b[0;34m*\u001b[0m\u001b[0muU\u001b[0m\u001b[0;34m[\u001b[0m\u001b[0mi\u001b[0m\u001b[0;34m]\u001b[0m\u001b[0;34m+\u001b[0m\u001b[0muD\u001b[0m\u001b[0;34m[\u001b[0m\u001b[0mj\u001b[0m\u001b[0;34m]\u001b[0m\u001b[0;34m*\u001b[0m\u001b[0mBU_dD\u001b[0m\u001b[0;34m[\u001b[0m\u001b[0mj\u001b[0m\u001b[0;34m]\u001b[0m\u001b[0;34m[\u001b[0m\u001b[0mi\u001b[0m\u001b[0;34m]\u001b[0m\u001b[0;34m*\u001b[0m\u001b[0muU\u001b[0m\u001b[0;34m[\u001b[0m\u001b[0mi\u001b[0m\u001b[0;34m]\u001b[0m\u001b[0;34m+\u001b[0m\u001b[0muD\u001b[0m\u001b[0;34m[\u001b[0m\u001b[0mj\u001b[0m\u001b[0;34m]\u001b[0m\u001b[0;34m*\u001b[0m\u001b[0mBU\u001b[0m\u001b[0;34m[\u001b[0m\u001b[0mj\u001b[0m\u001b[0;34m]\u001b[0m\u001b[0;34m*\u001b[0m\u001b[0muU_dD\u001b[0m\u001b[0;34m[\u001b[0m\u001b[0mi\u001b[0m\u001b[0;34m]\u001b[0m\u001b[0;34m[\u001b[0m\u001b[0mi\u001b[0m\u001b[0;34m]\u001b[0m\u001b[0;34m)\u001b[0m                \u001b[0;34m-\u001b[0m\u001b[0;34m(\u001b[0m\u001b[0muD\u001b[0m\u001b[0;34m[\u001b[0m\u001b[0mj\u001b[0m\u001b[0;34m]\u001b[0m\u001b[0;34m*\u001b[0m\u001b[0mBU\u001b[0m\u001b[0;34m[\u001b[0m\u001b[0mj\u001b[0m\u001b[0;34m]\u001b[0m\u001b[0;34m*\u001b[0m\u001b[0muU\u001b[0m\u001b[0;34m[\u001b[0m\u001b[0mi\u001b[0m\u001b[0;34m]\u001b[0m\u001b[0;34m)\u001b[0m\u001b[0;34m*\u001b[0m\u001b[0;34m(\u001b[0m\u001b[0malpha_dD\u001b[0m\u001b[0;34m[\u001b[0m\u001b[0mi\u001b[0m\u001b[0;34m]\u001b[0m\u001b[0;34m*\u001b[0m\u001b[0mu0\u001b[0m\u001b[0;34m+\u001b[0m\u001b[0malpha\u001b[0m\u001b[0;34m*\u001b[0m\u001b[0mu0_dD\u001b[0m\u001b[0;34m[\u001b[0m\u001b[0mi\u001b[0m\u001b[0;34m]\u001b[0m\u001b[0;34m)\u001b[0m\u001b[0;34m\u001b[0m\u001b[0m\n\u001b[0;32m----> 6\u001b[0;31m \u001b[0mdivb\u001b[0m \u001b[0;34m/=\u001b[0m \u001b[0msp\u001b[0m\u001b[0;34m.\u001b[0m\u001b[0msqrt\u001b[0m\u001b[0;34m(\u001b[0m\u001b[0;36m4\u001b[0m\u001b[0;34m*\u001b[0m\u001b[0mM_PI\u001b[0m\u001b[0;34m)\u001b[0m \u001b[0;34m*\u001b[0m \u001b[0malpha\u001b[0m \u001b[0;34m*\u001b[0m \u001b[0mu0\u001b[0m \u001b[0;34m*\u001b[0m \u001b[0malpha\u001b[0m \u001b[0;34m*\u001b[0m \u001b[0mu0\u001b[0m\u001b[0;34m\u001b[0m\u001b[0m\n\u001b[0m\u001b[1;32m      7\u001b[0m \u001b[0;34m\u001b[0m\u001b[0m\n\u001b[1;32m      8\u001b[0m \u001b[0mbU_dD\u001b[0m \u001b[0;34m=\u001b[0m \u001b[0mixp\u001b[0m\u001b[0;34m.\u001b[0m\u001b[0mdeclarerank2\u001b[0m\u001b[0;34m(\u001b[0m\u001b[0;34m\"bU_dD\"\u001b[0m\u001b[0;34m,\u001b[0m\u001b[0;34m\"nosym\"\u001b[0m\u001b[0;34m)\u001b[0m\u001b[0;34m\u001b[0m\u001b[0m\n",
      "\u001b[0;31mNameError\u001b[0m: name 'M_PI' is not defined"
     ]
    }
   ],
   "source": [
    "divb = alpha*u0*divB\n",
    "for i in range(DIM):\n",
    "    divb += -BU[i]*(alpha_dD[i]*u0+alpha*u0_dD[i])\n",
    "    for j in range(DIM):\n",
    "        divb += alpha*u0*(uD_dD[j][i]*BU[j]*uU[i]+uD[j]*BU_dD[j][i]*uU[i]+uD[j]*BU[j]*uU_dD[i][i])\\\n",
    "                -(uD[j]*BU[j]*uU[i])*(alpha_dD[i]*u0+alpha*u0_dD[i])\n",
    "divb /= sp.sqrt(4*M_PI) * alpha * u0 * alpha * u0\n",
    "\n",
    "bU_dD = ixp.declarerank2(\"bU_dD\",\"nosym\")\n",
    "for i in range(DIM):\n",
    "    for k in range(DIM):\n",
    "        bU_dD[i][k] += alpha*u0*BU_dD[i][k]-BU[i]*(alpha_dD[k]*u0+alpha*u0_dD[k])\n",
    "        for j in range(DIM):\n",
    "            divb += alpha*u0*(uD_dD[j][k]*BU[j]*uU[i]+uD[j]*BU_dD[j][k]*uU[i]+uD[j]*BU[j]*uU_dD[i][k])\\\n",
    "                    -(uD[j]*BU[j]*uU[i])*(alpha_dD[k]*u0+alpha*u0_dD[k])\n",
    "        bU_dD[i][k] /= sp.sqrt(4*M_PI) * alpha * u0 * alpha * u0\n"
   ]
  },
  {
   "cell_type": "markdown",
   "metadata": {},
   "source": [
    "Finally, we will return our attention to the time evolution equation,\n",
    "\\begin{equation}\n",
    "\\partial_t \\tilde{S}_i = - T^j_{{\\rm EM} i} \\partial_j (\\alpha \\sqrt{\\gamma}) - \\alpha \\sqrt{\\gamma} \\partial_j T^j_{{\\rm EM} i} + \\frac{1}{2} \\alpha \\sqrt{\\gamma} T^{\\mu \\nu}_{\\rm EM} \\partial_i g_{\\mu \\nu}.\n",
    "\\end{equation}\n",
    "We first construct the second term, to reduce the complication of dealing with mixed Greek and Latin indices."
   ]
  },
  {
   "cell_type": "code",
   "execution_count": null,
   "metadata": {},
   "outputs": [],
   "source": [
    "secondterm = ixp.zerorank1()\n",
    "for i in range(DIM):\n",
    "    for mu in range(DIM):\n",
    "        for nu in range(DIM):\n",
    "            secondterm[i] += alpha * sp.sqrt(gammaDET) * TEMUU[mu][nu] * g4DDdD[mu][nu][i] / 2\n",
    "\n",
    "Stilde_rhs = ixp.register_gridfunctions_for_single_rank1(\"EVOL\",\"Stilde_rhs\")\n",
    "for i in range(DIM):\n",
    "    Stilde_rhs[i] = secondterm[i]\n",
    "    for j in range(DIM):\n",
    "        Stilde_rhs[i] -= alpsqrtgamTEMUD_dD[j][i][j]"
   ]
  },
  {
   "cell_type": "markdown",
   "metadata": {},
   "source": [
    "We will also need to evolve the vector potential $A_i$. This evolution is given as eq. 17 in the [$\\giraffe$](https://arxiv.org/pdf/1704.00599.pdf) paper:\n",
    "$$\\partial_t A_i = \\epsilon_{ijk} v^j B^k - \\partial_i (\\alpha \\Phi - \\beta^j A_j),$$\n",
    "where $\\epsilon_{ijk} = [ijk] \\sqrt{\\gamma}$ is the antisymmetric Levi-Civita tensor and $\\gamma$ is the determinant of the three metric. The magnetic field $B^k$ is defined as usual (eq. 18):\n",
    "$$B^i = \\epsilon^{ijk} \\partial_j A_k.$$\n",
    "The scalar electric potential $\\Phi$ is also evolved by eq. 19:\n",
    "$$\\partial_t [\\sqrt{\\gamma} \\Phi] = -\\partial_j (\\alpha\\sqrt{\\gamma}A^j - \\beta^j [\\sqrt{\\gamma} \\Phi]) - \\xi \\alpha [\\sqrt{\\gamma} \\Phi],$$\n",
    "with $\\xi$ chosen as a damping factor."
   ]
  },
  {
   "cell_type": "code",
   "execution_count": null,
   "metadata": {},
   "outputs": [],
   "source": [
    "# Call sqrt(gamma)Phi Phitilde\n",
    "Phitilde = gri.register_gridfunctions(\"AUX\",\"Phitilde\")\n",
    "Phi = Phitilde / sp.sqrt(gammaDET)\n",
    "\n",
    "for i in range(DIM):\n",
    "    for j in range(DIM):\n",
    "        for k in range(DIM):\n",
    "            BU[i] = LeviCivitaUUU[i][j][k] *AD_dD[k][j]\n",
    "\n",
    "# We'll define a few extra gridfunctions to avoid complicated derivatives\n",
    "AevolParen = gri.register_gridfunctions(\"AUX\",\"AevolParen\")\n",
    "PevolParenU = ixp.register_gridfunctions_for_single_rank1(\"AUX\",\"PevolParenU\")\n",
    "\n",
    "AevolParen = alpha*Phi\n",
    "for j in range(DIM):\n",
    "    AevolParen     = -betaU[j] * AD[j]\n",
    "    PevolParenU[j] = -betaU[j] * Phitilde\n",
    "    for i in range(DIM):\n",
    "        PevolParenU[j] += alpha * sp.sqrt(gammaDET) * gammaUU[i][j] * AD[i]\n",
    "\n",
    "AevolParen_dD = ixp.register_gridfunctions_for_single_rank1(\"AUX\",\"AevolParen_dD\")\n",
    "PevolParenU_dD = ixp.register_gridfunctions_for_single_rank2(\"AUX\",\"PevolParenU_dD\",\"nosym\")\n"
   ]
  },
  {
   "cell_type": "markdown",
   "metadata": {},
   "source": [
    "Now to actually define set the evolution equations:\n",
    "\\begin{align}\n",
    "\\partial_t A_i &= \\epsilon_{ijk} v^j B^k - \\partial_i (\\alpha \\Phi - \\beta^j A_j) \\\\\n",
    "\\partial_t [\\sqrt{\\gamma} \\Phi] &= -\\partial_j (\\alpha\\sqrt{\\gamma}A^j - \\beta^j [\\sqrt{\\gamma} \\Phi]) - \\xi \\alpha [\\sqrt{\\gamma} \\Phi]. \\\\\n",
    "\\end{align}"
   ]
  },
  {
   "cell_type": "code",
   "execution_count": null,
   "metadata": {},
   "outputs": [],
   "source": [
    "AD_rhsD = ixp.register_gridfunctions_for_single_rank1(\"EVOL\",\"AD_rhsD\")\n",
    "Phitilde_rhs = gri.register_gridfunctions(\"EVOL\",\"Phitilde_rhs\")\n",
    "\n",
    "for i in range(DIM):\n",
    "    for j in range(DIM):\n",
    "        for k in range(DIM):\n",
    "            AD_rhsD[i] = LeviCivitaDDD[i][j][k]"
   ]
  }
 ],
 "metadata": {
  "kernelspec": {
   "display_name": "Python 3",
   "language": "python",
   "name": "python3"
  },
  "language_info": {
   "codemirror_mode": {
    "name": "ipython",
    "version": 3
   },
   "file_extension": ".py",
   "mimetype": "text/x-python",
   "name": "python",
   "nbconvert_exporter": "python",
   "pygments_lexer": "ipython3",
   "version": "3.6.6"
  }
 },
 "nbformat": 4,
 "nbformat_minor": 2
}
