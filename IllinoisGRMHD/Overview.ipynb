{
 "cells": [
  {
   "cell_type": "markdown",
   "metadata": {},
   "source": [
    "# IllinoisGRMHD: Basic equations and modules\n",
    "\n",
    "## Authors: Zach Etienne & Leo Werneck\n",
    "\n",
    "<font color='red'>**This module is currently under development**</font>\n",
    "\n",
    "## This module introduces the basic equations solved by IllinoisGRMHD and provides an introductions to the modules inside the code.\n",
    "\n",
    "## Introduction:\n",
    "\n",
    "[IllinoisGRMHD](http://arxiv.org/abs/1501.07276) solves the equations of General Relativistic MagnetoHydroDynamics (GRMHD) using a high-resolution shock capturing scheme. It is a rewrite of the Illinois Numerical Relativity (ILNR) group's GRMHD code, and generates results that agree to roundoff error with that original code. Its feature set coincides with the features of the ILNR group's recent code (ca. 2009--2014), which was used in their modeling of the following systems:\n",
    "\n",
    "1. Magnetized circumbinary disk accretion onto binary black holes\n",
    "2. Magnetized black hole--neutron star mergers\n",
    "3. Magnetized Bondi flow, Bondi-Hoyle-Littleton accretion\n",
    "4. White dwarf--neutron star mergers\n",
    "\n",
    "IllinoisGRMHD is particularly good at modeling GRMHD flows into black holes without the need for excision. Its [HARM-based conservative-to-primitive solver](https://arxiv.org/abs/astro-ph/0512420) has also been modified to check the physicality of conservative variables prior to primitive inversion, and move them into the physical range if they become unphysical.\n",
    "\n",
    "Currently IllinoisGRMHD consists of\n",
    "\n",
    "1. the Piecewise Parabolic Method (PPM) for reconstruction, \n",
    "2. the Harten, Lax, van Leer (HLL/HLLE) approximate Riemann solver, and\n",
    "3. a modified HARM Conservative-to-Primitive solver. \n",
    "\n",
    "IllinoisGRMHD evolves the vector potential $A_{\\mu}$ (on staggered grids) instead of the magnetic fields ($B^i$) irectly, to guarantee that the magnetic fields will remain divergenceless even at AMR boundaries. On uniform resolution rids, this vector potential formulation produces results equivalent to those generated using the standard, staggered flux-CT scheme. This scheme is based on that of [Del Zanna *et al.* (2003)](https://arxiv.org/abs/astro-ph/0210618).\n",
    "\n",
    "### Required and recommended citations:\n",
    "* **(Required)** Etienne, Z. B., Paschalidis, V., Haas R., Mösta P., and Shapiro, S. L. IllinoisGRMHD: an open-source, user-friendly GRMHD code for dynamical spacetimes. Class. Quantum Grav. 32 (2015) 175009. ([arxiv:1501.07276](http://arxiv.org/abs/1501.07276)).\n",
    "* **(Required)** Noble, S. C., Gammie, C. F., McKinney, J. C., Del Zanna, L. Primitive Variable Solvers for Conservative General Relativistic Magnetohydrodynamics. Astrophysical Journal, 641, 626 (2006) ([astro-ph/0512420](https://arxiv.org/abs/astro-ph/0512420)).\n",
    "* **(Recommended)** Del Zanna, L., Bucciantini N., Londrillo, P. An efficient shock-capturing central-type scheme for multidimensional relativistic flows - II. Magnetohydrodynamics. A&A 400 (2) 397-413 (2003). DOI: 10.1051/0004-6361:20021641 ([astro-ph/0210618](https://arxiv.org/abs/astro-ph/0210618))."
   ]
  },
  {
   "cell_type": "code",
   "execution_count": null,
   "metadata": {},
   "outputs": [],
   "source": []
  }
 ],
 "metadata": {
  "kernelspec": {
   "display_name": "Python 2",
   "language": "python",
   "name": "python2"
  },
  "language_info": {
   "codemirror_mode": {
    "name": "ipython",
    "version": 2
   },
   "file_extension": ".py",
   "mimetype": "text/x-python",
   "name": "python",
   "nbconvert_exporter": "python",
   "pygments_lexer": "ipython2",
   "version": "2.7.13"
  }
 },
 "nbformat": 4,
 "nbformat_minor": 2
}
