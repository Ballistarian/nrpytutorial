{
 "cells": [
  {
   "cell_type": "markdown",
   "metadata": {},
   "source": [
    "# Tutorial-IllinoisGRMHD: reconstruct_set_of_prims_PPM.C\n",
    "\n",
    "## Authors: Zach Etienne & Leo Werneck\n",
    "\n",
    "<font color='red'>**This module is currently under development**</font>\n",
    "\n",
    "## In this tutorial module we explain the piecewise parabolic method (PPM) used to reconstruct the primitive variables within IllinoisGRMHD\n",
    "\n",
    "### Required and recommended citations:\n",
    "\n",
    "* **(Required)** Etienne, Z. B., Paschalidis, V., Haas R., Mösta P., and Shapiro, S. L. IllinoisGRMHD: an open-source, user-friendly GRMHD code for dynamical spacetimes. Class. Quantum Grav. 32 (2015) 175009. ([arxiv:1501.07276](http://arxiv.org/abs/1501.07276)).\n",
    "* **(Required)** Noble, S. C., Gammie, C. F., McKinney, J. C., Del Zanna, L. Primitive Variable Solvers for Conservative General Relativistic Magnetohydrodynamics. Astrophysical Journal, 641, 626 (2006) ([astro-ph/0512420](https://arxiv.org/abs/astro-ph/0512420)).\n",
    "* **(Recommended)** Del Zanna, L., Bucciantini N., Londrillo, P. An efficient shock-capturing central-type scheme for multidimensional relativistic flows - II. Magnetohydrodynamics. A&A 400 (2) 397-413 (2003). DOI: 10.1051/0004-6361:20021641 ([astro-ph/0210618](https://arxiv.org/abs/astro-ph/0210618))."
   ]
  },
  {
   "cell_type": "markdown",
   "metadata": {},
   "source": [
    "<a id='toc'></a>\n",
    "\n",
    "# Table of Contents\n",
    "$$\\label{toc}$$\n",
    "\n",
    "This module is organized as follows\n",
    "\n",
    "1. [Step 1](#introduction): **Introduction**\n",
    "    1. [Step 1.a](#theoretical_introduction): *Theoretical introduction*\n",
    "    1. [Step 1.b](#loop_defines_reconstruction): *The `loop_defines_reconstruction.h` header file*\n",
    "    1. [Step 1.c](#preamble_reconstruct_set_of_prims_ppm): *The preamble to the `reconstruct_set_of_prims_PPM.C` code file*\n",
    "1. [Step 2](#reconstruct_set_of_prims_ppm): **The `reconstruct_set_of_prims_PPM()` function**\n",
    "1. [Step 3](#slope_limit): **The `slope_limit()` function**\n",
    "1. [Step 4](#steepen_rho): **The `steepen_rho()` function**\n",
    "1. [Step 5](#monotonize): **The `monotonize()` function**\n",
    "1. [Step 6](#compute_p_cold__gamma_cold): **The `compute_P_cold__gamma_cold()` function**\n",
    "1. [Step 7](#ftilde_gf_compute): **The `ftilde_gf_compute()` function**\n",
    "1. [Step 8](#ftilde_compute): **The `ftilde_compute()` function**\n",
    "1. [Step 9](#code_validation): **Code validation**\n",
    "1. [Step 10](#latex_pdf_output): **Output this module to $\\LaTeX$-formatted PDF file**"
   ]
  },
  {
   "cell_type": "markdown",
   "metadata": {},
   "source": [
    "<a id='introduction'></a>\n",
    "\n",
    "# Step 1: Introduction \\[Back to [top](#toc)\\]\n",
    "$$\\label{introduction}$$\n",
    "\n",
    "In this tutorial module we will go through the implementation of the piecewise parabolic method (PPM), introduced by [Colella & Woodward (1984)](https://crd.lbl.gov/assets/pubs_presos/AMCS/ANAG/A141984.pdf) (which shall henceforth be our main reference), used by `IllinoisGRMHD`. \n",
    "\n",
    "<a id='theoretical_introduction'></a>\n",
    "\n",
    "## Step 1.a: Theoretical introduction \\[Back to [top](#toc)\\]\n",
    "$$\\label{theoretical_introduction}$$\n",
    "\n",
    "<a id='loop_defines_reconstruction'></a>\n",
    "\n",
    "## Step 1.b: The `loop_defines_reconstruction.h` header file \\[Back to [top](#toc)\\]\n",
    "$$\\label{loop_defines_reconstruction}$$\n",
    "\n",
    "This header file defines useful quantities to be used throughout the `reconstruct_set_of_prims_PPM.C` code. They are:\n",
    "\n",
    "1. LOOP_DEFINE $\\rightarrow$ sets up a loop over the $x$, $y$, and $z$ directions, including the ghostzones\n",
    "1. SET_INDEX_ARRAYS $\\rightarrow$ for a given direction, $x^{j}$, and coordinate range, $i\\in\\left[i_\\min,i_\\max\\right]$, finds the appropriate array indices\n",
    "1. SET_INDEX_ARRAYS_3DBLOCK $\\rightarrow$ finds the appropriate array indices in all directions of a given range"
   ]
  },
  {
   "cell_type": "code",
   "execution_count": 1,
   "metadata": {},
   "outputs": [
    {
     "name": "stdout",
     "output_type": "stream",
     "text": [
      "Overwriting loop_defines_reconstruction.h\n"
     ]
    }
   ],
   "source": [
    "%%writefile loop_defines_reconstruction.h\n",
    "#ifndef LOOP_DEFINES_RECONSTRUCTION_H_\n",
    "#define LOOP_DEFINES_RECONSTRUCTION_H_\n",
    "\n",
    "#define LOOP_DEFINE(gz_shift_lo,gz_shift_hi,  ext,flux_dirn,  ijkgz_lo_hi,gz_lo,gz_hi) \\\n",
    "  for(int rr=1;rr<=3;rr++) {                                            \\\n",
    "    ijkgz_lo_hi[rr][0]=          gz_lo[rr];                             \\\n",
    "    ijkgz_lo_hi[rr][1]=ext[rr-1]-gz_hi[rr];                             \\\n",
    "  }                                                                     \\\n",
    "  ijkgz_lo_hi[flux_dirn][0] += gz_shift_lo;                             \\\n",
    "  ijkgz_lo_hi[flux_dirn][1] -= gz_shift_hi;                             \\\n",
    "  /* The following line is valid C99 */                                 \\\n",
    "  _Pragma(\"omp parallel for private(U,dU,slope_lim_dU,Ur,Ul)\")          \\\n",
    "  for(int k=ijkgz_lo_hi[3][0];k<ijkgz_lo_hi[3][1];k++)                  \\\n",
    "    for(int j=ijkgz_lo_hi[2][0];j<ijkgz_lo_hi[2][1];j++)                \\\n",
    "      for(int i=ijkgz_lo_hi[1][0];i<ijkgz_lo_hi[1][1];i++)\n",
    "\n",
    "// This define only sets indices. \n",
    "// FIXME: benchmark with and without the if() statement.\n",
    "// FIXME: try without index_arr being defined in all directions.\n",
    "#define SET_INDEX_ARRAYS(IMIN,IMAX,flux_dirn)                           \\\n",
    "  int max_shift=(MAXNUMINDICES/2);                                      \\\n",
    "  /* DEBUGGING ONLY:  if(IMIN<-max_shift || IMAX>max_shift) CCTK_VError(VERR_DEF_PARAMS,\"FIX MAXNUMINDICES!\"); */ \\\n",
    "  int index_arr[4][MAXNUMINDICES];                                      \\\n",
    "  for(int idx=IMIN;idx<=IMAX;idx++) {                                   \\\n",
    "    index_arr[flux_dirn][idx+max_shift]=                                \\\n",
    "      CCTK_GFINDEX3D(cctkGH,                                            \\\n",
    "                     i+idx*kronecker_delta[flux_dirn][0],               \\\n",
    "                     j+idx*kronecker_delta[flux_dirn][1],               \\\n",
    "                     k+idx*kronecker_delta[flux_dirn][2]);              \\\n",
    "  }\n",
    "\n",
    "#define SET_INDEX_ARRAYS_3DBLOCK(IJKLOHI)                               \\\n",
    "  int max_shift=(MAXNUMINDICES/2);                                      \\\n",
    "  int index_arr_3DB[MAXNUMINDICES][MAXNUMINDICES][MAXNUMINDICES];       \\\n",
    "  for(int idx_k=IJKLOHI[4];idx_k<=IJKLOHI[5];idx_k++) for(int idx_j=IJKLOHI[2];idx_j<=IJKLOHI[3];idx_j++) for(int idx_i=IJKLOHI[0];idx_i<=IJKLOHI[1];idx_i++) { \\\n",
    "        index_arr_3DB[idx_k+max_shift][idx_j+max_shift][idx_i+max_shift]=CCTK_GFINDEX3D(cctkGH,i+idx_i,j+idx_j,k+idx_k); \\\n",
    "      }\n",
    "\n",
    "#endif /* LOOP_DEFINES_RECONSTRUCTION_H_ */\n",
    "\n"
   ]
  },
  {
   "cell_type": "markdown",
   "metadata": {},
   "source": [
    "<a id='preamble_reconstruct_set_of_prims_ppm'></a>\n",
    "\n",
    "## Step 1.c: The preamble to the `reconstruct_set_of_prims_PPM.C` code file \\[Back to [top](#toc)\\]\n",
    "$$\\label{preamble_reconstruct_set_of_prims_ppm}$$\n",
    "\n",
    "We then initialize the `reconstruct_set_of_prims_PPM.C` code file with a basic preamble, some simple definitions, and function headers. Notice that these functions are defined in the other Steps of this tutorial notebook. See the [table of contents](#toc) above for more information."
   ]
  },
  {
   "cell_type": "code",
   "execution_count": 2,
   "metadata": {},
   "outputs": [
    {
     "name": "stdout",
     "output_type": "stream",
     "text": [
      "Overwriting reconstruct_set_of_prims_PPM.C\n"
     ]
    }
   ],
   "source": [
    "%%writefile reconstruct_set_of_prims_PPM.C\n",
    "/*****************************************\n",
    " * PPM Reconstruction Interface.\n",
    " * Zachariah B. Etienne (2013)\n",
    " *\n",
    " * This version of PPM implements the standard \n",
    " * Colella & Woodward PPM, though modified as in GRHydro\n",
    " * to have 3 ghostzones instead of 4. \n",
    " *****************************************/\n",
    "\n",
    "#define MINUS2 0\n",
    "#define MINUS1 1\n",
    "#define PLUS0  2\n",
    "#define PLUS1  3\n",
    "#define PLUS2  4\n",
    "#define MAXNUMINDICES 5\n",
    "//      ^^^^^^^^^^^^^ Be _sure_ to define MAXNUMINDICES appropriately!\n",
    "\n",
    "// You'll find the #define's for LOOP_DEFINE and SET_INDEX_ARRAYS inside:\n",
    "#include \"loop_defines_reconstruction.h\"\n",
    "\n",
    "static inline CCTK_REAL ftilde_compute(const int flux_dirn,CCTK_REAL U[MAXNUMVARS][MAXNUMINDICES]);\n",
    "static inline CCTK_REAL slope_limit(CCTK_REAL dU,CCTK_REAL dUp1);\n",
    "static inline void steepen_rho(CCTK_REAL U[MAXNUMVARS][MAXNUMINDICES],CCTK_REAL slope_lim_dU[MAXNUMVARS][MAXNUMINDICES],\n",
    "                               CCTK_REAL gamma_th,CCTK_REAL P_cold,CCTK_REAL gamma_cold,\n",
    "                               CCTK_REAL *rho_br_ppm,CCTK_REAL *rho_bl_ppm);\n",
    "static inline void compute_P_cold__gamma_cold(CCTK_REAL rho_b,eos_struct &eos,   CCTK_REAL &P_cold,CCTK_REAL &gamma_cold);\n",
    "static inline void monotonize(CCTK_REAL U,CCTK_REAL &Ur,CCTK_REAL &Ul);"
   ]
  },
  {
   "cell_type": "markdown",
   "metadata": {},
   "source": [
    "<a id='reconstruct_set_of_prims_ppm'></a>\n",
    "\n",
    "# Step 2: The `reconstruct_set_of_prims_PPM()` function \\[Back to [top](#toc)\\]\n",
    "$$\\label{reconstruct_set_of_prims_ppm}$$\n",
    "\n",
    "The `reconstruct_set_of_prims_PPM()` function receives as input the direction in which to perform the reconstruction ($\\rm flux\\_dirn$), the number of primitives which are to be reconstructed ($\\rm num\\_prims\\_to\\_reconstruct$), which primitives are to be reconstructed ($\\rm which\\_prims\\_to\\_reconstruct$), the equation of state ($\\rm eos$), and the array which stores the primitives ($\\rm in\\_prims$). The reconstructed primitive values are then stored in the output arrays $\\rm out\\_prims\\_r$ and $\\rm out\\_prims\\_l$. **Note**: you can find more information on the ETK specific parameters (such as ${\\rm cctkHD}$ and $cctk\\_lsh$) by looking at the [official Einstein Toolkit documentation](http://cactuscode.org/documentation/referencemanual/ReferenceManualch2.html).\n",
    "\n",
    "Notice that we will start a loop that runs from 0 to $\\rm num\\_prims\\_to\\_reconstruct$, meaning that the discussion here will apply to *each* of the primitives that we wish to reconstruct."
   ]
  },
  {
   "cell_type": "code",
   "execution_count": 3,
   "metadata": {},
   "outputs": [
    {
     "name": "stdout",
     "output_type": "stream",
     "text": [
      "Appending to reconstruct_set_of_prims_PPM.C\n"
     ]
    }
   ],
   "source": [
    "%%writefile -a reconstruct_set_of_prims_PPM.C\n",
    "\n",
    "\n",
    "static void reconstruct_set_of_prims_PPM(const cGH *cctkGH,const int *cctk_lsh,const int flux_dirn,const int num_prims_to_reconstruct,const int *which_prims_to_reconstruct,eos_struct &eos,\n",
    "                                         gf_and_gz_struct *in_prims,gf_and_gz_struct *out_prims_r,gf_and_gz_struct *out_prims_l,CCTK_REAL *ftilde_gf, CCTK_REAL *temporary) {\n",
    "\n",
    "  CCTK_REAL U[MAXNUMVARS][MAXNUMINDICES],dU[MAXNUMVARS][MAXNUMINDICES],slope_lim_dU[MAXNUMVARS][MAXNUMINDICES],\n",
    "    Ur[MAXNUMVARS][MAXNUMINDICES],Ul[MAXNUMVARS][MAXNUMINDICES];\n",
    "  int ijkgz_lo_hi[4][2];\n",
    "\n",
    "  for(int ww=0;ww<num_prims_to_reconstruct;ww++) {\n",
    "    int whichvar=which_prims_to_reconstruct[ww];\n",
    "\n",
    "    if(in_prims[whichvar].gz_lo[flux_dirn]!=0 || in_prims[whichvar].gz_hi[flux_dirn]!=0) {\n",
    "      CCTK_VError(VERR_DEF_PARAMS,\"TOO MANY GZ'S! WHICHVAR=%d: %d %d %d : %d %d %d DIRECTION %d\",whichvar,\n",
    "\t\t  in_prims[whichvar].gz_lo[1],in_prims[whichvar].gz_lo[2],in_prims[whichvar].gz_lo[3],\n",
    "\t\t  in_prims[whichvar].gz_hi[1],in_prims[whichvar].gz_hi[2],in_prims[whichvar].gz_hi[3],flux_dirn);\n",
    "    }"
   ]
  },
  {
   "cell_type": "markdown",
   "metadata": {},
   "source": [
    "<a id='reading_the_input_gf'></a>\n",
    "\n",
    "## Step 2.a: Reading the input gridfunction \\[Back to [top](#toc)\\]\n",
    "$$\\label{reading_the_input_gf}$$\n",
    "\n",
    "We start by reading in the input primitive gridfunction and storing them to a variable $U$. Notice that for a given direction and a given point $i$, we will know: $\\left\\{U_{i-2},U_{i-1},U_{i},U_{i+1},U_{i+2}\\right\\}$."
   ]
  },
  {
   "cell_type": "code",
   "execution_count": 4,
   "metadata": {},
   "outputs": [
    {
     "name": "stdout",
     "output_type": "stream",
     "text": [
      "Appending to reconstruct_set_of_prims_PPM.C\n"
     ]
    }
   ],
   "source": [
    "%%writefile -a reconstruct_set_of_prims_PPM.C\n",
    "\n",
    "\n",
    "    // *** LOOP 1: Interpolate to Ur and Ul, which are face values ***\n",
    "    //  You will find that Ur depends on U at MINUS1,PLUS0, PLUS1,PLUS2, and\n",
    "    //                     Ul depends on U at MINUS2,MINUS1,PLUS0,PLUS1.\n",
    "    //  However, we define the below loop from MINUS2 to PLUS2. Why not split\n",
    "    //     this up and get additional points? The reason is that later on,\n",
    "    //     Ur and Ul depend on ftilde, which is defined from MINUS2 to PLUS2,\n",
    "    //     so we would lose those points anyway.\n",
    "    LOOP_DEFINE(2,2,  cctk_lsh,flux_dirn,  ijkgz_lo_hi,in_prims[whichvar].gz_lo,in_prims[whichvar].gz_hi) {\n",
    "      SET_INDEX_ARRAYS(-2,2,flux_dirn);\n",
    "      /* *** LOOP 1a: READ INPUT *** */\n",
    "      // Read in a primitive at all gridpoints between m = MINUS2 & PLUS2, where m's direction is given by flux_dirn. Store to U. \n",
    "      for(int ii=MINUS2;ii<=PLUS2;ii++) U[whichvar][ii] = in_prims[whichvar].gf[index_arr[flux_dirn][ii]];"
   ]
  },
  {
   "cell_type": "markdown",
   "metadata": {},
   "source": [
    "<a id='computation_of_du'></a>\n",
    "\n",
    "## Step 2.b: Evaluation of $dU_{i}$ \\[Back to [top](#toc)\\]\n",
    "$$\\label{computation_of_du}$$\n",
    "\n",
    "We will need $dU_{i} \\equiv U_{i} - U_{i-1}$ in order to compute $U_{r}$ and $U_{l}$. We will then compute (notice the notation change $i\\to i+0$ so that it is easier to understand the C code that follows):\n",
    "\n",
    "\\begin{align}\n",
    "dU_{i-1} &= U_{i-1} - U_{i-2}\\ ,\\\\\n",
    "dU_{i+0} &= U_{i+0} - U_{i-1}\\ ,\\\\\n",
    "dU_{i+1} &= U_{i+1} - U_{i+0}  \\ ,\\\\\n",
    "dU_{i+2} &= U_{i+2} - U_{i+1}\\ .\n",
    "\\end{align}\n",
    "\n",
    "After evaluating the differences $dU$, we compute the slope-limited $dU$, $dU^{\\rm slope-lim}$, using the [`slope_limit()` function](#slope_limit)."
   ]
  },
  {
   "cell_type": "code",
   "execution_count": 5,
   "metadata": {},
   "outputs": [
    {
     "name": "stdout",
     "output_type": "stream",
     "text": [
      "Appending to reconstruct_set_of_prims_PPM.C\n"
     ]
    }
   ],
   "source": [
    "%%writefile -a reconstruct_set_of_prims_PPM.C\n",
    "\n",
    "   \n",
    "      /* *** LOOP 1b: DO COMPUTATION *** */\n",
    "      /* First, compute simple dU = U(i) - U(i-1), where direction of i \n",
    "       *         is given by flux_dirn, and U is a primitive variable: \n",
    "       *         {rho_b,P,vx,vy,vz,Bx,By,Bz}. */\n",
    "      // Note that for Ur and Ul at i, we must compute dU(i-1),dU(i),dU(i+1), \n",
    "      //         and dU(i+2)\n",
    "      dU[whichvar][MINUS1] = U[whichvar][MINUS1]- U[whichvar][MINUS2];  \n",
    "      dU[whichvar][PLUS0]  = U[whichvar][PLUS0] - U[whichvar][MINUS1]; \n",
    "      dU[whichvar][PLUS1]  = U[whichvar][PLUS1] - U[whichvar][PLUS0];  \n",
    "      dU[whichvar][PLUS2]  = U[whichvar][PLUS2] - U[whichvar][PLUS1];  \n",
    "\n",
    "      // Then, compute slope-limited dU, using MC slope limiter:\n",
    "      slope_lim_dU[whichvar][MINUS1]=slope_limit(dU[whichvar][MINUS1],dU[whichvar][PLUS0]);\n",
    "      slope_lim_dU[whichvar][PLUS0] =slope_limit(dU[whichvar][PLUS0], dU[whichvar][PLUS1]);\n",
    "      slope_lim_dU[whichvar][PLUS1] =slope_limit(dU[whichvar][PLUS1], dU[whichvar][PLUS2]);"
   ]
  },
  {
   "cell_type": "markdown",
   "metadata": {},
   "source": [
    "<a id='computation_of_ur_and_ul'></a>\n",
    "\n",
    "## Step 2.c: Computing $U_{r}$ and $U_{l}$ \\[Back to [top](#toc)\\]\n",
    "$$\\label{computation_of_ur_and_ul}$$\n",
    "\n",
    "We now compute $U_{r}$ and $U_{l}$. Keep in mind that $U_{i,r} = U_{i+1/2}$, while $U_{i,l} = U_{i-1/2}$. The implemented equation follows eq. A1 in [Duez *et al.* (2005)](http://arxiv.org/pdf/astro-ph/0503420.pdf), but with the standardd PPM coefficient of $\\frac{1}{6}$ (i.e. eq. A1 with $\\frac{1}{8}\\to\\frac{1}{6}$). Keep in mind that we simplify the equation slightly before implementing it:\n",
    "\n",
    "\\begin{align}\n",
    "U_{i+0,r} &= U_{i+0} + \\frac{1}{2}\\left(U_{i+1} - U_{i+0}\\right) + \\frac{1}{6}\\left(dU^{\\rm slope-lim}_{i+0} - dU^{\\rm slope-lim}_{i+1}\\right) \\Rightarrow \\boxed{U_{i+0,r} = \\frac{1}{2}\\left(U_{i+1} + U_{i+0}\\right) + \\frac{1}{6}\\left(dU^{\\rm slope-lim}_{i+0} - dU^{\\rm slope-lim}_{i+1}\\right)}\\ ,\\\\\n",
    "U_{i+0,l} &= U_{i-1} + \\frac{1}{2}\\left(U_{i+0} - U_{i-1}\\right) + \\frac{1}{6}\\left(dU^{\\rm slope-lim}_{i-1} - dU^{\\rm slope-lim}_{i+0}\\right) \\Rightarrow \\boxed{U_{i+0,l} = \\frac{1}{2}\\left(U_{i+0} + U_{i-1}\\right) + \\frac{1}{6}\\left(dU^{\\rm slope-lim}_{i-1} - dU^{\\rm slope-lim}_{i+0}\\right)}\\ .\n",
    "\\end{align}\n",
    "\n",
    "After this step, the values of $U_{i+0,r,l}$ are stored as outputs."
   ]
  },
  {
   "cell_type": "code",
   "execution_count": 6,
   "metadata": {},
   "outputs": [
    {
     "name": "stdout",
     "output_type": "stream",
     "text": [
      "Appending to reconstruct_set_of_prims_PPM.C\n"
     ]
    }
   ],
   "source": [
    "%%writefile -a reconstruct_set_of_prims_PPM.C\n",
    "\n",
    "   \n",
    "      // Finally, compute face values Ur and Ul based on the PPM prescription \n",
    "      //   (Eq. A1 in http://arxiv.org/pdf/astro-ph/0503420.pdf, but using standard 1/6=(1.0/6.0) coefficient)\n",
    "      // Ur[PLUS0] represents U(i+1/2)\n",
    "      // We applied a simplification to the following line: Ur=U+0.5*(U(i+1)-U) + ... = 0.5*(U(i+1)+U) + ...\n",
    "      Ur[whichvar][PLUS0] = 0.5*(U[whichvar][PLUS1] + U[whichvar][PLUS0] ) + (1.0/6.0)*(slope_lim_dU[whichvar][PLUS0]  - slope_lim_dU[whichvar][PLUS1]);\n",
    "      // Ul[PLUS0] represents U(i-1/2)\n",
    "      // We applied a simplification to the following line: Ul=U(i-1)+0.5*(U-U(i-1)) + ... = 0.5*(U+U(i-1)) + ...\n",
    "      Ul[whichvar][PLUS0] = 0.5*(U[whichvar][PLUS0] + U[whichvar][MINUS1]) + (1.0/6.0)*(slope_lim_dU[whichvar][MINUS1] - slope_lim_dU[whichvar][PLUS0]);\n",
    "\n",
    "      /* *** LOOP 1c: WRITE OUTPUT *** */\n",
    "      // Store right face values to {rho_br,Pr,vxr,vyr,vzr,Bxr,Byr,Bzr},\n",
    "      //    and left face values to {rho_bl,Pl,vxl,vyl,vzl,Bxl,Byl,Bzl}\n",
    "      out_prims_r[whichvar].gf[index_arr[flux_dirn][PLUS0]] = Ur[whichvar][PLUS0];\n",
    "      out_prims_l[whichvar].gf[index_arr[flux_dirn][PLUS0]] = Ul[whichvar][PLUS0];      \n",
    "    }"
   ]
  },
  {
   "cell_type": "markdown",
   "metadata": {},
   "source": [
    "<a id='steepening_rhob'></a>\n",
    "\n",
    "## Step 2.d: Steepening $\\rho_{b}$ \\[Back to [top](#toc)\\]\n",
    "$$\\label{steepening_rhob}$$"
   ]
  },
  {
   "cell_type": "code",
   "execution_count": 7,
   "metadata": {},
   "outputs": [
    {
     "name": "stdout",
     "output_type": "stream",
     "text": [
      "Appending to reconstruct_set_of_prims_PPM.C\n"
     ]
    }
   ],
   "source": [
    "%%writefile -a reconstruct_set_of_prims_PPM.C\n",
    "\n",
    "   \n",
    "    // *** LOOP 2: STEEPEN RHOB ***\n",
    "    // Note that this loop applies ONLY to RHOB.\n",
    "    if(whichvar==RHOB) {\n",
    "      LOOP_DEFINE(2,2,  cctk_lsh,flux_dirn,  ijkgz_lo_hi,in_prims[whichvar].gz_lo,in_prims[whichvar].gz_hi) {\n",
    "\tSET_INDEX_ARRAYS(-2,2,flux_dirn);\n",
    "\t// Set rho and P separately, since within this loop,\n",
    "\t//  1) steepen_rho() depends on RHOB(MINUS2,MINUS1,PLUS0,PLUS1,PLUS2)\n",
    "\n",
    "\t// Read in all primitives between MINUS2 & PLUS2. Store to U.\n",
    "\tfor(int ii=MINUS2;ii<=PLUS2;ii++) U[RHOB][ii]     = in_prims[RHOB    ].gf[index_arr[flux_dirn][ii]];\n",
    "\tfor(int ii=MINUS1;ii<=PLUS1;ii++) U[PRESSURE][ii] = in_prims[PRESSURE].gf[index_arr[flux_dirn][ii]];\n",
    "\tUr[RHOB][PLUS0] = out_prims_r[RHOB].gf[index_arr[flux_dirn][PLUS0]];\n",
    "\tUl[RHOB][PLUS0] = out_prims_l[RHOB].gf[index_arr[flux_dirn][PLUS0]];\n",
    "\n",
    "\tdU[whichvar][MINUS1] = U[whichvar][MINUS1]- U[whichvar][MINUS2];  \n",
    "\tdU[whichvar][PLUS0]  = U[whichvar][PLUS0] - U[whichvar][MINUS1]; \n",
    "\tdU[whichvar][PLUS1]  = U[whichvar][PLUS1] - U[whichvar][PLUS0];  \n",
    "\tdU[whichvar][PLUS2]  = U[whichvar][PLUS2] - U[whichvar][PLUS1];  \n",
    "\n",
    "\tslope_lim_dU[whichvar][MINUS1]=slope_limit(dU[whichvar][MINUS1],dU[whichvar][PLUS0]);\n",
    "\t//slope_lim_dU[whichvar][PLUS0] =slope_limit(dU[whichvar][PLUS0], dU[whichvar][PLUS1]);\n",
    "\tslope_lim_dU[whichvar][PLUS1] =slope_limit(dU[whichvar][PLUS1], dU[whichvar][PLUS2]);\n",
    "\n",
    "\t// Steepen rho\n",
    "\t// DEPENDENCIES: RHOB face values, RHOB(MINUS2,MINUS1,PLUS0,PLUS1,PLUS2), P(MINUS1,PLUS0,PLUS1), and slope_lim_dU[RHOB](MINUS1,PLUS1)\n",
    "\tCCTK_REAL P_cold=0,gamma_cold=0;\n",
    "\tcompute_P_cold__gamma_cold(U[RHOB][PLUS0],eos,  P_cold,gamma_cold);\n",
    "\tsteepen_rho(U,slope_lim_dU,   eos.gamma_th,P_cold,gamma_cold,  Ur[RHOB],Ul[RHOB]);\n",
    "\n",
    "\t// Output rho\n",
    "\tout_prims_r[RHOB].gf[index_arr[flux_dirn][PLUS0]] = Ur[RHOB][PLUS0];\n",
    "\tout_prims_l[RHOB].gf[index_arr[flux_dirn][PLUS0]] = Ul[RHOB][PLUS0];\n",
    "      }\n",
    "    }\n",
    "  }\n",
    "\n",
    "  /* ORIGINAL PPM REQUIRES AT LEAST 4 GHOSTZONES, which can add\n",
    "   *  significantly to the size of AMR ref. boundaries.\n",
    "   *  To reduce to 3 ghostzones, we comment the following lines out:\n",
    "   * if ((P[indexp1] - P[indexm1]) <= 0.0) {\n",
    "   * f = MAX(ftilde,ftilde_p1);\n",
    "   * } else {\n",
    "   * f = MAX(ftilde,ftilde_m1);\n",
    "   * }\n",
    "   */\n",
    "\n",
    "  // *** LOOP 3: FLATTEN BASED ON FTILDE AND MONOTONIZE ***\n",
    "  for(int ww=0;ww<num_prims_to_reconstruct;ww++) {\n",
    "    int whichvar=which_prims_to_reconstruct[ww];\n",
    "    // ftilde() depends on P(MINUS2,MINUS1,PLUS1,PLUS2)\n",
    "    LOOP_DEFINE(2,2,  cctk_lsh,flux_dirn,  ijkgz_lo_hi,in_prims[whichvar].gz_lo,in_prims[whichvar].gz_hi) {\n",
    "      SET_INDEX_ARRAYS(0,0,flux_dirn);\n",
    "      \n",
    "      U[whichvar][PLUS0]  = in_prims[whichvar].gf[index_arr[flux_dirn][PLUS0]];\n",
    "      Ur[whichvar][PLUS0] = out_prims_r[whichvar].gf[index_arr[flux_dirn][PLUS0]];\n",
    "      Ul[whichvar][PLUS0] = out_prims_l[whichvar].gf[index_arr[flux_dirn][PLUS0]];\n",
    "\n",
    "      // ftilde_gf was computed in the function compute_ftilde_gf(), called before this routine\n",
    "      CCTK_REAL ftilde = ftilde_gf[index_arr[flux_dirn][PLUS0]];\n",
    "      // ...and then flatten (local operation)\n",
    "      Ur[whichvar][PLUS0]   = U[whichvar][PLUS0]*ftilde + Ur[whichvar][PLUS0]*(1.0-ftilde);\n",
    "      Ul[whichvar][PLUS0]   = U[whichvar][PLUS0]*ftilde + Ul[whichvar][PLUS0]*(1.0-ftilde);\n",
    "\n",
    "      // Then monotonize\n",
    "      monotonize(U[whichvar][PLUS0],Ur[whichvar][PLUS0],Ul[whichvar][PLUS0]);\n",
    "\n",
    "      out_prims_r[whichvar].gf[index_arr[flux_dirn][PLUS0]] = Ur[whichvar][PLUS0];\n",
    "      out_prims_l[whichvar].gf[index_arr[flux_dirn][PLUS0]] = Ul[whichvar][PLUS0];\n",
    "    }\n",
    "    // Ur depends on ftilde, which depends on points of U between MINUS2 and PLUS2\n",
    "    out_prims_r[whichvar].gz_lo[flux_dirn]+=2; \n",
    "    out_prims_r[whichvar].gz_hi[flux_dirn]+=2;\n",
    "    // Ul depends on ftilde, which depends on points of U between MINUS2 and PLUS2\n",
    "    out_prims_l[whichvar].gz_lo[flux_dirn]+=2;\n",
    "    out_prims_l[whichvar].gz_hi[flux_dirn]+=2;\n",
    "  }\n",
    "\n",
    "  // *** LOOP 4: SHIFT Ur AND Ul ***\n",
    "  /* Currently face values are set so that\n",
    "   *      a) Ur(i) represents U(i+1/2), and\n",
    "   *      b) Ul(i) represents U(i-1/2)\n",
    "   *    Here, we shift so that the indices are consistent:\n",
    "   *      a) U(i-1/2+epsilon) = oldUl(i)   = newUr(i)\n",
    "   *      b) U(i-1/2-epsilon) = oldUr(i-1) = newUl(i)\n",
    "   *    Note that this step is not strictly necessary if you keep\n",
    "   *      track of indices when computing the flux. */\n",
    "  for(int ww=0;ww<num_prims_to_reconstruct;ww++) {\n",
    "    int whichvar=which_prims_to_reconstruct[ww];\n",
    "    LOOP_DEFINE(3,2,  cctk_lsh,flux_dirn,  ijkgz_lo_hi,in_prims[whichvar].gz_lo,in_prims[whichvar].gz_hi) {\n",
    "      SET_INDEX_ARRAYS(-1,0,flux_dirn);\n",
    "      temporary[index_arr[flux_dirn][PLUS0]] = out_prims_r[whichvar].gf[index_arr[flux_dirn][MINUS1]];\n",
    "    }\n",
    "\n",
    "    LOOP_DEFINE(3,2,  cctk_lsh,flux_dirn,  ijkgz_lo_hi,in_prims[whichvar].gz_lo,in_prims[whichvar].gz_hi) {\n",
    "      SET_INDEX_ARRAYS(0,0,flux_dirn);\n",
    "      // Then shift so that Ur represents the gridpoint at i-1/2+epsilon, \n",
    "      //                and Ul represents the gridpoint at i-1/2-epsilon.\n",
    "      // Ur(i-1/2) = Ul(i-1/2)     = U(i-1/2+epsilon)\n",
    "      // Ul(i-1/2) = Ur(i+1/2 - 1) = U(i-1/2-epsilon)\n",
    "      out_prims_r[whichvar].gf[index_arr[flux_dirn][PLUS0]] = out_prims_l[whichvar].gf[index_arr[flux_dirn][PLUS0]];\n",
    "      out_prims_l[whichvar].gf[index_arr[flux_dirn][PLUS0]] = temporary[index_arr[flux_dirn][PLUS0]];\n",
    "    }\n",
    "    // Ul was just shifted, so we lost another ghostzone.\n",
    "    out_prims_l[whichvar].gz_lo[flux_dirn]+=1;\n",
    "    out_prims_l[whichvar].gz_hi[flux_dirn]+=0;\n",
    "    // As for Ur, we didn't need to get rid of another ghostzone, \n",
    "    //    but we did ... seems wasteful!\n",
    "    out_prims_r[whichvar].gz_lo[flux_dirn]+=1;\n",
    "    out_prims_r[whichvar].gz_hi[flux_dirn]+=0;\n",
    "\n",
    "  }\n",
    "}"
   ]
  },
  {
   "cell_type": "markdown",
   "metadata": {},
   "source": [
    "<a id='slope_limit'></a>\n",
    "\n",
    "# Step 3: The `slope_limit()` function \\[Back to [top](#toc)\\]\n",
    "$$\\label{slope_limit}$$"
   ]
  },
  {
   "cell_type": "code",
   "execution_count": 8,
   "metadata": {},
   "outputs": [
    {
     "name": "stdout",
     "output_type": "stream",
     "text": [
      "Appending to reconstruct_set_of_prims_PPM.C\n"
     ]
    }
   ],
   "source": [
    "%%writefile -a reconstruct_set_of_prims_PPM.C\n",
    "\n",
    "\n",
    "// Set SLOPE_LIMITER_COEFF = 2.0 for MC, 1 for minmod\n",
    "#define SLOPE_LIMITER_COEFF 2.0\n",
    "\n",
    "//Eq. 60 in JOURNAL OF COMPUTATIONAL PHYSICS 123, 1-14 (1996) \n",
    "//   [note the factor of 2 missing in the |a_{j+1} - a_{j}| term]. \n",
    "//   Recall that dU = U_{i} - U_{i-1}.\n",
    "static inline CCTK_REAL slope_limit(CCTK_REAL dU,CCTK_REAL dUp1) {\n",
    "  if(dU*dUp1 > 0.0) {\n",
    "    //delta_m_U=0.5 * [ (u_(i+1)-u_i) + (u_i-u_(i-1)) ] = (u_(i+1) - u_(i-1))/2  <-- first derivative, second-order; this should happen most of the time (smooth flows)\n",
    "    CCTK_REAL delta_m_U = 0.5*(dU + dUp1);\n",
    "    // EXPLANATION OF BELOW LINE OF CODE.\n",
    "    // In short, sign_delta_a_j = sign(delta_m_U) = (0.0 < delta_m_U) - (delta_m_U < 0.0).\n",
    "    //    If delta_m_U>0, then (0.0 < delta_m_U)==1, and (delta_m_U < 0.0)==0, so sign_delta_a_j=+1\n",
    "    //    If delta_m_U<0, then (0.0 < delta_m_U)==0, and (delta_m_U < 0.0)==1, so sign_delta_a_j=-1\n",
    "    //    If delta_m_U==0,then (0.0 < delta_m_U)==0, and (delta_m_U < 0.0)==0, so sign_delta_a_j=0\n",
    "    int sign_delta_m_U = (0.0 < delta_m_U) - (delta_m_U < 0.0);\n",
    "    //Decide whether to use 2nd order derivative or first-order derivative, limiting slope.\n",
    "    return sign_delta_m_U*MIN(fabs(delta_m_U),MIN(SLOPE_LIMITER_COEFF*fabs(dUp1),SLOPE_LIMITER_COEFF*fabs(dU)));\n",
    "  }\n",
    "  return 0.0;\n",
    "}\n"
   ]
  },
  {
   "cell_type": "markdown",
   "metadata": {},
   "source": [
    "<a id='steepen_rho'></a>\n",
    "\n",
    "# Step 4: The `steepen_rho()` function \\[Back to [top](#toc)\\]\n",
    "$$\\label{steepen_rho}$$\n",
    "\n",
    "The steepening procedure used within `IllinoisGRMHD` follows the prescription of [Martí & Müller (1996)](https://www.sciencedirect.com/science/article/pii/S0021999196900017). The idea here is to produce narrower profiles near the vicinity of a contact discontinuity.\n",
    "\n",
    "**A NOTE ON NOTATION**: in the discussion below we will refer to $\\rho$ as $\\rho$ to keep the notation a bit lighter. No confusion should arise from this since there is no other quantity $\\rho$ involved.\n",
    "\n",
    "We start the algorithm by computing\n",
    "\n",
    "\\begin{align}\n",
    "\\delta\\rho_{i+0} &= \\frac{\\rho_{i+1} - \\rho_{i-1}}{2}\\ ,\\\\\n",
    "\\delta^{2}\\rho_{i-1} &= \\rho_{i+0} - 2\\rho_{i-1} + \\rho_{i-2}\\ ,\\\\\n",
    "\\delta^{2}\\rho_{i+1} &= \\rho_{i+2} - 2\\rho_{i+1} + \\rho_{i+0}\\ .\n",
    "\\end{align}"
   ]
  },
  {
   "cell_type": "code",
   "execution_count": 9,
   "metadata": {},
   "outputs": [
    {
     "name": "stdout",
     "output_type": "stream",
     "text": [
      "Appending to reconstruct_set_of_prims_PPM.C\n"
     ]
    }
   ],
   "source": [
    "%%writefile -a reconstruct_set_of_prims_PPM.C\n",
    "\n",
    "\n",
    "// standard Colella-Woodward parameters:\n",
    "//    K0 = 0.1d0, eta1 = 20.0, eta2 = 0.05, epsilon = 0.01d0\n",
    "#define K0      0.1\n",
    "#define ETA1   20.0\n",
    "#define ETA2    0.05\n",
    "#define EPSILON 0.01\n",
    "static inline void steepen_rho(CCTK_REAL U[MAXNUMVARS][MAXNUMINDICES],CCTK_REAL slope_lim_dU[MAXNUMVARS][MAXNUMINDICES],CCTK_REAL gamma_th,CCTK_REAL P_cold,CCTK_REAL gamma_cold,\n",
    "                               CCTK_REAL *rho_br_ppm,CCTK_REAL *rho_bl_ppm) {\n",
    "\n",
    "  // Next compute centered differences d RHOB and d^2 RHOB\n",
    "  CCTK_REAL d1rho_b     = 0.5*(U[RHOB][PLUS1] - U[RHOB][MINUS1]);\n",
    "  CCTK_REAL d2rho_b_m1  = U[RHOB][PLUS0] - 2.0*U[RHOB][MINUS1] + U[RHOB][MINUS2];\n",
    "  CCTK_REAL d2rho_b_p1  = U[RHOB][PLUS2] - 2.0*U[RHOB][PLUS1]  + U[RHOB][PLUS0];"
   ]
  },
  {
   "cell_type": "markdown",
   "metadata": {},
   "source": [
    "Then we evaluate\n",
    "\n",
    "$$\n",
    "\\Gamma = \\left.\\left(\\frac{\\partial P}{\\partial\\rho}\\right)\\middle/\\left(\\frac{P}{\\rho}\\right)\\right. = \\Gamma_{\\rm th} + \\left(\\Gamma_{\\rm cold} - \\Gamma_{\\rm th}\\right)\\frac{P_{\\rm cold}}{P}\\ .\n",
    "$$"
   ]
  },
  {
   "cell_type": "code",
   "execution_count": 10,
   "metadata": {},
   "outputs": [
    {
     "name": "stdout",
     "output_type": "stream",
     "text": [
      "Appending to reconstruct_set_of_prims_PPM.C\n"
     ]
    }
   ],
   "source": [
    "%%writefile -a reconstruct_set_of_prims_PPM.C\n",
    "\n",
    "\n",
    "  // Compute effective Gamma = (partial P / partial rho0)_s /(P/rho0)\n",
    "  CCTK_REAL Gamma = gamma_th + (gamma_cold-gamma_th)*P_cold/U[PRESSURE][PLUS0];"
   ]
  },
  {
   "cell_type": "markdown",
   "metadata": {},
   "source": [
    "Next the contact discontinuity condition, eq. (63) of [Martí & Müller (1996)](https://www.sciencedirect.com/science/article/pii/S0021999196900017), is checked:\n",
    "\n",
    "$$\n",
    "\\Gamma K_{0}\\frac{\\left|\\rho_{i+1}-\\rho_{i-1}\\right|}{\\min\\left(\\rho_{i+1},\\rho_{i-1}\\right)} \\geq \\frac{\\left|P_{i+1}-P_{i-1}\\right|}{\\min\\left(P_{i+1},P_{i-1}\\right)}\\ ,\n",
    "$$\n",
    "\n",
    "where $K_{0}$ is a problem dependent constant. Keep in mind that we implement the quantity\n",
    "\n",
    "$$\n",
    "\\boxed{{\\rm contact\\_discontinuity\\_check} \\equiv \\Gamma K_{0}\\left|\\rho_{i+1}-\\rho_{i-1}\\right|\\min\\left(P_{i+1},P_{i-1}\\right) - \\left|P_{i+1}-P_{i-1}\\right|\\min\\left(\\rho_{i+1},\\rho_{i-1}\\right)}\\ ,\n",
    "$$\n",
    "\n",
    "and verify whether ${\\rm contact\\_discontinuity\\_check} \\geq 0$ to verify the discontinuity condition. We also define the quantities\n",
    "\n",
    "$$\n",
    "\\boxed{{\\rm second\\_deriv\\_check} \\equiv - \\delta^{2}\\rho_{i-1}\\delta^{2}\\rho_{i+1}}\\ ,\n",
    "$$\n",
    "\n",
    "and\n",
    "\n",
    "$$\n",
    "\\boxed{{\\rm relative\\_change\\_check} \\equiv 2\\left|\\delta\\rho\\right| - \\epsilon\\min\\left(\\rho_{i+1},\\rho_{i-1}\\right)}\\ ,\n",
    "$$\n",
    "\n",
    "where again $\\epsilon$ is a constant. The contact discontinuity condition is then satisfied when all three quantities inside boxes above are non-negative. When that is the case, we evaluate\n",
    "\n",
    "$$\n",
    "\\eta_{i} = \\max\\left\\{0,\\min\\left[\\eta_{1}\\left(\\tilde\\eta_{i}-\\eta_{2}\\right),1\\right]\\right\\}\\ ,\n",
    "$$\n",
    "\n",
    "where $\\eta_{1}$ and $\\eta_{2}$ are constants and\n",
    "\n",
    "$$\n",
    "\\boxed{\\tilde\\eta_{i} = \n",
    "\\left\\{\n",
    "\\begin{matrix}\n",
    "0&, \\ {\\rm if}\\ \\delta\\rho_{i} = 0\\ ,\\\\\n",
    "-\\frac{1}{6}\\left(\\frac{\\delta^{2}\\rho_{i+1} - \\delta^{2}\\rho_{i-1}}{2\\delta\\rho_{i}}\\right)&, \\ {\\rm otherwise}\\ .\n",
    "\\end{matrix}\n",
    "\\right.}\n",
    "$$"
   ]
  },
  {
   "cell_type": "code",
   "execution_count": 11,
   "metadata": {},
   "outputs": [
    {
     "name": "stdout",
     "output_type": "stream",
     "text": [
      "Appending to reconstruct_set_of_prims_PPM.C\n"
     ]
    }
   ],
   "source": [
    "%%writefile -a reconstruct_set_of_prims_PPM.C\n",
    "\n",
    "  CCTK_REAL contact_discontinuity_check = Gamma*K0*fabs(U[RHOB][PLUS1]-U[RHOB][MINUS1])*  \n",
    "    MIN(U[PRESSURE][PLUS1],U[PRESSURE][MINUS1])  \n",
    "    -fabs(U[PRESSURE][PLUS1]-U[PRESSURE][MINUS1])*MIN(U[RHOB][PLUS1],U[RHOB][MINUS1]);\n",
    "  CCTK_REAL second_deriv_check = -d2rho_b_p1*d2rho_b_m1;\n",
    "  CCTK_REAL relative_change_check = fabs(2.0*d1rho_b) - EPSILON*MIN(U[RHOB][PLUS1],U[RHOB][MINUS1]);\n",
    "\n",
    "  if(contact_discontinuity_check >= 0.0 && second_deriv_check >= 0.0 \n",
    "     && relative_change_check >= 0.0) {\n",
    "\n",
    "    CCTK_REAL eta_tilde=0.0;\n",
    "    if (fabs(d1rho_b) > 0.0) {\n",
    "      eta_tilde = -(1.0/6.0)*(d2rho_b_p1-d2rho_b_m1)/(2.0*d1rho_b);\n",
    "    }\n",
    "    CCTK_REAL eta = MAX(0.0,MIN(ETA1*(eta_tilde - ETA2),1.0));"
   ]
  },
  {
   "cell_type": "markdown",
   "metadata": {},
   "source": [
    "We then apply the monotonized central (MC) scheme of [van Leer](https://www.sciencedirect.com/science/article/pii/002199917790095X) (see also [Step 3](#slope_limit) for a discussion on the quantities $\\delta\\rho^{\\rm slope-lim}_{i}$ below),\n",
    "\n",
    "\\begin{align}\n",
    "\\rho^{\\rm MC}_{r,i+1} &= \\rho_{i+1} - \\frac{1}{2}\\delta\\rho^{\\rm slope-lim}_{i+1}\\ ,\\\\\n",
    "\\rho^{\\rm MC}_{l,i+0} &= \\rho_{i-1} + \\frac{1}{2}\\delta\\rho^{\\rm slope-lim}_{i-1}\\ ,\n",
    "\\end{align}\n",
    "\n",
    "so that, finally, the steepening algorithm sets\n",
    "\n",
    "$$\n",
    "\\begin{matrix}\n",
    "\\rho_{r}\\to \\rho_{r}(1-\\eta) + \\rho^{\\rm MC}_{r}\\eta\\ ,\\\\\n",
    "\\rho_{l}\\to \\rho_{l}(1-\\eta) + \\rho^{\\rm MC}_{l}\\eta\\ ,\n",
    "\\end{matrix}\n",
    "$$\n",
    "\n",
    "or, as implemented below:\n",
    "\n",
    "$$\n",
    "\\boxed{\\begin{matrix}\n",
    "\\rho_{r,i+0}\\rightarrow \\rho_{r,i+0}\\left(1-\\eta_{i+0}\\right) + \\rho^{\\rm MC}_{r,i+1}\\eta_{i+0}\\ ,\\\\\n",
    "\\rho_{l,i+0}\\rightarrow \\rho_{r,i+0}\\left(1-\\eta_{i+0}\\right) + \\rho^{\\rm MC}_{l,i+0}\\eta_{i+0}\\ .\n",
    "\\end{matrix}}\n",
    "$$"
   ]
  },
  {
   "cell_type": "code",
   "execution_count": 12,
   "metadata": {},
   "outputs": [
    {
     "name": "stdout",
     "output_type": "stream",
     "text": [
      "Appending to reconstruct_set_of_prims_PPM.C\n"
     ]
    }
   ],
   "source": [
    "%%writefile -a reconstruct_set_of_prims_PPM.C\n",
    "\n",
    "    // Next compute Urp1 and Ul for RHOB, using the MC prescription:\n",
    "    // Ur_p1 = U_p1   - 0.5*slope_lim_dU_p1\n",
    "    CCTK_REAL rho_br_mc_p1 = U[RHOB][PLUS1] - 0.5*slope_lim_dU[RHOB][PLUS1];\n",
    "    // Ul = U_m1 + 0.5*slope_lim_dU_m1\n",
    "    // Based on this line of code, Ur[index] = a_j - \\delta_m a_j / 2. (cf. Eq. 65 in Marti & Muller's \"PPM Method for 1D Relativistic Hydro.\" paper)\n",
    "    //    So: Ur[indexp1] = a_{j+1} - \\delta_m a_{j+1} / 2. This is why we have rho_br_mc[indexp1]\n",
    "    CCTK_REAL rho_bl_mc    = U[RHOB][MINUS1] + 0.5*slope_lim_dU[RHOB][MINUS1];\n",
    "\n",
    "    rho_bl_ppm[PLUS0] = rho_bl_ppm[PLUS0]*(1.0-eta) + rho_bl_mc*eta; \n",
    "    rho_br_ppm[PLUS0] = rho_br_ppm[PLUS0]*(1.0-eta) + rho_br_mc_p1*eta;\n",
    "\n",
    "  }\n",
    "}"
   ]
  },
  {
   "cell_type": "markdown",
   "metadata": {},
   "source": [
    "<a id='monotonize'></a>\n",
    "\n",
    "# Step 5: The `monotonize()` function \\[Back to [top](#toc)\\]\n",
    "$$\\label{monotonize}$$"
   ]
  },
  {
   "cell_type": "code",
   "execution_count": 13,
   "metadata": {},
   "outputs": [
    {
     "name": "stdout",
     "output_type": "stream",
     "text": [
      "Appending to reconstruct_set_of_prims_PPM.C\n"
     ]
    }
   ],
   "source": [
    "%%writefile -a reconstruct_set_of_prims_PPM.C\n",
    "\n",
    "\n",
    "static inline void monotonize(CCTK_REAL U,CCTK_REAL &Ur,CCTK_REAL &Ul) {\n",
    "  CCTK_REAL dU = Ur - Ul;\n",
    "  CCTK_REAL mU = 0.5*(Ur+Ul);\n",
    "  \n",
    "  if ( (Ur-U)*(U-Ul) <= 0.0) { \n",
    "    Ur = U;\n",
    "    Ul = U;\n",
    "    return;\n",
    "  }\n",
    "  if ( dU*(U-mU) > (1.0/6.0)*SQR(dU)) { \n",
    "    Ul = 3.0*U - 2.0*Ur;\n",
    "    return;\n",
    "  }\n",
    "  if ( dU*(U-mU) < -(1.0/6.0)*SQR(dU)) {\n",
    "    Ur = 3.0*U - 2.0*Ul;\n",
    "    return;\n",
    "  }\n",
    "}"
   ]
  },
  {
   "cell_type": "markdown",
   "metadata": {},
   "source": [
    "<a id='compute_p_cold__gamma_cold'></a>\n",
    "\n",
    "# Step 6: The `compute_P_cold__gamma_cold()` function \\[Back to [top](#toc)\\]\n",
    "$$\\label{compute_p_cold__gamma_cold}$$"
   ]
  },
  {
   "cell_type": "code",
   "execution_count": 14,
   "metadata": {},
   "outputs": [
    {
     "name": "stdout",
     "output_type": "stream",
     "text": [
      "Appending to reconstruct_set_of_prims_PPM.C\n"
     ]
    }
   ],
   "source": [
    "%%writefile -a reconstruct_set_of_prims_PPM.C\n",
    "\n",
    "\n",
    "static inline void compute_P_cold__gamma_cold(CCTK_REAL rho_b,eos_struct &eos,   CCTK_REAL &P_cold,CCTK_REAL &gamma_cold) {\n",
    "  // This code handles equations of state of the form defined\n",
    "  // in Eqs 13-16 in http://arxiv.org/pdf/0802.0200.pdf\n",
    "\n",
    "  // Default in case rho_b == 0.0\n",
    "  if(rho_b==0.0) { P_cold = 0.0; gamma_cold = eos.gamma_tab[0]; return; }\n",
    "\n",
    "  if(eos.neos==1) {\n",
    "    // Eq. 14 of http://arxiv.org/pdf/0802.0200.pdf :\n",
    "    // P_{cold} = K_i rho_i^{\\Gamma_i}\n",
    "    P_cold = eos.k_tab[0]*fasterpow_ppm_reconstruct(rho_b,eos.gamma_tab[0]);\n",
    "    gamma_cold = eos.gamma_tab[0];\n",
    "    return;\n",
    "  }\n",
    "  for(int nn=1;nn<eos.neos;nn++) {\n",
    "    if (rho_b <= eos.rho_tab[nn]  &&  rho_b > eos.rho_tab[nn-1]) {\n",
    "      P_cold = eos.k_tab[nn]*fasterpow_ppm_reconstruct(rho_b,eos.gamma_tab[nn]);\n",
    "      gamma_cold = eos.gamma_tab[nn];\n",
    "    }\n",
    "  }\n",
    "  if (rho_b > eos.rho_tab[eos.neos-1]) {\n",
    "    P_cold = eos.k_tab[eos.neos]*fasterpow_ppm_reconstruct(rho_b,eos.gamma_tab[eos.neos]);\n",
    "    gamma_cold = eos.gamma_tab[eos.neos];\n",
    "  }\n",
    "}\n"
   ]
  },
  {
   "cell_type": "markdown",
   "metadata": {},
   "source": [
    "<a id='ftilde_gf_compute'></a>\n",
    "\n",
    "# Step 7: The `ftilde_gf_compute()` function \\[Back to [top](#toc)\\]\n",
    "$$\\label{ftilde_gf_compute}$$"
   ]
  },
  {
   "cell_type": "code",
   "execution_count": 15,
   "metadata": {},
   "outputs": [
    {
     "name": "stdout",
     "output_type": "stream",
     "text": [
      "Appending to reconstruct_set_of_prims_PPM.C\n"
     ]
    }
   ],
   "source": [
    "%%writefile -a reconstruct_set_of_prims_PPM.C\n",
    "\n",
    "\n",
    "#define OMEGA1   0.75\n",
    "#define OMEGA2  10.0\n",
    "#define EPSILON2 0.33\n",
    "static void ftilde_gf_compute(const cGH *cctkGH,const int *cctk_lsh,const int flux_dirn,gf_and_gz_struct *in_prims,CCTK_REAL *ftilde_gf) {\n",
    "  int ijkgz_lo_hi[4][2];\n",
    "  CCTK_REAL U[MAXNUMVARS][MAXNUMINDICES];\n",
    "  /*Remove gcc unused variable warning/error Re: Pragma statement in loop define:*/\n",
    "  CCTK_REAL dU,slope_lim_dU,Ur,Ul; dU=slope_lim_dU=Ur=Ul=0.0; dU*=0;\n",
    "  // Compute ftilde, which is used for flattening left and right face values\n",
    "  LOOP_DEFINE(2,2,  cctk_lsh,flux_dirn,  ijkgz_lo_hi,in_prims[VX+(flux_dirn-1)].gz_lo,in_prims[VX+(flux_dirn-1)].gz_hi) {\n",
    "    SET_INDEX_ARRAYS(-2,2,flux_dirn);\n",
    "    for(int ii=MINUS2;ii<=PLUS2;ii++) U[PRESSURE][ii] = in_prims[PRESSURE].gf[index_arr[flux_dirn][ii]];\n",
    "    U[VX+(flux_dirn-1)][MINUS1] = in_prims[VX+(flux_dirn-1)].gf[index_arr[flux_dirn][MINUS1]];\n",
    "    U[VX+(flux_dirn-1)][PLUS1]  = in_prims[VX+(flux_dirn-1)].gf[index_arr[flux_dirn][PLUS1]];\n",
    "\n",
    "    // Compute ftilde, which is used for flattening left and right face values\n",
    "    // DEPENDENCIES: P(MINUS2,MINUS1,PLUS1,PLUS2) and v^m(MINUS1,PLUS1), where m=flux_dirn={1,2,3}={x,y,z}.\n",
    "    ftilde_gf[index_arr[flux_dirn][PLUS0]] = ftilde_compute(flux_dirn,U);\n",
    "  }\n",
    "}"
   ]
  },
  {
   "cell_type": "markdown",
   "metadata": {},
   "source": [
    "<a id='ftilde_compute'></a>\n",
    "\n",
    "# Step 8: The `ftilde_compute()` function \\[Back to [top](#toc)\\]\n",
    "$$\\label{ftilde_compute}$$"
   ]
  },
  {
   "cell_type": "code",
   "execution_count": 16,
   "metadata": {},
   "outputs": [
    {
     "name": "stdout",
     "output_type": "stream",
     "text": [
      "Appending to reconstruct_set_of_prims_PPM.C\n"
     ]
    }
   ],
   "source": [
    "%%writefile -a reconstruct_set_of_prims_PPM.C\n",
    "\n",
    "\n",
    "static inline CCTK_REAL ftilde_compute(const int flux_dirn,CCTK_REAL U[MAXNUMVARS][MAXNUMINDICES]) {\n",
    "  CCTK_REAL dP1 = U[PRESSURE][PLUS1] - U[PRESSURE][MINUS1];\n",
    "  CCTK_REAL dP2 = U[PRESSURE][PLUS2] - U[PRESSURE][MINUS2];\n",
    "\n",
    "  // MODIFICATION TO STANDARD PPM:\n",
    "  // Cure roundoff error issues when dP1==0 or dP2==0 to 15 or more significant digits.\n",
    "  CCTK_REAL avg1=0.5*(U[PRESSURE][PLUS1] + U[PRESSURE][MINUS1]);\n",
    "  CCTK_REAL avg2=0.5*(U[PRESSURE][PLUS2] + U[PRESSURE][MINUS2]);\n",
    "  if(fabs(dP1)/avg1<1e-15) dP1=0.0; /* If this is triggered, there is NO shock */\n",
    "  if(fabs(dP2)/avg2<1e-15) dP2=0.0; /* If this is triggered alone, there may be a shock. Otherwise if triggered with above, NO shock. */\n",
    "\n",
    "  CCTK_REAL dP1_over_dP2=1.0;\n",
    "  if (dP2 != 0.0) dP1_over_dP2 = dP1/dP2;\n",
    "\n",
    "  CCTK_REAL q1 = (dP1_over_dP2-OMEGA1)*OMEGA2;\n",
    "  CCTK_REAL q2 = fabs(dP1)/MIN(U[PRESSURE][PLUS1],U[PRESSURE][MINUS1]);\n",
    "\n",
    "  // w==0 -> NOT inside a shock\n",
    "  CCTK_REAL w=0.0;\n",
    "\n",
    "  // w==1 -> inside a shock\n",
    "  if (q2 > EPSILON2 && q2*( (U[VX+(flux_dirn-1)][MINUS1]) - (U[VX+(flux_dirn-1)][PLUS1]) ) > 0.0) w = 1.0;\n",
    "\n",
    "  return MIN(1.0, w*MAX(0.0,q1));\n",
    "}\n",
    "\n"
   ]
  },
  {
   "cell_type": "markdown",
   "metadata": {},
   "source": [
    "<a id='code_validation'></a>\n",
    "\n",
    "# Step 9: Code validation \\[Back to [top](#toc)\\]\n",
    "$$\\label{code_validation}$$\n",
    "\n",
    "First we will download the original `IllinoisGRMHD` source code."
   ]
  },
  {
   "cell_type": "code",
   "execution_count": 17,
   "metadata": {},
   "outputs": [
    {
     "name": "stdout",
     "output_type": "stream",
     "text": [
      "--2019-09-18 12:38:25--  https://bitbucket.org/zach_etienne/wvuthorns/raw/ea4d70af29c988ce25fc5fdba5550e31e52f7df3/IllinoisGRMHD/src/reconstruct_set_of_prims_PPM.C\n",
      "Resolving bitbucket.org (bitbucket.org)... 18.205.93.2, 18.205.93.0, 18.205.93.1\n",
      "Connecting to bitbucket.org (bitbucket.org)|18.205.93.2|:443... connected.\n",
      "HTTP request sent, awaiting response... 200 OK\n",
      "Length: 18267 (18K) [text/plain]\n",
      "Saving to: ‘reconstruct_set_of_prims_PPM-validation.C’\n",
      "\n",
      "reconstruct_set_of_ 100%[===================>]  17.84K  --.-KB/s    in 0s      \n",
      "\n",
      "2019-09-18 12:38:25 (74.1 MB/s) - ‘reconstruct_set_of_prims_PPM-validation.C’ saved [18267/18267]\n",
      "\n",
      "--2019-09-18 12:38:26--  https://bitbucket.org/zach_etienne/wvuthorns/raw/ea4d70af29c988ce25fc5fdba5550e31e52f7df3/IllinoisGRMHD/src/loop_defines_reconstruction.h\n",
      "Resolving bitbucket.org (bitbucket.org)... 18.205.93.0, 18.205.93.1, 18.205.93.2\n",
      "Connecting to bitbucket.org (bitbucket.org)|18.205.93.0|:443... connected.\n",
      "HTTP request sent, awaiting response... 200 OK\n",
      "Length: 2472 (2.4K) [text/plain]\n",
      "Saving to: ‘loop_defines_reconstruction-validation.h’\n",
      "\n",
      "loop_defines_recons 100%[===================>]   2.41K  --.-KB/s    in 0s      \n",
      "\n",
      "2019-09-18 12:38:26 (139 MB/s) - ‘loop_defines_reconstruction-validation.h’ saved [2472/2472]\n",
      "\n"
     ]
    }
   ],
   "source": [
    "!wget -O reconstruct_set_of_prims_PPM-validation.C https://bitbucket.org/zach_etienne/wvuthorns/raw/ea4d70af29c988ce25fc5fdba5550e31e52f7df3/IllinoisGRMHD/src/reconstruct_set_of_prims_PPM.C\n",
    "!wget -O loop_defines_reconstruction-validation.h https://bitbucket.org/zach_etienne/wvuthorns/raw/ea4d70af29c988ce25fc5fdba5550e31e52f7df3/IllinoisGRMHD/src/loop_defines_reconstruction.h"
   ]
  },
  {
   "cell_type": "markdown",
   "metadata": {},
   "source": [
    "Then we compare the two files and check if it passes the validation test."
   ]
  },
  {
   "cell_type": "code",
   "execution_count": 18,
   "metadata": {},
   "outputs": [
    {
     "name": "stdout",
     "output_type": "stream",
     "text": [
      "Validation test for loop_defines_reconstruction.h: PASSED!\n",
      "\n",
      "--------//--------\n",
      "\n",
      "Validation test for reconstruct_set_of_prims_PPM.C: FAILED!\n",
      "Diff:\n",
      "16c16\n",
      "< //    ^^^^^^^^^^^^^ Be _sure_ to define MAXNUMINDICES appropriately!\n",
      "---\n",
      "> //      ^^^^^^^^^^^^^ Be _sure_ to define MAXNUMINDICES appropriately!\n",
      "44c44\n",
      "<     \n",
      "---\n",
      "> \n",
      "57c57\n",
      "<       \n",
      "---\n",
      ">    \n",
      "73c73\n",
      "< \n",
      "---\n",
      ">    \n",
      "89c89\n",
      "< \n",
      "---\n",
      ">    \n"
     ]
    }
   ],
   "source": [
    "# Uncommend this after diff have been resolved\n",
    "# vvvvvvvvvvvvvvvvvvvvvvvvvvvvvvvvvvvvvvvvvvvv\n",
    "# import filecmp\n",
    "\n",
    "# if filecmp.cmp('driver_evaluate_MHD_rhs.C',\n",
    "#                'driver_evaluate_MHD_rhs-validation.C') == False:\n",
    "#     print(\"ERROR: driver_evaluate_MHD_rhs.C validation FAILED!\")\n",
    "#     exit(1)\n",
    "# else:\n",
    "#     print(\"driver_evaluate_MHD_rhs.C validation PASSED!\")\n",
    "# ^^^^^^^^^^^^^^^^^^^^^^^^^^^^^^^^^^^^^^^^^^^^\n",
    "# Uncommend this after diff have been resolved\n",
    "\n",
    "Validation__loop_defines_reconstruction__h  = !diff loop_defines_reconstruction-validation.h loop_defines_reconstruction.h\n",
    "Validation__reconstruct_set_of_prims_PPM__C = !diff reconstruct_set_of_prims_PPM-validation.C reconstruct_set_of_prims_PPM.C\n",
    "\n",
    "if Validation__loop_defines_reconstruction__h == []:\n",
    "    print(\"Validation test for loop_defines_reconstruction.h: PASSED!\")\n",
    "else:\n",
    "    print(\"Validation test for loop_defines_reconstruction.h: FAILED!\")\n",
    "    print(\"Diff:\")\n",
    "    for diff_line in Validation__loop_defines_reconstruction__h:\n",
    "        print(diff_line)\n",
    "\n",
    "print(\"\\n--------//--------\\n\")\n",
    "        \n",
    "if Validation__reconstruct_set_of_prims_PPM__C == []:\n",
    "    print(\"Validation test for reconstruct_set_of_prims_PPM.C: PASSED!\")\n",
    "else:\n",
    "    print(\"Validation test for reconstruct_set_of_prims_PPM.C: FAILED!\")\n",
    "    print(\"Diff:\")\n",
    "    for diff_line in Validation__reconstruct_set_of_prims_PPM__C:\n",
    "        print(diff_line)"
   ]
  },
  {
   "cell_type": "markdown",
   "metadata": {},
   "source": [
    "<a id='latex_pdf_output'></a>\n",
    "\n",
    "# Step 10: Output this module to $\\LaTeX$-formatted PDF file \\[Back to [top](#toc)\\]\n",
    "$$\\label{latex_pdf_output}$$\n",
    "\n",
    "The following code cell converts this Jupyter notebook into a proper, clickable $\\LaTeX$-formatted PDF file. After the cell is successfully run, the generated PDF may be found in the root NRPy+ tutorial directory, with filename\n",
    "[Tutorial-IllinoisGRMHD_reconstruct_set_of_prims_PPM.pdf](Tutorial-IllinoisGRMHD_reconstruct_set_of_prims_PPM.pdf) (Note that clicking on this link may not work; you may need to open the PDF file through another means)."
   ]
  },
  {
   "cell_type": "code",
   "execution_count": 19,
   "metadata": {},
   "outputs": [
    {
     "name": "stdout",
     "output_type": "stream",
     "text": [
      "[NbConvertApp] Converting notebook Tutorial-IllinoisGRMHD_reconstruct_set_of_prims_PPM.ipynb to latex\n",
      "/Users/werneck/anaconda3/lib/python3.7/site-packages/nbconvert/utils/pandoc.py:52: RuntimeWarning: You are using an unsupported version of pandoc (2.2.3.2).\n",
      "Your version must be at least (1.12.1) but less than (2.0.0).\n",
      "Refer to http://pandoc.org/installing.html.\n",
      "Continuing with doubts...\n",
      "  check_pandoc_version()\n",
      "/Users/werneck/anaconda3/lib/python3.7/site-packages/nbconvert/utils/pandoc.py:52: RuntimeWarning: You are using an unsupported version of pandoc (2.2.3.2).\n",
      "Your version must be at least (1.12.1) but less than (2.0.0).\n",
      "Refer to http://pandoc.org/installing.html.\n",
      "Continuing with doubts...\n",
      "  check_pandoc_version()\n",
      "/Users/werneck/anaconda3/lib/python3.7/site-packages/nbconvert/utils/pandoc.py:52: RuntimeWarning: You are using an unsupported version of pandoc (2.2.3.2).\n",
      "Your version must be at least (1.12.1) but less than (2.0.0).\n",
      "Refer to http://pandoc.org/installing.html.\n",
      "Continuing with doubts...\n",
      "  check_pandoc_version()\n",
      "/Users/werneck/anaconda3/lib/python3.7/site-packages/nbconvert/utils/pandoc.py:52: RuntimeWarning: You are using an unsupported version of pandoc (2.2.3.2).\n",
      "Your version must be at least (1.12.1) but less than (2.0.0).\n",
      "Refer to http://pandoc.org/installing.html.\n",
      "Continuing with doubts...\n",
      "  check_pandoc_version()\n",
      "/Users/werneck/anaconda3/lib/python3.7/site-packages/nbconvert/utils/pandoc.py:52: RuntimeWarning: You are using an unsupported version of pandoc (2.2.3.2).\n",
      "Your version must be at least (1.12.1) but less than (2.0.0).\n",
      "Refer to http://pandoc.org/installing.html.\n",
      "Continuing with doubts...\n",
      "  check_pandoc_version()\n",
      "/Users/werneck/anaconda3/lib/python3.7/site-packages/nbconvert/utils/pandoc.py:52: RuntimeWarning: You are using an unsupported version of pandoc (2.2.3.2).\n",
      "Your version must be at least (1.12.1) but less than (2.0.0).\n",
      "Refer to http://pandoc.org/installing.html.\n",
      "Continuing with doubts...\n",
      "  check_pandoc_version()\n",
      "/Users/werneck/anaconda3/lib/python3.7/site-packages/nbconvert/utils/pandoc.py:52: RuntimeWarning: You are using an unsupported version of pandoc (2.2.3.2).\n",
      "Your version must be at least (1.12.1) but less than (2.0.0).\n",
      "Refer to http://pandoc.org/installing.html.\n",
      "Continuing with doubts...\n",
      "  check_pandoc_version()\n",
      "/Users/werneck/anaconda3/lib/python3.7/site-packages/nbconvert/utils/pandoc.py:52: RuntimeWarning: You are using an unsupported version of pandoc (2.2.3.2).\n",
      "Your version must be at least (1.12.1) but less than (2.0.0).\n",
      "Refer to http://pandoc.org/installing.html.\n",
      "Continuing with doubts...\n",
      "  check_pandoc_version()\n",
      "/Users/werneck/anaconda3/lib/python3.7/site-packages/nbconvert/utils/pandoc.py:52: RuntimeWarning: You are using an unsupported version of pandoc (2.2.3.2).\n",
      "Your version must be at least (1.12.1) but less than (2.0.0).\n",
      "Refer to http://pandoc.org/installing.html.\n",
      "Continuing with doubts...\n",
      "  check_pandoc_version()\n",
      "/Users/werneck/anaconda3/lib/python3.7/site-packages/nbconvert/utils/pandoc.py:52: RuntimeWarning: You are using an unsupported version of pandoc (2.2.3.2).\n",
      "Your version must be at least (1.12.1) but less than (2.0.0).\n",
      "Refer to http://pandoc.org/installing.html.\n",
      "Continuing with doubts...\n",
      "  check_pandoc_version()\n",
      "/Users/werneck/anaconda3/lib/python3.7/site-packages/nbconvert/utils/pandoc.py:52: RuntimeWarning: You are using an unsupported version of pandoc (2.2.3.2).\n",
      "Your version must be at least (1.12.1) but less than (2.0.0).\n",
      "Refer to http://pandoc.org/installing.html.\n",
      "Continuing with doubts...\n",
      "  check_pandoc_version()\n",
      "/Users/werneck/anaconda3/lib/python3.7/site-packages/nbconvert/utils/pandoc.py:52: RuntimeWarning: You are using an unsupported version of pandoc (2.2.3.2).\n",
      "Your version must be at least (1.12.1) but less than (2.0.0).\n",
      "Refer to http://pandoc.org/installing.html.\n",
      "Continuing with doubts...\n",
      "  check_pandoc_version()\n",
      "/Users/werneck/anaconda3/lib/python3.7/site-packages/nbconvert/utils/pandoc.py:52: RuntimeWarning: You are using an unsupported version of pandoc (2.2.3.2).\n",
      "Your version must be at least (1.12.1) but less than (2.0.0).\n",
      "Refer to http://pandoc.org/installing.html.\n",
      "Continuing with doubts...\n",
      "  check_pandoc_version()\n",
      "/Users/werneck/anaconda3/lib/python3.7/site-packages/nbconvert/utils/pandoc.py:52: RuntimeWarning: You are using an unsupported version of pandoc (2.2.3.2).\n",
      "Your version must be at least (1.12.1) but less than (2.0.0).\n",
      "Refer to http://pandoc.org/installing.html.\n",
      "Continuing with doubts...\n",
      "  check_pandoc_version()\n",
      "/Users/werneck/anaconda3/lib/python3.7/site-packages/nbconvert/utils/pandoc.py:52: RuntimeWarning: You are using an unsupported version of pandoc (2.2.3.2).\n",
      "Your version must be at least (1.12.1) but less than (2.0.0).\n",
      "Refer to http://pandoc.org/installing.html.\n",
      "Continuing with doubts...\n",
      "  check_pandoc_version()\n",
      "/Users/werneck/anaconda3/lib/python3.7/site-packages/nbconvert/utils/pandoc.py:52: RuntimeWarning: You are using an unsupported version of pandoc (2.2.3.2).\n",
      "Your version must be at least (1.12.1) but less than (2.0.0).\n",
      "Refer to http://pandoc.org/installing.html.\n",
      "Continuing with doubts...\n",
      "  check_pandoc_version()\n",
      "/Users/werneck/anaconda3/lib/python3.7/site-packages/nbconvert/utils/pandoc.py:52: RuntimeWarning: You are using an unsupported version of pandoc (2.2.3.2).\n",
      "Your version must be at least (1.12.1) but less than (2.0.0).\n",
      "Refer to http://pandoc.org/installing.html.\n",
      "Continuing with doubts...\n",
      "  check_pandoc_version()\n",
      "/Users/werneck/anaconda3/lib/python3.7/site-packages/nbconvert/utils/pandoc.py:52: RuntimeWarning: You are using an unsupported version of pandoc (2.2.3.2).\n",
      "Your version must be at least (1.12.1) but less than (2.0.0).\n",
      "Refer to http://pandoc.org/installing.html.\n",
      "Continuing with doubts...\n",
      "  check_pandoc_version()\n",
      "/Users/werneck/anaconda3/lib/python3.7/site-packages/nbconvert/utils/pandoc.py:52: RuntimeWarning: You are using an unsupported version of pandoc (2.2.3.2).\n",
      "Your version must be at least (1.12.1) but less than (2.0.0).\n",
      "Refer to http://pandoc.org/installing.html.\n",
      "Continuing with doubts...\n",
      "  check_pandoc_version()\n",
      "/Users/werneck/anaconda3/lib/python3.7/site-packages/nbconvert/utils/pandoc.py:52: RuntimeWarning: You are using an unsupported version of pandoc (2.2.3.2).\n",
      "Your version must be at least (1.12.1) but less than (2.0.0).\n",
      "Refer to http://pandoc.org/installing.html.\n",
      "Continuing with doubts...\n",
      "  check_pandoc_version()\n",
      "/Users/werneck/anaconda3/lib/python3.7/site-packages/nbconvert/utils/pandoc.py:52: RuntimeWarning: You are using an unsupported version of pandoc (2.2.3.2).\n",
      "Your version must be at least (1.12.1) but less than (2.0.0).\n",
      "Refer to http://pandoc.org/installing.html.\n",
      "Continuing with doubts...\n",
      "  check_pandoc_version()\n",
      "/Users/werneck/anaconda3/lib/python3.7/site-packages/nbconvert/utils/pandoc.py:52: RuntimeWarning: You are using an unsupported version of pandoc (2.2.3.2).\n",
      "Your version must be at least (1.12.1) but less than (2.0.0).\n",
      "Refer to http://pandoc.org/installing.html.\n",
      "Continuing with doubts...\n",
      "  check_pandoc_version()\n",
      "/Users/werneck/anaconda3/lib/python3.7/site-packages/nbconvert/utils/pandoc.py:52: RuntimeWarning: You are using an unsupported version of pandoc (2.2.3.2).\n",
      "Your version must be at least (1.12.1) but less than (2.0.0).\n",
      "Refer to http://pandoc.org/installing.html.\n",
      "Continuing with doubts...\n",
      "  check_pandoc_version()\n",
      "/Users/werneck/anaconda3/lib/python3.7/site-packages/nbconvert/utils/pandoc.py:52: RuntimeWarning: You are using an unsupported version of pandoc (2.2.3.2).\n",
      "Your version must be at least (1.12.1) but less than (2.0.0).\n",
      "Refer to http://pandoc.org/installing.html.\n",
      "Continuing with doubts...\n",
      "  check_pandoc_version()\n",
      "/Users/werneck/anaconda3/lib/python3.7/site-packages/nbconvert/utils/pandoc.py:52: RuntimeWarning: You are using an unsupported version of pandoc (2.2.3.2).\n",
      "Your version must be at least (1.12.1) but less than (2.0.0).\n",
      "Refer to http://pandoc.org/installing.html.\n",
      "Continuing with doubts...\n",
      "  check_pandoc_version()\n",
      "/Users/werneck/anaconda3/lib/python3.7/site-packages/nbconvert/utils/pandoc.py:52: RuntimeWarning: You are using an unsupported version of pandoc (2.2.3.2).\n",
      "Your version must be at least (1.12.1) but less than (2.0.0).\n",
      "Refer to http://pandoc.org/installing.html.\n",
      "Continuing with doubts...\n",
      "  check_pandoc_version()\n"
     ]
    },
    {
     "name": "stdout",
     "output_type": "stream",
     "text": [
      "/Users/werneck/anaconda3/lib/python3.7/site-packages/nbconvert/utils/pandoc.py:52: RuntimeWarning: You are using an unsupported version of pandoc (2.2.3.2).\n",
      "Your version must be at least (1.12.1) but less than (2.0.0).\n",
      "Refer to http://pandoc.org/installing.html.\n",
      "Continuing with doubts...\n",
      "  check_pandoc_version()\n",
      "/Users/werneck/anaconda3/lib/python3.7/site-packages/nbconvert/utils/pandoc.py:52: RuntimeWarning: You are using an unsupported version of pandoc (2.2.3.2).\n",
      "Your version must be at least (1.12.1) but less than (2.0.0).\n",
      "Refer to http://pandoc.org/installing.html.\n",
      "Continuing with doubts...\n",
      "  check_pandoc_version()\n",
      "/Users/werneck/anaconda3/lib/python3.7/site-packages/nbconvert/utils/pandoc.py:52: RuntimeWarning: You are using an unsupported version of pandoc (2.2.3.2).\n",
      "Your version must be at least (1.12.1) but less than (2.0.0).\n",
      "Refer to http://pandoc.org/installing.html.\n",
      "Continuing with doubts...\n",
      "  check_pandoc_version()\n",
      "/Users/werneck/anaconda3/lib/python3.7/site-packages/nbconvert/utils/pandoc.py:52: RuntimeWarning: You are using an unsupported version of pandoc (2.2.3.2).\n",
      "Your version must be at least (1.12.1) but less than (2.0.0).\n",
      "Refer to http://pandoc.org/installing.html.\n",
      "Continuing with doubts...\n",
      "  check_pandoc_version()\n",
      "/Users/werneck/anaconda3/lib/python3.7/site-packages/nbconvert/utils/pandoc.py:52: RuntimeWarning: You are using an unsupported version of pandoc (2.2.3.2).\n",
      "Your version must be at least (1.12.1) but less than (2.0.0).\n",
      "Refer to http://pandoc.org/installing.html.\n",
      "Continuing with doubts...\n",
      "  check_pandoc_version()\n",
      "/Users/werneck/anaconda3/lib/python3.7/site-packages/nbconvert/utils/pandoc.py:52: RuntimeWarning: You are using an unsupported version of pandoc (2.2.3.2).\n",
      "Your version must be at least (1.12.1) but less than (2.0.0).\n",
      "Refer to http://pandoc.org/installing.html.\n",
      "Continuing with doubts...\n",
      "  check_pandoc_version()\n",
      "/Users/werneck/anaconda3/lib/python3.7/site-packages/nbconvert/utils/pandoc.py:52: RuntimeWarning: You are using an unsupported version of pandoc (2.2.3.2).\n",
      "Your version must be at least (1.12.1) but less than (2.0.0).\n",
      "Refer to http://pandoc.org/installing.html.\n",
      "Continuing with doubts...\n",
      "  check_pandoc_version()\n",
      "/Users/werneck/anaconda3/lib/python3.7/site-packages/nbconvert/utils/pandoc.py:52: RuntimeWarning: You are using an unsupported version of pandoc (2.2.3.2).\n",
      "Your version must be at least (1.12.1) but less than (2.0.0).\n",
      "Refer to http://pandoc.org/installing.html.\n",
      "Continuing with doubts...\n",
      "  check_pandoc_version()\n",
      "/Users/werneck/anaconda3/lib/python3.7/site-packages/nbconvert/utils/pandoc.py:52: RuntimeWarning: You are using an unsupported version of pandoc (2.2.3.2).\n",
      "Your version must be at least (1.12.1) but less than (2.0.0).\n",
      "Refer to http://pandoc.org/installing.html.\n",
      "Continuing with doubts...\n",
      "  check_pandoc_version()\n",
      "/Users/werneck/anaconda3/lib/python3.7/site-packages/nbconvert/utils/pandoc.py:52: RuntimeWarning: You are using an unsupported version of pandoc (2.2.3.2).\n",
      "Your version must be at least (1.12.1) but less than (2.0.0).\n",
      "Refer to http://pandoc.org/installing.html.\n",
      "Continuing with doubts...\n",
      "  check_pandoc_version()\n",
      "/Users/werneck/anaconda3/lib/python3.7/site-packages/nbconvert/utils/pandoc.py:52: RuntimeWarning: You are using an unsupported version of pandoc (2.2.3.2).\n",
      "Your version must be at least (1.12.1) but less than (2.0.0).\n",
      "Refer to http://pandoc.org/installing.html.\n",
      "Continuing with doubts...\n",
      "  check_pandoc_version()\n",
      "/Users/werneck/anaconda3/lib/python3.7/site-packages/nbconvert/utils/pandoc.py:52: RuntimeWarning: You are using an unsupported version of pandoc (2.2.3.2).\n",
      "Your version must be at least (1.12.1) but less than (2.0.0).\n",
      "Refer to http://pandoc.org/installing.html.\n",
      "Continuing with doubts...\n",
      "  check_pandoc_version()\n",
      "/Users/werneck/anaconda3/lib/python3.7/site-packages/nbconvert/utils/pandoc.py:52: RuntimeWarning: You are using an unsupported version of pandoc (2.2.3.2).\n",
      "Your version must be at least (1.12.1) but less than (2.0.0).\n",
      "Refer to http://pandoc.org/installing.html.\n",
      "Continuing with doubts...\n",
      "  check_pandoc_version()\n",
      "/Users/werneck/anaconda3/lib/python3.7/site-packages/nbconvert/utils/pandoc.py:52: RuntimeWarning: You are using an unsupported version of pandoc (2.2.3.2).\n",
      "Your version must be at least (1.12.1) but less than (2.0.0).\n",
      "Refer to http://pandoc.org/installing.html.\n",
      "Continuing with doubts...\n",
      "  check_pandoc_version()\n",
      "/Users/werneck/anaconda3/lib/python3.7/site-packages/nbconvert/utils/pandoc.py:52: RuntimeWarning: You are using an unsupported version of pandoc (2.2.3.2).\n",
      "Your version must be at least (1.12.1) but less than (2.0.0).\n",
      "Refer to http://pandoc.org/installing.html.\n",
      "Continuing with doubts...\n",
      "  check_pandoc_version()\n",
      "/Users/werneck/anaconda3/lib/python3.7/site-packages/nbconvert/utils/pandoc.py:52: RuntimeWarning: You are using an unsupported version of pandoc (2.2.3.2).\n",
      "Your version must be at least (1.12.1) but less than (2.0.0).\n",
      "Refer to http://pandoc.org/installing.html.\n",
      "Continuing with doubts...\n",
      "  check_pandoc_version()\n",
      "[NbConvertApp] Writing 132272 bytes to Tutorial-IllinoisGRMHD_reconstruct_set_of_prims_PPM.tex\n",
      "This is pdfTeX, Version 3.14159265-2.6-1.40.19 (TeX Live 2018) (preloaded format=pdflatex)\n",
      " restricted \\write18 enabled.\n",
      "entering extended mode\n",
      "This is pdfTeX, Version 3.14159265-2.6-1.40.19 (TeX Live 2018) (preloaded format=pdflatex)\n",
      " restricted \\write18 enabled.\n",
      "entering extended mode\n",
      "This is pdfTeX, Version 3.14159265-2.6-1.40.19 (TeX Live 2018) (preloaded format=pdflatex)\n",
      " restricted \\write18 enabled.\n",
      "entering extended mode\n"
     ]
    }
   ],
   "source": [
    "!jupyter nbconvert --to latex --template ../../latex_nrpy_style.tplx Tutorial-IllinoisGRMHD_reconstruct_set_of_prims_PPM.ipynb\n",
    "!pdflatex -interaction=batchmode Tutorial-IllinoisGRMHD_reconstruct_set_of_prims_PPM.tex\n",
    "!pdflatex -interaction=batchmode Tutorial-IllinoisGRMHD_reconstruct_set_of_prims_PPM.tex\n",
    "!pdflatex -interaction=batchmode Tutorial-IllinoisGRMHD_reconstruct_set_of_prims_PPM.tex\n",
    "!rm -f Tut*.out Tut*.aux Tut*.log"
   ]
  }
 ],
 "metadata": {
  "kernelspec": {
   "display_name": "Python 2",
   "language": "python",
   "name": "python2"
  },
  "language_info": {
   "codemirror_mode": {
    "name": "ipython",
    "version": 2
   },
   "file_extension": ".py",
   "mimetype": "text/x-python",
   "name": "python",
   "nbconvert_exporter": "python",
   "pygments_lexer": "ipython2",
   "version": "2.7.16"
  }
 },
 "nbformat": 4,
 "nbformat_minor": 2
}
