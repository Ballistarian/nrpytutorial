{
 "cells": [
  {
   "cell_type": "markdown",
   "metadata": {},
   "source": [
    "# Tutorial-IllinoisGRMHD: mhdflux.C\n",
    "\n",
    "## Authors: Zach Etienne & Leo Werneck\n",
    "\n",
    "<font color='red'>**This module is currently under development**</font>\n",
    "\n",
    "## In this tutorial module we explain how the MHD fluxes are evaluated withing IllinoisGRMHD.\n",
    "\n",
    "### Required and recommended citations:\n",
    "\n",
    "* **(Required)** Etienne, Z. B., Paschalidis, V., Haas R., Mösta P., and Shapiro, S. L. IllinoisGRMHD: an open-source, user-friendly GRMHD code for dynamical spacetimes. Class. Quantum Grav. 32 (2015) 175009. ([arxiv:1501.07276](http://arxiv.org/abs/1501.07276)).\n",
    "* **(Required)** Noble, S. C., Gammie, C. F., McKinney, J. C., Del Zanna, L. Primitive Variable Solvers for Conservative General Relativistic Magnetohydrodynamics. Astrophysical Journal, 641, 626 (2006) ([astro-ph/0512420](https://arxiv.org/abs/astro-ph/0512420)).\n",
    "* **(Recommended)** Del Zanna, L., Bucciantini N., Londrillo, P. An efficient shock-capturing central-type scheme for multidimensional relativistic flows - II. Magnetohydrodynamics. A&A 400 (2) 397-413 (2003). DOI: 10.1051/0004-6361:20021641 ([astro-ph/0210618](https://arxiv.org/abs/astro-ph/0210618))."
   ]
  },
  {
   "cell_type": "markdown",
   "metadata": {},
   "source": [
    "<a id='basic_quantities'></a>\n",
    "\n",
    "# Step 2.1: Basic quantities\n",
    "$$\\label{basic_quantities}$$\n",
    "\n",
    "We start by defining useful quantities, such as $\\psi^{\\pm4}$, $\\psi^{6}$, $\\alpha\\sqrt{\\gamma}$, $\\alpha^{-1}$, and $\\alpha^{-2}$."
   ]
  },
  {
   "cell_type": "code",
   "execution_count": 1,
   "metadata": {},
   "outputs": [
    {
     "name": "stdout",
     "output_type": "stream",
     "text": [
      "Overwriting mhdflux.C\n"
     ]
    }
   ],
   "source": [
    "%%writefile mhdflux.C\n",
    "//-----------------------------------------------------------------------------\n",
    "// Compute the flux for advecting rho_star, tau (Font's energy variable), \n",
    "//  and S_i .\n",
    "//-----------------------------------------------------------------------------\n",
    "static inline void mhdflux(int i,int j,int k,const int flux_dirn,CCTK_REAL *Ul,CCTK_REAL *Ur,  CCTK_REAL *FACEVAL,CCTK_REAL *FACEVAL_LAPSE_PSI4,eos_struct &eos,\n",
    "                           CCTK_REAL &cmax,CCTK_REAL &cmin,\n",
    "                           CCTK_REAL &rho_star_flux,CCTK_REAL &tau_flux,CCTK_REAL &st_x_flux,CCTK_REAL &st_y_flux,CCTK_REAL &st_z_flux) {\n",
    "\n",
    " \n",
    "  CCTK_REAL psi4 = FACEVAL_LAPSE_PSI4[PSI4];\n",
    "  CCTK_REAL psi6 = FACEVAL_LAPSE_PSI4[PSI4]*FACEVAL_LAPSE_PSI4[PSI2];\n",
    "  CCTK_REAL psim4 = 1.0/(psi4);\n",
    "\n",
    "  CCTK_REAL alpha_sqrt_gamma = FACEVAL_LAPSE_PSI4[LAPSE]*psi6;\n",
    "  CCTK_REAL ONE_OVER_LAPSE = 1.0/FACEVAL_LAPSE_PSI4[LAPSE];\n",
    "  CCTK_REAL ONE_OVER_LAPSE_SQUARED=SQR(ONE_OVER_LAPSE);"
   ]
  },
  {
   "cell_type": "markdown",
   "metadata": {},
   "source": [
    "<a id='eos_quantities'></a>\n",
    "\n",
    "# Step 2.2: Equation of State (EOS) quantities\n",
    "$$\\label{eos_quantities}$$\n",
    "\n",
    "Next we compute the quantities $P_{\\rm cold}$, $\\epsilon_{\\rm cold}$, $\\frac{dP_{\\rm cold}}{d\\rho}$, $\\epsilon_{\\rm th}$, $h$, and $\\Gamma_{\\rm cold}$. We have written $\\rho_{b}\\equiv\\rho$ so that the discussion constains a notation that is slightly less cluttered with indices.\n",
    "\n",
    "The function `compute_P_cold__eps_cold__dPcold_drho__eps_th__h__gamma_cold()` is defined within the `inline_functions.C` code file of `IllinoisGRMHD`. It currently implementes 3 different cases:\n",
    "\n",
    "1. **Case 1: $\\boldsymbol{\\epsilon_{\\rm cold} = 0}$**\n",
    "\n",
    "   In this case, we set $\\Gamma_{\\rm cold} = \\Gamma_{\\rm tab}$, i.e. it's tabulated input value, and all other quantities to zero: $P_{\\rm cold}=\\epsilon_{\\rm cold}=\\frac{dP_{\\rm cold}}{d\\rho}=h=\\epsilon_{\\rm th}=0$\n",
    "   \n",
    "2. **Case 2: Single Polytrope EOS**\n",
    "\n",
    "   In this case we have have the relations:\n",
    "   \n",
    "   $$\n",
    "   \\boxed{\n",
    "   \\begin{align}\n",
    "   P_{\\rm cold} &= \\kappa \\rho^{\\Gamma_{\\rm cold}}\\ ,\\\\\n",
    "   \\epsilon_{\\rm cold} &= \\left.\\left(\\frac{P_{\\rm cold}}{\\rho}\\right)\\middle/\\left(\\Gamma_{\\rm cold}-1\\right)\\right.\\ ,\\\\\n",
    "   \\frac{dP_{\\rm cold}}{d\\rho} &= \\frac{\\Gamma_{\\rm cold}P_{\\rm cold}}{\\rho}\\ ,\\\\\n",
    "   \\epsilon_{\\rm th} &= \\left.\\left(\\frac{P-P_{\\rm cold}}{\\rho}\\right)\\middle/\\left(\\Gamma_{\\rm cold}-1\\right)\\right.\\ ,\\\\\n",
    "   h &= 1+\\epsilon_{\\rm cold}+\\epsilon_{\\rm th} + \\frac{P}{\\rho}\\ ,\\\\\n",
    "   \\Gamma_{\\rm cold} &= \\Gamma_{\\rm tab}\\ .\n",
    "   \\end{align}}\n",
    "   $$\n",
    "   \n",
    "2. **Case 3: Piecewise Polytrope EOS**\n",
    "\n",
    "   We now consider a set of dividing densities $\\rho_{\\min} < \\rho_{1} < \\cdots < \\rho_{n-1} < \\rho_{\\max}$ such that the pressure and energy density are everywhere continuous. In each interval, the EOS is a single polytrope, with its own $K_{i}$ and $\\left(\\Gamma_{cold}\\right)_{i}\\equiv\\Gamma_{i}$, so that\n",
    "   \n",
    "   $$\n",
    "   \\boxed{\n",
    "   P_{\\rm cold} =\n",
    "   \\left\\{\n",
    "   \\begin{matrix}\n",
    "   K_{1}\\rho^{\\Gamma_{1}} & \\rho_{\\min}\\leq\\rho<\\rho_{1}\\\\\n",
    "   K_{2}\\rho^{\\Gamma_{2}} & \\rho_{1}\\leq\\rho<\\rho_{2}\\\\\n",
    "   \\vdots\\\\\n",
    "   K_{n-1}\\rho^{\\Gamma_{n-1}} & \\rho_{n-2}\\leq\\rho<\\rho_{n-1}\\\\\n",
    "   K_{n}\\rho^{\\Gamma_{n}} & \\rho_{n-1}\\leq\\rho\\leq\\rho_{\\max}\n",
    "   \\end{matrix}\n",
    "   \\right.\n",
    "   }\\ .\n",
    "   $$\n",
    "   \n",
    "   Then, for each set $\\left\\{P_{i},K_{i},\\Gamma_{i}\\right\\}$ the desired quantities are computed using the same equations used in Case 2."
   ]
  },
  {
   "cell_type": "code",
   "execution_count": 2,
   "metadata": {},
   "outputs": [
    {
     "name": "stdout",
     "output_type": "stream",
     "text": [
      "Appending to mhdflux.C\n"
     ]
    }
   ],
   "source": [
    "%%writefile -a mhdflux.C\n",
    "\n",
    "\n",
    "  // First compute P_{cold}, \\epsilon_{cold}, dP_{cold}/drho, \\epsilon_{th}, h, and \\Gamma_{cold},\n",
    "  // for right and left faces:\n",
    "  CCTK_REAL P_coldr,eps_coldr,dPcold_drhor=0,eps_thr=0,h_r=0,gamma_coldr;\n",
    "  compute_P_cold__eps_cold__dPcold_drho__eps_th__h__gamma_cold(Ur,eos,P_coldr,eps_coldr,dPcold_drhor,eps_thr,h_r,gamma_coldr);\n",
    "  CCTK_REAL P_coldl,eps_coldl,dPcold_drhol=0,eps_thl=0,h_l=0,gamma_coldl;\n",
    "  compute_P_cold__eps_cold__dPcold_drho__eps_th__h__gamma_cold(Ul,eos,P_coldl,eps_coldl,dPcold_drhol,eps_thl,h_l,gamma_coldl);"
   ]
  },
  {
   "cell_type": "markdown",
   "metadata": {},
   "source": [
    "<a id='impose_speed_limit_output_u0'></a>\n",
    "\n",
    "# Step 2.3: Impose a speed limit and determine $u^{0}$\n",
    "$$\\label{impose_speed_limit_output_u0}$$\n",
    "\n",
    "We now call upon the `impose_speed_limit_output_u0()` function inside the `inline_functions.C` code file of `IllinoisGRMHD`. The basic algorithm performed by this function is summarized here. We start by evaluating the quantity\n",
    "\n",
    "$$\n",
    "\\begin{align}\n",
    "{\\rm one\\_minus\\_one\\_over\\_alpha\\_u0\\_squared} \\equiv A \n",
    "&= \\gamma_{ij}\\left(\\frac{v^{i}+\\beta^{i}}{\\alpha}\\right)\\left(\\frac{v^{j}+\\beta^{j}}{\\alpha}\\right)\\\\\n",
    "&= \\frac{\\gamma_{ij}}{\\alpha^{2}}\\left[\\frac{\\gamma^{ik}u_{k}}{u^{0}} - \\beta^{i} + \\beta^{i}\\right]\\left[\\frac{\\gamma^{j\\ell}u_{\\ell}}{u^{0}} - \\beta^{j} + \\beta^{j}\\right]\\\\\n",
    "&=\\frac{\\gamma_{ij}u^{i}u^{j}}{\\left(\\alpha u^{0}\\right)^{2}}\\\\\n",
    "&=\\frac{\\left(\\alpha u^{0}\\right)^{2}-1}{\\left(\\alpha u^{0}\\right)^{2}}\\\\\n",
    "&=1 - \\frac{1}{\\left(\\alpha u^{0}\\right)^{2}}\\ \\\\\n",
    "\\implies \\boxed{A = 1 - \\frac{1}{\\left(\\alpha u^{0}\\right)^{2}}}\\ ,\n",
    "\\end{align}\n",
    "$$\n",
    "\n",
    "where when going from line 1 to 2 and from line 3 to 4 we have used eqs. (53) and (56) from [Duez *et al.*](https://arxiv.org/pdf/astro-ph/0503420.pdf), respectively. Then we construct the \"speed limit quantity\"\n",
    "\n",
    "$$\n",
    "{\\rm ONE\\_MINUS\\_ONE\\_OVER\\_GAMMA\\_SPEED\\_LIMIT\\_SQUARED} \\equiv B = \\frac{1}{1-\\gamma^{2}_{\\rm speed\\ limit}}\\ .\n",
    "$$\n",
    "\n",
    "If $A > B$, then we construct the correction factor $C\\equiv A / B$, and adjust the velocities using\n",
    "\n",
    "$$\n",
    "\\boxed{v^{i} \\to \\left(v^{i}+\\beta^{i}\\right)C - \\beta^{i}}\\ .\n",
    "$$\n",
    "\n",
    "Finally, since $A$ is evaluated using the first line above, namely\n",
    "\n",
    "$$\n",
    "A = \\gamma_{ij}\\left(\\frac{v^{i}+\\beta^{i}}{\\alpha}\\right)\\left(\\frac{v^{j}+\\beta^{j}}{\\alpha}\\right)\\ ,\n",
    "$$\n",
    "\n",
    "but we know, from the last line how $A$ and $u^{0}$ are related, we compute\n",
    "\n",
    "$$\n",
    "\\boxed{u^{0} = \\frac{1}{\\alpha\\sqrt{1-A}}}\\ .\n",
    "$$"
   ]
  },
  {
   "cell_type": "code",
   "execution_count": null,
   "metadata": {},
   "outputs": [],
   "source": [
    "%%writefile -a mhdflux.C\n",
    "\n",
    "\n",
    "  //Compute face velocities\n",
    "  // Begin by computing u0\n",
    "  output_stats stats; stats.failure_checker=0;\n",
    "  CCTK_REAL u0_r,u0_l;\n",
    "  impose_speed_limit_output_u0(FACEVAL,Ur,psi4,ONE_OVER_LAPSE,stats,u0_r);\n",
    "  impose_speed_limit_output_u0(FACEVAL,Ul,psi4,ONE_OVER_LAPSE,stats,u0_l);"
   ]
  },
  {
   "cell_type": "markdown",
   "metadata": {},
   "source": []
  },
  {
   "cell_type": "code",
   "execution_count": 3,
   "metadata": {},
   "outputs": [
    {
     "name": "stdout",
     "output_type": "stream",
     "text": [
      "Appending to mhdflux.C\n"
     ]
    }
   ],
   "source": [
    "%%writefile -a mhdflux.C\n",
    "\n",
    "\n",
    "  //Next compute b^{\\mu}, the magnetic field measured in the comoving fluid frame:\n",
    "  CCTK_REAL ONE_OVER_LAPSE_SQRT_4PI = ONE_OVER_LAPSE*ONE_OVER_SQRT_4PI;\n",
    "  /***********************************************************/\n",
    "  /********** RIGHT FACE ************/\n",
    "  // Note that smallbr[4] = b^a defined in Gammie's paper, on the right face.\n",
    "  CCTK_REAL u_x_over_u0_psi4r,u_y_over_u0_psi4r,u_z_over_u0_psi4r;\n",
    "  CCTK_REAL smallbr[NUMVARS_SMALLB];\n",
    "  // Compute b^{a}, b^2, and u_i over u^0\n",
    "  compute_smallba_b2_and_u_i_over_u0_psi4(FACEVAL,FACEVAL_LAPSE_PSI4,Ur,u0_r,ONE_OVER_LAPSE_SQRT_4PI,  \n",
    "                                          u_x_over_u0_psi4r,u_y_over_u0_psi4r,u_z_over_u0_psi4r,smallbr);\n",
    "  // Then compute u_xr,u_yr, and u_zr. We need to set the zeroth component so we can specify U_LOWER{r,l}[{UX,UY,UZ}] (UX=1,UY=2,UZ=3).\n",
    "  CCTK_REAL U_LOWERr[4] = { 0.0, u_x_over_u0_psi4r*u0_r*FACEVAL_LAPSE_PSI4[PSI4], u_y_over_u0_psi4r*u0_r*FACEVAL_LAPSE_PSI4[PSI4], \n",
    "                            u_z_over_u0_psi4r*u0_r*FACEVAL_LAPSE_PSI4[PSI4] };\n",
    "  /********** LEFT FACE ************/\n",
    "  // Note that smallbl[4] = b^a defined in Gammie's paper, on the left face.\n",
    "  CCTK_REAL u_x_over_u0_psi4l,u_y_over_u0_psi4l,u_z_over_u0_psi4l;\n",
    "  CCTK_REAL smallbl[NUMVARS_SMALLB];\n",
    "  // Compute b^{a}, b^2, and u_i over u^0\n",
    "  compute_smallba_b2_and_u_i_over_u0_psi4(FACEVAL,FACEVAL_LAPSE_PSI4,Ul,u0_l,ONE_OVER_LAPSE_SQRT_4PI,  \n",
    "                                          u_x_over_u0_psi4l,u_y_over_u0_psi4l,u_z_over_u0_psi4l,smallbl);\n",
    "  // Then compute u_xr,u_yr, and u_zr. We need to set the zeroth component so we can specify U_LOWER{r,l}[{UX,UY,UZ}]\n",
    "  CCTK_REAL U_LOWERl[4] = { 0.0, u_x_over_u0_psi4l*u0_l*FACEVAL_LAPSE_PSI4[PSI4], u_y_over_u0_psi4l*u0_l*FACEVAL_LAPSE_PSI4[PSI4], \n",
    "                            u_z_over_u0_psi4l*u0_l*FACEVAL_LAPSE_PSI4[PSI4] };\n",
    "  /***********************************************************/\n",
    "\n",
    "  // Compute v02 = v_A^2 + c_s^2*(1.0-v_A^2), where c_s = sound speed, and v_A = Alfven velocity\n",
    "  CCTK_REAL v02r,v02l;\n",
    "  // First right face\n",
    "  compute_v02(dPcold_drhor,eos.gamma_th,eps_thr,h_r,smallbr,Ur,v02r);\n",
    "  // Then left face.\n",
    "  compute_v02(dPcold_drhol,eos.gamma_th,eps_thl,h_l,smallbl,Ul,v02l);\n",
    "\n",
    "  int offset=flux_dirn-1;\n",
    "\n",
    "  // Now that we have computed v02 = v_A^2 + c_s^2*(1.0-v_A^2), we can\n",
    "  //   next compute c_+ and c_- using a simplified dispersion relation. \n",
    "  //   Note that, in solving the simplified disp. relation, we overestimate \n",
    "  //   c_+ and c_- by around a factor of 2, making the MHD evolution more\n",
    "  //   diffusive (and potentially more *stable*) than it could be.\n",
    "  CCTK_REAL cplusr,cminusr,cplusl,cminusl;\n",
    "  find_cp_cm(cplusr,cminusr,v02r,u0_r,\n",
    "             Ur[VX+offset],ONE_OVER_LAPSE_SQUARED,FACEVAL[SHIFTX+offset],psim4,FACEVAL[GUPXX+offset]);\n",
    "  find_cp_cm(cplusl,cminusl,v02l,u0_l,\n",
    "             Ul[VX+offset],ONE_OVER_LAPSE_SQUARED,FACEVAL[SHIFTX+offset],psim4,FACEVAL[GUPXX+offset]);\n",
    "\n",
    "  // Then compute cmax, cmin. This is required for the HLL flux.\n",
    "  CCTK_REAL cmaxL =  MAX(0.0,MAX(cplusl,cplusr));\n",
    "  CCTK_REAL cminL = -MIN(0.0,MIN(cminusl,cminusr));\n",
    "\n",
    "  //*********************************************************************\n",
    "  // density flux = \\rho_* v^m, where m is the current flux direction (the m index)\n",
    "  //*********************************************************************\n",
    "  CCTK_REAL rho_star_r = alpha_sqrt_gamma*Ur[RHOB]*u0_r;\n",
    "  CCTK_REAL rho_star_l = alpha_sqrt_gamma*Ul[RHOB]*u0_l;\n",
    "  CCTK_REAL Fr = rho_star_r*Ur[VX+offset]; // flux_dirn = 2, so offset = 1, implies Ur[VX] -> Ur[VY]\n",
    "  CCTK_REAL Fl = rho_star_l*Ul[VX+offset]; // flux_dirn = 2, so offset = 1, implies Ul[VX] -> Ul[VY]\n",
    "\n",
    "  // HLL step for rho_star:\n",
    "  rho_star_flux = (cminL*Fr + cmaxL*Fl - cminL*cmaxL*(rho_star_r-rho_star_l) )/(cmaxL + cminL);\n",
    "\n",
    "  //*********************************************************************\n",
    "  // energy flux = \\alpha^2 \\sqrt{\\gamma} T^{0m} - \\rho_* v^m, where m is the current flux direction (the m index)\n",
    "  //*********************************************************************\n",
    "  // First compute some useful metric quantities:\n",
    "  CCTK_REAL alpha_squared_sqrt_gamma = FACEVAL_LAPSE_PSI4[LAPSE]*alpha_sqrt_gamma;\n",
    "  CCTK_REAL g4uptm =  ONE_OVER_LAPSE_SQUARED*FACEVAL[SHIFTX+offset];\n",
    "  CCTK_REAL g4uptt = -ONE_OVER_LAPSE_SQUARED;\n",
    "  /********** RIGHT FACE ************/\n",
    "  // Compute a couple useful hydro quantities:\n",
    "  CCTK_REAL rho0_h_plus_b2_r = (Ur[RHOB]*h_r + smallbr[SMALLB2]);\n",
    "  CCTK_REAL P_plus_half_b2_r = (Ur[PRESSURE]+0.5*smallbr[SMALLB2]);\n",
    "  // Then compute T^{0m} and the flux:\n",
    "  CCTK_REAL TUP0m_r = rho0_h_plus_b2_r*SQR(u0_r)*Ur[VX+offset] + P_plus_half_b2_r*g4uptm - smallbr[SMALLBT]*smallbr[SMALLBX+offset];\n",
    "  Fr = alpha_squared_sqrt_gamma * TUP0m_r - rho_star_r * Ur[VX+offset];\n",
    "  // Finally compute tau\n",
    "  CCTK_REAL TUP00_r = rho0_h_plus_b2_r*u0_r*u0_r + P_plus_half_b2_r*g4uptt - smallbr[SMALLBT]*smallbr[SMALLBT];\n",
    "  CCTK_REAL tau_r = alpha_squared_sqrt_gamma * TUP00_r - rho_star_r;\n",
    "  /********** LEFT FACE *************/\n",
    "  // Compute a couple useful hydro quantities:\n",
    "  CCTK_REAL rho0_h_plus_b2_l = (Ul[RHOB]*h_l + smallbl[SMALLB2]);\n",
    "  CCTK_REAL P_plus_half_b2_l = (Ul[PRESSURE]+0.5*smallbl[SMALLB2]);\n",
    "  // Then compute T^{0m} and the flux:\n",
    "  CCTK_REAL TUP0m_l = rho0_h_plus_b2_l*SQR(u0_l)*Ul[VX+offset] + P_plus_half_b2_l*g4uptm - smallbl[SMALLBT]*smallbl[SMALLBX+offset];\n",
    "  Fl = alpha_squared_sqrt_gamma * TUP0m_l - rho_star_l * Ul[VX+offset];\n",
    "  // Finally compute tau\n",
    "  CCTK_REAL TUP00_l = rho0_h_plus_b2_l*u0_l*u0_l + P_plus_half_b2_l*g4uptt - smallbl[SMALLBT]*smallbl[SMALLBT];\n",
    "  CCTK_REAL tau_l = alpha_squared_sqrt_gamma * TUP00_l - rho_star_l;\n",
    "\n",
    "  // HLL step for tau:\n",
    "  tau_flux = (cminL*Fr + cmaxL*Fl - cminL*cmaxL*(tau_r-tau_l) )/(cmaxL + cminL);\n",
    "\n",
    "  //*********************************************************************\n",
    "  // momentum flux = \\alpha \\sqrt{\\gamma} T^m_j, where m is the current flux direction (the m index)\n",
    "  //*********************************************************************\n",
    "  // b_j = g_{ij} (b^i + b^t shift^i), g_{ij} = physical metric\n",
    "  //CCTK_REAL sbtr=0,sbtl=0;\n",
    "  CCTK_REAL smallb_lowerr[NUMVARS_SMALLB],smallb_lowerl[NUMVARS_SMALLB];\n",
    "  lower_4vector_output_spatial_part(psi4,FACEVAL,smallbr,smallb_lowerr);\n",
    "  lower_4vector_output_spatial_part(psi4,FACEVAL,smallbl,smallb_lowerl);\n",
    "\n",
    "  /********** Flux for S_x **********/\n",
    "  // [S_x flux] = \\alpha \\sqrt{\\gamma} T^m_x, where m is the current flux direction (the m index)\n",
    "  //    Again, offset = 0 for reconstruction in x direction, 1 for y, and 2 for z\n",
    "  //    Note that kronecker_delta[flux_dirn][0] = { 1 if flux_dirn==1, 0 otherwise }.\n",
    "  Fr = alpha_sqrt_gamma*( rho0_h_plus_b2_r*(u0_r*Ur[VX+offset])*U_LOWERr[UX] \n",
    "                          + P_plus_half_b2_r*kronecker_delta[flux_dirn][0] - smallbr[SMALLBX+offset]*smallb_lowerr[SMALLBX] );\n",
    "  Fl = alpha_sqrt_gamma*( rho0_h_plus_b2_l*(u0_l*Ul[VX+offset])*U_LOWERl[UX] \n",
    "                          + P_plus_half_b2_l*kronecker_delta[flux_dirn][0] - smallbl[SMALLBX+offset]*smallb_lowerl[SMALLBX] );\n",
    "\n",
    "  //        S_x =\\alpha\\sqrt{\\gamma}( T^0_x )\n",
    "  CCTK_REAL st_x_r = alpha_sqrt_gamma*( rho0_h_plus_b2_r*u0_r*U_LOWERr[UX] - smallbr[SMALLBT]*smallb_lowerr[SMALLBX] );\n",
    "  CCTK_REAL st_x_l = alpha_sqrt_gamma*( rho0_h_plus_b2_l*u0_l*U_LOWERl[UX] - smallbl[SMALLBT]*smallb_lowerl[SMALLBX] );\n",
    "\n",
    "  // HLL step for Sx:\n",
    "  st_x_flux = (cminL*Fr + cmaxL*Fl - cminL*cmaxL*(st_x_r-st_x_l) )/(cmaxL + cminL);\n",
    "\n",
    "  /********** Flux for S_y **********/\n",
    "  // [S_y flux] = \\alpha \\sqrt{\\gamma} T^m_y, where m is the current flux direction (the m index)\n",
    "  //    Again, offset = 1 for reconstruction in x direction, 2 for y, and 3 for z\n",
    "  //    Note that kronecker_delta[flux_dirn][1] = { 1 if flux_dirn==2, 0 otherwise }.\n",
    "  Fr = alpha_sqrt_gamma*( rho0_h_plus_b2_r*(u0_r*Ur[VX+offset])*U_LOWERr[UY] + P_plus_half_b2_r*kronecker_delta[flux_dirn][1] \n",
    "                          - smallbr[SMALLBX+offset]*smallb_lowerr[SMALLBY] );\n",
    "  Fl = alpha_sqrt_gamma*( rho0_h_plus_b2_l*(u0_l*Ul[VX+offset])*U_LOWERl[UY] + P_plus_half_b2_l*kronecker_delta[flux_dirn][1] \n",
    "                          - smallbl[SMALLBX+offset]*smallb_lowerl[SMALLBY] );\n",
    "\n",
    "  //        S_y =\\alpha\\sqrt{\\gamma}( T^0_y )\n",
    "  CCTK_REAL st_y_r = alpha_sqrt_gamma*( rho0_h_plus_b2_r*u0_r*U_LOWERr[UY] - smallbr[SMALLBT]*smallb_lowerr[SMALLBY] );\n",
    "  CCTK_REAL st_y_l = alpha_sqrt_gamma*( rho0_h_plus_b2_l*u0_l*U_LOWERl[UY] - smallbl[SMALLBT]*smallb_lowerl[SMALLBY] );\n",
    "\n",
    "  // HLL step for Sy:\n",
    "  st_y_flux = (cminL*Fr + cmaxL*Fl - cminL*cmaxL*(st_y_r-st_y_l) )/(cmaxL + cminL);\n",
    "  /********** Flux for S_z **********/\n",
    "  // [S_z flux] = \\alpha \\sqrt{\\gamma} T^m_z, where m is the current flux direction (the m index)\n",
    "  //    Again, offset = 1 for reconstruction in x direction, 2 for y, and 3 for z\n",
    "  //    Note that kronecker_delta[flux_dirn][2] = { 1 if flux_dirn==3, 0 otherwise }.\n",
    "  Fr = alpha_sqrt_gamma*( rho0_h_plus_b2_r*(u0_r*Ur[VX+offset])*U_LOWERr[UZ] + P_plus_half_b2_r*kronecker_delta[flux_dirn][2] \n",
    "                          - smallbr[SMALLBX+offset]*smallb_lowerr[SMALLBZ] );\n",
    "  Fl = alpha_sqrt_gamma*( rho0_h_plus_b2_l*(u0_l*Ul[VX+offset])*U_LOWERl[UZ] + P_plus_half_b2_l*kronecker_delta[flux_dirn][2] \n",
    "                          - smallbl[SMALLBX+offset]*smallb_lowerl[SMALLBZ] );\n",
    "\n",
    "  //        S_z =\\alpha\\sqrt{\\gamma}( T^0_z )\n",
    "  CCTK_REAL st_z_r = alpha_sqrt_gamma*( rho0_h_plus_b2_r*u0_r*U_LOWERr[UZ] - smallbr[SMALLBT]*smallb_lowerr[SMALLBZ] );\n",
    "  CCTK_REAL st_z_l = alpha_sqrt_gamma*( rho0_h_plus_b2_l*u0_l*U_LOWERl[UZ] - smallbl[SMALLBT]*smallb_lowerl[SMALLBZ] );\n",
    "\n",
    "  // HLL step for Sz:\n",
    "  st_z_flux = (cminL*Fr + cmaxL*Fl - cminL*cmaxL*(st_z_r-st_z_l) )/(cmaxL + cminL);\n",
    "\n",
    "  cmax = cmaxL;\n",
    "  cmin = cminL;\n",
    "}\n",
    "\n"
   ]
  },
  {
   "cell_type": "markdown",
   "metadata": {},
   "source": [
    "<a id='code_validation'></a>\n",
    "\n",
    "# Step n-1: Code validation \\[Back to [top](#toc)\\]\n",
    "$$\\label{code_validation}$$\n",
    "\n",
    "First we will download the original `IllinoisGRMHD` source code."
   ]
  },
  {
   "cell_type": "code",
   "execution_count": 4,
   "metadata": {},
   "outputs": [
    {
     "name": "stdout",
     "output_type": "stream",
     "text": [
      "--2019-09-19 10:24:13--  https://bitbucket.org/zach_etienne/wvuthorns/raw/ea4d70af29c988ce25fc5fdba5550e31e52f7df3/IllinoisGRMHD/src/mhdflux.C\n",
      "Resolving bitbucket.org (bitbucket.org)... 18.205.93.0, 18.205.93.2, 18.205.93.1, ...\n",
      "Connecting to bitbucket.org (bitbucket.org)|18.205.93.0|:443... connected.\n",
      "HTTP request sent, awaiting response... 200 OK\n",
      "Length: 11397 (11K) [text/plain]\n",
      "Saving to: ‘mhdflux-original.C’\n",
      "\n",
      "mhdflux-original.C  100%[===================>]  11.13K  --.-KB/s    in 0s      \n",
      "\n",
      "2019-09-19 10:24:13 (217 MB/s) - ‘mhdflux-original.C’ saved [11397/11397]\n",
      "\n"
     ]
    }
   ],
   "source": [
    "!wget -O mhdflux-original.C https://bitbucket.org/zach_etienne/wvuthorns/raw/ea4d70af29c988ce25fc5fdba5550e31e52f7df3/IllinoisGRMHD/src/mhdflux.C"
   ]
  },
  {
   "cell_type": "markdown",
   "metadata": {},
   "source": [
    "Then we compare the two files and check if it passes the validation test."
   ]
  },
  {
   "cell_type": "code",
   "execution_count": 5,
   "metadata": {},
   "outputs": [
    {
     "name": "stdout",
     "output_type": "stream",
     "text": [
      "Validation test for mhdflux.C: PASSED!\n"
     ]
    }
   ],
   "source": [
    "# Uncommend this after diff have been resolved\n",
    "# vvvvvvvvvvvvvvvvvvvvvvvvvvvvvvvvvvvvvvvvvvvv\n",
    "# import filecmp\n",
    "\n",
    "# if filecmp.cmp('driver_evaluate_MHD_rhs.C',\n",
    "#                'driver_evaluate_MHD_rhs-validation.C') == False:\n",
    "#     print(\"ERROR: driver_evaluate_MHD_rhs.C validation FAILED!\")\n",
    "#     exit(1)\n",
    "# else:\n",
    "#     print(\"driver_evaluate_MHD_rhs.C validation PASSED!\")\n",
    "# ^^^^^^^^^^^^^^^^^^^^^^^^^^^^^^^^^^^^^^^^^^^^\n",
    "# Uncommend this after diff have been resolved\n",
    "\n",
    "Validation__mhdflux__C  = !diff mhdflux-original.C mhdflux.C\n",
    "        \n",
    "if Validation__mhdflux__C == []:\n",
    "    print(\"Validation test for mhdflux.C: PASSED!\")\n",
    "else:\n",
    "    print(\"Validation test for mhdflux.C: FAILED!\")\n",
    "    print(\"Diff:\")\n",
    "    for diff_line in Validation__mhdflux__C:\n",
    "        print(diff_line)"
   ]
  },
  {
   "cell_type": "markdown",
   "metadata": {},
   "source": [
    "<a id='latex_pdf_output'></a>\n",
    "\n",
    "# Step n: Output this module to $\\LaTeX$-formatted PDF file \\[Back to [top](#toc)\\]\n",
    "$$\\label{latex_pdf_output}$$\n",
    "\n",
    "The following code cell converts this Jupyter notebook into a proper, clickable $\\LaTeX$-formatted PDF file. After the cell is successfully run, the generated PDF may be found in the root NRPy+ tutorial directory, with filename\n",
    "[Tutorial-IllinoisGRMHD_mhdflux.pdf](Tutorial-IllinoisGRMHD_mhdflux.pdf) (Note that clicking on this link may not work; you may need to open the PDF file through another means)."
   ]
  },
  {
   "cell_type": "code",
   "execution_count": 6,
   "metadata": {},
   "outputs": [
    {
     "name": "stdout",
     "output_type": "stream",
     "text": [
      "[NbConvertApp] Converting notebook Tutorial-IllinoisGRMHD_mhdflux.ipynb to latex\n",
      "[NbConvertApp] Writing 47705 bytes to Tutorial-IllinoisGRMHD_mhdflux.tex\n",
      "This is pdfTeX, Version 3.14159265-2.6-1.40.18 (TeX Live 2017/Debian) (preloaded format=pdflatex)\n",
      " restricted \\write18 enabled.\n",
      "entering extended mode\n",
      "This is pdfTeX, Version 3.14159265-2.6-1.40.18 (TeX Live 2017/Debian) (preloaded format=pdflatex)\n",
      " restricted \\write18 enabled.\n",
      "entering extended mode\n",
      "This is pdfTeX, Version 3.14159265-2.6-1.40.18 (TeX Live 2017/Debian) (preloaded format=pdflatex)\n",
      " restricted \\write18 enabled.\n",
      "entering extended mode\n"
     ]
    }
   ],
   "source": [
    "!jupyter nbconvert --to latex --template ../../latex_nrpy_style.tplx Tutorial-IllinoisGRMHD_mhdflux.ipynb\n",
    "!pdflatex -interaction=batchmode Tutorial-IllinoisGRMHD_mhdflux.tex\n",
    "!pdflatex -interaction=batchmode Tutorial-IllinoisGRMHD_mhdflux.tex\n",
    "!pdflatex -interaction=batchmode Tutorial-IllinoisGRMHD_mhdflux.tex\n",
    "!rm -f Tut*.out Tut*.aux Tut*.log"
   ]
  }
 ],
 "metadata": {
  "kernelspec": {
   "display_name": "Python 2",
   "language": "python",
   "name": "python2"
  },
  "language_info": {
   "codemirror_mode": {
    "name": "ipython",
    "version": 2
   },
   "file_extension": ".py",
   "mimetype": "text/x-python",
   "name": "python",
   "nbconvert_exporter": "python",
   "pygments_lexer": "ipython2",
   "version": "2.7.13"
  }
 },
 "nbformat": 4,
 "nbformat_minor": 2
}
