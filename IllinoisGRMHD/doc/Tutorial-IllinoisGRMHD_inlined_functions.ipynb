{
 "cells": [
  {
   "cell_type": "markdown",
   "metadata": {},
   "source": [
    "# Tutorial-IllinoisGRMHD: inlined_functions.C\n",
    "\n",
    "## Authors: Zach Etienne & Leo Werneck\n",
    "\n",
    "<font color='red'>**This module is currently under development**</font>\n",
    "\n",
    "## In this tutorial module we explain a series of inline functions that are used by major functions within IllinoisGRMHD.\n",
    "\n",
    "### Required and recommended citations:\n",
    "\n",
    "* **(Required)** Etienne, Z. B., Paschalidis, V., Haas R., Mösta P., and Shapiro, S. L. IllinoisGRMHD: an open-source, user-friendly GRMHD code for dynamical spacetimes. Class. Quantum Grav. 32 (2015) 175009. ([arxiv:1501.07276](http://arxiv.org/abs/1501.07276)).\n",
    "* **(Required)** Noble, S. C., Gammie, C. F., McKinney, J. C., Del Zanna, L. Primitive Variable Solvers for Conservative General Relativistic Magnetohydrodynamics. Astrophysical Journal, 641, 626 (2006) ([astro-ph/0512420](https://arxiv.org/abs/astro-ph/0512420)).\n",
    "* **(Recommended)** Del Zanna, L., Bucciantini N., Londrillo, P. An efficient shock-capturing central-type scheme for multidimensional relativistic flows - II. Magnetohydrodynamics. A&A 400 (2) 397-413 (2003). DOI: 10.1051/0004-6361:20021641 ([astro-ph/0210618](https://arxiv.org/abs/astro-ph/0210618))."
   ]
  },
  {
   "cell_type": "markdown",
   "metadata": {},
   "source": [
    "<a id='toc'></a>\n",
    "\n",
    "# Table of Contents\n",
    "$$\\label{toc}$$\n",
    "\n",
    "This module is organized as follows\n",
    "\n",
    "0. [Step 0](#src_dir): **Source directory creation**\n",
    "1. [Step 1](#introduction): **Introduction**\n",
    "1. [Step 2](#fasterpow_ppm_reconstruct): **`fasterpow_ppm_reconstruct`**\n",
    "1. [Step 3](#find_cp_cm): **`find_cp_cm`**\n",
    "1. [Step 4](#compute_v02): **`compute_v02`**\n",
    "1. [Step 5](#compute_p_cold__eps_cold__dpcold_drho__eps_th__h__gamma_cold): **`compute_P_cold__eps_cold__dPcold_drho__eps_th__h__gamma_cold`**\n",
    "1. [Step 6](#lower_4vector_output_spatial_part): **`lower_4vector_output_spatial_part`**\n",
    "1. [Step 7](#impose_speed_limit_output_u0): **`impose_speed_limit_output_u0`**\n",
    "1. [Step 8](#enforce_pressure_floor_ceiling): **`enforce_pressure_floor_ceiling`**\n",
    "1. [Step 9](#compute_smallba_b2_and_u_i_over_u0_psi4): **`compute_smallba_b2_and_u_i_over_u0_psi4`**\n",
    "1. [Step 10](#code_validation): **Code validation**\n",
    "1. [Step 11](#latex_pdf_output): **Output this module to $\\LaTeX$-formatted PDF file**"
   ]
  },
  {
   "cell_type": "markdown",
   "metadata": {},
   "source": [
    "<a id='src_dir'></a>\n",
    "\n",
    "# Step 0: Source directory creation \\[Back to [top](#toc)\\]\n",
    "$$\\label{src_dir}$$\n",
    "\n",
    "We will now use the [cmdline_helper.py NRPy+ module](Tutorial-Tutorial-cmdline_helper.ipynb) to create the source directory within the `IllinoisGRMHD` NRPy+ directory, if it does not exist yet."
   ]
  },
  {
   "cell_type": "code",
   "execution_count": 1,
   "metadata": {},
   "outputs": [],
   "source": [
    "# Step 0: Creation of the IllinoisGRMHD source directory\n",
    "# Step 0a: Add NRPy's directory to the path\n",
    "# https://stackoverflow.com/questions/16780014/import-file-from-parent-directory\n",
    "import sys\n",
    "sys.path.append(\"../../\")\n",
    "\n",
    "# Step 0b: Load up cmdline_helper and create the directory\n",
    "import cmdline_helper as cmd\n",
    "IGM_src_dir_path = \"../src\"\n",
    "cmd.mkdir(IGM_src_dir_path)"
   ]
  },
  {
   "cell_type": "markdown",
   "metadata": {},
   "source": [
    "<a id='introduction'></a>\n",
    "\n",
    "# Step 1: Introduction \\[Back to [top](#toc)\\]\n",
    "$$\\label{introduction}$$"
   ]
  },
  {
   "cell_type": "markdown",
   "metadata": {},
   "source": [
    "<a id='fasterpow_ppm_reconstruct'></a>\n",
    "\n",
    "# Step 2: `fasterpow_ppm_reconstruct` \\[Back to [top](#toc)\\]\n",
    "$$\\label{fasterpow_ppm_reconstruct}$$"
   ]
  },
  {
   "cell_type": "code",
   "execution_count": 2,
   "metadata": {},
   "outputs": [
    {
     "name": "stdout",
     "output_type": "stream",
     "text": [
      "Overwriting ../src/inlined_functions.C\n"
     ]
    }
   ],
   "source": [
    "%%writefile $IGM_src_dir_path/inlined_functions.C\n",
    "static inline CCTK_REAL fasterpow_ppm_reconstruct(CCTK_REAL inputvar,CCTK_REAL inputpow) {\n",
    "  if(inputpow==2.0) return SQR(inputvar);\n",
    "  return pow(inputvar,inputpow);\n",
    "}"
   ]
  },
  {
   "cell_type": "markdown",
   "metadata": {},
   "source": [
    "<a id='find_cp_cm'></a>\n",
    "\n",
    "# Step 3: `find_cp_cm` \\[Back to [top](#toc)\\]\n",
    "$$\\label{find_cp_cm}$$"
   ]
  },
  {
   "cell_type": "code",
   "execution_count": 3,
   "metadata": {},
   "outputs": [
    {
     "name": "stdout",
     "output_type": "stream",
     "text": [
      "Appending to ../src/inlined_functions.C\n"
     ]
    }
   ],
   "source": [
    "%%writefile -a $IGM_src_dir_path/inlined_functions.C\n",
    "\n",
    "\n",
    "static inline void find_cp_cm(CCTK_REAL &cplus,CCTK_REAL &cminus,CCTK_REAL v02,CCTK_REAL u0,\n",
    "                       CCTK_REAL vi,CCTK_REAL ONE_OVER_LAPSE_SQUARED,CCTK_REAL shifti,CCTK_REAL psim4,CCTK_REAL gupii) {\n",
    "  // This computes phase speeds in the direction given by flux_dirn.\n",
    "  //  Note that we replace the full dispersion relation with a simpler\n",
    "  //     one, which overestimates the max. speeds by a factor of ~2. \n",
    "  //     See full discussion around Eqs. 49 and 50 in\n",
    "  //     http://arxiv.org/pdf/astro-ph/0503420.pdf .\n",
    "  //  What follows is a complete derivation of the quadratic we solve.\n",
    "  // wcm = (-k_0 u0 - k_x ux)\n",
    "  // kcm^2 = K_{\\mu} K^{\\mu}, \n",
    "  // K_{\\mu} K^{\\mu} = (g_{\\mu a} + u_{\\mu} u_a) k^a * g^{\\mu b} [ (g_{c b} + u_c u_b) k^c ]\n",
    "  // --> g^{\\mu b} (g_{c b} + u_{c} u_{b}) k^c = (\\delta^{\\mu}_c + u_c u^{\\mu} ) k^c\n",
    "  //                 = (g_{\\mu a} + u_{\\mu} u_a) k^a * (\\delta^{\\mu}_c + u_c u^{\\mu} ) k^c\n",
    "  //                 =[(g_{\\mu a} + u_{\\mu} u_a) \\delta^{\\mu}_c + (g_{\\mu a} + u_{\\mu} u_a) u_c u^{\\mu} ] k^c k^a\n",
    "  //                 =[(g_{c a} + u_c u_a) + (u_c u_a -  u_a u_c] k^c k^a\n",
    "  //                 =(g_{c a} + u_c u_a) k^c k^a\n",
    "  //                 = k_a k^a + u^c u^a k_c k_a\n",
    "  // k^a = g^{\\mu a} k_{\\mu} = g^{0 a} k_0 + g^{x a} k_x\n",
    "  // k_a k^a = k_0 g^{0 0} k_0 + k_x k_0 g^{0 x} + g^{x 0} k_0 k_x + g^{x x} k_x k_x\n",
    "  //         = g^{00} (k_0)^2 + 2 g^{x0} k_0 k_x + g^{xx} (k_x)^2\n",
    "  // u^c u^a k_c k_a = (u^0 k_0 + u^x k_x) (u^0 k_0 + u^x k_x) = (u^0 k_0)^2 + 2 u^x k_x u^0 k_0 + (u^x k_x)^2\n",
    "  // (k_0 u0)^2  + 2 k_x ux k_0 u0 + (k_x ux)^2 = v02 [ (u^0 k_0)^2 + 2 u^x k_x u^0 k_0 + (u^x k_x)^2 + g^{00} (k_0)^2 + 2 g^{x0} k_0 k_x + g^{xx} (k_x)^2]\n",
    "  // (1-v02) (u^0 k_0 + u^x k_x)^2 = v02 (g^{00} (k_0)^2 + 2 g^{x0} k_0 k_x + g^{xx} (k_x)^2)\n",
    "  // (1-v02) (u^0 k_0/k_x + u^x)^2 = v02 (g^{00} (k_0/k_x)^2 + 2 g^{x0} k_0/k_x + g^{xx})\n",
    "  // (1-v02) (u^0 X + u^x)^2 = v02 (g^{00} X^2 + 2 g^{x0} X + g^{xx})\n",
    "  // (1-v02) (u0^2 X^2 + 2 ux u0 X + ux^2) = v02 (g^{00} X^2 + 2 g^{x0} X + g^{xx})\n",
    "  // X^2 ( (1-v02) u0^2 - v02 g^{00}) + X (2 ux u0 (1-v02) - 2 v02 g^{x0}) + (1-v02) ux^2 - v02 g^{xx}\n",
    "  // a = (1-v02) u0^2 - v02 g^{00} = (1-v02) u0^2 + v02/lapse^2 <-- VERIFIED\n",
    "  // b = 2 ux u0 (1-v02) - 2 v02 shiftx/lapse^2 <-- VERIFIED, X->-X, because X = -w/k_1, and we are solving for -X.\n",
    "  // c = (1-v02) ux^2 - v02 (gupxx*psim4 - (shiftx/lapse)^2) <-- VERIFIED\n",
    "  // v02 = v_A^2 + c_s^2 (1 - v_A^2)\n",
    "  CCTK_REAL u0_SQUARED=SQR(u0);\n",
    "\n",
    "  //Find cplus, cminus:\n",
    "  CCTK_REAL a = u0_SQUARED * (1.0-v02) + v02*ONE_OVER_LAPSE_SQUARED;\n",
    "  CCTK_REAL b = 2.0* ( shifti*ONE_OVER_LAPSE_SQUARED * v02 - u0_SQUARED * vi * (1.0-v02) );\n",
    "  CCTK_REAL c = u0_SQUARED*SQR(vi) * (1.0-v02) - v02 * ( psim4*gupii -\n",
    "                                                         SQR(shifti)*ONE_OVER_LAPSE_SQUARED);\n",
    "  CCTK_REAL detm = b*b - 4.0*a*c;\n",
    "  //ORIGINAL LINE OF CODE:\n",
    "  //if(detm < 0.0) detm = 0.0;\n",
    "  //New line of code (without the if() statement) has the same effect:\n",
    "  detm = sqrt(0.5*(detm + fabs(detm))); /* Based on very nice suggestion from Roland Haas */\n",
    "  \n",
    "  cplus = 0.5*(detm-b)/a;\n",
    "  cminus = -0.5*(detm+b)/a;\n",
    "  if (cplus < cminus) {\n",
    "    CCTK_REAL cp = cminus;\n",
    "    cminus = cplus;\n",
    "    cplus = cp;\n",
    "  }\n",
    "}"
   ]
  },
  {
   "cell_type": "markdown",
   "metadata": {},
   "source": [
    "<a id='compute_v02'></a>\n",
    "\n",
    "# Step 4: `compute_v02` \\[Back to [top](#toc)\\]\n",
    "$$\\label{compute_v02}$$"
   ]
  },
  {
   "cell_type": "code",
   "execution_count": 4,
   "metadata": {},
   "outputs": [
    {
     "name": "stdout",
     "output_type": "stream",
     "text": [
      "Appending to ../src/inlined_functions.C\n"
     ]
    }
   ],
   "source": [
    "%%writefile -a $IGM_src_dir_path/inlined_functions.C\n",
    "\n",
    "\n",
    "static inline void compute_v02(CCTK_REAL dPcold_drho,CCTK_REAL gamma_th,CCTK_REAL eps_th,CCTK_REAL h,CCTK_REAL *smallb,CCTK_REAL *U,  CCTK_REAL &v02L) {\n",
    "\n",
    "  if(U[RHOB]<=0) { v02L=1.0; return; }\n",
    "\n",
    "  /* c_s = sound speed = (dP_c/drho + \\Gamma(\\Gamma-1) \\epsilon_th)/h */\n",
    "  CCTK_REAL c_s_squared  = (dPcold_drho + gamma_th*(gamma_th-1.0)*eps_th)/(h);\n",
    "  /* v_A = Alfven speed = b^2/(rho0 h + b^2) */\n",
    "  CCTK_REAL v_A_squared = smallb[SMALLB2]/(smallb[SMALLB2] + U[RHOB]*(h));\n",
    "  v02L = v_A_squared + c_s_squared*(1.0-v_A_squared);\n",
    "}"
   ]
  },
  {
   "cell_type": "markdown",
   "metadata": {},
   "source": [
    "<a id='compute_p_cold__eps_cold__dpcold_drho__eps_th__h__gamma_cold'></a>\n",
    "\n",
    "# Step 5: `compute_P_cold__eps_cold__dPcold_drho__eps_th__h__gamma_cold` \\[Back to [top](#toc)\\]\n",
    "$$\\label{compute_p_cold__eps_cold__dpcold_drho__eps_th__h__gamma_cold}$$"
   ]
  },
  {
   "cell_type": "code",
   "execution_count": 5,
   "metadata": {},
   "outputs": [
    {
     "name": "stdout",
     "output_type": "stream",
     "text": [
      "Appending to ../src/inlined_functions.C\n"
     ]
    }
   ],
   "source": [
    "%%writefile -a $IGM_src_dir_path/inlined_functions.C\n",
    "\n",
    "\n",
    "static inline void compute_P_cold__eps_cold__dPcold_drho__eps_th__h__gamma_cold(CCTK_REAL *U, eos_struct &eos,\n",
    "                                                                         CCTK_REAL &P_cold,CCTK_REAL &eps_cold,CCTK_REAL &dPcold_drho,CCTK_REAL &eps_th,CCTK_REAL &h,\n",
    "                                                                         CCTK_REAL &gamma_cold) {\n",
    "  // This code handles equations of state of the form defined\n",
    "  // in Eqs 13-16 in http://arxiv.org/pdf/0802.0200.pdf\n",
    "\n",
    "  if(U[RHOB]==0) {\n",
    "    P_cold = 0.0;\n",
    "    eps_cold = 0.0;\n",
    "    dPcold_drho = 0.0;\n",
    "    eps_th = 0.0;\n",
    "    h = 0.0;\n",
    "    gamma_cold = eos.gamma_tab[0];\n",
    "    return;\n",
    "  }\n",
    "\n",
    "  CCTK_REAL U_RHOB_inv = 1.0/U[RHOB];\n",
    "\n",
    "  if(eos.neos==1) {\n",
    "    // Eq. 14 of http://arxiv.org/pdf/0802.0200.pdf :\n",
    "    // P_{cold} = K_i rho_i^{\\Gamma_i}\n",
    "    P_cold = eos.k_tab[0]*fasterpow_ppm_reconstruct(U[RHOB],eos.gamma_tab[0]);\n",
    "    // Eq. 16 of http://arxiv.org/pdf/0802.0200.pdf :\n",
    "    // \\epsilon_{cold} = \\int ( P_{cold}(rho) / rho^2 ) drho \n",
    "    //                 = \\int ( K_0 \\rho^{\\Gamma_0 - 2} ) drho \n",
    "    //                 = ( K_0 \\rho^{\\Gamma_0 - 1} ) / (\\Gamma_0 - 1)\n",
    "    //                 = ( P_{cold} / rho          ) / (\\Gamma_0 - 1)\n",
    "    eps_cold = P_cold*U_RHOB_inv/(eos.gamma_tab[0]-1.0);\n",
    "    // dPcold/drho = K_i \\Gamma_i rho_i^{\\Gamma_i-1} = \\Gamma_i P_{cold} / rho\n",
    "    dPcold_drho = eos.gamma_tab[0]*P_cold*U_RHOB_inv;\n",
    "    // Eq. 15 of http://arxiv.org/pdf/0802.0200.pdf :\n",
    "    // P_{th} = (\\Gamma_{th} - 1) \\rho_0 \\epsilon_{th},\n",
    "    // Eq. 13 of http://arxiv.org/pdf/0802.0200.pdf :\n",
    "    // P_{th} = P - P_{cold}\n",
    "    // -> P - P_{cold} = (\\Gamma_{th} - 1) \\rho_0 \\epsilon_{th}\n",
    "    // -> \\epsilon_{th} = ( P - P_{cold} ) / [ (\\Gamma_{th} - 1) \\rho_0 ]\n",
    "    eps_th = (U[PRESSURE] - P_cold)/(eos.gamma_th-1.0)*U_RHOB_inv;\n",
    "    // Just below Eq. 16 in http://arxiv.org/pdf/astro-ph/0503420.pdf :\n",
    "    // h = 1 + \\epsilon + P/rho\n",
    "    h = 1.0 + eps_cold + eps_th + U[PRESSURE]*U_RHOB_inv;\n",
    "    gamma_cold = eos.gamma_tab[0];\n",
    "    return;\n",
    "  }\n",
    "\n",
    "  // See comments above for the eos.neos==1 case for relevant \n",
    "  // equations & references; the extension to arbitrary \"nn\"\n",
    "  // is straightforward.\n",
    "  for(int nn=1;nn<eos.neos;nn++) {\n",
    "    if (U[RHOB] <= eos.rho_tab[nn]  &&  U[RHOB] > eos.rho_tab[nn-1]) {\n",
    "      P_cold = eos.k_tab[nn]*fasterpow_ppm_reconstruct(U[RHOB],eos.gamma_tab[nn]);\n",
    "      eps_cold = eos.eps_tab[nn-1] + (P_cold*U_RHOB_inv - eos.P_tab[nn-1]/eos.rho_tab[nn-1])/(eos.gamma_tab[nn]-1.0);\n",
    "      dPcold_drho = eos.gamma_tab[nn]*P_cold*U_RHOB_inv;\n",
    "      eps_th = (U[PRESSURE] - P_cold)/(eos.gamma_th-1.0)*U_RHOB_inv;\n",
    "      h = 1.0 + eps_cold + eps_th + U[PRESSURE]*U_RHOB_inv;\n",
    "      gamma_cold = eos.gamma_tab[nn];\n",
    "    }\n",
    "  }\n",
    "  if (U[RHOB] > eos.rho_tab[eos.neos-1]) {\n",
    "    P_cold = eos.k_tab[eos.neos]*fasterpow_ppm_reconstruct(U[RHOB],eos.gamma_tab[eos.neos]);\n",
    "    eps_cold = eos.eps_tab[eos.neos-1] + (P_cold*U_RHOB_inv - eos.P_tab[eos.neos-1]/eos.rho_tab[eos.neos-1])/(eos.gamma_tab[eos.neos]-1.0);\n",
    "    dPcold_drho = eos.gamma_tab[eos.neos]*P_cold*U_RHOB_inv;\n",
    "    eps_th = (U[PRESSURE] - P_cold)/(eos.gamma_th-1.0)*U_RHOB_inv;\n",
    "    h = 1.0 + eps_cold + eps_th + U[PRESSURE]*U_RHOB_inv;\n",
    "    gamma_cold = eos.gamma_tab[eos.neos];\n",
    "  }\n",
    "}"
   ]
  },
  {
   "cell_type": "markdown",
   "metadata": {},
   "source": [
    "<a id='lower_4vector_output_spatial_part'></a>\n",
    "\n",
    "# Step 6: `lower_4vector_output_spatial_part` \\[Back to [top](#toc)\\]\n",
    "$$\\label{lower_4vector_output_spatial_part}$$"
   ]
  },
  {
   "cell_type": "code",
   "execution_count": 6,
   "metadata": {},
   "outputs": [
    {
     "name": "stdout",
     "output_type": "stream",
     "text": [
      "Appending to ../src/inlined_functions.C\n"
     ]
    }
   ],
   "source": [
    "%%writefile -a $IGM_src_dir_path/inlined_functions.C\n",
    "\n",
    "\n",
    "// b_x = g_{\\mu x} b^{\\mu}\n",
    "//     = g_{t x} b^t + g_{i x} b^i\n",
    "//     = b^t gamma_{xj} beta^j + gamma_{ix} b^i\n",
    "//     = gamma_{xj} (b^j + beta^j b^t)\n",
    "static inline void lower_4vector_output_spatial_part(CCTK_REAL psi4,CCTK_REAL *METRIC,CCTK_REAL *smallb, CCTK_REAL *smallb_lower) {\n",
    "  smallb_lower[SMALLBX] = psi4*( METRIC[GXX]*(smallb[SMALLBX]+smallb[SMALLBT]*METRIC[SHIFTX]) + METRIC[GXY]*(smallb[SMALLBY]+smallb[SMALLBT]*METRIC[SHIFTY]) +\n",
    "                                 METRIC[GXZ]*(smallb[SMALLBZ]+smallb[SMALLBT]*METRIC[SHIFTZ]) );\n",
    "  smallb_lower[SMALLBY] = psi4*( METRIC[GXY]*(smallb[SMALLBX]+smallb[SMALLBT]*METRIC[SHIFTX]) + METRIC[GYY]*(smallb[SMALLBY]+smallb[SMALLBT]*METRIC[SHIFTY]) +\n",
    "                                 METRIC[GYZ]*(smallb[SMALLBZ]+smallb[SMALLBT]*METRIC[SHIFTZ]) );\n",
    "  smallb_lower[SMALLBZ] = psi4*( METRIC[GXZ]*(smallb[SMALLBX]+smallb[SMALLBT]*METRIC[SHIFTX]) + METRIC[GYZ]*(smallb[SMALLBY]+smallb[SMALLBT]*METRIC[SHIFTY]) +\n",
    "                                 METRIC[GZZ]*(smallb[SMALLBZ]+smallb[SMALLBT]*METRIC[SHIFTZ]) );\n",
    "}"
   ]
  },
  {
   "cell_type": "markdown",
   "metadata": {},
   "source": [
    "<a id='impose_speed_limit_output_u0'></a>\n",
    "\n",
    "# Step 7: `impose_speed_limit_output_u0` \\[Back to [top](#toc)\\]\n",
    "$$\\label{impose_speed_limit_output_u0}$$"
   ]
  },
  {
   "cell_type": "code",
   "execution_count": 7,
   "metadata": {},
   "outputs": [
    {
     "name": "stdout",
     "output_type": "stream",
     "text": [
      "Appending to ../src/inlined_functions.C\n"
     ]
    }
   ],
   "source": [
    "%%writefile -a $IGM_src_dir_path/inlined_functions.C\n",
    "\n",
    "\n",
    "static inline void impose_speed_limit_output_u0(CCTK_REAL *METRIC,CCTK_REAL *U,CCTK_REAL psi4,CCTK_REAL ONE_OVER_LAPSE,output_stats &stats, CCTK_REAL &u0_out) {\n",
    "  DECLARE_CCTK_PARAMETERS;\n",
    "\n",
    "  // Derivation of first equation:\n",
    "  // \\gamma_{ij} (v^i + \\beta^i)(v^j + \\beta^j)/(\\alpha)^2 \n",
    "  //   = \\gamma_{ij} 1/(u^0)^2 ( \\gamma^{ik} u_k \\gamma^{jl} u_l /(\\alpha)^2 <- Using Eq. 53 of arXiv:astro-ph/0503420\n",
    "  //   = 1/(u^0 \\alpha)^2 u_j u_l \\gamma^{jl}  <- Since \\gamma_{ij} \\gamma^{ik} = \\delta^k_j\n",
    "  //   = 1/(u^0 \\alpha)^2 ( (u^0 \\alpha)^2 - 1 ) <- Using Eq. 56 of arXiv:astro-ph/0503420\n",
    "  //   = 1 - 1/(u^0 \\alpha)^2 <= 1\n",
    "  CCTK_REAL one_minus_one_over_alpha_u0_squared = psi4*(METRIC[GXX]* SQR(U[VX] + METRIC[SHIFTX]) +\n",
    "                                                        2.0*METRIC[GXY]*(U[VX] + METRIC[SHIFTX])*(U[VY] + METRIC[SHIFTY]) +\n",
    "                                                        2.0*METRIC[GXZ]*(U[VX] + METRIC[SHIFTX])*(U[VZ] + METRIC[SHIFTZ]) +\n",
    "                                                        METRIC[GYY]* SQR(U[VY] + METRIC[SHIFTY]) +\n",
    "                                                        2.0*METRIC[GYZ]*(U[VY] + METRIC[SHIFTY])*(U[VZ] + METRIC[SHIFTZ]) +\n",
    "                                                        METRIC[GZZ]* SQR(U[VZ] + METRIC[SHIFTZ]) )*SQR(ONE_OVER_LAPSE);\n",
    "\n",
    "  /*** Limit velocity to GAMMA_SPEED_LIMIT ***/\n",
    "  const CCTK_REAL ONE_MINUS_ONE_OVER_GAMMA_SPEED_LIMIT_SQUARED = 1.0-1.0/SQR(GAMMA_SPEED_LIMIT);\n",
    "  if(one_minus_one_over_alpha_u0_squared > ONE_MINUS_ONE_OVER_GAMMA_SPEED_LIMIT_SQUARED) {\n",
    "    CCTK_REAL correction_fac = sqrt(ONE_MINUS_ONE_OVER_GAMMA_SPEED_LIMIT_SQUARED/one_minus_one_over_alpha_u0_squared);\n",
    "    U[VX] = (U[VX] + METRIC[SHIFTX])*correction_fac-METRIC[SHIFTX];\n",
    "    U[VY] = (U[VY] + METRIC[SHIFTY])*correction_fac-METRIC[SHIFTY];\n",
    "    U[VZ] = (U[VZ] + METRIC[SHIFTZ])*correction_fac-METRIC[SHIFTZ];\n",
    "    one_minus_one_over_alpha_u0_squared=ONE_MINUS_ONE_OVER_GAMMA_SPEED_LIMIT_SQUARED;\n",
    "    stats.failure_checker+=1000;\n",
    "  }\n",
    "\n",
    "  // A = 1.0-one_minus_one_over_alpha_u0_squared = 1-(1-1/(al u0)^2) = 1/(al u0)^2\n",
    "  // 1/sqrt(A) = al u0\n",
    "  //CCTK_REAL alpha_u0_minus_one = 1.0/sqrt(1.0-one_minus_one_over_alpha_u0_squared)-1.0;\n",
    "  //u0_out          = (alpha_u0_minus_one + 1.0)*ONE_OVER_LAPSE;\n",
    "  CCTK_REAL alpha_u0 = 1.0/sqrt(1.0-one_minus_one_over_alpha_u0_squared);\n",
    "  if(std::isnan(alpha_u0*ONE_OVER_LAPSE)) printf(\"BAD FOUND NAN U0 CALC: %.15e %.15e %.15e | %.15e %.15e\\n\",alpha_u0,ONE_OVER_LAPSE,one_minus_one_over_alpha_u0_squared,psi4, U[VX]);\n",
    "  u0_out = alpha_u0*ONE_OVER_LAPSE;\n",
    "}\n",
    "\n",
    "// The two lines of code below are written to reduce roundoff error and were in the above function. I don't think they reduce error.\n",
    "// one_over_alpha_u0  = sqrt(1.0-one_minus_one_over_alpha_u0_squared);  \n",
    "/* Proof of following line: */                                          \n",
    "/*   [        1-1/(alphau0)^2         ] / [ 1/(alphau0) (1 + 1/(alphau0)) ] */ \n",
    "/* = [ (alphau0)^2 - 1)/((alphau0)^2) ] / [ 1/(alphau0) + 1/(alphau0)^2   ] */ \n",
    "/* = [ (alphau0)^2 - 1)/((alphau0)^2) ] / [  (alphau0 + 1)/(alphau0)^2    ] */ \n",
    "/* = [        (alphau0)^2 - 1)        ] / [        (alphau0 + 1)          ] */  \n",
    "/*   [   (alphau0 + 1) (alphau0 - 1)  ] / [        (alphau0 + 1)          ] */ \n",
    "/* =                              alphau0 - 1                               */ \n",
    "//alpha_u0_minus_one = one_minus_one_over_alpha_u0_squared/one_over_alpha_u0/(1.0+one_over_alpha_u0); \n",
    "//u0_out = (alpha_u0_minus_one+1.0)*ONE_OVER_LAPSE;"
   ]
  },
  {
   "cell_type": "markdown",
   "metadata": {},
   "source": [
    "<a id='enforce_pressure_floor_ceiling'></a>\n",
    "\n",
    "# Step 8: `enforce_pressure_floor_ceiling` \\[Back to [top](#toc)\\]\n",
    "$$\\label{enforce_pressure_floor_ceiling}$$"
   ]
  },
  {
   "cell_type": "code",
   "execution_count": 8,
   "metadata": {},
   "outputs": [
    {
     "name": "stdout",
     "output_type": "stream",
     "text": [
      "Appending to ../src/inlined_functions.C\n"
     ]
    }
   ],
   "source": [
    "%%writefile -a $IGM_src_dir_path/inlined_functions.C\n",
    "\n",
    "\n",
    "static inline void enforce_pressure_floor_ceiling(output_stats &stats,CCTK_REAL kpoly,CCTK_REAL P_cold,CCTK_REAL Psi6,const CCTK_REAL Psi6threshold,CCTK_REAL rho_b,const CCTK_REAL rhobatm,  CCTK_REAL &P) {\n",
    "  CCTK_REAL P_min=0.9*P_cold;\n",
    "  if(P<P_min) {\n",
    "    stats.failure_checker+=10;\n",
    "    P=P_min;\n",
    "  }\n",
    "  //MAX(P,P_min);\n",
    "  //if(P < P_min) P=1.0*P_cold;\n",
    "\n",
    "  /* OLD: Discarded because lower limit is unphysical.\n",
    "     if(P <= 0.5*kpoly*P_cold) {\n",
    "     P=0.5*kpoly*P_cold;\n",
    "     }\n",
    "  */\n",
    "\n",
    "  //CCTK_REAL P_max = 10.0*P_cold;\n",
    "  CCTK_REAL P_max = 100.0*P_cold;\n",
    "  if(Psi6 > Psi6threshold) P_max = 1e5*P_cold; // <-- better than 10.\n",
    "\n",
    "  if((rho_b < 100.0*rhobatm || Psi6 > Psi6threshold) && P>P_max) {\n",
    "    P=P_max;\n",
    "    stats.failure_checker+=100;\n",
    "  }\n",
    "\n",
    "  /*\n",
    "    CCTK_REAL rho_horiz_cap = 1000.0*rhobatm;\n",
    "    \n",
    "    //New density damping mechanism inside the horizon\n",
    "    if(Psi6 > Psi6threshold && rho_b>rho_horiz_cap) {\n",
    "    CCTK_REAL six_phi=log(Psi6);\n",
    "    CCTK_REAL six_phithreshold=log(Psi6threshold);\n",
    "    CCTK_REAL Psi6max_approx=350000;\n",
    "    rho_b = rho_horiz_cap+(rho_b-rho_horiz_cap)*exp(-200.0*SQR((six_phi-six_phithreshold)/log(Psi6max_approx)));\n",
    "    }\n",
    "  */\n",
    "}"
   ]
  },
  {
   "cell_type": "markdown",
   "metadata": {},
   "source": [
    "<a id='compute_smallba_b2_and_u_i_over_u0_psi4'></a>\n",
    "\n",
    "# Step 9: `compute_smallba_b2_and_u_i_over_u0_psi4` \\[Back to [top](#toc)\\]\n",
    "$$\\label{compute_smallba_b2_and_u_i_over_u0_psi4}$$"
   ]
  },
  {
   "cell_type": "code",
   "execution_count": 9,
   "metadata": {},
   "outputs": [
    {
     "name": "stdout",
     "output_type": "stream",
     "text": [
      "Appending to ../src/inlined_functions.C\n"
     ]
    }
   ],
   "source": [
    "%%writefile -a $IGM_src_dir_path/inlined_functions.C\n",
    "\n",
    "\n",
    "static inline void compute_smallba_b2_and_u_i_over_u0_psi4(CCTK_REAL *METRIC,CCTK_REAL *METRIC_LAP_PSI4,CCTK_REAL *U,CCTK_REAL u0L,CCTK_REAL ONE_OVER_LAPSE_SQRT_4PI,  \n",
    "                                                    CCTK_REAL &u_x_over_u0_psi4,CCTK_REAL &u_y_over_u0_psi4,CCTK_REAL &u_z_over_u0_psi4,CCTK_REAL *smallb) {\n",
    "\n",
    "  // NOW COMPUTE b^{\\mu} and b^2 = b^{\\mu} b^{\\nu} g_{\\mu \\nu}\n",
    "  CCTK_REAL ONE_OVER_U0 = 1.0/u0L;\n",
    "  CCTK_REAL shiftx_plus_vx = (METRIC[SHIFTX]+U[VX]);\n",
    "  CCTK_REAL shifty_plus_vy = (METRIC[SHIFTY]+U[VY]);\n",
    "  CCTK_REAL shiftz_plus_vz = (METRIC[SHIFTZ]+U[VZ]);\n",
    "\n",
    "  // Eq. 56 in http://arxiv.org/pdf/astro-ph/0503420.pdf:\n",
    "  //  u_i = gamma_{ij} u^0 (v^j + beta^j), gamma_{ij} is the physical metric, and gamma_{ij} = Psi4 * METRIC[Gij], since METRIC[Gij] is the conformal metric.\n",
    "  u_x_over_u0_psi4 =  METRIC[GXX]*shiftx_plus_vx + METRIC[GXY]*shifty_plus_vy + METRIC[GXZ]*shiftz_plus_vz;\n",
    "  u_y_over_u0_psi4 =  METRIC[GXY]*shiftx_plus_vx + METRIC[GYY]*shifty_plus_vy + METRIC[GYZ]*shiftz_plus_vz;\n",
    "  u_z_over_u0_psi4 =  METRIC[GXZ]*shiftx_plus_vx + METRIC[GYZ]*shifty_plus_vy + METRIC[GZZ]*shiftz_plus_vz;\n",
    "\n",
    "  // Eqs. 23 and 31 in http://arxiv.org/pdf/astro-ph/0503420.pdf:\n",
    "  //   Compute alpha sqrt(4 pi) b^t = u_i B^i\n",
    "  CCTK_REAL alpha_sqrt_4pi_bt = ( u_x_over_u0_psi4*U[BX_CENTER] + u_y_over_u0_psi4*U[BY_CENTER] + u_z_over_u0_psi4*U[BZ_CENTER] ) * METRIC_LAP_PSI4[PSI4]*u0L;\n",
    "  // Eq. 24 in http://arxiv.org/pdf/astro-ph/0503420.pdf:\n",
    "  // b^i = B^i_u / sqrt(4 pi)\n",
    "  // b^i = ( B^i/alpha + B^0_u u^i ) / ( u^0 sqrt(4 pi) )\n",
    "  // b^i = ( B^i/alpha +  sqrt(4 pi) b^t u^i ) / ( u^0 sqrt(4 pi) )\n",
    "  // b^i = ( B^i +  alpha sqrt(4 pi) b^t u^i ) / ( alpha u^0 sqrt(4 pi) )\n",
    "  // b^i = ( B^i/u^0 +  alpha sqrt(4 pi) b^t u^i/u^0 ) / ( alpha sqrt(4 pi) )\n",
    "  // b^i = ( B^i/u^0 +  alpha sqrt(4 pi) b^t v^i ) / ( alpha sqrt(4 pi) )\n",
    "  smallb[SMALLBX] = (U[BX_CENTER]*ONE_OVER_U0 + U[VX]*alpha_sqrt_4pi_bt)*ONE_OVER_LAPSE_SQRT_4PI;\n",
    "  smallb[SMALLBY] = (U[BY_CENTER]*ONE_OVER_U0 + U[VY]*alpha_sqrt_4pi_bt)*ONE_OVER_LAPSE_SQRT_4PI;\n",
    "  smallb[SMALLBZ] = (U[BZ_CENTER]*ONE_OVER_U0 + U[VZ]*alpha_sqrt_4pi_bt)*ONE_OVER_LAPSE_SQRT_4PI;\n",
    "  // Eq. 23 in http://arxiv.org/pdf/astro-ph/0503420.pdf, with alpha sqrt (4 pi) b^2 = u_i B^i already computed above\n",
    "  smallb[SMALLBT] = alpha_sqrt_4pi_bt * ONE_OVER_LAPSE_SQRT_4PI;\n",
    "\n",
    "  // b^2 = g_{\\mu \\nu} b^{\\mu} b^{\\nu}\n",
    "  //     = gtt bt^2 + gxx bx^2 + gyy by^2 + gzz bz^2 + 2 (gtx bt bx + gty bt by + gtz bt bz + gxy bx by + gxz bx bz + gyz by bz)\n",
    "  //     = (-al^2 + gamma_{ij} betai betaj) bt^2 + b^i b^j gamma_{ij} + 2 g_{t i} b^t b^i\n",
    "  //     = - (alpha b^t)^2 + (b^t)^2 gamma_{ij} beta^i beta^j + b^i b^j gamma_{ij} + 2 b^t g_{t i} b^i\n",
    "  //     = - (alpha b^t)^2 + (b^t)^2 gamma_{ij} beta^i beta^j + b^i b^j gamma_{ij} + 2 b^t (gamma_{ij} beta^j) b^i\n",
    "  //     = - (alpha b^t)^2 + gamma_{ij} ((b^t)^2 beta^i beta^j + b^i b^j + 2 b^t beta^j b^i)\n",
    "  //     = - (alpha b^t)^2 + gamma_{ij} ((b^t)^2 beta^i beta^j + 2 b^t beta^j b^i + b^i b^j)\n",
    "  //     = - (alpha b^t)^2 + gamma_{ij} (b^i + b^t beta^i) (b^j + b^t beta^j)\n",
    "  CCTK_REAL bx_plus_shiftx_bt = smallb[SMALLBX]+METRIC[SHIFTX]*smallb[SMALLBT];\n",
    "  CCTK_REAL by_plus_shifty_bt = smallb[SMALLBY]+METRIC[SHIFTY]*smallb[SMALLBT];\n",
    "  CCTK_REAL bz_plus_shiftz_bt = smallb[SMALLBZ]+METRIC[SHIFTZ]*smallb[SMALLBT];    \n",
    "  smallb[SMALLB2] = -SQR(METRIC_LAP_PSI4[LAPSE]*smallb[SMALLBT]) +\n",
    "    (  METRIC[GXX]*SQR(bx_plus_shiftx_bt) + METRIC[GYY]*SQR(by_plus_shifty_bt) + METRIC[GZZ]*SQR(bz_plus_shiftz_bt) +\n",
    "       2.0*( METRIC[GXY]*(bx_plus_shiftx_bt)*(by_plus_shifty_bt) +\n",
    "             METRIC[GXZ]*(bx_plus_shiftx_bt)*(bz_plus_shiftz_bt) +\n",
    "             METRIC[GYZ]*(by_plus_shifty_bt)*(bz_plus_shiftz_bt) )  ) * METRIC_LAP_PSI4[PSI4]; // mult by psi4 because METRIC[GIJ] is the conformal metric.\n",
    "  /***********************************************************/\n",
    "}\n",
    "\n"
   ]
  },
  {
   "cell_type": "markdown",
   "metadata": {},
   "source": [
    "<a id='code_validation'></a>\n",
    "\n",
    "# Step 10: Code validation \\[Back to [top](#toc)\\]\n",
    "$$\\label{code_validation}$$\n",
    "\n",
    "First we will download the original `IllinoisGRMHD` source code."
   ]
  },
  {
   "cell_type": "code",
   "execution_count": 10,
   "metadata": {},
   "outputs": [
    {
     "name": "stdout",
     "output_type": "stream",
     "text": [
      "--2019-09-19 17:00:50--  https://bitbucket.org/zach_etienne/wvuthorns/raw/ea4d70af29c988ce25fc5fdba5550e31e52f7df3/IllinoisGRMHD/src/inlined_functions.C\n",
      "Resolving bitbucket.org (bitbucket.org)... 18.205.93.0, 18.205.93.1, 18.205.93.2, ...\n",
      "Connecting to bitbucket.org (bitbucket.org)|18.205.93.0|:443... connected.\n",
      "HTTP request sent, awaiting response... 200 OK\n",
      "Length: 16641 (16K) [text/plain]\n",
      "Saving to: ‘../src/inlined_functions-original.C’\n",
      "\n",
      "../src/inlined_func 100%[===================>]  16.25K  --.-KB/s    in 0s      \n",
      "\n",
      "2019-09-19 17:00:50 (152 MB/s) - ‘../src/inlined_functions-original.C’ saved [16641/16641]\n",
      "\n"
     ]
    }
   ],
   "source": [
    "!wget -O $IGM_src_dir_path/inlined_functions-original.C https://bitbucket.org/zach_etienne/wvuthorns/raw/ea4d70af29c988ce25fc5fdba5550e31e52f7df3/IllinoisGRMHD/src/inlined_functions.C"
   ]
  },
  {
   "cell_type": "markdown",
   "metadata": {},
   "source": [
    "Then we compare the two files and check if it passes the validation test."
   ]
  },
  {
   "cell_type": "code",
   "execution_count": 11,
   "metadata": {},
   "outputs": [
    {
     "name": "stdout",
     "output_type": "stream",
     "text": [
      "Validation test for inlined_functions.C: PASSED!\n"
     ]
    }
   ],
   "source": [
    "# Uncommend this after diff have been resolved\n",
    "# vvvvvvvvvvvvvvvvvvvvvvvvvvvvvvvvvvvvvvvvvvvv\n",
    "# import filecmp\n",
    "\n",
    "# if filecmp.cmp('driver_evaluate_MHD_rhs.C',\n",
    "#                'driver_evaluate_MHD_rhs-validation.C') == False:\n",
    "#     print(\"ERROR: driver_evaluate_MHD_rhs.C validation FAILED!\")\n",
    "#     exit(1)\n",
    "# else:\n",
    "#     print(\"driver_evaluate_MHD_rhs.C validation PASSED!\")\n",
    "# ^^^^^^^^^^^^^^^^^^^^^^^^^^^^^^^^^^^^^^^^^^^^\n",
    "# Uncommend this after diff have been resolved\n",
    "\n",
    "Validation__inlined_functions__C  = !diff $IGM_src_dir_path/inlined_functions-original.C $IGM_src_dir_path/inlined_functions.C\n",
    "        \n",
    "if Validation__inlined_functions__C == []:\n",
    "    print(\"Validation test for inlined_functions.C: PASSED!\")\n",
    "else:\n",
    "    print(\"Validation test for inlined_functions.C: FAILED!\")\n",
    "    print(\"Diff:\")\n",
    "    for diff_line in Validation__inlined_functions__C:\n",
    "        print(diff_line)"
   ]
  },
  {
   "cell_type": "markdown",
   "metadata": {},
   "source": [
    "<a id='latex_pdf_output'></a>\n",
    "\n",
    "# Step 11: Output this module to $\\LaTeX$-formatted PDF file \\[Back to [top](#toc)\\]\n",
    "$$\\label{latex_pdf_output}$$\n",
    "\n",
    "The following code cell converts this Jupyter notebook into a proper, clickable $\\LaTeX$-formatted PDF file. After the cell is successfully run, the generated PDF may be found in the root NRPy+ tutorial directory, with filename\n",
    "[Tutorial-IllinoisGRMHD_inlined_functions.pdf](Tutorial-IllinoisGRMHD_inlined_functions.pdf) (Note that clicking on this link may not work; you may need to open the PDF file through another means)."
   ]
  },
  {
   "cell_type": "code",
   "execution_count": 12,
   "metadata": {},
   "outputs": [
    {
     "name": "stdout",
     "output_type": "stream",
     "text": [
      "[NbConvertApp] Converting notebook Tutorial-IllinoisGRMHD_inlined_functions.ipynb to latex\n",
      "[NbConvertApp] Writing 64221 bytes to Tutorial-IllinoisGRMHD_inlined_functions.tex\n",
      "This is pdfTeX, Version 3.14159265-2.6-1.40.18 (TeX Live 2017/Debian) (preloaded format=pdflatex)\n",
      " restricted \\write18 enabled.\n",
      "entering extended mode\n",
      "This is pdfTeX, Version 3.14159265-2.6-1.40.18 (TeX Live 2017/Debian) (preloaded format=pdflatex)\n",
      " restricted \\write18 enabled.\n",
      "entering extended mode\n",
      "This is pdfTeX, Version 3.14159265-2.6-1.40.18 (TeX Live 2017/Debian) (preloaded format=pdflatex)\n",
      " restricted \\write18 enabled.\n",
      "entering extended mode\n"
     ]
    }
   ],
   "source": [
    "!jupyter nbconvert --to latex --template ../../latex_nrpy_style.tplx Tutorial-IllinoisGRMHD_inlined_functions.ipynb\n",
    "!pdflatex -interaction=batchmode Tutorial-IllinoisGRMHD_inlined_functions.tex\n",
    "!pdflatex -interaction=batchmode Tutorial-IllinoisGRMHD_inlined_functions.tex\n",
    "!pdflatex -interaction=batchmode Tutorial-IllinoisGRMHD_inlined_functions.tex\n",
    "!rm -f Tut*.out Tut*.aux Tut*.log"
   ]
  }
 ],
 "metadata": {
  "kernelspec": {
   "display_name": "Python 2",
   "language": "python",
   "name": "python2"
  },
  "language_info": {
   "codemirror_mode": {
    "name": "ipython",
    "version": 2
   },
   "file_extension": ".py",
   "mimetype": "text/x-python",
   "name": "python",
   "nbconvert_exporter": "python",
   "pygments_lexer": "ipython2",
   "version": "2.7.13"
  }
 },
 "nbformat": 4,
 "nbformat_minor": 2
}
