{
 "cells": [
  {
   "cell_type": "markdown",
   "metadata": {},
   "source": [
    "# Testing Piecewise Polytropic EOS\n",
    "## Author: Leo Werneck"
   ]
  },
  {
   "cell_type": "markdown",
   "metadata": {},
   "source": [
    "<a id='toc'></a>\n",
    "\n",
    "# Table of Contents\n",
    "$$\\label{toc}$$\n",
    "\n",
    "This module is organized as follows\n",
    "\n",
    "1. [Step 1](#introduction): **Introduction**\n",
    "1. [Step 2](#plugging_in_values): **Plugging in some values**\n",
    "1. [Step 3](#p_cold): **Taking a look at $P_{\\rm cold}$**\n",
    "    1. [Step 3.a](#p_cold__computing): *A function to evaluate $P_{\\rm cold}$ based on `IllinoisGRMHD`*\n",
    "    1. [Step 3.b](#p_cold__plotting): *Plotting $P_{\\rm cold}\\left(\\rho\\right)$*\n",
    "1. [Step n](#latex_pdf_output): **Output this module to $\\LaTeX$-formatted PDF file**"
   ]
  },
  {
   "cell_type": "markdown",
   "metadata": {},
   "source": [
    "<a id='introduction'></a>\n",
    "\n",
    "# Step 1: Introduction \\[Back to [top](#toc)\\]\n",
    "$$\\label{introduction}$$\n",
    "\n",
    "We will test here a few piecewise polytrope (PP) equation of state (EOS) relations. The main reference we will be following is [J.C. Read *et al.* (2008)](https://arxiv.org/pdf/0812.2163.pdf), but we will also try out [the approach of `Whisky`, presented in Takami *et al.* (2014)](https://arxiv.org/pdf/1412.3240v2.pdf)\n",
    "\n",
    "First we will start with the original one implemented by IllinoisGRMHD:\n",
    "\n",
    "$$\n",
    "\\boxed{\n",
    "P_{\\rm cold} =\n",
    "\\left\\{\n",
    "\\begin{matrix}\n",
    "K_{0}\\rho^{\\Gamma_{0}} & , & \\rho \\leq \\rho_{0}\\\\\n",
    "K_{1}\\rho^{\\Gamma_{1}} & , & \\rho_{0} \\leq \\rho \\leq \\rho_{1}\\\\\n",
    "\\vdots &  & \\vdots\\\\\n",
    "K_{j}\\rho^{\\Gamma_{j}} & , & \\rho_{j-1} \\leq \\rho \\leq \\rho_{j}\\\\\n",
    "\\vdots &  & \\vdots\\\\\n",
    "K_{N-1}\\rho^{\\Gamma_{N-1}} & , & \\rho_{N-2} \\leq \\rho \\leq \\rho_{N-1}\\\\\n",
    "K_{N}\\rho^{\\Gamma_{N}} & , & \\rho \\geq \\rho_{N-1}\n",
    "\\end{matrix}\n",
    "\\right.\n",
    "}\\ .\n",
    "$$\n",
    "\n",
    "Notice that we have the following sets of variables:\n",
    "\n",
    "$$\n",
    "\\left\\{\\underbrace{\\rho_{0},\\rho_{1},\\ldots,\\rho_{N-1}}_{N\\ {\\rm values}}\\right\\}\\ ;\\\n",
    "\\left\\{\\underbrace{K_{0},K_{1},\\ldots,K_{N}}_{N+1\\ {\\rm values}}\\right\\}\\ ;\\\n",
    "\\left\\{\\underbrace{\\Gamma_{0},\\Gamma_{1},\\ldots,\\Gamma_{N}}_{N+1\\ {\\rm values}}\\right\\}\\ .\n",
    "$$\n",
    "\n",
    "Also, notice that $K_{0}$ and the entire sets $\\left\\{\\rho_{0},\\rho_{1},\\ldots,\\rho_{N-1}\\right\\}$ and $\\left\\{\\Gamma_{0},\\Gamma_{1},\\ldots,\\Gamma_{N}\\right\\}$ must be specified by the user. The values of $\\left\\{K_{1},\\ldots,K_{N}\\right\\}$, on the other hand, are determined by imposing that $P_{\\rm cold}$ be continuous, i.e.\n",
    "\n",
    "$$\n",
    "P_{\\rm cold}\\left(\\rho_{0}\\right) = K_{0}\\rho_{0}^{\\Gamma_{0}} = K_{1}\\rho_{0}^{\\Gamma_{1}} \\implies\n",
    "\\boxed{K_{1} = K_{0}\\rho_{0}^{\\Gamma_{0}-\\Gamma_{1}}}\\ .\n",
    "$$\n",
    "\n",
    "Analogously,\n",
    "\n",
    "$$\n",
    "\\boxed{K_{j} = K_{j-1}\\rho_{j-1}^{\\Gamma_{j-1}-\\Gamma_{j}}\\ ,\\ j\\in\\left[1,N\\right]}\\ .\n",
    "$$"
   ]
  },
  {
   "cell_type": "markdown",
   "metadata": {},
   "source": [
    "<a id='plugging_in_values'></a>\n",
    "\n",
    "# Step 2: Plugging in some values \\[Back to [top](#toc)\\]\n",
    "$$\\label{plugging_in_values}$$\n",
    "\n",
    "Just so that we work with realistic values (i.e. values actually used by researchers), we will implement a simple check using the values from [Table II in J.C. Read *et al.* (2008)](https://arxiv.org/pdf/0812.2163.pdf):\n",
    "\n",
    "| $\\rho_{i}$ | $\\Gamma_{i}$ | $K_{\\rm expected}$ |\n",
    "|------------|--------------|--------------------|\n",
    "|2.44034e+07 |   1.58425    |    6.80110e-09     |\n",
    "|3.78358e+11 |   1.28733    |    1.06186e-06     |\n",
    "|2.62780e+12 |   0.62223    |    5.32697e+01     |\n",
    "|     $-$    |   1.35692    |    3.99874e-08     |"
   ]
  },
  {
   "cell_type": "code",
   "execution_count": 19,
   "metadata": {},
   "outputs": [
    {
     "name": "stdout",
     "output_type": "stream",
     "text": [
      "K_poly[1] = 1.06184448333e-06 | K_expected[1] = 1.06186e-06 | Diff = 1.5516672146434653e-11\n",
      "K_poly[2] = 53.275084584 | K_expected[2] = 53.2697 | Diff = 0.005384583961500766\n",
      "K_poly[3] = 3.99920691724e-08 | K_expected[3] = 3.99874e-08 | Diff = 4.669172431909315e-12\n"
     ]
    }
   ],
   "source": [
    "# Determining K_{i} i != 0\n",
    "# We start by setting up all the values of rho_{i}, Gamma_{i}, and K_{0}\n",
    "import numpy as np\n",
    "rho_poly   = [2.44034e+07,3.78358e+11,2.62780e+12]\n",
    "Gamma_poly = [1.58425,1.28733,0.62223,1.35692]\n",
    "K_poly     = [6.80110e-09,0,0,0]\n",
    "K_expected = [6.80110e-09,1.06186e-06,5.32697e+01,3.99874e-08]\n",
    "NEOS = len(rho_poly)+1\n",
    "\n",
    "for j in range(1,NEOS):\n",
    "    K_poly[j] = K_poly[j-1] * rho_poly[j-1]**(Gamma_poly[j-1] - Gamma_poly[j])\n",
    "    print(\"K_poly[\"+str(j)+\"] = \"+str(K_poly[j])+\\\n",
    "          \" | K_expected[\"+str(j)+\"] = \"+str(K_expected[j])+\\\n",
    "          \" | Diff = \"+str(np.fabs(K_poly[j] - K_expected[j])))"
   ]
  },
  {
   "cell_type": "markdown",
   "metadata": {},
   "source": [
    "<a id='p_cold'></a>\n",
    "\n",
    "# Step 3: Taking a look at $P_{\\rm cold}$ \\[Back to [top](#toc)\\]\n",
    "$$\\label{p_cold}$$\n",
    "\n",
    "<a id='p_cold__computing'></a>\n",
    "\n",
    "## Step 3.a: A function to evaluate $P_{\\rm cold}$ based on `IllinoisGRMHD` \\[Back to [top](#toc)\\]\n",
    "$$\\label{p_cold__computing}$$\n",
    "\n",
    "The results above look reasonable to the expected ones. Let us then see what the plot of $P_{\\rm cold}\\times\\rho$ looks like. For the case of our specific example, which has $N_{\\rm EOS}=4$ (where $N_{\\rm EOS}$ stands for the number of polytropic EOSs used), we have\n",
    "\n",
    "$$\n",
    "\\boxed{\n",
    "P_{\\rm cold} =\n",
    "\\left\\{\n",
    "\\begin{matrix}\n",
    "K_{0}\\rho^{\\Gamma_{0}} & , & \\rho \\leq \\rho_{0}\\\\\n",
    "K_{1}\\rho^{\\Gamma_{1}} & , & \\rho_{0} \\leq \\rho \\leq \\rho_{1}\\\\\n",
    "K_{2}\\rho^{\\Gamma_{2}} & , & \\rho_{1} \\leq \\rho \\leq \\rho_{2}\\\\\n",
    "K_{3}\\rho^{\\Gamma_{3}} & , & \\rho \\geq \\rho_{2}\n",
    "\\end{matrix}\n",
    "\\right.\n",
    "}\\ .\n",
    "$$"
   ]
  },
  {
   "cell_type": "code",
   "execution_count": null,
   "metadata": {},
   "outputs": [],
   "source": [
    "# Set the pressure through the polytropic EOS: P_cold = K * rho^{Gamma}\n",
    "def Pressure(rho,rho_poly,Gamma_poly,K_poly,NEOS):\n",
    "    if rho < rho_poly[0] or NEOS==1:\n",
    "        return K_poly[0] * rho**Gamma_poly[0]\n",
    "    \n",
    "    for j in range(1,NEOS-1):\n",
    "        if rho >= rho_poly[j-1] and rho < rho_poly[j]:\n",
    "            return K_poly[j] * rho**Gamma_poly[j]\n",
    "        \n",
    "    if rho >= rho_poly[NEOS-2]:\n",
    "        return K_poly[NEOS-1] * rho**Gamma_poly[NEOS-1]"
   ]
  },
  {
   "cell_type": "markdown",
   "metadata": {},
   "source": [
    "<a id='p_cold__plotting'></a>\n",
    "\n",
    "## Step 3.b: Plotting $P_{\\rm cold}\\left(\\rho\\right)$ \\[Back to [top](#toc)\\]\n",
    "$$\\label{p_cold__plotting}$$\n",
    "\n",
    "To create a reasonably interesting plot, which will also test all regions of our piecewise polytrope EOS, let us plot $P_{\\rm cold}\\left(\\rho\\right)$ with $\\rho\\in\\left[\\frac{\\rho_{0}}{10},10\\rho_{2}\\right]$.\n",
    "\n",
    "**Remember**: We *don't* expect $P_{\\rm cold}$ to be *smooth*, but we *do* expect it to be *continuous* (by construction)."
   ]
  },
  {
   "cell_type": "code",
   "execution_count": 73,
   "metadata": {},
   "outputs": [
    {
     "data": {
      "text/plain": [
       "[<matplotlib.lines.Line2D at 0x11dc52f90>]"
      ]
     },
     "execution_count": 73,
     "metadata": {},
     "output_type": "execute_result"
    },
    {
     "data": {
      "image/png": "[encoded data removed]",
      "text/plain": [
       "<Figure size 720x288 with 2 Axes>"
      ]
     },
     "metadata": {
      "needs_background": "light"
     },
     "output_type": "display_data"
    }
   ],
   "source": [
    "# Set rho in [rho_poly[0]/10,rho_poly[2]*10]\n",
    "rho_for_plot = np.linspace(rho_poly[0]/10,rho_poly[NEOS-2]*10,1000)\n",
    "\n",
    "# Set P_{cold}(rho)\n",
    "P_for_plot   = np.linspace(0,0,1000)\n",
    "for i in range(len(P_for_plot)):\n",
    "    P_for_plot[i] = Pressure(rho_for_plot[i],rho_poly,Gamma_poly,K_poly,NEOS)\n",
    "\n",
    "# Plot P_{cold}(rho) x rho\n",
    "import matplotlib.pyplot as plt\n",
    "f = plt.figure(figsize=(10,4))\n",
    "ax1 = f.add_subplot(121)\n",
    "ax1.set_title(r\"Plot #1: $P\\times\\rho_{b}$\",fontsize='16')\n",
    "ax1.set_xlabel(r\"$\\rho_{b}$\",fontsize='14')\n",
    "ax1.set_ylabel(r\"$P$\",fontsize='14')\n",
    "ax1.grid()\n",
    "ax1.plot(rho_for_plot,P_for_plot)\n",
    "\n",
    "ax2 = f.add_subplot(122)\n",
    "ax2.set_title(r\"Plot #2: $\\log_{10}\\left(P\\right)\\times\\log_{10}\\left(\\rho_{b}\\right)$\",fontsize='16')\n",
    "ax2.set_xlabel(r\"$\\log_{10}\\left(\\rho_{b}\\right)$\",fontsize='14')\n",
    "ax2.set_ylabel(r\"$\\log_{10}\\left(P\\right)$\",fontsize='14')\n",
    "ax2.grid()\n",
    "ax2.plot(np.log10(rho_for_plot),np.log10(P_for_plot))"
   ]
  },
  {
   "cell_type": "markdown",
   "metadata": {},
   "source": [
    "<a id='eps_cold'></a>\n",
    "\n",
    "# Step 4: Taking a look at $\\epsilon_{\\rm cold}$ \\[Back to [top](#toc)\\]\n",
    "$$\\label{eps_cold}$$"
   ]
  },
  {
   "cell_type": "markdown",
   "metadata": {},
   "source": [
    "<a id='latex_pdf_output'></a>\n",
    "\n",
    "# Step n: Output this module to $\\LaTeX$-formatted PDF file \\[Back to [top](#toc)\\]\n",
    "$$\\label{latex_pdf_output}$$\n",
    "\n",
    "The following code cell converts this Jupyter notebook into a proper, clickable $\\LaTeX$-formatted PDF file. After the cell is successfully run, the generated PDF may be found in the root NRPy+ tutorial directory, with filename\n",
    "[Tutorial-IllinoisGRMHD__piecewise_polytrope_tests.pdf](Tutorial-IllinoisGRMHD__piecewise_polytrope_tests.pdf) (Note that clicking on this link may not work; you may need to open the PDF file through another means)."
   ]
  },
  {
   "cell_type": "code",
   "execution_count": 77,
   "metadata": {},
   "outputs": [
    {
     "name": "stdout",
     "output_type": "stream",
     "text": [
      "[NbConvertApp] Converting notebook Tutorial-IllinoisGRMHD__piecewise_polytrope_tests.ipynb to latex\n",
      "/Users/werneck/anaconda3/lib/python3.7/site-packages/nbconvert/utils/pandoc.py:52: RuntimeWarning: You are using an unsupported version of pandoc (2.2.3.2).\n",
      "Your version must be at least (1.12.1) but less than (2.0.0).\n",
      "Refer to http://pandoc.org/installing.html.\n",
      "Continuing with doubts...\n",
      "  check_pandoc_version()\n",
      "/Users/werneck/anaconda3/lib/python3.7/site-packages/nbconvert/utils/pandoc.py:52: RuntimeWarning: You are using an unsupported version of pandoc (2.2.3.2).\n",
      "Your version must be at least (1.12.1) but less than (2.0.0).\n",
      "Refer to http://pandoc.org/installing.html.\n",
      "Continuing with doubts...\n",
      "  check_pandoc_version()\n",
      "/Users/werneck/anaconda3/lib/python3.7/site-packages/nbconvert/utils/pandoc.py:52: RuntimeWarning: You are using an unsupported version of pandoc (2.2.3.2).\n",
      "Your version must be at least (1.12.1) but less than (2.0.0).\n",
      "Refer to http://pandoc.org/installing.html.\n",
      "Continuing with doubts...\n",
      "  check_pandoc_version()\n",
      "/Users/werneck/anaconda3/lib/python3.7/site-packages/nbconvert/utils/pandoc.py:52: RuntimeWarning: You are using an unsupported version of pandoc (2.2.3.2).\n",
      "Your version must be at least (1.12.1) but less than (2.0.0).\n",
      "Refer to http://pandoc.org/installing.html.\n",
      "Continuing with doubts...\n",
      "  check_pandoc_version()\n",
      "/Users/werneck/anaconda3/lib/python3.7/site-packages/nbconvert/utils/pandoc.py:52: RuntimeWarning: You are using an unsupported version of pandoc (2.2.3.2).\n",
      "Your version must be at least (1.12.1) but less than (2.0.0).\n",
      "Refer to http://pandoc.org/installing.html.\n",
      "Continuing with doubts...\n",
      "  check_pandoc_version()\n",
      "/Users/werneck/anaconda3/lib/python3.7/site-packages/nbconvert/utils/pandoc.py:52: RuntimeWarning: You are using an unsupported version of pandoc (2.2.3.2).\n",
      "Your version must be at least (1.12.1) but less than (2.0.0).\n",
      "Refer to http://pandoc.org/installing.html.\n",
      "Continuing with doubts...\n",
      "  check_pandoc_version()\n",
      "/Users/werneck/anaconda3/lib/python3.7/site-packages/nbconvert/utils/pandoc.py:52: RuntimeWarning: You are using an unsupported version of pandoc (2.2.3.2).\n",
      "Your version must be at least (1.12.1) but less than (2.0.0).\n",
      "Refer to http://pandoc.org/installing.html.\n",
      "Continuing with doubts...\n",
      "  check_pandoc_version()\n",
      "/Users/werneck/anaconda3/lib/python3.7/site-packages/nbconvert/utils/pandoc.py:52: RuntimeWarning: You are using an unsupported version of pandoc (2.2.3.2).\n",
      "Your version must be at least (1.12.1) but less than (2.0.0).\n",
      "Refer to http://pandoc.org/installing.html.\n",
      "Continuing with doubts...\n",
      "  check_pandoc_version()\n",
      "/Users/werneck/anaconda3/lib/python3.7/site-packages/nbconvert/utils/pandoc.py:52: RuntimeWarning: You are using an unsupported version of pandoc (2.2.3.2).\n",
      "Your version must be at least (1.12.1) but less than (2.0.0).\n",
      "Refer to http://pandoc.org/installing.html.\n",
      "Continuing with doubts...\n",
      "  check_pandoc_version()\n",
      "/Users/werneck/anaconda3/lib/python3.7/site-packages/nbconvert/utils/pandoc.py:52: RuntimeWarning: You are using an unsupported version of pandoc (2.2.3.2).\n",
      "Your version must be at least (1.12.1) but less than (2.0.0).\n",
      "Refer to http://pandoc.org/installing.html.\n",
      "Continuing with doubts...\n",
      "  check_pandoc_version()\n",
      "/Users/werneck/anaconda3/lib/python3.7/site-packages/nbconvert/utils/pandoc.py:52: RuntimeWarning: You are using an unsupported version of pandoc (2.2.3.2).\n",
      "Your version must be at least (1.12.1) but less than (2.0.0).\n",
      "Refer to http://pandoc.org/installing.html.\n",
      "Continuing with doubts...\n",
      "  check_pandoc_version()\n",
      "/Users/werneck/anaconda3/lib/python3.7/site-packages/nbconvert/utils/pandoc.py:52: RuntimeWarning: You are using an unsupported version of pandoc (2.2.3.2).\n",
      "Your version must be at least (1.12.1) but less than (2.0.0).\n",
      "Refer to http://pandoc.org/installing.html.\n",
      "Continuing with doubts...\n",
      "  check_pandoc_version()\n",
      "/Users/werneck/anaconda3/lib/python3.7/site-packages/nbconvert/utils/pandoc.py:52: RuntimeWarning: You are using an unsupported version of pandoc (2.2.3.2).\n",
      "Your version must be at least (1.12.1) but less than (2.0.0).\n",
      "Refer to http://pandoc.org/installing.html.\n",
      "Continuing with doubts...\n",
      "  check_pandoc_version()\n",
      "/Users/werneck/anaconda3/lib/python3.7/site-packages/nbconvert/utils/pandoc.py:52: RuntimeWarning: You are using an unsupported version of pandoc (2.2.3.2).\n",
      "Your version must be at least (1.12.1) but less than (2.0.0).\n",
      "Refer to http://pandoc.org/installing.html.\n",
      "Continuing with doubts...\n",
      "  check_pandoc_version()\n",
      "[NbConvertApp] Support files will be in Tutorial-IllinoisGRMHD__piecewise_polytrope_tests_files/\n",
      "[NbConvertApp] Making directory Tutorial-IllinoisGRMHD__piecewise_polytrope_tests_files\n",
      "[NbConvertApp] Writing 32818 bytes to Tutorial-IllinoisGRMHD__piecewise_polytrope_tests.tex\n",
      "This is pdfTeX, Version 3.14159265-2.6-1.40.19 (TeX Live 2018) (preloaded format=pdflatex)\n",
      " restricted \\write18 enabled.\n",
      "entering extended mode\n",
      "This is pdfTeX, Version 3.14159265-2.6-1.40.19 (TeX Live 2018) (preloaded format=pdflatex)\n",
      " restricted \\write18 enabled.\n",
      "entering extended mode\n",
      "This is pdfTeX, Version 3.14159265-2.6-1.40.19 (TeX Live 2018) (preloaded format=pdflatex)\n",
      " restricted \\write18 enabled.\n",
      "entering extended mode\n"
     ]
    }
   ],
   "source": [
    "import os\n",
    "nrpy_dir_path = os.path.join(\"..\",\"..\")\n",
    "latex_nrpy_style_path = os.path.join(nrpy_dir_path,\"latex_nrpy_style.tplx\")\n",
    "!jupyter nbconvert --to latex --template $latex_nrpy_style_path Tutorial-IllinoisGRMHD__piecewise_polytrope_tests.ipynb\n",
    "!pdflatex -interaction=batchmode Tutorial-IllinoisGRMHD__piecewise_polytrope_tests.tex\n",
    "!pdflatex -interaction=batchmode Tutorial-IllinoisGRMHD__piecewise_polytrope_tests.tex\n",
    "!pdflatex -interaction=batchmode Tutorial-IllinoisGRMHD__piecewise_polytrope_tests.tex\n",
    "!rm -f Tut*.out Tut*.aux Tut*.log"
   ]
  },
  {
   "cell_type": "code",
   "execution_count": null,
   "metadata": {},
   "outputs": [],
   "source": []
  }
 ],
 "metadata": {
  "kernelspec": {
   "display_name": "Python 2",
   "language": "python",
   "name": "python2"
  },
  "language_info": {
   "codemirror_mode": {
    "name": "ipython",
    "version": 2
   },
   "file_extension": ".py",
   "mimetype": "text/x-python",
   "name": "python",
   "nbconvert_exporter": "python",
   "pygments_lexer": "ipython2",
   "version": "2.7.16"
  }
 },
 "nbformat": 4,
 "nbformat_minor": 2
}
