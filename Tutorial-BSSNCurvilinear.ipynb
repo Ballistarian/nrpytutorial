{
 "cells": [
  {
   "cell_type": "markdown",
   "metadata": {},
   "source": [
    "## Generating C code for the right-hand-sides of Einstein's equations of general relativity in the [BSSN](http://www2.yukawa.kyoto-u.ac.jp/~yuichiro.sekiguchi/3+1.pdf) formalism, in ***curvilinear*** coordinates, using a covariant reference metric approach\n",
    "\n",
    "### ***Citations***: Generic curvilinear coordinate reference metric approach matches that of [Ruchlin, Etienne, and Baumgarte (2018)](https://arxiv.org/abs/1712.07658), which is an extension of the spherical coordinate reference metric approach of [Baumgarte, Montero, Cordero-Carrión, and Müller (2012)](https://arxiv.org/abs/1211.6632), which builds upon the covariant \"Lagrangian\" BSSN formalism of [Brown (2009)](https://arxiv.org/abs/0902.3652). *See also citations within each article.*"
   ]
  },
  {
   "cell_type": "markdown",
   "metadata": {},
   "source": [
    "**Background**: NRPy+'s original purpose was to be an easy-to-use code capable of generating Einstein's equations in a broad class of [singular](https://en.wikipedia.org/wiki/Coordinate_singularity), curvilinear coordinate systems, where the user need only input the scale factors of the underlying reference metric. Upon generating these equations, NRPy+ would then leverage SymPy's [common-expression-elimination (CSE)](https://en.wikipedia.org/wiki/Common_subexpression_elimination) and C code generation routines, coupled to its own [single-instruction, multiple-data (SIMD)](https://en.wikipedia.org/wiki/SIMD) functions, to generate highly-optimized C code.\n",
    "\n",
    "This tutorial module demonstrates how Einstein's equations of general relativity in this formulation are constructed and output within NRPy+. As Einstein's equations in this formalism take the form of highly nonlinear, coupled *wave equations*, the [tutorial module on the scalar wave equation in curvilinear coordinates](Tutorial-ScalarWaveCurvilinear.ipynb) is *required* reading before beginning this module. That module, as well as its own prerequisite [module on reference metrics within NRPy+](Tutorial-Reference_Metric.ipynb) provides the needed overview of how NRPy+ handles reference metrics.\n",
    "\n",
    "In summary, the equations we wish to input into NRPy+ are as follows (Eqs. 11 and 12 in [Ruchlin, Etienne, and Baumgarte (2018)](https://arxiv.org/abs/1712.07658)):\n",
    "\n",
    "\\begin{align}\n",
    "  \\partial_{\\perp} \\varepsilon_{i j} {} = {} & \\frac{2}{3} \\bar{\\gamma}_{i j} \\left (\\alpha \\bar{A}_{k}^{k} - \\bar{D}_{k} \\beta^{k}\\right ) + 2 \\hat{D}_{(i} \\beta_{j)} - 2 \\alpha \\bar{A}_{i j} \\; , \\\\\n",
    "  \\partial_{\\perp} \\bar{A}_{i j} {} = {} & -\\frac{2}{3} \\bar{A}_{i j} \\bar{D}_{k} \\beta^{k} - 2 \\alpha \\bar{A}_{i k} {\\bar{A}^{k}}_{j} + \\alpha \\bar{A}_{i j} K \\nonumber \\\\\n",
    "  & + e^{-4 \\phi} \\left \\{-2 \\alpha \\bar{D}_{i} \\bar{D}_{j} \\phi + 4 \\alpha \\bar{D}_{i} \\phi \\bar{D}_{j} \\phi \\right . \\nonumber \\\\\n",
    "    & \\left . + 4 \\bar{D}_{(i} \\alpha \\bar{D}_{j)} \\phi - \\bar{D}_{i} \\bar{D}_{j} \\alpha + \\alpha \\bar{R}_{i j} \\right \\}^{\\text{TF}} \\; , \\\\\n",
    "  \\partial_{\\perp} W {} = {} & -\\frac{1}{3} W \\left (\\bar{D}_{k} \\beta^{k} - \\alpha K \\right ) \\; , \\\\\n",
    "  \\partial_{\\perp} K {} = {} & \\frac{1}{3} \\alpha K^{2} + \\alpha \\bar{A}_{i j} \\bar{A}^{i j} \\nonumber \\\\\n",
    "  & - e^{-4 \\phi} \\left (\\bar{D}_{i} \\bar{D}^{i} \\alpha + 2 \\bar{D}^{i} \\alpha \\bar{D}_{i} \\phi \\right ) \\; , \\\\\n",
    "  \\partial_{\\perp} \\bar{\\Lambda}^{i} {} = {} & \\bar{\\gamma}^{j k} \\hat{D}_{j} \\hat{D}_{k} \\beta^{i} + \\frac{2}{3} \\Delta^{i} \\bar{D}_{j} \\beta^{j} + \\frac{1}{3} \\bar{D}^{i} \\bar{D}_{j} \\beta^{j} \\nonumber \\\\\n",
    "  & - 2 \\bar{A}^{i j} \\left (\\partial_{j} \\alpha - 6 \\partial_{j} \\phi \\right ) + 2 \\bar{A}^{j k} \\Delta_{j k}^{i} \\nonumber \\\\\n",
    "  & -\\frac{4}{3} \\alpha \\bar{\\gamma}^{i j} \\partial_{j} K \\; .\n",
    "\\end{align}\n",
    "\n",
    "where the $\\text{TF}$ superscript denotes the trace-free part. Also, $\\bar{R}_{ij}$ is the conformal Ricci tensor, computed via\n",
    "\\begin{align}\n",
    "  \\bar{R}_{i j} {} = {} & - \\frac{1}{2} \\bar{\\gamma}^{k l} \\hat{D}_{k} \\hat{D}_{l} \\bar{\\gamma}_{i j} + \\bar{\\gamma}_{k(i} \\hat{D}_{j)} \\bar{\\Lambda}^{k} + \\Delta^{k} \\Delta_{(i j) k} \\nonumber \\\\\n",
    "  & + \\bar{\\gamma}^{k l} \\left (2 \\Delta_{k(i}^{m} \\Delta_{j) m l} + \\Delta_{i k}^{m} \\Delta_{m j l} \\right ) \\; .\n",
    "\\end{align}"
   ]
  },
  {
   "cell_type": "code",
   "execution_count": 1,
   "metadata": {},
   "outputs": [],
   "source": [
    "# Step 1: import all needed modules from NRPy+:\n",
    "import NRPy_param_funcs as par\n",
    "import indexedexp as ixp\n",
    "import grid as gri\n",
    "import finite_difference as fin\n",
    "import reference_metric as rfm\n",
    "from outputC import *"
   ]
  },
  {
   "cell_type": "code",
   "execution_count": 2,
   "metadata": {},
   "outputs": [],
   "source": [
    "# Step 2a: Initialize BSSN_RHS parameters\n",
    "\n",
    "# Step 2b: Set desired spatial dimension\n",
    "par.set_paramsvals_value(\"grid::DIM = 3\")\n",
    "\n",
    "# Step 3: Register all needed *evolved* gridfunctions.\n",
    "# Step 3a: Register indexed quantities, using ixp.register_... functions\n",
    "hDD = ixp.register_gridfunctions_for_single_rank2(\"EVOL\",\"hDD\", \"sym12\")\n",
    "aDD = ixp.register_gridfunctions_for_single_rank2(\"EVOL\",\"aDD\", \"sym12\")\n",
    "lambdaU = ixp.register_gridfunctions_for_single_rank1(\"EVOL\",\"lambdaU\")\n",
    "vetU = ixp.register_gridfunctions_for_single_rank1(\"EVOL\",\"vetU\")\n",
    "betU = ixp.register_gridfunctions_for_single_rank1(\"EVOL\",\"betU\")\n",
    "# Step 3b: Register scalar quantities, using gri.register_gridfunctions()\n",
    "trK, cf, alpha = gri.register_gridfunctions(\"EVOL\",[\"trK\",\"cf\",\"alpha\"])\n",
    "\n",
    "# Step 4: Register all *auxiliary* gridfunctions.\n",
    "# Step 4a: Register indexed quantities, using ixp.register_... functions\n",
    "RbarDD = ixp.register_gridfunctions_for_single_rank2(\"EVOL\",\"RbarDD\", \"sym12\")\n",
    "# Step 4b: Register scalar quantities, using gri.register_gridfunctions()\n",
    "detg = gri.register_gridfunctions(\"AUX\",[\"detg\"])"
   ]
  },
  {
   "cell_type": "code",
   "execution_count": 3,
   "metadata": {},
   "outputs": [],
   "source": [
    "# Step 4: Define "
   ]
  }
 ],
 "metadata": {
  "kernelspec": {
   "display_name": "Python 3",
   "language": "python",
   "name": "python3"
  },
  "language_info": {
   "codemirror_mode": {
    "name": "ipython",
    "version": 3
   },
   "file_extension": ".py",
   "mimetype": "text/x-python",
   "name": "python",
   "nbconvert_exporter": "python",
   "pygments_lexer": "ipython3",
   "version": "3.4.3"
  }
 },
 "nbformat": 4,
 "nbformat_minor": 2
}
