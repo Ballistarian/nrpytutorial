{
 "cells": [
  {
   "cell_type": "markdown",
   "metadata": {},
   "source": [
    "# The Spinning Effective One-Body Initial Condition Solver\n",
    "\n",
    "### Author: Tyler Knowles\n",
    "\n",
    "## This module documents the reduced spinning effective one-body initial condition solver as numerically implemented in LALSuite's SEOBNRv3 gravitational waveform approximant.  That is, we follow Section IV A of [Buonanno, Chen, and Damour (2006)](https://arxiv.org/abs/gr-qc/0508067).\n",
    "\n",
    "### Throughout this module, we will refer to\n",
    "* [Pan, Buonanno, Buchman et. al. (2010)](https://arxiv.org/abs/0912.3466v2) as PBB2010,\n",
    "* [Buonanno, Chen, and Damour (2006)](https://arxiv.org/abs/gr-qc/0508067) as BCD2006,\n",
    "* [Barausse and Buonanno (2010)](https://arxiv.org/abs/0912.3517) as BB2010,\n",
    "* [Taracchini, et. al. (2012)](https://arxiv.org/abs/1202.0790) as T2012,\n",
    "* [Damour, et. al. (2009)](https://arxiv.org/abs/0811.2069) as DIN2009, and\n",
    "* [Pan, et. al. (2014)](https://arxiv.org/abs/1307.6232) as P2014.\n",
    "\n",
    "<font color='green'>**This module has been validated against the LALSuite SEOBNRv3/SEOBNRv3_opt code that was reviewed and approved for LIGO parameter estimation by the LIGO Scientific Collaboration.**</font>\n",
    "\n",
    "<a id='intro'></a>\n",
    "\n",
    "# Introduction: The Physical System of Interest \\[Back to [top](#toc)\\]\n",
    "$$\\label{intro}$$\n",
    "\n",
    "Consider two compact objects (e.g. black holes or neutron stars) with masses $m_{1}$, $m_{2}$ (in solar masses) and spin angular momenta ${\\bf S}_{1}$, ${\\bf S}_{2}$ in a binary system.  The spinning effective one-body (\"SEOB\") Hamiltonian $H_{\\rm real}$ (see [BB2010](https://arxiv.org/abs/0912.3517) Equation (5.69)) describes the dynamics of this system.  We seek initial conditions for nonadiabatic evolutions of such a system, and follow [BCD2006](https://arxiv.org/abs/gr-qc/0508067) Section IV A.\n",
    "\n",
    "Please note that throughout this notebook we adpot the following conventions:\n",
    "1. $c = G = 1$ where $c$ is the speed of light in a vacuum and $G$ is Newton's gravitational constant,\n",
    "1. hatted vectors (e.g. $\\hat{\\bf L}_{N}$) usually denote scaled or unit vectors, and\n",
    "1. the initial inclination angle $\\iota$ is chosen to be zero.\n",
    "\n",
    "Choose a spatial coordinate basis $\\left\\{ {\\bf e}_{0}, {\\bf e}_{1}, {\\bf e}_{2} \\right\\}$ so that the initial separation vector ${\\bf r}$ between the compact objects lies along the ${\\bf e}_{0}$-axis.  We start with the following parameters:\n",
    "1. binary parameters $m_{1}$, $m_{2}$, ${\\bf S}_{1}$, and ${\\bf S}_{2}$,\n",
    "1. initial frequency $f$, and\n",
    "1. SEOB model parameters (constants dependent on $m_{1}$, $m_{2}$).\n",
    "\n",
    "Our goal is to produce initial dynamical variables\n",
    "1. ${\\bf x} = \\left( x, y, z \\right)$, and\n",
    "1. ${\\bf p} = \\left( p_{x}, p_{y}, p_{z} \\right)$.\n",
    "\n",
    "We include below the physical parameters necessary to compute the initial conditions.  Solving for the initial conditions requires computing $\\frac{ \\partial H_{\\rm real} }{ \\partial p_{i} }$ for $i \\in \\left\\{ r, \\theta, \\phi \\right\\}$, <font color='red'>which we defer to another module</font>.\n",
    "\n",
    "<font color='red'>Please note that in [BCD2006](https://arxiv.org/abs/gr-qc/0508067) the initial conditions are solved for given an initial separation; here we use a given initial frequency instead.  The difference is in our approach to solving Equation (4.8).  Our approach also differs from that found in LALSuite's XLALSimIMRSpinEOBInitialConditionsPrec() function (file: LALSimIMRSpinEOBInitialConditionsPrec.c) because we choose our intial coordinate system so that the inclination angle $\\iota$ is zero (this simplifies their step one and step five).</font>\n",
    "\n",
    "Keep in mind that we take tortoise = 0 until the end (see LALSimIMRSpinPrecEOB.c Line 775).\n",
    "\n",
    "Besides the physical parameters, we also need the [Euler–Mascheroni constant](https://en.wikipedia.org/wiki/Euler%E2%80%93Mascheroni_constant) $\\gamma$ and the [geomtrized](https://en.wikipedia.org/wiki/Geometrized_unit_system) solar mass $\\mathcal{M}_{\\odot}$, both hard-coded in LALSuite with the significant digits shown below.  (The following links are directed to the appropriate LALSuite documentation: [$\\gamma$](https://lscsoft.docs.ligo.org/lalsuite/lal/group___l_a_l_constants__h.html#gac6af32574ff8acaeeafe8bf422281e98) and [$\\mathcal{M}_{\\odot}$](https://lscsoft.docs.ligo.org/lalsuite/lal/group___l_a_l_constants__h.html#gab83f8c705dda3fd0bb2d5f2470bb9cdd).)"
   ]
  },
  {
   "cell_type": "code",
   "execution_count": 27,
   "metadata": {
    "scrolled": true
   },
   "outputs": [],
   "source": [
    "#Let's convert to NumPy, since we don't really need an CSE or other symbolic manipulations here\n",
    "#import sympy as sp\n",
    "#from mpmath import factorial, power, fac2, mpmathify\n",
    "#m1,m2,S10,S11,S12,S20,S21,S22,f = sp.symbols(\"m1 m2 S10 S11 S12 S20 S21 S22 f\",real=True)\n",
    "#dHdpx,dHdpy,dHdpz = sp.symbols(\"dHdpx dHdpy dHdpz\",real=True)\n",
    "#rho22v2,rho22v3,rho22v4,rho22v5,rho22v6,rho22v6l,rho22v7,rho22v8,rho22v8l,rho22v10,rho22v10l = sp.symbols(\"rho22v2 rho22v3 rho22v4 rho22v5 rho22v6 rho22v6l rho22v7 rho22v8 rho22v8l rho22v10 rho22v10l\",real=True)\n",
    "#rho21v1,rho21v2,rho21v3,rho21v4,rho21v5,rho21v6,rho21v6l,rho21v7,rho21v7l,rho21v8,rho21v8l,rho21v10,rho21v10l = sp.symbols(\"rho21v1 rho21v2 rho21v3 rho21v4 rho21v5 rho21v6 rho21v6l rho21v7 rho21v7l rho21v8 rho21v8l rho21v10 rho21v10l\",real=True)\n",
    "#f21v1,f21v3 = sp.symbols(\"f21v1 f21v3\",real=True)\n",
    "#rho33v2,rho33v3,rho33v4,rho33v5,rho33v6,rho33v6l,rho33v7,rho33v8,rho33v8l = sp.symbols(\"rho33v2 rho33v3 rho33v4 rho33v5 rho33v6 rho33v6l rho33v7 rho33v8 rho33v8l\",real=True)\n",
    "#f33v3 = sp.symbols(\"f33v3\",real=True)\n",
    "#rho32v,rho32v2,rho32v3,rho32v4,rho32v5,rho32v6,rho32v6l,rho32v8,rho32v8l = sp.symbols(\"rho32v rho32v2 rho32v3 rho32v4 rho32v5 rho32v6 rho32v6l rho32v8 rho32v8l\",real=True)\n",
    "#rho31v2,rho31v3,rho31v4,rho31v5,rho31v6,rho31v6l,rho31v7,rho31v8,rho31v8l = sp.symbols(\"rho31v2 rho31v3 rho31v4 rho31v5 rho31v6 rho31v6l rho31v7 rho31v8 rho31v8l\",real=True)\n",
    "#f31v3 = sp.symbols(\"f31v3\",real=True)\n",
    "#rho44v2,rho44v3,rho44v4,rho44v5,rho44v6,rho44v6l = sp.symbols(\"rho44v2 rho44v3 rho44v4 rho44v5 rho44v6 rho44v6l\",real=True)\n",
    "#rho43v,rho43v2,rho43v4,rho43v5,rho43v6,rho43v6l = sp.symbols(\"rho43v rho43v2 rho43v4 rho43v5 rho43v6 rho43v6l\",real=True)\n",
    "#f43v = sp.symbols(\"f43v\",real=True)\n",
    "#rho42v2,rho42v3,rho42v4,rho42v5,rho42v6,rho42v6l = sp.symbols(\"rho42v2 rho42v3 rho42v4 rho42v5 rho42v6 rho42v6l\",real=True)\n",
    "#rho41v,rho41v2,rho41v4,rho41v5,rho41v6,rho41v6l = sp.symbols(\"rho41v rho41v2 rho41v4 rho41v5 rho41v6 rho41v6l\",real=True)\n",
    "#f41v = sp.symbols(\"f41v\",real=True)\n",
    "#rho55v2,rho55v3,rho55v4,rho55v5,rho55v6 = sp.symbols(\"rho55v2 rho55v3 rho55v4 rho55v5 rho55v6\",real=True)\n",
    "#rho54v2,rho54v3,rho54v4 = sp.symbols(\"rho54v2 rho54v3 rho54v4\",real=True)\n",
    "#rho53v2,rho53v3,rho53v4,rho53v5 = sp.symbols(\"rho53v2 rho53v3 rho53v4 rho53v5\",real=True)\n",
    "#rho52v2,rho52v3,rho52v4 = sp.symbols(\"rho52v2,rho52v3,rho52v4\",real=True)\n",
    "#rho51v2,rho51v3,rho51v4,rho51v5 = sp.symbols(\"rho51v2 rho51v3 rho51v4 rho51v5\",real=True)\n",
    "#rho66v2,rho66v3,rho66v4 = sp.symbols(\"rho66v2 rho66v3 rho66v4\", real=True)\n",
    "#rho65v2,rho65v3 = sp.symbols(\"rho65v2 rho65v3\",real=True)\n",
    "#rho64v2,rho64v3,rho64v4 = sp.symbols(\"rho64v2 rho64v3 rho64v4\",real=True)\n",
    "#rho63v2,rho63v3 = sp.symbols(\"rho63v2 rho63v3\",real=True)\n",
    "#rho62v2,rho62v3,rho62v4 = sp.symbols(\"rho62v2 rho62v3 rho62v4\",real=True)\n",
    "#rho61v2,rho61v3 = sp.symbols(\"rho61v2 rho61v3\",real=True)\n",
    "#rho77v2,rho77v3 = sp.symbols(\"rho77v2 rho77v3\", real=True)\n",
    "#rho76v2 = sp.symbols(\"rho76v2\",real=True)\n",
    "#rho75v2,rho75v3 = sp.symbols(\"rho75v2 rho75v3\",real=True)\n",
    "#rho74v2 = sp.symbols(\"rho74v2\",real=True)\n",
    "#rho73v2,rho73v3 = sp.symbols(\"rho73v2 rho73v3\",real=True)\n",
    "#rho72v2 = sp.symbols(\"rho72v2\",real=True)\n",
    "#rho71v2,rho71v3 = sp.symbols(\"rho71v2 rho71v3\",real=True)\n",
    "#rho88v2,rho87v2,rho86v2,rho85v2,rho84v2,rho83v2,rho82v2,rho81v2 = sp.symbols(\"rho88v2 rho87v2 rho86v2 rho85v2 rho84v2 rho83v2 rho82v2 rho81v2\",real=True)\n",
    "#NQC = sp.symbols(\"NQC\",real=True)\n",
    "import numpy as np\n",
    "from scipy.optimize import root\n",
    "from numpy.linalg import norm\n",
    "\n",
    "#Input variables\n",
    "m1 = 10.\n",
    "m2 = 15.\n",
    "S1 = np.array([0.01, 0.02, -0.03])\n",
    "S2 = np.array([0.04, -0.05, 0.06])\n",
    "f = 20.\n",
    "\n",
    "gamma = 0.577215664901532860606512090082402431\n",
    "Msol = 4.925491025543575903411922162094833998e-6"
   ]
  },
  {
   "cell_type": "markdown",
   "metadata": {},
   "source": [
    "<a id='toc'></a>\n",
    "\n",
    "# Table of Contents\n",
    "$$\\label{toc}$$\n",
    "\n",
    "This module is organized as follows, matching the \"steps\" listed in [BCD2006](https://arxiv.org/abs/gr-qc/0508067):\n",
    "\n",
    "1. [Step 1:](#step1) Initial Coordinate Choice\n",
    "  * [Step 1.a:](#massterms) Mass terms\n",
    "  * [Step 1.b:](#spinterms) Spin terms\n",
    "  * [Step 1.c:](#ln) Normalized Orbital Angular Momenutm $\\hat{\\bf L}_{N}$\n",
    "  * [Step 1.d:](#rhat) Normalized Position $\\hat{\\bf r}$\n",
    "  * [Step 1.e:](#vhat) Normalized Velocity $\\hat{\\bf v}$\n",
    "  * [Note](#note)\n",
    "1. [Step 2:](#step2) Compute ${\\bf r}$, ${\\bf p}_{r}$, ${\\bf p}_{\\theta}$, and ${\\bf p}_{\\phi}$\n",
    "  * [Step 2.a:](#omega) $\\omega$\n",
    "  * [Step 2.b:](#velocity) Initial Velocity $v$\n",
    "  * [Step 2.c:](#rootfinding) Root finding\n",
    "1. [Step 3:](#step3) Rotate $\\hat{\\bf L} \\to {\\bf e}_{z}$\n",
    "  * [Step 3.a:](#phat) Normalize ${\\bf p}$\n",
    "  * [Step 3.b:](#lhat) $\\hat{\\bf L}$\n",
    "  * [Step 3.c:](#rotate) Rotation matrix\n",
    "  * [Step 3.d:](#rotaterhat) Rotate $\\hat{\\bf r}$\n",
    "  * [Step 3.e:](#rotatevhat) Rotate $\\hat{\\bf v}$\n",
    "  * [Step 3.f:](#rotatelnhat) Rotate $\\hat{\\bf L}_{N}$\n",
    "  * [Step 3.g:](#rotates1) Rotate ${\\bf S}_{1}$\n",
    "  * [Step 3.h:](#rotates2) Rotate ${\\bf S}_{2}$\n",
    "  * [Step 3.i:](#rotateshat1) Rotate $\\hat{\\bf S}_{1}$\n",
    "  * [Step 3.j:](#rotateshat2) Rotate $\\hat{\\bf S}_{2}$\n",
    "  * [Step 3.k:](#rotater) Rotate ${\\bf r}$\n",
    "  * [Step 3.l:](#rotatep) Rotate ${\\bf p}$\n",
    "1. [Step 4:](#step4) Compute $\\dot{\\bf r}$\n",
    "1. [Step 5:](#step5) Invert the rotation of Step 3\n",
    "1. [Output](#latex_pdf_output): Output this module to $\\LaTeX$-formatted PDF"
   ]
  },
  {
   "cell_type": "markdown",
   "metadata": {},
   "source": [
    "<a id='step1'></a>\n",
    "\n",
    "# Step 1: Initial Coordinate Choice \\[Back to [top](#toc)\\]\n",
    "$$\\label{step1}$$"
   ]
  },
  {
   "cell_type": "markdown",
   "metadata": {},
   "source": [
    "<a id='massterms'></a>\n",
    "\n",
    "## Step 1.a: Mass terms \\[Back to [top](#toc)\\]\n",
    "$$\\label{massterms}$$\n",
    "\n",
    "We begin by defining the total mass of the system $M$ and the symmetric mass ratio $\\eta$:\n",
    "\n",
    "\\begin{align*}\n",
    "    M &= m_{1} + m_{2} \\\\\n",
    "    \\eta &= \\frac{ m_{1} m_{2} }{ M^{2} }\n",
    "\\end{align*}"
   ]
  },
  {
   "cell_type": "code",
   "execution_count": 28,
   "metadata": {},
   "outputs": [],
   "source": [
    "M = m1 + m2\n",
    "Msqinv = 1/M*M\n",
    "eta = m1*m2*Msqinv"
   ]
  },
  {
   "cell_type": "markdown",
   "metadata": {},
   "source": [
    "<a id='spinterms'></a>\n",
    "\n",
    "## Step 1.b: Spin terms \\[Back to [top](#toc)\\]\n",
    "$$\\label{spinterms}$$\n",
    "\n",
    "<font color='red'>Can we find a source that says how the basis for the orientation of ${\\bf S}_{1}$, ${\\bf S}_{2}$ is chosen?  For now I assume it's in the $\\hat{\\bf r}, \\hat{\\bf v}, \\hat{\\bf L}_{N}$-frame, which is suggestd by the fact that LALSuite rotates them using the same rotation matrix as rotates $\\hat{\\bf r}$, $\\hat{\\bf v}$, and $\\hat{\\bf L}_{N}$ in the case $\\iota \\not= 0$.</font>  Since we assumed $G = c = 1$, we make the spin angular momenta dimensionless via:\n",
    "\n",
    "\\begin{align*}\n",
    "    \\hat{\\bf S}_{1} &= \\frac{ 1 }{ M^{2} } {\\bf S}_{1} \\\\\n",
    "    \\hat{\\bf S}_{2} &= \\frac{ 1 }{ M^{2} } {\\bf S}_{2}\n",
    "\\end{align*}\n",
    "\n",
    "See LALSimIMRSpinEOBInitialConditionsPrec.c Lines 768--771."
   ]
  },
  {
   "cell_type": "code",
   "execution_count": 29,
   "metadata": {},
   "outputs": [],
   "source": [
    "S1hat = S1*Msqinv\n",
    "S2hat = S2*Msqinv"
   ]
  },
  {
   "cell_type": "markdown",
   "metadata": {},
   "source": [
    "<a id='ln'></a>\n",
    "\n",
    "## Step 1.c: Normalized Orbital Angular Momenutm $\\hat{\\bf L}_{N}$ \\[Back to [top](#toc)\\]\n",
    "$$\\label{ln}$$\n",
    "\n",
    "Since we assume that the initial separation vector ${\\bf r}$ between $m_{1}$ and $m_{2}$ lies along the ${\\bf e}_{0}$-axis, the initial orbital plane coincides with the ${\\bf e}_{0},{\\bf e}_{1}$-plane.  Thus the normalized inital orbital angular momentum vector $\\hat{\\bf L}_{N}$ is given by\n",
    "\n",
    "\\begin{equation*}\n",
    "    \\hat{\\bf L}_{N} = \\begin{bmatrix} 0 \\\\ 0 \\\\ 1 \\end{bmatrix}\n",
    "\\end{equation*}\n",
    "\n",
    "See LALSimIMRSpinEOBInitialConditionsPrec.c Lines 787--789."
   ]
  },
  {
   "cell_type": "code",
   "execution_count": 30,
   "metadata": {},
   "outputs": [],
   "source": [
    "LNhat = np.array([0., 0., 1.])"
   ]
  },
  {
   "cell_type": "markdown",
   "metadata": {},
   "source": [
    "<a id='rhat'></a>\n",
    "\n",
    "## Step 1.d: Normalized Position $\\hat{\\bf r}$ \\[Back to [top](#toc)\\]\n",
    "$$\\label{rhat}$$\n",
    "\n",
    "We assumed that the initial separation vector ${\\bf r}$ lies along the ${\\bf e}_{0}$-axis, so the normalized initial separation vector $\\hat{\\bf r}$ is given by\n",
    "\n",
    "\\begin{equation*}\n",
    "    \\hat{\\bf r} = \\begin{bmatrix} 0 \\\\ 0 \\\\ 1 \\end{bmatrix}.\n",
    "\\end{equation*}\n",
    "\n",
    "See LALSimIMRSpinEOBInitialConditionsPrec.c Lines 801--803."
   ]
  },
  {
   "cell_type": "code",
   "execution_count": 31,
   "metadata": {},
   "outputs": [],
   "source": [
    "rhat = np.array([0., 0., 1.])"
   ]
  },
  {
   "cell_type": "markdown",
   "metadata": {},
   "source": [
    "<a id='vhat'></a>\n",
    "\n",
    "## Step 1.e: Normalized Velocity $\\hat{\\bf v}$ \\[Back to [top](#toc)\\]\n",
    "$$\\label{vhat}$$\n",
    "\n",
    "Given normalized orbital angular momentum ($\\hat{\\bf L}_{N}$) and normalized position ($\\hat{\\bf r}$), the normalized velocity vector ($\\hat{\\bf v}$) is given by\n",
    "\n",
    "\\begin{equation*}\n",
    "    \\hat{\\bf v} = \\frac{ \\hat{\\bf L}_{N} \\times \\hat{\\bf r} }{ \\left\\lvert \\hat{\\bf L}_{N} \\times \\hat{\\bf r} \\right\\rvert }.\n",
    "\\end{equation*}\n",
    "\n",
    "Given $\\hat{\\bf L}_{N} = \\begin{bmatrix} 0 \\\\ 0 \\\\ 1 \\end{bmatrix}$ and $\\hat{\\bf r} = \\begin{bmatrix} 1 \\\\ 0 \\\\ 0 \\end{bmatrix}$ it is clear that $\\hat{\\bf v} = \\begin{bmatrix} 0 \\\\ 1 \\\\ 0 \\end{bmatrix}$.\n",
    "\n",
    "See LALSimIMRSpinEOBInitialConditionsPrec.c Lines 807--811."
   ]
  },
  {
   "cell_type": "code",
   "execution_count": 32,
   "metadata": {},
   "outputs": [],
   "source": [
    "vhat = np.array([0., 1., 0.])"
   ]
  },
  {
   "cell_type": "markdown",
   "metadata": {},
   "source": [
    "<a id='note'></a>\n",
    "\n",
    "## Note \\[Back to [top](#toc)\\]\n",
    "$$\\label{note}$$\n",
    "\n",
    "Since we began assuming $\\iota = 0$, we do not need to rotate $\\hat{\\bf r}$, $\\hat{\\bf v}$, $\\hat{\\bf L}_{N}$, ${\\bf S}_{1}$, ${\\bf S}_{2}$, $\\hat{\\bf S}_{1}$, or $\\hat{\\bf S}_{2}$ as is done at LALSimIMRSpinEOBInitialConditionsPrec.c Lines 840-847."
   ]
  },
  {
   "cell_type": "markdown",
   "metadata": {},
   "source": [
    "<a id='step2'></a>\n",
    "\n",
    "# Step 2: Compute ${\\bf r}$ and ${\\bf p}$ in spherical coordinates \\[Back to [top](#toc)\\]\n",
    "$$\\label{step2}$$"
   ]
  },
  {
   "cell_type": "markdown",
   "metadata": {},
   "source": [
    "<a id='omega'></a>\n",
    "\n",
    "## Step 2.a: $\\omega$ \\[Back to [top](#toc)\\]\n",
    "$$\\label{omega}$$\n",
    "\n",
    "<font color='red'>Is there a paper reference for this formula?  It's not quite Newtonian ($\\omega = 2 \\pi f)$.</font>\n",
    " \n",
    "\\begin{equation*}\n",
    "    \\omega = M \\mathcal{M}_{\\odot} \\pi f.\n",
    "\\end{equation*}\n",
    "\n",
    "See LALSimIMRSpinEOBInitialConditionsPrec.c Line 893."
   ]
  },
  {
   "cell_type": "code",
   "execution_count": 79,
   "metadata": {},
   "outputs": [],
   "source": [
    "omega = M*Msol*np.pi*f"
   ]
  },
  {
   "cell_type": "markdown",
   "metadata": {},
   "source": [
    "<a id='velocity'></a>\n",
    "\n",
    "## Step 2.b: Initial Velocity $v$ \\[Back to [top](#toc)\\]\n",
    "$$\\label{velocity}$$\n",
    "\n",
    "<font color='red'>Is there a paper reference for this formula?</font>\n",
    "\n",
    "\\begin{equation*}\n",
    "    v = \\sqrt[3]{ \\omega }.\n",
    "\\end{equation*}\n",
    "\n",
    "See LALSimIMRSpinEOBInitialConditionsPrec.c Line 894."
   ]
  },
  {
   "cell_type": "code",
   "execution_count": 34,
   "metadata": {},
   "outputs": [],
   "source": [
    "v = np.cbrt(omega)\n",
    "vsq = v*v"
   ]
  },
  {
   "cell_type": "markdown",
   "metadata": {},
   "source": [
    "<a id='rootfinding'></a>\n",
    "\n",
    "## Step 2.c: Root-finding \\[Back to [top](#toc)\\]\n",
    "$$\\label{rootfinding}$$\n",
    "\n",
    "We will write components of the momentum vector ${\\bf p}$ in spherical coordinates with components ${\\bf p}^{r}$, ${\\bf p}^{\\theta}$, and ${\\bf p}^{\\phi}$.  In the special case in which we find ourselves, we have ([BCD2006](https://arxiv.org/abs/gr-qc/0508067) Equation (4.7)):\n",
    "\n",
    "\\begin{align*}\n",
    "    {\\bf p}^{\\phi} &= 0 \\\\\n",
    "    {\\bf p}^{\\theta} &= \\frac{ \\pi }{ 2 }.\n",
    "\\end{align*}\n",
    "\n",
    "From [BCD2006](https://arxiv.org/abs/gr-qc/0508067) Equations (4.8)--(4.9), we seek to solve\n",
    "\n",
    "\\begin{equation*}\n",
    "    \\begin{bmatrix} \\frac{ \\partial H }{ \\partial {\\bf r}^{r} } \\\\ \\frac{ \\partial H }{ \\partial {\\bf p}^{\\theta} } \\\\ \\frac{ \\partial H }{ \\partial {\\bf p}^{\\phi} } - \\omega \\end{bmatrix} = \\begin{bmatrix} 0 \\\\ 0 \\\\ 0 \\end{bmatrix}.\n",
    "\\end{equation*}\n",
    "\n",
    "As the Hamiltonian is given in Cartesian coordinates, this requires computing $\\frac{ \\partial H }{ \\partial {\\bf r}^{0} }$, $\\frac{ \\partial H }{ \\partial {\\bf p}^{1} }$, and $\\frac{ \\partial H }{ \\partial {\\bf p}^{2} }$ and then converting to spherical coordinates via\n",
    "\n",
    "\\begin{align*}\n",
    "    \\frac{\\partial H}{\\partial {\\bf r}^{r}} &= \\frac{\\partial H}{\\partial {\\bf r}^{0}} - \\frac{\\frac{\\partial H}{\\partial {\\bf p}^{1}}{\\bf p}^{\\phi}}{\\left({\\bf r}^{r}\\right)^{2}} + \\frac{\\frac{\\partial H}{\\partial {\\bf p}^{2}}{\\bf p}^{\\theta}}{\\left({\\bf r}^{r}\\right)^{2}} \\\\\n",
    "    \\frac{\\partial H}{\\partial {\\bf p}^{\\theta}} &= -\\frac{\\frac{\\partial H}{\\partial {\\bf p}^{2}}}{{\\bf r}^{r}} \\\\\n",
    "    \\frac{\\partial H}{\\partial {\\bf p}^{\\phi}} &= \\frac{\\frac{\\partial H}{\\partial {\\bf p}^{1}}}{{\\bf r}^{r}}.\n",
    "\\end{align*}\n",
    "\n",
    "(see LALSimIMRSpinEOBInitialConditionsPrec.c Lines 409--411).  As such, the values we seek to find are ${\\bf r}^{r}$, ${\\bf p}^{\\theta}$, and ${\\bf p}^{\\phi}$.\n",
    "\n",
    "<font color='red'>LALSuite uses the following initial guesses for the root-finding routine:\n",
    "\n",
    "\\begin{align*}\n",
    "    {\\bf r}^{r} &= \\frac{ 1 }{ v^{2} } \\\\\n",
    "    {\\bf p}^{\\phi} &= v \\\\\n",
    "    {\\bf p}^{\\theta} &= 0.2.\n",
    "\\end{align*}\n",
    "\n",
    "Note: LALSuite scales the initial guesses given to the root-finding routine; see LALSimIMRSpinEOBInitialConditionsPrec.c Line 899.  The root finder seeks to solve\n",
    "\n",
    "In the end, we should have a cartesian postition vector ${\\bf q}$ and momentum vector ${\\bf p}$.  It seems that because we stared with $\\iota = 0$ that we can use $\\hat{\\bf r}$ instead of $\\hat{\\bf q}$?</font>"
   ]
  },
  {
   "cell_type": "code",
   "execution_count": 35,
   "metadata": {},
   "outputs": [],
   "source": [
    "#We need to import the following values from the derivative routine\n",
    "dHdx = 1.\n",
    "dHdp1 = 2.\n",
    "dHdp2 = 3.\n",
    "\n",
    "def root_func(F):\n",
    "    return [ dHdx + (dHdp2*F[2] - dHdp1*F[1])/(F[0]*F[0]), -dHdp2/F[0], dHdp1/F[0] - omega ]\n",
    "\n",
    "root_guess = [1/(v*v), v, 0.2]\n",
    "\n",
    "soln = root(root_func, root_guess, args=(), method='hybr', jac=None, tol=None, callback=None)\n",
    "\n",
    "q = np.array([soln.x[0], 0., 0.])\n",
    "p = np.array([0., soln.x[1], soln.x[2]])"
   ]
  },
  {
   "cell_type": "markdown",
   "metadata": {},
   "source": [
    "<a id='step3'></a>\n",
    "\n",
    "# Step 3: Rotate $\\hat{\\bf L} \\to {\\bf e}_{z}$ \\[Back to [top](#toc)\\]\n",
    "$$\\label{step3}$$"
   ]
  },
  {
   "cell_type": "markdown",
   "metadata": {},
   "source": [
    "## Note \\[Back to [top](#toc)\\]\n",
    "\n",
    "\n",
    "At this point, LALSimIMRSpinEOBInitialConditionsPrec.c normalizes the Cartesian separation and momentum vectors constructed in [Step 2](#step2).  We already have a normalized separation vector $\\hat{\\bf r}$, so we skip that step."
   ]
  },
  {
   "cell_type": "markdown",
   "metadata": {},
   "source": [
    "<a id='phat'></a>\n",
    "\n",
    "## Step 3.a: Normalize ${\\bf p}$ \\[Back to [top](#toc)\\]\n",
    "$$\\label{phat}$$\n",
    "\n",
    "Next we normalize the new position vector ${\\bf p}$ that we found in [Step 2](#step2):\n",
    "\n",
    "\\begin{equation*}\n",
    "    \\hat{\\bf p} = \\frac{ {\\bf p} }{ \\left\\lvert {\\bf p} \\right\\rvert}.\n",
    "\\end{equation*}\n",
    "\n",
    "See LALSimIMRSpinEOBInitialConditionsPrec.c Line 1101."
   ]
  },
  {
   "cell_type": "code",
   "execution_count": 37,
   "metadata": {},
   "outputs": [],
   "source": [
    "phat = p/norm(p)"
   ]
  },
  {
   "cell_type": "markdown",
   "metadata": {},
   "source": [
    "<a id='lhat'></a>\n",
    "\n",
    "## Step 3.b: $\\hat{\\bf L}$ \\[Back to [top](#toc)\\]\n",
    "$$\\label{lhat}$$\n",
    "\n",
    "We compute the normalized relativistic angular momentum vector $\\hat{\\bf L}$:\n",
    "\n",
    "\\begin{equation*}\n",
    "    \\hat{\\bf L} = \\frac{ \\hat{\\bf r} \\times \\hat{\\bf p} }{ \\left\\lvert \\hat{\\bf r} \\times \\hat{\\bf p} \\right\\rvert }.\n",
    "\\end{equation*}\n",
    "\n",
    "See LALSimIMRSpinEOBInitialConditionsPrec.c Lines 1098--1100."
   ]
  },
  {
   "cell_type": "code",
   "execution_count": 38,
   "metadata": {},
   "outputs": [],
   "source": [
    "Lhat = np.cross(rhat,phat)\n",
    "Lhat /= norm(Lhat)"
   ]
  },
  {
   "cell_type": "markdown",
   "metadata": {},
   "source": [
    "<a id='rotate'></a>\n",
    "\n",
    "## Step 3.c: Rotation matrix \\[Back to [top](#toc)\\]\n",
    "$$\\label{rotate}$$\n",
    "\n",
    "The rotation matrix from the $\\left\\{ \\hat{\\bf r}, {\\bf v}, \\hat{\\bf L}_{N} \\right\\}$ frame to the $\\left\\{ \\hat{\\bf r}, {\\bf p}, \\hat{\\bf L} \\right\\}$ frame is given by\n",
    "\n",
    "\\begin{equation*}\n",
    "    \\begin{bmatrix} \\hat{\\bf r}^{0} & \\hat{\\bf r}^{1} & \\hat{\\bf r}^{2} \\\\\n",
    "        \\hat{\\bf p}^{0} & \\hat{\\bf p}^{1} & \\hat{\\bf p}^{2} \\\\\n",
    "        \\hat{\\bf L}^{0} & \\hat{\\bf L}^{1} & \\hat{\\bf L}^{2}\\end{bmatrix}.\n",
    "\\end{equation*}\n",
    "\n",
    "See LALSimIMRSpinEOBInitialConditionsPrec.c Line 1107."
   ]
  },
  {
   "cell_type": "code",
   "execution_count": 40,
   "metadata": {},
   "outputs": [],
   "source": [
    "rotate = np.array([rhat, phat, Lhat])"
   ]
  },
  {
   "cell_type": "markdown",
   "metadata": {},
   "source": [
    "<a id='rotaterhat'></a>\n",
    "\n",
    "## Step 3.d: Rotate $\\hat{\\bf r}$ \\[Back to [top](#toc)\\]\n",
    "$$\\label{rotatesrhat}$$\n",
    "\n",
    "We now rotate $\\hat{\\bf r}$.  We'll use primes to denote the rotated vector.\n",
    "\n",
    "\\begin{equation*}\n",
    "    \\hat{\\bf r}^{\\prime} = \\begin{bmatrix} \\hat{\\bf r}^{0} & \\hat{\\bf r}^{1} & \\hat{\\bf r}^{2} \\\\\n",
    "        \\hat{\\bf p}^{0} & \\hat{\\bf p}^{1} & \\hat{\\bf p}^{2} \\\\\n",
    "        \\hat{\\bf L}^{0} & \\hat{\\bf L}^{1} & \\hat{\\bf L}^{2}\\end{bmatrix}\n",
    "        \\begin{bmatrix} \\hat{\\bf r}^{0} \\\\ \\hat{\\bf r}^{1} \\\\ \\hat{\\bf r}^{2} \\end{bmatrix}\n",
    "\\end{equation*}\n",
    "\n",
    "See LALSimIMRSpinEOBInitialConditionsPrec.c Line 1112."
   ]
  },
  {
   "cell_type": "code",
   "execution_count": 59,
   "metadata": {},
   "outputs": [],
   "source": [
    "rhatprm = np.dot(rotate,rhat)"
   ]
  },
  {
   "cell_type": "markdown",
   "metadata": {},
   "source": [
    "<a id='rotatevhat'></a>\n",
    "\n",
    "## Step 3.e: Rotate $\\hat{\\bf v}$ \\[Back to [top](#toc)\\]\n",
    "$$\\label{rotatevhat}$$\n",
    "\n",
    "We rotate $\\hat{\\bf v}$.  We'll use primes to denote the rotated vector.\n",
    "\n",
    "\\begin{equation*}\n",
    "    \\hat{\\bf v}^{\\prime} = \\begin{bmatrix} \\hat{\\bf r}^{0} & \\hat{\\bf r}^{1} & \\hat{\\bf r}^{2} \\\\\n",
    "        \\hat{\\bf p}^{0} & \\hat{\\bf p}^{1} & \\hat{\\bf p}^{2} \\\\\n",
    "        \\hat{\\bf L}^{0} & \\hat{\\bf L}^{1} & \\hat{\\bf L}^{2}\\end{bmatrix}\n",
    "        \\begin{bmatrix} \\hat{\\bf v}^{0} \\\\ \\hat{\\bf v}^{1} \\\\ \\hat{\\bf v}^{2} \\end{bmatrix}\n",
    "\\end{equation*}\n",
    "\n",
    "See LALSimIMRSpinEOBInitialConditionsPrec.c Line 1113."
   ]
  },
  {
   "cell_type": "code",
   "execution_count": 60,
   "metadata": {},
   "outputs": [],
   "source": [
    "vhatprm = np.dot(rotate, vhat)"
   ]
  },
  {
   "cell_type": "markdown",
   "metadata": {},
   "source": [
    "<a id='rotatelnhat'></a>\n",
    "\n",
    "## Step 3.f: Rotate $\\hat{\\bf L}_{N}$ \\[Back to [top](#toc)\\]\n",
    "$$\\label{rotatelnhat}$$\n",
    "\n",
    "We rotate $\\hat{\\bf L}_{N}$.  We'll use primes to denote the rotated vector.\n",
    "\n",
    "\\begin{equation*}\n",
    "    \\hat{\\bf L}_{N}^{\\prime} = \\begin{bmatrix} \\hat{\\bf r}^{0} & \\hat{\\bf r}^{1} & \\hat{\\bf r}^{2} \\\\\n",
    "        \\hat{\\bf p}^{0} & \\hat{\\bf p}^{1} & \\hat{\\bf p}^{2} \\\\\n",
    "        \\hat{\\bf L}^{0} & \\hat{\\bf L}^{1} & \\hat{\\bf L}^{2}\\end{bmatrix}\n",
    "        \\begin{bmatrix} \\hat{\\bf L}_{N}^{0} \\\\ \\hat{\\bf L}_{N}^{1} \\\\ \\hat{\\bf L}_{N}^{2} \\end{bmatrix}\n",
    "\\end{equation*}\n",
    "\n",
    "See LALSimIMRSpinEOBInitialConditionsPrec.c Line 1114."
   ]
  },
  {
   "cell_type": "code",
   "execution_count": 61,
   "metadata": {},
   "outputs": [],
   "source": [
    "LNhatprm = np.dot(rotate, LNhat)"
   ]
  },
  {
   "cell_type": "markdown",
   "metadata": {},
   "source": [
    "<a id='rotates1'></a>\n",
    "\n",
    "## Step 3.g: Rotate ${\\bf S}_{1}$ \\[Back to [top](#toc)\\]\n",
    "$$\\label{rotates1}$$\n",
    "\n",
    "We rotate ${\\bf S}_{1}$.  We'll use primes to denote the rotated vector.\n",
    "\n",
    "\\begin{equation*}\n",
    "    {\\bf S}_{1}^{\\prime} = \\begin{bmatrix} \\hat{\\bf r}^{0} & \\hat{\\bf r}^{1} & \\hat{\\bf r}^{2} \\\\\n",
    "        \\hat{\\bf p}^{0} & \\hat{\\bf p}^{1} & \\hat{\\bf p}^{2} \\\\\n",
    "        \\hat{\\bf L}^{0} & \\hat{\\bf L}^{1} & \\hat{\\bf L}^{2}\\end{bmatrix}\n",
    "        \\begin{bmatrix} {\\bf S}_{1}^{0} \\\\ {\\bf S}_{1}^{1} \\\\ {\\bf S}_{1}^{2} \\end{bmatrix}\n",
    "\\end{equation*}\n",
    "\n",
    "See LALSimIMRSpinEOBInitialConditionsPrec.c Line 1115."
   ]
  },
  {
   "cell_type": "code",
   "execution_count": 62,
   "metadata": {},
   "outputs": [],
   "source": [
    "S1prm = np.dot(rotate, S1)"
   ]
  },
  {
   "cell_type": "markdown",
   "metadata": {},
   "source": [
    "<a id='rotates2'></a>\n",
    "\n",
    "## Step 3.h: Rotate ${\\bf S}_{2}$ \\[Back to [top](#toc)\\]\n",
    "$$\\label{rotates2}$$\n",
    "\n",
    "We rotate ${\\bf S}_{2}$.  We'll use primes to denote the rotated vector.\n",
    "\n",
    "\\begin{equation*}\n",
    "    {\\bf S}_{2}^{\\prime} = \\begin{bmatrix} \\hat{\\bf r}^{0} & \\hat{\\bf r}^{1} & \\hat{\\bf r}^{2} \\\\\n",
    "        \\hat{\\bf p}^{0} & \\hat{\\bf p}^{1} & \\hat{\\bf p}^{2} \\\\\n",
    "        \\hat{\\bf L}^{0} & \\hat{\\bf L}^{1} & \\hat{\\bf L}^{2}\\end{bmatrix}\n",
    "        \\begin{bmatrix} {\\bf S}_{2}^{0} \\\\ {\\bf S}_{2}^{1} \\\\ {\\bf S}_{2}^{z} \\end{bmatrix}\n",
    "\\end{equation*}\n",
    "\n",
    "See LALSimIMRSpinEOBInitialConditionsPrec.c Line 1116."
   ]
  },
  {
   "cell_type": "code",
   "execution_count": 63,
   "metadata": {},
   "outputs": [],
   "source": [
    "S2prm = np.dot(rotate, S2)"
   ]
  },
  {
   "cell_type": "markdown",
   "metadata": {},
   "source": [
    "<a id='rotates1hat'></a>\n",
    "\n",
    "## Step 3.i: Rotate $\\hat{\\bf S}_{1}$ \\[Back to [top](#toc)\\]\n",
    "$$\\label{rotates1hat}$$\n",
    "\n",
    "We rotate $\\hat{\\bf S}_{1}$.  We'll use primes to denote the rotated vector.\n",
    "\n",
    "\\begin{equation*}\n",
    "    \\hat{\\bf S}_{1}^{\\prime} = \\begin{bmatrix} \\hat{\\bf r}^{0} & \\hat{\\bf r}^{1} & \\hat{\\bf r}^{2} \\\\\n",
    "        \\hat{\\bf p}^{0} & \\hat{\\bf p}^{1} & \\hat{\\bf p}^{2} \\\\\n",
    "        \\hat{\\bf L}^{0} & \\hat{\\bf L}^{1} & \\hat{\\bf L}^{2}\\end{bmatrix}\n",
    "        \\begin{bmatrix} \\hat{\\bf S}_{1}^{0} \\\\ \\hat{\\bf S}_{1}^{1} \\\\ \\hat{\\bf S}_{1}^{1} \\end{bmatrix}\n",
    "\\end{equation*}\n",
    "\n",
    "See LALSimIMRSpinEOBInitialConditionsPrec.c Line 1117."
   ]
  },
  {
   "cell_type": "code",
   "execution_count": 52,
   "metadata": {},
   "outputs": [],
   "source": [
    "S1hatprm = np.dot(rotate, S1hat)"
   ]
  },
  {
   "cell_type": "markdown",
   "metadata": {},
   "source": [
    "<a id='rotates2hat'></a>\n",
    "\n",
    "## Step 3.j: Rotate $\\hat{\\bf S}_{2}$ \\[Back to [top](#toc)\\]\n",
    "$$\\label{rotates2hat\\hat}$$\n",
    "\n",
    "We rotate $\\hat{\\bf S}_{2}$.  We'll use primes to denote the rotated vector.\n",
    "\n",
    "\\begin{equation*}\n",
    "    \\hat{\\bf S}_{2}^{\\prime} = \\begin{bmatrix} \\hat{\\bf r}^{0} & \\hat{\\bf r}^{1} & \\hat{\\bf r}^{2} \\\\\n",
    "        \\hat{\\bf p}^{0} & \\hat{\\bf p}^{1} & \\hat{\\bf p}^{2} \\\\\n",
    "        \\hat{\\bf L}^{0} & \\hat{\\bf L}^{1} & \\hat{\\bf L}^{2}\\end{bmatrix}\n",
    "        \\begin{bmatrix} \\hat{\\bf S}_{2}^{0} \\\\ \\hat{\\bf S}_{2}^{1} \\\\ \\hat{\\bf S}_{2}^{2} \\end{bmatrix}\n",
    "\\end{equation*}\n",
    "\n",
    "See LALSimIMRSpinEOBInitialConditionsPrec.c Line 1118."
   ]
  },
  {
   "cell_type": "code",
   "execution_count": 53,
   "metadata": {},
   "outputs": [],
   "source": [
    "S2hatprm = np.dot(rotate, S2hat)"
   ]
  },
  {
   "cell_type": "markdown",
   "metadata": {},
   "source": [
    "<a id='rotater'></a>\n",
    "\n",
    "## Step 3.k: Rotate ${\\bf r}$ \\[Back to [top](#toc)\\]\n",
    "$$\\label{rotater}$$\n",
    "\n",
    "We rotate ${\\bf r} = {\\bf q}$.  We'll use primes to denote the rotated vector.\n",
    "\n",
    "\\begin{equation*}\n",
    "    {\\bf r}^{\\prime} = \\begin{bmatrix} \\hat{\\bf r}^{0} & \\hat{\\bf r}^{1} & \\hat{\\bf r}^{2} \\\\\n",
    "        \\hat{\\bf p}^{0} & \\hat{\\bf p}^{1} & \\hat{\\bf p}^{2} \\\\\n",
    "        \\hat{\\bf L}^{0} & \\hat{\\bf L}^{1} & \\hat{\\bf L}^{2}\\end{bmatrix}\n",
    "        \\begin{bmatrix} {\\bf q}^{0} \\\\ {\\bf q}^{1} \\\\ {\\bf q}^{2} \\end{bmatrix}\n",
    "\\end{equation*}\n",
    "\n",
    "See LALSimIMRSpinEOBInitialConditionsPrec.c Line 1119."
   ]
  },
  {
   "cell_type": "code",
   "execution_count": 56,
   "metadata": {},
   "outputs": [],
   "source": [
    "rprm = np.dot(rotate, q)"
   ]
  },
  {
   "cell_type": "markdown",
   "metadata": {},
   "source": [
    "<a id='rotatep'></a>\n",
    "\n",
    "## Step 3.l: Rotate ${\\bf p}$ \\[Back to [top](#toc)\\]\n",
    "$$\\label{rotatep}$$\n",
    "\n",
    "We rotate ${\\bf p}$.  We'll use primes to denote the rotated vector.\n",
    "\n",
    "\\begin{equation*}\n",
    "    {\\bf p}^{\\prime} = \\begin{bmatrix} \\hat{\\bf r}^{0} & \\hat{\\bf r}^{1} & \\hat{\\bf r}^{2} \\\\\n",
    "        \\hat{\\bf p}^{0} & \\hat{\\bf p}^{1} & \\hat{\\bf p}^{2} \\\\\n",
    "        \\hat{\\bf L}^{0} & \\hat{\\bf L}^{1} & \\hat{\\bf L}^{2}\\end{bmatrix}\n",
    "        \\begin{bmatrix} {\\bf p}^{0} \\\\ {\\bf p}^{1} \\\\ {\\bf p}^{2} \\end{bmatrix}\n",
    "\\end{equation*}\n",
    "\n",
    "See LALSimIMRSpinEOBInitialConditionsPrec.c Line 1120."
   ]
  },
  {
   "cell_type": "code",
   "execution_count": 57,
   "metadata": {},
   "outputs": [],
   "source": [
    "pprm = np.dot(rotate, p)"
   ]
  },
  {
   "cell_type": "markdown",
   "metadata": {},
   "source": [
    "<a id='step4'></a>\n",
    "\n",
    "# Step 4: Compute $\\dot{\\bf r}$ \\[Back to [top](#toc)\\]\n",
    "$$\\label{step4}$$"
   ]
  },
  {
   "cell_type": "markdown",
   "metadata": {},
   "source": [
    "<a id='carttosph'></a>\n",
    "\n",
    "## Convert from Cartesian to Spherical Coordinates \\[Back to [top](#toc)\\]\n",
    "$$\\label{carttosph}$$\n",
    "\n",
    "We convert position and momentum into spherical coordinates.  In the special case where $\\theta = \\frac{ \\pi }{ 2 }$ and $\\phi = 0$, the spherical position vector ${\\bf r} = \\left( {\\bf r}^{r}, {\\bf r}^{\\theta}, {\\bf r}^{\\phi} \\right)$ is given by\n",
    "\n",
    "\\begin{align*}\n",
    "    {\\bf r}^{r} &= {\\bf r}^{0} \\\\\n",
    "    {\\bf r}^{\\theta} &= \\frac{ \\pi }{ 2 } \\\\\n",
    "    {\\bf r}^{\\phi} &= 0\n",
    "\\end{align*}\n",
    "\n",
    "and the spherical momentum vector ${\\bf p} = \\left( {\\bf p}^{r}, {\\bf p}^{\\theta}, {\\bf p}^{\\phi} \\right)$ is given by\n",
    "\n",
    "\\begin{align*}\n",
    "    {\\bf p}^{r} &= {\\bf p}^{0} \\\\\n",
    "    {\\bf p}^{\\theta} &= - {\\bf r}^{0}{\\bf p}^{2} \\\\\n",
    "    {\\bf p}^{\\phi} &= {\\bf r}^{0}{\\bf p}^{1} \\\\\n",
    "\\end{align*}\n",
    "\n",
    "We call a Cartesian to spherical routine at LALSimIMRSpinEOBInitialConditionsPrec.c Line 1139, and the function itself is defined on Lines 243--285."
   ]
  },
  {
   "cell_type": "code",
   "execution_count": 58,
   "metadata": {},
   "outputs": [],
   "source": [
    "r = np.array([rprm[0], np.pi/2., 0.])\n",
    "psph = np.array([pprm[0], -rprm[0]*pprm[2], rprm[0]*pprm[1]])"
   ]
  },
  {
   "cell_type": "markdown",
   "metadata": {},
   "source": [
    "<a id='secondderiv'></a>\n",
    "\n",
    "## Second derivatives of $H_{\\rm real}$ \\[Back to [top](#toc)\\]\n",
    "$$\\label{seconderiv}$$\n",
    "\n",
    "We need to compute $\\frac{ \\partial H }{ \\partial {\\bf p}^{\\phi} }$, $\\frac{ \\partial^{2} H_{\\rm real} }{ \\partial r^{2} }$, and $\\frac{ \\partial^{2} H_{\\rm real} }{ \\partial r \\partial {\\bf p}^{\\phi} }$ (<font color='red'>in another module</font>).\n",
    "\n",
    "<font color='red'>Note: be sure that, following this, we use normalized spins.</font>"
   ]
  },
  {
   "cell_type": "code",
   "execution_count": 67,
   "metadata": {},
   "outputs": [],
   "source": [
    "#Need to figure out how to compute and then import these\n",
    "dHdpphi = dHdp1/r[0] - omega\n",
    "d2Hdr2 = 0.2\n",
    "d2Hdrdpphi = 0.3"
   ]
  },
  {
   "cell_type": "markdown",
   "metadata": {},
   "source": [
    "<a id='dEdr'></a>\n",
    "\n",
    "## $\\frac{ \\partial E }{ \\partial r }$ \\[Back to [top](#toc)\\]\n",
    "$$\\label{dEdr}$$\n",
    "\n",
    "We seek to compute $\\frac{ \\partial H }{\\partial r}$, and [BCD2006](https://arxiv.org/abs/gr-qc/0508067) uses the convention $H \\equiv E$.  (see [BCD2006](https://arxiv.org/abs/gr-qc/0508067) Equation (3.7)).  From [BCD2006](https://arxiv.org/abs/gr-qc/0508067) Equation Equation (4.14) (noting that this equation applies in spherical coordinates when ${\\bf r}$ is directed along the ${\\bf e}_{0}$ axis),\n",
    "\n",
    "\\begin{equation*}\n",
    "    \\frac{ \\partial E }{ \\partial r } = -\\frac{ \\frac{ \\partial H }{ \\partial {\\bf p}^{\\phi} } \\frac{ \\partial^{2} H }{ \\left(\\partial {\\bf r}^{r} \\right)^{2} } }{ \\frac{ \\partial^{2} H }{ \\partial {\\bf r}^{r} \\partial {\\bf p}^{\\phi} } }.\n",
    "\\end{equation*}"
   ]
  },
  {
   "cell_type": "code",
   "execution_count": 68,
   "metadata": {},
   "outputs": [],
   "source": [
    "dEdr = -dHdpphi*d2Hdr2/d2Hdrdpphi"
   ]
  },
  {
   "cell_type": "markdown",
   "metadata": {},
   "source": [
    "<a id='skerr'></a>\n",
    "\n",
    "## ${\\bf S}_{\\rm Kerr}$ \\[Back to [top](#toc)\\]\n",
    "$$\\label{skerr}$$\n",
    "\n",
    "From [BB2010](https://arxiv.org/abs/0912.3517) Equations (5.2), (5.63), and (5.67) we have\n",
    "\n",
    "\\begin{equation*}\n",
    "    {\\bf S}_{\\rm Kerr} = {\\bf S}_{1} + {\\bf S}_{2}.\n",
    "\\end{equation*}\n",
    "\n",
    "Taking the square of [BB2010](https://arxiv.org/abs/0912.3517) Equation (4.9) <font color='red'>(be careful with the factor or $M$...)</font>,\n",
    "\n",
    "\\begin{equation*}\n",
    "    a^{2} = \\frac{ {\\bf S}_{Kerr} \\cdot {\\bf S}_{Kerr} }{ M^{2} }\n",
    "\\end{equation*}\n",
    "\n",
    "so that\n",
    "\n",
    "\\begin{equation*}\n",
    "    a = \\sqrt{ a^{2} }.\n",
    "\\end{equation*}"
   ]
  },
  {
   "cell_type": "code",
   "execution_count": 69,
   "metadata": {},
   "outputs": [],
   "source": [
    "SKerr = np.add(S1, S2)\n",
    "asq = norm(SKerr)*Msqinv\n",
    "a = np.sqrt(asq)"
   ]
  },
  {
   "cell_type": "markdown",
   "metadata": {},
   "source": [
    "<a id='sigmastar'></a>\n",
    "\n",
    "## $\\boldsymbol{\\sigma}^{*}$ \\[Back to [top](#toc)\\]\n",
    "$$\\label{sigmastar}$$\n",
    "\n",
    "From [BB2010](https://arxiv.org/abs/0912.3517) Equation (5.3),\n",
    "\n",
    "\\begin{equation*}\n",
    "    \\boldsymbol{\\sigma}^{*} = \\frac{ m_{2} }{ m_{1} } {\\bf S}_{1} + \\frac{ m_{1} }{ m_{2} }{\\bf S}_{2}.\n",
    "\\end{equation*}"
   ]
  },
  {
   "cell_type": "code",
   "execution_count": 70,
   "metadata": {},
   "outputs": [],
   "source": [
    "sigmastar = np.add(m2/m1*S1, m1/m2*S2)"
   ]
  },
  {
   "cell_type": "markdown",
   "metadata": {},
   "source": [
    "<a id='Hreal'></a>\n",
    "\n",
    "## $H_{\\rm real}$ \\[Back to [top](#toc)\\]\n",
    "$$\\label{Hreal}$$\n",
    "\n",
    "We now compute $H_{\\rm real}$ (LALSimIMRSpinEOBInitialConditionsPrec.c Line 1217) (<font color='red'>another module</font>)."
   ]
  },
  {
   "cell_type": "code",
   "execution_count": 71,
   "metadata": {},
   "outputs": [],
   "source": [
    "Hreal = 1."
   ]
  },
  {
   "cell_type": "markdown",
   "metadata": {},
   "source": [
    "<a id='polardata'></a>\n",
    "\n",
    "## Polar data \\[Back to [top](#toc)\\]\n",
    "$$\\label{polardata}$$\n",
    "\n",
    "At LALSimIMRSpinEOBInitialConditionsPrec.c Lines 1234--1238, we set the following polar data ${\\bf P}$ <font color='red'>(need to find reference for this?)</font>:\n",
    "\n",
    "\\begin{align*}\n",
    "    {\\bf P}^{0} &= {\\bf r}^{r} \\\\\n",
    "    {\\bf P}^{1} &= 0 \\\\\n",
    "    {\\bf P}^{2} &= {\\bf p}^{r} \\\\\n",
    "    {\\bf P}^{3} &= {\\bf p}^{\\phi}\n",
    "\\end{align*}"
   ]
  },
  {
   "cell_type": "code",
   "execution_count": 75,
   "metadata": {},
   "outputs": [],
   "source": [
    "polar = np.array([r[0], 0., p[0], p[1]])"
   ]
  },
  {
   "cell_type": "markdown",
   "metadata": {},
   "source": [
    "<a id='vphikepler'></a>\n",
    "\n",
    "## vPhiKepler \\[Back to [top](#toc)\\]\n",
    "$$\\label{vphikepler}$$\n",
    "\n",
    "From [T2012](https://arxiv.org/abs/1202.0790) Equation (A2),\n",
    "\n",
    "\\begin{equation*}\n",
    "    {\\rm vPhiKepler} = \\frac{ 1 }{ \\omega^{2} \\left( {\\bf r}^{r} \\right)^{3} }.\n",
    "\\end{equation*}\n",
    "\n",
    "See LALSimIMRSpinEOBFactorizedWaveformPrec_v3opt.c Lines 113 and 1271--1315.  Note that SEOBNRv3_opt recalculates $\\omega$, but I think the $\\omega$ above is based on a circular orbit and therefore the recalcuation is unnecessary."
   ]
  },
  {
   "cell_type": "code",
   "execution_count": 77,
   "metadata": {},
   "outputs": [
    {
     "name": "stderr",
     "output_type": "stream",
     "text": [
      "/home/tyler/jup/lib/python3.6/site-packages/ipykernel_launcher.py:1: RuntimeWarning: divide by zero encountered in double_scalars\n",
      "  \"\"\"Entry point for launching an IPython kernel.\n"
     ]
    }
   ],
   "source": [
    "vPhiKepler = 1./(omega*omega*r[0]*r[0]*r[0])"
   ]
  },
  {
   "cell_type": "markdown",
   "metadata": {},
   "source": [
    "<a id='rcrossp'></a>\n",
    "\n",
    "## ${\\bf r} \\times {\\bf p}$ \\[Back to [top](#toc)\\]\n",
    "$$\\label{rcrossp}$$\n",
    "\n",
    "We'll use the notation\n",
    "\n",
    "\\begin{equation*}\n",
    "    {\\rm rcrossp} = {\\bf r}^{\\prime} \\times {\\bf p}^{\\prime}.\n",
    "\\end{equation*}\n",
    "\n",
    "See LALSimIMRSpinEOBFactorizedWaveformPrec_v3opt.c Lines 170--172."
   ]
  },
  {
   "cell_type": "code",
   "execution_count": null,
   "metadata": {},
   "outputs": [],
   "source": [
    "rcrossp0 = rprm1*pprm2 - rprm2*pprm1\n",
    "rcrossp1 = rprm2*pprm0 - rprm0*pprm2\n",
    "rcrossp2 = rprm0*pprm1 - rprm1*pprm0"
   ]
  },
  {
   "cell_type": "markdown",
   "metadata": {},
   "source": [
    "<a id='vphi'></a>\n",
    "\n",
    "## vPhi \\[Back to [top](#toc)\\]\n",
    "$$\\label{vphi}$$\n",
    "\n",
    "We'll use the notation\n",
    "\n",
    "\\begin{equation*}\n",
    "    {\\rm vPhi} = \\omega {\\bf r}^{r} \\sqrt[3]{\\rm vPhiKepler}.\n",
    "\\end{equation*}\n",
    "\n",
    "See LALSimIMRSpinEOBFactorizedWaveformPrec_v3opt.c Lines 185 and 190."
   ]
  },
  {
   "cell_type": "code",
   "execution_count": null,
   "metadata": {},
   "outputs": [],
   "source": [
    "vPhi = omega*rr*sp.cbrt(vPhiKepler)"
   ]
  },
  {
   "cell_type": "markdown",
   "metadata": {},
   "source": [
    "<a id='sidot'></a>\n",
    "\n",
    "## ${\\bf S}_{i} \\cdot {\\bf L}$ \\[Back to [top](#toc)\\]\n",
    "$$\\label{sidotl}$$\n",
    "\n",
    "We compute ${\\bf S}_{1} \\cdot {\\bf L}$ and ${\\bf S}_{2} \\cdot {\\bf L}$.\n",
    "\n",
    "See LALSimIMRSpinEOBFactorizedFluxPrec_v3opt.c lines 131--134."
   ]
  },
  {
   "cell_type": "code",
   "execution_count": null,
   "metadata": {},
   "outputs": [],
   "source": [
    "s1dotL = S1hatprm0*Lhat0 + S1hatprm1*Lhat1 + S1hatprm2*Lhat2\n",
    "s2dotL = S2hatprm0*Lhat0 + S2hatprm1*Lhat1 + S2hatprm2*Lhat2"
   ]
  },
  {
   "cell_type": "markdown",
   "metadata": {},
   "source": [
    "<a id='chii'></a>\n",
    "## $\\boldsymbol{\\chi}_{\\rm S}$, $\\boldsymbol{\\chi}_{\\rm A}$ \\[Back to [top](#toc)\\]\n",
    "$$\\label{chii}$$\n",
    "\n",
    "From [P2014](https://arxiv.org/abs/1307.6232) Equations 17, we have\n",
    "\n",
    "\\begin{align*}\n",
    "    \\chi_{\\rm S} = \\frac{1}{2} \\left( {\\bf S}_{1} + {\\bf S}_{2} \\right) \\cdot L \\\\\n",
    "    \\chi_{\\rm A} = \\frac{1}{2} \\left( {\\bf S}_{1} - {\\bf S}_{2} \\right) \\cdot L\n",
    "\\end{align*}"
   ]
  },
  {
   "cell_type": "code",
   "execution_count": null,
   "metadata": {},
   "outputs": [],
   "source": [
    "chiS = 0.5*(s1dotL + s2dotL)\n",
    "chiA = 0.5*(s1dotL - s2dotL)"
   ]
  },
  {
   "cell_type": "markdown",
   "metadata": {},
   "source": [
    "<a id='mihat'></a>\n",
    "## $\\hat{m}_{i}$ \\[Back to [top](#toc)\\]\n",
    "$$\\label{mihat}$$\n",
    "\n",
    "We scale the masses $m_{1}$, $m_{2}$ by total mass.  See LALSimIMREOBNewtonianMultipole.c Lines 540--541.\n",
    "\n",
    "\\begin{align*}\n",
    "    \\hat{m}_{1} = \\frac{ m_{1} }{ M } \\\\\n",
    "    \\hat{m}_{2} = \\frac{ m_{2} }{ M } \\\\\n",
    "\\end{align*}"
   ]
  },
  {
   "cell_type": "code",
   "execution_count": null,
   "metadata": {},
   "outputs": [],
   "source": [
    "mhat1 = m1/M\n",
    "mhat2 = m2/M"
   ]
  },
  {
   "cell_type": "markdown",
   "metadata": {},
   "source": [
    "<a id='newtonianmultipole'></a>\n",
    "\n",
    "## Newtonian multipole \\[Back to [top](#toc)\\]\n",
    "$$\\label{newtonianmultipole}$$\n",
    "\n",
    "The Newtonian multipolar waveform is given in [DIN2009](https://arxiv.org/abs/0811.2069) Equation (4).  For a given $(\\ell, m)$ we define\n",
    "\n",
    "\\begin{align*}\n",
    "    \\epsilon &= \\left( \\ell + m \\right) {\\rm mod } 2 \\\\\n",
    "    n &= \\left( i m \\right)^{\\ell} \\frac{ 8 \\pi }{ \\left( 2 \\ell + 1 \\right)!! } \\sqrt{ \\frac{ \\left( \\ell + 1 \\right) \\left( \\ell + 2 \\right) }{ \\ell \\left( \\ell - 1 \\right) } }\n",
    "\\end{align*}\n",
    "\n",
    "along with the associated Legendre function evaluated at zero.  See LALSimIMRSpinEOBFactorizedWaveformPrec_v3opt.c Line 206 and LALSimIMREOBNewtonianMultipole.c Lines 205, 210, 290, and 309--506."
   ]
  },
  {
   "cell_type": "code",
   "execution_count": null,
   "metadata": {},
   "outputs": [],
   "source": [
    "def AssociatedLegendre(l,m):\n",
    "    if l==1:\n",
    "        if m==1:\n",
    "            return -1.\n",
    "        else:\n",
    "            print(\"You used a bad (l,m)\")\n",
    "    if l==2:\n",
    "        if m==2:\n",
    "            return 3.\n",
    "        elif m==1:\n",
    "            return 0.\n",
    "        else:\n",
    "            print(\"You used a bad (l,m)\")\n",
    "    if l==3:\n",
    "        if m==3:\n",
    "            return 15.\n",
    "        elif m==2:\n",
    "            return 0.\n",
    "        elif m==1:\n",
    "            return 1.5\n",
    "        else:\n",
    "            print(\"You used a bad (l,m)\")\n",
    "    if l==4:\n",
    "        if m==4:\n",
    "            return 105.\n",
    "        elif m==3:\n",
    "            return 0.\n",
    "        elif m==2:\n",
    "            return -7.5\n",
    "        elif m==1:\n",
    "            return 0.\n",
    "        else:\n",
    "            print(\"You used a bad (l,m)\")\n",
    "    if l==5:\n",
    "        if m==5:\n",
    "            return -945.\n",
    "        elif m==4:\n",
    "            return 0.\n",
    "        elif m==3:\n",
    "            return 52.5\n",
    "        elif m==2:\n",
    "            return 0.\n",
    "        elif m==1:\n",
    "            return -1.875\n",
    "        else:\n",
    "            print(\"You used a bad (l,m)\")\n",
    "    if l==6:\n",
    "        if m==6:\n",
    "            return 10395.\n",
    "        elif m==5:\n",
    "            return 0.\n",
    "        elif m==4:\n",
    "            return -472.5\n",
    "        elif m==3:\n",
    "            return 0.\n",
    "        elif m==2:\n",
    "            return 13.125\n",
    "        elif m==1:\n",
    "            return 0.\n",
    "        else:\n",
    "            print(\"You used a bad (l,m)\")\n",
    "    if l==7:\n",
    "        if m==7:\n",
    "            return -135135.\n",
    "        elif m==6:\n",
    "            return 0.\n",
    "        elif m==5:\n",
    "            return 5197.5\n",
    "        elif m==4:\n",
    "            return 0.\n",
    "        elif m==3:\n",
    "            return -118.125\n",
    "        elif m==2:\n",
    "            return 0.\n",
    "        elif m==1:\n",
    "            return 2.1875\n",
    "        else:\n",
    "            print(\"You used a bad (l,m)\")\n",
    "    if l==8:\n",
    "        if m==8:\n",
    "            return 2027025.\n",
    "        elif m==7:\n",
    "            return 0.\n",
    "        elif m==6:\n",
    "            return -67567.5\n",
    "        elif m==5:\n",
    "            return 0.\n",
    "        elif m==4:\n",
    "            return 1299.375\n",
    "        elif m==3:\n",
    "            return 0.\n",
    "        elif m==2:\n",
    "            return -19.6875\n",
    "        elif m==1:\n",
    "            return 0.\n",
    "        else:\n",
    "            print(\"You used a bad (l,m)\")\n",
    "def NewtonianPrefix(m1,m2,l,m,epsilon,eta):\n",
    "    Mtot = m1 + m2\n",
    "    m1hat = m1/Mtot\n",
    "    m2hat = m2/Mtot\n",
    "    if (m%2)==0:\n",
    "        sign = 1\n",
    "    else:\n",
    "        sign = -1\n",
    "    lpepm1 = l + epsilon - 1\n",
    "    if (m1!=m2) or sign==1:\n",
    "        c = sp.Pow(m2hat,lpepm1) + sign*sp.Pow(m1hat,lpepm1)\n",
    "    else:\n",
    "        if l==2 or l==3:\n",
    "            c = -1.\n",
    "        elif l==4 or l==5:\n",
    "            c = -0.5\n",
    "        else:\n",
    "            c = 0.\n",
    "    n = power(m * sp.I, l)\n",
    "    doubfact = fac2(2*l+1)\n",
    "    if epsilon==0:\n",
    "        n *= 8.*sp.pi/doubfact\n",
    "        n *= sp.sqrt((l+1)*(l+2)/(l*(l-1)))\n",
    "    elif epsilon==1:\n",
    "        n = -n\n",
    "        n *= sp.I*16.*sp.pi/doubfact\n",
    "        n *= sp.sqrt(((2*l+1)* (l+2) * (l*l - m*m))/((2*l - 1) * (l+1) * l * (l-1)))\n",
    "    else:\n",
    "        print(\"Epsilon must be 0 or 1\")\n",
    "        exit()\n",
    "    return n*eta*c"
   ]
  },
  {
   "cell_type": "markdown",
   "metadata": {},
   "source": [
    "<a id='hlmtab'></a>\n",
    "\n",
    "## hLMTab \\[Back to [top](#toc)\\]\n",
    "$$\\label{hlmtab}$$\n",
    "\n",
    "In order to compute flux, we need to build the matrix \"hLMTab\".  See [T2012](https://arxiv.org/abs/1202.0790) Equation (17) and the Appendix, along with [this private LIGO doc](https://dcc.ligo.org/T1400476)."
   ]
  },
  {
   "cell_type": "code",
   "execution_count": null,
   "metadata": {},
   "outputs": [],
   "source": [
    "for l in range(2, 9):\n",
    "    for m in range(1, l+1):\n",
    "        epsilon = (l + m) % 2\n",
    "        legendre = AssociatedLegendre(l-epsilon,m)*sp.sqrt(2*l+1*factorial(l-m)/4*sp.pi*factorial(l+m))\n",
    "        #START HERE, KNOWLES\n",
    "        #Note that LALSimIMREOBNewtonianMultipole.c Line 74 atrributes the\n",
    "        #Newtonian prefix calculations to https://arxiv.org/abs/1106.1021v2\n",
    "        prefix = NewtonianPrefix(m1,m2,l,m,epsilon,eta)\n",
    "        multipole = prefix*legendre*sp.Pow(vPhi*vPhi,(l+epsilon)/2.)\n",
    "        if ((l+m)%2)==0:\n",
    "            Slm = (Hreal*Hreal - 1.)/(2.*eta) + 1.\n",
    "        else:\n",
    "            Slm = v*pphi\n",
    "        eulerlog = gamma + sp.log(2.*m*v)\n",
    "        k = m*omega\n",
    "        Hrealk = Hreal * k\n",
    "        Hrealksq4 = 4. * Hrealk*Hrealk\n",
    "        Hrealk4pi = 4. * sp.pi *Hrealk\n",
    "        Tlmprefac = sp.sqrt(Hrealk4pi/(1.-sp.exp(-Hrealk4pi)))/factorial(l)\n",
    "        Tlmprodfac = 1.\n",
    "        for i in range(1,l+1):\n",
    "            Tlmprodfac *= Hrealksq4 + (i*i)\n",
    "        Tlm = Tlmprefac*sp.sqrt(Tlmprodfac)\n",
    "        auxflm = 0.\n",
    "        if l==2:\n",
    "            if m==2:\n",
    "                rholm = 1 + vsq * (rho22v2 + v*(rho22v3 + v*(rho22v4 + v*(rho22v5 + v*(rho22v6 + rho22v6l*eulerlog\n",
    "                                + v*(rho22v7 + v*(rho22v8 + rho22v8l*eulerlog + (rho22v10\n",
    "                                + rho22v10l*eulerlog)*vsq)))))))\n",
    "            elif m==1:\n",
    "                rholm = 1. + v * (rho21v1 + v*(rho21v2 + v*(rho21v3 + v*(rho21v4 + v*(rho21v5 + v*(rho21v6\n",
    "                                + rho21v6l*eulerlog + v*(rho21v7 + rho21v7l*eulerlog + v*(rho21v8 + rho21v8l*eulerlog\n",
    "                                + (rho21v10 + rho21v10l*eulerlog)*vsq))))))))\n",
    "                auxflm = v * f21v1 + vsq*v*f21v3\n",
    "            else:\n",
    "                print(\"You used a bad (l,m)\")\n",
    "        elif l==3:\n",
    "            if m==3:\n",
    "                rholm = 1. + vsq*(rho33v2 + v*(rho33v3 + v*(rho33v4 + v*(rho33v5 + v*(rho33v6 + rho33v6l*eulerlog\n",
    "                                + v*(rho33v7 + (rho33v8 + rho33v8l*eulerlog)*v))))))\n",
    "                auxflm = v*vsq*f33v3;\n",
    "            elif m==2:\n",
    "                rholm = 1. + v*(rho32v + v*(rho32v2 + v*(rho32v3 + v*(rho32v4 + v*(rho32v5 + v*(rho32v6\n",
    "                                + rho32v6l*eulerlog + (rho32v8 + rho32v8l * eulerlog) * vsq))))))\n",
    "            elif m==1:\n",
    "                rholm = 1. + vsq*(rho31v2 + v*(rho31v3 + v*(rho31v4 + v*(rho31v5 + v*(rho31v6 + rho31v6l*eulerlog\n",
    "                                + v*(rho31v7 + (rho31v8 + rho31v8l*eulerlog)*v))))))\n",
    "                auxflm = v*vsq*f31v3\n",
    "            else:\n",
    "                print(\"You used a bad (l,m)\")\n",
    "        elif l==4:\n",
    "            if m==4:\n",
    "                rholm = 1. + vsq*(rho44v2 + v*(rho44v3 + v*(rho44v4 + v*(rho44v5 + (rho44v6 + rho44v6l*eulerlog)*v))))\n",
    "            elif m==3:\n",
    "                rholm = 1. + v*(rho43v + v*(rho43v2 + vsq*(rho43v4 + v*(rho43v5 + (rho43v6 + rho43v6l*eulerlog)*v))))\n",
    "                auxflm = v*f43v\n",
    "            elif m==2:\n",
    "                rholm = 1. + vsq*(rho42v2 + v*(rho42v3 + v*(rho42v4 + v*(rho42v5 + (rho42v6 + rho42v6l * eulerlog)*v))))\n",
    "            elif m==1:\n",
    "                rholm = 1. + v*(rho41v + v*(rho41v2 + vsq*(rho41v4 + v*(rho41v5 + (rho41v6 + rho41v6l*eulerlog)*v))))\n",
    "                auxflm = v*f41v\n",
    "            else:\n",
    "                print(\"You used a bad (l,m)\")\n",
    "        elif l==5:\n",
    "            if m==5:\n",
    "                rholm = 1. + vsq*(rho55v2 + v*(rho55v3 + v*(rho55v4 + v*(rho55v5 + rho55v6*v))))\n",
    "            elif m==4:\n",
    "                rholm = 1. + vsq*(rho54v2 + v*(rho54v3 + rho54v4*v))\n",
    "            elif m==3:\n",
    "                rholm = 1. + vsq*(rho53v2 + v*(rho53v3 + v*(rho53v4 + rho53v5*v)))\n",
    "            elif m==2:\n",
    "                rholm = 1. + vsq*(rho52v2 + v*(rho52v3 + rho52v4*v))\n",
    "            elif m==1:\n",
    "                rholm = 1. + vsq*(rho51v2 + v*(rho51v3 + v*(rho51v4 + rho51v5*v)))\n",
    "            else:\n",
    "                print(\"You used a bad (l,m)\")\n",
    "        elif l==6:\n",
    "            if m==6:\n",
    "                rholm = 1. + vsq*(rho66v2 + v*(rho66v3 + rho66v4*v))\n",
    "            elif m==5:\n",
    "                rholm = 1. + vsq*(rho65v2 + rho65v3*v)\n",
    "            elif m==4:\n",
    "                rholm = 1. + vsq*(rho64v2 + v*(rho64v3 + rho64v4*v))\n",
    "            elif m==3:\n",
    "                rholm = 1. + vsq*(rho63v2 + rho63v3*v)\n",
    "            elif m==2:\n",
    "                rholm = 1. + vsq*(rho62v2 + v*(rho62v3 + rho62v4*v))\n",
    "            elif m==1:\n",
    "                rholm = 1. + vsq*(rho61v2 + rho61v3*v)\n",
    "            else:\n",
    "                print(\"You used a bad (l,m)\")\n",
    "        elif l==7:\n",
    "            if m==7:\n",
    "                rholm = 1. + vsq*(rho77v2 + rho77v3*v)\n",
    "            elif m==6:\n",
    "                rholm = 1. + rho76v2*vsq\n",
    "            elif m==5:\n",
    "                rholm = 1. + vsq*(rho75v2 + rho75v3*v)\n",
    "            elif m==4:\n",
    "                rholm = 1. + rho74v2*vsq\n",
    "            elif m==3:\n",
    "                rholm = 1. + vsq*(rho73v2 + rho73v3*v)\n",
    "            elif m==2:\n",
    "                rholm = 1. + rho72v2*vsq\n",
    "            elif m==1:\n",
    "                rholm = 1. + vsq*(rho71v2 + rho71v3*v)\n",
    "            else:\n",
    "                print(\"You used a bad (l,m)\")\n",
    "        elif l==8:\n",
    "            if m==8:\n",
    "                rholm = 1. + rho88v2*vsq\n",
    "            elif m==7:\n",
    "                rholm = 1. + rho87v2*vsq\n",
    "            elif m==6:\n",
    "                rholm = 1. + rho86v2*vsq\n",
    "            elif m==5:\n",
    "                rholm = 1. + rho85v2*vsq\n",
    "            elif m==4:\n",
    "                rholm = 1. + rho84v2*vsq\n",
    "            elif m==3:\n",
    "                rholm = 1. + rho83v2*vsq\n",
    "            elif m==2:\n",
    "                rholm = 1. + rho82v2*vsq\n",
    "            elif m==1:\n",
    "                rholm = 1. + rho81v2*vsq\n",
    "            else:\n",
    "                print(\"You used a bad (l,m)\")\n",
    "        else:\n",
    "            print(\"You used a bad (l,m)\")\n",
    "        rholmPowl = sp.Pow(rholm,l)\n",
    "        if eta==0.25 and (m % 2):\n",
    "            rholmPowl = auxflm\n",
    "        else:\n",
    "            rholmPowl += auxflm\n",
    "        #Need to compute NQC corrections! Set as symbol for now.\n",
    "        hlm = Tlm*Slm*rholmPowl*multipole\n",
    "        if (m*m*omega*omega*hlm*hlm) > 5.:\n",
    "            hlm *= NQC\n",
    "        flux += m*m*omega*omega*hlm*hlm\n",
    "        if omega*omega > 1 or flux > 5:\n",
    "            flux = 0.\n",
    "        flux *= 8./sp.pi\n",
    "flux /= eta\n",
    "rdot = -flux/dEdr\n",
    "pr = rdot/(dHdpr/px)\n",
    "#convert spherical to cartesian"
   ]
  },
  {
   "cell_type": "markdown",
   "metadata": {},
   "source": [
    "<a id='step5'></a>\n",
    "\n",
    "# Step 5: Invert the rotation of Step 3 \\[Back to [top](#toc)\\]\n",
    "$$\\label{step5}$$"
   ]
  },
  {
   "cell_type": "markdown",
   "metadata": {},
   "source": [
    "<a id='invrotationmatrix'></a>\n",
    "\n",
    "## Inverse Rotation Matrix \\[Back to [top](#toc)\\]\n",
    "$$\\label{invrotationmatrix}$$\n",
    "\n",
    "The matrix to invert the rotation applied in [Step 3](#step3) is:\n",
    "\n",
    "\\begin{equation*}\n",
    "    \\begin{bmatrix} \\hat{\\bf r}^{0} & \\hat{\\bf p}^{0} & \\hat{\\bf L}^{0} \\\\\n",
    "        \\hat{\\bf r}^{1} & \\hat{\\bf p}^{1} & \\hat{\\bf L}^{1} \\\\\n",
    "        \\hat{\\bf r}^{2} & \\hat{\\bf p}^{2} & \\hat{\\bf L}^{2}\\end{bmatrix}.\n",
    "\\end{equation*}\n",
    "\n",
    "To see that this is indeed the correct matrix inverse, note that by construction $\\hat{\\bf q}$, $\\hat{\\bf p}$, and $\\hat{\\bf L}$ are all unit vectors orthogonal to one another.  See LALSimIMRSpinEOBInitialConditionsPrec.c Line 1107."
   ]
  },
  {
   "cell_type": "code",
   "execution_count": null,
   "metadata": {},
   "outputs": [],
   "source": [
    "invert00 = rhat0\n",
    "invert01 = phat0\n",
    "invert02 = Lhat0\n",
    "invert10 = rhat1\n",
    "invert11 = phat1\n",
    "invert12 = Lhat1\n",
    "invert20 = rhat2\n",
    "invert21 = phat2\n",
    "invert22 = Lhat2"
   ]
  },
  {
   "cell_type": "markdown",
   "metadata": {},
   "source": [
    "<a id='invrotaterhat'></a>\n",
    "\n",
    "## Rotate $\\hat{\\bf r}^{\\prime}$ \\[Back to [top](#toc)\\]\n",
    "$$\\label{invrotaterhat}$$\n",
    "\n",
    "We rotate $\\hat{\\bf r}^{\\prime}$ and call the new separation vector ${\\bf r}$.\n",
    "\n",
    "\\begin{equation*}\n",
    "    \\hat{\\bf r} = \\begin{bmatrix} \\hat{\\bf r}^{0} & \\hat{\\bf p}^{0} & \\hat{\\bf L}^{0} \\\\\n",
    "        \\hat{\\bf r}^{1} & \\hat{\\bf p}^{1} & \\hat{\\bf L}^{1} \\\\\n",
    "        \\hat{\\bf r}^{2} & \\hat{\\bf p}^{2} & \\hat{\\bf L}^{2} \\end{bmatrix}\n",
    "        \\begin{bmatrix} \\hat{\\bf r}^{\\prime 0} \\\\ \\hat{\\bf r}^{\\prime 1} \\\\ \\hat{\\bf r}^{\\prime 2} \\end{bmatrix}\n",
    "\\end{equation*}\n",
    "\n",
    "See LALSimIMRSpinEOBInitialConditionsPrec.c Line 1315."
   ]
  },
  {
   "cell_type": "code",
   "execution_count": null,
   "metadata": {},
   "outputs": [],
   "source": [
    "rhat0 = rhat0*rhatprm0 + phat0*rhatprm1 + Lhat0*rhatprm2\n",
    "rhat1 = rhat1*rhatprm0 + phat1*rhatprm1 + Lhat1*rhatprm2\n",
    "rhat0 = rhat2*rhatprm0 + phat2*rhatprm1 + Lhat2*rhatprm2"
   ]
  },
  {
   "cell_type": "markdown",
   "metadata": {},
   "source": [
    "<a id='invrotatevhat'></a>\n",
    "\n",
    "## Rotate $\\hat{\\bf v}^{\\prime}$ \\[Back to [top](#toc)\\]\n",
    "$$\\label{invrotatevhat}$$\n",
    "\n",
    "We rotate $\\hat{\\bf v}^{\\prime}$ and call the new separation vector ${\\bf v}$.\n",
    "\n",
    "\\begin{equation*}\n",
    "    \\hat{\\bf v} = \\begin{bmatrix} \\hat{\\bf r}^{0} & \\hat{\\bf p}^{0} & \\hat{\\bf L}^{0} \\\\\n",
    "        \\hat{\\bf r}^{1} & \\hat{\\bf p}^{1} & \\hat{\\bf L}^{1} \\\\\n",
    "        \\hat{\\bf r}^{2} & \\hat{\\bf p}^{2} & \\hat{\\bf L}^{2} \\end{bmatrix}\n",
    "        \\begin{bmatrix} \\hat{\\bf v}^{\\prime 0} \\\\ \\hat{\\bf v}^{\\prime 1} \\\\ \\hat{\\bf v}^{\\prime 2} \\end{bmatrix}\n",
    "\\end{equation*}\n",
    "\n",
    "See LALSimIMRSpinEOBInitialConditionsPrec.c Line 1316."
   ]
  },
  {
   "cell_type": "code",
   "execution_count": null,
   "metadata": {},
   "outputs": [],
   "source": [
    "vhat0 = rhat0*vhatprm0 + phat0*vhatprm1 + Lhat0*vhatprm2\n",
    "vhat1 = rhat1*vhatprm0 + phat1*vhatprm1 + Lhat1*vhatprm2\n",
    "vhat2 = rhat2*vhatprm0 + phat2*vhatprm1 + Lhat2*vhatprm2"
   ]
  },
  {
   "cell_type": "markdown",
   "metadata": {},
   "source": [
    "<a id='invrotatelnhat'></a>\n",
    "\n",
    "## Rotate $\\hat{\\bf L}_{N}^{\\prime}$ \\[Back to [top](#toc)\\]\n",
    "$$\\label{invrotatelnhat}$$\n",
    "\n",
    "We rotate $\\hat{\\bf L}_{N}^{\\prime}$ and call the new separation vector ${\\bf L}_{N}$.\n",
    "\n",
    "\\begin{equation*}\n",
    "    \\hat{\\bf L}_{N} = \\begin{bmatrix} \\hat{\\bf r}^{0} & \\hat{\\bf p}^{0} & \\hat{\\bf L}^{0} \\\\\n",
    "        \\hat{\\bf r}^{1} & \\hat{\\bf p}^{1} & \\hat{\\bf L}^{1} \\\\\n",
    "        \\hat{\\bf r}^{2} & \\hat{\\bf p}^{2} & \\hat{\\bf L}^{2} \\end{bmatrix}\n",
    "        \\begin{bmatrix} \\hat{\\bf L}_{N}^{\\prime 0} \\\\ \\hat{\\bf L}_{N}^{\\prime 1} \\\\ \\hat{\\bf L}_{N}^{\\prime 2} \\end{bmatrix}\n",
    "\\end{equation*}\n",
    "\n",
    "See LALSimIMRSpinEOBInitialConditionsPrec.c Line 1317."
   ]
  },
  {
   "cell_type": "code",
   "execution_count": null,
   "metadata": {},
   "outputs": [],
   "source": [
    "LNhat0 = rhat0*LNhatprm0 + phat0*LNhatprm1 + Lhat0*LNhatprm2\n",
    "LNhat1 = rhat1*LNhatprm0 + phat1*LNhatprm1 + Lhat1*LNhatprm2\n",
    "LNhat2 = rhat2*LNhatprm0 + phat2*LNhatprm1 + Lhat2*LNhatprm2"
   ]
  },
  {
   "cell_type": "markdown",
   "metadata": {},
   "source": [
    "<a id='tortoise_matrix'></a>\n",
    "\n",
    "# Tortoise Conversion Matrix \\[Back to [top](#toc)\\]\n",
    "$$\\label{tortoise_matrix}$$\n",
    "\n",
    "<font color='red'>We're now back to LALSpinPrecHcapRvecDerivative_v3opt.c, Lines 92--96.</font>\n",
    "\n",
    "From [Pan, Buonanno, Buchman, et. al. (2010)](https://arxiv.org/abs/0912.3466v2) Equation (A3) the matrix for the coordinate conversion to tortoise coordinates is\n",
    "\n",
    "\\begin{align*}\n",
    "    \\begin{pmatrix} 1 + \\frac{ x^{2} }{ r^{2} } \\left( \\xi - 1 \\right) & \\frac{ x y }{ r^{2} } \\left( \\xi - 1 \\right) & \\frac{ x z }{ r^{2} } \\left( \\xi - 1 \\right) \\\\\n",
    "        \\frac{ x y }{ r^{2} } \\left( \\xi - 1 \\right) & 1 + \\frac{ y^{2} }{ r^{2} } \\left( \\xi - 1 \\right) & \\frac{ y z }{ r^{2} } \\left( \\xi - 1 \\right) \\\\\n",
    "        \\frac{ x z }{ r^{2} } \\left( \\xi - 1 \\right) & \\frac{ y z }{ r^{2} } \\left( \\xi - 1 \\right) & 1 + \\frac{ z^{2} }{ r^{2} } \\left( \\xi - 1 \\right) \\end{pmatrix}\n",
    "\\end{align*}"
   ]
  },
  {
   "cell_type": "code",
   "execution_count": null,
   "metadata": {},
   "outputs": [],
   "source": [
    "ximinus1 = xi - 1\n",
    "toTort = sp.Array([[1 + x*x*ximinus1/(r*r), x*y*ximinus1/(r*r), x*z*ximinus1/(r*r)],\n",
    "                   [x*y*ximinus1/(r*r), 1 + y*y*ximinus1/(r*r), y*z*ximinus1/(r*r)],\n",
    "                   [x*z*ximinus1/(r*r), y*z*ximinus1/(r*r), 1 + z*z*ximinus1/(r*r)]])"
   ]
  },
  {
   "cell_type": "markdown",
   "metadata": {},
   "source": [
    "<a id='latex_pdf_output'></a>\n",
    "\n",
    "# Output: Output this module to $\\LaTeX$-formatted PDF file \\[Back to [top](#toc)\\]\n",
    "$$\\label{latex_pdf_output}$$"
   ]
  },
  {
   "cell_type": "code",
   "execution_count": null,
   "metadata": {},
   "outputs": [],
   "source": [
    "!jupyter nbconvert --to latex --template latex_nrpy_style.tplx Tutorial-SEOBNR_Initial_Conditions.ipynb\n",
    "!pdflatex -interaction=batchmode Tutorial-SEOBNR_Initial_Conditions.tex\n",
    "!pdflatex -interaction=batchmode Tutorial-SEOBNR_Initial_Conditions.tex\n",
    "!pdflatex -interaction=batchmode Tutorial-SEOBNR_Initial_Conditions.tex\n",
    "!rm -f Tut*.out Tut*.aux Tut*.log"
   ]
  },
  {
   "cell_type": "code",
   "execution_count": null,
   "metadata": {},
   "outputs": [],
   "source": []
  }
 ],
 "metadata": {
  "kernelspec": {
   "display_name": "Python 3",
   "language": "python",
   "name": "python3"
  },
  "language_info": {
   "codemirror_mode": {
    "name": "ipython",
    "version": 3
   },
   "file_extension": ".py",
   "mimetype": "text/x-python",
   "name": "python",
   "nbconvert_exporter": "python",
   "pygments_lexer": "ipython3",
   "version": "3.6.7"
  }
 },
 "nbformat": 4,
 "nbformat_minor": 2
}
