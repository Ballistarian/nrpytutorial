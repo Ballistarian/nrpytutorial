{
 "cells": [
  {
   "cell_type": "markdown",
   "metadata": {},
   "source": [
    "# The Spinning Effective One-Body Initial Condition Solver\n",
    "\n",
    "### Author: Tyler Knowles\n",
    "\n",
    "## This module documents the reduced spinning effective one-body initial condition solver as numerically implemented in LALSuite's SEOBNRv3 gravitational waveform approximant.  That is, we follow Section IV A of [Buonanno, Chen, and Damour (2006)](https://arxiv.org/abs/gr-qc/0508067).\n",
    "\n",
    "### Throughout this module, we will refer to\n",
    "* [Pan, Buonanno, Buchman et. al. (2010)](https://arxiv.org/abs/0912.3466v2) as PBB2010,\n",
    "* [Buonanno, Chen, and Damour (2006)](https://arxiv.org/abs/gr-qc/0508067) as BCD2006, and\n",
    "* [Barausse and Buonanno (2010)](https://arxiv.org/abs/0912.3517) as BB2010.\n",
    "\n",
    "<font color='green'>**This module has been validated against the LALSuite SEOBNRv3/SEOBNRv3_opt code that was reviewed and approved for LIGO parameter estimation by the LIGO Scientific Collaboration.**</font>"
   ]
  },
  {
   "cell_type": "markdown",
   "metadata": {},
   "source": [
    "<a id='toc'></a>\n",
    "\n",
    "# Table of Contents\n",
    "$$\\label{toc}$$\n",
    "\n",
    "This module is organized as follows, matching the \"steps\" listed in [BCD2006](https://arxiv.org/abs/gr-qc/0508067):\n",
    "\n",
    "0. [Introduction:](#intro) The Physical System of Interest\n",
    "1. [Step 1:](#step1) Initial Coordinate Choice\n",
    "1. [Step 2:](#step2) Compute ${\\bf r}$, ${\\bf p}_{r}$, ${\\bf p}_{\\theta}$, and ${\\bf p}_{\\phi}$\n",
    "1. [Step 3:](#step3) Rotate $\\hat{\\bf L} \\to {\\bf e}_{z}$\n",
    "1. [Step 4:](#step4) Compute $\\dot{\\bf r}$\n",
    "1. [Step 5:](#step5) Invert the rotation of Step 3\n",
    "1. [Step 6:](#step6) Invert the rotation of Step 1\n",
    "1. [Output](#latex_pdf_output): Output this module to $\\LaTeX$-formatted PDF"
   ]
  },
  {
   "cell_type": "markdown",
   "metadata": {},
   "source": [
    "<a id='intro'></a>\n",
    "\n",
    "# Introduction: The Physical System of Interest \\[Back to [top](#toc)\\]\n",
    "$$\\label{intro}$$\n",
    "\n",
    "Consider two compact objects (e.g. black holes or neutron stars) with masses $m_{1}$, $m_{2}$ (in solar masses) and spin angular momenta ${\\bf S}_{1}$, ${\\bf S}_{2}$ in a binary system.  The spinning effective one-body (\"SEOB\") Hamiltonian $H_{\\rm real}$ (see [BB2010](https://arxiv.org/abs/0912.3517) Equation (5.69)) describes the dynamics of this system.  We seek initial conditions for nonadiabatic evolutions of such a system, and follow [BCD2006](https://arxiv.org/abs/gr-qc/0508067) Section IV A.\n",
    "\n",
    "Please note that throughout this notebook we adpot the following conventions:\n",
    "1. $c = G = 1$ where $c$ is the speed of light in a vacuum and $G$ is Newton's gravitational constant,\n",
    "1. hatted vectors (e.g. $\\hat{\\bf L}_{N}$) usually denote scaled or unit vectors, and\n",
    "1. the initial inclination angle $\\iota$ is chosen to be zero.\n",
    "\n",
    "Choose a spatial coordinate basis $\\left\\{ {\\bf e}_{0}, {\\bf e}_{1}, {\\bf e}_{2} \\right\\}$ so that the initial separation vector ${\\bf r}$ between the compact objects lies along the ${\\bf e}_{0}$-axis.  We start with the following parameters:\n",
    "1. binary parameters $m_{1}$, $m_{2}$, ${\\bf S}_{1}$, and ${\\bf S}_{2}$,\n",
    "1. initial frequency $f$, and\n",
    "1. SEOB model parameters (constants dependent on $m_{1}$, $m_{2}$).\n",
    "\n",
    "Our goal is to produce initial dynamical variables\n",
    "1. ${\\bf x} = \\left( x, y, z \\right)$, and\n",
    "1. ${\\bf p} = \\left( p_{x}, p_{y}, p_{z} \\right)$.\n",
    "\n",
    "We include below the physical parameters necessary to compute the initial conditions.  Solving for the initial conditions requires computing $\\frac{ \\partial H_{\\rm real} }{ \\partial p_{i} }$ for $i \\in \\left\\{ r, \\theta, \\phi \\right\\}$, <font color='red'>which we defer to another module</font>.\n",
    "\n",
    "<font color='red'>Please note that in [BCD2006](https://arxiv.org/abs/gr-qc/0508067) the initial conditions are solved for given an initial separation; here we use a given initial frequency instead.  The difference is in our approach to solving Equation (4.8).  Our approach also differs from that found in LALSuite's XLALSimIMRSpinEOBInitialConditionsPrec() function (file: LALSimIMRSpinEOBInitialConditionsPrec.c) because we choose our intial coordinate system so that the inclination angle $\\iota$ is zero (this simplifies their step one and step five).</font>\n",
    "\n",
    "Besides the physical parameters, we also need the [Euler–Mascheroni constant](https://en.wikipedia.org/wiki/Euler%E2%80%93Mascheroni_constant) $\\gamma$ and the [geomtrized](https://en.wikipedia.org/wiki/Geometrized_unit_system) solar mass $\\mathcal{M}_{\\odot}$, both hard-coded in LALSuite with the significant digits shown below.  (The following links are directed to the appropriate LALSuite documentation: [$\\gamma$](https://lscsoft.docs.ligo.org/lalsuite/lal/group___l_a_l_constants__h.html#gac6af32574ff8acaeeafe8bf422281e98) and [$\\mathcal{M}_{\\odot}$](https://lscsoft.docs.ligo.org/lalsuite/lal/group___l_a_l_constants__h.html#gab83f8c705dda3fd0bb2d5f2470bb9cdd).)"
   ]
  },
  {
   "cell_type": "code",
   "execution_count": 6,
   "metadata": {},
   "outputs": [],
   "source": [
    "import sympy as sp\n",
    "m1,m2,S10,S11,S12,S20,S21,S22,f = sp.symbols(\"m1 m2 S10 S11 S12 S20 S21 S22 f\",real=True)\n",
    "dHdpx,dHdpy,dHdpz = sp.symbols(\"dHdpx dHdpy dHdpz\",real=True)\n",
    "\n",
    "gamma = 0.577215664901532860606512090082402431\n",
    "Msol = 4.925491025543575903411922162094833998e-6"
   ]
  },
  {
   "cell_type": "markdown",
   "metadata": {},
   "source": [
    "<a id='step1'></a>\n",
    "\n",
    "# Step 1: Initial Coordinate Choice \\[Back to [top](#toc)\\]\n",
    "$$\\label{step1}$$"
   ]
  },
  {
   "cell_type": "markdown",
   "metadata": {},
   "source": [
    "<a id='massterms'></a>\n",
    "\n",
    "## Mass terms \\[Back to [top](#toc)\\]\n",
    "$$\\label{massterms}$$\n",
    "\n",
    "We begin by defining the following useful quantities:\n",
    "\n",
    "\\begin{align*}\n",
    "    M &= m_{1} + m_{2} \\\\\n",
    "    \\eta &= \\frac{ m_{1} m_{2} }{ M^{2} }\n",
    "\\end{align*}"
   ]
  },
  {
   "cell_type": "code",
   "execution_count": 7,
   "metadata": {},
   "outputs": [],
   "source": [
    "M = m1 + m2\n",
    "Msq = M*M\n",
    "eta = m1*m2/Msq"
   ]
  },
  {
   "cell_type": "markdown",
   "metadata": {},
   "source": [
    "<a id='spinterms'></a>\n",
    "\n",
    "## Spin terms \\[Back to [top](#toc)\\]\n",
    "$$\\label{spinterms}$$\n",
    "\n",
    "<font color='red'>Can we find a source that says how the basis for the orientation of ${\\bf S}_{1}$, ${\\bf S}_{2}$ is chosen?  For now I assume it's in the $\\hat{\\bf r}, \\hat{\\bf v}, \\hat{\\bf L}_{N}$-frame, which is suggestd by the fact that LALSuite rotates them using the same rotation matrix as rotates $\\hat{\\bf r}$, $\\hat{\\bf v}$, and $\\hat{\\bf L}_{N}$ if $\\iota \\not= 0$.</font>  Since we assumed $G = c = 1$, we make the spin angular momenta dimensionless via:\n",
    "\n",
    "\\begin{align*}\n",
    "    \\hat{\\bf S}_{1} &= \\frac{ 1 }{ M^{2} } {\\bf S}_{1} \\\\\n",
    "    \\hat{\\bf S}_{2} &= \\frac{ 1 }{ M^{2} } {\\bf S}_{2}\n",
    "\\end{align*}"
   ]
  },
  {
   "cell_type": "code",
   "execution_count": 8,
   "metadata": {},
   "outputs": [],
   "source": [
    "S1hat0 = S10/Msq\n",
    "S1hat1 = S11/Msq\n",
    "S1hat2 = S12/Msq\n",
    "S2hat0 = S20/Msq\n",
    "S2hat1 = S21/Msq\n",
    "S2hat2 = S22/Msq"
   ]
  },
  {
   "cell_type": "markdown",
   "metadata": {},
   "source": [
    "<a id='rhat'></a>\n",
    "\n",
    "## Normalized Position $\\hat{\\bf r}$ \\[Back to [top](#toc)\\]\n",
    "$$\\label{rhat}$$\n",
    "\n",
    "We assumed that the initial separation vector ${\\bf r}$ lies along the ${\\bf e}_{0}$-axis, so the normalized initial separation vector $\\hat{\\bf r}$ is given by\n",
    "\n",
    "\\begin{align*}\n",
    "    \\hat{\\bf r}^{0} &= 1 \\\\\n",
    "    \\hat{\\bf r}^{1} &= 0 \\\\\n",
    "    \\hat{\\bf r}^{2} &= 0.\n",
    "\\end{align*}\n",
    "\n",
    "See LALSimIMRSpinEOBInitialConditionsPrec.c Lines 803--805."
   ]
  },
  {
   "cell_type": "code",
   "execution_count": 9,
   "metadata": {},
   "outputs": [],
   "source": [
    "rhat0 = 1.\n",
    "rhat1 = 0.\n",
    "rhat2 = 0."
   ]
  },
  {
   "cell_type": "markdown",
   "metadata": {},
   "source": [
    "<a id='ln'></a>\n",
    "\n",
    "## Normalized Orbital Angular Momenutm $\\hat{\\bf L}_{N}$ \\[Back to [top](#toc)\\]\n",
    "$$\\label{ln}$$\n",
    "\n",
    "Since we assume that the initial separation vector ${\\bf r}$ between $m_{1}$ and $m_{2}$ lies along the ${\\bf e}_{0}$-axis, the initial orbital plane coincides with the ${\\bf e}_{0},{\\bf e}_{1}$-plane.  Thus the normalized inital orbital angular momentum vector $\\hat{\\bf L}_{N}$ is given by\n",
    "\n",
    "\\begin{align*}\n",
    "    \\hat{\\bf L}_{N}^{0} &= 0 \\\\\n",
    "    \\hat{\\bf L}_{N}^{1} &= 0 \\\\\n",
    "    \\hat{\\bf L}_{N}^{2} &= 1.\n",
    "\\end{align*}\n",
    "\n",
    "See LALSimIMRSpinEOBInitialConditionsPrec.c Lines 788--790."
   ]
  },
  {
   "cell_type": "code",
   "execution_count": 10,
   "metadata": {},
   "outputs": [],
   "source": [
    "LNhat0 = 0.\n",
    "LNhat1 = 0.\n",
    "LNhat2 = 1."
   ]
  },
  {
   "cell_type": "markdown",
   "metadata": {},
   "source": [
    "<a id='vhat'></a>\n",
    "\n",
    "## Normalized Velocity $\\hat{\\bf v}$ \\[Back to [top](#toc)\\]\n",
    "$$\\label{vhat}$$\n",
    "\n",
    "Given normalized orbital angular momentum ($\\hat{\\bf L}_{N}$) and normalized position ($\\hat{\\bf r}$), the normalized velocity vector ($\\hat{\\bf v}$) is given by\n",
    "\n",
    "\\begin{equation*}\n",
    "    \\hat{\\bf v} = \\frac{ \\hat{\\bf L}_{N} \\times \\hat{\\bf r} }{ \\left\\lvert \\hat{\\bf L}_{N} \\times \\hat{\\bf r} \\right\\rvert }.\n",
    "\\end{equation*}\n",
    "\n",
    "Given $\\hat{\\bf L}_{N} = \\begin{bmatrix} 0 \\\\ 0 \\\\ 1 \\end{bmatrix}$ and $\\hat{\\bf r} = \\begin{bmatrix} 1 \\\\ 0 \\\\ 0 \\end{bmatrix}$ it is clear that $\\hat{\\bf v} = \\begin{bmatrix} 0 \\\\ 1 \\\\ 0 \\end{bmatrix}$.\n",
    "\n",
    "See LALSimIMRSpinEOBInitialConditionsPrec.c Lines 812--814."
   ]
  },
  {
   "cell_type": "code",
   "execution_count": 11,
   "metadata": {},
   "outputs": [],
   "source": [
    "vhat0 = 0.\n",
    "vhat1 = 1.\n",
    "vhat2 = 0."
   ]
  },
  {
   "cell_type": "markdown",
   "metadata": {},
   "source": [
    "## Note \\[Back to [top](#toc)\\]\n",
    "\n",
    "\n",
    "Since we began assuming $\\iota = 0$, we do not need to rotate $\\hat{\\bf r}$, $\\hat{\\bf v}$, $\\hat{\\bf L}_{N}$, ${\\bf S}_{1}$, ${\\bf S}_{2}$, $\\hat{\\bf S}_{1}$, or $\\hat{\\bf S}_{2}$ as is done at LALSimIMRSpinEOBInitialConditionsPrec.c Lines 840."
   ]
  },
  {
   "cell_type": "markdown",
   "metadata": {},
   "source": [
    "<a id='step2'></a>\n",
    "\n",
    "# Step 2: Compute ${\\bf r}$ and ${\\bf p}$ in spherical coordinates \\[Back to [top](#toc)\\]\n",
    "$$\\label{step2}$$"
   ]
  },
  {
   "cell_type": "markdown",
   "metadata": {},
   "source": [
    "<a id='phitheta'></a>\n",
    "\n",
    "## $\\phi$ and $\\theta$ \\[Back to [top](#toc)\\]\n",
    "$$\\label{phitheta}$$\n",
    "\n",
    "Because we assumed the initial separation vector ${\\bf r}$ lies along the ${\\bf e}_{0}$ axis, we have ${\\bf r}^{1} = {\\bf r}^{2} = 0$.  In spherical coordinates, the separation vector ${\\bf r} = \\left( {\\bf r}^{r}, {\\bf r}^{\\phi}, {\\bf r}^{\\theta} \\right)$ therefore has components\n",
    "\n",
    "\\begin{align*}\n",
    "    {\\bf r}^{\\phi} &= 0 \\\\\n",
    "    {\\bf r}^{\\theta} &= \\frac{ \\pi }{ 2 }.\n",
    "\\end{align*}\n",
    "\n",
    "This is also given in [BCD2006](https://arxiv.org/abs/gr-qc/0508067) Equation 4.7."
   ]
  },
  {
   "cell_type": "code",
   "execution_count": 17,
   "metadata": {},
   "outputs": [],
   "source": [
    "rphi = 0.\n",
    "rtheta = 0."
   ]
  },
  {
   "cell_type": "markdown",
   "metadata": {},
   "source": [
    "<a id='omega'></a>\n",
    "\n",
    "## $\\omega$ \\[Back to [top](#toc)\\]\n",
    "$$\\label{omega}$$\n",
    "\n",
    "<font color='red'>Is there a paper reference for this formula?  It's not quite Newtonian ($\\omega = 2 \\pi f)$.</font>\n",
    " \n",
    "\\begin{equation*}\n",
    "    \\omega = M \\mathcal{M}_{\\odot} \\pi f.\n",
    "\\end{equation*}\n",
    "\n",
    "See LALSimIMRSpinEOBInitialConditionsPrec.c Line 893."
   ]
  },
  {
   "cell_type": "code",
   "execution_count": 18,
   "metadata": {},
   "outputs": [],
   "source": [
    "omega = M*Msol*sp.pi*f"
   ]
  },
  {
   "cell_type": "markdown",
   "metadata": {},
   "source": [
    "<a id='velocity'></a>\n",
    "\n",
    "## Initial Velocity $v$ \\[Back to [top](#toc)\\]\n",
    "$$\\label{velocity}$$\n",
    "\n",
    "<font color='red'>Is there a paper reference for this formula?</font>\n",
    "\n",
    "\\begin{equation*}\n",
    "    v = \\sqrt[3]{ \\omega }.\n",
    "\\end{equation*}\n",
    "\n",
    "See LALSimIMRSpinEOBInitialConditionsPrec.c Line 894."
   ]
  },
  {
   "cell_type": "code",
   "execution_count": 19,
   "metadata": {},
   "outputs": [],
   "source": [
    "v = sp.cbrt(omega)"
   ]
  },
  {
   "cell_type": "markdown",
   "metadata": {},
   "source": [
    "<a id='roots'></a>\n",
    "\n",
    "## Root-finding...\n",
    "\n",
    "$$\\label{roots}$$\n",
    "\n",
    "<font color='red'>**Note: LALSuite scales the following values; see LALSimIMRSpinEOBInitialConditionsPrec.c Line 899.**</font>\n",
    "\n",
    "We will write components of the momentum vector ${\\bf p}$ in spherical coordinates with components ${\\bf p}^{r}$, ${\\bf p}^{\\phi}$, and ${\\bf p}^{\\theta}$.\n",
    "\n",
    "<font color='red'>These are initial guesses for the root-finding routine.</font>  That ${\\bf p}^{r} = 0$ is from [BCD2006](https://arxiv.org/abs/gr-qc/0508067) Equation 4.9.\n",
    "\n",
    "\\begin{align*}\n",
    "    {\\bf r}^{r} &= \\frac{ 1 }{ v^{2} } \\\\\n",
    "    {\\bf p}^{r} &= 0 \\\\\n",
    "    {\\bf p}^{\\phi} &= v \\\\\n",
    "    {\\bf p}^{\\theta} &= 0.2.\n",
    "\\end{align*}\n",
    "\n",
    "Find roots of $\\frac{ \\partial H }{ \\partial {\\bf r}^{0}}$, $\\frac{ \\partial H }{ \\partial {\\bf p}^{1}}$, and $\\frac{ \\partial H }{ \\partial {\\bf r}^{1}}$.  Convert the values to spherical values $\\frac{ \\partial H }{ \\partial {\\bf r}^{r}}$, $\\frac{ \\partial H }{ \\partial {\\bf p}^{\\phi}}$, and $\\frac{ \\partial H }{ \\partial {\\bf r}^{\\theta}}$."
   ]
  },
  {
   "cell_type": "code",
   "execution_count": null,
   "metadata": {},
   "outputs": [],
   "source": [
    "rr = 1/(v*v)\n",
    "pr = 0\n",
    "pphi = v\n",
    "ptheta = 0.2"
   ]
  },
  {
   "cell_type": "markdown",
   "metadata": {},
   "source": [
    "<a id='step3'></a>\n",
    "\n",
    "# Step 3: Rotate $\\hat{\\bf L} \\to {\\bf e}_{z}$ \\[Back to [top](#toc)\\]\n",
    "$$\\label{step3}$$"
   ]
  },
  {
   "cell_type": "markdown",
   "metadata": {},
   "source": [
    "<a id='normr'></a>\n",
    "\n",
    "## Normalize ${\\bf r}$ \\[Back to [top](#toc)\\]\n",
    "$$\\label{normr}$$\n",
    "\n",
    "At LALSimIMRSpinEOBInitialConditionsPrec.c Line 1100, we normalize the new position vector ${\\bf q}$ that we found in [Step 2](#step2):\n",
    "\n",
    "\\begin{equation*}\n",
    "    \\hat{\\bf q} = \\frac{ {\\bf q} }{ \\left\\lvert {\\bf q} \\right\\rvert}.\n",
    "\\end{equation*}\n",
    "\n",
    "<font color='red'></font>"
   ]
  },
  {
   "cell_type": "code",
   "execution_count": null,
   "metadata": {},
   "outputs": [],
   "source": [
    "qnorminv = 1/sp.sqrt(qx*qx + qy*qy + qz*qz)\n",
    "qhatx = qx*qnorminv\n",
    "qhaty = qy*qnorminv\n",
    "qhatz = qz*qnorminv"
   ]
  },
  {
   "cell_type": "markdown",
   "metadata": {},
   "source": [
    "<a id='normp'></a>\n",
    "\n",
    "## Normalize ${\\bf p}$ \\[Back to [top](#toc)\\]\n",
    "$$\\label{normp}$$\n",
    "\n",
    "At LALSimIMRSpinEOBInitialConditionsPrec.c Line 1101, we normalize the new position vector ${\\bf p}$ that we found in [Step 2](#step2):\n",
    "\n",
    "\\begin{equation*}\n",
    "    \\hat{\\bf p} = \\frac{ {\\bf p} }{ \\left\\lvert {\\bf p} \\right\\rvert}.\n",
    "\\end{equation*}"
   ]
  },
  {
   "cell_type": "code",
   "execution_count": null,
   "metadata": {},
   "outputs": [],
   "source": [
    "pnorminv = 1/sp.sqrt(px*px + py*py + pz*pz)\n",
    "phatx = px*pnorminv\n",
    "phaty = py*pnorminv\n",
    "phatz = pz*pnorminv"
   ]
  },
  {
   "cell_type": "markdown",
   "metadata": {},
   "source": [
    "<a id='lprm'></a>\n",
    "\n",
    "## ${\\bf L}^{\\prime}$ \\[Back to [top](#toc)\\]\n",
    "$$\\label{lprm}$$\n",
    "\n",
    "At LALSimIMRSpinEOBInitialConditionsPrec.c Lines 1103--1105, we compute the relativistic angular momentum vector ${\\bf L}^{\\prime}$:\n",
    "\n",
    "\\begin{equation*}\n",
    "    {\\bf L}^{\\prime} = \\hat{\\bf q} \\times \\hat{\\bf p}.\n",
    "\\end{equation*}"
   ]
  },
  {
   "cell_type": "code",
   "execution_count": null,
   "metadata": {},
   "outputs": [],
   "source": [
    "Lprmx = qhaty*phatz - qhatz*phaty\n",
    "Lprmy = qhatz*phatx - qhatx*phatz\n",
    "Lprmz = qhatx*phaty - qhaty*phatx"
   ]
  },
  {
   "cell_type": "markdown",
   "metadata": {},
   "source": [
    "<a id='lhat'></a>\n",
    "\n",
    "## $\\hat{\\bf L}$ \\[Back to [top](#toc)\\]\n",
    "$$\\label{lhat}$$\n",
    "\n",
    "At LALSimIMRSpinEOBInitialConditionsPrec.c Line 1107, we normalize ${\\bf L}^{\\prime}$:\n",
    "\n",
    "\\begin{equation*}\n",
    "    \\hat{\\bf L} = \\frac{ {\\bf L}^{\\prime} }{ \\left\\lvert {\\bf L}^{\\prime} \\right\\rvert }.\n",
    "\\end{equation*}"
   ]
  },
  {
   "cell_type": "code",
   "execution_count": null,
   "metadata": {},
   "outputs": [],
   "source": [
    "Lprmnorminv = 1/sp.sqrt(Lprmx*Lprmx + Lprmy*Lprmy + Lprmz*Lprmz)\n",
    "Lhatx = Lprmx*Lprmnorminv\n",
    "Lhaty = Lprmy*Lprmnorminv\n",
    "Lhatz = Lprmz*Lprmnorminv"
   ]
  },
  {
   "cell_type": "markdown",
   "metadata": {},
   "source": [
    "<a id='rotationmatrix3'></a>\n",
    "\n",
    "## Rotation matrix 3 \\[Back to [top](#toc)\\]\n",
    "$$\\label{rotationmatrix3}$$\n",
    "\n",
    "At LALSimIMRSpinEOBInitialConditionsPrec.c Line 1112, the rotation matrix from the $\\left\\{ \\hat{\\bf r}, {\\bf e}_{y}, \\hat{\\bf L}_{N} \\right\\}$ frame to the $\\left\\{ \\hat{\\bf r}, {\\bf e}_{1}, \\hat{\\bf L} \\right\\}$ frame is given by\n",
    "\n",
    "\\begin{equation*}\n",
    "    \\begin{bmatrix} \\hat{\\bf q}^{x} & \\hat{\\bf q}^{y} & \\hat{\\bf q}^{z} \\\\\n",
    "        \\hat{\\bf p}^{x} & \\hat{\\bf p}^{y} & \\hat{\\bf p}^{z} \\\\\n",
    "        \\hat{\\bf L}^{x} & \\hat{\\bf L}^{y} & \\hat{\\bf L}^{z}\\end{bmatrix}.\n",
    "\\end{equation*}\n",
    "\n",
    "<font color='red'>The matrix to invert the rotation is simply the transpose:</font>\n",
    "\n",
    "\\begin{equation*}\n",
    "    \\begin{bmatrix} \\hat{\\bf q}^{x} & \\hat{\\bf p}^{x} & \\hat{\\bf L}^{x} \\\\\n",
    "        \\hat{\\bf q}^{y} & \\hat{\\bf p}^{y} & \\hat{\\bf L}^{y} \\\\\n",
    "        \\hat{\\bf q}^{z} & \\hat{\\bf p}^{z} & \\hat{\\bf L}^{z}\\end{bmatrix}.\n",
    "\\end{equation*}\n",
    "\n",
    "To see that this is indeed the correct matrix inverse, note that by construction $\\hat{\\bf q}$, $\\hat{\\bf p}$, and $\\hat{\\bf L}$ are all unit vectors orthogonal to one another."
   ]
  },
  {
   "cell_type": "code",
   "execution_count": null,
   "metadata": {},
   "outputs": [],
   "source": [
    "rotatehat00 = qhatx\n",
    "rotatehat01 = qhaty\n",
    "rotatehat02 = qhatz\n",
    "rotatehat10 = phatx\n",
    "rotatehat11 = phaty\n",
    "rotatehat12 = phatz\n",
    "rotatehat20 = Lhatx\n",
    "rotatehat21 = Lhaty\n",
    "rotatehat22 = Lhatz\n",
    "\n",
    "inverthat00 = qhatx\n",
    "inverthat01 = phatx\n",
    "inverthat02 = Lhatx\n",
    "inverthat10 = qhaty\n",
    "inverthat11 = phaty\n",
    "inverthat12 = Lhaty\n",
    "inverthat20 = qhatz\n",
    "inverthat21 = phatz\n",
    "inverthat22 = Lhatz"
   ]
  },
  {
   "cell_type": "markdown",
   "metadata": {},
   "source": [
    "<a id='rotatehatrhat'></a>\n",
    "\n",
    "## Rotate $\\hat{\\bf r}$ \\[Back to [top](#toc)\\]\n",
    "$$\\label{rotateshatrhat}$$\n",
    "\n",
    "We rotate $\\hat{\\bf r}$ at LALSimIMRSpinEOBInitialConditionsPrec.c Line 1117.  We'll use primes to denote the rotated vector.\n",
    "\n",
    "\\begin{equation*}\n",
    "    \\hat{\\bf r}^{\\prime} = \\begin{bmatrix} \\hat{\\bf q}^{x} & \\hat{\\bf q}^{y} & \\hat{\\bf q}^{z} \\\\\n",
    "        \\hat{\\bf p}^{x} & \\hat{\\bf p}^{y} & \\hat{\\bf p}^{z} \\\\\n",
    "        \\hat{\\bf L}^{x} & \\hat{\\bf L}^{y} & \\hat{\\bf L}^{z}\\end{bmatrix}\n",
    "        \\begin{bmatrix} \\hat{\\bf r}^{x} \\\\ \\hat{\\bf r}^{y} \\\\ \\hat{\\bf r}^{z} \\end{bmatrix}\n",
    "\\end{equation*}\n",
    "\n",
    "<font color='red'></font>"
   ]
  },
  {
   "cell_type": "code",
   "execution_count": null,
   "metadata": {},
   "outputs": [],
   "source": [
    "rhatprmx = qhatx*rhatx + qhaty*rhaty + qhatz*rhatz\n",
    "rhatprmy = phatx*rhatx + phaty*rhaty + phatz*rhatz\n",
    "rhatprmz = Lhatx*rhatx + Lhaty*rhaty + Lhatz*rhatz"
   ]
  },
  {
   "cell_type": "markdown",
   "metadata": {},
   "source": [
    "<a id='rotatehatvhat'></a>\n",
    "\n",
    "## Rotate $\\hat{\\bf v}$ \\[Back to [top](#toc)\\]\n",
    "$$\\label{rotateshatvhat}$$\n",
    "\n",
    "We rotate $\\hat{\\bf v}$ at LALSimIMRSpinEOBInitialConditionsPrec.c Line 1118.  We'll use primes to denote the rotated vector.\n",
    "\n",
    "\\begin{equation*}\n",
    "    \\hat{\\bf v}^{\\prime} = \\begin{bmatrix} \\hat{\\bf q}^{x} & \\hat{\\bf q}^{y} & \\hat{\\bf q}^{z} \\\\\n",
    "        \\hat{\\bf p}^{x} & \\hat{\\bf p}^{y} & \\hat{\\bf p}^{z} \\\\\n",
    "        \\hat{\\bf L}^{x} & \\hat{\\bf L}^{y} & \\hat{\\bf L}^{z}\\end{bmatrix}\n",
    "        \\begin{bmatrix} \\hat{\\bf v}^{x} \\\\ \\hat{\\bf v}^{y} \\\\ \\hat{\\bf v}^{z} \\end{bmatrix}\n",
    "\\end{equation*}\n",
    "\n",
    "<font color='red'></font>"
   ]
  },
  {
   "cell_type": "code",
   "execution_count": null,
   "metadata": {},
   "outputs": [],
   "source": [
    "vhatprmx = qhatx*vhatx + qhaty*vhaty + qhatz*vhatz\n",
    "vhatprmy = phatx*vhatx + phaty*vhaty + phatz*vhatz\n",
    "vhatprmz = Lhatx*vhatx + Lhaty*vhaty + Lhatz*vhatz"
   ]
  },
  {
   "cell_type": "markdown",
   "metadata": {},
   "source": [
    "<a id='rotatehatLNhat'></a>\n",
    "\n",
    "## Rotate $\\hat{\\bf L}_{N}$ \\[Back to [top](#toc)\\]\n",
    "$$\\label{rotateshatLNhat}$$\n",
    "\n",
    "We rotate $\\hat{\\bf L}_{N}$ at LALSimIMRSpinEOBInitialConditionsPrec.c Line 1119.  We'll use primes to denote the rotated vector.\n",
    "\n",
    "\\begin{equation*}\n",
    "    \\hat{\\bf L}_{N}^{\\prime} = \\begin{bmatrix} \\hat{\\bf q}^{x} & \\hat{\\bf q}^{y} & \\hat{\\bf q}^{z} \\\\\n",
    "        \\hat{\\bf p}^{x} & \\hat{\\bf p}^{y} & \\hat{\\bf p}^{z} \\\\\n",
    "        \\hat{\\bf L}^{x} & \\hat{\\bf L}^{y} & \\hat{\\bf L}^{z}\\end{bmatrix}\n",
    "        \\begin{bmatrix} \\hat{\\bf L}_{N}^{x} \\\\ \\hat{\\bf L}_{N}^{y} \\\\ \\hat{\\bf L}_{N}^{z} \\end{bmatrix}\n",
    "\\end{equation*}\n",
    "\n",
    "<font color='red'></font>"
   ]
  },
  {
   "cell_type": "code",
   "execution_count": null,
   "metadata": {},
   "outputs": [],
   "source": [
    "LNhatprmx = qhatx*LNhatx + qhaty*LNhaty + qhatz*LNhatz\n",
    "LNhatprmy = phatx*LNhatx + phaty*LNhaty + phatz*LNhatz\n",
    "LNhatprmz = Lhatx*LNhatx + Lhaty*LNhaty + Lhatz*LNhatz"
   ]
  },
  {
   "cell_type": "markdown",
   "metadata": {},
   "source": [
    "<a id='rotatehatS1'></a>\n",
    "\n",
    "## Rotate ${\\bf S}_{1}$ \\[Back to [top](#toc)\\]\n",
    "$$\\label{rotateshatS1}$$\n",
    "\n",
    "We rotate ${\\bf S}_{1}$ at LALSimIMRSpinEOBInitialConditionsPrec.c Line 1120.  We'll use primes to denote the rotated vector.\n",
    "\n",
    "\\begin{equation*}\n",
    "    {\\bf S}_{1}^{\\prime} = \\begin{bmatrix} \\hat{\\bf q}^{x} & \\hat{\\bf q}^{y} & \\hat{\\bf q}^{z} \\\\\n",
    "        \\hat{\\bf p}^{x} & \\hat{\\bf p}^{y} & \\hat{\\bf p}^{z} \\\\\n",
    "        \\hat{\\bf L}^{x} & \\hat{\\bf L}^{y} & \\hat{\\bf L}^{z}\\end{bmatrix}\n",
    "        \\begin{bmatrix} {\\bf S}_{1}^{x} \\\\ {\\bf S}_{1}^{y} \\\\ {\\bf S}_{1}^{z} \\end{bmatrix}\n",
    "\\end{equation*}\n",
    "\n",
    "<font color='red'></font>"
   ]
  },
  {
   "cell_type": "code",
   "execution_count": null,
   "metadata": {},
   "outputs": [],
   "source": [
    "S1prmx = qhatx*S1x + qhaty*S1y + qhatz*S1z\n",
    "S1prmy = phatx*S1x + phaty*S1y + phatz*S1z\n",
    "S1prmz = Lhatx*S1x + Lhaty*S1y + Lhatz*S1z"
   ]
  },
  {
   "cell_type": "markdown",
   "metadata": {},
   "source": [
    "<a id='rotatehatS2'></a>\n",
    "\n",
    "## Rotate ${\\bf S}_{2}$ \\[Back to [top](#toc)\\]\n",
    "$$\\label{rotateshatS2}$$\n",
    "\n",
    "We rotate ${\\bf S}_{2}$ at LALSimIMRSpinEOBInitialConditionsPrec.c Line 1121.  We'll use primes to denote the rotated vector.\n",
    "\n",
    "\\begin{equation*}\n",
    "    {\\bf S}_{2}^{\\prime} = \\begin{bmatrix} \\hat{\\bf q}^{x} & \\hat{\\bf q}^{y} & \\hat{\\bf q}^{z} \\\\\n",
    "        \\hat{\\bf p}^{x} & \\hat{\\bf p}^{y} & \\hat{\\bf p}^{z} \\\\\n",
    "        \\hat{\\bf L}^{x} & \\hat{\\bf L}^{y} & \\hat{\\bf L}^{z}\\end{bmatrix}\n",
    "        \\begin{bmatrix} {\\bf S}_{2}^{x} \\\\ {\\bf S}_{2}^{y} \\\\ {\\bf S}_{2}^{z} \\end{bmatrix}\n",
    "\\end{equation*}\n",
    "\n",
    "<font color='red'></font>"
   ]
  },
  {
   "cell_type": "code",
   "execution_count": null,
   "metadata": {},
   "outputs": [],
   "source": [
    "S2prmx = qhatx*S2x + qhaty*S2y + qhatz*S2z\n",
    "S2prmy = phatx*S2x + phaty*S2y + phatz*S2z\n",
    "S2prmz = Lhatx*S2x + Lhaty*S2y + Lhatz*S2z"
   ]
  },
  {
   "cell_type": "markdown",
   "metadata": {},
   "source": [
    "<a id='rotatehatS1hat'></a>\n",
    "\n",
    "## Rotate $\\hat{\\bf S}_{1}$ \\[Back to [top](#toc)\\]\n",
    "$$\\label{rotateshatS1hat}$$\n",
    "\n",
    "We rotate $\\hat{\\bf S}_{1}$ at LALSimIMRSpinEOBInitialConditionsPrec.c Line 1122.  We'll use primes to denote the rotated vector.\n",
    "\n",
    "\\begin{equation*}\n",
    "    \\hat{\\bf S}_{1}^{\\prime} = \\begin{bmatrix} \\hat{\\bf q}^{x} & \\hat{\\bf q}^{y} & \\hat{\\bf q}^{z} \\\\\n",
    "        \\hat{\\bf p}^{x} & \\hat{\\bf p}^{y} & \\hat{\\bf p}^{z} \\\\\n",
    "        \\hat{\\bf L}^{x} & \\hat{\\bf L}^{y} & \\hat{\\bf L}^{z}\\end{bmatrix}\n",
    "        \\begin{bmatrix} \\hat{\\bf S}_{1}^{x} \\\\ \\hat{\\bf S}_{1}^{y} \\\\ \\hat{\\bf S}_{1}^{z} \\end{bmatrix}\n",
    "\\end{equation*}\n",
    "\n",
    "<font color='red'></font>"
   ]
  },
  {
   "cell_type": "code",
   "execution_count": null,
   "metadata": {},
   "outputs": [],
   "source": [
    "S1hatprmx = qhatx*S1hatx + qhaty*S1haty + qhatz*S1hatz\n",
    "S1hatprmy = phatx*S1hatx + phaty*S1haty + phatz*S1hatz\n",
    "S1hatprmz = Lhatx*S1hatx + Lhaty*S1haty + Lhatz*S1hatz"
   ]
  },
  {
   "cell_type": "markdown",
   "metadata": {},
   "source": [
    "<a id='rotatehatS2hat'></a>\n",
    "\n",
    "## Rotate $\\hat{\\bf S}_{2}$ \\[Back to [top](#toc)\\]\n",
    "$$\\label{rotateshatS2\\hat}$$\n",
    "\n",
    "We rotate $\\hat{\\bf S}_{2}$ at LALSimIMRSpinEOBInitialConditionsPrec.c Line 1121.  We'll use primes to denote the rotated vector.\n",
    "\n",
    "\\begin{equation*}\n",
    "    \\hat{\\bf S}_{2}^{\\prime} = \\begin{bmatrix} \\hat{\\bf q}^{x} & \\hat{\\bf q}^{y} & \\hat{\\bf q}^{z} \\\\\n",
    "        \\hat{\\bf p}^{x} & \\hat{\\bf p}^{y} & \\hat{\\bf p}^{z} \\\\\n",
    "        \\hat{\\bf L}^{x} & \\hat{\\bf L}^{y} & \\hat{\\bf L}^{z}\\end{bmatrix}\n",
    "        \\begin{bmatrix} \\hat{\\bf S}_{2}^{x} \\\\ \\hat{\\bf S}_{2}^{y} \\\\ \\hat{\\bf S}_{2}^{z} \\end{bmatrix}\n",
    "\\end{equation*}\n",
    "\n",
    "<font color='red'></font>"
   ]
  },
  {
   "cell_type": "code",
   "execution_count": null,
   "metadata": {},
   "outputs": [],
   "source": [
    "S2hatprmx = qhatx*S2hatx + qhaty*S2haty + qhatz*S2hatz\n",
    "S2hatprmy = phatx*S2hatx + phaty*S2haty + phatz*S2hatz\n",
    "S2hatprmz = Lhatx*S2hatx + Lhaty*S2haty + Lhatz*S2hatz"
   ]
  },
  {
   "cell_type": "markdown",
   "metadata": {},
   "source": [
    "<a id='rotatehatq'></a>\n",
    "\n",
    "## Rotate ${\\bf q}$ \\[Back to [top](#toc)\\]\n",
    "$$\\label{rotateshatq}$$\n",
    "\n",
    "We rotate ${\\bf q}$ at LALSimIMRSpinEOBInitialConditionsPrec.c Line 1122.  We'll use primes to denote the rotated vector.\n",
    "\n",
    "\\begin{equation*}\n",
    "    {\\bf q}^{\\prime} = \\begin{bmatrix} \\hat{\\bf q}^{x} & \\hat{\\bf q}^{y} & \\hat{\\bf q}^{z} \\\\\n",
    "        \\hat{\\bf p}^{x} & \\hat{\\bf p}^{y} & \\hat{\\bf p}^{z} \\\\\n",
    "        \\hat{\\bf L}^{x} & \\hat{\\bf L}^{y} & \\hat{\\bf L}^{z}\\end{bmatrix}\n",
    "        \\begin{bmatrix} {\\bf q}^{x} \\\\ {\\bf q}^{y} \\\\ {\\bf q}^{z} \\end{bmatrix}\n",
    "\\end{equation*}\n",
    "\n",
    "<font color='red'></font>"
   ]
  },
  {
   "cell_type": "code",
   "execution_count": null,
   "metadata": {},
   "outputs": [],
   "source": [
    "qprmx = qhatx*qx + qhaty*qy + qhatz*qz\n",
    "qprmy = phatx*qx + phaty*qy + phatz*qz\n",
    "qprmz = Lhatx*qx + Lhaty*qy + Lhatz*qz"
   ]
  },
  {
   "cell_type": "markdown",
   "metadata": {},
   "source": [
    "<a id='rotatehatp'></a>\n",
    "\n",
    "## Rotate ${\\bf p}$ \\[Back to [top](#toc)\\]\n",
    "$$\\label{rotateshatp}$$\n",
    "\n",
    "We rotate ${\\bf p}$ at LALSimIMRSpinEOBInitialConditionsPrec.c Line 1122.  We'll use primes to denote the rotated vector.\n",
    "\n",
    "\\begin{equation*}\n",
    "    {\\bf p}^{\\prime} = \\begin{bmatrix} \\hat{\\bf q}^{x} & \\hat{\\bf q}^{y} & \\hat{\\bf q}^{z} \\\\\n",
    "        \\hat{\\bf p}^{x} & \\hat{\\bf p}^{y} & \\hat{\\bf p}^{z} \\\\\n",
    "        \\hat{\\bf L}^{x} & \\hat{\\bf L}^{y} & \\hat{\\bf L}^{z}\\end{bmatrix}\n",
    "        \\begin{bmatrix} {\\bf p}^{x} \\\\ {\\bf p}^{y} \\\\ {\\bf p}^{z} \\end{bmatrix}\n",
    "\\end{equation*}\n",
    "\n",
    "<font color='red'></font>"
   ]
  },
  {
   "cell_type": "code",
   "execution_count": null,
   "metadata": {},
   "outputs": [],
   "source": [
    "pprmx = qhatx*px + qhaty*py + qhatz*pz\n",
    "pprmy = phatx*px + phaty*py + phatz*pz\n",
    "pprmz = Lhatx*px + Lhaty*py + Lhatz*pz"
   ]
  },
  {
   "cell_type": "markdown",
   "metadata": {},
   "source": [
    "<a id='step4'></a>\n",
    "\n",
    "# Step 4: Compute $\\dot{\\bf r}$ \\[Back to [top](#toc)\\]\n",
    "$$\\label{step4}$$"
   ]
  },
  {
   "cell_type": "markdown",
   "metadata": {},
   "source": [
    "<a id='carttosph'></a>\n",
    "\n",
    "## Convert from Cartesian to Spherical \\[Back to [top](#toc)\\]\n",
    "$$\\label{carttosph}$$\n",
    "\n",
    "Converting from Cartesian to spherical coordinates takes place at LALSimIMRSpinEOBInitialConditionsPrec.c Lines 277--282.  In the special case where $\\theta = 0$ and $\\phi = \\frac{ \\pi }{ 2 }$, the spherical position vector ${\\bf q}_{\\rm sph}$ is given by\n",
    "\n",
    "\\begin{align*}\n",
    "    {\\bf q}_{\\rm sph}^{0} = {\\bf q}^{x} \\\\\n",
    "    {\\bf q}_{\\rm sph}^{1} = \\frac{ \\pi }{ 2 } \\\\\n",
    "    {\\bf q}_{\\rm sph}^{2} = 0 \\\\\n",
    "\\end{align*}\n",
    "\n",
    "and the spherical momentum vector ${\\bf p}_{\\rm sph}$ is given by\n",
    "\n",
    "\\begin{align*}\n",
    "    {\\bf p}_{\\rm sph}^{0} &= {\\bf p}^{x} \\\\\n",
    "    {\\bf p}_{\\rm sph}^{1} &= - {\\bf q}^{x}*{\\bf p}^{z} \\\\\n",
    "    {\\bf p}_{\\rm sph}^{2} &= {\\bf q}^{x}*{\\bf p}^{y} \\\\\n",
    "\\end{align*}\n",
    "\n",
    "<font color='red'></font>"
   ]
  },
  {
   "cell_type": "code",
   "execution_count": null,
   "metadata": {},
   "outputs": [],
   "source": [
    "qsph0 = qprmx\n",
    "qsph1 = sp.pi/2\n",
    "qsph2 = 0\n",
    "psph0 = pprmx\n",
    "psph1 = -qprmx*pprmz\n",
    "psph2 = qprmx*pprmy"
   ]
  },
  {
   "cell_type": "markdown",
   "metadata": {},
   "source": [
    "<a id='secondderiv'></a>\n",
    "\n",
    "## Second derivatives of $H_{\\rm real}$ \\[Back to [top](#toc)\\]\n",
    "$$\\label{seconderiv}$$\n",
    "\n",
    "We need to compute $\\frac{ \\partial^{2} H_{\\rm real} }{ \\partial r^{2} }$ and $\\frac{ \\partial^{2} H_{\\rm real} }{ \\partial r \\partial p_{\\phi} }$ (in another module).\n",
    "\n",
    "<font color='red'></font>"
   ]
  },
  {
   "cell_type": "code",
   "execution_count": null,
   "metadata": {},
   "outputs": [],
   "source": [
    "d2Hdr2 = 0\n",
    "d2Hdrdpphi = 0"
   ]
  },
  {
   "cell_type": "markdown",
   "metadata": {},
   "source": [
    "<a id='Hderivs'></a>\n",
    "\n",
    "## Derivatives of $H_{\\rm real}$ \\[Back to [top](#toc)\\]\n",
    "$$\\label{Hderivs}$$\n",
    "\n",
    "We need to compute $\\frac{ \\partial H_{\\rm real} }{ \\partial \\xi }$ where $\\xi$ is any of the 12 dynamical variables (in another module).\n",
    "\n",
    "<font color='red'></font>"
   ]
  },
  {
   "cell_type": "code",
   "execution_count": null,
   "metadata": {},
   "outputs": [],
   "source": [
    "dHdr = 0\n",
    "dHdtheta = 0\n",
    "dHdphi = 0\n",
    "dHdpr = 0\n",
    "dHdptheta = 0\n",
    "dHdpphi = 0\n",
    "dHdS1x = 0\n",
    "dHdS1y = 0\n",
    "dHdS1z = 0\n",
    "dHdS2x = 0\n",
    "dHdS2y = 0\n",
    "dHdS2z = 0"
   ]
  },
  {
   "cell_type": "markdown",
   "metadata": {},
   "source": [
    "<a id='normalizedHdpphi'></a>\n",
    "\n",
    "## Normalize $\\frac{ \\partial H }{ \\partial p_{\\phi} }$ \\[Back to [top](#toc)\\]\n",
    "$$\\label{normalizedHdpphi}$$\n",
    "\n",
    "For some reason we normalize $\\frac{ \\partial H }{ p_{\\phi} }$ at LALSimIMRSpinEOBInitialConditionsPrec.c Line 1180.\n",
    "\n",
    "<font color='red'></font>"
   ]
  },
  {
   "cell_type": "code",
   "execution_count": null,
   "metadata": {},
   "outputs": [],
   "source": [
    "dHdpphi /= sp.sqrt(qprmx*qprmx + qprmy*qprmy + qprmz*qprmz)"
   ]
  },
  {
   "cell_type": "markdown",
   "metadata": {},
   "source": [
    "<a id='dEdr'></a>\n",
    "\n",
    "## $\\frac{ \\partial E }{ \\partial r }$ \\[Back to [top](#toc)\\]\n",
    "$$\\label{dEdr}$$\n",
    "\n",
    "I don't know what this is or means, but we compute $\\frac{ \\partial E }{ \\partial r }$\n",
    "<font color='red'></font>"
   ]
  },
  {
   "cell_type": "code",
   "execution_count": null,
   "metadata": {},
   "outputs": [],
   "source": [
    "dEdr = -dHdpphi*d2Hdr2/d2Hdrdpphi"
   ]
  },
  {
   "cell_type": "markdown",
   "metadata": {},
   "source": [
    "<a id='skerr'></a>\n",
    "\n",
    "## ${\\bf S}_{\\rm Kerr}$ \\[Back to [top](#toc)\\]\n",
    "$$\\label{skerr}$$\n",
    "\n",
    "From [BB2010](https://arxiv.org/abs/0912.3517) Equations (5.2), (5.63), and (5.67) we have\n",
    "\n",
    "\\begin{equation*}\n",
    "    {\\bf S}_{\\rm Kerr} = {\\bf S}_{1} + {\\bf S}_{2}.\n",
    "\\end{equation*}\n",
    "\n",
    "Taking the square of [BB2010](https://arxiv.org/abs/0912.3517) Equation (4.9) <font color='red'>(be careful with the factor or $M$...)</font>,\n",
    "\n",
    "\\begin{equation*}\n",
    "    a^{2} = \\frac{ {\\bf S}_{Kerr} \\cdot {\\bf S}_{Kerr} }{ M^{2} }\n",
    "\\end{equation*}\n",
    "\n",
    "so that\n",
    "\n",
    "\\begin{equation*}\n",
    "    a = \\sqrt{ a^{2} }.\n",
    "\\end{equation*}"
   ]
  },
  {
   "cell_type": "code",
   "execution_count": null,
   "metadata": {},
   "outputs": [],
   "source": [
    "SKerr1 = S1x + S2x\n",
    "SKerr2 = S1y + S2y\n",
    "SKerr3 = S1z + S2z\n",
    "asq = (SKerr1*SKerr1 + SKerr2*SKerr2 + SKerr3*SKerr3)/(M*M)\n",
    "a = sp.sqrt(asq)"
   ]
  },
  {
   "cell_type": "markdown",
   "metadata": {},
   "source": [
    "<a id='sigmastar'></a>\n",
    "\n",
    "## $\\boldsymbol{\\sigma}^{*}$ \\[Back to [top](#toc)\\]\n",
    "$$\\label{sigmastar}$$\n",
    "\n",
    "From [BB2010](https://arxiv.org/abs/0912.3517) Equation (5.3),\n",
    "\n",
    "\\begin{equation*}\n",
    "    \\boldsymbol{\\sigma}^{*} = \\frac{ m_{2} }{ m_{1} } {\\bf S}_{1} + \\frac{ m_{1} }{ m_{2} }{\\bf S}_{2}.\n",
    "\\end{equation*}"
   ]
  },
  {
   "cell_type": "code",
   "execution_count": null,
   "metadata": {},
   "outputs": [],
   "source": [
    "sigmastar1 = S1x*m2/m1 + S2x*m1/m2\n",
    "sigmastar2 = S1y*m2/m1 + S2y*m1/m2\n",
    "sigmastar3 = S1z*m2/m1 + S2z*m1/m2"
   ]
  },
  {
   "cell_type": "markdown",
   "metadata": {},
   "source": [
    "<a id='Hreal'></a>\n",
    "\n",
    "## $H_{\\rm real}$ \\[Back to [top](#toc)\\]\n",
    "$$\\label{Hreal}$$\n",
    "\n",
    "We now compute $H_{\\rm real}$ (LALSimIMRSpinEOBInitialConditionsPrec.c Line 1222) (another module)"
   ]
  },
  {
   "cell_type": "code",
   "execution_count": null,
   "metadata": {},
   "outputs": [],
   "source": [
    "Hreal = 0"
   ]
  },
  {
   "cell_type": "markdown",
   "metadata": {},
   "source": [
    "<a id='polardata'></a>\n",
    "\n",
    "## Polar data \\[Back to [top](#toc)\\]\n",
    "$$\\label{polardata}$$\n",
    "\n",
    "At LALSimIMRSpinEOBInitialConditionsPrec.c Lines 1234--1238, we set the following polar data $P$ <font color='red'>(need to find reference for this?)</font>:\n",
    "\n",
    "\\begin{align*}\n",
    "    P^{0} &= {\\bf q}_{\\rm sph}^{0} \\\\\n",
    "    P^{1} &= 0 \\\\\n",
    "    P^{2} &= {\\bf p}_{\\rm sph}^{0} \\\\\n",
    "    P^{3} &= {\\bf p}_{\\rm sph}^{2}\n",
    "\\end{align*}"
   ]
  },
  {
   "cell_type": "code",
   "execution_count": null,
   "metadata": {},
   "outputs": [],
   "source": [
    "polar0 = qsph0\n",
    "polar1 = 0\n",
    "polar2 = psph0\n",
    "polar3 = psph2"
   ]
  },
  {
   "cell_type": "markdown",
   "metadata": {},
   "source": [
    "<a id='flux'></a>\n",
    "\n",
    "## Compute Flux \\[Back to [top](#toc)\\]\n",
    "$$\\label{flux}$$\n",
    "\n",
    "At LALSimIMRSpinEOBInitialConditionsPrec.c Lines 1249, we copmute flux (another module?)\n",
    "\n",
    "\\begin{align*}\n",
    "    P^{0} &= {\\bf q}_{\\rm sph}^{0} \\\\\n",
    "    P^{1} &= 0 \\\\\n",
    "    P^{2} &= {\\bf p}_{\\rm sph}^{0} \\\\\n",
    "    P^{3} &= {\\bf p}_{\\rm sph}^{2}\n",
    "\\end{align*}"
   ]
  },
  {
   "cell_type": "markdown",
   "metadata": {},
   "source": [
    "<a id='step5'></a>\n",
    "\n",
    "# Step 5: Invert the rotation of Step 3 \\[Back to [top](#toc)\\]\n",
    "$$\\label{step5}$$"
   ]
  },
  {
   "cell_type": "markdown",
   "metadata": {},
   "source": [
    "<a id='invrotationmatrix1'></a>\n",
    "\n",
    "## Inverse Rotation Matrix 1\\[Back to [top](#toc)\\]\n",
    "$$\\label{invrotationmatrix1}$$\n",
    "\n",
    "The matrix to invert rotation matrix 1 (see [this cell](#rotationmatrix1)) is simply the transpose:</font>\n",
    "\n",
    "\\begin{equation*}\n",
    "    \\begin{bmatrix} \\hat{\\bf r}^{x} & \\hat{\\bf v}^{x} & \\hat{\\bf L}_{N}^{x} \\\\\n",
    "        \\hat{\\bf r}^{y} & \\hat{\\bf v}^{y} & \\hat{\\bf L}_{N}^{y} \\\\\n",
    "        \\hat{\\bf r}^{z} & \\hat{\\bf v}^{z} & \\hat{\\bf L}_{N}^{z}\\end{bmatrix}.\n",
    "\\end{equation*}\n",
    "\n",
    "To see that this is indeed the correct matrix inverse, note that by construction $\\hat{\\bf r}$ and $\\hat{\\bf L}_{N}$ are unit vectors orthogonal to one another.  Furthermore, we noramlized ${\\bf v}$ to create $\\hat{\\bf v}$, and built $\\hat{\\bf v}$ as a cross produce of $\\hat{\\bf r}$ and $\\hat{\\bf L}_{N}$."
   ]
  },
  {
   "cell_type": "code",
   "execution_count": null,
   "metadata": {},
   "outputs": [],
   "source": [
    "invert00 = rhatx\n",
    "invert01 = vhatx\n",
    "invert02 = LNhatx\n",
    "invert10 = rhaty\n",
    "invert11 = vhaty\n",
    "invert12 = LNhaty\n",
    "invert20 = rhatz\n",
    "invert21 = vhatz\n",
    "invert22 = LNhatz"
   ]
  },
  {
   "cell_type": "markdown",
   "metadata": {},
   "source": [
    "<a id='invrotaterhat'></a>\n",
    "\n",
    "## Rotate $\\hat{\\bf r}$ \\[Back to [top](#toc)\\]\n",
    "$$\\label{rotaterhat}$$\n",
    "\n",
    "We rotate $\\hat{\\bf r}$ in LALSimIMRSpinEOBInitialConditionsPrec.c Line 843.  We'll use primes to denote the rotated vector.\n",
    "\n",
    "\\begin{equation*}\n",
    "    \\hat{\\bf r}^{\\prime} = \\begin{bmatrix} \\hat{\\bf r}^{x} & \\hat{\\bf r}^{y} & \\hat{\\bf r}^{z} \\\\\n",
    "        \\hat{\\bf v}^{x} & \\hat{\\bf v}^{y} & \\hat{\\bf v}^{z} \\\\\n",
    "        \\hat{\\bf L}_{N}^{x} & \\hat{\\bf L}_{N}^{y} & \\hat{\\bf L}_{N}^{z}\\end{bmatrix}\n",
    "        \\begin{bmatrix} \\hat{\\bf r}^{x} \\\\ \\hat{\\bf r}^{y} \\\\ \\hat{\\bf r}^{z} \\end{bmatrix}\n",
    "\\end{equation*}\n",
    "\n",
    "<font color='red'></font>\n",
    "\n",
    "rhatprmx = rhatx*rhatx + rhaty*rhaty + rhatz*rhatz\n",
    "rhatprmy = vhatx*rhatx + vhaty*rhaty + vhatz*rhatz\n",
    "rhatprnz = LNhatx*rhatx + LNhaty*rhaty + LNhatz*rhatz"
   ]
  },
  {
   "cell_type": "markdown",
   "metadata": {},
   "source": [
    "<a id='step6'></a>\n",
    "\n",
    "# Step 6: Invert the rotation of Step 1 \\[Back to [top](#toc)\\]\n",
    "$$\\label{step6}$$"
   ]
  },
  {
   "cell_type": "markdown",
   "metadata": {},
   "source": [
    "<a id='tortoise_matrix'></a>\n",
    "\n",
    "# Tortoise Conversion Matrix \\[Back to [top](#toc)\\]\n",
    "$$\\label{tortoise_matrix}$$\n",
    "\n",
    "<font color='red'>We're now back to LALSpinPrecHcapRvecDerivative_v3opt.c, Lines 92--96.</font>\n",
    "\n",
    "From [Pan, Buonanno, Buchman, et. al. (2010)](https://arxiv.org/abs/0912.3466v2) Equation (A3) the matrix for the coordinate conversion to tortoise coordinates is\n",
    "\n",
    "\\begin{align*}\n",
    "    \\begin{pmatrix} 1 + \\frac{ x^{2} }{ r^{2} } \\left( \\xi - 1 \\right) & \\frac{ x y }{ r^{2} } \\left( \\xi - 1 \\right) & \\frac{ x z }{ r^{2} } \\left( \\xi - 1 \\right) \\\\\n",
    "        \\frac{ x y }{ r^{2} } \\left( \\xi - 1 \\right) & 1 + \\frac{ y^{2} }{ r^{2} } \\left( \\xi - 1 \\right) & \\frac{ y z }{ r^{2} } \\left( \\xi - 1 \\right) \\\\\n",
    "        \\frac{ x z }{ r^{2} } \\left( \\xi - 1 \\right) & \\frac{ y z }{ r^{2} } \\left( \\xi - 1 \\right) & 1 + \\frac{ z^{2} }{ r^{2} } \\left( \\xi - 1 \\right) \\end{pmatrix}\n",
    "\\end{align*}"
   ]
  },
  {
   "cell_type": "code",
   "execution_count": null,
   "metadata": {},
   "outputs": [],
   "source": [
    "ximinus1 = xi - 1\n",
    "toTort = sp.Array([[1 + x*x*ximinus1/(r*r), x*y*ximinus1/(r*r), x*z*ximinus1/(r*r)],\n",
    "                   [x*y*ximinus1/(r*r), 1 + y*y*ximinus1/(r*r), y*z*ximinus1/(r*r)],\n",
    "                   [x*z*ximinus1/(r*r), y*z*ximinus1/(r*r), 1 + z*z*ximinus1/(r*r)]])"
   ]
  },
  {
   "cell_type": "markdown",
   "metadata": {},
   "source": [
    "<a id='latex_pdf_output'></a>\n",
    "\n",
    "# Output: Output this module to $\\LaTeX$-formatted PDF file \\[Back to [top](#toc)\\]\n",
    "$$\\label{latex_pdf_output}$$"
   ]
  },
  {
   "cell_type": "code",
   "execution_count": null,
   "metadata": {},
   "outputs": [],
   "source": [
    "!jupyter nbconvert --to latex --template latex_nrpy_style.tplx Tutorial-SEOBNR_Initial_Conditions.ipynb\n",
    "!pdflatex -interaction=batchmode Tutorial-SEOBNR_Initial_Conditions.tex\n",
    "!pdflatex -interaction=batchmode Tutorial-SEOBNR_Initial_Conditions.tex\n",
    "!pdflatex -interaction=batchmode Tutorial-SEOBNR_Initial_Conditions.tex\n",
    "!rm -f Tut*.out Tut*.aux Tut*.log"
   ]
  }
 ],
 "metadata": {
  "kernelspec": {
   "display_name": "Python 2",
   "language": "python",
   "name": "python2"
  },
  "language_info": {
   "codemirror_mode": {
    "name": "ipython",
    "version": 2
   },
   "file_extension": ".py",
   "mimetype": "text/x-python",
   "name": "python",
   "nbconvert_exporter": "python",
   "pygments_lexer": "ipython2",
   "version": "2.7.13"
  }
 },
 "nbformat": 4,
 "nbformat_minor": 2
}
