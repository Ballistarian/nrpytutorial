{
 "cells": [
  {
   "cell_type": "markdown",
   "metadata": {},
   "source": [
    "# The Spinning Effective One-Body Initial Condition Solver\n",
    "\n",
    "### Author: Tyler Knowles\n",
    "\n",
    "## This module documents the reduced spinning effective one-body initial condition solver as numerically implemented in LALSuite's SEOBNRv3 gravitational waveform approximant.\n",
    "\n",
    "### Throughout this module, we will refer to\n",
    "* [Buonanno, Chen, and Damour (2006)](https://arxiv.org/abs/gr-qc/0508067) as BCD2006, and\n",
    "* [Barausse and Buonanno (2010)](https://arxiv.org/abs/0912.3517) as BB2010.\n",
    "\n",
    "<font color='green'>**This module has been validated against the LALSuite SEOBNRv3/SEOBNRv3_opt code that was reviewed and approved for LIGO parameter estimation by the LIGO Scientific Collaboration.**</font>"
   ]
  },
  {
   "cell_type": "markdown",
   "metadata": {},
   "source": [
    "<a id='toc'></a>\n",
    "\n",
    "# Table of Contents\n",
    "$$\\label{toc}$$\n",
    "\n",
    "This module is organized as follows:\n",
    "\n",
    "0. [Introduction](#intro)\n",
    "1. [Step 1](#rderiv): ${\\rm d}r / {\\rm d}t$\n",
    "1. [Output](#latex_pdf_output): Output this module to $\\LaTeX$-formatted PDF"
   ]
  },
  {
   "cell_type": "markdown",
   "metadata": {},
   "source": [
    "<a id='intro'></a>\n",
    "\n",
    "# Introduction: The Physical System of Interest \\[Back to [top](#toc)\\]\n",
    "$$\\label{intro}$$\n",
    "\n",
    "Consider two black holes with masses $m_{1}$, $m_{2}$ and spins ${\\bf S}_{1}$, ${\\bf S}_{2}$ in a binary system.  The spinning effective one-body (\"SEOB\") Hamiltonian $H_{\\rm real}$ (see [BB2010](https://arxiv.org/abs/0912.3517) Equation (5.69)) describes the dynamics of this system.  We seek initial conditions for nonadiabatic evolutions of such a system, and follow [BCD2006](https://arxiv.org/abs/gr-qc/0508067) Section IV A.\n",
    "\n",
    "Please note that throughout this notebook we adpot the following conventions:\n",
    "1. $c = G = 1$ where $c$ is the speed of light in a vacuum and $G$ is Newton's gravitational constant.\n",
    "\n",
    "We start with the following parameters:\n",
    "1. a Cartesian tortoise separation vector $\\left( x, y, z \\right)$ (in units of total mass),\n",
    "1. a Cartesian momentum vector ${\\bf p^{*}}$ (in units of reduced mass),\n",
    "1. a spin vector ${\\bf S}_{1}$ (in units of total mass squared),\n",
    "1. a spin vector ${\\bf S}_{2}$ (in units of total mass squared),\n",
    "1. orbital phase (in radians), and\n",
    "1. $\\alpha \\cdot \\cos\\left( \\iota \\right)$ where $\\iota$ is the inclination of the system."
   ]
  },
  {
   "cell_type": "markdown",
   "metadata": {},
   "source": [
    "<a id='rderiv'></a>\n",
    "\n",
    "# ${\\rm d}r / {\\rm d}t$ \\[Back to [top](#toc)\\]\n",
    "$$\\label{rderiv}$$\n",
    "\n",
    "Line 15 of LALSpinPrecHcapRvecDerivative_v3opt.c claims that we're first going to compute [BB2010](https://arxiv.org/abs/0912.3517) Equation (A4), but I don't believe that's the case.  \n",
    "\n",
    "We need the following quantities:\n",
    "\n",
    "\\begin{align*}\n",
    "    M &= m_{1} + m_{2} \\\\\n",
    "    \\mu &= \\frac{ m_{1} m_{2} }{ M } \\\\\n",
    "    \\eta &= \\frac{ \\mu }{ M } \\\\\n",
    "    \\xi &= 1 \\\\\n",
    "    r^{2} &= x^{2} + y^{2} + z^{2} \\\\\n",
    "    r &= \\sqrt{r^{2}} \\\\\n",
    "    u &= \\frac{ 1 }{ r }\n",
    "\\end{align*}"
   ]
  },
  {
   "cell_type": "code",
   "execution_count": 1,
   "metadata": {},
   "outputs": [
    {
     "name": "stdout",
     "output_type": "stream",
     "text": [
      "Overwriting SEOBNR/initial_conditions.txt\n"
     ]
    }
   ],
   "source": [
    "%%writefile SEOBNR/initial_conditions.txt\n",
    "M = m1 + m2\n",
    "mu = m1*m2/M\n",
    "eta = mu/M\n",
    "xi = 1\n",
    "rsq = x*x + y*y + z*z\n",
    "r = sqrt(rsq)\n",
    "u = 1/r"
   ]
  },
  {
   "cell_type": "markdown",
   "metadata": {},
   "source": [
    "<a id='skerr'></a>\n",
    "\n",
    "# ${\\bf S}_{\\rm Kerr}$ \\[Back to [top](#toc)\\]\n",
    "$$\\label{skerr}$$\n",
    "\n",
    "From [BB2010](https://arxiv.org/abs/0912.3517) Equations (5.2), (5.63), and (5.67) we have\n",
    "\n",
    "\\begin{equation*}\n",
    "    {\\bf S}_{\\rm Kerr} = {\\bf S}_{1} + {\\bf S}_{2}.\n",
    "\\end{equation*}\n",
    "\n",
    "Taking the square of [BB2010](https://arxiv.org/abs/0912.3517) Equation (4.9) <font color='red'>(be careful with the factor or $M$...)</font>,\n",
    "\n",
    "\\begin{equation*}\n",
    "    a^{2} = \\frac{ {\\bf S}_{Kerr} \\cdot {\\bf S}_{Kerr} }{ M^{2} }.\n",
    "\\end{equation*}"
   ]
  },
  {
   "cell_type": "code",
   "execution_count": 2,
   "metadata": {},
   "outputs": [
    {
     "name": "stdout",
     "output_type": "stream",
     "text": [
      "Appending to SEOBNR/initial_conditions.txt\n"
     ]
    }
   ],
   "source": [
    "%%writefile -a SEOBNR/initial_conditions.txt\n",
    "\n",
    "SKerr1 = S1x + S2x\n",
    "SKerr2 = S1y + S2y\n",
    "SKerr1 = S1z + S2z\n",
    "asq = (SKerr1*SKerr1 + SKerr2*SKerr2 + SKerr3*SKerr3)/(M*M)"
   ]
  },
  {
   "cell_type": "markdown",
   "metadata": {},
   "source": [
    "<a id='w'></a>\n",
    "\n",
    "# $\\varpi$ \\[Back to [top](#toc)\\]\n",
    "$$\\label{w}$$\n",
    "\n",
    "From [BB2010](https://arxiv.org/abs/0912.3517) Equation (4.7)\n",
    "\n",
    "\\begin{equation*}\n",
    "    \\varpi^{2} = r^{2} + a^{2}.\n",
    "\\end{equation*}"
   ]
  },
  {
   "cell_type": "code",
   "execution_count": 3,
   "metadata": {},
   "outputs": [
    {
     "name": "stdout",
     "output_type": "stream",
     "text": [
      "Appending to SEOBNR/initial_conditions.txt\n"
     ]
    }
   ],
   "source": [
    "%%writefile -a SEOBNR/initial_conditions.txt\n",
    "\n",
    "w2 = rsq + asq"
   ]
  },
  {
   "cell_type": "markdown",
   "metadata": {},
   "source": [
    "<a id='Dinv'></a>\n",
    "\n",
    "# $D^{-1}$ \\[Back to [top](#toc)\\]\n",
    "$$\\label{Dinv}$$\n",
    "\n",
    "From [BB2010](https://arxiv.org/abs/0912.3517) Equation (5.82)\n",
    "\n",
    "\\begin{equation*}\n",
    "    D^{-1} = 1 + \\log \\left[ 1 + 6 \\eta u^{2} + 2 \\left( 26 - 3 \\eta \\right) \\eta u^{3} \\right].\n",
    "\\end{equation*}"
   ]
  },
  {
   "cell_type": "code",
   "execution_count": 4,
   "metadata": {},
   "outputs": [
    {
     "name": "stdout",
     "output_type": "stream",
     "text": [
      "Appending to SEOBNR/initial_conditions.txt\n"
     ]
    }
   ],
   "source": [
    "%%writefile -a SEOBNR/initial_conditions.txt\n",
    "\n",
    "Dinv = 1 + sp.log(1 + 6*eta*u*u + 2(26 - 3*eta)*eta*u*u*u)"
   ]
  },
  {
   "cell_type": "markdown",
   "metadata": {},
   "source": [
    "<a id='deltaubar'></a>\n",
    "\n",
    "# $\\bar{\\Delta}_{u}$ \\[Back to [top](#toc)\\]\n",
    "$$\\label{deltaubar}$$\n",
    "\n",
    "From [BB2010](https://arxiv.org/abs/0912.3517) Equation (5.75)\n",
    "\n",
    "\\begin{equation*}\n",
    "    \\bar{\\Delta}_{u} = \\frac{ a^{2} u^{2} }{ M^{2} } + \\frac{ 2 u }{ \\eta K -1 } + \\frac{ 1 }{ \\left( \\eta K - 1 \\right)^{2} }.\n",
    "\\end{equation*}"
   ]
  },
  {
   "cell_type": "code",
   "execution_count": 5,
   "metadata": {},
   "outputs": [
    {
     "name": "stdout",
     "output_type": "stream",
     "text": [
      "Appending to SEOBNR/initial_conditions.txt\n"
     ]
    }
   ],
   "source": [
    "%%writefile -a SEOBNR/initial_conditions.txt\n",
    "\n",
    "Deltaubar = asq*u*u/(M*M) + 2*u/(eta*K - 1) + 1/((eta*K - 1)*(eta*K - 1))"
   ]
  },
  {
   "cell_type": "markdown",
   "metadata": {},
   "source": [
    "<a id='deltau'></a>\n",
    "\n",
    "# $\\Delta_{u}$ \\[Back to [top](#toc)\\]\n",
    "$$\\label{deltau}$$\n",
    "\n",
    "From [BB2010](https://arxiv.org/abs/0912.3517) Equation (5.73)\n",
    "\n",
    "\\begin{equation*}\n",
    "    \\Delta_{u} = \\bar{\\Delta}_{u} \\left[ 1 + \\eta \\Delta_{0} + \\eta \\log \\left( 1 + \\Delta_{1} u + \\Delta_{2} u^{2} + \\Delta_{3} u^{3} + \\Delta_{4} u^{4} \\right) \\right].\n",
    "\\end{equation*}\n",
    "\n",
    "<font color='red'>Note that in LALSpinPrechcapRvecDerivative_v3opt.c line 77 we take an absolute value.</font>"
   ]
  },
  {
   "cell_type": "code",
   "execution_count": 6,
   "metadata": {},
   "outputs": [
    {
     "name": "stdout",
     "output_type": "stream",
     "text": [
      "Appending to SEOBNR/initial_conditions.txt\n"
     ]
    }
   ],
   "source": [
    "%%writefile -a SEOBNR/initial_conditions.txt\n",
    "\n",
    "Deltau = Deltaubar*(1 + eta*Delta0 + eta*sp.log(1 + Delta1*u + Delta2*u*u\n",
    "                                                + Delta3*u*u*u + Delta4*u*u*u*u))"
   ]
  },
  {
   "cell_type": "markdown",
   "metadata": {},
   "source": [
    "<a id='deltat'></a>\n",
    "\n",
    "# $\\Delta_{t}$ \\[Back to [top](#toc)\\]\n",
    "$$\\label{deltat}$$\n",
    "\n",
    "From [BB2010](https://arxiv.org/abs/0912.3517) Equation (5.71)\n",
    "\n",
    "\\begin{equation*}\n",
    "    \\Delta_{t} = r^{2} \\Delta_{u}.\n",
    "\\end{equation*}"
   ]
  },
  {
   "cell_type": "code",
   "execution_count": 7,
   "metadata": {},
   "outputs": [
    {
     "name": "stdout",
     "output_type": "stream",
     "text": [
      "Appending to SEOBNR/initial_conditions.txt\n"
     ]
    }
   ],
   "source": [
    "%%writefile -a SEOBNR/initial_conditions.txt\n",
    "\n",
    "Deltat = r*r*Deltau"
   ]
  },
  {
   "cell_type": "markdown",
   "metadata": {},
   "source": [
    "<a id='deltar'></a>\n",
    "\n",
    "# $\\Delta_{r}$ \\[Back to [top](#toc)\\]\n",
    "$$\\label{deltar}$$\n",
    "\n",
    "From [BB2010](https://arxiv.org/abs/0912.3517) Equation (5.38)\n",
    "\n",
    "\\begin{equation*}\n",
    "    \\Delta_{r} = \\Delta_{t} D^{-1}.\n",
    "\\end{equation*}"
   ]
  },
  {
   "cell_type": "code",
   "execution_count": 8,
   "metadata": {},
   "outputs": [
    {
     "name": "stdout",
     "output_type": "stream",
     "text": [
      "Appending to SEOBNR/initial_conditions.txt\n"
     ]
    }
   ],
   "source": [
    "%%writefile -a SEOBNR/initial_conditions.txt\n",
    "\n",
    "Deltar = Deltat*Dinv"
   ]
  },
  {
   "cell_type": "markdown",
   "metadata": {},
   "source": [
    "<a id='xi'></a>\n",
    "\n",
    "# $\\xi$ \\[Back to [top](#toc)\\]\n",
    "$$\\label{xi}$$\n",
    "\n",
    "Inverting [Pan, Buonanno, Buchman, et. al. (2010)](https://arxiv.org/abs/0912.3466v2) Equation (28),\n",
    "\n",
    "\\begin{equation*}\n",
    "    \\xi = \\frac{ \\sqrt{ \\Delta_{t} \\Delta_{r} } }{ \\varpi^{2} }.\n",
    "\\end{equation*}"
   ]
  },
  {
   "cell_type": "code",
   "execution_count": 9,
   "metadata": {},
   "outputs": [
    {
     "name": "stdout",
     "output_type": "stream",
     "text": [
      "Appending to SEOBNR/initial_conditions.txt\n"
     ]
    }
   ],
   "source": [
    "%%writefile -a SEOBNR/initial_conditions.txt\n",
    "\n",
    "xi = sp.sqrt(Deltat*Deltar)/w2"
   ]
  },
  {
   "cell_type": "markdown",
   "metadata": {},
   "source": [
    "<a id='k'></a>\n",
    "\n",
    "# $K$ \\[Back to [top](#toc)\\]\n",
    "$$\\label{k}$$\n",
    "\n",
    "Following the discussion in the two paragrahs after [BB2010](https://arxiv.org/abs/0912.3517) Equation (6.11), we have\n",
    "\n",
    "\\begin{equation*}\n",
    "    K = 1.4467 \\left( 1 - 4 \\eta \\right)^{2} + 4 \\left( 1 - 2 \\eta \\right) \\eta.\n",
    "\\end{equation*}"
   ]
  },
  {
   "cell_type": "code",
   "execution_count": 10,
   "metadata": {},
   "outputs": [
    {
     "name": "stdout",
     "output_type": "stream",
     "text": [
      "Appending to SEOBNR/initial_conditions.txt\n"
     ]
    }
   ],
   "source": [
    "%%writefile -a SEOBNR/initial_conditions.txt\n",
    "\n",
    "K = 1.4467*(1 - 4*eta)*(1 - 4*eta) + 4*(1 - 2*eta)*eta"
   ]
  },
  {
   "cell_type": "markdown",
   "metadata": {},
   "source": [
    "<a id='calibcoeffs'></a>\n",
    "\n",
    "# Calibration Coefficients $\\Delta_{i}$, $i \\in \\left\\{0, 1, 2, 3, 4\\right\\}$ \\[Back to [top](#toc)\\]\n",
    "$$\\label{calibcoeffs}$$\n",
    "\n",
    "From [BB2010](https://arxiv.org/abs/0912.3517) Equations (5.77)--(5.81), we have\n",
    "\n",
    "\\begin{align*}\n",
    "    \\Delta_{0} &= K \\left( \\eta K - 2 \\right) \\\\\n",
    "    \\Delta_{1} &= -2 \\left( \\eta K - 1 \\right) \\left( K + \\Delta_{0} \\right) \\\\\n",
    "    \\Delta_{2} &= \\frac{1}{2} \\Delta_{1} \\left( -4 \\eta K + \\Delta_{1} + 4 \\right) - \\frac{ a^{2} }{ M^{2} } \\left( \\eta K - 1 \\right)^{2} \\Delta_{0}\\\\\n",
    "    \\Delta_{3} &= \\frac{1}{3} \\left[ -\\Delta_{1}^{3} + 3 \\left( \\eta K - 1 \\right) \\Delta_{1}^{2} + 3 \\Delta_{2} \\Delta_{1} - 6 \\left( \\eta K - 1 \\right) \\left( -\\eta K + \\Delta_{2} + 1 \\right) - 3 \\frac{ a^{2} }{ M^{2} } \\left( \\eta K - 1 \\right)^{2} \\Delta_{1} \\right] \\\\\n",
    "    \\Delta_{4} &= \\frac{1}{12} \\left\\{ 6 \\frac{ a^{2} }{ M^{2} } \\left( \\Delta_{1}^{2} - 2 \\Delta_{2} \\right) \\left( \\eta K - 1 \\right)^{2} + 3 \\Delta_{1}^{4} - 8 \\left( \\eta K - 1 \\right) \\Delta_{1}^{3} - 12 \\Delta_{2} \\Delta_{1}^{2} + 12 \\left[ 2 \\left( \\eta K - 1 \\right) \\Delta_{2} + \\Delta_{3} \\right] \\Delta_{1} \\right.\\\\\n",
    "        &\\left.\\ \\ \\ \\ \\ + 12 \\left( \\frac{94}{3} - \\frac{41}{32} \\pi^{2} \\right) \\left( \\eta K - 1 \\right)^{2} + 6 \\left[ \\Delta_{2}^{2} - 4 \\Delta_{3} \\left( \\eta K - 1 \\right) \\right] \\right\\}\n",
    "\\end{align*}"
   ]
  },
  {
   "cell_type": "code",
   "execution_count": 11,
   "metadata": {},
   "outputs": [
    {
     "name": "stdout",
     "output_type": "stream",
     "text": [
      "Appending to SEOBNR/initial_conditions.txt\n"
     ]
    }
   ],
   "source": [
    "%%writefile -a SEOBNR/initial_conditions.txt\n",
    "\n",
    "Delta0 = K*(eta*K - 2)\n",
    "Delta1 = -2*etaKminus1*(K + Delta0)\n",
    "Delta2 = sp.Rational(1,2)*Delta1*(-4*eta*K + Delta1 + 4) - a2M2inv*etaKminus1*etaKminus1*Delta0\n",
    "Delta3 = sp.Rational(1,3)*(-Delta1***3 + 3*etaKminus1*Delta1**2 + 3*Delta2*Delta1 - 6*etaKminus1*(-eta*K + Delta2 + 1)\n",
    "                           - 3*a2M2inv*etaKminus1**2*Delta1))\n",
    "Delta4 = sp.Rational(1,12)*(6*a2M2inv*(Delta1**2 - 2*Delta2)*etaKminus1**2 + 3*Delta1**4 - 8*etaKminus1*Delta1**3\n",
    "                           -12*Delta2*Delta1**2 + 12*(2*etaKminus1*Delta2 + Delta3)*Delta1\n",
    "                           + 12*(sp.Rational(94,3) - sp.Rational(41,32)*pi**2)*etaKminus1**2\n",
    "                           + 6*(Delta2**2 - 4*Delta3*etaKminus1))"
   ]
  },
  {
   "cell_type": "markdown",
   "metadata": {},
   "source": [
    "<a id='latex_pdf_output'></a>\n",
    "\n",
    "# Output: Output this module to $\\LaTeX$-formatted PDF file \\[Back to [top](#toc)\\]\n",
    "$$\\label{latex_pdf_output}$$"
   ]
  },
  {
   "cell_type": "code",
   "execution_count": 12,
   "metadata": {},
   "outputs": [
    {
     "name": "stdout",
     "output_type": "stream",
     "text": [
      "[NbConvertApp] Converting notebook Tutorial-SEOBNR_Initial_Conditions.ipynb to latex\n",
      "[NbConvertApp] Writing 37308 bytes to Tutorial-SEOBNR_Initial_Conditions.tex\n",
      "This is pdfTeX, Version 3.14159265-2.6-1.40.18 (TeX Live 2017/Debian) (preloaded format=pdflatex)\n",
      " restricted \\write18 enabled.\n",
      "entering extended mode\n",
      "This is pdfTeX, Version 3.14159265-2.6-1.40.18 (TeX Live 2017/Debian) (preloaded format=pdflatex)\n",
      " restricted \\write18 enabled.\n",
      "entering extended mode\n",
      "This is pdfTeX, Version 3.14159265-2.6-1.40.18 (TeX Live 2017/Debian) (preloaded format=pdflatex)\n",
      " restricted \\write18 enabled.\n",
      "entering extended mode\n"
     ]
    }
   ],
   "source": [
    "!jupyter nbconvert --to latex --template latex_nrpy_style.tplx Tutorial-SEOBNR_Initial_Conditions.ipynb\n",
    "!pdflatex -interaction=batchmode Tutorial-SEOBNR_Initial_Conditions.tex\n",
    "!pdflatex -interaction=batchmode Tutorial-SEOBNR_Initial_Conditions.tex\n",
    "!pdflatex -interaction=batchmode Tutorial-SEOBNR_Initial_Conditions.tex\n",
    "!rm -f Tut*.out Tut*.aux Tut*.log"
   ]
  }
 ],
 "metadata": {
  "kernelspec": {
   "display_name": "Python 2",
   "language": "python",
   "name": "python2"
  },
  "language_info": {
   "codemirror_mode": {
    "name": "ipython",
    "version": 2
   },
   "file_extension": ".py",
   "mimetype": "text/x-python",
   "name": "python",
   "nbconvert_exporter": "python",
   "pygments_lexer": "ipython2",
   "version": "2.7.13"
  }
 },
 "nbformat": 4,
 "nbformat_minor": 2
}
