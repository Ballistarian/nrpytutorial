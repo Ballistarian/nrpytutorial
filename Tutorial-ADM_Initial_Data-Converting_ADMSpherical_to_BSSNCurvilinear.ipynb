{
 "cells": [
  {
   "cell_type": "markdown",
   "metadata": {},
   "source": [
    "# Converting Spherical ADM Initial Data to BSSN Curvilinear Initial Data\n",
    "\n",
    "### NRPy+ Source Code for this module: [BSSN/ADMSpherical_to_BSSNCurvilinearID.py](../edit/BSSN/ADMSpherical_to_BSSNCurvilinearID.py)\n",
    "\n",
    "Here we use NRPy+ to first convert the ADM variables\n",
    "\n",
    "$$\\left\\{\\gamma_{ij}, K_{ij}, \\alpha, \\beta^i\\right\\}$$\n",
    "\n",
    "to the BSSN variables\n",
    "\n",
    "$$\\left\\{\\bar{\\gamma}_{i j},\\bar{A}_{i j},\\phi, K, \\bar{\\Lambda}^{i}, \\alpha, \\beta^i, B^i\\right\\},$$ \n",
    "\n",
    "and the BSSN variables to the rescaled BSSNCurvilinear variables (as defined in [the BSSN Curvilinear tutorial](Tutorial-BSSNCurvilinear.ipynb)):\n",
    "\n",
    "$$\\left\\{h_{i j},a_{i j},\\phi, K, \\lambda^{i}, \\alpha, \\mathcal{V}^i, \\mathcal{B}^i\\right\\}.$$ "
   ]
  },
  {
   "cell_type": "markdown",
   "metadata": {},
   "source": [
    "First we have (Eqs. 2 and 3 of [Ruchlin *et al.*](https://arxiv.org/pdf/1712.07658.pdf)):\n",
    "$$\n",
    "\\bar{\\gamma}_{i j} = \\left(\\frac{\\bar{\\gamma}}{\\gamma}\\right)^{1/3} \\gamma_{ij}.\n",
    "$$\n",
    "\n",
    "We choose $\\bar{\\gamma}=\\hat{\\gamma}$, which in spherical coordinates implies $\\bar{\\gamma}=\\hat{\\gamma}=r^4 \\sin^2\\theta$. Instead of manually setting the determinant, we instead call rfm.reference_metric(), which automatically sets up the metric based on the chosen reference_metric::CoordSystem parameter."
   ]
  },
  {
   "cell_type": "code",
   "execution_count": 1,
   "metadata": {},
   "outputs": [
    {
     "name": "stdout",
     "output_type": "stream",
     "text": [
      "(M**2*chi**2*cos(th)**2 + r**2*(1 + (M + sqrt(-M**2*chi**2 + M**2))/(4*r))**4)*(M/4 + r + sqrt(-M**2*chi**2 + M**2)/4)**2/(r**3*(-M + r*(1 + (M + sqrt(-M**2*chi**2 + M**2))/(4*r))**2 + sqrt(-M**2*chi**2 + M**2)))\n",
      "(M**2*chi**2*cos(xx1)**2 + xx0**2*(1 + (M + sqrt(-M**2*chi**2 + M**2))/(4*xx0))**4)*(M/4 + xx0 + sqrt(-M**2*chi**2 + M**2)/4)**2/(xx0**3*(-M + xx0*(1 + (M + sqrt(-M**2*chi**2 + M**2))/(4*xx0))**2 + sqrt(-M**2*chi**2 + M**2)))\n",
      "initialize_param() minor warning: Did nothing; already initialized parameter reference_metric::M_PI\n",
      "initialize_param() minor warning: Did nothing; already initialized parameter reference_metric::RMAX\n",
      "initialize_param() minor warning: Did nothing; already initialized parameter reference_metric::M_PI\n",
      "initialize_param() minor warning: Did nothing; already initialized parameter reference_metric::RMAX\n"
     ]
    }
   ],
   "source": [
    "# Step P1: Import needed modules\n",
    "import sympy as sp\n",
    "import NRPy_param_funcs as par\n",
    "from outputC import *\n",
    "import indexedexp as ixp\n",
    "import reference_metric as rfm\n",
    "import BSSN.UIUCBlackHole as uibh\n",
    "import BSSN.BSSN_RHSs as bssnrhs # The ConformalFactor parameter is used below\n",
    "\n",
    "# Temporarily set the source reference metric to Spherical, so \n",
    "#     we can use some of the CoordSystem==Spherical reference_metric \n",
    "#     functionality.\n",
    "# First backup the desired destination coordinate system for\n",
    "#     BSSNCurvilinear output:\n",
    "CoordSystem_dest = par.parval_from_str(\"reference_metric::CoordSystem\")\n",
    "\n",
    "par.set_parval_from_str(\"reference_metric::CoordSystem\",\"Spherical\")\n",
    "rfm.reference_metric()\n",
    "\n",
    "# Import UIUC Black Hole initial data\n",
    "uibh.UIUCBlackHole()\n",
    "Sph_r_th_ph = [uibh.r,uibh.th,uibh.ph]\n",
    "gammaSphDD  = uibh.gammaSphDD\n",
    "KSphDD      = uibh.KSphDD\n",
    "alphaSph    = uibh.alphaSph\n",
    "betaSphU    = uibh.betaSphU\n",
    "BSphU       = uibh.BSphU\n",
    "\n",
    "# The ADM & BSSN formalisms only work in 3D; they are 3+1 decompositions of Einstein's equations.\n",
    "#    To implement axisymmetry or spherical symmetry, simply set all spatial derivatives in\n",
    "#    the relevant angular directions to zero; DO NOT SET DIM TO ANYTHING BUT 3.\n",
    "# Step 0: Set spatial dimension (must be 3 for BSSN)\n",
    "DIM = 3\n",
    "\n",
    "# Step 1: Convert ADM $\\gamma_{ij}$ to BSSN $\\bar{\\gamma}_{ij}$\n",
    "gammaSphUU, gammaSphDET = ixp.symm_matrix_inverter3x3(gammaSphDD)\n",
    "gammaSphbarDD = ixp.zerorank2()\n",
    "for i in range(DIM):\n",
    "    for j in range(DIM):\n",
    "        gammaSphbarDD[i][j] = (rfm.detgammahat/gammaSphDET)**(sp.Rational(1,3))*gammaSphDD[i][j]"
   ]
  },
  {
   "cell_type": "markdown",
   "metadata": {},
   "source": [
    "Second, we convert the extrinsic curvature $K_{ij}$ to the trace-free extrinsic curvature $\\bar{A}_{ij}$, plus the trace of the extrinsic curvature $K$, where (Eq. 3 of [Baumgarte *et al.*](https://arxiv.org/pdf/1211.6632.pdf)):\n",
    "\n",
    "\\begin{align}\n",
    "K &= \\gamma^{ij} K_{ij} \\\\\n",
    "\\bar{A}_{ij} &= \\left(\\frac{\\bar{\\gamma}}{\\gamma}\\right)^{1/3} \\left(K_{ij} - \\frac{1}{3} \\gamma_{ij} K \\right)\n",
    "\\end{align}"
   ]
  },
  {
   "cell_type": "code",
   "execution_count": 2,
   "metadata": {},
   "outputs": [],
   "source": [
    "# Step 2: Convert ADM $K_{ij}$ to $\\bar{A}_{ij}$ and $K$, \n",
    "#          where (Eq. 3 of Baumgarte et al.: https://arxiv.org/pdf/1211.6632.pdf)\n",
    "trKSph = sp.sympify(0)\n",
    "for i in range(DIM):\n",
    "    for j in range(DIM):\n",
    "        trKSph += gammaSphUU[i][j]*KSphDD[i][j]\n",
    "\n",
    "ASphbarDD = ixp.zerorank2()\n",
    "for i in range(DIM):\n",
    "    for j in range(DIM):\n",
    "        ASphbarDD[i][j] = (rfm.detgammahat/gammaSphDET)**(sp.Rational(1,3))*\\\n",
    "          (KSphDD[i][j] - sp.Rational(1,3)*gammaSphDD[i][j]*trKSph)"
   ]
  },
  {
   "cell_type": "markdown",
   "metadata": {},
   "source": [
    "Third, we define $\\bar{\\Lambda}^i$ (Eqs. 4 and 5 of [Baumgarte *et al.*](https://arxiv.org/pdf/1211.6632.pdf)):\n",
    "\n",
    "$$\n",
    "\\bar{\\Lambda}^i = \\bar{\\gamma}^{jk}\\left(\\bar{\\Gamma}^i_{jk} - \\hat{\\Gamma}^i_{jk}\\right).\n",
    "$$"
   ]
  },
  {
   "cell_type": "code",
   "execution_count": 3,
   "metadata": {
    "scrolled": true
   },
   "outputs": [],
   "source": [
    "# Step 3: Define $\\bar{\\Lambda}^i$ from Eqs. 4 and 5 of Baumgarte et al.: https://arxiv.org/pdf/1211.6632.pdf\n",
    "LambdaSphbarU = ixp.zerorank1()\n",
    "# Need to compute \\bar{\\gamma}^{ij} from \\bar{\\gamma}_{ij}:\n",
    "gammaSphbarUU, gammaSphbarDET = ixp.symm_matrix_inverter3x3(gammaSphbarDD)\n",
    "\n",
    "GammabarUDD = ixp.zerorank3()\n",
    "for i in range(DIM):\n",
    "    for j in range(DIM):\n",
    "        for k in range(DIM):\n",
    "            for l in range(DIM):\n",
    "                GammabarUDD[i][j][k] += \\\n",
    "                    sp.Rational(1,2)*gammaSphbarUU[i][l]*( sp.diff(gammaSphbarUU[l][j],Sph_r_th_ph[k]) + \n",
    "                                                           sp.diff(gammaSphbarUU[l][k],Sph_r_th_ph[j]) -\n",
    "                                                           sp.diff(gammaSphbarUU[j][k],Sph_r_th_ph[l]) )\n",
    "\n",
    "for i in range(DIM):\n",
    "    for j in range(DIM):\n",
    "        for k in range(DIM):\n",
    "                LambdaSphbarU[i] += gammaSphbarUU[j][k]* (GammabarUDD[i][j][k] - rfm.GammahatUDD[i][j][k])"
   ]
  },
  {
   "cell_type": "markdown",
   "metadata": {},
   "source": [
    "All BSSN tensors and vectors are in Spherical coordinates $x^i_{\\rm Sph} = (r,\\theta,\\phi)$, but we need them in the curvilinear coordinate system $x^i_{\\rm rfm}= ({\\rm xx0},{\\rm xx1},{\\rm xx2})$ set by the \"reference_metric::CoordSystem\" variable. Empirically speaking, it is far easier to write $(x({\\rm xx0},{\\rm xx1},{\\rm xx2}),y({\\rm xx0},{\\rm xx1},{\\rm xx2}),z({\\rm xx0},{\\rm xx1},{\\rm xx2}))$ than the inverse, so we will compute the Jacobian matrix\n",
    "\n",
    "$$\n",
    "{\\rm Jac\\_dUSph\\_dDrfmUD[i][j]} = \\frac{\\partial x^i_{\\rm Sph}}{\\partial x^j_{\\rm rfm}},\n",
    "$$\n",
    "\n",
    "via exact differentiation (courtesy SymPy), and the inverse Jacobian\n",
    "$$\n",
    "{\\rm Jac\\_dUrfm\\_dDSphUD[i][j]} = \\frac{\\partial x^i_{\\rm rfm}}{\\partial x^j_{\\rm Sph}},\n",
    "$$\n",
    "\n",
    "using NRPy+'s ${\\rm generic\\_matrix\\_inverter3x3()}$ function. In terms of these, the transformation of BSSN tensors from Spherical to \"reference_metric::CoordSystem\" coordinates may be written:\n",
    "\n",
    "\\begin{align}\n",
    "\\bar{\\gamma}^{\\rm rfm}_{ij} &= \n",
    "\\frac{\\partial x^\\ell_{\\rm Sph}}{\\partial x^i_{\\rm rfm}}\n",
    "\\frac{\\partial x^m_{\\rm Sph}}{\\partial x^j_{\\rm rfm}} \\bar{\\gamma}^{\\rm Sph}_{\\ell m}\\\\\n",
    "\\bar{A}^{\\rm rfm}_{ij} &= \n",
    "\\frac{\\partial x^\\ell_{\\rm Sph}}{\\partial x^i_{\\rm rfm}}\n",
    "\\frac{\\partial x^m_{\\rm Sph}}{\\partial x^j_{\\rm rfm}} \\bar{A}^{\\rm Sph}_{\\ell m}\\\\\n",
    "\\bar{\\Lambda}^i_{\\rm rfm} &= \\frac{\\partial x^i_{\\rm rfm}}{\\partial x^\\ell_{\\rm Sph}} \\bar{\\Lambda}^\\ell_{\\rm Sph} \\\\\n",
    "\\beta^i_{\\rm rfm} &= \\frac{\\partial x^i_{\\rm rfm}}{\\partial x^\\ell_{\\rm Sph}} \\beta^\\ell_{\\rm Sph}\n",
    "\\end{align}"
   ]
  },
  {
   "cell_type": "code",
   "execution_count": 4,
   "metadata": {},
   "outputs": [
    {
     "name": "stdout",
     "output_type": "stream",
     "text": [
      "initialize_param() minor warning: Did nothing; already initialized parameter reference_metric::M_PI\n",
      "initialize_param() minor warning: Did nothing; already initialized parameter reference_metric::RMAX\n"
     ]
    }
   ],
   "source": [
    "# Step 4: Convert BSSN tensors to destination basis specified by CoordSystem_dest variable above.\n",
    "\n",
    "# Step 4.1: First restore reference_metric::CoordSystem to \n",
    "#           CoordSystem_dest, and call rfm.reference_metric(),\n",
    "#           so that all hatted quantities are updated to\n",
    "#           CoordSystem_dest.\n",
    "par.set_parval_from_str(\"reference_metric::CoordSystem\",CoordSystem_dest)\n",
    "rfm.reference_metric()\n",
    "\n",
    "# trK and alpha are scalars, so no Jacobian transformations are necessary.\n",
    "trK   = trKSph\n",
    "alpha = alphaSph\n",
    "\n",
    "Jac_dUSph_dDrfmUD = ixp.zerorank2()\n",
    "for i in range(DIM):\n",
    "    for j in range(DIM):\n",
    "        Jac_dUSph_dDrfmUD[i][j] = sp.diff(rfm.xxSph[i],rfm.xx[j])\n",
    "\n",
    "Jac_dUrfm_dDSphUD, dummyDET = ixp.generic_matrix_inverter3x3(Jac_dUSph_dDrfmUD)\n",
    "\n",
    "gammaDD    = ixp.zerorank2()\n",
    "gammabarDD = ixp.zerorank2()\n",
    "AbarDD     = ixp.zerorank2()\n",
    "LambdabarU = ixp.zerorank1()\n",
    "betaU      = ixp.zerorank1()\n",
    "BU         = ixp.zerorank1()\n",
    "for i in range(DIM):\n",
    "    for j in range(DIM):\n",
    "        LambdabarU[i] += Jac_dUrfm_dDSphUD[i][j]*LambdaSphbarU[j]\n",
    "        betaU[i]      += Jac_dUrfm_dDSphUD[i][j]*betaSphU[j]\n",
    "        BU[i]         += Jac_dUrfm_dDSphUD[i][j]*BSphU[j]\n",
    "        for k in range(DIM):\n",
    "            for l in range(DIM):\n",
    "                gammaDD[i][j]    += Jac_dUSph_dDrfmUD[k][i]*Jac_dUSph_dDrfmUD[l][j]*   gammaSphDD[k][l]\n",
    "                gammabarDD[i][j] += Jac_dUSph_dDrfmUD[k][i]*Jac_dUSph_dDrfmUD[l][j]*gammaSphbarDD[k][l]\n",
    "                AbarDD[i][j]     += Jac_dUSph_dDrfmUD[k][i]*Jac_dUSph_dDrfmUD[l][j]*    ASphbarDD[k][l]"
   ]
  },
  {
   "cell_type": "markdown",
   "metadata": {},
   "source": [
    "Next we set the conformal factor variable $\\texttt{cf}$, which is set by the \"BSSN_RHSs::ConformalFactor\" parameter. For example if \"ConformalFactor\" is set to \"phi\", we can use Eq. 3 of [Ruchlin *et al.*](https://arxiv.org/pdf/1712.07658.pdf), which in arbitrary coordinates is written:\n",
    "\n",
    "$$\n",
    "\\phi = \\frac{1}{12} \\log\\left(\\frac{\\gamma}{\\bar{\\gamma}}\\right).\n",
    "$$\n",
    "\n",
    "Alternatively if \"BSSN_RHSs::ConformalFactor\" is set to \"chi\", then\n",
    "$$\n",
    "\\chi = e^{-4 \\phi} = \\exp\\left(-4 \\frac{1}{12} \\left(\\frac{\\gamma}{\\bar{\\gamma}}\\right)\\right) \n",
    "= \\exp\\left(-\\frac{1}{3} \\log\\left(\\frac{\\gamma}{\\bar{\\gamma}}\\right)\\right) = \\left(\\frac{\\gamma}{\\bar{\\gamma}}\\right)^{-1/3}.\n",
    "$$\n",
    "\n",
    "Finally if \"BSSN_RHSs::ConformalFactor\" is set to \"W\", then\n",
    "$$\n",
    "W = e^{-2 \\phi} = \\exp\\left(-2 \\frac{1}{12} \\log\\left(\\frac{\\gamma}{\\bar{\\gamma}}\\right)\\right) = \n",
    "\\exp\\left(-\\frac{1}{6} \\log\\left(\\frac{\\gamma}{\\bar{\\gamma}}\\right)\\right) = \n",
    "\\left(\\frac{\\gamma}{\\bar{\\gamma}}\\right)^{-1/6}.\n",
    "$$"
   ]
  },
  {
   "cell_type": "code",
   "execution_count": 5,
   "metadata": {},
   "outputs": [],
   "source": [
    "# Step 5: Set the conformal factor variable according to the parameter BSSN_RHSs::ConformalFactor\n",
    "cf = sp.sympify(0)\n",
    "\n",
    "gammaUU, gammaDET = ixp.symm_matrix_inverter3x3(gammaDD)\n",
    "gammabarUU, gammabarDET = ixp.symm_matrix_inverter3x3(gammabarDD)\n",
    "\n",
    "if par.parval_from_str(\"ConformalFactor\") == \"phi\":\n",
    "    cf = sp.Rational(1,12)*sp.log(gammaDET/gammabarDET)\n",
    "elif par.parval_from_str(\"ConformalFactor\") == \"chi\":\n",
    "    cf = (gammaDET/gammabarDET)**(-sp.Rational(1,3))\n",
    "elif par.parval_from_str(\"ConformalFactor\") == \"W\":\n",
    "    cf = (gammaDET/gammabarDET)**(-sp.Rational(1,6))\n",
    "else:\n",
    "    print(\"Error ConformalFactor type = \\\"\"+par.parval_from_str(\"ConformalFactor\")+\"\\\" unknown.\")\n",
    "    exit(1)"
   ]
  },
  {
   "cell_type": "markdown",
   "metadata": {},
   "source": [
    "Finally, we rescale tensorial quantities according to the prescription described in the [BSSN in curvilinear coordinates tutorial module](Tutorial-BSSNCurvilinear.ipynb) (also [Ruchlin *et al.*](https://arxiv.org/pdf/1712.07658.pdf)):\n",
    "\n",
    "\\begin{align}\n",
    "h_{ij} &= (\\bar{\\gamma}_{ij} - \\hat{\\gamma}_{ij})/\\text{ReDD[i][j]}\\\\\n",
    "a_{ij} &= \\bar{A}_{ij}/\\text{ReDD[i][j]}\\\\\n",
    "\\lambda^i &= \\bar{\\Lambda}^i/\\text{ReU[i]}\\\\\n",
    "\\mathcal{V}^i &= \\beta^i/\\text{ReU[i]}\\\\\n",
    "\\mathcal{B}^i &= B^i/\\text{ReU[i]}\\\\\n",
    "\\end{align}"
   ]
  },
  {
   "cell_type": "code",
   "execution_count": 6,
   "metadata": {},
   "outputs": [],
   "source": [
    "# Step 6: Rescale all tensorial quantities.\n",
    "\n",
    "if rfm.have_already_called_reference_metric_function == False:\n",
    "    print(\"Error. Called Convert_Spherical_ADM_to_BSSN_curvilinear() without\")\n",
    "    print(\"       first setting up reference metric, by calling rfm.reference_metric().\")\n",
    "    exit(1)\n",
    "\n",
    "hDD     = ixp.zerorank2()\n",
    "aDD     = ixp.zerorank2()\n",
    "lambdaU = ixp.zerorank1()\n",
    "vetU    = ixp.zerorank1()\n",
    "betU    = ixp.zerorank1()\n",
    "for i in range(DIM):\n",
    "    lambdaU[i] = LambdabarU[i] / rfm.ReU[i]\n",
    "    vetU[i]    =      betaU[i] / rfm.ReU[i]\n",
    "    betU[i]    =         BU[i] / rfm.ReU[i]\n",
    "    for j in range(DIM):\n",
    "        hDD[i][j] = (gammabarDD[i][j] - rfm.ghatDD[i][j]) / rfm.ReDD[i][j]\n",
    "        aDD[i][j] =                          AbarDD[i][j] / rfm.ReDD[i][j]\n",
    "#print(sp.mathematica_code(hDD[0][0]))"
   ]
  },
  {
   "cell_type": "markdown",
   "metadata": {},
   "source": [
    "### Code Validation: Confirm that the output from this tutorial module agrees with the module [BSSN.ADMSpherical_to_BSSNCurvilinearID](../edit/BSSN/ADMSpherical_to_BSSNCurvilinearID.py)\n",
    "\n",
    "Here, as a code validation check, we verify agreement in the SymPy expressions for BrillLindquist initial data between\n",
    "1. this tutorial and \n",
    "2. the NRPy+ [BSSN.ADMSpherical_to_BSSNCurvilinearID](../edit/BSSN/ADMSpherical_to_BSSNCurvilinearID.py) module.\n",
    "\n",
    "By default, we analyze these expressions in Spherical coordinates, though other coordinate systems may be chosen."
   ]
  },
  {
   "cell_type": "code",
   "execution_count": 7,
   "metadata": {},
   "outputs": [
    {
     "name": "stdout",
     "output_type": "stream",
     "text": [
      "initialize_param() minor warning: Did nothing; already initialized parameter UIUCBlackHole::M\n",
      "initialize_param() minor warning: Did nothing; already initialized parameter UIUCBlackHole::chi\n",
      "(M**2*chi**2*cos(th)**2 + r**2*(1 + (M + sqrt(-M**2*chi**2 + M**2))/(4*r))**4)*(M/4 + r + sqrt(-M**2*chi**2 + M**2)/4)**2/(r**3*(-M + r*(1 + (M + sqrt(-M**2*chi**2 + M**2))/(4*r))**2 + sqrt(-M**2*chi**2 + M**2)))\n",
      "(M**2*chi**2*cos(xx1)**2 + xx0**2*(1 + (M + sqrt(-M**2*chi**2 + M**2))/(4*xx0))**4)*(M/4 + xx0 + sqrt(-M**2*chi**2 + M**2)/4)**2/(xx0**3*(-M + xx0*(1 + (M + sqrt(-M**2*chi**2 + M**2))/(4*xx0))**2 + sqrt(-M**2*chi**2 + M**2)))\n",
      "initialize_param() minor warning: Did nothing; already initialized parameter reference_metric::M_PI\n",
      "initialize_param() minor warning: Did nothing; already initialized parameter reference_metric::RMAX\n",
      "initialize_param() minor warning: Did nothing; already initialized parameter reference_metric::M_PI\n",
      "initialize_param() minor warning: Did nothing; already initialized parameter reference_metric::RMAX\n",
      "(M**2*chi**2*cos(xx1)**2 + xx0**2*(1 + (M + sqrt(-M**2*chi**2 + M**2))/(4*xx0))**4)*(M/4 + xx0 + sqrt(-M**2*chi**2 + M**2)/4)**2/(xx0**3*(-M + xx0*(1 + (M + sqrt(-M**2*chi**2 + M**2))/(4*xx0))**2 + sqrt(-M**2*chi**2 + M**2)))\n",
      "(M**2*chi**2*cos(xx1)**2 + xx0**2*(1 + (M + sqrt(-M**2*chi**2 + M**2))/(4*xx0))**4)*(M/4 + xx0 + sqrt(-M**2*chi**2 + M**2)/4)**2/(xx0**3*(-M + xx0*(1 + (M + sqrt(-M**2*chi**2 + M**2))/(4*xx0))**2 + sqrt(-M**2*chi**2 + M**2)))\n",
      "initialize_param() minor warning: Did nothing; already initialized parameter reference_metric::M_PI\n",
      "initialize_param() minor warning: Did nothing; already initialized parameter reference_metric::RMAX\n",
      "initialize_param() minor warning: Did nothing; already initialized parameter reference_metric::M_PI\n",
      "initialize_param() minor warning: Did nothing; already initialized parameter reference_metric::RMAX\n",
      "Consistency check between ADMSpherical_to_BSSNCurvlinearID tutorial and NRPy+ module: ALL SHOULD BE ZERO.\n",
      "cf - mod_cf = 0\n",
      "trK - mod_trK = 0\n",
      "alpha - mod_alpha = 0\n",
      "vetU[0] - mod_vetU[0] = 0\n",
      "betU[0] - mod_betU[0] = 0\n",
      "lambdaU[0] - mod_lambdaU[0] = 0\n",
      "hDD[0][0] - mod_hDD[0][0] = 0\n",
      "aDD[0][0] - mod_aDD[0][0] = 0\n",
      "hDD[0][1] - mod_hDD[0][1] = 0\n",
      "aDD[0][1] - mod_aDD[0][1] = 0\n",
      "hDD[0][2] - mod_hDD[0][2] = 0\n",
      "aDD[0][2] - mod_aDD[0][2] = 0\n",
      "vetU[1] - mod_vetU[1] = 0\n",
      "betU[1] - mod_betU[1] = 0\n",
      "lambdaU[1] - mod_lambdaU[1] = 0\n",
      "hDD[1][0] - mod_hDD[1][0] = 0\n",
      "aDD[1][0] - mod_aDD[1][0] = 0\n",
      "hDD[1][1] - mod_hDD[1][1] = 0\n",
      "aDD[1][1] - mod_aDD[1][1] = 0\n",
      "hDD[1][2] - mod_hDD[1][2] = 0\n",
      "aDD[1][2] - mod_aDD[1][2] = 0\n",
      "vetU[2] - mod_vetU[2] = 0\n",
      "betU[2] - mod_betU[2] = 0\n",
      "lambdaU[2] - mod_lambdaU[2] = 0\n",
      "hDD[2][0] - mod_hDD[2][0] = 0\n",
      "aDD[2][0] - mod_aDD[2][0] = 0\n",
      "hDD[2][1] - mod_hDD[2][1] = 0\n",
      "aDD[2][1] - mod_aDD[2][1] = 0\n",
      "hDD[2][2] - mod_hDD[2][2] = 0\n",
      "aDD[2][2] - mod_aDD[2][2] = 0\n"
     ]
    }
   ],
   "source": [
    "import BSSN.UIUCBlackHole as uibh\n",
    "import BSSN.ADMSpherical_to_BSSNCurvilinearID as ctob\n",
    "uibh.UIUCBlackHole()\n",
    "mod_cf,mod_hDD,mod_lambdaU,mod_aDD,mod_trK,mod_alpha,mod_vetU,mod_betU = \\\n",
    "    ctob.Convert_Spherical_ADM_to_BSSN_curvilinear(uibh.Sph_r_th_ph, uibh.gammaSphDD, uibh.KSphDD, uibh.alphaSph, uibh.betaSphU, uibh.BSphU)\n",
    "\n",
    "print(\"Consistency check between ADMSpherical_to_BSSNCurvlinearID tutorial and NRPy+ module: ALL SHOULD BE ZERO.\")\n",
    "\n",
    "print(\"cf - mod_cf = \" + str(cf - mod_cf))\n",
    "print(\"trK - mod_trK = \" + str(trK - mod_trK))\n",
    "print(\"alpha - mod_alpha = \" + str(alpha - mod_alpha))\n",
    "\n",
    "for i in range(DIM):\n",
    "    print(\"vetU[\"+str(i)+\"] - mod_vetU[\"+str(i)+\"] = \" + str(vetU[i] - mod_vetU[i]))\n",
    "    print(\"betU[\"+str(i)+\"] - mod_betU[\"+str(i)+\"] = \" + str(betU[i] - mod_betU[i]))\n",
    "    print(\"lambdaU[\"+str(i)+\"] - mod_lambdaU[\"+str(i)+\"] = \" + str(lambdaU[i] - mod_lambdaU[i]))\n",
    "    for j in range(DIM):\n",
    "        print(\"hDD[\"+str(i)+\"][\"+str(j)+\"] - mod_hDD[\"+str(i)+\"][\"+str(j)+\"] = \" \n",
    "              + str(hDD[i][j] - mod_hDD[i][j]))\n",
    "        print(\"aDD[\"+str(i)+\"][\"+str(j)+\"] - mod_aDD[\"+str(i)+\"][\"+str(j)+\"] = \" \n",
    "              + str(aDD[i][j] - mod_aDD[i][j]))"
   ]
  }
 ],
 "metadata": {
  "kernelspec": {
   "display_name": "Python 2",
   "language": "python",
   "name": "python2"
  },
  "language_info": {
   "codemirror_mode": {
    "name": "ipython",
    "version": 2
   },
   "file_extension": ".py",
   "mimetype": "text/x-python",
   "name": "python",
   "nbconvert_exporter": "python",
   "pygments_lexer": "ipython2",
   "version": "2.7.13"
  }
 },
 "nbformat": 4,
 "nbformat_minor": 2
}
