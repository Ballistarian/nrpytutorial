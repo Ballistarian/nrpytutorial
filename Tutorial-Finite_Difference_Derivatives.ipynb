{
 "cells": [
  {
   "cell_type": "markdown",
   "metadata": {},
   "source": [
    "# NRPy+'s Finite Difference Interface\n",
    "\n",
    "### NRPy+ Source Code for this module: [finite_difference.py](../edit/finite_difference.py)"
   ]
  },
  {
   "cell_type": "markdown",
   "metadata": {},
   "source": [
    "### Finite difference derivatives\n",
    "\n",
    "Suppose we have a *uniform* numerical grid in one dimension; say, the Cartesian $x$ direction. Since the grid is uniform, the spacing between successive grid points is $\\Delta x$, and the position of the $i$th point is given by\n",
    "\n",
    "$$x_i = x_0 + i \\Delta x.$$\n",
    "\n",
    "Then, given a function $u(x)$ on this uniform grid, we will adopt the notation\n",
    "\n",
    "$$u(x_i) = u_i.$$\n",
    "\n",
    "We wish to approximate derivatives of $u_i$ at some nearby point (first we will consider derivatives at $x_i$ itself) using [finite difference](https://en.wikipedia.org/wiki/Finite_difference). (FD) techniques. \n",
    "\n",
    "FD techniques are usually equivalent to first finding the unique $N$th degree polynomial that passes through $N+1$ sampled points of our function ($u$) in the neighborhood of where we wish to find the derivative. Then, provided $u$ is smooth and properly-sampled, the $M$th derivative of the polynomial (where $M\\le N-1$; *Exercise: Justify this inequality*) is an approximate $M$th derivative of $u$ called the *$M$th-order finite difference derivative*. The approximation error generally decreases as the polynomial degree or sampling density increases.\n",
    "\n",
    "Finite difference derivatives are written in the form\n",
    "$$u^{(n)}(x_i)_{\\text{FD}} = \\sum_{j} u_j a_j,$$\n",
    "where the $a_j$'s are known as *finite difference coefficients*. For a given finite difference representation, the set of $a_j$'s are unique.\n",
    "\n",
    "There are many ways to compute finite difference coefficients $a_j$, though perhaps the most popular involves Taylor series expansions about sampled points near the point where we wish to evaluate the derivative.\n",
    "\n",
    "### Recommended: Learn more about the algorithm NRPy+ adopts to automatically compute finite difference derivatives: ([How NRPy+ Computes Finite Difference Coefficients](Tutorial-How_NRPy_Computes_Finite_Difference_Coeffs.ipynb))\n",
    "\n",
    "The finite_difference NRPy+ module contains one parameter:\n",
    "* **FD_CENTDERIVS_ORDER**: An integer indicating the requested finite difference *accuracy* order (*not* the order of the derivative) , where FD_CENTDERIVS_ORDER = \\[the size of the finite difference stencil in each direction, plus one\\]. \n",
    "\n",
    "The finite_difference NRPy+ module contains two core functions: **compute_fdcoeffs_fdstencl** and **FD_outputC()**. The first is a low-level function normally called only by FD_outputC(), which computes and outputs finite difference coefficients and the numerical grid indices (stencil) corresponding to each coefficient:\n",
    "\n",
    "### **compute_fdcoeffs_fdstencl(derivstring,FDORDER=-1)**:\n",
    "* Output nonzero finite difference coefficients and corresponding numerical stencil as lists, using as inputs:\n",
    "    * **derivstring**: indicates the precise type and direction derivative desired:\n",
    "        * **Centered derivatives**, where the center of the finite difference stencil corresponds to the point where the derivative is desired:\n",
    "            * For a first-order derivative, set derivstring to \"D\"+\"dirn\", where \"dirn\" is an integer denoting direction. For a second-order derivative, set derivstring to \"DD\"+\"dirn1\"+\"dirn2\", where \"dirn1\" and \"dirn2\" are integers denoting the direction of each derivative. Currently only $1 \\le N \\le 2$ supported (extension to higher-order derivatives is straightforward). Examples in 3D Cartesian coordinates (x,y,z):\n",
    "                * the derivative operator $\\partial_x^2$ corresponds to derivstring = \"DD00\"\n",
    "                * the derivative operator $\\partial_x \\partial_y$ corresponds to derivstring = \"DD01\"\n",
    "                * the derivative operator $\\partial_z$ corresponds to derivstring = \"D2\"\n",
    "        * **Up- or downwinded derivatives**, where the center of the finite difference stencil is *one gridpoint* up or down from where the derivative is requested.\n",
    "            * Set derivstring to \"upD\"+\"dirn\" or \"dnD\"+\"dirn\", where \"dirn\" is an integer denoting direction. Example in 3D Cartesian coordinates (x,y,z):\n",
    "                * the upwinded derivative operator $\\partial_x$ corresponds to derivstring = \"dupD0\"\n",
    "        * **Kreiss-Oliger dissipation derivatives**, where the center of the finite difference stencil corresponds to the point where the dissipation will be applied.\n",
    "            * Set derivstring to \"dKOD\"+\"dirn\", where \"dirn\" is an integer denoting direction. Example in 3D Cartesian coordinates (x,y,z):\n",
    "                * the Kreiss-Oliger derivative operator $\\partial_z^\\text{KO}$ corresponds to derivstring = \"dKOD2\"\n",
    "    * **FDORDER**: an *optional* parameter that, if set to a positive even integer, overrides FD_CENTDERIVS_ORDER\n",
    "\n",
    "Within NRPy+, compute_fdcoeffs_fdstencl() is only called from FD_outputC(). Regardless, this function provides a nice interface for evaluating finite difference coefficients, as shown below:"
   ]
  },
  {
   "cell_type": "code",
   "execution_count": 1,
   "metadata": {},
   "outputs": [
    {
     "name": "stdout",
     "output_type": "stream",
     "text": [
      "[1/12, -2/3, 2/3, -1/12]\n",
      "[[-2, 0, 0, 0], [-1, 0, 0, 0], [1, 0, 0, 0], [2, 0, 0, 0]]\n"
     ]
    }
   ],
   "source": [
    "# Import the finite difference module\n",
    "import finite_difference as fin\n",
    "\n",
    "# \n",
    "fdcoeffs, fdstencl = fin.compute_fdcoeffs_fdstencl(\"dD0\",4)\n",
    "print(fdcoeffs)\n",
    "print(fdstencl)"
   ]
  },
  {
   "cell_type": "markdown",
   "metadata": {},
   "source": [
    "Interpreting the output, notice first that $\\texttt{fdstencl}$ is a list of coordinate indices, where up to 4 dimension indices are supported (higher dimensions are possible and can be straightforwardly added, though be warned about [The Curse of Dimensionality](https://en.wikipedia.org/wiki/Curse_of_dimensionality)).\n",
    "\n",
    "Thus NRPy+ found that for some function $u$, the fourth-order accurate finite difference operator is given by\n",
    "\n",
    "$$[\\partial_x u]_\\text{FD4} = \\frac{1}{\\Delta x} \\left[ \\frac{1}{12} \\left(u_{i0-2,i1,i2,i3} - u_{i0+2,i1,i2,i3}\\right) + \\frac{2}{3} \\left(-u_{i0-1,i1,i2,i3} + u_{i0+1,i1,i2,i3}\\right)\\right]$$\n",
    "\n",
    "Notice also that multiplying by the appropriate power of $\\frac{1}{\\Delta x}$ term is up to the user of this function.\n",
    "\n",
    "In addition, if the gridfunction $u$ exists on a grid that is less than four (spatial) dimensions, it is up to the user to truncate the additional index information.\n",
    "\n",
    "#### Exercise: Using compute_fdcoeffs_fdstencl(), write the necessary loops to output the finite difference coefficient tables in the Wikipedia article on [finite difference coefficients](https://en.wikipedia.org/wiki/Finite_difference_coefficients), for up to second-order derivatives (i.e., up to $\\partial_i^2$), and for upwinded derivatives up to second-order accuracy."
   ]
  },
  {
   "cell_type": "markdown",
   "metadata": {},
   "source": [
    "### **FD_outputC(filename,sympyexpr_list)**:\n",
    "\n",
    "C codes that evaluate expressions with finite difference derivatives on numerical grids generally consist of three  components, all existing within a loop over \"interior\" gridpoints; at a given gridpoint, the code must\n",
    "1. Read gridfunctions from memory at all points needed to evaluate the finite difference derivatives or the gridfunctions themselves.\n",
    "2. Perform arithmetic, including computation of finite difference stencils.\n",
    "3. Write the output from the arithmetic to other gridfunctions.\n",
    "\n",
    "To minimize cache misses and maximize potential compiler optimizations, it is generally recommended to segregate the above three steps. FD_outputC() first analyzes the input expressions, searching for derivatives of gridfunctions. The search is very easy, as NRPy+ requires a very specific syntax for derivatives: \n",
    "* gf_dD0 denotes the first derivative of gridfunction \"gf\" in direction zero.\n",
    "* gf_dupD0 denotes the upwinded first derivative of gridfunction \"gf\" in direction zero.\n",
    "* gf_ddnD0 denotes the downwinded first derivative of gridfunction \"gf\" in direction zero.\n",
    "* gf_dKOD2 denotes the Kreiss-Oliger dissipation operator of gridfunction \"gf\" in direction two.\n",
    "Each time FD_outputC() finds a derivative (including references to the gridfunction directly \\[\"zeroth\"-order derivatives\\]) in this way, it calls compute_fdcoeffs_fdstencl() to record the specific locations in memory from which the underlying gridfunction must be read to evaluate the appropriate finite difference derivative.\n",
    "\n",
    "FD_outputC() then orders this list of points for all gridfunctions and points in memory, optimizing memory reads based on how the gridfunctions are stored in memory (set via parameter MemAllocStyle in the NRPy+ grid module). It then completes step 1. \n",
    "\n",
    "For step 2, FD_outputC() exports all of the finite difference expressions, as well as the original expressions input into the function, to outputC() to generate the optimized C code. Step 3 follows trivally from just being careful with the bookkeeping in the above steps.\n",
    "\n",
    "**FD_outputC() takes two arguments:\n",
    "* **filename**: Set to \"stdout\" to print to screen. Otherwise specify a filename.\n",
    "* **sympyexpr_list**: A single named tuple or list of named tuples of type \"lhrh\", where the lhrh type refers to the simple structure:\n",
    "    * **lhrh(left-hand side of equation, right-hand side of the equation)**\n",
    "\n",
    "Time for an example: let's compute $$\\texttt{output} = \\partial_0^2 \\phi$$\n",
    "for gridfunctions $\\texttt{output}$ and $\\texttt{phi}=\\phi$:"
   ]
  },
  {
   "cell_type": "code",
   "execution_count": 2,
   "metadata": {},
   "outputs": [
    {
     "name": "stdout",
     "output_type": "stream",
     "text": [
      "/*\n",
      " *  Original SymPy expressions:\n",
      " *  \"[const double phi_dDD00 = invdx0**2*(-5*phi/2 + 4*phi_i0m1/3 - phi_i0m2/12 + 4*phi_i0p1/3 - phi_i0p2/12),\n",
      " *    in_gfs[IDX2(OUTPUTGF, i0)] = phi_dDD00]\"\n",
      " */\n",
      "{\n",
      "   const double phi_i0m2 = in_gfs[IDX2(PHIGF, i0-2)];\n",
      "   const double phi_i0m1 = in_gfs[IDX2(PHIGF, i0-1)];\n",
      "   const double phi = in_gfs[IDX2(PHIGF, i0)];\n",
      "   const double phi_i0p1 = in_gfs[IDX2(PHIGF, i0+1)];\n",
      "   const double phi_i0p2 = in_gfs[IDX2(PHIGF, i0+2)];\n",
      "   const double phi_dDD00 = pow(invdx0, 2)*(-5.0/2.0*phi + (4.0/3.0)*phi_i0m1 - 1.0/12.0*phi_i0m2 + (4.0/3.0)*phi_i0p1 - 1.0/12.0*phi_i0p2);\n",
      "   in_gfs[IDX2(OUTPUTGF, i0)] = phi_dDD00;\n",
      "}\n"
     ]
    }
   ],
   "source": [
    "import sympy as sp\n",
    "from outputC import *\n",
    "import grid as gri\n",
    "import indexedexp as ixp\n",
    "import finite_difference as fin\n",
    "\n",
    "# Set the spatial dimension to 1\n",
    "par.set_paramsvals_value(\"grid::DIM = 1\")\n",
    "\n",
    "# Register the input gridfunction \"phi\" and the gridfunction to which data are output, \"output\":\n",
    "phi, output = gri.register_gridfunctions(\"AUX\",[\"phi\",\"output\"])\n",
    "\n",
    "# Declare phi_dD as a rank-1 indexed expression: phi_dD[i] = \\partial_i phi\n",
    "phi_dDD = ixp.declarerank2(\"phi_dDD\",\"nosym\")\n",
    "\n",
    "# Set output to \\partial_0^2 phi\n",
    "output = phi_dDD[0][0]\n",
    "\n",
    "# Output to the screen the \n",
    "fin.FD_outputC(\"stdout\",lhrh(lhs=gri.gfaccess(\"in_gfs\",\"output\"),rhs=output))"
   ]
  },
  {
   "cell_type": "markdown",
   "metadata": {},
   "source": [
    "## (In progress) Generating the rest of the C code\n",
    "\n",
    "The gridfunction PHIGF samples some function $\\phi(x)$ at discrete uniform points in $x$, labeled $x_i$ at all points $i\\in [0,N]$, so that \n",
    "$$\\phi(x_i) = \\phi_{i}=\\text{in_gfs[IDX2(PHIGF, i)]}.$$ \n",
    "For a *uniformly* sampled function with constant grid spacing (sample rate) $\\Delta x$, $x_i$ is defined as $x_i = x_0 + i \\Delta x$.\n",
    "\n",
    "In the above code, the variable $\\texttt{invdx0}$ is defined in terms of the uniform gridspacing $\\Delta x$ as $\\texttt{invdx0} = \\frac{1}{\\Delta x}$. (*Aside: Why do we choose to multiply by $1/\\Delta x$ instead of dividing the expression by $\\Delta x$, which would seem much more straightforward? Answer: as discussed in the [first part of the tutorial](Tutorial-Coutput__Parameter_Interface.ipynb), division of floating-point numbers on modern CPUs is far more expensive than multiplication, usually by a factor of ~3 or more.*)"
   ]
  },
  {
   "cell_type": "code",
   "execution_count": 12,
   "metadata": {},
   "outputs": [
    {
     "name": "stdout",
     "output_type": "stream",
     "text": [
      "Overwriting \"finite_difference_test.c\"\n"
     ]
    }
   ],
   "source": [
    "%%writefile \"finite_difference_test.c\"\n",
    "\n",
    "// Part P1: S\n",
    "#include \"stdio.h\"\n",
    "#include \"stdlib.h\"\n",
    "#include \"math.h\"\n",
    "\n",
    "// Part P2: Declare the IDX2(gf,i) macro, which enables us to store 2-dimensions of\n",
    "//          data in a 1D array. In this case, consecutive values of \"i\" \n",
    "//          (\"gf\" held to a fixed value) are consecutive in memory, where \n",
    "//          consecutive values of \"gf\" (fixing \"i\") are separated by N elements in\n",
    "//          memory.\n",
    "#define IDX2(gf, i) ( (i) + N * (gf) )\n",
    "\n",
    "// Part P3: Set PHIGF and OUTPUTGF to macros\n",
    "#define PHIGF    0\n",
    "#define OUTPUTGF 1\n",
    "\n",
    "double x(const double x_0,const int i,const double Delta_x) { \n",
    "    return x_0 + (double)i*Delta_x; \n",
    "}\n",
    "\n",
    "double f(const double x) { \n",
    "    return sin(x); \n",
    "}\n",
    "double f_dDD_exact(const double x) { return -sin(x); }\n",
    "\n",
    "void f_dDD_FD(double *in_gfs,const int i0,const int N,const double invdx0)  {\n",
    "//fin.FD_outputC(\"finite_diff_tutorial-second_deriv.h\",lhrh(lhs=gri.gfaccess(\"in_gfs\",\"output\"),rhs=output))\n",
    "#include \"finite_diff_tutorial-second_deriv.h\"\n",
    "}\n",
    "\n",
    "int main(int argc,char *argv[]) {\n",
    "    const int N = '+str(par.parval_from_str(\"finite_difference::FD_CENTDERIVS_ORDER\"))+'+1;\n",
    "    const int i0 = N/2 + 1;\n",
    "    const double PI = 3.14159265358979323846264338327950288;\n",
    "    const double Delta_x = 0.05*(2*PI);\n",
    "    const double invdx0 = 1.0/Delta_x;\n",
    "    const double x_0 = PI/2.0;\n",
    "\n",
    "    // Allocate space for two gridfunctions\n",
    "    double *in_gfs = (double *)malloc(sizeof(double)*N*2);\n",
    "\n",
    "    // Set phi to be f(x) as defined in the f(const double x) function above, where x_i = x_0 + i*Delta_x:\n",
    "    for(int i0=0;i<N;i++) {\n",
    "        in_gfs[IDX2(PHIGF, i0)] = f(x(x_0,i0,Delta_x));\n",
    "    }\n",
    "\n",
    "    f_dDD_FD(in_gfs,i0,N,invdx0);\n",
    "\n",
    "    double xx = x(x_0,i0,Delta_x);\n",
    "    double FD = in_gfs[IDX2(OUTPUTGF,i0)];\n",
    "    double EX = f_dDD_exact(xx);\n",
    "    printf(\"finite difference derivative partial_x^2 sin(x), evaluated at x=%.15e is:\\\\n\\\\t%.15e\\\\n\",xx,FD);\n",
    "    printf(\"Exact value is:\\\\n\\\\t%.15e\\\\n\",EX);\n",
    "    printf(\"Relative error:\\\\t%.15e\\\\n\",fabs((EX-FD)/(EX)));\n",
    "\n",
    "    // Free space\n",
    "    free(in_gfs);\n",
    "\n",
    "    return 0;\n",
    "}"
   ]
  },
  {
   "cell_type": "code",
   "execution_count": 13,
   "metadata": {},
   "outputs": [
    {
     "name": "stdout",
     "output_type": "stream",
     "text": [
      "finite difference derivative partial_x^2 sin(x), evaluated at x=2.268928027592628e+00 is:\r\n",
      "\t-7.660365665005484e-01\r\n",
      "Exact value is:\r\n",
      "\t-7.660444431189780e-01\r\n",
      "Relative error:\t1.028219511329282e-05\r\n"
     ]
    }
   ],
   "source": [
    "!gcc -std=gnu99 finite_difference_test.c -o finite_difference_test -lm\n",
    "!./finite_difference_test"
   ]
  },
  {
   "cell_type": "code",
   "execution_count": null,
   "metadata": {},
   "outputs": [],
   "source": []
  }
 ],
 "metadata": {
  "kernelspec": {
   "display_name": "Python 3",
   "language": "python",
   "name": "python3"
  },
  "language_info": {
   "codemirror_mode": {
    "name": "ipython",
    "version": 3
   },
   "file_extension": ".py",
   "mimetype": "text/x-python",
   "name": "python",
   "nbconvert_exporter": "python",
   "pygments_lexer": "ipython3",
   "version": "3.6.5"
  }
 },
 "nbformat": 4,
 "nbformat_minor": 2
}
