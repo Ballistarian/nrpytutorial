{
 "cells": [
  {
   "cell_type": "markdown",
   "metadata": {},
   "source": [
    "# NRPy+'s Finite Difference Interface\n",
    "\n",
    "## Recommended Reading: [How NRPy+ Computes Finite Difference Coefficients](Tutorial-How_NRPy_Computes_Finite_Difference_Coeffs.ipynb)\n",
    "\n",
    "### NRPy+ Source Code for this module: [finite_difference.py](../edit/finite_difference.py)"
   ]
  },
  {
   "cell_type": "markdown",
   "metadata": {},
   "source": [
    "### Derivatives in NRPy+\n",
    "\n",
    "To define"
   ]
  },
  {
   "cell_type": "code",
   "execution_count": 10,
   "metadata": {},
   "outputs": [
    {
     "name": "stdout",
     "output_type": "stream",
     "text": [
      "[1/12, -2/3, 2/3, -1/12]\n",
      "[[-2, 0, 0, 0], [-1, 0, 0, 0], [1, 0, 0, 0], [2, 0, 0, 0]]\n"
     ]
    }
   ],
   "source": [
    "import finite_difference as fin\n",
    "\n",
    "fdcoeffs, fdstencl = fin.compute_fdcoeffs_fdstencl(\"D0\")\n",
    "print(fdcoeffs)\n",
    "print(fdstencl)"
   ]
  },
  {
   "cell_type": "code",
   "execution_count": 2,
   "metadata": {},
   "outputs": [
    {
     "name": "stdout",
     "output_type": "stream",
     "text": [
      "/*\n",
      " *  Original SymPy expressions:\n",
      " *  \"[const double phi_dD0 = invdx0*(-2*phi_i0m1_i1_i2/3 + phi_i0m2_i1_i2/12 + 2*phi_i0p1_i1_i2/3 - phi_i0p2_i1_i2/12),\n",
      " *    out_gfs[IDX4(PHID0GF, i0, i1, i2)] = phi_dD0]\"\n",
      " */\n",
      "{\n",
      "   const double phi_i0m2_i1_i2 = in_gfs[IDX4(PHIGF, i0-2,i1,i2)];\n",
      "   const double phi_i0m1_i1_i2 = in_gfs[IDX4(PHIGF, i0-1,i1,i2)];\n",
      "   const double phi_i0p1_i1_i2 = in_gfs[IDX4(PHIGF, i0+1,i1,i2)];\n",
      "   const double phi_i0p2_i1_i2 = in_gfs[IDX4(PHIGF, i0+2,i1,i2)];\n",
      "   const double phi_dD0 = invdx0*(-(2.0 / 3.0)*phi_i0m1_i1_i2 + ((1.0 / 12.0))*phi_i0m2_i1_i2 + ((2.0 / 3.0))*phi_i0p1_i1_i2 - (1.0 / 12.0)*phi_i0p2_i1_i2);\n",
      "   out_gfs[IDX4(PHID0GF, i0, i1, i2)] = phi_dD0;\n",
      "}\n"
     ]
    }
   ],
   "source": [
    "import sympy as sp\n",
    "from outputC import *\n",
    "import grid as gri\n",
    "import finite_difference as fin\n",
    "\n",
    "phi, phiD0 = gri.register_gridfunctions(\"AUX\",[\"phi\",\"phiD0\"])\n",
    "\n",
    "phi_dD0 = sp.sympify(\"phi_dD0\")\n",
    "fin.FD_outputC(\"stdout\",lhrh(lhs=gri.gfaccess(\"out_gfs\",\"phiD0\"),rhs=phi_dD0))"
   ]
  },
  {
   "cell_type": "code",
   "execution_count": null,
   "metadata": {},
   "outputs": [],
   "source": []
  }
 ],
 "metadata": {
  "kernelspec": {
   "display_name": "Python 3",
   "language": "python",
   "name": "python3"
  },
  "language_info": {
   "codemirror_mode": {
    "name": "ipython",
    "version": 3
   },
   "file_extension": ".py",
   "mimetype": "text/x-python",
   "name": "python",
   "nbconvert_exporter": "python",
   "pygments_lexer": "ipython3",
   "version": "3.4.3"
  }
 },
 "nbformat": 4,
 "nbformat_minor": 2
}
