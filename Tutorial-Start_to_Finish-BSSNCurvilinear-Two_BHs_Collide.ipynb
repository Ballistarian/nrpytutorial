{
 "cells": [
  {
   "cell_type": "markdown",
   "metadata": {},
   "source": [
    "# Start-to-Finish Example: Head-On Black Hole Collision\n",
    "\n",
    "## This module implements a basic numerical relativity code to merge two black holes in *spherical coordinates*\n",
    "\n",
    "### NRPy+ Source Code for this module: \n",
    "1. [BSSN/BrillLindquist.py](../edit/BSSN/BrillLindquist.py); [\\[**tutorial**\\]](Tutorial-ADM_Initial_Data-Brill-Lindquist.ipynb): Brill-Lindquist initial data; sets all ADM variables in Cartesian basis: \n",
    "1. [BSSN/CartesianADMID_to_BSSNCurvilinearID.py](../edit/BSSN/CartesianADMID_to_BSSNCurvilinearID.py); [\\[**tutorial**\\]](Tutorial-ADM_Initial_Data-Converting_ADMCartesian_to_BSSNCurvilinear.ipynb): Cartesian ADM$\\to$Curvilinear BSSN converter function\n",
    "1. [BSSN/BSSN_ID_function_string.py](../edit/BSSN/BSSN_ID_function_string.py): Sets up the C code string enabling initial data be set up in a point-by-point fashion\n",
    "1. [BSSN/BSSN_Constraints.py](../edit/BSSN/BSSNConstraints.py); [\\[**tutorial**\\]](Tutorial-BSSNConstraints.ipynb): Hamiltonian constraint in BSSN curvilinear basis/coordinates\n",
    "1. [BSSN/BSSN_RHSs.py](../edit/BSSN/BSSN_RHSs.py); [\\[**tutorial**\\]](Tutorial-BSSNCurvilinear.ipynb): Generates the right-hand sides for the BSSN evolution equations in singular, curvilinear coordinates\n",
    "\n",
    "Here we use NRPy+ to generate the C source code necessary to set up initial data for two black holes (Brill-Lindquist, [Brill & Lindquist, Phys. Rev. 131, 471, 1963](https://journals.aps.org/pr/abstract/10.1103/PhysRev.131.471); see also Eq. 1 of [Brandt & Brügmann, arXiv:gr-qc/9711015v1](https://arxiv.org/pdf/gr-qc/9711015v1.pdf)). Then we use it to generate the RHS expressions for [Method of Lines](https://reference.wolfram.com/language/tutorial/NDSolveMethodOfLines.html) time integration based on the [explicit Runge-Kutta fourth-order scheme](https://en.wikipedia.org/wiki/Runge%E2%80%93Kutta_methods) (RK4).\n",
    "\n",
    "The entire algorithm is outlined below, with NRPy+-based components highlighted in <font color='green'>green</font>.\n",
    "\n",
    "1. Allocate memory for gridfunctions, including temporary storage for the RK4 time integration.\n",
    "1. (**Steps 2a and 2b** below) <font color='green'>Set gridfunction values to initial data (**[documented in previous start-to-finish module](Tutorial-Start_to_Finish-BSSNCurvilinear-Setting_up_two_BH_initial_data.ipynb)**).</font>\n",
    "1. Evolve the initial data forward in time using RK4 time integration. At each RK4 substep, do the following:\n",
    "    1. (**Step 3A** below) <font color='green'>Evaluate BSSN RHS expressions.</font>\n",
    "    1. (**Step 3B** below) Apply singular, curvilinear coordinate boundary conditions [*a la* the SENR/NRPy+ paper](https://arxiv.org/abs/1712.07658)\n",
    "    1. (**Step 3C** below) <font color='green'>Enforce conformal 3-metric $\\det{\\bar{\\gamma}_{ij}}=\\det{\\hat{\\gamma}_{ij}}$ constraint</font>\n",
    "1. (**Step 4** below) At the end of each iteration in time, output the <font color='green'>Hamiltonian constraint violation</font>.\n",
    "1. Repeat above steps at two numerical resolutions to confirm convergence to zero."
   ]
  },
  {
   "cell_type": "code",
   "execution_count": 1,
   "metadata": {},
   "outputs": [],
   "source": [
    "# First we import needed core NRPy+ modules\n",
    "from outputC import *\n",
    "import NRPy_param_funcs as par\n",
    "import grid as gri\n",
    "import loop as lp\n",
    "import indexedexp as ixp\n",
    "import finite_difference as fin\n",
    "import reference_metric as rfm\n",
    "\n",
    "# Set spatial dimension (must be 3 for BSSN)\n",
    "DIM = 3\n",
    "par.set_parval_from_str(\"grid::DIM\",DIM)\n",
    "\n",
    "# Then we set the coordinate system for the numerical grid\n",
    "par.set_parval_from_str(\"reference_metric::CoordSystem\",\"Spherical\")"
   ]
  },
  {
   "cell_type": "markdown",
   "metadata": {},
   "source": [
    "## Step 2a: First import Brill-Lindquist ADM initial data from the BSSN.BrillLindquist NRPy+ module, [documented here](Tutorial-ADM_Initial_Data-Brill-Lindquist.ipynb)\n",
    "\n",
    "These initial data are expressed in the Cartesian coordinate basis (i.e., vectors and tensors are expressed in Cartesian components)."
   ]
  },
  {
   "cell_type": "code",
   "execution_count": 2,
   "metadata": {},
   "outputs": [],
   "source": [
    "import BSSN.BrillLindquist as bl\n",
    "bl.BrillLindquist()"
   ]
  },
  {
   "cell_type": "markdown",
   "metadata": {},
   "source": [
    "## Step 2b: Next transform the Brill-Lindquist ADM quantities in Cartesian coordinates to BSSN quantities in curvilinear coordinates, using the BSSN.CartesianADMID_to_BSSNCurvilinearID NRPy+ module, [documented here](Tutorial-ADM_Initial_Data-Converting_ADMCartesian_to_BSSNCurvilinear.ipynb), and output result to file."
   ]
  },
  {
   "cell_type": "code",
   "execution_count": 3,
   "metadata": {},
   "outputs": [],
   "source": [
    "import BSSN.CartesianADMID_to_BSSNCurvilinearID as ctob\n",
    "cf,hDD,lambdaU,aDD,trK,alpha,vetU,betU = \\\n",
    "    ctob.Convert_Cartesian_ADM_to_BSSN_curvilinear(bl.Cartxyz, bl.gammaCartDD, \n",
    "                                                   bl.KCartDD, bl.alphaCart, bl.betaCartU, bl.BCartU)\n",
    "# Now output the Brill-Lindquist initial data to file:\n",
    "with open(\"BSSN/BrillLindquist.h\",\"w\") as file:\n",
    "    file.write(bl.returnfunction)"
   ]
  },
  {
   "cell_type": "markdown",
   "metadata": {},
   "source": [
    "## Step 3A: Output BSSN RHS expressions"
   ]
  },
  {
   "cell_type": "code",
   "execution_count": 4,
   "metadata": {
    "scrolled": true
   },
   "outputs": [
    {
     "name": "stdout",
     "output_type": "stream",
     "text": [
      "initialize_param() minor warning: Did nothing; already initialized parameter reference_metric::M_PI\n",
      "initialize_param() minor warning: Did nothing; already initialized parameter reference_metric::RMAX\n",
      "Generating C code for BSSN RHSs in Spherical coordinates.\n",
      "Finished in 0.00257396697998 seconds.\n"
     ]
    }
   ],
   "source": [
    "import BSSN.BSSN_RHSs as rhs\n",
    "rhs.BSSN_RHSs()\n",
    "\n",
    "import time\n",
    "print(\"Generating C code for BSSN RHSs in \"+par.parval_from_str(\"reference_metric::CoordSystem\")+\" coordinates.\")\n",
    "start = time.time()\n",
    "\n",
    "BSSN_evol_rhss = [ \\\n",
    "                  lhrh(lhs=gri.gfaccess(\"rhs_gfs\",\"aDD00\"),rhs=rhs.a_rhsDD[0][0]),\n",
    "                  lhrh(lhs=gri.gfaccess(\"rhs_gfs\",\"aDD01\"),rhs=rhs.a_rhsDD[0][1]),\n",
    "                  lhrh(lhs=gri.gfaccess(\"rhs_gfs\",\"aDD02\"),rhs=rhs.a_rhsDD[0][2]),\n",
    "                  lhrh(lhs=gri.gfaccess(\"rhs_gfs\",\"aDD11\"),rhs=rhs.a_rhsDD[1][1]),\n",
    "                  lhrh(lhs=gri.gfaccess(\"rhs_gfs\",\"aDD12\"),rhs=rhs.a_rhsDD[1][2]),\n",
    "                  lhrh(lhs=gri.gfaccess(\"rhs_gfs\",\"aDD22\"),rhs=rhs.a_rhsDD[2][2]),\n",
    "                  lhrh(lhs=gri.gfaccess(\"rhs_gfs\",\"alpha\"),rhs=rhs.alpha_rhs),\n",
    "                  lhrh(lhs=gri.gfaccess(\"rhs_gfs\",\"betU0\"),rhs=rhs.bet_rhsU[0]),\n",
    "                  lhrh(lhs=gri.gfaccess(\"rhs_gfs\",\"betU1\"),rhs=rhs.bet_rhsU[1]),\n",
    "                  lhrh(lhs=gri.gfaccess(\"rhs_gfs\",\"betU2\"),rhs=rhs.bet_rhsU[2]),\n",
    "                  lhrh(lhs=gri.gfaccess(\"rhs_gfs\",\"cf\"),   rhs=rhs.cf_rhs),\n",
    "                  lhrh(lhs=gri.gfaccess(\"rhs_gfs\",\"hDD00\"),rhs=rhs.h_rhsDD[0][0]),\n",
    "                  lhrh(lhs=gri.gfaccess(\"rhs_gfs\",\"hDD01\"),rhs=rhs.h_rhsDD[0][1]),\n",
    "                  lhrh(lhs=gri.gfaccess(\"rhs_gfs\",\"hDD02\"),rhs=rhs.h_rhsDD[0][2]),\n",
    "                  lhrh(lhs=gri.gfaccess(\"rhs_gfs\",\"hDD11\"),rhs=rhs.h_rhsDD[1][1]),\n",
    "                  lhrh(lhs=gri.gfaccess(\"rhs_gfs\",\"hDD12\"),rhs=rhs.h_rhsDD[1][2]),\n",
    "                  lhrh(lhs=gri.gfaccess(\"rhs_gfs\",\"hDD22\"),rhs=rhs.h_rhsDD[2][2]),\n",
    "                  lhrh(lhs=gri.gfaccess(\"rhs_gfs\",\"lambdaU0\"),rhs=rhs.lambda_rhsU[0]),\n",
    "                  lhrh(lhs=gri.gfaccess(\"rhs_gfs\",\"lambdaU1\"),rhs=rhs.lambda_rhsU[1]),\n",
    "                  lhrh(lhs=gri.gfaccess(\"rhs_gfs\",\"lambdaU2\"),rhs=rhs.lambda_rhsU[2]),\n",
    "                  lhrh(lhs=gri.gfaccess(\"rhs_gfs\",\"trK\"),  rhs=rhs.trK_rhs),\n",
    "                  lhrh(lhs=gri.gfaccess(\"rhs_gfs\",\"vetU0\"),rhs=rhs.vet_rhsU[0]),\n",
    "                  lhrh(lhs=gri.gfaccess(\"rhs_gfs\",\"vetU1\"),rhs=rhs.vet_rhsU[1]),\n",
    "                  lhrh(lhs=gri.gfaccess(\"rhs_gfs\",\"vetU2\"),rhs=rhs.vet_rhsU[2]) ]\n",
    "\n",
    "BSSN_RHSs_string = \"\"#fin.FD_outputC(\"returnstring\",BSSN_evol_rhss, params=\"outCverbose=False\")\n",
    "end = time.time()\n",
    "print(\"Finished in \"+str(end-start)+\" seconds.\")\n",
    "\n",
    "with open(\"BSSN/BSSN_RHSs.h\", \"w\") as file:\n",
    "    file.write(lp.loop([\"i2\",\"i1\",\"i0\"],[\"NGHOSTS\",\"NGHOSTS\",\"NGHOSTS\"],\n",
    "                       [\"NGHOSTS+Nxx[2]\",\"NGHOSTS+Nxx[1]\",\"NGHOSTS+Nxx[0]\"],\n",
    "                       [\"1\",\"1\",\"1\"],[\"const REAL invdx0 = 1.0/dxx[0];\\n\"+\n",
    "                                      \"const REAL invdx1 = 1.0/dxx[1];\\n\"+\n",
    "                                      \"const REAL invdx2 = 1.0/dxx[2];\\n\"+\n",
    "                                      \"#pragma omp parallel for\",\n",
    "                                      \"    const REAL xx2 = xx[2][i2];\",\n",
    "                                      \"        const REAL xx1 = xx[1][i1];\"],\"\",\n",
    "                                     \"const REAL xx0 = xx[0][i0];\\n\"+BSSN_RHSs_string))"
   ]
  },
  {
   "cell_type": "markdown",
   "metadata": {},
   "source": [
    "## Step 3B: Apply singular, curvilinear coordinate boundary conditions [*a la* Section IV.E of the SENR/NRPy+ paper](https://arxiv.org/abs/1712.07658)\n",
    "\n",
    "### Step 3B.i: Find locations to where outer ghost zone gridpoints map\n",
    "\n",
    "We start by following the procedure of the [scalar wave in curvilinear coordinates tutorial](Tutorial-Start_to_Finish-ScalarWaveCurvilinear.ipynb), to find the locations to where the outer ghost zone gridpoints map. As described in the scalar wave in curvilinear coordinates tutorial, this requires first mapping from the curvilinear coordinate gridpoints $(x_0,x_1,x_2)$ in the outer ghost zones to the corresponding Cartesian grid points $(x,y,z)$ in the grid interior or outer boundary.\n",
    "\n",
    "### Step 3B.ii: At each ghost zone gridpoint, find and store the correct parity condition type for each gridfunction up to rank 2 (the highest rank in the BSSN RHSs)\n",
    "\n",
    "Suppose we have a vector $v^\\rho$ defined at ghostzone $(-\\rho,\\phi,z)$ ($\\rho>0$) in cylindrical coordinates. This will map to an interior point at $(\\rho,\\phi+\\pi,z)$. At this point, the direction of the $\\hat{\\rho}$ unit vector flips sign. Thus we cannot simply set the value of $v^\\rho$ to the value it possesses at interior point $(\\rho,\\phi+\\pi,z)$; that would result in a sign error. Instead we have\n",
    "\\begin{align}\n",
    "v^\\rho(-\\rho,\\phi,z)&=-v^\\rho(\\rho,\\phi+\\pi,z) \\\\\n",
    "&= \\mathbf{e}^\\rho\\left(-\\rho,\\phi,z\\right) \\cdot \\mathbf{e}^\\rho\\left(\\rho,\\phi+\\pi,z\\right)v^\\rho(\\rho,\\phi+\\pi,z),\n",
    "\\end{align}\n",
    "where $\\mathbf{e}^\\rho\\left(\\rho,\\phi,z\\right)$ is the $\\rho$ unit vector evaluated at point $(\\rho,\\phi,z)$. Contrast this with scalars, which do not possess a sense of direction.\n",
    "\n",
    "Given this pattern, once the interior grid point $(x_0,x_1,x_2)_{\\rm in}$ corresponding to an inner boundary point $(x_0,x_1,x_2)_{\\rm IB}$ has been found, the generic procedure to apply these so-called \"parity conditions\" for a generic rank-$N$ tensor ($N>0$) is as follows:\n",
    "\n",
    "1. The first component of the rank-$N$ tensor corresponds to some direction with unit vector $\\mathbf{e}^i$; e.g., $v^r$ corresponds to the $\\mathbf{e}^r$ direction. Compute the dot product of the unit vector $\\mathbf{e}^i$ evaluated at points $(x_0,x_1,x_2)_{\\rm in}$ and $(x_0,x_1,x_2)_{\\rm IB}$. Define this dot product as $S_1$:\n",
    "$$\n",
    "S_1 = \\mathbf{e}^i\\left((x_0,x_1,x_2)_{\\rm in}\\right) \\cdot \\mathbf{e}^i\\left((x_0,x_1,x_2)_{\\rm IB}\\right).\n",
    "$$\n",
    "1. S_1 will take the value of $\\pm 1$, depending on the unit-vector direction and the points $(x_0,x_1,x_2)_{\\rm in}$ and $(x_0,x_1,x_2)_{\\rm IB}$\n",
    "1. Repeat the above for the remaining components of the rank-$N$ tensor $j\\in \\{2,3,...,N\\}$, storing each $S_j$.\n",
    "1. The tensor mapping from $(x_0,x_1,x_2)_{\\rm IB}$ to $(x_0,x_1,x_2)_{\\rm in}$ for this tensor $T^{ijk...}_{mnp...}$ will be given by\n",
    "$$\n",
    "T^{ijk...}_{lmn...}(x_0,x_1,x_2)_{\\rm IB} = \\prod_{\\ell=1}^N S_\\ell T^{ijk...}_{mnp...}(x_0,x_1,x_2)_{\\rm in}.\n",
    "$$\n",
    "\n",
    "In this formulation of BSSN, we only need to deal with rank-0, rank-1, and *symmetric* rank-2 tensors. Further, our basis consists of 3 directions, so there are a total of \n",
    "+ 1 parity condition (the trivial +1) for scalars (rank-0 tensors)\n",
    "+ 3 parity conditions for all rank-1 tensors (corresponding to each direction)\n",
    "+ 6 parity conditions for all *symmetric* rank-2 tensors (corresponding to the number of elements in the lower or upper triangle of a $3\\times3$ matrix, including the diagonal)\n",
    "\n",
    "Thus we must keep track of the behavior of **10 separate parity conditions**, which can be evaluated once when the simulation begins, for all time. "
   ]
  },
  {
   "cell_type": "code",
   "execution_count": 5,
   "metadata": {},
   "outputs": [
    {
     "name": "stdout",
     "output_type": "stream",
     "text": [
      "Wrote to file \"BSSN/xxCart.h\"\n",
      "Wrote to file \"BSSN/Cart_to_xx.h\"\n",
      "Wrote to file \"BSSN/UnitVectors.h\"\n"
     ]
    }
   ],
   "source": [
    "# Generic coordinate NRPy+ file output, Part 1: output the coordinate bounds xxmin[] and xxmax[]:\n",
    "with open(\"BSSN/xxminmax.h\", \"w\") as file:\n",
    "    file.write(\"const REAL xxmin[3] = {\"+str(rfm.xxmin[0])+\",\"+str(rfm.xxmin[1])+\",\"+str(rfm.xxmin[2])+\"};\\n\")\n",
    "    file.write(\"const REAL xxmax[3] = {\"+str(rfm.xxmax[0])+\",\"+str(rfm.xxmax[1])+\",\"+str(rfm.xxmax[2])+\"};\\n\")\n",
    "# Generic coordinate NRPy+ file output, Part 2: output the conversion from (x0,x1,x2) to Cartesian (x,y,z)\n",
    "outputC([rfm.xxCart[0],rfm.xxCart[1],rfm.xxCart[2]],[\"xCart[0]\",\"xCart[1]\",\"xCart[2]\"],\n",
    "        \"BSSN/xxCart.h\")\n",
    "# Generic coordinate NRPy+ file output, Part 3: output the conversion from Cartesian (x,y,z) to interior/OB (x0,x1,x2)\n",
    "outputC([rfm.Cart_to_xx[0],rfm.Cart_to_xx[1],rfm.Cart_to_xx[2]],\n",
    "        [\"Cart_to_xx0_inbounds\",\"Cart_to_xx1_inbounds\",\"Cart_to_xx2_inbounds\"],\n",
    "        \"BSSN/Cart_to_xx.h\")\n",
    "# Generic coordinate NRPy+ file output, Part 4: output the unit vectors\n",
    "UnitVectors = rfm.UnitVectors\n",
    "\n",
    "outputC([UnitVectors[0][0],UnitVectors[0][1],UnitVectors[0][2],\n",
    "         UnitVectors[1][0],UnitVectors[1][1],UnitVectors[1][2],\n",
    "         UnitVectors[2][0],UnitVectors[2][1],UnitVectors[2][2]],\n",
    "        [\"UnitVectors[0][0]\",\"UnitVectors[0][1]\",\"UnitVectors[0][2]\",\n",
    "         \"UnitVectors[1][0]\",\"UnitVectors[1][1]\",\"UnitVectors[1][2]\",\n",
    "         \"UnitVectors[2][0]\",\"UnitVectors[2][1]\",\"UnitVectors[2][2]\"],\n",
    "        \"BSSN/UnitVectors.h\")"
   ]
  },
  {
   "cell_type": "markdown",
   "metadata": {},
   "source": [
    "####   Step 3B.ii.a: Set the #define list for all gridfunctions\n",
    "\n",
    "In the scalar wave example, we simply used\n",
    "\n",
    "```C\n",
    "#define NUM_GFS 2\n",
    "#define UUGF 0\n",
    "#define VVGF 1\n",
    "```\n",
    "\n",
    "In the case of BSSN, we have **24** gridfunctions that we evolve forward in time, and a number of auxiliary gridfunctions as well, like the Hamiltonian constraint. Thus we will find it easiest to extract these lines of code from the list of registered gridfunctions (BSSN evolution gridfunctions are registered in the BSSN.BSSN_RHSs.BSSN_RHSs() function, which is called by the BSSN.BSSNConstraints.BSSNConstraints() function above):"
   ]
  },
  {
   "cell_type": "code",
   "execution_count": 6,
   "metadata": {},
   "outputs": [],
   "source": [
    "# First we set up the evolved and auxiliary variables lists\n",
    "evolved_variables_list   = []\n",
    "auxiliary_variables_list = []\n",
    "for i in range(len(gri.glb_gridfcs_list)):\n",
    "    if gri.glb_gridfcs_list[i].gftype == \"EVOL\":\n",
    "        evolved_variables_list.append(gri.glb_gridfcs_list[i].name)\n",
    "    if gri.glb_gridfcs_list[i].gftype == \"AUX\":\n",
    "        auxiliary_variables_list.append(gri.glb_gridfcs_list[i].name)\n",
    "\n",
    "# Next we alphabetize the lists\n",
    "evolved_variables_list.sort()\n",
    "auxiliary_variables_list.sort()\n",
    "\n",
    "# Finally we set up the #define statements:\n",
    "with open(\"BSSN/gridfunction_defines.h\", \"w\") as file:\n",
    "    file.write(\"/* This file is automatically generated by NRPy+. Do not edit. */\\n\\n\")\n",
    "    file.write(\"/* EVOLVED VARIABLES: */\\n\")\n",
    "    file.write(\"#define NUM_EVOL_GFS \"+str(len(evolved_variables_list))+\"\\n\")\n",
    "    for i in range(len(evolved_variables_list)):\n",
    "        file.write(\"#define \"+evolved_variables_list[i].upper()+\"GF\\t\"+str(i)+\"\\n\")\n",
    "    file.write(\"\\n\\n /* AUXILIARY VARIABLES: */\\n\")\n",
    "    file.write(\"#define NUM_AUX_GFS \"+str(len(auxiliary_variables_list))+\"\\n\")\n",
    "    for i in range(len(auxiliary_variables_list)):\n",
    "        file.write(\"#define \"+auxiliary_variables_list[i].upper()+\"GF\\t\"+str(i)+\"\\n\")"
   ]
  },
  {
   "cell_type": "markdown",
   "metadata": {},
   "source": [
    "####   Step 3B.ii.b: Set the parity condition for each of the 10 parity condition types\n",
    "\n",
    "First we define the struct that will be used to store the 10 parity conditions at all gridpoints:"
   ]
  },
  {
   "cell_type": "code",
   "execution_count": 7,
   "metadata": {},
   "outputs": [
    {
     "name": "stdout",
     "output_type": "stream",
     "text": [
      "Writing BSSN/parity_condition_struct_type.h\n"
     ]
    }
   ],
   "source": [
    "%%writefile BSSN/parity_condition_struct_type.h\n",
    "\n",
    "# We store the 10 parity conditions in a struct consisting of 10 integers, one for each condition.\n",
    "typedef struct parity_conditions {\n",
    "  int8_t parity[10];\n",
    "} parity_condition;"
   ]
  },
  {
   "cell_type": "markdown",
   "metadata": {},
   "source": [
    "Then we fill in the parity condition arrays."
   ]
  },
  {
   "cell_type": "markdown",
   "metadata": {},
   "source": [
    "####   Step 3B.ii.c: Assign the correct parity condition for each gridfunction"
   ]
  },
  {
   "cell_type": "markdown",
   "metadata": {},
   "source": [
    "## Step 3C: Enforce conformal 3-metric $\\det{\\bar{\\gamma}_{ij}}=\\det{\\hat{\\gamma}_{ij}}$ constraint (Eq. 53 of [Ruchlin, Etienne, and Baumgarte (2018)](https://arxiv.org/abs/1712.07658))\n",
    "\n",
    "As mentioned in the [BSSN curvilinear tutorial module](Tutorial-BSSNCurvilinear.ipynb), the adopted formulation of Einstein's equations requires that $\\partial_t \\bar{\\gamma} = 0$, where $\\bar{\\gamma}=\\det \\bar{\\gamma}_{ij}$. Further, all initial data we choose satisfies $\\bar{\\gamma}=\\hat{\\gamma}$. \n",
    "\n",
    "However, numerical errors will cause $\\bar{\\gamma}$ to deviate from a constant in time. This actually disrupts the hyperbolicity of the PDEs, so to cure this, we adjust $\\bar{\\gamma}_{ij}$ at the end of each Runge-Kutta timestep, so that its determinant satisfies $\\bar{\\gamma}=\\hat{\\gamma}$ at all times. We adopt the following, rather standard prescription (Eq. 53 of [Ruchlin, Etienne, and Baumgarte (2018)](https://arxiv.org/abs/1712.07658)):\n",
    "\n",
    "$$\n",
    "\\bar{\\gamma}_{ij} \\to \\left(\\frac{\\hat{\\gamma}}{\\bar{\\gamma}}\\right)^{1/3} \\bar{\\gamma}_{ij}.\n",
    "$$\n",
    "Notice the expression on the right is guaranteed to have determinant equal to $\\hat{\\gamma}$.\n",
    "\n",
    "Unfortunately $\\bar{\\gamma}_{ij}$ is not an evolved variable, so we must rewrite the above in terms of $h_{ij}$:\n",
    "\\begin{align}\n",
    "\\left(\\frac{\\hat{\\gamma}}{\\bar{\\gamma}}\\right)^{1/3} \\bar{\\gamma}_{ij} &= \\bar{\\gamma}'_{ij}  \\\\\n",
    "&= \\hat{\\gamma}_{ij} + \\varepsilon'_{ij} \\\\\n",
    "&= \\hat{\\gamma}_{ij} + \\text{Re[i][j]} h'_{ij} \\\\\n",
    "\\implies h'_{ij} &= \\left[\\left(\\frac{\\hat{\\gamma}}{\\bar{\\gamma}}\\right)^{1/3} \\bar{\\gamma}_{ij} - \\hat{\\gamma}_{ij}\\right] / \\text{Re[i][j]} \\\\\n",
    "&= \\left(\\frac{\\hat{\\gamma}}{\\bar{\\gamma}}\\right)^{1/3} \\frac{\\bar{\\gamma}_{ij}}{\\text{Re[i][j]}} - \\delta_{ij}\\\\\n",
    "&= \\left(\\frac{\\hat{\\gamma}}{\\bar{\\gamma}}\\right)^{1/3} \\frac{\\hat{\\gamma}_{ij} + \\text{Re[i][j]} h_{ij}}{\\text{Re[i][j]}} - \\delta_{ij}\\\\\n",
    "&= \\left(\\frac{\\hat{\\gamma}}{\\bar{\\gamma}}\\right)^{1/3} \\left(\\delta_{ij} + h_{ij}\\right) - \\delta_{ij}\n",
    "\\end{align}\n",
    "\n",
    "Upon inspection, when expressing $\\hat{\\gamma}$ SymPy generates expressions like $\\text{(xx0)}^{4/3}=\\text{pow(xx0, 4./3.)}$, which can yield $\\text{NaN}$s when $\\text{xx0}<0$ (i.e., in the $\\text{xx0}$ ghost zones). To prevent this, we know that $\\hat{\\gamma}\\ge 0$ for all reasonable coordinate systems, so we make the replacement $\\hat{\\gamma}\\to |\\hat{\\gamma}|$ below:"
   ]
  },
  {
   "cell_type": "code",
   "execution_count": 8,
   "metadata": {},
   "outputs": [],
   "source": [
    "# First define the Kronecker delta:\n",
    "KroneckerDeltaDD = ixp.zerorank2()\n",
    "for i in range(DIM):\n",
    "    KroneckerDeltaDD[i][i] = sp.sympify(1)\n",
    "\n",
    "# The detgammabar in BSSN_RHSs is set to detgammahat when BSSN_RHSs::detgbarOverdetghat_equals_one=True (default),\n",
    "#    so we manually compute it here:\n",
    "dummygammabarUU, detgammabar = ixp.symm_matrix_inverter3x3(rhs.gammabarDD)\n",
    "\n",
    "# Next apply the constraint enforcement equation above.\n",
    "hprimeDD = ixp.zerorank2()\n",
    "for i in range(DIM):\n",
    "    for j in range(DIM):\n",
    "        hprimeDD[i][j] = \\\n",
    "        (sp.Abs(rfm.detgammahat)/detgammabar)**(sp.Rational(1,3)) * (KroneckerDeltaDD[i][j] + rhs.hDD[i][j]) \\\n",
    "        - KroneckerDeltaDD[i][j]\n",
    "\n",
    "enforce_detg_constraint_vars = [ \\\n",
    "                                lhrh(lhs=gri.gfaccess(\"in_gfs\",\"hDD00\"),rhs=hprimeDD[0][0]),\n",
    "                                lhrh(lhs=gri.gfaccess(\"in_gfs\",\"hDD01\"),rhs=hprimeDD[0][1]),\n",
    "                                lhrh(lhs=gri.gfaccess(\"in_gfs\",\"hDD02\"),rhs=hprimeDD[0][2]),\n",
    "                                lhrh(lhs=gri.gfaccess(\"in_gfs\",\"hDD11\"),rhs=hprimeDD[1][1]),\n",
    "                                lhrh(lhs=gri.gfaccess(\"in_gfs\",\"hDD12\"),rhs=hprimeDD[1][2]),\n",
    "                                lhrh(lhs=gri.gfaccess(\"in_gfs\",\"hDD22\"),rhs=hprimeDD[2][2]) ]\n",
    "\n",
    "enforce_gammadet_string = fin.FD_outputC(\"returnstring\",enforce_detg_constraint_vars,\n",
    "                                         params=\"outCverbose=True,preindent=2,includebraces=False\")\n",
    "\n",
    "with open(\"BSSN/enforce_detgammabar_constraint.h\", \"w\") as file:\n",
    "    indent = \"   \"\n",
    "    file.write(\"void enforce_detgammabar_constraint(const int Nxx_plus_2NGHOSTS[3],REAL *xx[3], REAL *in_gfs) {\\n\\n\")\n",
    "    file.write(\"#pragma omp parallel for\\n\")\n",
    "    file.write(indent+\"LOOP_REGION(0,Nxx_plus_2NGHOSTS[0], 0,Nxx_plus_2NGHOSTS[1], 0,Nxx_plus_2NGHOSTS[2]) {\\n\")\n",
    "    file.write(enforce_gammadet_string)\n",
    "    file.write(indent+\"}\\n\")\n",
    "    file.write(\"}\\n\")"
   ]
  },
  {
   "cell_type": "markdown",
   "metadata": {},
   "source": [
    "## Step 4: Output the Hamiltonian constraint"
   ]
  },
  {
   "cell_type": "code",
   "execution_count": 9,
   "metadata": {},
   "outputs": [
    {
     "name": "stdout",
     "output_type": "stream",
     "text": [
      "Generating C code for Hamiltonian constraint\n",
      "Finished in 14.0719587803 seconds.\n"
     ]
    }
   ],
   "source": [
    "import BSSN.BSSNConstraints as bssncon\n",
    "bssncon.BSSNConstraints()\n",
    "\n",
    "H = gri.register_gridfunctions(\"AUX\",\"H\")\n",
    "\n",
    "print(\"Generating C code for Hamiltonian constraint\")\n",
    "start = time.time()\n",
    "Hamiltonianstring = fin.FD_outputC(\"returnstring\",lhrh(lhs=gri.gfaccess(\"aux_gfs\",\"H\"),rhs=bssncon.H), \n",
    "                                   params=\"outCverbose=False\")\n",
    "end = time.time()\n",
    "print(\"Finished in \"+str(end-start)+\" seconds.\")\n",
    "\n",
    "with open(\"BSSN/Hamiltonian.h\", \"w\") as file:\n",
    "    file.write(lp.loop([\"i2\",\"i1\",\"i0\"],[\"NGHOSTS\",\"NGHOSTS\",\"NGHOSTS\"],\n",
    "                       [\"NGHOSTS+Nxx[2]\",\"NGHOSTS+Nxx[1]\",\"NGHOSTS+Nxx[0]\"],\n",
    "                       [\"1\",\"1\",\"1\"],[\"const REAL invdx0 = 1.0/dxx[0];\\n\"+\n",
    "                                      \"const REAL invdx1 = 1.0/dxx[1];\\n\"+\n",
    "                                      \"const REAL invdx2 = 1.0/dxx[2];\\n\"+\n",
    "                                      \"#pragma omp parallel for\",\n",
    "                                      \"    const REAL xx2 = xx[2][i2];\",\n",
    "                                      \"        const REAL xx1 = xx[1][i1];\"],\"\",\n",
    "                                     \"const REAL xx0 = xx[0][i0];\\n\"+Hamiltonianstring))"
   ]
  },
  {
   "cell_type": "markdown",
   "metadata": {},
   "source": [
    "## Setting up initial data and evaluating the Hamiltonian constraint violation\n",
    "\n",
    "Next we will allocate memory storage for grid functions, store the initial data on these gridfunctions, and then compute and output the Hamiltonian constraint violation for these data.\n",
    "\n",
    "#### Part 1: Output xxmin[] and xxmax[], used for setting up the coordinate gridfunctions xx[3][]"
   ]
  },
  {
   "cell_type": "code",
   "execution_count": 10,
   "metadata": {},
   "outputs": [
    {
     "name": "stdout",
     "output_type": "stream",
     "text": [
      "Wrote to file \"BSSN/xxCart.h\"\n"
     ]
    }
   ],
   "source": [
    "# Generic coordinate NRPy+ file output, Part 1: output the coordinate bounds xxmin[] and xxmax[]:\n",
    "with open(\"BSSN/xxminmax.h\", \"w\") as file:\n",
    "    file.write(\"const REAL xxmin[3] = {\"+str(rfm.xxmin[0])+\",\"+str(rfm.xxmin[1])+\",\"+str(rfm.xxmin[2])+\"};\\n\")\n",
    "    file.write(\"const REAL xxmax[3] = {\"+str(rfm.xxmax[0])+\",\"+str(rfm.xxmax[1])+\",\"+str(rfm.xxmax[2])+\"};\\n\")\n",
    "# Generic coordinate NRPy+ file output, Part 2: output the conversion from (x0,x1,x2) to Cartesian (x,y,z)\n",
    "outputC([rfm.xxCart[0],rfm.xxCart[1],rfm.xxCart[2]],[\"xCart[0]\",\"xCart[1]\",\"xCart[2]\"],\n",
    "        \"BSSN/xxCart.h\")"
   ]
  },
  {
   "cell_type": "markdown",
   "metadata": {},
   "source": [
    "#### Part 3: Output NGHOSTS and basic C code infrastructure, all to \"BSSN/BSSNCurvilinear_Playground.c\""
   ]
  },
  {
   "cell_type": "code",
   "execution_count": 11,
   "metadata": {},
   "outputs": [],
   "source": [
    "# Part P0: Set the number of ghost cells, from NRPy+'s FD_CENTDERIVS_ORDER\n",
    "with open(\"BSSN/BSSNCurvilinear_Playground.c\", \"w\") as file:\n",
    "    file.write(\"// Part P0: Set the number of ghost cells, from NRPy+'s FD_CENTDERIVS_ORDER\\n\")\n",
    "    file.write(\"#define NGHOSTS \"+str(int(par.parval_from_str(\"finite_difference::FD_CENTDERIVS_ORDER\")/2))+\"\\n\")"
   ]
  },
  {
   "cell_type": "code",
   "execution_count": 12,
   "metadata": {},
   "outputs": [
    {
     "name": "stdout",
     "output_type": "stream",
     "text": [
      "Appending to BSSN/BSSNCurvilinear_Playground.c\n"
     ]
    }
   ],
   "source": [
    "%%writefile -a BSSN/BSSNCurvilinear_Playground.c\n",
    "\n",
    "// Part P1: Import needed header files\n",
    "#include \"stdio.h\"\n",
    "#include \"stdlib.h\"\n",
    "#include \"math.h\"\n",
    "\n",
    "# We store the 10 parity conditions in a struct consisting of 10 integers, one for each condition.\n",
    "#include \"parity_condition_struct_type.h\"\n",
    "\n",
    "// Part P2: Add needed #define's to set data type, the IDX4() macro, and the gridfunctions\n",
    "// Part P2a: set REAL=double, so that all gridfunctions are set to \n",
    "#define REAL double\n",
    "\n",
    "// Step P3: Set free parameters for the numerical grid\n",
    "const REAL xmin = -10.,xmax=10.;\n",
    "const REAL ymin = -10.,ymax=10.;\n",
    "const REAL zmin = -10.,zmax=10.;\n",
    "\n",
    "const REAL RMAX    = 5.0;\n",
    "const REAL AMPL    = 5.0;\n",
    "const REAL SINHW   = 0.125;\n",
    "const REAL t_final =  8.0; /* Final time is set so that at t=t_final, \n",
    "                            * data at the origin have not been corrupted \n",
    "                            * by the approximate outer boundary condition */\n",
    "const REAL CFL_FACTOR = 1.0; // Set the CFL Factor\n",
    "\n",
    "// Step P4: Set free parameters for the (Brill-Lindquist) initial data\n",
    "const REAL BH1_posn_x =-1.0,BH1_posn_y = 0.0,BH1_posn_z = 0.0;\n",
    "const REAL BH2_posn_x = 1.0,BH2_posn_y = 0.0,BH2_posn_z = 0.0;\n",
    "const REAL BH1_mass = 0.5,BH2_mass = 0.5;\n",
    "\n",
    "// Part P2b: Declare the IDX4(gf,i,j,k) macro, which enables us to store 4-dimensions of\n",
    "//           data in a 1D array. In this case, consecutive values of \"i\" \n",
    "//           (all other indices held to a fixed value) are consecutive in memory, where \n",
    "//           consecutive values of \"j\" (fixing all other indices) are separated by \n",
    "//           Nxx_plus_2NGHOSTS[0] elements in memory. Similarly, consecutive values of\n",
    "//           \"k\" are separated by Nxx_plus_2NGHOSTS[0]*Nxx_plus_2NGHOSTS[1] in memory, etc.\n",
    "#define IDX4(g,i,j,k) \\\n",
    "( (i) + Nxx_plus_2NGHOSTS[0] * ( (j) + Nxx_plus_2NGHOSTS[1] * ( (k) + Nxx_plus_2NGHOSTS[2] * (g) ) ) )\n",
    "#define IDX3(i,j,k) ( (i) + Nxx_plus_2NGHOSTS[0] * ( (j) + Nxx_plus_2NGHOSTS[1] * (k) ) )\n",
    "// Assuming idx = IDX3(i,j,k). Much faster if idx can be reused over and over:\n",
    "#define IDX4pt(g,idx)   ( (idx) + (Nxx_plus_2NGHOSTS[0]*Nxx_plus_2NGHOSTS[1]*Nxx_plus_2NGHOSTS[2]) * (g) )\n",
    "\n",
    "// Part P2c: Set #define's for BSSN gridfunctions. C code generated above\n",
    "#include \"gridfunction_defines.h\"\n",
    "\n",
    "#define LOOP_REGION(i0min,i0max, i1min,i1max, i2min,i2max) \\\n",
    "  for(int i2=i2min;i2<i2max;i2++) for(int i1=i1min;i1<i1max;i1++) for(int i0=i0min;i0<i0max;i0++)\n",
    "\n",
    "void xxCart(REAL *xx[3],const int i0,const int i1,const int i2, REAL xCart[3]) {\n",
    "    REAL xx0 = xx[0][i0];\n",
    "    REAL xx1 = xx[1][i1];\n",
    "    REAL xx2 = xx[2][i2];\n",
    "#include \"xxCart.h\"\n",
    "}\n",
    "\n",
    "// Contains BSSN_ID() for BrillLindquist initial data\n",
    "#include \"BrillLindquist.h\"\n",
    "\n",
    "// Part P4: Declare the function for the exact solution. time==0 corresponds to the initial data.\n",
    "void initial_data(const int Nxx_plus_2NGHOSTS[3],REAL *xx[3], REAL *in_gfs) {\n",
    "#pragma omp parallel for\n",
    "  LOOP_REGION(0,Nxx_plus_2NGHOSTS[0], 0,Nxx_plus_2NGHOSTS[1], 0,Nxx_plus_2NGHOSTS[2]) {\n",
    "    const int idx = IDX3(i0,i1,i2);\n",
    "    REAL xCart[3];\n",
    "    xxCart(xx, i0,i1,i2, xCart);\n",
    "    BSSN_ID(xx[0][i0],xx[1][i1],xx[2][i2],xCart[0],xCart[1],xCart[2],\n",
    "            &in_gfs[IDX4pt(HDD00GF,idx)],&in_gfs[IDX4pt(HDD01GF,idx)],&in_gfs[IDX4pt(HDD02GF,idx)],\n",
    "            &in_gfs[IDX4pt(HDD11GF,idx)],&in_gfs[IDX4pt(HDD12GF,idx)],&in_gfs[IDX4pt(HDD22GF,idx)],\n",
    "            &in_gfs[IDX4pt(TRKGF,idx)],\n",
    "            &in_gfs[IDX4pt(ADD00GF,idx)],&in_gfs[IDX4pt(ADD01GF,idx)],&in_gfs[IDX4pt(ADD02GF,idx)],\n",
    "            &in_gfs[IDX4pt(ADD11GF,idx)],&in_gfs[IDX4pt(ADD12GF,idx)],&in_gfs[IDX4pt(ADD22GF,idx)],\n",
    "            &in_gfs[IDX4pt(LAMBDAU0GF,idx)],&in_gfs[IDX4pt(LAMBDAU1GF,idx)],&in_gfs[IDX4pt(LAMBDAU2GF,idx)],\n",
    "            &in_gfs[IDX4pt(VETU0GF,idx)],&in_gfs[IDX4pt(VETU1GF,idx)],&in_gfs[IDX4pt(VETU2GF,idx)],\n",
    "            &in_gfs[IDX4pt(BETU0GF,idx)],&in_gfs[IDX4pt(BETU1GF,idx)],&in_gfs[IDX4pt(BETU2GF,idx)],\n",
    "            &in_gfs[IDX4pt(ALPHAGF,idx)],&in_gfs[IDX4pt(CFGF,idx)]);\n",
    "  }\n",
    "}\n",
    "\n",
    "void Hamiltonian_constraint(const int Nxx[3],const int Nxx_plus_2NGHOSTS[3],const REAL dxx[3], REAL *xx[3], \n",
    "                            REAL *in_gfs, REAL *aux_gfs) {\n",
    "#include \"Hamiltonian.h\"    \n",
    "}\n",
    "\n",
    "// Part P5: Declare the function to evaluate the scalar wave RHSs\n",
    "//void rhs_eval(const int Nxx[3],const int Nxx_plus_2NGHOSTS[3],const REAL dxx[3], REAL *xx[3], const REAL *in_gfs,REAL *rhs_gfs) {\n",
    "//#include \"ScalarWaveCurvilinear_RHSs.h\"\n",
    "//}\n",
    "\n",
    "// main() function:\n",
    "// Step 0: Read command-line input, set up grid structure, allocate memory for gridfunctions, set up coordinates\n",
    "// Step 1: Set up scalar wave initial data\n",
    "// Step 2: Evolve scalar wave initial data forward in time using Method of Lines with RK4 algorithm,\n",
    "//         applying quadratic extrapolation outer boundary conditions.\n",
    "// Step 3: Output relative error between numerical and exact solution.\n",
    "// Step 4: Free all allocated memory\n",
    "int main(int argc, const char *argv[]) {\n",
    "\n",
    "  // Step 0a: Read command-line input, error out if nonconformant\n",
    "  if(argc != 4 || atoi(argv[1]) < NGHOSTS) {\n",
    "      printf(\"Error: Expected one command-line argument: ./ScalarWaveCurvilinear_Playground Nx0 Nx1 Nx2,\\n\");\n",
    "      printf(\"where Nx[0,1,2] is the number of grid points in the 0, 1, and 2 directions.\\n\");\n",
    "      printf(\"Nx[] MUST BE larger than NGHOSTS (= %d)\\n\",NGHOSTS);\n",
    "      exit(1);\n",
    "  }\n",
    "  // Step 0b: Set up numerical grid structure, first in space...\n",
    "  const int Nx0 = atoi(argv[1]);\n",
    "  const int Nx1 = atoi(argv[2]);\n",
    "  const int Nx2 = atoi(argv[3]);\n",
    "  if(Nx0%2 != 0 || Nx1%2 != 0 || Nx2%2 != 0) {\n",
    "    printf(\"Error: Cannot guarantee a proper cell-centered grid if number of grid cells not set to even number.\\n\");\n",
    "    printf(\"       For example, in case of angular directions, proper symmetry zones will not exist.\\n\");\n",
    "    exit(1);\n",
    "  }\n",
    "  const int Nxx[3] = { Nx0, Nx1, Nx2 };\n",
    "  const int Nxx_plus_2NGHOSTS[3] = { Nxx[0]+2*NGHOSTS, Nxx[1]+2*NGHOSTS, Nxx[2]+2*NGHOSTS };\n",
    "  const int Nxx_plus_2NGHOSTS_tot = Nxx_plus_2NGHOSTS[0]*Nxx_plus_2NGHOSTS[1]*Nxx_plus_2NGHOSTS[2];\n",
    "#include \"xxminmax.h\"\n",
    "\n",
    "  // Step 0c: Allocate memory for gridfunctions\n",
    "  REAL *evol_gfs = (REAL *)malloc(sizeof(REAL) * NUM_EVOL_GFS * Nxx_plus_2NGHOSTS_tot);\n",
    "  REAL *aux_gfs  = (REAL *)malloc(sizeof(REAL) * NUM_AUX_GFS * Nxx_plus_2NGHOSTS_tot);\n",
    "  \n",
    "  // Step 0d: Set up space and time coordinates\n",
    "  // Step 0d.i: Set \\Delta x^i on uniform grids.\n",
    "  REAL dxx[3];\n",
    "  for(int i=0;i<3;i++) dxx[i] = (xxmax[i] - xxmin[i]) / ((REAL)Nxx[i]);\n",
    "\n",
    "  // Step 0d.ii: Set up uniform coordinate grids\n",
    "  REAL *xx[3];\n",
    "  for(int i=0;i<3;i++) {\n",
    "    xx[i] = (REAL *)malloc(sizeof(REAL)*Nxx_plus_2NGHOSTS[i]);\n",
    "    for(int j=0;j<Nxx_plus_2NGHOSTS[i];j++) {\n",
    "      xx[i][j] = xxmin[i] + ((REAL)(j-NGHOSTS) + (1.0/2.0))*dxx[i]; // Cell-centered grid.\n",
    "    }\n",
    "  }\n",
    "  \n",
    "  // Step 1: Set up initial data to be exact solution at time=0:\n",
    "  initial_data(Nxx_plus_2NGHOSTS, xx, evol_gfs);\n",
    "  // Step 2: Evaluate Hamiltonian constraint violation\n",
    "  Hamiltonian_constraint(Nxx,Nxx_plus_2NGHOSTS,dxx, xx, evol_gfs, aux_gfs);\n",
    "    \n",
    "  /* Step 3: Output relative error between numerical and exact solution, */\n",
    "  const int i0MIN=NGHOSTS; // In spherical, r=Delta r/2.\n",
    "  const int i1mid=Nxx_plus_2NGHOSTS[1]/2;\n",
    "  const int i2mid=Nxx_plus_2NGHOSTS[2]/2;\n",
    "  LOOP_REGION(NGHOSTS,Nxx_plus_2NGHOSTS[0]-NGHOSTS, i1mid,i1mid+1, NGHOSTS,Nxx_plus_2NGHOSTS[2]-NGHOSTS) {\n",
    "    REAL xx0 = xx[0][i0];\n",
    "    REAL xx1 = xx[1][i1];\n",
    "    REAL xx2 = xx[2][i2];\n",
    "    REAL xCart[3];\n",
    "#include \"xxCart.h\"\n",
    "    int idx = IDX3(i0,i1,i2);\n",
    "    printf(\"%e %e %e %e\\n\",xCart[0],xCart[1], evol_gfs[IDX4pt(CFGF,idx)],log10(fabs(aux_gfs[IDX4pt(HGF,idx)])));\n",
    "//     printf(\"%e %e %e %e %e %e %e %e %e\\n\",xCart[0],xCart[1],xCart[2], aux_gfs[IDX4pt(HGF,idx)],evol_gfs[IDX4pt(CFGF,idx)],\n",
    "//            evol_gfs[IDX4pt(ALPHAGF,idx)],evol_gfs[IDX4pt(VETU0GF,idx)],evol_gfs[IDX4pt(HDD00GF,idx)],\n",
    "//            evol_gfs[IDX4pt(LAMBDAU0GF,idx)]);\n",
    "  }\n",
    "  \n",
    "  /* Step 4: Free all allocated memory */\n",
    "  free(aux_gfs);\n",
    "  free(evol_gfs);\n",
    "  for(int i=0;i<3;i++) free(xx[i]);\n",
    "  return 0;\n",
    "}"
   ]
  },
  {
   "cell_type": "code",
   "execution_count": 13,
   "metadata": {},
   "outputs": [
    {
     "name": "stdout",
     "output_type": "stream",
     "text": [
      "\u001b[01m\u001b[KBSSN/BSSNCurvilinear_Playground.c:9:3:\u001b[m\u001b[K \u001b[01;31m\u001b[Kerror: \u001b[m\u001b[Kinvalid preprocessing directive #We\n",
      " # \u001b[01;31m\u001b[KWe\u001b[m\u001b[K store the 10 parity conditions in a struct consisting of 10 integers, one for each condition.\n",
      "   \u001b[01;31m\u001b[K^~\u001b[m\u001b[K\n",
      "In file included from \u001b[01m\u001b[KBSSN/BSSNCurvilinear_Playground.c:10:0\u001b[m\u001b[K:\n",
      "\u001b[01m\u001b[KBSSN/parity_condition_struct_type.h:2:3:\u001b[m\u001b[K \u001b[01;31m\u001b[Kerror: \u001b[m\u001b[Kinvalid preprocessing directive #We\n",
      " # \u001b[01;31m\u001b[KWe\u001b[m\u001b[K store the 10 parity conditions in a struct consisting of 10 integers, one for each condition.\n",
      "   \u001b[01;31m\u001b[K^~\u001b[m\u001b[K\n",
      "\u001b[01m\u001b[KBSSN/Hamiltonian.h:\u001b[m\u001b[K In function ‘\u001b[01m\u001b[KHamiltonian_constraint\u001b[m\u001b[K’:\n",
      "\u001b[01m\u001b[KBSSN/Hamiltonian.h:1221:29:\u001b[m\u001b[K \u001b[01;31m\u001b[Kerror: \u001b[m\u001b[K‘\u001b[01m\u001b[KHGF\u001b[m\u001b[K’ undeclared (first use in this function); did you mean ‘\u001b[01m\u001b[KCFGF\u001b[m\u001b[K’?\n",
      "                aux_gfs[IDX4(\u001b[01;31m\u001b[KH\u001b[m\u001b[KGF, i0, i1, i2)] = -aDD00*(tmp25*tmp48 + tmp29*tmp33 + tmp30*pow(tmp54, 2) + tmp45*tmp54 + tmp52*tmp55 + tmp53*tmp54) - aDD01*tmp34*(tmp33*tmp37 + tmp40*tmp50 + tmp40*tmp61 + tmp47*tmp64 + tmp48*tmp59 + tmp49*tmp62 + tmp49*tmp63 + tmp55*tmp57 + tmp65*tmp7) - aDD02*tmp42*(tmp28*tmp58 + tmp28*tmp64 + tmp29*tmp57 + tmp31*tmp65 + tmp37*tmp40 + tmp40*tmp60 + tmp55*tmp59 + tmp62*tmp7 + tmp63*tmp7) - tmp24*(tmp25*pow(tmp49, 2) + tmp30*tmp48 + tmp33*tmp8 + tmp44*tmp50 + tmp49*tmp53 + tmp51*tmp52) - tmp32*(tmp25*tmp8 + tmp29*tmp30 + pow(tmp31, 2)*tmp33 + tmp31*tmp45 + tmp36*tmp37 + 2*tmp41*tmp7) - 2*tmp39*(tmp25*tmp51 + tmp30*tmp55 + tmp37*tmp57 + tmp40*tmp8 + tmp41*tmp49 + tmp50*tmp59 + tmp57*tmp60 + tmp58*tmp7 + tmp59*tmp61) + tmp66*(-cf_dD0*tmp71*tmp77 - cf_dD2*tmp68*tmp71 - 16*tmp68*(-tmp101*(-tmp176 - tmp177 - tmp178) - tmp106*(-tmp179 - tmp180 - tmp181) + tmp83*(cf_dD2*tmp100 - cf_dDD12) - tmp94*(-tmp163 - tmp173 - tmp175)) + tmp68*(tmp601 + tmp68*(2*tmp369 + tmp585) + tmp68*(tmp399 + tmp587) + tmp68*(tmp448 + 2*tmp584) + tmp68*(tmp276*tmp303 + tmp588) + tmp68*(tmp400 + tmp401 + tmp590) + tmp68*(tmp301*tmp380 + tmp400 + tmp589) + tmp73*(2*tmp452 + tmp460) + tmp73*(tmp453 + tmp579) + tmp73*(tmp431 + tmp435 + tmp580) + tmp75*(tmp440 + 2*tmp554) + tmp75*(tmp527 + tmp551) + tmp75*(tmp528 + tmp548) + tmp75*(tmp546 + tmp591) + tmp75*(tmp429 + tmp552 + tmp592) + tmp75*(tmp430 + tmp466 + tmp556) + tmp77*(2*tmp360 + tmp583) + tmp77*(tmp374 + tmp586) + tmp77*(tmp530 + tmp540) + tmp77*(tmp531 + tmp539) + tmp77*(tmp385 + tmp386 + tmp494) + tmp77*(tmp394 + tmp488 + tmp532) + tmp79*(2*tmp364 + tmp581) + tmp79*(tmp383 + tmp582) + tmp79*(tmp387 + tmp388 + tmp397) + tmp81*(tmp529 + tmp549) + tmp81*(tmp533 + tmp543) + tmp81*(tmp294 + tmp307 + tmp499) - tmp87*(tmp427 + tmp597) - tmp98*(tmp356 + tmp594)) + tmp68*(tmp601 + tmp68*(tmp399 + tmp588) + tmp68*(2*tmp400 + tmp589) + tmp68*(tmp401 + 2*tmp590) + tmp68*(tmp275*tmp304 + tmp587) + tmp68*(tmp369 + tmp448 + tmp584) + tmp68*(tmp274*tmp395 + tmp369 + tmp585) + tmp73*(2*tmp435 + tmp580) + tmp73*(tmp457 + tmp579) + tmp73*(tmp452 + tmp460 + tmp461) + tmp75*(2*tmp429 + tmp592) + tmp75*(tmp438 + tmp591) + tmp75*(tmp445 + tmp578) + tmp75*(tmp463 + tmp577) + tmp75*(tmp466 + tmp574) + tmp75*(tmp440 + tmp441 + tmp554) + tmp77*(tmp386 + 2*tmp494) + tmp77*(tmp478 + tmp586) + tmp77*(tmp481 + tmp571) + tmp77*(tmp488 + tmp570) + tmp77*(tmp491 + tmp572) + tmp77*(tmp360 + tmp486 + tmp583) + tmp79*(tmp388 + 2*tmp397) + tmp79*(tmp391 + tmp582) + tmp79*(tmp364 + tmp367 + tmp581) + tmp81*(tmp291 + tmp576) + tmp81*(tmp476 + tmp575) + tmp81*(tmp499 + tmp573) - tmp87*(tmp426 + tmp597) - tmp98*(tmp358 + tmp594)) - tmp70*tmp75*tmp76 - tmp72*tmp73*tmp74 - 8*tmp73*(-tmp101*(-tmp190 - tmp191 - tmp192) - tmp106*(-tmp193 - tmp194 - tmp195) + tmp83*(-cf_dDD22 + tmp72*tmp82) - tmp94*(-tmp183 - tmp186 - tmp189)) + tmp73*(-tmp103*(hDD_dD220*tmp149 + hDD_dDD2200*tmp16 + 4*tmp406 - 2*tmp407) + tmp19*tmp405 + tmp238*tmp311 + tmp241*tmp429 + tmp241*tmp430 + tmp244*tmp428 + tmp244*tmp434 + tmp252*tmp431 + tmp252*tmp435 + tmp254*tmp400 + tmp262*tmp301*tmp433 + tmp27*tmp403 + tmp315*(tmp303*tmp313 + 2*tmp432 + tmp450*tmp6) + tmp316*(tmp285*tmp402 + tmp286*tmp313 + 2*tmp392) + tmp317*(tmp242*tmp313 + tmp256*tmp402 + 2*tmp298) + tmp404*tmp6 + tmp68*(2*tmp456 + tmp457) + tmp68*(2*tmp460 + tmp461) + tmp68*(tmp282*tmp442 + tmp453) + tmp68*(tmp380*tmp450 + tmp452) + tmp73*(tmp299*tmp442 + tmp303*tmp304) + tmp73*(tmp302*tmp395 + tmp393*tmp450) + tmp75*(2*tmp454 + tmp455) + tmp75*(2*tmp458 + tmp459) + tmp75*(tmp265*tmp442 + tmp443) + tmp75*(tmp282*tmp450 + tmp451) + tmp77*(2*tmp437 + tmp438) + tmp77*(2*tmp440 + tmp441) + tmp77*(2*tmp444 + tmp445) + tmp77*(2*tmp446 + tmp447) + tmp79*(tmp369 + 2*tmp448) + tmp79*(tmp399 + 2*tmp449) + tmp81*(tmp261 + 2*tmp436) + tmp81*(tmp309 + 2*tmp439) - tmp84*(hDD_dD120*tmp410 + tmp136*tmp409 + tmp408 + tmp414) - tmp84*(hDD02*tmp323*tmp34 + hDD_dD222*tmp149 + tmp149*tmp211 + tmp339 + tmp408 - 3*tmp413) - tmp87*(tmp149*tmp219 + tmp343 + tmp422 - tmp423 + tmp424) - tmp87*(4*tmp115*tmp16 + tmp119*tmp149 + tmp351 + tmp352*tmp402 - 3.0/2.0*tmp412*tmp417 + tmp422) - tmp92*(hDD_dD022*tmp411 + hDD_dD122*tmp410 + hDD_dDD2222*tmp16 + pow(tmp1, 4)*tmp425 + tmp149*tmp225 + tmp216*tmp415 + tmp349) - tmp95*(-tmp152*tmp417 - 3*tmp416 + tmp418) - tmp95*(tmp418 + tmp419 - 2*tmp420 - tmp421) - tmp98*(hDD22*(pow(tmp114, 2)*tmp136 - 2*tmp16) + 4*hDD_dD221*tmp168 + hDD_dDD2211*tmp16 + tmp10*tmp425 - tmp171*tmp417 - tmp415*tmp417 + tmp426 + tmp427)) - tmp74*tmp78*tmp79 - tmp74*tmp80*tmp81 - 16*tmp75*(-tmp101*(-tmp157 - tmp158 - tmp159) - tmp106*(-tmp160 - tmp161 - tmp162) + tmp83*(-cf_dDD02 + tmp76*tmp82) - tmp94*(-tmp147 - tmp154 - tmp156)) + tmp75*(tmp569 + tmp68*(2*tmp430 + tmp553) + tmp68*(tmp438 + tmp577) + tmp68*(tmp445 + tmp555) + tmp68*(tmp464 + tmp578) + tmp68*(tmp467 + tmp574) + tmp68*(tmp446 + tmp447 + tmp546) + tmp73*(2*tmp434 + tmp538) + tmp73*(tmp459 + tmp537) + tmp73*(tmp443 + tmp454 + tmp455) + tmp75*(tmp309 + tmp557) + tmp75*(2*tmp311 + tmp558) + tmp75*(tmp312 + 2*tmp560) + tmp75*(tmp235*tmp395 + tmp559) + tmp75*(tmp261 + tmp436 + tmp544) + tmp75*(tmp233*tmp304 + tmp261 + tmp547) + tmp77*(tmp295 + 2*tmp535) + tmp77*(tmp474 + tmp575) + tmp77*(tmp496 + tmp576) + tmp77*(tmp500 + tmp573) + tmp77*(tmp502 + tmp550) + tmp77*(tmp251 + tmp534 + tmp545) + tmp79*(tmp374 + tmp571) + tmp79*(tmp489 + tmp570) + tmp79*(tmp492 + tmp572) + tmp81*(tmp281 + 2*tmp300) + tmp81*(tmp297 + tmp542) + tmp81*(tmp243 + tmp259 + tmp541) - tmp98*(tmp536 + tmp563)) + tmp75*(tmp569 + tmp68*(tmp446 + 2*tmp546) + tmp68*(tmp462 + tmp548) + tmp68*(tmp465 + tmp551) + tmp68*(tmp554 + tmp555) + tmp68*(tmp429 + tmp467 + tmp556) + tmp68*(tmp430 + tmp552 + tmp553) + tmp73*(2*tmp443 + tmp454) + tmp73*(tmp451 + tmp537) + tmp73*(tmp428 + tmp434 + tmp538) + tmp75*(2*tmp261 + tmp547) + tmp75*(tmp309 + tmp559) + tmp75*(tmp436 + 2*tmp544) + tmp75*(tmp263*tmp302 + tmp557) + tmp75*(tmp311 + tmp312 + tmp560) + tmp75*(tmp265*tmp301 + tmp311 + tmp558) + tmp77*(2*tmp251 + tmp545) + tmp77*(tmp291 + tmp550) + tmp77*(tmp475 + tmp543) + tmp77*(tmp497 + tmp549) + tmp77*(tmp294 + tmp295 + tmp535) + tmp77*(tmp307 + tmp498 + tmp500) + tmp79*(tmp480 + tmp539) + tmp79*(tmp493 + tmp540) + tmp79*(tmp385 + tmp394 + tmp489) + tmp81*(2*tmp243 + tmp541) + tmp81*(tmp271 + tmp542) + tmp81*(tmp280 + tmp281 + tmp300) - tmp98*(tmp508 + tmp563)) - 16*tmp77*(-tmp101*(-tmp125 - tmp126 - tmp127) - tmp106*(-tmp128 - tmp129 - tmp130) + tmp83*(cf_dD0*tmp100 - cf_dDD01) - tmp94*(-tmp107 - tmp112 - tmp124)) + tmp77*(tmp526 + tmp68*(2*tmp368 + tmp487) + tmp68*(tmp374 + tmp531) + tmp68*(tmp394 + tmp495) + tmp68*(tmp490 + tmp532) + tmp68*(tmp492 + tmp530) + tmp68*(tmp389 + tmp390 + tmp478) + tmp73*(tmp430 + tmp468) + tmp73*(tmp438 + tmp528) + tmp73*(tmp464 + tmp527) + tmp75*(tmp294 + tmp501) + tmp75*(tmp306 + 2*tmp502) + tmp75*(tmp474 + tmp533) + tmp75*(tmp496 + tmp529) + tmp75*(tmp503 + tmp535) + tmp75*(tmp260 + tmp477 + tmp534) + tmp77*(tmp288 + 2*tmp485) + tmp77*(2*tmp289 + tmp482) + tmp77*(tmp292 + tmp483) + tmp77*(tmp234*tmp380 + tmp484) + tmp77*(tmp253 + tmp370 + tmp473) + tmp77*(tmp233*tmp276 + tmp253 + tmp479) + tmp79*(2*tmp363 + tmp470) + tmp79*(tmp381 + tmp469) + tmp79*(tmp372 + tmp378 + tmp379) + tmp81*(tmp270 + 2*tmp279) + tmp81*(tmp283 + tmp472) + tmp81*(tmp240 + tmp250 + tmp471) - tmp87*(tmp505 + tmp536)) + tmp77*(tmp526 + tmp68*(tmp385 + tmp490) + tmp68*(tmp389 + 2*tmp478) + tmp68*(tmp480 + tmp481) + tmp68*(tmp491 + tmp493) + tmp68*(tmp494 + tmp495) + tmp68*(tmp368 + tmp486 + tmp487) + tmp73*(tmp429 + tmp468) + tmp73*(tmp445 + tmp465) + tmp73*(tmp462 + tmp463) + tmp75*(2*tmp260 + tmp477) + tmp75*(tmp291 + tmp497) + tmp75*(tmp307 + tmp503) + tmp75*(tmp475 + tmp476) + tmp75*(tmp498 + tmp501) + tmp75*(tmp305 + tmp306 + tmp502) + tmp77*(2*tmp253 + tmp479) + tmp77*(tmp292 + tmp484) + tmp77*(tmp370 + 2*tmp473) + tmp77*(tmp265*tmp273 + tmp483) + tmp77*(tmp288 + tmp289 + tmp485) + tmp77*(tmp263*tmp274 + tmp289 + tmp482) + tmp79*(2*tmp372 + tmp379) + tmp79*(tmp375 + tmp469) + tmp79*(tmp359 + tmp363 + tmp470) + tmp81*(2*tmp240 + tmp471) + tmp81*(tmp267 + tmp472) + tmp81*(tmp269 + tmp270 + tmp279) - tmp87*(tmp505 + tmp508)) - 8*tmp79*(-tmp101*(-tmp141 - tmp142 - tmp143) - tmp106*(-tmp144 - tmp145 - tmp146) + tmp83*(-cf_dDD11 + tmp78*tmp82) - tmp94*(-tmp132 - tmp134 - tmp140)) + tmp79*(-tmp103*(4*hDD11 + hDD_dD110*tmp34 + hDD_dDD1100*tmp0 - 2*tmp331) + tmp15*tmp320 + tmp238*tmp289 + tmp241*tmp359 + tmp241*tmp363 + tmp244*tmp360 + tmp244*tmp368 + tmp252*tmp364 + tmp252*tmp367 + tmp254*tmp274*tmp362 + tmp262*tmp369 + tmp315*(tmp284*tmp402 + tmp286*tmp314 + 2*tmp365) + tmp316*(tmp273*tmp402 + tmp275*tmp314 + 2*tmp361) + tmp317*(tmp239*tmp314 + tmp245*tmp402 + 2*tmp277) + tmp318*tmp46 + tmp325*tmp6 + tmp68*(tmp383 + 2*tmp384) + tmp68*(tmp387 + 2*tmp388) + tmp68*(tmp296*tmp371 + tmp391) + tmp68*(tmp376*tmp395 + tmp397) + tmp73*(2*tmp398 + tmp399) + tmp73*(tmp400 + 2*tmp401) + tmp75*(2*tmp373 + tmp374) + tmp75*(tmp385 + 2*tmp386) + tmp75*(2*tmp389 + tmp390) + tmp75*(tmp394 + 2*tmp396) + tmp77*(tmp378 + 2*tmp379) + tmp77*(tmp381 + 2*tmp382) + tmp77*(tmp263*tmp371 + tmp372) + tmp77*(tmp296*tmp376 + tmp375) + tmp79*(tmp273*tmp380 + tmp366*tmp376) + tmp79*(tmp275*tmp276 + tmp278*tmp371) + tmp81*(tmp253 + 2*tmp370) + tmp81*(tmp292 + 2*tmp377) - tmp84*(tmp332 - tmp334 + tmp338) - tmp84*(hDD_dD112*tmp34 - tmp222*tmp339 + tmp332 - 3*tmp337) - tmp87*(tmp0*tmp213 - tmp222*tmp343 + tmp344) - tmp87*(-tmp222*tmp351 + tmp230*tmp34 + tmp344 + tmp356 + tmp358) - tmp92*(hDD_dDD1122*tmp0 + tmp10*tmp330 - tmp345 + tmp346 + tmp350) - tmp95*(tmp0*tmp199 + tmp326 + tmp329) - tmp95*(hDD_dD111*tmp34 + tmp209*tmp34 + tmp314 + tmp326 - 3*tmp328) - tmp98*(hDD_dDD1111*tmp0 + tmp0*tmp202 + tmp205*tmp34 + tmp330)) - 8*tmp81*(-tmp101*(-tmp96 - tmp97 - tmp99) - tmp106*(-tmp102 - tmp104 - tmp105) + tmp83*(-cf_dDD00 + tmp80*tmp82) - tmp94*(-tmp85 - tmp88 - tmp93)) + tmp81*(hDD01*lambdaU_dD10 + hDD02*lambdaU_dD20 - hDD_dDD0000*tmp103 + lambdaU_dD00*tmp4 + tmp233*tmp237*tmp238 + tmp240*tmp241 + tmp241*tmp250 + tmp243*tmp244 + tmp244*tmp259 + tmp251*tmp252 + tmp252*tmp260 + tmp253*tmp254 + tmp261*tmp262 + tmp315*(tmp255*tmp313 + tmp256*tmp314 + 2*tmp257) + tmp316*(tmp245*tmp313 + tmp247*tmp314 + 2*tmp248) + tmp317*(tmp234*tmp313 + tmp235*tmp314 + 2*tmp236) + tmp68*(2*tmp290 + tmp291) + tmp68*(tmp294 + 2*tmp295) + tmp68*(tmp305 + 2*tmp306) + tmp68*(tmp307 + 2*tmp308) + tmp73*(tmp309 + 2*tmp310) + tmp73*(tmp311 + 2*tmp312) + tmp75*(tmp271 + 2*tmp272) + tmp75*(tmp280 + 2*tmp281) + tmp75*(tmp264*tmp287 + tmp297) + tmp75*(tmp266*tmp304 + tmp300) + tmp77*(tmp267 + 2*tmp268) + tmp77*(tmp269 + 2*tmp270) + tmp77*(tmp264*tmp276 + tmp279) + tmp77*(tmp266*tmp287 + tmp283) + tmp79*(2*tmp288 + tmp289) + tmp79*(tmp292 + 2*tmp293) + tmp81*(tmp234*tmp265 + tmp258*tmp266) + tmp81*(tmp235*tmp263 + tmp249*tmp264) - tmp84*(tmp198 - 2*tmp90) - tmp84*(tmp196*tmp89 + tmp198 - 2*tmp212) - tmp87*(-tmp213 + tmp221 + tmp224) - tmp87*(tmp224 - 2*tmp229 + tmp232) - tmp92*(hDD_dDD0022 - 2*tmp184 + tmp200*tmp216 + tmp228) - tmp95*(-tmp199 + tmp201) - tmp95*(tmp196*tmp9 + tmp201 - 2*tmp210) - tmp98*(hDD_dDD0011 - tmp202 + tmp207))) + (2.0/3.0)*pow(trK, 2);\n",
      "                             \u001b[01;31m\u001b[K^\u001b[m\u001b[K\n",
      "\u001b[01m\u001b[KBSSN/BSSNCurvilinear_Playground.c:41:95:\u001b[m\u001b[K \u001b[01;36m\u001b[Knote: \u001b[m\u001b[Kin definition of macro ‘\u001b[01m\u001b[KIDX4\u001b[m\u001b[K’\n",
      " TS[0] * ( (j) + Nxx_plus_2NGHOSTS[1] * ( (k) + Nxx_plus_2NGHOSTS[2] * (\u001b[01;36m\u001b[Kg\u001b[m\u001b[K) ) ) )\n",
      "                                                                        \u001b[01;36m\u001b[K^\u001b[m\u001b[K\n",
      "\u001b[01m\u001b[KBSSN/Hamiltonian.h:1221:29:\u001b[m\u001b[K \u001b[01;36m\u001b[Knote: \u001b[m\u001b[Keach undeclared identifier is reported only once for each function it appears in\n",
      "                aux_gfs[IDX4(\u001b[01;36m\u001b[KH\u001b[m\u001b[KGF, i0, i1, i2)] = -aDD00*(tmp25*tmp48 + tmp29*tmp33 + tmp30*pow(tmp54, 2) + tmp45*tmp54 + tmp52*tmp55 + tmp53*tmp54) - aDD01*tmp34*(tmp33*tmp37 + tmp40*tmp50 + tmp40*tmp61 + tmp47*tmp64 + tmp48*tmp59 + tmp49*tmp62 + tmp49*tmp63 + tmp55*tmp57 + tmp65*tmp7) - aDD02*tmp42*(tmp28*tmp58 + tmp28*tmp64 + tmp29*tmp57 + tmp31*tmp65 + tmp37*tmp40 + tmp40*tmp60 + tmp55*tmp59 + tmp62*tmp7 + tmp63*tmp7) - tmp24*(tmp25*pow(tmp49, 2) + tmp30*tmp48 + tmp33*tmp8 + tmp44*tmp50 + tmp49*tmp53 + tmp51*tmp52) - tmp32*(tmp25*tmp8 + tmp29*tmp30 + pow(tmp31, 2)*tmp33 + tmp31*tmp45 + tmp36*tmp37 + 2*tmp41*tmp7) - 2*tmp39*(tmp25*tmp51 + tmp30*tmp55 + tmp37*tmp57 + tmp40*tmp8 + tmp41*tmp49 + tmp50*tmp59 + tmp57*tmp60 + tmp58*tmp7 + tmp59*tmp61) + tmp66*(-cf_dD0*tmp71*tmp77 - cf_dD2*tmp68*tmp71 - 16*tmp68*(-tmp101*(-tmp176 - tmp177 - tmp178) - tmp106*(-tmp179 - tmp180 - tmp181) + tmp83*(cf_dD2*tmp100 - cf_dDD12) - tmp94*(-tmp163 - tmp173 - tmp175)) + tmp68*(tmp601 + tmp68*(2*tmp369 + tmp585) + tmp68*(tmp399 + tmp587) + tmp68*(tmp448 + 2*tmp584) + tmp68*(tmp276*tmp303 + tmp588) + tmp68*(tmp400 + tmp401 + tmp590) + tmp68*(tmp301*tmp380 + tmp400 + tmp589) + tmp73*(2*tmp452 + tmp460) + tmp73*(tmp453 + tmp579) + tmp73*(tmp431 + tmp435 + tmp580) + tmp75*(tmp440 + 2*tmp554) + tmp75*(tmp527 + tmp551) + tmp75*(tmp528 + tmp548) + tmp75*(tmp546 + tmp591) + tmp75*(tmp429 + tmp552 + tmp592) + tmp75*(tmp430 + tmp466 + tmp556) + tmp77*(2*tmp360 + tmp583) + tmp77*(tmp374 + tmp586) + tmp77*(tmp530 + tmp540) + tmp77*(tmp531 + tmp539) + tmp77*(tmp385 + tmp386 + tmp494) + tmp77*(tmp394 + tmp488 + tmp532) + tmp79*(2*tmp364 + tmp581) + tmp79*(tmp383 + tmp582) + tmp79*(tmp387 + tmp388 + tmp397) + tmp81*(tmp529 + tmp549) + tmp81*(tmp533 + tmp543) + tmp81*(tmp294 + tmp307 + tmp499) - tmp87*(tmp427 + tmp597) - tmp98*(tmp356 + tmp594)) + tmp68*(tmp601 + tmp68*(tmp399 + tmp588) + tmp68*(2*tmp400 + tmp589) + tmp68*(tmp401 + 2*tmp590) + tmp68*(tmp275*tmp304 + tmp587) + tmp68*(tmp369 + tmp448 + tmp584) + tmp68*(tmp274*tmp395 + tmp369 + tmp585) + tmp73*(2*tmp435 + tmp580) + tmp73*(tmp457 + tmp579) + tmp73*(tmp452 + tmp460 + tmp461) + tmp75*(2*tmp429 + tmp592) + tmp75*(tmp438 + tmp591) + tmp75*(tmp445 + tmp578) + tmp75*(tmp463 + tmp577) + tmp75*(tmp466 + tmp574) + tmp75*(tmp440 + tmp441 + tmp554) + tmp77*(tmp386 + 2*tmp494) + tmp77*(tmp478 + tmp586) + tmp77*(tmp481 + tmp571) + tmp77*(tmp488 + tmp570) + tmp77*(tmp491 + tmp572) + tmp77*(tmp360 + tmp486 + tmp583) + tmp79*(tmp388 + 2*tmp397) + tmp79*(tmp391 + tmp582) + tmp79*(tmp364 + tmp367 + tmp581) + tmp81*(tmp291 + tmp576) + tmp81*(tmp476 + tmp575) + tmp81*(tmp499 + tmp573) - tmp87*(tmp426 + tmp597) - tmp98*(tmp358 + tmp594)) - tmp70*tmp75*tmp76 - tmp72*tmp73*tmp74 - 8*tmp73*(-tmp101*(-tmp190 - tmp191 - tmp192) - tmp106*(-tmp193 - tmp194 - tmp195) + tmp83*(-cf_dDD22 + tmp72*tmp82) - tmp94*(-tmp183 - tmp186 - tmp189)) + tmp73*(-tmp103*(hDD_dD220*tmp149 + hDD_dDD2200*tmp16 + 4*tmp406 - 2*tmp407) + tmp19*tmp405 + tmp238*tmp311 + tmp241*tmp429 + tmp241*tmp430 + tmp244*tmp428 + tmp244*tmp434 + tmp252*tmp431 + tmp252*tmp435 + tmp254*tmp400 + tmp262*tmp301*tmp433 + tmp27*tmp403 + tmp315*(tmp303*tmp313 + 2*tmp432 + tmp450*tmp6) + tmp316*(tmp285*tmp402 + tmp286*tmp313 + 2*tmp392) + tmp317*(tmp242*tmp313 + tmp256*tmp402 + 2*tmp298) + tmp404*tmp6 + tmp68*(2*tmp456 + tmp457) + tmp68*(2*tmp460 + tmp461) + tmp68*(tmp282*tmp442 + tmp453) + tmp68*(tmp380*tmp450 + tmp452) + tmp73*(tmp299*tmp442 + tmp303*tmp304) + tmp73*(tmp302*tmp395 + tmp393*tmp450) + tmp75*(2*tmp454 + tmp455) + tmp75*(2*tmp458 + tmp459) + tmp75*(tmp265*tmp442 + tmp443) + tmp75*(tmp282*tmp450 + tmp451) + tmp77*(2*tmp437 + tmp438) + tmp77*(2*tmp440 + tmp441) + tmp77*(2*tmp444 + tmp445) + tmp77*(2*tmp446 + tmp447) + tmp79*(tmp369 + 2*tmp448) + tmp79*(tmp399 + 2*tmp449) + tmp81*(tmp261 + 2*tmp436) + tmp81*(tmp309 + 2*tmp439) - tmp84*(hDD_dD120*tmp410 + tmp136*tmp409 + tmp408 + tmp414) - tmp84*(hDD02*tmp323*tmp34 + hDD_dD222*tmp149 + tmp149*tmp211 + tmp339 + tmp408 - 3*tmp413) - tmp87*(tmp149*tmp219 + tmp343 + tmp422 - tmp423 + tmp424) - tmp87*(4*tmp115*tmp16 + tmp119*tmp149 + tmp351 + tmp352*tmp402 - 3.0/2.0*tmp412*tmp417 + tmp422) - tmp92*(hDD_dD022*tmp411 + hDD_dD122*tmp410 + hDD_dDD2222*tmp16 + pow(tmp1, 4)*tmp425 + tmp149*tmp225 + tmp216*tmp415 + tmp349) - tmp95*(-tmp152*tmp417 - 3*tmp416 + tmp418) - tmp95*(tmp418 + tmp419 - 2*tmp420 - tmp421) - tmp98*(hDD22*(pow(tmp114, 2)*tmp136 - 2*tmp16) + 4*hDD_dD221*tmp168 + hDD_dDD2211*tmp16 + tmp10*tmp425 - tmp171*tmp417 - tmp415*tmp417 + tmp426 + tmp427)) - tmp74*tmp78*tmp79 - tmp74*tmp80*tmp81 - 16*tmp75*(-tmp101*(-tmp157 - tmp158 - tmp159) - tmp106*(-tmp160 - tmp161 - tmp162) + tmp83*(-cf_dDD02 + tmp76*tmp82) - tmp94*(-tmp147 - tmp154 - tmp156)) + tmp75*(tmp569 + tmp68*(2*tmp430 + tmp553) + tmp68*(tmp438 + tmp577) + tmp68*(tmp445 + tmp555) + tmp68*(tmp464 + tmp578) + tmp68*(tmp467 + tmp574) + tmp68*(tmp446 + tmp447 + tmp546) + tmp73*(2*tmp434 + tmp538) + tmp73*(tmp459 + tmp537) + tmp73*(tmp443 + tmp454 + tmp455) + tmp75*(tmp309 + tmp557) + tmp75*(2*tmp311 + tmp558) + tmp75*(tmp312 + 2*tmp560) + tmp75*(tmp235*tmp395 + tmp559) + tmp75*(tmp261 + tmp436 + tmp544) + tmp75*(tmp233*tmp304 + tmp261 + tmp547) + tmp77*(tmp295 + 2*tmp535) + tmp77*(tmp474 + tmp575) + tmp77*(tmp496 + tmp576) + tmp77*(tmp500 + tmp573) + tmp77*(tmp502 + tmp550) + tmp77*(tmp251 + tmp534 + tmp545) + tmp79*(tmp374 + tmp571) + tmp79*(tmp489 + tmp570) + tmp79*(tmp492 + tmp572) + tmp81*(tmp281 + 2*tmp300) + tmp81*(tmp297 + tmp542) + tmp81*(tmp243 + tmp259 + tmp541) - tmp98*(tmp536 + tmp563)) + tmp75*(tmp569 + tmp68*(tmp446 + 2*tmp546) + tmp68*(tmp462 + tmp548) + tmp68*(tmp465 + tmp551) + tmp68*(tmp554 + tmp555) + tmp68*(tmp429 + tmp467 + tmp556) + tmp68*(tmp430 + tmp552 + tmp553) + tmp73*(2*tmp443 + tmp454) + tmp73*(tmp451 + tmp537) + tmp73*(tmp428 + tmp434 + tmp538) + tmp75*(2*tmp261 + tmp547) + tmp75*(tmp309 + tmp559) + tmp75*(tmp436 + 2*tmp544) + tmp75*(tmp263*tmp302 + tmp557) + tmp75*(tmp311 + tmp312 + tmp560) + tmp75*(tmp265*tmp301 + tmp311 + tmp558) + tmp77*(2*tmp251 + tmp545) + tmp77*(tmp291 + tmp550) + tmp77*(tmp475 + tmp543) + tmp77*(tmp497 + tmp549) + tmp77*(tmp294 + tmp295 + tmp535) + tmp77*(tmp307 + tmp498 + tmp500) + tmp79*(tmp480 + tmp539) + tmp79*(tmp493 + tmp540) + tmp79*(tmp385 + tmp394 + tmp489) + tmp81*(2*tmp243 + tmp541) + tmp81*(tmp271 + tmp542) + tmp81*(tmp280 + tmp281 + tmp300) - tmp98*(tmp508 + tmp563)) - 16*tmp77*(-tmp101*(-tmp125 - tmp126 - tmp127) - tmp106*(-tmp128 - tmp129 - tmp130) + tmp83*(cf_dD0*tmp100 - cf_dDD01) - tmp94*(-tmp107 - tmp112 - tmp124)) + tmp77*(tmp526 + tmp68*(2*tmp368 + tmp487) + tmp68*(tmp374 + tmp531) + tmp68*(tmp394 + tmp495) + tmp68*(tmp490 + tmp532) + tmp68*(tmp492 + tmp530) + tmp68*(tmp389 + tmp390 + tmp478) + tmp73*(tmp430 + tmp468) + tmp73*(tmp438 + tmp528) + tmp73*(tmp464 + tmp527) + tmp75*(tmp294 + tmp501) + tmp75*(tmp306 + 2*tmp502) + tmp75*(tmp474 + tmp533) + tmp75*(tmp496 + tmp529) + tmp75*(tmp503 + tmp535) + tmp75*(tmp260 + tmp477 + tmp534) + tmp77*(tmp288 + 2*tmp485) + tmp77*(2*tmp289 + tmp482) + tmp77*(tmp292 + tmp483) + tmp77*(tmp234*tmp380 + tmp484) + tmp77*(tmp253 + tmp370 + tmp473) + tmp77*(tmp233*tmp276 + tmp253 + tmp479) + tmp79*(2*tmp363 + tmp470) + tmp79*(tmp381 + tmp469) + tmp79*(tmp372 + tmp378 + tmp379) + tmp81*(tmp270 + 2*tmp279) + tmp81*(tmp283 + tmp472) + tmp81*(tmp240 + tmp250 + tmp471) - tmp87*(tmp505 + tmp536)) + tmp77*(tmp526 + tmp68*(tmp385 + tmp490) + tmp68*(tmp389 + 2*tmp478) + tmp68*(tmp480 + tmp481) + tmp68*(tmp491 + tmp493) + tmp68*(tmp494 + tmp495) + tmp68*(tmp368 + tmp486 + tmp487) + tmp73*(tmp429 + tmp468) + tmp73*(tmp445 + tmp465) + tmp73*(tmp462 + tmp463) + tmp75*(2*tmp260 + tmp477) + tmp75*(tmp291 + tmp497) + tmp75*(tmp307 + tmp503) + tmp75*(tmp475 + tmp476) + tmp75*(tmp498 + tmp501) + tmp75*(tmp305 + tmp306 + tmp502) + tmp77*(2*tmp253 + tmp479) + tmp77*(tmp292 + tmp484) + tmp77*(tmp370 + 2*tmp473) + tmp77*(tmp265*tmp273 + tmp483) + tmp77*(tmp288 + tmp289 + tmp485) + tmp77*(tmp263*tmp274 + tmp289 + tmp482) + tmp79*(2*tmp372 + tmp379) + tmp79*(tmp375 + tmp469) + tmp79*(tmp359 + tmp363 + tmp470) + tmp81*(2*tmp240 + tmp471) + tmp81*(tmp267 + tmp472) + tmp81*(tmp269 + tmp270 + tmp279) - tmp87*(tmp505 + tmp508)) - 8*tmp79*(-tmp101*(-tmp141 - tmp142 - tmp143) - tmp106*(-tmp144 - tmp145 - tmp146) + tmp83*(-cf_dDD11 + tmp78*tmp82) - tmp94*(-tmp132 - tmp134 - tmp140)) + tmp79*(-tmp103*(4*hDD11 + hDD_dD110*tmp34 + hDD_dDD1100*tmp0 - 2*tmp331) + tmp15*tmp320 + tmp238*tmp289 + tmp241*tmp359 + tmp241*tmp363 + tmp244*tmp360 + tmp244*tmp368 + tmp252*tmp364 + tmp252*tmp367 + tmp254*tmp274*tmp362 + tmp262*tmp369 + tmp315*(tmp284*tmp402 + tmp286*tmp314 + 2*tmp365) + tmp316*(tmp273*tmp402 + tmp275*tmp314 + 2*tmp361) + tmp317*(tmp239*tmp314 + tmp245*tmp402 + 2*tmp277) + tmp318*tmp46 + tmp325*tmp6 + tmp68*(tmp383 + 2*tmp384) + tmp68*(tmp387 + 2*tmp388) + tmp68*(tmp296*tmp371 + tmp391) + tmp68*(tmp376*tmp395 + tmp397) + tmp73*(2*tmp398 + tmp399) + tmp73*(tmp400 + 2*tmp401) + tmp75*(2*tmp373 + tmp374) + tmp75*(tmp385 + 2*tmp386) + tmp75*(2*tmp389 + tmp390) + tmp75*(tmp394 + 2*tmp396) + tmp77*(tmp378 + 2*tmp379) + tmp77*(tmp381 + 2*tmp382) + tmp77*(tmp263*tmp371 + tmp372) + tmp77*(tmp296*tmp376 + tmp375) + tmp79*(tmp273*tmp380 + tmp366*tmp376) + tmp79*(tmp275*tmp276 + tmp278*tmp371) + tmp81*(tmp253 + 2*tmp370) + tmp81*(tmp292 + 2*tmp377) - tmp84*(tmp332 - tmp334 + tmp338) - tmp84*(hDD_dD112*tmp34 - tmp222*tmp339 + tmp332 - 3*tmp337) - tmp87*(tmp0*tmp213 - tmp222*tmp343 + tmp344) - tmp87*(-tmp222*tmp351 + tmp230*tmp34 + tmp344 + tmp356 + tmp358) - tmp92*(hDD_dDD1122*tmp0 + tmp10*tmp330 - tmp345 + tmp346 + tmp350) - tmp95*(tmp0*tmp199 + tmp326 + tmp329) - tmp95*(hDD_dD111*tmp34 + tmp209*tmp34 + tmp314 + tmp326 - 3*tmp328) - tmp98*(hDD_dDD1111*tmp0 + tmp0*tmp202 + tmp205*tmp34 + tmp330)) - 8*tmp81*(-tmp101*(-tmp96 - tmp97 - tmp99) - tmp106*(-tmp102 - tmp104 - tmp105) + tmp83*(-cf_dDD00 + tmp80*tmp82) - tmp94*(-tmp85 - tmp88 - tmp93)) + tmp81*(hDD01*lambdaU_dD10 + hDD02*lambdaU_dD20 - hDD_dDD0000*tmp103 + lambdaU_dD00*tmp4 + tmp233*tmp237*tmp238 + tmp240*tmp241 + tmp241*tmp250 + tmp243*tmp244 + tmp244*tmp259 + tmp251*tmp252 + tmp252*tmp260 + tmp253*tmp254 + tmp261*tmp262 + tmp315*(tmp255*tmp313 + tmp256*tmp314 + 2*tmp257) + tmp316*(tmp245*tmp313 + tmp247*tmp314 + 2*tmp248) + tmp317*(tmp234*tmp313 + tmp235*tmp314 + 2*tmp236) + tmp68*(2*tmp290 + tmp291) + tmp68*(tmp294 + 2*tmp295) + tmp68*(tmp305 + 2*tmp306) + tmp68*(tmp307 + 2*tmp308) + tmp73*(tmp309 + 2*tmp310) + tmp73*(tmp311 + 2*tmp312) + tmp75*(tmp271 + 2*tmp272) + tmp75*(tmp280 + 2*tmp281) + tmp75*(tmp264*tmp287 + tmp297) + tmp75*(tmp266*tmp304 + tmp300) + tmp77*(tmp267 + 2*tmp268) + tmp77*(tmp269 + 2*tmp270) + tmp77*(tmp264*tmp276 + tmp279) + tmp77*(tmp266*tmp287 + tmp283) + tmp79*(2*tmp288 + tmp289) + tmp79*(tmp292 + 2*tmp293) + tmp81*(tmp234*tmp265 + tmp258*tmp266) + tmp81*(tmp235*tmp263 + tmp249*tmp264) - tmp84*(tmp198 - 2*tmp90) - tmp84*(tmp196*tmp89 + tmp198 - 2*tmp212) - tmp87*(-tmp213 + tmp221 + tmp224) - tmp87*(tmp224 - 2*tmp229 + tmp232) - tmp92*(hDD_dDD0022 - 2*tmp184 + tmp200*tmp216 + tmp228) - tmp95*(-tmp199 + tmp201) - tmp95*(tmp196*tmp9 + tmp201 - 2*tmp210) - tmp98*(hDD_dDD0011 - tmp202 + tmp207))) + (2.0/3.0)*pow(trK, 2);\n",
      "                             \u001b[01;36m\u001b[K^\u001b[m\u001b[K\n",
      "\u001b[01m\u001b[KBSSN/BSSNCurvilinear_Playground.c:41:95:\u001b[m\u001b[K \u001b[01;36m\u001b[Knote: \u001b[m\u001b[Kin definition of macro ‘\u001b[01m\u001b[KIDX4\u001b[m\u001b[K’\n",
      " TS[0] * ( (j) + Nxx_plus_2NGHOSTS[1] * ( (k) + Nxx_plus_2NGHOSTS[2] * (\u001b[01;36m\u001b[Kg\u001b[m\u001b[K) ) ) )\n",
      "                                                                        \u001b[01;36m\u001b[K^\u001b[m\u001b[K\n",
      "\u001b[01m\u001b[KBSSN/BSSNCurvilinear_Playground.c:\u001b[m\u001b[K In function ‘\u001b[01m\u001b[Kmain\u001b[m\u001b[K’:\n",
      "\u001b[01m\u001b[KBSSN/BSSNCurvilinear_Playground.c:156:100:\u001b[m\u001b[K \u001b[01;31m\u001b[Kerror: \u001b[m\u001b[K‘\u001b[01m\u001b[KHGF\u001b[m\u001b[K’ undeclared (first use in this function); did you mean ‘\u001b[01m\u001b[KCFGF\u001b[m\u001b[K’?\n",
      " t[0],xCart[1], evol_gfs[IDX4pt(CFGF,idx)],log10(fabs(aux_gfs[IDX4pt(\u001b[01;31m\u001b[KH\u001b[m\u001b[KGF,idx)])));\n",
      "                                                                     \u001b[01;31m\u001b[K^\u001b[m\u001b[K\n",
      "\u001b[01m\u001b[KBSSN/BSSNCurvilinear_Playground.c:44:103:\u001b[m\u001b[K \u001b[01;36m\u001b[Knote: \u001b[m\u001b[Kin definition of macro ‘\u001b[01m\u001b[KIDX4pt\u001b[m\u001b[K’\n",
      " idx) + (Nxx_plus_2NGHOSTS[0]*Nxx_plus_2NGHOSTS[1]*Nxx_plus_2NGHOSTS[2]) * (\u001b[01;36m\u001b[Kg\u001b[m\u001b[K) )\n",
      "                                                                            \u001b[01;36m\u001b[K^\u001b[m\u001b[K\n"
     ]
    },
    {
     "name": "stdout",
     "output_type": "stream",
     "text": [
      "taskset: failed to execute ./BSSNCurvilinear_Playground: No such file or directory\r\n"
     ]
    }
   ],
   "source": [
    "!cd BSSN/\n",
    "!gcc -Ofast -march=native -ftree-parallelize-loops=2 -fopenmp BSSN/BSSNCurvilinear_Playground.c -o BSSNCurvilinear_Playground -lm\n",
    "!taskset -c 0,1 ./BSSNCurvilinear_Playground 96 96 96 > out96.txt"
   ]
  },
  {
   "cell_type": "markdown",
   "metadata": {},
   "source": [
    "## Now plot the two-black-hole initial data\n",
    "\n",
    "Here we plot the evolved conformal factor of these initial data on a 2D grid, such that darker colors imply stronger gravitational fields. Hence, we see the two black holes centered at $x/M=\\pm 1$, where $M$ is an arbitrary mass scale (conventionally the [ADM mass](https://en.wikipedia.org/w/index.php?title=ADM_formalism&oldid=846335453) is chosen), and our formulation of Einstein's equations adopt $G=c=1$ [geometrized units](https://en.wikipedia.org/w/index.php?title=Geometrized_unit_system&oldid=861682626)."
   ]
  },
  {
   "cell_type": "code",
   "execution_count": 14,
   "metadata": {},
   "outputs": [],
   "source": [
    "!pip install scipy > /dev/null"
   ]
  }
 ],
 "metadata": {
  "kernelspec": {
   "display_name": "Python 2",
   "language": "python",
   "name": "python2"
  },
  "language_info": {
   "codemirror_mode": {
    "name": "ipython",
    "version": 2
   },
   "file_extension": ".py",
   "mimetype": "text/x-python",
   "name": "python",
   "nbconvert_exporter": "python",
   "pygments_lexer": "ipython2",
   "version": "2.7.13"
  }
 },
 "nbformat": 4,
 "nbformat_minor": 2
}
