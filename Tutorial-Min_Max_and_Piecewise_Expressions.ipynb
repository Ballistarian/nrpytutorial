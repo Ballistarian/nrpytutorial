{
 "cells": [
  {
   "cell_type": "markdown",
   "metadata": {},
   "source": [
    "<script async src=\"https://www.googletagmanager.com/gtag/js?id=UA-59152712-8\"></script>\n",
    "<script>\n",
    "  window.dataLayer = window.dataLayer || [];\n",
    "  function gtag(){dataLayer.push(arguments);}\n",
    "  gtag('js', new Date());\n",
    "\n",
    "  gtag('config', 'UA-59152712-8');\n",
    "</script>\n",
    "\n",
    "# Removing `if` Statements from Expressions \n",
    "\n",
    "## Author: Patrick Nelson\n",
    "### Formatting improvements courtesy Brandon Clark\n",
    "\n",
    "### NRPy+ Source Code for this module: \n",
    "* [Min_Max_and_Piecewise_Expressions.py](../edit/Min_Max_and_Piecewise_Expressions.py) Contains functions that can be used to compute the minimum or maximum of two values and to implement piecewise-defined expressions \n",
    "\n",
    "## Introduction:\n",
    "\n",
    "Conditional statements are a critical tool in programming, allowing us to control the flow through a program to avoid pitfalls, code piecewise-defined functions, and so forth. However, there are times when it is useful to work around them. It takes a processor time to evaluate the whether or not to execute the code block, so for some expressions, performance can be improved by rewriting the expression to use an absolute value function in a manner upon which we will expand in this tutorial. Even more relevant to NRPy+ are piecewise-defined functions. These inherently involve `if` statements, but NRPy+'s automatic code generation cannot handle these by itself, requiring hand-coding to be done. However, if it is possible to rewrite the expression in terms of absolute values, then NRPy+ can handle the entire thing itself. \n",
    "\n",
    "The absolute value is a function that simply returns the magnitude of its argument, a positive value. That is, \n",
    "\\begin{align}\n",
    "|x|&= \\left \\{ \\begin{array}{lll}x & \\mbox{if} & x \\geq 0 \\\\\n",
    "-x & \\mbox{if} & x \\leq 0 \\end{array} \\right. \\\\\n",
    "\\end{align}\n",
    "\n",
    "In C, this is implemented as `fabs()`, which merely has to make the first bit of a double-precision floating point number 0, and is thus quite fast. \n",
    "\n",
    "There are myriad uses for these tricks in practice. One example comes from GRMHD (and, by extension, the special cases of GRFFE and GRHD), in which it is necessary to limit the velocity of the plasma in order to keep the simulations stable. This is done by calculating the Lorentz factor $\\Gamma$ of the plasma and comparing to some predefined maximum $\\Gamma_\\max$. Then, if\n",
    "$$\n",
    "R = 1-\\frac{1}{\\Gamma^2} > 1-\\frac{1}{\\Gamma_{\\max}^2} = R_\\max,\n",
    "$$\n",
    "we rescale the velocities by $\\sqrt{R_\\max/R}$. In NRPy+, we instead always rescale by\n",
    "$$\n",
    "\\sqrt{\\frac{\\min(R,R_\\max)}{R+\\epsilon}},\n",
    "$$\n",
    "which has the same effect while allowing the entire process to be handled by NRPy+'s automatic code generation. ($\\epsilon$ is some small number chosen to avoid division by zero without affecting the results otherwise.) See [here](Tutorial-GRHD_Equations-Cartesian.ipynb#convertvtou) for more information on this. "
   ]
  },
  {
   "cell_type": "markdown",
   "metadata": {},
   "source": [
    "<a id='toc'></a>\n",
    "\n",
    "# Table of Contents\n",
    "$$\\label{toc}$$\n",
    "\n",
    "This notebook is organized as follows\n",
    "\n",
    "0. [Step 0](#prelim): Preliminaries\n",
    "1. [Step 1](#min_max): Minimum and Maximum\n",
    "    1. [Step 1.a](#confirm): Confirm that these work for real numbers\n",
    "1. [Step 2](#piecewise): Piecewise-defined functions\n",
    "1. [Step 3](#sympy): Rewrite functions to work with symbolic expressions\n",
    "1. [Step 4](#validation): Validation against `Min_Max_and_Piecewise_Expressions` NRPy+ module\n",
    "1. [Step 5](#latex_pdf_output): Output this notebook to $\\LaTeX$-formatted PDF file"
   ]
  },
  {
   "cell_type": "markdown",
   "metadata": {},
   "source": [
    "<a id='prelim'></a>\n",
    "\n",
    "# Step 0: Important note about absolute values in `SymPy` \\[Back to [top](#toc)\\]\n",
    "$$\\label{prelim}$$\n",
    "\n",
    "We will start by importing the Python modules we want to use. For demonstration purposes, we will use `np.absolute()` and floating point numbers. In practice, we will want to use `nrpyAbs()` and *not* `sp.Abs()` with our symbolic expressions, which will force `outputC` to use the C function `fabs()`, and not try to multiply the argument by its complex conjugate and then take the square root."
   ]
  },
  {
   "cell_type": "markdown",
   "metadata": {},
   "source": [
    "<a id='min_max'></a>\n",
    "\n",
    "# Step 1: Minimum and Maximum \\[Back to [top](#toc)\\]\n",
    "$$\\label{min_max}$$\n",
    "\n",
    "Our first job will be to rewrite minimum and maximum functions without if statements. For example, the typical implementation of `min(a,b)` will be something like this:\n",
    "```python\n",
    "def min(a,b):\n",
    "    if a<b:\n",
    "        return a\n",
    "    else:\n",
    "        return b\n",
    "```\n",
    "However, to take full advantage of NRPy+'s automated function generation capabilities, we want to write this without the `if` statements, replacing them with calls to `fabs()`. We will define these functions in the following way: \n",
    "$$\\boxed{\n",
    "\\min(a,b) = \\tfrac{1}{2} \\left( a+b - \\lvert a-b \\rvert \\right)\\\\\n",
    "\\max(a,b) = \\tfrac{1}{2} \\left( a+b + \\lvert a-b \\rvert \\right).}\n",
    "$$\n",
    "\n",
    "<a id='confirm'></a>\n",
    "\n",
    "## Step 1.a: Confirm that these work for real numbers \\[Back to [top](#toc)\\]\n",
    "$$\\label{confirm}$$\n",
    "\n",
    "For real numbers, these operate exactly as expected. In the case $a>b$,\n",
    "\\begin{align}\n",
    "\\min(a,b) &= \\tfrac{1}{2} \\left( a+b - (a-b) \\right) = b \\\\\n",
    "\\max(a,b) &= \\tfrac{1}{2} \\left( a+b + (a-b) \\right) = a, \\\\\n",
    "\\end{align}\n",
    "and in the case $a<b$, the reverse holds:\n",
    "\\begin{align}\n",
    "\\min(a,b) &= \\tfrac{1}{2} \\left( a+b - (b-a) \\right) = a \\\\\n",
    "\\max(a,b) &= \\tfrac{1}{2} \\left( a+b + (b-a) \\right) = b, \\\\\n",
    "\\end{align}\n",
    "\n",
    "In code, we will represent this as:\n",
    "```\n",
    "min_noif(a,b) = sp.Rational(1,2)*(a+b-nrpyAbs(a-b))\n",
    "max_noif(a,b) = sp.Rational(1,2)*(a+b+nrpyAbs(a-b))\n",
    "```\n"
   ]
  },
  {
   "cell_type": "code",
   "execution_count": 2,
   "metadata": {},
   "outputs": [
    {
     "name": "stdout",
     "output_type": "stream",
     "text": [
      "The minimum of 5.0 and 10.0 is 5.0\n"
     ]
    }
   ],
   "source": [
    "import numpy\n",
    "import matplotlib.pyplot as plt\n",
    "\n",
    "# First, we'll write the functions. Note that we are not using sympy right now. For NRPy+ code generation, \n",
    "# use the expressions above. \n",
    "def min_noif(a,b):\n",
    "    return 0.5 * (a+b-np.absolute(a-b))\n",
    "\n",
    "def max_noif(a,b):\n",
    "    return 0.5 * (a+b+np.absolute(a-b))\n",
    "\n",
    "# Now, let's put these through their paces. \n",
    "a_number = 5.0\n",
    "another_number = 10.0\n",
    "print(\"The minimum of \"+str(a_number)+\" and \"+str(another_number)+\" is \"+str(min_noif(a_number,another_number)))"
   ]
  },
  {
   "cell_type": "markdown",
   "metadata": {},
   "source": [
    "Feel free to test other cases above if you'd like. Note that we use a suffix, `_noif`, to avoid conflicts with other functions. When using this in NRPy+, make sure you use `sp.Rational()` and the `nrpyAbs()` function, which will always be interpreted as the C function `fabs()` (Sympy's `sp.Abs()` may get interpreted as $\\sqrt{zz^*}$, for instance).\n"
   ]
  },
  {
   "cell_type": "markdown",
   "metadata": {},
   "source": [
    "<a id='piecewise'></a>\n",
    "\n",
    "# Step 2: Piecewise-defined functions \\[Back to [top](#toc)\\]\n",
    "$$\\label{piecewise}$$\n",
    "\n",
    "Next, we'll define functions to represent branches of a piecewise-defined function. For example, consider the function \n",
    "\\begin{align}\n",
    "f(x) &= \\left \\{ \\begin{array}{lll} \\frac{1}{10}x^2+1 & \\mbox{if} & x \\leq 0 \\\\\n",
    "\\exp(\\frac{x}{5}) & \\mbox{if} & x > 0 \\end{array} \\right. , \\\\\n",
    "\\end{align}\n",
    "which is continuous, but not differentiable at $x=0$. \n",
    "\n",
    "To solve this problem, let's add the two parts together, multiplying each part by a function that is either one or zero depending on $x$. To define $x \\leq 0$, this can be done by multiplying by the minimum of $x$ and $0$. We also will need to normalize this. To avoid putting a zero in the denominator, however, we will add some small $\\epsilon$ to the denominator, i.e.,\n",
    "$$\n",
    "\\frac{\\min(x,0)}{x-\\epsilon}\n",
    "$$\n",
    "This $\\epsilon$ corresponds `TINYDOUBLE` in NRPy+; so, we will define the variable here with its default value, `1e-100`. Additionally, to get the correct behavior on the boundary, we shift the boundary by $\\epsilon$, giving us\n",
    "$$\n",
    "\\frac{\\min(x-\\epsilon,0)}{x-\\epsilon}\n",
    "$$\n",
    "\n",
    "The corresponding expression for $x > 0$ can be written as \n",
    "$$\n",
    "\\frac{\\max(x,0)}{x+\\epsilon},\n",
    "$$\n",
    "using a positive small number to once again avoid division by zero. \n",
    "When using these for numerical relativity codes, it is important to consider the relationship between $\\epsilon$, or `TINYDOUBLE`, and the gridpoints in the simulation. As long as $\\epsilon$ is positive and large enough to avoid catastrophic cancellation, these functional forms avoid division by zero, as proven [below](#proof).\n",
    "\n",
    "So, we'll code NumPy versions of these expressions below. Naturally, there are many circumstances in which one will want the boundary between two pieces of a function to be something other than 0; if we let that boundary be $x^*$, this can easily be done by passing $x-x^*$ to the maximum/minimum functions. For the sake of code readability, we will write the functions to pass $x$ and $x^*$ as separate arguments. Additionally, we code separate functions for $\\leq$ and $<$, and likewise for $\\geq$ and $>$. The \"or equal to\" versions add a small offset to the boundary to give the proper behavior on the desired boundary. "
   ]
  },
  {
   "cell_type": "code",
   "execution_count": 3,
   "metadata": {},
   "outputs": [
    {
     "data": {
      "image/png": "[encoded data removed]",
      "text/plain": [
       "<Figure size 432x288 with 1 Axes>"
      ]
     },
     "metadata": {
      "needs_background": "light"
     },
     "output_type": "display_data"
    }
   ],
   "source": [
    "TINYDOUBLE = 1.0e-100\n",
    "def coord_leq_bound(x,xstar): \n",
    "    # Returns 1.0 if x <= xstar, 0.0 otherwise. \n",
    "    # Requires appropriately defined TINYDOUBLE\n",
    "    return min_noif(x-xstar-TINYDOUBLE,0.0)/(x-xstar-TINYDOUBLE)\n",
    "\n",
    "def coord_geq_bound(x,xstar): \n",
    "    # Returns 1.0 if x >= xstar, 0.0 otherwise. \n",
    "    # Requires appropriately defined TINYDOUBLE\n",
    "    return max_noif(x-xstar+TINYDOUBLE,0.0)/(x-xstar+TINYDOUBLE)\n",
    "\n",
    "def coord_less_bound(x,xstar): \n",
    "    # Returns 1.0 if x < xstar, 0.0 otherwise. \n",
    "    # Requires appropriately defined TINYDOUBLE\n",
    "    return min_noif(x-xstar,0.0)/(x-xstar-TINYDOUBLE)\n",
    "\n",
    "def coord_greater_bound(x,xstar): \n",
    "    # Returns 1.0 if x > xstar, 0.0 otherwise. \n",
    "    # Requires appropriately defined TINYDOUBLE\n",
    "    return max_noif(x-xstar,0.0)/(x-xstar+TINYDOUBLE)\n",
    "\n",
    "# Now, define our the equation and plot it. \n",
    "y_data = coord_less_bound(x_data,0.0)*(0.1*x_data**2.0+1.0)\\\n",
    "        +coord_geq_bound(x_data,0.0)*np.exp(x_data/5.0)\n",
    "    \n",
    "plt.figure()\n",
    "a = plt.plot(x_data,y_data,'k',label=\"Piecewise function\")\n",
    "b = plt.plot(x_data,0.1*x_data**2.0+1.0,'b.',label=\"y=x^2+1\")\n",
    "c = plt.plot(x_data,np.exp(x_data/5.0),'g.',label=\"y=exp(x/5)\")\n",
    "plt.legend()\n",
    "plt.xlabel(\"x\")\n",
    "plt.ylabel(\"y\")\n",
    "plt.show()\n"
   ]
  },
  {
   "cell_type": "markdown",
   "metadata": {},
   "source": [
    "The plot above shows the expected piecewise-defined function. It is important in applying these functions that each greater-than be paired with a less-than-or-equal-to, or vice versa. Otherwise, the way these are written, a point on the boundary will be set to zero or twice the expected value. \n",
    "\n",
    "These functions can be easily combined for more complicated piecewise-defined functions; if a piece of a function is defined as $f(x)$ on $x^*_- \\leq x < x^*_+$, for instance, simply multiply by both functions, e.g. \n",
    "```\n",
    "coord_geq_bound(x,x_star_minus)*coord_less_bound(x,x_star_plus)*f(x)\n",
    "```"
   ]
  },
  {
   "cell_type": "markdown",
   "metadata": {},
   "source": [
    "<a id='sympy'></a>\n",
    "\n",
    "# Step 3: Rewrite functions to work with symbolic expressions \\[Back to [top](#toc)\\]\n",
    "$$\\label{sympy}$$\n",
    "\n",
    "In order to use this with sympy expressions in NRPy+, we will need to rewrite the `min` and `max` functions with slightly different syntax. Critically, we will change `0.5` to `sp.Rational(1,2)` and calls to `np.absolute()` to `nrpyAbs()`. We will also need to import `outputC.py` here for access to `nrpyAbs()`. The other functions will not require redefinition, because they only call specific combinations of the `min` and `max` function. "
   ]
  },
  {
   "cell_type": "code",
   "execution_count": 4,
   "metadata": {},
   "outputs": [],
   "source": [
    "from outputC import *            # NRPy+: Core C code output module\n",
    "\n",
    "def min_noif(a,b):\n",
    "    # Returns the minimum of a and b\n",
    "    return sp.Rational(1,2) * (a+b-nrpyAbs(a-b))\n",
    "\n",
    "def max_noif(a,b):\n",
    "    # Returns the maximum of a and b\n",
    "    return sp.Rational(1,2) * (a+b+nrpyAbs(a-b))"
   ]
  },
  {
   "cell_type": "markdown",
   "metadata": {},
   "source": [
    "<a id='validation'></a>\n",
    "\n",
    "# Step 4: Validation against `Min_Max_and_Piecewise_Expressions` NRPy+ module \\[Back to [top](#toc)\\]\n",
    "$$\\label{validation}$$\n",
    "\n",
    "As a code validation check, we will verify agreement in the SymPy expressions for plane-wave initial data for the Scalar Wave equation between\n",
    "1. this tutorial and \n",
    "2. the NRPy+ [Min_Max_and_Piecewise_Expressions](../edit/Min_Max_and_Piecewise_Expressions.py) module."
   ]
  },
  {
   "cell_type": "code",
   "execution_count": 5,
   "metadata": {},
   "outputs": [
    {
     "name": "stdout",
     "output_type": "stream",
     "text": [
      "ALL TESTS PASSED!\n"
     ]
    }
   ],
   "source": [
    "# Reset & redefine TINYDOUBLE for proper comparison\n",
    "%reset_selective -f TINYDOUBLE\n",
    "TINYDOUBLE = par.Cparameters(\"#define\", thismodule, \"TINYDOUBLE\", 1e-10)\n",
    "\n",
    "import Min_Max_and_Piecewise_Expressions as noif\n",
    "all_passed=0\n",
    "\n",
    "def comp_func(expr1,expr2,basename,prefixname2=\"noif.\"):\n",
    "    passed = 0\n",
    "    if str(expr1-expr2)!=\"0\":\n",
    "        print(basename+\" - \"+prefixname2+basename+\" = \"+ str(expr1-expr2))\n",
    "        passed = 1\n",
    "    return passed\n",
    "\n",
    "a,b = sp.symbols(\"a b\")\n",
    "\n",
    "here = min_noif(a,b)\n",
    "there = noif.min_noif(a,b)\n",
    "all_passed += comp_func(here,there,\"min_noif\")\n",
    "\n",
    "here = max_noif(a,b)\n",
    "there = noif.max_noif(a,b)\n",
    "all_passed += comp_func(here,there,\"max_noif\")\n",
    "\n",
    "here = coord_leq_bound(a,b)\n",
    "there = noif.coord_leq_bound(a,b)\n",
    "all_passed += comp_func(here,there,\"coord_leq_bound\")\n",
    "\n",
    "here = coord_geq_bound(a,b)\n",
    "there = noif.coord_geq_bound(a,b)\n",
    "all_passed += comp_func(here,there,\"coord_geq_bound\")\n",
    "\n",
    "here = coord_less_bound(a,b)\n",
    "there = noif.coord_less_bound(a,b)\n",
    "all_passed += comp_func(here,there,\"coord_less_bound\")\n",
    "\n",
    "here = coord_greater_bound(a,b)\n",
    "there = noif.coord_greater_bound(a,b)\n",
    "all_passed += comp_func(here,there,\"coord_greater_bound\")\n",
    "\n",
    "import sys\n",
    "if all_passed==0:\n",
    "    print(\"ALL TESTS PASSED!\")\n",
    "else:\n",
    "    print(\"ERROR: AT LEAST ONE TEST DID NOT PASS\")\n",
    "    sys.exit(1)"
   ]
  },
  {
   "cell_type": "markdown",
   "metadata": {},
   "source": [
    "<a id='latex_pdf_output'></a>\n",
    "\n",
    "# Step 5: Output this notebook to $\\LaTeX$-formatted PDF file \\[Back to [top](#toc)\\]\n",
    "$$\\label{latex_pdf_output}$$\n",
    "\n",
    "The following code cell converts this Jupyter notebook into a proper, clickable $\\LaTeX$-formatted PDF file. After the cell is successfully run, the generated PDF may be found in the root NRPy+ tutorial directory, with filename\n",
    "[Tutorial-Min_Max_and_Piecewise_Expressions.pdf](Tutorial-Min_Max_and_Piecewise_Expressions.pdf) (Note that clicking on this link may not work; you may need to open the PDF file through another means.)"
   ]
  },
  {
   "cell_type": "code",
   "execution_count": 6,
   "metadata": {},
   "outputs": [
    {
     "name": "stdout",
     "output_type": "stream",
     "text": [
      "This is pdfTeX, Version 3.14159265-2.6-1.40.18 (TeX Live 2017/Debian) (preloaded format=pdflatex)\n",
      " restricted \\write18 enabled.\n",
      "entering extended mode\n",
      "This is pdfTeX, Version 3.14159265-2.6-1.40.18 (TeX Live 2017/Debian) (preloaded format=pdflatex)\n",
      " restricted \\write18 enabled.\n",
      "entering extended mode\n",
      "This is pdfTeX, Version 3.14159265-2.6-1.40.18 (TeX Live 2017/Debian) (preloaded format=pdflatex)\n",
      " restricted \\write18 enabled.\n",
      "entering extended mode\n"
     ]
    }
   ],
   "source": [
    "!jupyter nbconvert --to latex --template latex_nrpy_style.tplx --log-level='WARN' Tutorial-Min_Max_and_Piecewise_Expressions.ipynb\n",
    "!pdflatex -interaction=batchmode Tutorial-Min_Max_and_Piecewise_Expressions.tex\n",
    "!pdflatex -interaction=batchmode Tutorial-Min_Max_and_Piecewise_Expressions.tex\n",
    "!pdflatex -interaction=batchmode Tutorial-Min_Max_and_Piecewise_Expressions.tex\n",
    "!rm -f Tut*.out Tut*.aux Tut*.log"
   ]
  }
 ],
 "metadata": {
  "kernelspec": {
   "display_name": "Python 3",
   "language": "python",
   "name": "python3"
  },
  "language_info": {
   "codemirror_mode": {
    "name": "ipython",
    "version": 3
   },
   "file_extension": ".py",
   "mimetype": "text/x-python",
   "name": "python",
   "nbconvert_exporter": "python",
   "pygments_lexer": "ipython3",
   "version": "3.8.0"
  }
 },
 "nbformat": 4,
 "nbformat_minor": 2
}
