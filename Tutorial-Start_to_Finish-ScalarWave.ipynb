{
 "cells": [
  {
   "cell_type": "markdown",
   "metadata": {},
   "source": [
    "# Numerical Solution of the Scalar Wave Equation, in Cartesian Coordinates\n",
    "\n",
    "### NRPy+ Source Code for this module: [ScalarWave/ScalarWave_RHSs.py](../edit/ScalarWave/ScalarWave_RHSs.py); [ScalarWave/InitialData_PlaneWave.py](../edit/ScalarWave/InitialData_PlaneWave.py)\n",
    "\n",
    "As outlined in the [previous NRPy+ tutorial module](Tutorial-ScalarWave.ipynb), we first use NRPy+ to generate initial data for the scalar wave equation, and then we use it to generate the RHS expressions for [Method of Lines](https://reference.wolfram.com/language/tutorial/NDSolveMethodOfLines.html) time integration based on the [explicit Runge-Kutta fourth-order scheme](https://en.wikipedia.org/wiki/Runge%E2%80%93Kutta_methods) (RK4).\n",
    "\n",
    "The entire algorithm is outlined below, with NRPy+-based components highlighted in <font color='green'>green</font>.\n",
    "\n",
    "1. Allocate memory for gridfunctions, including temporary storage for the RK4 time integration.\n",
    "1. <font color='green'>Set gridfunction values to initial data.</font>\n",
    "1. Evolve the system forward in time using RK4 time integration. At each RK4 substep, do the following:\n",
    "    1. <font color='green'>Evaluate scalar wave RHS expressions.</font>\n",
    "    1. Apply boundary conditions.\n",
    "    1. Print status of the simulation."
   ]
  },
  {
   "cell_type": "markdown",
   "metadata": {},
   "source": [
    "### Generating the NRPy+ Components to the Scalar Wave Equation in Three Spatial Dimensions, Tenth-Order Finite Differencing, with Monochromatic Plane Wave Initial Data\n",
    "\n",
    "Let's pick up where we left off in the [previous module](Tutorial-ScalarWave.ipynb), interfacing with the ScalarWave/ module to generate \n",
    "* monochromatic (single-wavelength) plane wave scalar wave initial data, and\n",
    "* the scalar wave equation RHSs at **10th** finite difference order in **3 spatial dimensions**,\n",
    "\n",
    "all with SIMD enabled:"
   ]
  },
  {
   "cell_type": "code",
   "execution_count": 1,
   "metadata": {},
   "outputs": [
    {
     "name": "stdout",
     "output_type": "stream",
     "text": [
      "Wrote to file \"ScalarWave_PlaneWave_InitialData.h\"\n",
      "Wrote to file \"ScalarWave_RHSs.h\"\n"
     ]
    }
   ],
   "source": [
    "# Step P1: Import needed NRPy+ core modules:\n",
    "import NRPy_param_funcs as par\n",
    "import indexedexp as ixp\n",
    "import grid as gri\n",
    "import finite_difference as fin\n",
    "from outputC import *\n",
    "\n",
    "# Step 1: Import the ScalarWave.InitialData module. \n",
    "#         This command only declares ScalarWave initial data \n",
    "#         parameters and the InitialData_PlaneWave() function.\n",
    "import ScalarWave.InitialData_PlaneWave as swid\n",
    "\n",
    "# Step 2: Import ScalarWave_RHSs module. \n",
    "#         This command only declares ScalarWave RHS parameters\n",
    "#         and the ScalarWave_RHSs function (called later)\n",
    "import ScalarWave.ScalarWave_RHSs as swrhs\n",
    "\n",
    "# Step 3: Enable SIMD\n",
    "par.set_parval_from_str(\"outputC::SIMD_enable\",True)\n",
    "\n",
    "# Step 4: Set the spatial dimension parameter \n",
    "#         to *FOUR* this time, and then read\n",
    "#         the parameter as DIM.\n",
    "par.set_parval_from_str(\"grid::DIM\",3)\n",
    "DIM = par.parval_from_str(\"grid::DIM\")\n",
    "\n",
    "# Step 5: Set the finite differencing order to 10.\n",
    "par.set_parval_from_str(\"finite_difference::FD_CENTDERIVS_ORDER\",10)\n",
    "\n",
    "# Step 6: Call the InitialData_PlaneWave() function to set up\n",
    "#         monochromatic (single frequency/wavelength) scalar\n",
    "#         wave initial data.\n",
    "swid.InitialData_PlaneWave()\n",
    "\n",
    "# Step 7: Generate SymPy symbolic expressions for\n",
    "#         uu_rhs and vv_rhs; the ScalarWave RHSs.\n",
    "#         This function also declares the uu and vv\n",
    "#         gridfunctions, which need to be declared\n",
    "#         to output even the initial data to C file.\n",
    "swrhs.ScalarWave_RHSs()\n",
    "\n",
    "# Step 8: Generate C code for the initial data,\n",
    "#         output to a file named \"ScalarWave_PlaneWave_InitialData.h\".\n",
    "fin.FD_outputC(\"ScalarWave_PlaneWave_InitialData.h\",\n",
    "               [lhrh(lhs=gri.gfaccess(\"in_gfs\",\"uu\"),rhs=swid.uu_ID),\n",
    "                lhrh(lhs=gri.gfaccess(\"in_gfs\",\"vv\"),rhs=swid.vv_ID)])\n",
    "\n",
    "# Step 9: Generate C code for scalarwave RHSs,\n",
    "#         output to a file named \"ScalarWave_RHSs.h\".\n",
    "fin.FD_outputC(\"ScalarWave_RHSs.h\",\n",
    "               [lhrh(lhs=gri.gfaccess(\"rhs_gfs\",\"uu\"),rhs=swrhs.uu_rhs),\n",
    "                lhrh(lhs=gri.gfaccess(\"rhs_gfs\",\"vv\"),rhs=swrhs.vv_rhs)])"
   ]
  },
  {
   "cell_type": "code",
   "execution_count": 1,
   "metadata": {},
   "outputs": [
    {
     "name": "stdout",
     "output_type": "stream",
     "text": [
      "Writing \"C_header_files-the_usual_suspects.h\"\n"
     ]
    }
   ],
   "source": [
    "%%writefile \"ScalarWave/C_header_files-the_usual_suspects.h\"\n",
    "#include \"stdio.h\"\n",
    "#include \"stdlib.h\"\n",
    "#include \"stdbool.h\"\n",
    "#include \"math.h\""
   ]
  },
  {
   "cell_type": "code",
   "execution_count": 2,
   "metadata": {},
   "outputs": [
    {
     "name": "stdout",
     "output_type": "stream",
     "text": [
      "Writing \"ScalarWave/ScalarWave.c\"\n"
     ]
    },
    {
     "ename": "FileNotFoundError",
     "evalue": "[Errno 2] No such file or directory: '\"ScalarWave/ScalarWave.c\"'",
     "output_type": "error",
     "traceback": [
      "\u001b[0;31m---------------------------------------------------------------------------\u001b[0m",
      "\u001b[0;31mFileNotFoundError\u001b[0m                         Traceback (most recent call last)",
      "\u001b[0;32m<ipython-input-2-dd5c9aef4e17>\u001b[0m in \u001b[0;36m<module>\u001b[0;34m()\u001b[0m\n\u001b[0;32m----> 1\u001b[0;31m \u001b[0mget_ipython\u001b[0m\u001b[0;34m(\u001b[0m\u001b[0;34m)\u001b[0m\u001b[0;34m.\u001b[0m\u001b[0mrun_cell_magic\u001b[0m\u001b[0;34m(\u001b[0m\u001b[0;34m'writefile'\u001b[0m\u001b[0;34m,\u001b[0m \u001b[0;34m'\"ScalarWave/ScalarWave.c\"'\u001b[0m\u001b[0;34m,\u001b[0m \u001b[0;34m'\\n#include \"C_header_files-the_usual_suspects.h\"\\n\\n\\nint main(int argc,char *argv[]) {\\n#include \"parameter_file_funcs.h\"\\n#include \"ID_driver_funcs.h\"\\n#include \"Find_Time_Step.h\"\\n#include \"timestepping_funcs.h\"\\n\\n    // Read input parameters\\n    // Set up initial data\\n    // Find the time step\\n    // Step forward in time\\n    return 0;\\n}'\u001b[0m\u001b[0;34m)\u001b[0m\u001b[0;34m\u001b[0m\u001b[0m\n\u001b[0m",
      "\u001b[0;32m~/jup/lib/python3.6/site-packages/IPython/core/interactiveshell.py\u001b[0m in \u001b[0;36mrun_cell_magic\u001b[0;34m(self, magic_name, line, cell)\u001b[0m\n\u001b[1;32m   2165\u001b[0m             \u001b[0mmagic_arg_s\u001b[0m \u001b[0;34m=\u001b[0m \u001b[0mself\u001b[0m\u001b[0;34m.\u001b[0m\u001b[0mvar_expand\u001b[0m\u001b[0;34m(\u001b[0m\u001b[0mline\u001b[0m\u001b[0;34m,\u001b[0m \u001b[0mstack_depth\u001b[0m\u001b[0;34m)\u001b[0m\u001b[0;34m\u001b[0m\u001b[0m\n\u001b[1;32m   2166\u001b[0m             \u001b[0;32mwith\u001b[0m \u001b[0mself\u001b[0m\u001b[0;34m.\u001b[0m\u001b[0mbuiltin_trap\u001b[0m\u001b[0;34m:\u001b[0m\u001b[0;34m\u001b[0m\u001b[0m\n\u001b[0;32m-> 2167\u001b[0;31m                 \u001b[0mresult\u001b[0m \u001b[0;34m=\u001b[0m \u001b[0mfn\u001b[0m\u001b[0;34m(\u001b[0m\u001b[0mmagic_arg_s\u001b[0m\u001b[0;34m,\u001b[0m \u001b[0mcell\u001b[0m\u001b[0;34m)\u001b[0m\u001b[0;34m\u001b[0m\u001b[0m\n\u001b[0m\u001b[1;32m   2168\u001b[0m             \u001b[0;32mreturn\u001b[0m \u001b[0mresult\u001b[0m\u001b[0;34m\u001b[0m\u001b[0m\n\u001b[1;32m   2169\u001b[0m \u001b[0;34m\u001b[0m\u001b[0m\n",
      "\u001b[0;32m<decorator-gen-106>\u001b[0m in \u001b[0;36mwritefile\u001b[0;34m(self, line, cell)\u001b[0m\n",
      "\u001b[0;32m~/jup/lib/python3.6/site-packages/IPython/core/magic.py\u001b[0m in \u001b[0;36m<lambda>\u001b[0;34m(f, *a, **k)\u001b[0m\n\u001b[1;32m    185\u001b[0m     \u001b[0;31m# but it's overkill for just that one bit of state.\u001b[0m\u001b[0;34m\u001b[0m\u001b[0;34m\u001b[0m\u001b[0m\n\u001b[1;32m    186\u001b[0m     \u001b[0;32mdef\u001b[0m \u001b[0mmagic_deco\u001b[0m\u001b[0;34m(\u001b[0m\u001b[0marg\u001b[0m\u001b[0;34m)\u001b[0m\u001b[0;34m:\u001b[0m\u001b[0;34m\u001b[0m\u001b[0m\n\u001b[0;32m--> 187\u001b[0;31m         \u001b[0mcall\u001b[0m \u001b[0;34m=\u001b[0m \u001b[0;32mlambda\u001b[0m \u001b[0mf\u001b[0m\u001b[0;34m,\u001b[0m \u001b[0;34m*\u001b[0m\u001b[0ma\u001b[0m\u001b[0;34m,\u001b[0m \u001b[0;34m**\u001b[0m\u001b[0mk\u001b[0m\u001b[0;34m:\u001b[0m \u001b[0mf\u001b[0m\u001b[0;34m(\u001b[0m\u001b[0;34m*\u001b[0m\u001b[0ma\u001b[0m\u001b[0;34m,\u001b[0m \u001b[0;34m**\u001b[0m\u001b[0mk\u001b[0m\u001b[0;34m)\u001b[0m\u001b[0;34m\u001b[0m\u001b[0m\n\u001b[0m\u001b[1;32m    188\u001b[0m \u001b[0;34m\u001b[0m\u001b[0m\n\u001b[1;32m    189\u001b[0m         \u001b[0;32mif\u001b[0m \u001b[0mcallable\u001b[0m\u001b[0;34m(\u001b[0m\u001b[0marg\u001b[0m\u001b[0;34m)\u001b[0m\u001b[0;34m:\u001b[0m\u001b[0;34m\u001b[0m\u001b[0m\n",
      "\u001b[0;32m~/jup/lib/python3.6/site-packages/IPython/core/magics/osm.py\u001b[0m in \u001b[0;36mwritefile\u001b[0;34m(self, line, cell)\u001b[0m\n\u001b[1;32m    789\u001b[0m \u001b[0;34m\u001b[0m\u001b[0m\n\u001b[1;32m    790\u001b[0m         \u001b[0mmode\u001b[0m \u001b[0;34m=\u001b[0m \u001b[0;34m'a'\u001b[0m \u001b[0;32mif\u001b[0m \u001b[0margs\u001b[0m\u001b[0;34m.\u001b[0m\u001b[0mappend\u001b[0m \u001b[0;32melse\u001b[0m \u001b[0;34m'w'\u001b[0m\u001b[0;34m\u001b[0m\u001b[0m\n\u001b[0;32m--> 791\u001b[0;31m         \u001b[0;32mwith\u001b[0m \u001b[0mio\u001b[0m\u001b[0;34m.\u001b[0m\u001b[0mopen\u001b[0m\u001b[0;34m(\u001b[0m\u001b[0mfilename\u001b[0m\u001b[0;34m,\u001b[0m \u001b[0mmode\u001b[0m\u001b[0;34m,\u001b[0m \u001b[0mencoding\u001b[0m\u001b[0;34m=\u001b[0m\u001b[0;34m'utf-8'\u001b[0m\u001b[0;34m)\u001b[0m \u001b[0;32mas\u001b[0m \u001b[0mf\u001b[0m\u001b[0;34m:\u001b[0m\u001b[0;34m\u001b[0m\u001b[0m\n\u001b[0m\u001b[1;32m    792\u001b[0m             \u001b[0mf\u001b[0m\u001b[0;34m.\u001b[0m\u001b[0mwrite\u001b[0m\u001b[0;34m(\u001b[0m\u001b[0mcell\u001b[0m\u001b[0;34m)\u001b[0m\u001b[0;34m\u001b[0m\u001b[0m\n",
      "\u001b[0;31mFileNotFoundError\u001b[0m: [Errno 2] No such file or directory: '\"ScalarWave/ScalarWave.c\"'"
     ]
    }
   ],
   "source": [
    "%%writefile \"ScalarWave/ScalarWave.c\"\n",
    "\n",
    "#include \"C_header_files-the_usual_suspects.h\"\n",
    "\n",
    "\n",
    "int main(int argc,char *argv[]) {\n",
    "#include \"parameter_file_funcs.h\"\n",
    "#include \"ID_driver_funcs.h\"\n",
    "#include \"Find_Time_Step.h\"\n",
    "#include \"timestepping_funcs.h\"\n",
    "\n",
    "    // Read input parameters\n",
    "    // Set up initial data\n",
    "    // Find the time step\n",
    "    // Step forward in time\n",
    "    return 0;\n",
    "}"
   ]
  },
  {
   "cell_type": "code",
   "execution_count": null,
   "metadata": {},
   "outputs": [],
   "source": []
  }
 ],
 "metadata": {
  "kernelspec": {
   "display_name": "Python 3",
   "language": "python",
   "name": "python3"
  },
  "language_info": {
   "codemirror_mode": {
    "name": "ipython",
    "version": 3
   },
   "file_extension": ".py",
   "mimetype": "text/x-python",
   "name": "python",
   "nbconvert_exporter": "python",
   "pygments_lexer": "ipython3",
   "version": "3.6.5"
  }
 },
 "nbformat": 4,
 "nbformat_minor": 2
}
