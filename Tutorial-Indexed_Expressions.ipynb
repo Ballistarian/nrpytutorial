{
 "cells": [
  {
   "cell_type": "markdown",
   "metadata": {},
   "source": [
    "# Indexed Expressions: Representing and manipulating tensors, pseudotensors, etc. in NRPy+\n",
    "\n",
    "### NRPy+ Source Code for this module: [indexedexp.py](../edit/indexedexp.py)\n",
    "\n",
    "NRPy+ contains functionality for dealing with indexed expressions. To enable the basic functionality, first import three modules"
   ]
  },
  {
   "cell_type": "code",
   "execution_count": 1,
   "metadata": {},
   "outputs": [],
   "source": [
    "# The NRPy_param_funcs module sets up global structures that manage free parameters within NRPy+\n",
    "import NRPy_param_funcs as par \n",
    "# The indexedexp module defines various functions for defining and managing indexed quantities like tensors and pseudotensors\n",
    "import indexedexp as ixp\n",
    "# The grid module defines various parameters related to a numerical grid or the dimensionality of indexed expressions\n",
    "# For example, it declares the parameter DIM, which specifies the dimensionality of the indexed expression\n",
    "import grid as gri"
   ]
  },
  {
   "cell_type": "markdown",
   "metadata": {},
   "source": [
    "## Rank-1 Indexed Expressions\n",
    "\n",
    "Indexed expressions of rank 1 are stored as [Python lists](https://www.tutorialspoint.com/python/python_lists.htm). \n",
    "\n",
    "There are two ways to declare indexed expressions:\n",
    "+ **Symbolically:** $\\texttt{declarerank1}$(\"basename\",*optional: DIM*)\n",
    "+ **Initialize to zero:** $\\texttt{zerorank1}$(*optional: DIM*) $\\leftarrow$ As we will see below, initializing to zero is useful if the indexed expression depends entirely on some other indexed or non-indexed expressions.\n",
    "\n",
    "For example, the 3-vector $\\beta^i$ (upper index denotes contravariant) can be declared in NRPy+ symbolically as follows:"
   ]
  },
  {
   "cell_type": "code",
   "execution_count": 2,
   "metadata": {},
   "outputs": [
    {
     "name": "stdout",
     "output_type": "stream",
     "text": [
      "[betaU0, betaU1, betaU2]\n"
     ]
    }
   ],
   "source": [
    "# Set the dimension to 3\n",
    "par.set_parval_from_str(\"DIM\",3)\n",
    "\n",
    "# Declare rank-1 contravariant (\"U\") vector\n",
    "betaU = ixp.declarerank1(\"betaU\")\n",
    "\n",
    "# Print the result. It's a list!\n",
    "print(betaU)"
   ]
  },
  {
   "cell_type": "markdown",
   "metadata": {},
   "source": [
    "NRPy+'s standard naming convention for indexed rank-1 expressions is \n",
    "+ **\\[base variable name\\]+\\[\"U\" for contravariant (up index) or \"D\" for covariant (down index)\\]**\n",
    "\n",
    "After declaring the vector, $\\texttt{betaU0}$, $\\texttt{betaU1}$, and $\\texttt{betaU2}$ can only be accessed or manipulated through list access; i.e., via $\\texttt{betaU[0]}$, $\\texttt{betaU[1]}$, and $\\texttt{betaU[2]}$, respectively. \n",
    "\n",
    "For example, let's multiply $\\texttt{betaU1}$ by 2:"
   ]
  },
  {
   "cell_type": "code",
   "execution_count": 3,
   "metadata": {},
   "outputs": [
    {
     "name": "stdout",
     "output_type": "stream",
     "text": [
      "The 3-vector betaU is now set to [betaU0, 2*betaU1, betaU2]\n",
      "The component betaU[1] is now set to 2*betaU1\n"
     ]
    }
   ],
   "source": [
    "betaU[1] *= 2\n",
    "print(\"The 3-vector betaU is now set to \"+str(betaU))\n",
    "print(\"The component betaU[1] is now set to \"+str(betaU[1]))"
   ]
  },
  {
   "cell_type": "markdown",
   "metadata": {},
   "source": [
    "Alternatively, we could simply initialize $\\text{betaU[i]}$ to zero, and then use :"
   ]
  },
  {
   "cell_type": "code",
   "execution_count": 4,
   "metadata": {},
   "outputs": [
    {
     "name": "stdout",
     "output_type": "stream",
     "text": [
      "The 3-vector betaU is initialized to zero: [0, 0, 0]\n",
      "\n",
      "\n",
      "Next we will set betaU to [0,1,2]:\n",
      "The 3-vector betaU is now set to: [0, 1, 2]\n"
     ]
    }
   ],
   "source": [
    "# Initialize betaU to zero\n",
    "betaU = ixp.zerorank1()\n",
    "# Prove it:\n",
    "print(\"The 3-vector betaU is initialized to zero: \"+str(betaU))\n",
    "\n",
    "print(\"\\n\\nNext we will set betaU to [0,1,2]:\")\n",
    "\n",
    "# Get the dimension we just set, so we know how many indices to loop over\n",
    "DIM = par.parval_from_str(\"DIM\")\n",
    "\n",
    "for i in range(DIM):\n",
    "    betaU[i] = i\n",
    "    \n",
    "print(\"The 3-vector betaU is now set to: \"+str(betaU))\n"
   ]
  },
  {
   "cell_type": "markdown",
   "metadata": {},
   "source": [
    "### Next, let's declare the variable $\\beta_j$ and perform the dot product $\\beta^i \\beta_i$:"
   ]
  },
  {
   "cell_type": "code",
   "execution_count": 5,
   "metadata": {},
   "outputs": [
    {
     "name": "stdout",
     "output_type": "stream",
     "text": [
      "betaD0*betaU0 + betaD1*betaU1 + betaD2*betaU2\n"
     ]
    }
   ],
   "source": [
    "# First set betaU back to its initial value\n",
    "betaU = ixp.declarerank1(\"betaU\")\n",
    "\n",
    "# Declare beta_j:\n",
    "betaD = ixp.declarerank1(\"betaD\")\n",
    "\n",
    "# Get the dimension we just set, so we know how many indices to loop over\n",
    "DIM = par.parval_from_str(\"DIM\")\n",
    "\n",
    "# Initialize dot product to zero\n",
    "dotprod = 0\n",
    "\n",
    "# Perform dot product beta^i beta_i\n",
    "for i in range(DIM):\n",
    "    dotprod += betaU[i]*betaD[i]\n",
    "\n",
    "# Print result!\n",
    "print(dotprod)"
   ]
  },
  {
   "cell_type": "markdown",
   "metadata": {},
   "source": [
    "## Rank-2 and Higher Indexed Expressions\n",
    "\n",
    "Moving to higher ranks, rank-2 indexed expressions are stored as lists of lists, rank-3 indexed expressions as lists of lists of lists, etc. For example\n",
    "\n",
    "+ the covariant rank-2 tensor $g_{ij}$ is declared as $\\texttt{gDD[i][j]}$ in NRPy+, so that e.g., $\\texttt{gDD[0][2]}$ is stored with name \"gDD02\" and\n",
    "+ the rank-2 tensor $T^{\\mu}{}_{\\nu}$ is declared as $\\texttt{TUD[m][n]}$ in NRPy+ (index names are of course arbitrary).\n",
    "\n",
    "*Caveat*: Note that it is currently up to the user to determine whether the combination of indexed expressions makes sense; NRPy+ does not track whether up and down indices are written consistently.\n",
    "\n",
    "NRPy+ supports symmetries in indexed expressions (above rank 1), so that if $h_{ij} = h_{ji}$, then declaring $\\texttt{hDD[i][j]}$ to be symmetric in NRPy+ will result in both $\\texttt{hDD[0][2]}$ and $\\texttt{hDD[2][0]}$ mapping to the *single* SymPy variable $hDD02$.\n",
    "\n",
    "To see how this works in NRPy+, let's define in NRPy+ a symmetric, rank-2 tensor $h_{ij}$ in three dimensions, and then compute the contraction, which should be given by $$con = h^{ij}h_{ij} = h_{00} h^{00} + h_{11} h^{11} + h_{22} h^{22} + 2 (h_{01} h^{01} + h_{02} h^{02} + h_{12} h^{12}).$$"
   ]
  },
  {
   "cell_type": "code",
   "execution_count": 6,
   "metadata": {},
   "outputs": [
    {
     "name": "stdout",
     "output_type": "stream",
     "text": [
      "hDD00*hUU00 + 2*hDD01*hUU01 + 2*hDD02*hUU02 + hDD11*hUU11 + 2*hDD12*hUU12 + hDD22*hUU22\n"
     ]
    }
   ],
   "source": [
    "# Get the dimension we just set (should be set to 3).\n",
    "DIM = par.parval_from_str(\"DIM\")\n",
    "\n",
    "# Declare h_{ij}=hDD[i][j] and h^{ij}=hUU[i][j]\n",
    "hUU = ixp.declarerank2(\"hUU\",\"sym12\")\n",
    "hDD = ixp.declarerank2(\"hDD\",\"sym12\")\n",
    "\n",
    "# Perform sum h^{ij} h_{ij}, initializing contraction result to zero\n",
    "con = 0\n",
    "for i in range(DIM):\n",
    "    for j in range(DIM):\n",
    "        con += hUU[i][j]*hDD[i][j]\n",
    "\n",
    "# Print result\n",
    "print(con)"
   ]
  },
  {
   "cell_type": "markdown",
   "metadata": {},
   "source": [
    "### Next let's create the C code for the contraction variable $\\text{con}$, without CSE (common subexpression elimination)"
   ]
  },
  {
   "cell_type": "code",
   "execution_count": 7,
   "metadata": {
    "scrolled": true
   },
   "outputs": [
    {
     "name": "stdout",
     "output_type": "stream",
     "text": [
      "/*\n",
      " *  Original SymPy expression:\n",
      " *  \"con = hDD00*hUU00 + 2*hDD01*hUU01 + 2*hDD02*hUU02 + hDD11*hUU11 + 2*hDD12*hUU12 + hDD22*hUU22\"\n",
      " */\n",
      "{\n",
      "   con = hDD00*hUU00 + 2*hDD01*hUU01 + 2*hDD02*hUU02 + hDD11*hUU11 + 2*hDD12*hUU12 + hDD22*hUU22;\n",
      "}\n",
      "\n"
     ]
    }
   ],
   "source": [
    "from outputC import *\n",
    "\n",
    "outputC(con,\"con\")"
   ]
  },
  {
   "cell_type": "markdown",
   "metadata": {},
   "source": [
    "### Finally, let's see how it looks with SIMD support enabled"
   ]
  },
  {
   "cell_type": "code",
   "execution_count": 8,
   "metadata": {},
   "outputs": [
    {
     "name": "stdout",
     "output_type": "stream",
     "text": [
      "/*\n",
      " *  Original SymPy expression:\n",
      " *  \"con = hDD00*hUU00 + 2*hDD01*hUU01 + 2*hDD02*hUU02 + hDD11*hUU11 + 2*hDD12*hUU12 + hDD22*hUU22\"\n",
      " */\n",
      "{\n",
      "   const double tmp_Integer_2 = 2.000000000000000000000000000000000;\n",
      "   const REAL_SIMD_ARRAY  = Set1SIMD(tmp_Integer_2);\n",
      "\n",
      "   con = FusedMulAddSIMD(hUU02, MulSIMD(hDD02, _Integer_2), FusedMulAddSIMD(hUU01, MulSIMD(hDD01, _Integer_2), FusedMulAddSIMD(hDD22, hUU22, FusedMulAddSIMD(hDD11, hUU11, FusedMulAddSIMD(hUU12, MulSIMD(hDD12, _Integer_2), MulSIMD(hDD00, hUU00))))));\n",
      "}\n",
      "\n"
     ]
    }
   ],
   "source": [
    "par.set_parval_from_str(\"SIMD_enable\",True)\n",
    "outputC(con,\"con\")"
   ]
  },
  {
   "cell_type": "markdown",
   "metadata": {},
   "source": [
    "## Exercise: Write the NRPy+ code required to generate the needed C code for the lowering operator: $g_{ij} \\beta^i$, and set the result to C variables \"$\\texttt{betaD0out}$\", \"$\\texttt{betaD1out}$\", and \"$\\texttt{betaD2out}$\" [solution](Tutorial-Indexed_Expressions-soln.ipynb). *Hint: You will want to use the zerorank1() function*"
   ]
  },
  {
   "cell_type": "markdown",
   "metadata": {},
   "source": [
    "## To complete this exercise, you must first reset all variables in the notebook:"
   ]
  },
  {
   "cell_type": "code",
   "execution_count": 9,
   "metadata": {},
   "outputs": [],
   "source": [
    "# *Uncomment* the below %reset command and then press <Shift>+<Enter>. \n",
    "#    Respond with \"y\" in the dialog box to reset all variables.\n",
    "# %reset"
   ]
  },
  {
   "cell_type": "markdown",
   "metadata": {},
   "source": [
    "## Write your solution below:"
   ]
  },
  {
   "cell_type": "code",
   "execution_count": null,
   "metadata": {},
   "outputs": [],
   "source": []
  }
 ],
 "metadata": {
  "kernelspec": {
   "display_name": "Python 3",
   "language": "python",
   "name": "python3"
  },
  "language_info": {
   "codemirror_mode": {
    "name": "ipython",
    "version": 3
   },
   "file_extension": ".py",
   "mimetype": "text/x-python",
   "name": "python",
   "nbconvert_exporter": "python",
   "pygments_lexer": "ipython3",
   "version": "3.4.3"
  }
 },
 "nbformat": 4,
 "nbformat_minor": 2
}
