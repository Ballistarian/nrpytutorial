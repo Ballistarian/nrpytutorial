{
 "cells": [
  {
   "cell_type": "markdown",
   "metadata": {},
   "source": [
    "# Unit Testing `GiRaFFE_NRPy`: $A_k$ to $B^i$\n",
    "\n",
    "### Author: Patrick Nelson\n",
    "\n",
    "This notebook validates our A-to-B solver for use in `GiRaFFE_NRPy`. Because the original `GiRaFFE` used staggered grids and we do not, we can not trivially do a direct comparison to the old code. Instead, we will compare the numerical results with the expected analytic results. \n",
    "\n",
    "**Module Status:** <font color=red><b> In-Progress </b></font>\n",
    "\n",
    "**Validation Notes:** This module will validate the routines in [Tutorial-GiRaFFE_HO_C_code_library-A2B](../Tutorial-GiRaFFE_HO_C_code_library-A2B.ipynb).\n",
    "\n",
    "It is, in general, good coding practice to unit test functions individually to verify that they produce the expected and intended output. Here, we expect our functions to produce the correct cross product in an arbitrary spacetime. To that end, we will choose functions that are easy to differentiate, but lack the symmetries that would trivialize the finite-difference algorithm. Higher-order polynomials are one such type of function. \n",
    "\n",
    "We will start with the simplest case - testing the second-order solver. In second-order finite-differencing, we use a three-point stencil that can exactly differentiate polynomials up to quadratic. So, we will use cubic functions three variables. For instance,\n",
    "\n",
    "\\begin{align}\n",
    "A_x &= ax^3 + by^3 + cz^3 + dy^2 + eyz + fz^2 + g \\\\\n",
    "A_y &= hx^3 + ly^3 + mz^3 + nx^2 + oxz + pz^2 + q \\\\\n",
    "A_z &= rx^3 + sy^3 + tz^3 + ux^2 + vxy + wy^2 + \\alpha. \\\\\n",
    "\\end{align}\n",
    "\n",
    "It will be much simpler to let NRPy+ handle most of this work. So, we will import the core functionality of NRPy+, build the expressions, and then output them using `outputC()`."
   ]
  },
  {
   "cell_type": "code",
   "execution_count": 1,
   "metadata": {},
   "outputs": [],
   "source": [
    "import shutil, os, sys           # Standard Python modules for multiplatform OS-level functions\n",
    "# First, we'll add the parent directory to the list of directories Python will check for modules.\n",
    "nrpy_dir_path = os.path.join(\"..\")\n",
    "if nrpy_dir_path not in sys.path:\n",
    "    sys.path.append(nrpy_dir_path)\n",
    "\n",
    "from outputC import *            # NRPy+: Core C code output module\n",
    "import finite_difference as fin  # NRPy+: Finite difference C code generation module\n",
    "import NRPy_param_funcs as par   # NRPy+: Parameter interface\n",
    "import grid as gri               # NRPy+: Functions having to do with numerical grids\n",
    "import loop as lp                # NRPy+: Generate C code loops\n",
    "import indexedexp as ixp         # NRPy+: Symbolic indexed expression (e.g., tensors, vectors, etc.) support\n",
    "import reference_metric as rfm   # NRPy+: Reference metric support\n",
    "import cmdline_helper as cmd     # NRPy+: Multi-platform Python command-line interface\n",
    "\n",
    "thismodule = \"Unit_Test_GiRaFFE_NRPy_Ccode_library_A2B\"\n",
    "a,b,c,d,e,f,g,h,l,m,n,o,p,q,r,s,t,u,v,w,alpha = par.Cparameters(\"REAL\",thismodule,[\"a\",\"b\",\"c\",\"d\",\"e\",\"f\",\"g\",\"h\",\"l\",\"m\",\"n\",\"o\",\"p\",\"q\",\"r\",\"s\",\"t\",\"u\",\"v\",\"w\",\"alpha\"],10.0)\n",
    "gammadet = gri.register_gridfunctions(\"AUXEVOL\",\"gammadet\")\n",
    "\n",
    "DIM = 3\n",
    "par.set_parval_from_str(\"grid::DIM\",DIM)\n",
    "\n",
    "par.set_parval_from_str(\"reference_metric::CoordSystem\",\"Cartesian\")\n",
    "rfm.reference_metric()\n",
    "gri.register_gridfunctions_for_single_rank1\n",
    "x = rfm.xxCart[0]\n",
    "y = rfm.xxCart[1]\n",
    "z = rfm.xxCart[2]\n",
    "\n",
    "AD = ixp.register_gridfunctions_for_single_rank1(\"EVOL\",\"AD\")\n",
    "AD[0] = a*x**3 + b*y**3 + c*z**3 + d*y**2 + e*y*z + f*z**2 + g\n",
    "AD[1] = h*x**3 + l*y**3 + m*z**3 + n*x**2 + o*x*z + p*z**2 + q\n",
    "AD[2] = r*x**3 + s*y**3 + t*z**3 + y*x**2 + v*x*y + w*y**2 + alpha\n"
   ]
  },
  {
   "cell_type": "markdown",
   "metadata": {},
   "source": [
    "Next, we'll let NRPy+ compute derivatives analytically according to $$B^i = \\frac{[ijk]}{\\sqrt{\\gamma}} \\partial_j A_k.$$ Then we can carry out two separate tests to verify the numerical derivatives. First, we will verify that when we let the cubic terms be zero, the two calculations of $B^i$ agree to roundoff error. Second, we will verify that when we set the cubic terms, our error is dominated by trunction error that converges to zero at the expected rate. "
   ]
  },
  {
   "cell_type": "code",
   "execution_count": 2,
   "metadata": {},
   "outputs": [],
   "source": [
    "import WeylScal4NRPy.WeylScalars_Cartesian as weyl\n",
    "LeviCivitaDDD = weyl.define_LeviCivitaSymbol_rank3()\n",
    "LeviCivitaUUU = ixp.zerorank3()\n",
    "for i in range(DIM):\n",
    "    for j in range(DIM):\n",
    "        for k in range(DIM):\n",
    "            LeviCivitaUUU[i][j][k] = LeviCivitaDDD[i][j][k] / sp.sqrt(gammadet)\n",
    "            \n",
    "B_analyticU = ixp.register_gridfunctions_for_single_rank1(\"AUXEVOL\",\"B_analyticU\")\n",
    "for i in range(DIM):\n",
    "    B_analyticU[i] = 0\n",
    "    for j in range(DIM):\n",
    "        for k in range(DIM):\n",
    "            B_analyticU[i] += LeviCivitaUUU[i][j][k] * sp.diff(AD[k],rfm.xxCart[j])\n"
   ]
  },
  {
   "cell_type": "markdown",
   "metadata": {},
   "source": [
    "Now that we have our vector potential and analytic magnetic field to compare against, we will start writing our unit test. For this test, we cannot use only point; we will need a small grid. As we are testing a three-point stencil, we can get away with a minimal $3 \\times 3$ grid. We'll also import common C functionality and set the standard macros for NRPy+ style memory access."
   ]
  },
  {
   "cell_type": "code",
   "execution_count": 3,
   "metadata": {},
   "outputs": [],
   "source": [
    "out_string = \"\"\"\n",
    "// These are common packages that we are likely to need.\n",
    "#include \"stdio.h\"\n",
    "#include \"stdlib.h\"\n",
    "#include \"math.h\"\n",
    "#include \"string.h\" // Needed for strncmp, etc.\n",
    "#include \"stdint.h\" // Needed for Windows GCC 6.x compatibility\n",
    "#include <time.h>   // Needed to set a random seed.\n",
    "\n",
    "// Standard GRFFE parameters:\n",
    "const int Nxx_plus_2NGHOSTS[3] = {3,3,3};\n",
    "\n",
    "// Standard NRPy+ memory access:\n",
    "#define IDX4(g,i,j,k) \\\n",
    "( (i) + Nxx_plus_2NGHOSTS[0] * ( (j) + Nxx_plus_2NGHOSTS[1] * ( (k) + Nxx_plus_2NGHOSTS[2] * (g) ) ) )\n",
    "#define IDX3(i,j,k) ( (i) + Nxx_plus_2NGHOSTS[0] * ( (j) + Nxx_plus_2NGHOSTS[1] * (k) ) )\n",
    "// Assuming idx = IDX3(i,j,k). Much faster if idx can be reused over and over:\n",
    "#define IDX4pt(g,idx)   ( (idx) + (Nxx_plus_2NGHOSTS[0]*Nxx_plus_2NGHOSTS[1]*Nxx_plus_2NGHOSTS[2]) * (g) )\n",
    "\n",
    "\"\"\""
   ]
  },
  {
   "cell_type": "markdown",
   "metadata": {},
   "source": [
    "We'll now define the gridfunction names."
   ]
  },
  {
   "cell_type": "code",
   "execution_count": 4,
   "metadata": {},
   "outputs": [],
   "source": [
    "out_string += \"\"\"\n",
    "// Let's also #define the NRPy+ gridfunctions\n",
    "#define GAMMADETGF 0\n",
    "#define AD0GF 1\n",
    "#define AD0GF 2\n",
    "#define AD0GF 3\n",
    "#define B_analyticU0GF 4\n",
    "#define B_analyticU1GF 5\n",
    "#define B_analyticU2GF 6\n",
    "#define B_numericU0GF 7\n",
    "#define B_numericU1GF 8\n",
    "#define B_numericU2GF 9\n",
    "#define NUM_AUXEVOL_GFS 10\n",
    "\n",
    "\"\"\""
   ]
  },
  {
   "cell_type": "markdown",
   "metadata": {},
   "source": [
    "Now, we'll handle the different A2B codes. There are several things to do here. First, we'll add `#include`s to the C code so that we have access to the functions we want to test. Relative to this tutorial, they are in the subfolder `A2B`."
   ]
  },
  {
   "cell_type": "code",
   "execution_count": 5,
   "metadata": {},
   "outputs": [],
   "source": [
    "out_string += \"\"\"\n",
    "#include \"A2B/driver_AtoB.c\" // This file contains both functions we need.\n",
    "\n",
    "\"\"\""
   ]
  },
  {
   "cell_type": "markdown",
   "metadata": {},
   "source": [
    "We also should write a function that will use the analytic formulae for $B^i$. Then, we'll need to call the function from the module `GiRaFFE_HO_A2B` to generate the different header files."
   ]
  },
  {
   "cell_type": "code",
   "execution_count": 6,
   "metadata": {},
   "outputs": [
    {
     "name": "stdout",
     "output_type": "stream",
     "text": [
      "{\n",
      "   /* \n",
      "    * NRPy+ Finite Difference Code Generation, Step 1 of 1: Read from main memory and compute finite difference stencils:\n",
      "    */\n",
      "   const double gammadet = auxevol_gfs[IDX4(GAMMADETGF, i0,i1,i2)];\n",
      "   /* \n",
      "    * NRPy+ Finite Difference Code Generation, Step 2 of 1: Evaluate SymPy expressions and write to main memory:\n",
      "    */\n",
      "   const double tmp0 = pow(gammadet, -1.0/2.0);\n",
      "   const double tmp1 = 2*xx2;\n",
      "   const double tmp2 = 3*pow(xx2, 2);\n",
      "   const double tmp3 = pow(xx0, 2);\n",
      "   const double tmp4 = 2*xx1;\n",
      "   const double tmp5 = 3*pow(xx1, 2);\n",
      "   const double tmp6 = 3*tmp3;\n",
      "   auxevol_gfs[IDX4(B_ANALYTICU0GF, i0, i1, i2)] = -tmp0*(m*tmp2 + o*xx0 + p*tmp1) + tmp0*(s*tmp5 + tmp3 + tmp4*w + v*xx0);\n",
      "   auxevol_gfs[IDX4(B_ANALYTICU1GF, i0, i1, i2)] = tmp0*(c*tmp2 + e*xx1 + f*tmp1) - tmp0*(r*tmp6 + tmp4*xx0 + v*xx1);\n",
      "   auxevol_gfs[IDX4(B_ANALYTICU2GF, i0, i1, i2)] = -tmp0*(b*tmp5 + d*tmp4 + e*xx2) + tmp0*(h*tmp6 + 2*n*xx0 + o*xx2);\n",
      "}\n",
      "\n",
      "\n",
      "Wrote to file \"A2B/B_from_A_order10.h\"\n",
      "Wrote to file \"A2B/B_from_A_order8.h\"\n",
      "Wrote to file \"A2B/B_from_A_order6.h\"\n",
      "Wrote to file \"A2B/B_from_A_order4.h\"\n",
      "Wrote to file \"A2B/B_from_A_order2.h\"\n",
      "Wrote to file \"A2B/B_from_A_order2_dirx0_dnwind.h\"\n",
      "Wrote to file \"A2B/B_from_A_order2_dirx0_upwind.h\"\n",
      "Wrote to file \"A2B/B_from_A_order2_dirx1_dnwind.h\"\n",
      "Wrote to file \"A2B/B_from_A_order2_dirx1_upwind.h\"\n",
      "Wrote to file \"A2B/B_from_A_order2_dirx2_dnwind.h\"\n",
      "Wrote to file \"A2B/B_from_A_order2_dirx2_upwind.h\"\n"
     ]
    }
   ],
   "source": [
    "out_string += \"\"\"\n",
    "void calculate_exact_BU(const int i0min, const int i0max,\n",
    "                        const int i1min, const int i1max,\n",
    "                        const int i2min, const int i2max,\n",
    "                        const double *evol_gfs, double *out_gfs) {\n",
    "    for(int i2=i2min;i2<i2max;i2++) for(int i1=i1min;i1<i1max;i1++) for(int i0=i0min;i0<i0max;i0++) {\n",
    "\"\"\"\n",
    "\n",
    "B_analyticU_to_print   = [\\\n",
    "                           lhrh(lhs=gri.gfaccess(\"out_gfs\",\"B_analyticU0\"),rhs=B_analyticU[0]),\\\n",
    "                           lhrh(lhs=gri.gfaccess(\"out_gfs\",\"B_analyticU1\"),rhs=B_analyticU[1]),\\\n",
    "                           lhrh(lhs=gri.gfaccess(\"out_gfs\",\"B_analyticU2\"),rhs=B_analyticU[2]),\\\n",
    "                          ]\n",
    "B_analyticU_kernel = fin.FD_outputC(\"returnstring\",B_analyticU_to_print,params=\"outCverbose=False\")\n",
    "out_string += B_analyticU_kernel\n",
    "print(B_analyticU_kernel)\n",
    "\n",
    "out_string += \"\"\"        \n",
    "    }\n",
    "}\n",
    "\n",
    "\"\"\"\n",
    "\n",
    "gri.glb_gridfcs_list = []\n",
    "import GiRaFFE_HO.GiRaFFE_HO_A2B as A2B\n",
    "# We'll generate these into the A2B subdirectory since that's where the functions\n",
    "# we're testing expect them to be.\n",
    "A2B.GiRaFFE_HO_A2B(\"A2B/\")\n"
   ]
  },
  {
   "cell_type": "markdown",
   "metadata": {},
   "source": [
    "**TODO: Declare coordinates as gridfunctions**"
   ]
  }
 ],
 "metadata": {
  "kernelspec": {
   "display_name": "Python 2",
   "language": "python",
   "name": "python2"
  },
  "language_info": {
   "codemirror_mode": {
    "name": "ipython",
    "version": 2
   },
   "file_extension": ".py",
   "mimetype": "text/x-python",
   "name": "python",
   "nbconvert_exporter": "python",
   "pygments_lexer": "ipython2",
   "version": "2.7.13"
  }
 },
 "nbformat": 4,
 "nbformat_minor": 2
}
