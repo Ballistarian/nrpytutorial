{
 "cells": [
  {
   "cell_type": "markdown",
   "metadata": {},
   "source": [
    "# BSSN Time-Evolution Equations for the Gauge Fields $\\alpha$ and $\\beta^i$\n",
    "\n",
    "<font color='red'>**All expressions generated in this module have NOT been validated against a trusted code (the original NRPy+/SENR code, which itself was validated against [Baumgarte's code](https://arxiv.org/abs/1211.6632)).**</font>\n",
    "\n",
    "## Python module containing the final expressions constructed in this module: [BSSN/BSSN_RHS.py](../edit/BSSN/BSSN_gauge_RHSs.py)\n",
    "\n",
    "### Author: Zach Etienne\n",
    "\n",
    "<a id='toc'></a>\n",
    "\n",
    "# Table of Contents\n",
    "$$\\label{toc}$$\n",
    "\n",
    "This tutorial module constructs SymPy expressions for the right-hand sides of the time-evolution equations for the gauge fields $\\alpha$ (the lapse, governing how much proper time elapses at each point between one timestep in a 3+1 solution to Einstein's equations and the next) and $\\beta^i$ (the shift, governing how much proper distance numerical grid points move from one timestep in a 3+1 solution to Einstein's equations and the next).\n",
    "\n",
    "Though we are completely free to choose gauge conditions (i.e., free to choose the form of the right-hand sides of the gauge time evolution equations), very few have been found robust in the presence of (puncture) black holes. So we focus here only on a few of the most stable choices.\n",
    "\n",
    "The module is organized as follows\n",
    "\n",
    "1. [Step 1](#initializenrpy): Initialize needed NRPy+ modules\n",
    "1. [Step 2](#lapseconditions): Right-hand side of $\\partial_t \\alpha$: the $1+\\log$ lapse condition\n",
    "1. [Step 3](#shiftconditions): Right-hand side of $\\partial_t \\beta^i$: Second-order Gamma-driving shift conditions\n",
    "    1. [Step 3.a](#origgammadriving): Original, non-covariant Gamma-driving shift condition\n",
    "    1. [Step 3.b](#covgammadriving): [Brown](https://arxiv.org/abs/0902.3652)'s suggested covariant Gamma-driving shift condition\n",
    "1. [Step 4](#code_validation): Code Validation against BSSN.BSSN_RHSs NRPy+ module\n",
    "1. [Step 5](#latex_pdf_output): Output this module to $\\LaTeX$-formatted PDF"
   ]
  },
  {
   "cell_type": "markdown",
   "metadata": {},
   "source": [
    "<a id='initializenrpy'></a>\n",
    "\n",
    "# Step 1: Initialize needed NRPy+ modules\n",
    "$$\\label{initializenrpy}$$\n",
    "\n",
    "Let's start by importing all the needed modules from NRPy+:"
   ]
  },
  {
   "cell_type": "code",
   "execution_count": 1,
   "metadata": {},
   "outputs": [],
   "source": [
    "# Step 1: import all needed modules from NRPy+:\n",
    "import NRPy_param_funcs as par\n",
    "import indexedexp as ixp\n",
    "import grid as gri\n",
    "import finite_difference as fin\n",
    "import reference_metric as rfm\n",
    "from outputC import *\n",
    "\n",
    "# Step 1.a: Set spatial dimension (must be 3 for BSSN, as BSSN is \n",
    "#           a 3+1-dimensional decomposition of the general \n",
    "#           relativistic field equations)\n",
    "DIM = 3\n",
    "\n",
    "# Step 1.b: Given the chosen coordinate system, set up \n",
    "#           corresponding reference metric and needed\n",
    "#           reference metric quantities\n",
    "# The following function call sets up the reference metric\n",
    "#    and related quantities, including rescaling matrices ReDD,\n",
    "#    ReU, and hatted quantities.\n",
    "rfm.reference_metric()\n",
    "\n",
    "# Step 1.c: Define BSSN scalars & tensors (in terms of rescaled BSSN quantities)\n",
    "import BSSN.BSSN_quantities as Bq\n",
    "Bq.BSSN_basic_tensors()\n",
    "alpha = Bq.alpha\n",
    "trK = Bq.trK\n",
    "betaU = Bq.betaU\n",
    "BU = Bq.BU\n",
    "betU = Bq.betU\n",
    "\n",
    "# Step 1.d: Declare/initialize parameters for this module\n",
    "thismodule = \"BSSN_gauge_RHSs\"\n",
    "par.initialize_param(par.glb_param(\"char\", thismodule, \"ShiftEvolutionOption\", \"GammaDriving2ndOrder_NoCovariant\"))"
   ]
  },
  {
   "cell_type": "markdown",
   "metadata": {},
   "source": [
    "<a id='lapseconditions'></a>\n",
    "\n",
    "# Step 2: Right-hand side $\\partial_t \\alpha$: the $1+\\log$ lapse condition\n",
    "$$\\label{lapseconditions}$$\n",
    "\n",
    "The [$1=\\log$ lapse condition](https://arxiv.org/abs/gr-qc/0206072) is a member of the [Bona-Masso family of lapse choices](https://arxiv.org/abs/gr-qc/9412071), which has the desirable property of singularity avoidance. As is common (e.g., see [Campanelli *et al* (2005)](https://arxiv.org/abs/gr-qc/0511048)), we make the replacement $\\partial_t \\to \\partial_0 = \\partial_t + \\beta^i \\partial_i$ to ensure lapse characteristics advect with the shift:\n",
    "\n",
    "\\begin{align}\n",
    "\\partial_0 \\alpha &= -2 \\alpha K \\\\\n",
    "\\implies \\partial_t \\alpha &= \\left[\\beta^i \\partial_i \\alpha\\right] - 2 \\alpha K\n",
    "\\end{align}"
   ]
  },
  {
   "cell_type": "code",
   "execution_count": 2,
   "metadata": {},
   "outputs": [],
   "source": [
    "# Step 2: \\partial_t \\alpha = \\beta^i \\alpha_{,i} - 2*\\alpha*K\n",
    "alpha_rhs = -2*alpha*trK\n",
    "alpha_dupD = ixp.declarerank1(\"alpha_dupD\")\n",
    "for i in range(DIM):\n",
    "    alpha_rhs += betaU[i]*alpha_dupD[i]"
   ]
  },
  {
   "cell_type": "markdown",
   "metadata": {},
   "source": [
    "<a id='shiftconditions'></a>\n",
    "\n",
    "# Step 3: Right-hand side of $\\partial_t \\beta^i$: Second-order Gamma-driving shift conditions\n",
    "$$\\label{shiftconditions}$$\n",
    "\n",
    "The motivation behind Gamma-driving shift conditions are well documented in the book [*Numerical Relativity* by Baumgarte & Shapiro](https://www.amazon.com/Numerical-Relativity-Einsteins-Equations-Computer/dp/052151407X/).\n",
    "\n",
    "## Step 3.a: Original, non-covariant Gamma-driving shift condition\n",
    "\n",
    "**Option 1: Non-Covariant, Second-Order Shift**\n",
    "\n",
    "We adopt the [*shifting (i.e., advecting) shift*](https://arxiv.org/abs/gr-qc/0605030) non-covariant, second-order shift condition:\n",
    "\\begin{align}\n",
    "\\partial_0 \\beta^i &= B^{i} \\\\\n",
    "\\partial_0 B^i &= \\frac{3}{4} \\partial_{0} \\bar{\\Lambda}^{i} - \\eta B^{i} \\\\\n",
    "\\implies \\partial_t \\beta^i &= \\left[\\beta^j \\partial_j \\beta^i\\right] + B^{i} \\\\\n",
    "\\partial_t B^i &= \\left[\\beta^j \\partial_j B^i\\right] + \\frac{3}{4} \\partial_{0} \\bar{\\Lambda}^{i} - \\eta B^{i},\n",
    "\\end{align}\n",
    "where $\\eta$ is the shift damping parameter, and $\\partial_{0} \\bar{\\Lambda}^{i}$ in the right-hand side of the $\\partial_{0} B^{i}$ equation is computed by adding $\\beta^j \\partial_j \\bar{\\Lambda}^i$ to the right-hand side expression given for $\\partial_t \\bar{\\Lambda}^i$ in the BSSN time-evolution equations as listed [here](Tutorial-BSSN_formulation.ipynb), so no explicit time dependence occurs in the right-hand sides of the BSSN evolution equations and the Method of Lines can be applied directly."
   ]
  },
  {
   "cell_type": "code",
   "execution_count": 3,
   "metadata": {},
   "outputs": [
    {
     "ename": "NameError",
     "evalue": "global name 'Lambar_rhsU' is not defined",
     "output_type": "error",
     "traceback": [
      "\u001b[0;31m---------------------------------------------------------------------------\u001b[0m",
      "\u001b[0;31mNameError\u001b[0m                                 Traceback (most recent call last)",
      "\u001b[0;32m<ipython-input-3-de11fd353508>\u001b[0m in \u001b[0;36m<module>\u001b[0;34m()\u001b[0m\n\u001b[1;32m     25\u001b[0m     \u001b[0mLambar_partial0\u001b[0m \u001b[0;34m=\u001b[0m \u001b[0mixp\u001b[0m\u001b[0;34m.\u001b[0m\u001b[0mzerorank1\u001b[0m\u001b[0;34m(\u001b[0m\u001b[0;34m)\u001b[0m\u001b[0;34m\u001b[0m\u001b[0m\n\u001b[1;32m     26\u001b[0m     \u001b[0;32mfor\u001b[0m \u001b[0mi\u001b[0m \u001b[0;32min\u001b[0m \u001b[0mrange\u001b[0m\u001b[0;34m(\u001b[0m\u001b[0mDIM\u001b[0m\u001b[0;34m)\u001b[0m\u001b[0;34m:\u001b[0m\u001b[0;34m\u001b[0m\u001b[0m\n\u001b[0;32m---> 27\u001b[0;31m         \u001b[0mLambar_partial0\u001b[0m\u001b[0;34m[\u001b[0m\u001b[0mi\u001b[0m\u001b[0;34m]\u001b[0m \u001b[0;34m=\u001b[0m \u001b[0mLambar_rhsU\u001b[0m\u001b[0;34m[\u001b[0m\u001b[0mi\u001b[0m\u001b[0;34m]\u001b[0m\u001b[0;34m\u001b[0m\u001b[0m\n\u001b[0m\u001b[1;32m     28\u001b[0m     \u001b[0;32mfor\u001b[0m \u001b[0mi\u001b[0m \u001b[0;32min\u001b[0m \u001b[0mrange\u001b[0m\u001b[0;34m(\u001b[0m\u001b[0mDIM\u001b[0m\u001b[0;34m)\u001b[0m\u001b[0;34m:\u001b[0m\u001b[0;34m\u001b[0m\u001b[0m\n\u001b[1;32m     29\u001b[0m         \u001b[0;32mfor\u001b[0m \u001b[0mj\u001b[0m \u001b[0;32min\u001b[0m \u001b[0mrange\u001b[0m\u001b[0;34m(\u001b[0m\u001b[0mDIM\u001b[0m\u001b[0;34m)\u001b[0m\u001b[0;34m:\u001b[0m\u001b[0;34m\u001b[0m\u001b[0m\n",
      "\u001b[0;31mNameError\u001b[0m: global name 'Lambar_rhsU' is not defined"
     ]
    }
   ],
   "source": [
    "# Step 3.a: Set \\partial_t \\beta^i\n",
    "beta_rhsU = ixp.zerorank1()\n",
    "B_rhsU = ixp.zerorank1()\n",
    "betaU_dupD = ixp.declarerank2(\"betaU_dupD\",\"nosym\")\n",
    "if par.parval_from_str(\"BSSN_gauge_RHSs::ShiftEvolutionOption\") == \"GammaDriving2ndOrder_NoCovariant\":\n",
    "    # Step 3.a.i: Compute right-hand side of beta^i\n",
    "    # *  \\partial_t \\beta^i = \\beta^j \\beta^i_{,j} + B^i\n",
    "    for i in range(DIM):\n",
    "        beta_rhsU[i] += BU[i]\n",
    "        for j in range(DIM):\n",
    "            beta_rhsU[i] += betaU[j]*betaU_dupD[i][j]\n",
    "    # Compute right-hand side of B^i:\n",
    "    eta = par.Cparameters(\"REAL\",thismodule,[\"eta\"])\n",
    "\n",
    "    # Step 3.a.ii: Compute right-hand side of B^i\n",
    "    # *  \\partial_t B^i     = \\beta^j B^i_{,j} + 3/4 * \\partial_0 \\Lambda^i - eta B^i\n",
    "    # Step 15b: Define BU_dupD, in terms of derivative of rescaled variable \\bet^i\n",
    "    BU_dupD = ixp.zerorank2()\n",
    "    betU_dupD = ixp.declarerank2(\"betU_dupD\",\"nosym\")\n",
    "    for i in range(DIM):\n",
    "        for j in range(DIM):\n",
    "            BU_dupD[i][j] = betU_dupD[i][j]*rfm.ReU[i] + betU[i]*rfm.ReUdD[i][j]\n",
    "\n",
    "    # Step 15c: Compute \\partial_0 \\bar{\\Lambda}^i = (\\partial_t - \\beta^i \\partial_i) \\bar{\\Lambda}^j \n",
    "    Lambar_partial0 = ixp.zerorank1()\n",
    "    for i in range(DIM):\n",
    "        Lambar_partial0[i] = Lambar_rhsU[i]\n",
    "    for i in range(DIM):\n",
    "        for j in range(DIM):\n",
    "            Lambar_partial0[j] += -betaU[i]*LambarU_dupD[j][i]\n",
    "\n",
    "    # Step 15d: Evaluate RHS of B^i:\n",
    "    for i in range(DIM):\n",
    "        B_rhsU[i] += sp.Rational(3,4)*Lambar_partial0[i] - eta*BU[i]\n",
    "        for j in range(DIM):\n",
    "            B_rhsU[i] += betaU[j]*BU_dupD[i][j]"
   ]
  },
  {
   "cell_type": "markdown",
   "metadata": {},
   "source": [
    "**Option 2: Covariant, Second-Order Shift**\n",
    "\n",
    "This is [Brown's](https://arxiv.org/abs/0902.3652) suggested formulation (Eq. 20b; note that Eq. 20a is the same as our lapse condition, as $\\bar{D}_j \\alpha = \\partial_j \\alpha$ for scalar $\\alpha$):\n",
    "$$\\partial_t \\beta^i = \\left[\\beta^j \\bar{D}_j \\beta^i\\right] + B^{i}$$\n",
    "Based on the definition of covariant derivative, we have\n",
    "$$\n",
    "\\bar{D}_{j} \\beta^{i} = \\beta^i_{,j} + \\bar{\\Gamma}^i_{mj} \\beta^m,\n",
    "$$\n",
    "so the above equation becomes\n",
    "\\begin{align}\n",
    "\\partial_t \\beta^i &= \\left[\\beta^j \\left(\\beta^i_{,j} + \\bar{\\Gamma}^i_{mj} \\beta^m\\right)\\right] + B^{i}\\\\\n",
    "&= {\\underbrace {\\textstyle \\beta^j \\beta^i_{,j}}_{\\text{Term 1}}} + \n",
    "{\\underbrace {\\textstyle \\beta^j \\bar{\\Gamma}^i_{mj} \\beta^m}_{\\text{Term 2}}} + \n",
    "{\\underbrace {\\textstyle B^i}_{\\text{Term 3}}} \n",
    "\\end{align}\n"
   ]
  },
  {
   "cell_type": "code",
   "execution_count": null,
   "metadata": {},
   "outputs": [],
   "source": [
    "if par.parval_from_str(\"BSSN_RHSs::ShiftEvolutionOption\") == \"GammaDriving2ndOrder_Covariant\":\n",
    "    # Step 14 Option 2: \\partial_t \\beta^i = \\left[\\beta^j \\bar{D}_j \\beta^i\\right] + B^{i}\n",
    "\n",
    "    # Then compute right-hand side:\n",
    "    # Term 1: \\beta^j \\beta^i_{,j}\n",
    "    for i in range(DIM):\n",
    "        for j in range(DIM):\n",
    "            beta_rhsU[i] += betaU[j]*betaU_dupD[i][j]\n",
    "\n",
    "    # Term 2: \\beta^j \\bar{\\Gamma}^i_{mj} \\beta^m\n",
    "    for i in range(DIM):\n",
    "        for j in range(DIM):\n",
    "            for m in range(DIM):\n",
    "                beta_rhsU[i] += betaU[j]*GammabarUDD[i][m][j]*betaU[m]\n",
    "    # Term 3: B^i\n",
    "    for i in range(DIM):\n",
    "        beta_rhsU[i] += BU[i]"
   ]
  },
  {
   "cell_type": "markdown",
   "metadata": {},
   "source": [
    "## Right-hand sides of BSSN equations, part 8: $\\partial_t B^i$\n",
    "\n",
    "**Option 1: Non-Covariant, Second-Order Shift**\n",
    "$$\\partial_t B^i = \\left[\\beta^j \\partial_j B^i\\right] + \\frac{3}{4} \\partial_{0} \\bar{\\Lambda}^{i} - \\eta B^{i}$$"
   ]
  },
  {
   "cell_type": "code",
   "execution_count": null,
   "metadata": {},
   "outputs": [],
   "source": [
    "# Step 15: Evaluate \\partial_t B^i\n",
    "\n",
    "# Step 15a: Declare free parameter eta and B_rhsU\n"
   ]
  },
  {
   "cell_type": "markdown",
   "metadata": {},
   "source": [
    "**Option 2: Covariant, Second-Order Shift**\n",
    "\n",
    "This is [Brown's](https://arxiv.org/abs/0902.3652) suggested formulation (Eq. 20c):\n",
    "$$\\partial_t B^i = \\left[\\beta^j \\bar{D}_j B^i\\right] + \\frac{3}{4}\\left( \\partial_t \\bar{\\Lambda}^{i} - \\beta^j \\bar{D}_j \\bar{\\Lambda}^{i} \\right) - \\eta B^{i}$$\n",
    "\n",
    "Based on the definition of covariant derivative, we have for vector $V^i$\n",
    "$$\n",
    "\\bar{D}_{j} V^{i} = V^i_{,j} + \\bar{\\Gamma}^i_{mj} V^m,\n",
    "$$\n",
    "so the above equation becomes\n",
    "\\begin{align}\n",
    "\\partial_t B^i &= \\left[\\beta^j \\left(B^i_{,j} + \\bar{\\Gamma}^i_{mj} B^m\\right)\\right] + \\frac{3}{4}\\left[ \\partial_t \\bar{\\Lambda}^{i} - \\beta^j \\left(\\bar{\\Lambda}^i_{,j} + \\bar{\\Gamma}^i_{mj} \\bar{\\Lambda}^m\\right) \\right] - \\eta B^{i} \\\\\n",
    "&= {\\underbrace {\\textstyle \\beta^j B^i_{,j}}_{\\text{Term 1}}} + \n",
    "{\\underbrace {\\textstyle \\beta^j \\bar{\\Gamma}^i_{mj} B^m}_{\\text{Term 2}}} + \n",
    "{\\underbrace {\\textstyle \\frac{3}{4}\\partial_t \\bar{\\Lambda}^{i}}_{\\text{Term 3}}} -\n",
    "{\\underbrace {\\textstyle \\frac{3}{4}\\beta^j \\bar{\\Lambda}^i_{,j}}_{\\text{Term 4}}} -\n",
    "{\\underbrace {\\textstyle \\frac{3}{4}\\beta^j \\bar{\\Gamma}^i_{mj} \\bar{\\Lambda}^m}_{\\text{Term 5}}} -\n",
    "{\\underbrace {\\textstyle \\eta B^i}_{\\text{Term 6}}}\n",
    "\\end{align}"
   ]
  },
  {
   "cell_type": "code",
   "execution_count": null,
   "metadata": {},
   "outputs": [],
   "source": [
    "if par.parval_from_str(\"BSSN_RHSs::ShiftEvolutionOption\") == \"GammaDriving2ndOrder_Covariant\":\n",
    "    # Step 15: Covariant option:\n",
    "    #  \\partial_t B^i = \\beta^j \\bar{D}_j B^i\n",
    "    #               + \\frac{3}{4} ( \\partial_t \\bar{\\Lambda}^{i} - \\beta^j \\bar{D}_j \\bar{\\Lambda}^{i} ) \n",
    "    #               - \\eta B^{i}\n",
    "    #                 = \\beta^j B^i_{,j} + \\beta^j \\bar{\\Gamma}^i_{mj} B^m\n",
    "    #               + \\frac{3}{4}[ \\partial_t \\bar{\\Lambda}^{i} \n",
    "    #                            - \\beta^j (\\bar{\\Lambda}^i_{,j} + \\bar{\\Gamma}^i_{mj} \\bar{\\Lambda}^m)] \n",
    "    #               - \\eta B^{i}\n",
    "    # Term 1, part a: First compute B^i_{,j} using upwinded derivative\n",
    "    BU_dupD = ixp.zerorank2()\n",
    "    betU_dupD = ixp.declarerank2(\"betU_dupD\",\"nosym\")\n",
    "    for i in range(DIM):\n",
    "        for j in range(DIM):\n",
    "            BU_dupD[i][j] = betU_dupD[i][j]*rfm.ReU[i] + betU[i]*rfm.ReUdD[i][j]\n",
    "    # Term 1: \\beta^j B^i_{,j}\n",
    "    for i in range(DIM):\n",
    "        for j in range(DIM):\n",
    "            B_rhsU[i] += betaU[j]*BU_dupD[i][j]\n",
    "    # Term 2: \\beta^j \\bar{\\Gamma}^i_{mj} B^m\n",
    "    for i in range(DIM):\n",
    "        for j in range(DIM):\n",
    "            for m in range(DIM):\n",
    "                B_rhsU[i] += betaU[j]*GammabarUDD[i][m][j]*BU[m]\n",
    "    # Term 3: \\frac{3}{4}\\partial_t \\bar{\\Lambda}^{i}\n",
    "    for i in range(DIM):\n",
    "        B_rhsU[i] += sp.Rational(3,4)*Lambar_rhsU[i]\n",
    "    # Term 4: -\\frac{3}{4}\\beta^j \\bar{\\Lambda}^i_{,j}\n",
    "    for i in range(DIM):\n",
    "        for j in range(DIM):\n",
    "            B_rhsU[i] += -sp.Rational(3,4)*betaU[j]*LambarU_dupD[i][j]\n",
    "    # Term 5: -\\frac{3}{4}\\beta^j \\bar{\\Gamma}^i_{mj} \\bar{\\Lambda}^m\n",
    "    for i in range(DIM):\n",
    "        for j in range(DIM):\n",
    "            for m in range(DIM):\n",
    "                B_rhsU[i] += -sp.Rational(3,4)*betaU[j]*GammabarUDD[i][m][j]*LambarU[m]\n",
    "    # Term 6: - \\eta B^i\n",
    "    for i in range(DIM):\n",
    "        B_rhsU[i] += -eta*BU[i]"
   ]
  },
  {
   "cell_type": "markdown",
   "metadata": {},
   "source": [
    "## Rescale right-hand sides of BSSN equations\n",
    "\n",
    "Next we rescale the right-hand sides of the BSSN equations so that the evolved variables are $\\left\\{h_{i j},a_{i j},\\text{cf}, K, \\lambda^{i}, \\alpha, \\mathcal{V}^i, \\mathcal{B}^i\\right\\}$"
   ]
  },
  {
   "cell_type": "code",
   "execution_count": null,
   "metadata": {
    "scrolled": true
   },
   "outputs": [],
   "source": [
    "# Step 16: Rescale the RHS quantities so that the evolved \n",
    "#          variables are smooth across coord singularities\n",
    "h_rhsDD     = ixp.zerorank2()\n",
    "a_rhsDD     = ixp.zerorank2()\n",
    "lambda_rhsU = ixp.zerorank1()\n",
    "vet_rhsU    = ixp.zerorank1()\n",
    "bet_rhsU    = ixp.zerorank1()\n",
    "for i in range(DIM):\n",
    "    lambda_rhsU[i] = Lambar_rhsU[i] / rfm.ReU[i]\n",
    "    vet_rhsU[i]    =   beta_rhsU[i] / rfm.ReU[i]\n",
    "    bet_rhsU[i]    =      B_rhsU[i] / rfm.ReU[i]\n",
    "    for j in range(DIM):\n",
    "        h_rhsDD[i][j] = gammabar_rhsDD[i][j] / rfm.ReDD[i][j]\n",
    "        a_rhsDD[i][j] =     Abar_rhsDD[i][j] / rfm.ReDD[i][j]\n",
    "#print(str(Abar_rhsDD[2][2]).replace(\"**\",\"^\").replace(\"_\",\"\").replace(\"xx\",\"x\").replace(\"sin(x2)\",\"Sin[x2]\").replace(\"sin(2*x2)\",\"Sin[2*x2]\").replace(\"cos(x2)\",\"Cos[x2]\").replace(\"detgbaroverdetghat\",\"detg\"))\n",
    "#print(str(Dbarbetacontraction).replace(\"**\",\"^\").replace(\"_\",\"\").replace(\"xx\",\"x\").replace(\"sin(x2)\",\"Sin[x2]\").replace(\"detgbaroverdetghat\",\"detg\"))\n",
    "#print(betaU_dD)\n",
    "#print(str(trK_rhs).replace(\"xx2\",\"xx3\").replace(\"xx1\",\"xx2\").replace(\"xx0\",\"xx1\").replace(\"**\",\"^\").replace(\"_\",\"\").replace(\"sin(xx2)\",\"Sinx2\").replace(\"xx\",\"x\").replace(\"sin(2*x2)\",\"Sin2x2\").replace(\"cos(x2)\",\"Cosx2\").replace(\"detgbaroverdetghat\",\"detg\"))\n",
    "#print(str(bet_rhsU[0]).replace(\"xx2\",\"xx3\").replace(\"xx1\",\"xx2\").replace(\"xx0\",\"xx1\").replace(\"**\",\"^\").replace(\"_\",\"\").replace(\"sin(xx2)\",\"Sinx2\").replace(\"xx\",\"x\").replace(\"sin(2*x2)\",\"Sin2x2\").replace(\"cos(x2)\",\"Cosx2\").replace(\"detgbaroverdetghat\",\"detg\"))"
   ]
  },
  {
   "cell_type": "markdown",
   "metadata": {},
   "source": [
    "### NRPy+ Module Code Validation\n",
    "\n",
    "Here, as a code validation check, we verify agreement in the SymPy expressions for the RHSs of the BSSN equations between\n",
    "1. this tutorial and \n",
    "2. the NRPy+ BSSN module.\n",
    "\n",
    "By default, we analyze the RHSs in Spherical coordinates, though other coordinate systems may be chosen."
   ]
  },
  {
   "cell_type": "code",
   "execution_count": null,
   "metadata": {},
   "outputs": [],
   "source": [
    "# Step 17: We already have SymPy expressions for BSSN RHS expressions\n",
    "#         in terms of other SymPy variables. Even if we reset the \n",
    "#         list of NRPy+ gridfunctions, these *SymPy* expressions for\n",
    "#         BSSN RHS variables *will remain unaffected*. \n",
    "# \n",
    "#         Here, we will use the above-defined BSSN RHS expressions\n",
    "#         to validate against the same expressions in the \n",
    "#         BSSN/BSSN_RHSs.py file, to ensure consistency between \n",
    "#         this tutorial and the module itself.\n",
    "#\n",
    "# Reset the list of gridfunctions, as registering a gridfunction\n",
    "#   twice will spawn an error.\n",
    "gri.glb_gridfcs_list = []\n",
    "\n",
    "\n",
    "# Step 18: Call the BSSN_RHSs() function from within the\n",
    "#          BSSN/BSSN_RHSs.py module,\n",
    "#          which should do exactly the same as in Steps 1-16 above.\n",
    "print(\"vvv Ignore the minor warning below. vvv\")\n",
    "\n",
    "import BSSN.BSSN_RHSs as bssnrhs\n",
    "bssnrhs.BSSN_RHSs()\n",
    "\n",
    "print(\"^^^ Ignore the minor warning above. ^^^\\n\")\n",
    "\n",
    "print(\"Consistency check between BSSN_RHSs tutorial and NRPy+ module: ALL SHOULD BE ZERO.\")\n",
    "\n",
    "print(\"alpha_rhs - bssnrhs.alpha_rhs = \" + str(alpha_rhs - bssnrhs.alpha_rhs))\n",
    "print(\"trK_rhs - bssnrhs.trK_rhs = \" + str(trK_rhs - bssnrhs.trK_rhs))\n",
    "print(\"cf_rhs - bssnrhs.cf_rhs = \" + str(cf_rhs - bssnrhs.cf_rhs))\n",
    "\n",
    "for i in range(DIM):\n",
    "    print(\"vet_rhsU[\"+str(i)+\"] - bssnrhs.vet_rhsU[\"+str(i)+\"] = \" + str(vet_rhsU[i] - bssnrhs.vet_rhsU[i]))\n",
    "    print(\"bet_rhsU[\"+str(i)+\"] - bssnrhs.bet_rhsU[\"+str(i)+\"] = \" + str(bet_rhsU[i] - bssnrhs.bet_rhsU[i]))\n",
    "    print(\"lambda_rhsU[\"+str(i)+\"] - bssnrhs.lambda_rhsU[\"+str(i)+\"] = \" + \n",
    "          str(lambda_rhsU[i] - bssnrhs.lambda_rhsU[i]))\n",
    "    for j in range(DIM):\n",
    "        print(\"h_rhsDD[\"+str(i)+\"][\"+str(j)+\"] - bssnrhs.h_rhsDD[\"+str(i)+\"][\"+str(j)+\"] = \" \n",
    "              + str(h_rhsDD[i][j] - bssnrhs.h_rhsDD[i][j]))\n",
    "        print(\"a_rhsDD[\"+str(i)+\"][\"+str(j)+\"] - bssnrhs.a_rhsDD[\"+str(i)+\"][\"+str(j)+\"] = \" \n",
    "              + str(a_rhsDD[i][j] - bssnrhs.a_rhsDD[i][j]))\n",
    "                "
   ]
  },
  {
   "cell_type": "markdown",
   "metadata": {},
   "source": [
    "<a id='latex_pdf_output'></a>\n",
    "\n",
    "# Step 13: Output this module to $\\LaTeX$-formatted PDF file \\[Back to [top](#toc)\\]\n",
    "$$\\label{latex_pdf_output}$$"
   ]
  },
  {
   "cell_type": "code",
   "execution_count": 4,
   "metadata": {},
   "outputs": [
    {
     "name": "stdout",
     "output_type": "stream",
     "text": [
      "[NbConvertApp] Converting notebook Tutorial-BSSN_time_evolution-BSSN_gauge_RHSs.ipynb to latex\n",
      "[NbConvertApp] Writing 58538 bytes to Tutorial-BSSN_time_evolution-BSSN_gauge_RHSs.tex\n",
      "This is pdfTeX, Version 3.14159265-2.6-1.40.18 (TeX Live 2017/Debian) (preloaded format=pdflatex)\n",
      " restricted \\write18 enabled.\n",
      "entering extended mode\n",
      "This is pdfTeX, Version 3.14159265-2.6-1.40.18 (TeX Live 2017/Debian) (preloaded format=pdflatex)\n",
      " restricted \\write18 enabled.\n",
      "entering extended mode\n",
      "This is pdfTeX, Version 3.14159265-2.6-1.40.18 (TeX Live 2017/Debian) (preloaded format=pdflatex)\n",
      " restricted \\write18 enabled.\n",
      "entering extended mode\n"
     ]
    }
   ],
   "source": [
    "!jupyter nbconvert --to latex --template latex_nrpy_style.tplx Tutorial-BSSN_time_evolution-BSSN_gauge_RHSs.ipynb\n",
    "!pdflatex -interaction=batchmode Tutorial-BSSN_time_evolution-BSSN_gauge_RHSs.tex\n",
    "!pdflatex -interaction=batchmode Tutorial-BSSN_time_evolution-BSSN_gauge_RHSs.tex\n",
    "!pdflatex -interaction=batchmode Tutorial-BSSN_time_evolution-BSSN_gauge_RHSs.tex\n",
    "!rm -f Tut*.out Tut*.aux Tut*.log"
   ]
  }
 ],
 "metadata": {
  "kernelspec": {
   "display_name": "Python 2",
   "language": "python",
   "name": "python2"
  },
  "language_info": {
   "codemirror_mode": {
    "name": "ipython",
    "version": 2
   },
   "file_extension": ".py",
   "mimetype": "text/x-python",
   "name": "python",
   "nbconvert_exporter": "python",
   "pygments_lexer": "ipython2",
   "version": "2.7.13"
  }
 },
 "nbformat": 4,
 "nbformat_minor": 2
}
