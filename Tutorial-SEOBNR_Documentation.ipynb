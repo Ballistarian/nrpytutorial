{
 "cells": [
  {
   "cell_type": "markdown",
   "metadata": {},
   "source": [
    "# The Spinning Effective One-Body Hamiltonian\n",
    "\n",
    "### Author: Tyler Knowles\n",
    "\n",
    "## This module documents the reduced spinning effective one-body Hamiltonian as numerically implemented in LALSuite's SEOBNRv3 gravitational waveform approximant.\n",
    "\n",
    "### Throughout this module, we will refer to [Barausse and Buonanno (2010)](https://arxiv.org/abs/0912.3517) as BB2010 and [Barausse and Buonanno (2011)](https://arxiv.org/abs/1107.2904) as BB2011.\n",
    "\n",
    "<font color='green'>**This module has been validated against the LALSuite SEOBNRv3/SEOBNRv3_opt code that was reviewed and approved for LIGO parameter estimation by the LIGO Scientific Collaboration.**</font>"
   ]
  },
  {
   "cell_type": "markdown",
   "metadata": {},
   "source": [
    "<a id='toc'></a>\n",
    "\n",
    "# Table of Contents\n",
    "$$\\label{toc}$$\n",
    "\n",
    "This module is organized as follows:\n",
    "\n",
    "0. [Introduction](#intro): The Physical System of Interest\n",
    "1. [Step 1](#Hreal): The Real Hamiltonian $H_{\\rm real}$\n",
    "1. [Step 2](#Heff): The Effective Hamiltonian $H_{\\rm eff}$\n",
    "1. [Step 3](#Heff_terms): Terms of $H_{\\rm eff}$  \n",
    "    a. [Step 3a](#Hs): Leading Order Spin Effects $H_{\\rm S}$  \n",
    "    b. [Step 3b](#Hns): The Nonspinning Hamiltonian $H_{\\rm NS}$  \n",
    "    c. [Step 3c](#Hd): The Quadrupole Deformation $H_{\\rm D}$\n",
    "1. [Step 4](#Hso): The Spin-Orbit Term $H_{\\rm SO}$  \n",
    "    a. [Step 4a](#HsoTerm1): $H_{\\rm SO}$ Term 1  \n",
    "    b. [Step 4b](#HsoTerm2coeff): $H_{\\rm SO}$ Term 2 Coefficient  \n",
    "    c. [Step 4c](#HsoTerm2): $H_{\\rm SO}$ Term 2  \n",
    "    d. [Step 4ci](#HsoTerm2a): $H_{\\rm SO}$ Term 2a  \n",
    "    e. [Step 4cii](#HsoTerm2b): $H_{\\rm SO}$ Term 2b  \n",
    "    f. [Step 4ciii](#HsoTerm2c): $H_{\\rm SO}$ Term 2c\n",
    "1. [Step 5](#Hss): The Spin-Spin Term $H_{\\rm SS}$  \n",
    "    a. [Step 5a](#HssTerm1): $H_{\\rm SS}$ Term 1  \n",
    "    b. [Step 5b](#HssTerm2coeff): $H_{\\rm SS}$ Term 2 coefficient  \n",
    "    c. [Step 5c](#HssTerm2): $H_{\\rm SS}$ Term 2  \n",
    "    d. [Step 5d](#HssTerm3coeff): $H_{\\rm SS}$ Term 3 coefficient  \n",
    "    e. [Step 5e](#HssTerm3): $H_{\\rm SS}$ Term 3  \n",
    "[Step NOT](#HsoHsscommon): Expressions Common to $H_{\\rm SO}$ and $H_{\\rm SS}$\n",
    "1. [Step 6](#HnsTerms): The $H_{\\rm NS}$ Terms\n",
    "1. [Step 7](#HdTerms): The $H_{\\rm D}$ Terms  \n",
    "    a.[Step 8a](#Hdcoeff): $H_{\\rm D}$ Coefficient  \n",
    "    b.[Step 8b](#Hdsum): $H_{\\rm D}$ Sum\n",
    "1. [Step N-5](#metpots): The Deformed and Rescaled Metric Potentials\n",
    "1. [Step N-4](#metpotderivs): Derivatives of the Metric Potential\n",
    "1. [Step U](#dotproducts): Dot Products\n",
    "1. [Step N-3](#Hreal_spin_combos): $H_{\\rm real}$ Spin Combinations ${\\bf S}^{*}$ and ${\\bf S}_{\\rm Kerr}$\n",
    "1. [Step N-2](#Heff_spin_combos): $H_{\\rm eff}$ Spin Combinations $\\boldsymbol{\\sigma}$ and $\\boldsymbol{\\sigma}^{*}$\n",
    "1. [Step N-1](#mass_terms): Mass Terms $\\mu$, $M$, and $\\eta$\n",
    "1. [Step N](#metric): The Metric $g$ of Choice\n",
    "1. [Notes](#notes)\n",
    "1. [Output](#latex_pdf_output): Output this module to $\\LaTeX$-formatted PDF"
   ]
  },
  {
   "cell_type": "markdown",
   "metadata": {},
   "source": [
    "<a id='intro'></a>\n",
    "\n",
    "# Introduction: The Physical System of Interest \\[Back to [top](#toc)\\]\n",
    "$$\\label{intro}$$\n",
    "\n",
    "Consider two black holes with masses $m_{1}$, $m_{2}$ and spins ${\\bf S}_{1}$, ${\\bf S}_{2}$ in a binary system.  The spinning effective one-body (\"SEOB\") Hamiltonian [$H_{\\rm real}$](#Hreal) describes the dynamics of this system; we will define [$H_{\\rm real}$](#Hreal) as in BB2010 Section VE.  There, [$H_{\\rm real}$](#Hreal) is canonically transformed and mapped to an effective Hamiltonian [$H_{\\rm eff}$](#Heff) describing the motion of a test particle of mass [$\\mu$](#mass_terms) and spin [${\\bf S}_{\\rm Kerr}$](#Hreal_spin_combos).  Here we seek to break up [$H_{\\rm real}$](#Hreal) and document the terms in such a way that the resulting Python code can be used to numerically evaluate [$H_{\\rm real}$](#Hreal).  \n",
    "\n",
    "We will use Greek letters to denote spacetime tensor indicies, and spacial tensor indicies with lowercase Latin letters.\n",
    "\n",
    "<font color='red'>Please note: LALSuite computes $H_{\\rm real}$ up to a constant multiple of $M$ (*I think*).</font>"
   ]
  },
  {
   "cell_type": "markdown",
   "metadata": {},
   "source": [
    "<a id='Hreal'></a>\n",
    "\n",
    "# Step 1: The real Hamiltonian $H_{\\textrm{real}}$ \\[Back to [top](#toc)\\]\n",
    "$$\\label{Hreal}$$\n",
    "\n",
    "The SEOB Hamiltonian $H_{\\rm real}$ is given by Equation (5.69) of BB2010:\n",
    "\n",
    "\\begin{equation}\n",
    "    H_{\\rm real} = M \\sqrt{ 1 + 2 \\eta \\left( \\frac{ H_{\\rm eff} }{ \\mu } - 1 \\right) }.\n",
    "\\end{equation}\n",
    "\n",
    "Here [$H_{\\rm eff}$](#Heff) is an [*effective* Hamiltonian](#intro) and [$M$](#mass_terms), [$\\mu$](#mass_terms), and [$\\eta$](#mass_terms) are constants determined by $m_{1}$ and $m_{2}$.\n",
    "\n",
    "<font color='red'>The code in LALSimIMRSpinEOBHamiltonianPrec.c claims the origin of $H_{\\textrm{real}}$ is Equation (2) of [Taracchini, Pan, Buonanno, et al](https://arxiv.org/abs/1202.0790):\n",
    "\n",
    "\\begin{equation}\n",
    "    H_{\\rm real} = M \\sqrt{ 1 + 2 \\nu \\left( \\frac{ H_{\\rm eff} }{ \\mu } - 1 \\right) } - M\n",
    "\\end{equation}\n",
    "\n",
    "where $\\nu = \\eta = \\frac{\\mu}{M}$.  Double-check this!</font>"
   ]
  },
  {
   "cell_type": "code",
   "execution_count": 1,
   "metadata": {},
   "outputs": [
    {
     "name": "stdout",
     "output_type": "stream",
     "text": [
      "Overwriting SEOBNR/Hamiltonian.txt\n"
     ]
    }
   ],
   "source": [
    "%%writefile SEOBNR/Hamiltonian.txt\n",
    "Hreal = M * sp.sqrt(1 + 2*eta*(Heff/mu - 1))"
   ]
  },
  {
   "cell_type": "markdown",
   "metadata": {},
   "source": [
    "<a id='Heff'></a>\n",
    "\n",
    "# Step 2: The Effective Hamiltonian $H_{\\rm eff}$ \\[Back to [top](#toc)\\]\n",
    "$$\\label{Heff}$$\n",
    "\n",
    "The effective Hamiltonian $H_{\\rm eff}$ is given by Equation (5.70) of BB2010.  We combine the notation of BB2010 Equations (5.70) and (5.43) with our notation [$H_{\\rm D}$](#Hd) to write\n",
    "\n",
    "\\begin{equation}\n",
    "    H_{\\rm eff} = H_{\\rm S} + H_{\\rm NS} \\underbrace{ -\\frac{ \\eta }{ 2 r^{3} } \\left( \\delta^{ij} - 3 n^{i} n^{j} \\right) S^{*}_{i} S^{*}_{j} }_{H_{\\rm D}}.\n",
    "\\end{equation}\n",
    "\n",
    "Here [$H_{\\rm S}$](#Hs) denotes leading order effects of spin-spin and spin-orbit coupling, [$H_{\\rm NS}$](#Hns) is the Hamiltonian for a nonspinning test particle, and [$H_{\\rm D}$](#Hd) describes quadrupole deformation of the coupling of the particle's spin with itself to leading order."
   ]
  },
  {
   "cell_type": "code",
   "execution_count": 2,
   "metadata": {},
   "outputs": [
    {
     "name": "stdout",
     "output_type": "stream",
     "text": [
      "Appending to SEOBNR/Hamiltonian.txt\n"
     ]
    }
   ],
   "source": [
    "%%writefile -a SEOBNR/Hamiltonian.txt\n",
    "\n",
    "Heff = Hs + Hns + Hd"
   ]
  },
  {
   "cell_type": "markdown",
   "metadata": {},
   "source": [
    "<a id='Heff_terms'></a>\n",
    "\n",
    "# Step 3: Terms of $H_{\\rm eff}$ \\[Back to [top](#toc)\\]\n",
    "$$\\label{Heff_terms}$$\n",
    "\n",
    "In this step, we break down each of the terms [$H_{\\rm S}$](#Hs), [$H_{\\rm NS}$](#Hns), and [$H_{\\rm D}$](#Hd) in [$H_{\\rm eff}$](#Heff)."
   ]
  },
  {
   "cell_type": "markdown",
   "metadata": {},
   "source": [
    "<a id='Hs'></a>\n",
    "\n",
    "## Step 3a: Leading Order Spin Effects $H_{\\rm S}$ \\[Back to [top](#toc)\\]\n",
    "$$\\label{Hs}$$\n",
    "\n",
    "From BB2010 Equation (4.17),\n",
    "\n",
    "\\begin{equation}\n",
    "    H_{\\rm S} = H_{\\rm SO} + H_{\\rm SS}\n",
    "\\end{equation}\n",
    "\n",
    "where [$H_{\\rm SO}$](#Hso) includes spin-orbit terms and [$H_{\\rm SS}$](#Hss) includes spin-spin terms."
   ]
  },
  {
   "cell_type": "code",
   "execution_count": 3,
   "metadata": {},
   "outputs": [
    {
     "name": "stdout",
     "output_type": "stream",
     "text": [
      "Appending to SEOBNR/Hamiltonian.txt\n"
     ]
    }
   ],
   "source": [
    "%%writefile -a SEOBNR/Hamiltonian.txt\n",
    "\n",
    "Hs = Hso + Hss"
   ]
  },
  {
   "cell_type": "markdown",
   "metadata": {},
   "source": [
    "<a id='Hns'></a>\n",
    "\n",
    "## Step 3b: The Nonspinning Hamiltonian $H_{\\rm NS}$ \\[Back to [top](#toc)\\]\n",
    "$$\\label{Hns}$$\n",
    "\n",
    "From BB2010 Equation (5.43),\n",
    "\n",
    "\\begin{equation}\n",
    "    H_{\\rm NS} = \\underbrace{ \\beta^{i} p_{i} }_{\\beta p\\ {\\rm sum}} + \\alpha \\sqrt{ \\smash[b]{\\underbrace{ \\mu^{2} + \\gamma^{ij} p_{i} p_{j} + {\\cal Q}_{4} \\left( p \\right) }_{H_{\\rm NS}\\ {\\rm radicand}}}}\n",
    "\\end{equation}\n",
    "\n",
    "We define [$\\beta p\\ {\\rm sum}$](#betapsum), [$\\alpha$](#alpha), and [$H_{\\rm NS}\\ {\\rm radicand}$](#Hnsradicand) elsewhere."
   ]
  },
  {
   "cell_type": "code",
   "execution_count": 4,
   "metadata": {
    "scrolled": true
   },
   "outputs": [
    {
     "name": "stdout",
     "output_type": "stream",
     "text": [
      "Appending to SEOBNR/Hamiltonian.txt\n"
     ]
    }
   ],
   "source": [
    "%%writefile -a SEOBNR/Hamiltonian.txt\n",
    "\n",
    "Hns = betapsum + alpha*sp.sqrt(Hnsradicand)"
   ]
  },
  {
   "cell_type": "markdown",
   "metadata": {},
   "source": [
    "<a id='Hd'></a>\n",
    "\n",
    "## Step 3c: The Quadrupole Deformation $H_{\\rm D}$ \\[Back to [top](#toc)\\]\n",
    "$$\\label{Hd}$$\n",
    "\n",
    "We break up $H_{\\rm D}$ as follows:\n",
    "\n",
    "\\begin{equation}\n",
    "    H_{\\rm D} = \\underbrace{ -\\frac{ \\eta }{ 2 r^{3} } }_{H_{\\rm D}\\ {\\rm coefficient}} \\underbrace{ \\left( \\delta^{ij} - 3 n^{i} n^{j} \\right) S^{*}_{i} S^{*}_{j} }_{H_{\\rm D}\\ {\\rm sum}}\n",
    "\\end{equation}\n",
    "\n",
    "For further dissection, see [$H_{\\rm D}\\ {\\rm coefficient}$](#Hdcoeff) and [$H_{\\rm D}\\ {\\rm sum}$](#Hdsum)."
   ]
  },
  {
   "cell_type": "code",
   "execution_count": 5,
   "metadata": {},
   "outputs": [
    {
     "name": "stdout",
     "output_type": "stream",
     "text": [
      "Appending to SEOBNR/Hamiltonian.txt\n"
     ]
    }
   ],
   "source": [
    "%%writefile -a SEOBNR/Hamiltonian.txt\n",
    "\n",
    "Hd = Hdcoeff*Hdsum"
   ]
  },
  {
   "cell_type": "markdown",
   "metadata": {},
   "source": [
    "<a id='Hso'></a>\n",
    "\n",
    "# Step 4: The Spin-Orbit Term $H_{\\rm SO}$ \\[Back to [top](#toc)\\]\n",
    "$$\\label{Hso}$$\n",
    "\n",
    "We will write BB2010 Equation (4.18) as:\n",
    "\n",
    "\\begin{align}\n",
    "    H_{\\rm SO} = H_{\\rm SO}\\ {\\rm Term\\ 1} + H_{\\rm SO}\\ {\\rm Term\\ 2\\ coefficient} * H_{\\rm SO}\\ {\\rm Term\\ 2}.\n",
    "\\end{align}\n",
    "\n",
    "We define [$H_{\\rm SO}\\ {\\rm Term\\ 1}$](#HsoTerm1), [$H_{\\rm SO}\\ {\\rm Term\\ 2\\ coefficient}$](#HsoTerm2coeff), and [$H_{\\rm SO}\\ {\\rm Term\\ 2}$](#HsoTerm2) elsewhere."
   ]
  },
  {
   "cell_type": "code",
   "execution_count": 6,
   "metadata": {},
   "outputs": [
    {
     "name": "stdout",
     "output_type": "stream",
     "text": [
      "Appending to SEOBNR/Hamiltonian.txt\n"
     ]
    }
   ],
   "source": [
    "%%writefile -a SEOBNR/Hamiltonian.txt\n",
    "\n",
    "Hso = HsoTerm1 + HsoTerm2coeff*HsoTerm2"
   ]
  },
  {
   "cell_type": "markdown",
   "metadata": {},
   "source": [
    "<a id='HsoTerm1'></a>\n",
    "## Step 4a: $H_{\\rm SO}$ Term 1 \\[Back to [top](#toc)\\]\n",
    "$$\\label{HsoTerm1}$$\n",
    "\n",
    "We have\n",
    "\n",
    "\\begin{equation}\n",
    "    H_{\\rm SO}\\ {\\rm Term\\ 1} = \\frac{ e^{2 \\nu - \\tilde{\\mu} } \\left( e^{\\tilde{\\mu} + \\nu} - \\tilde{B} \\right) \\left( \\hat{\\bf p} \\cdot \\boldsymbol{\\xi} r \\right) \\left( {\\bf S} \\cdot \\hat{\\bf S}_{\\rm Kerr} \\right) }{ \\tilde{B}^{2} \\sqrt{Q} \\xi^{2} }\n",
    "\\end{equation}\n",
    "\n",
    "We define [$e^{2\\nu}$](#exp2nu), [$e^{\\tilde{\\mu}}$](#exp2mu), [$e^{\\nu}$](#exp2nu), [$\\tilde{B}$](#Btilde), [$\\hat{\\bf p} \\cdot \\boldsymbol{\\xi} r$](#pdotxir), and [${\\bf S} \\cdot \\hat{\\bf S}_{\\rm Kerr}$](#SdotSkerrhat) elsewhere."
   ]
  },
  {
   "cell_type": "code",
   "execution_count": 7,
   "metadata": {},
   "outputs": [
    {
     "name": "stdout",
     "output_type": "stream",
     "text": [
      "Appending to SEOBNR/Hamiltonian.txt\n"
     ]
    }
   ],
   "source": [
    "%%writefile -a SEOBNR/Hamiltonian.txt\n",
    "\n",
    "HsoTerm1 = exp2nu*(expmu*expnu - Btilde)*pdotxir*SdotSkerr/(expmu*Btilde**2*sp.sqrt(Q)*xisq)"
   ]
  },
  {
   "cell_type": "markdown",
   "metadata": {},
   "source": [
    "<a id='HsoTerm2coeff'></a>\n",
    "## Step 4b: $H_{\\rm SO}$ Term 2 Coefficient \\[Back to [top](#toc)\\]\n",
    "$$\\label{HsoTerm2coeff}$$\n",
    "\n",
    "We have\n",
    "\n",
    "\\begin{equation}\n",
    "    H_{\\rm SO}\\ {\\rm Term\\ 2\\ coefficient} = \\frac{ e^{\\nu - 2 \\tilde{\\mu}} }{ \\tilde{B}^{2} \\left( \\sqrt{Q} + 1 \\right) \\sqrt{Q} \\xi^{2} }\n",
    "\\end{equation}\n",
    "\n",
    "We define [$e^{\\nu}$](#exp2nu), [$e^{2\\tilde{\\mu}}$](#exp2mu), [$\\tilde{B}$](#Btilde), [$Q$](#Q), and [$\\xi^{2}$](#xi) elsewhere."
   ]
  },
  {
   "cell_type": "code",
   "execution_count": 12,
   "metadata": {},
   "outputs": [
    {
     "name": "stdout",
     "output_type": "stream",
     "text": [
      "Appending to SEOBNR/Hamiltonian.txt\n"
     ]
    }
   ],
   "source": [
    "%%writefile -a SEOBNR/Hamiltonian.txt\n",
    "\n",
    "HsoTerm2coeff = expnu/(exp2mu*Btilde**2*(sp.sqrt(Q) + 1)*sp.sqrt(Q)*xi2)"
   ]
  },
  {
   "cell_type": "markdown",
   "metadata": {},
   "source": [
    "<a id='HsoTerm2'></a>\n",
    "## Step 4c: $H_{\\rm SO}$ Term 2 \\[Back to [top](#toc)\\]\n",
    "$$\\label{HsoTerm2}$$\n",
    "\n",
    "We have\n",
    "\n",
    "\\begin{equation}\n",
    "    H_{\\rm SO}\\ {\\rm Term\\ 2} = \\underbrace{ \\left( {\\bf S} \\cdot \\boldsymbol{\\xi} \\right) \\tilde{J} \\left[ \\mu_r \\left( \\hat{\\bf p} \\cdot {\\bf v} r \\right) \\left( \\sqrt{Q} + 1 \\right) - \\mu_{\\cos \\theta} \\left( \\hat{\\bf p} \\cdot {\\bf n} \\right) \\xi^{2} -\\sqrt{Q} \\left( \\nu_r \\left( \\hat{\\bf p} \\cdot {\\bf v} r \\right) + \\left( \\mu_{\\cos \\theta} - \\nu_{\\cos \\theta} \\right) \\left( \\hat{\\bf p} \\cdot {\\bf n} \\right) \\xi^{2} \\right) \\right] \\tilde{B}^{2} }_{H_{\\rm SO}\\ {\\rm Term\\ 2a}} + \\underbrace{ e^{\\tilde{\\mu} + \\nu} \\left( \\hat{\\bf p} \\cdot \\boldsymbol{\\xi} r \\right) \\left( 2 \\sqrt{Q} + 1 \\right) \\left[ \\tilde{J} \\nu_r \\left( {\\bf S} \\cdot {\\bf v} \\right) - \\nu_{\\cos \\theta} \\left( {\\bf S} \\cdot {\\bf n} \\right) \\xi^{2} \\right] \\tilde{B} }_{H_{\\rm SO}\\ {\\rm Term\\ 2b}} - \\underbrace{ \\tilde{J} \\tilde{B}_{r} e^{\\tilde{\\mu} + \\nu} \\left( \\hat{\\bf p} \\cdot \\boldsymbol{\\xi} r \\right) \\left( \\sqrt{Q} + 1 \\right) \\left( {\\bf S} \\cdot {\\bf v} \\right) }_{H_{\\rm SO}\\ {\\rm Term\\ 2c}}\n",
    "\\end{equation}"
   ]
  },
  {
   "cell_type": "code",
   "execution_count": 13,
   "metadata": {},
   "outputs": [
    {
     "name": "stdout",
     "output_type": "stream",
     "text": [
      "Appending to SEOBNR/Hamiltonian.txt\n"
     ]
    }
   ],
   "source": [
    "%%writefile -a SEOBNR/Hamiltonian.txt\n",
    "\n",
    "HsoTerm2 = HsoTerm2a + HsoTerm2c - HsoTerm2c"
   ]
  },
  {
   "cell_type": "markdown",
   "metadata": {},
   "source": [
    "<a id='HsoTerm2a'></a>\n",
    "### $H_{\\rm SO}$ Term 2a \\[Back to [top](#toc)\\]\n",
    "$$\\label{HsoTerm2a}$$\n",
    "\n",
    "We have\n",
    "\n",
    "\\begin{equation}\n",
    "    H_{\\rm SO}\\ {\\rm Term\\ 2a} = \\left( {\\bf S} \\cdot \\boldsymbol{\\xi} \\right) \\tilde{J} \\left[ \\mu_r \\left( \\hat{\\bf p} \\cdot {\\bf v} r \\right) \\left( \\sqrt{Q} + 1 \\right) - \\mu_{\\cos \\theta} \\left( \\hat{\\bf p} \\cdot {\\bf n} \\right) \\xi^{2} -\\sqrt{Q} \\left( \\nu_r \\left( \\hat{\\bf p} \\cdot {\\bf v} r \\right) + \\left( \\mu_{\\cos \\theta} - \\nu_{\\cos \\theta} \\right) \\left( \\hat{\\bf p} \\cdot {\\bf n} \\right) \\xi^{2} \\right) \\right] \\tilde{B}^{2}\n",
    "\\end{equation}\n",
    "\n",
    "We define [${\\bf S} \\cdot \\boldsymbol{\\xi}$](#Sdotxi), [$\\tilde{J}$](#Jtilde), [$\\mu_{r}$](#mur), [$\\hat{\\bf p} \\cdot {\\bf v} r$](#pdotvr), [$Q$](#Q), [$\\mu_{\\cos \\theta}$](#mucostheta), [$\\hat{\\bf p} \\cdot {\\bf n}$](#pdotn), [$\\xi^{2}$](#xi), [$\\nu_{r}$](#nur), [$\\nu_{\\cos\\theta}$](#nucostheta), and [$\\tilde{B}$](#Btilde) elsewhere."
   ]
  },
  {
   "cell_type": "code",
   "execution_count": 14,
   "metadata": {},
   "outputs": [
    {
     "name": "stdout",
     "output_type": "stream",
     "text": [
      "Appending to SEOBNR/Hamiltonian.txt\n"
     ]
    }
   ],
   "source": [
    "%%writefile -a SEOBNR/Hamiltonian.txt\n",
    "\n",
    "HsoTerm2a = Sdotxi*Jtilde*(mur*pdotvr*(sp.sqrt(Q)+1)\n",
    "                           - mucostheta*pdotn*xisq\n",
    "                           - sp.sqrt(Q)*(nur*pdotnr + (mucostheta - nucostheta)*pdotn*xisq))*Btilde**2"
   ]
  },
  {
   "cell_type": "markdown",
   "metadata": {},
   "source": [
    "<a id='nur'></a>\n",
    "### $\\nu_{r}$ \\[Back to [top](#toc)\\]\n",
    "$$\\label{nur}$$\n",
    "\n",
    "From BB2010 Equation (5.47c) we have\n",
    "\n",
    "\\begin{equation}\n",
    "    \\nu_{r} =  \\frac{ r }{ \\Sigma } + \\frac{ \\varpi^{2} \\left( \\varpi^{2} \\Delta^{\\prime}_{t} - 4 r \\Delta_{t} \\right) }{ 2 \\Lambda_{t} \\Delta_{t} }.\n",
    "\\end{equation}\n",
    "\n",
    "We define [$\\Sigma$](#Sigma), [$\\varpi^{2}$](#w2), [$\\Delta_{t}$](#Deltat), and [$\\Lambda_{t}$](#Lambdat) elsewhere."
   ]
  },
  {
   "cell_type": "code",
   "execution_count": 19,
   "metadata": {},
   "outputs": [
    {
     "name": "stdout",
     "output_type": "stream",
     "text": [
      "Appending to SEOBNR/Hamiltonian.txt\n"
     ]
    }
   ],
   "source": [
    "%%writefile -a SEOBNR/Hamiltonian.txt\n",
    "\n",
    "nur = r/Sigma + w2*(w2*Deltatprm - 4*r*Deltat)/(2*Lambdat*Deltat)"
   ]
  },
  {
   "cell_type": "markdown",
   "metadata": {},
   "source": [
    "<a id='nucostheta'></a>\n",
    "### $\\nu_{\\cos\\theta}$ \\[Back to [top](#toc)\\]\n",
    "$$\\label{nucostheta}$$\n",
    "\n",
    "From BB2010 Equation (5.47g) we have\n",
    "\n",
    "\\begin{equation}\n",
    "    \\nu_{\\cos\\theta} = \\frac{ a^{2} \\varpi^{2} \\cos\\theta \\left( \\varpi^{2} - \\Delta_{t} \\right) }{ \\Lambda_{t} \\Sigma }.\n",
    "\\end{equation}\n",
    "\n",
    "We define [$a$](#a_terms), [$\\varpi^{2}$](#w2), [$\\cos\\theta$](#costheta), [$\\Delta_{t}$](#Deltat), [$\\Lambda_{t}$](#Lambdat), and [$\\Sigma$](#Sigma) elsewhere."
   ]
  },
  {
   "cell_type": "code",
   "execution_count": 20,
   "metadata": {},
   "outputs": [
    {
     "name": "stdout",
     "output_type": "stream",
     "text": [
      "Appending to SEOBNR/Hamiltonian.txt\n"
     ]
    }
   ],
   "source": [
    "%%writefile -a SEOBNR/Hamiltonian.txt\n",
    "\n",
    "nucostheta = a2*w2*costheta*(w2 - Deltat)/(Lambdat*Sigma)"
   ]
  },
  {
   "cell_type": "markdown",
   "metadata": {},
   "source": [
    "<a id='HsoTerm2b'></a>\n",
    "### $H_{\\rm SO}$ Term 2b \\[Back to [top](#toc)\\]\n",
    "$$\\label{HsoTerm2b}$$\n",
    "\n",
    "We have\n",
    "\n",
    "\\begin{equation}\n",
    "    H_{\\rm SO}\\ {\\rm Term\\ 2b} = e^{\\tilde{\\mu} + \\nu} \\left( \\hat{\\bf p} \\cdot \\boldsymbol{\\xi} r \\right) \\left( 2 \\sqrt{Q} + 1 \\right) \\left[ \\tilde{J} \\nu_r \\left( {\\bf S} \\cdot {\\bf v} \\right) - \\nu_{\\cos \\theta} \\left( {\\bf S} \\cdot {\\bf n} \\right) \\xi^{2} \\right] \\tilde{B}\n",
    "\\end{equation}\n",
    "\n",
    "We define [$e^{\\tilde{\\mu}}$](#exp2mu), [$e^{\\tilde{\\nu}}$](#exp2nu), [${\\bf p} \\cdot \\xi r$](#pdotxir), [$Q$](#Q), [$\\tilde{J}$](#Jtilde), [$\\nu_{r}$](#nur), [${\\bf S} \\cdot {\\bf v}$](#Sdotv), [$\\nu_{\\cos\\theta}$](#nucostheta), [${\\bf S} \\cdot {\\bf n}$](#Sdotn), [$\\xi^{2}$](#xi), and [$\\tilde{B}$](#Btilde) elsewhere."
   ]
  },
  {
   "cell_type": "code",
   "execution_count": 21,
   "metadata": {},
   "outputs": [
    {
     "name": "stdout",
     "output_type": "stream",
     "text": [
      "Appending to SEOBNR/Hamiltonian.txt\n"
     ]
    }
   ],
   "source": [
    "%%writefile -a SEOBNR/Hamiltonian.txt\n",
    "\n",
    "HsoTerm2b = expmu*expnu*pdotxir*(2*sp.sqrt(Q)+1)*(Jtilde*nur*Sdotv - nucostheta*Sdotn*xisq)*Btilde"
   ]
  },
  {
   "cell_type": "markdown",
   "metadata": {},
   "source": [
    "<a id='Sdotv'></a>\n",
    "### ${\\bf S} \\cdot {\\bf v}$ \\[Back to [top](#toc)\\]\n",
    "$$\\label{Sdotv}$$\n",
    "\n",
    "We have\n",
    "\n",
    "\\begin{equation}\n",
    "    {\\bf S} \\cdot {\\bf v} = S^{1} v^{1} + S^{2} v^{2} + S^{3} v^{3}.\n",
    "\\end{equation}\n",
    "\n",
    "We define [${\\bf v}$](#v) elsewhere."
   ]
  },
  {
   "cell_type": "code",
   "execution_count": 85,
   "metadata": {},
   "outputs": [
    {
     "name": "stdout",
     "output_type": "stream",
     "text": [
      "Appending to SEOBNR/Hamiltonian.txt\n"
     ]
    }
   ],
   "source": [
    "%%writefile -a SEOBNR/Hamiltonian.txt\n",
    "\n",
    "Sdotv = S1*v1 + S2*v2 + S3*v3"
   ]
  },
  {
   "cell_type": "markdown",
   "metadata": {},
   "source": [
    "<a id='Sdotn'></a>\n",
    "### ${\\bf S} \\cdot {\\bf n}$ \\[Back to [top](#toc)\\]\n",
    "$$\\label{Sdotn}$$\n",
    "\n",
    "We have\n",
    "\n",
    "\\begin{equation}\n",
    "    {\\bf S} \\cdot {\\bf n} = S^{1} n^{1} + S^{2} n^{2} + S^{3} n^{3}.\n",
    "\\end{equation}\n",
    "\n",
    "We define [${\\bf n}$](#n) elsewhere."
   ]
  },
  {
   "cell_type": "code",
   "execution_count": 86,
   "metadata": {},
   "outputs": [
    {
     "name": "stdout",
     "output_type": "stream",
     "text": [
      "Appending to SEOBNR/Hamiltonian.txt\n"
     ]
    }
   ],
   "source": [
    "%%writefile -a SEOBNR/Hamiltonian.txt\n",
    "\n",
    "Sdotn = S1*n1 + S2*n2 + S3*n3"
   ]
  },
  {
   "cell_type": "markdown",
   "metadata": {},
   "source": [
    "<a id='HsoTerm2c'></a>\n",
    "### $H_{\\rm SO}$ Term 2c \\[Back to [top](#toc)\\]\n",
    "$$\\label{HsoTerm2c}$$\n",
    "\n",
    "We have\n",
    "\n",
    "\\begin{equation}\n",
    "    H_{\\rm SO}\\ {\\rm Term\\ 2c} = \\tilde{J} \\tilde{B}_{r} e^{\\tilde{\\mu} + \\nu} \\left( \\hat{\\bf p} \\cdot \\boldsymbol{\\xi} r \\right) \\left( \\sqrt{Q} + 1 \\right) \\left( {\\bf S} \\cdot {\\bf v} \\right)\n",
    "\\end{equation}\n",
    "\n",
    "We define [$\\tilde{J}$](#Jtilde), [$\\tilde{B}_{r}$](#Brtilde), [$e^{\\tilde{\\mu}}$](#exp2mu), [$e^{\\nu}$](#exp2nu), [${\\bf p} \\cdot \\xi r$](#pdotxir), [$Q$](#Q), and [${\\bf S} \\cdot {\\bf v}$](#Sdotv) elsewhere."
   ]
  },
  {
   "cell_type": "code",
   "execution_count": 22,
   "metadata": {},
   "outputs": [
    {
     "name": "stdout",
     "output_type": "stream",
     "text": [
      "Appending to SEOBNR/Hamiltonian.txt\n"
     ]
    }
   ],
   "source": [
    "%%writefile -a SEOBNR/Hamiltonian.txt\n",
    "\n",
    "HsoTerm2c = Jtilde*Brtilde*expmu*expnu*pdotxir*(sp.sqrt(Q)+1)*Sdotv"
   ]
  },
  {
   "cell_type": "markdown",
   "metadata": {},
   "source": [
    "<a id='Brtilde'></a>\n",
    "\n",
    "## $\\tilde{B}_{r}$ \\[Back to [top](#toc)\\]\n",
    "$$\\label{Brtilde}$$\n",
    "\n",
    "From BB2010 Equation (5.49), we have\n",
    "\n",
    "\\begin{equation}\n",
    "    \\tilde{B}_{r} = \\frac{ \\sqrt{ \\Delta_{r} } \\Delta_{t}^{\\prime} - 2 \\Delta_{t} }{ 2 \\sqrt{ \\Delta_{r} \\Delta_{t} } }.\n",
    "\\end{equation}\n",
    "\n",
    "We define [$\\Delta_{r}$](#Deltar), [$\\Delta_{t}^{\\prime}$](#Deltatprm), and [$\\Delta_{t}$](#Deltat) elsewhere."
   ]
  },
  {
   "cell_type": "code",
   "execution_count": 87,
   "metadata": {},
   "outputs": [
    {
     "name": "stdout",
     "output_type": "stream",
     "text": [
      "Appending to SEOBNR/Hamiltonian.txt\n"
     ]
    }
   ],
   "source": [
    "%%writefile -a SEOBNR/Hamiltonian.txt\n",
    "\n",
    "Brtilde = (sp.sqrt(Deltar)*Deltatprm - 2*Deltat)/(2*sp.sqrt(Deltar*Deltat))"
   ]
  },
  {
   "cell_type": "markdown",
   "metadata": {},
   "source": [
    "<a id='Hss'></a>\n",
    "\n",
    "# Step 5: The Spin-Spin Term $H_{\\rm SS}$ \\[Back to [top](#toc)\\]\n",
    "$$\\label{Hss}$$\n",
    "\n",
    "We will write BB2010 Equation (4.19) as\n",
    "\n",
    "\\begin{equation}\n",
    "    H_{\\rm SS} = H_{\\rm SS}\\ {\\rm Term\\ 1} + H_{\\rm SS}\\ {\\rm Term\\ 2\\ coefficient} \\left( H_{\\rm SS}\\ {\\rm Term\\ 2} \\right) + H_{\\rm SS}\\ {\\rm Term\\ 3\\ coefficient} \\left( H_{\\rm SS}\\ {\\rm Term\\ 3} \\right).\n",
    "\\end{equation}\n",
    "\n",
    "We define [$H_{\\rm SS}$ Term 1](#HssTerm1), [$H_{\\rm SS}$ Term 2 coefficient](#HssTerm2coeff), [$H_{\\rm SS}$ Term 2](#HssTerm2), [$H_{\\rm SS}$ Term 3 coefficient](#HssTerm3coeff), and [$H_{\\rm SS}$ Term 3](#HssTerm3) elsewhere."
   ]
  },
  {
   "cell_type": "markdown",
   "metadata": {},
   "source": [
    "<a id='HssTerm1'></a>\n",
    "## Step 5a: $H_{\\rm SS}$ Term 1 \\[Back to [top](#toc)\\]\n",
    "$$\\label{HssTerm1}$$\n",
    "\n",
    "Combining BB2010 Equation (4.19) with [this](#Hss), we have\n",
    "\n",
    "\\begin{equation}\n",
    "    H_{\\rm SS}\\ {\\rm Term\\ 1} = \\omega \\left( {\\bf S} \\cdot \\hat{\\bf S}_{\\rm Kerr} \\right).\n",
    "\\end{equation}\n",
    "\n",
    "We define [$\\omega$](#w) and [${\\bf S} \\cdot \\hat{\\bf S}_{\\rm Kerr}$](#SdotSkerrhat) elsewhere."
   ]
  },
  {
   "cell_type": "code",
   "execution_count": 88,
   "metadata": {},
   "outputs": [
    {
     "name": "stdout",
     "output_type": "stream",
     "text": [
      "Appending to SEOBNR/Hamiltonian.txt\n"
     ]
    }
   ],
   "source": [
    "%%writefile -a SEOBNR/Hamiltonian.txt\n",
    "\n",
    "HssTerm1 = omega*SdotSkerrhat"
   ]
  },
  {
   "cell_type": "markdown",
   "metadata": {},
   "source": [
    "<a id='omega'></a>\n",
    "### $\\omega$ \\[Back to [top](#toc)\\]\n",
    "$$\\label{omega}$$\n",
    "\n",
    "From BB2010 Equation (5.31) we have\n",
    "\n",
    "\\begin{equation}\n",
    "    \\omega = \\frac{ \\tilde{\\omega}_{\\rm fd} }{ \\Lambda_{t} }.\n",
    "\\end{equation}\n",
    "\n",
    "We define [$\\tilde{\\omega}_{\\rm fd}$](#omegatilde) and [$\\Lambda_{t}$](#Lambdat) elsewhere."
   ]
  },
  {
   "cell_type": "code",
   "execution_count": null,
   "metadata": {},
   "outputs": [],
   "source": [
    "%%writefile -a SEOBNR/Hamiltonian.txt\n",
    "\n",
    "omega = omegatilde/Lambdat"
   ]
  },
  {
   "cell_type": "markdown",
   "metadata": {},
   "source": [
    "<a id='SdotSkerrhat'></a>\n",
    "### ${\\bf S} \\cdot \\hat{\\bf S}_{\\rm Kerr}$ \\[Back to [top](#toc)\\]\n",
    "$$\\label{SdotSkerrhat}$$\n",
    "\n",
    "We have\n",
    "\n",
    "\\begin{equation}\n",
    "    {\\bf S} \\cdot \\hat{\\bf S}_{\\rm Kerr} = S^{1} \\hat{\\bf S}_{\\rm Kerr}^{1} + S^{2} \\hat{\\bf S}_{\\rm Kerr}^{2} + S^{3} \\hat{\\bf S}_{\\rm Kerr}^{3}.\n",
    "\\end{equation}\n",
    "\n",
    "We define [$\\hat{\\bf S}_{\\rm Kerr}$](#Skerrhat) elsewhere."
   ]
  },
  {
   "cell_type": "code",
   "execution_count": null,
   "metadata": {},
   "outputs": [],
   "source": [
    "%%writefile -a SEOBNR/Hamiltonian.txt\n",
    "\n",
    "SdotSkerrhat = S1*Skerrhat1 + S2*Skerrhat2 + S3*Skerrhat3"
   ]
  },
  {
   "cell_type": "markdown",
   "metadata": {},
   "source": [
    "<a id='Skerrhat'></a>\n",
    "### $\\hat{\\bf S}_{\\rm Kerr}$ \\[Back to [top](#toc)\\]\n",
    "$$\\label{Skerrhat}$$\n",
    "\n",
    "From BB2010 Equation (4.24), we have\n",
    "\n",
    "\\begin{equation}\n",
    "    \\hat{\\bf S}_{\\rm Kerr} = \\frac{ {\\bf S}_{\\rm Kerr} }{ \\left\\lvert {\\bf S}_{\\rm Kerr} \\right\\rvert } = \\frac{ {\\bf S}_{\\rm Kerr}}{ \\sqrt{ {\\bf S}_{\\rm Kerr}^{1} {\\bf S}_{\\rm Kerr}^{1} + {\\bf S}_{\\rm Kerr}^{2} {\\bf S}_{\\rm Kerr}^{2} + {\\bf S}_{\\rm Kerr}^{3} {\\bf S}_{\\rm Kerr}^{3} } }.\n",
    "\\end{equation}\n",
    "\n",
    "We define [${\\bf S}_{\\rm Kerr}$](#Skerr) elsewhere."
   ]
  },
  {
   "cell_type": "code",
   "execution_count": 89,
   "metadata": {},
   "outputs": [
    {
     "name": "stdout",
     "output_type": "stream",
     "text": [
      "Appending to SEOBNR/Hamiltonian.txt\n"
     ]
    }
   ],
   "source": [
    "%%writefile -a SEOBNR/Hamiltonian.txt\n",
    "\n",
    "Skerrhat1 = S1/sp.sqrt(Skerr1*Skerr1 + Skerr2*Skerr2 + Skerr3*Skerr3)\n",
    "Skerrhat2 = S2/sp.sqrt(Skerr1*Skerr1 + Skerr2*Skerr2 + Skerr3*Skerr3)\n",
    "Skerrhat3 = S3/sp.sqrt(Skerr1*Skerr1 + Skerr2*Skerr2 + Skerr3*Skerr3)"
   ]
  },
  {
   "cell_type": "markdown",
   "metadata": {},
   "source": [
    "<a id='HssTerm2coeff'></a>\n",
    "## Step 5b: $H_{\\rm SS}$ Term 2 Coefficient \\[Back to [top](#toc)\\]\n",
    "$$\\label{HssTerm2coeff}$$\n",
    "\n",
    "We have\n",
    "\n",
    "\\begin{equation}\n",
    "    H_{\\rm SS}\\ {\\rm Term\\ 2\\ coefficient} = \\frac{ e^{-3 \\tilde{\\mu} -\\nu} \\tilde{J} \\omega_{r} }{ 2 \\tilde{B} \\left( \\sqrt{Q} + 1 \\right) \\sqrt{Q} \\xi^{2} }.\n",
    "\\end{equation}\n",
    "\n",
    "We define [$e^{\\tilde{\\mu}}$](#exp2mu), [$e^{\\nu}$](#exp2nu), [$\\tilde{J}$](#Jtilde), [$\\omega_{r}$](#omegar), [$\\tilde{B}$](#Btilde), [$Q$](#Q),  and [$\\xi^{2}$](#xi) elsewhere."
   ]
  },
  {
   "cell_type": "code",
   "execution_count": null,
   "metadata": {},
   "outputs": [],
   "source": [
    "%%writefile -a SEOBNR/Hamiltonian.txt\n",
    "\n",
    "HssTerm2coeff = Jtilde*omegar/(exp2mu*expmu*expnu*2*Btilde*(sp.sqrt(Q)+1)*sp.sqrt(Q)*xi2)"
   ]
  },
  {
   "cell_type": "markdown",
   "metadata": {},
   "source": [
    "<a id='omegar'></a>\n",
    "### $\\omega_{r}$ \\[Back to [top](#toc)\\]\n",
    "$$\\label{omegar}$$\n",
    "\n",
    "From BB2010 Equation (5.47b) we have\n",
    "\n",
    "\\begin{equation}\n",
    "    \\omega_{r} = \\frac{ - \\Lambda_{t}^{\\prime} \\tilde{\\omega}_{\\rm fd} + \\Lambda_{t} \\tilde{\\omega}_{\\rm fd}^{\\prime} }{ \\Lambda_{t}^{2} }.\n",
    "\\end{equation}\n",
    "\n",
    "We define [$\\Lambda_{t}^{\\prime}$](#Lambdatprm), [$\\tilde{\\omega}_{\\rm fd}$](#omegatilde), [$\\tilde{\\omega}_{\\rm fd}^{\\prime}$](#omegatildeprm), and [$\\Lambda_{t}$](#Lambdat) elsewhere."
   ]
  },
  {
   "cell_type": "code",
   "execution_count": null,
   "metadata": {},
   "outputs": [],
   "source": [
    "%%writefile -a SEOBNR/Hamiltonian.txt\n",
    "\n",
    "omegar = (Lambdat*omegatildeprm - Lambdatprm*omegatilde)/(Lambdat*Lambdat)"
   ]
  },
  {
   "cell_type": "markdown",
   "metadata": {},
   "source": [
    "<a id='Lambdatprm'></a>\n",
    "### $\\Lambda_{t}^{\\prime}$ \\[Back to [top](#toc)\\]\n",
    "$$\\label{Lambdatprm}$$\n",
    "\n",
    "From the discussion after BB2010 Equation (5.47), we know that the prime notation indicates a derivative with respect to $r$.  Using the definiton of [$\\Lambda_{t}$](#Lambdat), we have\n",
    "\n",
    "\\begin{equation}\n",
    "    \\Lambda_{t}^{\\prime} = 4 \\left( a^{2} + r^{2} \\right) r - 2 a^{2} r \\Delta_{u} \\sin^{2} \\theta.\n",
    "\\end{equation}\n",
    "\n",
    "We define [$a^{2}$](#a_terms), [$\\Delta_{u}$](#Deltau), and [$\\sin^{2}\\theta$](#sin2theta) elsewhere."
   ]
  },
  {
   "cell_type": "code",
   "execution_count": null,
   "metadata": {},
   "outputs": [],
   "source": [
    "%%writefile -a SEOBNR/Hamiltonian.txt\n",
    "\n",
    "Lambdatprm = 4*(a2 + r2)*r - 2*a2*r*Deltau*sin2theta"
   ]
  },
  {
   "cell_type": "markdown",
   "metadata": {},
   "source": [
    "<a id='omegatildeprm'></a>\n",
    "### $\\tilde{\\omega}_{\\rm fd}^{\\prime}$ \\[Back to [top](#toc)\\]\n",
    "$$\\label{omegatildeprm}$$\n",
    "\n",
    "From the discussion after BB2010 Equation (5.47), we know that the prime notation indicates a derivative with respect to $r$.  Using the definiton of [$\\tilde{\\omega}_{\\rm fd}$](#omegatilde), we have\n",
    "\n",
    "\\begin{equation}\n",
    "    \\tilde{\\omega}_{\\rm fd}^{\\prime} = 2 a M.\n",
    "\\end{equation}\n",
    "\n",
    "We define [$a$](#a_terms) and [$M$](#mass_terms) elsewhere."
   ]
  },
  {
   "cell_type": "code",
   "execution_count": null,
   "metadata": {},
   "outputs": [],
   "source": [
    "%%writefile -a SEOBNR/Hamiltonian.txt\n",
    "\n",
    "omegatildeprm = 2*a*M"
   ]
  },
  {
   "cell_type": "markdown",
   "metadata": {},
   "source": [
    "<a id='HssTerm2'></a>\n",
    "## Step 5c: $H_{\\rm SS}$ Term 2 \\[Back to [top](#toc)\\]\n",
    "$$\\label{HssTerm2}$$\n",
    "\n",
    "We have\n",
    "\n",
    "\\begin{equation}\n",
    "    H_{\\rm SS}\\ {\\rm Term\\ 2} = -e^{\\tilde{\\mu} + \\nu} \\left( {\\bf \\hat{p}} \\cdot {\\bf v} r \\right) \\left( {\\bf \\hat{p}} \\cdot {\\bf \\xi} r \\right) \\left( {\\bf S} \\cdot {\\bf \\xi} \\right)\n",
    "\\tilde{B} + e^{2 \\left( \\tilde{\\mu} + \\nu \\right)} \\left( {\\bf \\hat{p}} \\cdot {\\bf \\xi} r \\right)^2 \\left( {\\bf S}\n",
    "\\cdot {\\bf v} \\right) + e^{2 \\tilde{\\mu}} \\left( 1 + \\sqrt{Q} \\right) \\sqrt{Q} \\left( {\\bf S} \\cdot {\\bf v} \\right)\\xi^2 \\tilde{B}^{2} + \\tilde{J} \\left( {\\bf \\hat{p}} \\cdot {\\bf n} \\right) \\left[ \\left( {\\bf \\hat{p}} \\cdot {\\bf v} r \\right)\n",
    "\\left( {\\bf S} \\cdot {\\bf n}\\right) - \\tilde{J} \\left( {\\bf \\hat{p}} \\cdot {\\bf n} \\right) \\left( {\\bf S} \\cdot {\\bf v} \\right)\\right] \\xi^{2} \\tilde{B}^{2}.\n",
    "\\end{equation}\n",
    "\n",
    "We define [$e^{\\tilde{\\mu}}$](#exp2mu), [$e^{\\nu}$](#exp2nu), [$\\hat{\\bf p} \\cdot {\\bf v} r$](#pdotvr), [$\\hat{\\bf p} \\cdot \\boldsymbol{\\xi} r$](#pdotxir), [${\\bf S} \\cdot \\boldsymbol{\\xi}$](#Sdotxi), [$\\tilde{B}$](#Btilde), [${\\bf S} \\cdot {\\bf v}$](#Sdotv), [$Q$](#Q), [$\\tilde{J}$](#Jtilde), [$\\hat{\\bf p} \\cdot {\\bf n}$](#pdotn), [${\\bf S} \\cdot {\\bf n}$](#Sdotn), and [$\\xi^{2}$](#xi) elsewhere."
   ]
  },
  {
   "cell_type": "code",
   "execution_count": null,
   "metadata": {},
   "outputs": [],
   "source": [
    "%%writefile -a SEOBNR/Hamiltonian.txt\n",
    "\n",
    "HssTerm2 = -expmu*expnu*pdotvr*pdotxir*Sdotxi*Btilde + exp2mu*exp2nu*pdotxir**2*Sdotv\n",
    "            + exp2mu*(1 + sp.sqrt(Q))*sp.sqrt(Q)*Sdotv*xisq*Btilde**2\n",
    "            + Jtilde*pdotn*(pdotvr*Sdotn - Jtilde*pdotn*Sdotv)*xisq*Btilde**2"
   ]
  },
  {
   "cell_type": "markdown",
   "metadata": {},
   "source": [
    "<a id='HssTerm3coeff'></a>\n",
    "## Step 5d: $H_{\\rm SS}$ Term 3 Coefficient \\[Back to [top](#toc)\\]\n",
    "$$\\label{HssTerm3coeff}$$\n",
    "\n",
    "We have\n",
    "\n",
    "\\begin{equation}\n",
    "    H_{\\rm SS}\\ {\\rm Term\\ 3\\ coefficient} = \\frac{ e^{-3 \\tilde{\\mu} - \\nu} \\omega_{\\cos\\theta} }{ 2 \\tilde{B} \\left( \\sqrt{Q} + 1 \\right) \\sqrt{Q} }.\n",
    "\\end{equation}\n",
    "\n",
    "We define [$e^{\\tilde{\\mu}}$](#exp2mu), [$e^{\\nu}$](#exp2nu), [$\\tilde{J}$](#Jtilde), [$\\omega_{\\cos\\theta}$](#omegacostheta), and [$\\tilde{B}$](#Btilde), [$Q$](#Q)."
   ]
  },
  {
   "cell_type": "code",
   "execution_count": null,
   "metadata": {},
   "outputs": [],
   "source": [
    "%%writefile -a SEOBNR/Hamiltonian.txt\n",
    "\n",
    "HssTerm3coeff = omegacostheta/(exp2mu*expmu*expnu*2*Btilde*(sp.sqrt(Q) + 1)*sp.sqrt(Q))"
   ]
  },
  {
   "cell_type": "markdown",
   "metadata": {},
   "source": [
    "<a id='HssTerm3'></a>\n",
    "## Step 5e: $H_{\\rm SS}$ Term 3 \\[Back to [top](#toc)\\]\n",
    "$$\\label{HssTerm3}$$\n",
    "\n",
    "We have\n",
    "\n",
    "\\begin{equation}\n",
    "    H_{\\rm SS}\\ {\\rm Term\\ 3} = -e^{2 \\left( \\tilde{\\mu} + \\nu \\right)} \\left( \\hat{\\bf p} \\cdot {\\bf \\xi} r \\right)^{2} \\left( {\\bf S} \\cdot {\\bf n} \\right) + e^{\\tilde{\\mu} +\\nu} \\tilde{J} \\left( {\\bf \\hat{p}} \\cdot {\\bf n} \\right) \\left( {\\bf \\hat{p}} \\cdot {\\bf \\xi} r \\right) \\left( {\\bf S} \\cdot {\\bf \\xi} \\right) \\tilde{B} + \\left[ \\left( {\\bf S} \\cdot {\\bf n} \\right) \\left( {\\bf \\hat{p}} \\cdot {\\bf v} r \\right)^{2} - \\tilde{J} \\left( {\\bf \\hat{p}} \\cdot {\\bf n} \\right) \\left( {\\bf S} \\cdot {\\bf v} \\right) \\left( {\\bf \\hat{p}} \\cdot {\\bf v} r\\right) - e^{2 \\tilde{\\mu}} \\left( 1 + \\sqrt{Q} \\right) \\sqrt{Q} \\left( {\\bf S} \\cdot {\\bf n} \\right) \\xi^{2} \\right] \\tilde{B}^{2}.\n",
    "\\end{equation}\n",
    "\n",
    "We define [$e^{\\tilde{\\mu}}$](#exp2mu), [$e^{\\nu}$](#exp2nu), [$\\hat{\\bf p} \\cdot \\boldsymbol{\\xi} r$](#pdotxir), [${\\bf S} \\cdot {\\bf n}$](#Sdotn), [$\\tilde{J}$](#Jtilde), [$\\hat{\\bf p} \\cdot {\\bf n}$](#pdotn), [${\\bf S} \\cdot \\boldsymbol{\\xi}$](#Sdotxi), [$\\tilde{B}$](#Btilde), [$\\hat{\\bf p} \\cdot {\\bf v} r$](#pdotvr), [${\\bf S} \\cdot {\\bf v}$](#Sdotv), [$Q$](#Q), and [$\\xi^{2}$](#xi) elsewhere."
   ]
  },
  {
   "cell_type": "code",
   "execution_count": null,
   "metadata": {},
   "outputs": [],
   "source": [
    "%%writefile -a SEOBNR/Hamiltonian.txt\n",
    "\n",
    "HssTerm3 = -exp2mu*exp2nu*pdotxir**2*Sdotn + expmu*expnu*Jtilde*pdotn*pdotxir*Sdotxi*Btilde \n",
    "            + (Sdotn*pdotvr**2 - Jtilde*pdotn*Sdotv*pdotvr - exp2mu*(1 + sp.sqrt(Q)*sp.sqrt(Q)*Sdotn*xisq)*Btilde**2)"
   ]
  },
  {
   "cell_type": "markdown",
   "metadata": {},
   "source": [
    "<a id='HsoHsscommon'></a>\n",
    "\n",
    "# Step 6: Expressions Common to $H_{\\rm SO}$ and $H_{\\rm SS}$ \\[Back to [top](#toc)\\]\n",
    "$$\\label{HsoHsscommon}$$\n",
    "\n",
    "What follows are definitions of many of the expressions in $H_{\\rm SO}$ and $H_{\\rm SS}$."
   ]
  },
  {
   "cell_type": "code",
   "execution_count": null,
   "metadata": {},
   "outputs": [],
   "source": []
  },
  {
   "cell_type": "markdown",
   "metadata": {},
   "source": [
    "<a id='exp2nu'></a>\n",
    "\n",
    "## $e^{2\\nu}$ \\[Back to [top](#toc)\\]\n",
    "$$\\label{exp2nu}$$\n",
    "\n",
    "From BB2010 Equation (5.32), we have\n",
    "\n",
    "\\begin{equation}\n",
    "    e^{2 \\nu} = \\frac{ \\Delta_{t} \\Sigma }{ \\Lambda_t }.\n",
    "\\end{equation}\n",
    "\n",
    "We define [$\\Delta_{t}$](#Deltat), [$\\Sigma$](#Sigma), and [$\\Lambda_{t}$](#Lambdat) elsewhere."
   ]
  },
  {
   "cell_type": "code",
   "execution_count": 8,
   "metadata": {},
   "outputs": [
    {
     "name": "stdout",
     "output_type": "stream",
     "text": [
      "Appending to SEOBNR/Hamiltonian.txt\n"
     ]
    }
   ],
   "source": [
    "%%writefile -a SEOBNR/Hamiltonian.txt\n",
    "\n",
    "exp2nu = Deltat*Sigma/Lambdat\n",
    "expnu = sp.sqrt(exp2nu)"
   ]
  },
  {
   "cell_type": "markdown",
   "metadata": {},
   "source": [
    "<a id='exp2mu'></a>\n",
    "\n",
    "## $e^{2\\tilde{\\mu}}$ \\[Back to [top](#toc)\\]\n",
    "$$\\label{exp2mu}$$\n",
    "\n",
    "From BB2010 Equation (5.50), we have\n",
    "\n",
    "\\begin{equation}\n",
    "    e^{2 \\tilde{\\mu}} = \\Sigma\n",
    "\\end{equation}\n",
    "\n",
    "and thus\n",
    "\n",
    "\\begin{equation}\n",
    "    e^{\\tilde{\\mu}} = \\sqrt{ \\Sigma }.\n",
    "\\end{equation}\n",
    "\n",
    "\n",
    "We define [$\\Sigma$](#Sigma) elsewhere."
   ]
  },
  {
   "cell_type": "code",
   "execution_count": 9,
   "metadata": {
    "scrolled": true
   },
   "outputs": [
    {
     "name": "stdout",
     "output_type": "stream",
     "text": [
      "Appending to SEOBNR/Hamiltonian.txt\n"
     ]
    }
   ],
   "source": [
    "%%writefile -a SEOBNR/Hamiltonian.txt\n",
    "\n",
    "exp2mu = Sigma\n",
    "expnu = sp.sqrt(exp2mu)"
   ]
  },
  {
   "cell_type": "markdown",
   "metadata": {},
   "source": [
    "<a id='omegacostheta'></a>\n",
    "### $\\omega_{\\cos\\theta}$ \\[Back to [top](#toc)\\]\n",
    "$$\\label{omegacostheta}$$\n",
    "\n",
    "From BB2010 Equation (5.47f), we have\n",
    "\n",
    "\\begin{equation}\n",
    "    \\omega_{\\cos\\theta} = -\\frac{ 2 a^{2} \\cos\\theta \\Delta_{t} \\tilde{\\omega}_{\\rm fd} }{ \\Lambda_{t}^{2} }.\n",
    "\\end{equation}\n",
    "\n",
    "We define [$a$](#a_terms), [$\\cos\\theta$](#costheta), [$\\Delta_{t}$](#Deltat), [$\\tilde{\\omega}_{\\rm fd}$](#omegatilde), and [$\\Lambda_{t}$](#Lambdat) elsewhere."
   ]
  },
  {
   "cell_type": "code",
   "execution_count": null,
   "metadata": {},
   "outputs": [],
   "source": [
    "%%writefile -a SEOBNR/Hamiltonian.txt\n",
    "\n",
    "omegacostheta = -2*a2*costheta*Deltat*omegatilde/(Lambdat**2)"
   ]
  },
  {
   "cell_type": "markdown",
   "metadata": {},
   "source": [
    "<a id='Hnsradicand'></a>\n",
    "\n",
    "# Step 7: $H_{\\rm NS}$ Radicand \\[Back to [top](#toc)\\]\n",
    "$$\\label{HsoHsscommon}$$\n",
    "\n",
    "Recall\n",
    "\n",
    "\\begin{equation}\n",
    "    H_{\\rm NS}\\ {\\rm radicand} = \\mu^{2} + \\underbrace{\\gamma^{ij} p_{i} p_{j}}_{\\rm gammappsum} + {\\cal Q}_{4} \\left( p \\right)\n",
    "\\end{equation}\n",
    "\n",
    "We define [$\\eta$](#mass_terms), [gammappsum](#gammappsum), and [${\\cal Q}_{4}$](#Q4) elsewhere."
   ]
  },
  {
   "cell_type": "code",
   "execution_count": 23,
   "metadata": {},
   "outputs": [
    {
     "name": "stdout",
     "output_type": "stream",
     "text": [
      "Appending to SEOBNR/Hamiltonian.txt\n"
     ]
    }
   ],
   "source": [
    "%%writefile -a SEOBNR/Hamiltonian.txt\n",
    "\n",
    "Hnsradicand = mu**2 + gammappsum + Q4"
   ]
  },
  {
   "cell_type": "markdown",
   "metadata": {},
   "source": [
    "<a id='gammappsum'></a>\n",
    "\n",
    "### $\\gamma^{ij} p_{i} p_{j}$ \\[Back to [top](#toc)\\]\n",
    "$$\\label{gammappsum}$$\n",
    "\n",
    "From BB2010 Equation (5.46), we have\n",
    "\n",
    "\\begin{equation}\n",
    "    \\gamma^{ij} = g^{ij} - \\frac{ g^{ti} g^{tj} }{ g^{tt} }.\n",
    "\\end{equation}\n",
    "\n",
    "Combining this result with BB2010 Equations 5.36, we have\n",
    "\n",
    "\\begin{equation}\n",
    "    \\gamma^{r\\theta} = \\gamma^{r\\phi} = \\gamma^{\\theta r} = \\gamma^{\\theta\\phi} = \\gamma^{\\phi r} = \\gamma^{\\phi\\theta} = 0\n",
    "\\end{equation}\n",
    "\n",
    "and\n",
    "\n",
    "\\begin{align}\n",
    "    \\gamma^{rr} &= g^{rr} = \\frac{ \\Delta_{r} }{ \\Sigma } \\\\\n",
    "    \\gamma^{\\theta\\theta} &= g^{\\theta\\theta} = \\Sigma^{-1} \\\\\n",
    "    \\gamma^{\\phi\\phi} &= \\frac{ \\Sigma }{ \\Lambda_{t} \\sin^{2} \\theta }.\n",
    "\\end{align}\n",
    "\n",
    "Therefore\n",
    "\n",
    "\\begin{align}\n",
    "    \\gamma^{ij} p_{i} p_{j} &= \\gamma^{rr} p_{r} p_{r} + \\gamma^{\\theta\\theta} p_{\\theta} p_{\\theta} + \\gamma^{\\phi\\phi} p_{\\phi} p_{\\phi} \\\\\n",
    "        &= \\frac{ \\Delta_{r} }{ \\Sigma } p_{r}^{2} + \\Sigma^{-1} p_{\\theta}^{2} + \\frac{ \\Sigma }{ \\Lambda_{t} \\sin^{2} \\theta } p_{\\phi}^{2}.\n",
    "\\end{align}\n",
    "\n",
    "Converting Boyer-Lindquist coordinates to tortoise coordinates <font color='red'>(find reference)</font>, we have\n",
    "\n",
    "\\begin{align}\n",
    "    p_{r} = \\hat{\\bf p} \\cdot {\\bf n} \\\\\n",
    "    p_{\\theta} = \\hat{\\bf p} \\cdot {\\bf v} \\frac{ r }{ \\sin \\theta } \\\\\n",
    "    p_{\\phi} = \\hat{\\bf p} \\cdot \\boldsymbol{\\xi} r\n",
    "\\end{align}\n",
    "\n",
    "Therefore\n",
    "\n",
    "\\begin{equation}\n",
    "    \\gamma^{ij} p_{i} p_{j} = \\frac{ \\Delta_{r} }{ \\Sigma } \\left( \\hat{\\bf p} \\cdot {\\bf n} \\right)^{2} + \\Sigma^{-1} \\left( \\hat{\\bf p} \\cdot {\\bf v} \\frac{ r }{ \\sin \\theta } \\right)^{2} + \\frac{ \\Sigma }{ \\Lambda_{t} \\sin^{2} \\theta } \\left( \\hat{\\bf p} \\cdot \\boldsymbol{\\xi} r \\right)^{2}.\n",
    "\\end{equation}\n",
    "\n",
    "We define [$\\Delta_{r}$](#Deltar), [$\\Sigma$](#Sigma), [$\\hat{\\bf p} \\cdot {\\bf n}$](#pdotn), [$\\hat{\\bf p} \\cdot {\\bf v} r$](#pdotvr), [$\\sin^{2} \\theta$](#sin2theta), [$\\Lambda_{t}$](#Lambdat), and [$\\hat{\\bf p} \\cdot \\boldsymbol{\\xi} r$](#pdotxir) elsewhere."
   ]
  },
  {
   "cell_type": "code",
   "execution_count": 24,
   "metadata": {},
   "outputs": [
    {
     "name": "stdout",
     "output_type": "stream",
     "text": [
      "Appending to SEOBNR/Hamiltonian.txt\n"
     ]
    }
   ],
   "source": [
    "%%writefile -a SEOBNR/Hamiltonian.txt\n",
    "\n",
    "gammappsum = Deltar/Sigma*pdotn**2 + 1/Sigma*pdotvr/sin2theta + Sigma/Lambdat/sin2theta*pdotxir**2"
   ]
  },
  {
   "cell_type": "markdown",
   "metadata": {},
   "source": [
    "<a id='Q4'></a>\n",
    "\n",
    "## ${\\cal Q}_{4}$ \\[Back to [top](#toc)\\]\n",
    "$$\\label{Q4}$$\n",
    "\n",
    "From [Taracchini et. al. 2012](https://arxiv.org/abs/1202.0790) Equation (15),\n",
    "\n",
    "\\begin{equation}\n",
    "    {\\cal Q}_{4} \\propto \\frac{ prT^{4} }{ r^{2} } \\left( r^{2} + \\chi_{\\rm Kerr}^{2} \\right)^{4}.\n",
    "\\end{equation}\n",
    "\n",
    "On Line 340 of LALSimIMRSpinEOBHamiltonianPrec.c <font color='red'>(find a real reference for this)</font>, we find\n",
    "\n",
    "\\begin{equation}\n",
    "    {\\cal Q}_{4} = \\frac{ prT^{4} }{ r^{2} } z_{3}\n",
    "\\end{equation}\n",
    "\n",
    "where $z_{3}$ is found in Equation (4.34) of [Damour et. al. 2000](https://arxiv.org/abs/gr-qc/0005034):\n",
    "\n",
    "\\begin{equation}\n",
    "    z_{3} = 2 \\left( 4 - 3 \\nu \\right) \\nu\n",
    "\\end{equation}\n",
    "\n",
    "where in the notation of BB2010 $\\nu = \\eta$ <font color='red'>(confirm: there's some funny use of $\\nu$ in Taracchini)</font>.  Thus\n",
    "\n",
    "\\begin{equation}\n",
    "    {\\cal Q}_{4} = 2 prT^{4} u^{2} \\left( 4 - 3 \\eta \\right) \\eta.\n",
    "\\end{equation}\n",
    "\n",
    "We define [prT](#prT) and [$\\eta$](#eta) elsewhere."
   ]
  },
  {
   "cell_type": "code",
   "execution_count": 25,
   "metadata": {},
   "outputs": [
    {
     "name": "stdout",
     "output_type": "stream",
     "text": [
      "Appending to SEOBNR/Hamiltonian.txt\n"
     ]
    }
   ],
   "source": [
    "%%writefile -a SEOBNR/Hamiltonian.txt\n",
    "\n",
    "Q4 = 2*prT**4*u2*(4-3*eta)*eta"
   ]
  },
  {
   "cell_type": "markdown",
   "metadata": {},
   "source": [
    "<a id='HdTerms'></a>\n",
    "\n",
    "# Step 8: The $H_{\\rm D}$ Terms \\[Back to [top](#toc)\\]\n",
    "$$\\label{HdTerms}$$\n",
    "\n",
    "Recall\n",
    "\n",
    "\\begin{equation}\n",
    "    H_{\\rm D} = H_{\\rm D}\\ {\\rm coeffecient} * H_{\\rm D}\\ {\\rm sum}.\n",
    "\\end{equation}\n",
    "\n",
    "In this step we break down each of [$H_{\\rm D}\\ {\\rm coefficient}$](#Hdcoeff) and [$H_{\\rm D}\\ {\\rm sum}$](#Hdsum)."
   ]
  },
  {
   "cell_type": "markdown",
   "metadata": {},
   "source": [
    "<a id='Hdcoeff'></a>\n",
    "\n",
    "## Step 8a: $H_{\\rm D}$ Coefficient \\[Back to [top](#toc)\\]\n",
    "$$\\label{Hdcoeff}$$\n",
    "\n",
    "We have\n",
    "\n",
    "\\begin{equation}\n",
    "    H_{\\rm D}\\ {\\rm coefficient} = -\\frac{ \\eta }{ 2 r^{3} },\n",
    "\\end{equation}\n",
    "\n",
    "and to save a few FLOPs we'll write\n",
    "\n",
    "\\begin{equation}\n",
    "    H_{\\rm D}\\ {\\rm coefficient} = -\\frac{ \\eta u^{3} }{ 2 }.\n",
    "\\end{equation}\n",
    "\n",
    "We define [$\\eta$](#mass_terms) and [$u$](#radius_terms) elsewhere."
   ]
  },
  {
   "cell_type": "code",
   "execution_count": 26,
   "metadata": {},
   "outputs": [
    {
     "name": "stdout",
     "output_type": "stream",
     "text": [
      "Appending to SEOBNR/Hamiltonian.txt\n"
     ]
    }
   ],
   "source": [
    "%%writefile -a SEOBNR/Hamiltonian.txt\n",
    "\n",
    "Hdcoeff = -sp.Rational(1,2)*eta*u3"
   ]
  },
  {
   "cell_type": "markdown",
   "metadata": {},
   "source": [
    "<a id='Hdsum'></a>\n",
    "\n",
    "## Step 8b: $H_{\\rm D}$ Sum \\[Back to [top](#toc)\\]\n",
    "$$\\label{Hdsum}$$\n",
    "\n",
    "We write\n",
    "\n",
    "\\begin{align}\n",
    "    H_{\\rm D}\\ {\\rm sum} &= \\left( \\delta^{ij} - 3 n^{i} n^{j} \\right) S^{*}_{i} S^{*}_{j} \\\\\n",
    "        &= \\underbrace{\\delta^{ij} S^{*}_{i} S^{*}_{j}}_{\\rm Term\\ 1} - \\underbrace{3 n^{i} n^{j} S^{*}_{i} S^{*}_{j}}_{\\rm Term\\ 2}.\n",
    "\\end{align}"
   ]
  },
  {
   "cell_type": "code",
   "execution_count": 27,
   "metadata": {},
   "outputs": [
    {
     "name": "stdout",
     "output_type": "stream",
     "text": [
      "Appending to SEOBNR/Hamiltonian.txt\n"
     ]
    }
   ],
   "source": [
    "%%writefile -a SEOBNR/Hamiltonian.txt\n",
    "\n",
    "Hdsum = HdsumTerm1 - HdsumTerm2"
   ]
  },
  {
   "cell_type": "markdown",
   "metadata": {},
   "source": [
    "### $H_{\\rm D}$ Sum Term 1\n",
    "\n",
    "We have\n",
    "\n",
    "\\begin{equation}\n",
    "    H_{\\rm D}\\ {\\rm sum\\ Term\\ 1} = \\delta^{ij} S^{*}_{i} S^{*}_{j}\n",
    "\\end{equation}\n",
    "\n",
    "where $\\delta^{ij}$ is the Kronecker delta:\n",
    "\n",
    "\\begin{equation}\n",
    "    \\delta_{ij} = \\left\\{ \\begin{array}{cc}\n",
    "        0, & i \\not= j \\\\\n",
    "        1, & i = j. \\end{array} \\right.\n",
    "\\end{equation}\n",
    "\n",
    "Thus we have\n",
    "\n",
    "\\begin{equation}\n",
    "    H_{\\rm D}\\ {\\rm sum\\ Term\\ 1} = S^{*}_{1} S^{*}_{1} + S^{*}_{2} S^{*}_{2} + S^{*}_{3} S^{*}_{3}\n",
    "\\end{equation}\n",
    "\n",
    "We define [${\\bf S}^{*}$](#Hreal_spin_combos) as a combination of spins."
   ]
  },
  {
   "cell_type": "code",
   "execution_count": 28,
   "metadata": {},
   "outputs": [
    {
     "name": "stdout",
     "output_type": "stream",
     "text": [
      "Appending to SEOBNR/Hamiltonian.txt\n"
     ]
    }
   ],
   "source": [
    "%%writefile -a SEOBNR/Hamiltonian.txt\n",
    "\n",
    "HdsumTerm1 = Sstar1**2 + Sstar2**2 + Sstar3**2"
   ]
  },
  {
   "cell_type": "markdown",
   "metadata": {},
   "source": [
    "### $H_{\\rm D}$ Sum Term 2\n",
    "\n",
    "We have\n",
    "\n",
    "\\begin{align}\n",
    "    H_{\\rm D}\\ {\\rm sum\\ Term\\ 2} &= 3 n^{i} n^{j} S^{*}_{i} S^{*}_{j} \\\\\n",
    "        &= 3 \\left( {\\bf S}^{*} \\cdot {\\bf n} \\right)^{2} \\\\\n",
    "\\end{align}\n",
    "\n",
    "\n",
    "We define [${\\bf S}^{*} \\cdot {\\bf n}$](#Sstardotn) elsewhere."
   ]
  },
  {
   "cell_type": "code",
   "execution_count": 29,
   "metadata": {},
   "outputs": [
    {
     "name": "stdout",
     "output_type": "stream",
     "text": [
      "Appending to SEOBNR/Hamiltonian.txt\n"
     ]
    }
   ],
   "source": [
    "%%writefile -a SEOBNR/Hamiltonian.txt\n",
    "\n",
    "HdsumTerm2 = 3*Sstardotn**2"
   ]
  },
  {
   "cell_type": "markdown",
   "metadata": {},
   "source": [
    "<a id='metpots'></a>\n",
    "\n",
    "# Step N-5: The Deformed and Rescaled Metric Potentials \\[Back to [top](#toc)\\]\n",
    "$$\\label{metpots}$$\n",
    "\n",
    "We collect here terms of the deformed and scaled metric potentils.  See BB2010 Equations (5.30)--(5.34) and (5.48)--(5.51)."
   ]
  },
  {
   "cell_type": "markdown",
   "metadata": {},
   "source": [
    "<a id='Btilde'></a>\n",
    "\n",
    "## $\\tilde{B}$ \\[Back to [top](#toc)\\]\n",
    "$$\\label{Btilde}$$\n",
    "\n",
    "From BB2010 Equation (5.48), we have\n",
    "\n",
    "\\begin{equation}\n",
    "    \\tilde{B} = \\sqrt{ \\Delta_{t} }.\n",
    "\\end{equation}\n",
    "\n",
    "We define [$\\Delta_{t}$](#Deltat) elsewhere."
   ]
  },
  {
   "cell_type": "code",
   "execution_count": null,
   "metadata": {},
   "outputs": [],
   "source": [
    "%%writefile -a SEOBNR/Hamiltonian.txt\n",
    "\n",
    "Btilde = sp.sqrt(Deltat)"
   ]
  },
  {
   "cell_type": "markdown",
   "metadata": {},
   "source": [
    "<a id='Jtilde'></a>\n",
    "### $\\tilde{J}$ \\[Back to [top](#toc)\\]\n",
    "$$\\label{Jtilde}$$\n",
    "\n",
    "From BB2010 Equation (5.51) we have\n",
    "\n",
    "\\begin{equation}\n",
    "    \\tilde{J} = \\sqrt{ \\Delta_{r} }.\n",
    "\\end{equation}\n",
    "\n",
    "We define [$\\Delta_{r}$](#Deltar) elsewhere."
   ]
  },
  {
   "cell_type": "code",
   "execution_count": null,
   "metadata": {},
   "outputs": [],
   "source": [
    "%%writefile -a SEOBNR/Hamiltonian.txt\n",
    "\n",
    "Jtilde = sp.sqrt(Deltar)"
   ]
  },
  {
   "cell_type": "markdown",
   "metadata": {},
   "source": [
    "<a id='metpotderivs'></a>\n",
    "\n",
    "# Step N-4: Derivatives of the Metric Potential \\[Back to [top](#toc)\\]\n",
    "$$\\label{metpotderivs}$$\n",
    "\n",
    "We collect here terms dependent on derivatives of the metric potential (see BB2010 Equations (5.47))."
   ]
  },
  {
   "cell_type": "markdown",
   "metadata": {},
   "source": [
    "<a id='mur'></a>\n",
    "### $\\mu_{r}$ \\[Back to [top](#toc)\\]\n",
    "$$\\label{mur}$$\n",
    "\n",
    "From BB2010 Equation (5.47d) we have\n",
    "\n",
    "\\begin{equation}\n",
    "    \\mu_{r} =  \\frac{ r }{ \\Sigma } - \\frac{ 1 }{ \\sqrt{ \\Delta_{r} } }.\n",
    "\\end{equation}\n",
    "\n",
    "We define [$\\Sigma$](#Sigma) and [$\\Delta_{r}$](#Deltar) elsewhere."
   ]
  },
  {
   "cell_type": "code",
   "execution_count": null,
   "metadata": {},
   "outputs": [],
   "source": [
    "%%writefile -a SEOBNR/Hamiltonian.txt\n",
    "\n",
    "mur = r/Sigma - 1/sp.sqrt(Deltar)"
   ]
  },
  {
   "cell_type": "markdown",
   "metadata": {},
   "source": [
    "<a id='mucostheta'></a>\n",
    "### $\\mu_{\\cos \\theta}$ \\[Back to [top](#toc)\\]\n",
    "$$\\label{mucostheta}$$\n",
    "\n",
    "From BB2010 Equation (5.47h) we have\n",
    "\n",
    "\\begin{equation}\n",
    "    \\mu_{\\cos \\theta} =  \\frac{ a^{2} \\cos \\theta }{ \\Sigma }.\n",
    "\\end{equation}\n",
    "\n",
    "We define [$a$](#a_terms), [$\\cos \\theta$](#costheta), and [$\\Sigma$](#Sigma) elsewhere."
   ]
  },
  {
   "cell_type": "code",
   "execution_count": null,
   "metadata": {},
   "outputs": [],
   "source": [
    "%%writefile -a SEOBNR/Hamiltonian.txt\n",
    "\n",
    "mucostheta = a2*costheta/Sigma"
   ]
  },
  {
   "cell_type": "markdown",
   "metadata": {},
   "source": [
    "<a id='Qminus1'></a>\n",
    "\n",
    "## Qminus1 \\[Back to [top](#toc)\\]\n",
    "$$\\label{Qminus1}$$\n",
    "\n",
    "First, we specify Qminus1:\n",
    "\n",
    "\\begin{equation}\n",
    "    {\\rm Qminus1} = Q - 1.\n",
    "\\end{equation}\n",
    "\n",
    "We define [$Q$](#Q) elsewhere."
   ]
  },
  {
   "cell_type": "code",
   "execution_count": 30,
   "metadata": {},
   "outputs": [
    {
     "name": "stdout",
     "output_type": "stream",
     "text": [
      "Appending to SEOBNR/Hamiltonian.txt\n"
     ]
    }
   ],
   "source": [
    "%%writefile -a SEOBNR/Hamiltonian.txt\n",
    "\n",
    "Qminus1 = Q - 1"
   ]
  },
  {
   "cell_type": "markdown",
   "metadata": {},
   "source": [
    "<a id='Q'></a>\n",
    "\n",
    "## Q \\[Back to [top](#toc)\\]\n",
    "$$\\label{Q}$$\n",
    "\n",
    "From BB2010 Equation (5.52),\n",
    "\n",
    "\\begin{equation}\n",
    "    Q = 1 + \\underbrace{ \\frac{ \\Delta_{r} }{ \\Sigma } \\left( \\hat{\\bf p} \\cdot {\\bf n} \\right)^{2} }_{\\rm DrSipn2} + \\underbrace{ \\frac{ \\Sigma }{ \\Lambda_t \\sin^{2} \\theta } }_{\\rm Q\\ coefficient\\ 1} \\left( \\smash[b]{ \\underbrace{ \\hat{\\bf p} \\cdot \\boldsymbol{\\xi} r }_{\\rm pdotxir} } \\right)^{2} + \\underbrace{ \\frac{ 1 }{ \\Sigma \\sin^{2} \\theta } }_{\\rm Q\\ coefficient\\ 2} \\left( \\smash[b]{ \\underbrace{ \\hat{\\bf p} \\cdot {\\bf v} r }_{\\rm pdotvr} } \\right)^{2};\n",
    "\\end{equation}\n",
    "\n",
    "We group togther $\\frac{ \\Delta_{r} }{ \\Sigma } \\left( \\hat{\\bf p} \\cdot {\\bf n} \\right)^{2}$ as [DrSipn2](#DrSipn2), $\\frac{ \\Sigma }{ \\Lambda_t \\sin^{2} \\theta }$ as [Q coefficient 1](#Qcoeff1), $\\hat{\\bf p} \\cdot \\boldsymbol{\\xi} r$ as [$pdotxir$](#pdotxir), $\\frac{ 1 }{ \\Sigma \\sin^{2} \\theta }$ as [Q coefficient 2](#Qcoeff2), and $\\hat{\\bf p} \\cdot {\\bf v} r$ as [pdotvr](#pdotvr)."
   ]
  },
  {
   "cell_type": "code",
   "execution_count": 31,
   "metadata": {},
   "outputs": [
    {
     "name": "stdout",
     "output_type": "stream",
     "text": [
      "Appending to SEOBNR/Hamiltonian.txt\n"
     ]
    }
   ],
   "source": [
    "%%writefile -a SEOBNR/Hamiltonian.txt\n",
    "\n",
    "Q = 1 + DrSipn2 + Qcoeff1*pdotxir + Qcoeff2*pdotvr*pdotvr"
   ]
  },
  {
   "cell_type": "markdown",
   "metadata": {},
   "source": [
    "<a id='DrSipn2'></a>\n",
    "\n",
    "## DrSipn2 \\[Back to [top](#toc)\\]\n",
    "$$\\label{DrSipn2}$$\n",
    "\n",
    "We'll write\n",
    "\n",
    "\\begin{equation}\n",
    "    \\frac{ \\Delta_{r} }{ \\Sigma } \\left( \\hat{\\bf p} \\cdot {\\bf n} \\right)^{2} = \\Delta_{r} \\Sigma^{-1} \\left( \\hat{\\bf p} \\cdot {\\bf n} \\right)^{2}.\n",
    "\\end{equation}\n",
    "\n",
    "We define $\\Delta_{r}$ as [Deltar](#Deltar), $\\Sigma^{-1}$ as [Sigmainv](#Sigmainv), and $\\hat{\\bf p} \\cdot {\\bf n}$ as [pdotn](#pdotn) elsewhere."
   ]
  },
  {
   "cell_type": "code",
   "execution_count": 32,
   "metadata": {},
   "outputs": [
    {
     "name": "stdout",
     "output_type": "stream",
     "text": [
      "Appending to SEOBNR/Hamiltonian.txt\n"
     ]
    }
   ],
   "source": [
    "%%writefile -a SEOBNR/Hamiltonian.txt\n",
    "\n",
    "DrSipn2 = Deltar*Sigmainv*pdotn*pdotn"
   ]
  },
  {
   "cell_type": "markdown",
   "metadata": {},
   "source": [
    "<a id='Qcoeff1'></a>\n",
    "\n",
    "## Q Coefficient 1 \\[Back to [top](#toc)\\]\n",
    "$$\\label{Qcoeff1}$$\n",
    "\n",
    "We have,\n",
    "\n",
    "\\begin{equation}\n",
    "    Q\\ {\\rm coefficient\\ 1} = \\frac{ \\Sigma }{ \\Lambda_t \\sin^{2} \\theta }\n",
    "\\end{equation}\n",
    "\n",
    "We define [$\\Sigma$](#Sigma), [$\\Lambda_{t}$](#Lambdat), and [$\\sin^{2} \\theta$](#sin2theta) elsewhere."
   ]
  },
  {
   "cell_type": "code",
   "execution_count": 33,
   "metadata": {},
   "outputs": [
    {
     "name": "stdout",
     "output_type": "stream",
     "text": [
      "Appending to SEOBNR/Hamiltonian.txt\n"
     ]
    }
   ],
   "source": [
    "%%writefile -a SEOBNR/Hamiltonian.txt\n",
    "\n",
    "Qcoeff1 = Sigma/Lambdat/sin2theta"
   ]
  },
  {
   "cell_type": "markdown",
   "metadata": {},
   "source": [
    "<a id='pdotxir'></a>\n",
    "\n",
    "## $\\hat{\\bf p} \\cdot \\boldsymbol{\\xi} r$ \\[Back to [top](#toc)\\]\n",
    "$$\\label{pdotxir}$$\n",
    "\n",
    "We have\n",
    "\n",
    "\\begin{equation}\n",
    "    \\hat{\\bf p} \\cdot \\boldsymbol{\\xi} r = \\hat{p}_{1} \\xi_{1} + \\hat{p}_{2} \\xi_{2} + \\hat{p}_{3} \\xi_{3}\n",
    "\\end{equation}\n",
    "\n",
    "We define [$\\hat{\\bf p}$](#hatp) and [$\\boldsymbol{\\xi}$](#xi) elsewhere."
   ]
  },
  {
   "cell_type": "code",
   "execution_count": 34,
   "metadata": {},
   "outputs": [
    {
     "name": "stdout",
     "output_type": "stream",
     "text": [
      "Appending to SEOBNR/Hamiltonian.txt\n"
     ]
    }
   ],
   "source": [
    "%%writefile -a SEOBNR/Hamiltonian.txt\n",
    "\n",
    "pdotxir = hatp1*xi1 + hatp2*xi2 + hatp3*xi3"
   ]
  },
  {
   "cell_type": "markdown",
   "metadata": {},
   "source": [
    "<a id='Qcoeff2'></a>\n",
    "\n",
    "## Q Coefficient 2 \\[Back to [top](#toc)\\]\n",
    "$$\\label{Qcoeff2}$$\n",
    "\n",
    "We have\n",
    "\n",
    "\\begin{equation}\n",
    "    Q\\ {\\rm coefficient\\ 2} = \\frac{ 1 }{ \\Sigma \\sin^{2} \\theta }\n",
    "\\end{equation}\n",
    "\n",
    "We define [$\\Sigma$](#Sigma) and [$\\sin^{2} \\theta$](#sin2theta) elsewhere."
   ]
  },
  {
   "cell_type": "code",
   "execution_count": 35,
   "metadata": {},
   "outputs": [
    {
     "name": "stdout",
     "output_type": "stream",
     "text": [
      "Appending to SEOBNR/Hamiltonian.txt\n"
     ]
    }
   ],
   "source": [
    "%%writefile -a SEOBNR/Hamiltonian.txt\n",
    "\n",
    "Qcoeff2 = Sigmainv/sin2theta"
   ]
  },
  {
   "cell_type": "markdown",
   "metadata": {},
   "source": [
    "<a id='pdotvr'></a>\n",
    "\n",
    "## $\\hat{\\bf p} \\cdot {\\bf v} r$ \\[Back to [top](#toc)\\]\n",
    "$$\\label{pdotvr}$$\n",
    "\n",
    "We have\n",
    "\n",
    "\\begin{equation}\n",
    "    \\hat{\\bf p} \\cdot {\\bf v} r = \\left( \\hat{p}_{1} v_{1} + \\hat{p}_{2} v_{2} + \\hat{p}_{3} v_{3} \\right) r\n",
    "\\end{equation}\n",
    "\n",
    "We define [$\\hat{\\bf p}$](#hatp) and [${\\bf v}$](#v) elsewhere."
   ]
  },
  {
   "cell_type": "code",
   "execution_count": 36,
   "metadata": {},
   "outputs": [
    {
     "name": "stdout",
     "output_type": "stream",
     "text": [
      "Appending to SEOBNR/Hamiltonian.txt\n"
     ]
    }
   ],
   "source": [
    "%%writefile -a SEOBNR/Hamiltonian.txt\n",
    "\n",
    "pdotvr = (hatp1*v1 + hatp2*v2 + hatp3*v3)*r"
   ]
  },
  {
   "cell_type": "markdown",
   "metadata": {},
   "source": [
    "<a id='v'></a>\n",
    "\n",
    "## $\\hat{\\bf v}$ \\[Back to [top](#toc)\\]\n",
    "$$\\label{v}$$\n",
    "\n",
    "From BB2010 Equation (3.39), we have\n",
    "\n",
    "\\begin{equation}\n",
    "    {\\bf v} = {\\bf n} \\times \\boldsymbol{\\xi}.\n",
    "\\end{equation}\n",
    "\n",
    "We define [${\\bf n}$](#n) and [$\\boldsymbol{\\xi}$](#xi) elsewhere."
   ]
  },
  {
   "cell_type": "code",
   "execution_count": 37,
   "metadata": {},
   "outputs": [
    {
     "name": "stdout",
     "output_type": "stream",
     "text": [
      "Appending to SEOBNR/Hamiltonian.txt\n"
     ]
    }
   ],
   "source": [
    "%%writefile -a SEOBNR/Hamiltonian.txt\n",
    "\n",
    "v1 = n2*xi3 - n3*xi2\n",
    "v2 = n1*xi3 + n3*xi1\n",
    "v3 = n1*xi2 - n2*xi1"
   ]
  },
  {
   "cell_type": "markdown",
   "metadata": {},
   "source": [
    "<a id='Lambdat'></a>\n",
    "\n",
    "## $\\Lambda_{t}$ \\[Back to [top](#toc)\\]\n",
    "$$\\label{Lambdat}$$\n",
    "\n",
    "From BB2010 Equation (5.39),\n",
    "\n",
    "\\begin{equation}\n",
    "    \\Lambda_{t} = \\varpi^{4} - a^{2} \\Delta_{t} \\sin^{2} \\theta.\n",
    "\\end{equation}\n",
    "\n",
    "We define [$\\varpi^{2}$](#w2), [$a^{2}$](#a_terms), [$\\Delta_{t}$](#Deltat), and [$\\sin \\theta$](#sintheta) elsewhere."
   ]
  },
  {
   "cell_type": "code",
   "execution_count": 38,
   "metadata": {},
   "outputs": [
    {
     "name": "stdout",
     "output_type": "stream",
     "text": [
      "Appending to SEOBNR/Hamiltonian.txt\n"
     ]
    }
   ],
   "source": [
    "%%writefile -a SEOBNR/Hamiltonian.txt\n",
    "\n",
    "Lambdat = w2**2 - a2*Deltat*sin2theta"
   ]
  },
  {
   "cell_type": "markdown",
   "metadata": {},
   "source": [
    "<a id='w2'></a>\n",
    "\n",
    "## $\\varpi^{2}$ \\[Back to [top](#toc)\\]\n",
    "$$\\label{w2}$$\n",
    "\n",
    "From BB2010 Equation (4.7),\n",
    "\n",
    "\\begin{equation}\n",
    "    \\varpi^{2} = a^{2} + r^{2}.\n",
    "\\end{equation}\n",
    "\n",
    "We define [$a^{2}$](#a_terms) elsewhere."
   ]
  },
  {
   "cell_type": "code",
   "execution_count": 39,
   "metadata": {},
   "outputs": [
    {
     "name": "stdout",
     "output_type": "stream",
     "text": [
      "Appending to SEOBNR/Hamiltonian.txt\n"
     ]
    }
   ],
   "source": [
    "%%writefile -a SEOBNR/Hamiltonian.txt\n",
    "\n",
    "w2 = r2 + a2"
   ]
  },
  {
   "cell_type": "markdown",
   "metadata": {},
   "source": [
    "<a id='sin2theta'></a>\n",
    "\n",
    "## $\\sin^{2} \\theta$ \\[Back to [top](#toc)\\]\n",
    "$$\\label{sin2theta}$$\n",
    "\n",
    "From From Line 250 of LALSimIMRSpinPrecEOBHamiltonianPrec.c, (<font color='red'>find paper reference?</font>),\n",
    "\n",
    "\\begin{equation}\n",
    "    \\sin^{2} \\theta = 1 - cos^{2} \\theta.\n",
    "\\end{equation}\n",
    "\n",
    "We define [$\\cos \\theta$](#costheta) elsewhere."
   ]
  },
  {
   "cell_type": "code",
   "execution_count": 40,
   "metadata": {},
   "outputs": [
    {
     "name": "stdout",
     "output_type": "stream",
     "text": [
      "Appending to SEOBNR/Hamiltonian.txt\n"
     ]
    }
   ],
   "source": [
    "%%writefile -a SEOBNR/Hamiltonian.txt\n",
    "\n",
    "sin2theta = 1 - costheta*costheta"
   ]
  },
  {
   "cell_type": "markdown",
   "metadata": {},
   "source": [
    "<a id='Sigmainv'></a>\n",
    "\n",
    "## $\\Sigma^{-1}$ \\[Back to [top](#toc)\\]\n",
    "$$\\label{Sigmainv}$$\n",
    "\n",
    "We'll write\n",
    "\n",
    "\\begin{equation}\n",
    "    {\\rm Sigmainv} = \\frac{ 1 }{ \\Sigma }.\n",
    "\\end{equation}\n",
    "\n",
    "We define [$\\Sigma$](#Sigma) elsewhere."
   ]
  },
  {
   "cell_type": "code",
   "execution_count": 41,
   "metadata": {},
   "outputs": [
    {
     "name": "stdout",
     "output_type": "stream",
     "text": [
      "Appending to SEOBNR/Hamiltonian.txt\n"
     ]
    }
   ],
   "source": [
    "%%writefile -a SEOBNR/Hamiltonian.txt\n",
    "\n",
    "Sigmainv = 1/Sigma"
   ]
  },
  {
   "cell_type": "markdown",
   "metadata": {},
   "source": [
    "<a id='Sigma'></a>\n",
    "\n",
    "## $\\Sigma$ \\[Back to [top](#toc)\\]\n",
    "$$\\label{Sigma}$$\n",
    "\n",
    "From BB2010 Equation (4.5), we have\n",
    "\n",
    "\\begin{equation}\n",
    "    \\Sigma = r2 + a2 \\cos^{2} \\theta.\n",
    "\\end{equation}\n",
    "\n",
    "We define [$a2$](#a_terms) and [$\\cos \\theta$](#costheta) elsewhere."
   ]
  },
  {
   "cell_type": "code",
   "execution_count": 42,
   "metadata": {},
   "outputs": [
    {
     "name": "stdout",
     "output_type": "stream",
     "text": [
      "Appending to SEOBNR/Hamiltonian.txt\n"
     ]
    }
   ],
   "source": [
    "%%writefile -a SEOBNR/Hamiltonian.txt\n",
    "\n",
    "Sigma = r2 + a2*costheta*costheta"
   ]
  },
  {
   "cell_type": "markdown",
   "metadata": {},
   "source": [
    "<a id='costheta'></a>\n",
    "\n",
    "## $\\cos \\theta$ \\[Back to [top](#toc)\\]\n",
    "$$\\label{costheta}$$\n",
    "\n",
    "From Line 248 of LALSimIMRSpinPrecEOBHamiltonianPrec.c, (<font color='red'>find paper reference?</font>)\n",
    "\n",
    "\\begin{equation}\n",
    "    \\cos \\theta = {\\bf e}_{3} \\cdot {\\bf n} = {\\bf e}_{3}^{1} n^{1} + {\\bf e}_{3}^{2} n^{2} + {\\bf e}_{3}^{3} n^{3}.\n",
    "\\end{equation}\n",
    "\n",
    "We define [${\\bf e}_{3}$](#e3) and [${\\bf n}$](#n) elsewhere."
   ]
  },
  {
   "cell_type": "code",
   "execution_count": 43,
   "metadata": {},
   "outputs": [
    {
     "name": "stdout",
     "output_type": "stream",
     "text": [
      "Appending to SEOBNR/Hamiltonian.txt\n"
     ]
    }
   ],
   "source": [
    "%%writefile -a SEOBNR/Hamiltonian.txt\n",
    "\n",
    "costheta = e31*n1 + e32*n2 + e33*n3"
   ]
  },
  {
   "cell_type": "markdown",
   "metadata": {},
   "source": [
    "<a id='e3'></a>\n",
    "\n",
    "## ${\\bf e}_{3}$ \\[Back to [top](#toc)\\]\n",
    "$$\\label{e3}$$\n",
    "\n",
    "From Lines 228--230 of LALSimIMRSpinPrecEOBHamiltonianPrec.c, (<font color='red'>find paper reference?</font>)\n",
    "\n",
    "\\begin{equation}\n",
    "    {\\bf e}_{3} = \\frac{ {\\bf S}_{\\rm Kerr} }{ a }.\n",
    "\\end{equation}\n",
    "\n",
    "We define [${\\bf S}_{\\rm Kerr}$](#Hreal_spin_combos) and [$a$](#a_terms) elsewhere.  Note that in the LALSuite code, e31 is written as e3_x (and similarly for other coordinates)."
   ]
  },
  {
   "cell_type": "code",
   "execution_count": 44,
   "metadata": {},
   "outputs": [
    {
     "name": "stdout",
     "output_type": "stream",
     "text": [
      "Appending to SEOBNR/Hamiltonian.txt\n"
     ]
    }
   ],
   "source": [
    "%%writefile -a SEOBNR/Hamiltonian.txt\n",
    "\n",
    "e31 = Skerr1/a\n",
    "e32 = Skerr2/a\n",
    "e33 = Skerr3/a"
   ]
  },
  {
   "cell_type": "markdown",
   "metadata": {},
   "source": [
    "<a id='Deltar'></a>\n",
    "\n",
    "## $\\Delta_{r}$ \\[Back to [top](#toc)\\]\n",
    "$$\\label{Deltar}$$\n",
    "\n",
    "From BB2010 Equation (5.38),\n",
    "\n",
    "\\begin{equation}\n",
    "    \\Delta_{r} = \\Delta_{t} D^{-1}(u).\n",
    "\\end{equation}\n",
    "\n",
    "We denote $\\Delta_{t}$ as [Deltat](#Deltat) and $D^{-1}(u)$ as [Dinv](#Dinv)."
   ]
  },
  {
   "cell_type": "code",
   "execution_count": 45,
   "metadata": {},
   "outputs": [
    {
     "name": "stdout",
     "output_type": "stream",
     "text": [
      "Appending to SEOBNR/Hamiltonian.txt\n"
     ]
    }
   ],
   "source": [
    "%%writefile -a SEOBNR/Hamiltonian.txt\n",
    "\n",
    "Deltar = Deltat*Dinv"
   ]
  },
  {
   "cell_type": "markdown",
   "metadata": {},
   "source": [
    "<a id='Dinv'></a>\n",
    "\n",
    "## $D^{-1}$ \\[Back to [top](#toc)\\]\n",
    "$$\\label{Dinv}$$\n",
    "\n",
    "From BB2010 Equation (5.383),\n",
    "\n",
    "\\begin{equation}\n",
    "    D^{-1} = 1 + \\log \\left[ 1 + 6 \\eta u^{2} + 2 \\left( 26 - 3 \\eta \\right) \\eta u^{3} \\right].\n",
    "\\end{equation}\n",
    "\n",
    "We define [eta](#mass_terms), [u2](#radius_terms), and [u3](#radius_terms) elsewhere."
   ]
  },
  {
   "cell_type": "code",
   "execution_count": 46,
   "metadata": {},
   "outputs": [
    {
     "name": "stdout",
     "output_type": "stream",
     "text": [
      "Appending to SEOBNR/Hamiltonian.txt\n"
     ]
    }
   ],
   "source": [
    "%%writefile -a SEOBNR/Hamiltonian.txt\n",
    "\n",
    "Dinv = 1 + sp.log(1 + 6*eta*u2 + 2*(26 - 3*eta)*eta*u3)"
   ]
  },
  {
   "cell_type": "markdown",
   "metadata": {},
   "source": [
    "<a id='pdotn'></a>\n",
    "\n",
    "## $\\hat{\\bf p} \\cdot {\\bf n}$ \\[Back to [top](#toc)\\]\n",
    "$$\\label{pdotn}$$\n",
    "\n",
    "We have\n",
    "\n",
    "\\begin{align}\n",
    "    {\\rm pdotn} &= \\hat{\\bf p} \\cdot {\\bf n} \\\\\n",
    "        &= \\hat{p}_{1} n_{1} + \\hat{p}_{2} n_{2} + \\hat{p}_{3} n_{3}\n",
    "\\end{align}\n",
    "\n",
    "We define [$\\hat{\\bf p}$](#hatp) and [${\\bf n}$](#n) elsewhere."
   ]
  },
  {
   "cell_type": "code",
   "execution_count": 47,
   "metadata": {},
   "outputs": [
    {
     "name": "stdout",
     "output_type": "stream",
     "text": [
      "Appending to SEOBNR/Hamiltonian.txt\n"
     ]
    }
   ],
   "source": [
    "%%writefile -a SEOBNR/Hamiltonian.txt\n",
    "\n",
    "pdotn = hatp1*n1 + hatp2*n2 + hatp3*n3"
   ]
  },
  {
   "cell_type": "markdown",
   "metadata": {},
   "source": [
    "<a id='hatp'></a>\n",
    "\n",
    "## $\\hat{\\bf p}$ \\[Back to [top](#toc)\\]\n",
    "$$\\label{hatp}$$\n",
    "\n",
    "From the discussion after BB2010 Equation (3.41), we have $\\hat{\\bf p} = {\\bf p}/m$ where $m$ is the mass of a nonspinning test particle and ${\\bf p}$ is *conjugate* momentum.  From Lines 319--321 of LALSimIMRSpinEOBHamiltonianPrec.c (<font color='red'>find a reference for this conversion?</font>)\n",
    "\n",
    "\\begin{align}\n",
    "    \\hat{\\bf p} = {\\bf p} + {\\rm prT} \\left( 1 - \\frac{1}{\\rm csi1} \\right) {\\bf n}\n",
    "\\end{align}\n",
    "\n",
    "We define [prT](#prT), [csi1](#csi1), and [${\\bf n}$](#n) elsewhere."
   ]
  },
  {
   "cell_type": "code",
   "execution_count": 48,
   "metadata": {},
   "outputs": [
    {
     "name": "stdout",
     "output_type": "stream",
     "text": [
      "Appending to SEOBNR/Hamiltonian.txt\n"
     ]
    }
   ],
   "source": [
    "%%writefile -a SEOBNR/Hamiltonian.txt\n",
    "\n",
    "hatp1 = p1 + prT*(1 - 1/csi1)*n1\n",
    "hatp1 = p2 + prT*(1 - 1/csi1)*n2\n",
    "hatp1 = p3 + prT*(1 - 1/csi1)*n3"
   ]
  },
  {
   "cell_type": "markdown",
   "metadata": {},
   "source": [
    "<a id='prT'></a>\n",
    "\n",
    "## prT \\[Back to [top](#toc)\\]\n",
    "$$\\label{prT}$$\n",
    "\n",
    "At this point I am following the LALSuite code; the conversion to EOB tortoise coordinates is apparently in [Pan et. al. 2010](https://arxiv.org/abs/0912.3466v2). (<font color='red'>Find a better/more comprehensive source?</font>)  From Line 317 of LALSimIMRSpinEOBHamiltonianPrec.c, we have\n",
    "\n",
    "\\begin{align}\n",
    "    {\\rm prT} = {\\rm csi1}\\left( p_{1} n_{1} + p_{2} n_{2} + p_{3} n_{3} \\right)\n",
    "\\end{align}\n",
    "\n",
    "We define [csi1](#csi1) and [${\\bf n}$](#n) elsewhere."
   ]
  },
  {
   "cell_type": "code",
   "execution_count": 49,
   "metadata": {},
   "outputs": [
    {
     "name": "stdout",
     "output_type": "stream",
     "text": [
      "Appending to SEOBNR/Hamiltonian.txt\n"
     ]
    }
   ],
   "source": [
    "%%writefile -a SEOBNR/Hamiltonian.txt\n",
    "\n",
    "PrT = csi1*(p1n1 + p2n2 + p3n3)"
   ]
  },
  {
   "cell_type": "markdown",
   "metadata": {},
   "source": [
    "<a id='csi1'></a>\n",
    "\n",
    "## csi1 \\[Back to [top](#toc)\\]\n",
    "$$\\label{csi1}$$\n",
    "\n",
    "At this point I am following the LALSuite code; the conversion to EOB tortoise coordinates is apparently in [Pan et. al. 2010](https://arxiv.org/abs/0912.3466v2). (<font color='red'>Find a better/more comprehensive source?</font>)  From Line 309 of LALSimIMRSpinEOBHamiltonianPrec.c, we have\n",
    "\n",
    "\\begin{equation}\n",
    "    {\\rm csi1} = 1 + \\left( 1 - \\left\\lvert 1 - \\tau \\right\\rvert \\right) \\left( csi - 1 \\right)\n",
    "\\end{equation}\n",
    "\n",
    "We define [csi](#csi) elsewhere; $\\tau$ is a tortoise coordinate ($\\tau \\in \\left\\{ 0, 1 ,2 \\right\\}$)."
   ]
  },
  {
   "cell_type": "code",
   "execution_count": 50,
   "metadata": {},
   "outputs": [
    {
     "name": "stdout",
     "output_type": "stream",
     "text": [
      "Appending to SEOBNR/Hamiltonian.txt\n"
     ]
    }
   ],
   "source": [
    "%%writefile -a SEOBNR/Hamiltonian.txt\n",
    "\n",
    "csi1 = 1 + (1 - sp.abs(1-tortoise))*(csi - 1)"
   ]
  },
  {
   "cell_type": "markdown",
   "metadata": {},
   "source": [
    "<a id='csi'></a>\n",
    "\n",
    "## csi \\[Back to [top](#toc)\\]\n",
    "$$\\label{csi}$$\n",
    "\n",
    "At this point I am following the LALSuite code; the conversion to EOB tortoise coordinates is apparently in [Pan et. al. 2010](https://arxiv.org/abs/0912.3466v2). (<font color='red'>Find a better/more comprehensive source?</font>)  From Line 307 of LALSimIMRSpinEOBHamiltonianPrec.c and Equation (28) of Pan et. al. 2010, we have\n",
    "\n",
    "\\begin{equation}\n",
    "    {\\rm csi} = \\frac{ \\sqrt{ \\Delta_{t} \\Delta_{r} } }{ \\varpi^{2} }.\n",
    "\\end{equation}\n",
    "\n",
    "We define [$\\Delta_{t}$](#Deltat), [$\\Delta_{r}$](#Deltar), and [$\\varpi^{2}$](#w2) elsewhere."
   ]
  },
  {
   "cell_type": "code",
   "execution_count": 51,
   "metadata": {},
   "outputs": [
    {
     "name": "stdout",
     "output_type": "stream",
     "text": [
      "Appending to SEOBNR/Hamiltonian.txt\n"
     ]
    }
   ],
   "source": [
    "%%writefile -a SEOBNR/Hamiltonian.txt\n",
    "\n",
    "csi = sp.sqrt(Deltar*Deltat)/w2"
   ]
  },
  {
   "cell_type": "markdown",
   "metadata": {},
   "source": [
    "<a id='xi'></a>\n",
    "\n",
    "## $\\boldsymbol{\\xi}$ \\[Back to [top](#toc)\\]\n",
    "$$\\label{xi}$$\n",
    "\n",
    "From BB2010 Equation (3.38), we have\n",
    "\n",
    "\\begin{equation}\n",
    "    \\boldsymbol{\\xi} = {\\bf e}_{3} \\times {\\bf n}.\n",
    "\\end{equation}\n",
    "\n",
    "We define [${\\bf e}_{3}$](#e3) and [${\\bf n}$](#n) elsewhere.  Note that by construction (from discussion after BB2010 Equation 5.52)\n",
    "\n",
    "\\begin{equation}\n",
    "    \\xi^{2} = \\sin^{2} \\theta.\n",
    "\\end{equation}"
   ]
  },
  {
   "cell_type": "code",
   "execution_count": 52,
   "metadata": {},
   "outputs": [
    {
     "name": "stdout",
     "output_type": "stream",
     "text": [
      "Appending to SEOBNR/Hamiltonian.txt\n"
     ]
    }
   ],
   "source": [
    "%%writefile -a SEOBNR/Hamiltonian.txt\n",
    "\n",
    "xi1 = e32*n3 - e33*n2\n",
    "xi2 = e31*n3 + e33*n1\n",
    "xi3 = e31*n2 - e32*n1\n",
    "xisq = sin2theta"
   ]
  },
  {
   "cell_type": "markdown",
   "metadata": {},
   "source": [
    "<a id='Deltat'></a>\n",
    "\n",
    "## $\\Delta_{t}$ \\[Back to [top](#toc)\\]\n",
    "$$\\label{Deltat}$$\n",
    "\n",
    "From BB2010 Equation (5.71), we have\n",
    "\n",
    "\\begin{equation}\n",
    "    \\Delta_{t} = r^{2} \\Delta_{u}.\n",
    "\\end{equation}\n",
    "\n",
    "We denote $r^{2}$ by [r2](#radius_terms) and $\\Delta_{u}(u)$ by [Deltau](#Deltau)."
   ]
  },
  {
   "cell_type": "code",
   "execution_count": 53,
   "metadata": {},
   "outputs": [
    {
     "name": "stdout",
     "output_type": "stream",
     "text": [
      "Appending to SEOBNR/Hamiltonian.txt\n"
     ]
    }
   ],
   "source": [
    "%%writefile -a SEOBNR/Hamiltonian.txt\n",
    "\n",
    "Deltat = r2*Deltau"
   ]
  },
  {
   "cell_type": "markdown",
   "metadata": {},
   "source": [
    "<a id='Deltatprm'></a>\n",
    "\n",
    "## $\\Delta_{t}^{\\prime}$ \\[Back to [top](#toc)\\]\n",
    "$$\\label{Deltatprm}$$\n",
    "\n",
    "From the discussion after BB2010 Equation (5.47), we know that the prime notation indicates a derivative with respect to $r$.  Since $\\Delta_{u}$ has no $r$ dependence, we have\n",
    "\n",
    "\\begin{equation}\n",
    "    \\Delta_{t}^{\\prime} = 2 r \\Delta_{u}.\n",
    "\\end{equation}\n",
    "\n",
    "We define [$\\Delta_{u}$](#Deltau) elsewhere."
   ]
  },
  {
   "cell_type": "code",
   "execution_count": null,
   "metadata": {},
   "outputs": [],
   "source": [
    "%%writefile -a SEOBNR/Hamiltonian.txt\n",
    "\n",
    "Deltatprm = 2*r*Deltau"
   ]
  },
  {
   "cell_type": "markdown",
   "metadata": {},
   "source": [
    "<a id='Deltau'></a>\n",
    "\n",
    "## $\\Delta_{u}$ \\[Back to [top](#toc)\\]\n",
    "$$\\label{Deltau}$$\n",
    "\n",
    "From BB2010 Equation (5.73), we have\n",
    "\n",
    "\\begin{equation}\n",
    "    \\Delta_u = \\bar{\\Delta}_{u} (u) \\left[ \\smash[b]{\\underbrace{ 1 + \\eta \\Delta_{0} + \\eta \\log \\left( 1 + \\Delta_{1} u + \\Delta_{2} u^{2} + \\Delta_{3} u^{3} + \\Delta_{4} u^{4} \\right) }_{\\Delta_{u}\\ {\\rm calibration\\ term}}} \\vphantom{\\underbrace{1}_{n}} \\right]\n",
    "\\end{equation}\n",
    "\n",
    "We denote $\\bar{\\Delta}_{u}$ by [Deltaubar](#Deltaubar) and define [$\\Delta_{u}$ calibration term](#Deltaucalib) elsewhere.  <font color='red'>Note that we take the absolute value of $\\Delta_{u}$ in the LALSuite code (see LALSimIMRSpinEOBHamiltonianPrec.c line 279.</font>"
   ]
  },
  {
   "cell_type": "code",
   "execution_count": 54,
   "metadata": {},
   "outputs": [
    {
     "name": "stdout",
     "output_type": "stream",
     "text": [
      "Appending to SEOBNR/Hamiltonian.txt\n"
     ]
    }
   ],
   "source": [
    "%%writefile -a SEOBNR/Hamiltonian.txt\n",
    "\n",
    "Deltau = Deltaubar*Deltaucalib"
   ]
  },
  {
   "cell_type": "markdown",
   "metadata": {},
   "source": [
    "<a id='Deltaucalib'></a>\n",
    "\n",
    "## $\\Delta_{u}$ Calibration Term \\[Back to [top](#toc)\\]\n",
    "$$\\label{Deltaucalib}$$\n",
    "\n",
    "From BB2010 Equation (5.73), we have\n",
    "\n",
    "\\begin{align}\n",
    "    \\Delta_u\\ {\\rm calibration\\ term} &= 1 + \\eta \\Delta_{0} + \\eta \\log \\left( 1 + \\Delta_{1} u + \\Delta_{2} u^{2} + \\Delta_{3} u^{3} + \\Delta_{4} u^{4} \\right) \\\\\n",
    "        &= 1 + \\eta \\left[ \\Delta_{0} + \\log \\left( 1 + \\Delta_{1} u + \\Delta_{2} u^{2} + \\Delta_{3} u^{3} + \\Delta_{4} u^{4} \\right) \\right].\n",
    "\\end{align}\n",
    "\n",
    "We define [$u$](#radius_terms) elsewhere.  Each of $\\Delta_{i}$, $i \\in \\left\\{0, 1, 2, 3, 4\\right\\}$ are defined [here](#calib_coeffs).  <font color='red'>Note that in the LALSuite code (see LALSimIMRSpinEOBHamiltonianPrec.c line 274 there are two more terms; whence do they originate?</font>"
   ]
  },
  {
   "cell_type": "code",
   "execution_count": 55,
   "metadata": {},
   "outputs": [
    {
     "name": "stdout",
     "output_type": "stream",
     "text": [
      "Appending to SEOBNR/Hamiltonian.txt\n"
     ]
    }
   ],
   "source": [
    "%%writefile -a SEOBNR/Hamiltonian.txt\n",
    "\n",
    "Deltaucalib = 1 + eta*(Delta0 + sp.log(1 + Delta1*u + Delta2*u2 + Delta3*u3 + Delta4*u4))"
   ]
  },
  {
   "cell_type": "markdown",
   "metadata": {},
   "source": [
    "<a id='calib_coeffs'></a>\n",
    "\n",
    "## Calibration Coefficients $\\Delta_{i}$, $i \\in \\left\\{0, 1, 2, 3, 4\\right\\}$ \\[Back to [top](#toc)\\]\n",
    "$$\\label{calib_coeffs}$$\n",
    "\n",
    "From BB2010 Equations (5.77)--(5.81), we have\n",
    "\n",
    "\\begin{align}\n",
    "    \\Delta_{0} &= K \\left( \\eta K - 2 \\right) \\\\\n",
    "    \\Delta_{1} &= -2 \\left( \\eta K - 1 \\right) \\left( K + \\Delta_{0} \\right) \\\\\n",
    "    \\Delta_{2} &= \\frac{1}{2} \\Delta_{1} \\left( -4 \\eta K + \\Delta_{1} + 4 \\right) - \\frac{ a^{2} }{ M^{2} } \\left( \\eta K - 1 \\right)^{2} \\\\\n",
    "    \\Delta_{3} &= \\frac{1}{3} \\left[ -\\Delta_{1}^{3} + 3 \\left( \\eta K - 1 \\right) \\Delta_{1}^{2} + 3 \\Delta_{2} \\Delta_{1} - 6 \\left( \\eta K - 1 \\right) \\left( -\\eta K + \\Delta_{2} + 1 \\right) - 3 \\frac{ a^{2} }{ M^{2} } \\left( \\eta K - 1 \\right)^{2} \\Delta_{1} \\right] \\\\\n",
    "    \\Delta_{4} &= \\frac{1}{12} \\left\\{ 6 \\frac{ a^{2} }{ M^{2} } \\left( \\Delta_{1}^{2} - 2 \\Delta_{2} \\right) \\left( \\eta K - 1 \\right)^{2} + 3 \\Delta_{1}^{4} - 8 \\left( \\eta K - 1 \\right) \\Delta_{1}^{3} - 12 \\Delta_{2} \\Delta_{1}^{2} + 12 \\left[ 2 \\left( \\eta K - 1 \\right) \\Delta_{2} + \\Delta_{3} \\right] \\Delta_{1} + 12 \\left( \\frac{94}{3} - \\frac{41}{32} \\pi^{2} \\right) \\left( \\eta K - 1 \\right)^{2} + 6 \\left[ \\Delta_{2}^{2} - 4 \\Delta_{3} \\left( \\eta K - 1 \\right) \\right] \\right\\}\n",
    "\\end{align}\n",
    "\n",
    "We define [$K$](#K), [$\\eta$](#mass_terms), [$a$](#a_terms), and [$M$](#mass_terms), [etaKminus1](#etaKminus1), and [a2M2inv](#a2M2inv) elsewhere."
   ]
  },
  {
   "cell_type": "code",
   "execution_count": 56,
   "metadata": {},
   "outputs": [
    {
     "name": "stdout",
     "output_type": "stream",
     "text": [
      "Appending to SEOBNR/Hamiltonian.txt\n"
     ]
    }
   ],
   "source": [
    "%%writefile -a SEOBNR/Hamiltonian.txt\n",
    "\n",
    "Delta0 = K*(eta*K - 2)\n",
    "Delta1 = -2*etaKminus1*(K + Delta0)\n",
    "Delta2 = sp.Rational(1,2)*Delta1*(-4*eta*K + Delta1 + 4) - a2M2inv*etaKminus1**2\n",
    "Delta3 = sp.Rational(1,3)*(-Delta1***3 + 3*(etaKminus1*Delta1**2 + 3*Delta2*Delta1 - 6*etaKminus1*(-eta*K + Delta2 + 1)\n",
    "                                            - 3*a2M2inv*etaKminus1**2*Delta1))\n",
    "Delta4 = sp.Rational(1,12)*(6*a2M2inv*(\\Delta1**2 - 2*Delta2)*etaKminus1**2 + 3*Delta1**4 - 8*etaKminus1*Delta1**3\n",
    "                           -12*Delta2*Delta1**2 + 12*(2*etaKminus1*Delta2 + Delta2)*Delta1\n",
    "                           + 12*(sp.Rational(94,3) - sp.Rational(41,32)*pi**2)*etaKminus1**2\n",
    "                           + 6*(Delta2**2 - 4*Delta3*etaKminus1))"
   ]
  },
  {
   "cell_type": "markdown",
   "metadata": {},
   "source": [
    "<a id='a2M2inv'></a>\n",
    "\n",
    "## a2M2inv \\[Back to [top](#toc)\\]\n",
    "$$\\label{a2M2inv}$$\n",
    "\n",
    "We have\n",
    "\n",
    "\\begin{equation}\n",
    "    {\\rm a2M2inv} = \\frac{ a^{2} }{ M^{2} }\n",
    "\\end{equation}\n",
    "\n",
    "We define [a2](#a_terms) and [$M$](#mass_terms) elsewhere."
   ]
  },
  {
   "cell_type": "code",
   "execution_count": 57,
   "metadata": {},
   "outputs": [
    {
     "name": "stdout",
     "output_type": "stream",
     "text": [
      "Appending to SEOBNR/Hamiltonian.txt\n"
     ]
    }
   ],
   "source": [
    "%%writefile -a SEOBNR/Hamiltonian.txt\n",
    "\n",
    "a2M2inv = a2/(M*M)"
   ]
  },
  {
   "cell_type": "markdown",
   "metadata": {},
   "source": [
    "<a id='Deltaubar'></a>\n",
    "\n",
    "## $\\bar{\\Delta}_{u}$ \\[Back to [top](#toc)\\]\n",
    "$$\\label{Deltaubar}$$\n",
    "\n",
    "From BB2010 Equation (5.75), we have\n",
    "\n",
    "\\begin{equation}\n",
    "    \\bar{\\Delta}_u = \\frac{ a^{2} u^{2} }{ M^{2} } + \\frac{ 1 }{ \\eta K - 1 } \\left( 2 u + \\frac{ 1 }{ \\eta K - 1 } \\right)\n",
    "\\end{equation}\n",
    "\n",
    "We denote $a^{2}$ by [a2](#a_terms), $u^{2}$ by [u2](#radius_terms), and $\\frac{ 1 }{ \\eta K - 1 }$ by [etaKminus1inv](#etaKminus1)."
   ]
  },
  {
   "cell_type": "code",
   "execution_count": 58,
   "metadata": {},
   "outputs": [
    {
     "name": "stdout",
     "output_type": "stream",
     "text": [
      "Appending to SEOBNR/Hamiltonian.txt\n"
     ]
    }
   ],
   "source": [
    "%%writefile -a SEOBNR/Hamiltonian.txt\n",
    "\n",
    "Deltaubar = s2*u2/(M*M) + etaKminus1inv*(2u + etaKminus1inv)"
   ]
  },
  {
   "cell_type": "markdown",
   "metadata": {},
   "source": [
    "<a id='etaKminus1inv'></a>\n",
    "\n",
    "## $\\frac{ 1 }{ \\eta K - 1 }$ \\[Back to [top](#toc)\\]\n",
    "$$\\label{etaKminus1inv}$$\n",
    "\n",
    "We write\n",
    "\n",
    "\\begin{equation}\n",
    "    {\\rm etaKminus1inv} = \\frac{ 1 }{ \\underbrace{\\eta K - 1}_{\\rm etaKminus1} }\n",
    "\\end{equation}\n",
    "\n",
    "We define [etaKminus1](#etaKminus1) elsewhere."
   ]
  },
  {
   "cell_type": "code",
   "execution_count": 59,
   "metadata": {},
   "outputs": [
    {
     "name": "stdout",
     "output_type": "stream",
     "text": [
      "Appending to SEOBNR/Hamiltonian.txt\n"
     ]
    }
   ],
   "source": [
    "%%writefile -a SEOBNR/Hamiltonian.txt\n",
    "\n",
    "etaKminus1inv = 1/etaKminus1"
   ]
  },
  {
   "cell_type": "markdown",
   "metadata": {},
   "source": [
    "<a id='etaKminus1'></a>\n",
    "\n",
    "## $\\eta K - 1$ \\[Back to [top](#toc)\\]\n",
    "$$\\label{etaKminus1}$$\n",
    "\n",
    "We write\n",
    "\n",
    "\\begin{equation}\n",
    "    {\\rm etaKminus1} = \\eta K - 1\n",
    "\\end{equation}\n",
    "\n",
    "We define [$\\eta$](#mass_terms) and [$K$](#K) elsewhere."
   ]
  },
  {
   "cell_type": "code",
   "execution_count": 60,
   "metadata": {},
   "outputs": [
    {
     "name": "stdout",
     "output_type": "stream",
     "text": [
      "Appending to SEOBNR/Hamiltonian.txt\n"
     ]
    }
   ],
   "source": [
    "%%writefile -a SEOBNR/Hamiltonian.txt\n",
    "\n",
    "etaKminus1 = eta*K - 1"
   ]
  },
  {
   "cell_type": "markdown",
   "metadata": {},
   "source": [
    "<a id='K'></a>\n",
    "\n",
    "## $K$ \\[Back to [top](#toc)\\]\n",
    "$$\\label{K}$$\n",
    "\n",
    "Following the discussion in the two paragrahs after BB2010 Equation (6.11), we have\n",
    "\n",
    "\\begin{equation}\n",
    "    K = 1.4467 \\left( 1 - 4 \\eta \\right)^{2} + 4 \\left( 1 - 2 \\eta \\right) \\eta.\n",
    "\\end{equation}\n",
    "\n",
    "We define [$\\eta$](#mass_terms) elsewhere."
   ]
  },
  {
   "cell_type": "code",
   "execution_count": 61,
   "metadata": {},
   "outputs": [
    {
     "name": "stdout",
     "output_type": "stream",
     "text": [
      "Appending to SEOBNR/Hamiltonian.txt\n"
     ]
    }
   ],
   "source": [
    "%%writefile -a SEOBNR/Hamiltonian.txt\n",
    "\n",
    "K = 1.4467*(1 - 4*eta)**2 + 4*(1 - 2*eta)*eta"
   ]
  },
  {
   "cell_type": "markdown",
   "metadata": {},
   "source": [
    "<a id='a_terms'></a>\n",
    "\n",
    "## $a$ and $a^{2}$ \\[Back to [top](#toc)\\]\n",
    "$$\\label{a_terms}$$\n",
    "\n",
    "From BB2010 Equation (4.9), we have\n",
    "\n",
    "\\begin{equation}\n",
    "    a = \\frac{ \\left\\lvert {\\bf S}_{\\rm Kerr} \\right\\rvert }{ M } = \\frac{ \\sqrt{ {\\bf S}_{\\rm Kerr}^{1} {\\bf S}_{\\rm Kerr}^{1} + {\\bf S}_{\\rm Kerr}^{2} {\\bf S}_{\\rm Kerr}^{2} + {\\bf S}_{\\rm Kerr}^{3} {\\bf S}_{\\rm Kerr}^{3} } }{ M }\n",
    "\\end{equation}\n",
    "\n",
    "whence\n",
    "\n",
    "\\begin{equation}\n",
    "    a^{2} = \\frac{ {\\bf S}_{\\rm Kerr}^{1} {\\bf S}_{\\rm Kerr}^{1} + {\\bf S}_{\\rm Kerr}^{2} {\\bf S}_{\\rm Kerr}^{2} + {\\bf S}_{\\rm Kerr}^{3} {\\bf S}_{\\rm Kerr}^{3} }{ M^{2} }.\n",
    "\\end{equation}\n",
    "\n",
    "We define [${\\bf S}_{\\rm Kerr}$](#Hreal_spin_combos) elsewhere."
   ]
  },
  {
   "cell_type": "code",
   "execution_count": 62,
   "metadata": {},
   "outputs": [
    {
     "name": "stdout",
     "output_type": "stream",
     "text": [
      "Appending to SEOBNR/Hamiltonian.txt\n"
     ]
    }
   ],
   "source": [
    "%%writefile -a SEOBNR/Hamiltonian.txt\n",
    "\n",
    "a2 = (Skerr1*Skerr1 + Skerr2*Skerr2 + Skerr3*Skerr3) / (M*M)\n",
    "a = sp.sqrt(a2)"
   ]
  },
  {
   "cell_type": "markdown",
   "metadata": {},
   "source": [
    "<a id='dotproducts'></a>\n",
    "\n",
    "# Step U: Dot Productions \\[Back to [top](#toc)\\]\n",
    "$$\\label{dotproducts}$$\n",
    "\n",
    "We collect there various common dot products found in the computation of [$H_{\\rm real}$](#Hreal)."
   ]
  },
  {
   "cell_type": "markdown",
   "metadata": {},
   "source": [
    "<a id='Sdotxi'></a>\n",
    "### ${\\bf S} \\cdot \\boldsymbol{\\xi}$ \\[Back to [top](#toc)\\]\n",
    "$$\\label{Sdotxi}$$\n",
    "\n",
    "We have\n",
    "\n",
    "\\begin{equation}\n",
    "    {\\bf S} \\cdot \\boldsymbol{\\xi} = {\\bf S}^{1} \\xi^{1} + {\\bf S}^{2} \\xi^{2} + {\\bf S}^{3} \\xi^{3}\n",
    "\\end{equation}\n",
    "\n",
    "We define [$\\xi$](#xi) elsewhere."
   ]
  },
  {
   "cell_type": "code",
   "execution_count": 1,
   "metadata": {},
   "outputs": [
    {
     "name": "stdout",
     "output_type": "stream",
     "text": [
      "Writing SEOBNR/Hamiltonian.txt\n"
     ]
    },
    {
     "ename": "IOError",
     "evalue": "[Errno 2] No such file or directory: 'SEOBNR/Hamiltonian.txt'",
     "output_type": "error",
     "traceback": [
      "\u001b[0;31m---------------------------------------------------------------------------\u001b[0m",
      "\u001b[0;31mIOError\u001b[0m                                   Traceback (most recent call last)",
      "\u001b[0;32m<ipython-input-1-f72b59ef7966>\u001b[0m in \u001b[0;36m<module>\u001b[0;34m()\u001b[0m\n\u001b[0;32m----> 1\u001b[0;31m \u001b[0mget_ipython\u001b[0m\u001b[0;34m(\u001b[0m\u001b[0;34m)\u001b[0m\u001b[0;34m.\u001b[0m\u001b[0mrun_cell_magic\u001b[0m\u001b[0;34m(\u001b[0m\u001b[0;34mu'writefile'\u001b[0m\u001b[0;34m,\u001b[0m \u001b[0;34mu'-a SEOBNR/Hamiltonian.txt'\u001b[0m\u001b[0;34m,\u001b[0m \u001b[0;34mu'\\nSdotxi = S1*xi1 + S2*xi2 + S3*xi3'\u001b[0m\u001b[0;34m)\u001b[0m\u001b[0;34m\u001b[0m\u001b[0m\n\u001b[0m",
      "\u001b[0;32m/Users/K/jup/lib/python2.7/site-packages/IPython/core/interactiveshell.pyc\u001b[0m in \u001b[0;36mrun_cell_magic\u001b[0;34m(self, magic_name, line, cell)\u001b[0m\n\u001b[1;32m   2115\u001b[0m             \u001b[0mmagic_arg_s\u001b[0m \u001b[0;34m=\u001b[0m \u001b[0mself\u001b[0m\u001b[0;34m.\u001b[0m\u001b[0mvar_expand\u001b[0m\u001b[0;34m(\u001b[0m\u001b[0mline\u001b[0m\u001b[0;34m,\u001b[0m \u001b[0mstack_depth\u001b[0m\u001b[0;34m)\u001b[0m\u001b[0;34m\u001b[0m\u001b[0m\n\u001b[1;32m   2116\u001b[0m             \u001b[0;32mwith\u001b[0m \u001b[0mself\u001b[0m\u001b[0;34m.\u001b[0m\u001b[0mbuiltin_trap\u001b[0m\u001b[0;34m:\u001b[0m\u001b[0;34m\u001b[0m\u001b[0m\n\u001b[0;32m-> 2117\u001b[0;31m                 \u001b[0mresult\u001b[0m \u001b[0;34m=\u001b[0m \u001b[0mfn\u001b[0m\u001b[0;34m(\u001b[0m\u001b[0mmagic_arg_s\u001b[0m\u001b[0;34m,\u001b[0m \u001b[0mcell\u001b[0m\u001b[0;34m)\u001b[0m\u001b[0;34m\u001b[0m\u001b[0m\n\u001b[0m\u001b[1;32m   2118\u001b[0m             \u001b[0;32mreturn\u001b[0m \u001b[0mresult\u001b[0m\u001b[0;34m\u001b[0m\u001b[0m\n\u001b[1;32m   2119\u001b[0m \u001b[0;34m\u001b[0m\u001b[0m\n",
      "\u001b[0;32m</Users/K/jup/lib/python2.7/site-packages/decorator.pyc:decorator-gen-104>\u001b[0m in \u001b[0;36mwritefile\u001b[0;34m(self, line, cell)\u001b[0m\n",
      "\u001b[0;32m/Users/K/jup/lib/python2.7/site-packages/IPython/core/magic.pyc\u001b[0m in \u001b[0;36m<lambda>\u001b[0;34m(f, *a, **k)\u001b[0m\n\u001b[1;32m    186\u001b[0m     \u001b[0;31m# but it's overkill for just that one bit of state.\u001b[0m\u001b[0;34m\u001b[0m\u001b[0;34m\u001b[0m\u001b[0m\n\u001b[1;32m    187\u001b[0m     \u001b[0;32mdef\u001b[0m \u001b[0mmagic_deco\u001b[0m\u001b[0;34m(\u001b[0m\u001b[0marg\u001b[0m\u001b[0;34m)\u001b[0m\u001b[0;34m:\u001b[0m\u001b[0;34m\u001b[0m\u001b[0m\n\u001b[0;32m--> 188\u001b[0;31m         \u001b[0mcall\u001b[0m \u001b[0;34m=\u001b[0m \u001b[0;32mlambda\u001b[0m \u001b[0mf\u001b[0m\u001b[0;34m,\u001b[0m \u001b[0;34m*\u001b[0m\u001b[0ma\u001b[0m\u001b[0;34m,\u001b[0m \u001b[0;34m**\u001b[0m\u001b[0mk\u001b[0m\u001b[0;34m:\u001b[0m \u001b[0mf\u001b[0m\u001b[0;34m(\u001b[0m\u001b[0;34m*\u001b[0m\u001b[0ma\u001b[0m\u001b[0;34m,\u001b[0m \u001b[0;34m**\u001b[0m\u001b[0mk\u001b[0m\u001b[0;34m)\u001b[0m\u001b[0;34m\u001b[0m\u001b[0m\n\u001b[0m\u001b[1;32m    189\u001b[0m \u001b[0;34m\u001b[0m\u001b[0m\n\u001b[1;32m    190\u001b[0m         \u001b[0;32mif\u001b[0m \u001b[0mcallable\u001b[0m\u001b[0;34m(\u001b[0m\u001b[0marg\u001b[0m\u001b[0;34m)\u001b[0m\u001b[0;34m:\u001b[0m\u001b[0;34m\u001b[0m\u001b[0m\n",
      "\u001b[0;32m/Users/K/jup/lib/python2.7/site-packages/IPython/core/magics/osm.pyc\u001b[0m in \u001b[0;36mwritefile\u001b[0;34m(self, line, cell)\u001b[0m\n\u001b[1;32m    787\u001b[0m \u001b[0;34m\u001b[0m\u001b[0m\n\u001b[1;32m    788\u001b[0m         \u001b[0mmode\u001b[0m \u001b[0;34m=\u001b[0m \u001b[0;34m'a'\u001b[0m \u001b[0;32mif\u001b[0m \u001b[0margs\u001b[0m\u001b[0;34m.\u001b[0m\u001b[0mappend\u001b[0m \u001b[0;32melse\u001b[0m \u001b[0;34m'w'\u001b[0m\u001b[0;34m\u001b[0m\u001b[0m\n\u001b[0;32m--> 789\u001b[0;31m         \u001b[0;32mwith\u001b[0m \u001b[0mio\u001b[0m\u001b[0;34m.\u001b[0m\u001b[0mopen\u001b[0m\u001b[0;34m(\u001b[0m\u001b[0mfilename\u001b[0m\u001b[0;34m,\u001b[0m \u001b[0mmode\u001b[0m\u001b[0;34m,\u001b[0m \u001b[0mencoding\u001b[0m\u001b[0;34m=\u001b[0m\u001b[0;34m'utf-8'\u001b[0m\u001b[0;34m)\u001b[0m \u001b[0;32mas\u001b[0m \u001b[0mf\u001b[0m\u001b[0;34m:\u001b[0m\u001b[0;34m\u001b[0m\u001b[0m\n\u001b[0m\u001b[1;32m    790\u001b[0m             \u001b[0mf\u001b[0m\u001b[0;34m.\u001b[0m\u001b[0mwrite\u001b[0m\u001b[0;34m(\u001b[0m\u001b[0mcell\u001b[0m\u001b[0;34m)\u001b[0m\u001b[0;34m\u001b[0m\u001b[0m\n",
      "\u001b[0;31mIOError\u001b[0m: [Errno 2] No such file or directory: 'SEOBNR/Hamiltonian.txt'"
     ]
    }
   ],
   "source": [
    "%%writefile -a SEOBNR/Hamiltonian.txt\n",
    "\n",
    "Sdotxi = S1*xi1 + S2*xi2 + S3*xi3"
   ]
  },
  {
   "cell_type": "markdown",
   "metadata": {},
   "source": [
    "<a id='Hreal_spin_combos'></a>\n",
    "\n",
    "# Step N-3: $H_{\\rm real}$ Spin Combinations ${\\bf S}^{*}$ and ${\\bf S}_{\\rm Kerr}$ \\[Back to [top](#toc)\\]\n",
    "$$\\label{Hreal_spin_combos}$$\n",
    "\n",
    "From BB2010 Equation (5.63):\n",
    "\n",
    "\\begin{equation}\n",
    "    {\\bf S}^{*} = \\boldsymbol{\\sigma}^{*} + \\frac{ 1 }{ c^{2} } \\boldsymbol{\\Delta}_{\\sigma^{*}}.\n",
    "\\end{equation}\n",
    "\n",
    "We define [$\\boldsymbol{\\sigma}^{*}$](#Heff_spin_combos) and [$\\boldsymbol{\\Delta}_{\\sigma^{*}}$](#Deltasigmastar) elsewhere.\n",
    "\n",
    "From BB2010 Equation (5.64):\n",
    "\n",
    "\\begin{equation}\n",
    "    {\\bf S}_{\\rm Kerr} = \\boldsymbol{\\sigma} + \\frac{ 1 }{ c^{2} } \\boldsymbol{\\Delta}_{\\sigma}.\n",
    "\\end{equation}\n",
    "\n",
    "We define [$\\boldsymbol{\\sigma}$](#Heff_spin_combos) elsewhere.  In BB2010 Equation (5.67), $\\boldsymbol{\\Delta}_{\\sigma} = 0$.  Furthermore, we take $c = 1$."
   ]
  },
  {
   "cell_type": "code",
   "execution_count": 63,
   "metadata": {},
   "outputs": [
    {
     "name": "stdout",
     "output_type": "stream",
     "text": [
      "Appending to SEOBNR/Hamiltonian.txt\n"
     ]
    }
   ],
   "source": [
    "%%writefile -a SEOBNR/Hamiltonian.txt\n",
    "\n",
    "Sstar1 = sigmastar1 + Deltasigmastar1\n",
    "Sstar2 = sigmastar2 + Deltasigmastar2\n",
    "Sstar3 = sigmastar3 + Deltasigmastar3\n",
    "Skerr1 = sigma1\n",
    "Skerr2 = sigma2\n",
    "Skerr3 = sigma3"
   ]
  },
  {
   "cell_type": "markdown",
   "metadata": {},
   "source": [
    "<a id='Heff_spin_combos'></a>\n",
    "\n",
    "# Step N-2: $H_{\\rm eff}$ Spin Combinations $\\boldsymbol{\\sigma}$ and $\\boldsymbol{\\sigma}^{*}$ \\[Back to [top](#toc)\\]\n",
    "$$\\label{Heff_spin_combos}$$\n",
    "\n",
    "From BB2010 Equation (5.2):\n",
    "\n",
    "\\begin{equation}\n",
    "    \\boldsymbol{\\sigma} = {\\bf S}_{1} + {\\bf S}_{2}.\n",
    "\\end{equation}\n",
    "\n",
    "From BB2010 Equation (5.3):\n",
    "\n",
    "\\begin{equation}\n",
    "    \\boldsymbol{\\sigma}^{*} = \\frac{ m_{2} }{ m_{1} } {\\bf S}_{1} + \\frac{ m_{1} }{ m_{2} }{\\bf S}_{2}.\n",
    "\\end{equation}\n",
    "\n",
    "These are both written completely in terms of intrinsic physical parameters."
   ]
  },
  {
   "cell_type": "code",
   "execution_count": 64,
   "metadata": {},
   "outputs": [
    {
     "name": "stdout",
     "output_type": "stream",
     "text": [
      "Appending to SEOBNR/Hamiltonian.txt\n"
     ]
    }
   ],
   "source": [
    "%%writefile -a SEOBNR/Hamiltonian.txt\n",
    "\n",
    "sigma1 = S1x + S2x\n",
    "sigma2 = S1y + S2y\n",
    "sigma3 = S3z + S3z\n",
    "sigmastar1 = m2/m1*S1x + m1/m2*S2x\n",
    "sigmastar2 = m2/m1*S1y + m1/m2*S2y\n",
    "sigmastar3 = m2/m1*S1z + m1/m2*S2z"
   ]
  },
  {
   "cell_type": "markdown",
   "metadata": {},
   "source": [
    "<a id='mass_terms'></a>\n",
    "\n",
    "# Step N-1: Mass Terms $\\mu$, $M$, and $\\eta$ \\[Back to [top](#toc)\\]\n",
    "$$\\label{mass_terms}$$\n",
    "\n",
    "Each of the terms $\\mu$, $M$, and $\\eta$ are combinations of the massess $m_{1}$, $m_{2}$ and are defined in the discussion before BB2010 Equation (5.1):\n",
    "\n",
    "\\begin{align}\n",
    "    M &= m_{1} + m_{2} \\\\\n",
    "    \\mu &= \\frac{ m_{1} m_{2} }{ M } \\\\\n",
    "    \\eta &= \\frac{ \\mu }{ M }.\n",
    "\\end{align}\n",
    "\n",
    "Written completely in terms of the intrinsic physical parameters,\n",
    "\n",
    "\\begin{align}\n",
    "    \\mu &= \\frac{ m_{2} m_{2} }{ m_{1} + m_{2} } \\\\\n",
    "    \\eta &= \\frac{ m_{1} m_{2} }{ \\left( m_{1} + m_{2} \\right)^{2} }.\n",
    "\\end{align}"
   ]
  },
  {
   "cell_type": "code",
   "execution_count": 65,
   "metadata": {},
   "outputs": [
    {
     "name": "stdout",
     "output_type": "stream",
     "text": [
      "Appending to SEOBNR/Hamiltonian.txt\n"
     ]
    }
   ],
   "source": [
    "%%writefile -a SEOBNR/Hamiltonian.txt\n",
    "\n",
    "eta = mu/M\n",
    "mu = m1*m2/M\n",
    "M = m1 + m2"
   ]
  },
  {
   "cell_type": "markdown",
   "metadata": {},
   "source": [
    "<a id='radius_terms'></a>\n",
    "\n",
    "# Step ?: Radius Terms $u$ \\[Back to [top](#toc)\\]\n",
    "$$\\label{radius_terms}$$\n",
    "\n",
    "Each of the terms $u$, $u2$, $u3$, $u4$, and $u5$ are powers of $r^{-1}$:\n",
    "\n",
    "\\begin{align}\n",
    "    u &= \\frac{ 1 }{ r } \\\\\n",
    "    u2 &= u^{2} \\\\\n",
    "    u3 &= u^{3} \\\\\n",
    "    u4 &= u^{4} \\\\\n",
    "    u5 &= u^{5}.\n",
    "\\end{align}\n",
    "\n",
    "To save a few FLOPs, we also collect powers of $r$:\n",
    "\n",
    "\\begin{align}\n",
    "    r2 &= r^{2} \\\\\n",
    "    r3 &= r^{3}.\n",
    "\\end{align}"
   ]
  },
  {
   "cell_type": "code",
   "execution_count": 66,
   "metadata": {},
   "outputs": [
    {
     "name": "stdout",
     "output_type": "stream",
     "text": [
      "Appending to SEOBNR/Hamiltonian.txt\n"
     ]
    }
   ],
   "source": [
    "%%writefile -a SEOBNR/Hamiltonian.txt\n",
    "\n",
    "u = 1/r\n",
    "u2 = u*u\n",
    "u3 = u2*u\n",
    "u4 = u3*u\n",
    "u5 = u4*u\n",
    "r2 = r*r\n",
    "r3 = r2*r"
   ]
  },
  {
   "cell_type": "markdown",
   "metadata": {},
   "source": [
    "<a id='metric'></a>\n",
    "\n",
    "# Step N: The Metric $g$ of Choice \\[Back to [top](#toc)\\]\n",
    "$$\\label{metric}$$\n",
    "\n",
    "In BB2010 Equations (5.36a)--(5.36e), we are given the appropriate choice of metric via\n",
    "\n",
    "\\begin{align}\n",
    "    g^{tt} &= -\\frac{ \\Lambda_{t} }{ \\Delta_{t} \\Sigma } \\\\\n",
    "    g^{rr} &= \\frac{ \\Delta_{r} }{ \\Sigma } \\\\\n",
    "    g^{\\theta\\theta} &= \\frac{ 1 }{ \\Sigma } \\\\\n",
    "    g^{\\phi\\phi} &= \\frac{ 1 }{ \\Lambda_{t} } \\left( -\\frac{ \\tilde{\\omega}_{\\rm fd}^{2} }{ \\Delta_{t} \\Sigma } + \\frac{ \\Sigma }{ \\sin^{2} \\theta } \\right) \\\\\n",
    "    g^{t\\phi} &= -\\frac{ \\tilde{\\omega}_{\\rm fd} }{ \\Delta_{t} \\Sigma }\n",
    "\\end{align}\n",
    "\n",
    "We define [$\\Lambda_{t}$](#Lambda), [$\\Delta_{t}$](#Deltat), [$\\Sigma$](#Sigma), [$\\Delta_{r}$](#Deltar), [$\\tilde{\\omega}_{\\rm fd}$](#omegatilde) elsewhere."
   ]
  },
  {
   "cell_type": "code",
   "execution_count": 67,
   "metadata": {},
   "outputs": [
    {
     "name": "stdout",
     "output_type": "stream",
     "text": [
      "Appending to SEOBNR/Hamiltonian.txt\n"
     ]
    }
   ],
   "source": [
    "%%writefile -a SEOBNR/Hamiltonian.txt\n",
    "\n",
    "gtt = -Lambda/Deltat/Sigma\n",
    "grr = Deltar/Sigma\n",
    "ghh = 1/Sigma\n",
    "gpp = 1/Lambda*(-omegatilda**2/Deltat/Sigma + Sigma/(sintheta**2))\n",
    "gtp = -omegatilde/Deltat/Sigma"
   ]
  },
  {
   "cell_type": "markdown",
   "metadata": {},
   "source": [
    "<a id='Sstardotn'></a>\n",
    "\n",
    "### ${\\bf S}^{*} \\cdot {\\bf n}$ \\[Back to [top](#toc)\\]\n",
    "$$\\label{Sstardotn}$$\n",
    "\n",
    "We have\n",
    "\n",
    "\\begin{equation}\n",
    "    {\\bf S}^{*} \\cdot {\\bf n} = {\\bf S}^{*}_{1} n_{1} + {\\bf S}^{*}_{2} n_{2} + {\\bf S}^{*}_{3} n_{3}\n",
    "\\end{equation}\n",
    "\n",
    "with [${\\bf S}^{*}$](#Hreal_spin_combos) and [${\\bf n}$](#n) defined later."
   ]
  },
  {
   "cell_type": "code",
   "execution_count": 68,
   "metadata": {},
   "outputs": [
    {
     "name": "stdout",
     "output_type": "stream",
     "text": [
      "Appending to SEOBNR/Hamiltonian.txt\n"
     ]
    }
   ],
   "source": [
    "%%writefile -a SEOBNR/Hamiltonian.txt\n",
    "\n",
    "Sstardotn = Sstar1*n1 + Sstar2*n2 + Sstar3*n3"
   ]
  },
  {
   "cell_type": "markdown",
   "metadata": {},
   "source": [
    "<a id='n'></a>\n",
    "\n",
    "## ${\\bf n}$ \\[Back to [top](#toc)\\]\n",
    "$$\\label{n}$$\n",
    "\n",
    "From BB2010 Equation (3.37), we have\n",
    "\n",
    "\\begin{equation}\n",
    "    {\\bf n} = \\frac{\\bf x }{ r }\n",
    "\\end{equation}\n",
    "\n",
    "where $r = \\left\\lvert {\\bf x} \\right\\rvert$ and ${\\bf x} = (x, y, z)$."
   ]
  },
  {
   "cell_type": "code",
   "execution_count": 69,
   "metadata": {},
   "outputs": [
    {
     "name": "stdout",
     "output_type": "stream",
     "text": [
      "Appending to SEOBNR/Hamiltonian.txt\n"
     ]
    }
   ],
   "source": [
    "%%writefile -a SEOBNR/Hamiltonian.txt\n",
    "\n",
    "n1 = x/r\n",
    "n2 = y/r\n",
    "n3 = z/r"
   ]
  },
  {
   "cell_type": "markdown",
   "metadata": {},
   "source": [
    "<a id='Deltasigmastar'></a>\n",
    "\n",
    "### $\\boldsymbol{\\Delta}_{\\sigma^{*}}$ \\[Back to [top](#toc)\\]\n",
    "$$\\label{Deltasigmastar}$$\n",
    "\n",
    "We can write $\\boldsymbol{\\Delta}_{\\sigma^{*}}$ as\n",
    "\n",
    "\\begin{equation}\n",
    "    \\boldsymbol{\\Delta}_{\\sigma^{*}} = \\boldsymbol{\\sigma}^{*} \\left( \\boldsymbol{\\sigma}^{*}\\ {\\rm coefficient} \\right) + \\boldsymbol{\\sigma} \\left( \\boldsymbol{\\sigma}\\ {\\rm coefficient} \\right)\n",
    "\\end{equation}\n",
    "\n",
    "For further dissection, see [$\\boldsymbol{\\sigma}^{*}$](#Heff_spin_combos), [$\\boldsymbol{\\sigma}^{*}\\ {\\rm coefficient}$](#sigmastarcoeff) and [$\\boldsymbol{\\sigma}$](#Heff_spin_combos), and [$\\boldsymbol{\\sigma}\\ {\\rm coefficient}$](#sigmacoeff)."
   ]
  },
  {
   "cell_type": "code",
   "execution_count": 70,
   "metadata": {},
   "outputs": [
    {
     "name": "stdout",
     "output_type": "stream",
     "text": [
      "Appending to SEOBNR/Hamiltonian.txt\n"
     ]
    }
   ],
   "source": [
    "%%writefile -a SEOBNR/Hamiltonian.txt\n",
    "\n",
    "Deltasigmastar1 = sigmastar1*sigmastarcoeff + sigma1*sigmacoeff\n",
    "Deltasigmastar2 = sigmastar2*sigmastarcoeff + sigma2*sigmacoeff\n",
    "Deltasigmastar3 = sigmastar3*sigmastarcoeff + sigma3*sigmacoeff"
   ]
  },
  {
   "cell_type": "markdown",
   "metadata": {},
   "source": [
    "<a id='sigmastarcoeff'></a>\n",
    "\n",
    "### $\\boldsymbol{\\sigma}^{*}$ coefficient \\[Back to [top](#toc)\\]\n",
    "$$\\label{sigmastarcoeff}$$\n",
    "\n",
    "We will break down both $\\boldsymbol{\\sigma}^{*}\\ {\\rm coefficient}$ into three terms:\n",
    "\n",
    "\\begin{equation}\n",
    "    \\boldsymbol{\\sigma}^{*}\\ {\\rm coefficient} = \\boldsymbol{\\sigma}^{*}\\ {\\rm coefficient\\ Term\\ 1} + \\boldsymbol{\\sigma}^{*}\\ {\\rm coefficient\\ Term\\ 2} + \\boldsymbol{\\sigma}^{*}\\ {\\rm coefficient\\ Term\\ 3}\n",
    "\\end{equation}\n",
    "\n",
    "See [$\\boldsymbol{\\sigma}^{*}$ coefficient Term 1](#sigmastarcoeffTerm1), [$\\boldsymbol{\\sigma}^{*}$ coefficient Term 2](#sigmastarcoeffTerm2), and [$\\boldsymbol{\\sigma}^{*}$ coefficient Term 3](#sigmastarcoeffTerm3)."
   ]
  },
  {
   "cell_type": "code",
   "execution_count": 71,
   "metadata": {},
   "outputs": [
    {
     "name": "stdout",
     "output_type": "stream",
     "text": [
      "Appending to SEOBNR/Hamiltonian.txt\n"
     ]
    }
   ],
   "source": [
    "%%writefile -a SEOBNR/Hamiltonian.txt\n",
    "\n",
    "sigmastarcoeff = sigmastarcoeffTerm1 + sigmastarcoeffTerm2 + sigmastarcoeffTerm3"
   ]
  },
  {
   "cell_type": "markdown",
   "metadata": {},
   "source": [
    "<a id='sigmacoeff'></a>\n",
    "\n",
    "### $\\boldsymbol{\\sigma}$ coefficient \\[Back to [top](#toc)\\]\n",
    "$$\\label{sigmacoeff}$$\n",
    "\n",
    "We will break down $\\boldsymbol{\\sigma}\\ {\\rm coefficient}$ into three terms:\n",
    "\n",
    "\\begin{equation}\n",
    "    \\boldsymbol{\\sigma}\\ {\\rm coefficient} = \\boldsymbol{\\sigma}\\ {\\rm coefficient\\ Term\\ 1} + \\boldsymbol{\\sigma}\\ {\\rm coefficient\\ Term\\ 2} + \\boldsymbol{\\sigma}\\ {\\rm coefficient\\ Term\\ 3}\n",
    "\\end{equation}\n",
    "\n",
    "See [$\\boldsymbol{\\sigma}$ coefficient Term 1](#sigmacoeffTerm1), [$\\boldsymbol{\\sigma}$ coefficient Term 2](#sigmacoeffTerm2), and [$\\boldsymbol{\\sigma}$ coefficient Term 3](#sigmacoeffTerm3)."
   ]
  },
  {
   "cell_type": "code",
   "execution_count": 72,
   "metadata": {},
   "outputs": [
    {
     "name": "stdout",
     "output_type": "stream",
     "text": [
      "Appending to SEOBNR/Hamiltonian.txt\n"
     ]
    }
   ],
   "source": [
    "%%writefile -a SEOBNR/Hamiltonian.txt\n",
    "\n",
    "sigmacoeff = sigmacoeffTerm1 + sigmacoeffTerm2 + sigmacoeffTerm3"
   ]
  },
  {
   "cell_type": "markdown",
   "metadata": {},
   "source": [
    "<a id='sigmastarcoeffTerm1'></a>\n",
    "\n",
    "### $\\boldsymbol{\\sigma}^{*}$ Coefficient Term 1 \\[Back to [top](#toc)\\]\n",
    "$$\\label{sigmastarcoeffTerm1}$$\n",
    "\n",
    "We build this term from BB2011 Equation (51) with $b_{0} = 0$ (<font color='red'>why?</font>), where what is listed below is the coefficient on $\\boldsymbol{\\sigma}^{*}$:\n",
    "\n",
    "\\begin{align}\n",
    "    \\boldsymbol{\\sigma}^{*}\\ {\\rm coefficient\\ Term\\ 1} &= \\frac{7}{6} \\eta \\frac{M}{r} + \\frac{1}{3} \\eta \\left( Q - 1 \\right) - \\frac{5}{2} \\eta \\frac{ \\Delta_r }{ \\Sigma } \\left( {\\bf n} \\cdot \\hat{\\bf p} \\right)^{2} \\\\\n",
    "        &= \\frac{ \\eta }{ 12 } \\left( 14 \\frac{ M }{ r } + 4 \\left( Q - 1 \\right) - 30 \\frac{ \\Delta_r }{ \\Sigma } \\left( {\\bf n} \\cdot \\hat{\\bf p} \\right)^{2} \\right)\n",
    "\\end{align}\n",
    "\n",
    "We group together the following: $Q-1$ as [Qminus1](#Qminus1) and $\\frac{ \\Delta_r }{ \\Sigma }$ as [$DrSinp2$](#DrSinp2).  We define [$\\eta$](#mass_terms) and [$M$](#mass_terms) elsewhere."
   ]
  },
  {
   "cell_type": "code",
   "execution_count": 73,
   "metadata": {},
   "outputs": [
    {
     "name": "stdout",
     "output_type": "stream",
     "text": [
      "Appending to SEOBNR/Hamiltonian.txt\n"
     ]
    }
   ],
   "source": [
    "%%writefile -a SEOBNR/Hamiltonian.txt\n",
    "\n",
    "sigmastarcoeffTerm1 = eta/12*(14*M/r + 4*Qminus1 - 30*DrSinp2)"
   ]
  },
  {
   "cell_type": "markdown",
   "metadata": {},
   "source": [
    "<a id='sigmastarcoeffTerm2'></a>\n",
    "\n",
    "### $\\boldsymbol{\\sigma}^{*}$ Coefficient Term 2 \\[Back to [top](#toc)\\]\n",
    "$$\\label{sigmastarcoeffTerm2}$$\n",
    "\n",
    "We build this term from BB2011 Equation (52) with all $b_{i} = 0$, $i \\in \\left\\{0, 1, 2, 3\\right\\}$ (<font color='red'>why?</font>), and just the coefficient on $\\boldsymbol{\\sigma}^{*}$.  In the LALSuite code this is the variable 'sMultiplier1':\n",
    "\n",
    "\\begin{align}\n",
    "    \\boldsymbol{\\sigma}^{*}\\ {\\rm coefficient\\ Term\\ 2} &= \\frac{1}{36} \\left( 353 \\eta - 27 \\eta^2 \\right) \\left( \\frac{M}{r} \\right)^{2} + \\frac{5}{3} \\left( 3 \\eta^2 \\right) \\frac{ \\Delta_{r}^{2} }{ \\Sigma^{2} } \\left( {\\bf n} \\cdot \\hat{\\bf p} \\right)^{4} \\\\\n",
    "        &+ \\frac{1}{72} \\left( -23 \\eta -3 \\eta^{2} \\right) \\left( Q - 1 \\right)^{2} + \\frac{1}{36} \\left( -103 \\eta + 60 \\eta^{2} \\right) \\frac{M}{r} \\left( Q - 1 \\right) \\\\\n",
    "        &+ \\frac{1}{12} \\left( 16 \\eta - 21 \\eta^{2} \\right) \\frac{ \\Delta_{r} }{ \\Sigma } \\left( {\\bf n} \\cdot \\hat{\\bf p} \\right)^{2} \\left( Q - 1 \\right) + \\frac{1}{12} \\left( 47 \\eta - 54 \\eta^{2} \\right) \\frac{M}{r} \\frac{ \\Delta_{r} }{ \\Sigma } \\left( {\\bf n} \\cdot \\hat{\\bf p} \\right)^{2} \\\\\n",
    "        &= \\frac{ \\eta }{ 72 r^{2} } \\left[ \\left( 706 - 54 \\eta \\right) M^{2} + 360 \\eta r^{2} \\frac{ \\Delta_{r}^{2} }{ \\Sigma^{2} } \\left( {\\bf n} \\cdot \\hat{\\bf p} \\right)^{4} + r^{2} \\left( -23 - 3 \\eta \\right) \\left( Q - 1 \\right)^{2} + \\left( -206 + 120 \\eta \\right) M r \\left( Q - 1 \\right) \\right. \\\\\n",
    "        &+ \\left. \\left( 96 - 126 \\eta \\right) r^{2} \\frac{ \\Delta_{r} }{ \\Sigma } \\left( {\\bf n} \\cdot \\hat{\\bf p} \\right)^{2} \\left( Q - 1 \\right) + \\left( 282 - 324 \\eta \\right) M r \\frac{ \\Delta_{r} }{ \\Sigma } \\left( {\\bf n} \\cdot \\hat{\\bf p} \\right)^{2} \\right] \\\\\n",
    "        &= \\frac{ \\eta }{ 72 r^{2} } \\left[ 706 + r \\left( -206 M \\left( Q - 1 \\right) + 282 M \\frac{ \\Delta_{r} }{ \\Sigma } \\left( {\\bf n} \\cdot \\hat{\\bf p} \\right)^{2} + r \\left( Q -1 \\right) \\left( 96 \\frac{ \\Delta_{r} }{ \\Sigma } \\left( {\\bf n} \\cdot \\hat{\\bf p} \\right)^{2} - 23 \\left( Q - 1 \\right) \\right) \\right) \\right. \\\\\n",
    "        &+ \\left. \\eta \\left( 54 M^{2} + r \\left( 120 M \\left( Q -1 \\right) - 324 M \\frac{ \\Delta_{r} }{ \\Sigma } \\left( {\\bf n} \\cdot \\hat{\\bf p} \\right)^{2} + r \\left( 360 \\frac{ \\Delta_{r}^{2} }{ \\Sigma^{2} } \\left( {\\bf n} \\cdot \\hat{\\bf p} \\right)^{4} + \\left( Q - 1 \\right) \\left( -126 \\frac{ \\Delta_{r} }{ \\Sigma } \\left( {\\bf n} \\cdot \\hat{\\bf p} \\right)^{2} - 3 \\left( Q - 1 \\right) \\right) \\right)\\right) \\right) \\right]\n",
    "\\end{align}\n",
    "\n",
    "We define [$\\eta$](#mass_terms), [$M$](#mass_terms), [$Q - 1$](#Qminus1), and [$\\frac{ \\Delta_{r} }{ \\Sigma } \\left( {\\bf n} \\cdot \\hat{\\bf p} \\right)^{2}$](#DrSinp2) elsewhere."
   ]
  },
  {
   "cell_type": "code",
   "execution_count": 74,
   "metadata": {},
   "outputs": [
    {
     "name": "stdout",
     "output_type": "stream",
     "text": [
      "Appending to SEOBNR/Hamiltonian.txt\n"
     ]
    }
   ],
   "source": [
    "%%writefile -a SEOBNR/Hamiltonian.txt\n",
    "\n",
    "sigmastarcoeffTerm2 = eta/(72*r**2) ( 706 + r*( -206*M*Qminus1 + 282*M*DrSinp2 + r*Qminus1*(96*DrSinp2 - 23*Qminus1))\n",
    "                                   + eta*(54*M**2 + r*(120*M*Qminus1-324*M*DrSinp2 + r*(360*DrSinp2**2 + Qminus1*(-126*DrSinp2 - 3*Qminus1)))))"
   ]
  },
  {
   "cell_type": "markdown",
   "metadata": {},
   "source": [
    "<a id='sigmastarcoeffTerm3'></a>\n",
    "\n",
    "### $\\boldsymbol{\\sigma}^{*}$ Coefficient Term 3 \\[Back to [top](#toc)\\]\n",
    "$$\\label{sigmastarcoeffTerm3}$$\n",
    "\n",
    "<font color='red'>I have no idea whence this term originates; there's not any helpful reference in the code.  Unless I'm missing something...</font>"
   ]
  },
  {
   "cell_type": "code",
   "execution_count": 75,
   "metadata": {},
   "outputs": [
    {
     "name": "stdout",
     "output_type": "stream",
     "text": [
      "Appending to SEOBNR/Hamiltonian.txt\n"
     ]
    }
   ],
   "source": [
    "%%writefile -a SEOBNR/Hamiltonian.txt\n",
    "\n",
    "sigmastarcoeffTerm3 ="
   ]
  },
  {
   "cell_type": "markdown",
   "metadata": {},
   "source": [
    "<a id='sigmacoeffTerm1'></a>\n",
    "\n",
    "### $\\boldsymbol{\\sigma}$ Coefficient Term 1 \\[Back to [top](#toc)\\]\n",
    "$$\\label{sigmacoeffTerm1}$$\n",
    "\n",
    "We build this term from BB2011 Equation (51) with $a_{0} = 0$ (<font color='red'>why?</font>), where what is listed below is the coefficient on $\\boldsymbol{\\sigma}$:\n",
    "\n",
    "\\begin{align}\n",
    "    \\boldsymbol{\\sigma}\\ {\\rm coefficient\\ Term\\ 1} &= -\\frac{2}{3} \\eta \\frac{ M }{ r } + \\frac{1}{4} \\eta \\left( Q - 1 \\right) - 3 \\eta \\frac{ \\Delta_r }{ \\Sigma } \\left( {\\bf n} \\cdot \\hat{\\bf p} \\right)^{2} \\\\\n",
    "        &= \\frac{ \\eta }{ 12 } \\left( -8 \\frac{ M }{ r } + 3 \\left( Q - 1 \\right) - 36 \\smash[b]{\\underbrace{ \\frac{ \\Delta_r }{ \\Sigma } \\left( {\\bf n} \\cdot \\hat{\\bf p} \\right)^{2} }_{\\rm DrSipn2}} \\vphantom{\\underbrace{a}_{b}} \\right)\n",
    "\\end{align}\n",
    "\n",
    "We define [$\\eta$](#mass_terms), [$M$](#mass_terms), [$Q-1$](#Qminus1), and [DrSipn2](#DrSipn2) elsewhere."
   ]
  },
  {
   "cell_type": "code",
   "execution_count": 76,
   "metadata": {},
   "outputs": [
    {
     "name": "stdout",
     "output_type": "stream",
     "text": [
      "Appending to SEOBNR/Hamiltonian.txt\n"
     ]
    }
   ],
   "source": [
    "%%writefile -a SEOBNR/Hamiltonian.txt\n",
    "\n",
    "sigmacoeffTerm1 = eta/12*(-8*M/r + 3*Qminus1 - 36*DrSinp2)"
   ]
  },
  {
   "cell_type": "markdown",
   "metadata": {},
   "source": [
    "<a id='sigmacoeffTerm2'></a>\n",
    "\n",
    "### $\\boldsymbol{\\sigma}$ Coefficient Term 2 \\[Back to [top](#toc)\\]\n",
    "$$\\label{sigmacoeffTerm2}$$\n",
    "\n",
    "We build this term from BB2011 Equation (52) with all $a_{i} = 0$, $i \\in \\left\\{0, 1, 2, 3\\right\\}$ (<font color='red'>why?</font>), and just the coefficient on $\\boldsymbol{\\sigma}$:\n",
    "\n",
    "\\begin{align}\n",
    "    \\boldsymbol{\\sigma}\\ {\\rm coefficient\\ Term\\ 2} &= \\frac{1}{9} \\left( -56 \\eta -21 \\eta^{2} \\right) \\left( \\frac{ M }{ r } \\right)^{2} + \\frac{5}{24} \\left( 27 \\eta^{2} \\right) \\frac{ \\Delta_r^{2} }{ \\Sigma^{2} } \\left( {\\bf n} \\cdot \\hat{\\bf p} \\right)^{4} \\\\\n",
    "        &+ \\frac{1}{144} \\left(-45 \\eta \\right) \\left( Q - 1 \\right)^{2} + \\frac{1}{36} \\left( -109 \\eta + 51 \\eta^{2} \\right) \\frac{ M }{ r } \\left( Q - 1 \\right) \\\\\n",
    "        &+ \\frac{1}{24} \\left( 6 \\eta - 39\\eta^{2} \\right) \\frac{ \\Delta_{r} }{ \\Sigma } \\left( {\\bf n} \\cdot \\hat{\\bf p} \\right)^{2} \\left( Q - 1 \\right) + \\frac{1}{24} \\left( -16 \\eta - 147 \\eta^{2} \\right) \\frac{ M }{ r } \\frac{ \\Delta_{r} }{ \\Sigma } \\left( {\\bf n} \\cdot \\hat{\\bf p} \\right)^{2} \\\\\n",
    "        &= \\frac{ \\eta }{ 144 r^{2} } \\left[ -896 M^{2} + r \\left( -436 M \\left( Q - 1 \\right) - 96 M \\frac{ \\Delta_{r} }{ \\Sigma } \\left( {\\bf n} \\cdot \\hat{\\bf p} \\right)^{2} + r \\left( -45 \\left( Q - 1 \\right)^{2} + 36 \\left( Q - 1 \\right) \\frac{ \\Delta_{r} }{ \\Sigma } \\left( {\\bf n} \\cdot \\hat{\\bf p} \\right)^{2} \\right) \\right) \\right. \\\\\n",
    "        &+ \\left. \\eta \\left( -336 M^{2} + r \\left( 204 M \\left( Q -1 \\right) - 882 M \\frac{ \\Delta_{r} }{ \\Sigma } \\left( {\\bf n} \\cdot \\hat{\\bf p} \\right)^{2} + r \\left( 810 \\frac{ \\Delta_{r}^{2} }{ \\Sigma^{2} } \\left( {\\bf n} \\cdot \\hat{\\bf p} \\right)^{4}  - 234 \\left( Q - 1 \\right) \\frac{ \\Delta_{r} }{ \\Sigma } \\left( {\\bf n} \\cdot \\hat{\\bf p} \\right)^{2} \\right) \\right) \\right) \\right]\n",
    "\\end{align}\n",
    "\n",
    "We define [$\\eta$](#mass_terms), [$M$](#mass_terms), [$Q - 1$](#Qminus1), and [$\\frac{ \\Delta_{r} }{ \\Sigma } \\left( {\\bf n} \\cdot \\hat{\\bf p} \\right)^{2}$](#DrSinp2) elsewhere."
   ]
  },
  {
   "cell_type": "code",
   "execution_count": 77,
   "metadata": {},
   "outputs": [
    {
     "name": "stdout",
     "output_type": "stream",
     "text": [
      "Appending to SEOBNR/Hamiltonian.txt\n"
     ]
    }
   ],
   "source": [
    "%%writefile -a SEOBNR/Hamiltonian.txt\n",
    "\n",
    "sigmacoeffTerm2 = eta/(144*r**2)*(-896*M**2 + r*(-436*Qminus1 - 96*M*DrSinp2 + r*(-45*Qminus1**2 + 36*Qminus1*DrSinp2))\n",
    "                                 + eta*(-336*M**2 + r*(204*M*Qminus1 - 882*M*DrSinp2 + r*(810*DrSinp2**2 - 234*Qminus1*DrSinp2))))"
   ]
  },
  {
   "cell_type": "markdown",
   "metadata": {},
   "source": [
    "<a id='sigmacoeffTerm3'></a>\n",
    "\n",
    "### $\\boldsymbol{\\sigma}$ Coefficient Term 3 \\[Back to [top](#toc)\\]\n",
    "$$\\label{sigmacoeffTerm3}$$\n",
    "\n",
    "<font color='red'>I have no idea whence this term originates; there's not any helpful reference in the code.  Unless I'm missing something...</font>"
   ]
  },
  {
   "cell_type": "code",
   "execution_count": 78,
   "metadata": {},
   "outputs": [
    {
     "name": "stdout",
     "output_type": "stream",
     "text": [
      "Appending to SEOBNR/Hamiltonian.txt\n"
     ]
    }
   ],
   "source": [
    "%%writefile -a SEOBNR/Hamiltonian.txt\n",
    "\n",
    "sigmacoeffTerm3 ="
   ]
  },
  {
   "cell_type": "markdown",
   "metadata": {},
   "source": [
    "<a id='betapsum'></a>\n",
    "\n",
    "### $\\beta^{i} p_{i}$ \\[Back to [top](#toc)\\]\n",
    "$$\\label{betapsum}$$\n",
    "\n",
    "From BB2010 Equation (5.45), we have\n",
    "\\begin{equation}\n",
    "    \\beta^{i} = \\frac{ g^{ti} }{ g^{tt} },\n",
    "\\end{equation}\n",
    "\n",
    "but from BB2010 Equations (5.36) we see that $g^{tr} = g^{t \\theta} = 0$.  Thus only $\\beta^{\\phi}$ is nonzero.  Combining BB2010 Equations (5.45), (5.36e), and (5.36a), we find\n",
    "\n",
    "\\begin{equation}\n",
    "    \\beta^{\\phi} = \\frac{ -\\frac{ \\tilde{\\omega}_{\\rm fd} }{ \\Delta_{t} \\Sigma } }{ -\\frac{ \\Lambda_{t} }{ \\Delta_{t} \\Sigma } } = \\frac{ \\tilde{\\omega}_{\\rm fd} }{ \\Lambda_{t} }\n",
    "\\end{equation}\n",
    "\n",
    "Therefore\n",
    "\n",
    "\\begin{equation}\n",
    "    \\beta^{i} p_{i} = \\frac{ \\tilde{\\omega}_{\\rm fd} }{ \\Lambda_{t} } p_{\\phi}.\n",
    "\\end{equation}\n",
    "\n",
    "We define [$\\tilde{\\omega}_{\\rm fd}$](#omegatilde), [$\\Lambda_{t}$](#Lambdat), and [$p_{\\phi}$](#pphi) elsewhere."
   ]
  },
  {
   "cell_type": "code",
   "execution_count": 79,
   "metadata": {},
   "outputs": [
    {
     "name": "stdout",
     "output_type": "stream",
     "text": [
      "Appending to SEOBNR/Hamiltonian.txt\n"
     ]
    }
   ],
   "source": [
    "%%writefile -a SEOBNR/Hamiltonian.txt\n",
    "\n",
    "betapsum = omegatilde/Lambdat*pphi"
   ]
  },
  {
   "cell_type": "markdown",
   "metadata": {},
   "source": [
    "<a id='omegatilde'></a>\n",
    "\n",
    "### $\\tilde{\\omega}_{\\rm fd}$ \\[Back to [top](#toc)\\]\n",
    "$$\\label{omegatilde}$$\n",
    "\n",
    "From BB2010 Equation (5.40), we have\n",
    "\n",
    "\\begin{equation}\n",
    "    \\tilde{\\omega}_{\\rm fd} = 2 a M r + \\omega_{1}^{\\rm fd} \\eta \\frac{ a M^{3} }{ r } + \\omega_{2}^{\\rm fd} \\eta \\frac{ M a^{3} }{ r }.\n",
    "\\end{equation}\n",
    "\n",
    "but from BB2011, in the discussion after Equations (50) and (51), we set $\\omega_{1}^{\\rm fd} = \\omega_{2}^{\\rm fd} = 0$.  Thus\n",
    "\n",
    "\\begin{equation}\n",
    "    \\tilde{\\omega}_{\\rm fd} = 2 a M r.\n",
    "\\end{equation}\n",
    "\n",
    "We define [$a$](#a_terms) and [$M$](#mass_terms) elsewhere."
   ]
  },
  {
   "cell_type": "code",
   "execution_count": 80,
   "metadata": {},
   "outputs": [
    {
     "name": "stdout",
     "output_type": "stream",
     "text": [
      "Appending to SEOBNR/Hamiltonian.txt\n"
     ]
    }
   ],
   "source": [
    "%%writefile -a SEOBNR/Hamiltonian.txt\n",
    "\n",
    "omegatilde = 2*a*M*r"
   ]
  },
  {
   "cell_type": "markdown",
   "metadata": {},
   "source": [
    "<a id='pphi'></a>\n",
    "\n",
    "### $p_{\\phi}$ \\[Back to [top](#toc)\\]\n",
    "$$\\label{pphi}$$\n",
    "\n",
    "Converting from Boyer-Lindquist momentum coordinates to tortoise momentum coordinates, <font color='red'>(verify this)</font>,\n",
    "\n",
    "\\begin{equation}\n",
    "    p_{\\phi} = \\hat{\\bf p} \\cdot \\boldsymbol{\\xi} r.\n",
    "\\end{equation}\n",
    "\n",
    "We define [$\\hat {\\bf p} \\cdot \\boldsymbol{\\xi} r$](#pdotxir) and [$M$](#mass_terms) elsewhere."
   ]
  },
  {
   "cell_type": "code",
   "execution_count": 81,
   "metadata": {},
   "outputs": [
    {
     "name": "stdout",
     "output_type": "stream",
     "text": [
      "Appending to SEOBNR/Hamiltonian.txt\n"
     ]
    }
   ],
   "source": [
    "%%writefile -a SEOBNR/Hamiltonian.txt\n",
    "\n",
    "pphi = pdotxir"
   ]
  },
  {
   "cell_type": "markdown",
   "metadata": {},
   "source": [
    "<a id='alpha'></a>\n",
    "\n",
    "### $\\alpha$ \\[Back to [top](#toc)\\]\n",
    "$$\\label{alpha}$$\n",
    "\n",
    "From BB2010 Equation (5.44), we have\n",
    "\\begin{equation}\n",
    "    \\alpha = \\frac{ 1 }{ \\sqrt{ -g^{tt}} },\n",
    "\\end{equation}\n",
    "\n",
    "and from BB2010 Equations (5.36a) we have\n",
    "\n",
    "\\begin{equation}\n",
    "    g^{tt} = -\\frac{ \\Lambda_{t} }{ \\Delta_{t} \\Sigma }.\n",
    "\\end{equation}\n",
    "\n",
    "Therefore\n",
    "\n",
    "\\begin{equation}\n",
    "    \\alpha = \\sqrt{ \\frac{ \\Delta_{t} \\Sigma }{ \\Lambda_{t} } }.\n",
    "\\end{equation}\n",
    "\n",
    "We define [$\\Delta_{t}$](#Deltat), [$\\Sigma$](#Sigma), and [$\\Lambda_{t}$](#Lambdat) elsewhere."
   ]
  },
  {
   "cell_type": "code",
   "execution_count": 82,
   "metadata": {},
   "outputs": [
    {
     "name": "stdout",
     "output_type": "stream",
     "text": [
      "Appending to SEOBNR/Hamiltonian.txt\n"
     ]
    }
   ],
   "source": [
    "%%writefile -a SEOBNR/Hamiltonian.txt\n",
    "\n",
    "alpha = sp.sqrt(Deltat*Sigma/Lambdat)"
   ]
  },
  {
   "cell_type": "markdown",
   "metadata": {},
   "source": [
    "<a id='notes'></a>\n",
    "# Notes \\[Back to [top](#toc)\\]\n",
    "$$\\label{notes}$$\n",
    "\n",
    "1. First, just break down the Hamiltonian as in the paper.  Break up into blocks as appropriate.\n",
    "2. Use python markdown to write string of input variables:\n",
    "\n",
    "```python\n",
    "# Step 0a: declare instrinsic system paramters (masses and spin components)\n",
    "m1, m2, s1x, s1y, s1z, s2x, s2y, s2z = sp.symbols(\"m1 m2 s1x s1y s1z s2x s2y s2z\",real=True)\n",
    "\n",
    "```\n",
    "3. Write terms to files in backwards order!  As in:\n",
    "\n",
    "    ```python\n",
    "    #First write is this:\n",
    "    #%%writefile SEOBNR/Hamiltonian.txt\n",
    "\n",
    "    ```\n",
    "   and afterward\n",
    "\n",
    "    ```python\n",
    "    #%%writefile -a SEOBNR/Hamiltonian.txt\n",
    "\n",
    "    ```\n",
    "   The goal is to split up the terms so that each $\\LaTeX$-expression at the bottom of a markdown cell can be easily compared to the \"bigstring\" expression that is SymPy compatible in a code cell directly below the markdown cell.\n",
    "4. ${\\cal Q}_{4}$ is quartic in $p_{i}$ and is given by Equation (4.34) of [Damour, Jaranowski, and Schaefer](https://arxiv.org/abs/gr-qc/0005034) <font color='red'> (double check this!)</font>"
   ]
  },
  {
   "cell_type": "markdown",
   "metadata": {},
   "source": [
    "<a id='latex_pdf_output'></a>\n",
    "\n",
    "# Output: Output this module to $\\LaTeX$-formatted PDF file \\[Back to [top](#toc)\\]\n",
    "$$\\label{latex_pdf_output}$$"
   ]
  },
  {
   "cell_type": "code",
   "execution_count": 83,
   "metadata": {
    "scrolled": true
   },
   "outputs": [
    {
     "name": "stdout",
     "output_type": "stream",
     "text": [
      "[NbConvertApp] Converting notebook Tutorial-SEOBNR_Documentation.ipynb to latex\n",
      "[NbConvertApp] Writing 124767 bytes to Tutorial-SEOBNR_Documentation.tex\n",
      "This is pdfTeX, Version 3.14159265-2.6-1.40.18 (TeX Live 2017/Debian) (preloaded format=pdflatex)\n",
      " restricted \\write18 enabled.\n",
      "entering extended mode\n",
      "This is pdfTeX, Version 3.14159265-2.6-1.40.18 (TeX Live 2017/Debian) (preloaded format=pdflatex)\n",
      " restricted \\write18 enabled.\n",
      "entering extended mode\n",
      "This is pdfTeX, Version 3.14159265-2.6-1.40.18 (TeX Live 2017/Debian) (preloaded format=pdflatex)\n",
      " restricted \\write18 enabled.\n",
      "entering extended mode\n"
     ]
    }
   ],
   "source": [
    "!jupyter nbconvert --to latex --template latex_nrpy_style.tplx Tutorial-SEOBNR_Documentation.ipynb\n",
    "!pdflatex -interaction=batchmode Tutorial-SEOBNR_Documentation.ipynb\n",
    "!pdflatex -interaction=batchmode Tutorial-SEOBNR_Documentation.ipynb\n",
    "!pdflatex -interaction=batchmode Tutorial-SEOBNR_Documentation.ipynb\n",
    "!rm -f Tut*.out Tut*.aux Tut*.log"
   ]
  }
 ],
 "metadata": {
  "kernelspec": {
   "display_name": "Python 2",
   "language": "python",
   "name": "python2"
  },
  "language_info": {
   "codemirror_mode": {
    "name": "ipython",
    "version": 2
   },
   "file_extension": ".py",
   "mimetype": "text/x-python",
   "name": "python",
   "nbconvert_exporter": "python",
   "pygments_lexer": "ipython2",
   "version": "2.7.10"
  }
 },
 "nbformat": 4,
 "nbformat_minor": 2
}
