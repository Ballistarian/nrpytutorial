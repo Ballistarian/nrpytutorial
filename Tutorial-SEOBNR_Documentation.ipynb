{
 "cells": [
  {
   "cell_type": "markdown",
   "metadata": {},
   "source": [
    "# The Spinning Effective One-Body Hamiltonian\n",
    "\n",
    "### Author: Tyler Knowles\n",
    "\n",
    "## This module documents the reduced spinning effective one-body Hamiltonian as numerically implemented in LALSuite's SEOBNRv3 gravitational waveform approximant.\n",
    "\n",
    "### Throughout this module, we will refer to [Barausse and Buonanno (2010)](https://arxiv.org/abs/0912.3517) as BB2010 and [Barausse and Buonanno (2011)](https://arxiv.org/abs/1107.2904) as BB2011.\n",
    "\n",
    "<font color='green'>**This module has been validated against the LALSuite SEOBNRv3/SEOBNRv3_opt code that was reviewed and approved for LIGO parameter estimation by the LIGO Scientific Collaboration.**</font>"
   ]
  },
  {
   "cell_type": "markdown",
   "metadata": {},
   "source": [
    "<a id='toc'></a>\n",
    "\n",
    "# Table of Contents\n",
    "$$\\label{toc}$$\n",
    "\n",
    "This module is organized as follows:\n",
    "\n",
    "0. [Introduction](#intro): The Physical System of Interest\n",
    "1. [Step 1](#Hreal): The Real Hamiltonian $H_{\\rm real}$\n",
    "1. [Step 2](#Heff): The Effective Hamiltonian $H_{\\rm eff}$\n",
    "1. [Step 3](#Heff_terms): Terms of $H_{\\rm eff}$  \n",
    "    a. [Step 3a](#Hs): Leading Order Spin Effects $H_{\\rm S}$  \n",
    "    b. [Step 3b](#Hns): The Nonspinning Hamiltonian $H_{\\rm NS}$  \n",
    "    c. [Step 3c](#Hd): The Quadrupole Deformation $H_{\\rm D}$\n",
    "1. [Step 4](#Hso): The Spin-Orbit Term $H_{\\rm SO}$  \n",
    "    a. [Step 4a](#HsoTerm1): $H_{\\rm SO}$ Term 1  \n",
    "    b. [Step 4b](#HsoTerm2coeff): $H_{\\rm SO}$ Term 2 Coefficient  \n",
    "    c. [Step 4c](#HsoTerm2): $H_{\\rm SO}$ Term 2\n",
    "1. [Step 5](#Hss): The Spin-Spin Term $H_{\\rm SS}$\n",
    "1. [Step 6](#HsoHsscommon): Terms Common to $H_{\\rm SO}$ and $H_{\\rm SS}$\n",
    "1. [Step 7](#HnsTerms): The $H_{\\rm NS}$ Terms\n",
    "1. [Step 8](#HdTerms): The $H_{\\rm D}$ Terms  \n",
    "    a.[Step 8a](#Hdcoeff): $H_{\\rm D}$ Coefficient  \n",
    "    b.[Step 8b](#Hdsum): $H_{\\rm D}$ Sum\n",
    "1. [Step N-5](#momentum_terms): The Momentum Terms\n",
    "1. [Step N-4](#alphabetagamma): The Metric-Dependent Terms $\\alpha$, $\\beta^{i}$, and $\\gamma^{ij}$\n",
    "1. [Step N-3](#Hreal_spin_combos): $H_{\\rm real}$ Spin Combinations ${\\bf S}^{*}$ and ${\\bf S}_{\\rm Kerr}$\n",
    "1. [Step N-2](#Heff_spin_combos): $H_{\\rm eff}$ Spin Combinations $\\boldsymbol{\\sigma}$ and $\\boldsymbol{\\sigma}^{*}$\n",
    "1. [Step N-1](#mass_terms): Mass Terms $\\mu$, $M$, and $\\eta$\n",
    "1. [Step N](#metric): The Metric $g$ of Choice\n",
    "1. [Notes](#notes)\n",
    "1. [Output](#latex_pdf_output): Output this module to $\\LaTeX$-formatted PDF"
   ]
  },
  {
   "cell_type": "markdown",
   "metadata": {},
   "source": [
    "<a id='intro'></a>\n",
    "\n",
    "# Introduction: The Physical System of Interest \\[Back to [top](#toc)\\]\n",
    "$$\\label{intro}$$\n",
    "\n",
    "Consider two black holes with masses $m_{1}$, $m_{2}$ and spins ${\\bf S}_{1}$, ${\\bf S}_{2}$ in a binary system.  The spinning effective one-body (\"SEOB\") Hamiltonian [$H_{\\rm real}$](#Hreal) describes the dynamics of this system; we will define [$H_{\\rm real}$](#Hreal) as in BB2010 Section VE.  There, [$H_{\\rm real}$](#Hreal) is canonically transformed and mapped to an effective Hamiltonian [$H_{\\rm eff}$](#Heff) describing the motion of a test particle of mass [$\\mu$](#mass_terms) and spin [${\\bf S}_{\\rm Kerr}$](#Hreal_spin_combos).  Here we seek to break up [$H_{\\rm real}$](#Hreal) and document the terms in such a way that the resulting Python code can be used to numerically evaluate [$H_{\\rm real}$](#Hreal).  \n",
    "\n",
    "We will use Greek letters to denote spacetime tensor indicies, and spacial tensor indicies with lowercase Latin letters.\n",
    "\n",
    "<font color='red'>Please note: LALSuite computes $H_{\\rm real}$ up to a constant multiple of $M$ (*I think*).</font>"
   ]
  },
  {
   "cell_type": "markdown",
   "metadata": {},
   "source": [
    "<a id='Hreal'></a>\n",
    "\n",
    "# Step 1: The real Hamiltonian $H_{\\textrm{real}}$ \\[Back to [top](#toc)\\]\n",
    "$$\\label{Hreal}$$\n",
    "\n",
    "The SEOB Hamiltonian $H_{\\rm real}$ is given by Equation (5.69) of BB2010:\n",
    "\n",
    "\\begin{equation}\n",
    "    H_{\\rm real} = M \\sqrt{ 1 + 2 \\eta \\left( \\frac{ H_{\\rm eff} }{ \\mu } - 1 \\right) }.\n",
    "\\end{equation}\n",
    "\n",
    "Here [$H_{\\rm eff}$](#Heff) is an [*effective* Hamiltonian](#intro) and [$M$](#mass_terms), [$\\mu$](#mass_terms), and [$\\eta$](#mass_terms) are constants determined by $m_{1}$ and $m_{2}$.\n",
    "\n",
    "<font color='red'>The code in LALSimIMRSpinEOBHamiltonianPrec.c claims the origin of $H_{\\textrm{real}}$ is Equation (2) of [Taracchini, Pan, Buonanno, et al](https://arxiv.org/abs/1202.0790):\n",
    "\n",
    "\\begin{equation}\n",
    "    H_{\\rm real} = M \\sqrt{ 1 + 2 \\nu \\left( \\frac{ H_{\\rm eff} }{ \\mu } - 1 \\right) } - M\n",
    "\\end{equation}\n",
    "\n",
    "where $\\nu = \\eta = \\frac{\\mu}{M}$.  Double-check this!</font>"
   ]
  },
  {
   "cell_type": "code",
   "execution_count": 1,
   "metadata": {},
   "outputs": [
    {
     "name": "stdout",
     "output_type": "stream",
     "text": [
      "Overwriting SEOBNR/Hamiltonian.txt\n"
     ]
    }
   ],
   "source": [
    "%%writefile SEOBNR/Hamiltonian.txt\n",
    "Hreal = M * sp.sqrt(1 + 2*eta*(Heff/mu - 1))"
   ]
  },
  {
   "cell_type": "markdown",
   "metadata": {},
   "source": [
    "<a id='Heff'></a>\n",
    "\n",
    "# Step 2: The Effective Hamiltonian $H_{\\rm eff}$ \\[Back to [top](#toc)\\]\n",
    "$$\\label{Heff}$$\n",
    "\n",
    "The effective Hamiltonian $H_{\\rm eff}$ is given by Equation (5.70) of BB2010.  We combine the notation of BB2010 Equations (5.70) and (5.43) with our notation [$H_{\\rm D}$](#Hd) to write\n",
    "\n",
    "\\begin{equation}\n",
    "    H_{\\rm eff} = H_{\\rm S} + H_{\\rm NS} \\underbrace{ -\\frac{ \\eta }{ 2 r^{3} } \\left( \\delta^{ij} - 3 n^{i} n^{j} \\right) S^{*}_{i} S^{*}_{j} }_{H_{\\rm D}}.\n",
    "\\end{equation}\n",
    "\n",
    "Here [$H_{\\rm S}$](#Hs) denotes leading order effects of spin-spin and spin-orbit coupling, [$H_{\\rm NS}$](#Hns) is the Hamiltonian for a nonspinning test particle, and [$H_{\\rm D}$](#Hd) describes quadrupole deformation of the coupling of the particle's spin with itself to leading order."
   ]
  },
  {
   "cell_type": "code",
   "execution_count": 2,
   "metadata": {},
   "outputs": [
    {
     "name": "stdout",
     "output_type": "stream",
     "text": [
      "Appending to SEOBNR/Hamiltonian.txt\n"
     ]
    }
   ],
   "source": [
    "%%writefile -a SEOBNR/Hamiltonian.txt\n",
    "\n",
    "Heff = Hs + Hns + Hd"
   ]
  },
  {
   "cell_type": "markdown",
   "metadata": {},
   "source": [
    "<a id='Heff_terms'></a>\n",
    "\n",
    "# Step 3: Terms of $H_{\\rm eff}$ \\[Back to [top](#toc)\\]\n",
    "$$\\label{Heff_terms}$$\n",
    "\n",
    "In this step, we break down each of the terms [$H_{\\rm S}$](#Hs), [$H_{\\rm NS}$](#Hns), and [$H_{\\rm D}$](#Hd) in [$H_{\\rm eff}$](#Heff)."
   ]
  },
  {
   "cell_type": "markdown",
   "metadata": {},
   "source": [
    "<a id='Hs'></a>\n",
    "\n",
    "## Step 3a: Leading Order Spin Effects $H_{\\rm S}$ \\[Back to [top](#toc)\\]\n",
    "$$\\label{Hs}$$\n",
    "\n",
    "From BB2010 Equation (4.17),\n",
    "\n",
    "\\begin{equation}\n",
    "    H_{\\rm S} = H_{\\rm SO} + H_{\\rm SS}\n",
    "\\end{equation}\n",
    "\n",
    "where [$H_{\\rm SO}$](#Hso) includes spin-orbit terms and [$H_{\\rm SS}$](#Hss) includes spin-spin terms."
   ]
  },
  {
   "cell_type": "code",
   "execution_count": 3,
   "metadata": {},
   "outputs": [
    {
     "name": "stdout",
     "output_type": "stream",
     "text": [
      "Appending to SEOBNR/Hamiltonian.txt\n"
     ]
    }
   ],
   "source": [
    "%%writefile -a SEOBNR/Hamiltonian.txt\n",
    "\n",
    "Hs = Hso + Hss"
   ]
  },
  {
   "cell_type": "markdown",
   "metadata": {},
   "source": [
    "<a id='Hns'></a>\n",
    "\n",
    "## Step 3b: The Nonspinning Hamiltonian $H_{\\rm NS}$ \\[Back to [top](#toc)\\]\n",
    "$$\\label{Hns}$$\n",
    "\n",
    "From BB2010 Equation (5.43),\n",
    "\n",
    "\\begin{equation}\n",
    "    H_{\\rm NS} = \\underbrace{ \\beta^{i} p_{i} }_{\\beta p\\ {\\rm sum}} + \\alpha \\sqrt{ \\smash[b]{\\underbrace{ \\mu^{2} + \\gamma^{ij} p_{i} p_{j} + {\\cal Q}_{4} \\left( p \\right) }_{H_{\\rm NS}\\ {\\rm radicand}}}}\n",
    "\\end{equation}\n",
    "\n",
    "For further magic, see [$\\beta p\\ {\\rm sum}$](#betapsum), [$\\alpha$](#alpha), and [$H_{\\rm NS}\\ {\\rm radicand}$](#Hnsradicand). "
   ]
  },
  {
   "cell_type": "code",
   "execution_count": 4,
   "metadata": {
    "scrolled": true
   },
   "outputs": [
    {
     "name": "stdout",
     "output_type": "stream",
     "text": [
      "Appending to SEOBNR/Hamiltonian.txt\n"
     ]
    }
   ],
   "source": [
    "%%writefile -a SEOBNR/Hamiltonian.txt\n",
    "\n",
    "Hns = betapsum + alpha*sp.sqrt(Hnsradicand)"
   ]
  },
  {
   "cell_type": "markdown",
   "metadata": {},
   "source": [
    "<a id='Hd'></a>\n",
    "\n",
    "## Step 3c: The Quadrupole Deformation $H_{\\rm D}$ \\[Back to [top](#toc)\\]\n",
    "$$\\label{Hd}$$\n",
    "\n",
    "We break up $H_{\\rm D}$ as follows:\n",
    "\n",
    "\\begin{equation}\n",
    "    H_{\\rm D} = \\underbrace{ -\\frac{ \\eta }{ 2 r^{3} } }_{H_{\\rm D}\\ {\\rm coefficient}} \\underbrace{ \\left( \\delta^{ij} - 3 n^{i} n^{j} \\right) S^{*}_{i} S^{*}_{j} }_{H_{\\rm D}\\ {\\rm sum}}\n",
    "\\end{equation}\n",
    "\n",
    "For further dissection, see [$H_{\\rm D}\\ {\\rm coefficient}$](#Hdcoeff) and [$H_{\\rm D}\\ {\\rm sum}$](#Hdsum)."
   ]
  },
  {
   "cell_type": "code",
   "execution_count": 5,
   "metadata": {},
   "outputs": [
    {
     "name": "stdout",
     "output_type": "stream",
     "text": [
      "Appending to SEOBNR/Hamiltonian.txt\n"
     ]
    }
   ],
   "source": [
    "%%writefile -a SEOBNR/Hamiltonian.txt\n",
    "\n",
    "Hd = Hdcoeff*Hdsum"
   ]
  },
  {
   "cell_type": "markdown",
   "metadata": {},
   "source": [
    "<a id='Hso'></a>\n",
    "\n",
    "# Step 4: The Spin-Orbit Term $H_{\\rm SO}$ \\[Back to [top](#toc)\\]\n",
    "$$\\label{Hso}$$\n",
    "\n",
    "From BB2010 Equation (4.18):\n",
    "\n",
    "\\begin{align}\n",
    "    H_{\\rm SO} &= \\underbrace{ \\frac{ e^{2 \\nu - \\tilde{\\mu} } \\left( e^{\\tilde{\\mu} + \\nu} - \\tilde{B} \\right) \\left( \\hat{\\bf p} \\cdot \\boldsymbol{\\xi} r \\right) \\left( {\\bf S} \\cdot \\hat{\\bf S}_{\\rm Kerr} \\right) }{ \\tilde{B}^{2} \\sqrt{Q} \\xi^{2} } }_{\\rm Term\\ 1} + \\underbrace{ \\frac{ e^{\\nu - 2 \\tilde{\\mu}} }{ \\tilde{B}^{2} \\left( \\sqrt{Q} + 1 \\right) \\sqrt{Q} \\xi^{2} } }_{\\rm Term\\ 2\\ coefficient} \\left\\{ \\left( {\\bf S} \\cdot \\boldsymbol{\\xi} \\right) \\tilde{J} \\left[ \\mu_r \\left( \\hat{\\bf p} \\cdot {\\bf v} r \\right) \\left( \\sqrt{Q} + 1 \\right) - \\mu_{\\cos \\theta} \\left( \\hat{\\bf p} \\cdot {\\bf n} \\right) \\xi^{2} \\right. \\right. \\\\\n",
    "    & \\left. -\\sqrt{Q} \\left( \\nu_r \\left( \\hat{\\bf p} \\cdot {\\bf v} r \\right) + \\left( \\mu_{\\cos \\theta} - \\nu_{\\cos \\theta} \\right) \\left( \\hat{\\bf p} \\cdot {\\bf n} \\right) \\xi^{2} \\right) \\right] \\tilde{B}^{2} + e^{\\tilde{\\mu} + \\nu} \\left( \\hat{\\bf p} \\cdot \\boldsymbol{\\xi} r \\right) \\left( 2 \\sqrt{Q} + 1 \\right) \\left[ \\tilde{J} \\nu_r \\left( {\\bf S} \\cdot {\\bf v} \\right) - \\nu_{\\cos \\theta} \\left( {\\bf S} \\cdot {\\bf n} \\right) \\xi^{2} \\right] \\tilde{B} \\\\\n",
    "    & \\left. -\\tilde{J} \\tilde{B}_{r} e^{\\tilde{\\mu} + \\nu} \\left( \\hat{\\bf p} \\cdot \\boldsymbol{\\xi} r \\right) \\left( \\sqrt{Q} + 1 \\right) \\left( {\\bf S} \\cdot {\\bf v} \\right) \\right\\}.\n",
    "\\end{align}\n",
    "\n",
    "We will denote by Term 2 the expression in $\\left\\{ \\right\\}$.  For further information, see [$H_{\\rm SO}\\ {\\rm Term\\ 1}$](#HsoTerm1), [$H_{\\rm SO}\\ {\\rm Term\\ 2\\ coefficient}$](#HsoTerm2coeff), and [$H_{\\rm SO}\\ {\\rm Term\\ 2}$](#HsoTerm2)."
   ]
  },
  {
   "cell_type": "code",
   "execution_count": 6,
   "metadata": {},
   "outputs": [
    {
     "name": "stdout",
     "output_type": "stream",
     "text": [
      "Appending to SEOBNR/Hamiltonian.txt\n"
     ]
    }
   ],
   "source": [
    "%%writefile -a SEOBNR/Hamiltonian.txt\n",
    "\n",
    "Hso = HsoTerm1 + HsoTerm2coeff*HsoTerm2"
   ]
  },
  {
   "cell_type": "markdown",
   "metadata": {},
   "source": [
    "<a id='HsoTerm1'></a>\n",
    "## Step 4a: $H_{\\rm SO}$ Term 1 \\[Back to [top](#toc)\\]\n",
    "$$\\label{HsoTerm1}$$\n",
    "\n",
    "We have\n",
    "\n",
    "\\begin{equation}\n",
    "    H_{\\rm SO}\\ {\\rm Term\\ 1} = \\frac{ e^{2 \\nu - \\tilde{\\mu} } \\left( e^{\\tilde{\\mu} + \\nu} - \\tilde{B} \\right) \\left( \\hat{\\bf p} \\cdot \\boldsymbol{\\xi} r \\right) \\left( {\\bf S} \\cdot \\hat{\\bf S}_{\\rm Kerr} \\right) }{ \\tilde{B}^{2} \\sqrt{Q} \\xi^{2} }\n",
    "\\end{equation}\n",
    "\n",
    "We divide $H_{\\rm SO}\\ {\\rm Term\\ 1}$ into [numerator](#HsoTerm1num) and [denominator](#HsoTerm1den)."
   ]
  },
  {
   "cell_type": "code",
   "execution_count": 7,
   "metadata": {},
   "outputs": [
    {
     "name": "stdout",
     "output_type": "stream",
     "text": [
      "Appending to SEOBNR/Hamiltonian.txt\n"
     ]
    }
   ],
   "source": [
    "%%writefile -a SEOBNR/Hamiltonian.txt\n",
    "\n",
    "HsoTerm1 = HsoTerm1num/HsoTerm1den"
   ]
  },
  {
   "cell_type": "markdown",
   "metadata": {},
   "source": [
    "<a id='HsoTerm1num'></a>\n",
    "\n",
    "### $H_{\\rm SO}$ Term 1 Numerator \\[Back to [top](#toc)\\]\n",
    "$$\\label{HsoTerm1num}$$\n",
    "\n",
    "The numerator of $H_{\\rm SO}$ Term 1 is\n",
    "\n",
    "\\begin{equation}\n",
    "    H_{\\rm SO}\\ {\\rm Term\\ 1\\ numerator} = \\underbrace{e^{2 \\nu - \\tilde{\\mu}}}_{exp2nuexpmu} \\left( \\smash[b]{ \\underbrace{ e^{\\tilde{\\mu} + \\nu} - \\tilde{B} }_{expmuexpnuminusB} } \\right) \\left( \\smash[b]{ \\underbrace{ \\hat{\\bf p} \\cdot \\boldsymbol{\\xi} r }_{pdotxir} } \\right) \\left( \\smash[b]{ \\underbrace{ {\\bf S} \\cdot \\hat{\\bf S}_{\\rm Kerr} }_{SdotSkerr} } \\right)\n",
    "\\end{equation}\n",
    "\n",
    "We break $H_{\\rm SO}$ Term 1 Numerator into four terms: [$e^{2 \\nu - \\tilde{\\mu} }$](#FIXME),  [$e^{\\tilde{\\mu} + \\nu} - \\tilde{B}$](#FIXME), [$\\hat{\\bf p} \\cdot \\boldsymbol{\\xi} r$](#FIXME), and [${\\bf S} \\cdot \\hat{\\bf S}_{\\rm Kerr}$](#FIXME)."
   ]
  },
  {
   "cell_type": "code",
   "execution_count": 8,
   "metadata": {},
   "outputs": [
    {
     "name": "stdout",
     "output_type": "stream",
     "text": [
      "Appending to SEOBNR/Hamiltonian.txt\n"
     ]
    }
   ],
   "source": [
    "%%writefile -a SEOBNR/Hamiltonian.txt\n",
    "\n",
    "HsoTerm1num = exp2nuexpmu*expmuexpnuminusB*pdotxir*SdotSkerr"
   ]
  },
  {
   "cell_type": "markdown",
   "metadata": {},
   "source": [
    "<a id='HsoTerm1den'></a>\n",
    "\n",
    "### $H_{\\rm SO}$ Term 1 Denominator \\[Back to [top](#toc)\\]\n",
    "$$\\label{HsoTerm1den}$$\n",
    "\n",
    "The denominator of $H_{\\rm SO}$ Term 1 is\n",
    "\n",
    "\\begin{equation}\n",
    "    H_{\\rm SO}\\ {\\rm Term\\ 1\\ denominator} = \\tilde{B}^{2} \\sqrt{Q} \\xi^{2}\n",
    "\\end{equation}\n",
    "\n",
    "We define [$\\tilde{B}$](#Btilde), [$Q$](#Q), and [$\\xi$](#xi)."
   ]
  },
  {
   "cell_type": "code",
   "execution_count": 9,
   "metadata": {},
   "outputs": [
    {
     "name": "stdout",
     "output_type": "stream",
     "text": [
      "Appending to SEOBNR/Hamiltonian.txt\n"
     ]
    }
   ],
   "source": [
    "%%writefile -a SEOBNR/Hamiltonian.txt\n",
    "\n",
    "HsoTerm1den = Btilde*Btilde*sp.sqrt(Q)*xi*xi"
   ]
  },
  {
   "cell_type": "markdown",
   "metadata": {},
   "source": [
    "<a id='HsoTerm2coeff'></a>\n",
    "## Step 4b: $H_{\\rm SO}$ Term 2 Coefficient \\[Back to [top](#toc)\\]\n",
    "$$\\label{HsoTerm2coeff}$$\n",
    "\n",
    "We have\n",
    "\n",
    "\\begin{equation}\n",
    "    H_{\\rm SO}\\ {\\rm Term\\ 2\\ coefficient} = \\frac{ e^{\\nu - 2 \\tilde{\\mu}} }{ \\tilde{B}^{2} \\left( \\sqrt{Q} + 1 \\right) \\sqrt{Q} \\xi^{2} }\n",
    "\\end{equation}\n",
    "\n",
    "We divide $H_{\\rm SO}$ Term 2 coefficient into [numerator](#HsoTerm2coeffnum) and [denominator](#HsoTerm2coeffden)."
   ]
  },
  {
   "cell_type": "code",
   "execution_count": 10,
   "metadata": {},
   "outputs": [
    {
     "name": "stdout",
     "output_type": "stream",
     "text": [
      "Appending to SEOBNR/Hamiltonian.txt\n"
     ]
    }
   ],
   "source": [
    "%%writefile -a SEOBNR/Hamiltonian.txt\n",
    "\n",
    "HsoTerm2coeff = HsoTerm2coeffnum/HsoTerm2coeffden"
   ]
  },
  {
   "cell_type": "markdown",
   "metadata": {},
   "source": [
    "<a id='HsoTerm2coeffnum'></a>\n",
    "\n",
    "### $H_{\\rm SO}$ Term 2 Coefficient Numerator \\[Back to [top](#toc)\\]\n",
    "$$\\label{HsoTerm2coeffnum}$$\n",
    "\n",
    "The numerator of $H_{\\rm SO}$ Term 2 coefficient is\n",
    "\n",
    "\\begin{equation}\n",
    "    H_{\\rm SO}\\ {\\rm Term\\ 2\\ coefficient\\ numerator} = e^{\\nu - 2 \\tilde{\\mu}}.\n",
    "\\end{equation}\n",
    "\n",
    "We define [$e^{\\nu - 2 \\tilde{\\mu}}$](#expnuexp2mu)."
   ]
  },
  {
   "cell_type": "code",
   "execution_count": 11,
   "metadata": {},
   "outputs": [
    {
     "name": "stdout",
     "output_type": "stream",
     "text": [
      "Appending to SEOBNR/Hamiltonian.txt\n"
     ]
    }
   ],
   "source": [
    "%%writefile -a SEOBNR/Hamiltonian.txt\n",
    "\n",
    "HsoTerm2coeffnum = expnuexp2mu"
   ]
  },
  {
   "cell_type": "markdown",
   "metadata": {},
   "source": [
    "<a id='HsoTerm2coeffden'></a>\n",
    "\n",
    "### $H_{\\rm SO}$ Term 2 Coefficient Denominator \\[Back to [top](#toc)\\]\n",
    "$$\\label{HsoTerm2coeffden}$$\n",
    "\n",
    "The denominator of $H_{\\rm SO}$ Term 2 coefficient is\n",
    "\n",
    "\\begin{equation}\n",
    "    H_{\\rm SO}\\ {\\rm Term\\ 2\\ coefficient\\ denominator} = \\tilde{B}^{2} \\left( \\sqrt{Q} + 1 \\right) \\sqrt{Q} \\xi^{2}.\n",
    "\\end{equation}\n",
    "\n",
    "We define [$\\tilde{B}$](#Btilde), [$Q$](#Q), and [$\\xi$](#xi)."
   ]
  },
  {
   "cell_type": "code",
   "execution_count": 12,
   "metadata": {},
   "outputs": [
    {
     "name": "stdout",
     "output_type": "stream",
     "text": [
      "Appending to SEOBNR/Hamiltonian.txt\n"
     ]
    }
   ],
   "source": [
    "%%writefile -a SEOBNR/Hamiltonian.txt\n",
    "\n",
    "HsoTerm2coeffden = Btilde*Btilde*(Q+1)*sp.sqrt(Q)*xi*xi"
   ]
  },
  {
   "cell_type": "markdown",
   "metadata": {},
   "source": [
    "<a id='HsoTerm2'></a>\n",
    "## Step 4c: $H_{\\rm SO}$ Term 2 \\[Back to [top](#toc)\\]\n",
    "$$\\label{HsoTerm2}$$\n",
    "\n",
    "We have\n",
    "\n",
    "\\begin{equation}\n",
    "    H_{\\rm SO}\\ {\\rm Term\\ 2} = \\underbrace{ \\left( {\\bf S} \\cdot \\boldsymbol{\\xi} \\right) \\tilde{J} \\left[ \\mu_r \\left( \\hat{\\bf p} \\cdot {\\bf v} r \\right) \\left( \\sqrt{Q} + 1 \\right) - \\mu_{\\cos \\theta} \\left( \\hat{\\bf p} \\cdot {\\bf n} \\right) \\xi^{2} -\\sqrt{Q} \\left( \\nu_r \\left( \\hat{\\bf p} \\cdot {\\bf v} r \\right) + \\left( \\mu_{\\cos \\theta} - \\nu_{\\cos \\theta} \\right) \\left( \\hat{\\bf p} \\cdot {\\bf n} \\right) \\xi^{2} \\right) \\right] \\tilde{B}^{2} }_{H_{\\rm SO}\\ {\\rm Term\\ 2a}} + \\underbrace{ e^{\\tilde{\\mu} + \\nu} \\left( \\hat{\\bf p} \\cdot \\boldsymbol{\\xi} r \\right) \\left( 2 \\sqrt{Q} + 1 \\right) \\left[ \\tilde{J} \\nu_r \\left( {\\bf S} \\cdot {\\bf v} \\right) - \\nu_{\\cos \\theta} \\left( {\\bf S} \\cdot {\\bf n} \\right) \\xi^{2} \\right] \\tilde{B} }_{H_{\\rm SO}\\ {\\rm Term\\ 2b}} - \\underbrace{ \\tilde{J} \\tilde{B}_{r} e^{\\tilde{\\mu} + \\nu} \\left( \\hat{\\bf p} \\cdot \\boldsymbol{\\xi} r \\right) \\left( \\sqrt{Q} + 1 \\right) \\left( {\\bf S} \\cdot {\\bf v} \\right) }_{H_{\\rm SO}\\ {\\rm Term\\ 2c}}\n",
    "\\end{equation}"
   ]
  },
  {
   "cell_type": "code",
   "execution_count": 13,
   "metadata": {},
   "outputs": [
    {
     "name": "stdout",
     "output_type": "stream",
     "text": [
      "Appending to SEOBNR/Hamiltonian.txt\n"
     ]
    }
   ],
   "source": [
    "%%writefile -a SEOBNR/Hamiltonian.txt\n",
    "\n",
    "HsoTerm2 = HsoTerm2a + HsoTerm2c + HsoTerm2c"
   ]
  },
  {
   "cell_type": "markdown",
   "metadata": {},
   "source": [
    "<a id='HsoTerm2a'></a>\n",
    "### Step 4c: $H_{\\rm SO}$ Term 2a \\[Back to [top](#toc)\\]\n",
    "$$\\label{HsoTerm2a}$$\n",
    "\n",
    "We have\n",
    "\n",
    "\\begin{equation}\n",
    "    H_{\\rm SO}\\ {\\rm Term\\ 2a} = \\left( {\\bf S} \\cdot \\boldsymbol{\\xi} \\right) \\tilde{J} \\left[ \\mu_r \\left( \\hat{\\bf p} \\cdot {\\bf v} r \\right) \\left( \\sqrt{Q} + 1 \\right) - \\mu_{\\cos \\theta} \\left( \\hat{\\bf p} \\cdot {\\bf n} \\right) \\xi^{2} -\\sqrt{Q} \\left( \\nu_r \\left( \\hat{\\bf p} \\cdot {\\bf v} r \\right) + \\left( \\mu_{\\cos \\theta} - \\nu_{\\cos \\theta} \\right) \\left( \\hat{\\bf p} \\cdot {\\bf n} \\right) \\xi^{2} \\right) \\right] \\tilde{B}^{2}\n",
    "\\end{equation}\n",
    "\n",
    "We define [${\\bf S} \\cdot \\xi$](#Sdotxi), [$\\tilde{J}$](#Jtilde), [$\\mu_{r}$](#mur), [$\\hat{\\bf p} \\cdot {\\bf v} r$](#pdotvf), [$Q$](#Q), [$\\mu_{\\cos \\theta}$](#mucostheta), [$\\hat{\\bf p} \\cdot {\\bf n}$](#pdotn),"
   ]
  },
  {
   "cell_type": "markdown",
   "metadata": {},
   "source": [
    "<a id='Hss'></a>\n",
    "\n",
    "# Step 5: The Spin-Spin Term $H_{\\rm SS}$\n",
    "$$\\label{Hss}$$\n",
    "\n",
    "From BB2010 Equation (4.19),\n",
    "\n",
    "\\begin{eqnarray}                                                                                                                                                                                            \n",
    "H_{\\rm SS} &=& \\omega \\left( {\\bf S} \\cdot {\\bf \\hat{S}}_{\\rm Kerr} \\right) + \\frac{ e^{-3 \\tilde{\\mu} -\\nu} \\tilde{J} \\omega_{r} }{ 2 \\tilde{B} \\left( \\sqrt{Q} + 1 \\right) \\sqrt{Q} \\xi^{2} } \\left\\{ -e^{\\tilde{\\mu} + \\nu} \\left( {\\bf \\hat{p}} \\cdot {\\bf v} r \\right) \\left( {\\bf \\hat{p}} \\cdot {\\bf \\xi} r \\right) \\left( {\\bf S} \\cdot {\\bf \\xi} \\right)\n",
    "\\tilde{B} + e^{2 \\left( \\tilde{\\mu} + \\nu \\right)} \\left( {\\bf \\hat{p}} \\cdot {\\bf \\xi} r \\right)^2 \\left( {\\bf S}\n",
    "\\cdot {\\bf v} \\right) \\right. \\nonumber \\\\\n",
    "&& \\left. + e^{2 \\tilde{\\mu}} \\left( 1 + \\sqrt{Q} \\right) \\sqrt{Q} \\left( {\\bf S} \\cdot {\\bf v} \\right)\\xi^2 \\tilde{B}^{2} + \\tilde{J} \\left( {\\bf \\hat{p}} \\cdot {\\bf n} \\right) \\left[ \\left( {\\bf \\hat{p}} \\cdot {\\bf v} r \\right)\n",
    "\\left( {\\bf S} \\cdot {\\bf n}\\right) - \\tilde{J} \\left( {\\bf \\hat{p}} \\cdot {\\bf n} \\right) \\left( {\\bf S} \\cdot {\\bf v} \\right)\\right] \\xi^{2} \\tilde{B}^{2} \\right\\} \\nonumber \\\\\n",
    "&& + \\frac{ e^{-3 \\tilde{\\mu} - \\nu} \\omega_{\\cos\\theta} }{ 2 \\tilde{B} \\left( \\sqrt{Q} + 1 \\right) \\sqrt{Q} } \\left\\{ -e^{2 \\left( \\tilde{\\mu} + \\nu \\right)} \\left( {\\bf \\hat{p}} \\cdot {\\bf \\xi} r \\right)^{2} \\left( {\\bf S} \\cdot {\\bf n} \\right) + e^{\\tilde{\\mu} +\\nu} \\tilde{J} \\left( {\\bf \\hat{p}} \\cdot {\\bf n} \\right) \\left( {\\bf \\hat{p}} \\cdot {\\bf \\xi} r \\right) \\left( {\\bf S} \\cdot {\\bf \\xi} \\right) \\tilde{B} \\right. \\nonumber \\\\\n",
    "&& \\left. + \\left[ \\left( {\\bf S} \\cdot {\\bf n} \\right) \\left( {\\bf \\hat{p}} \\cdot {\\bf v} r \\right)^{2} - \\tilde{J} \\left( {\\bf \\hat{p}} \\cdot {\\bf n} \\right) \\left( {\\bf S} \\cdot {\\bf v} \\right) \\left( {\\bf \\hat{p}} \\cdot {\\bf v} r\\right) - e^{2 \\tilde{\\mu}} \\left( 1 + \\sqrt{Q} \\right) \\sqrt{Q} \\left( {\\bf S} \\cdot {\\bf n} \\right) \\xi^{2} \\right] \\tilde{B}^{2} \\right\\}.\n",
    "\\end{eqnarray}\n",
    "\n",
    "See [this cell](#HsoHsscommon) for futher definitions."
   ]
  },
  {
   "cell_type": "markdown",
   "metadata": {},
   "source": [
    "<a id='HsoHsscommon'></a>\n",
    "\n",
    "# Step 6: Terms Common to $H_{\\rm SO}$ and $H_{\\rm SS}$\n",
    "\n",
    "From BB2010 Equations (5.48)--(5.51):\n",
    "\n",
    "\\begin{align}\n",
    "\\tilde{B} &= BR = \\sqrt{ \\Delta_{t} } \\\\\n",
    "\\tilde{B}_r &= B_r R = \\frac{ \\sqrt{\\Delta_{r}} \\Delta_{t}^{\\prime} - 2 \\Delta_{t} }{ 2 \\sqrt{\\Delta_{r} \\Delta_{r}} } \\\\\n",
    "e^{2 \\tilde{\\mu}} &= e^{2 \\mu} R^2 = \\Sigma \\\\\n",
    "\\tilde{J} &= J R = \\sqrt{\\Delta_{r}} \\\\\n",
    "\\end{align}\n",
    "\n",
    "From BB2010 Equations (5.31) and (5.32):\n",
    "\n",
    "\\begin{align}\n",
    "    \\omega = \\frac{ \\tilde{\\omega}_{\\rm fd} }{ \\Lambda_{t} } \\\\\n",
    "    e^{2 \\nu} = \\frac{ \\Delta_{t} \\Sigma }{ \\Lambda_{t} }.\n",
    "\\end{align}\n",
    "\n",
    "From BB2010 Equations (5.47a)--(5.47h):\n",
    "\n",
    "\\begin{align}\n",
    "    B_{r} &= \\frac{ \\sqrt{ \\Delta_{r} } \\Delta_{t}^{\\prime} - 2 \\Delta_{t} }{ 2 \\sqrt{ \\Delta_{r} \\Delta_{t} } R } \\\\\n",
    "    \\omega_{r} &= \\frac{ -\\Lambda^{\\prime}_{t} \\tilde{\\omega}_{\\rm fd} + \\Lambda_{t} \\tilde{\\omega}^{\\prime}_{\\rm fd} }{ \\Lambda_{t}^{2} } \\\\                                                                                                                                      \n",
    "    \\nu_{r} &= \\frac{ r }{ \\Sigma } + \\frac{ \\varpi^{2} \\left( \\varpi^{2} \\Delta_{t}^\\prime - 4 r \\Delta_{t} \\right) }{ 2 \\Lambda_{t} \\Delta_{t} } \\\\\n",
    "    \\mu_{r} &= \\frac{ r }{ \\Sigma } - \\frac{ 1 }{ \\sqrt{ \\Delta_{r} } } \\\\\n",
    "    B_{\\cos \\theta} &= 0\\\\\n",
    "    \\omega_{\\cos \\theta} =& -\\frac{2 a^2 \\cos \\theta \\Delta_{t} \\tilde{\\omega}_{\\rm fd} }{ \\Lambda_t^{2} } \\\\\n",
    "    \\nu_{\\cos \\theta} &= \\frac{a^2 \\varpi^{2} \\cos \\theta \\left( \\varpi^{2} - \\Delta{_t} \\right) }{ \\Lambda{_t} \\Sigma } \\\\                                                                                                                                                                              \n",
    "    \\mu_{\\cos \\theta} &= \\frac{a^2 \\cos \\theta }{ \\Sigma }                                                                                                                                       \n",
    "\\end{align}\n",
    "\n",
    "From BB2010 Equations (5.48)--(5.52):\n",
    "\n",
    "\\begin{align}\n",
    "    \\tilde{B} &= BR = \\sqrt{ \\Delta_{t} } \\\\\n",
    "    \\tilde{B}_{r} &= B_{r} R = \\frac{ \\sqrt{ \\Delta_{r} } \\Delta_{t}^{\\prime} - 2 \\Delta_{t} }{ 2 \\sqrt{ \\Delta_{r} \\Delta_{t} } } \\\\\n",
    "    e^{2 \\tilde{\\mu}} &= e^{2 \\mu} R^{2} = \\Sigma \\\\\n",
    "    \\tilde{J} &= J R = \\sqrt{ \\Delta_{r} } \\\\\n",
    "    Q &= 1 + \\frac{ \\Delta_{r} \\left( \\hat{\\bf p} \\cdot {\\bf n} \\right)^{2} }{ \\Sigma } + \\frac{ \\left( \\hat{\\bf p} \\cdot \\boldsymbol{\\xi} r \\right)^{2} \\Sigma }{ \\Lambda_{t} \\sin^{2} \\theta } + \\frac{ \\left( \\hat{\\bf p} \\cdot {\\bf v} r \\right)^{2} }{ \\Sigma \\sin^{2} \\theta }\n",
    "\\end{align}"
   ]
  },
  {
   "cell_type": "markdown",
   "metadata": {},
   "source": [
    "<a id='HdTerms'></a>\n",
    "\n",
    "# Step 8: The $H_{\\rm D}$ Terms \\[Back to [top](#toc)\\]\n",
    "$$\\label{HdTerms}$$\n",
    "\n",
    "Recall\n",
    "\n",
    "\\begin{equation}\n",
    "    H_{\\rm D} = H_{\\rm D}\\ {\\rm coeffecient} * H_{\\rm D}\\ {\\rm sum}.\n",
    "\\end{equation}\n",
    "\n",
    "In this step we break down each of [$H_{\\rm D}\\ {\\rm coefficient}$](#Hdcoeff) and [$H_{\\rm D}\\ {\\rm sum}$](#Hdsum)."
   ]
  },
  {
   "cell_type": "markdown",
   "metadata": {},
   "source": [
    "<a id='Hdcoeff'></a>\n",
    "\n",
    "## Step 8a: $H_{\\rm D}$ Coefficient \\[Back to [top](#toc)\\]\n",
    "$$\\label{Hdcoeff}$$\n",
    "\n",
    "We have\n",
    "\n",
    "\\begin{equation}\n",
    "    H_{\\rm D}\\ {\\rm coefficient} = -\\frac{ \\eta }{ 2 r^{3} },\n",
    "\\end{equation}\n",
    "\n",
    "and to save a few FLOPs we'll write\n",
    "\n",
    "\\begin{equation}\n",
    "    H_{\\rm D}\\ {\\rm coefficient} = -\\frac{ \\eta u^{3} }{ 2 }.\n",
    "\\end{equation}\n",
    "\n",
    "We define [$\\eta$](#mass_terms) and [$u$](#radius_terms) elsewhere."
   ]
  },
  {
   "cell_type": "code",
   "execution_count": 14,
   "metadata": {},
   "outputs": [
    {
     "name": "stdout",
     "output_type": "stream",
     "text": [
      "Appending to SEOBNR/Hamiltonian.txt\n"
     ]
    }
   ],
   "source": [
    "%%writefile -a SEOBNR/Hamiltonian.txt\n",
    "\n",
    "Hdcoeff = -sp.Rational(1,2)*eta*u3"
   ]
  },
  {
   "cell_type": "markdown",
   "metadata": {},
   "source": [
    "<a id='Hdsum'></a>\n",
    "\n",
    "## Step 8b: $H_{\\rm D}$ Sum \\[Back to [top](#toc)\\]\n",
    "$$\\label{Hdsum}$$\n",
    "\n",
    "We write\n",
    "\n",
    "\\begin{align}\n",
    "    H_{\\rm D}\\ {\\rm sum} &= \\left( \\delta^{ij} - 3 n^{i} n^{j} \\right) S^{*}_{i} S^{*}_{j} \\\\\n",
    "        &= \\underbrace{\\delta^{ij} S^{*}_{i} S^{*}_{j}}_{\\rm Term\\ 1} - \\underbrace{3 n^{i} n^{j} S^{*}_{i} S^{*}_{j}}_{\\rm Term\\ 2}.\n",
    "\\end{align}"
   ]
  },
  {
   "cell_type": "code",
   "execution_count": 15,
   "metadata": {},
   "outputs": [
    {
     "name": "stdout",
     "output_type": "stream",
     "text": [
      "Appending to SEOBNR/Hamiltonian.txt\n"
     ]
    }
   ],
   "source": [
    "%%writefile -a SEOBNR/Hamiltonian.txt\n",
    "\n",
    "Hdsum = HdsumTerm1 - HdsumTerm2"
   ]
  },
  {
   "cell_type": "markdown",
   "metadata": {},
   "source": [
    "### $H_{\\rm D}$ Sum Term 1\n",
    "\n",
    "We have\n",
    "\n",
    "\\begin{equation}\n",
    "    H_{\\rm D}\\ {\\rm sum\\ Term\\ 1} = \\delta^{ij} S^{*}_{i} S^{*}_{j}\n",
    "\\end{equation}\n",
    "\n",
    "where $\\delta^{ij}$ is the Kronecker delta:\n",
    "\n",
    "\\begin{equation}\n",
    "    \\delta_{ij} = \\left\\{ \\begin{array}{cc}\n",
    "        0, & i \\not= j \\\\\n",
    "        1, & i = j. \\end{array} \\right.\n",
    "\\end{equation}\n",
    "\n",
    "Thus we have\n",
    "\n",
    "\\begin{equation}\n",
    "    H_{\\rm D}\\ {\\rm sum\\ Term\\ 1} = S^{*}_{1} S^{*}_{1} + S^{*}_{2} S^{*}_{2} + S^{*}_{3} S^{*}_{3}\n",
    "\\end{equation}\n",
    "\n",
    "We define [${\\bf S}^{*}$](#Hreal_spin_combos) as a combination of spins."
   ]
  },
  {
   "cell_type": "code",
   "execution_count": 16,
   "metadata": {},
   "outputs": [
    {
     "name": "stdout",
     "output_type": "stream",
     "text": [
      "Appending to SEOBNR/Hamiltonian.txt\n"
     ]
    }
   ],
   "source": [
    "%%writefile -a SEOBNR/Hamiltonian.txt\n",
    "\n",
    "HdsumTerm1 = Sstar1**2 + Sstar2**2 + Sstar3**2"
   ]
  },
  {
   "cell_type": "markdown",
   "metadata": {},
   "source": [
    "### $H_{\\rm D}$ Sum Term 2\n",
    "\n",
    "We have\n",
    "\n",
    "\\begin{align}\n",
    "    H_{\\rm D}\\ {\\rm sum\\ Term\\ 2} &= 3 n^{i} n^{j} S^{*}_{i} S^{*}_{j} \\\\\n",
    "        &= 3 \\left( {\\bf S}^{*} \\cdot {\\bf n} \\right)^{2} \\\\\n",
    "\\end{align}\n",
    "\n",
    "\n",
    "We define [${\\bf S}^{*} \\cdot {\\bf n}$](#Sstardotn) elsewhere."
   ]
  },
  {
   "cell_type": "code",
   "execution_count": 17,
   "metadata": {},
   "outputs": [
    {
     "name": "stdout",
     "output_type": "stream",
     "text": [
      "Appending to SEOBNR/Hamiltonian.txt\n"
     ]
    }
   ],
   "source": [
    "%%writefile -a SEOBNR/Hamiltonian.txt\n",
    "\n",
    "HdsumTerm2 = 3*Sstardotn**2"
   ]
  },
  {
   "cell_type": "markdown",
   "metadata": {},
   "source": [
    "<a id='momentum_terms'></a>\n",
    "\n",
    "# Step N-5: The Momentum Terms \\[Back to [top](#toc)\\]\n",
    "$$\\label{momentum_terms}$$\n",
    "\n",
    "We collect here a variety of terms dependent on the momentum ${\\bf p}$."
   ]
  },
  {
   "cell_type": "markdown",
   "metadata": {},
   "source": [
    "<a id='Qminus1'></a>\n",
    "\n",
    "## Qminus1 \\[Back to [top](#toc)\\]\n",
    "$$\\label{Qminus1}$$\n",
    "\n",
    "First, we specify Qminus1:\n",
    "\n",
    "\\begin{equation}\n",
    "    {\\rm Qminus1} = Q - 1.\n",
    "\\end{equation}\n",
    "\n",
    "We define [$Q$](#Q) elsewhere."
   ]
  },
  {
   "cell_type": "code",
   "execution_count": 18,
   "metadata": {},
   "outputs": [
    {
     "name": "stdout",
     "output_type": "stream",
     "text": [
      "Appending to SEOBNR/Hamiltonian.txt\n"
     ]
    }
   ],
   "source": [
    "%%writefile -a SEOBNR/Hamiltonian.txt\n",
    "\n",
    "Qminus1 = Q - 1"
   ]
  },
  {
   "cell_type": "markdown",
   "metadata": {},
   "source": [
    "<a id='Q'></a>\n",
    "\n",
    "## Q \\[Back to [top](#toc)\\]\n",
    "$$\\label{Q}$$\n",
    "\n",
    "From BB2010 Equation (5.52),\n",
    "\n",
    "\\begin{equation}\n",
    "    Q = 1 + \\underbrace{ \\frac{ \\Delta_{r} }{ \\Sigma } \\left( \\hat{\\bf p} \\cdot {\\bf n} \\right)^{2} }_{\\rm DrSipn2} + \\underbrace{ \\frac{ \\Sigma }{ \\Lambda_t \\sin^{2} \\theta } }_{\\rm Q\\ coefficient\\ 1} \\left( \\smash[b]{ \\underbrace{ \\hat{\\bf p} \\cdot \\boldsymbol{\\xi} r }_{\\rm pdotxir} } \\right)^{2} + \\underbrace{ \\frac{ 1 }{ \\Sigma \\sin^{2} \\theta } }_{\\rm Q\\ coefficient\\ 2} \\left( \\smash[b]{ \\underbrace{ \\hat{\\bf p} \\cdot {\\bf v} r }_{\\rm pdotvr} } \\right)^{2};\n",
    "\\end{equation}\n",
    "\n",
    "We group togther $\\frac{ \\Delta_{r} }{ \\Sigma } \\left( \\hat{\\bf p} \\cdot {\\bf n} \\right)^{2}$ as [DrSipn2](#DrSipn2), $\\frac{ \\Sigma }{ \\Lambda_t \\sin^{2} \\theta }$ as [Q coefficient 1](#Qcoeff1), $\\hat{\\bf p} \\cdot \\boldsymbol{\\xi} r$ as [$pdotxir$](#pdotxir), $\\frac{ 1 }{ \\Sigma \\sin^{2} \\theta }$ as [Q coefficient 2](#Qcoeff2), and $\\hat{\\bf p} \\cdot {\\bf v} r$ as [pdotvr](#pdotvr)."
   ]
  },
  {
   "cell_type": "code",
   "execution_count": 19,
   "metadata": {},
   "outputs": [
    {
     "name": "stdout",
     "output_type": "stream",
     "text": [
      "Appending to SEOBNR/Hamiltonian.txt\n"
     ]
    }
   ],
   "source": [
    "%%writefile -a SEOBNR/Hamiltonian.txt\n",
    "\n",
    "Q = 1 + DrSipn2 + Qcoeff1*pdotxir + Qcoeff2*pdotvr*pdotvr"
   ]
  },
  {
   "cell_type": "markdown",
   "metadata": {},
   "source": [
    "<a id='DrSipn2'></a>\n",
    "\n",
    "## DrSipn2 \\[Back to [top](#toc)\\]\n",
    "$$\\label{DrSipn2}$$\n",
    "\n",
    "We'll write\n",
    "\n",
    "\\begin{equation}\n",
    "    \\frac{ \\Delta_{r} }{ \\Sigma } \\left( \\hat{\\bf p} \\cdot {\\bf n} \\right)^{2} = \\Delta_{r} \\Sigma^{-1} * \\left( \\hat{\\bf p} \\cdot {\\bf n} \\right)^{2}.\n",
    "\\end{equation}\n",
    "\n",
    "We define $\\Delta_{r}$ as [Deltar](#Deltar), $\\Sigma^{-1}$ as [Sigmainv](#Sigmainv), and $\\hat{\\bf p} \\cdot {\\bf n}$ as [pdotn](#pdotn) elsewhere."
   ]
  },
  {
   "cell_type": "code",
   "execution_count": null,
   "metadata": {},
   "outputs": [],
   "source": [
    "%%writefile -a SEOBNR/Hamiltonian.txt\n",
    "\n",
    "DrSipn2 = Deltar*Sigmainv*pdotn*pdotn"
   ]
  },
  {
   "cell_type": "markdown",
   "metadata": {},
   "source": [
    "<a id='Sigmainv'></a>\n",
    "\n",
    "## $\\Sigma^{-1}$ \\[Back to [top](#toc)\\]\n",
    "$$\\label{Sigmainv}$$\n",
    "\n",
    "We'll write\n",
    "\n",
    "\\begin{equation}\n",
    "    {\\rm Sigmainv = \\frac{ 1 }{ \\Sigma }.\n",
    "\\end{equation}\n",
    "\n",
    "We define [$\\Sigma$](#Sigma) elsewhere."
   ]
  },
  {
   "cell_type": "markdown",
   "metadata": {},
   "source": [
    "<a id='Deltar'></a>\n",
    "\n",
    "## $\\Delta_{r}$ \\[Back to [top](#toc)\\]\n",
    "$$\\label{Deltar}$$\n",
    "\n",
    "From BB2010 Equation (5.38),\n",
    "\n",
    "\\begin{equation}\n",
    "    \\Delta_{r} = \\Delta_{t} D^{-1}(u).\n",
    "\\end{equation}\n",
    "\n",
    "We denote $\\Delta_{t}$ as [Deltat](#Deltat) and $D^{-1}(u)$ as [Dinv](#Dinv)."
   ]
  },
  {
   "cell_type": "code",
   "execution_count": 40,
   "metadata": {},
   "outputs": [
    {
     "name": "stdout",
     "output_type": "stream",
     "text": [
      "Appending to SEOBNR/Hamiltonian.txt\n"
     ]
    }
   ],
   "source": [
    "%%writefile -a SEOBNR/Hamiltonian.txt\n",
    "\n",
    "Deltar = Deltat*Dinv"
   ]
  },
  {
   "cell_type": "markdown",
   "metadata": {},
   "source": [
    "<a id='Dinv'></a>\n",
    "\n",
    "## $D^{-1}$ \\[Back to [top](#toc)\\]\n",
    "$$\\label{Dinv}$$\n",
    "\n",
    "From BB2010 Equation (5.383),\n",
    "\n",
    "\\begin{equation}\n",
    "    D^{-1} = 1 + \\log \\left[ 1 + 6 \\eta u^{2} + 2 \\left( 26 - 3 \\eta \\right) \\eta u^{3} \\right].\n",
    "\\end{equation}\n",
    "\n",
    "We define [eta](#mass_terms), [u2](#radius_terms), and [u3](#radius_terms) elsewhere."
   ]
  },
  {
   "cell_type": "code",
   "execution_count": 50,
   "metadata": {},
   "outputs": [
    {
     "name": "stdout",
     "output_type": "stream",
     "text": [
      "Appending to SEOBNR/Hamiltonian.txt\n"
     ]
    }
   ],
   "source": [
    "%%writefile -a SEOBNR/Hamiltonian.txt\n",
    "\n",
    "Dinv = 1 + sp.log(1 + 6*eta*u2 + 2*(26 - 3*eta)*eta*u3)"
   ]
  },
  {
   "cell_type": "markdown",
   "metadata": {},
   "source": [
    "<a id='pdotn'></a>\n",
    "\n",
    "## $\\hat{\\bf p} \\cdot {\\bf n}$ \\[Back to [top](#toc)\\]\n",
    "$$\\label{pdotn}$$\n",
    "\n",
    "We have\n",
    "\n",
    "\\begin{align}\n",
    "    {\\rm pdotn} &= \\hat{\\bf p} \\cdot {\\bf n} \\\\\n",
    "        &= p_{1} n_{1} + p_{2} n_{2} + p_{3} n_{3}\n",
    "\\end{align}\n",
    "\n",
    "Later we define [${\\bf n}$](#n)."
   ]
  },
  {
   "cell_type": "code",
   "execution_count": 39,
   "metadata": {},
   "outputs": [
    {
     "name": "stdout",
     "output_type": "stream",
     "text": [
      "Appending to SEOBNR/Hamiltonian.txt\n"
     ]
    }
   ],
   "source": [
    "%%writefile -a SEOBNR/Hamiltonian.txt\n",
    "\n",
    "pdotn = p1*n1 + p2*n2 + p3*n3"
   ]
  },
  {
   "cell_type": "markdown",
   "metadata": {},
   "source": [
    "<a id='Deltat'></a>\n",
    "\n",
    "## $\\Delta_{t}$ \\[Back to [top](#toc)\\]\n",
    "$$\\label{Deltat}$$\n",
    "\n",
    "From BB2010 Equation (5.71), we have\n",
    "\n",
    "\\begin{equation}\n",
    "    \\Delta_{t} = r^{2} \\Delta_{u}.\n",
    "\\end{equation}\n",
    "\n",
    "We denote $r^{2}$ by [r2](#radius_terms) and $\\Delta_{u}(u)$ by [Deltau](#Deltau)."
   ]
  },
  {
   "cell_type": "code",
   "execution_count": 43,
   "metadata": {},
   "outputs": [
    {
     "name": "stdout",
     "output_type": "stream",
     "text": [
      "Appending to SEOBNR/Hamiltonian.txt\n"
     ]
    }
   ],
   "source": [
    "%%writefile -a SEOBNR/Hamiltonian.txt\n",
    "\n",
    "Deltat = r2*Deltau"
   ]
  },
  {
   "cell_type": "markdown",
   "metadata": {},
   "source": [
    "<a id='Deltau'></a>\n",
    "\n",
    "## $\\Delta_{u}$ \\[Back to [top](#toc)\\]\n",
    "$$\\label{Deltau}$$\n",
    "\n",
    "From BB2010 Equation (5.73), we have\n",
    "\n",
    "\\begin{equation}\n",
    "    \\Delta_u = \\bar{\\Delta}_{u} (u) \\left[ \\smash[b]{\\underbrace{ 1 + \\eta \\Delta_{0} + \\eta \\log \\left( 1 + \\Delta_{1} u + \\Delta_{2} u^{2} + \\Delta_{3} u^{3} + \\Delta_{4} u^{4} \\right) }_{\\Delta_{u}\\ {\\rm calibration\\ term}}} \\vphantom{\\underbrace{1}_{n}} \\right]\n",
    "\\end{equation}\n",
    "\n",
    "We denote $\\bar{\\Delta}_{u}$ by [Deltaubar](#Deltaubar) and define [$\\Delta_{u}$ calibration term](#Deltaucalib) elsewhere.  <font color='red'>Note that we take the absolute value of $\\Delta_{u}$ in the LALSuite code (see LALSimIMRSpinEOBHamiltonianPrec.c line 279.</font>"
   ]
  },
  {
   "cell_type": "code",
   "execution_count": 44,
   "metadata": {},
   "outputs": [
    {
     "name": "stdout",
     "output_type": "stream",
     "text": [
      "Appending to SEOBNR/Hamiltonian.txt\n"
     ]
    }
   ],
   "source": [
    "%%writefile -a SEOBNR/Hamiltonian.txt\n",
    "\n",
    "Deltau = Deltaubar*Deltaucalib"
   ]
  },
  {
   "cell_type": "markdown",
   "metadata": {},
   "source": [
    "<a id='Deltaucalib'></a>\n",
    "\n",
    "## $\\Delta_{u}$ Calibration Term \\[Back to [top](#toc)\\]\n",
    "$$\\label{Deltaucalib}$$\n",
    "\n",
    "From BB2010 Equation (5.73), we have\n",
    "\n",
    "\\begin{align}\n",
    "    \\Delta_u\\ {\\rm calibration term} &= 1 + \\eta \\Delta_{0} + \\eta \\log \\left( 1 + \\Delta_{1} u + \\Delta_{2} u^{2} + \\Delta_{3} u^{3} + \\Delta_{4} u^{4} \\right) \\\\\n",
    "        &= 1 + \\eta \\left[ \\Delta_{0} + \\log \\left( 1 + \\Delta_{1} u + \\Delta_{2} u^{2} + \\Delta_{3} u^{3} + \\Delta_{4} u^{4} \\right) \\right].\n",
    "\\end{align}\n",
    "\n",
    "We define [$u$](#radius_terms) elsewhere.  Each of $\\Delta_{i}$, $i \\in \\left\\{0, 1, 2, 3, 4\\right\\}$ are defined [here](#calib_coeffs).  <font color='red'>Note that in the LALSuite code (see LALSimIMRSpinEOBHamiltonianPrec.c line 274 there are two more terms; whence do they originate?</font>"
   ]
  },
  {
   "cell_type": "code",
   "execution_count": null,
   "metadata": {},
   "outputs": [],
   "source": [
    "%%writefile -a SEOBNR/Hamiltonian.txt\n",
    "\n",
    "Deltaucalib = 1 + eta*(Delta0 + sp.log(1 + Delta1*u + Delta2*u2 + Delta3*u3 + Delta4*u4))"
   ]
  },
  {
   "cell_type": "markdown",
   "metadata": {},
   "source": [
    "<a id='calib_coeffs'></a>\n",
    "\n",
    "## Calibration Coefficients $\\Delta_{i}$, $i \\in \\left\\{0, 1, 2, 3, 4\\right\\}$ \\[Back to [top](#toc)\\]\n",
    "$$\\label{calib_coeffs}$$\n",
    "\n",
    "From BB2010 Equations (5.77)--(5.81), we have\n",
    "\n",
    "\\begin{align}\n",
    "    \\Delta_{0} &= K \\left( \\eta K - 2 \\right) \\\\\n",
    "    \\Delta_{1} &= -2 \\left( \\eta K - 1 \\right) \\left( K + \\Delta_{0} \\right) \\\\\n",
    "    \\Delta_{2} &= \\frac{1}{2} \\Delta_{1} \\left( -4 \\eta K + \\Delta_{1} + 4 \\right) - \\frac{ a^{2} }{ M^{2} } \\left( \\eta K - 1 \\right)^{2} \\\\\n",
    "    \\Delta_{3} &= \\frac{1}{3} \\left[ -\\Delta_{1}^{3} + 3 \\left( \\eta K - 1 \\right) \\Delta_{1}^{2} + 3 \\Delta_{2} \\Delta_{1} - 6 \\left( \\eta K - 1 \\right) \\left( -\\eta K + \\Delta_{2} + 1 \\right) - 3 \\frac{ a^{2} }{ M^{2} } \\left( \\eta K - 1 \\right)^{2} \\Delta_{1} \\right] \\\\\n",
    "    \\Delta_{4} &= \\frac{1}{12} \\left\\{ 6 \\frac{ a^{2} }{ M^{2} } \\left( \\Delta_{1}^{2} - 2 \\Delta_{2} \\right) \\left( \\eta K - 1 \\right)^{2} + 3 \\Delta_{1}^{4} - 8 \\left( \\eta K - 1 \\right) \\Delta_{1}^{3} - 12 \\Delta_{2} \\Delta_{1}^{2} + 12 \\left[ 2 \\left( \\eta K - 1 \\right) \\Delta_{2} + \\Delta_{3} \\right] \\Delta_{1} + 12 \\left( \\frac{94}{3} - \\frac{41}{32} \\pi^{2} \\right) \\left( \\eta K - 1 \\right)^{2} + 6 \\left[ \\Delta_{2}^{2} - 4 \\Delta_{3} \\left( \\eta K - 1 \\right) \\right] \\right\\}\n",
    "\\end{align}\n",
    "\n",
    "We define [$K$](#K), [$\\eta$](#mass_terms), [$a$](#a_terms), and [$M$](#mass_terms), [etaKminus1](#etaKminus1), and [a2M2inv](#a2M2inv) elsewhere."
   ]
  },
  {
   "cell_type": "code",
   "execution_count": 48,
   "metadata": {},
   "outputs": [
    {
     "name": "stdout",
     "output_type": "stream",
     "text": [
      "Appending to SEOBNR/Hamiltonian.txt\n"
     ]
    }
   ],
   "source": [
    "%%writefile -a SEOBNR/Hamiltonian.txt\n",
    "\n",
    "Delta0 = K*(eta*K - 2)\n",
    "Delta1 = -2*etaKminus1*(K + Delta0)\n",
    "Delta2 = sp.Rational(1,2)*Delta1*(-4*eta*K + Delta1 + 4) - a2M2inv*etaKminus1**2\n",
    "Delta3 = sp.Rational(1,3)*(-Delta1***3 + 3*(etaKminus1*Delta1**2 + 3*Delta2*Delta1 - 6*etaKminus1*(-eta*K + Delta2 + 1)\n",
    "                                            - 3*a2M2inv*etaKminus1**2*Delta1))\n",
    "Delta4 = sp.Rational(1,12)*(6*a2M2inv*(\\Delta1**2 - 2*Delta2)*etaKminus1**2 + 3*Delta1**4 - 8*etaKminus1*Delta1**3\n",
    "                           -12*Delta2*Delta1**2 + 12*(2*etaKminus1*Delta2 + Delta2)*Delta1\n",
    "                           + 12*(sp.Rational(94,3) - sp.Rational(41,32)*pi**2)*etaKminus1**2\n",
    "                           + 6*(Delta2**2 - 4*Delta3*etaKminus1))"
   ]
  },
  {
   "cell_type": "markdown",
   "metadata": {},
   "source": [
    "<a id='a2M2inv'></a>\n",
    "\n",
    "## a2M2inv \\[Back to [top](#toc)\\]\n",
    "$$\\label{a2M2inv}$$\n",
    "\n",
    "We have\n",
    "\n",
    "\\begin{equation}\n",
    "    {\\rm a2M2inv} = \\frac{ a^{2} }{ M^{2} }\n",
    "\\end{equation}\n",
    "\n",
    "We define [a2](#a_terms) and [$M$](#mass_terms) elsewhere."
   ]
  },
  {
   "cell_type": "code",
   "execution_count": 49,
   "metadata": {},
   "outputs": [
    {
     "name": "stdout",
     "output_type": "stream",
     "text": [
      "Appending to SEOBNR/Hamiltonian.txt\n"
     ]
    }
   ],
   "source": [
    "%%writefile -a SEOBNR/Hamiltonian.txt\n",
    "\n",
    "a2M2inv = a2/(M*M)"
   ]
  },
  {
   "cell_type": "markdown",
   "metadata": {},
   "source": [
    "<a id='Deltaubar'></a>\n",
    "\n",
    "## $\\bar{\\Delta}_{u}$ \\[Back to [top](#toc)\\]\n",
    "$$\\label{Deltaubar}$$\n",
    "\n",
    "From BB2010 Equation (5.75), we have\n",
    "\n",
    "\\begin{equation}\n",
    "    \\bar{\\Delta}_u = \\frac{ a^{2} u^{2} }{ M^{2} } + \\frac{ 1 }{ \\eta K - 1 } \\left( 2 u + \\frac{ 1 }{ \\eta K - 1 } \\right)\n",
    "\\end{equation}\n",
    "\n",
    "We denote $a^{2}$ by [a2](#a_terms), $u^{2}$ by [u2](#radius_terms), and $\\frac{ 1 }{ \\eta K - 1 }$ by [etaKminus1inv](#etaKminus1)."
   ]
  },
  {
   "cell_type": "code",
   "execution_count": null,
   "metadata": {},
   "outputs": [],
   "source": [
    "%%writefile -a SEOBNR/Hamiltonian.txt\n",
    "\n",
    "Deltaubar = s2*u2/(M*M) + etaKminus1inv*(2u + etaKminus1inv)"
   ]
  },
  {
   "cell_type": "markdown",
   "metadata": {},
   "source": [
    "<a id='etaKminus1inv'></a>\n",
    "\n",
    "## $\\frac{ 1 }{ \\eta K - 1 }$ \\[Back to [top](#toc)\\]\n",
    "$$\\label{etaKminus1inv}$$\n",
    "\n",
    "We write\n",
    "\n",
    "\\begin{equation}\n",
    "    {\\rm etaKminus1inv} = \\frac{ 1 }{ \\underbrace{\\eta K - 1}_{\\rm etaKminus1} }\n",
    "\\end{equation}\n",
    "\n",
    "We define [etaKminus1](#etaKminus1) elsewhere."
   ]
  },
  {
   "cell_type": "code",
   "execution_count": null,
   "metadata": {},
   "outputs": [],
   "source": [
    "%%writefile -a SEOBNR/Hamiltonian.txt\n",
    "\n",
    "etaKminus1inv = 1/etaKminus1"
   ]
  },
  {
   "cell_type": "markdown",
   "metadata": {},
   "source": [
    "<a id='etaKminus1'></a>\n",
    "\n",
    "## $\\eta K - 1$ \\[Back to [top](#toc)\\]\n",
    "$$\\label{etaKminus1}$$\n",
    "\n",
    "We write\n",
    "\n",
    "\\begin{equation}\n",
    "    {\\rm etaKminus1} = \\eta K - 1\n",
    "\\end{equation}\n",
    "\n",
    "We define [$\\eta$](#mass_terms) and [$K$](#K) elsewhere."
   ]
  },
  {
   "cell_type": "code",
   "execution_count": 46,
   "metadata": {},
   "outputs": [
    {
     "name": "stdout",
     "output_type": "stream",
     "text": [
      "Appending to SEOBNR/Hamiltonian.txt\n"
     ]
    }
   ],
   "source": [
    "%%writefile -a SEOBNR/Hamiltonian.txt\n",
    "\n",
    "etaKminus1 = eta*K - 1"
   ]
  },
  {
   "cell_type": "markdown",
   "metadata": {},
   "source": [
    "<a id='K'></a>\n",
    "\n",
    "## $K$ \\[Back to [top](#toc)\\]\n",
    "$$\\label{K}$$\n",
    "\n",
    "Following the discussion in the two paragrahs after BB2010 Equation (6.11), we have\n",
    "\n",
    "\\begin{equation}\n",
    "    K = 1.4467 \\left( 1 - 4 \\eta \\right)^{2} + 4 \\left( 1 - 2 \\eta \\right) \\eta.\n",
    "\\end{equation}\n",
    "\n",
    "We define [$\\eta$](#mass_terms) elsewhere."
   ]
  },
  {
   "cell_type": "code",
   "execution_count": 47,
   "metadata": {},
   "outputs": [
    {
     "name": "stdout",
     "output_type": "stream",
     "text": [
      "Appending to SEOBNR/Hamiltonian.txt\n"
     ]
    }
   ],
   "source": [
    "%%writefile -a SEOBNR/Hamiltonian.txt\n",
    "\n",
    "K = 1.4467*(1 - 4*eta)**2 + 4*(1 - 2*eta)*eta"
   ]
  },
  {
   "cell_type": "markdown",
   "metadata": {},
   "source": [
    "<a id='a_terms'></a>\n",
    "\n",
    "## $a$ and $a^{2}$ \\[Back to [top](#toc)\\]\n",
    "$$\\label{a_terms}$$\n",
    "\n",
    "From BB2010 Equation (4.9), we have\n",
    "\n",
    "\\begin{equation}\n",
    "    a = \\frac{ \\left\\lvert {\\bf S}_{\\rm Kerr} \\right\\rvert }{ M } = \\frac{ \\sqrt{ {\\bf S}_{\\rm Kerr}^{1} {\\bf S}_{\\rm Kerr}^{1} + {\\bf S}_{\\rm Kerr}^{2} {\\bf S}_{\\rm Kerr}^{2} + {\\bf S}_{\\rm Kerr}^{3} {\\bf S}_{\\rm Kerr}^{3} } }{ M }\n",
    "\\end{equation}\n",
    "\n",
    "whence\n",
    "\n",
    "\\begin{equation}\n",
    "    a^{2} = \\frac{ {\\bf S}_{\\rm Kerr}^{1} {\\bf S}_{\\rm Kerr}^{1} + {\\bf S}_{\\rm Kerr}^{2} {\\bf S}_{\\rm Kerr}^{2} + {\\bf S}_{\\rm Kerr}^{3} {\\bf S}_{\\rm Kerr}^{3} }{ M^{2} }.\n",
    "\\end{equation}\n",
    "\n",
    "We define [${\\bf S}_{\\rm Kerr}$](#Hreal_spin_combos) elsewhere."
   ]
  },
  {
   "cell_type": "code",
   "execution_count": 45,
   "metadata": {},
   "outputs": [
    {
     "name": "stdout",
     "output_type": "stream",
     "text": [
      "Appending to SEOBNR/Hamiltonian.txt\n"
     ]
    }
   ],
   "source": [
    "%%writefile -a SEOBNR/Hamiltonian.txt\n",
    "\n",
    "a2 = (Skerr1*Skerr1 + Skerr2*Skerr2 + Skerr3*Skerr3) / (M*M)\n",
    "a = sp.sqrt(a2)"
   ]
  },
  {
   "cell_type": "markdown",
   "metadata": {},
   "source": [
    "<a id='alphabetagamma'></a>\n",
    "\n",
    "# Step N-4: The Metric-Dependent Terms $\\alpha$, $\\beta^{i}$, and $\\gamma^{ij}$ \\[Back to [top](#toc)\\]\n",
    "$$\\label{alphabetagamma}$$\n",
    "\n",
    "BB2010 specifies, in Equations (5.44)--(5.46), that for a spacetime metric $g$\n",
    "\n",
    "\\begin{align}\n",
    "    \\alpha &= \\frac{ 1 }{ \\sqrt{ - g^{tt} }} \\\\\n",
    "    \\beta^{i} &= \\frac{ g^{ti} }{ g^{tt} } \\\\\n",
    "    \\gamma^{ij} &= g^{ij} - \\frac{ g^{ti} g ^{tj} }{ g^{tt} }.\n",
    "\\end{align}\n",
    "\n",
    "To determine [$H_{\\rm real}$](#Hreal) we use the [deformed Kerr metric](#metric)."
   ]
  },
  {
   "cell_type": "markdown",
   "metadata": {},
   "source": [
    "<a id='Hreal_spin_combos'></a>\n",
    "\n",
    "# Step N-3: $H_{\\rm real}$ Spin Combinations ${\\bf S}^{*}$ and ${\\bf S}_{\\rm Kerr}$ \\[Back to [top](#toc)\\]\n",
    "$$\\label{Hreal_spin_combos}$$\n",
    "\n",
    "From BB2010 Equation (5.63):\n",
    "\n",
    "\\begin{equation}\n",
    "    {\\bf S}^{*} = \\boldsymbol{\\sigma}^{*} + \\frac{ 1 }{ c^{2} } \\boldsymbol{\\Delta}_{\\sigma^{*}}.\n",
    "\\end{equation}\n",
    "\n",
    "We define $\\boldsymbol{\\sigma}^{*}$ [here](#Heff_spin_combos) and $\\boldsymbol{\\Delta}_{\\sigma^{*}}$ [here](#Deltasigmastar).\n",
    "\n",
    "From BB2010 Equation (5.64):\n",
    "\n",
    "\\begin{equation}\n",
    "    {\\bf S}_{\\rm Kerr} = \\boldsymbol{\\sigma} + \\frac{ 1 }{ c^{2} } \\boldsymbol{\\Delta}_{\\sigma}.\n",
    "\\end{equation}\n",
    "\n",
    "We define $\\boldsymbol{\\sigma}$ [here](#Heff_spin_combos).  In BB2010 Equation (5.67), $\\boldsymbol{\\Delta}_{\\sigma} = 0$.  Furthermore, we take $c = 1$."
   ]
  },
  {
   "cell_type": "code",
   "execution_count": 21,
   "metadata": {},
   "outputs": [
    {
     "name": "stdout",
     "output_type": "stream",
     "text": [
      "Appending to SEOBNR/Hamiltonian.txt\n"
     ]
    }
   ],
   "source": [
    "%%writefile -a SEOBNR/Hamiltonian.txt\n",
    "\n",
    "Sstar1 = sigmastar1 + Deltasigmastar1\n",
    "Sstar2 = sigmastar2 + Deltasigmastar2\n",
    "Sstar3 = sigmastar3 + Deltasigmastar3\n",
    "Skerr1 = sigma1\n",
    "Skerr2 = sigma2\n",
    "Skerr3 = sigma3"
   ]
  },
  {
   "cell_type": "markdown",
   "metadata": {},
   "source": [
    "<a id='Heff_spin_combos'></a>\n",
    "\n",
    "# Step N-2: $H_{\\rm eff}$ Spin Combinations $\\boldsymbol{\\sigma}$ and $\\boldsymbol{\\sigma}^{*}$ \\[Back to [top](#toc)\\]\n",
    "$$\\label{Heff_spin_combos}$$\n",
    "\n",
    "From BB2010 Equation (5.2):\n",
    "\n",
    "\\begin{equation}\n",
    "    \\boldsymbol{\\sigma} = {\\bf S}_{1} + {\\bf S}_{2}.\n",
    "\\end{equation}\n",
    "\n",
    "From BB2010 Equation (5.3):\n",
    "\n",
    "\\begin{equation}\n",
    "    \\boldsymbol{\\sigma}^{*} = \\frac{ m_{2} }{ m_{1} } {\\bf S}_{1} + \\frac{ m_{1} }{ m_{2} }{\\bf S}_{2}.\n",
    "\\end{equation}\n",
    "\n",
    "These are both written completely in terms of intrinsic physical parameters."
   ]
  },
  {
   "cell_type": "code",
   "execution_count": 22,
   "metadata": {},
   "outputs": [
    {
     "name": "stdout",
     "output_type": "stream",
     "text": [
      "Appending to SEOBNR/Hamiltonian.txt\n"
     ]
    }
   ],
   "source": [
    "%%writefile -a SEOBNR/Hamiltonian.txt\n",
    "\n",
    "sigma1 = S1x + S2x\n",
    "sigma2 = S1y + S2y\n",
    "sigma3 = S3z + S3z\n",
    "sigmastar1 = m2/m1*S1x + m1/m2*S2x\n",
    "sigmastar2 = m2/m1*S1y + m1/m2*S2y\n",
    "sigmastar3 = m2/m1*S1z + m1/m2*S2z"
   ]
  },
  {
   "cell_type": "markdown",
   "metadata": {},
   "source": [
    "<a id='mass_terms'></a>\n",
    "\n",
    "# Step N-1: Mass Terms $\\mu$, $M$, and $\\eta$ \\[Back to [top](#toc)\\]\n",
    "$$\\label{mass_terms}$$\n",
    "\n",
    "Each of the terms $\\mu$, $M$, and $\\eta$ are combinations of the massess $m_{1}$, $m_{2}$ and are defined in the discussion before BB2010 Equation (5.1):\n",
    "\n",
    "\\begin{align}\n",
    "    M &= m_{1} + m_{2} \\\\\n",
    "    \\mu &= \\frac{ m_{1} m_{2} }{ M } \\\\\n",
    "    \\eta &= \\frac{ \\mu }{ M }.\n",
    "\\end{align}\n",
    "\n",
    "Written completely in terms of the intrinsic physical parameters,\n",
    "\n",
    "\\begin{align}\n",
    "    \\mu &= \\frac{ m_{2} m_{2} }{ m_{1} + m_{2} } \\\\\n",
    "    \\eta &= \\frac{ m_{1} m_{2} }{ \\left( m_{1} + m_{2} \\right)^{2} }.\n",
    "\\end{align}"
   ]
  },
  {
   "cell_type": "code",
   "execution_count": 23,
   "metadata": {},
   "outputs": [
    {
     "name": "stdout",
     "output_type": "stream",
     "text": [
      "Appending to SEOBNR/Hamiltonian.txt\n"
     ]
    }
   ],
   "source": [
    "%%writefile -a SEOBNR/Hamiltonian.txt\n",
    "\n",
    "eta = mu/M\n",
    "mu = m1*m2/M\n",
    "M = m1 + m2"
   ]
  },
  {
   "cell_type": "markdown",
   "metadata": {},
   "source": [
    "<a id='radius_terms'></a>\n",
    "\n",
    "# Step ?: Radius Terms $u$ \\[Back to [top](#toc)\\]\n",
    "$$\\label{radius_terms}$$\n",
    "\n",
    "Each of the terms $u$, $u2$, $u3$, $u4$, and $u5$ are powers of $r^{-1}$:\n",
    "\n",
    "\\begin{align}\n",
    "    u &= \\frac{ 1 }{ r } \\\\\n",
    "    u2 &= u^{2} \\\\\n",
    "    u3 &= u^{3} \\\\\n",
    "    u4 &= u^{4} \\\\\n",
    "    u5 &= u^{5}.\n",
    "\\end{align}\n",
    "\n",
    "To save a few FLOPs, we also collect powers of $r$:\n",
    "\n",
    "\\begin{align}\n",
    "    r2 &= r^{2} \\\\\n",
    "    r3 &= r^{3}.\n",
    "\\end{align}"
   ]
  },
  {
   "cell_type": "code",
   "execution_count": 41,
   "metadata": {},
   "outputs": [
    {
     "name": "stdout",
     "output_type": "stream",
     "text": [
      "Appending to SEOBNR/Hamiltonian.txt\n"
     ]
    }
   ],
   "source": [
    "%%writefile -a SEOBNR/Hamiltonian.txt\n",
    "\n",
    "u = 1/r\n",
    "u2 = u*u\n",
    "u3 = u2*u\n",
    "u4 = u3*u\n",
    "u5 = u4*u\n",
    "r2 = r*r\n",
    "r3 = r2*r"
   ]
  },
  {
   "cell_type": "markdown",
   "metadata": {},
   "source": [
    "<a id='metric'></a>\n",
    "\n",
    "# Step N: The Metric $g$ of Choice \\[Back to [top](#toc)\\]\n",
    "$$\\label{metric}$$\n",
    "\n",
    "In BB2010 Equations (5.36a)--(5.36e), we are given the appropriate choice of metric via\n",
    "\n",
    "\\begin{align}\n",
    "    g^{tt} &= -\\frac{ \\Lambda_{t} }{ \\Delta_{t} \\Sigma } \\\\\n",
    "    g^{rr} &= \\frac{ \\Delta_{r} }{ \\Sigma } \\\\\n",
    "    g^{\\theta\\theta} &= \\frac{ 1 }{ \\Sigma } \\\\\n",
    "    g^{\\phi\\phi} &= \\frac{ 1 }{ \\Lambda_{t} } \\left( -\\frac{ \\tilde{\\omega}_{\\rm fd}^{2} }{ \\Delta_{t} \\Sigma } + \\frac{ \\Sigma }{ \\sin^{2} \\theta } \\right) \\\\\n",
    "    g^{t\\phi} &= -\\frac{ \\tilde{\\omega}_{\\rm fd} }{ \\Delta_{t} \\Sigma }\n",
    "\\end{align}\n",
    "\n",
    "We define [$\\Lambda_{t}$](#Lambda), [$\\Delta_{t}$](#Deltat), [$\\Sigma$](#Sigma), [$\\Delta_{r}$](#Deltar), [$\\tilde{\\omega}_{\\rm fd}$](#omegatilde) elsewhere."
   ]
  },
  {
   "cell_type": "code",
   "execution_count": 25,
   "metadata": {},
   "outputs": [
    {
     "name": "stdout",
     "output_type": "stream",
     "text": [
      "Appending to SEOBNR/Hamiltonian.txt\n"
     ]
    }
   ],
   "source": [
    "%%writefile -a SEOBNR/Hamiltonian.txt\n",
    "\n",
    "gtt = -Lambda/Deltat/Sigma\n",
    "grr = Deltar/Sigma\n",
    "ghh = 1/Sigma\n",
    "gpp = 1/Lambda*(-omegatilda**2/Deltat/Sigma + Sigma/(sintheta**2))\n",
    "gtp = -omegatilde/Deltat/Sigma"
   ]
  },
  {
   "cell_type": "markdown",
   "metadata": {},
   "source": [
    "From Equations (5.73)--(5.76) we have\n",
    "\n",
    "\\begin{align}\n",
    "\\Delta_{u} &= \\bar{\\Delta}_u(u) \\left[ 1 + \\eta \\Delta_0 + \\eta \\log \\left( 1 + \\Delta_1 u + \\Delta_2 u^2 + \\Delta_3 u^3 + \\Delta_4 u^4 \\right) \\right] \\\\\n",
    "    \\bar{\\Delta}_u(u) &= \\frac{ a^{2} u^{2} }{ M^{2} } + \\frac{ 2 u }{ \\eta K - 1 } + \\frac{ 1 }{ \\left( \\eta K - 1 \\right)^{2} }\n",
    "\\end{align}\n",
    "\n",
    "where $K$ is an adjustable parameter.  The coefficients $\\Delta_{0}, \\Delta_{1}, ..., \\Delta_{4}$ are given in BB2010 Equations (5.77)--(5.81):\n",
    "\n",
    "\\begin{align}\n",
    "    \\Delta_0 &= K \\left( \\eta K - 2 \\right) \\\\\n",
    "    \\Delta_1 &= -2 \\left( \\eta K - 1 \\right) \\left( K + \\Delta_0 \\right) \\\\\n",
    "    \\Delta_2 &= \\frac{1}{2} \\Delta_1 \\left( -4 \\eta K + \\Delta_1 + 4 \\right) - \\frac{ a^{2} }{ M^{2} } \\left( \\eta K - 1 \\right)^{2} \\Delta_0 \\\\\n",
    "    \\Delta_3 &= \\frac{1}{3} \\left[ -\\Delta_1^{3} + 3 \\left( \\eta K - 1 \\right) \\Delta_1^{2} + 3 \\Delta_2 \\Delta_1 - 6 \\left( \\eta K - 1 \\right) \\left( -\\eta K + \\Delta_2 + 1 \\right) - 3 \\frac{ a^{2} }{ M^{2} } \\left( \\eta K - 1 \\right)^{2} \\Delta_1 \\right] \\\\\n",
    "    \\Delta_4 &= \\frac{1}{12} \\left\\{ 6 \\frac{ a^{2} }{ M^{2} } \\left( \\Delta_1^{2} - 2 \\Delta_2 \\right) \\left( \\eta K - 1 \\right)^{2} + 3 \\Delta_1^{4} - 8 \\left( \\eta K - 1 \\right) \\Delta_1^{3} - 12 \\Delta_2 \\Delta_1^{2} + 12 \\left[ 2 \\left( \\eta K - 1 \\right) \\Delta_2 + \\Delta_3 \\right] \\Delta_1 + 12 \\left( \\frac{94}{3} - \\frac{41}{32} \\pi^2 \\right) \\left( \\eta K - 1 \\right)^{2} + 6 \\left[ \\Delta_2^{2} - 4 \\Delta_3 \\left( \\eta K - 1 \\right) \\right] \\right\\}\n",
    "\\end{align}\n",
    "\n",
    "\n",
    "(5.37)--(5.40) and (5.71)--(5.72),\n",
    "\n",
    "\\begin{align}\n",
    "    \\Delta_{t} &= r^{2} \\Delta_{u}(u) \\\\\n",
    "    \\Delta_{u}(u) &= A(u) + \\frac{ a^{2} }{ M^{2} } u^2 \\\\\n",
    "    \\Delta_{r} &= \\Delta_{t} D^{-1}(u) \\\\\n",
    "    \\Lambda_{t} &= \\varpi^{4} - a^{2} \\Delta_{t} \\sin^{2} \\theta \\\\\n",
    "    \\tilde{\\omega}_{\\rm fd} &= 2 a M r + \\omega_1^{\\rm fd} \\eta \\frac{ a M^{3} }{ r } + \\omega_{2}^{\\rm fd} \\eta \\frac{ M a^{3} }{ r }\n",
    "\\end{align}\n",
    "\n",
    "with $u = \\frac{ M }{ r }$ and frame-dragging strength adjustable parameters $\\omega_1^{\\rm fd}$, $\\omega_2^{\\rm fd}$.  Finally, from BB2010 Equations (5.41) and (5.42)\n",
    "\n",
    "\\begin{align}\n",
    "    A(u) &= 1 - 2 u + 2 \\eta u^{3} + \\eta \\left( \\frac{94}{3} - \\frac{41}{32} \\pi^{2} \\right) u^{4} \\\\\n",
    "    D^{-1}(u) &= 1 + 6 \\eta u^{2} + 2 \\left( 26 - 3 \\eta \\right) \\eta u^{3}.\n",
    "\\end{align}"
   ]
  },
  {
   "cell_type": "markdown",
   "metadata": {},
   "source": [
    "<a id='Sstardotn'></a>\n",
    "\n",
    "### ${\\bf S}^{*} \\cdot {\\bf n}$ \\[Back to [top](#toc)\\]\n",
    "$$\\label{Sstardotn}$$\n",
    "\n",
    "We have\n",
    "\n",
    "\\begin{equation}\n",
    "    {\\bf S}^{*} \\cdot {\\bf n} = {\\bf S}^{*}_{1} n_{1} + {\\bf S}^{*}_{2} n_{2} + {\\bf S}^{*}_{3} n_{3}\n",
    "\\end{equation}\n",
    "\n",
    "with [${\\bf S}^{*}$](#Hreal_spin_combos) and [${\\bf n}$](#n) defined later."
   ]
  },
  {
   "cell_type": "code",
   "execution_count": 26,
   "metadata": {},
   "outputs": [
    {
     "name": "stdout",
     "output_type": "stream",
     "text": [
      "Appending to SEOBNR/Hamiltonian.txt\n"
     ]
    }
   ],
   "source": [
    "%%writefile -a SEOBNR/Hamiltonian.txt\n",
    "\n",
    "Sstardotn = Sstar1*n1 + Sstar2*n2 + Sstar3*n3"
   ]
  },
  {
   "cell_type": "markdown",
   "metadata": {},
   "source": [
    "<a id='n'></a>\n",
    "\n",
    "## ${\\bf n}$ \\[Back to [top](#toc)\\]\n",
    "$$\\label{n}$$\n",
    "\n",
    "We have\n",
    "\n",
    "\\begin{equation}\n",
    "    {\\bf n} = \\frac{\\bf x }{ r }\n",
    "\\end{equation}\n",
    "\n",
    "where $r = \\left\\lvert {\\bf x} \\right\\rvert$ and ${\\bf x} = (x, y, z)$."
   ]
  },
  {
   "cell_type": "code",
   "execution_count": 27,
   "metadata": {},
   "outputs": [
    {
     "name": "stdout",
     "output_type": "stream",
     "text": [
      "Appending to SEOBNR/Hamiltonian.txt\n"
     ]
    }
   ],
   "source": [
    "%%writefile -a SEOBNR/Hamiltonian.txt\n",
    "\n",
    "n1 = x/r\n",
    "n2 = y/r\n",
    "n3 = z/r"
   ]
  },
  {
   "cell_type": "markdown",
   "metadata": {},
   "source": [
    "<a id='Deltasigmastar'></a>\n",
    "\n",
    "### $\\boldsymbol{\\Delta}_{\\sigma^{*}}$ \\[Back to [top](#toc)\\]\n",
    "$$\\label{Deltasigmastar}$$\n",
    "\n",
    "We can write $\\boldsymbol{\\Delta}_{\\sigma^{*}}$ as\n",
    "\n",
    "\\begin{equation}\n",
    "    \\boldsymbol{\\Delta}_{\\sigma^{*}} = \\boldsymbol{\\sigma}^{*} \\left( \\boldsymbol{\\sigma}^{*}\\ {\\rm coefficient} \\right) + \\boldsymbol{\\sigma} \\left( \\boldsymbol{\\sigma}\\ {\\rm coefficient} \\right)\n",
    "\\end{equation}\n",
    "\n",
    "For further dissection, see [$\\boldsymbol{\\sigma}^{*}$](#Heff_spin_combos), [$\\boldsymbol{\\sigma}^{*}\\ {\\rm coefficient}$](#sigmastarcoeff) and [$\\boldsymbol{\\sigma}$](#Heff_spin_combos), and [$\\boldsymbol{\\sigma}\\ {\\rm coefficient}$](#sigmacoeff)."
   ]
  },
  {
   "cell_type": "code",
   "execution_count": 28,
   "metadata": {},
   "outputs": [
    {
     "name": "stdout",
     "output_type": "stream",
     "text": [
      "Appending to SEOBNR/Hamiltonian.txt\n"
     ]
    }
   ],
   "source": [
    "%%writefile -a SEOBNR/Hamiltonian.txt\n",
    "\n",
    "Deltasigmastar1 = sigmastar1*sigmastarcoeff + sigma1*sigmacoeff\n",
    "Deltasigmastar2 = sigmastar2*sigmastarcoeff + sigma2*sigmacoeff\n",
    "Deltasigmastar3 = sigmastar3*sigmastarcoeff + sigma3*sigmacoeff"
   ]
  },
  {
   "cell_type": "markdown",
   "metadata": {},
   "source": [
    "<a id='sigmastarcoeff'></a>\n",
    "\n",
    "### $\\boldsymbol{\\sigma}^{*}$ coefficient \\[Back to [top](#toc)\\]\n",
    "$$\\label{sigmastarcoeff}$$\n",
    "\n",
    "We will break down both $\\boldsymbol{\\sigma}^{*}\\ {\\rm coefficient}$ into three terms:\n",
    "\n",
    "\\begin{equation}\n",
    "    \\boldsymbol{\\sigma}^{*}\\ {\\rm coefficient} = \\boldsymbol{\\sigma}^{*}\\ {\\rm coefficient\\ Term\\ 1} + \\boldsymbol{\\sigma}^{*}\\ {\\rm coefficient\\ Term\\ 2} + \\boldsymbol{\\sigma}^{*}\\ {\\rm coefficient\\ Term\\ 3}\n",
    "\\end{equation}\n",
    "\n",
    "See [$\\boldsymbol{\\sigma}^{*}$ coefficient Term 1](#sigmastarcoeffTerm1), [$\\boldsymbol{\\sigma}^{*}$ coefficient Term 2](#sigmastarcoeffTerm2), and [$\\boldsymbol{\\sigma}^{*}$ coefficient Term 3](#sigmastarcoeffTerm3)."
   ]
  },
  {
   "cell_type": "code",
   "execution_count": 29,
   "metadata": {},
   "outputs": [
    {
     "name": "stdout",
     "output_type": "stream",
     "text": [
      "Appending to SEOBNR/Hamiltonian.txt\n"
     ]
    }
   ],
   "source": [
    "%%writefile -a SEOBNR/Hamiltonian.txt\n",
    "\n",
    "sigmastarcoeff = sigmastarcoeffTerm1 + sigmastarcoeffTerm2 + sigmastarcoeffTerm3"
   ]
  },
  {
   "cell_type": "markdown",
   "metadata": {},
   "source": [
    "<a id='sigmacoeff'></a>\n",
    "\n",
    "### $\\boldsymbol{\\sigma}$ coefficient \\[Back to [top](#toc)\\]\n",
    "$$\\label{sigmacoeff}$$\n",
    "\n",
    "We will break down $\\boldsymbol{\\sigma}\\ {\\rm coefficient}$ into three terms:\n",
    "\n",
    "\\begin{equation}\n",
    "    \\boldsymbol{\\sigma}\\ {\\rm coefficient} = \\boldsymbol{\\sigma}\\ {\\rm coefficient\\ Term\\ 1} + \\boldsymbol{\\sigma}\\ {\\rm coefficient\\ Term\\ 2} + \\boldsymbol{\\sigma}\\ {\\rm coefficient\\ Term\\ 3}\n",
    "\\end{equation}\n",
    "\n",
    "See [$\\boldsymbol{\\sigma}$ coefficient Term 1](#sigmacoeffTerm1), [$\\boldsymbol{\\sigma}$ coefficient Term 2](#sigmacoeffTerm2), and [$\\boldsymbol{\\sigma}$ coefficient Term 3](#sigmacoeffTerm3)."
   ]
  },
  {
   "cell_type": "code",
   "execution_count": 30,
   "metadata": {},
   "outputs": [
    {
     "name": "stdout",
     "output_type": "stream",
     "text": [
      "Appending to SEOBNR/Hamiltonian.txt\n"
     ]
    }
   ],
   "source": [
    "%%writefile -a SEOBNR/Hamiltonian.txt\n",
    "\n",
    "sigmacoeff = sigmacoeffTerm1 + sigmacoeffTerm2 + sigmacoeffTerm3"
   ]
  },
  {
   "cell_type": "markdown",
   "metadata": {},
   "source": [
    "<a id='sigmastarcoeffTerm1'></a>\n",
    "\n",
    "### $\\boldsymbol{\\sigma}^{*}$ Coefficient Term 1 \\[Back to [top](#toc)\\]\n",
    "$$\\label{sigmastarcoeffTerm1}$$\n",
    "\n",
    "We build this term from BB2011 Equation (51) with $b_{0} = 0$ (<font color='red'>why?</font>), where what is listed below is the coefficient on $\\boldsymbol{\\sigma}^{*}$:\n",
    "\n",
    "\\begin{align}\n",
    "    \\boldsymbol{\\sigma}^{*}\\ {\\rm coefficient\\ Term\\ 1} &= \\frac{7}{6} \\eta \\frac{M}{r} + \\frac{1}{3} \\eta \\left( Q - 1 \\right) - \\frac{5}{2} \\eta \\frac{ \\Delta_r }{ \\Sigma } \\left( {\\bf n} \\cdot \\hat{\\bf p} \\right)^{2} \\\\\n",
    "        &= \\frac{ \\eta }{ 12 } \\left( 14 \\frac{ M }{ r } + 4 \\left( Q - 1 \\right) - 30 \\frac{ \\Delta_r }{ \\Sigma } \\left( {\\bf n} \\cdot \\hat{\\bf p} \\right)^{2} \\right)\n",
    "\\end{align}\n",
    "\n",
    "We group together the following: $Q-1$ as [Qminus1](#Qminus1) and $\\frac{ \\Delta_r }{ \\Sigma }$ as [$DrSinp2$](#DrSinp2).  We define [$\\eta$](#mass_terms) and [$M$](#mass_terms) elsewhere."
   ]
  },
  {
   "cell_type": "code",
   "execution_count": 31,
   "metadata": {},
   "outputs": [
    {
     "name": "stdout",
     "output_type": "stream",
     "text": [
      "Appending to SEOBNR/Hamiltonian.txt\n"
     ]
    }
   ],
   "source": [
    "%%writefile -a SEOBNR/Hamiltonian.txt\n",
    "\n",
    "sigmastarcoeffTerm1 = eta/12*(14*M/r + 4*Qminus1 - 30*DrSinp2)"
   ]
  },
  {
   "cell_type": "markdown",
   "metadata": {},
   "source": [
    "<a id='sigmastarcoeffTerm2'></a>\n",
    "\n",
    "### $\\boldsymbol{\\sigma}^{*}$ Coefficient Term 2 \\[Back to [top](#toc)\\]\n",
    "$$\\label{sigmastarcoeffTerm2}$$\n",
    "\n",
    "We build this term from BB2011 Equation (52) with all $b_{i} = 0$, $i \\in \\left\\{0, 1, 2, 3\\right\\}$ (<font color='red'>why?</font>), and just the coefficient on $\\boldsymbol{\\sigma}^{*}$.  In the LALSuite code this is the variable 'sMultiplier1':\n",
    "\n",
    "\\begin{align}\n",
    "    \\boldsymbol{\\sigma}^{*}\\ {\\rm coefficient\\ Term\\ 2} &= \\frac{1}{36} \\left( 353 \\eta - 27 \\eta^2 \\right) \\left( \\frac{M}{r} \\right)^{2} + \\frac{5}{3} \\left( 3 \\eta^2 \\right) \\frac{ \\Delta_{r}^{2} }{ \\Sigma^{2} } \\left( {\\bf n} \\cdot \\hat{\\bf p} \\right)^{4} \\\\\n",
    "        &+ \\frac{1}{72} \\left( -23 \\eta -3 \\eta^{2} \\right) \\left( Q - 1 \\right)^{2} + \\frac{1}{36} \\left( -103 \\eta + 60 \\eta^{2} \\right) \\frac{M}{r} \\left( Q - 1 \\right) \\\\\n",
    "        &+ \\frac{1}{12} \\left( 16 \\eta - 21 \\eta^{2} \\right) \\frac{ \\Delta_{r} }{ \\Sigma } \\left( {\\bf n} \\cdot \\hat{\\bf p} \\right)^{2} \\left( Q - 1 \\right) + \\frac{1}{12} \\left( 47 \\eta - 54 \\eta^{2} \\right) \\frac{M}{r} \\frac{ \\Delta_{r} }{ \\Sigma } \\left( {\\bf n} \\cdot \\hat{\\bf p} \\right)^{2} \\\\\n",
    "        &= \\frac{ \\eta }{ 72 r^{2} } \\left[ \\left( 706 - 54 \\eta \\right) M^{2} + 360 \\eta r^{2} \\frac{ \\Delta_{r}^{2} }{ \\Sigma^{2} } \\left( {\\bf n} \\cdot \\hat{\\bf p} \\right)^{4} + r^{2} \\left( -23 - 3 \\eta \\right) \\left( Q - 1 \\right)^{2} + \\left( -206 + 120 \\eta \\right) M r \\left( Q - 1 \\right) \\right. \\\\\n",
    "        &+ \\left. \\left( 96 - 126 \\eta \\right) r^{2} \\frac{ \\Delta_{r} }{ \\Sigma } \\left( {\\bf n} \\cdot \\hat{\\bf p} \\right)^{2} \\left( Q - 1 \\right) + \\left( 282 - 324 \\eta \\right) M r \\frac{ \\Delta_{r} }{ \\Sigma } \\left( {\\bf n} \\cdot \\hat{\\bf p} \\right)^{2} \\right] \\\\\n",
    "        &= \\frac{ \\eta }{ 72 r^{2} } \\left[ 706 + r \\left( -206 M \\left( Q - 1 \\right) + 282 M \\frac{ \\Delta_{r} }{ \\Sigma } \\left( {\\bf n} \\cdot \\hat{\\bf p} \\right)^{2} + r \\left( Q -1 \\right) \\left( 96 \\frac{ \\Delta_{r} }{ \\Sigma } \\left( {\\bf n} \\cdot \\hat{\\bf p} \\right)^{2} - 23 \\left( Q - 1 \\right) \\right) \\right) \\right. \\\\\n",
    "        &+ \\left. \\eta \\left( 54 M^{2} + r \\left( 120 M \\left( Q -1 \\right) - 324 M \\frac{ \\Delta_{r} }{ \\Sigma } \\left( {\\bf n} \\cdot \\hat{\\bf p} \\right)^{2} + r \\left( 360 \\frac{ \\Delta_{r}^{2} }{ \\Sigma^{2} } \\left( {\\bf n} \\cdot \\hat{\\bf p} \\right)^{4} + \\left( Q - 1 \\right) \\left( -126 \\frac{ \\Delta_{r} }{ \\Sigma } \\left( {\\bf n} \\cdot \\hat{\\bf p} \\right)^{2} - 3 \\left( Q - 1 \\right) \\right) \\right)\\right) \\right) \\right]\n",
    "\\end{align}\n",
    "\n",
    "We define [$\\eta$](#mass_terms), [$M$](#mass_terms), [$Q - 1$](#Qminus1), and [$\\frac{ \\Delta_{r} }{ \\Sigma } \\left( {\\bf n} \\cdot \\hat{\\bf p} \\right)^{2}$](#DrSinp2) elsewhere."
   ]
  },
  {
   "cell_type": "code",
   "execution_count": 32,
   "metadata": {},
   "outputs": [
    {
     "name": "stdout",
     "output_type": "stream",
     "text": [
      "Appending to SEOBNR/Hamiltonian.txt\n"
     ]
    }
   ],
   "source": [
    "%%writefile -a SEOBNR/Hamiltonian.txt\n",
    "\n",
    "sigmastarcoeffTerm2 = eta/(72*r**2) ( 706 + r*( -206*M*Qminus1 + 282*M*DrSinp2 + r*Qminus1*(96*DrSinp2 - 23*Qminus1))\n",
    "                                   + eta*(54*M**2 + r*(120*M*Qminus1-324*M*DrSinp2 + r*(360*DrSinp2**2 + Qminus1*(-126*DrSinp2 - 3*Qminus1)))))"
   ]
  },
  {
   "cell_type": "markdown",
   "metadata": {},
   "source": [
    "<a id='sigmastarcoeffTerm3'></a>\n",
    "\n",
    "### $\\boldsymbol{\\sigma}^{*}$ Coefficient Term 3 \\[Back to [top](#toc)\\]\n",
    "$$\\label{sigmastarcoeffTerm3}$$\n",
    "\n",
    "<font color='red'>I have no idea whence this term originates; there's not any helpful reference in the code.  Unless I'm missing something...</font>"
   ]
  },
  {
   "cell_type": "code",
   "execution_count": 33,
   "metadata": {},
   "outputs": [
    {
     "name": "stdout",
     "output_type": "stream",
     "text": [
      "Appending to SEOBNR/Hamiltonian.txt\n"
     ]
    }
   ],
   "source": [
    "%%writefile -a SEOBNR/Hamiltonian.txt\n",
    "\n",
    "sigmastarcoeffTerm3 ="
   ]
  },
  {
   "cell_type": "markdown",
   "metadata": {},
   "source": [
    "<a id='sigmacoeffTerm1'></a>\n",
    "\n",
    "### $\\boldsymbol{\\sigma}$ Coefficient Term 1 \\[Back to [top](#toc)\\]\n",
    "$$\\label{sigmacoeffTerm1}$$\n",
    "\n",
    "We build this term from BB2011 Equation (51) with $a_{0} = 0$ (<font color='red'>why?</font>), where what is listed below is the coefficient on $\\boldsymbol{\\sigma}$:\n",
    "\n",
    "\\begin{align}\n",
    "    \\boldsymbol{\\sigma}\\ {\\rm coefficient\\ Term\\ 1} &= -\\frac{2}{3} \\eta \\frac{ M }{ r } + \\frac{1}{4} \\eta \\left( Q - 1 \\right) - 3 \\eta \\frac{ \\Delta_r }{ \\Sigma } \\left( {\\bf n} \\cdot \\hat{\\bf p} \\right)^{2} \\\\\n",
    "        &= \\frac{ \\eta }{ 12 } \\left( -8 \\frac{ M }{ r } + 3 \\left( Q - 1 \\right) - 36 \\frac{ \\Delta_r }{ \\Sigma } \\left( {\\bf n} \\cdot \\hat{\\bf p} \\right)^{2} \\right)\n",
    "\\end{align}\n",
    "\n",
    "where, from the discussion after BB2011 Equation (17), $a_{0}$ and $b_{0}$ are arbitrary gauge functions of [$\\eta$](#mass_terms).  <font color='red'>List other terms here once you break this up.</font>"
   ]
  },
  {
   "cell_type": "code",
   "execution_count": 34,
   "metadata": {},
   "outputs": [
    {
     "name": "stdout",
     "output_type": "stream",
     "text": [
      "Appending to SEOBNR/Hamiltonian.txt\n"
     ]
    }
   ],
   "source": [
    "%%writefile -a SEOBNR/Hamiltonian.txt\n",
    "\n",
    "sigmacoeffTerm1 = eta/12*(-8*M/r + 3*Qminus1 - 36*DrSinp2)"
   ]
  },
  {
   "cell_type": "markdown",
   "metadata": {},
   "source": [
    "<a id='sigmacoeffTerm2'></a>\n",
    "\n",
    "### $\\boldsymbol{\\sigma}$ Coefficient Term 2 \\[Back to [top](#toc)\\]\n",
    "$$\\label{sigmacoeffTerm2}$$\n",
    "\n",
    "We build this term from BB2011 Equation (52) with all $a_{i} = 0$, $i \\in \\left\\{0, 1, 2, 3\\right\\}$ (<font color='red'>why?</font>), and just the coefficient on $\\boldsymbol{\\sigma}$:\n",
    "\n",
    "\\begin{align}\n",
    "    \\boldsymbol{\\sigma}\\ {\\rm coefficient\\ Term\\ 2} &= \\frac{1}{9} \\left( -56 \\eta -21 \\eta^{2} \\right) \\left( \\frac{ M }{ r } \\right)^{2} + \\frac{5}{24} \\left( 27 \\eta^{2} \\right) \\frac{ \\Delta_r^{2} }{ \\Sigma^{2} } \\left( {\\bf n} \\cdot \\hat{\\bf p} \\right)^{4} \\\\\n",
    "        &+ \\frac{1}{144} \\left(-45 \\eta \\right) \\left( Q - 1 \\right)^{2} + \\frac{1}{36} \\left( -109 \\eta + 51 \\eta^{2} \\right) \\frac{ M }{ r } \\left( Q - 1 \\right) \\\\\n",
    "        &+ \\frac{1}{24} \\left( 6 \\eta - 39\\eta^{2} \\right) \\frac{ \\Delta_{r} }{ \\Sigma } \\left( {\\bf n} \\cdot \\hat{\\bf p} \\right)^{2} \\left( Q - 1 \\right) + \\frac{1}{24} \\left( -16 \\eta - 147 \\eta^{2} \\right) \\frac{ M }{ r } \\frac{ \\Delta_{r} }{ \\Sigma } \\left( {\\bf n} \\cdot \\hat{\\bf p} \\right)^{2} \\\\\n",
    "        &= \\frac{ \\eta }{ 144 r^{2} } \\left[ -896 M^{2} + r \\left( -436 M \\left( Q - 1 \\right) - 96 M \\frac{ \\Delta_{r} }{ \\Sigma } \\left( {\\bf n} \\cdot \\hat{\\bf p} \\right)^{2} + r \\left( -45 \\left( Q - 1 \\right)^{2} + 36 \\left( Q - 1 \\right) \\frac{ \\Delta_{r} }{ \\Sigma } \\left( {\\bf n} \\cdot \\hat{\\bf p} \\right)^{2} \\right) \\right) \\right. \\\\\n",
    "        &+ \\left. \\eta \\left( -336 M^{2} + r \\left( 204 M \\left( Q -1 \\right) - 882 M \\frac{ \\Delta_{r} }{ \\Sigma } \\left( {\\bf n} \\cdot \\hat{\\bf p} \\right)^{2} + r \\left( 810 \\frac{ \\Delta_{r}^{2} }{ \\Sigma^{2} } \\left( {\\bf n} \\cdot \\hat{\\bf p} \\right)^{4}  - 234 \\left( Q - 1 \\right) \\frac{ \\Delta_{r} }{ \\Sigma } \\left( {\\bf n} \\cdot \\hat{\\bf p} \\right)^{2} \\right) \\right) \\right) \\right]\n",
    "\\end{align}\n",
    "\n",
    "We define [$\\eta$](#mass_terms), [$M$](#mass_terms), [$Q - 1$](#Qminus1), and [$\\frac{ \\Delta_{r} }{ \\Sigma } \\left( {\\bf n} \\cdot \\hat{\\bf p} \\right)^{2}$](#DrSinp2) elsewhere."
   ]
  },
  {
   "cell_type": "code",
   "execution_count": 35,
   "metadata": {},
   "outputs": [
    {
     "name": "stdout",
     "output_type": "stream",
     "text": [
      "Appending to SEOBNR/Hamiltonian.txt\n"
     ]
    }
   ],
   "source": [
    "%%writefile -a SEOBNR/Hamiltonian.txt\n",
    "\n",
    "sigmacoeffTerm2 = eta/(144*r**2)*(-896*M**2 + r*(-436*Qminus1 - 96*M*DrSinp2 + r*(-45*Qminus1**2 + 36*Qminus1*DrSinp2))\n",
    "                                 + eta*(-336*M**2 + r*(204*M*Qminus1 - 882*M*DrSinp2 + r*(810*DrSinp2**2 - 234*Qminus1*DrSinp2))))"
   ]
  },
  {
   "cell_type": "markdown",
   "metadata": {},
   "source": [
    "<a id='sigmacoeffTerm3'></a>\n",
    "\n",
    "### $\\boldsymbol{\\sigma}$ Coefficient Term 3 \\[Back to [top](#toc)\\]\n",
    "$$\\label{sigmacoeffTerm3}$$\n",
    "\n",
    "<font color='red'>I have no idea whence this term originates; there's not any helpful reference in the code.  Unless I'm missing something...</font>"
   ]
  },
  {
   "cell_type": "code",
   "execution_count": 36,
   "metadata": {},
   "outputs": [
    {
     "name": "stdout",
     "output_type": "stream",
     "text": [
      "Appending to SEOBNR/Hamiltonian.txt\n"
     ]
    }
   ],
   "source": [
    "%%writefile -a SEOBNR/Hamiltonian.txt\n",
    "\n",
    "sigmacoeffTerm3 ="
   ]
  },
  {
   "cell_type": "markdown",
   "metadata": {},
   "source": [
    "<a id='betapsum'></a>\n",
    "\n",
    "### $\\beta^{i} p_{i}$ \\[Back to [top](#toc)\\]\n",
    "$$\\label{betapsum}$$\n",
    "\n",
    "We have\n",
    "\n",
    "\\begin{equation}\n",
    "    \\beta^{i} p_{i} = \\beta^{1} p_{1} + \\beta^{2} p_{2} + \\beta^{3} p_{3}\n",
    "\\end{equation}\n",
    "\n",
    "We define [$\\beta^{1}$](#alphabetagamma), [$\\beta^{2}$](#alphabetagamma), [$\\beta^{3}$](#alphabetagamma) elsewhere."
   ]
  },
  {
   "cell_type": "code",
   "execution_count": 37,
   "metadata": {},
   "outputs": [
    {
     "name": "stdout",
     "output_type": "stream",
     "text": [
      "Appending to SEOBNR/Hamiltonian.txt\n"
     ]
    }
   ],
   "source": [
    "%%writefile -a SEOBNR/Hamiltonian.txt\n",
    "\n",
    "betapsum = beta1*p1 + beta2*p2 + beta3*p3"
   ]
  },
  {
   "cell_type": "markdown",
   "metadata": {},
   "source": [
    "The quantity [$Q$](#momentum_terms) is a momentum term.\n",
    "\n",
    "from BB2010 Equation (5.38)\n",
    "\n",
    "\\begin{equation}\n",
    "    \\Delta_{r} = \\Delta_{t} D^{-1}(u);\n",
    "\\end{equation}\n",
    "\n",
    "from BB2010 Equation (4.5)\n",
    "\n",
    "\\begin{equation}\n",
    "    \\Sigma = r^{2} + a^{2} \\cos^{2} \\theta;\n",
    "\\end{equation}\n",
    "\n",
    "from BB2010 Equation (3.23)\n",
    "\n",
    "\\begin{equation}\n",
    "    \\boldsymbol{\\xi} = {\\bf e}_{Z} \\times {\\bf N},\n",
    "\\end{equation}\n",
    "\n",
    "where ${\\bf e}_{Z}$ is a Cartesian unit vector in the $z$-direction and ${\\bf N} = {\\bf n}$ from BB2010 Equation (3.37); from BB2010 Equation (5.37)\n",
    "\n",
    "\\begin{equation}\n",
    "    \\Delta_{t} = r^{2} \\left[ A(u) + \\frac{ a^{2} }{ M^{2} } u^{2} \\right];\n",
    "\\end{equation}\n",
    "\n",
    "from BB2010 Equation (3.39)\n",
    "\n",
    "\\begin{equation}\n",
    "    {\\bf v} = {\\bf n} \\times \\boldsymbol{\\xi};\n",
    "\\end{equation}\n",
    "\n",
    "from BB2010 Equation (5.42)\n",
    "\n",
    "\\begin{equation}\n",
    "    D^{-1}(u) = 1 + 6 \\eta u^{2} + 2 \\left( 26 - 3 \\eta \\right) \\eta u^{3};\n",
    "\\end{equation}\n",
    "\n",
    "from BB2010 discussion following Equation (5.40)\n",
    "\n",
    "\\begin{equation}\n",
    "    u = \\frac{ M }{ r };\n",
    "\\end{equation}\n",
    "\n",
    "from BB2010 Equation (4.9)\n",
    "\n",
    "\\begin{equation}\n",
    "    a = \\frac{ \\left\\lvert {\\bf S}_{\\rm Kerr} \\right\\rvert }{ M };\n",
    "\\end{equation}\n",
    "\n",
    "and from BB2010 Equation (5.41)\n",
    "\n",
    "\\begin{equation}\n",
    "    A(u) = 1 - 2u + 2 \\eta u^{3} + \\eta \\left( \\frac{94}{3} - \\frac{41}{32} \\pi^{2} \\right) u^{4}.\n",
    "\\end{equation}\n",
    "\n",
    "Oof."
   ]
  },
  {
   "cell_type": "markdown",
   "metadata": {},
   "source": [
    "<a id='notes'></a>\n",
    "# Notes \\[Back to [top](#toc)\\]\n",
    "$$\\label{notes}$$\n",
    "\n",
    "1. First, just break down the Hamiltonian as in the paper.  Break up into blocks as appropriate.\n",
    "2. Use python markdown to write string of input variables:\n",
    "\n",
    "```python\n",
    "# Step 0a: declare instrinsic system paramters (masses and spin components)\n",
    "m1, m2, s1x, s1y, s1z, s2x, s2y, s2z = sp.symbols(\"m1 m2 s1x s1y s1z s2x s2y s2z\",real=True)\n",
    "\n",
    "```\n",
    "3. Write terms to files in backwards order!  As in:\n",
    "\n",
    "    ```python\n",
    "    #First write is this:\n",
    "    #%%writefile SEOBNR/Hamiltonian.txt\n",
    "\n",
    "    ```\n",
    "   and afterward\n",
    "\n",
    "    ```python\n",
    "    #%%writefile -a SEOBNR/Hamiltonian.txt\n",
    "\n",
    "    ```\n",
    "   The goal is to split up the terms so that each $\\LaTeX$-expression at the bottom of a markdown cell can be easily compared to the \"bigstring\" expression that is SymPy compatible in a code cell directly below the markdown cell.\n",
    "4. ${\\cal Q}_{4}$ is quartic in $p_{i}$ and is given by Equation (4.34) of [Damour, Jaranowski, and Schaefer](https://arxiv.org/abs/gr-qc/0005034) <font color='red'> (double check this!)</font>"
   ]
  },
  {
   "cell_type": "markdown",
   "metadata": {},
   "source": [
    "<a id='latex_pdf_output'></a>\n",
    "\n",
    "# Output: Output this module to $\\LaTeX$-formatted PDF file \\[Back to [top](#toc)\\]\n",
    "$$\\label{latex_pdf_output}$$"
   ]
  },
  {
   "cell_type": "code",
   "execution_count": 38,
   "metadata": {
    "scrolled": true
   },
   "outputs": [
    {
     "name": "stdout",
     "output_type": "stream",
     "text": [
      "[NbConvertApp] Converting notebook Tutorial-SEOBNR_Documentation.ipynb to latex\n",
      "[NbConvertApp] Writing 85574 bytes to Tutorial-SEOBNR_Documentation.tex\n",
      "This is pdfTeX, Version 3.14159265-2.6-1.40.18 (TeX Live 2017/Debian) (preloaded format=pdflatex)\n",
      " restricted \\write18 enabled.\n",
      "entering extended mode\n",
      "This is pdfTeX, Version 3.14159265-2.6-1.40.18 (TeX Live 2017/Debian) (preloaded format=pdflatex)\n",
      " restricted \\write18 enabled.\n",
      "entering extended mode\n",
      "This is pdfTeX, Version 3.14159265-2.6-1.40.18 (TeX Live 2017/Debian) (preloaded format=pdflatex)\n",
      " restricted \\write18 enabled.\n",
      "entering extended mode\n"
     ]
    }
   ],
   "source": [
    "!jupyter nbconvert --to latex --template latex_nrpy_style.tplx Tutorial-SEOBNR_Documentation.ipynb\n",
    "!pdflatex -interaction=batchmode Tutorial-SEOBNR_Documentation.ipynb\n",
    "!pdflatex -interaction=batchmode Tutorial-SEOBNR_Documentation.ipynb\n",
    "!pdflatex -interaction=batchmode Tutorial-SEOBNR_Documentation.ipynb\n",
    "!rm -f Tut*.out Tut*.aux Tut*.log"
   ]
  }
 ],
 "metadata": {
  "kernelspec": {
   "display_name": "Python 2",
   "language": "python",
   "name": "python2"
  },
  "language_info": {
   "codemirror_mode": {
    "name": "ipython",
    "version": 2
   },
   "file_extension": ".py",
   "mimetype": "text/x-python",
   "name": "python",
   "nbconvert_exporter": "python",
   "pygments_lexer": "ipython2",
   "version": "2.7.13"
  }
 },
 "nbformat": 4,
 "nbformat_minor": 2
}
