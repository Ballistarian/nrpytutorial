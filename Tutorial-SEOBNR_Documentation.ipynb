{
 "cells": [
  {
   "cell_type": "markdown",
   "metadata": {},
   "source": [
    "# The Spinning Effective One-Body Cartesian Hamiltonian\n",
    "\n",
    "### Author: Tyler Knowles\n",
    "\n",
    "## This module documents the reduced spinning effective one-body Hamiltonian numerically implemented in LALSuite's SEOBNRv3 gravitational waveform approximant.\n",
    "\n",
    "### Throughout this module, we will refer to [Barausse and Buonanno (2011)](https://arxiv.org/abs/1107.2904) as BB2011 and [Barausse and Buonanno (2010)](https://arxiv.org/abs/0912.3517) as BB2010.\n",
    "\n",
    "<font color='green'>**This module has been validated against the LALSuite SEOBNRv3/SEOBNRv3_opt code that was reviewed and approved for LIGO parameter estimation by the LIGO Scientific Collaboration.**</font>"
   ]
  },
  {
   "cell_type": "markdown",
   "metadata": {},
   "source": [
    "<a id='toc'></a>\n",
    "\n",
    "# Table of Contents\n",
    "$$\\label{toc}$$\n",
    "\n",
    "The module is organized as follows:\n",
    "\n",
    "0. [Introduction](#intro): Decription of $H_{\\textrm{real}}$\n",
    "1. [Notes](#notes)\n",
    "1. [Output](#latex_pdf_output): Output this module to $\\LaTeX$-formatted PDF"
   ]
  },
  {
   "cell_type": "markdown",
   "metadata": {},
   "source": [
    "<a id='intro'></a>\n",
    "\n",
    "# Introduction\n",
    "\\[Back to [top](#toc)\\]\n",
    "$$\\label{intro}$$\n",
    "\n",
    "## Background\n",
    "Consider two black holes with masses $m_{1}$, $m_{2}$ and spins ${\\bf S}_{1}$, ${\\bf S}_{2}$ in a binary system.  Denote by $M = m_{1} + m_{2}$ the total mass of this binary system.  The spinning effective one-body (\"EOB\") Hamiltonian $H_{\\rm real}$ describes the dynamics of this binary system via transformation to an effective Hamiltonian $H_{\\rm eff}$ describing the motion of a test particle of mass $\\mu = \\frac{m_{1} m_{2}}{M}$ and spin ${\\bf S}^{*}$ in a deformed Kerr metric of mass $M$ and spin ${\\bf S}_{\\rm Kerr}$.  Denote also $\\eta = \\frac{ \\mu }{ M }$.  We will use Greek letters to denote spacetime tensor indicies, and spacial tensor indicies with lowercase Latin letters.\n",
    "\n",
    "## The real Hamiltonian $H_{\\textrm{real}}$\n",
    "The EOB Hamiltonian is given by Equation (1) of BB2011:\n",
    "\n",
    "\\begin{align}\n",
    "    H_{\\rm real} = M \\sqrt{ 1 + 2 \\eta \\left( \\frac{ H_{\\rm eff} }{ \\mu } - 1 \\right) }.\n",
    "\\end{align}\n",
    "\n",
    "<font color='red'>**The code in LALSimIMRSpinEOBHamiltonianPrec.c claims the origin of $H_{\\textrm{real}}$ is Equation (2) of [Taracchini, Pan, Buonanno, et al](https://arxiv.org/abs/1202.0790):\n",
    "\n",
    "\\begin{align}\n",
    "    H_{\\rm real} = M \\sqrt{ 1 + 2 \\nu \\left( \\frac{ H_{\\rm eff} }{ \\mu } - 1 \\right) } - M\n",
    "\\end{align}\n",
    "\n",
    "where $\\nu = \\frac{\\mu}{M}$.  Double-check this!  Note: BB2011 Equation (1) is the same as BB2011 Equation (53) and BB2010 Equation (5.69)**</font>"
   ]
  },
  {
   "cell_type": "markdown",
   "metadata": {},
   "source": [
    "## The effective Hamiltonian $H_{\\textrm{eff}}$\n",
    "The effective Hamiltonian $H_{\\rm eff}$ is given by Equation (54) of BB2011.  Here we combine the notation of Equations (53) and (40) of BB2011 to write:\n",
    "\n",
    "\\begin{align}\n",
    "    H_{\\rm eff} = H_{\\rm S} + H_{\\rm NS} - \\frac{ \\mu }{ 2 M r^{3} } \\left( \\delta^{ij} - 3 n^{i} n^{j} \\right) S^{*}_{i} S^{*}_{j}.\n",
    "\\end{align}\n",
    "\n",
    "Here $H_{\\rm NS}$ is the Hamiltonian for a nonspinning test particle, $H_{\\rm S}$ denotes leading order effects of spin-spin and spin-orbit coupling, and the last term describes to leading order the coupling of the test particle's spin with itself."
   ]
  },
  {
   "cell_type": "markdown",
   "metadata": {},
   "source": [
    "## The nonspinning Hamiltonian $H_{\\rm NS}$\n",
    "\n",
    "From BB2011 Equation (40),\n",
    "\n",
    "\\begin{align}\n",
    "    H_{\\rm NS} = \\beta^{i} p_{i} + \\alpha \\sqrt{ \\mu^{2} + \\gamma^{ij} p_{i} p_{j} + {\\cal Q}_{4} \\left( p \\right) }\n",
    "\\end{align}\n",
    "\n",
    "where $p_{i}$ are components of momentum in EOB coordinates.  BB2011 specifies, in Equations (41)--(43), that for a spacetime metric $g$\n",
    "\n",
    "\\begin{align}\n",
    "    \\alpha = \\frac{ 1 }{ \\sqrt{ - g^{tt} }} \\\\\n",
    "    \\beta^{i} = \\frac{ g^{ti} }{ g^{tt} } \\\\\n",
    "    \\gamma^{ij} = g^{ij} - \\frac{ g^{ti} g ^{tj} }{ g^{tt} }.\n",
    "\\end{align}"
   ]
  },
  {
   "cell_type": "markdown",
   "metadata": {},
   "source": [
    "## Leading order spin effect terms $H_{\\rm S}$\n",
    "\n",
    "From BB2011 Equation (44),\n",
    "\n",
    "\\begin{align}\n",
    "    H_{\\rm S} = H_{\\rm SO} + H_{\\rm SS}\n",
    "\\end{align}\n",
    "\n",
    "where $H_{\\rm SO}$ includes spin-orbit terms and $H_{\\rm SS}$ includes spin-spin terms."
   ]
  },
  {
   "cell_type": "markdown",
   "metadata": {},
   "source": [
    "## Spin-spin terms\n",
    "\n",
    "From BB2010 Equation (4.19),\n",
    "\n",
    "\\begin{eqnarray}                                                                                                                                                                                            \n",
    "H_{\\rm SS} &=& \\omega \\left( {\\bf S} \\cdot {\\bf \\hat{S}}_{\\rm Kerr} \\right) + \\frac{ e^{-3 \\tilde{\\mu} -\\nu} \\tilde{J} \\omega_{r} }{ 2 \\tilde{B} \\left( \\sqrt{Q} + 1 \\right) \\sqrt{Q} \\xi^{2} } \\left\\{ -e^{\\tilde{\\mu} + \\nu} \\left( {\\bf \\hat{p}} \\cdot {\\bf v} r \\right) \\left( {\\bf \\hat{p}} \\cdot {\\bf \\xi} r \\right) \\left( {\\bf S} \\cdot {\\bf \\xi} \\right)\n",
    "\\tilde{B} + e^{2 \\left( \\tilde{\\mu} + \\nu \\right)} \\left( {\\bf \\hat{p}} \\cdot {\\bf \\xi} r \\right)^2 \\left( {\\bf S}\n",
    "\\cdot {\\bf v} \\right) \\right. \\nonumber \\\\\n",
    "&& \\left. + e^{2 \\tilde{\\mu}} \\left( 1 + \\sqrt{Q} \\right) \\sqrt{Q} \\left( {\\bf S} \\cdot {\\bf v} \\right)\\xi^2 \\tilde{B}^{2} + \\tilde{J} \\left( {\\bf \\hat{p}} \\cdot {\\bf n} \\right) \\left[ \\left( {\\bf \\hat{p}} \\cdot {\\bf v} r \\right)\n",
    "\\left( {\\bf S} \\cdot {\\bf n}\\right) - \\tilde{J} \\left( {\\bf \\hat{p}} \\cdot {\\bf n} \\right) \\left( {\\bf S} \\cdot {\\bf v} \\right)\\right] \\xi^{2} \\tilde{B}^{2} \\right\\} \\nonumber \\\\\n",
    "&& + \\frac{ e^{-3 \\tilde{\\mu} - \\nu} \\omega_{\\cos\\theta} }{ 2 \\tilde{B} \\left( \\sqrt{Q} + 1 \\right) \\sqrt{Q} } \\left\\{ -e^{2 \\left( \\tilde{\\mu} + \\nu \\right)} \\left( {\\bf \\hat{p}} \\cdot {\\bf \\xi} r \\right)^{2} \\left( {\\bf S} \\cdot {\\bf n} \\right) + e^{\\tilde{\\mu} +\\nu} \\tilde{J} \\left( {\\bf \\hat{p}} \\cdot {\\bf n} \\right) \\left( {\\bf \\hat{p}} \\cdot {\\bf \\xi} r \\right) \\left( {\\bf S} \\cdot {\\bf \\xi} \\right) \\tilde{B} \\right. \\nonumber \\\\\n",
    "&& \\left. + \\left[ \\left( {\\bf S} \\cdot {\\bf n} \\right) \\left( {\\bf \\hat{p}} \\cdot {\\bf v} r \\right)^{2} - \\tilde{J} \\left( {\\bf \\hat{p}} \\cdot {\\bf n} \\right) \\left( {\\bf S} \\cdot {\\bf v} \\right) \\left( {\\bf \\hat{p}} \\cdot {\\bf v} r\\right) - e^{2 \\tilde{\\mu}} \\left( 1 + \\sqrt{Q} \\right) \\sqrt{Q} \\left( {\\bf S} \\cdot {\\bf n} \\right) \\xi^{2} \\right] \\tilde{B}^{2} \\right\\}\n",
    "\\end{eqnarray}\n",
    "\n",
    "where\n",
    "\n",
    "\\begin{eqnarray}\n",
    "\\tilde{B} &=& BR = \\sqrt{\\Delta},\\\\\n",
    "\\tilde{B}_r &=& B_r\\, R=\\frac{r - M - \\sqrt{\\Delta}}{\\sqrt{\\Delta}}\\,,\\\\\n",
    "e^{2\\tilde{\\mu}} &=&e^{2\\mu}\\, R^2 = \\Sigma\\,,\\\\\n",
    "\\tilde{J}&=&J\\, R = \\sqrt{\\Delta}\\,,\\\\\n",
    "\\boldsymbol{\\hat{S}}_{\\rm Kerr}&=&\\frac{\\boldsymbol{{S}}_{\\rm Kerr}}{\\vert\\boldsymbol{{S}}_{\\rm Kerr}\\vert}\n",
    "\\end{eqnarray}"
   ]
  },
  {
   "cell_type": "markdown",
   "metadata": {},
   "source": [
    "<a id='notes'></a>\n",
    "# Notes\n",
    "\\[Back to [top](#toc)\\]\n",
    "$$\\label{notes}$$\n",
    "\n",
    "1. First, just break down the Hamiltonian as in the paper.  Break up into blocks as appropriate.\n",
    "2. Use python markdown to write string of input variables:\n",
    "\n",
    "```python\n",
    "# Step 0a: declare instrinsic system paramters (masses and spin components)\n",
    "m1, m2, s1x, s1y, s1z, s2x, s2y, s2z = sp.symbols(\"m1 m2 s1x s1y s1z s2x s2y s2z\",real=True)\n",
    "\n",
    "```\n",
    "3. Write terms to files in backwards order!  As in:\n",
    "\n",
    "    ```python\n",
    "    #First write is this:\n",
    "    #%%writefile SEOBNR/Hamiltonian.txt\n",
    "\n",
    "    ```\n",
    "   and afterward\n",
    "\n",
    "    ```python\n",
    "    #%%writefile -a SEOBNR/Hamiltonian.txt\n",
    "\n",
    "    ```\n",
    "   The goal is to split up the terms so that each $\\LaTeX$-expression at the bottom of a markdown cell can be easily compared to the \"bigstring\" expression that is SymPy compatible in a code cell directly below the markdown cell."
   ]
  },
  {
   "cell_type": "markdown",
   "metadata": {},
   "source": [
    "<a id='latex_pdf_output'></a>\n",
    "\n",
    "# Output: Output this module to $\\LaTeX$-formatted PDF file\n",
    "\\[Back to [top](#toc)\\]\n",
    "$$\\label{latex_pdf_output}$$"
   ]
  },
  {
   "cell_type": "code",
   "execution_count": 1,
   "metadata": {},
   "outputs": [
    {
     "name": "stdout",
     "output_type": "stream",
     "text": [
      "[NbConvertApp] Converting notebook Tutorial-SEOBNR_Documentation.ipynb to latex\n",
      "[NbConvertApp] Writing 31223 bytes to Tutorial-SEOBNR_Documentation.tex\n",
      "This is pdfTeX, Version 3.14159265-2.6-1.40.18 (TeX Live 2017/Debian) (preloaded format=pdflatex)\n",
      " restricted \\write18 enabled.\n",
      "entering extended mode\n",
      "This is pdfTeX, Version 3.14159265-2.6-1.40.18 (TeX Live 2017/Debian) (preloaded format=pdflatex)\n",
      " restricted \\write18 enabled.\n",
      "entering extended mode\n",
      "This is pdfTeX, Version 3.14159265-2.6-1.40.18 (TeX Live 2017/Debian) (preloaded format=pdflatex)\n",
      " restricted \\write18 enabled.\n",
      "entering extended mode\n"
     ]
    }
   ],
   "source": [
    "!jupyter nbconvert --to latex --template latex_nrpy_style.tplx Tutorial-SEOBNR_Documentation.ipynb\n",
    "!pdflatex -interaction=batchmode Tutorial-SEOBNR_Documentation.ipynb\n",
    "!pdflatex -interaction=batchmode Tutorial-SEOBNR_Documentation.ipynb\n",
    "!pdflatex -interaction=batchmode Tutorial-SEOBNR_Documentation.ipynb\n",
    "!rm -f Tut*.out Tut*.aux Tut*.log"
   ]
  }
 ],
 "metadata": {
  "kernelspec": {
   "display_name": "Python 2",
   "language": "python",
   "name": "python2"
  },
  "language_info": {
   "codemirror_mode": {
    "name": "ipython",
    "version": 2
   },
   "file_extension": ".py",
   "mimetype": "text/x-python",
   "name": "python",
   "nbconvert_exporter": "python",
   "pygments_lexer": "ipython2",
   "version": "2.7.13"
  }
 },
 "nbformat": 4,
 "nbformat_minor": 2
}
