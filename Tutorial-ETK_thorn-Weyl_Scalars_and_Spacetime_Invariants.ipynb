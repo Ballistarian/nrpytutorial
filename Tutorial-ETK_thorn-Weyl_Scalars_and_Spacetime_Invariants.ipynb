{
 "cells": [
  {
   "cell_type": "markdown",
   "metadata": {},
   "source": [
    "# Weyl Scalars and Invariants: An Introduction to Einstein Toolkit Diagnostic Thorns\n",
    "\n",
    "### Now that we have constructed SymPy expressions for all of the Weyl scalars and associated invariants, let's work through the steps necessary to both generate the C code expressions as well as the calling C code and surrounding Einstein Toolkit infrastructure (e.g., the .ccl files).\n",
    "\n",
    "Einstein Toolkit thorns (modules) typically require three \"ccl\" files:\n",
    "\n",
    "1. $\\text{interface.ccl}$: defines the gridfunction groups needed, and provides keywords denoting what this thorn provides and what it should inherit from other thorns.\n",
    "1. $\\text{schedule.ccl}$: allocates storage for gridfunctions, defines how the thorn's functions should be scheduled in a broader simulation, and specifies the regions of memory written to or read from gridfunctions.\n",
    "1. $\\text{param.ccl}$: specifies free parameters within the thorn.\n",
    "\n",
    "Let's start with $\\text{interface.ccl}$. Technical information about what must/should be included in this file can be found in the [official Einstein Toolkit documentation](http://cactuscode.org/documentation/referencemanual/ReferenceManualch8.html#x12-260000C2.2). \n",
    "\n",
    "With \"implements\", we give our thorn its unique name. By \"inheriting\" other thorns, we tell the Toolkit that we will rely on variables that exist within those functions. Then, we tell the toolkit that we want the scalars $\\text{psi4r}$\n",
    "and $\\text{psi4i}$ to be visible to other thorns by using the keyword \"public\". "
   ]
  },
  {
   "cell_type": "markdown",
   "metadata": {},
   "source": [
    "Now that we have built the full form of both the real and imaginary components of all five Weyl scalars, we can use NRPy+ to generate C code that compute them. We will later show how this C code can be used to construct a complete Einstein Toolkit diagnostic thorn.\n",
    "\n",
    "We first need to output the NRPy+-generated C code to a $\\text{.h}$ file so that they can be used by the C code."
   ]
  },
  {
   "cell_type": "code",
   "execution_count": 1,
   "metadata": {},
   "outputs": [],
   "source": [
    "import indexedexp as ixp\n",
    "import grid as gri\n",
    "import finite_difference as fin\n",
    "import reference_metric as rfm\n",
    "from outputC import *\n",
    "import sympy as sp\n",
    "import NRPy_param_funcs as par\n",
    "import loop\n",
    "\n",
    "import WeylScal4NRPy.WeylScalars_Cartesian as weyl\n",
    "par.set_parval_from_str(\"output_scalars\",\"all_psis_and_invariants\")\n",
    "weyl.WeylScalars_Cartesian()\n",
    "\n",
    "output_scalars = par.parval_from_str(\"output_scalars\")\n",
    "\n",
    "!mkdir WeylScal4NRPy     2>/dev/null # 2>/dev/null: Don't throw an error or warning if the directory already exists.\n",
    "!mkdir WeylScal4NRPy/src 2>/dev/null # 2>/dev/null: Don't throw an error or warning if the directory already exists.\n",
    "# par.set_parval_from_str(\"outputC::SIMD_enable\",True)\n",
    "\n",
    "scalars_lhrh = [lhrh(lhs=gri.gfaccess(\"out_gfs\",\"psi4r\"),rhs=weyl.psi4r),\\\n",
    "                lhrh(lhs=gri.gfaccess(\"out_gfs\",\"psi4i\"),rhs=weyl.psi4i)]\n",
    "\n",
    "if output_scalars is \"all_psis\" or \"all_psis_and_invariants\":\n",
    "    scalars_lhrh = [\\\n",
    "                    lhrh(lhs=gri.gfaccess(\"out_gfs\",\"psi4r\"),rhs=weyl.psi4r),\\\n",
    "                    lhrh(lhs=gri.gfaccess(\"out_gfs\",\"psi4i\"),rhs=weyl.psi4i),\\\n",
    "                    lhrh(lhs=gri.gfaccess(\"out_gfs\",\"psi3r\"),rhs=weyl.psi3r),\\\n",
    "                    lhrh(lhs=gri.gfaccess(\"out_gfs\",\"psi3i\"),rhs=weyl.psi3i),\\\n",
    "                    lhrh(lhs=gri.gfaccess(\"out_gfs\",\"psi2r\"),rhs=weyl.psi2r),\\\n",
    "                    lhrh(lhs=gri.gfaccess(\"out_gfs\",\"psi2i\"),rhs=weyl.psi2i),\\\n",
    "                    lhrh(lhs=gri.gfaccess(\"out_gfs\",\"psi1r\"),rhs=weyl.psi1r),\\\n",
    "                    lhrh(lhs=gri.gfaccess(\"out_gfs\",\"psi1i\"),rhs=weyl.psi1i),\\\n",
    "                    lhrh(lhs=gri.gfaccess(\"out_gfs\",\"psi0r\"),rhs=weyl.psi0r),\\\n",
    "                    lhrh(lhs=gri.gfaccess(\"out_gfs\",\"psi0i\"),rhs=weyl.psi0i),]\n",
    "    \n",
    "psis_CcodeKernel = fin.FD_outputC(\"returnstring\",scalars_lhrh)\n",
    "psis_looped = loop.loop([\"i2\",\"i1\",\"i0\"],[\"2\",\"2\",\"2\"],[\"cctk_lsh[2]-2\",\"cctk_lsh[1]-2\",\"cctk_lsh[0]-2\"],\\\n",
    "                        [\"1\",\"1\",\"1\"],[\"#pragma omp parallel for\",\"\",\"\"],\"\",psis_CcodeKernel)\n",
    "with open(\"WeylScal4NRPy/src/WeylScal4NRPy_psis.h\", \"w\") as file:\n",
    "    file.write(str(psis_looped))\n",
    "\n",
    "# Reset the registered gridfunctions list.\n",
    "gri.glb_gridfcs_list = []\n",
    "#par.set_parval_from_str(\"WeylScal4NRPy.WeylScalars_Cartesian::output_scalars\",\"all_psis_and_invariants\")\n",
    "output_scalars = par.parval_from_str(\"output_scalars\")\n",
    "\n",
    "#if output_scalars is \"all_psis_and_invariants\":\n",
    "import WeylScal4NRPy.WeylScalarInvariants_Cartesian as invar\n",
    "invar.WeylScalarInvariants_Cartesian()\n",
    "invars_lhrh = [\\\n",
    "               lhrh(lhs=gri.gfaccess(\"out_gfs\",\"curvIr\"),rhs=invar.curvIr),\\\n",
    "               lhrh(lhs=gri.gfaccess(\"out_gfs\",\"curvIi\"),rhs=invar.curvIi),\\\n",
    "               lhrh(lhs=gri.gfaccess(\"out_gfs\",\"curvJr\"),rhs=invar.curvJr),\\\n",
    "               lhrh(lhs=gri.gfaccess(\"out_gfs\",\"curvJi\"),rhs=invar.curvJi),\\\n",
    "               lhrh(lhs=gri.gfaccess(\"out_gfs\",\"curvJ1\"),rhs=invar.curvJ1),\\\n",
    "               lhrh(lhs=gri.gfaccess(\"out_gfs\",\"curvJ2\"),rhs=invar.curvJ2),\\\n",
    "               lhrh(lhs=gri.gfaccess(\"out_gfs\",\"curvJ3\"),rhs=invar.curvJ3),\\\n",
    "               lhrh(lhs=gri.gfaccess(\"out_gfs\",\"curvJ4\"),rhs=invar.curvJ4),]\n",
    "invars_CcodeKernel = fin.FD_outputC(\"returnstring\",invars_lhrh)\n",
    "\n",
    "invars_looped = loop.loop([\"i2\",\"i1\",\"i0\"],[\"2\",\"2\",\"2\"],[\"cctk_lsh[2]-2\",\"cctk_lsh[1]-2\",\"cctk_lsh[0]-2\"],\\\n",
    "                          [\"1\",\"1\",\"1\"],[\"#pragma omp parallel for\",\"\",\"\"],\"\",invars_CcodeKernel)\n",
    "\n",
    "with open(\"WeylScal4NRPy/src/WeylScal4NRPy_invars.h\", \"w\") as file:\n",
    "    file.write(str(invars_looped))"
   ]
  },
  {
   "cell_type": "markdown",
   "metadata": {},
   "source": [
    "Now that we have generated the .h files that do the heavy lifting in calculating the scalars we want to find, we need to write the C code that will do the legwork in getting the .h files run by the Toolkit. After the include statements, we give the function definitions to calculate both the Weyl scalars and invariants."
   ]
  },
  {
   "cell_type": "code",
   "execution_count": 2,
   "metadata": {},
   "outputs": [
    {
     "name": "stdout",
     "output_type": "stream",
     "text": [
      "Overwriting WeylScal4NRPy/src/WeylScal4NRPy.c\n"
     ]
    }
   ],
   "source": [
    "%%writefile WeylScal4NRPy/src/WeylScal4NRPy.c\n",
    "\n",
    "#include <math.h>\n",
    "#include <stdio.h>\n",
    "#include <stdlib.h>\n",
    "#include <string.h>\n",
    "#include \"cctk.h\"\n",
    "#include \"cctk_Arguments.h\"\n",
    "#include \"cctk_Parameters.h\"\n",
    "\n",
    "void calc_psis(const cGH* restrict const cctkGH,const int *cctk_lsh,const int *cctk_nghostzones,\n",
    "               const CCTK_REAL invdx0,const CCTK_REAL invdx1,const CCTK_REAL invdx2,\n",
    "               const CCTK_REAL *xGF,const CCTK_REAL *yGF,const CCTK_REAL *zGF,\n",
    "               const CCTK_REAL *gammaDD00GF,const CCTK_REAL *gammaDD01GF,const CCTK_REAL *gammaDD02GF,const CCTK_REAL *gammaDD11GF,const CCTK_REAL *gammaDD12GF,const CCTK_REAL *gammaDD22GF,\n",
    "               const CCTK_REAL     *kDD00GF,const CCTK_REAL     *kDD01GF,const CCTK_REAL     *kDD02GF,const CCTK_REAL     *kDD11GF,const CCTK_REAL     *kDD12GF,const CCTK_REAL     *kDD22GF,\n",
    "               CCTK_REAL *psi4rGF,CCTK_REAL *psi4iGF,\n",
    "               CCTK_REAL *psi3rGF,CCTK_REAL *psi3iGF,\n",
    "               CCTK_REAL *psi2rGF,CCTK_REAL *psi2iGF,\n",
    "               CCTK_REAL *psi1rGF,CCTK_REAL *psi1iGF,\n",
    "               CCTK_REAL *psi0rGF,CCTK_REAL *psi0iGF)  {\n",
    "\n",
    "    DECLARE_CCTK_PARAMETERS;\n",
    "    \n",
    "#include \"WeylScal4NRPy_psis.h\"\n",
    "    \n",
    "}\n",
    "\n",
    "void calc_invars(const cGH* restrict const cctkGH,const int *cctk_lsh,const int *cctk_nghostzones,\n",
    "                 const CCTK_REAL *psi4rGF,const CCTK_REAL *psi4iGF,\n",
    "                 const CCTK_REAL *psi3rGF,const CCTK_REAL *psi3iGF,\n",
    "                 const CCTK_REAL *psi2rGF,const CCTK_REAL *psi2iGF,\n",
    "                 const CCTK_REAL *psi1rGF,const CCTK_REAL *psi1iGF,\n",
    "                 const CCTK_REAL *psi0rGF,const CCTK_REAL *psi0iGF,\n",
    "                 CCTK_REAL *curvIrGF,CCTK_REAL *curvIiGF,\n",
    "                 CCTK_REAL *curvJrGF,CCTK_REAL *curvJiGF,\n",
    "                 CCTK_REAL *curvJ1GF,CCTK_REAL *curvJ2GF,\n",
    "                 CCTK_REAL *curvJ3GF,CCTK_REAL *curvJ4GF)  {\n",
    "  \n",
    "    DECLARE_CCTK_PARAMETERS;\n",
    "\n",
    "#include \"WeylScal4NRPy_invars.h\"\n",
    "\n",
    "}\n",
    "\n",
    "extern void weylscal4_mainfunction(CCTK_ARGUMENTS) {\n",
    "\n",
    "  DECLARE_CCTK_PARAMETERS;\n",
    "  DECLARE_CCTK_ARGUMENTS;\n",
    "\n",
    "  if(cctk_iteration % WeylScal4NRPy_calc_every != 0) { return; }\n",
    "  \n",
    "  const CCTK_REAL invdx0 = 1.0 / (CCTK_DELTA_SPACE(0));\n",
    "  const CCTK_REAL invdx1 = 1.0 / (CCTK_DELTA_SPACE(1));\n",
    "  const CCTK_REAL invdx2 = 1.0 / (CCTK_DELTA_SPACE(2));\n",
    "\n",
    "  /* Now, to calculate psi4: */\n",
    "  calc_psis(cctkGH,cctk_lsh,cctk_nghostzones,\n",
    "            invdx0,invdx1,invdx2,\n",
    "            x,y,z,\n",
    "            gxx,gxy,gxz,gyy,gyz,gzz,\n",
    "            kxx,kxy,kxz,kyy,kyz,kzz,\n",
    "            psi4r,psi4i,\n",
    "            psi3r,psi3i,\n",
    "            psi2r,psi2i,\n",
    "            psi1r,psi1i,\n",
    "            psi0r,psi0i);\n",
    "\n",
    "  if (CCTK_EQUALS(output_scalars, \"all_psis_and_invariants\")) {\n",
    "    calc_invars(cctkGH,cctk_lsh,cctk_nghostzones,\n",
    "      \t        psi4r,psi4i,\n",
    "                psi3r,psi3i,\n",
    "                psi2r,psi2i,\n",
    "                psi1r,psi1i,\n",
    "                psi0r,psi0i,\n",
    "                NRPycurvIr,NRPycurvIi,\n",
    "                NRPycurvJr,NRPycurvJi,\n",
    "                NRPycurvJ1,NRPycurvJ2,\n",
    "                NRPycurvJ3,NRPycurvJ4);\n",
    "    }\n",
    "\n",
    "}\n"
   ]
  },
  {
   "cell_type": "markdown",
   "metadata": {},
   "source": [
    "To create an Einstein Toolkit thorn to numerically compare the two codes, we will need a few more files, as required by the Einstein Toolkit: the scheduling, parameter, and interface $\\text{.ccl files}$ (our specific thorn does not require the optional $\\text{configuration.ccl}$ file)\n",
    "\n",
    "We will start with the file $\\text{interface.ccl}$. This file governs the interaction between this thorn and others; more information can be found in the [official Einstein Toolkit documentation](http://cactuscode.org/documentation/referencemanual/ReferenceManualch8.html#x12-260000C2.2). \n",
    "With \"implements\", we give our thorn its unique name. By \"inheriting\" other thorns, we tell the Toolkit that we will rely on variables that exist within those functions. Then, we tell the toolkit that we want the scalars $\\text{psi4r}$\n",
    "and $\\text{psi4i}$ to be visible to other thorns by using the keyword \"public\". "
   ]
  },
  {
   "cell_type": "code",
   "execution_count": 3,
   "metadata": {},
   "outputs": [
    {
     "name": "stdout",
     "output_type": "stream",
     "text": [
      "Overwriting WeylScal4NRPy/interface.ccl\n"
     ]
    }
   ],
   "source": [
    "%%writefile WeylScal4NRPy/interface.ccl\n",
    "\n",
    "implements: WeylScal4NRPy\n",
    "\n",
    "inherits:   admbase Boundary Grid methodoflines\n",
    "\n",
    "public:\n",
    "CCTK_REAL NRPyPsi4_group type=GF timelevels=3 tags='tensortypealias=\"Scalar\" tensorweight=0 tensorparity=1'\n",
    "{\n",
    "  psi4r, psi4i\n",
    "} \"Psi4_group\"\n",
    "\n",
    "public:\n",
    "CCTK_REAL NRPyPsi3210_group type=GF timelevels=3 tags='tensortypealias=\"Scalar\" tensorweight=0 tensorparity=1'\n",
    "{\n",
    "  psi3r,psi3i,psi2r,psi2i,psi1r,psi1i,psi0r,psi0i\n",
    "} \"Psi3210_group\"\n",
    "\n",
    "public:\n",
    "CCTK_REAL NRPyInvars_group type=GF timelevels=3 tags='tensortypealias=\"Scalar\" tensorweight=0 tensorparity=1'\n",
    "{\n",
    "  NRPycurvIr,NRPycurvIi,NRPycurvJr,NRPycurvJi,NRPycurvJ1,NRPycurvJ2,NRPycurvJ3,NRPycurvJ4\n",
    "} \"Psi3210_group\""
   ]
  },
  {
   "cell_type": "markdown",
   "metadata": {},
   "source": [
    "We will now write the file $\\text{param.ccl}$. This file allows the listed parameters to be set at runtime. We also give allowed ranges and default values for each parameter. More information on this file's syntax can be found in the [official Einstein Toolkit documentation](http://cactuscode.org/documentation/referencemanual/ReferenceManualch8.html#x12-265000C2.3). Here, the first two parameters tell the Method of Lines thorn that none of our variables need to be evolved in time. The last two determine how often we will calculate $\\psi_4$ and how many timesteps to skip at the beginning; currently, they are set to calculate $\\psi_4$ at every timestep, starting from the first in the simulation. "
   ]
  },
  {
   "cell_type": "code",
   "execution_count": 4,
   "metadata": {},
   "outputs": [
    {
     "name": "stdout",
     "output_type": "stream",
     "text": [
      "Overwriting WeylScal4NRPy/param.ccl\n"
     ]
    }
   ],
   "source": [
    "%%writefile WeylScal4NRPy/param.ccl\n",
    "\n",
    "restricted:\n",
    "CCTK_INT timelevels \"Number of active timelevels\" STEERABLE=RECOVER\n",
    "{\n",
    "  0:3 :: \"\"\n",
    "} 3\n",
    "\n",
    "restricted:\n",
    "CCTK_INT WeylScal4NRPy_calc_every \"WeylScal4_psi4_calc_Nth_calc_every\" STEERABLE=ALWAYS\n",
    "{\n",
    "  *:* :: \"\"\n",
    "} 1\n",
    "\n",
    "private:\n",
    "CCTK_KEYWORD output_scalars \"Whether to output all Weyl scalars, just psi4, or all scalars and invariants\" \n",
    "{  \n",
    "  \"psi4_only\" :: \"\"\n",
    "  \"all_psis\" :: \"\"\n",
    "  \"all_psis_and_invariants\" :: \"\"\n",
    "} \"psi4_only\"\n"
   ]
  },
  {
   "cell_type": "markdown",
   "metadata": {},
   "source": [
    "Finally, we will write the file $\\text{schedule.ccl}$; its official documentation is found [here](http://cactuscode.org/documentation/referencemanual/ReferenceManualch8.html#x12-268000C2.4). This file dictates when the various parts of the thorn will be run. We first assign storage for both the real and imaginary components of $\\psi_4$, and then specify that we want our code run in  the $\\text{MoL_PseudoEvolution}$ schedule group, after the ADM variables are set. At this step, we declare that we will be writing code in C. We also specify the gridfunctions that we wish to read in from memory--in our case, we need all the components of $K_{ij}$ and $g_{ij}$ (which we have been calling $\\gamma_{ij}$) in addition to the coordinate values."
   ]
  },
  {
   "cell_type": "code",
   "execution_count": 5,
   "metadata": {},
   "outputs": [
    {
     "name": "stdout",
     "output_type": "stream",
     "text": [
      "Overwriting WeylScal4NRPy/schedule.ccl\n"
     ]
    }
   ],
   "source": [
    "%%writefile WeylScal4NRPy/schedule.ccl\n",
    "\n",
    "STORAGE: NRPyPsi4_group[timelevels]\n",
    "if (CCTK_EQUALS(output_scalars, \"all_psis_and_invariants\") || CCTK_EQUALS(output_scalars, \"all_psis\"))\n",
    "{\n",
    " STORAGE: NRPyPsi3210_group[timelevels]\n",
    "}\n",
    "if (CCTK_EQUALS(output_scalars, \"all_psis_and_invariants\"))\n",
    "{\n",
    " STORAGE: NRPyInvars_group[timelevels]\n",
    "}\n",
    "\n",
    "schedule group WeylScal4NRPy_group in MoL_PseudoEvolution after ADMBase_SetADMVars\n",
    "{\n",
    "} \"Schedule WeylScal4NRPy group\"\n",
    "\n",
    "schedule weylscal4_mainfunction in WeylScal4NRPy_group\n",
    "{\n",
    "  LANG: C\n",
    "  READS: admbase::kxx(Everywhere)\n",
    "  READS: admbase::kxy(Everywhere)\n",
    "  READS: admbase::kxz(Everywhere)\n",
    "  READS: admbase::kyy(Everywhere)\n",
    "  READS: admbase::kyz(Everywhere)\n",
    "  READS: admbase::kzz(Everywhere)\n",
    "  READS: admbase::gxx(Everywhere)\n",
    "  READS: admbase::gxy(Everywhere)\n",
    "  READS: admbase::gxz(Everywhere)\n",
    "  READS: admbase::gyy(Everywhere)\n",
    "  READS: admbase::gyz(Everywhere)\n",
    "  READS: admbase::gzz(Everywhere)\n",
    "  READS: grid::x(Everywhere)\n",
    "  READS: grid::y(Everywhere)\n",
    "  READS: grid::z(Everywhere)\n",
    "  WRITES: WeylScal4::psi4i(Interior)\n",
    "  WRITES: WeylScal4::psi4r(Interior)\n",
    "  WRITES: WeylScal4::psi3i(Interior)\n",
    "  WRITES: WeylScal4::psi3r(Interior)\n",
    "  WRITES: WeylScal4::psi2i(Interior)\n",
    "  WRITES: WeylScal4::psi2r(Interior)\n",
    "  WRITES: WeylScal4::psi1i(Interior)\n",
    "  WRITES: WeylScal4::psi1r(Interior)\n",
    "  WRITES: WeylScal4::psi0i(Interior)\n",
    "  WRITES: WeylScal4::psi0r(Interior)\n",
    "  WRITES: WeylScal4::NRPycurvIi(Interior)\n",
    "  WRITES: WeylScal4::NRPycurvIr(Interior)\n",
    "  WRITES: WeylScal4::NRPycurvJi(Interior)\n",
    "  WRITES: WeylScal4::NRPycurvJr(Interior)\n",
    "  WRITES: WeylScal4::NRPycurvJ1(Interior)\n",
    "  WRITES: WeylScal4::NRPycurvJ2(Interior)\n",
    "  WRITES: WeylScal4::NRPycurvJ3(Interior)\n",
    "  WRITES: WeylScal4::NRPycurvJ4(Interior)\n",
    "\n",
    "} \"Call WeylScal4NRPy main function\"\n"
   ]
  },
  {
   "cell_type": "code",
   "execution_count": 6,
   "metadata": {},
   "outputs": [],
   "source": [
    "#if (CCTK_EQUALS(output_all_psis,\"true\"))\n",
    "#{\n",
    "#    {\n",
    "#  } /*\"Allocate storage for the other psis if desired\"*/\n",
    "#    if (CCTK_EQUALS(output_invars,\"true\"))\n",
    "#    {\n",
    "#        {\n",
    "#        } /*\"Allocate storage for scalar invariants if desired\"*/\n",
    "#    }\n",
    "#}"
   ]
  },
  {
   "cell_type": "markdown",
   "metadata": {},
   "source": [
    "We will also need $\\text{make.code.defn}$, which states which files need to be compiled. This thorn only has the one C file to compile."
   ]
  },
  {
   "cell_type": "code",
   "execution_count": 7,
   "metadata": {},
   "outputs": [
    {
     "name": "stdout",
     "output_type": "stream",
     "text": [
      "Overwriting WeylScal4NRPy/src/make.code.defn\n"
     ]
    }
   ],
   "source": [
    "%%writefile WeylScal4NRPy/src/make.code.defn\n",
    "\n",
    "SRCS = WeylScal4NRPy.c"
   ]
  }
 ],
 "metadata": {
  "kernelspec": {
   "display_name": "Python 3",
   "language": "python",
   "name": "python3"
  },
  "language_info": {
   "codemirror_mode": {
    "name": "ipython",
    "version": 3
   },
   "file_extension": ".py",
   "mimetype": "text/x-python",
   "name": "python",
   "nbconvert_exporter": "python",
   "pygments_lexer": "ipython3",
   "version": "3.6.5"
  }
 },
 "nbformat": 4,
 "nbformat_minor": 2
}
