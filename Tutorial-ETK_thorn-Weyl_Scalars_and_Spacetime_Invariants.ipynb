{
 "cells": [
  {
   "cell_type": "markdown",
   "metadata": {},
   "source": [
    "# Creating an Einstein Toolkit thorn\n",
    "\n",
    "### Now that we have coded of the Weyl scalars and associated invariants, we need to create a thorn to incorporate the generated C code into the Toolkit to calculate the scalars.\n",
    "\n",
    "To create an Einstein Toolkit thorn to numerically compare the two codes, we will need a few more files, as required by the Einstein Toolkit: the scheduling, parameter, and interface $\\text{.ccl files}$ (our specific thorn does not require the optional $\\text{configuration.ccl}$ file). \n",
    "\n",
    "We will start with the file $\\text{interface.ccl}$. This file governs the interaction between this thorn and others; more information can be found in the [official Einstein Toolkit documentation](http://cactuscode.org/documentation/referencemanual/ReferenceManualch8.html#x12-260000C2.2). \n",
    "With \"implements\", we give our thorn its unique name. By \"inheriting\" other thorns, we tell the Toolkit that we will rely on variables that exist within those functions. Then, we tell the toolkit that we want the scalars $\\text{psi4r}$\n",
    "and $\\text{psi4i}$ to be visible to other thorns by using the keyword \"public\". "
   ]
  },
  {
   "cell_type": "markdown",
   "metadata": {},
   "source": [
    "Now that we have built the full form of both the real and imaginary components of all five Weyl scalars, we can generate C code to compute them. We will also set up the directory structure to build an Einstein Toolkit thorn. \n",
    "\n",
    "We first need to output the equations to a $\\text{.h}$ file so that they can be used by the C code."
   ]
  },
  {
   "cell_type": "code",
   "execution_count": 1,
   "metadata": {},
   "outputs": [
    {
     "data": {
      "text/plain": [
       "111225"
      ]
     },
     "execution_count": 1,
     "metadata": {},
     "output_type": "execute_result"
    }
   ],
   "source": [
    "import indexedexp as ixp\n",
    "import grid as gri\n",
    "import finite_difference as fin\n",
    "import reference_metric as rfm\n",
    "from outputC import *\n",
    "import sympy as sp\n",
    "import NRPy_param_funcs as par\n",
    "import loop\n",
    "\n",
    "import WeylScal4NRPy.WeylScalars_Cartesian as weyl\n",
    "weyl.WeylScalars_Cartesian()\n",
    "\n",
    "par.set_parval_from_str(\"output_scalars\",\"all_psis_and_invariants\")\n",
    "output_scalars = par.parval_from_str(\"output_scalars\")\n",
    "\n",
    "!mkdir WeylScal4NRPy     2>/dev/null # 2>/dev/null: Don't throw an error if the directory already exists.\n",
    "!mkdir WeylScal4NRPy/src 2>/dev/null # 2>/dev/null: Don't throw an error if the directory already exists.\n",
    "# par.set_parval_from_str(\"outputC::SIMD_enable\",True)\n",
    "scalars_to_print = [lhrh(lhs=gri.gfaccess(\"out_gfs\",\"psi4r\"),rhs=weyl.psi4r_rhs),\\\n",
    "                    lhrh(lhs=gri.gfaccess(\"out_gfs\",\"psi4i\"),rhs=weyl.psi4i_rhs)]\n",
    "\n",
    "get_position_pointers = \"\\tconst CCTK_REAL xx0 = x[CCTK_GFINDEX3D(cctkGH, i0,i1,i2)];\\\n",
    "                       \\n\\tconst CCTK_REAL xx1 = y[CCTK_GFINDEX3D(cctkGH, i0,i1,i2)];\\\n",
    "                       \\n\\tconst CCTK_REAL xx2 = z[CCTK_GFINDEX3D(cctkGH, i0,i1,i2)];\\\n",
    "\\n\"\n",
    "\n",
    "get_psi_pointers = \"\\tconst double psi4r = psi4rGF[CCTK_GFINDEX3D(cctkGH, i0,i1,i2)];\\\n",
    "                  \\n\\tconst double psi4i = psi4iGF[CCTK_GFINDEX3D(cctkGH, i0,i1,i2)];\\\n",
    "                  \\n\\tconst double psi3r = psi3rGF[CCTK_GFINDEX3D(cctkGH, i0,i1,i2)];\\\n",
    "                  \\n\\tconst double psi3i = psi3iGF[CCTK_GFINDEX3D(cctkGH, i0,i1,i2)];\\\n",
    "                  \\n\\tconst double psi2r = psi2rGF[CCTK_GFINDEX3D(cctkGH, i0,i1,i2)];\\\n",
    "                  \\n\\tconst double psi2i = psi2iGF[CCTK_GFINDEX3D(cctkGH, i0,i1,i2)];\\\n",
    "                  \\n\\tconst double psi1r = psi1rGF[CCTK_GFINDEX3D(cctkGH, i0,i1,i2)];\\\n",
    "                  \\n\\tconst double psi1i = psi1iGF[CCTK_GFINDEX3D(cctkGH, i0,i1,i2)];\\\n",
    "                  \\n\\tconst double psi0r = psi0rGF[CCTK_GFINDEX3D(cctkGH, i0,i1,i2)];\\\n",
    "                  \\n\\tconst double psi0i = psi0iGF[CCTK_GFINDEX3D(cctkGH, i0,i1,i2)];\\\n",
    "\\n\"\n",
    "\n",
    "if output_scalars is \"all_psis\" or \"all_psis_and_invariants\":\n",
    "    scalars_to_print = scalars_to_print + [\\\n",
    "                                           lhrh(lhs=gri.gfaccess(\"out_gfs\",\"psi4r\"),rhs=weyl.psi4r_rhs),\\\n",
    "                                           lhrh(lhs=gri.gfaccess(\"out_gfs\",\"psi4i\"),rhs=weyl.psi4i_rhs),\\\n",
    "                                           lhrh(lhs=gri.gfaccess(\"out_gfs\",\"psi3r\"),rhs=weyl.psi3r_rhs),\\\n",
    "                                           lhrh(lhs=gri.gfaccess(\"out_gfs\",\"psi3i\"),rhs=weyl.psi3i_rhs),\\\n",
    "                                           lhrh(lhs=gri.gfaccess(\"out_gfs\",\"psi2r\"),rhs=weyl.psi2r_rhs),\\\n",
    "                                           lhrh(lhs=gri.gfaccess(\"out_gfs\",\"psi2i\"),rhs=weyl.psi2i_rhs),\\\n",
    "                                           lhrh(lhs=gri.gfaccess(\"out_gfs\",\"psi1r\"),rhs=weyl.psi1r_rhs),\\\n",
    "                                           lhrh(lhs=gri.gfaccess(\"out_gfs\",\"psi1i\"),rhs=weyl.psi1i_rhs),\\\n",
    "                                           lhrh(lhs=gri.gfaccess(\"out_gfs\",\"psi0r\"),rhs=weyl.psi0r_rhs),\\\n",
    "                                           lhrh(lhs=gri.gfaccess(\"out_gfs\",\"psi0i\"),rhs=weyl.psi0i_rhs),]\n",
    "    if output_scalars is \"all_psis_and_invariants\":\n",
    "#        scalars_to_print = scalars_to_print + [\\\n",
    "        invars_to_print = [\\\n",
    "                           lhrh(lhs=gri.gfaccess(\"out_gfs\",\"curvIr\"),rhs=weyl.curvIr_rhs),\\\n",
    "                           lhrh(lhs=gri.gfaccess(\"out_gfs\",\"curvIi\"),rhs=weyl.curvIi_rhs),\\\n",
    "                           lhrh(lhs=gri.gfaccess(\"out_gfs\",\"curvJr\"),rhs=weyl.curvJr_rhs),\\\n",
    "                           lhrh(lhs=gri.gfaccess(\"out_gfs\",\"curvJi\"),rhs=weyl.curvJi_rhs),\\\n",
    "                           lhrh(lhs=gri.gfaccess(\"out_gfs\",\"curvJ1\"),rhs=weyl.curvJ1_rhs),\\\n",
    "                           lhrh(lhs=gri.gfaccess(\"out_gfs\",\"curvJ2\"),rhs=weyl.curvJ2_rhs),\\\n",
    "                           lhrh(lhs=gri.gfaccess(\"out_gfs\",\"curvJ3\"),rhs=weyl.curvJ3_rhs),\\\n",
    "                           lhrh(lhs=gri.gfaccess(\"out_gfs\",\"curvJ4\"),rhs=weyl.curvJ4_rhs),]\n",
    "        invars = fin.FD_outputC(\"returnstring\",invars_to_print)\n",
    "        invars_looped = loop.loop([\"i2\",\"i1\",\"i0\"],[\"2\",\"2\",\"2\"],[\"cctk_lsh[2]-2\",\"cctk_lsh[1]-2\",\"cctk_lsh[0]-2\"],\\\n",
    "                                  [\"1\",\"1\",\"1\"],[\"#pragma omp parallel for\",\"\",\"\"],\"\",get_psi_pointers+invars)\n",
    "        file = open(\"WeylScal4NRPy/src/WeylScal4NRPy_invars.h\", \"w\")\n",
    "        file.write(str(invars_looped))\n",
    "\n",
    "psis = fin.FD_outputC(\"returnstring\",scalars_to_print)\n",
    "psis_looped = loop.loop([\"i2\",\"i1\",\"i0\"],[\"2\",\"2\",\"2\"],[\"cctk_lsh[2]-2\",\"cctk_lsh[1]-2\",\"cctk_lsh[0]-2\"],\\\n",
    "                        [\"1\",\"1\",\"1\"],[\"#pragma omp parallel for\",\"\",\"\"],\"\",get_position_pointers+psis)\n",
    "file = open(\"WeylScal4NRPy/src/WeylScal4NRPy_psis.h\", \"w\")\n",
    "file.write(str(psis_looped))\n"
   ]
  },
  {
   "cell_type": "code",
   "execution_count": 2,
   "metadata": {},
   "outputs": [
    {
     "name": "stdout",
     "output_type": "stream",
     "text": [
      "Overwriting WeylScal4NRPy/interface.ccl\n"
     ]
    }
   ],
   "source": [
    "%%writefile WeylScal4NRPy/interface.ccl\n",
    "\n",
    "implements: WeylScal4NRPy\n",
    "\n",
    "inherits:   admbase Boundary Grid methodoflines\n",
    "\n",
    "public:\n",
    "CCTK_REAL NRPyPsi4_group type=GF timelevels=3 tags='tensortypealias=\"Scalar\" tensorweight=0 tensorparity=1'\n",
    "{\n",
    "  psi4r, psi4i\n",
    "} \"Psi4_group\"\n",
    "\n",
    "public:\n",
    "CCTK_REAL NRPyPsi3210_group type=GF timelevels=3 tags='tensortypealias=\"Scalar\" tensorweight=0 tensorparity=1'\n",
    "{\n",
    "  psi3r,psi3i,psi2r,psi2i,psi1r,psi1i,psi0r,psi0i\n",
    "} \"Psi3210_group\"\n",
    "\n",
    "public:\n",
    "CCTK_REAL NRPyInvars_group type=GF timelevels=3 tags='tensortypealias=\"Scalar\" tensorweight=0 tensorparity=1'\n",
    "{\n",
    "  NRPycurvIr,NRPycurvIi,NRPycurvJr,NRPycurvJi,NRPycurvJ1,NRPycurvJ2,NRPycurvJ3,NRPycurvJ4\n",
    "} \"Psi3210_group\""
   ]
  },
  {
   "cell_type": "markdown",
   "metadata": {},
   "source": [
    "We will now write the file $\\text{param.ccl}$. This file allows the listed parameters to be set at runtime. We also give allowed ranges and default values for each parameter. More information on this file's syntax can be found in the [official Einstein Toolkit documentation](http://cactuscode.org/documentation/referencemanual/ReferenceManualch8.html#x12-265000C2.3). Here, the first two parameters tell the Method of Lines thorn that none of our variables need to be evolved in time. The last two determine how often we will calculate $\\psi_4$ and how many timesteps to skip at the beginning; currently, they are set to calculate $\\psi_4$ at every timestep, starting from the first in the simulation. "
   ]
  },
  {
   "cell_type": "code",
   "execution_count": 3,
   "metadata": {},
   "outputs": [
    {
     "name": "stdout",
     "output_type": "stream",
     "text": [
      "Overwriting WeylScal4NRPy/param.ccl\n"
     ]
    }
   ],
   "source": [
    "%%writefile WeylScal4NRPy/param.ccl\n",
    "\n",
    "restricted:\n",
    "CCTK_INT timelevels \"Number of active timelevels\" STEERABLE=RECOVER\n",
    "{\n",
    "  0:3 :: \"\"\n",
    "} 3\n",
    "\n",
    "restricted:\n",
    "CCTK_INT WeylScal4NRPy_calc_every \"WeylScal4_psi4_calc_Nth_calc_every\" STEERABLE=ALWAYS\n",
    "{\n",
    "  *:* :: \"\"\n",
    "} 1\n",
    "\n",
    "private:\n",
    "CCTK_KEYWORD output_scalars \"Whether to output all Weyl scalars, just psi4, or all scalars and invariants\" \n",
    "{  \n",
    "  \"psi4_only\" :: \"\"\n",
    "  \"all_psis\" :: \"\"\n",
    "  \"all_psis_and_invariants\" :: \"\"\n",
    "} \"psi4_only\"\n"
   ]
  },
  {
   "cell_type": "markdown",
   "metadata": {},
   "source": [
    "Finally, we will write the file $\\text{schedule.ccl}$; its official documentation is found [here](http://cactuscode.org/documentation/referencemanual/ReferenceManualch8.html#x12-268000C2.4). This file dictates when the various parts of the thorn will be run. We first assign storage for both the real and imaginary components of $\\psi_4$, and then specify that we want our code run in  the $\\text{MoL_PseudoEvolution}$ schedule group, after the ADM variables are set. At this step, we declare that we will be writing code in C. We also specify the gridfunctions that we wish to read in from memory--in our case, we need all the components of $K_{ij}$ and $g_{ij}$ (which we have been calling $\\gamma_{ij}$) in addition to the coordinate values."
   ]
  },
  {
   "cell_type": "code",
   "execution_count": 4,
   "metadata": {},
   "outputs": [
    {
     "name": "stdout",
     "output_type": "stream",
     "text": [
      "Overwriting WeylScal4NRPy/schedule.ccl\n"
     ]
    }
   ],
   "source": [
    "%%writefile WeylScal4NRPy/schedule.ccl\n",
    "\n",
    "STORAGE: NRPyPsi4_group[timelevels]\n",
    "if (CCTK_EQUALS(output_scalars, \"all_psis_and_invariants\") || CCTK_EQUALS(output_scalars, \"all_psis\"))\n",
    "{\n",
    " STORAGE: NRPyPsi3210_group[timelevels]\n",
    "}\n",
    "if (CCTK_EQUALS(output_scalars, \"all_psis_and_invariants\"))\n",
    "{\n",
    " STORAGE: NRPyInvars_group[timelevels]\n",
    "}\n",
    "\n",
    "schedule group WeylScal4NRPy_group in MoL_PseudoEvolution after ADMBase_SetADMVars\n",
    "{\n",
    "} \"Schedule WeylScal4NRPy group\"\n",
    "\n",
    "schedule weylscal4_mainfunction in WeylScal4NRPy_group\n",
    "{\n",
    "  LANG: C\n",
    "  READS: admbase::kxx(Everywhere)\n",
    "  READS: admbase::kxy(Everywhere)\n",
    "  READS: admbase::kxz(Everywhere)\n",
    "  READS: admbase::kyy(Everywhere)\n",
    "  READS: admbase::kyz(Everywhere)\n",
    "  READS: admbase::kzz(Everywhere)\n",
    "  READS: admbase::gxx(Everywhere)\n",
    "  READS: admbase::gxy(Everywhere)\n",
    "  READS: admbase::gxz(Everywhere)\n",
    "  READS: admbase::gyy(Everywhere)\n",
    "  READS: admbase::gyz(Everywhere)\n",
    "  READS: admbase::gzz(Everywhere)\n",
    "  READS: grid::x(Everywhere)\n",
    "  READS: grid::y(Everywhere)\n",
    "  READS: grid::z(Everywhere)\n",
    "  WRITES: WeylScal4::psi4i(Interior)\n",
    "  WRITES: WeylScal4::psi4r(Interior)\n",
    "  WRITES: WeylScal4::psi3i(Interior)\n",
    "  WRITES: WeylScal4::psi3r(Interior)\n",
    "  WRITES: WeylScal4::psi2i(Interior)\n",
    "  WRITES: WeylScal4::psi2r(Interior)\n",
    "  WRITES: WeylScal4::psi1i(Interior)\n",
    "  WRITES: WeylScal4::psi1r(Interior)\n",
    "  WRITES: WeylScal4::psi0i(Interior)\n",
    "  WRITES: WeylScal4::psi0r(Interior)\n",
    "  WRITES: WeylScal4::NRPycurvIi(Interior)\n",
    "  WRITES: WeylScal4::NRPycurvIr(Interior)\n",
    "  WRITES: WeylScal4::NRPycurvJi(Interior)\n",
    "  WRITES: WeylScal4::NRPycurvJr(Interior)\n",
    "  WRITES: WeylScal4::NRPycurvJ1(Interior)\n",
    "  WRITES: WeylScal4::NRPycurvJ2(Interior)\n",
    "  WRITES: WeylScal4::NRPycurvJ3(Interior)\n",
    "  WRITES: WeylScal4::NRPycurvJ4(Interior)\n",
    "\n",
    "} \"Call WeylScal4NRPy main function\"\n"
   ]
  },
  {
   "cell_type": "code",
   "execution_count": 5,
   "metadata": {},
   "outputs": [],
   "source": [
    "#if (CCTK_EQUALS(output_all_psis,\"true\"))\n",
    "#{\n",
    "#    {\n",
    "#  } /*\"Allocate storage for the other psis if desired\"*/\n",
    "#    if (CCTK_EQUALS(output_invars,\"true\"))\n",
    "#    {\n",
    "#        {\n",
    "#        } /*\"Allocate storage for scalar invariants if desired\"*/\n",
    "#    }\n",
    "#}"
   ]
  },
  {
   "cell_type": "markdown",
   "metadata": {},
   "source": [
    "We will also need $\\text{make.code.defn}$, which states which files need to be compiled. This thorn only has the one C file to compile."
   ]
  },
  {
   "cell_type": "code",
   "execution_count": 6,
   "metadata": {},
   "outputs": [
    {
     "name": "stdout",
     "output_type": "stream",
     "text": [
      "Overwriting WeylScal4NRPy/src/make.code.defn\n"
     ]
    }
   ],
   "source": [
    "%%writefile WeylScal4NRPy/src/make.code.defn\n",
    "\n",
    "SRCS = WeylScal4NRPy.c"
   ]
  }
 ],
 "metadata": {
  "kernelspec": {
   "display_name": "Python 3",
   "language": "python",
   "name": "python3"
  },
  "language_info": {
   "codemirror_mode": {
    "name": "ipython",
    "version": 3
   },
   "file_extension": ".py",
   "mimetype": "text/x-python",
   "name": "python",
   "nbconvert_exporter": "python",
   "pygments_lexer": "ipython3",
   "version": "3.6.5"
  }
 },
 "nbformat": 4,
 "nbformat_minor": 2
}
