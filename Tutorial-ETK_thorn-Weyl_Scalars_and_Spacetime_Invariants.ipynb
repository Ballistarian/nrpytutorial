{
 "cells": [
  {
   "cell_type": "markdown",
   "metadata": {},
   "source": [
    "# Creating an Einstein Toolkit thorn\n",
    "\n",
    "### Now that we have coded of the Weyl scalars and associated invariants, we need to create a thorn to incorporate the generated C code into the Toolkit to calculate the scalars.\n",
    "\n",
    "To create an Einstein Toolkit thorn to numerically compare the two codes, we will need a few more files, as required by the Einstein Toolkit: the scheduling, parameter, and interface $\\text{.ccl files}$ (our specific thorn does not require the optional $\\text{configuration.ccl}$ file). \n",
    "\n",
    "We will start with the file $\\text{interface.ccl}$. This file governs the interaction between this thorn and others; more information can be found in the [official Einstein Toolkit documentation](http://cactuscode.org/documentation/referencemanual/ReferenceManualch8.html#x12-260000C2.2). \n",
    "With \"implements\", we give our thorn its unique name. By \"inheriting\" other thorns, we tell the Toolkit that we will rely on variables that exist within those functions. Then, we tell the toolkit that we want the scalars $\\text{psi4r}$\n",
    "and $\\text{psi4i}$ to be visible to other thorns by using the keyword \"public\". "
   ]
  },
  {
   "cell_type": "markdown",
   "metadata": {},
   "source": [
    "Now that we have built the full form of both the real and imaginary components of all five Weyl scalars, we can generate C code to compute them. We will also set up the directory structure to build an Einstein Toolkit thorn. \n",
    "\n",
    "We first need to output the equations to a $\\text{.h}$ file so that they can be used by the C code."
   ]
  },
  {
   "cell_type": "code",
   "execution_count": 1,
   "metadata": {},
   "outputs": [
    {
     "name": "stdout",
     "output_type": "stream",
     "text": [
      "[gridfunction(gftype='AUX', name='psi4r'), gridfunction(gftype='AUX', name='psi4i'), gridfunction(gftype='AUX', name='psi3r'), gridfunction(gftype='AUX', name='psi3i'), gridfunction(gftype='AUX', name='psi2r'), gridfunction(gftype='AUX', name='psi2i'), gridfunction(gftype='AUX', name='psi1r'), gridfunction(gftype='AUX', name='psi1i'), gridfunction(gftype='AUX', name='psi0r'), gridfunction(gftype='AUX', name='psi0i'), gridfunction(gftype='AUX', name='curvIr'), gridfunction(gftype='AUX', name='curvIi'), gridfunction(gftype='AUX', name='curvJr'), gridfunction(gftype='AUX', name='curvJi'), gridfunction(gftype='AUX', name='curvJ1'), gridfunction(gftype='AUX', name='curvJ2'), gridfunction(gftype='AUX', name='curvJ3'), gridfunction(gftype='AUX', name='curvJ4')]\n",
      "Error: Tried to register the gridfunction \"psi4r\" twice (ignored type)\n",
      "\n",
      "\n"
     ]
    },
    {
     "ename": "NameError",
     "evalue": "name 'exit' is not defined",
     "output_type": "error",
     "traceback": [
      "\u001b[0;31m---------------------------------------------------------------------------\u001b[0m",
      "\u001b[0;31mNameError\u001b[0m                                 Traceback (most recent call last)",
      "\u001b[0;32m<ipython-input-1-7fe607e1646b>\u001b[0m in \u001b[0;36m<module>\u001b[0;34m()\u001b[0m\n\u001b[1;32m     20\u001b[0m \u001b[0;32mimport\u001b[0m \u001b[0mWeylScal4NRPy\u001b[0m\u001b[0;34m.\u001b[0m\u001b[0mWeylScalars_Cartesian\u001b[0m \u001b[0;32mas\u001b[0m \u001b[0mweyl\u001b[0m\u001b[0;34m\u001b[0m\u001b[0m\n\u001b[1;32m     21\u001b[0m \u001b[0mpar\u001b[0m\u001b[0;34m.\u001b[0m\u001b[0mset_parval_from_str\u001b[0m\u001b[0;34m(\u001b[0m\u001b[0;34m\"output_scalars\"\u001b[0m\u001b[0;34m,\u001b[0m\u001b[0;34m\"all_psis\"\u001b[0m\u001b[0;34m)\u001b[0m\u001b[0;34m\u001b[0m\u001b[0m\n\u001b[0;32m---> 22\u001b[0;31m \u001b[0mweyl\u001b[0m\u001b[0;34m.\u001b[0m\u001b[0mWeylScalars_Cartesian\u001b[0m\u001b[0;34m(\u001b[0m\u001b[0;34m)\u001b[0m\u001b[0;34m\u001b[0m\u001b[0m\n\u001b[0m\u001b[1;32m     23\u001b[0m \u001b[0mprint\u001b[0m\u001b[0;34m(\u001b[0m\u001b[0mgri\u001b[0m\u001b[0;34m.\u001b[0m\u001b[0mglb_gridfcs_list\u001b[0m\u001b[0;34m)\u001b[0m\u001b[0;34m\u001b[0m\u001b[0m\n\u001b[1;32m     24\u001b[0m \u001b[0;34m\u001b[0m\u001b[0m\n",
      "\u001b[0;32m~/jup/nrpytutorial/WeylScal4NRPy/WeylScalars_Cartesian.py\u001b[0m in \u001b[0;36mWeylScalars_Cartesian\u001b[0;34m()\u001b[0m\n\u001b[1;32m     59\u001b[0m                                                                                                     \u001b[0;34m\"psi2r\"\u001b[0m\u001b[0;34m,\u001b[0m\u001b[0;34m\"psi2i\"\u001b[0m\u001b[0;34m,\u001b[0m\u001b[0;31m\\\u001b[0m\u001b[0;34m\u001b[0m\u001b[0m\n\u001b[1;32m     60\u001b[0m                                                                                                     \u001b[0;34m\"psi1r\"\u001b[0m\u001b[0;34m,\u001b[0m\u001b[0;34m\"psi1i\"\u001b[0m\u001b[0;34m,\u001b[0m\u001b[0;31m\\\u001b[0m\u001b[0;34m\u001b[0m\u001b[0m\n\u001b[0;32m---> 61\u001b[0;31m                                                                                                     \"psi0r\",\"psi0i\"])\n\u001b[0m\u001b[1;32m     62\u001b[0m \u001b[0;34m\u001b[0m\u001b[0m\n\u001b[1;32m     63\u001b[0m     \u001b[0;31m# Step 2a: Set spatial dimension (must be 3 for BSSN)\u001b[0m\u001b[0;34m\u001b[0m\u001b[0;34m\u001b[0m\u001b[0m\n",
      "\u001b[0;32m~/jup/nrpytutorial/grid.py\u001b[0m in \u001b[0;36mregister_gridfunctions\u001b[0;34m(gf_type, gf_names)\u001b[0m\n\u001b[1;32m    109\u001b[0m             \u001b[0;32mif\u001b[0m \u001b[0mgf_names\u001b[0m\u001b[0;34m[\u001b[0m\u001b[0mi\u001b[0m\u001b[0;34m]\u001b[0m \u001b[0;34m==\u001b[0m \u001b[0mglb_gridfcs_list\u001b[0m\u001b[0;34m[\u001b[0m\u001b[0mj\u001b[0m\u001b[0;34m]\u001b[0m\u001b[0;34m.\u001b[0m\u001b[0mname\u001b[0m\u001b[0;34m:\u001b[0m\u001b[0;34m\u001b[0m\u001b[0m\n\u001b[1;32m    110\u001b[0m                 \u001b[0mprint\u001b[0m\u001b[0;34m(\u001b[0m\u001b[0;34m\"Error: Tried to register the gridfunction \\\"\"\u001b[0m\u001b[0;34m+\u001b[0m\u001b[0mgf_names\u001b[0m\u001b[0;34m[\u001b[0m\u001b[0mi\u001b[0m\u001b[0;34m]\u001b[0m\u001b[0;34m+\u001b[0m\u001b[0;34m\"\\\" twice (ignored type)\\n\\n\"\u001b[0m\u001b[0;34m)\u001b[0m\u001b[0;34m\u001b[0m\u001b[0m\n\u001b[0;32m--> 111\u001b[0;31m                 \u001b[0mexit\u001b[0m\u001b[0;34m(\u001b[0m\u001b[0;36m1\u001b[0m\u001b[0;34m)\u001b[0m\u001b[0;34m\u001b[0m\u001b[0m\n\u001b[0m\u001b[1;32m    112\u001b[0m         \u001b[0;31m# If no duplicate found, append to \"gridfunctions\" list:\u001b[0m\u001b[0;34m\u001b[0m\u001b[0;34m\u001b[0m\u001b[0m\n\u001b[1;32m    113\u001b[0m         \u001b[0mglb_gridfcs_list\u001b[0m\u001b[0;34m.\u001b[0m\u001b[0mappend\u001b[0m\u001b[0;34m(\u001b[0m\u001b[0mglb_gridfc\u001b[0m\u001b[0;34m(\u001b[0m\u001b[0mgf_type\u001b[0m\u001b[0;34m,\u001b[0m\u001b[0mgf_names\u001b[0m\u001b[0;34m[\u001b[0m\u001b[0mi\u001b[0m\u001b[0;34m]\u001b[0m\u001b[0;34m)\u001b[0m\u001b[0;34m)\u001b[0m\u001b[0;34m\u001b[0m\u001b[0m\n",
      "\u001b[0;31mNameError\u001b[0m: name 'exit' is not defined"
     ]
    }
   ],
   "source": [
    "import indexedexp as ixp\n",
    "import grid as gri\n",
    "import finite_difference as fin\n",
    "import reference_metric as rfm\n",
    "from outputC import *\n",
    "import sympy as sp\n",
    "import NRPy_param_funcs as par\n",
    "import loop\n",
    "\n",
    "import WeylScal4NRPy.WeylScalars_Cartesian as weyl\n",
    "par.set_parval_from_str(\"output_scalars\",\"all_psis\")\n",
    "weyl.WeylScalars_Cartesian()\n",
    "print(gri.glb_gridfcs_list)\n",
    "\n",
    "output_scalars = par.parval_from_str(\"output_scalars\")\n",
    "\n",
    "!mkdir WeylScal4NRPy     2>/dev/null # 2>/dev/null: Don't throw an error if the directory already exists.\n",
    "!mkdir WeylScal4NRPy/src 2>/dev/null # 2>/dev/null: Don't throw an error if the directory already exists.\n",
    "# par.set_parval_from_str(\"outputC::SIMD_enable\",True)\n",
    "\n",
    "get_psi_pointers = \"\\tconst double psi4r = psi4rGF[CCTK_GFINDEX3D(cctkGH, i0,i1,i2)];\\\n",
    "                  \\n\\tconst double psi4i = psi4iGF[CCTK_GFINDEX3D(cctkGH, i0,i1,i2)];\\\n",
    "                  \\n\\tconst double psi3r = psi3rGF[CCTK_GFINDEX3D(cctkGH, i0,i1,i2)];\\\n",
    "                  \\n\\tconst double psi3i = psi3iGF[CCTK_GFINDEX3D(cctkGH, i0,i1,i2)];\\\n",
    "                  \\n\\tconst double psi2r = psi2rGF[CCTK_GFINDEX3D(cctkGH, i0,i1,i2)];\\\n",
    "                  \\n\\tconst double psi2i = psi2iGF[CCTK_GFINDEX3D(cctkGH, i0,i1,i2)];\\\n",
    "                  \\n\\tconst double psi1r = psi1rGF[CCTK_GFINDEX3D(cctkGH, i0,i1,i2)];\\\n",
    "                  \\n\\tconst double psi1i = psi1iGF[CCTK_GFINDEX3D(cctkGH, i0,i1,i2)];\\\n",
    "                  \\n\\tconst double psi0r = psi0rGF[CCTK_GFINDEX3D(cctkGH, i0,i1,i2)];\\\n",
    "                  \\n\\tconst double psi0i = psi0iGF[CCTK_GFINDEX3D(cctkGH, i0,i1,i2)];\\\n",
    "\\n\"\n",
    "\n",
    "scalars_to_print = [lhrh(lhs=gri.gfaccess(\"out_gfs\",\"psi4r\"),rhs=weyl.psi4r),\\\n",
    "                    lhrh(lhs=gri.gfaccess(\"out_gfs\",\"psi4i\"),rhs=weyl.psi4i)]\n",
    "\n",
    "if output_scalars is \"all_psis\" or \"all_psis_and_invariants\":\n",
    "    scalars_to_print = scalars_to_print + [\\\n",
    "                                           lhrh(lhs=gri.gfaccess(\"out_gfs\",\"psi4r\"),rhs=weyl.psi4r),\\\n",
    "                                           lhrh(lhs=gri.gfaccess(\"out_gfs\",\"psi4i\"),rhs=weyl.psi4i),\\\n",
    "                                           lhrh(lhs=gri.gfaccess(\"out_gfs\",\"psi3r\"),rhs=weyl.psi3r),\\\n",
    "                                           lhrh(lhs=gri.gfaccess(\"out_gfs\",\"psi3i\"),rhs=weyl.psi3i),\\\n",
    "                                           lhrh(lhs=gri.gfaccess(\"out_gfs\",\"psi2r\"),rhs=weyl.psi2r),\\\n",
    "                                           lhrh(lhs=gri.gfaccess(\"out_gfs\",\"psi2i\"),rhs=weyl.psi2i),\\\n",
    "                                           lhrh(lhs=gri.gfaccess(\"out_gfs\",\"psi1r\"),rhs=weyl.psi1r),\\\n",
    "                                           lhrh(lhs=gri.gfaccess(\"out_gfs\",\"psi1i\"),rhs=weyl.psi1i),\\\n",
    "                                           lhrh(lhs=gri.gfaccess(\"out_gfs\",\"psi0r\"),rhs=weyl.psi0r),\\\n",
    "                                           lhrh(lhs=gri.gfaccess(\"out_gfs\",\"psi0i\"),rhs=weyl.psi0i),]\n",
    "\n",
    "#psis = fin.FD_outputC(\"returnstring\",scalars_to_print)\n",
    "#psis_looped = loop.loop([\"i2\",\"i1\",\"i0\"],[\"2\",\"2\",\"2\"],[\"cctk_lsh[2]-2\",\"cctk_lsh[1]-2\",\"cctk_lsh[0]-2\"],\\\n",
    "#                        [\"1\",\"1\",\"1\"],[\"#pragma omp parallel for\",\"\",\"\"],\"\",psis)\n",
    "#file = open(\"WeylScal4NRPy/src/WeylScal4NRPy_psis.h\", \"w\")\n",
    "#file.write(str(psis_looped))\n",
    "\n",
    "gri.glb_gridfcs_list = []\n",
    "par.set_parval_from_str(\"WeylScal4NRPy.WeylScalars_Cartesian::output_scalars\",\"all_psis_and_invariants\")\n",
    "output_scalars = par.parval_from_str(\"output_scalars\")\n",
    "\n",
    "#if output_scalars is \"all_psis_and_invariants\":\n",
    "import WeylScal4NRPy.ScalarInvariants_Cartesian as invar\n",
    "invar.ScalarInvariants_Cartesian()\n",
    "invars_to_print = [\\\n",
    "                   lhrh(lhs=gri.gfaccess(\"out_gfs\",\"curvIr\"),rhs=invar.curvIr),\\\n",
    "                   lhrh(lhs=gri.gfaccess(\"out_gfs\",\"curvIi\"),rhs=invar.curvIi),\\\n",
    "                   lhrh(lhs=gri.gfaccess(\"out_gfs\",\"curvJr\"),rhs=invar.curvJr),\\\n",
    "                   lhrh(lhs=gri.gfaccess(\"out_gfs\",\"curvJi\"),rhs=invar.curvJi),\\\n",
    "                   lhrh(lhs=gri.gfaccess(\"out_gfs\",\"curvJ1\"),rhs=invar.curvJ1),\\\n",
    "                   lhrh(lhs=gri.gfaccess(\"out_gfs\",\"curvJ2\"),rhs=invar.curvJ2),\\\n",
    "                   lhrh(lhs=gri.gfaccess(\"out_gfs\",\"curvJ3\"),rhs=invar.curvJ3),\\\n",
    "                   lhrh(lhs=gri.gfaccess(\"out_gfs\",\"curvJ4\"),rhs=invar.curvJ4),]\n",
    "invars = fin.FD_outputC(\"returnstring\",invars_to_print)\n",
    "print(gri.glb_gridfcs_list)\n",
    "\n",
    "invars_looped = loop.loop([\"i2\",\"i1\",\"i0\"],[\"2\",\"2\",\"2\"],[\"cctk_lsh[2]-2\",\"cctk_lsh[1]-2\",\"cctk_lsh[0]-2\"],\\\n",
    "                      [\"1\",\"1\",\"1\"],[\"#pragma omp parallel for\",\"\",\"\"],\"\",invars)\n",
    "file = open(\"WeylScal4NRPy/src/WeylScal4NRPy_invars.h\", \"w\")\n",
    "file.write(str(invars_looped))\n"
   ]
  },
  {
   "cell_type": "markdown",
   "metadata": {},
   "source": [
    "To create an Einstein Toolkit thorn to numerically compare the two codes, we will need a few more files, as required by the Einstein Toolkit: the scheduling, parameter, and interface $\\text{.ccl files}$ (our specific thorn does not require the optional $\\text{configuration.ccl}$ file)\n",
    "\n",
    "We will start with the file $\\text{interface.ccl}$. This file governs the interaction between this thorn and others; more information can be found in the [official Einstein Toolkit documentation](http://cactuscode.org/documentation/referencemanual/ReferenceManualch8.html#x12-260000C2.2). \n",
    "With \"implements\", we give our thorn its unique name. By \"inheriting\" other thorns, we tell the Toolkit that we will rely on variables that exist within those functions. Then, we tell the toolkit that we want the scalars $\\text{psi4r}$\n",
    "and $\\text{psi4i}$ to be visible to other thorns by using the keyword \"public\". "
   ]
  },
  {
   "cell_type": "code",
   "execution_count": null,
   "metadata": {},
   "outputs": [],
   "source": [
    "%%writefile WeylScal4NRPy/interface.ccl\n",
    "\n",
    "implements: WeylScal4NRPy\n",
    "\n",
    "inherits:   admbase Boundary Grid methodoflines\n",
    "\n",
    "public:\n",
    "CCTK_REAL NRPyPsi4_group type=GF timelevels=3 tags='tensortypealias=\"Scalar\" tensorweight=0 tensorparity=1'\n",
    "{\n",
    "  psi4r, psi4i\n",
    "} \"Psi4_group\"\n",
    "\n",
    "public:\n",
    "CCTK_REAL NRPyPsi3210_group type=GF timelevels=3 tags='tensortypealias=\"Scalar\" tensorweight=0 tensorparity=1'\n",
    "{\n",
    "  psi3r,psi3i,psi2r,psi2i,psi1r,psi1i,psi0r,psi0i\n",
    "} \"Psi3210_group\"\n",
    "\n",
    "public:\n",
    "CCTK_REAL NRPyInvars_group type=GF timelevels=3 tags='tensortypealias=\"Scalar\" tensorweight=0 tensorparity=1'\n",
    "{\n",
    "  NRPycurvIr,NRPycurvIi,NRPycurvJr,NRPycurvJi,NRPycurvJ1,NRPycurvJ2,NRPycurvJ3,NRPycurvJ4\n",
    "} \"Psi3210_group\""
   ]
  },
  {
   "cell_type": "markdown",
   "metadata": {},
   "source": [
    "We will now write the file $\\text{param.ccl}$. This file allows the listed parameters to be set at runtime. We also give allowed ranges and default values for each parameter. More information on this file's syntax can be found in the [official Einstein Toolkit documentation](http://cactuscode.org/documentation/referencemanual/ReferenceManualch8.html#x12-265000C2.3). Here, the first two parameters tell the Method of Lines thorn that none of our variables need to be evolved in time. The last two determine how often we will calculate $\\psi_4$ and how many timesteps to skip at the beginning; currently, they are set to calculate $\\psi_4$ at every timestep, starting from the first in the simulation. "
   ]
  },
  {
   "cell_type": "code",
   "execution_count": null,
   "metadata": {},
   "outputs": [],
   "source": [
    "%%writefile WeylScal4NRPy/param.ccl\n",
    "\n",
    "restricted:\n",
    "CCTK_INT timelevels \"Number of active timelevels\" STEERABLE=RECOVER\n",
    "{\n",
    "  0:3 :: \"\"\n",
    "} 3\n",
    "\n",
    "restricted:\n",
    "CCTK_INT WeylScal4NRPy_calc_every \"WeylScal4_psi4_calc_Nth_calc_every\" STEERABLE=ALWAYS\n",
    "{\n",
    "  *:* :: \"\"\n",
    "} 1\n",
    "\n",
    "private:\n",
    "CCTK_KEYWORD output_scalars \"Whether to output all Weyl scalars, just psi4, or all scalars and invariants\" \n",
    "{  \n",
    "  \"psi4_only\" :: \"\"\n",
    "  \"all_psis\" :: \"\"\n",
    "  \"all_psis_and_invariants\" :: \"\"\n",
    "} \"psi4_only\"\n"
   ]
  },
  {
   "cell_type": "markdown",
   "metadata": {},
   "source": [
    "Finally, we will write the file $\\text{schedule.ccl}$; its official documentation is found [here](http://cactuscode.org/documentation/referencemanual/ReferenceManualch8.html#x12-268000C2.4). This file dictates when the various parts of the thorn will be run. We first assign storage for both the real and imaginary components of $\\psi_4$, and then specify that we want our code run in  the $\\text{MoL_PseudoEvolution}$ schedule group, after the ADM variables are set. At this step, we declare that we will be writing code in C. We also specify the gridfunctions that we wish to read in from memory--in our case, we need all the components of $K_{ij}$ and $g_{ij}$ (which we have been calling $\\gamma_{ij}$) in addition to the coordinate values."
   ]
  },
  {
   "cell_type": "code",
   "execution_count": null,
   "metadata": {},
   "outputs": [],
   "source": [
    "%%writefile WeylScal4NRPy/schedule.ccl\n",
    "\n",
    "STORAGE: NRPyPsi4_group[timelevels]\n",
    "if (CCTK_EQUALS(output_scalars, \"all_psis_and_invariants\") || CCTK_EQUALS(output_scalars, \"all_psis\"))\n",
    "{\n",
    " STORAGE: NRPyPsi3210_group[timelevels]\n",
    "}\n",
    "if (CCTK_EQUALS(output_scalars, \"all_psis_and_invariants\"))\n",
    "{\n",
    " STORAGE: NRPyInvars_group[timelevels]\n",
    "}\n",
    "\n",
    "schedule group WeylScal4NRPy_group in MoL_PseudoEvolution after ADMBase_SetADMVars\n",
    "{\n",
    "} \"Schedule WeylScal4NRPy group\"\n",
    "\n",
    "schedule weylscal4_mainfunction in WeylScal4NRPy_group\n",
    "{\n",
    "  LANG: C\n",
    "  READS: admbase::kxx(Everywhere)\n",
    "  READS: admbase::kxy(Everywhere)\n",
    "  READS: admbase::kxz(Everywhere)\n",
    "  READS: admbase::kyy(Everywhere)\n",
    "  READS: admbase::kyz(Everywhere)\n",
    "  READS: admbase::kzz(Everywhere)\n",
    "  READS: admbase::gxx(Everywhere)\n",
    "  READS: admbase::gxy(Everywhere)\n",
    "  READS: admbase::gxz(Everywhere)\n",
    "  READS: admbase::gyy(Everywhere)\n",
    "  READS: admbase::gyz(Everywhere)\n",
    "  READS: admbase::gzz(Everywhere)\n",
    "  READS: grid::x(Everywhere)\n",
    "  READS: grid::y(Everywhere)\n",
    "  READS: grid::z(Everywhere)\n",
    "  WRITES: WeylScal4::psi4i(Interior)\n",
    "  WRITES: WeylScal4::psi4r(Interior)\n",
    "  WRITES: WeylScal4::psi3i(Interior)\n",
    "  WRITES: WeylScal4::psi3r(Interior)\n",
    "  WRITES: WeylScal4::psi2i(Interior)\n",
    "  WRITES: WeylScal4::psi2r(Interior)\n",
    "  WRITES: WeylScal4::psi1i(Interior)\n",
    "  WRITES: WeylScal4::psi1r(Interior)\n",
    "  WRITES: WeylScal4::psi0i(Interior)\n",
    "  WRITES: WeylScal4::psi0r(Interior)\n",
    "  WRITES: WeylScal4::NRPycurvIi(Interior)\n",
    "  WRITES: WeylScal4::NRPycurvIr(Interior)\n",
    "  WRITES: WeylScal4::NRPycurvJi(Interior)\n",
    "  WRITES: WeylScal4::NRPycurvJr(Interior)\n",
    "  WRITES: WeylScal4::NRPycurvJ1(Interior)\n",
    "  WRITES: WeylScal4::NRPycurvJ2(Interior)\n",
    "  WRITES: WeylScal4::NRPycurvJ3(Interior)\n",
    "  WRITES: WeylScal4::NRPycurvJ4(Interior)\n",
    "\n",
    "} \"Call WeylScal4NRPy main function\"\n"
   ]
  },
  {
   "cell_type": "code",
   "execution_count": null,
   "metadata": {},
   "outputs": [],
   "source": [
    "#if (CCTK_EQUALS(output_all_psis,\"true\"))\n",
    "#{\n",
    "#    {\n",
    "#  } /*\"Allocate storage for the other psis if desired\"*/\n",
    "#    if (CCTK_EQUALS(output_invars,\"true\"))\n",
    "#    {\n",
    "#        {\n",
    "#        } /*\"Allocate storage for scalar invariants if desired\"*/\n",
    "#    }\n",
    "#}"
   ]
  },
  {
   "cell_type": "markdown",
   "metadata": {},
   "source": [
    "We will also need $\\text{make.code.defn}$, which states which files need to be compiled. This thorn only has the one C file to compile."
   ]
  },
  {
   "cell_type": "code",
   "execution_count": null,
   "metadata": {},
   "outputs": [],
   "source": [
    "%%writefile WeylScal4NRPy/src/make.code.defn\n",
    "\n",
    "SRCS = WeylScal4NRPy.c"
   ]
  }
 ],
 "metadata": {
  "kernelspec": {
   "display_name": "Python 3",
   "language": "python",
   "name": "python3"
  },
  "language_info": {
   "codemirror_mode": {
    "name": "ipython",
    "version": 3
   },
   "file_extension": ".py",
   "mimetype": "text/x-python",
   "name": "python",
   "nbconvert_exporter": "python",
   "pygments_lexer": "ipython3",
   "version": "3.6.5"
  }
 },
 "nbformat": 4,
 "nbformat_minor": 2
}
