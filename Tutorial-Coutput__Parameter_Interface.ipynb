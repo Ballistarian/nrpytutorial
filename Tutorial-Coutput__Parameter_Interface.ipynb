{
 "cells": [
  {
   "cell_type": "markdown",
   "metadata": {},
   "source": [
    "# C Output and Parameter Interfaces\n",
    "\n",
    "### NRPy+ Source Code for this module: \n",
    "+ ### [Coutput.py](../edit/Coutput.py)\n",
    "+ ### [NRPy_param_funcs.py](../edit/NRPy_param_funcs.py)\n",
    "\n",
    "## Useful reference material. This is required reading if you are unfamiliar with programming or [computer algebra systems](https://en.wikipedia.org/wiki/Computer_algebra_system). Otherwise, you should be able to pick up the syntax as you follow the tutorial.\n",
    "+ ### [Python Tutorial](https://docs.python.org/3/tutorial/index.html)\n",
    "+ ### [SymPy Tutorial](http://docs.sympy.org/latest/tutorial/intro.html)"
   ]
  },
  {
   "cell_type": "markdown",
   "metadata": {},
   "source": [
    "## Common Subexpression Elimination in [SymPy](http://www.sympy.org/)\n",
    "\n",
    "Let's start with a simple SymPy worksheet that makes use of SymPy's built in C code generator function, [ccode](http://docs.sympy.org/dev/modules/utilities/codegen.html)(), to evaluate the expression $x = b \\sin a + \\frac{c}{\\sin 2a}$."
   ]
  },
  {
   "cell_type": "code",
   "execution_count": 73,
   "metadata": {},
   "outputs": [
    {
     "data": {
      "text/plain": [
       "'b*sin(2*a) + c/sin(2*a)'"
      ]
     },
     "execution_count": 73,
     "metadata": {},
     "output_type": "execute_result"
    }
   ],
   "source": [
    "# First import the SymPy package. \n",
    "#  Importing in this way enables us to access all of sympy's functions\n",
    "#  provided the function call is prefixed by \"sp.\"\n",
    "import sympy as sp\n",
    "\n",
    "# Declare some variables\n",
    "a,b,c = sp.symbols(\"a b c\")\n",
    "\n",
    "# Set x = b*sin(a) + c/sin(a).\n",
    "x = b*sp.sin(2*a) + c/(sp.sin(2*a))\n",
    "\n",
    "# Convert the expression into C code\n",
    "sp.ccode(x)"
   ]
  },
  {
   "cell_type": "markdown",
   "metadata": {},
   "source": [
    "Notice computation of the above expression in C requires 3 multiplications, one division, two sin() function calls, and one addition. Multiplications, additions, and subtractions typically require one clock cycle per SIMD element on a modern CPU, while divisions can require ~3x longer, and transcendental functions ~20x longer than adds/multiplies (See, e.g., [this page](https://software.intel.com/sites/landingpage/IntrinsicsGuide/#techs=AVX&expand=118), [this page](http://www.agner.org/optimize/microarchitecture.pdf), or [this page](http://nicolas.limare.net/pro/notes/2014/12/16_math_speed/) for more details). \n",
    "\n",
    "Our goal in generating C codes is to minimize the number of floating point operations, and SymPy provides a means to do this, known as [common subexpression elimination](https://en.wikipedia.org/wiki/Common_subexpression_elimination), or CSE.\n",
    "\n",
    "CSE algorithms search for common patterns within expressions and declares them as new variables, so they need not be computed again. To call SymPy's CSE algorithm, we need only pass the expression to $\\texttt{sp.cse}$():"
   ]
  },
  {
   "cell_type": "code",
   "execution_count": 72,
   "metadata": {},
   "outputs": [
    {
     "name": "stdout",
     "output_type": "stream",
     "text": [
      "([(x0, sin(2*a))], [b*x0 + c/x0])\n"
     ]
    }
   ],
   "source": [
    "print(sp.cse(x))"
   ]
  },
  {
   "cell_type": "markdown",
   "metadata": {},
   "source": [
    "Interpreting the above, SymPy returned a list with two elements: the first element, $(\\texttt{x0, sin(2*a)})$, declares a new variable $\\texttt{x0}$, which should be set to $\\texttt{sin(2*a)}$. The second element yields the expression for our original expression $x$ in terms of original variables as well as the new variable $\\texttt{x0}$. \n",
    "\n",
    "$$\\texttt{x0} = sin(2*a)$$ is the common subexpression, so that the final expression $x$ is given by $$x = b*\\texttt{x0} + c/\\texttt{x0}.$$\n",
    "\n",
    "Thus, at the cost of a new variable assignment, SymPy's CSE has decreased the computational cost by one multiplication and one sin() function call.\n",
    "\n",
    "NRPy+ makes full use of SymPy's CSE algorithm in generating optimized C codes.\n",
    "\n",
    "*Caveat: In order for a CSE to function optimally, it needs to know something about the cost of basic mathematical operations versus the cost of declaring a new variable. SymPy's CSE algorithm does not make any assumptions about cost, instead opting to declare new variables any time a common pattern is found more than once. The degree to which this is suboptimal is unclear.*\n",
    "\n",
    "## NRPy+'s C code output routine, Coutput()\n",
    "\n",
    "NRPy+ is capable"
   ]
  },
  {
   "cell_type": "code",
   "execution_count": null,
   "metadata": {},
   "outputs": [],
   "source": []
  }
 ],
 "metadata": {
  "kernelspec": {
   "display_name": "Python 3",
   "language": "python",
   "name": "python3"
  },
  "language_info": {
   "codemirror_mode": {
    "name": "ipython",
    "version": 3
   },
   "file_extension": ".py",
   "mimetype": "text/x-python",
   "name": "python",
   "nbconvert_exporter": "python",
   "pygments_lexer": "ipython3",
   "version": "3.4.3"
  }
 },
 "nbformat": 4,
 "nbformat_minor": 2
}
