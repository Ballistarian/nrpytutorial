{
 "cells": [
  {
   "cell_type": "markdown",
   "metadata": {},
   "source": [
    "# This module computes the the Weyl scalars based on Baker, Campanelli, and Lousto. PRD 65, 044001 (2002);\n",
    "## https://arxiv.org/abs/gr-qc/0104063"
   ]
  },
  {
   "cell_type": "code",
   "execution_count": 3,
   "metadata": {},
   "outputs": [
    {
     "name": "stdout",
     "output_type": "stream",
     "text": [
      "initialize_param() minor warning: Did nothing; already initialized parameter reference_metric::RMAX\n"
     ]
    },
    {
     "ename": "ModuleNotFoundError",
     "evalue": "No module named 'BSSN_RHSs'",
     "output_type": "error",
     "traceback": [
      "\u001b[0;31m---------------------------------------------------------------------------\u001b[0m",
      "\u001b[0;31mModuleNotFoundError\u001b[0m                       Traceback (most recent call last)",
      "\u001b[0;32m<ipython-input-3-00eb4c795375>\u001b[0m in \u001b[0;36m<module>\u001b[0;34m()\u001b[0m\n\u001b[1;32m      7\u001b[0m \u001b[0mrfm\u001b[0m\u001b[0;34m.\u001b[0m\u001b[0mreference_metric\u001b[0m\u001b[0;34m(\u001b[0m\u001b[0;34m)\u001b[0m\u001b[0;34m\u001b[0m\u001b[0m\n\u001b[1;32m      8\u001b[0m \u001b[0;32mfrom\u001b[0m \u001b[0moutputC\u001b[0m \u001b[0;32mimport\u001b[0m \u001b[0;34m*\u001b[0m\u001b[0;34m\u001b[0m\u001b[0m\n\u001b[0;32m----> 9\u001b[0;31m \u001b[0;32mimport\u001b[0m \u001b[0mBSSN_RHSs\u001b[0m \u001b[0;32mas\u001b[0m \u001b[0mbssn\u001b[0m\u001b[0;34m\u001b[0m\u001b[0m\n\u001b[0m\u001b[1;32m     10\u001b[0m \u001b[0;32mimport\u001b[0m \u001b[0msympy\u001b[0m \u001b[0;32mas\u001b[0m \u001b[0msp\u001b[0m\u001b[0;34m\u001b[0m\u001b[0m\n",
      "\u001b[0;31mModuleNotFoundError\u001b[0m: No module named 'BSSN_RHSs'"
     ]
    }
   ],
   "source": [
    "# Step 1: import all needed modules from NRPy+:\n",
    "import NRPy_param_funcs as par\n",
    "import indexedexp as ixp\n",
    "import grid as gri\n",
    "import finite_difference as fin\n",
    "import reference_metric as rfm\n",
    "rfm.reference_metric()\n",
    "from outputC import *\n",
    "import BSSN_RHSs as bssn\n",
    "import sympy as sp\n"
   ]
  },
  {
   "cell_type": "code",
   "execution_count": null,
   "metadata": {},
   "outputs": [],
   "source": [
    "# Step 1: Initialize WeylScalar parameters\n",
    "thismodule = __name__\n",
    "# Use proper names for Tetrad Choices. If no name given (hunt the literature), then use the literature reference as the name.\n",
    "TetradChoice = par.initialize_param(par.glb_param(\"char\", thismodule, \"TetradChoice\", \"Approx_QuasiKinnersley\"))\n",
    "# Why are these needed? # They were used in the Mathematica version, but even there, they didn't do much.\n",
    "# xorig = par.initialize_param(par.glb_param(\"REAL\", thismodule, \"xorig\", \"0.0\"))\n",
    "# yorig = par.initialize_param(par.glb_param(\"REAL\", thismodule, \"yorig\", \"0.0\"))\n",
    "# zorig = par.initialize_param(par.glb_param(\"REAL\", thismodule, \"zorig\", \"0.0\"))\n",
    "# offset = par.initialize_param(par.glb_param(\"REAL\", thismodule, \"offset\", \"1.0e-15\"))\n",
    "\n"
   ]
  },
  {
   "cell_type": "markdown",
   "metadata": {},
   "source": [
    "We will now define the Levi-Civita symbol, $\\epsilon_{ijk}$. This function, when called, will initialize the tensor and set all the components to 1 (for even permutations of the indices), -1 (for odd permutations), or zero (if any indices are repeated)."
   ]
  },
  {
   "cell_type": "code",
   "execution_count": null,
   "metadata": {},
   "outputs": [],
   "source": [
    "# Step 2: Define the Levi-Civita symbol. Amongst other uses, this is needed for the construction of the approximate quasi-Kinnersley tetrad. <- better description needed.\n",
    "def define_LeviCivitaSymbol(DIM=-1):\n",
    "    if DIM == -1:\n",
    "        DIM = par.parval_from_str(\"DIM\")\n",
    "\n",
    "    LeviCivitaSymbol = ixp.zerorank3()\n",
    "\n",
    "    for i in range(DIM):\n",
    "        for j in range(DIM):\n",
    "            for k in range(DIM):\n",
    "                # From https://codegolf.stackexchange.com/questions/160359/levi-civita-symbol :\n",
    "                LeviCivitaSymbol[i][j][k] = (i - j) * (j - k) * (k - i) / 2\n",
    "    return LeviCivitaSymbol"
   ]
  },
  {
   "cell_type": "markdown",
   "metadata": {},
   "source": [
    "We will now begin begin to compute the Weyl scalars themselves. We start by defining our choice of tetrad. (For now, only an approximate quasi-Kinnersley tetrad is available, but we plan to add more in the future.) This choice is drawn from https://arxiv.org/pdf/gr-qc/0104063.pdf\n",
    "\n",
    "We begin with the vectors given in eqs. 5.6 and 5.7 of the paper,\n",
    "\\begin{align}\n",
    "    v_1^a &= [-y,x,0] \\\\\n",
    "    v_2^a &= [x,y,z] \\\\\n",
    "    v_3^a &= {\\rm det}(g)^{1/2} g^{ad} \\epsilon_{dbc} v_1^b v_2^c,\n",
    "\\end{align}\n",
    "and carry out the Gram-Schmidt orthonormalization process. The vectors $w_i^a$ are placeholders; the final product of the orthonormalization is the vectors $e_i^a$."
   ]
  },
  {
   "cell_type": "code",
   "execution_count": null,
   "metadata": {},
   "outputs": [],
   "source": [
    "# Step 3: Compute the Weyl scalars\n",
    "def WeylScalars():\n",
    "    # Step 1:\n",
    "    bssn.BSSN_RHSs()\n",
    "\n",
    "    # Step 2b: Set spatial dimension (must be 3 for BSSN)\n",
    "    DIM = 3\n",
    "    par.set_parval_from_str(\"grid::DIM\",DIM)\n",
    "\n",
    "    x = rfm.xxCart[0]\n",
    "    y = rfm.xxCart[1]\n",
    "    z = rfm.xxCart[2]\n",
    "\n",
    "    if TetradChoice == \"Approx_QuasiKinnersley\":\n",
    "        # Eqs 5.6 in https://arxiv.org/pdf/gr-qc/0104063.pdf\n",
    "        xmoved = x# - xorig  # Make sure I'm handling coordinates correctly\n",
    "        ymoved = y# - yorig\n",
    "        zmoved = z# - zorig\n",
    "\n",
    "        # Eqs 5.7\n",
    "        v1U = ixp.zerorank1(\"v1U\")\n",
    "        v2U = ixp.zerorank1(\"v2U\")\n",
    "        v3U = ixp.zerorank1(\"v3U\")\n",
    "        v1U[0] = -ymoved\n",
    "        v1U[1] = xmoved + offset\n",
    "        v1U[2] = 0\n",
    "        v2U[0] = xmoved + offset\n",
    "        v2U[1] = ymoved\n",
    "        v2U[2] = zmoved\n",
    "        LeviCivitaSymbol = define_LeviCivitaSymbol()\n",
    "        for a in range(DIM):\n",
    "            for b in range(DIM):\n",
    "                for c in range(DIM):\n",
    "                    for d in range(DIM):\n",
    "                        v3U[a] += sp.sqrt(bssn.detgammabar) * bssn.gammabarUU[a][d] * LeviCivitaSymbol[d][b][c] * v1U[b] *v2U[c]\n",
    "\n",
    "        # Gram-Schmidt orthonormalization of the tetrad.\n",
    "        # The w* vectors here are used to temporarily hold values on the way to the final vectors e*\n",
    "\n",
    "        w1U = ixp.zerorank1(\"w1U\")\n",
    "        for a in range(DIM):\n",
    "            w1U[a] = v1U[a]\n",
    "        omega11 = 0\n",
    "        for a in range(DIM):\n",
    "            for b in range(DIM):\n",
    "                omega11 += w1U[a] * w1U[b] * bssn.gammabarDD[a][b]\n",
    "        e1U = ixp.zerorank1(\"e1U\")\n",
    "        for a in range(DIM):\n",
    "            e1U[a] = w1U[a] / sp.sqrt(omega11)\n",
    "\n",
    "        omega12 = 0\n",
    "        for a in range(DIM):\n",
    "            for b in range(DIM):\n",
    "                omega12 += e1U[a] * v1U[b] * bssn.gammabarDD[a][b]\n",
    "        w2U = ixp.zerorank1(\"w2U\")\n",
    "        for a in range(DIM):\n",
    "            w2U[a] = v2U[a] - omega12*e1U[a]\n",
    "        omega22 = 0\n",
    "        for a in range(DIM):\n",
    "            for b in range(DIM):\n",
    "                omega22 += w2U[a] * w2U[b] *bssn.gammabarDD[a][b]\n",
    "        e2U = ixp.zerorank1(\"e2U\")\n",
    "        for a in range(DIM):\n",
    "            e2U[a] = w2U[a] / sqrt(omega22)\n",
    "\n",
    "        omega13 = 0\n",
    "        for a in range(DIM):\n",
    "            for b in range(DIM):\n",
    "                omega13 += e1U[a] * v3U[b] * bssn.gammabarDD[a][b]\n",
    "        omega23 = 0\n",
    "        for a in range(DIM):\n",
    "            for b in range(DIM):\n",
    "                omega23 += e2U[a] * v3U[b] * bssn.gammabarDD[a][b]\n",
    "        w3U = ixp.zerorank1(\"w3U\")\n",
    "        for a in range(DIM):\n",
    "            w3U[a] = v3U[a] - omega13*e1U[a] - omega23*e2U[a]\n",
    "        omega33 = 0\n",
    "        for a in range(DIM):\n",
    "            for b in range(DIM):\n",
    "                omega33 += w3U[a] * w3U[b] * bssn.gammabarDD[a][b]\n",
    "        e3U = ixp.zerorank1(\"e3U\")\n",
    "        for a in range(DIM):\n",
    "            e3U[a] = w3U[a] / sqrt(omega33)"
   ]
  },
  {
   "cell_type": "markdown",
   "metadata": {},
   "source": [
    "Now that we have orthogonal, normalized vectors, we can contruct the tetrad itself, again drawing on eqs. 5.6. We can draw on SymPy's built-in tools for complex numbers to build the complex vectors $m$ and $\\bar{m}$:\n",
    "\\begin{align}\n",
    "    l^a &= \\frac{1}{\\sqrt{2}} e_2^a \\\\\n",
    "    n^a &= \\frac{-1}{\\sqrt{2}} e_2^a \\\\\n",
    "    m^a &= \\frac{1}{\\sqrt{2}} (e_3^a + i e_1^a) \\\\\n",
    "    \\bar{m}^a &= \\frac{1}{\\sqrt{2}} (e_3^a - i e_1^a)\n",
    "\\end{align}\n",
    "\n",
    "We will also assume that $n^0 = \\frac{1}{\\sqrt{2}}$ and that $m^0 = \\bar{m}^0 = 0$. This last assumption in particular will significantly reduce the terms needed to find $\\psi_4$"
   ]
  },
  {
   "cell_type": "code",
   "execution_count": null,
   "metadata": {},
   "outputs": [],
   "source": [
    "        # Construct the tetrad\n",
    "        # Eqs. 5.6\n",
    "        isqrt2 = 1/sp.sqrt(2)\n",
    "        ltetU = isqrt2 * e2U\n",
    "        ntetU = -isqrt2 * e2U\n",
    "        mtetU = isqrt2 * (e3U + sp.I*e1U)\n",
    "        mtetbarU = sp.conjugate(mtetU)\n",
    "        nn = isqrt2"
   ]
  },
  {
   "cell_type": "markdown",
   "metadata": {},
   "source": [
    "Now that we have the tetrad in place, we can contract it with the Weyl tensor to obtain the Weyl scalars. Naturally, we must first construct the Weyl tensor to do that. We will first build the Riemann curvature tensor,\n",
    "\\begin{align}\n",
    "R_{abcd} = \\frac{1}{2} (\\bar{\\gamma}_{ad,cb}+\\bar{\\gamma}_{bc,da}-\\bar{\\gamma}_{ac,bd}-\\bar{\\gamma}_{bd,ac}) + \\bar{\\gamma}_{je}\\bar{\\Gamma}^{j}_{bc}\\bar{\\Gamma}^{e}_{ad} - \\bar{\\gamma}_{je}\\bar{\\Gamma}^{j}_{bd}\\bar{\\Gamma}^{e}_{ac}\n",
    "\\end{align}\n",
    "since several terms in our expression for $\\psi_4$ are contractions of this tensor.\n",
    "To do this, we need second derivatives of the metric tensor, $\\bar{\\gamma}_{ab,cd}$.\n",
    "\n",
    "We also need the extrinsic curvature tensor $K_{ij}$; it can be shown that \n",
    "\\begin{align}\n",
    "K_{ij} &= e^{4 \\phi} (\\bar{A}_{ij} + \\frac{1}{3} \\bar{\\gamma}_{ij} K)\n",
    "\\end{align}"
   ]
  },
  {
   "cell_type": "code",
   "execution_count": null,
   "metadata": {},
   "outputs": [],
   "source": [
    "    # Declare the second derivative of the metric.\n",
    "    gammarbarDD_dDD = ixp.declarerank4(\"gammabarDD_dDD\",\"sym12_sym34\")\n",
    "    # Declare and construct the Riemann curvature tensor:\n",
    "    RiemannDDDD = ixp.zerorank4()\n",
    "    for a in range(DIM):\n",
    "        for b in range(DIM):\n",
    "            for c in range(DIM):\n",
    "                for d in range(DIM):\n",
    "                    RiemannDDDD[a][b][c][d] = (bssn.gammabarDD_dDD[a][d][c][b] + \\\n",
    "                                               bssn.gammabarDD_dDD[b][c][d][a] - \\\n",
    "                                               bssn.gammabarDD_dDD[a][c][b][d] - \\\n",
    "                                               bssn.gammabarDD_dDD[b][d][a][c]) / 2\n",
    "                    for e in range(DIM):\n",
    "                        for j in range(DIM):\n",
    "                            RiemannDDDD[a][b][c][d] +=  bssn.gammabarDD[j][e] * bssn.GammabarUDD[j][b][c] * bssn.GammabarUDD[e][a][d] - \\\n",
    "                                                        bssn.gammabarDD[j][e] * bssn.GammabarUDD[j][b][d] * bssn.GammabarUDD[e][a][c]\n",
    "    # The Ricci tensor was built by BSSN_RHSs.py\n",
    "    # We also need the extrinsic curvature tensor. This can be built from quantities in BSSN_RHSs.py\n",
    "    extrinsicKDD = ixp.zerorank2()\n",
    "    for i in range(DIM):\n",
    "        for j in range(DIM):\n",
    "            extrinsicKDD[i][j] = (bssn.AbarDD[i][j] + bssn.gammabarDD[i][j]*trK/3)/bssn.exp_m4phi"
   ]
  },
  {
   "cell_type": "markdown",
   "metadata": {},
   "source": [
    "Baker, Campanelli, and Lousto showed that \n",
    "\\begin{align}\n",
    "\\psi_4 =& (R_{ijkl} + 2K_{i[k}K_{l]j}) n^i \\bar{m}^j n^k \\bar{m}^l \\\\\n",
    "&- 8 (K_{j[k,l]} + \\Gamma^p_{j[k} K_{l]p}) n^{[0} \\bar{m}^{j]} n^k \\bar{m}^l \\\\\n",
    "&+ 4 (R_{jl} - K_{jp} K^p_l + KK_{jl}) n^{[0} \\bar{m}^{j]} n^{[0} \\bar{m}^{l]}\n",
    "\\end{align}"
   ]
  },
  {
   "cell_type": "code",
   "execution_count": null,
   "metadata": {},
   "outputs": [],
   "source": [
    "    GaussDDDD = ixp.zerorank4()\n",
    "    for i in range(DIM):\n",
    "        for j in range(DIM):\n",
    "            for k in range(DIM):\n",
    "                for l in range(DIM):\n",
    "                    GaussDDDD[i][j][k][l] = RiemannDDDD[i][j][k][l] + extrinsicKDD[i][k]*extrinsicKDD[l][j] - extrinsicKDD[i][l]*extrinsicKDD[k][j]\n",
    "    \n",
    "    # Codazzi equation: involving covariant derivatives of the extrinsic curvature. We will first need to declare derivatives of extrinsicKDD\n",
    "    extrinsicKDD_dD = ixp.declarerank3(\"extrinsicKDD_dD\",\"sym12\")\n",
    "    CodazziDDD = ixp.zerorank3()\n",
    "    for j in range(DIM):\n",
    "        for k in range(DIM):\n",
    "            for l in range(DIM):\n",
    "                CodazziDDD[j][k][l] = extrinsicKDD_dD[j][l][k] - extrinsicKDD_dD[j][k][l]\n",
    "                for p in range(DIM)\n",
    "                    CodazziDDD[j][k][l] += bssn.GammabarUDD[p][j][l]*extrinsicKDD[k][p] - bssn.GammabarUDD[p][j][k]*extrinsicKDD[l][p]\n",
    "                    \n",
    "    # This next tensor might relate to the Mainardi eq.\n",
    "    RojoDD = ixp.zerorank2()\n",
    "    for j in range(DIM):\n",
    "        for l in range(DIM):\n",
    "            RojoDD[j][l] = bssn.RbarDD[j][l]\n",
    "            for p in range(DIM):\n",
    "                for d in range(DIM):\n",
    "                    RojoDD[j][l] += extrinsicKDD[j][p]*bssn.gammabarUU[p][d]*extrinsicKDD[d][l] - trK*extrinsicKDD[j][l]\n",
    "                    \n",
    "    # Now we can calculate $\\psi_4$ itself!\n",
    "    psi4 = 0\n",
    "    for i in range(DIM):\n",
    "        for j in range(DIM):\n",
    "            psi4 += RojoDD[j][l] * nn * nn * mtetbarU[j] * mtetbarU[l]\n",
    "            for k in range(DIM):\n",
    "                psi4 += 2 * CodazziDDD[j][k][l] * ntetU[k] * nn * mtetbarU[j] * mtetbarU[l]\n",
    "                for l in range(DIM):\n",
    "                    psi4 += GaussDDDD[i][j][k][l] * ntetU[i] * ntetU[k] * mtetbarU[j] * mtetbarU[l]\n",
    "    "
   ]
  }
 ],
 "metadata": {
  "kernelspec": {
   "display_name": "Python 3",
   "language": "python",
   "name": "python3"
  },
  "language_info": {
   "codemirror_mode": {
    "name": "ipython",
    "version": 3
   },
   "file_extension": ".py",
   "mimetype": "text/x-python",
   "name": "python",
   "nbconvert_exporter": "python",
   "pygments_lexer": "ipython3",
   "version": "3.6.5"
  }
 },
 "nbformat": 4,
 "nbformat_minor": 2
}
