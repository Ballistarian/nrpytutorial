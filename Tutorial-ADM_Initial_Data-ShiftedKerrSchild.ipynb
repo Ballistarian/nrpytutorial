{
 "cells": [
  {
   "cell_type": "markdown",
   "metadata": {},
   "source": [
    "# Shifted Kerr-Schild Solution Initial Data\n",
    "\n",
    "**Authors: George Vopal and Zachariah Etienne**\n",
    "\n",
    "## This module sets up Shifted Kerr-Schild initial data ([Etienne et al., 2017 GiRaFFE](https://arxiv.org/pdf/1704.00599.pdf)).\n",
    "\n",
    "### NRPy+ Source Code for this module: [BSSN/BrillLindquist.py](../edit/BSSN/BrillLindquist.py)\n",
    "\n",
    "<font color='green'>**All quantities have been validated against the [original SENR code](https://bitbucket.org/zach_etienne/nrpy).**</font>\n",
    "\n",
    "<a id='top'></a>$$\\label{top}$$\n",
    "\n",
    "### Introduction\n",
    "\n",
    "Kerr-Schild coordinates are similar to the trumpet spacetime. The radial shift both reduces the black hole's coordinate size and causes the very strongly-curved spacetime fields at $r<r_{0}$ to vanish deep inside the horizon, which aids in numerical stability when evolving hydrodynamic, MHD, and FFE fields inside the horizon.\n",
    "\n",
    "\n",
    "### Table of Contents:  \n",
    "\n",
    "1. Preliminaries\n",
    "    1. [Step 1](#step1): Import the core NRPy+ modules that we need, set the dimensionality of the grid with parameter $\\text{grid::DIM}$, and declare some of the basic gridfunctions\n",
    "1. The Kerr-Schild Lapse, Shift, and 3-Metric\n",
    "    1. [Step 2.1](#step2p1): Define $\\rho^{2}$, $\\alpha$, $\\beta^{r}$, $\\beta^{\\theta}$, $\\beta^{\\phi}$, $\\gamma_{r\\theta}$, $\\gamma_{\\theta\\phi}$\n",
    "    1. [Step 2.2](#step2p2): Define and construct nonzero components of $\\gamma_{ij}$\n",
    "1. Extrinsic curvature $K_{ij}$\n",
    "    1. [Step 3.1](#step3p1): Define useful quantities $A$, $B$, $C$\n",
    "    1. [Step 3.2](#step3p2): Define and construct nonzero components of $K_{ij}$\n",
    "1. Code Validation\n",
    "    1. [Step 4](#step4): NRPy+ Module Code Validation"
   ]
  },
  {
   "cell_type": "markdown",
   "metadata": {},
   "source": [
    "# Preliminaries\n",
    "\n",
    "First, we will import the core modules of NRPy that we will need and specify the main gridfunctions we will need. \n",
    "<a id='step1'></a>\n",
    "\n",
    "## Step 1: Set up the needed NRPy+ infrastructure and declare core gridfunctions \\[Back to [top](#top)\\]\n",
    "\n",
    "**Input for initial data**:\n",
    "\n",
    "* The black hole mass $M$.\n",
    "* The black hole spin parameter $a$\n",
    "$$\\label{step1}$$\n"
   ]
  },
  {
   "cell_type": "code",
   "execution_count": 1,
   "metadata": {},
   "outputs": [],
   "source": [
    "import sympy as sp\n",
    "import NRPy_param_funcs as par\n",
    "import indexedexp as ixp\n",
    "import grid as gri\n",
    "from outputC import *\n",
    "import reference_metric as rfm\n",
    "\n",
    "# All gridfunctions will be written in terms of spherical coordinates (r, th, ph):\n",
    "r,th,ph = sp.symbols('r th ph', real=True)\n",
    "\n",
    "thismodule = \"ShiftedKerrSchild\"\n",
    "\n",
    "DIM = 3\n",
    "par.set_parval_from_str(\"grid::DIM\",DIM)\n",
    "\n",
    "# Input parameters:\n",
    "M = par.Cparameters(\"REAL\", thismodule, [\"M\"])\n",
    "a = par.Cparameters(\"REAL\", thismodule, [\"a\"])\n",
    "\n",
    "# Auxiliary variables:\n",
    "rho2 = sp.symbols('rho2', real=True)"
   ]
  },
  {
   "cell_type": "markdown",
   "metadata": {},
   "source": [
    "<a id='step2p1'></a>\n",
    "\n",
    "## Step 2.1: Define $\\rho^{2}$, $\\alpha$, $\\beta^{r}$, $\\beta^{\\theta}$, $\\beta^{\\phi}$, $\\gamma_{r\\theta}$, $\\gamma_{\\theta\\phi}$ \\[Back to [top](#top)\\]\n",
    "$$\\label{step2p1}$$\n",
    "\n",
    "All of these equations are as defined in the appendix of the original GiRaFFE paper ([Etienne et al., 2017 GiRaFFE](https://arxiv.org/pdf/1704.00599.pdf)).\n",
    "<br>\n",
    "First, we define $\\rho^{2}$ as\n",
    "\n",
    "<br>\n",
    "\n",
    "$$ \\rho^2 = r^2 + a^{2}\\cos^{2}(\\theta) $$\n",
    "\n",
    "<br>\n",
    "\n",
    "And we then define the Kerr-Schild lapse $\\alpha$ from equation (A.1)\n",
    "\n",
    "<br>\n",
    "\n",
    "$$ \\alpha = \\frac{1}{\\sqrt{1 + \\frac{2Mr}{\\rho^2}}} $$\n",
    "\n",
    "<br>\n",
    "\n",
    "And the shift $\\beta$ from equations (A.2) & (A.3)\n",
    "\n",
    "<br>\n",
    "\n",
    "$$ \\beta^{r} = \\alpha^2\\frac{2Mr}{\\rho^2} $$\n",
    "\n",
    "<br>\n",
    "\n",
    "$$ \\beta^{\\theta} = \\beta^{\\phi} = \\gamma_{r\\theta} = \\gamma_{\\theta\\phi} = 0 $$"
   ]
  },
  {
   "cell_type": "code",
   "execution_count": 2,
   "metadata": {},
   "outputs": [],
   "source": [
    "# rho^2 = r^2 + a^2*cos^2(theta)\n",
    "rho2 = r*r + a*a*sp.cos(th)**2\n",
    "\n",
    "# alpha = 1/sqrt{1 + Mr/rho^2}\n",
    "alphaSph = 1/(sp.sqrt(1 + 2*M*r/rho2))\n",
    "\n",
    "betaSphU = ixp.zerorank1()\n",
    "# beta^r = alpha^2*2Mr/rho^2\n",
    "betaSphU[0] = alphaSph*alphaSph*2*M*r/rho2\n",
    "           \n",
    "# beta^{theta} = beta^{phi} = gamma_{r theta} = gamma_{theta phi}\n",
    "BSphU = ixp.zerorank1()\n",
    "              \n",
    "gammaSphDD = ixp.zerorank2()"
   ]
  },
  {
   "cell_type": "markdown",
   "metadata": {},
   "source": [
    "<a id='step2p2'></a>\n",
    "\n",
    "## Step 2.2: Define and construct nonzero components $\\gamma_{rr}$, $\\gamma_{r\\phi}$, $\\gamma_{\\theta\\theta}$, $\\gamma_{\\phi\\phi}$ \\[Back to [top](#top)\\]\n",
    "$$\\label{step2p2}$$\n",
    "\n",
    "From equations (A.4)-(A.7) we define the nonzero components of the 3-metric:\n",
    "\n",
    "<br>\n",
    "\n",
    "$$ \\gamma_{rr} = 1 + \\frac{2Mr}{\\rho^2} $$\n",
    "\n",
    "<br>\n",
    "\n",
    "$$ \\gamma_{r\\phi} = -a\\gamma_{rr}\\sin^2(\\theta) $$\n",
    "\n",
    "<br>\n",
    "\n",
    "$$ \\gamma_{\\theta\\theta} = \\rho^2 $$\n",
    "\n",
    "<br>\n",
    "\n",
    "$$ \\gamma_{\\phi\\phi} = \\left(r^2 + a^2 + \\frac{2Mr}{\\rho^2}a^{2}\\sin^{2}(\\theta)\\right)\\sin^{2}(\\theta) $$"
   ]
  },
  {
   "cell_type": "code",
   "execution_count": 3,
   "metadata": {},
   "outputs": [],
   "source": [
    "# gammaDD{r r} = 1 +2Mr/rho^2\n",
    "gammaSphDD[0][0] = 1 + 2*M*r/rho2\n",
    "\n",
    "# gammaDD{r phi} = -a*gammaDD{r r}*sin^2(theta)\n",
    "gammaSphDD[0][2] = -a*gammaSphDD[0][0]*sp.sin(th)**2\n",
    "\n",
    "# gammaDD{theta theta} = rho^2\n",
    "gammaSphDD[1][1] = rho2\n",
    "\n",
    "# gammaDD{phi phi} = (r^2 + a^2 + 2Mr/rho^2*a^2*sin^2(theta))*sin^2(theta)\n",
    "gammaSphDD[2][2] = (r*r + a*a + 2*M*r*a*a*sp.sin(th)**2/rho2)*sp.sin(th)**2"
   ]
  },
  {
   "cell_type": "markdown",
   "metadata": {},
   "source": [
    "<a id='step3p1'></a>\n",
    "\n",
    "## Step 3.1: Define useful quantities $A$, $B$, $C$ \\[Back to [top](#top)\\]\n",
    "\n",
    "$$\\label{step3p1}$$\n",
    "\n",
    "From equations (A.8)-(A.10) we define the following expressions which will help simplify the nonzero extrinsic curvature components:\n",
    "\n",
    "<br>\n",
    "\n",
    "$$ A = \\left(a^{2}\\cos(2\\theta) + a^{2} + 2r^{2}\\right) $$\n",
    "\n",
    "<br>\n",
    "\n",
    "$$ B = A + 4Mr $$\n",
    "\n",
    "<br>\n",
    "\n",
    "$$ D = \\sqrt{\\frac{2Mr}{a^{2}\\cos^{2}(\\theta) + r^2} + 1} $$\n"
   ]
  },
  {
   "cell_type": "code",
   "execution_count": 4,
   "metadata": {},
   "outputs": [],
   "source": [
    "# *** Define Useful Quantities A, B, D ***\n",
    "# A = (a^2*cos^2(2theta) + a^2 + 2r^2)\n",
    "A = (a*a*sp.cos(2*th) + a*a + 2*r*r)\n",
    "\n",
    "# B = A + 4Mr\n",
    "B = A + 4*M*r\n",
    "\n",
    "# D = \\sqrt(2Mr/(a^2cos^2(theta) + r^2) + 1)\n",
    "D = sp.sqrt(2*M*r/(a*a*sp.cos(th)**2 + r*r) + 1)"
   ]
  },
  {
   "cell_type": "markdown",
   "metadata": {},
   "source": [
    "<a id='step3p2'></a>\n",
    "\n",
    "## Step 3.2: Define and construct nonzero components of $K_{ij}$ \\[Back to [top](#top)\\]\n",
    "\n",
    "$$\\label{step3p2}$$\n",
    "We will now express the extrinsic curvature $K_{ij}$ in spherical polar coordinates.\n",
    "\n",
    "From equations (A.11) - (A.13) we define the following:\n",
    "\n",
    "$$ K_{rr} = \\frac{D(A + 2Mr)}{A^{2}B}\\left[4M\\left(a^{2}\\cos(2\\theta) + a^{2} - 2r^{2}\\right)\\right] $$\n",
    "\n",
    "<br>\n",
    "\n",
    "$$ K_{r\\theta} = \\frac{D}{AB}\\left[8a^{2}Mr\\sin(\\theta)\\cos(\\theta)\\right] $$\n",
    "\n",
    "<br>\n",
    "\n",
    "$$ K_{r\\phi} = \\frac{D}{A^2}\\left[-2aM\\sin^{2}(\\theta)\\left(a^{2}\\cos(2\\theta) + a^{2} - 2r^{2}\\right)\\right] $$"
   ]
  },
  {
   "cell_type": "code",
   "execution_count": 5,
   "metadata": {},
   "outputs": [],
   "source": [
    "# *** The extrinsic curvature in spherical polar coordinates ***\n",
    "\n",
    "# Establish the 3x3 zero-matrix\n",
    "KSphDD = ixp.zerorank2()\n",
    "\n",
    "# *** Fill in the nonzero components ***\n",
    "# *** This will create an upper-triangular matrix ***\n",
    "# K_{r r} = D(A+2Mr)/(A^2*B)[4M(a^2*cos(2theta) + a^2 - 2r^2)]\n",
    "KSphDD[0][0] = D*(A+2*M*r)/(A*A*B)*(4*M*(a*a*sp.cos(2*th)+a*a-2*r*r))\n",
    "\n",
    "# K_{r theta} = D/(AB)[8a^2*Mr*sin(theta)cos(theta)]\n",
    "KSphDD[0][1] = D/(A*B)*(8*a*a*M*r*sp.sin(th)*sp.cos(th))\n",
    "\n",
    "# K_{r phi} = D/A^2[-2aMsin^2(theta)(a^2cos(2theta)+a^2-2r^2)]\n",
    "KSphDD[0][2] = D/(A*A)*(-2*a*M*sp.sin(th)**2*(a*a*sp.cos(2*th)+a*a-2*r*r))"
   ]
  },
  {
   "cell_type": "markdown",
   "metadata": {},
   "source": [
    "And from equations (A.14) - (A.17) we define the following expressions to complete the upper-triangular matrix $K_{ij}$:\n",
    "\n",
    "$$ K_{\\theta\\theta} = \\frac{D}{B}\\left[4Mr^{2}\\right] $$\n",
    "\n",
    "<br>\n",
    "\n",
    "$$ K_{\\theta\\phi} = \\frac{D}{AB}\\left[-8a^{3}Mr\\sin^{3}(\\theta)\\cos(\\theta)\\right] $$\n",
    "\n",
    "<br>\n",
    "\n",
    "$$ K_{\\phi\\phi} = \\frac{D}{A^{2}B}\\left[2Mr\\sin^{2}(\\theta)\\left(a^{4}(r-M)\\cos(4\\theta) + a^{4}(M + 3r) + 4a^{2}r^{2}(2r - M) + 4a^{2}r\\cos(2\\theta)\\left(a^{2} + r(M + 2r)\\right) + 8r^{5}\\right)\\right] $$"
   ]
  },
  {
   "cell_type": "code",
   "execution_count": 6,
   "metadata": {},
   "outputs": [],
   "source": [
    "# K_{theta theta} = D/B[4Mr^2]\n",
    "KSphDD[1][1] = D/B*(4*M*r*r)\n",
    "\n",
    "# K_{theta phi} = D/(AB)*(-8*a^3*Mr*sin^3(theta)cos(theta))\n",
    "KSphDD[1][2] = D/(A*B)*(-8*a**3*M*r*sp.sin(th)**3*sp.cos(th))\n",
    "\n",
    "# K_{phi phi} = D/(A^2*B)[2Mr*sin^2(theta)(a^4(M+3r)\n",
    "#   +4a^2r^2(2r-M)+4a^2r*cos(2theta)(a^2+r(M+2r))+8r^5)]\n",
    "KSphDD[2][2] = D/(A*A*B)*(2*M*r*sp.sin(th)**2*(a**4*(r-M)*sp.cos(4*th)\\\n",
    "                        + a**4*(M+3*r)+4*a*a*r*r*(2*r-M)\\\n",
    "                        + 4*a*a*r*sp.cos(2*th)*(a*a + r*(M + 2*r)) + 8*r**5))"
   ]
  },
  {
   "cell_type": "markdown",
   "metadata": {},
   "source": [
    "<a id='step4'></a>\n",
    "\n",
    "## Step 4: NRPy+ Module Code Validation \\[Back to [top](#top)\\]\n",
    "$$\\label{step4}$$\n",
    "\n",
    "Here, as a code validation check, we verify agreement in the SymPy expressions for shifted Kerr-Schild initial data between\n",
    "\n",
    "1. this tutorial and \n",
    "2. the NRPy+ [BSSN.ShiftedKerrSdhild](../edit/BSSN/ShiftedKerrSchild.py) module."
   ]
  },
  {
   "cell_type": "code",
   "execution_count": 7,
   "metadata": {},
   "outputs": [
    {
     "name": "stdout",
     "output_type": "stream",
     "text": [
      "initialize_param() minor warning: Did nothing; already initialized parameter ShiftedKerrSchild::M\n",
      "initialize_param() minor warning: Did nothing; already initialized parameter ShiftedKerrSchild::a\n",
      "^^^ Ignore the minor warning(s) above. ^^^\n",
      "\n",
      "Consistency check between Brill-Lindquist tutorial and NRPy+ BSSN.BrillLindquist module:\n",
      "alphaSph - sks.alphaSph: Should be zero: 0\n",
      "betaSphU[0] - sks.betaSphU[0]: Should be zero: 0\n",
      "BSphU[0] - sks.BaSphU[0]: Should be zero: 0\n",
      "gammaSphDD[0][0] - sks.gammaSphDD[0][0]: Should be zero: 0\n",
      "KSphDD[0][0] - sks.KSphDD[0][0]: Should be zero: 0\n",
      "gammaSphDD[0][1] - sks.gammaSphDD[0][1]: Should be zero: 0\n",
      "KSphDD[0][1] - sks.KSphDD[0][1]: Should be zero: 0\n",
      "gammaSphDD[0][2] - sks.gammaSphDD[0][2]: Should be zero: 0\n",
      "KSphDD[0][2] - sks.KSphDD[0][2]: Should be zero: 0\n",
      "betaSphU[1] - sks.betaSphU[1]: Should be zero: 0\n",
      "BSphU[1] - sks.BaSphU[1]: Should be zero: 0\n",
      "gammaSphDD[1][0] - sks.gammaSphDD[1][0]: Should be zero: 0\n",
      "KSphDD[1][0] - sks.KSphDD[1][0]: Should be zero: 0\n",
      "gammaSphDD[1][1] - sks.gammaSphDD[1][1]: Should be zero: 0\n",
      "KSphDD[1][1] - sks.KSphDD[1][1]: Should be zero: 0\n",
      "gammaSphDD[1][2] - sks.gammaSphDD[1][2]: Should be zero: 0\n",
      "KSphDD[1][2] - sks.KSphDD[1][2]: Should be zero: 0\n",
      "betaSphU[2] - sks.betaSphU[2]: Should be zero: 0\n",
      "BSphU[2] - sks.BaSphU[2]: Should be zero: 0\n",
      "gammaSphDD[2][0] - sks.gammaSphDD[2][0]: Should be zero: 0\n",
      "KSphDD[2][0] - sks.KSphDD[2][0]: Should be zero: 0\n",
      "gammaSphDD[2][1] - sks.gammaSphDD[2][1]: Should be zero: 0\n",
      "KSphDD[2][1] - sks.KSphDD[2][1]: Should be zero: 0\n",
      "gammaSphDD[2][2] - sks.gammaSphDD[2][2]: Should be zero: 0\n",
      "KSphDD[2][2] - sks.KSphDD[2][2]: Should be zero: 0\n"
     ]
    }
   ],
   "source": [
    "# Reset the list of gridfunctions, as registering a gridfunction\n",
    "#   twice will spawn an error.\n",
    "gri.glb_gridfcs_list = []\n",
    "\n",
    "# First we import needed core NRPy+ modules\n",
    "import reference_metric as rfm\n",
    "import grid as gri\n",
    "# Unused, but needed because BrillLindquist() also does tensor rescalings.\n",
    "rfm.reference_metric()\n",
    "\n",
    "import BSSN.ShiftedKerrSchild as sks\n",
    "sks.ShiftedKerrSchild()\n",
    "\n",
    "# It is SAFE to ignore the warning(s) from re-initializing parameters.\n",
    "print(\"^^^ Ignore the minor warning(s) above. ^^^\\n\")\n",
    "print(\"Consistency check between Brill-Lindquist tutorial and NRPy+ BSSN.BrillLindquist module:\")\n",
    "print(\"alphaSph - sks.alphaSph: Should be zero: \"+str(sp.simplify(alphaSph - sks.alphaSph)))\n",
    "for i in range(DIM):\n",
    "    print(\"betaSphU[\"+str(i)+\"] - sks.betaSphU[\"+str(i)+\"]: Should be zero: \"+\\\n",
    "          str(sp.simplify(betaSphU[i] - sks.betaSphU[i])))\n",
    "    print(\"BSphU[\"+str(i)+\"] - sks.BaSphU[\"+str(i)+\"]: Should be zero: \"+str(sp.simplify(BSphU[i] - sks.BSphU[i])))\n",
    "    for j in range(DIM):\n",
    "        print(\"gammaSphDD[\"+str(i)+\"][\"+str(j)+\"] - sks.gammaSphDD[\"+str(i)+\"][\"+str(j)+\"]: Should be zero: \"+\\\n",
    "             str(sp.simplify(gammaSphDD[i][j] - sks.gammaSphDD[i][j])))\n",
    "        print(\"KSphDD[\"+str(i)+\"][\"+str(j)+\"] - sks.KSphDD[\"+str(i)+\"][\"+str(j)+\"]: Should be zero: \"+\\\n",
    "              str(sp.simplify(KSphDD[i][j] - sks.KSphDD[i][j])))"
   ]
  },
  {
   "cell_type": "markdown",
   "metadata": {},
   "source": [
    "### Output to $\\LaTeX$, then PDF"
   ]
  },
  {
   "cell_type": "code",
   "execution_count": 8,
   "metadata": {},
   "outputs": [
    {
     "name": "stderr",
     "output_type": "stream",
     "text": [
      "[NbConvertApp] Converting notebook Tutorial-ADM_Initial_Data-ShiftedKerrSchild.ipynb to latex\n",
      "[NbConvertApp] Writing 43355 bytes to Tutorial-ADM_Initial_Data-ShiftedKerrSchild.tex\n"
     ]
    },
    {
     "name": "stdout",
     "output_type": "stream",
     "text": [
      "This is pdfTeX, Version 3.14159265-2.6-1.40.20 (MiKTeX 2.9.6960 64-bit)\n",
      "entering extended mode\n",
      "This is pdfTeX, Version 3.14159265-2.6-1.40.20 (MiKTeX 2.9.6960 64-bit)\n",
      "entering extended mode\n",
      "This is pdfTeX, Version 3.14159265-2.6-1.40.20 (MiKTeX 2.9.6960 64-bit)\n",
      "entering extended mode\n"
     ]
    },
    {
     "name": "stderr",
     "output_type": "stream",
     "text": [
      "'rm' is not recognized as an internal or external command,\n",
      "operable program or batch file.\n"
     ]
    }
   ],
   "source": [
    "!jupyter nbconvert --to latex --template latex_nrpy_style.tplx Tutorial-ADM_Initial_Data-ShiftedKerrSchild.ipynb\n",
    "!pdflatex -interaction=batchmode Tutorial-ADM_Initial_Data-ShiftedKerrSchild.tex\n",
    "!pdflatex -interaction=batchmode Tutorial-ADM_Initial_Data-ShiftedKerrSchild.tex\n",
    "!pdflatex -interaction=batchmode Tutorial-ADM_Initial_Data-ShiftedKerrSchild.tex\n",
    "!rm -f Tut*.out Tut*.aux Tut*.log"
   ]
  }
 ],
 "metadata": {
  "kernelspec": {
   "display_name": "Python 3",
   "language": "python",
   "name": "python3"
  },
  "language_info": {
   "codemirror_mode": {
    "name": "ipython",
    "version": 3
   },
   "file_extension": ".py",
   "mimetype": "text/x-python",
   "name": "python",
   "nbconvert_exporter": "python",
   "pygments_lexer": "ipython3",
   "version": "3.7.0"
  }
 },
 "nbformat": 4,
 "nbformat_minor": 2
}
