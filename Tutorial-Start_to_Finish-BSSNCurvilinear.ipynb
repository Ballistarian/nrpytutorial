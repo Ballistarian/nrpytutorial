{
 "cells": [
  {
   "cell_type": "markdown",
   "metadata": {},
   "source": [
    "# Start-to-Finish Example: Numerical Solution of the BSSN Equations, in Curvilinear Coordinates\n",
    "\n",
    "## This module solves Einstein's equations for a merging black hole system in *spherical coordinates*\n",
    "\n",
    "### NRPy+ Source Code for this module: [BSSN/BSSN_RHSs.py](../edit/BSSN/BSSN_RHSs.py); [Brill-Lindquist initial data module](../edit/Tutorial-EinsteinsEquations__Brill-Lindquist_Initial_Data.ipynb)\n",
    "\n",
    "We first use NRPy+ to generate initial data for the scalar wave equation, and then we use it to generate the RHS expressions for [Method of Lines](https://reference.wolfram.com/language/tutorial/NDSolveMethodOfLines.html) time integration based on the [explicit Runge-Kutta fourth-order scheme](https://en.wikipedia.org/wiki/Runge%E2%80%93Kutta_methods) (RK4).\n",
    "\n",
    "The entire algorithm is outlined below, with NRPy+-based components highlighted in <font color='green'>green</font>.\n",
    "\n",
    "1. Allocate memory for gridfunctions, including temporary storage for the RK4 time integration.\n",
    "1. <font color='green'>Set gridfunction values to initial data.</font>\n",
    "1. Evolve the system forward in time using RK4 time integration. At each RK4 substep, do the following:\n",
    "    1. <font color='green'>Evaluate BSSN RHS expressions.</font>\n",
    "    1. Apply singular, curvilinear coordinate boundary conditions [*a la* the SENR/NRPy+ paper](https://arxiv.org/abs/1712.07658)\n",
    "    1. <font color='green'>Apply constraints on conformal 3-metric: $\\det{\\bar{\\gamma}_{ij}}=\\det{\\hat{\\gamma}_{ij}}$</font>\n",
    "1. At the end of each iteration in time, output the numerical solution in some quantity.\n",
    "1. Repeat above steps for "
   ]
  },
  {
   "cell_type": "markdown",
   "metadata": {},
   "source": [
    "## Part 1: Setting up the initial data\n",
    "\n",
    "### Brill-Lindquist initial data ([Brill & Lindquist, Phys. Rev. 131, 471, 1963](https://journals.aps.org/pr/abstract/10.1103/PhysRev.131.471); see also Eq. 1 of [Brandt & Brügmann, arXiv:gr-qc/9711015v1](https://arxiv.org/pdf/gr-qc/9711015v1.pdf)) may be written in terms of the BSSN conformal factor and ADM extrinsic curvature as\n",
    "\n",
    "$$\\psi = e^{\\phi} = 1 + \\sum_{i=1}^N \\frac{m_{(i)}}{2 \\left|\\vec{r}_{(i)} - \\vec{r}\\right|};\\quad K_{ij}=0.$$\n",
    "\n",
    "These data consist of $N$ nonspinning black holes initially at rest. This module restricts to the case of two such black holes, positioned along either the $x$ or $z$ axis. Here, we implement $N=2$.\n",
    "\n",
    "**Inputs for $\\psi$**:\n",
    "* The position and (bare) mass of black hole 1: $\\left(x_{(1)},y_{(1)},z_{(1)}\\right)$ and $m_{(1)}$, respectively\n",
    "* The position and (bare) mass of black hole 2: $\\left(x_{(2)},y_{(2)},z_{(2)}\\right)$ and $m_{(2)}$, respectively\n",
    "\n",
    "**Additional variables needed for spacetime evolution**:\n",
    "* Desired coordinate system\n",
    "* Desired initial lapse $\\alpha$ and shift $\\beta^i$\n",
    "\n",
    "**Transformation to curvilinear coordinates**:\n",
    "* Once the above variables have been set in Cartesian coordinates, we will apply the appropriate coordinate transformations and tensor rescalings ([described in the BSSN NRPy+ tutorial module](Tutorial-BSSNCurvilinear.ipynb))"
   ]
  },
  {
   "cell_type": "code",
   "execution_count": null,
   "metadata": {},
   "outputs": [],
   "source": [
    "import sympy as sp\n",
    "import NRPy_param_funcs as par\n",
    "import indexedexp as ixp\n",
    "import grid as gri\n",
    "from outputC import *\n",
    "\n",
    "thismodule = \"Brill-Lindquist\"\n",
    "BH1_posn_x,BH1_posn_y,BH1_posn_z = par.Cparameters(\"REAL\", thismodule, [\"BH1_posn_x\",\"BH1_posn_y\",\"BH1_posn_z\"])\n",
    "BH1_mass = par.Cparameters(\"REAL\", thismodule, [\"BH1_mass\"])\n",
    "BH2_posn_x,BH2_posn_y,BH2_posn_z = par.Cparameters(\"REAL\", thismodule, [\"BH2_posn_x\",\"BH2_posn_y\",\"BH2_posn_z\"])\n",
    "BH2_mass = par.Cparameters(\"REAL\", thismodule, [\"BH2_mass\"])\n",
    "\n",
    "# Step 2b: Set spatial dimension (must be 3 for BSSN)\n",
    "DIM = 3\n",
    "par.set_parval_from_str(\"grid::DIM\",DIM)\n",
    "\n",
    "x,y,z = par.Cparameters(\"REAL\",thismodule,[\"x\",\"y\",\"z\"])\n",
    "\n",
    "psi = sp.sympify(1)\n",
    "psi += BH1_mass / ( 2 * sp.sqrt((x-BH1_posn_x)**2 + (y-BH1_posn_y)**2 + (z-BH1_posn_z)**2) )\n",
    "psi += BH2_mass / ( 2 * sp.sqrt((x-BH2_posn_x)**2 + (y-BH2_posn_y)**2 + (z-BH2_posn_z)**2) )\n",
    "\n",
    "gammaCartDD = ixp.zerorank2()\n",
    "KCartDD     = ixp.zerorank2() # K_{ij} = 0 for these initial data\n",
    "for i in range(DIM):\n",
    "    gammaCartDD[i][i] = psi**4\n"
   ]
  }
 ],
 "metadata": {
  "kernelspec": {
   "display_name": "Python 3",
   "language": "python",
   "name": "python3"
  },
  "language_info": {
   "codemirror_mode": {
    "name": "ipython",
    "version": 3
   },
   "file_extension": ".py",
   "mimetype": "text/x-python",
   "name": "python",
   "nbconvert_exporter": "python",
   "pygments_lexer": "ipython3",
   "version": "3.6.6"
  }
 },
 "nbformat": 4,
 "nbformat_minor": 2
}
