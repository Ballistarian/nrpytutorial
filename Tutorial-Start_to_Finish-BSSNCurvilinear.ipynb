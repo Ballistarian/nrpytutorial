{
 "cells": [
  {
   "cell_type": "markdown",
   "metadata": {},
   "source": [
    "# Start-to-Finish Example: Numerical Solution of the BSSN Equations, in Curvilinear Coordinates\n",
    "\n",
    "## This module solves Einstein's equations for a merging black hole system in *spherical coordinates*\n",
    "\n",
    "### NRPy+ Source Code for this module: [BSSN/BSSN_RHSs.py](../edit/BSSN/BSSN_RHSs.py); [Brill-Lindquist initial data module](../edit/Tutorial-EinsteinsEquations__Brill-Lindquist_Initial_Data.ipynb)\n",
    "\n",
    "We first use NRPy+ to generate initial data for the scalar wave equation, and then we use it to generate the RHS expressions for [Method of Lines](https://reference.wolfram.com/language/tutorial/NDSolveMethodOfLines.html) time integration based on the [explicit Runge-Kutta fourth-order scheme](https://en.wikipedia.org/wiki/Runge%E2%80%93Kutta_methods) (RK4).\n",
    "\n",
    "The entire algorithm is outlined below, with NRPy+-based components highlighted in <font color='green'>green</font>.\n",
    "\n",
    "1. Allocate memory for gridfunctions, including temporary storage for the RK4 time integration.\n",
    "1. <font color='green'>Set gridfunction values to initial data (*Part 1* below).</font>\n",
    "1. Evolve the system forward in time using RK4 time integration. At each RK4 substep, do the following:\n",
    "    1. <font color='green'>Evaluate BSSN RHS expressions.</font>\n",
    "    1. Apply singular, curvilinear coordinate boundary conditions [*a la* the SENR/NRPy+ paper](https://arxiv.org/abs/1712.07658)\n",
    "    1. <font color='green'>Apply constraints on conformal 3-metric: $\\det{\\bar{\\gamma}_{ij}}=\\det{\\hat{\\gamma}_{ij}}$</font>\n",
    "1. At the end of each iteration in time, output the <font color='green'>Hamiltonian constraint violation</font>.\n",
    "1. Repeat above steps at two numerical resolutions to confirm convergence to zero."
   ]
  },
  {
   "cell_type": "markdown",
   "metadata": {},
   "source": [
    "## Part 1: Setting up the initial data\n",
    "\n",
    "### Brill-Lindquist initial data ([Brill & Lindquist, Phys. Rev. 131, 471, 1963](https://journals.aps.org/pr/abstract/10.1103/PhysRev.131.471); see also Eq. 1 of [Brandt & Brügmann, arXiv:gr-qc/9711015v1](https://arxiv.org/pdf/gr-qc/9711015v1.pdf)) may be written in terms of the BSSN conformal factor and ADM extrinsic curvature as\n",
    "\n",
    "$$\\psi = e^{\\phi} = 1 + \\sum_{i=1}^N \\frac{m_{(i)}}{2 \\left|\\vec{r}_{(i)} - \\vec{r}\\right|};\\quad K_{ij}=0.$$\n",
    "\n",
    "These data consist of $N$ nonspinning black holes initially at rest. This module restricts to the case of two such black holes, positioned along either the $x$ or $z$ axis. Here, we implement $N=2$.\n",
    "\n",
    "**Inputs for $\\psi$**:\n",
    "* The position and (bare) mass of black hole 1: $\\left(x_{(1)},y_{(1)},z_{(1)}\\right)$ and $m_{(1)}$, respectively\n",
    "* The position and (bare) mass of black hole 2: $\\left(x_{(2)},y_{(2)},z_{(2)}\\right)$ and $m_{(2)}$, respectively\n",
    "\n",
    "**Additional variables needed for spacetime evolution**:\n",
    "* Desired coordinate system\n",
    "* Desired initial lapse $\\alpha$ and shift $\\beta^i$\n",
    "\n",
    "**Transformation to curvilinear coordinates**:\n",
    "* Once the above variables have been set in Cartesian coordinates, we will apply the appropriate coordinate transformations and tensor rescalings ([described in the BSSN NRPy+ tutorial module](Tutorial-BSSNCurvilinear.ipynb))"
   ]
  },
  {
   "cell_type": "code",
   "execution_count": 1,
   "metadata": {},
   "outputs": [],
   "source": [
    "# Step P0: Load needed modules\n",
    "import sympy as sp\n",
    "import NRPy_param_funcs as par\n",
    "import indexedexp as ixp\n",
    "import grid as gri\n",
    "from outputC import *\n",
    "import reference_metric as rfm\n",
    "import BSSN.BSSN_RHSs\n",
    "\n",
    "# Step P1: Set up reference metric\n",
    "# Step P1a: Choose SinhSpherical coordinates\n",
    "CoordSystem = \"SinhSpherical\"\n",
    "par.set_parval_from_str(\"reference_metric::CoordSystem\",CoordSystem)\n",
    "# Step P1b: Set up needed reference metric quantities\n",
    "rfm.reference_metric()\n",
    "\n",
    "thismodule = \"Brill-Lindquist\"\n",
    "BH1_posn_x,BH1_posn_y,BH1_posn_z = par.Cparameters(\"REAL\", thismodule, [\"BH1_posn_x\",\"BH1_posn_y\",\"BH1_posn_z\"])\n",
    "BH1_mass = par.Cparameters(\"REAL\", thismodule, [\"BH1_mass\"])\n",
    "BH2_posn_x,BH2_posn_y,BH2_posn_z = par.Cparameters(\"REAL\", thismodule, [\"BH2_posn_x\",\"BH2_posn_y\",\"BH2_posn_z\"])\n",
    "BH2_mass = par.Cparameters(\"REAL\", thismodule, [\"BH2_mass\"])\n",
    "\n",
    "# Step 0: Set spatial dimension (must be 3 for BSSN)\n",
    "DIM = 3\n",
    "par.set_parval_from_str(\"grid::DIM\",DIM)\n",
    "\n",
    "#x = rfm.xxCart[0]\n",
    "#y = rfm.xxCart[1]\n",
    "#z = rfm.xxCart[2]\n",
    "\n",
    "Cartxyz = ixp.declarerank1(\"Cartxyz\")\n",
    "\n",
    "# Step 1: Set psi, the conformal factor:\n",
    "psi = sp.sympify(1)\n",
    "psi += BH1_mass / ( 2 * sp.sqrt((Cartxyz[0]-BH1_posn_x)**2 + (Cartxyz[1]-BH1_posn_y)**2 + (Cartxyz[2]-BH1_posn_z)**2) )\n",
    "psi += BH2_mass / ( 2 * sp.sqrt((Cartxyz[0]-BH2_posn_x)**2 + (Cartxyz[1]-BH2_posn_y)**2 + (Cartxyz[2]-BH2_posn_z)**2) )\n",
    "\n",
    "# Step 2: Set all needed ADM variables in Cartesian coordinates\n",
    "gammaCartDD = ixp.zerorank2()\n",
    "KCartDD     = ixp.zerorank2() # K_{ij} = 0 for these initial data\n",
    "for i in range(DIM):\n",
    "    gammaCartDD[i][i] = psi**4\n",
    "\n",
    "alpha = 1/psi**2\n",
    "betaCartU = ixp.zerorank1() # We generally choose \\beta^i = 0 for these initial data"
   ]
  },
  {
   "cell_type": "markdown",
   "metadata": {},
   "source": [
    "Next we convert these ADM variables \n",
    "\n",
    "$$\\left\\{\\gamma_{ij}, K_{ij}, \\alpha, \\beta^i\\right\\}$$\n",
    "\n",
    "to the BSSN variables\n",
    "\n",
    "$$\\left\\{\\bar{\\gamma}_{i j},\\bar{A}_{i j},\\phi, K, \\bar{\\Lambda}^{i}, \\alpha, \\beta^i, B^i\\right\\},$$ \n",
    "\n",
    "to the rescaled variables \n",
    "\n",
    "$$\\left\\{h_{i j},a_{i j},\\phi, K, \\lambda^{i}, \\alpha, \\mathcal{V}^i, \\mathcal{B}^i\\right\\},$$ \n",
    "\n",
    "in this case assuming that all components of the initial shift and its time derivative are zero: $\\beta^i=\\mathcal{V}^i=\\mathcal{B}^i=0$.\n",
    "\n",
    "First we have (Eqs. 1 and 2 of [Baumgarte *et al.*](https://arxiv.org/pdf/1211.6632.pdf)):\n",
    "$$\n",
    "\\bar{\\gamma}_{i j} = \\left(\\frac{\\gamma}{\\bar{\\gamma}}\\right)^{1/3} \\gamma_{ij}.\n",
    "$$\n",
    "Brill-Linquist initial data are conformally flat, meaning that $\\bar{\\gamma}=\\hat{\\gamma}=1$ in Cartesian coordinates. So for these initial data in Cartesian coordinates we have\n",
    "$$\n",
    "\\bar{\\gamma}_{i j} = \\gamma^{1/3} \\gamma_{ij}.\n",
    "$$"
   ]
  },
  {
   "cell_type": "code",
   "execution_count": 2,
   "metadata": {},
   "outputs": [],
   "source": [
    "# Step 3a: Convert ADM $\\gamma_{ij}$ to BSSN $\\bar{\\gamma}_{ij}$\n",
    "gammaCartUU, gammaCartDET = ixp.symm_matrix_inverter3x3(gammaCartDD)\n",
    "gammaCartbarDD = ixp.zerorank2()\n",
    "for i in range(DIM):\n",
    "    for j in range(DIM):\n",
    "        gammaCartbarDD[i][j] = gammaCartDET**(sp.Rational(1,3))*gammaCartDD[i][j]"
   ]
  },
  {
   "cell_type": "markdown",
   "metadata": {},
   "source": [
    "Second, we convert $K_{ij}$ to $\\bar{A}_{ij}$ and $K$, where (Eq. 3 of [Baumgarte *et al.*](https://arxiv.org/pdf/1211.6632.pdf)):\n",
    "\n",
    "\\begin{align}\n",
    "K &= \\gamma^{ij} K_{ij} \\\\\n",
    "\\bar{A}_{ij} &= \\left(\\frac{\\gamma}{\\bar{\\gamma}}\\right)^{1/3} \\left(K_{ij} - \\frac{1}{3} \\gamma_{ij} K \\right)\\\\\n",
    "&= \\gamma^{1/3} \\left(K_{ij} - \\frac{1}{3} \\gamma_{ij} K \\right)\n",
    "\\end{align}"
   ]
  },
  {
   "cell_type": "code",
   "execution_count": 3,
   "metadata": {},
   "outputs": [],
   "source": [
    "# Step 3b: Convert ADM $K_{ij}$ to $\\bar{A}_{ij}$ and $K$, \n",
    "#          where (Eq. 3 of Baumgarte et al.: https://arxiv.org/pdf/1211.6632.pdf)\n",
    "KCart = sp.sympify(0)\n",
    "for i in range(DIM):\n",
    "    for j in range(DIM):\n",
    "        KCart += gammaCartUU[i][j]*KCartDD[i][j]\n",
    "\n",
    "ACartbarDD = ixp.zerorank2()\n",
    "for i in range(DIM):\n",
    "    for j in range(DIM):\n",
    "        ACartbarDD[i][j] = gammaCartDET**(sp.Rational(1,3))*(KCartDD[i][j] - sp.Rational(1,3)*gammaCartDD[i][j]*KCart)"
   ]
  },
  {
   "cell_type": "markdown",
   "metadata": {},
   "source": [
    "Third, we define $\\bar{\\Lambda}^i$ (Eqs. 4 and 5 of [Baumgarte *et al.*](https://arxiv.org/pdf/1211.6632.pdf)):\n",
    "\n",
    "$$\n",
    "\\bar{\\Lambda}^i = \\bar{\\gamma}^{jk}\\left(\\bar{\\Gamma}^i_{jk} - \\hat{\\Gamma}^i_{jk}\\right).\n",
    "$$\n",
    "\n",
    "In Cartesian coordinates, $\\hat{\\Gamma}^i_{jk}=0$, so we get in Cartesian coordinates\n",
    "\\begin{align}\n",
    "\\bar{\\Lambda}^i &= \\bar{\\gamma}^{jk} \\bar{\\Gamma}^i_{jk} \\\\\n",
    "&= \\bar{\\gamma}^{jk} \\frac{1}{2} \\bar{\\gamma}^{il} \\left(\n",
    "\\bar{\\gamma}_{lj,k} + \\bar{\\gamma}_{lk,j} - \\bar{\\gamma}_{jk,l} \\right)\n",
    "\\end{align}"
   ]
  },
  {
   "cell_type": "code",
   "execution_count": 4,
   "metadata": {
    "scrolled": true
   },
   "outputs": [],
   "source": [
    "# Step 3c: Define $\\bar{\\Lambda}^i$ from Eqs. 4 and 5 of Baumgarte et al.: https://arxiv.org/pdf/1211.6632.pdf\n",
    "LambdaCartU = ixp.zerorank1()\n",
    "\n",
    "for i in range(DIM):\n",
    "    for j in range(DIM):\n",
    "        for k in range(DIM):\n",
    "            for l in range(DIM):\n",
    "                LambdaCartU[i] += sp.Rational(1,2)*gammaCartUU[j][k]*gammaCartUU[i][l]* \\\n",
    "                                    ( sp.diff(gammaCartUU[l][j],Cartxyz[k]) + \n",
    "                                      sp.diff(gammaCartUU[l][k],Cartxyz[j]) -\n",
    "                                      sp.diff(gammaCartUU[j][k],Cartxyz[l]) )"
   ]
  },
  {
   "cell_type": "markdown",
   "metadata": {},
   "source": [
    "All BSSN tensors and vectors are in Cartesian coordinates $x^i_{\\rm Cart} = (x,y,z)$, but we need them in the curvilinear coordinate system $x^i_{\\rm rfm}= ({\\rm xx0},{\\rm xx1},{\\rm xx2})$ set by the \"reference_metric::CoordSystem\" variable. Empirically speaking, it is far easier to write $(x({\\rm xx0},{\\rm xx1},{\\rm xx2}),y({\\rm xx0},{\\rm xx1},{\\rm xx2}),z({\\rm xx0},{\\rm xx1},{\\rm xx2}))$ than the inverse, so we will compute the Jacobian matrix\n",
    "\n",
    "$$\n",
    "{\\rm Jac\\_dUCart\\_dDrfmUD[i][j]} = \\frac{\\partial x^i_{\\rm Cart}}{\\partial x^j_{\\rm rfm}},\n",
    "$$\n",
    "\n",
    "via exact differentiation (courtesy SymPy), and the inverse Jacobian\n",
    "$$\n",
    "{\\rm Jac\\_dUrfm\\_dDCartUD[i][j]} = \\frac{\\partial x^i_{\\rm rfm}}{\\partial x^j_{\\rm Cart}},\n",
    "$$\n",
    "\n",
    "using NRPy+'s ${\\rm generic\\_matrix\\_inverter3x3()}$ function. In terms of these, we have\n",
    "\n",
    "\\begin{align}\n",
    "\\bar{\\gamma}^{\\rm rfm}_{ij} &= \n",
    "\\frac{\\partial x^\\ell_{\\rm Cart}}{\\partial x^i_{\\rm rfm}}\n",
    "\\frac{\\partial x^m_{\\rm Cart}}{\\partial x^j_{\\rm rfm}} \\bar{\\gamma}^{\\rm Cart}_{\\ell m}\\\\\n",
    "\\bar{A}^{\\rm rfm}_{ij} &= \n",
    "\\frac{\\partial x^\\ell_{\\rm Cart}}{\\partial x^i_{\\rm rfm}}\n",
    "\\frac{\\partial x^m_{\\rm Cart}}{\\partial x^j_{\\rm rfm}} \\bar{A}^{\\rm Cart}_{\\ell m}\\\\\n",
    "\\bar{\\Lambda}^i_{\\rm rfm} &= \\frac{\\partial x^i_{\\rm rfm}}{\\partial x^\\ell_{\\rm Cart}} \\bar{\\Lambda}^\\ell_{\\rm Cart} \\\\\n",
    "\\beta^i_{\\rm rfm} &= \\frac{\\partial x^i_{\\rm rfm}}{\\partial x^\\ell_{\\rm Cart}} \\beta^\\ell_{\\rm Cart}\n",
    "\\end{align}"
   ]
  },
  {
   "cell_type": "code",
   "execution_count": 8,
   "metadata": {},
   "outputs": [],
   "source": [
    "# Step 3: Convert BSSN tensors to basis set by CoordSystem variable above.\n",
    "Jac_dUCart_dDrfmUD = ixp.zerorank2()\n",
    "for i in range(DIM):\n",
    "    for j in range(DIM):\n",
    "        Jac_dUCart_dDrfmUD[i][j] = sp.diff(rfm.xxCart[i],rfm.xx[j])\n",
    "\n",
    "Jac_dUrfm_dDCartUD, dummyDET = ixp.generic_matrix_inverter3x3(Jac_dUCart_dDrfmUD)\n",
    "\n",
    "gammabarDD = ixp.zerorank2()\n",
    "AbarDD     = ixp.zerorank2()\n",
    "betaU   = ixp.zerorank1()\n",
    "LambdaU = ixp.zerorank1()\n",
    "for i in range(DIM):\n",
    "    for j in range(DIM):\n",
    "        betaU[i]   += Jac_dUrfm_dDCartUD[i][j]*betaCartU[j]\n",
    "        LambdaU[i] += Jac_dUrfm_dDCartUD[i][j]*LambdaCartU[j]\n",
    "        for k in range(3):\n",
    "            for l in range(3):\n",
    "                gammabarDD[i][j] += Jac_dUrfm_dDCartUD[k][i]*Jac_dUrfm_dDCartUD[l][j]*gammaCartbarDD[k][l]\n",
    "                AbarDD[i][j]     += Jac_dUrfm_dDCartUD[k][i]*Jac_dUrfm_dDCartUD[l][j]*ACartbarDD[k][l]\n",
    "\n",
    "# cfCart = sp.sympify\n",
    "# if par.parval_from_str(\"BSSN_RHSs::ConformalFactor\") == \"phi\":"
   ]
  },
  {
   "cell_type": "code",
   "execution_count": null,
   "metadata": {},
   "outputs": [],
   "source": []
  }
 ],
 "metadata": {
  "kernelspec": {
   "display_name": "Python 3",
   "language": "python",
   "name": "python3"
  },
  "language_info": {
   "codemirror_mode": {
    "name": "ipython",
    "version": 3
   },
   "file_extension": ".py",
   "mimetype": "text/x-python",
   "name": "python",
   "nbconvert_exporter": "python",
   "pygments_lexer": "ipython3",
   "version": "3.6.6"
  }
 },
 "nbformat": 4,
 "nbformat_minor": 2
}
