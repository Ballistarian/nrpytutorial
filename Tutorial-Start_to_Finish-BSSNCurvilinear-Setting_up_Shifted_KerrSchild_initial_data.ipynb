{
 "cells": [
  {
   "cell_type": "markdown",
   "metadata": {},
   "source": [
    "# Start-to-Finish Example: Setting up Shifted Kerr-Schild Initial Data, in Curvilinear Coordinates\n",
    "\n",
    "**Authors: Terrence Pierre Jacques, Zachariah Etienne, and Ian Ruchlin**\n",
    "\n",
    "## This module sets up initial data for the shifted Kerr-Schild solution to spinning black holes in *spherical coordinates*, using the *Exact* ADM Spherical to BSSN Curvilinear initial data module (numerical = BSSN $\\lambda^i$'s are computed using finite-difference derivatives instead of exact expressions).\n",
    "\n",
    "<font color='green'>**This module has been validated to exhibit convergence to zero of the Hamiltonian constraint violation at the expected order to the exact solution (see plot at bottom). It was carefully ported from the [original NRPy+ code](https://bitbucket.org/zach_etienne/nrpy)**.</font>\n",
    "\n",
    "### NRPy+ Source Code for this module: \n",
    "1. [BSSN/ShiftedKerrSchild.py](../edit/BSSN/ShiftedKerrSchild.py); [\\[**tutorial**\\]](Tutorial-ADM_Initial_Data-StaticTrumpet.ipynb): Shifted Kerr-Schild spinning black hole initial data; sets all ADM variables in Spherical basis: \n",
    "1. [BSSN/ADM_Exact_Spherical_or_Cartesian_to_BSSNCurvilinear.py](../edit/BSSN/ADM_Exact_Spherical_or_Cartesian_to_BSSNCurvilinear.py); [\\[**tutorial**\\]](Tutorial-ADM_Initial_Data-Converting_Exact_ADM_Spherical_or_Cartesian_to_BSSNCurvilinear.ipynb): *Exact* Spherical ADM$\\to$Curvilinear BSSN converter function\n",
    "1. [BSSN/BSSN_Constraints.py](../edit/BSSN/BSSNConstraints.py); [\\[**tutorial**\\]](Tutorial-BSSNConstraints.ipynb): Hamiltonian constraint in BSSN curvilinear basis/coordinates\n",
    "\n",
    "Here we use NRPy+ to generate initial data for a spinning black hole.\n",
    "\n",
    "The entire algorithm is outlined below, with NRPy+-based components highlighted in <font color='green'>green</font>.\n",
    "\n",
    "1. Allocate memory for gridfunctions, including temporary storage for the RK4 time integration.\n",
    "1. <font color='green'>Set gridfunction values to initial data (**This module**).</font>\n",
    "1. Evolve the system forward in time using RK4 time integration. At each RK4 substep, do the following:\n",
    "    1. <font color='green'>Evaluate BSSN RHS expressions.</font>\n",
    "    1. Apply singular, curvilinear coordinate boundary conditions [*a la* the SENR/NRPy+ paper](https://arxiv.org/abs/1712.07658)\n",
    "    1. <font color='green'>Apply constraints on conformal 3-metric: $\\det{\\bar{\\gamma}_{ij}}=\\det{\\hat{\\gamma}_{ij}}$</font>\n",
    "1. At the end of each iteration in time, output the <font color='green'>Hamiltonian constraint violation</font>.\n",
    "1. Repeat above steps at two numerical resolutions to confirm convergence to zero."
   ]
  },
  {
   "cell_type": "markdown",
   "metadata": {},
   "source": [
    "## Set core NRPy+ parameters for numerical grids and reference metric"
   ]
  },
  {
   "cell_type": "code",
   "execution_count": 1,
   "metadata": {},
   "outputs": [
    {
     "name": "stdout",
     "output_type": "stream",
     "text": [
      "initialize_param() minor warning: Did nothing; already initialized parameter reference_metric::M_PI\n",
      "initialize_param() minor warning: Did nothing; already initialized parameter reference_metric::RMAX\n",
      "Wrote to file \"BSSN/xxCart.h\"\n"
     ]
    }
   ],
   "source": [
    "# First we import needed core NRPy+ modules\n",
    "from outputC import *\n",
    "import NRPy_param_funcs as par\n",
    "import grid as gri\n",
    "import loop as lp\n",
    "import indexedexp as ixp\n",
    "import finite_difference as fin\n",
    "import reference_metric as rfm\n",
    "\n",
    "# Set spatial dimension (must be 3 for BSSN)\n",
    "DIM = 3\n",
    "par.set_parval_from_str(\"grid::DIM\",DIM)\n",
    "\n",
    "# Then we set the coordinate system for the numerical grid\n",
    "par.set_parval_from_str(\"reference_metric::CoordSystem\",\"Spherical\")\n",
    "rfm.reference_metric() # Create ReU, ReDD needed for rescaling B-L initial data, generating BSSN RHSs, etc.\n",
    "\n",
    "# We will need the h_{ij} quantities defined within BSSN_RHSs \n",
    "#    below when we enforce the gammahat=gammabar constraint\n",
    "import BSSN.BSSN_RHSs as rhs\n",
    "rhs.BSSN_RHSs()\n",
    "\n",
    "#################\n",
    "# Next output C headers related to the numerical grids we just set up:\n",
    "#################\n",
    "\n",
    "# First output the coordinate bounds xxmin[] and xxmax[]:\n",
    "with open(\"BSSN/xxminmax.h\", \"w\") as file:\n",
    "    file.write(\"const REAL xxmin[3] = {\"+str(rfm.xxmin[0])+\",\"+str(rfm.xxmin[1])+\",\"+str(rfm.xxmin[2])+\"};\\n\")\n",
    "    file.write(\"const REAL xxmax[3] = {\"+str(rfm.xxmax[0])+\",\"+str(rfm.xxmax[1])+\",\"+str(rfm.xxmax[2])+\"};\\n\")\n",
    "\n",
    "# Generic coordinate NRPy+ file output, Part 2: output the conversion from (x0,x1,x2) to Cartesian (x,y,z)\n",
    "outputC([rfm.xxCart[0],rfm.xxCart[1],rfm.xxCart[2]],[\"xCart[0]\",\"xCart[1]\",\"xCart[2]\"],\n",
    "        \"BSSN/xxCart.h\")\n",
    "\n",
    "# Register the Hamiltonian as a gridfunction, to be used later.\n",
    "H = gri.register_gridfunctions(\"AUX\",\"H\")"
   ]
  },
  {
   "cell_type": "markdown",
   "metadata": {},
   "source": [
    "## Import Shifted Kerr-Schild ADM initial data C function from the [BSSN.ShiftedKerrSchild](../edit/BSSN/ShiftedKerrSchild.py) NRPy+ module\n",
    "\n",
    "The [BSSN.ShiftedKerrSchild](../edit/BSSN/ShiftedKerrSchild.py) NRPy+ module does the following:\n",
    "\n",
    "1. Set up shifted Kerr-Schild initial data, represented by [ADM](https://en.wikipedia.org/wiki/ADM_formalism) quantities in the **Spherical basis**, as [documented here](Tutorial-ADM_Initial_Data-ShiftedKerrSchild.ipynb). \n",
    "1. Convert the exact ADM **Spherical quantities** to **BSSN quantities in the desired Curvilinear basis** (set by reference_metric::CoordSystem), as [documented here](Tutorial-ADM_Initial_Data-Converting_Numerical_ADM_Spherical_or_Cartesian_to_BSSNCurvilinear.ipynb).\n",
    "1. Sets up the standardized C function for setting all BSSN Curvilinear gridfunctions in a pointwise fashion, as [written here](../edit/BSSN/BSSN_ID_function_string.py), and returns the C function as a Python string."
   ]
  },
  {
   "cell_type": "code",
   "execution_count": 2,
   "metadata": {},
   "outputs": [],
   "source": [
    "# Import Shifted Kerr-Schild initial data\n",
    "import BSSN.ShiftedKerrSchild as sks\n",
    "returnfunction = sks.ShiftedKerrSchild()\n",
    "# Now output the Brill-Lindquist initial data to file:\n",
    "with open(\"BSSN/ShiftedKerrSchild.h\",\"w\") as file:\n",
    "    file.write(sks.returnfunction)"
   ]
  },
  {
   "cell_type": "markdown",
   "metadata": {},
   "source": [
    "## We will validate that the spinning black hole initial data satisfy the Hamiltonian constraint, modulo numerical finite differencing error\n",
    "\n",
    "### First output the Hamiltonian constraint:"
   ]
  },
  {
   "cell_type": "code",
   "execution_count": 3,
   "metadata": {
    "scrolled": true
   },
   "outputs": [
    {
     "name": "stdout",
     "output_type": "stream",
     "text": [
      "Generating optimized C code for Hamiltonian constraint. May take a while, depending on CoordSystem.\n",
      "Finished in 47.762197971343994 seconds.\n",
      "Output C implementation of Hamiltonian constraint to BSSN/Hamiltonian.h\n"
     ]
    }
   ],
   "source": [
    "import BSSN.BSSNConstraints as bssncon\n",
    "bssncon.output_C__Hamiltonian_h(add_T4UUmunu_source_terms=False)"
   ]
  },
  {
   "cell_type": "markdown",
   "metadata": {},
   "source": [
    "### Next apply singular, curvilinear coordinate boundary conditions [as documented in the corresponding NRPy+ tutorial module](Tutorial-Start_to_Finish-Curvilinear_BCs.ipynb)"
   ]
  },
  {
   "cell_type": "code",
   "execution_count": 4,
   "metadata": {
    "scrolled": false
   },
   "outputs": [
    {
     "name": "stdout",
     "output_type": "stream",
     "text": [
      "Wrote to file \"CurviBoundaryConditions/gridfunction_defines.h\"\n",
      "Wrote to file \"CurviBoundaryConditions/set_parity_conditions.h\"\n",
      "Wrote to file \"CurviBoundaryConditions/xxCart.h\"\n",
      "Wrote to file \"CurviBoundaryConditions/xxminmax.h\"\n",
      "Wrote to file \"CurviBoundaryConditions/Cart_to_xx.h\"\n"
     ]
    }
   ],
   "source": [
    "import CurviBoundaryConditions.CurviBoundaryConditions as cbcs\n",
    "cbcs.Set_up_CurviBoundaryConditions()"
   ]
  },
  {
   "cell_type": "markdown",
   "metadata": {},
   "source": [
    "### Then enforce conformal 3-metric $\\det{\\bar{\\gamma}_{ij}}=\\det{\\hat{\\gamma}_{ij}}$ constraint (Eq. 53 of [Ruchlin, Etienne, and Baumgarte (2018)](https://arxiv.org/abs/1712.07658)), as [documented in the corresponding NRPy+ tutorial module](Tutorial-BSSN-Enforcing_Determinant_gammabar_equals_gammahat_Constraint.ipynb)\n",
    "\n",
    "Applying curvilinear boundary conditions should affect the initial data at the outer boundary, and will in general cause the $\\det{\\bar{\\gamma}_{ij}}=\\det{\\hat{\\gamma}_{ij}}$ constraint to be violated there. Thus after we apply these boundary conditions, we must always call the routine for enforcing the $\\det{\\bar{\\gamma}_{ij}}=\\det{\\hat{\\gamma}_{ij}}$ constraint:"
   ]
  },
  {
   "cell_type": "code",
   "execution_count": 5,
   "metadata": {},
   "outputs": [
    {
     "name": "stdout",
     "output_type": "stream",
     "text": [
      "Output C implementation of det(gammabar) constraint to file BSSN/enforce_detgammabar_constraint.h\n"
     ]
    }
   ],
   "source": [
    "import BSSN.Enforce_Detgammabar_Constraint as EGC\n",
    "EGC.output_Enforce_Detgammabar_Constraint_Ccode()"
   ]
  },
  {
   "cell_type": "markdown",
   "metadata": {},
   "source": [
    "# Test_ShiftedKerrSchild_Playground.c: The Main C Code"
   ]
  },
  {
   "cell_type": "code",
   "execution_count": 6,
   "metadata": {},
   "outputs": [],
   "source": [
    "# Part P0: Set the number of ghost cells, from NRPy+'s FD_CENTDERIVS_ORDER\n",
    "with open(\"BSSN/NGHOSTS.h\", \"w\") as file:\n",
    "    file.write(\"// Part P0: Set the number of ghost zones, from NRPy+'s FD_CENTDERIVS_ORDER\\n\")\n",
    "    # Upwinding in BSSN requires that NGHOSTS = FD_CENTDERIVS_ORDER/2 + 1 <- Notice the +1.\n",
    "    file.write(\"#define NGHOSTS \"+str(int(par.parval_from_str(\"finite_difference::FD_CENTDERIVS_ORDER\")/2)+1)+\"\\n\")"
   ]
  },
  {
   "cell_type": "code",
   "execution_count": 7,
   "metadata": {},
   "outputs": [
    {
     "name": "stdout",
     "output_type": "stream",
     "text": [
      "Overwriting BSSN/Test_ShiftedKerrSchild.c\n"
     ]
    }
   ],
   "source": [
    "%%writefile BSSN/Test_ShiftedKerrSchild.c\n",
    "\n",
    "// Part P1: Import needed header files\n",
    "#include \"NGHOSTS.h\" // A NRPy+-generated file, which is set based on FD_CENTDERIVS_ORDER.\n",
    "#include \"stdio.h\"\n",
    "#include \"stdlib.h\"\n",
    "#include \"math.h\"\n",
    "\n",
    "// Part P2: Add needed #define's to set data type, the IDX4() macro, and the gridfunctions\n",
    "// Part P2a: set REAL=double, so that all floating point numbers are stored to at least ~16 significant digits.\n",
    "#define REAL double\n",
    "\n",
    "// Step P3: Set free parameters for the numerical grid\n",
    "const REAL xmin = -10.,xmax=10.;\n",
    "const REAL ymin = -10.,ymax=10.;\n",
    "const REAL zmin = -10.,zmax=10.;\n",
    "\n",
    "const REAL RMAX    = 5.0;\n",
    "const REAL AMPL    = 5.0;\n",
    "const REAL SINHW   = 0.125;\n",
    "const REAL t_final =  8.0; /* Final time is set so that at t=t_final, \n",
    "                            * data at the origin have not been corrupted \n",
    "                            * by the approximate outer boundary condition */\n",
    "const REAL CFL_FACTOR = 1.0; // Set the CFL Factor\n",
    "\n",
    "// Step P4: Set free parameters for the (spinning black hole) initial data\n",
    "const REAL M   = 1.0;\n",
    "const REAL a   = 0.9; //black hole spin\n",
    "\n",
    "// Step P4a: Set the needed ID_inputs struct.\n",
    "//           As these initial data need no additional\n",
    "//           information for set up, we populate the\n",
    "//           struct with a dummy variable.\n",
    "typedef struct __ID_inputs {\n",
    "    int dummy;\n",
    "} ID_inputs;\n",
    "\n",
    "// Part P4b: Declare the IDX4(gf,i,j,k) macro, which enables us to store 4-dimensions of\n",
    "//           data in a 1D array. In this case, consecutive values of \"i\" \n",
    "//           (all other indices held to a fixed value) are consecutive in memory, where \n",
    "//           consecutive values of \"j\" (fixing all other indices) are separated by \n",
    "//           Nxx_plus_2NGHOSTS[0] elements in memory. Similarly, consecutive values of\n",
    "//           \"k\" are separated by Nxx_plus_2NGHOSTS[0]*Nxx_plus_2NGHOSTS[1] in memory, etc.\n",
    "#define IDX4(g,i,j,k) \\\n",
    "( (i) + Nxx_plus_2NGHOSTS[0] * ( (j) + Nxx_plus_2NGHOSTS[1] * ( (k) + Nxx_plus_2NGHOSTS[2] * (g) ) ) )\n",
    "#define IDX3(i,j,k) ( (i) + Nxx_plus_2NGHOSTS[0] * ( (j) + Nxx_plus_2NGHOSTS[1] * (k) ) )\n",
    "// Assuming idx = IDX3(i,j,k). Much faster if idx can be reused over and over:\n",
    "#define IDX4pt(g,idx)   ( (idx) + (Nxx_plus_2NGHOSTS[0]*Nxx_plus_2NGHOSTS[1]*Nxx_plus_2NGHOSTS[2]) * (g) )\n",
    "\n",
    "// Part P4c: Set #define's for BSSN gridfunctions. C code generated above\n",
    "#include \"../CurviBoundaryConditions/gridfunction_defines.h\"\n",
    "\n",
    "#define LOOP_REGION(i0min,i0max, i1min,i1max, i2min,i2max) \\\n",
    "  for(int i2=i2min;i2<i2max;i2++) for(int i1=i1min;i1<i1max;i1++) for(int i0=i0min;i0<i0max;i0++)\n",
    "\n",
    "// Step P5: Function for converting uniform grid coord \n",
    "//         (xx[0][i0],xx[1][i1],xx[2][i2]) to \n",
    "//          corresponding Cartesian coordinate.\n",
    "void xxCart(REAL *xx[3],const int i0,const int i1,const int i2, REAL xCart[3]) {\n",
    "    REAL xx0 = xx[0][i0];\n",
    "    REAL xx1 = xx[1][i1];\n",
    "    REAL xx2 = xx[2][i2];\n",
    "#include \"xxCart.h\"\n",
    "}\n",
    "\n",
    "// Step P6: Include basic functions needed to impose curvilinear\n",
    "//          parity and boundary conditions.\n",
    "#include \"../CurviBoundaryConditions/curvilinear_parity_and_outer_boundary_conditions.h\"\n",
    "\n",
    "// Step P7: Function for enforcing the gammabar=gammahat constraint:\n",
    "#include \"enforce_detgammabar_constraint.h\"\n",
    "\n",
    "// Step P8: Set BSSN_ID() for BrillLindquist initial data\n",
    "#include \"ShiftedKerrSchild.h\"\n",
    "\n",
    "// Part P9: Declare the function for setting up initial data.\n",
    "void initial_data(const int Nxx_plus_2NGHOSTS[3],REAL *xx[3], REAL *in_gfs) {\n",
    "#pragma omp parallel for\n",
    "  LOOP_REGION(0,Nxx_plus_2NGHOSTS[0], 0,Nxx_plus_2NGHOSTS[1], 0,Nxx_plus_2NGHOSTS[2]) {\n",
    "    const int idx = IDX3(i0,i1,i2);\n",
    "    BSSN_ID(xx[0][i0],xx[1][i1],xx[2][i2],\n",
    "            &in_gfs[IDX4pt(HDD00GF,idx)],&in_gfs[IDX4pt(HDD01GF,idx)],&in_gfs[IDX4pt(HDD02GF,idx)],\n",
    "            &in_gfs[IDX4pt(HDD11GF,idx)],&in_gfs[IDX4pt(HDD12GF,idx)],&in_gfs[IDX4pt(HDD22GF,idx)],\n",
    "            &in_gfs[IDX4pt(ADD00GF,idx)],&in_gfs[IDX4pt(ADD01GF,idx)],&in_gfs[IDX4pt(ADD02GF,idx)],\n",
    "            &in_gfs[IDX4pt(ADD11GF,idx)],&in_gfs[IDX4pt(ADD12GF,idx)],&in_gfs[IDX4pt(ADD22GF,idx)],\n",
    "            &in_gfs[IDX4pt(TRKGF,idx)],\n",
    "            &in_gfs[IDX4pt(LAMBDAU0GF,idx)],&in_gfs[IDX4pt(LAMBDAU1GF,idx)],&in_gfs[IDX4pt(LAMBDAU2GF,idx)],\n",
    "            &in_gfs[IDX4pt(VETU0GF,idx)],&in_gfs[IDX4pt(VETU1GF,idx)],&in_gfs[IDX4pt(VETU2GF,idx)],\n",
    "            &in_gfs[IDX4pt(BETU0GF,idx)],&in_gfs[IDX4pt(BETU1GF,idx)],&in_gfs[IDX4pt(BETU2GF,idx)],\n",
    "            &in_gfs[IDX4pt(ALPHAGF,idx)],&in_gfs[IDX4pt(CFGF,idx)]);\n",
    "  }\n",
    "}\n",
    "    \n",
    "// Part P9: Declare function for computing the Hamiltonian\n",
    "//           constraint violation, which should converge to\n",
    "//           zero with increasing numerical resolution.\n",
    "void Hamiltonian_constraint(const int Nxx[3],const int Nxx_plus_2NGHOSTS[3],const REAL dxx[3], REAL *xx[3], \n",
    "                            REAL *in_gfs, REAL *aux_gfs) {\n",
    "#include \"Hamiltonian.h\"    \n",
    "}\n",
    "\n",
    "// main() function:\n",
    "// Step 0: Read command-line input, set up grid structure, allocate memory for gridfunctions, set up coordinates\n",
    "// Step 1: Set up scalar wave initial data\n",
    "// Step 2: Evolve scalar wave initial data forward in time using Method of Lines with RK4 algorithm,\n",
    "//         applying quadratic extrapolation outer boundary conditions.\n",
    "// Step 3: Output relative error between numerical and exact solution.\n",
    "// Step 4: Free all allocated memory\n",
    "int main(int argc, const char *argv[]) {\n",
    "    // Step 0a: Read command-line input, error out if nonconformant\n",
    "    if(argc != 4 || atoi(argv[1]) < NGHOSTS || atoi(argv[2]) < NGHOSTS || atoi(argv[3]) < 2 /* FIXME; allow for axisymmetric sims */) {\n",
    "        fprintf(stderr,\"Error: Expected three command-line arguments: ./BrillLindquist_Playground Nx0 Nx1 Nx2,\\n\");\n",
    "        fprintf(stderr,\"where Nx[0,1,2] is the number of grid points in the 0, 1, and 2 directions.\\n\");\n",
    "        fprintf(stderr,\"Nx[] MUST BE larger than NGHOSTS (= %d)\\n\",NGHOSTS);\n",
    "        exit(1);\n",
    "    }\n",
    "    // Step 0b: Set up numerical grid structure, first in space...\n",
    "    const int Nxx[3] = { atoi(argv[1]), atoi(argv[2]), atoi(argv[3]) };\n",
    "    if(Nxx[0]%2 != 0 || Nxx[1]%2 != 0 || Nxx[2]%2 != 0) {\n",
    "        fprintf(stderr,\"Error: Cannot guarantee a proper cell-centered grid if number of grid cells not set to even number.\\n\");\n",
    "        fprintf(stderr,\"       For example, in case of angular directions, proper symmetry zones will not exist.\\n\");\n",
    "        exit(1);\n",
    "    }\n",
    "    const int Nxx_plus_2NGHOSTS[3] = { Nxx[0]+2*NGHOSTS, Nxx[1]+2*NGHOSTS, Nxx[2]+2*NGHOSTS };\n",
    "    const int Nxx_plus_2NGHOSTS_tot = Nxx_plus_2NGHOSTS[0]*Nxx_plus_2NGHOSTS[1]*Nxx_plus_2NGHOSTS[2];\n",
    "#include \"xxminmax.h\"\n",
    "    \n",
    "    ID_inputs dummy;\n",
    "\n",
    "    // Step 0c: Allocate memory for gridfunctions\n",
    "    REAL *evol_gfs = (REAL *)malloc(sizeof(REAL) * NUM_EVOL_GFS * Nxx_plus_2NGHOSTS_tot);\n",
    "    REAL *aux_gfs  = (REAL *)malloc(sizeof(REAL) * NUM_AUX_GFS * Nxx_plus_2NGHOSTS_tot);\n",
    "\n",
    "    // Step 0d: Set up space and time coordinates\n",
    "    // Step 0d.i: Set \\Delta x^i on uniform grids.\n",
    "    REAL dxx[3];\n",
    "    for(int i=0;i<3;i++) dxx[i] = (xxmax[i] - xxmin[i]) / ((REAL)Nxx[i]);\n",
    "\n",
    "    // Step 0d.ii: Set up uniform coordinate grids\n",
    "    REAL *xx[3];\n",
    "    for(int i=0;i<3;i++) {\n",
    "        xx[i] = (REAL *)malloc(sizeof(REAL)*Nxx_plus_2NGHOSTS[i]);\n",
    "        for(int j=0;j<Nxx_plus_2NGHOSTS[i];j++) {\n",
    "            xx[i][j] = xxmin[i] + ((REAL)(j-NGHOSTS) + (1.0/2.0))*dxx[i]; // Cell-centered grid.\n",
    "        }\n",
    "    }\n",
    "\n",
    "    // Step 0e: Find ghostzone mappings and parities:\n",
    "    gz_map *bc_gz_map = (gz_map *)malloc(sizeof(gz_map)*Nxx_plus_2NGHOSTS_tot);\n",
    "    parity_condition *bc_parity_conditions = (parity_condition *)malloc(sizeof(parity_condition)*Nxx_plus_2NGHOSTS_tot);\n",
    "    set_up_bc_gz_map_and_parity_conditions(Nxx_plus_2NGHOSTS,xx,dxx,xxmin,xxmax,  bc_gz_map, bc_parity_conditions);\n",
    "\n",
    "    // Step 1: Set up initial data to an exact solution at time=0:\n",
    "    initial_data(Nxx_plus_2NGHOSTS, xx, evol_gfs);\n",
    "\n",
    "    // Step 1b: Apply boundary conditions, as initial data \n",
    "    //          are sometimes ill-defined in ghost zones.\n",
    "    //          E.g., spherical initial data might not be\n",
    "    //          properly defined at points where r=-1.\n",
    "    apply_bcs(Nxx, Nxx_plus_2NGHOSTS, bc_gz_map,bc_parity_conditions,NUM_EVOL_GFS,evol_gf_parity, evol_gfs);\n",
    "    enforce_detgammabar_constraint(Nxx_plus_2NGHOSTS, xx, evol_gfs);\n",
    "        \n",
    "    // Step 2: Evaluate Hamiltonian constraint violation\n",
    "    Hamiltonian_constraint(Nxx,Nxx_plus_2NGHOSTS,dxx, xx, evol_gfs, aux_gfs);\n",
    "\n",
    "    /* Step 3: Output relative error between numerical and exact solution, */\n",
    "    const int i0MIN=NGHOSTS; // In spherical, r=Delta r/2.\n",
    "    const int i1mid=Nxx_plus_2NGHOSTS[1]/2;\n",
    "    const int i2mid=Nxx_plus_2NGHOSTS[2]/2;\n",
    "    LOOP_REGION(NGHOSTS,Nxx_plus_2NGHOSTS[0]-NGHOSTS, i1mid,i1mid+1, NGHOSTS,Nxx_plus_2NGHOSTS[2]-NGHOSTS) {\n",
    "        REAL xx0 = xx[0][i0];\n",
    "        REAL xx1 = xx[1][i1];\n",
    "        REAL xx2 = xx[2][i2];\n",
    "        REAL xCart[3];\n",
    "#include \"xxCart.h\"\n",
    "        int idx = IDX3(i0,i1,i2);\n",
    "        printf(\"%e %e %e %e\\n\",xCart[0],xCart[1], evol_gfs[IDX4pt(CFGF,idx)],log10(fabs(aux_gfs[IDX4pt(HGF,idx)])));\n",
    "        //     printf(\"%e %e %e %e %e %e %e %e %e\\n\",xCart[0],xCart[1],xCart[2], aux_gfs[IDX4pt(HGF,idx)],evol_gfs[IDX4pt(CFGF,idx)],\n",
    "        //            evol_gfs[IDX4pt(ALPHAGF,idx)],evol_gfs[IDX4pt(VETU0GF,idx)],evol_gfs[IDX4pt(HDD00GF,idx)],\n",
    "        //            evol_gfs[IDX4pt(LAMBDAU0GF,idx)]);\n",
    "    }\n",
    "\n",
    "    /* Step 4: Free all allocated memory */\n",
    "    free(aux_gfs);\n",
    "    free(evol_gfs);\n",
    "    for(int i=0;i<3;i++) free(xx[i]);\n",
    "    return 0;\n",
    "}"
   ]
  },
  {
   "cell_type": "code",
   "execution_count": 8,
   "metadata": {},
   "outputs": [
    {
     "name": "stderr",
     "output_type": "stream",
     "text": [
      "'rm' is not recognized as an internal or external command,\n",
      "operable program or batch file.\n",
      "'gcc' is not recognized as an internal or external command,\n",
      "operable program or batch file.\n",
      "'taskset' is not recognized as an internal or external command,\n",
      "operable program or batch file.\n"
     ]
    }
   ],
   "source": [
    "!rm -f Test_ShidtedKerrSchild_Playground test96.txt \n",
    "!gcc -Ofast -march=native -ftree-parallelize-loops=2 -fopenmp BSSN/Test_ShiftedKerrSchild.c -o Test_ShiftedKerrSchild_Playground -lm\n",
    "!taskset -c 0,1 ./Test_ShiftedKerrShild_Playground 96 96 96 > test96.txt"
   ]
  },
  {
   "cell_type": "markdown",
   "metadata": {},
   "source": [
    "## Now plot the single-black-hole initial data\n",
    "\n",
    "Here we plot the evolved conformal factor of these initial data on a 2D grid, such that darker colors imply stronger gravitational fields. Hence, we see the single black holes centered at the origin: $x/M=y/M=z/M=0$, where $M$ is an arbitrary mass scale (conventionally the [ADM mass](https://en.wikipedia.org/w/index.php?title=ADM_formalism&oldid=846335453) is chosen), and our formulation of Einstein's equations adopt $G=c=1$ [geometrized units](https://en.wikipedia.org/w/index.php?title=Geometrized_unit_system&oldid=861682626)."
   ]
  },
  {
   "cell_type": "code",
   "execution_count": 9,
   "metadata": {},
   "outputs": [
    {
     "name": "stderr",
     "output_type": "stream",
     "text": [
      "The system cannot find the path specified.\n"
     ]
    }
   ],
   "source": [
    "!pip install scipy > /dev/null"
   ]
  },
  {
   "cell_type": "code",
   "execution_count": 10,
   "metadata": {},
   "outputs": [
    {
     "name": "stderr",
     "output_type": "stream",
     "text": [
      "C:\\ProgramData\\Anaconda3\\lib\\site-packages\\ipykernel_launcher.py:8: UserWarning: loadtxt: Empty input file: \"test96.txt\"\n",
      "  \n"
     ]
    },
    {
     "ename": "ValueError",
     "evalue": "not enough values to unpack (expected 4, got 0)",
     "output_type": "error",
     "traceback": [
      "\u001b[1;31m---------------------------------------------------------------------------\u001b[0m",
      "\u001b[1;31mValueError\u001b[0m                                Traceback (most recent call last)",
      "\u001b[1;32m<ipython-input-10-5dab3696b3a6>\u001b[0m in \u001b[0;36m<module>\u001b[1;34m()\u001b[0m\n\u001b[0;32m      6\u001b[0m \u001b[1;32mfrom\u001b[0m \u001b[0mIPython\u001b[0m\u001b[1;33m.\u001b[0m\u001b[0mdisplay\u001b[0m \u001b[1;32mimport\u001b[0m \u001b[0mImage\u001b[0m\u001b[1;33m\u001b[0m\u001b[0m\n\u001b[0;32m      7\u001b[0m \u001b[1;33m\u001b[0m\u001b[0m\n\u001b[1;32m----> 8\u001b[1;33m \u001b[0mx96\u001b[0m\u001b[1;33m,\u001b[0m\u001b[0my96\u001b[0m\u001b[1;33m,\u001b[0m\u001b[0mvaluesCF96\u001b[0m\u001b[1;33m,\u001b[0m\u001b[0mvaluesHam96\u001b[0m \u001b[1;33m=\u001b[0m \u001b[0mnp\u001b[0m\u001b[1;33m.\u001b[0m\u001b[0mloadtxt\u001b[0m\u001b[1;33m(\u001b[0m\u001b[1;34m'test96.txt'\u001b[0m\u001b[1;33m)\u001b[0m\u001b[1;33m.\u001b[0m\u001b[0mT\u001b[0m \u001b[1;31m#Transposed for easier unpacking\u001b[0m\u001b[1;33m\u001b[0m\u001b[0m\n\u001b[0m\u001b[0;32m      9\u001b[0m \u001b[1;33m\u001b[0m\u001b[0m\n\u001b[0;32m     10\u001b[0m \u001b[1;33m\u001b[0m\u001b[0m\n",
      "\u001b[1;31mValueError\u001b[0m: not enough values to unpack (expected 4, got 0)"
     ]
    }
   ],
   "source": [
    "import numpy as np\n",
    "from scipy.interpolate import griddata\n",
    "from pylab import savefig\n",
    "import matplotlib.pyplot as plt\n",
    "import matplotlib.cm as cm\n",
    "from IPython.display import Image\n",
    "\n",
    "x96,y96,valuesCF96,valuesHam96 = np.loadtxt('test96.txt').T #Transposed for easier unpacking\n",
    "\n",
    "\n",
    "pl_xmin = -3.\n",
    "pl_xmax = +3.\n",
    "pl_ymin = -3.\n",
    "pl_ymax = +3.\n",
    "\n",
    "grid_x, grid_y = np.mgrid[pl_xmin:pl_xmax:100j, pl_ymin:pl_ymax:100j]\n",
    "points96 = np.zeros((len(x96), 2))\n",
    "for i in range(len(x96)):\n",
    "    points96[i][0] = x96[i]\n",
    "    points96[i][1] = y96[i]\n",
    "\n",
    "grid96 = griddata(points96, valuesCF96, (grid_x, grid_y), method='nearest')\n",
    "grid96cub = griddata(points96, valuesCF96, (grid_x, grid_y), method='cubic')\n",
    "\n",
    "plt.clf()\n",
    "plt.title(\"Test Initial Data\")\n",
    "plt.xlabel(\"x/M\")\n",
    "plt.ylabel(\"y/M\")\n",
    "\n",
    "# fig, ax = plt.subplots()\n",
    "# ax.plot(grid96cub.T, extent=(pl_xmin,pl_xmax, pl_ymin,pl_ymax))\n",
    "plt.imshow(grid96cub.T, extent=(pl_xmin,pl_xmax, pl_ymin,pl_ymax))\n",
    "savefig(\"test.png\")\n",
    "plt.close()\n",
    "from IPython.display import Image\n",
    "Image(\"test.png\")\n",
    "# #           interpolation='nearest', cmap=cm.gist_rainbow)"
   ]
  },
  {
   "cell_type": "markdown",
   "metadata": {},
   "source": [
    "## Validation: Convergence of numerical errors (Hamiltonian constraint violation) to zero\n",
    "\n",
    "The equations behind these initial data solve Einstein's equations exactly, at a single instant in time. One reflection of this solution is that the Hamiltonian constraint violation should be exactly zero in the initial data. \n",
    "\n",
    "However, when evaluated on numerical grids, the Hamiltonian constraint violation will *not* generally evaluate to zero due to the associated numerical derivatives not being exact. However, these numerical derivatives (finite difference derivatives in this case) should *converge* to the exact derivatives as the density of numerical sampling points approaches infinity.\n",
    "\n",
    "In this case, all of our finite difference derivatives agree with the exact solution, with an error term that drops with the uniform gridspacing to the fourth power: $\\left(\\Delta x^i\\right)^4$. \n",
    "\n",
    "Here, as in the [Start-to-Finish Scalar Wave (Cartesian grids) NRPy+ tutorial](Tutorial-Start_to_Finish-ScalarWave.ipynb) and the [Start-to-Finish Scalar Wave (curvilinear grids) NRPy+ tutorial](Tutorial-Start_to_Finish-ScalarWaveCurvilinear.ipynb) we confirm this convergence.\n",
    "\n",
    "First, let's take a look at what the numerical error looks like on the x-y plane at a given numerical resolution, plotting $\\log_{10}|H|$, where $H$ is the Hamiltonian constraint violation:"
   ]
  },
  {
   "cell_type": "code",
   "execution_count": null,
   "metadata": {},
   "outputs": [],
   "source": [
    "grid96 = griddata(points96, valuesHam96, (grid_x, grid_y), method='nearest')\n",
    "grid96cub = griddata(points96, valuesHam96, (grid_x, grid_y), method='cubic')\n",
    "\n",
    "# fig, ax = plt.subplots()\n",
    "\n",
    "plt.clf()\n",
    "plt.title(\"96^3 Numerical Err.: log_{10}|Ham|\")\n",
    "plt.xlabel(\"x/M\")\n",
    "plt.ylabel(\"y/M\")\n",
    "\n",
    "fig96cub = plt.imshow(grid96cub.T, extent=(pl_xmin,pl_xmax, pl_ymin,pl_ymax))\n",
    "cb = plt.colorbar(fig96cub)"
   ]
  },
  {
   "cell_type": "markdown",
   "metadata": {},
   "source": [
    "Next, we set up the same initial data but on a lower-resolution, $48^3$ grid. Since the constraint violation (numerical error associated with the fourth-order-accurate, finite-difference derivatives) should converge to zero with the uniform gridspacing to the fourth power: $\\left(\\Delta x^i\\right)^4$, we expect the constraint violation will increase (relative to the $96^3$ grid) by a factor of $\\left(96/48\\right)^4$. Here we demonstrate that indeed this order of convergence is observed as expected. I.e., at all points *except* at the points immediately surrounding the coordinate center of the black hole (due to the spatial slice excising the physical singularity at this point through [the puncture method](http://gr.physics.ncsu.edu/UMD_June09.pdf)) exhibit numerical errors that drop as $\\left(\\Delta x^i\\right)^4$."
   ]
  },
  {
   "cell_type": "code",
   "execution_count": null,
   "metadata": {},
   "outputs": [],
   "source": [
    "!rm -f test48.txt \n",
    "!taskset -c 0,1 ./Test_ShiftedKerrSchild_Playground 48 48 48 > test48.txt\n",
    "\n",
    "x48,y48,valuesCF48,valuesHam48 = np.loadtxt('test48.txt').T #Transposed for easier unpacking\n",
    "points48 = np.zeros((len(x48), 2))\n",
    "for i in range(len(x48)):\n",
    "    points48[i][0] = x48[i]\n",
    "    points48[i][1] = y48[i]\n",
    "\n",
    "grid48 = griddata(points48, valuesHam48, (grid_x, grid_y), method='nearest')\n",
    "\n",
    "griddiff_48_minus_96 = np.zeros((100,100))\n",
    "griddiff_48_minus_96_1darray = np.zeros(100*100)\n",
    "gridx_1darray_yeq0 = np.zeros(100)\n",
    "grid48_1darray_yeq0 = np.zeros(100)\n",
    "grid96_1darray_yeq0 = np.zeros(100)\n",
    "count = 0\n",
    "for i in range(100):\n",
    "    for j in range(100):\n",
    "        griddiff_48_minus_96[i][j] = grid48[i][j] - grid96[i][j]\n",
    "        griddiff_48_minus_96_1darray[count] = griddiff_48_minus_96[i][j]\n",
    "        if j==49:\n",
    "            gridx_1darray_yeq0[i] = grid_x[i][j]\n",
    "            grid48_1darray_yeq0[i] = grid48[i][j] + np.log10((48./96.)**4)\n",
    "            grid96_1darray_yeq0[i] = grid96[i][j]\n",
    "        count = count + 1\n",
    "\n",
    "plt.clf()\n",
    "fig, ax = plt.subplots()\n",
    "plt.title(\"Plot Demonstrating 4th-order Convergence\")\n",
    "plt.xlabel(\"x/M\")\n",
    "plt.ylabel(\"log10(Relative error)\")\n",
    "\n",
    "ax.plot(gridx_1darray_yeq0, grid96_1darray_yeq0, 'k-', label='Nr=96')\n",
    "ax.plot(gridx_1darray_yeq0, grid48_1darray_yeq0, 'k--', label='Nr=48, mult by (48/96)^4')\n",
    "ax.set_ylim([-13,1.])\n",
    "\n",
    "legend = ax.legend(loc='lower right', shadow=True, fontsize='x-large')\n",
    "legend.get_frame().set_facecolor('C1')\n",
    "plt.show()"
   ]
  }
 ],
 "metadata": {
  "kernelspec": {
   "display_name": "Python 3",
   "language": "python",
   "name": "python3"
  },
  "language_info": {
   "codemirror_mode": {
    "name": "ipython",
    "version": 3
   },
   "file_extension": ".py",
   "mimetype": "text/x-python",
   "name": "python",
   "nbconvert_exporter": "python",
   "pygments_lexer": "ipython3",
   "version": "3.7.0"
  }
 },
 "nbformat": 4,
 "nbformat_minor": 2
}
