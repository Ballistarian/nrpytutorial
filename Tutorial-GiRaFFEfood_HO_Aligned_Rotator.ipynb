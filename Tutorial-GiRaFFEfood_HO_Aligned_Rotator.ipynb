{
 "cells": [
  {
   "cell_type": "markdown",
   "metadata": {},
   "source": [
    "<a id='top'></a>\n",
    "\n",
    "\n",
    "# $\\texttt{GiRaFFEfood}$: Initial data for $\\texttt{GiRaFFE}$\n",
    "\n",
    "## Aligned Rotator\n",
    "\n",
    "$$\\label{top}$$\n",
    "\n",
    "This module provides another initial data option for $\\texttt{GiRaFFE}$. This is a flat-spacetime test with initial data $$A_{\\phi} = \\frac{\\mu \\varpi}{r^3},$$ where  $\\mu = B_p R_{\\rm NS} / 2$, $R_{\\rm NS}$ is the neutron star radius, and $\\varpi = \\sqrt{x^2+y^2}$ is the cylindrical radius. We let $A_r = A_\\theta = 0$.\n",
    "\n",
    "Additionally, the drift velocity $v^i = \\Omega \\textbf{e}_z \\times \\textbf{r} = [ijk] \\Omega \\textbf{e}^j_z x^k$, where $[ijk]$ is the Levi-Civita permutation symbol and $\\textbf{e}^i_z = (0,0,1)$."
   ]
  },
  {
   "cell_type": "markdown",
   "metadata": {},
   "source": [
    "<a id='preliminaries'></a>\n",
    "\n",
    "### Steps 0-1: Preliminaries\n",
    "$$\\label{preliminaries}$$\n",
    "\n",
    "\\[Back to [top](#top)\\]\n",
    "\n",
    "Here, we will import the NRPy+ core modules and set the reference metric to Cartesian, set commonly used NRPy+ parameters, and set C parameters that will be set from outside the code eventually generated from these expressions. We will also set up a parameter to determine what initial data is set up, although it won't do much yet."
   ]
  },
  {
   "cell_type": "code",
   "execution_count": 1,
   "metadata": {},
   "outputs": [],
   "source": [
    "# Step 0: Import the NRPy+ core modules and set the reference metric to Cartesian\n",
    "import NRPy_param_funcs as par\n",
    "import indexedexp as ixp\n",
    "import grid as gri\n",
    "import finite_difference as fin\n",
    "from outputC import *\n",
    "import loop\n",
    "\n",
    "import reference_metric as rfm\n",
    "par.set_parval_from_str(\"reference_metric::CoordSystem\",\"Cartesian\")\n",
    "rfm.reference_metric()\n",
    "\n",
    "# Step 1a: Set commonly used parameters.\n",
    "thismodule = \"GiRaFFEfood_HO_Aligned_Rotator\"\n",
    "# Set the spatial dimension parameter to 3.\n",
    "par.set_parval_from_str(\"grid::DIM\", 3)\n",
    "DIM = par.parval_from_str(\"grid::DIM\")\n",
    "\n",
    "B_p_aligned_rotator,R_NS_aligned_rotator = par.Cparameters(\"REAL\",thismodule,[\"B_p_aligned_rotator\",\"R_NS_aligned_rotator\"]) # A constant defining the intensity of the magnetic field and the Neutron star Radius\n"
   ]
  },
  {
   "cell_type": "markdown",
   "metadata": {},
   "source": [
    "<a id='step2'></a>\n",
    "\n",
    "### Step 2: Set the vectors A in Spherical coordinates\n",
    "$$\\label{step2}$$\n",
    "\n",
    "\\[Back to [top](#top)\\]\n",
    "\n",
    "We will first build the fundamental vector $A_i$ in spherical coordinates (see [Table 3](https://arxiv.org/pdf/1704.00599.pdf)). Note that we use reference_metric.py to set $r$ and $\\theta$ in terms of Cartesian coordinates; this will save us a step later when we convert to Cartesian coordinates. So, we set \n",
    "\\begin{align}\n",
    "A_{\\phi} &= \\frac{\\mu \\varpi}{r^3}, \\\\\n",
    "\\end{align}\n",
    "with $\\mu = B_p R_{\\rm NS} / 2$, $R_{\\rm NS}$ is the neutron star radius, and $\\varpi = \\sqrt{x^2+y^2}$"
   ]
  },
  {
   "cell_type": "code",
   "execution_count": 2,
   "metadata": {},
   "outputs": [],
   "source": [
    "r     = rfm.xxSph[0]\n",
    "varpi = sp.sqrt(rfm.xxCart[0]**2 + rfm.xxCart[1]**2)\n",
    "\n",
    "mu = B_p_aligned_rotator * R_NS_aligned_rotator / 2\n",
    "\n",
    "ASphD = ixp.zerorank1()\n",
    "\n",
    "ASphD[2] = mu * varpi / (r**3) # The other components were already declared to be 0.\n"
   ]
  },
  {
   "cell_type": "markdown",
   "metadata": {},
   "source": [
    "<a id='step3'></a>\n",
    "\n",
    "### Step 3: Use the Jacobian matrix to transform the vectors to Cartesian coordinates.\n",
    "$$\\label{step3}$$\n",
    "\n",
    "\\[Back to [top](#top)\\]\n",
    "\n",
    "Now, we will use the coordinate transformation definitions provided by reference_metric.py to build the Jacobian \n",
    "$$ \n",
    "\\frac{\\partial x_{\\rm Sph}^j}{\\partial x_{\\rm Cart}^i},\n",
    "$$ \n",
    "where $x_{\\rm Sph}^j \\in \\{r,\\theta,\\phi\\}$ and $x_{\\rm Cart}^i \\in \\{x,y,z\\}$. We would normally compute its inverse, but since none of the quantities we need to transform have upper indices, it is not necessary. Then, since $A_i$ and has one lower index, it will need to be multiplied by the Jacobian:\n",
    "\n",
    "$$\n",
    "A_i^{\\rm Cart} = A_j^{\\rm Sph} \\frac{\\partial x_{\\rm Sph}^j}{\\partial x_{\\rm Cart}^i},\n",
    "$$"
   ]
  },
  {
   "cell_type": "code",
   "execution_count": 3,
   "metadata": {},
   "outputs": [],
   "source": [
    "# Step 3: Use the Jacobian matrix to transform the vectors to Cartesian coordinates.\n",
    "drrefmetric__dx_0UDmatrix = sp.Matrix([[sp.diff(rfm.xxSph[0],rfm.xx[0]), sp.diff(rfm.xxSph[0],rfm.xx[1]), sp.diff(rfm.xxSph[0],rfm.xx[2])],\n",
    "                                       [sp.diff(rfm.xxSph[1],rfm.xx[0]), sp.diff(rfm.xxSph[1],rfm.xx[1]), sp.diff(rfm.xxSph[1],rfm.xx[2])],\n",
    "                                       [sp.diff(rfm.xxSph[2],rfm.xx[0]), sp.diff(rfm.xxSph[2],rfm.xx[1]), sp.diff(rfm.xxSph[2],rfm.xx[2])]])\n",
    "#dx__drrefmetric_0UDmatrix = drrefmetric__dx_0UDmatrix.inv() # We don't actually need this in this case.\n",
    "\n",
    "AD = ixp.register_gridfunctions_for_single_rank1(\"AUX\",\"AD\")\n",
    "for i in range(DIM):\n",
    "    for j in range(DIM):\n",
    "        AD[i] = drrefmetric__dx_0UDmatrix[(j,i)]*ASphD[j]\n"
   ]
  },
  {
   "cell_type": "markdown",
   "metadata": {},
   "source": [
    "<a id='step4'></a>\n",
    "\n",
    "### Step 4: Calculate $v^i$\n",
    "$$\\label{step4}$$\n",
    "\n",
    "\\[Back to [top](#top)\\]\n",
    "\n",
    "Here, we will calculate the drift velocity $v^i = \\Omega \\textbf{e}_z \\times \\textbf{r} = [ijk] \\Omega \\textbf{e}^j_z x^k$, where $[ijk]$ is the Levi-Civita permutation symbol and $\\textbf{e}^i_z = (0,0,1)$."
   ]
  },
  {
   "cell_type": "code",
   "execution_count": null,
   "metadata": {},
   "outputs": [],
   "source": [
    "# Step 4: Calculate v^i\n",
    "# Here, we build the Levi-Civita tensor from the Levi-Civita symbol.\n",
    "import WeylScal4NRPy.WeylScalars_Cartesian as weyl\n",
    "LeviCivitaSymbolDDD = weyl.define_LeviCivitaSymbol_rank3()\n",
    "\n",
    "Omega_aligned_rotator = par.Cparameters(\"REAL\",thismodule,\"Omega_aligned_rotator\") # The angular velocity of the NS\n",
    "unit_zU = ixp.zerorank1()\n",
    "unit_zU[2] = 1\n",
    "\n",
    "ValenciavU = ixp.zerorank1()\n",
    "for i in range(DIM):\n",
    "    for j in range(DIM):\n",
    "        for k in range(DIM):\n",
    "            ValenciavU[i] += LeviCivitaSymbolDDD[i][j][k] * Omega_aligned_rotator * unit_zU[j] * xx[k]"
   ]
  }
 ],
 "metadata": {
  "kernelspec": {
   "display_name": "Python 2",
   "language": "python",
   "name": "python2"
  },
  "language_info": {
   "codemirror_mode": {
    "name": "ipython",
    "version": 2
   },
   "file_extension": ".py",
   "mimetype": "text/x-python",
   "name": "python",
   "nbconvert_exporter": "python",
   "pygments_lexer": "ipython2",
   "version": "2.7.13"
  }
 },
 "nbformat": 4,
 "nbformat_minor": 2
}
