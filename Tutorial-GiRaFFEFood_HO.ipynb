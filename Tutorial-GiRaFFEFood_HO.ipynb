{
 "cells": [
  {
   "cell_type": "markdown",
   "metadata": {},
   "source": [
    "$\\newcommand{\\giraffe}{\\texttt{GiRaFFE}}$\n",
    "$\\newcommand{\\gf}{\\texttt{GiRaFFEFood}}$\n",
    "# $\\gf$: Initial data for $\\giraffe$\n",
    "\n",
    "With the $\\giraffe$ evolution thorn constructed, we now need to \"feed\" our giraffe with initial data to evolve. While there are several different choices of initial data we can use here, for the moment, we will only be implementing the \"Exact Wald\" initial data, given by Table 3 in [the original paper](https://arxiv.org/pdf/1704.00599.pdf):\n",
    "\\begin{align}\n",
    "A_{\\phi} &= \\frac{C_0}{2} r^2 \\sin^2 \\theta \\\\\n",
    "E_{\\phi} &= 2 M C_0 \\left( 1+ \\frac {2M}{r} \\right)^{-1/2} \\sin^2 \\theta \\\\\n",
    "\\end{align}\n",
    "(the unspecified components are set to 0). Here, $C_0$ is a constant set to $1$ in our simulations. Now, to use this initial data scheme, we need to transform it into the quantities actually tracked by $\\giraffe$ and HydroBase: $A_i$, $B^i$, $S_i$, $v^i$, and $\\Phi$. This can be done with eqs. 14, 16, and 18, here given in that same order:\n",
    "\\begin{align}\n",
    "S_\\mu &= -n_\\nu T^\\nu_{{\\rm EM} \\mu} \\\\\n",
    "v^i &= 4 \\pi \\alpha \\frac{\\gamma^{ij} \\tilde{S}_j}{\\sqrt{\\gamma} B^2} - \\beta^i \\\\\n",
    "B^i &= \\frac{[ijk]}{\\sqrt{\\gamma}} \\partial_j A_k \\\\\n",
    "\\end{align}\n",
    "-Is this a circular dependency? $\\tilde{S}_\\mu$ depends on $T^\\nu_{{\\rm EM} \\mu}$ which depends on the velocity, but the velocity depends on $\\tilde{S}_\\mu$.\n",
    "\n",
    "**Zach says:** Check out lines 98-131 in the [original GiRaFFEfood implementation of ExactWald](https://bitbucket.org/zach_etienne/wvuthorns/src/62866e19058cd2477ee88d3a7fb259d5cfc2781a/GiRaFFEfood/src/ExactWald.cc?at=master&fileviewer=file-view-default). You will see that only $A_i$ and $v^i=u^i/u^0$ (not the Valencia 3-velocity that we must specify) are set. Then in the [ID\\_Converter\\_GiRaFFE](https://bitbucket.org/zach_etienne/wvuthorns/src/62866e19058cd2477ee88d3a7fb259d5cfc2781a/ID_converter_GiRaFFE/src/set_GiRaFFE_metric_GRMHD_variables_based_on_HydroBase_and_ADMBase_variables.C?at=master&fileviewer=file-view-default), $B^i$ and $\\tilde{S}_i$ are set based on these quantities. I think that we should have in our version of GiRaFFE a function that computes $\\tilde{S}_i$ from $B^i$, $v^i$, and metric quantities."
   ]
  },
  {
   "cell_type": "code",
   "execution_count": 1,
   "metadata": {},
   "outputs": [],
   "source": [
    "# Step 0: Import the NRPy+ core modules and set the reference metric to Cartesian\n",
    "import NRPy_param_funcs as par\n",
    "import indexedexp as ixp\n",
    "import grid as gri\n",
    "import finite_difference as fin\n",
    "from outputC import *\n",
    "import loop\n",
    "\n",
    "import reference_metric as rfm\n",
    "par.set_parval_from_str(\"reference_metric::CoordSystem\",\"Cartesian\")\n",
    "rfm.reference_metric()\n",
    "\n",
    "# Step 1a: Set commonly used parameters.\n",
    "thismodule = \"GiRaFFEFood_HO\"\n",
    "# Set the spatial dimension parameter to 3.\n",
    "par.set_parval_from_str(\"grid::DIM\", 3)\n",
    "DIM = par.parval_from_str(\"grid::DIM\")\n",
    "\n",
    "# Create a parameter to control the initial data choice. For now, this will only have Exact Wald as an option.\n",
    "par.initialize_param(par.glb_param(\"char\", thismodule, \"IDchoice\", \"Exact_Wald\"))\n",
    "\n",
    "# Step 1b: Set Cparameters we need to use and the gridfunctions we'll need.\n",
    "M,M_PI = par.Cparameters(\"REAL\",thismodule,[\"M\",\"M_PI\"]) # The mass of the black hole\n",
    "StildeD = ixp.register_gridfunctions_for_single_rank1(\"AUX\",\"StildeD\")\n",
    "ValenciavU = ixp.register_gridfunctions_for_single_rank1(\"AUX\",\"ValenciavU\")\n",
    "BU = ixp.register_gridfunctions_for_single_rank1(\"AUX\",\"BU\")\n"
   ]
  },
  {
   "cell_type": "markdown",
   "metadata": {},
   "source": [
    "We will first build the fundamental vectors $A_i$ and $E_i$ in spherical coordinates. Note that we use reference_metric.py to set $r$ and $\\theta$ in terms of Cartesian coordinates.\n",
    "\\begin{align}\n",
    "A_{\\phi} &= \\frac{C_0}{2} r^2 \\sin^2 \\theta \\\\\n",
    "E_{\\phi} &= 2 M C_0 \\left( 1+ \\frac {2M}{r} \\right)^{-1/2} \\sin^2 \\theta \\\\\n",
    "\\end{align}\n"
   ]
  },
  {
   "cell_type": "code",
   "execution_count": 2,
   "metadata": {},
   "outputs": [],
   "source": [
    "# Step 2: Set the vectors A and E in Spherical coordinates\n",
    "AsphD = ixp.zerorank1()\n",
    "EsphD = ixp.zerorank1()\n",
    "\n",
    "# The r and theta components (0 and 1) are now 0\n",
    "r     = rfm.xxSph[0]\n",
    "theta = rfm.xxSph[1]\n",
    "\n",
    "IDchoice = par.parval_from_str(\"IDchoice\")\n",
    "\n",
    "if IDchoice is \"Exact_Wald\":\n",
    "    AsphD[2] = (r * r * sp.sin(theta)**2)/2\n",
    "    EsphD[2] = 2 * M * sp.sin(theta)**2 / sp.sqrt(1+2*M/r)\n",
    "else:\n",
    "    print(\"Error: IDchoice == \"+par.parval_from_str(\"IDchoice\")+\" unsupported!\")\n",
    "    exit(1)"
   ]
  },
  {
   "cell_type": "markdown",
   "metadata": {},
   "source": [
    "Now, we will use the coordinate transformation definitions provided by reference_metric.py to build the Jacobian $$ \\frac{\\partial x_i}{\\partial y_j}, $$ where $x_i \\in \\{r,\\theta,\\phi\\}$ and $y_i \\in \\{x,y,z\\}$. We will also compute its inverse. Then, since both $A_i$ and $E_i$ have one lower index, both will need to be multiplied by the Jacobian."
   ]
  },
  {
   "cell_type": "code",
   "execution_count": 3,
   "metadata": {},
   "outputs": [],
   "source": [
    "# Step 3: Use the Jacobian matrix to transform the vectors to Cartesian coordinates.\n",
    "drrefmetric__dx_0UDmatrix = sp.Matrix([[sp.diff(rfm.xxSph[0],rfm.xx[0]), sp.diff(rfm.xxSph[0],rfm.xx[1]), sp.diff(rfm.xxSph[0],rfm.xx[2])],\n",
    "                                       [sp.diff(rfm.xxSph[1],rfm.xx[0]), sp.diff(rfm.xxSph[1],rfm.xx[1]), sp.diff(rfm.xxSph[1],rfm.xx[2])],\n",
    "                                       [sp.diff(rfm.xxSph[2],rfm.xx[0]), sp.diff(rfm.xxSph[2],rfm.xx[1]), sp.diff(rfm.xxSph[2],rfm.xx[2])]])\n",
    "#dx__drrefmetric_0UDmatrix = drrefmetric__dx_0UDmatrix.inv() # We don't actually need this in this case.\n",
    "\n",
    "AD = ixp.register_gridfunctions_for_single_rank1(\"AUX\",\"AD\")\n",
    "ED = ixp.register_gridfunctions_for_single_rank1(\"AUX\",\"ED\")\n",
    "\n",
    "for i in range(DIM):\n",
    "    for j in range(DIM):\n",
    "        AD[i] = drrefmetric__dx_0UDmatrix[(j,i)]*AsphD[j]\n",
    "        ED[i] = drrefmetric__dx_0UDmatrix[(j,i)]*EsphD[j]"
   ]
  },
  {
   "cell_type": "markdown",
   "metadata": {},
   "source": [
    "Now that we have the vector potential and electric fields that we need, we will turn our attention to what other quantities we might need for eqs. 14, 16, and 18 from the [$\\giraffe$ paper](https://arxiv.org/pdf/1704.00599.pdf). We will need the metric quantites: the lapse $\\alpha$, the shift $\\beta^i$, and the three-metric $\\gamma_{ij}$. We will also need the stress energy tensor $$T^{\\mu \\nu}_{\\rm EM} = b^2 u^{\\mu} u^{\\nu} + \\frac{b^2}{2} g^{\\mu \\nu} - b^{\\mu} b^{\\nu}.$$ Note that $T^{\\mu \\nu}_{\\rm EM}$ is in terms of $b^\\mu$ and $u^\\mu$, provided by $\\text{u0_smallb_Poynting__Cartesian}$. We will also need the Levi-Civita symbol, provided by $\\text{WeylScal4NRPy}$. "
   ]
  },
  {
   "cell_type": "code",
   "execution_count": 4,
   "metadata": {},
   "outputs": [],
   "source": [
    "#Step 4: Register the basic spacetime quantities\n",
    "alpha   = gri.register_gridfunctions(\"AUX\",\"alpha\")\n",
    "betaU   = ixp.register_gridfunctions_for_single_rank1(\"AUX\",\"betaU\",DIM=3)\n",
    "gammaDD = ixp.register_gridfunctions_for_single_rank2(\"AUX\",\"gammaDD\", \"sym01\",DIM=3)\n",
    "gammaUU, gammadet = ixp.symm_matrix_inverter3x3(gammaDD)\n",
    "\n",
    "import WeylScal4NRPy.WeylScalars_Cartesian as weyl\n",
    "LeviCivitaDDD = weyl.define_LeviCivitaSymbol_rank3()\n",
    "LeviCivitaUUU = ixp.zerorank3()\n",
    "for i in range(DIM):\n",
    "    for j in range(DIM):\n",
    "        for k in range(DIM):\n",
    "            LCijk = LeviCivitaDDD[i][j][k]\n",
    "            LeviCivitaDDD[i][j][k] = LCijk * sp.sqrt(gammadet)\n",
    "            LeviCivitaUUU[i][j][k] = LCijk / sp.sqrt(gammadet)\n",
    "\n",
    "# Step 5: Construct the Stress-Energy tensor\n",
    "# For TEMUU, we can reuse our code from GiRaFFE_HO.\n",
    "import u0_smallb_Poynting__Cartesian.u0_smallb_Poynting__Cartesian as u0b\n",
    "u0b.compute_u0_smallb_Poynting__Cartesian(gammaDD,betaU,alpha,ValenciavU,BU)\n",
    "\n",
    "# We will now pull in the four metric and its inverse.\n",
    "g4DD = ixp.zerorank2(DIM=4)\n",
    "g4UU = ixp.zerorank2(DIM=4)\n",
    "for mu in range(4):\n",
    "    for nu in range(4):\n",
    "        g4DD[mu][nu] = u0b.g4DD[mu][nu]\n",
    "        g4UU[mu][nu] = u0b.g4UU[mu][nu]\n",
    "\n",
    "uD = ixp.register_gridfunctions_for_single_rank1(\"AUX\",\"uD\")\n",
    "uU = ixp.register_gridfunctions_for_single_rank1(\"AUX\",\"uU\")\n",
    "\n",
    "u0 = u0b.u0\n",
    "for i in range(DIM):\n",
    "    uD[i] = u0b.uD[i]\n",
    "    uU[i] = u0b.uU[i]\n",
    "    \n",
    "smallbU = ixp.zerorank1(DIM=4)\n",
    "smallbD = ixp.zerorank1(DIM=4)\n",
    "for mu in range(4):\n",
    "    smallbU[mu] = u0b.smallb4U[mu]\n",
    "    smallbD[mu] = u0b.smallb4D[mu]\n",
    "\n",
    "smallb2 = u0b.smallb2\n",
    "\n",
    "TEMUU = ixp.register_gridfunctions_for_single_rank2(\"AUX\",\"TEMUU\",\"sym01\",DIM=4)\n",
    "\n",
    "TEMUU[0][0] = smallb2*u0*u0 + smallb2*g4UU[0][0]/2 - smallbU[0]*smallbU[0]\n",
    "for mu in range(1,4):\n",
    "    TEMUU[mu][0] = TEMUU[0][mu] = smallb2*uU[mu-1]*u0 + smallb2*g4UU[mu][0]/2 - smallbU[mu]*smallbU[0]\n",
    "for mu in range(1,4):\n",
    "    for nu in range(1,4):\n",
    "        TEMUU[mu][nu] = smallb2*uU[mu-1]*uU[nu-1] + smallb2*g4UU[mu][nu]/2 - smallbU[mu]*smallbU[nu]"
   ]
  },
  {
   "cell_type": "markdown",
   "metadata": {},
   "source": [
    "We will now find the densitized Poynting flux given by $$S_\\mu = -n_\\nu T^\\nu_{{\\rm EM} \\mu}$$ and $$\\tilde{S}_i = \\sqrt{\\gamma} S_i, $$ where $n^\\mu = (1/\\alpha, -\\beta^i/\\alpha)$.\n"
   ]
  },
  {
   "cell_type": "code",
   "execution_count": 5,
   "metadata": {},
   "outputs": [],
   "source": [
    "nU = ixp.zerorank1()\n",
    "for i in range(DIM):\n",
    "    nU[i] = -betaU[i] / alpha # we only need the spatial components here.\n",
    "\n",
    "# Next, we'll lower the index for both n and T\n",
    "nD = ixp.zerorank1()\n",
    "TEMUD = ixp.zerorank2()\n",
    "for i in range(DIM):\n",
    "    for j in range(DIM):\n",
    "        nD[i] = gammaDD[i][j] * nU[j]\n",
    "        for k in range(DIM):\n",
    "            TEMUD[i][j] = gammaDD[j][k] * TEMUU[i+1][k+1]\n",
    "            \n",
    "for i in range(DIM):\n",
    "    StildeD[i] = sp.sympify(0)\n",
    "    for j in range(DIM):\n",
    "        StildeD[i] += -gammadet * nD[j] * TEMUD[j][i]"
   ]
  },
  {
   "cell_type": "markdown",
   "metadata": {},
   "source": [
    "We will now build the drift velocity $$v^i = 4 \\pi \\alpha \\frac{\\gamma^{ij} \\tilde{S}_j}{\\sqrt{\\gamma} B^2} - \\beta^i$$. Then, we will need to transform it to the Valencia 3-velocity using the rule $\\bar{v}^i = \\frac{1}{\\alpha} \\left(v^i +\\beta^i \\right)$."
   ]
  },
  {
   "cell_type": "code",
   "execution_count": 6,
   "metadata": {},
   "outputs": [],
   "source": [
    "# B^2 is an inner product defined in the usual way:\n",
    "B2 = sp.sympify(0)\n",
    "for i in range(DIM):\n",
    "    for j in range(DIM):\n",
    "        B2 += gammaDD[i][j] * BU[i] * BU[j]\n",
    "\n",
    "driftvU = ixp.zerorank1()\n",
    "for i in range(DIM):\n",
    "    driftvU[i] = -betaU[i]\n",
    "    for j in range(DIM):\n",
    "        driftvU[i] += 4*M_PI*alpha*gammaUU[i][j]*StildeD[j]/gammadet/B2\n",
    "\n",
    "for i in range(DIM):\n",
    "    ValenciavU[i] = (driftvU[i] + betaU[i])/alpha\n"
   ]
  },
  {
   "cell_type": "markdown",
   "metadata": {},
   "source": [
    "We will now find the magnetic field $$B^i = \\frac{[ijk]}{\\sqrt{\\gamma}} \\partial_j A_k$$"
   ]
  },
  {
   "cell_type": "code",
   "execution_count": 7,
   "metadata": {},
   "outputs": [],
   "source": [
    "AD_dD = ixp.declarerank2(\"AD_dD\",\"nosym\")\n",
    "BU = ixp.zerorank1()\n",
    "for i in range(DIM):\n",
    "    for j in range(DIM):\n",
    "        for k in range(DIM):\n",
    "            BU[i] += LeviCivitaUUU[i][j][k] * AD_dD[k][j]\n"
   ]
  },
  {
   "cell_type": "code",
   "execution_count": null,
   "metadata": {},
   "outputs": [],
   "source": []
  }
 ],
 "metadata": {
  "kernelspec": {
   "display_name": "Python 2",
   "language": "python",
   "name": "python2"
  },
  "language_info": {
   "codemirror_mode": {
    "name": "ipython",
    "version": 2
   },
   "file_extension": ".py",
   "mimetype": "text/x-python",
   "name": "python",
   "nbconvert_exporter": "python",
   "pygments_lexer": "ipython2",
   "version": "2.7.13"
  }
 },
 "nbformat": 4,
 "nbformat_minor": 2
}
