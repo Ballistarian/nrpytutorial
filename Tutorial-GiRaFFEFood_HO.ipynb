{
 "cells": [
  {
   "cell_type": "markdown",
   "metadata": {},
   "source": [
    "$\\newcommand{\\giraffe}{\\texttt{GiRaFFE}}$\n",
    "$\\newcommand{\\gf}{\\texttt{GiRaFFEFood}}$\n",
    "# $\\gf$: Initial data for $\\giraffe$\n",
    "\n",
    "With the $\\giraffe$ evolution thorn constructed, we now need to \"feed\" our giraffe with initial data to evolve. While there are several different choices of initial data we can use here, for the moment, we will only be implementing the \"Exact Wald\" initial data, given by Table 3 in [the original paper](https://arxiv.org/pdf/1704.00599.pdf):\n",
    "\\begin{align}\n",
    "A_{\\phi} &= \\frac{C_0}{2} r^2 \\sin^2 \\theta \\\\\n",
    "E_{\\phi} &= 2 M C_0 \\left( 1+ \\frac {2M}{r} \\right)^{-1/2} \\sin^2 \\theta \\\\\n",
    "\\end{align}\n",
    "(the unspecified components are set to 0). Here, $C_0$ is a constant that we will set to $1$ in our simulations. Now, to use this initial data scheme, we need to transform the above into the quantities actually tracked by $\\giraffe$ and HydroBase: $A_i$, $B^i$, $\\tilde{S}_i$, $v^i$, and $\\Phi$. Of these quantities, $\\gf$ will only set $A_i$, $v^i$, and $\\Phi=0$; $\\giraffe$ itself will call functions to set $B^i$ and $\\tilde{S}_i$ before the time-evolution begins. This can be done with eqs. 16 and 18, here given in that same order:\n",
    "\\begin{align}\n",
    "v^i &= \\alpha \\frac{\\epsilon^{ijk} E_j B_k}{B^2} -\\beta^i \\\\\n",
    "B^i &= \\frac{[ijk]}{\\sqrt{\\gamma}} \\partial_j A_k \\\\\n",
    "\\end{align}\n",
    "In the simulations, $B^i$ will be calculated numerically from $A_i$; however, it will be useful to analytically calculate $B^i$ to use calculating the initial $v^i$.\n"
   ]
  },
  {
   "cell_type": "markdown",
   "metadata": {},
   "source": [
    "### Steps 0-1: Preliminaries\n",
    "Here, we will import the NRPy+ core modules and set the reference metric to Cartesian, set commonly used NRPy+ parameters, and set C parameters that will be set from outside the code eventually generated from these expressions. We will also set up a parameter to determine what initial data is set up, although it won't do much yet."
   ]
  },
  {
   "cell_type": "code",
   "execution_count": 1,
   "metadata": {},
   "outputs": [],
   "source": [
    "# Step 0: Import the NRPy+ core modules and set the reference metric to Cartesian\n",
    "import NRPy_param_funcs as par\n",
    "import indexedexp as ixp\n",
    "import grid as gri\n",
    "import finite_difference as fin\n",
    "from outputC import *\n",
    "import loop\n",
    "\n",
    "import reference_metric as rfm\n",
    "par.set_parval_from_str(\"reference_metric::CoordSystem\",\"Cartesian\")\n",
    "rfm.reference_metric()\n",
    "\n",
    "# Step 1a: Set commonly used parameters.\n",
    "thismodule = \"GiRaFFEFood_HO\"\n",
    "# Set the spatial dimension parameter to 3.\n",
    "par.set_parval_from_str(\"grid::DIM\", 3)\n",
    "DIM = par.parval_from_str(\"grid::DIM\")\n",
    "\n",
    "# Create a parameter to control the initial data choice. For now, this will only have Exact Wald as an option.\n",
    "par.initialize_param(par.glb_param(\"char\", thismodule, \"IDchoice\", \"Exact_Wald\"))\n",
    "\n",
    "# Step 1b: Set Cparameters we need to use and the gridfunctions we'll need.\n",
    "M,M_PI = par.Cparameters(\"REAL\",thismodule,[\"M\",\"M_PI\"]) # The mass of the black hole, and pi in C\n"
   ]
  },
  {
   "cell_type": "markdown",
   "metadata": {},
   "source": [
    "### Step 2: Set the vectors A and E in Spherical coordinates\n",
    "We will first build the fundamental vectors $A_i$ and $E_i$ in spherical coordinates (see [Table 3](https://arxiv.org/pdf/1704.00599.pdf)). Note that we use reference_metric.py to set $r$ and $\\theta$ in terms of Cartesian coordinates; this will save us a step later when we convert to Cartesian coordinates. Since $C_0 = 1$,\n",
    "\\begin{align}\n",
    "A_{\\phi} &= \\frac{1}{2} r^2 \\sin^2 \\theta \\\\\n",
    "E_{\\phi} &= 2 M \\left( 1+ \\frac {2M}{r} \\right)^{-1/2} \\sin^2 \\theta. \\\\\n",
    "\\end{align}\n",
    "While we have $E_i$ set as a variable in NRPy+, note that the final C code won't store these values."
   ]
  },
  {
   "cell_type": "code",
   "execution_count": 2,
   "metadata": {},
   "outputs": [],
   "source": [
    "# Step 2: Set the vectors A and E in Spherical coordinates\n",
    "AsphD = ixp.zerorank1()\n",
    "EsphD = ixp.zerorank1()\n",
    "\n",
    "# The r and theta components (0 and 1) are now 0\n",
    "r     = rfm.xxSph[0]\n",
    "theta = rfm.xxSph[1]\n",
    "\n",
    "IDchoice = par.parval_from_str(\"IDchoice\")\n",
    "\n",
    "if IDchoice is \"Exact_Wald\":\n",
    "    AsphD[2] = (r * r * sp.sin(theta)**2)/2\n",
    "    EsphD[2] = 2 * M * sp.sin(theta)**2 / sp.sqrt(1+2*M/r)\n",
    "else:\n",
    "    print(\"Error: IDchoice == \"+par.parval_from_str(\"IDchoice\")+\" unsupported!\")\n",
    "    exit(1)"
   ]
  },
  {
   "cell_type": "markdown",
   "metadata": {},
   "source": [
    "### Step 3: Use the Jacobian matrix to transform the vectors to Cartesian coordinates.\n",
    "Now, we will use the coordinate transformation definitions provided by reference_metric.py to build the Jacobian $$ \\frac{\\partial x_i}{\\partial y_j}, $$ where $x_i \\in \\{r,\\theta,\\phi\\}$ and $y_i \\in \\{x,y,z\\}$. We would normally compute its inverse, but since none of the quantities we need to transform have upper indices, it is not necessary. Then, since both $A_i$ and $E_i$ have one lower index, both will need to be multiplied by the Jacobian."
   ]
  },
  {
   "cell_type": "code",
   "execution_count": 3,
   "metadata": {},
   "outputs": [],
   "source": [
    "# Step 3: Use the Jacobian matrix to transform the vectors to Cartesian coordinates.\n",
    "drrefmetric__dx_0UDmatrix = sp.Matrix([[sp.diff(rfm.xxSph[0],rfm.xx[0]), sp.diff(rfm.xxSph[0],rfm.xx[1]), sp.diff(rfm.xxSph[0],rfm.xx[2])],\n",
    "                                       [sp.diff(rfm.xxSph[1],rfm.xx[0]), sp.diff(rfm.xxSph[1],rfm.xx[1]), sp.diff(rfm.xxSph[1],rfm.xx[2])],\n",
    "                                       [sp.diff(rfm.xxSph[2],rfm.xx[0]), sp.diff(rfm.xxSph[2],rfm.xx[1]), sp.diff(rfm.xxSph[2],rfm.xx[2])]])\n",
    "#dx__drrefmetric_0UDmatrix = drrefmetric__dx_0UDmatrix.inv() # We don't actually need this in this case.\n",
    "\n",
    "AD = ixp.register_gridfunctions_for_single_rank1(\"AUX\",\"AD\")\n",
    "ED = ixp.register_gridfunctions_for_single_rank1(\"AUX\",\"ED\")\n",
    "\n",
    "for i in range(DIM):\n",
    "    for j in range(DIM):\n",
    "        AD[i] = drrefmetric__dx_0UDmatrix[(j,i)]*AsphD[j]\n",
    "        ED[i] = drrefmetric__dx_0UDmatrix[(j,i)]*EsphD[j]\n",
    "        \n",
    "#Step 4: Register the basic spacetime quantities\n",
    "alpha   = gri.register_gridfunctions(\"AUX\",\"alpha\")\n",
    "betaU   = ixp.register_gridfunctions_for_single_rank1(\"AUX\",\"betaU\",DIM=3)\n",
    "gammaDD = ixp.register_gridfunctions_for_single_rank2(\"AUX\",\"gammaDD\", \"sym01\",DIM=3)\n",
    "gammaUU, gammadet = ixp.symm_matrix_inverter3x3(gammaDD)\n"
   ]
  },
  {
   "cell_type": "markdown",
   "metadata": {},
   "source": [
    "### Step 4: Calculate $v^i$ from $A_i$ and $E_i$\n",
    "We will now find the magnetic field using equation 18 in [the original paper](https://arxiv.org/pdf/1704.00599.pdf) $$B^i = \\frac{[ijk]}{\\sqrt{\\gamma}} \\partial_j A_k. $$ We will need the metric quantites: the lapse $\\alpha$, the shift $\\beta^i$, and the three-metric $\\gamma_{ij}$. We will also need the Levi-Civita symbol, provided by $\\text{WeylScal4NRPy}$. "
   ]
  },
  {
   "cell_type": "code",
   "execution_count": 4,
   "metadata": {},
   "outputs": [],
   "source": [
    "# Step 4: Calculate v^i from A_i and E_i\n",
    "# Step 4a: Calculate the magnetic field B^i\n",
    "# Here, we build the Levi-Civita tensor from the Levi-Civita symbol.\n",
    "import WeylScal4NRPy.WeylScalars_Cartesian as weyl\n",
    "LeviCivitaDDD = weyl.define_LeviCivitaSymbol_rank3()\n",
    "LeviCivitaUUU = ixp.zerorank3()\n",
    "for i in range(DIM):\n",
    "    for j in range(DIM):\n",
    "        for k in range(DIM):\n",
    "            LCijk = LeviCivitaDDD[i][j][k]\n",
    "            #LeviCivitaDDD[i][j][k] = LCijk * sp.sqrt(gammadet)\n",
    "            LeviCivitaUUU[i][j][k] = LCijk / sp.sqrt(gammadet)\n",
    "\n",
    "# For the initial data, we can analytically take the derivatives of A_i\n",
    "AD_dD = ixp.zerorank2()\n",
    "for i in range(DIM):\n",
    "    for j in range(DIM):\n",
    "        AD_dD[i][j] = sp.simplify(sp.diff(AD[i],rfm.xxCart[j]))\n",
    "                                  \n",
    "BU = ixp.zerorank1()\n",
    "for i in range(DIM):\n",
    "    for j in range(DIM):\n",
    "        for k in range(DIM):\n",
    "            BU[i] += LeviCivitaUUU[i][j][k] * AD_dD[k][j]\n"
   ]
  },
  {
   "cell_type": "markdown",
   "metadata": {},
   "source": [
    "We will now build the initial velocity using equation 152 in [this paper,](https://arxiv.org/pdf/1310.3274v2.pdf) cited in the original $\\giraffe$ code: $$ v^i = \\alpha \\frac{\\epsilon^{ijk} E_j B_k}{B^2} -\\beta^i. $$ \n",
    "However, our code needs the Valencia 3-velocity while this expression is for the drift velocity. So, we will need to transform it to the Valencia 3-velocity using the rule $\\bar{v}^i = \\frac{1}{\\alpha} \\left(v^i +\\beta^i \\right)$.\n",
    "Thus, $$\\bar{v}^i = \\frac{\\epsilon^{ijk} E_j B_k}{B^2}$$"
   ]
  },
  {
   "cell_type": "code",
   "execution_count": 5,
   "metadata": {},
   "outputs": [],
   "source": [
    "# Step 4b: Calculate B^2 and B_i\n",
    "# B^2 is an inner product defined in the usual way:\n",
    "B2 = sp.sympify(0)\n",
    "for i in range(DIM):\n",
    "    for j in range(DIM):\n",
    "        B2 += gammaDD[i][j] * BU[i] * BU[j]\n",
    "        \n",
    "# Lower the index on B^i\n",
    "BD = ixp.zerorank1()\n",
    "for i in range(DIM):\n",
    "    for j in range(DIM):\n",
    "        BD[i] = gammaDD[i][j] * BU[j]\n",
    "\n",
    "# Step 4c: Calculate the Valencia 3-velocity \n",
    "ValenciavU = ixp.zerorank1()\n",
    "for i in range(DIM):\n",
    "    for j in range(DIM):\n",
    "        for k in range(DIM):\n",
    "            ValenciavU[i] += LeviCivitaUUU[i][j][k]*ED[j]*BD[k]/B2"
   ]
  },
  {
   "cell_type": "markdown",
   "metadata": {},
   "source": [
    "### NRPy+ Module Code Validation\n",
    "\n",
    "Here, as a code validation check, we verify agreement in the SymPy expressions for the $\\giraffe$ Exact Wald initial data equations  we intend to use between\n",
    "1. this tutorial and \n",
    "2. the NRPy+ [GiRaFFEFood_HO.py](../edit/GiRaFFEFood_HO/GiRaFFEFood_HO.py) module.\n"
   ]
  },
  {
   "cell_type": "code",
   "execution_count": 6,
   "metadata": {},
   "outputs": [
    {
     "name": "stdout",
     "output_type": "stream",
     "text": [
      "vvv Ignore the minor warning below. vvv\n",
      "initialize_param() minor warning: Did nothing; already initialized parameter reference_metric::M_PI\n",
      "initialize_param() minor warning: Did nothing; already initialized parameter reference_metric::xmin\n",
      "initialize_param() minor warning: Did nothing; already initialized parameter reference_metric::xmax\n",
      "initialize_param() minor warning: Did nothing; already initialized parameter reference_metric::ymin\n",
      "initialize_param() minor warning: Did nothing; already initialized parameter reference_metric::ymax\n",
      "initialize_param() minor warning: Did nothing; already initialized parameter reference_metric::zmin\n",
      "initialize_param() minor warning: Did nothing; already initialized parameter reference_metric::zmax\n",
      "initialize_param() minor warning: Did nothing; already initialized parameter GiRaFFEFood_HO::IDchoice\n",
      "initialize_param() minor warning: Did nothing; already initialized parameter GiRaFFEFood_HO::M\n",
      "initialize_param() minor warning: Did nothing; already initialized parameter GiRaFFEFood_HO::M_PI\n",
      "^^^ Ignore the minor warning above. ^^^\n",
      "\n",
      "Consistency check between GiRaFFEFood_HO tutorial and NRPy+ module: ALL SHOULD BE ZERO.\n",
      "ValenciavU[0] - gfho.ValenciavU[0] = 0\n",
      "AD[0] - gfho.AD[0] = 0\n",
      "ValenciavU[1] - gfho.ValenciavU[1] = 0\n",
      "AD[1] - gfho.AD[1] = 0\n",
      "ValenciavU[2] - gfho.ValenciavU[2] = -2*M*gammaDD02*xx0*(-xx2**2/(xx0**2 + xx1**2 + xx2**2) + 1)/(gammaDD22*(xx0**2 + xx1**2)*sqrt(2*M/sqrt(xx0**2 + xx1**2 + xx2**2) + 1)) - 2*M*gammaDD12*xx1*(-xx2**2/(xx0**2 + xx1**2 + xx2**2) + 1)/(gammaDD22*(xx0**2 + xx1**2)*sqrt(2*M/sqrt(xx0**2 + xx1**2 + xx2**2) + 1))\n",
      "AD[2] - gfho.AD[2] = 0\n"
     ]
    }
   ],
   "source": [
    "# Reset the list of gridfunctions, as registering a gridfunction\n",
    "#   twice will spawn an error.\n",
    "gri.glb_gridfcs_list = []\n",
    "\n",
    "print(\"vvv Ignore the minor warning below. vvv\")\n",
    "\n",
    "import GiRaFFEFood_HO.GiRaFFEFood_HO as gfho\n",
    "gfho.GiRaFFEFood_HO()\n",
    "\n",
    "print(\"^^^ Ignore the minor warning above. ^^^\\n\")\n",
    "\n",
    "print(\"Consistency check between GiRaFFEFood_HO tutorial and NRPy+ module: ALL SHOULD BE ZERO.\")\n",
    "\n",
    "for i in range(DIM):\n",
    "\n",
    "    print(\"ValenciavU[\"+str(i)+\"] - gfho.ValenciavU[\"+str(i)+\"] = \" + str(ValenciavU[i] - gfho.ValenciavU[i]))\n",
    "    print(\"AD[\"+str(i)+\"] - gfho.AD[\"+str(i)+\"] = \" + str(AD[i] - gfho.AD[i]))\n"
   ]
  }
 ],
 "metadata": {
  "kernelspec": {
   "display_name": "Python 2",
   "language": "python",
   "name": "python2"
  },
  "language_info": {
   "codemirror_mode": {
    "name": "ipython",
    "version": 2
   },
   "file_extension": ".py",
   "mimetype": "text/x-python",
   "name": "python",
   "nbconvert_exporter": "python",
   "pygments_lexer": "ipython2",
   "version": "2.7.13"
  }
 },
 "nbformat": 4,
 "nbformat_minor": 2
}
