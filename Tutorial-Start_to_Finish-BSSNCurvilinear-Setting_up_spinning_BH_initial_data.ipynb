{
 "cells": [
  {
   "cell_type": "markdown",
   "metadata": {},
   "source": [
    "# Start-to-Finish Example: Setting up Spinning Black Hole Initial Data, in Curvilinear Coordinates\n",
    "\n",
    "## This module sets up initial data for a spinning black hole in *spherical coordinates*\n",
    "\n",
    "<font color='red'>**This module has NOT been validated to exhibit convergence to zero of the Hamiltonian constraint violation at the expected order to the exact solution (see plot at bottom), and all quantities have NOT been validated against the [original SENR code](https://bitbucket.org/zach_etienne/nrpy).**</font>\n",
    "\n",
    "### NRPy+ Source Code for this module:\n",
    "\n",
    "1. [BSSN/UIUCBlackHole.py](../edit/BSSN/UIUCBlackHole.py); [\\[**tutorial**\\]](Tutorial-ADM_Initial_Data-UIUCBlackHole.ipynb): UIUC Black Hole initial data; sets all ADM variables in Spherical basis: \n",
    "1. [BSSN/ADMSpherical_to_BSSNCurvilinearID.py](../edit/BSSN/ADMSpherical_to_BSSNCurvilinearID.py); [\\[**tutorial**\\]](Tutorial-ADM_Initial_Data-Converting_ADMSpherical_to_BSSNCurvilinear.ipynb): Spherical ADM$\\to$Curvilinear BSSN converter function\n",
    "1. [BSSN/BSSN_ID_function_string.py](../edit/BSSN/BSSN_ID_function_string.py): Sets up the C code string enabling initial data be set up in a point-by-point fashion\n",
    "1. [BSSN/BSSN_Constraints.py](../edit/BSSN/BSSNConstraints.py); [\\[**tutorial**\\]](Tutorial-BSSNConstraints.ipynb): Hamiltonian constraint in BSSN curvilinear basis/coordinates\n",
    "\n",
    "Here we use NRPy+ to generate initial data for a single spinning black hole (UIUC black hole, [Liu, Etienne, & Shapiro, PRD 80 121503, 2009](https://arxiv.org/abs/1001.4077)).\n",
    "\n",
    "The entire algorithm is outlined below, with NRPy+-based components highlighted in <font color='green'>green</font>.\n",
    "\n",
    "1. Allocate memory for gridfunctions, including temporary storage for the RK4 time integration.\n",
    "1. <font color='green'>Set gridfunction values to initial data (**This module**).</font>\n",
    "1. Evolve the system forward in time using RK4 time integration. At each RK4 substep, do the following:\n",
    "    1. <font color='green'>Evaluate BSSN RHS expressions.</font>\n",
    "    1. Apply singular, curvilinear coordinate boundary conditions [*a la* the SENR/NRPy+ paper](https://arxiv.org/abs/1712.07658)\n",
    "    1. <font color='green'>Apply constraints on conformal 3-metric: $\\det{\\bar{\\gamma}_{ij}}=\\det{\\hat{\\gamma}_{ij}}$</font>\n",
    "1. At the end of each iteration in time, output the <font color='green'>Hamiltonian constraint violation</font>.\n",
    "1. Repeat above steps at two numerical resolutions to confirm convergence to zero."
   ]
  },
  {
   "cell_type": "markdown",
   "metadata": {},
   "source": [
    "## Set core NRPy+ parameters for numerical grids and reference metric"
   ]
  },
  {
   "cell_type": "code",
   "execution_count": 1,
   "metadata": {},
   "outputs": [],
   "source": [
    "# First we import needed core NRPy+ modules\n",
    "import sympy as sp\n",
    "import NRPy_param_funcs as par\n",
    "import reference_metric as rfm\n",
    "import finite_difference as fin\n",
    "import grid as gri\n",
    "\n",
    "# Set spatial dimension (must be 3 for BSSN)\n",
    "DIM = 3\n",
    "par.set_parval_from_str(\"grid::DIM\",DIM)\n",
    "\n",
    "# Set the finite differencing order to 6.\n",
    "par.set_parval_from_str(\"finite_difference::FD_CENTDERIVS_ORDER\",6)\n",
    "\n",
    "# Then we set the coordinate system for the numerical grid\n",
    "par.set_parval_from_str(\"reference_metric::CoordSystem\",\"Spherical\")\n",
    "rfm.reference_metric() # Create ReU, ReDD needed for rescaling B-L initial data, generating BSSN RHSs, etc."
   ]
  },
  {
   "cell_type": "markdown",
   "metadata": {},
   "source": [
    "## Import UIUC ADM initial data from the BSSN.UIUCBlackHole NRPy+ module, [documented here](Tutorial-ADM_Initial_Data-UIUCBlackHole.ipynb)\n",
    "\n",
    "These initial data are expressed in the Cartesian coordinate basis (i.e., vectors and tensors are expressed in Cartesian components). We convert to the desired BSSN Curvilinear coordinate basis within BSSN.UIUCBlackHole by calling the BSSN.ADMSpherical_to_BSSNCurvilinearID NRPy+ module, [documented here](Tutorial-ADM_Initial_Data-Converting_ADMSpherical_to_BSSNCurvilinear.ipynb), followed by the [BSSN_ID_function_string module](../edit/BSSN/BSSN_ID_function_string.py) to get the C function."
   ]
  },
  {
   "cell_type": "code",
   "execution_count": 2,
   "metadata": {},
   "outputs": [],
   "source": [
    "import BSSN.UIUCBlackHole as uibh\n",
    "uibh.UIUCBlackHole()\n",
    "\n",
    "# print(KSphDD[0][2]\n",
    "\n",
    "# Now output the UIUC Black Hole initial data to file:\n",
    "with open(\"BSSN/UIUCBlackHole.h\",\"w\") as file:\n",
    "    file.write(uibh.returnfunction)"
   ]
  },
  {
   "cell_type": "markdown",
   "metadata": {},
   "source": [
    "## Validate that the UIUC Black Hole initial data satisfy the Hamiltonian constraint, modulo numerical finite differencing error\n",
    "\n",
    "### First output the Hamiltonian constraint:"
   ]
  },
  {
   "cell_type": "code",
   "execution_count": 3,
   "metadata": {},
   "outputs": [
    {
     "name": "stdout",
     "output_type": "stream",
     "text": [
      "initialize_param() minor warning: Did nothing; already initialized parameter reference_metric::M_PI\n",
      "initialize_param() minor warning: Did nothing; already initialized parameter reference_metric::RMAX\n",
      "Finished in 13.2678599358 seconds.\n"
     ]
    }
   ],
   "source": [
    "from outputC import *\n",
    "import grid as gri\n",
    "import BSSN.BSSNConstraints as bssncon\n",
    "bssncon.BSSNConstraints()\n",
    "\n",
    "H = gri.register_gridfunctions(\"AUX\",\"H\")\n",
    "\n",
    "import time\n",
    "start = time.time()\n",
    "Hamiltonianstring = fin.FD_outputC(\"returnstring\",lhrh(lhs=gri.gfaccess(\"aux_gfs\",\"H\"),rhs=bssncon.H), \n",
    "                                   params=\"outCverbose=False\")\n",
    "end = time.time()\n",
    "print(\"Finished in \"+str(end-start)+\" seconds.\")\n",
    "\n",
    "import loop as lp\n",
    "with open(\"BSSN/Hamiltonian.h\", \"w\") as file:\n",
    "    file.write(lp.loop([\"i2\",\"i1\",\"i0\"],[\"NGHOSTS\",\"NGHOSTS\",\"NGHOSTS\"],\n",
    "                       [\"NGHOSTS+Nxx[2]\",\"NGHOSTS+Nxx[1]\",\"NGHOSTS+Nxx[0]\"],\n",
    "                       [\"1\",\"1\",\"1\"],[\"const REAL invdx0 = 1.0/dxx[0];\\n\"+\n",
    "                                      \"const REAL invdx1 = 1.0/dxx[1];\\n\"+\n",
    "                                      \"const REAL invdx2 = 1.0/dxx[2];\\n\"+\n",
    "                                      \"#pragma omp parallel for\",\n",
    "                                      \"    const REAL xx2 = xx[2][i2];\",\n",
    "                                      \"        const REAL xx1 = xx[1][i1];\"],\"\",\n",
    "                                     \"const REAL xx0 = xx[0][i0];\\n\"+Hamiltonianstring))"
   ]
  },
  {
   "cell_type": "markdown",
   "metadata": {},
   "source": [
    "## Setting up initial data and evaluating the Hamiltonian constraint violation\n",
    "\n",
    "Next we will allocate memory storage for grid functions, store the initial data on these gridfunctions, and then compute and output the Hamiltonian constraint violation for these data.\n",
    "\n",
    "#### Part 1: Output xxmin[] and xxmax[], used for setting up the coordinate gridfunctions xx[3][]"
   ]
  },
  {
   "cell_type": "code",
   "execution_count": 4,
   "metadata": {},
   "outputs": [
    {
     "name": "stdout",
     "output_type": "stream",
     "text": [
      "Wrote to file \"BSSN/xxCart.h\"\n"
     ]
    }
   ],
   "source": [
    "import reference_metric as rfm\n",
    "# Generic coordinate NRPy+ file output, Part 1: output the coordinate bounds xxmin[] and xxmax[]:\n",
    "with open(\"BSSN/xxminmax.h\", \"w\") as file:\n",
    "    file.write(\"const REAL xxmin[3] = {\"+str(rfm.xxmin[0])+\",\"+str(rfm.xxmin[1])+\",\"+str(rfm.xxmin[2])+\"};\\n\")\n",
    "    file.write(\"const REAL xxmax[3] = {\"+str(rfm.xxmax[0])+\",\"+str(rfm.xxmax[1])+\",\"+str(rfm.xxmax[2])+\"};\\n\")\n",
    "# Generic coordinate NRPy+ file output, Part 2: output the conversion from (x0,x1,x2) to Cartesian (x,y,z)\n",
    "outputC([rfm.xxCart[0],rfm.xxCart[1],rfm.xxCart[2]],[\"xCart[0]\",\"xCart[1]\",\"xCart[2]\"],\n",
    "        \"BSSN/xxCart.h\")"
   ]
  },
  {
   "cell_type": "markdown",
   "metadata": {},
   "source": [
    "#### Part 2: Output the #define's for the list of gridfunctions\n",
    "\n",
    "In the scalar wave example, we simply used\n",
    "\n",
    "```C\n",
    "#define NUM_GFS 2\n",
    "#define UUGF 0\n",
    "#define VVGF 1\n",
    "```\n",
    "\n",
    "In the case of BSSN, we have **24** gridfunctions that we evolve forward in time, and a number of auxiliary gridfunctions as well, like the Hamiltonian constraint. Thus we will find it easiest to extract these lines of code from the list of registered gridfunctions (BSSN evolution gridfunctions are registered in the BSSN.BSSN_RHSs.BSSN_RHSs() function, which is called by the BSSN.BSSNConstraints.BSSNConstraints() function above):"
   ]
  },
  {
   "cell_type": "code",
   "execution_count": 5,
   "metadata": {},
   "outputs": [],
   "source": [
    "# First we set up the evolved and auxiliary variables lists\n",
    "evolved_variables_list   = []\n",
    "auxiliary_variables_list = []\n",
    "for i in range(len(gri.glb_gridfcs_list)):\n",
    "    if gri.glb_gridfcs_list[i].gftype == \"EVOL\":\n",
    "        evolved_variables_list.append(gri.glb_gridfcs_list[i].name)\n",
    "    if gri.glb_gridfcs_list[i].gftype == \"AUX\":\n",
    "        auxiliary_variables_list.append(gri.glb_gridfcs_list[i].name)\n",
    "\n",
    "# Next we alphabetize the lists\n",
    "evolved_variables_list.sort()\n",
    "auxiliary_variables_list.sort()\n",
    "\n",
    "# Finally we set up the #define statements:\n",
    "with open(\"BSSN/gridfunction_defines.h\", \"w\") as file:\n",
    "    file.write(\"// This file is automatically generated by NRPy+. Do not edit.\\n\\n\")\n",
    "    file.write(\"// EVOLVED VARIABLES:\\n\")\n",
    "    file.write(\"#define NUM_EVOL_GFS \"+str(len(evolved_variables_list))+\"\\n\")\n",
    "    for i in range(len(evolved_variables_list)):\n",
    "        file.write(\"#define \"+evolved_variables_list[i].upper()+\"GF\\t\"+str(i)+\"\\n\")\n",
    "    file.write(\"\\n\\n // AUXILIARY VARIABLES:\\n\")\n",
    "    file.write(\"#define NUM_AUX_GFS \"+str(len(auxiliary_variables_list))+\"\\n\")\n",
    "    for i in range(len(auxiliary_variables_list)):\n",
    "        file.write(\"#define \"+auxiliary_variables_list[i].upper()+\"GF\\t\"+str(i)+\"\\n\")"
   ]
  },
  {
   "cell_type": "markdown",
   "metadata": {},
   "source": [
    "#### Part 3: Output NGHOSTS and basic C code infrastructure, all to \"BSSN/UIUCBlackHole_Playground.c\""
   ]
  },
  {
   "cell_type": "code",
   "execution_count": 6,
   "metadata": {},
   "outputs": [],
   "source": [
    "# Part P0: Set the number of ghost cells, from NRPy+'s FD_CENTDERIVS_ORDER\n",
    "with open(\"BSSN/NGHOSTS.h\", \"w\") as file:\n",
    "    file.write(\"// Part P0: Set the number of ghost cells, from NRPy+'s FD_CENTDERIVS_ORDER\\n\")\n",
    "    file.write(\"#define NGHOSTS \"+str(int(int(par.parval_from_str(\"finite_difference::FD_CENTDERIVS_ORDER\"))/2)+1)+\"\\n\")"
   ]
  },
  {
   "cell_type": "code",
   "execution_count": 7,
   "metadata": {},
   "outputs": [
    {
     "name": "stdout",
     "output_type": "stream",
     "text": [
      "Overwriting BSSN/UIUCBlackHole_Playground.c\n"
     ]
    }
   ],
   "source": [
    "%%writefile BSSN/UIUCBlackHole_Playground.c\n",
    "\n",
    "// Part P0: Set the number of ghost cells, from NRPy+'s FD_CENTDERIVS_ORDER\n",
    "#include \"NGHOSTS.h\"\n",
    "\n",
    "// Part P1: Import needed header files\n",
    "#include \"stdio.h\"\n",
    "#include \"stdlib.h\"\n",
    "#include \"math.h\"\n",
    "\n",
    "// Part P2: Add needed #define's to set data type, the IDX4() macro, and the gridfunctions\n",
    "// Part P2a: set REAL=double, so that all floating point numbers are stored to at least ~16 significant digits.\n",
    "#define REAL double\n",
    "\n",
    "// Step P3: Set free parameters for the numerical grid\n",
    "const REAL xmin = -10.,xmax=10.;\n",
    "const REAL ymin = -10.,ymax=10.;\n",
    "const REAL zmin = -10.,zmax=10.;\n",
    "\n",
    "const REAL RMAX    = 10.0;\n",
    "const REAL AMPL    = 5.0;\n",
    "const REAL SINHW   = 0.125;\n",
    "const REAL t_final =  8.0; /* Final time is set so that at t=t_final, \n",
    "                            * data at the origin have not been corrupted \n",
    "                            * by the approximate outer boundary condition */\n",
    "const REAL CFL_FACTOR = 1.0; // Set the CFL Factor\n",
    "\n",
    "// Step P4: Set free parameters for the (UIUC Black Hole) initial data\n",
    "const REAL M   = 1.0;\n",
    "const REAL chi = 0.8;\n",
    "    \n",
    "// Part P2b: Declare the IDX4(gf,i,j,k) macro, which enables us to store 4-dimensions of\n",
    "//           data in a 1D array. In this case, consecutive values of \"i\" \n",
    "//           (all other indices held to a fixed value) are consecutive in memory, where \n",
    "//           consecutive values of \"j\" (fixing all other indices) are separated by \n",
    "//           Nxx_plus_2NGHOSTS[0] elements in memory. Similarly, consecutive values of\n",
    "//           \"k\" are separated by Nxx_plus_2NGHOSTS[0]*Nxx_plus_2NGHOSTS[1] in memory, etc.\n",
    "#define IDX4(g,i,j,k) \\\n",
    "( (i) + Nxx_plus_2NGHOSTS[0] * ( (j) + Nxx_plus_2NGHOSTS[1] * ( (k) + Nxx_plus_2NGHOSTS[2] * (g) ) ) )\n",
    "#define IDX3(i,j,k) ( (i) + Nxx_plus_2NGHOSTS[0] * ( (j) + Nxx_plus_2NGHOSTS[1] * (k) ) )\n",
    "// Assuming idx = IDX3(i,j,k). Much faster if idx can be reused over and over:\n",
    "#define IDX4pt(g,idx)   ( (idx) + (Nxx_plus_2NGHOSTS[0]*Nxx_plus_2NGHOSTS[1]*Nxx_plus_2NGHOSTS[2]) * (g) )\n",
    "\n",
    "// Part P2c: Set #define's for BSSN gridfunctions. C code generated above\n",
    "#include \"gridfunction_defines.h\"\n",
    "\n",
    "#define LOOP_REGION(i0min,i0max, i1min,i1max, i2min,i2max) \\\n",
    "  for(int i2=i2min;i2<i2max;i2++) for(int i1=i1min;i1<i1max;i1++) for(int i0=i0min;i0<i0max;i0++)\n",
    "\n",
    "void xxCart(REAL *xx[3],const int i0,const int i1,const int i2, REAL xCart[3]) {\n",
    "    REAL xx0 = xx[0][i0];\n",
    "    REAL xx1 = xx[1][i1];\n",
    "    REAL xx2 = xx[2][i2];\n",
    "#include \"xxCart.h\"\n",
    "}\n",
    "\n",
    "// Contains BSSN_ID() for UIUC Black Hole initial data\n",
    "#include \"UIUCBlackHole.h\"\n",
    "\n",
    "// Part P4: Declare the function for the exact solution. time==0 corresponds to the initial data.\n",
    "void initial_data(const int Nxx_plus_2NGHOSTS[3],REAL *xx[3], REAL *in_gfs) {\n",
    "#pragma omp parallel for\n",
    "  LOOP_REGION(0,Nxx_plus_2NGHOSTS[0], 0,Nxx_plus_2NGHOSTS[1], 0,Nxx_plus_2NGHOSTS[2]) {\n",
    "    const int idx = IDX3(i0,i1,i2);\n",
    "    REAL xCart[3];\n",
    "    xxCart(xx, i0,i1,i2, xCart);\n",
    "    BSSN_ID(xx[0][i0],xx[1][i1],xx[2][i2],xCart[0],xCart[1],xCart[2],\n",
    "            &in_gfs[IDX4pt(HDD00GF,idx)],&in_gfs[IDX4pt(HDD01GF,idx)],&in_gfs[IDX4pt(HDD02GF,idx)],\n",
    "            &in_gfs[IDX4pt(HDD11GF,idx)],&in_gfs[IDX4pt(HDD12GF,idx)],&in_gfs[IDX4pt(HDD22GF,idx)],\n",
    "            &in_gfs[IDX4pt(ADD00GF,idx)],&in_gfs[IDX4pt(ADD01GF,idx)],&in_gfs[IDX4pt(ADD02GF,idx)],\n",
    "            &in_gfs[IDX4pt(ADD11GF,idx)],&in_gfs[IDX4pt(ADD12GF,idx)],&in_gfs[IDX4pt(ADD22GF,idx)],\n",
    "            &in_gfs[IDX4pt(TRKGF,idx)],\n",
    "            &in_gfs[IDX4pt(LAMBDAU0GF,idx)],&in_gfs[IDX4pt(LAMBDAU1GF,idx)],&in_gfs[IDX4pt(LAMBDAU2GF,idx)],\n",
    "            &in_gfs[IDX4pt(VETU0GF,idx)],&in_gfs[IDX4pt(VETU1GF,idx)],&in_gfs[IDX4pt(VETU2GF,idx)],\n",
    "            &in_gfs[IDX4pt(BETU0GF,idx)],&in_gfs[IDX4pt(BETU1GF,idx)],&in_gfs[IDX4pt(BETU2GF,idx)],\n",
    "            &in_gfs[IDX4pt(ALPHAGF,idx)],&in_gfs[IDX4pt(CFGF,idx)]);\n",
    "  }\n",
    "}\n",
    "\n",
    "void Hamiltonian_constraint(const int Nxx[3],const int Nxx_plus_2NGHOSTS[3],const REAL dxx[3], REAL *xx[3], \n",
    "                            REAL *in_gfs, REAL *aux_gfs) {\n",
    "#include \"Hamiltonian.h\"    \n",
    "}\n",
    "\n",
    "// Part P5: Declare the function to evaluate the scalar wave RHSs\n",
    "//void rhs_eval(const int Nxx[3],const int Nxx_plus_2NGHOSTS[3],const REAL dxx[3], REAL *xx[3], const REAL *in_gfs,REAL *rhs_gfs) {\n",
    "//#include \"ScalarWaveCurvilinear_RHSs.h\"\n",
    "//}\n",
    "\n",
    "// main() function:\n",
    "// Step 0: Read command-line input, set up grid structure, allocate memory for gridfunctions, set up coordinates\n",
    "// Step 1: Set up scalar wave initial data\n",
    "// Step 2: Evolve scalar wave initial data forward in time using Method of Lines with RK4 algorithm,\n",
    "//         applying quadratic extrapolation outer boundary conditions.\n",
    "// Step 3: Output relative error between numerical and exact solution.\n",
    "// Step 4: Free all allocated memory\n",
    "int main(int argc, const char *argv[]) {\n",
    "\n",
    "  // Step 0a: Read command-line input, error out if nonconformant\n",
    "  if(argc != 4 || atoi(argv[1]) < NGHOSTS) {\n",
    "      printf(\"Error: Expected one command-line argument: ./ScalarWaveCurvilinear_Playground Nx0 Nx1 Nx2,\\n\");\n",
    "      printf(\"where Nx[0,1,2] is the number of grid points in the 0, 1, and 2 directions.\\n\");\n",
    "      printf(\"Nx[] MUST BE larger than NGHOSTS (= %d)\\n\",NGHOSTS);\n",
    "      exit(1);\n",
    "  }\n",
    "  // Step 0b: Set up numerical grid structure, first in space...\n",
    "  const int Nx0 = atoi(argv[1]);\n",
    "  const int Nx1 = atoi(argv[2]);\n",
    "  const int Nx2 = atoi(argv[3]);\n",
    "  if(Nx0%2 != 0 || Nx1%2 != 0 || Nx2%2 != 0) {\n",
    "    printf(\"Error: Cannot guarantee a proper cell-centered grid if number of grid cells not set to even number.\\n\");\n",
    "    printf(\"       For example, in case of angular directions, proper symmetry zones will not exist.\\n\");\n",
    "    exit(1);\n",
    "  }\n",
    "  const int Nxx[3] = { Nx0, Nx1, Nx2 };\n",
    "  const int Nxx_plus_2NGHOSTS[3] = { Nxx[0]+2*NGHOSTS, Nxx[1]+2*NGHOSTS, Nxx[2]+2*NGHOSTS };\n",
    "  const int Nxx_plus_2NGHOSTS_tot = Nxx_plus_2NGHOSTS[0]*Nxx_plus_2NGHOSTS[1]*Nxx_plus_2NGHOSTS[2];\n",
    "#include \"xxminmax.h\"\n",
    "\n",
    "  // Step 0c: Allocate memory for gridfunctions\n",
    "  REAL *evol_gfs = (REAL *)malloc(sizeof(REAL) * NUM_EVOL_GFS * Nxx_plus_2NGHOSTS_tot);\n",
    "  REAL *aux_gfs  = (REAL *)malloc(sizeof(REAL) * NUM_AUX_GFS * Nxx_plus_2NGHOSTS_tot);\n",
    "  \n",
    "  // Step 0d: Set up space and time coordinates\n",
    "  // Step 0d.i: Set \\Delta x^i on uniform grids.\n",
    "  REAL dxx[3];\n",
    "  for(int i=0;i<3;i++) dxx[i] = (xxmax[i] - xxmin[i]) / ((REAL)Nxx[i]);\n",
    "\n",
    "  // Step 0d.ii: Set up uniform coordinate grids\n",
    "  REAL *xx[3];\n",
    "  for(int i=0;i<3;i++) {\n",
    "    xx[i] = (REAL *)malloc(sizeof(REAL)*Nxx_plus_2NGHOSTS[i]);\n",
    "    for(int j=0;j<Nxx_plus_2NGHOSTS[i];j++) {\n",
    "      xx[i][j] = xxmin[i] + ((REAL)(j-NGHOSTS) + (1.0/2.0))*dxx[i]; // Cell-centered grid.\n",
    "    }\n",
    "  }\n",
    "  \n",
    "  // Step 1: Set up initial data to be exact solution at time=0:\n",
    "  initial_data(Nxx_plus_2NGHOSTS, xx, evol_gfs);\n",
    "  // Step 2: Evaluate Hamiltonian constraint violation\n",
    "  Hamiltonian_constraint(Nxx,Nxx_plus_2NGHOSTS,dxx, xx, evol_gfs, aux_gfs);\n",
    "    \n",
    "  /* Step 3: Output relative error between numerical and exact solution, */\n",
    "  const int i0MIN=NGHOSTS; // In spherical, r=Delta r/2.\n",
    "  const int i1mid=Nxx_plus_2NGHOSTS[1]/2;\n",
    "  const int i2mid=Nxx_plus_2NGHOSTS[2]/2;\n",
    "  LOOP_REGION(NGHOSTS,Nxx_plus_2NGHOSTS[0]-NGHOSTS, i1mid,i1mid+1, NGHOSTS,Nxx_plus_2NGHOSTS[2]-NGHOSTS) {\n",
    "    REAL xx0 = xx[0][i0];\n",
    "    REAL xx1 = xx[1][i1];\n",
    "    REAL xx2 = xx[2][i2];\n",
    "    REAL xCart[3];\n",
    "#include \"xxCart.h\"\n",
    "    int idx = IDX3(i0,i1,i2);\n",
    "    printf(\"%e %e %e %e\\n\",xCart[0],xCart[1], evol_gfs[IDX4pt(CFGF,idx)],log10(fabs(aux_gfs[IDX4pt(HGF,idx)])));\n",
    "//     printf(\"%e %e %e %e %e %e %e %e %e\\n\",xCart[0],xCart[1],xCart[2], aux_gfs[IDX4pt(HGF,idx)],evol_gfs[IDX4pt(CFGF,idx)],\n",
    "//            evol_gfs[IDX4pt(ALPHAGF,idx)],evol_gfs[IDX4pt(VETU0GF,idx)],evol_gfs[IDX4pt(HDD00GF,idx)],\n",
    "//            evol_gfs[IDX4pt(LAMBDAU0GF,idx)]);\n",
    "  }\n",
    "if(1==1) {\n",
    "    char filename[100];\n",
    "    snprintf(filename,100,\"out1DSENRcompare%d.txt\",Nxx[0]);\n",
    "    FILE *out1D = fopen(filename,\"w\");\n",
    "\n",
    "    //const int whichpt_x1 = Npts1 / 2;\n",
    "      const int whichpt_x2 = Nxx_plus_2NGHOSTS[1] / 2;\n",
    "      //const int whichpt_x2 = NGHOSTS;\n",
    "      const int whichpt_x3 = Nxx_plus_2NGHOSTS[2] / 2;\n",
    "      for(int i = NGHOSTS; i < Nxx_plus_2NGHOSTS[0] - NGHOSTS; i++) {\n",
    "        const int idx = IDX3(i, whichpt_x2, whichpt_x3); // Output the y1 axis\n",
    "        const REAL x1 = xx[0][i];\n",
    "        const REAL ham   = aux_gfs[IDX4(HGF,i,whichpt_x2, whichpt_x3)];\n",
    "        const REAL lamb0   = evol_gfs[IDX4(LAMBDAU0GF,i,whichpt_x2, whichpt_x3)];\n",
    "        const REAL lamb1   = evol_gfs[IDX4(LAMBDAU1GF,i,whichpt_x2, whichpt_x3)];\n",
    "        const REAL lamb2   = evol_gfs[IDX4(LAMBDAU2GF,i,whichpt_x2, whichpt_x3)];\n",
    "        const REAL a00   = evol_gfs[IDX4(ADD00GF,i,whichpt_x2, whichpt_x3)];\n",
    "        const REAL a01   = evol_gfs[IDX4(ADD01GF,i,whichpt_x2, whichpt_x3)];\n",
    "        const REAL a02   = evol_gfs[IDX4(ADD02GF,i,whichpt_x2, whichpt_x3)];\n",
    "        const REAL a11   = evol_gfs[IDX4(ADD11GF,i,whichpt_x2, whichpt_x3)];\n",
    "        const REAL a12   = evol_gfs[IDX4(ADD12GF,i,whichpt_x2, whichpt_x3)];\n",
    "        const REAL a22   = evol_gfs[IDX4(ADD22GF,i,whichpt_x2, whichpt_x3)];\n",
    "        const REAL h00   = evol_gfs[IDX4(HDD00GF,i,whichpt_x2, whichpt_x3)];\n",
    "        const REAL h01   = evol_gfs[IDX4(HDD01GF,i,whichpt_x2, whichpt_x3)];\n",
    "        const REAL h02   = evol_gfs[IDX4(HDD02GF,i,whichpt_x2, whichpt_x3)];\n",
    "        const REAL h11   = evol_gfs[IDX4(HDD11GF,i,whichpt_x2, whichpt_x3)];\n",
    "        const REAL h12   = evol_gfs[IDX4(HDD12GF,i,whichpt_x2, whichpt_x3)];\n",
    "        const REAL h22   = evol_gfs[IDX4(HDD22GF,i,whichpt_x2, whichpt_x3)];\n",
    "        const REAL mom1 = -1;\n",
    "        const REAL mom2 = -1;\n",
    "        const REAL mom3 = -1;\n",
    "\n",
    "        fprintf(out1D, \"%.15e \",(double)x1);\n",
    "        fprintf(out1D, \"%.15e %.15e %.15e %.15e %.15e %.15e %.15e %.15e %.15e %.15e\\n\", log10(fabs((double)ham)), (double)lamb0, (double)lamb1, (double)lamb2,(double)a00, (double)a01, (double)a02, (double)a11, (double)a12,(double)a22);\n",
    "//        fprintf(out1D, \"%.15e %.15e %.15e %.15e %.15e %.15e %.15e\\n\", log10(fabs((double)ham)),(double)h00, (double)h01, (double)h02, (double)h11, (double)h12,(double)h22);\n",
    "      }\n",
    "        fclose(out1D);\n",
    "    }\n",
    "\n",
    "  /* Step 4: Free all allocated memory */\n",
    "  free(aux_gfs);\n",
    "  free(evol_gfs);\n",
    "  for(int i=0;i<3;i++) free(xx[i]);\n",
    "  return 0;\n",
    "}"
   ]
  },
  {
   "cell_type": "code",
   "execution_count": 8,
   "metadata": {},
   "outputs": [],
   "source": [
    "!cd BSSN/\n",
    "!rm -f UIUCBlackHole_Playground\n",
    "!gcc -Ofast -march=native -ftree-parallelize-loops=2 -fopenmp BSSN/UIUCBlackHole_Playground.c -o UIUCBlackHole_Playground -lm\n",
    "!taskset -c 0,1 ./UIUCBlackHole_Playground 96 96 96 > out96.txt"
   ]
  },
  {
   "cell_type": "markdown",
   "metadata": {},
   "source": [
    "## Now plot the two-black-hole initial data\n",
    "\n",
    "Here we plot the evolved conformal factor of these initial data on a 2D grid, such that darker colors imply stronger gravitational fields. Hence, we see the black hole centered at $x/M=\\pm 1$, where $M$ is an arbitrary mass scale (conventionally the [ADM mass](https://en.wikipedia.org/w/index.php?title=ADM_formalism&oldid=846335453) is chosen), and our formulation of Einstein's equations adopt $G=c=1$ [geometrized units](https://en.wikipedia.org/w/index.php?title=Geometrized_unit_system&oldid=861682626)."
   ]
  },
  {
   "cell_type": "code",
   "execution_count": 9,
   "metadata": {},
   "outputs": [],
   "source": [
    "!pip install scipy > /dev/null"
   ]
  },
  {
   "cell_type": "code",
   "execution_count": 10,
   "metadata": {},
   "outputs": [
    {
     "data": {
      "image/png": "[encoded data removed]",
      "text/plain": [
       "<IPython.core.display.Image object>"
      ]
     },
     "execution_count": 10,
     "metadata": {},
     "output_type": "execute_result"
    }
   ],
   "source": [
    "import numpy as np\n",
    "from scipy.interpolate import griddata\n",
    "from pylab import savefig\n",
    "import matplotlib.pyplot as plt\n",
    "import matplotlib.cm as cm\n",
    "from IPython.display import Image\n",
    "\n",
    "x96,y96,valuesCF96,valuesHam96 = np.loadtxt('out96.txt').T #Transposed for easier unpacking\n",
    "\n",
    "pl_xmin = -3.\n",
    "pl_xmax = +3.\n",
    "pl_ymin = -3.\n",
    "pl_ymax = +3.\n",
    "\n",
    "grid_x, grid_y = np.mgrid[pl_xmin:pl_xmax:100j, pl_ymin:pl_ymax:100j]\n",
    "points96 = np.zeros((len(x96), 2))\n",
    "for i in range(len(x96)):\n",
    "    points96[i][0] = x96[i]\n",
    "    points96[i][1] = y96[i]\n",
    "\n",
    "grid96 = griddata(points96, valuesCF96, (grid_x, grid_y), method='nearest')\n",
    "grid96cub = griddata(points96, valuesCF96, (grid_x, grid_y), method='cubic')\n",
    "\n",
    "plt.clf()\n",
    "plt.title(\"Two Black Hole Initial Data\")\n",
    "plt.xlabel(\"x/M\")\n",
    "plt.ylabel(\"y/M\")\n",
    "\n",
    "# fig, ax = plt.subplots()\n",
    "# ax.plot(grid96cub.T, extent=(pl_xmin,pl_xmax, pl_ymin,pl_ymax))\n",
    "# plt.close(fig)\n",
    "plt.imshow(grid96cub.T, extent=(pl_xmin,pl_xmax, pl_ymin,pl_ymax))\n",
    "savefig(\"BHB.png\")\n",
    "from IPython.display import Image\n",
    "Image(\"BHB.png\")\n",
    "# #           interpolation='nearest', cmap=cm.gist_rainbow)"
   ]
  },
  {
   "cell_type": "markdown",
   "metadata": {},
   "source": [
    "## Validation: Convergence of numerical errors (Hamiltonian constraint violation) to zero\n",
    "\n",
    "The equations behind these initial data solve Einstein's equations exactly, at a single instant in time. One reflection of this solution is that the Hamiltonian constraint violation should be exactly zero in the initial data. \n",
    "\n",
    "However, when evaluated on numerical grids, the Hamiltonian constraint violation will *not* generally evaluate to zero due to the associated numerical derivatives not being exact. However, these numerical derivatives (finite difference derivatives in this case) should *converge* to the exact derivatives as the density of numerical sampling points approaches infinity.\n",
    "\n",
    "In this case, all of our finite difference derivatives agree with the exact solution, with an error term that drops with the uniform gridspacing to the fourth power: $\\left(\\Delta x^i\\right)^4$. \n",
    "\n",
    "Here, as in the [Start-to-Finish Scalar Wave (Cartesian grids) NRPy+ tutorial](Tutorial-Start_to_Finish-ScalarWave.ipynb) and the [Start-to-Finish Scalar Wave (curvilinear grids) NRPy+ tutorial](Tutorial-Start_to_Finish-ScalarWaveCurvilinear.ipynb) we confirm this convergence.\n",
    "\n",
    "First, let's take a look at what the numerical error looks like on the x-y plane at a given numerical resolution, plotting $\\log_{10}|H|$, where $H$ is the Hamiltonian constraint violation:"
   ]
  },
  {
   "cell_type": "code",
   "execution_count": 11,
   "metadata": {},
   "outputs": [
    {
     "data": {
      "image/png": "[encoded data removed]",
      "text/plain": [
       "<Figure size 432x288 with 2 Axes>"
      ]
     },
     "metadata": {
      "needs_background": "light"
     },
     "output_type": "display_data"
    }
   ],
   "source": [
    "grid96 = griddata(points96, valuesHam96, (grid_x, grid_y), method='nearest')\n",
    "grid96cub = griddata(points96, valuesHam96, (grid_x, grid_y), method='cubic')\n",
    "\n",
    "# fig, ax = plt.subplots()\n",
    "\n",
    "plt.clf()\n",
    "plt.title(\"96^3 Numerical Err.: log_{10}|Ham|\")\n",
    "plt.xlabel(\"x/M\")\n",
    "plt.ylabel(\"y/M\")\n",
    "\n",
    "fig96cub = plt.imshow(grid96cub.T, extent=(pl_xmin,pl_xmax, pl_ymin,pl_ymax))\n",
    "cb = plt.colorbar(fig96cub)"
   ]
  },
  {
   "cell_type": "markdown",
   "metadata": {},
   "source": [
    "Next, we set up the same initial data but on a lower-resolution, $48^3$ grid. Since the constraint violation (numerical error associated with the fourth-order-accurate, finite-difference derivatives) should converge to zero with the uniform gridspacing to the fourth power: $\\left(\\Delta x^i\\right)^4$, we expect the constraint violation will increase (relative to the $96^3$ grid) by a factor of $\\left(96/48\\right)^4$. Here we demonstrate that indeed this order of convergence is observed as expected. I.e., at all points *except* at the points immediately surrounding the coordinate center of the black hole (due to the spatial slice excising the physical singularity at this point through [the puncture method](http://gr.physics.ncsu.edu/UMD_June09.pdf)) exhibit numerical errors that drop as $\\left(\\Delta x^i\\right)^4$."
   ]
  },
  {
   "cell_type": "code",
   "execution_count": 12,
   "metadata": {},
   "outputs": [
    {
     "data": {
      "text/plain": [
       "<Figure size 432x288 with 0 Axes>"
      ]
     },
     "metadata": {},
     "output_type": "display_data"
    },
    {
     "data": {
      "image/png": "[encoded data removed]",
      "text/plain": [
       "<Figure size 432x288 with 1 Axes>"
      ]
     },
     "metadata": {
      "needs_background": "light"
     },
     "output_type": "display_data"
    }
   ],
   "source": [
    "!taskset -c 0,1 ./UIUCBlackHole_Playground 48 48 48 > out48.txt\n",
    "\n",
    "x48,y48,valuesCF48,valuesHam48 = np.loadtxt('out48.txt').T #Transposed for easier unpacking\n",
    "points48 = np.zeros((len(x48), 2))\n",
    "for i in range(len(x48)):\n",
    "    points48[i][0] = x48[i]\n",
    "    points48[i][1] = y48[i]\n",
    "\n",
    "grid48 = griddata(points48, valuesHam48, (grid_x, grid_y), method='nearest')\n",
    "\n",
    "griddiff_48_minus_96 = np.zeros((100,100))\n",
    "griddiff_48_minus_96_1darray = np.zeros(100*100)\n",
    "gridx_1darray_yeq0 = np.zeros(100)\n",
    "grid48_1darray_yeq0 = np.zeros(100)\n",
    "grid96_1darray_yeq0 = np.zeros(100)\n",
    "count = 0\n",
    "for i in range(100):\n",
    "    for j in range(100):\n",
    "        griddiff_48_minus_96[i][j] = grid48[i][j] - grid96[i][j]\n",
    "        griddiff_48_minus_96_1darray[count] = griddiff_48_minus_96[i][j]\n",
    "        if j==49:\n",
    "            gridx_1darray_yeq0[i] = grid_x[i][j]\n",
    "            grid48_1darray_yeq0[i] = grid48[i][j] + np.log10((48./96.)**4)\n",
    "            grid96_1darray_yeq0[i] = grid96[i][j]\n",
    "        count = count + 1\n",
    "\n",
    "plt.clf()\n",
    "fig, ax = plt.subplots()\n",
    "plt.title(\"Plot Demonstrating 4th-order Convergence\")\n",
    "plt.xlabel(\"x/M\")\n",
    "plt.ylabel(\"log10(Relative error)\")\n",
    "\n",
    "ax.plot(gridx_1darray_yeq0, grid96_1darray_yeq0, 'k-', label='Nr=96')\n",
    "ax.plot(gridx_1darray_yeq0, grid48_1darray_yeq0, 'k--', label='Nr=48, mult by (48/96)^4')\n",
    "ax.set_ylim([-11.5,-1.5])\n",
    "\n",
    "legend = ax.legend(loc='lower right', shadow=True, fontsize='x-large')\n",
    "legend.get_frame().set_facecolor('C1')\n",
    "plt.show()"
   ]
  }
 ],
 "metadata": {
  "kernelspec": {
   "display_name": "Python 2",
   "language": "python",
   "name": "python2"
  },
  "language_info": {
   "codemirror_mode": {
    "name": "ipython",
    "version": 2
   },
   "file_extension": ".py",
   "mimetype": "text/x-python",
   "name": "python",
   "nbconvert_exporter": "python",
   "pygments_lexer": "ipython2",
   "version": "2.7.13"
  }
 },
 "nbformat": 4,
 "nbformat_minor": 2
}
