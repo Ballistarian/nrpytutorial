{
 "cells": [
  {
   "cell_type": "markdown",
   "metadata": {},
   "source": [
    "# Creating an Einstein Toolkit thorn:\n",
    "## The scalar wave equation\n",
    "\n",
    "The goal of this tutorial is to construct an Einstein Toolkit (ETK) thorn that will evolve some initial data according to the scalar wave equation, subject to appropriate boundary conditions. This thorn should function identically to the $\\text{WaveToy}$ thorns included in the ETK.\n",
    "\n",
    "After importing the core modules, we will set $\\text{GridFuncMemAccess}$ to $\\text{ETK}$. The scalar wave right-hand sides and plane wave initial data are already built by [$\\text{Tutorial-ScalarWave.ipynb}$](Tutorial-ScalarWave.ipynb), so we can simply import them to use here. We will also need to instruct the system to create the directories for our thorn."
   ]
  },
  {
   "cell_type": "code",
   "execution_count": 1,
   "metadata": {},
   "outputs": [],
   "source": [
    "# Step 1a: Import needed NRPy+ core modules:\n",
    "import NRPy_param_funcs as par\n",
    "import indexedexp as ixp\n",
    "import grid as gri\n",
    "import finite_difference as fin\n",
    "from outputC import *\n",
    "import loop\n",
    "\n",
    "par.set_parval_from_str(\"grid::GridFuncMemAccess\",\"ETK\")\n",
    "\n",
    "# Step 1b: Call the ScalarWave_RHSs() function from within the\n",
    "#         ScalarWave/ScalarWave_RHSs.py module,\n",
    "#         which should do exactly the same as in Steps 1-10 above.\n",
    "import ScalarWave.ScalarWave_RHSs as swrhs\n",
    "swrhs.ScalarWave_RHSs()\n",
    "\n",
    "# Step 1c: Call the InitialData_PlaneWave() function from within the\n",
    "#         ScalarWave/InitialData_PlaneWave.py module,\n",
    "#         which should do exactly the same as in Steps 1-5 above.\n",
    "import ScalarWave.InitialData_PlaneWave as swid\n",
    "swid.InitialData_PlaneWave()\n",
    "\n",
    "!mkdir ScalarWave     2>/dev/null # 2>/dev/null: Don't throw an error if the directory already exists.\n",
    "!mkdir ScalarWave/src 2>/dev/null # 2>/dev/null: Don't throw an error if the directory already exists.\n"
   ]
  },
  {
   "cell_type": "markdown",
   "metadata": {},
   "source": [
    "Now, we need to output these expressions to C code. We will do this the same way as in the Weyl scalars ETK tutorial: export these to a .h file, which can then be included in a main .c file to do the calculations."
   ]
  },
  {
   "cell_type": "code",
   "execution_count": 3,
   "metadata": {},
   "outputs": [
    {
     "name": "stdout",
     "output_type": "stream",
     "text": [
      "#pragma omp parallel for\n",
      "for(int i2=1; i2<cctk_lsh[2]-1; i2++) {\n",
      "    for(int i1=1; i1<cctk_lsh[1]-1; i1++) {\n",
      "        for(int i0=1; i0<cctk_lsh[0]-1; i0++) {\n",
      "            {\n",
      "                /* \n",
      "                 * Step 1 of 2: Read from main memory and compute finite difference stencils (if any):\n",
      "                 */\n",
      "                /* \n",
      "                 * Step 2 of 2: Evaluate SymPy expressions and write to main memory:\n",
      "                 */\n",
      "                /*\n",
      "                 *  Original SymPy expressions:\n",
      "                 *  \"[uuGF[CCTK_GFINDEX3D(cctkGH, i0, i1, i2)] = -sin(time*wavespeed - (kk0*xx0 + kk1*xx1 + kk2*xx2)/sqrt(kk0**2 + kk1**2 + kk2**2)),\n",
      "                 *    vvGF[CCTK_GFINDEX3D(cctkGH, i0, i1, i2)] = -wavespeed*cos(time*wavespeed - (kk0*xx0 + kk1*xx1 + kk2*xx2)/sqrt(kk0**2 + kk1**2 + kk2**2))]\"\n",
      "                 */\n",
      "                const double tmp0 = time*wavespeed - (kk0*xx0 + kk1*xx1 + kk2*xx2)/sqrt(pow(kk0, 2) + pow(kk1, 2) + pow(kk2, 2));\n",
      "                uuGF[CCTK_GFINDEX3D(cctkGH, i0, i1, i2)] = -sin(tmp0);\n",
      "                vvGF[CCTK_GFINDEX3D(cctkGH, i0, i1, i2)] = -wavespeed*cos(tmp0);\n",
      "            }\n",
      "            \n",
      "            \n",
      "        } // END LOOP: for(int i0=1; i0<cctk_lsh[0]-1; i0++)\n",
      "    } // END LOOP: for(int i1=1; i1<cctk_lsh[1]-1; i1++)\n",
      "} // END LOOP: for(int i2=1; i2<cctk_lsh[2]-1; i2++)\n",
      "\n"
     ]
    },
    {
     "data": {
      "text/plain": [
       "1330"
      ]
     },
     "execution_count": 3,
     "metadata": {},
     "output_type": "execute_result"
    }
   ],
   "source": [
    "# First, we will write the right-hand sides.\n",
    "scalar_RHSs_to_print = [\\\n",
    "                        lhrh(lhs=gri.gfaccess(\"out_gfs\",\"uu\"),rhs=swrhs.uu_rhs),\\\n",
    "                        lhrh(lhs=gri.gfaccess(\"out_gfs\",\"vv\"),rhs=swrhs.vv_rhs),]\n",
    "scalar_RHSs = fin.FD_outputC(\"returnstring\",scalar_RHSs_to_print)\n",
    "\n",
    "scalar_RHSs_looped = loop.loop([\"i2\",\"i1\",\"i0\"],[\"1\",\"1\",\"1\"],[\"cctk_lsh[2]-1\",\"cctk_lsh[1]-1\",\"cctk_lsh[0]-1\"],\\\n",
    "                               [\"1\",\"1\",\"1\"],[\"#pragma omp parallel for\",\"\",\"\"],\"\",scalar_RHSs)\n",
    "\n",
    "file = open(\"ScalarWave/src/ScalarWave_RHSs.h\", \"w\")\n",
    "file.write(str(scalar_RHSs_looped))\n",
    "\n",
    "# Second, we will write the initial data.\n",
    "scalar_PWID_to_print = [\\\n",
    "                        lhrh(lhs=gri.gfaccess(\"out_gfs\",\"uu\"),rhs=swid.uu_ID),\\\n",
    "                        lhrh(lhs=gri.gfaccess(\"out_gfs\",\"vv\"),rhs=swid.vv_ID),]\n",
    "scalar_PWID = fin.FD_outputC(\"returnstring\",scalar_PWID_to_print)\n",
    "\n",
    "scalar_PWID_looped = loop.loop([\"i2\",\"i1\",\"i0\"],[\"1\",\"1\",\"1\"],[\"cctk_lsh[2]-1\",\"cctk_lsh[1]-1\",\"cctk_lsh[0]-1\"],\\\n",
    "                               [\"1\",\"1\",\"1\"],[\"#pragma omp parallel for\",\"\",\"\"],\"\",scalar_PWID)\n",
    "\n",
    "print(scalar_PWID_looped)\n",
    "file = open(\"ScalarWave/src/ScalarWave_PWID.h\", \"w\")\n",
    "file.write(str(scalar_PWID_looped))\n"
   ]
  },
  {
   "cell_type": "code",
   "execution_count": null,
   "metadata": {},
   "outputs": [],
   "source": []
  }
 ],
 "metadata": {
  "kernelspec": {
   "display_name": "Python 3",
   "language": "python",
   "name": "python3"
  },
  "language_info": {
   "codemirror_mode": {
    "name": "ipython",
    "version": 3
   },
   "file_extension": ".py",
   "mimetype": "text/x-python",
   "name": "python",
   "nbconvert_exporter": "python",
   "pygments_lexer": "ipython3",
   "version": "3.6.5"
  }
 },
 "nbformat": 4,
 "nbformat_minor": 2
}
