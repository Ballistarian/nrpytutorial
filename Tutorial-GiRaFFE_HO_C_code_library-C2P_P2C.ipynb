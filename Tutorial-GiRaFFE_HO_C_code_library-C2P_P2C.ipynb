{
 "cells": [
  {
   "cell_type": "markdown",
   "metadata": {},
   "source": [
    "# `GiRaFFE_HO` C code library: Conservative-to-Primitive and Primitive-to-Conservative Solvers\n",
    "\n",
    "### Author: Patrick Nelson\n",
    "\n",
    "This writes and documents the C code that `GiRaFFE_HO` uses in order to update the Valencia 3-velocity at each timestep. It also computes corrections the the densitized Poynting flux in order to keep the physical quantities from violating the GRFFE constraints. \n",
    "\n",
    "These algorithms are adapted from the original `GiRaFFE` code, based on the description in [arXiv:1310.3274v2](https://arxiv.org/pdf/1310.3274v2.pdf). They have been modified to work with the NRPy+ infrastructure instead of the Einstein Toolkit. They have also been modified to use the Valencia 3-velocity instead of the drift velocity."
   ]
  },
  {
   "cell_type": "markdown",
   "metadata": {},
   "source": [
    "We start with the Conservative-to-Primitive solver. This function is called after the vector potential and Poynting vector have been evolved at a timestep and updates the velocities. \n",
    "\n",
    "1. ${\\tilde n}_i v^i = 0$\n",
    "\n",
    "We will begin simply by creating the file. We will also `#include` the header file `<sys/time.h>` and define $\\pi$."
   ]
  },
  {
   "cell_type": "code",
   "execution_count": 1,
   "metadata": {},
   "outputs": [
    {
     "name": "stdout",
     "output_type": "stream",
     "text": [
      "Overwriting GiRaFFE_standalone/driver_conserv_to_prims_FFE.C\n"
     ]
    }
   ],
   "source": [
    "%%writefile GiRaFFE_standalone/driver_conserv_to_prims_FFE.C\n",
    "/* We evolve forward in time a set of functions called the \n",
    " * \"conservative variables\" (magnetic field and Poynting vector), \n",
    " * and any time the conserv's are updated, we must recover the \n",
    " * primitive variables (velocities), before reconstructing & evaluating \n",
    " * the RHSs of the MHD equations again. \n",
    " *\n",
    " * This file contains the routine for this algebraic calculation. \n",
    " * The velocity is calculated with formula (85), arXiv:1310.3274v2\n",
    " * $v^i = 4 \\pi \\alpha \\gamma^{ij} {\\tilde S}_j \\gamma{-1/2} B^{-2} - \\beta^i$ \n",
    " * The force-free condition: $B^2>E^2$ is checked before computing the velocity.\n",
    " * and after imposing the constraint ${\\tilde B}^i {\\tilde S}_i = 0$\n",
    " \n",
    " * The procedure is as described in arXiv:1310.3274v2: \n",
    " * 1. ${\\tilde S}_i ->{\\tilde S}_i - ({\\tilde S}_j {\\tilde B}^j) {\\tilde B}_i/{\\tilde B}^2$\n",
    " * 2. $f = \\sqrt{(1-\\gamma_{max}^{-2}){\\tilde B}^4/(16 \\pi^2 \\gamma {\\tilde S}^2)}$ \n",
    " * 3. ${\\tilde S}_i -> {\\tilde S}_i min(1,f)\n",
    " * 4. $v^i = 4 \\pi \\alpha \\gamma^{ij} {\\tilde S}_j \\gamma{-1/2} B^{-2} - \\beta^i$\n",
    " * 5. ${\\tilde n}_i v^i = 0$\n",
    " *\n",
    " * All equations are from: http://arxiv.org/pdf/1310.3274.pdf (v2)\n",
    " * */\n",
    "\n",
    "//#include <iostream>\n",
    "//#include <iomanip>\n",
    "//#include <fstream>\n",
    "#include <sys/time.h>\n",
    "//#include <cmath>\n",
    "//#include <ctime>\n",
    "//#include <cstdlib>\n",
    "//#include \"Symmetry.h\"\n",
    "\n",
    "#ifndef M_PI\n",
    "#define M_PI 3.141592653589793238463\n",
    "#endif\n"
   ]
  },
  {
   "cell_type": "markdown",
   "metadata": {},
   "source": [
    "The next order of business will be to write the function definitions and some useful macros. First, we write a basic macro to find the minimum. We write the function definition of the Primitive-to-Conservative solver and include it from the next file we will write. (See below for more informaton). **TODO: Hyperlink** We define the standard indexing macros used in NRPy+ which map the values of each gridfunction at each point in three-dimensional space to a single one-dimensional array. \n",
    "\n",
    "Next, we write the function that calculates the metric determinant and inverse from the metric. The included header file `\"metric_quantities.h\"` does most of that work for us by looping over the entire grid and performing the matrix inverse operation. \n",
    "\n",
    "Notice the use of the flag `-a` in the cell magic command below - this will append to the file instead of overwriting it."
   ]
  },
  {
   "cell_type": "code",
   "execution_count": 2,
   "metadata": {},
   "outputs": [
    {
     "name": "stdout",
     "output_type": "stream",
     "text": [
      "Appending to GiRaFFE_standalone/driver_conserv_to_prims_FFE.C\n"
     ]
    }
   ],
   "source": [
    "%%writefile -a GiRaFFE_standalone/driver_conserv_to_prims_FFE.C\n",
    "#define MIN(a,b) ( ((a) < (b)) ? (a) : (b) )\n",
    "void GiRaFFE_HO_compute_conservatives(const REAL gxxL,const REAL gxyL,const REAL gxzL,const REAL gyyL,const REAL gyzL,const REAL gzzL,\n",
    "                                      const REAL BxL, const REAL ByL, const REAL BzL, const REAL vxL, const REAL vyL, const REAL vzL,\n",
    "                                      //const REAL betaxL, const REAL betayL, const REAL betazL, const REAL alpL,\n",
    "                                      const REAL sqrtg,REAL *StildeD0L, REAL *StildeD1L, REAL *StildeD2L);\n",
    "#include \"compute_conservatives_FFE.C\"\n",
    "\n",
    "#define REAL double\n",
    "\n",
    "#define IDX4(g,i,j,k) \\\n",
    "( (i) + Nxx_plus_2NGHOSTS[0] * ( (j) + Nxx_plus_2NGHOSTS[1] * ( (k) + Nxx_plus_2NGHOSTS[2] * (g) ) ) )\n",
    "#define IDX3(i,j,k) ( (i) + Nxx_plus_2NGHOSTS[0] * ( (j) + Nxx_plus_2NGHOSTS[1] * (k) ) )\n",
    "// Assuming idx = IDX3(i,j,k). Much faster if idx can be reused over and over:\n",
    "#define IDX4pt(g,idx)   ( (idx) + (Nxx_plus_2NGHOSTS[0]*Nxx_plus_2NGHOSTS[1]*Nxx_plus_2NGHOSTS[2]) * (g) )\n",
    "\n",
    "void GiRaFFE_HO_update_metric_det_inverse(const int Nxx_plus_2NGHOSTS[3],const REAL dxx[3],REAL *xx[3],REAL *aux_gfs) {\n",
    "\n",
    "#include \"metric_quantities.h\"\n",
    "\n",
    "}\n"
   ]
  },
  {
   "cell_type": "markdown",
   "metadata": {},
   "source": [
    "Now, we get into the meat of the Conservative-to-Primitive solver itself. Note that, in addition to the basic parameters defining the grid, we also pass the conservative variables `in_gfs` and primitive variables `aux_gfs`. Then, we define the boundaries over which we would like to recompute the primitive variables by setting `imin`, `imax`, `jmin`, `jmax`, `kmin`, and `kmax`. Currently, these are set such that we only loop over the interior of the grid. "
   ]
  },
  {
   "cell_type": "code",
   "execution_count": 3,
   "metadata": {},
   "outputs": [
    {
     "name": "stdout",
     "output_type": "stream",
     "text": [
      "Appending to GiRaFFE_standalone/driver_conserv_to_prims_FFE.C\n"
     ]
    }
   ],
   "source": [
    "%%writefile -a GiRaFFE_standalone/driver_conserv_to_prims_FFE.C\n",
    "void GiRaFFE_HO_conserv_to_prims_FFE(const int Nxx[3],const int Nxx_plus_2NGHOSTS[3],const REAL dxx[3],\n",
    "                                     REAL *xx[3], REAL *in_gfs, REAL *aux_gfs) {\n",
    "  //printf(\"Starting conservative-to-primitive solver...\\n\");\n",
    "\n",
    "  /*// We use proper C++ here, for file I/O later.\n",
    "  using namespace std;*/\n",
    "\n",
    "  const int imin=NGHOSTS,jmin=NGHOSTS,kmin=NGHOSTS;\n",
    "  const int imax=Nxx_plus_2NGHOSTS[0]-NGHOSTS,jmax=Nxx_plus_2NGHOSTS[1]-NGHOSTS,kmax=Nxx_plus_2NGHOSTS[2]-NGHOSTS;\n",
    "  \n",
    "  const REAL dz = dxx[2];\n",
    "\n",
    "  REAL error_int_numer=0,error_int_denom=0;\n",
    "\n",
    "  int num_vel_limits=0,num_vel_nulls_current_sheet=0;\n",
    "\n",
    "  GiRaFFE_HO_update_metric_det_inverse(Nxx_plus_2NGHOSTS, dxx, xx,aux_gfs);\n",
    "\n",
    "#pragma omp parallel for reduction(+:error_int_numer,error_int_denom,num_vel_limits,num_vel_nulls_current_sheet) schedule(static)\n",
    "  for(int k=kmin;k<kmax;k++)\n",
    "    for(int j=jmin;j<jmax;j++)\n",
    "      for(int i=imin;i<imax;i++) {\n"
   ]
  },
  {
   "cell_type": "markdown",
   "metadata": {},
   "source": [
    "Next, we will read values in from memory. Note the `if` statement: this allows us to disable the evolution of gridfunctions inside of a certain radius, which is especially useful for neutron star simulations. \n",
    "\n",
    "In addition to reading in values from memory, we also compute the densitized magnetic field $\\tilde{B}^i$ and the index-lowered form, $\\tilde{B}_i$"
   ]
  },
  {
   "cell_type": "code",
   "execution_count": 4,
   "metadata": {},
   "outputs": [
    {
     "name": "stdout",
     "output_type": "stream",
     "text": [
      "Appending to GiRaFFE_standalone/driver_conserv_to_prims_FFE.C\n"
     ]
    }
   ],
   "source": [
    "%%writefile -a GiRaFFE_standalone/driver_conserv_to_prims_FFE.C\n",
    "        const int index = IDX3(i,j,k);\n",
    "        const REAL xx0 = xx[0][i];\n",
    "        const REAL xx1 = xx[1][j];\n",
    "        const REAL xx2 = xx[2][k];\n",
    "        const REAL rL = sqrt(xx0*xx0+xx1*xx1+xx2*xx2);\n",
    "        if(rL>min_radius_inside_of_which_conserv_to_prims_FFE_and_FFE_evolution_is_DISABLED) {\n",
    "          const REAL sqrtg = sqrt(aux_gfs[IDX4pt(GAMMADETGF, index)]); // Determinant of 3-metric\n",
    "\n",
    "          // \\gamma_{ij}, computed from \\tilde{\\gamma}_{ij}\n",
    "          const REAL gxxL = aux_gfs[IDX4pt(GAMMADD00GF, index)];\n",
    "          const REAL gxyL = aux_gfs[IDX4pt(GAMMADD01GF, index)];\n",
    "          const REAL gxzL = aux_gfs[IDX4pt(GAMMADD02GF, index)];\n",
    "          const REAL gyyL = aux_gfs[IDX4pt(GAMMADD11GF, index)];\n",
    "          const REAL gyzL = aux_gfs[IDX4pt(GAMMADD12GF, index)];\n",
    "          const REAL gzzL = aux_gfs[IDX4pt(GAMMADD22GF, index)];\n",
    "\n",
    "          // \\gamma^{ij} = psim4 * \\tilde{\\gamma}^{ij}\n",
    "          const REAL gupxxL = aux_gfs[IDX4pt(GAMMAUU00GF, index)];\n",
    "          const REAL gupxyL = aux_gfs[IDX4pt(GAMMAUU01GF, index)];\n",
    "          const REAL gupxzL = aux_gfs[IDX4pt(GAMMAUU02GF, index)];\n",
    "          const REAL gupyyL = aux_gfs[IDX4pt(GAMMAUU11GF, index)];\n",
    "          const REAL gupyzL = aux_gfs[IDX4pt(GAMMAUU12GF, index)];\n",
    "          const REAL gupzzL = aux_gfs[IDX4pt(GAMMAUU22GF, index)];\n",
    "\n",
    "          // Read in magnetic field and momentum variables once from memory, since memory access is expensive:\n",
    "          const REAL BU0L = aux_gfs[IDX4pt(BU0GF, index)];\n",
    "          const REAL BU1L = aux_gfs[IDX4pt(BU1GF, index)];\n",
    "          const REAL BU2L = aux_gfs[IDX4pt(BU2GF, index)];\n",
    "\n",
    "          // End of page 7 on http://arxiv.org/pdf/1310.3274.pdf\n",
    "          const REAL BtildexL = BU0L*sqrtg;\n",
    "          const REAL BtildeyL = BU1L*sqrtg;\n",
    "          const REAL BtildezL = BU2L*sqrtg;\n",
    "\n",
    "          const REAL Btilde_xL = gxxL*BtildexL + gxyL*BtildeyL + gxzL*BtildezL;\n",
    "          const REAL Btilde_yL = gxyL*BtildexL + gyyL*BtildeyL + gyzL*BtildezL;\n",
    "          const REAL Btilde_zL = gxzL*BtildexL + gyzL*BtildeyL + gzzL*BtildezL;\n",
    "\n",
    "          REAL StildeD0L = in_gfs[IDX4pt(STILDED0GF, index)];\n",
    "          REAL StildeD1L = in_gfs[IDX4pt(STILDED1GF, index)];\n",
    "          REAL StildeD2L = in_gfs[IDX4pt(STILDED2GF, index)];\n",
    "\n",
    "          const REAL StildeD0_orig = StildeD0L;\n",
    "          const REAL StildeD1_orig = StildeD1L;\n",
    "          const REAL StildeD2_orig = StildeD2L;\n",
    "\n",
    "          const REAL ValenciavU0_orig = aux_gfs[IDX4pt(VALENCIAVU0GF, index)];\n",
    "          const REAL ValenciavU1_orig = aux_gfs[IDX4pt(VALENCIAVU1GF, index)];\n",
    "          const REAL ValenciavU2_orig = aux_gfs[IDX4pt(VALENCIAVU2GF, index)];\n",
    "\n",
    "          //const REAL alpL = alp[index];\n",
    "          //const REAL fourpialpha = 4.0*M_PI*alpL;\n",
    "          const REAL fourpi = 4.0*M_PI;\n",
    "\n",
    "          //const REAL betaxL = betax[index];\n",
    "          //const REAL betayL = betay[index];\n",
    "          //const REAL betazL = betaz[index];\n"
   ]
  },
  {
   "cell_type": "markdown",
   "metadata": {},
   "source": [
    "Now, we will enforce the orthogonality of the magnetic field and densitized poynting flux: \n",
    "$${\\tilde S}_i \\rightarrow {\\tilde S}_i - ({\\tilde S}_j {\\tilde B}^j) {\\tilde B}_i/{\\tilde B}^2$$\n",
    "First, we compute the inner products ${\\tilde S}_j {\\tilde B}^j$ and ${\\tilde B}^2 = \\gamma_{ij} {\\tilde B}^i {\\tilde B}^j$; then, we subtract $({\\tilde S}_j {\\tilde B}^j) {\\tilde B}_i/{\\tilde B}^2$ from ${\\tilde S}_i$. We thus guarantee that ${\\tilde S}_i B^i=0$.\n",
    "\n",
    "Having fixed ${\\tilde S}_i$, we will also compute the related quantities ${\\tilde S}^i = \\gamma^{ij} {\\tilde S}_j$ and ${\\tilde S}^2 = {\\tilde S}_i {\\tilde S}^i$.\n",
    "\n",
    "Note also the macro `APPLY_GRFFE_FIXES`; by commenting out this one line, we can easily disable the GRFFE fixes for testing purposes. "
   ]
  },
  {
   "cell_type": "code",
   "execution_count": 5,
   "metadata": {},
   "outputs": [
    {
     "name": "stdout",
     "output_type": "stream",
     "text": [
      "Appending to GiRaFFE_standalone/driver_conserv_to_prims_FFE.C\n"
     ]
    }
   ],
   "source": [
    "%%writefile -a GiRaFFE_standalone/driver_conserv_to_prims_FFE.C\n",
    "          //* 1. Just below Eq 90: Enforce orthogonality of B^i & S^i, so that B^i S_i = 0\n",
    "          //*    Correction ${\\tilde S}_i ->{\\tilde S}_i - ({\\tilde S}_j {\\tilde B}^j) {\\tilde B}_i/{\\tilde B}^2$\n",
    "          //*    NOTICE THAT THE {\\tilde B}_i IS LOWERED, AS IT SHOULD BE. THIS IS A TYPO IN PASCHALIDIS ET AL.\n",
    "\n",
    "          // First compute Btilde^i Stilde_i:\n",
    "          const REAL BtildeiSt_i = StildeD0L*BtildexL + StildeD1L*BtildeyL + StildeD2L*BtildezL;\n",
    "          //printf(\"xterm = %f ; yterm = %f ; zterm = %f\\n\",StildeD0L*BtildexL,StildeD1L*BtildeyL,StildeD2L*BtildezL);\n",
    "\n",
    "          // Then compute (Btilde)^2\n",
    "          const REAL Btilde2 = gxxL*BtildexL*BtildexL + gyyL*BtildeyL*BtildeyL + gzzL*BtildezL*BtildezL\n",
    "            + 2.0*(gxyL*BtildexL*BtildeyL + gxzL*BtildexL*BtildezL + gyzL*BtildeyL*BtildezL);\n",
    "\n",
    "#define APPLY_GRFFE_FIXES\n",
    "\n",
    "          // Now apply constraint: Stilde_i = Stilde_i - (Btilde^i Stilde_i) / (Btilde)^2\n",
    "#ifdef APPLY_GRFFE_FIXES\n",
    "          StildeD0L -= BtildeiSt_i*Btilde_xL/Btilde2;\n",
    "          StildeD1L -= BtildeiSt_i*Btilde_yL/Btilde2;\n",
    "          StildeD2L -= BtildeiSt_i*Btilde_zL/Btilde2;\n",
    "          //printf(\"BtildeiSt_i = %f ; Btilde2 = %f\\n\",BtildeiSt_i,Btilde2);\n",
    "#endif\n",
    "          // Now that tildeS_i has been fixed, let's compute tildeS^i:\n",
    "          REAL mhd_st_upx = gupxxL*StildeD0L + gupxyL*StildeD1L + gupxzL*StildeD2L;\n",
    "          REAL mhd_st_upy = gupxyL*StildeD0L + gupyyL*StildeD1L + gupyzL*StildeD2L;\n",
    "          REAL mhd_st_upz = gupxzL*StildeD0L + gupyzL*StildeD1L + gupzzL*StildeD2L;\n",
    "\n",
    "          // Just below Eq. 86 in http://arxiv.org/pdf/1310.3274.pdf:\n",
    "          REAL St2 = StildeD0L*mhd_st_upx + StildeD1L*mhd_st_upy + StildeD2L*mhd_st_upz;\n"
   ]
  },
  {
   "cell_type": "markdown",
   "metadata": {},
   "source": [
    "The next fix that we will apply limits the Lorentz factor. That is, we define the factor $f$ as \n",
    "$$f = \\sqrt{(1-\\gamma_{\\rm max}^{-2}){\\tilde B}^4/(16 \\pi^2 \\gamma {\\tilde S}^2)}.$$\n",
    "\n",
    "If the magnitude of ${\\tilde S}_i$ exceeds $f$ (or if, as the code actually calculates, $\\tilde{S}^2 > f^2$), we rescale the components of ${\\tilde S}_i$ by $f$:\n",
    "$${\\tilde S}_i \\rightarrow {\\tilde S}_i \\min(1,f).$$\n",
    "\n",
    "We then double check that the cap was effective by checking if $\\tilde{S}^2 > f^2$. \n",
    "**TODO:** That doesn't actually look like what that code block does."
   ]
  },
  {
   "cell_type": "code",
   "execution_count": 6,
   "metadata": {},
   "outputs": [
    {
     "name": "stdout",
     "output_type": "stream",
     "text": [
      "Appending to GiRaFFE_standalone/driver_conserv_to_prims_FFE.C\n"
     ]
    }
   ],
   "source": [
    "%%writefile -a GiRaFFE_standalone/driver_conserv_to_prims_FFE.C\n",
    "          //* 2. Eq. 92: Factor $f = \\sqrt{(1-\\gamma_{max}^{-2}){\\tilde B}^4/(16 \\pi^2 \\gamma {\\tilde S}^2)}$ \n",
    "\n",
    "#ifdef APPLY_GRFFE_FIXES\n",
    "          const REAL gmax = GAMMA_SPEED_LIMIT;\n",
    "          if(St2 > (1.0 - 1.0/(gmax*gmax))*Btilde2*Btilde2/ (16.0*M_PI*M_PI*sqrtg*sqrtg)) {\n",
    "            const REAL fact = sqrt((1.0 - 1.0/(gmax*gmax))/St2)*Btilde2/(4.0*M_PI*sqrtg);\n",
    "\n",
    "            //* 3. ${\\tilde S}_i -> {\\tilde S}_i min(1,f)\n",
    "            StildeD0L *= MIN(1.0,fact);\n",
    "            StildeD1L *= MIN(1.0,fact);\n",
    "            StildeD2L *= MIN(1.0,fact);\n",
    "\n",
    "            // Recompute S^i\n",
    "            mhd_st_upx = gupxxL*StildeD0L + gupxyL*StildeD1L + gupxzL*StildeD2L;\n",
    "            mhd_st_upy = gupxyL*StildeD0L + gupyyL*StildeD1L + gupyzL*StildeD2L;\n",
    "            mhd_st_upz = gupxzL*StildeD0L + gupyzL*StildeD1L + gupzzL*StildeD2L;\n",
    "            /*\n",
    "            printf(\"%e %e %e | %e %e %e | %e %e %e | oldgamma: %e %e should be > %e vfix\\n\",x[index],y[index],z[index],\n",
    "                   BU0L,BU1L,BU2L,\n",
    "                   St2,(1.0 - 1.0/(gmax*gmax))*Btilde2*Btilde2/ (16.0*M_PI*M_PI*sqrtg*sqrtg),gmax,\n",
    "                   sqrt(Btilde2 / (Btilde2 - 16*M_PI*M_PI*sqrtg*sqrtg * St2 / Btilde2) ) , Btilde2,16*M_PI*M_PI*sqrtg*sqrtg * St2 / Btilde2  );\n",
    "            //exit(1);\n",
    "            */\n",
    "            // Recompute Stilde^2:\n",
    "            St2 = StildeD0L*mhd_st_upx + StildeD1L*mhd_st_upy + StildeD2L*mhd_st_upz;\n",
    "\n",
    "            if( St2 >= Btilde2*Btilde2/ (16.0*M_PI*M_PI*sqrtg*sqrtg) ) {\n",
    "              printf(\"ERROR: Velocity cap fix wasn't effective; still have B^2 > E^2\\n\"); exit(1);\n",
    "            }\n",
    "            num_vel_limits++;\n",
    "          }\n",
    "#endif\n"
   ]
  },
  {
   "cell_type": "markdown",
   "metadata": {},
   "source": [
    "Finally, we can calculate the velocities. In the source used, the equation to compute the drift velocity is given as \n",
    "$$v^i = 4 \\pi \\alpha \\gamma^{ij} {\\tilde S}_j \\gamma^{-1/2} B^{-2} - \\beta^i.$$\n",
    "However, we wish to use the Valencia velocity instead. Since the Valencia velocity $\\bar{v}^i = \\frac{1}{\\alpha} \\left( v^i - \\beta^i \\right)$, we will code \n",
    "$$\\bar{v}^i = 4 \\pi \\frac{\\gamma^{ij} {\\tilde S}_j}{\\sqrt{\\gamma} B^2}.$$\n"
   ]
  },
  {
   "cell_type": "code",
   "execution_count": 7,
   "metadata": {},
   "outputs": [
    {
     "name": "stdout",
     "output_type": "stream",
     "text": [
      "Appending to GiRaFFE_standalone/driver_conserv_to_prims_FFE.C\n"
     ]
    }
   ],
   "source": [
    "%%writefile -a GiRaFFE_standalone/driver_conserv_to_prims_FFE.C\n",
    "          //* 4. Eq. 85: $v^i = 4 pi \\alpha \\gamma^{ij} {\\tilde S}_j \\gamma{-1/2} B^{-2} - \\beta^i$: \n",
    "\n",
    "          // See, e.g., Eq 71 in http://arxiv.org/pdf/1310.3274.pdf\n",
    "          // ... or end of page 7 on http://arxiv.org/pdf/1310.3274.pdf:\n",
    "          const REAL B2 = Btilde2/(sqrtg*sqrtg);\n",
    "          /* \n",
    "             Eq. 75: \n",
    "             v^i = \\alpha \\gamma^{ij} S_j / \\mathcal{B}^2 - \\beta^i\n",
    "             Eq. 7: \\mathcal{B}^{\\mu} = B^{\\mu}/\\sqrt{4 \\pi}\n",
    "             -> v^i = 4 \\pi \\alpha \\gamma^{ij} S_j / B^2 - \\beta^i\n",
    "             Eq. 79: \\tilde{S_i} = \\sqrt{\\gamma} S_i\n",
    "             -> v^i = 4 \\pi \\alpha \\gamma^{ij} \\tilde{S}_j / (\\sqrt{\\gamma} B^2) - \\beta^i\n",
    "          */\n",
    "          // Modified from the original GiRaFFE to use Valencia, not drift velocity\n",
    "          const REAL ValenciavU0L = fourpi*mhd_st_upx/(sqrtg*B2);\n",
    "          const REAL ValenciavU1L = fourpi*mhd_st_upy/(sqrtg*B2);\n",
    "          /* ValenciavU2L not necessarily const! See below. */\n",
    "          REAL ValenciavU2L = fourpi*mhd_st_upz/(sqrtg*B2);\n",
    "            \n",
    "          //* 5. Eq. 94: ${\\tilde n}_i v^i = 0$ in the current sheet region\n",
    "          //     n^i is defined as the normal from the current sheet, which lies in the \n",
    "          //     xy-plane (z=0). So n = (0,0,1) \n",
    "#ifdef APPLY_GRFFE_FIXES\n",
    "          if(current_sheet_null_v) {\n",
    "            if (fabs(xx2) <= (4.0 + 1.0e-2)*dz ) {\n",
    "              //ValenciavU2L = 0.0;\n",
    "              ValenciavU2L = - (ValenciavU0L*gxzL + ValenciavU1L*gyzL) / gzzL;\n",
    "                // FIXME: This is probably not right, but also definitely not the problem. \n",
    "            \n",
    "              // ValenciavU2L reset: TYPICALLY WOULD RESET CONSERVATIVES TO BE CONSISTENT. LET'S NOT DO THAT, TO AVOID MESSING UP B-FIELDS\n",
    "\n",
    "              if(1==1) {\n",
    "                GiRaFFE_HO_compute_conservatives(gxxL, gxyL, gxzL, gyyL, gyzL, gzzL,\n",
    "                                                 BU0L, BU1L, BU2L, ValenciavU0L, ValenciavU1L, ValenciavU2L,\n",
    "                                                 /*const REAL betaxL, const REAL betayL, const REAL betazL, const REAL alpL,*/\n",
    "                                                 sqrtg, &StildeD0L, &StildeD1L, &StildeD2L);\n",
    "              }\n",
    "              num_vel_nulls_current_sheet++;\n",
    "            }\n",
    "          }\n",
    "#endif\n",
    "          aux_gfs[IDX4pt(VALENCIAVU0GF, index)] = ValenciavU0L;\n",
    "          aux_gfs[IDX4pt(VALENCIAVU1GF, index)] = ValenciavU1L;      \n",
    "          aux_gfs[IDX4pt(VALENCIAVU2GF, index)] = ValenciavU2L;      \n",
    "            \n",
    "          //Now we compute the difference between original & new conservatives, for diagnostic purposes:\n",
    "          //error_int_numer += fabs(StildeD0L - StildeD0_orig) + fabs(StildeD1L - StildeD1_orig) + fabs(StildeD2L - StildeD2_orig);\n",
    "          //error_int_denom += fabs(StildeD0_orig) + fabs(StildeD1_orig) + fabs(StildeD2_orig);\n",
    "          /*\n",
    "            if(fabs(ValenciavU0_orig) > 1e-13 && fabs(ValenciavU0L-ValenciavU0_orig)/ValenciavU0_orig > 1e-2) printf(\"BAD ValenciavU0: %e %e | %e %e %e\\n\",ValenciavU0L,ValenciavU0_orig,x[index],y[index],z[index]);\n",
    "            if(fabs(ValenciavU1_orig) > 1e-13 && fabs(ValenciavU1L-ValenciavU1_orig)/ValenciavU1_orig > 1e-2) printf(\"BAD ValenciavU1: %e %e | %e %e %e\\n\",ValenciavU1L,ValenciavU1_orig,x[index],y[index],z[index]);\n",
    "            if(fabs(ValenciavU2_orig) > 1e-13 && fabs(ValenciavU2L-ValenciavU2_orig)/ValenciavU2_orig > 1e-2) printf(\"BAD ValenciavU2: %e %e | %e %e %e\\n\",ValenciavU2L,ValenciavU2_orig,x[index],y[index],z[index]);\n",
    "          */\n",
    "            error_int_numer += fabs(ValenciavU0L - ValenciavU0_orig) + fabs(ValenciavU1L - ValenciavU1_orig) + fabs(ValenciavU2L - ValenciavU2_orig);\n",
    "            error_int_denom += fabs(ValenciavU0_orig) + fabs(ValenciavU1_orig) + fabs(ValenciavU2_orig);\n",
    "          \n",
    "\n",
    "\n",
    "          in_gfs[IDX4pt(STILDED0GF, index)] = StildeD0L;\n",
    "          in_gfs[IDX4pt(STILDED1GF, index)] = StildeD1L;\n",
    "          in_gfs[IDX4pt(STILDED2GF, index)] = StildeD2L;\n",
    "        }\n",
    "      }\n",
    "\n",
    " /*\n",
    "  *CCTK_VInfo(CCTK_THORNSTRING,\"FFEC2P: Lev: %d NumPts= %d | Error: %.3e, ErrDenom: %.3e, v_limits: %d / %d = %.3e, v_nulls: %d / %d = %.3e\",\n",
    "  *           (int)GetRefinementLevel(cctkGH),\n",
    "  *           cctk_lsh[0]*cctk_lsh[1]*cctk_lsh[2],\n",
    "  *           error_int_numer/(error_int_denom+1e-300),error_int_denom,\n",
    "  *                  num_vel_limits,            cctk_lsh[0]*cctk_lsh[1]*cctk_lsh[2],\n",
    "  *           (REAL)num_vel_limits/((REAL)cctk_lsh[0]*cctk_lsh[1]*cctk_lsh[2]),\n",
    "  *                  num_vel_nulls_current_sheet,            cctk_lsh[0]*cctk_lsh[1]*cctk_lsh[2],\n",
    "  *           (REAL)num_vel_nulls_current_sheet/((REAL)cctk_lsh[0]*cctk_lsh[1]*cctk_lsh[2]));\n",
    "  */\n",
    "}"
   ]
  },
  {
   "cell_type": "code",
   "execution_count": 8,
   "metadata": {},
   "outputs": [
    {
     "name": "stdout",
     "output_type": "stream",
     "text": [
      "Overwriting GiRaFFE_standalone/compute_conservatives_FFE.C\n"
     ]
    }
   ],
   "source": [
    "%%writefile GiRaFFE_standalone/compute_conservatives_FFE.C\n",
    "void GiRaFFE_HO_compute_conservatives(const REAL gxxL,const REAL gxyL,const REAL gxzL,const REAL gyyL,const REAL gyzL,const REAL gzzL,\n",
    "                                      const REAL BxL, const REAL ByL, const REAL BzL, const REAL vxL, const REAL vyL, const REAL vzL,\n",
    "                                      //const REAL betaxL, const REAL betayL, const REAL betazL, const REAL alpL,\n",
    "                                      const REAL sqrtg,REAL *StildeD0L, REAL *StildeD1L, REAL *StildeD2L) {\n",
    "\n",
    "  //const REAL fourpialpha_inv = 1.0/( 4.0*M_PI*(METRIC[LAPM1] + 1.0) );\n",
    "  const REAL fourpi_inv = 1.0/( 4.0*M_PI );\n",
    "\n",
    "  const REAL B2 = gxxL*BxL*BxL + gyyL*ByL*ByL + gzzL*BzL*BzL\n",
    "    + 2.0*(gxyL*BxL*ByL + gxzL*BxL*BzL + gyzL*ByL*BzL);\n",
    "\n",
    "\n",
    "  // NOTE: SIGNIFICANTLY MODIFIED FROM ILLINOISGRMHD VERSION:\n",
    "  //       velocities in GiRaFFE are defined to be \"drift\" velocity.\n",
    "  //       cf. Eqs 47 and 85 in http://arxiv.org/pdf/1310.3274.pdf \n",
    "  // Modified again from the original GiRaFFE to use Valencia velocity\n",
    "\n",
    "  const REAL v_xL = gxxL*vxL + gxyL*vyL + gxzL*vzL;\n",
    "  const REAL v_yL = gxyL*vxL + gyyL*vyL + gyzL*vzL;\n",
    "  const REAL v_zL = gxzL*vxL + gyzL*vyL + gzzL*vzL;\n",
    "  \n",
    "  /*\n",
    "   * Comments:\n",
    "   * Eq. 85 in https://arxiv.org/pdf/1310.3274.pdf:\n",
    "   * v^i = 4 pi alpha * (gamma^{ij} tilde{S}_j) / (sqrtgamma * B^2) - beta^i\n",
    "   * which implies that\n",
    "   * (v^i + beta^i)*(sqrtgamma * B^2)/(4 pi alpha) = gamma^{ij} tilde{S}_j\n",
    "   * Multiply both sides by gamma_{ik}:\n",
    "   * gamma_{ik} (v^i + beta^i)*(sqrtgamma * B^2)/(4 pi alpha) = gamma_{ik} gamma^{ij} tilde{S}_j\n",
    "   * \n",
    "   * -> tilde{S}_k = gamma_{ik} (v^i + beta^i)*(sqrtgamma * B^2)/(4 pi alpha)\n",
    "   */\n",
    "\n",
    "  *StildeD0L = v_xL * sqrtg * B2 * fourpi_inv;\n",
    "  *StildeD1L = v_yL * sqrtg * B2 * fourpi_inv;\n",
    "  *StildeD2L = v_zL * sqrtg * B2 * fourpi_inv;\n",
    "}"
   ]
  }
 ],
 "metadata": {
  "kernelspec": {
   "display_name": "Python 2",
   "language": "python",
   "name": "python2"
  },
  "language_info": {
   "codemirror_mode": {
    "name": "ipython",
    "version": 2
   },
   "file_extension": ".py",
   "mimetype": "text/x-python",
   "name": "python",
   "nbconvert_exporter": "python",
   "pygments_lexer": "ipython2",
   "version": "2.7.13"
  }
 },
 "nbformat": 4,
 "nbformat_minor": 2
}
