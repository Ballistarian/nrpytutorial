{
 "cells": [
  {
   "attachments": {
    "image.png": {
     "image/png": "[encoded data removed]"
    }
   },
   "cell_type": "markdown",
   "metadata": {},
   "source": [
    "![image.png](attachment:image.png)\n",
    "\n",
    "# NRPy+ Tutorial\n",
    "\n",
    "**[Zachariah B. Etienne](http://math.wvu.edu/~zetienne/)** $\\leftarrow$ Please feel free to email comments, revisions, or errata!"
   ]
  },
  {
   "cell_type": "markdown",
   "metadata": {},
   "source": [
    "## Introduction & Motivation\n",
    "\n",
    "**[NRPy+](http://blackholesathome.net)** (\"Python-based code generation for numerical relativity... and beyond!\") is a Python-based package for generating highly optimized C code for finite-difference representations of [hyperbolic](https://en.wikipedia.org/wiki/Hyperbolic_partial_differential_equation) and [parabolic](https://en.wikipedia.org/wiki/Parabolic_partial_differential_equation) partial differential equations.\n",
    "\n",
    "Users may input complex expressions that appear in these equations in [clean tensorial form](https://en.wikipedia.org/wiki/Einstein_notation), which acts to **minimize human error**. **NRPy+** processes this input, **outputting highly-optimized C code with [CSE](https://en.wikipedia.org/wiki/Common_subexpression_elimination) and/or [SIMD](https://en.wikipedia.org/wiki/Advanced_Vector_Extensions) [compiler intrinsics](https://en.wikipedia.org/wiki/Intrinsic_function) if desired**.\n",
    "\n",
    "**NRPy+** is designed to **lower the barrier to entry** for new users, requiring **no expensive [Mathematica](http://www.wolfram.com/mathematica/) or [Maple](https://www.maplesoft.com/products/Maple/) license to function**. Instead, it makes extensive use of the powerful, open-source [SymPy](http://sympy.org) as its [computer algebra system](https://en.wikipedia.org/wiki/Computer_algebra_system) back-end.\n",
    "\n",
    "Though it was originally designed to greatly **accelerate software development** for [numerical relativity](https://en.wikipedia.org/wiki/Numerical_relativity) (i.e., solving Einstein's equations of general relativity on the computer), **NRPy+** can be used to rapidly develop software to solve much broader classes of [hyperbolic](https://en.wikipedia.org/wiki/Hyperbolic_partial_differential_equation) and [parabolic](https://en.wikipedia.org/wiki/Parabolic_partial_differential_equation) partial differential equations with finite difference approaches.\n",
    "\n",
    "## NRPy+ Tutorial Modules:\n",
    "### (READ FIRST, IN ORDER) Basic functionality of NRPy+, a First Application\n",
    "##### NRPy+ Basics\n",
    "+ [Basic C Code Output, NRPy+'s Parameter Interface](Tutorial-Coutput__Parameter_Interface.ipynb)\n",
    "+ [Numerical Grids](Tutorial-Numerical_Grids.ipynb)\n",
    "+ [Indexed Expressions (e.g., tensors, pseudotensors, etc.)](Tutorial-Indexed_Expressions.ipynb)\n",
    "+ [Finite Difference Derivatives](Tutorial-Finite_Difference_Derivatives.ipynb)\n",
    "    + Instructional module: [How NRPy+ Computes Finite Difference Derivative Coefficients](Tutorial-How_NRPy_Computes_Finite_Difference_Coeffs.ipynb)\n",
    "    + Start-to-Finish Example: [Finite-Difference Playground: A Complete C Code for Analyzing NRPy+-Based Finite Differences](Tutorial-Start_to_Finish-Finite_Difference_Playground.ipynb)\n",
    "\n",
    "### (READ SECOND, IN ORDER) Basic Physics Applications \n",
    "##### Leveraging NRPy+ to Numerically Solve PDEs\n",
    "+ Application: [The Scalar **Wave Equation** in Cartesian Coordinates, with Plane-Wave Initial Data](Tutorial-ScalarWave.ipynb)\n",
    "    + Solving the Wave Equation with the <font color='green'>**Einstein Toolkit**</font> (*Courtesy Patrick Nelson*)\n",
    "        + [<font color='green'>**IDScalarWaveNRPy**</font>: Plane-wave initial data module for the scalar wave equation](Tutorial-ETK_thorn-IDScalarWaveNRPy.ipynb) \n",
    "        + [<font color='green'>**WaveToyNRPy**</font>: Solving the scalar wave equation, using the method of lines](Tutorial-ETK_thorn-WaveToyNRPy.ipynb)\n",
    "+ Application (in progress): [Two Vector-Potential Formulations of **Maxwell's Equations** in Cartesian Coordinates](Tutorial-MaxwellCartesian.ipynb). (Formulations based on [Illustrating Stability Properties of Numerical Relativity in Electrodynamics](https://arxiv.org/abs/gr-qc/0201051) by Knapp, Walker, and Baumgarte.) (*Courtesy Patrick Nelson*)\n",
    "    + [<font color='green'>**IDMaxwellNRPy**</font>: An <font color='green'>**Einstein Toolkit**</font> initial data thorn for Maxwell's equations](Tutorial-ETK_thorn-IDMaxwellNRPy.ipynb)\n",
    "    + [<font color='green'>**MaxwellEvol**</font>: Solving Maxwell's equations in the <font color='green'>**Einstein Toolkit**</font> using the method of lines](Tutorial-ETK_thorn-MaxwellEvol.ipynb)\n",
    "\n",
    "##### Diagnostic Modules: Gravitational Wave Extraction\n",
    "+ Application: [The **Weyl Scalars and Invariants** in Cartesian Coordinates](Tutorial-WeylScalarsInvariants-Cartesian.ipynb) (*Courtesy Patrick Nelson*)\n",
    "    + [<font color='green'>**WeylScal4NRPy**</font>: An <font color='green'>**Einstein Toolkit**</font> Diagnostic Thorn](Tutorial-ETK_thorn-Weyl_Scalars_and_Spacetime_Invariants.ipynb) (*Courtesy Patrick Nelson*)\n",
    "\n",
    "##### Diagnostic Modules: GRMHD/GRFFE\n",
    "+ Application: [Computing the 4-Velocity Time-Component $u^0$, the Magnetic Field Measured by a Comoving Observer $b^{\\mu}$, and the Poynting Vector $S^i$](Tutorial-u0_smallb_Poynting-Cartesian.ipynb)\n",
    "    + [<font color='green'>**sbPoynETNRPy**</font>: Evaluating $b^\\mu$ and $S^i$ in the <font color='green'>**Einstein Toolkit**</font>, using HydroBase variables as input](Tutorial-ETK_thorn-u0_smallb_Poynting.ipynb)\n",
    "\n",
    "### (READ THIRD, IN ORDER) Solving PDEs in Curvilinear Coordinate Systems\n",
    "+ [Moving beyond Cartesian Grids: Reference Metrics](Tutorial-Reference_Metric.ipynb)\n",
    "+ Application: [The Scalar Wave Equation in Curvilinear Coordinates, using a Reference Metric](Tutorial-ScalarWaveCurvilinear.ipynb)\n",
    "+ Application: [Maxwell's Equations in Curvilinear Coordinates, using a Reference Metric](Tutorial-MaxwellCurvilinear.ipynb) (*Courtesy Ian Ruchlin*)\n",
    "+ Application: [General Relativity in the BSSN Formalism, Moving Puncture Gauge](Tutorial-BSSNCurvilinear.ipynb)\n",
    "    + Application (in progress) [Adding the $8\\pi T^{\\mu\\nu}$ source terms to the BSSN Equations](Tutorial-BSSNCurvilinear_Plus_Matter_Sources.ipynb)"
   ]
  }
 ],
 "metadata": {
  "kernelspec": {
   "display_name": "Python 3",
   "language": "python",
   "name": "python3"
  },
  "language_info": {
   "codemirror_mode": {
    "name": "ipython",
    "version": 3
   },
   "file_extension": ".py",
   "mimetype": "text/x-python",
   "name": "python",
   "nbconvert_exporter": "python",
   "pygments_lexer": "ipython3",
   "version": "3.6.6"
  }
 },
 "nbformat": 4,
 "nbformat_minor": 2
}
