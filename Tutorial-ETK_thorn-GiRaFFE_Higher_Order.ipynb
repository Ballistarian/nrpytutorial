{
 "cells": [
  {
   "cell_type": "markdown",
   "metadata": {},
   "source": [
    "$\\newcommand{\\giraffe}{\\texttt{GiRaFFE}}$\n",
    "# $\\giraffe$: Solving GRFFE equations at a higher Finite Differencing order\n",
    "\n",
    "### NRPy+ Source Code for this module: [Tutorial-GiRaFFE_Higher_Order.py](../edit/Tutorial-GiRaFFE_Higher_Order.py), which is fully documented in the [previous NRPy+ tutorial module](Tutorial-GiRaFFE_Higher_Order.ipynb) on using NRPy+ to construct Maxwell's equations and initial data as SymPy expressions."
   ]
  },
  {
   "cell_type": "markdown",
   "metadata": {},
   "source": [
    "This module focuses on using the equations developed in the [last tutorial](Tutorial-GiRaFFE_Higher_Order.ipynb) to build an Einstein Toolkit (ETK) thorn to solve the GRFFE equations in Cartesian coordinates. This tutorial will focus on implementing the time evolution aspects; others can be contructed to set up specific initial data.\n",
    "\n",
    "When interfaced properly with the ETK, this module will propagate the initial data for $\\tilde{S}_i$, $A_i$, and $\\sqrt{\\gamma} \\Phi$, defined in the last tutorial, forward in time by integrating the equations for $\\partial_t \\tilde{S}_i$, $\\partial_t A_i$ and $\\partial_t [\\sqrt{\\gamma} \\Phi]$ subject to spatial boundary conditions. The time evolution itself is handled by the $\\text{MoL}$ (Method of Lines) thorn in the $\\text{CactusNumerical}$ arrangement, and the boundary conditions by the $\\text{Boundary}$ thorn in the $\\text{CactusBase}$ arrangement. \n",
    "\n",
    "Similar to the other ETK modules we have built, we will construct the WaveToyNRPy module in two steps.\n",
    "\n",
    "1. Call on NRPy+ to convert the SymPy expressions for the evolution equations into one C-code kernel.\n",
    "1. Write the C code and linkages to the Einstein Toolkit infrastructure (i.e., the .ccl files) to complete this Einstein Toolkit module.\n"
   ]
  },
  {
   "cell_type": "code",
   "execution_count": 1,
   "metadata": {},
   "outputs": [
    {
     "ename": "SyntaxError",
     "evalue": "invalid syntax (<ipython-input-1-3d780ed8d0c7>, line 17)",
     "output_type": "error",
     "traceback": [
      "\u001b[0;36m  File \u001b[0;32m\"<ipython-input-1-3d780ed8d0c7>\"\u001b[0;36m, line \u001b[0;32m17\u001b[0m\n\u001b[0;31m    import Tutorial-GiRaFFE_Higher_Order as gho\u001b[0m\n\u001b[0m                   ^\u001b[0m\n\u001b[0;31mSyntaxError\u001b[0m\u001b[0;31m:\u001b[0m invalid syntax\n"
     ]
    }
   ],
   "source": [
    "import NRPy_param_funcs as par\n",
    "import indexedexp as ixp\n",
    "import grid as gri\n",
    "import finite_difference as fin\n",
    "from outputC import *\n",
    "import loop\n",
    "\n",
    "#Step 0: Set the spatial dimension parameter to 3.\n",
    "par.set_parval_from_str(\"grid::DIM\", 3)\n",
    "DIM = par.parval_from_str(\"grid::DIM\")\n",
    "\n",
    "# Step 1: Set the finite differencing order to 4.\n",
    "par.set_parval_from_str(\"finite_difference::FD_CENTDERIVS_ORDER\", 4)\n",
    "\n",
    "# Step 1c: Call the MaxwellCartesian_Evol() function from within the\n",
    "#          Maxwell/MaxwellCartesian_Evol.py module.\n",
    "import Tutorial-GiRaFFE_Higher_Order as gho\n",
    "gho.GiRaFFE_Higher_Order()\n",
    "\n",
    "# Step 2: Register gridfunctions so they can be written to by NRPy.\n",
    "#gammaDD = ixp.register_gridfunctions_for_single_rank2(\"AUX\",\"gammaDD\", \"sym01\",DIM=3)\n",
    "#betaU   = ixp.register_gridfunctions_for_single_rank1(\"AUX\",\"betaU\",DIM=3)\n",
    "#alpha   = gri.register_gridfunctions(\"AUX\",\"alpha\")\n",
    "#ValenciavU = ixp.register_gridfunctions_for_single_rank1(\"AUX\",\"ValenciavU\",DIM=3)\n",
    "Stilde_rhsD = ixp.register_gridfunctions_for_single_rank1(\"AUX\",\"Stilde_rhs\")\n",
    "A_rhsD = ixp.register_gridfunctions_for_single_rank1(\"AUX\",\"A_rhsD\")\n",
    "psi6Phi = gri.register_gridfunctions(\"AUX\",\"psi6Phi\")\n",
    "\n",
    "# Step 3: Set the rhs gridfunctions to their variables \n",
    "#         defined by GiRaFFE_Higher_Order().\n",
    "\n",
    "\n",
    "# Step 5: Create directories for the thorn if they don't exist.\n",
    "!mkdir GiRaFFE_HO     2>/dev/null # 2>/dev/null: Don't throw an error if the directory already exists.\n",
    "!mkdir GiRaFFE_HO/src 2>/dev/null # 2>/dev/null: Don't throw an error if the directory already exists.\n"
   ]
  },
  {
   "cell_type": "markdown",
   "metadata": {},
   "source": [
    "We will also need a routine to compute new Valencia 3-velocities at each timestep using a conservative-to-primitive solver. Since we need $v^i_{(n)}$ everywhere, this will require us to compute $B^i$ everywhere. However, $B^i = \\epsilon^{ijk} \\partial_j A_k$ requires derivatives of $A_i$, so getting $B^i$ will require some finesse. A chief aspect of this will require using lower-order finite differencing in the ghost zones. To that end, we will create .h files for each finite differencing order $\\leq 10$, as well as upwinded- and downwinded-derivatives at 2nd order. These will let us compute the derivative at the outermost gridpoints."
   ]
  },
  {
   "cell_type": "code",
   "execution_count": null,
   "metadata": {},
   "outputs": [],
   "source": [
    "AD = ixp.register_gridfunctions_for_single_rank1(\"AUX\",\"AD\",DIM=3)\n",
    "# Step 2: Import the four metric\n",
    "gammaUU = ixp.register_gridfunctions_for_single_rank2(\"AUX\",\"gammaUU\",\"sym01\")\n",
    "gammaDET = gri.register_gridfunctions(\"AUX\",\"gammaDET\")\n",
    "gammaUU, gammaDET = ixp.symm_matrix_inverter3x3(gammaDD)\n",
    "\n",
    "# We already have a handy function to define the Levi-Civita symbol in WeylScalars\n",
    "import WeylScal4NRPy.WeylScalars_Cartesian as weyl\n",
    "LeviCivitaDDD = weyl.define_LeviCivitaSymbol_rank3()\n",
    "LeviCivitaUUU = ixp.zerorank3()\n",
    "for i in range(DIM):\n",
    "    for j in range(DIM):\n",
    "        for k in range(DIM):\n",
    "            LCijk = LeviCivitaDDD[i][j][k]\n",
    "            LeviCivitaDDD[i][j][k] = LCijk * sp.sqrt(gammaDET)\n",
    "            LeviCivitaUUU[i][j][k] = LCijk / sp.sqrt(gammaDET)\n",
    "\n",
    "AD_dD = ixp.declarerank2(\"AD_dD\",\"nosym\")\n",
    "BU = ixp.register_gridfunctions_for_single_rank1(\"AUX\",\"BU\")\n",
    "for i in range(DIM):\n",
    "    BU[i] = 0\n",
    "    for j in range(DIM):\n",
    "        for k in range(DIM):\n",
    "            BU[i] += LeviCivitaUUU[i][j][k] * AD_dD[k][j]\n",
    "\n",
    "par.set_parval_from_str(\"finite_difference::FD_CENTDERIVS_ORDER\", 10)\n",
    "BU_to_print = fin.FD_outputC(\"GiRaFFE_HO/src/B_from_A_10.h\",[\\\n",
    "                                                         lhrh(lhs=gri.gfaccess(\"out_gfs\",\"BU0\"),rhs=BU[0]),\\\n",
    "                                                         lhrh(lhs=gri.gfaccess(\"out_gfs\",\"BU1\"),rhs=BU[1]),\\\n",
    "                                                         lhrh(lhs=gri.gfaccess(\"out_gfs\",\"BU2\"),rhs=BU[2])])\n",
    "\n",
    "par.set_parval_from_str(\"finite_difference::FD_CENTDERIVS_ORDER\", 8)\n",
    "BU_to_print = fin.FD_outputC(\"GiRaFFE_HO/src/B_from_A_8.h\",[\\\n",
    "                                                        lhrh(lhs=gri.gfaccess(\"out_gfs\",\"BU0\"),rhs=BU[0]),\\\n",
    "                                                        lhrh(lhs=gri.gfaccess(\"out_gfs\",\"BU1\"),rhs=BU[1]),\\\n",
    "                                                        lhrh(lhs=gri.gfaccess(\"out_gfs\",\"BU2\"),rhs=BU[2])])\n",
    "\n",
    "par.set_parval_from_str(\"finite_difference::FD_CENTDERIVS_ORDER\", 6)\n",
    "BU_to_print = fin.FD_outputC(\"GiRaFFE_HO/src/B_from_A_6.h\",[\\\n",
    "                                           lhrh(lhs=gri.gfaccess(\"out_gfs\",\"BU0\"),rhs=BU[0]),\\\n",
    "                                           lhrh(lhs=gri.gfaccess(\"out_gfs\",\"BU1\"),rhs=BU[1]),\\\n",
    "                                           lhrh(lhs=gri.gfaccess(\"out_gfs\",\"BU2\"),rhs=BU[2])])\n",
    "\n",
    "par.set_parval_from_str(\"finite_difference::FD_CENTDERIVS_ORDER\", 4)\n",
    "BU_to_print = fin.FD_outputC(\"GiRaFFE_HO/src/B_from_A_4.h\",[\\\n",
    "                                                        lhrh(lhs=gri.gfaccess(\"out_gfs\",\"BU0\"),rhs=BU[0]),\\\n",
    "                                                        lhrh(lhs=gri.gfaccess(\"out_gfs\",\"BU1\"),rhs=BU[1]),\\\n",
    "                                                        lhrh(lhs=gri.gfaccess(\"out_gfs\",\"BU2\"),rhs=BU[2])])\n",
    "\n",
    "par.set_parval_from_str(\"finite_difference::FD_CENTDERIVS_ORDER\", 2)\n",
    "BU_to_print = fin.FD_outputC(\"GiRaFFE_HO/src/B_from_A_2.h\",[\\\n",
    "                                                        lhrh(lhs=gri.gfaccess(\"out_gfs\",\"BU0\"),rhs=BU[0]),\\\n",
    "                                                        lhrh(lhs=gri.gfaccess(\"out_gfs\",\"BU1\"),rhs=BU[1]),\\\n",
    "                                                        lhrh(lhs=gri.gfaccess(\"out_gfs\",\"BU2\"),rhs=BU[2])])\n",
    "\n",
    "AD_ddnD = ixp.declarerank2(\"AD_ddnD\",\"nosym\")\n",
    "for i in range(DIM):\n",
    "    BU[i] = 0\n",
    "    for j in range(DIM):\n",
    "        for k in range(DIM):\n",
    "            BU[i] += LeviCivitaUUU[i][j][k] * AD_ddnD[k][j]\n",
    "BU_to_print = fin.FD_outputC(\"GiRaFFE_HO/src/B_from_A_D.h\",[\\\n",
    "                                                        lhrh(lhs=gri.gfaccess(\"out_gfs\",\"BU0\"),rhs=BU[0]),\\\n",
    "                                                        lhrh(lhs=gri.gfaccess(\"out_gfs\",\"BU1\"),rhs=BU[1]),\\\n",
    "                                                        lhrh(lhs=gri.gfaccess(\"out_gfs\",\"BU2\"),rhs=BU[2])])\n",
    "\n",
    "AD_dupD = ixp.declarerank2(\"AD_dupD\",\"nosym\")\n",
    "for i in range(DIM):\n",
    "    BU[i] = 0\n",
    "    for j in range(DIM):\n",
    "        for k in range(DIM):\n",
    "            BU[i] += LeviCivitaUUU[i][j][k] * AD_dupD[k][j]\n",
    "BU_to_print = fin.FD_outputC(\"GiRaFFE_HO/src/B_from_A_U.h\",[\\\n",
    "                                                        lhrh(lhs=gri.gfaccess(\"out_gfs\",\"BU0\"),rhs=BU[0]),\\\n",
    "                                                        lhrh(lhs=gri.gfaccess(\"out_gfs\",\"BU1\"),rhs=BU[1]),\\\n",
    "                                                        lhrh(lhs=gri.gfaccess(\"out_gfs\",\"BU2\"),rhs=BU[2])])\n",
    "\n"
   ]
  },
  {
   "cell_type": "markdown",
   "metadata": {},
   "source": [
    "### Step 2: Interfacing with the Einstein Toolkit\n",
    "\n",
    "#### Step 2a: Constructing the Einstein Toolkit C-code calling functions that include the C code kernels.\n",
    "\n",
    "Now that we have generated the C code kernel *GiRaFFE_RHSs.h* and the parameters file *NRPy_params.h*, we will need to write C code to make use of these files. To do this, we can simply follow the example within the [IDScalarWaveNRPy tutorial module](Tutorial-ETK_thorn-IDScalarWaveNRPy.ipynb). Functions defined by these files will be called by the Einstein Toolkit scheduler (specified in schedule.ccl below).\n",
    "\n",
    "Also, here we will write the logic that determines which files are called where in order to calculate $B^i$. \n",
    "1. Take the primary finite differencing order $N$ from the param.ccl file. Fill in the interior points with the corresponding FD order. \n",
    "1. Then, at each face, at $0+\\text{cctk_nghostzones[face]}-1$ and $\\text{cctk_lsh[face]}-\\text{cctk_nghostzones[face]}+1$, calculate B at order $N-2$\n",
    "1. Continue moving outwards: at the points $0+\\text{cctk_nghostzones[face]}-p$ and $\\text{cctk_lsh[face]}-\\text{cctk_nghostzones[face]}+p$, calculate B at order $N-2p$.\n",
    "1. When $\\text{cctk_nghostzones[face]}-p = 0$, use the upwinding derivatives "
   ]
  },
  {
   "cell_type": "code",
   "execution_count": null,
   "metadata": {},
   "outputs": [],
   "source": [
    "%%writefile GiRaFFE_HO/src/MaxwellEvol.c\n",
    "#include <math.h>\n",
    "#include <stdio.h>\n",
    "\n",
    "#include \"cctk.h\"\n",
    "#include \"cctk_Arguments.h\"\n",
    "#include \"cctk_Parameters.h\"\n",
    "#include \"Symmetry.h\"\n",
    "\n",
    "#include \"NRPy_params.h\"\n",
    "\n",
    "const int MAXFACE = -1;\n",
    "const int NUL     = +0;\n",
    "const int MINFACE = +1;\n",
    "\n",
    "\n",
    "// Declare boundary condition FACE_UPDATE function,\n",
    "// which fills in the ghost zones with successively\n",
    "// lower order finite differencing\n",
    "void AtoB(const int ORDER, \n",
    "          const CCTK_REAL *Ax,const CCTK_REAL *Ay,const CCTK_REAL *Az,\n",
    "          const CCTK_REAL *Bx,const CCTK_REAL *By,const CCTK_REAL *Bz,\n",
    "          const int i0min, const int i0max, \n",
    "          const int i1min, const int i1max, \n",
    "          const int i2min, const int i2max, \n",
    "          const int FACEX0, const int FACEX1, const int FACEX2) {\n",
    "  if(ORDER==8) {\n",
    "    for(int i2=i2min;i2<i2max;i2++) for(int i1=i1min;i1<i1max;i1++) for(int i0=i0min;i0<i0max;i0++) {\n",
    "        #include \"B_from_A_8.h\"\n",
    "    }\n",
    "  } else if(ORDER==6) {\n",
    "    for(int i2=i2min;i2<i2max;i2++) for(int i1=i1min;i1<i1max;i1++) for(int i0=i0min;i0<i0max;i0++) {\n",
    "        #include \"B_from_A_6.h\"\n",
    "    }\n",
    "  } else if(ORDER==4) {\n",
    "    for(int i2=i2min;i2<i2max;i2++) for(int i1=i1min;i1<i1max;i1++) for(int i0=i0min;i0<i0max;i0++) {\n",
    "        #include \"B_from_A_4.h\"\n",
    "    }\n",
    "  } else if(ORDER==2) {\n",
    "    for(int i2=i2min;i2<i2max;i2++) for(int i1=i1min;i1<i1max;i1++) for(int i0=i0min;i0<i0max;i0++) {\n",
    "        #include \"B_from_A_2.h\"\n",
    "    } \n",
    "  } else if(ORDER==0) {\n",
    "    if(FACEX0==MAXFACE) {\n",
    "        for(int i2=i2min;i2<i2max;i2++) for(int i1=i1min;i1<i1max;i1++) for(int i0=i0min;i0<i0max;i0++) {\n",
    "            #include \"B_from_A_2x0D.h\"\n",
    "        }\n",
    "    } else if(FACEX0==MINFACE) {\n",
    "        for(int i2=i2min;i2<i2max;i2++) for(int i1=i1min;i1<i1max;i1++) for(int i0=i0min;i0<i0max;i0++) {\n",
    "            #include \"B_from_A_2x0U.h\"\n",
    "        }\n",
    "    } else if(FACEX1==MAXFACE) {\n",
    "        for(int i2=i2min;i2<i2max;i2++) for(int i1=i1min;i1<i1max;i1++) for(int i0=i0min;i0<i0max;i0++) {\n",
    "            #include \"B_from_A_2x1D.h\"\n",
    "        }\n",
    "    } else if(FACEX1==MINFACE) {\n",
    "        for(int i2=i2min;i2<i2max;i2++) for(int i1=i1min;i1<i1max;i1++) for(int i0=i0min;i0<i0max;i0++) {\n",
    "            #include \"B_from_A_2x1U.h\"\n",
    "        }\n",
    "    } else if(FACEX2==MAXFACE) {\n",
    "        for(int i2=i2min;i2<i2max;i2++) for(int i1=i1min;i1<i1max;i1++) for(int i0=i0min;i0<i0max;i0++) {\n",
    "            #include \"B_from_A_2x2D.h\"\n",
    "        }\n",
    "    } else if(FACEX2==MINFACE) {\n",
    "        for(int i2=i2min;i2<i2max;i2++) for(int i1=i1min;i1<i1max;i1++) for(int i0=i0min;i0<i0max;i0++) {\n",
    "            #include \"B_from_A_2x2U.h\"\n",
    "        }\n",
    "    } else {\n",
    "        printf(\"ERROR. FACEX parameters not set properly.\\n\")\n",
    "        exit(1);\n",
    "    }\n",
    "  } else {\n",
    "    printf(\"ERROR. ORDER parameter not set properly.\\n\")\n",
    "    exit(1);\n",
    "  }\n",
    "}\n",
    "\n",
    "void driver_A_to_B(CCTK_ARGUMENTS) {\n",
    "  const int *NG = cctk_nghostzones;\n",
    "  const int *Nx = cctk_lsh;\n",
    "  CCTK_INT ORDER = NG[0]*2;\n",
    "  AtoB(ORDER, Ax,Ay,Az,Bx,By,Bz, NG[0],Nx[0]-NG[0],NG[1],Nx[1]-NG[1],NG[2],Nx[2]-NG[2]);\n",
    "  int imin[3] = { NG[0], NG[1], NG[2] };\n",
    "  int imax[3] = { Nx[0]-NG[0], Nx[1]-NG[1], Nx[2]-NG[2] };\n",
    "  for(int which_gz = 0; which_gz < NG[0]; which_gz++) {\n",
    "      // After updating each face, adjust imin[] and imax[] \n",
    "      //   to reflect the newly-updated face extents.\n",
    "      ORDER -= which_gz*2;\n",
    "      AtoB(ORDER, Ax,Ay,Az,Bx,By,Bz, imin[0]-1,imin[0], imin[1],imax[1], imin[2],imax[2], MINFACE,NUL,NUL); imin[0]--;\n",
    "      AtoB(ORDER, Ax,Ay,Az,Bx,By,Bz, imax[0],imax[0]+1, imin[1],imax[1], imin[2],imax[2], MAXFACE,NUL,NUL); imax[0]++;\n",
    "\n",
    "      AtoB(ORDER, Ax,Ay,Az,Bx,By,Bz, imin[0],imax[0], imin[1]-1,imin[1], imin[2],imax[2], NUL,MINFACE,NUL); imin[1]--;\n",
    "      AtoB(ORDER, Ax,Ay,Az,Bx,By,Bz, imin[0],imax[0], imax[1],imax[1]+1, imin[2],imax[2], NUL,MAXFACE,NUL); imax[1]++;\n",
    "\n",
    "      AtoB(ORDER, Ax,Ay,Az,Bx,By,Bz, imin[0],imax[0], imin[1],imax[1], imin[2]-1,imin[2], NUL,NUL,MINFACE); imin[2]--;\n",
    "      AtoB(ORDER, Ax,Ay,Az,Bx,By,Bz, imin[0],imax[0], imin[1],imax[1], imax[2],imax[2]+1, NUL,NUL,MAXFACE); imax[2]++;\n",
    "    }\n",
    "}"
   ]
  },
  {
   "cell_type": "markdown",
   "metadata": {},
   "source": [
    "#### Step 2b: CCL files - Define how this module interacts and interfaces with the larger Einstein Toolkit infrastructure\n",
    "\n",
    "Writing a module (\"thorn\") within the Einstein Toolkit requires that three \"ccl\" files be constructed, all in the root directory of the thorn:\n",
    "\n",
    "1. $\\text{interface.ccl}$: defines the gridfunction groups needed, and provides keywords denoting what this thorn provides and what it should inherit from other thorns. This file governs the interaction between this thorn and others; more information can be found in the [official Einstein Toolkit documentation](http://cactuscode.org/documentation/referencemanual/ReferenceManualch8.html#x12-260000C2.2). \n",
    "With \"implements\", we give our thorn its unique name. By \"inheriting\" other thorns, we tell the Toolkit that we will rely on variables that exist within those functions. Then, we tell the toolkit that we want the gridfunctions $A_i$, $\\tilde{S}_i$, and $\\sqrt{\\gamma}\\Phi$ to be visible to other thorns by using the keyword \"public\". "
   ]
  },
  {
   "cell_type": "code",
   "execution_count": null,
   "metadata": {},
   "outputs": [],
   "source": [
    "%%writefile GiRaFFE_HO/interface.ccl"
   ]
  },
  {
   "cell_type": "markdown",
   "metadata": {},
   "source": [
    "2. $\\text{param.ccl}$: specifies free parameters within the thorn, enabling them to be set at runtime. It is required to provide allowed ranges and default values for each parameter. More information on this file's syntax can be found in the [official Einstein Toolkit documentation](http://cactuscode.org/documentation/referencemanual/ReferenceManualch8.html#x12-265000C2.3). A number of parameters are defined, and more parameters can be easily added in later versions. We also set the number of timelevels we will store in memory."
   ]
  },
  {
   "cell_type": "code",
   "execution_count": null,
   "metadata": {},
   "outputs": [],
   "source": [
    "%%writefile GiRaFFE_HO/param.ccl\n"
   ]
  },
  {
   "cell_type": "markdown",
   "metadata": {},
   "source": [
    "3. $\\text{schedule.ccl}$: allocates storage for gridfunctions, defines how the thorn's functions should be scheduled in a broader simulation, and specifies the regions of memory written to or read from gridfunctions. $\\text{schedule.ccl}$'s official documentation may be found [here](http://cactuscode.org/documentation/referencemanual/ReferenceManualch8.html#x12-268000C2.4). \n",
    "\n",
    "We first assign storage for both scalar gridfunctions, and then specify the standardized ETK \"scheduling bins\" in which we want each of our thorn's functions to run."
   ]
  },
  {
   "cell_type": "code",
   "execution_count": null,
   "metadata": {},
   "outputs": [],
   "source": [
    "%%writefile GiRaFFE_HO/schedule.ccl\n"
   ]
  },
  {
   "cell_type": "markdown",
   "metadata": {},
   "source": [
    "#### Step 2c: Add the C file to Einstein Toolkit compilation list.\n",
    "\n",
    "We will also need $\\text{make.code.defn}$, which indicates the list of files that need to be compiled. This thorn only has the one C file to compile."
   ]
  },
  {
   "cell_type": "code",
   "execution_count": null,
   "metadata": {},
   "outputs": [],
   "source": [
    "%%writefile GiRaFFE_HO/src/make.code.defn\n"
   ]
  }
 ],
 "metadata": {
  "kernelspec": {
   "display_name": "Python 3",
   "language": "python",
   "name": "python3"
  },
  "language_info": {
   "codemirror_mode": {
    "name": "ipython",
    "version": 3
   },
   "file_extension": ".py",
   "mimetype": "text/x-python",
   "name": "python",
   "nbconvert_exporter": "python",
   "pygments_lexer": "ipython3",
   "version": "3.6.6"
  }
 },
 "nbformat": 4,
 "nbformat_minor": 2
}
