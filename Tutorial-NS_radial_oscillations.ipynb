{
 "cells": [
  {
   "cell_type": "markdown",
   "metadata": {},
   "source": [
    "<script async src=\"https://www.googletagmanager.com/gtag/js?id=UA-59152712-8\"></script>\n",
    "<script>\n",
    "  window.dataLayer = window.dataLayer || [];\n",
    "  function gtag(){dataLayer.push(arguments);}\n",
    "  gtag('js', new Date());\n",
    "\n",
    "  gtag('config', 'UA-59152712-8');\n",
    "</script>\n",
    "\n",
    "# Radial Oscillation Solver\n",
    "\n",
    "## Authors: Phil Chang\n",
    "\n",
    "Can work for any TOV star.\n",
    "\n",
    "[comment]: <> (Introduction: TODO)"
   ]
  },
  {
   "cell_type": "markdown",
   "metadata": {},
   "source": [
    "<a id='toc'></a>\n",
    "\n",
    "# Table of Contents\n",
    "$$\\label{toc}$$\n",
    "\n",
    "This notebook is organized as follows:\n",
    "\n",
    "1. [Step 1](#initializenrpy): Initialize core Python/NRPy+ modules\n",
    "1. [Step 2](#initializetov): Make a Model TOV Star using `TOV.TOV_Solver` NRPy+ module\n",
    "1. [Step 3](#oscillations): Radial Oscillations\n",
    "1. [Step 4](#latex_pdf_output): Output this notebook to $\\LaTeX$-formatted PDF file"
   ]
  },
  {
   "cell_type": "markdown",
   "metadata": {},
   "source": [
    "<a id='initializenrpy'></a>\n",
    "\n",
    "# Step 1: Initialize core Python/NRPy+ modules \\[Back to [top](#toc)\\]\n",
    "$$\\label{initializenrpy}$$"
   ]
  },
  {
   "cell_type": "code",
   "execution_count": 1,
   "metadata": {},
   "outputs": [],
   "source": [
    "# Step 1: Import needed Python/NRPy+ modules\n",
    "import numpy as np                  # NumPy: A numerical methods module for Python\n",
    "import scipy.integrate as si        # SciPy: Python module for mathematics, science, and engineering applications\n",
    "import math, sys                    # Standard Python modules for math; multiplatform OS-level functions\n",
    "import TOV.Polytropic_EOSs as ppeos # NRPy+: Piecewise polytrope equation of state support"
   ]
  },
  {
   "cell_type": "markdown",
   "metadata": {},
   "source": [
    "<a id='initializetov'></a>\n",
    "\n",
    "# Step 2: Make a Model TOV Star using `TOV.TOV_Solver` NRPy+ module \\[Back to [top](#toc)\\]\n",
    "$$\\label{initializetov}$$"
   ]
  },
  {
   "cell_type": "code",
   "execution_count": 2,
   "metadata": {},
   "outputs": [
    {
     "name": "stdout",
     "output_type": "stream",
     "text": [
      "1256 1256 1256 1256 1256 1256\n",
      "Just generated a TOV star with \n",
      "* M        = 1.405030336771405e-01 ,\n",
      "* R_Schw   = 9.566044579232513e-01 , \n",
      "* R_iso    = 8.100085557410308e-01 , \n",
      "* M/R_Schw = 1.468768334847266e-01 \n",
      "\n"
     ]
    }
   ],
   "source": [
    "import TOV.TOV_Solver as TOV\n",
    "\n",
    "############################\n",
    "# Single polytrope example #\n",
    "############################\n",
    "# Set neos = 1 (single polytrope)\n",
    "neos = 1\n",
    "\n",
    "# Set rho_poly_tab (not needed for a single polytrope)\n",
    "rho_poly_tab = []\n",
    "\n",
    "# Set Gamma_poly_tab\n",
    "Gamma_poly_tab = [2.0]\n",
    "\n",
    "# Set K_poly_tab0\n",
    "K_poly_tab0 = 1. # ZACH NOTES: CHANGED FROM 100.\n",
    "\n",
    "# Set the eos quantities\n",
    "eos = ppeos.set_up_EOS_parameters__complete_set_of_input_variables(neos,rho_poly_tab,Gamma_poly_tab,K_poly_tab0)\n",
    "\n",
    "# Set initial condition (Pressure computed from central density)\n",
    "rho_baryon_central  = 0.129285\n",
    "\n",
    "# output file \n",
    "tov_file = \"outputTOVpolytrope-oscillations.txt\"\n",
    "\n",
    "TOV.TOV_Solver(eos,\n",
    "               outfile=tov_file,\n",
    "               rho_baryon_central=rho_baryon_central,\n",
    "               verbose = True,\n",
    "               accuracy=\"medium\",\n",
    "               integrator_type=\"default\",\n",
    "               no_output_File = False)\n"
   ]
  },
  {
   "cell_type": "markdown",
   "metadata": {},
   "source": [
    "<a id='oscillations'></a>\n",
    "\n",
    "# Step 3: Radial Oscillations \\[Back to [top](#toc)\\]\n",
    "$$\\label{oscillations}$$"
   ]
  },
  {
   "cell_type": "markdown",
   "metadata": {},
   "source": [
    "According to [Bardeen, Thorne and Meltzer (1966; hereafter BTM)](https://ui.adsabs.harvard.edu/abs/1966ApJ...145..505B/abstract), the line element is written as\n",
    "$$\n",
    "ds^2 = e^\\nu dt^2 - e^{\\lambda} dr^2 - r^2 d\\Omega^2,\n",
    "$$\n",
    "The metric that we defined previously is (for $G=c=1$ and not different sign convention)\n",
    "$$\n",
    "ds^2 = -e^\\nu dt^2 + \\left(1 - \\frac{2m}{r^2}\\right)^{-1} dr^2 + r^2 d\\Omega^2,\n",
    "$$\n",
    "So the identification is \n",
    "$$\n",
    "e^{\\lambda} = \\left(1 - \\frac{2m}{r^2}\\right)^{-1}\n",
    "$$\n",
    "BTM states that the eigenfunction $u_n$ for the displacement of the form\n",
    "$$\n",
    "\\delta r = e^{\\lambda/2}r^{-2} u_n e^{i\\omega_n t}\n",
    "$$\n",
    "satisfies \n",
    "$$\n",
    "\\frac{d}{dr}P\\frac{du_n}{dr} + \\left(Q + \\omega_n^2 W\\right)u_n = 0\n",
    "$$\n",
    "where\n",
    "$$\n",
    "P = e^{(\\lambda + 3\\nu)/2} r^{-2}\\gamma p \\\\\n",
    "Q = -4e^{(\\lambda + 3\\nu)/2} r^{-3}\\frac{dp}{dr} - 8\\pi e^{3(\\nu+\\lambda)/2}r^{-2}p(p+\\rho) + e^{(\\lambda + 3\\nu)/2} r^{-2}(p + \\rho)^{-1}\\frac{dp}{dr}\\\\\n",
    "W = e^{(3\\lambda + \\nu)/2}r^{-2} (p + \\rho)\n",
    "$$\n",
    "where $\\gamma$ is the adiabatic index\n",
    "\n",
    "The solution to the Sturm-Liouville problem must satisfy a BC at $r=0$ and at $r=R$.  In particular at $r\\rightarrow 0$\n",
    "$$\n",
    "u_n = r^3\n",
    "$$\n",
    "At $r=R$, we have the pressure perturbation is zero. This gives a singular point at $r=R$ and the blowup is of the form\n",
    "$$\n",
    "u_n \\propto (R-r)^{-s} \\quad\\textrm{and}\\quad s = \\left[\\frac{d\\ln p/dr}{d\\ln (p/\\rho)/dr}\\right]_{r=R}  \n",
    "$$\n",
    "\n",
    "So to find the eigenvalues, $\\omega_n^2$, integrate from $r=0$ outward $r=R$ or until it start blowing up.\n",
    "\n",
    "For convenience we will define $\\Phi = e^{(\\lambda + 3\\nu)/2} r^{-2}$\n",
    "$$\n",
    "P = \\Phi\\gamma p \\\\\n",
    "Q = -4\\Phi r^{-1}\\frac{dp}{dr} - 8\\pi e^{\\lambda}\\Phi p(p+\\rho) + \\Phi (p + \\rho)^{-1}\\left(\\frac{dp}{dr}\\right)^2\\\\\n",
    "W = \\Phi e^{\\lambda-\\nu}(p + \\rho)\n",
    "$$\n",
    "\n",
    "The formal equations that we are integrating is then\n",
    "$$\n",
    "\\frac{d^2u_n}{dr^2} + P^{-1}\\frac{dP}{dr}\\frac{du_n}{dr} + P^{-1}(Q + \\omega_n^2 W)u_n = 0\n",
    "$$\n"
   ]
  },
  {
   "cell_type": "code",
   "execution_count": 76,
   "metadata": {},
   "outputs": [
    {
     "name": "stdout",
     "output_type": "stream",
     "text": [
      "0.9500001049222272\n",
      "0.9 109438.8658579884\n",
      "1.0 101069.05422340467\n",
      "1.1 103748.38257165668\n",
      "1.2 0.15514199996897868\n",
      "1.2 -389317.4987699406\n"
     ]
    },
    {
     "data": {
      "image/png": "[encoded data removed]",
      "text/plain": [
       "<Figure size 432x288 with 1 Axes>"
      ]
     },
     "metadata": {
      "needs_background": "light"
     },
     "output_type": "display_data"
    }
   ],
   "source": [
    "import scipy.integrate as si \n",
    "\n",
    "def deriv( r, y, rArr_np, P_np, dPdr_np, Q_np, W_np, omega2):\n",
    "    un = y[0]\n",
    "    dundr = y[1]\n",
    "     \n",
    "    P = np.interp(r, rArr_np, P_np)\n",
    "    Q = np.interp(r, rArr_np, Q_np)\n",
    "    W = np.interp(r, rArr_np, W_np)\n",
    "    dPdr = np.interp(r, rArr_np, dPdr_np)\n",
    "\n",
    "    d2undr2 = -(dundr*dPdr/P + (Q + omega2*W)*un/P)\n",
    "    #print((Q + omega2*W)/Q)\n",
    "    return [dundr, d2undr2]   \n",
    "\n",
    "# read in the initial data\n",
    "r_SchwArr_np,rhoArr_np,rho_baryonArr_np,PArr_np,mArr_np,exp2phiArr_np,confFactor_exp4phi_np,rbarArr_np = np.loadtxt(tov_file, unpack=True)\n",
    "\n",
    "gamma = 2\n",
    "boolArray = rhoArr_np > 0\n",
    "expnu = exp2phiArr_np[boolArray]\n",
    "explambda = 1./(1- 2*mArr_np/r_SchwArr_np**2)[boolArray]\n",
    "\n",
    "\n",
    "expnu_half_np = np.sqrt(expnu)\n",
    "explambda_half_np = np.sqrt(explambda)\n",
    "\n",
    "r_SchwArr_np = r_SchwArr_np[boolArray]\n",
    "rhoArr_np = rhoArr_np[boolArray]\n",
    "PArr_np = PArr_np[boolArray]\n",
    "\n",
    "Phi_np = expnu_half_np**3*explambda_half_np/r_SchwArr_np**2\n",
    "P_np = Phi_np*PArr_np*gamma\n",
    "dpdr_np = np.zeros(P_np.size)\n",
    "drhodr_np = np.zeros(P_np.size)\n",
    "drhodr_np[:-1] = (rhoArr_np[1:]-rhoArr_np[:-1])/(r_SchwArr_np[1:] - r_SchwArr_np[:-1])\n",
    "drhodr_np[-1] = drhodr_np[-2]\n",
    "dpdr_np[:-1] = (PArr_np[1:]-PArr_np[:-1])/(r_SchwArr_np[1:] - r_SchwArr_np[:-1])\n",
    "dpdr_np[-1] = dpdr_np[-2] # copy over the last one\n",
    "enthalpy_np = (PArr_np+rhoArr_np)\n",
    "\n",
    "Q_np = -4*Phi_np/r_SchwArr_np*dpdr_np - 8*np.pi*explambda*Phi_np*PArr_np*enthalpy_np + Phi_np/enthalpy_np*dpdr_np**2\n",
    "\n",
    "W_np = Phi_np/expnu*explambda*enthalpy_np\n",
    "\n",
    "dPdr_np = np.zeros(P_np.size)\n",
    "dPdr_np[:-1] = (P_np[1:] - P_np[:-1])/(r_SchwArr_np[1:] - r_SchwArr_np[:-1]) \n",
    "dPdr_np[-1] = dPdr_np[-2]\n",
    "\n",
    "s = drhodr_np[-1]/rhoArr_np[-1]/(dpdr_np[-1]/PArr_np[-1]-drhodr_np[-1]/rhoArr_np[-1])\n",
    "print(s)\n",
    "dpdr_np[-1]\n",
    "un_prev = 1\n",
    "\n",
    "import matplotlib.pyplot as pl\n",
    "pl.clf()\n",
    "# do an initial scan\n",
    "eigenguess = [1.05, 8.3]\n",
    "#for n in np.arange(1, 10, 0.1) : \n",
    "for n in np.arange(0.9, 1.3, 0.1) : \n",
    "\n",
    "    \n",
    "    omega2 = n*rho_baryonArr_np[0]\n",
    "\n",
    "    r = si.ode(deriv).set_integrator('dopri5')\n",
    "\n",
    "    # integrate out a little bit\n",
    "    r0 = 1e-3\n",
    "\n",
    "    un = r0**3\n",
    "    y0 = [un, 3*r0**2]\n",
    "\n",
    "    r.set_initial_value(y0, r0).set_f_params(r_SchwArr_np, P_np, dPdr_np, Q_np, W_np, omega2)\n",
    "\n",
    "    R = r_SchwArr_np[-1]\n",
    "    dr = (R-r0)*1e-3\n",
    "\n",
    "    r_arr = []\n",
    "    un_arr = []\n",
    "    dundr_arr = []\n",
    "\n",
    "    while r.successful() and r.t < R-1e-10 and un < 1e5: \n",
    "        dr = min(max((R-r.t)*1e-1, 1e-10), R-r.t-1e-10)\n",
    "        r_arr.append(r.t+dr)\n",
    "        un, dundr = r.integrate(r.t+dr)\n",
    "        un_arr.append(un) \n",
    "        dundr_arr.append(dundr)\n",
    "        \n",
    "    if( un/un_prev < 0 ) : #sign change\n",
    "        print( n, omega2)\n",
    "    un_prev = un\n",
    "    \n",
    "    print(n, un)\n",
    "    r_arr = np.array(r_arr)\n",
    "    un_arr = np.array( un_arr)\n",
    "    #print( n, np.abs(dundr), np.abs(un_arr[-1])/np.abs(un_arr[-2])/((R-r_arr[-1])**(-s)/(R-r_arr[-2])**(-s)))\n",
    "    pl.semilogy(R-r_arr, np.abs(un_arr)/(R-r_arr)**(-s))\n",
    "    pl.xlim(0,1e-3)\n",
    "\n",
    "pl.show()\n",
    "\n"
   ]
  },
  {
   "cell_type": "code",
   "execution_count": null,
   "metadata": {},
   "outputs": [],
   "source": []
  }
 ],
 "metadata": {
  "kernelspec": {
   "display_name": "Python 3",
   "language": "python",
   "name": "python3"
  },
  "language_info": {
   "codemirror_mode": {
    "name": "ipython",
    "version": 3
   },
   "file_extension": ".py",
   "mimetype": "text/x-python",
   "name": "python",
   "nbconvert_exporter": "python",
   "pygments_lexer": "ipython3",
   "version": "3.7.3"
  }
 },
 "nbformat": 4,
 "nbformat_minor": 2
}
