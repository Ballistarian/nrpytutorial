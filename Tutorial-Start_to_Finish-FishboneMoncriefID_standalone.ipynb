{
 "cells": [
  {
   "cell_type": "markdown",
   "metadata": {},
   "source": [
    "# Standalone Fishbone-Moncrief C Code\n",
    "\n",
    "We start with the NRPy+ expressions generated in the [Tutorial-FishboneMoncriefID](Tutorial-FishboneMoncriefID.ipynb), and output them to the C file \"FishboneMoncriefID/FMstandalone.h\".\n",
    "\n",
    "Further, $\\Gamma = \\alpha u^0$ is given by (as shown [here](Tutorial-u0_smallb_Poynting-Cartesian.ipynb)):\n",
    "$$\n",
    "\\Gamma = \\alpha u^0 = \\sqrt{\\frac{1}{1 - \\gamma_{ij}v^i_{(n)}v^j_{(n)}}}.\n",
    "$$"
   ]
  },
  {
   "cell_type": "code",
   "execution_count": 1,
   "metadata": {
    "scrolled": true
   },
   "outputs": [
    {
     "name": "stdout",
     "output_type": "stream",
     "text": [
      "Wrote to file \"FishboneMoncriefID/FM_standalone.h\"\n"
     ]
    }
   ],
   "source": [
    "import sympy as sp\n",
    "from outputC import *\n",
    "import indexedexp as ixp\n",
    "import finite_difference as fin\n",
    "import FishboneMoncriefID.FishboneMoncriefID as fmid\n",
    "\n",
    "# Step 1: Set up the Fishbone-Moncrief initial data. This sets all the ID gridfunctions.\n",
    "fmid.FishboneMoncriefID(\"Spherical\")\n",
    "\n",
    "gammaDD = ixp.zerorank2()\n",
    "\n",
    "DIM = 3\n",
    "for i in range(DIM):\n",
    "    for j in range(DIM):\n",
    "        if i<=j:\n",
    "            gammaDD[i][j] = fmid.IDgammaDD[i][j]\n",
    "        else:\n",
    "            gammaDD[i][j] = fmid.IDgammaDD[j][i]\n",
    "\n",
    "# gamma_{ij} v^i_{(n)} v^j_{(n)}\n",
    "Gammacontraction = sp.sympify(0)\n",
    "for i in range(DIM):\n",
    "    for j in range(DIM):\n",
    "        Gammacontraction += gammaDD[i][j] * fmid.IDValencia3velocityU[i] * fmid.IDValencia3velocityU[j]\n",
    "\n",
    "Gammafactor = sp.sqrt(1 / (1 - Gammacontraction))\n",
    "\n",
    "# -={ F-M quantities: Generate C code from expressions and output to file }=-\n",
    "FishboneMoncrief_to_print = [\\\n",
    "                     lhrh(lhs=\"alpha\",rhs=fmid.IDalpha),\\\n",
    "                     lhrh(lhs=\"betaU0\",rhs=fmid.IDbetaU[0]),\\\n",
    "                     lhrh(lhs=\"betaU1\",rhs=fmid.IDbetaU[1]),\\\n",
    "                     lhrh(lhs=\"betaU2\",rhs=fmid.IDbetaU[2]),\\\n",
    "                     lhrh(lhs=\"Gammafactor\",rhs=Gammafactor),\\\n",
    "                     lhrh(lhs=\"Gamma_times_ValenciavU0\",rhs=Gammafactor*fmid.IDValencia3velocityU[0]),\\\n",
    "                     lhrh(lhs=\"Gamma_times_ValenciavU1\",rhs=Gammafactor*fmid.IDValencia3velocityU[1]),\\\n",
    "                     lhrh(lhs=\"Gamma_times_ValenciavU2\",rhs=Gammafactor*fmid.IDValencia3velocityU[2])\n",
    "                     ]\n",
    "\n",
    "fin.FD_outputC(\"FishboneMoncriefID/FM_standalone.h\",FishboneMoncrief_to_print,params=\"outCverbose=False,CSE_enable=False\")"
   ]
  },
  {
   "cell_type": "code",
   "execution_count": 22,
   "metadata": {},
   "outputs": [
    {
     "name": "stdout",
     "output_type": "stream",
     "text": [
      "Overwriting FishboneMoncriefID/FM_standalone.c\n"
     ]
    }
   ],
   "source": [
    "%%writefile FishboneMoncriefID/FM_standalone.c\n",
    "\n",
    "#include \"stdio.h\"\n",
    "#include \"stdlib.h\"\n",
    "#include \"math.h\"\n",
    "\n",
    "const double a = 0.9375;\n",
    "const double M = 1.0;\n",
    "const double r_at_max_density = 12.0;\n",
    "const double r_in = 6.0;\n",
    "\n",
    "int main(int argc, const char *argv[]) {\n",
    "\n",
    "    // Step 0a: Read command-line input, error out if nonconformant\n",
    "    double xx0,xx1,xx2;\n",
    "/*\n",
    "    if(argc != 4) {\n",
    "        printf(\"Error: Expected three command-line arguments: ./FM_standalone r theta phi\\n\");\n",
    "        exit(1);\n",
    "    }\n",
    "    xx0 = strtod(argv[1],NULL);\n",
    "    xx1 = strtod(argv[2],NULL);\n",
    "    xx2 = strtod(argv[3],NULL);\n",
    "*/\n",
    "    \n",
    "//    printf(\"# Output: r,th,ph, alpha, betaU0, betaU1, betaU2, Gamma, Gamma*vValenciaU0, Gamma*vValenciaU1, Gamma*vValenciaU2\\n\");\n",
    "    for(double xx0=1.6;xx0<50.0;xx0+=0.2) {\n",
    "        xx1 = M_PI/2.0;\n",
    "        xx2 = 0.0;\n",
    "        double alpha,betaU0,betaU1,betaU2,Gammafactor,Gamma_times_ValenciavU0,Gamma_times_ValenciavU1,Gamma_times_ValenciavU2;\n",
    "#include \"FM_standalone.h\"\n",
    "        if(xx0 < r_in) {\n",
    "            Gammafactor = 1.0;\n",
    "            Gamma_times_ValenciavU0 = Gamma_times_ValenciavU1 = Gamma_times_ValenciavU2 = 0.0;\n",
    "        }\n",
    "        printf(\"%e %e %e %.15e %.15e %.15e %.15e %.15e %.15e %.15e %.15e\\n\",\n",
    "               xx0,xx1,xx2,\n",
    "               alpha,betaU0,betaU1,betaU2,\n",
    "               Gammafactor,\n",
    "               Gamma_times_ValenciavU0,\n",
    "               Gamma_times_ValenciavU1,\n",
    "               Gamma_times_ValenciavU2);\n",
    "    }   \n",
    "    return 0;\n",
    "}"
   ]
  },
  {
   "cell_type": "code",
   "execution_count": 23,
   "metadata": {},
   "outputs": [],
   "source": [
    "!gcc -O2 FishboneMoncriefID/FM_standalone.c -o FM_standalone -lm"
   ]
  },
  {
   "cell_type": "code",
   "execution_count": 24,
   "metadata": {},
   "outputs": [],
   "source": [
    "!./FM_standalone > out.txt"
   ]
  },
  {
   "cell_type": "code",
   "execution_count": 26,
   "metadata": {},
   "outputs": [
    {
     "data": {
      "image/png": "[encoded data removed]",
      "text/plain": [
       "<Figure size 432x288 with 1 Axes>"
      ]
     },
     "metadata": {
      "needs_background": "light"
     },
     "output_type": "display_data"
    }
   ],
   "source": [
    "%matplotlib inline\n",
    "import matplotlib.pyplot as plt\n",
    "import mpmath as mp\n",
    "import csv\n",
    "\n",
    "def file_reader(filename):\n",
    "    with open(filename) as file:\n",
    "        reader = csv.reader(file, delimiter=\" \")\n",
    "        data  = list(zip(*reader))\n",
    "        # data is a tuple of strings. Tuples are immutable, and we need to perform math on\n",
    "        #   the data, so here we convert tuple to lists of floats:\n",
    "        data0 = []\n",
    "        dataGamma = []\n",
    "        dataGammav1 = []\n",
    "        dataGammav3 = []\n",
    "        for i in range(len(data[0])):\n",
    "            data0.append(      float(data[0][i]))\n",
    "            dataGamma.append(  float(data[7][i]))\n",
    "            dataGammav1.append(float(data[8][i]))\n",
    "            dataGammav3.append(float(data[10][i]))\n",
    "        return data0,dataGamma,dataGammav1,dataGammav3\n",
    "    \n",
    "r,Gamma,Gammav1,Gammav3 = file_reader('out.txt')\n",
    "\n",
    "# https://matplotlib.org/gallery/text_labels_and_annotations/legend.html#sphx-glr-gallery-text-labels-and-annotations-legend-py        \n",
    "fig, ax = plt.subplots()\n",
    "\n",
    "plt.title(\"Plot Demonstrating 4th-order Convergence\")\n",
    "plt.xlabel(\"time\")\n",
    "plt.ylabel(\"log10(Relative error)\")\n",
    "\n",
    "ax.plot(r, Gamma, 'k--', label='NRPyFMSolve')\n",
    "legend = ax.legend(loc='upper right', shadow=True, fontsize='x-large')\n",
    "legend.get_frame().set_facecolor('C1')\n",
    "plt.show()"
   ]
  }
 ],
 "metadata": {
  "kernelspec": {
   "display_name": "Python 2",
   "language": "python",
   "name": "python2"
  },
  "language_info": {
   "codemirror_mode": {
    "name": "ipython",
    "version": 2
   },
   "file_extension": ".py",
   "mimetype": "text/x-python",
   "name": "python",
   "nbconvert_exporter": "python",
   "pygments_lexer": "ipython2",
   "version": "2.7.13"
  }
 },
 "nbformat": 4,
 "nbformat_minor": 2
}
