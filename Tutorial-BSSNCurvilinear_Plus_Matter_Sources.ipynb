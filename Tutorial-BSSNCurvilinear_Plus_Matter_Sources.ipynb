{
 "cells": [
  {
   "cell_type": "markdown",
   "metadata": {},
   "source": [
    "# Adding the $8\\pi T_{\\mu\\nu}$ Matter Source Terms to Einstein's equations of general relativity in the [BSSN](http://www2.yukawa.kyoto-u.ac.jp/~yuichiro.sekiguchi/3+1.pdf) formalism, in ***curvilinear*** coordinates, using a covariant reference metric approach: C code generation of the evolution equations' right-hand sides\n",
    "\n",
    "## Python module containing these expressions: [BSSN/BSSN_RHS.py](../edit/BSSN/BSSN_RHSs.py)\n",
    "\n",
    "### ***Citations***: Generic curvilinear coordinate reference metric approach matches that of [Ruchlin, Etienne, and Baumgarte (2018)](https://arxiv.org/abs/1712.07658), which is an extension of the spherical coordinate reference metric approach of [Baumgarte, Montero, Cordero-Carrión, and Müller (2012)](https://arxiv.org/abs/1211.6632), which builds upon the covariant \"Lagrangian\" BSSN formalism of [Brown (2009)](https://arxiv.org/abs/0902.3652). *See also citations within each article.*"
   ]
  },
  {
   "cell_type": "markdown",
   "metadata": {},
   "source": [
    "In the [previous module](Tutorial-BSSNCurvilinear.ipynb), we generated SymPy expressions for all of the covariant BSSN equations in curvilinear coordinates, rescaling tensors to factor out coordinate singularities (and render them harmless). To wit:"
   ]
  },
  {
   "cell_type": "markdown",
   "metadata": {},
   "source": [
    "\\begin{align}\n",
    "  \\partial_t \\bar{\\gamma}_{i j} {} = {} & \\left[\\beta^k \\partial_k \\bar{\\gamma}_{ij} + \\partial_i \\beta^k \\bar{\\gamma}_{kj} + \\partial_j \\beta^k \\bar{\\gamma}_{ik} \\right] + \\frac{2}{3} \\bar{\\gamma}_{i j} \\left (\\alpha \\bar{A}_{k}^{k} - \\bar{D}_{k} \\beta^{k}\\right ) - 2 \\alpha \\bar{A}_{i j} \\; , \\\\\n",
    "  \\partial_t \\bar{A}_{i j} {} = {} & \\left[\\beta^k \\partial_k \\bar{A}_{ij} + \\partial_i \\beta^k \\bar{A}_{kj} + \\partial_j \\beta^k \\bar{A}_{ik} \\right] - \\frac{2}{3} \\bar{A}_{i j} \\bar{D}_{k} \\beta^{k} - 2 \\alpha \\bar{A}_{i k} {\\bar{A}^{k}}_{j} + \\alpha \\bar{A}_{i j} K \\nonumber \\\\\n",
    "  & + e^{-4 \\phi} \\left \\{-2 \\alpha \\bar{D}_{i} \\bar{D}_{j} \\phi + 4 \\alpha \\bar{D}_{i} \\phi \\bar{D}_{j} \\phi  + 4 \\bar{D}_{(i} \\alpha \\bar{D}_{j)} \\phi - \\bar{D}_{i} \\bar{D}_{j} \\alpha + \\alpha \\bar{R}_{i j} \\right \\}^{\\text{TF}} \\; , \\\\\n",
    "  \\partial_t \\phi {} = {} & \\left[\\beta^k \\partial_k \\phi \\right] + \\frac{1}{6} \\left (\\bar{D}_{k} \\beta^{k} - \\alpha K \\right ) \\; , \\\\\n",
    "  \\partial_{t} K {} = {} & \\left[\\beta^k \\partial_k K \\right] + \\frac{1}{3} \\alpha K^{2} + \\alpha \\bar{A}_{i j} \\bar{A}^{i j} - e^{-4 \\phi} \\left (\\bar{D}_{i} \\bar{D}^{i} \\alpha + 2 \\bar{D}^{i} \\alpha \\bar{D}_{i} \\phi \\right ) \\; , \\\\\n",
    "  \\partial_t \\bar{\\Lambda}^{i} {} = {} & \\left[\\beta^k \\partial_k \\bar{\\Lambda}^i - \\partial_k \\beta^i \\bar{\\Lambda}^k \\right] + \\bar{\\gamma}^{j k} \\hat{D}_{j} \\hat{D}_{k} \\beta^{i} + \\frac{2}{3} \\Delta^{i} \\bar{D}_{j} \\beta^{j} + \\frac{1}{3} \\bar{D}^{i} \\bar{D}_{j} \\beta^{j} \\nonumber \\\\\n",
    "  & - 2 \\bar{A}^{i j} \\left (\\partial_{j} \\alpha - 6 \\partial_{j} \\phi \\right ) + 2 \\alpha \\bar{A}^{j k} \\Delta_{j k}^{i}  -\\frac{4}{3} \\alpha \\bar{\\gamma}^{i j} \\partial_{j} K \\\\\n",
    "\\partial_t \\alpha &= \\left[\\beta^i \\partial_i \\alpha\\right] - 2 \\alpha K \\\\\n",
    "  \\partial_{t} \\beta^{i} &= \\left[\\beta^j \\partial_j \\beta^i\\right] + B^{i} \\\\\n",
    "  \\partial_{t} B^{i} &= \\left[\\beta^j \\partial_j B^i\\right] + \\frac{3}{4} \\partial_{0} \\bar{\\Lambda}^{i} - \\eta B^{i}, \\; .\n",
    "\\end{align}\n",
    "\n",
    "where the terms moved from the left-hand side are enclosed in square braces. Note that $\\partial_{0} \\bar{\\Lambda}^{i}$ in the right-hand side of the $\\partial_{t} B^{i}$ equation is computed by adding $\\beta^j \\partial_j \\bar{\\Lambda}^i$ to the right-hand side expression given for $\\partial_t \\bar{\\Lambda}^i$, so no explicit time dependence occurs in the right-hand sides of the BSSN evolution equations and the Method of Lines can be applied directly.\n",
    "\n",
    "Notice that the shift advection operator $\\beta^k \\partial_k \\left\\{\\bar{\\gamma}_{i j},\\bar{A}_{i j},\\phi, K, \\bar{\\Lambda}^{i}, \\alpha, \\beta^i, B^i\\right\\}$ appears on the right-hand side of *every* expression. As the shift determines how the spatial coordinates $x^i$ move on the next 3D slice of our 4D manifold, we find that representing $\\partial_k$ in these shift advection terms via an *upwinded* finite difference stencil results in far lower numerical errors. This trick is implemented below in all shift advection terms.\n",
    "\n",
    "Of course the above BSSN evolution equations cannot appear as written above in our actual code, because (as discussed in the [previous module](Tutorial-BSSNCurvilinear.ipynb)) tensorial expressions can diverge at coordinate singularities. So the equations above will simply need to be rescaled according to the prescription (again, described in the [previous module](Tutorial-BSSNCurvilinear.ipynb))."
   ]
  },
  {
   "cell_type": "markdown",
   "metadata": {},
   "source": [
    "## Adding the matter source terms\n",
    "\n",
    "Analyzing Eqs. 9 of [Baumgarte, Montero, Cordero-Carrión, and Müller](https://arxiv.org/pdf/1211.6632.pdf), we see that matter source terms $T_{\\mu\\nu}$ to Einstein's equations only adjust the right-hand sides of the $\\partial_t \\bar{A}_{ij}$, $\\partial_t K$, and $\\partial_t \\bar{\\Lambda}^i$ equations, as follows:\n",
    "\n",
    "\n",
    "\\begin{array}\n",
    "\\ \\partial_t \\bar{A}_{ij} &= [\\text{as above}]\\ {\\color{blue}{-\\ 8\\pi \\alpha e^{4\\phi} \\left(S_{ij}\\right)^{\\rm TF}}} \\\\\n",
    "\\partial_t K &= [\\text{as above}]\\ {\\color{blue}{+\\ 4\\pi \\alpha (\\rho + S)}} \\\\\n",
    "\\partial_t \\bar{\\Lambda}^i &= [\\text{as above}]\\ {\\color{blue}{-\\ 16\\pi \\alpha \\gamma^{ij} S_j}}, \\\\\n",
    "\\end{array}\n",
    "\n",
    "where $\\rho$, $S$, $S_i$, and $S_{ij}$ are related to the stress-energy tensor $T^{\\mu\\nu}$ as follows (note that Greek indices are 4-dimensional and Latin indices are 3-dimensional):\n",
    "\n",
    "\\begin{array}\n",
    "\\ S_{ij} &= \\gamma_{ik} \\gamma_{jl} T^{kl} \\\\\n",
    "S_{i} &= -\\gamma_{ij} n_\\nu T^{j\\nu} \\\\\n",
    "S &= \\gamma^{ij} S_{ij} \\\\\n",
    "\\rho &= n_\\mu n_\\nu T^{\\mu\\nu}.\n",
    "\\end{array}\n",
    "\n",
    "Here, $n_\\mu = (-\\alpha,0,0,0)$ is the normal one-form on each spatial slice.\n",
    "\n",
    "Next we will generate the BSSN right-hand sides (calling the  and "
   ]
  },
  {
   "cell_type": "code",
   "execution_count": 1,
   "metadata": {},
   "outputs": [],
   "source": [
    "import sympy as sp\n",
    "import NRPy_param_funcs as par\n",
    "import indexedexp as ixp\n",
    "import reference_metric as rfm\n",
    "import BSSN.BSSN_RHSs as bssn\n",
    "bssn.BSSN_RHSs()\n",
    "\n",
    "thismodule = \"BSSN_RHSs_matter_source_terms\"\n",
    "PI = par.Cparameters(\"BUILTIN\",thismodule,[\"M_PI\"])\n",
    "\n",
    "TUU = ixp.register_gridfunctions_for_single_rank2(\"AUX\",\"TUU\", \"sym01\",DIM=4)\n",
    "\n",
    "SDD = ixp.zerorank2()\n",
    "SD  = ixp.zerorank1()\n",
    "S   = sp.sympify(0)\n",
    "rho = sp.sympify(0)\n",
    "nD  = [-bssn.alpha,sp.sympify(0),sp.sympify(0),sp.sympify(0)]\n",
    "\n",
    "# The NRPy+ grid::DIM parameter should have already been set to 3, so no need to read it from memory:\n",
    "DIM = 3\n",
    "\n",
    "for i in range(DIM):\n",
    "    for j in range(DIM):\n",
    "        for k in range(DIM):\n",
    "            for l in range(DIM):\n",
    "                SDD[i][j] += bssn.gammabarDD[i][k]*bssn.gammabarDD[j][l]*TUU[k][l]\n",
    "\n",
    "for i in range(DIM):\n",
    "    for j in range(DIM):\n",
    "        for nu in range(4):\n",
    "            SD[i] += -bssn.gammabarDD[i][j]*nD[nu]*TUU[j][nu]\n",
    "            \n",
    "for i in range(DIM):\n",
    "    for j in range(DIM):\n",
    "        S += bssn.gammabarUU[i][j]*SDD[i][j]\n",
    "\n",
    "for mu in range(4):\n",
    "    for nu in range(4):\n",
    "        rho += nD[mu]*nD[nu]*TUU[mu][nu]\n",
    "\n",
    "bssn.trK_rhs += 4*PI*bssn.alpha*(rho+S)\n",
    "\n",
    "# Next compute trace of S_{ij}:\n",
    "S_trace = sp.sympify(0)\n",
    "for i in range(DIM):\n",
    "    for j in range(DIM):\n",
    "        S_trace += bssn.gammabarUU[i][j]*SDD[i][j]\n",
    "        \n",
    "# Next find the trace-free SDD, and add *rescaled* matter source term to Abar_RHS:\n",
    "S_TFDD = ixp.zerorank2()\n",
    "for i in range(DIM):\n",
    "    for j in range(DIM):\n",
    "        S_TFDD[i][j] = SDD[i][j] - sp.Rational(1,3)*bssn.gammabarDD[i][j]*S_trace\n",
    "        bssn.a_rhsDD[i][j] += -4*PI*bssn.alpha/bssn.exp_m4phi * S_TFDD[i][j] / rfm.ReDD[i][j]\n",
    "\n",
    "# Next add the *rescaled* matter source term to Lambar_RHS:\n",
    "Lambar_sourcetermU = ixp.zerorank1()\n",
    "for i in range(DIM):\n",
    "    for j in range(DIM):\n",
    "        Lambar_sourcetermU[i] += -16*PI*bssn.alpha*bssn.gammabarUU[i][j]*SD[j]\n",
    "\n",
    "for i in range(DIM):\n",
    "    bssn.lambda_rhsU[i] += Lambar_sourcetermU[i] / rfm.ReU[i]"
   ]
  },
  {
   "cell_type": "code",
   "execution_count": null,
   "metadata": {},
   "outputs": [],
   "source": []
  }
 ],
 "metadata": {
  "kernelspec": {
   "display_name": "Python 3",
   "language": "python",
   "name": "python3"
  },
  "language_info": {
   "codemirror_mode": {
    "name": "ipython",
    "version": 3
   },
   "file_extension": ".py",
   "mimetype": "text/x-python",
   "name": "python",
   "nbconvert_exporter": "python",
   "pygments_lexer": "ipython3",
   "version": "3.6.5"
  }
 },
 "nbformat": 4,
 "nbformat_minor": 2
}
