{
 "cells": [
  {
   "cell_type": "markdown",
   "metadata": {},
   "source": [
    "## FishboneMoncriefID: An Einstein Toolkit Initial Data Thorn for Fishbone-Moncrief initial data\n",
    "\n",
    "### NRPy+ Source Code for this module: [FishboneMoncriefID/FishboneMoncriefID.py](../edit/FishboneMoncriefID/FishboneMoncriefID.py) , which is fully documented in the [previous NRPy+ tutorial module](Tutorial-FishboneMoncriefID.ipynb) on using NRPy+ to construct these Fishbone-Moncrief initial data as SymPy expressions.\n"
   ]
  },
  {
   "cell_type": "markdown",
   "metadata": {},
   "source": [
    "In this part of the tutorial, we will construct an Einstein Toolkit (ETK) thorn (module) that will set up Fishbone-Moncrief initial data. In a [previous tutorial module](Tutorial-FishboneMoncriefID.ipynb), we used NRPy+ to contruct the SymPy expressions for plane-wave initial data. \n",
    "\n",
    "We will construct this thorn in two steps.\n",
    "\n",
    "1. Call on NRPy+ to convert the SymPy expressions for the initial data into one C-code kernel.\n",
    "1. Write the C code and linkages to the Einstein Toolkit infrastructure (i.e., the .ccl files) to complete this Einstein Toolkit module.\n",
    "\n",
    "### Step 1: Call on NRPy+ to convert the SymPy expression for the Fishbone-Moncrief initial data into a C-code kernel. \n",
    "\n",
    "After importing the core modules, we will set $\\text{GridFuncMemAccess}$ to $\\text{ETK}$. SymPy expressions for plane wave initial data are written inside [FishboneMoncriefID/FishboneMoncriefID.py](../edit/FishboneMoncriefID/FishboneMoncriefID.py), and we simply import them for use here."
   ]
  },
  {
   "cell_type": "code",
   "execution_count": 1,
   "metadata": {},
   "outputs": [],
   "source": [
    "# Step 1a: Import needed NRPy+ core modules:\n",
    "import NRPy_param_funcs as par\n",
    "import indexedexp as ixp\n",
    "import grid as gri\n",
    "import finite_difference as fin\n",
    "from outputC import *\n",
    "import loop\n",
    "\n",
    "# Step 1b: This is an Einstein Toolkit (ETK) thorn. Here we\n",
    "#          tell NRPy+ that gridfunction memory access will \n",
    "#          therefore be in the \"ETK\" style.\n",
    "par.set_parval_from_str(\"grid::GridFuncMemAccess\",\"ETK\")\n",
    "par.set_parval_from_str(\"grid::DIM\", 3)\n",
    "DIM = par.parval_from_str(\"grid::DIM\")\n",
    "# Force outputC::outCverbose to be false for this module to avoid gigantic C files\n",
    "# filled with the non-CSE expressions for the Weyl scalars.\n",
    "par.set_parval_from_str(\"outputC::outCverbose\",False)\n",
    "\n",
    "# Step 1c: Call the FishboneMoncriefID() function from within the\n",
    "#          FishboneMoncriefID/FishboneMoncriefID.py module.\n",
    "import FishboneMoncriefID.FishboneMoncriefID as fmid\n",
    "\n",
    "# Step 2: Within the ETK, the 3D gridfunctions x, y, and z store the\n",
    "#         Cartesian grid coordinates. Setting the gri.xx[] arrays\n",
    "#         to point to these gridfunctions forces NRPy+ to treat\n",
    "#         the Cartesian coordinate gridfunctions properly --\n",
    "#         reading them from memory as needed.\n",
    "x,y,z = gri.register_gridfunctions(\"AUX\",[\"x\",\"y\",\"z\"])\n",
    "gri.xx[0] = x\n",
    "gri.xx[1] = y\n",
    "gri.xx[2] = z\n",
    "\n",
    "# Step 3: Set up the Fishbone-Moncrief initial data. This sets all the ID gridfunctions.\n",
    "fmid.FishboneMoncriefID()\n",
    "Valencia3velocityU = ixp.register_gridfunctions_for_single_rank1(\"EVOL\",\"Valencia3velocityU\")\n",
    "\n",
    "# -={ Spacetime quantities: Generate C code from expressions and output to file }=-\n",
    "KerrSchild_to_print = [\\\n",
    "                     lhrh(lhs=gri.gfaccess(\"out_gfs\",\"alpha\"),rhs=fmid.IDalpha),\\\n",
    "                     lhrh(lhs=gri.gfaccess(\"out_gfs\",\"betaU0\"),rhs=fmid.IDbetaU[0]),\\\n",
    "                     lhrh(lhs=gri.gfaccess(\"out_gfs\",\"betaU1\"),rhs=fmid.IDbetaU[1]),\\\n",
    "                     lhrh(lhs=gri.gfaccess(\"out_gfs\",\"betaU2\"),rhs=fmid.IDbetaU[2]),\\\n",
    "                     lhrh(lhs=gri.gfaccess(\"out_gfs\",\"gammaDD00\"),rhs=fmid.IDgammaDD[0][0]),\\\n",
    "                     lhrh(lhs=gri.gfaccess(\"out_gfs\",\"gammaDD01\"),rhs=fmid.IDgammaDD[0][1]),\\\n",
    "                     lhrh(lhs=gri.gfaccess(\"out_gfs\",\"gammaDD02\"),rhs=fmid.IDgammaDD[0][2]),\\\n",
    "                     lhrh(lhs=gri.gfaccess(\"out_gfs\",\"gammaDD11\"),rhs=fmid.IDgammaDD[1][1]),\\\n",
    "                     lhrh(lhs=gri.gfaccess(\"out_gfs\",\"gammaDD12\"),rhs=fmid.IDgammaDD[1][2]),\\\n",
    "                     lhrh(lhs=gri.gfaccess(\"out_gfs\",\"gammaDD22\"),rhs=fmid.IDgammaDD[2][2]),\\\n",
    "                     lhrh(lhs=gri.gfaccess(\"out_gfs\",\"KDD00\"),rhs=fmid.IDKDD[0][0]),\\\n",
    "                     lhrh(lhs=gri.gfaccess(\"out_gfs\",\"KDD01\"),rhs=fmid.IDKDD[0][1]),\\\n",
    "                     lhrh(lhs=gri.gfaccess(\"out_gfs\",\"KDD02\"),rhs=fmid.IDKDD[0][2]),\\\n",
    "                     lhrh(lhs=gri.gfaccess(\"out_gfs\",\"KDD11\"),rhs=fmid.IDKDD[1][1]),\\\n",
    "                     lhrh(lhs=gri.gfaccess(\"out_gfs\",\"KDD12\"),rhs=fmid.IDKDD[1][2]),\\\n",
    "                     lhrh(lhs=gri.gfaccess(\"out_gfs\",\"KDD22\"),rhs=fmid.IDKDD[2][2]),\\\n",
    "                     ]\n",
    "KerrSchild_CcodeKernel = fin.FD_outputC(\"returnstring\",KerrSchild_to_print)\n",
    "\n",
    "# -={ GRMHD quantities: Generate C code from expressions and output to file }=-\n",
    "FMdisk_GRHD_hm1_to_print = [lhrh(lhs=gri.gfaccess(\"out_gfs\",\"hm1\"),rhs=fmid.hm1)]\n",
    "FMdisk_GRHD_hm1_CcodeKernel = fin.FD_outputC(\"returnstring\",FMdisk_GRHD_hm1_to_print)\n",
    "\n",
    "FMdisk_GRHD_velocities_to_print = [\\\n",
    "                                 lhrh(lhs=gri.gfaccess(\"out_gfs\",\"Valencia3velocityU0\"),rhs=fmid.IDValencia3velocityU[0]),\\\n",
    "                                 lhrh(lhs=gri.gfaccess(\"out_gfs\",\"Valencia3velocityU1\"),rhs=fmid.IDValencia3velocityU[1]),\\\n",
    "                                 lhrh(lhs=gri.gfaccess(\"out_gfs\",\"Valencia3velocityU2\"),rhs=fmid.IDValencia3velocityU[2]),\\\n",
    "                                 ]\n",
    "FMdisk_GRHD_velocities_CcodeKernel = fin.FD_outputC(\"returnstring\",FMdisk_GRHD_velocities_to_print)\n",
    "\n",
    "KerrSchild_looped = loop.loop([\"i2\",\"i1\",\"i0\"],[\"0\",\"0\",\"0\"],[\"cctk_lsh[2]\",\"cctk_lsh[1]\",\"cctk_lsh[0]\"],\\\n",
    "                              [\"1\",\"1\",\"1\"],[\"#pragma omp parallel for\",\"\",\"\"],\"\",\\\n",
    "                              KerrSchild_CcodeKernel.replace(\"time\",\"cctk_time\"))\n",
    "\n",
    "FMdisk_GRHD_velocities_looped = loop.loop([\"i2\",\"i1\",\"i0\"],[\"0\",\"0\",\"0\"],[\"cctk_lsh[2]\",\"cctk_lsh[1]\",\"cctk_lsh[0]\"],\\\n",
    "                                          [\"1\",\"1\",\"1\"],[\"#pragma omp parallel for\",\"\",\"\"],\"\",\\\n",
    "                                          FMdisk_GRHD_velocities_CcodeKernel.replace(\"time\",\"cctk_time\"))\n",
    "\n",
    "FMdisk_GRHD_hm1_looped = loop.loop([\"i2\",\"i1\",\"i0\"],[\"0\",\"0\",\"0\"],[\"cctk_lsh[2]\",\"cctk_lsh[1]\",\"cctk_lsh[0]\"],\\\n",
    "                                   [\"1\",\"1\",\"1\"],[\"#pragma omp parallel for\",\"\",\"\"],\"\",\\\n",
    "                                   FMdisk_GRHD_hm1_CcodeKernel.replace(\"time\",\"cctk_time\"))\n",
    "\n",
    "# Step 7: Create directories for the thorn if they don't exist.\n",
    "!mkdir FishboneMoncriefID     2>/dev/null # 2>/dev/null: Don't throw an error if the directory already exists.\n",
    "!mkdir FishboneMoncriefID/src 2>/dev/null # 2>/dev/null: Don't throw an error if the directory already exists.\n",
    "\n",
    "# Step 8: Write the C code kernel to file.\n",
    "with open(\"FishboneMoncriefID/src/KerrSchild.h\", \"w\") as file:\n",
    "    file.write(str(KerrSchild_looped))\n",
    "    \n",
    "with open(\"FishboneMoncriefID/src/FMdisk_GRHD_velocities.h\", \"w\") as file:\n",
    "    file.write(str(FMdisk_GRHD_velocities_looped))\n",
    "    \n",
    "with open(\"FishboneMoncriefID/src/FMdisk_GRHD_hm1.h\", \"w\") as file:\n",
    "    file.write(str(FMdisk_GRHD_hm1_looped))\n"
   ]
  },
  {
   "cell_type": "markdown",
   "metadata": {},
   "source": [
    "### Step 2: Interfacing with the Einstein Toolkit\n",
    "\n",
    "#### Step 2a: Constructing the Einstein Toolkit C-code calling functions that include the C code kernels.\n",
    "\n",
    "We will write another C file with the functions we need here."
   ]
  },
  {
   "cell_type": "code",
   "execution_count": 2,
   "metadata": {},
   "outputs": [
    {
     "name": "stdout",
     "output_type": "stream",
     "text": [
      "Overwriting FishboneMoncriefID/src/InitialData.c\n"
     ]
    }
   ],
   "source": [
    "%%writefile FishboneMoncriefID/src/InitialData.c\n",
    "#include <math.h>\n",
    "#include <stdio.h>\n",
    "\n",
    "#include \"cctk.h\"\n",
    "#include \"cctk_Parameters.h\"\n",
    "#include \"cctk_Arguments.h\"\n",
    "\n",
    "void FishboneMoncrief_KerrSchild(const cGH* restrict const cctkGH,const int *cctk_lsh,\n",
    "                                 const CCTK_REAL *xGF,const CCTK_REAL *yGF,const CCTK_REAL *zGF,\n",
    "                                 CCTK_REAL *alphaGF,CCTK_REAL *betaU0GF,CCTK_REAL *betaU1GF,CCTK_REAL *betaU2GF,\n",
    "                                 CCTK_REAL *gammaDD00GF,CCTK_REAL *gammaDD01GF,CCTK_REAL *gammaDD02GF,CCTK_REAL *gammaDD11GF,CCTK_REAL *gammaDD12GF,CCTK_REAL *gammaDD22GF,\n",
    "                                 CCTK_REAL     *KDD00GF,CCTK_REAL     *KDD01GF,CCTK_REAL     *KDD02GF,CCTK_REAL     *KDD11GF,CCTK_REAL     *KDD12GF,CCTK_REAL     *KDD22GF)\n",
    "{\n",
    "  \n",
    "  DECLARE_CCTK_PARAMETERS\n",
    "  \n",
    "#include \"KerrSchild.h\"\n",
    "  \n",
    "}\n",
    "\n",
    "void FishboneMoncrief_FMdisk_GRHD_velocities(const cGH* restrict const cctkGH,const int *cctk_lsh,\n",
    "                                             const CCTK_REAL *xGF,const CCTK_REAL *yGF,const CCTK_REAL *zGF,\n",
    "                                             CCTK_REAL *Valencia3velocityU0GF, CCTK_REAL *Valencia3velocityU1GF, CCTK_REAL *Valencia3velocityU2GF)\n",
    "{\n",
    "  \n",
    "  DECLARE_CCTK_PARAMETERS\n",
    "  \n",
    "#include \"FMdisk_GRHD_velocities.h\"\n",
    "  \n",
    "}\n",
    "\n",
    "void FishboneMoncrief_FMdisk_GRHD_hm1(const cGH* restrict const cctkGH,const int *cctk_lsh,\n",
    "                                      const CCTK_REAL *xGF,const CCTK_REAL *yGF,const CCTK_REAL *zGF,\n",
    "                                      CCTK_REAL *hm1GF)\n",
    "{\n",
    "  \n",
    "  DECLARE_CCTK_PARAMETERS\n",
    "  \n",
    "#include \"FMdisk_GRHD_hm1.h\"\n",
    "  \n",
    "}\n",
    "\n",
    "void FishboneMoncrief_MainFunction(CCTK_ARGUMENTS)\n",
    "{\n",
    "  DECLARE_CCTK_ARGUMENTS\n",
    "  DECLARE_CCTK_PARAMETERS\n",
    "  \n",
    "  FishboneMoncrief_KerrSchild(cctkGH,cctk_lsh,\n",
    "                              x,y,z,\n",
    "                              alp,betax,betay,betaz,\n",
    "                              gxx,gxy,gxz,gyy,gyz,gzz,\n",
    "                              kxx,kxy,kxz,kyy,kyz,kzz);\n",
    "  \n",
    "  FishboneMoncrief_FMdisk_GRHD_velocities(cctkGH,cctk_lsh,\n",
    "                                          x,y,z,\n",
    "                                          Valencia3velocityU0,Valencia3velocityU1,Valencia3velocityU2);\n",
    "\n",
    "  FishboneMoncrief_FMdisk_GRHD_hm1(cctkGH,cctk_lsh,\n",
    "                                   x,y,z,\n",
    "                                   hm1);\n",
    "}"
   ]
  },
  {
   "cell_type": "markdown",
   "metadata": {},
   "source": [
    "### Step 2b: CCL files - Define how this module interacts and interfaces with the larger Einstein Toolkit infrastructure\n",
    "\n",
    "Writing a module (\"thorn\") within the Einstein Toolkit requires that three \"ccl\" files be constructed, all in the root directory of the thorn:\n",
    "\n",
    "1. $\\text{interface.ccl}$: defines the gridfunction groups needed, and provides keywords denoting what this thorn provides and what it should inherit from other thorns. Specifically, this file governs the interaction between this thorn and others; more information can be found in the [official Einstein Toolkit documentation](http://cactuscode.org/documentation/referencemanual/ReferenceManualch8.html#x12-260000C2.2). \n",
    "With \"implements\", we give our thorn its unique name. By \"inheriting\" other thorns, we tell the Toolkit that we will rely on variables that exist and are declared \"public\" within those functions."
   ]
  },
  {
   "cell_type": "code",
   "execution_count": 3,
   "metadata": {},
   "outputs": [
    {
     "name": "stdout",
     "output_type": "stream",
     "text": [
      "Overwriting FishboneMoncriefID/interface.ccl\n"
     ]
    }
   ],
   "source": [
    "%%writefile FishboneMoncriefID/interface.ccl\n",
    "implements: FishboneMoncriefID\n",
    "inherits: admbase grid hydrobase\n"
   ]
  },
  {
   "cell_type": "markdown",
   "metadata": {},
   "source": [
    "2. $\\text{param.ccl}$: specifies free parameters within the thorn, enabling them to be set at runtime. It is required to provide allowed ranges and default values for each parameter. More information on this file's syntax can be found in the [official Einstein Toolkit documentation](http://cactuscode.org/documentation/referencemanual/ReferenceManualch8.html#x12-265000C2.3)."
   ]
  },
  {
   "cell_type": "code",
   "execution_count": 4,
   "metadata": {},
   "outputs": [
    {
     "name": "stdout",
     "output_type": "stream",
     "text": [
      "Overwriting FishboneMoncriefID/param.ccl\n"
     ]
    }
   ],
   "source": [
    "%%writefile FishboneMoncriefID/param.ccl\n",
    "shares: grid\n",
    "\n",
    "USES KEYWORD type\n",
    "\n",
    "#[\"r_in\",\"r_at_max_density\",\"a\",\"M\"] A_b, kappa, gamma\n",
    "restricted:\n",
    "CCTK_REAL r_in \"Fixes the inner edge of the disk\"\n",
    "{\n",
    " 0.0:* :: \"Must be positive\"\n",
    "} 6.0\n",
    "\n",
    "restricted:\n",
    "CCTK_REAL r_at_max_density \"Radius at maximum disk density. Needs to be > r_in\"\n",
    "{\n",
    " 0.0:* :: \"Must be positive\"\n",
    "} 12.0\n",
    "\n",
    "restricted:\n",
    "CCTK_REAL a \"The spin parameter of the black hole\"\n",
    "{\n",
    " -1.0:1.0 :: \"Positive values, up to 1. Negative disallowed, as certain roots are chosen in the hydro fields setup. Check those before enabling negative spins!\"\n",
    "} 0.9375\n",
    "\n",
    "restricted:\n",
    "CCTK_REAL M \"Kerr-Schild BH mass. Probably should always set M=1.\"\n",
    "{\n",
    " 0.0:* :: \"Must be positive\"\n",
    "} 1.0\n",
    "\n",
    "restricted:\n",
    "CCTK_REAL A_b \"Scaling factor for the vector potential\"\n",
    "{\n",
    " *:* :: \"\"\n",
    "} 1.0\n",
    "\n",
    "restricted:\n",
    "CCTK_REAL kappa \"Equation of state: P = kappa * rho^gamma\"\n",
    "{\n",
    " 0.0:* :: \"Positive values\"\n",
    "} 1.0e-3\n",
    "\n",
    "restricted:\n",
    "CCTK_REAL gamma \"Equation of state: P = kappa * rho^gamma\"\n",
    "{\n",
    " 0.0:* :: \"Positive values\"\n",
    "} 1.3333333333333333333333333333\n"
   ]
  },
  {
   "cell_type": "markdown",
   "metadata": {},
   "source": [
    "3. $\\text{schedule.ccl}$: allocates storage for gridfunctions, defines how the thorn's functions should be scheduled in a broader simulation, and specifies the regions of memory written to or read from gridfunctions. $\\text{schedule.ccl}$'s official documentation may be found [here](http://cactuscode.org/documentation/referencemanual/ReferenceManualch8.html#x12-268000C2.4). \n",
    "\n",
    "We specify here the standardized ETK \"scheduling bins\" in which we want each of our thorn's functions to run."
   ]
  },
  {
   "cell_type": "code",
   "execution_count": 5,
   "metadata": {},
   "outputs": [
    {
     "name": "stdout",
     "output_type": "stream",
     "text": [
      "Overwriting FishboneMoncriefID/schedule.ccl\n"
     ]
    }
   ],
   "source": [
    "%%writefile FishboneMoncriefID/schedule.ccl\n",
    "\n",
    "schedule FishboneMoncrief_MainFunction at CCTK_INITIAL as FishboneMoncrief_InitialData\n",
    "{\n",
    "  STORAGE:       FishboneMoncriefID::FMdisk_GRHD_velocities_group[3]\n",
    "  STORAGE:       FishboneMoncriefID::FMdisk_GRHD_hm1_group[3]\n",
    "  LANG:          C\n",
    "  READS: grid::x(Everywhere)\n",
    "  READS: grid::y(Everywhere)\n",
    "  READS: grid::y(Everywhere)\n",
    "  WRITES: admbase::alp(Everywhere)\n",
    "  WRITES: admbase::betax(Everywhere)\n",
    "  WRITES: admbase::betay(Everywhere)\n",
    "  WRITES: admbase::betaz(Everywhere)\n",
    "  WRITES: admbase::kxx(Everywhere)\n",
    "  WRITES: admbase::kxy(Everywhere)\n",
    "  WRITES: admbase::kxz(Everywhere)\n",
    "  WRITES: admbase::kyy(Everywhere)\n",
    "  WRITES: admbase::kyz(Everywhere)\n",
    "  WRITES: admbase::kzz(Everywhere)\n",
    "  WRITES: admbase::gxx(Everywhere)\n",
    "  WRITES: admbase::gxy(Everywhere)\n",
    "  WRITES: admbase::gxz(Everywhere)\n",
    "  WRITES: admbase::gyy(Everywhere)\n",
    "  WRITES: admbase::gyz(Everywhere)\n",
    "  WRITES: admbase::gzz(Everywhere)\n",
    "  WRITES: Valencia3velocity0(Everywhere)\n",
    "  WRITES: Valencia3velocity1(Everywhere)\n",
    "  WRITES: Valencia3velocity2(Everywhere)\n",
    "  WRITES: hm1(Everywhere)\n",
    "} \"Initial data for Fishbone-Moncrief disks\"\n"
   ]
  },
  {
   "cell_type": "markdown",
   "metadata": {},
   "source": [
    "#### Step 2c: Add the C code to the Einstein Toolkit compilation list.\n",
    "\n",
    "We will also need $\\text{make.code.defn}$, which indicates the list of files that need to be compiled. This thorn only has the one C file to compile."
   ]
  },
  {
   "cell_type": "code",
   "execution_count": 6,
   "metadata": {},
   "outputs": [
    {
     "name": "stdout",
     "output_type": "stream",
     "text": [
      "Overwriting FishboneMoncriefID/src/make.code.defn\n"
     ]
    }
   ],
   "source": [
    "%%writefile FishboneMoncriefID/src/make.code.defn\n",
    "SRCS = InitialData.c"
   ]
  }
 ],
 "metadata": {
  "kernelspec": {
   "display_name": "Python 3",
   "language": "python",
   "name": "python3"
  },
  "language_info": {
   "codemirror_mode": {
    "name": "ipython",
    "version": 3
   },
   "file_extension": ".py",
   "mimetype": "text/x-python",
   "name": "python",
   "nbconvert_exporter": "python",
   "pygments_lexer": "ipython3",
   "version": "3.6.6"
  }
 },
 "nbformat": 4,
 "nbformat_minor": 2
}
