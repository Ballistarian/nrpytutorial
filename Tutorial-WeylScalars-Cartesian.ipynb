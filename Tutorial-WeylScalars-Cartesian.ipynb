{
 "cells": [
  {
   "cell_type": "markdown",
   "metadata": {},
   "source": [
    "# The Weyl scalar $\\psi_4$ in Cartesian coordinates\n",
    "### This tutorial primarily concerns rewriting the arbitrary Weyl scalar code in a format that better facilitates an analytic comparison with Einstein Toolkit's $\\text{WeylScal4}$ thorn.\n",
    "To that end, we use the same physical quantities as the Einstein Toolkit in place of conformal, rescaled quantities. Instead of calling BSSN_RHSs(), which in turn calls reference_metric(), we simply declare the metric $\\gamma_{ij}$ and extrinsic curvature $K_{ij}$ (along with various traces, inverses, and determinants) as gridfunctions themselves. "
   ]
  },
  {
   "cell_type": "code",
   "execution_count": 1,
   "metadata": {},
   "outputs": [],
   "source": [
    "# Step 1: import all needed modules from NRPy+:\n",
    "import NRPy_param_funcs as par\n",
    "import indexedexp as ixp\n",
    "import grid as gri\n",
    "import finite_difference as fin\n",
    "import reference_metric as rfm\n",
    "from outputC import *\n",
    "#import BSSN.BSSN_RHSs as bssn\n",
    "import sympy as sp\n"
   ]
  },
  {
   "cell_type": "code",
   "execution_count": 2,
   "metadata": {},
   "outputs": [],
   "source": [
    "# Step 2: Initialize WeylScalar parameters\n",
    "thismodule = __name__\n",
    "# Current option: Approx_QuasiKinnersley = choice made in Baker, Campanelli, and Lousto. PRD 65, 044001 (2002)\n",
    "par.initialize_param(par.glb_param(\"char\", thismodule, \"TetradChoice\", \"Approx_QuasiKinnersley\"))"
   ]
  },
  {
   "cell_type": "markdown",
   "metadata": {},
   "source": [
    "### Defining the Levi-Civita Symbol\n",
    "\n",
    "Next we declare a function that defines the rank-3 Levi-Civita symbol, $\\epsilon_{ijk}$, applying the algorithm in the [Wikipedia article on the Levi-Civita symbol](https://en.wikipedia.org/wiki/Levi-Civita_symbol), but exploiting properties of computer integer arithmetic as outlined [here](https://codegolf.stackexchange.com/questions/160359/levi-civita-symbol). \n",
    "\n",
    "In short, the Levi-Civita symbol $\\epsilon_{ijk}$ is set to 1 for even permutations of the indices, -1 for odd permutations, or zero if any indices are repeated."
   ]
  },
  {
   "cell_type": "code",
   "execution_count": 3,
   "metadata": {},
   "outputs": [],
   "source": [
    "# Step 3: Define the rank-3 version of the Levi-Civita symbol. Amongst\n",
    "#         other uses, this is needed for the construction of the approximate \n",
    "#         quasi-Kinnersley tetrad.\n",
    "def define_LeviCivitaSymbol_rank3(DIM=-1):\n",
    "    if DIM == -1:\n",
    "        DIM = par.parval_from_str(\"DIM\")\n",
    "\n",
    "    LeviCivitaSymbol = ixp.zerorank3()\n",
    "\n",
    "    for i in range(DIM):\n",
    "        for j in range(DIM):\n",
    "            for k in range(DIM):\n",
    "                # From https://codegolf.stackexchange.com/questions/160359/levi-civita-symbol :\n",
    "                LeviCivitaSymbol[i][j][k] = (i - j) * (j - k) * (k - i) / 2\n",
    "    return LeviCivitaSymbol"
   ]
  },
  {
   "cell_type": "markdown",
   "metadata": {},
   "source": [
    "We will now declare a few other parameters. We set the coordinate system to Cartesian; notice also that in Step 2b, we will set x, y, and z to the Cartesian variables provided by $\\text{reference_metric.py}$. Since we are writing an Einstein Toolkit thorn, we will naturally set our memory access style to \"ETK\". \n",
    "\n",
    "Additionally, we need to turn off verbose output in the outputC functions. This is an important step in this case, because our final expressions are very large. Verbose output, when enabled, will print (in comments) the input SymPy expressions to the top of the file $\\it{without}$ CSE, resulting in an enormous output file.\n",
    "\n",
    "We will also declare the additional gridfunctions we need for this thorn: the physical metric $\\gamma_{ij}$, the extrinsic curvature $K_{ij}$, the inverse and determinant of the physical metric, and the real and imaginary components of $\\psi_4$."
   ]
  },
  {
   "cell_type": "code",
   "execution_count": 4,
   "metadata": {},
   "outputs": [],
   "source": [
    "# Step 1: Call BSSN_RHSs. This module computes many different quantities related to the metric,\n",
    "#         many of which will be essential here. We must first change to our desired coordinate\n",
    "#         system, however.\n",
    "par.set_parval_from_str(\"reference_metric::CoordSystem\",\"Cartesian\")\n",
    "par.set_parval_from_str(\"grid::GridFuncMemAccess\",\"ETK\")\n",
    "par.set_parval_from_str(\"outputC::outCverbose\",False) # To prevent absurdly large output files.\n",
    "#bssn.BSSN_RHSs() \n",
    "rfm.reference_metric()\n",
    "# We do not need the barred or hatted quantities calculated when using Cartesian coordinates.\n",
    "# Instead, we declare the PHYSICAL metric and extrinsic curvature as grid functions.\n",
    "gammaDD = ixp.register_gridfunctions_for_single_rank2(\"EVOL\",\"gammaDD\", \"sym12\")\n",
    "kDD = ixp.register_gridfunctions_for_single_rank2(\"EVOL\",\"kDD\", \"sym12\")\n",
    "# detgamma = gri.register_gridfunctions(\"AUX\",[\"detgamma\"])\n",
    "gammaUU, detgamma = ixp.symm_matrix_inverter3x3(gammaDD)\n",
    "psi4r,psi4i = gri.register_gridfunctions(\"AUX\",[\"psi4r\",\"psi4i\"])\n",
    "\n",
    "\n",
    "# Step 2a: Set spatial dimension (must be 3 for BSSN)\n",
    "DIM = 3\n",
    "par.set_parval_from_str(\"grid::DIM\",DIM)\n",
    "\n",
    "# Step 2b: Set the coordinate system to Cartesian\n",
    "x = rfm.xxCart[0]\n",
    "y = rfm.xxCart[1]\n",
    "z = rfm.xxCart[2]"
   ]
  },
  {
   "cell_type": "markdown",
   "metadata": {},
   "source": [
    "## Defining the Approximate Quasi-Kinnersley Tetrad\n",
    "\n",
    "To define the Weyl scalars, first a tetrad must be chosen. Below, for compatibility with the [WeylScal4 diagnostic module](https://bitbucket.org/einsteintoolkit/einsteinanalysis/src/master/WeylScal4/), we implement the approximate  quasi-Kinnersley tetrad of the BCL paper.\n",
    "\n",
    "We begin with the vectors given in eqs. 5.6 and 5.7 of the BCL paper,\n",
    "\\begin{align}\n",
    "    v_1^a &= [-y,x,0] \\\\\n",
    "    v_2^a &= [x,y,z] \\\\\n",
    "    v_3^a &= {\\rm det}(g)^{1/2} g^{ad} \\epsilon_{dbc} v_1^b v_2^c,\n",
    "\\end{align}\n",
    "and carry out the Gram-Schmidt orthonormalization process. Note that these vectors are initially orthogonal to each other; one is in the $\\phi$ direction, one is in $r$, and the third is the cross product of the first two. The vectors $w_i^a$ are placeholders in the code; the final product of the orthonormalization is the vectors $e_i^a$. So,\n",
    "\\begin{align}\n",
    "e_1^a &= \\frac{v_1^a}{\\omega_{11}} \\\\\n",
    "e_2^a &= \\frac{v_2^a - \\omega_{12} e_1^a}{\\omega_{22}} \\\\\n",
    "e_3^a &= \\frac{v_3^a - \\omega_{13} e_1^a - \\omega_{23} e_2^a}{\\omega_{33}}, \\\\\n",
    "\\end{align}\n",
    "where $\\omega_{ij} = v_i^a v_j^b \\gamma_{ab}$ needs to be updated between steps (to save resources, we can get away with only calculating components as needed), and uses $e_i^a$ instead of $v_i^a$ if it has been calculated. Recall that $\\gamma_{ab}$ was declared as a gridfunction above.\n",
    "\n",
    "Once we have orthogonal, normalized vectors, we can contruct the tetrad itself, again drawing on eqs. 5.6. We can draw on SymPy's built-in tools for complex numbers to build the complex vectors $m^a$ and $\\bar{m}^a$:\n",
    "\\begin{align}\n",
    "    l^a &= \\frac{1}{\\sqrt{2}} e_2^a \\\\\n",
    "    n^a &= -\\frac{1}{\\sqrt{2}} e_2^a \\\\\n",
    "    m^a &= \\frac{1}{\\sqrt{2}} (e_3^a + i e_1^a) \\\\\n",
    "    \\bar{m}^a &= \\frac{1}{\\sqrt{2}} (e_3^a - i e_1^a)\n",
    "\\end{align}\n",
    "\n",
    "We will also assume that $n^0 = \\frac{1}{\\sqrt{2}}$ and that $m^0 = \\bar{m}^0 = 0$. This last assumption in particular will significantly reduce the terms needed to find $\\psi_4$."
   ]
  },
  {
   "cell_type": "code",
   "execution_count": 5,
   "metadata": {},
   "outputs": [],
   "source": [
    "# Step 2c: Set which tetrad is used; at the moment, only one supported option\n",
    "TetradChoice = par.parval_from_str(\"TetradChoice\")\n",
    "\n",
    "if TetradChoice == \"Approx_QuasiKinnersley\":\n",
    "    # Eqs 5.6 in https://arxiv.org/pdf/gr-qc/0104063.pdf\n",
    "    xmoved = x# - xorig\n",
    "    ymoved = y# - yorig\n",
    "    zmoved = z# - zorig\n",
    "\n",
    "    # Step 3a: Choose 3 orthogonal vectors. Here, we choose one in the azimuthal \n",
    "    #          direction, one in the radial direction, and the cross product of the two. \n",
    "    # Eqs 5.7\n",
    "    v1U = ixp.zerorank1()\n",
    "    v2U = ixp.zerorank1()\n",
    "    v3U = ixp.zerorank1()\n",
    "    v1U[0] = -ymoved\n",
    "    v1U[1] = xmoved# + offset\n",
    "    v1U[2] = 0\n",
    "    v2U[0] = xmoved# + offset\n",
    "    v2U[1] = ymoved\n",
    "    v2U[2] = zmoved\n",
    "    LeviCivitaSymbol_rank3 = define_LeviCivitaSymbol_rank3()\n",
    "    for a in range(DIM):\n",
    "        for b in range(DIM):\n",
    "            for c in range(DIM):\n",
    "                for d in range(DIM):\n",
    "                    v3U[a] += sp.sqrt(detgamma) * gammaUU[a][d] * LeviCivitaSymbol_rank3[d][b][c] * v1U[b] *v2U[c]\n",
    "\n",
    "    # Step 3b: Gram-Schmidt orthonormalization of the vectors.\n",
    "    # The w_i^a vectors here are used to temporarily hold values on the way to the final vectors e_i^a\n",
    "\n",
    "    w1U = ixp.zerorank1()\n",
    "    for a in range(DIM):\n",
    "        w1U[a] = v1U[a]\n",
    "    omega11 = 0\n",
    "    for a in range(DIM):\n",
    "        for b in range(DIM):\n",
    "            omega11 += w1U[a] * w1U[b] * gammaDD[a][b]\n",
    "    e1U = ixp.zerorank1()\n",
    "    for a in range(DIM):\n",
    "        e1U[a] = w1U[a] / sp.sqrt(omega11)\n",
    "\n",
    "    omega12 = 0\n",
    "    for a in range(DIM):\n",
    "        for b in range(DIM):\n",
    "            omega12 += e1U[a] * v2U[b] * gammaDD[a][b]\n",
    "    w2U = ixp.zerorank1()\n",
    "    for a in range(DIM):\n",
    "        w2U[a] = v2U[a] - omega12*e1U[a]\n",
    "    omega22 = 0\n",
    "    for a in range(DIM):\n",
    "        for b in range(DIM):\n",
    "            omega22 += w2U[a] * w2U[b] *gammaDD[a][b]\n",
    "    e2U = ixp.zerorank1()\n",
    "    for a in range(DIM):\n",
    "        e2U[a] = w2U[a] / sp.sqrt(omega22)\n",
    "\n",
    "    omega13 = 0\n",
    "    for a in range(DIM):\n",
    "        for b in range(DIM):\n",
    "            omega13 += e1U[a] * v3U[b] * gammaDD[a][b]\n",
    "    omega23 = 0\n",
    "    for a in range(DIM):\n",
    "        for b in range(DIM):\n",
    "            omega23 += e2U[a] * v3U[b] * gammaDD[a][b]\n",
    "    w3U = ixp.zerorank1()\n",
    "    for a in range(DIM):\n",
    "        w3U[a] = v3U[a] - omega13*e1U[a] - omega23*e2U[a]\n",
    "    omega33 = 0\n",
    "    for a in range(DIM):\n",
    "        for b in range(DIM):\n",
    "            omega33 += w3U[a] * w3U[b] * gammaDD[a][b]\n",
    "    e3U = ixp.zerorank1()\n",
    "    for a in range(DIM):\n",
    "        e3U[a] = w3U[a] / sp.sqrt(omega33)\n",
    "        \n",
    "    # Step 3c: Construct the tetrad itself.\n",
    "    # Eqs. 5.6\n",
    "    isqrt2 = 1/sp.sqrt(2)\n",
    "    ltetU = ixp.zerorank1()\n",
    "    ntetU = ixp.zerorank1()\n",
    "    mtetU = ixp.zerorank1()\n",
    "    mtetccU = ixp.zerorank1()\n",
    "    for i in range(DIM):\n",
    "        ltetU[i] = isqrt2 * e2U[i]\n",
    "        ntetU[i] = -isqrt2 * e2U[i]\n",
    "        mtetU[i] = isqrt2 * (e3U[i] + sp.I*e1U[i])\n",
    "        mtetccU[i] = isqrt2 * (e3U[i] - sp.I*e1U[i])\n",
    "    nn = isqrt2\n",
    "\n",
    "else:\n",
    "    print(\"Error: TetradChoice == \"+par.parval_from_str(\"TetradChoice\")+\" unsupported!\")\n",
    "    exit(1)"
   ]
  },
  {
   "cell_type": "markdown",
   "metadata": {},
   "source": [
    "## Building the Riemann and extrinsic curvature tensors\n",
    "Now that we have the tetrad in place, we can contract it with the Weyl tensor to obtain the Weyl scalars. Naturally, we must first construct the Weyl tensor to do that. We will first build the Riemann curvature tensor,\n",
    "\\begin{align}\n",
    "R_{abcd} = \\frac{1}{2} (\\gamma_{ad,cb}+\\gamma_{bc,da}-\\gamma_{ac,bd}-\\gamma_{bd,ac}) + \\gamma_{je} \\Gamma^{j}_{bc}\\Gamma^{e}_{ad} - \\gamma_{je} \\Gamma^{j}_{bd} \\Gamma^{e}_{ac}\n",
    "\\end{align}\n",
    "since several terms in our expression for $\\psi_4$ are contractions of this tensor.\n",
    "To do this, we need second derivatives of the metric tensor, $\\gamma_{ab,cd}$, using the finite differencing functionality in NRPy+. \n",
    "\n",
    "We also need the extrinsic curvature tensor $K_{ij}$; in the Cartesian case, we simply declared $K_{ij}$ as a gridfunction above."
   ]
  },
  {
   "cell_type": "code",
   "execution_count": 6,
   "metadata": {},
   "outputs": [],
   "source": [
    "#Step 4a: Declare and construct the second derivative of the metric.\n",
    "#gammabarDD_dDD = ixp.zerorank4()\n",
    "#for i in range(DIM):\n",
    "#    for j in range(DIM):\n",
    "#        for k in range(DIM):\n",
    "#            for l in range(DIM):\n",
    "#                gammabarDD_dDD[i][j][k][l] = bssn.hDD_dDD[i][j][k][l]*rfm.ReDD[i][j] + \\\n",
    "#                                             bssn.hDD_dD[i][j][k]*rfm.ReDDdD[i][j][l] + \\\n",
    "#                                             bssn.hDD_dD[i][j][l]*rfm.ReDDdD[i][j][k] + \\\n",
    "#                                             bssn.hDD[i][j]*rfm.ReDDdDD[i][j][k][l] + \\\n",
    "#                                             rfm.ghatDDdDD[i][j][k][l]\n",
    "gammaDD_dD = ixp.declarerank3(\"gammaDD_dD\",\"sym12\")\n",
    "\n",
    "# Define the Christoffel symbols\n",
    "GammaUDD = ixp.zerorank3(DIM)\n",
    "for i in range(DIM):\n",
    "    for k in range(DIM):\n",
    "        for l in range(DIM):\n",
    "            for m in range(DIM):\n",
    "                GammaUDD[i][k][l] += (sp.Rational(1,2))*gammaUU[i][m]*\\\n",
    "                                     (gammaDD_dD[m][k][l] + gammaDD_dD[m][l][k] - gammaDD_dD[k][l][m])\n",
    "\n",
    "\n",
    "# Step 4b: Declare and construct the Riemann curvature tensor:\n",
    "gammaDD_dDD = ixp.declarerank4(\"gammaDD_dDD\",\"sym12_sym34\")\n",
    "RiemannDDDD = ixp.zerorank4()\n",
    "for a in range(DIM):\n",
    "    for b in range(DIM):\n",
    "        for c in range(DIM):\n",
    "            for d in range(DIM):\n",
    "                RiemannDDDD[a][b][c][d] = (gammaDD_dDD[a][d][c][b] + \\\n",
    "                                           gammaDD_dDD[b][c][d][a] - \\\n",
    "                                           gammaDD_dDD[a][c][b][d] - \\\n",
    "                                           gammaDD_dDD[b][d][a][c]) / 2\n",
    "                for e in range(DIM):\n",
    "                    for j in range(DIM):\n",
    "                        RiemannDDDD[a][b][c][d] +=  gammaDD[j][e] * GammaUDD[j][b][c] * GammaUDD[e][a][d] - \\\n",
    "                                                    gammaDD[j][e] * GammaUDD[j][b][d] * GammaUDD[e][a][c]\n",
    "\n",
    "                        \n",
    "# Step 4c: We also need the extrinsic curvature tensor $K_{ij}$. This can be built from quantities from BSSN_RHSs\n",
    "# For Cartesian coordinates, we already made this a gridfunction.\n",
    "#extrinsicKDD = ixp.zerorank2()\n",
    "#for i in range(DIM):\n",
    "#    for j in range(DIM):\n",
    "#        extrinsicKDD[i][j] = (bssn.AbarDD[i][j] + sp.Rational(1,3)*gammaDD[i][j]*bssn.trK)/bssn.exp_m4phi\n",
    "# We will, however, need to calculate the trace of K seperately:\n",
    "trK = sp.sympify(0)\n",
    "for i in range(DIM):\n",
    "    for j in range(DIM):\n",
    "        trK += gammaUU[i][j] * kDD[i][j]"
   ]
  },
  {
   "cell_type": "markdown",
   "metadata": {},
   "source": [
    "# Putting it all together: calculating $\\psi_4$\n",
    "We do not not need to explicitly build the Weyl tensor itself, because the BCL paper shows that, for the Weyl tensor $C_{ijkl}$,\n",
    "\\begin{align}\n",
    "\\psi_4 =&  C_{ijkl} n^i \\bar{m}^j n^k \\bar{m}^l\\\\\n",
    "=& (R_{ijkl} + 2K_{i[k}K_{l]j}) n^i \\bar{m}^j n^k \\bar{m}^l \\\\\n",
    "&- 8 (K_{j[k,l]} + \\Gamma^p_{j[k} K_{l]p}) n^{[0} \\bar{m}^{j]} n^k \\bar{m}^l \\\\\n",
    "&+ 4 (R_{jl} - K_{jp} K^p_l + KK_{jl}) n^{[0} \\bar{m}^{j]} n^{[0} \\bar{m}^{l]}.\n",
    "\\end{align}\n",
    "Note here the brackets around pairs of indices. This indicates the antisymmetric part of a tensor; that is for some arbitrary tensor $A_{ij}$, $A_{[ij]} = \\frac{1}{2}(A_{ij}-A_{ji})$. This applies identically for indices belonging to separate tensors as well as superscripts in place of subscripts.\n",
    "\n",
    "To make it easier to track the construction of this expression, we will break it down into three parts, by first defining each of the parenthetical terms above separately. That is, let \n",
    "\\begin{align}\n",
    "\\text{GaussDDDD[i][j][k][l]} =& R_{ijkl} + 2K_{i[k}K_{l]j},\n",
    "\\end{align}"
   ]
  },
  {
   "cell_type": "code",
   "execution_count": 7,
   "metadata": {},
   "outputs": [],
   "source": [
    "# Step 5: Build the formula for \\psi_4.\n",
    "# Gauss equation: involving the Riemann tensor and extrinsic curvature.\n",
    "GaussDDDD = ixp.zerorank4()\n",
    "for i in range(DIM):\n",
    "    for j in range(DIM):\n",
    "        for k in range(DIM):\n",
    "            for l in range(DIM):\n",
    "                GaussDDDD[i][j][k][l] = RiemannDDDD[i][j][k][l] + kDD[i][k]*kDD[l][j] - kDD[i][l]*kDD[k][j]"
   ]
  },
  {
   "cell_type": "markdown",
   "metadata": {},
   "source": [
    "\\begin{align}\n",
    "\\text{CodazziDDD[j][k][l]} =& -2 (K_{j[k,l]} + \\Gamma^p_{j[k} K_{l]p}),\n",
    "\\end{align}                                                       "
   ]
  },
  {
   "cell_type": "code",
   "execution_count": 8,
   "metadata": {},
   "outputs": [],
   "source": [
    "# Codazzi equation: involving partial derivatives of the extrinsic curvature. \n",
    "# We will first need to declare derivatives of kDD\n",
    "kDD_dD = ixp.declarerank3(\"kDD_dD\",\"sym12\")\n",
    "CodazziDDD = ixp.zerorank3()\n",
    "for j in range(DIM):\n",
    "    for k in range(DIM):\n",
    "        for l in range(DIM):\n",
    "            CodazziDDD[j][k][l] = kDD_dD[j][l][k] - kDD_dD[j][k][l]\n",
    "            for p in range(DIM):\n",
    "                CodazziDDD[j][k][l] += GammaUDD[p][j][l]*kDD[k][p] - GammaUDD[p][j][k]*kDD[l][p]"
   ]
  },
  {
   "cell_type": "markdown",
   "metadata": {},
   "source": [
    "and\n",
    "\\begin{align}\n",
    "\\text{RojoDD[j][l]} = & R_{jl} - K_{jp} K^p_l + KK_{jl} \\\\\n",
    "= & \\gamma^{pd} R_{jpld} - K_{jp} K^p_l + KK_{jl},\n",
    "\\end{align}"
   ]
  },
  {
   "cell_type": "code",
   "execution_count": 9,
   "metadata": {},
   "outputs": [],
   "source": [
    "# Another piece. While not associated with any particular equation,\n",
    "# this is still useful for organizational purposes.\n",
    "RojoDD = ixp.zerorank2()\n",
    "for j in range(DIM):\n",
    "    for l in range(DIM):\n",
    "        RojoDD[j][l] = trK*kDD[j][l]\n",
    "        for p in range(DIM):\n",
    "            for d in range(DIM):\n",
    "                RojoDD[j][l] += gammaUU[p][d]*RiemannDDDD[j][p][l][d] - kDD[j][p]*gammaUU[p][d]*kDD[d][l]"
   ]
  },
  {
   "cell_type": "markdown",
   "metadata": {},
   "source": [
    "where these quantities are so named because of their relation to the Gauss-Codazzi equations. Then, we simply contract these with the tetrad we chose earlier to arrive at an expression for $\\psi_4$. The barred Christoffel symbols and barred Ricci tensor have already been calculated by BSSN_RHSs.py, so we use those values. So, our expression for $\\psi_4$ has become \n",
    "\\begin{align}\n",
    "\\psi_4 =& (\\text{Gauss[i][j][k][l]}) n^i \\bar{m}^j n^k \\bar{m}^l \\\\\n",
    "&+2 (\\text{CodazziDDD[j][k][l]}) n^{0} \\bar{m}^{j} n^k \\bar{m}^l \\\\\n",
    "&+ (\\text{RojoDD[j][l]}) n^{0} \\bar{m}^{j} n^{0} \\bar{m}^{l}.\n",
    "\\end{align}"
   ]
  },
  {
   "cell_type": "code",
   "execution_count": 10,
   "metadata": {},
   "outputs": [
    {
     "name": "stdout",
     "output_type": "stream",
     "text": [
      "Wrote to file \"WeylScal4NRPy/src/WeylScal4_NRPy.h\"\n"
     ]
    }
   ],
   "source": [
    "#mtetccU[i] = isqrt2 * (e3U[i] - sp.I*e1U[i])\n",
    "#full: mtetccU[j] * mtetccU[l]\n",
    "#real: isqrt2*isqrt2*(e3U[j]*e3U[l]-e1U[j]*e1U[l])\n",
    "#imag: isqrt2*isqrt2*(-e3U[j]*e1U[l]-e1U[j]*e3U[l])\n",
    "# Now we can calculate $\\psi_4$ itself!\n",
    "psi4r_rhs = sp.sympify(0)\n",
    "psi4i_rhs = sp.sympify(0)\n",
    "for l in range(DIM):\n",
    "    for j in range(DIM):\n",
    "        psi4r_rhs += RojoDD[j][l] * nn * nn * isqrt2*isqrt2*(e3U[j]*e3U[l]-e1U[j]*e1U[l])\n",
    "        psi4i_rhs += RojoDD[j][l] * nn * nn * isqrt2*isqrt2*(-e3U[j]*e1U[l]-e1U[j]*e3U[l])\n",
    "        for k in range(DIM):\n",
    "            psi4r_rhs += 2 * CodazziDDD[j][k][l] * ntetU[k] * nn * isqrt2*isqrt2*(e3U[j]*e3U[l]-e1U[j]*e1U[l])\n",
    "            psi4i_rhs += 2 * CodazziDDD[j][k][l] * ntetU[k] * nn * isqrt2*isqrt2*(-e3U[j]*e1U[l]-e1U[j]*e3U[l])\n",
    "            for i in range(DIM):\n",
    "                psi4r_rhs += GaussDDDD[i][j][k][l] * ntetU[i] * ntetU[k] * isqrt2*isqrt2*(e3U[j]*e3U[l]-e1U[j]*e1U[l])\n",
    "                psi4i_rhs += GaussDDDD[i][j][k][l] * ntetU[i] * ntetU[k] * isqrt2*isqrt2*(-e3U[j]*e1U[l]-e1U[j]*e3U[l])\n",
    "\n",
    "#cse_output = sp.cse(psi4,sp.numbered_symbols(\"tmp\"))\n",
    "#for commonsubexpression in cse_output:\n",
    "#    print(\"hello?\",commonsubexpression)\n",
    "#for commonsubexpression in cse_output[0]:\n",
    "#    print((str(commonsubexpression[0])+\" = \"+str(commonsubexpression[1])+\";\").replace(\"**\",\"^\").replace(\"_d\",\"d\"))\n",
    "#for i,result in enumerate(cse_output[1]):\n",
    "#   print((\"psi4rPy = \"+str(result)+\";\").replace(\"**\",\"^\").replace(\"_d\",\"d\"))\n",
    "# These replace commands are used to allow us to validate against Einstein Toolkit's WeylScal4 thorn in Mathematica.\n",
    "# Specifically, the first changes exponentiation to Mathematica's format, and the second strips the underscores\n",
    "# that have a very specific meaning in Mathematica and thus cannot be used in variable names.\n",
    "\n",
    "!mkdir WeylScal4NRPy     2>/dev/null # 2>/dev/null: Don't throw an error if the directory already exists.\n",
    "!mkdir WeylScal4NRPy/src 2>/dev/null # 2>/dev/null: Don't throw an error if the directory already exists.\n",
    "fin.FD_outputC(\"WeylScal4NRPy/src/WeylScal4_NRPy.h\",[lhrh(lhs=gri.gfaccess(\"out_gfs\",\"psi4r\"),rhs=psi4r_rhs),lhrh(lhs=gri.gfaccess(\"out_gfs\",\"psi4i\"),rhs=psi4i_rhs)])"
   ]
  },
  {
   "cell_type": "markdown",
   "metadata": {},
   "source": [
    "To create an Einstein Toolkit thorn to numerically compare the two codes, we will need a few more files, as required by the Einstein Toolkit: the scheduling, parameter, and interface $\\text{.ccl files}$ (our specific thorn does not require the optional $\\text{configuration.ccl}$ file). \n",
    "\n",
    "We will start with the file $\\text{interface.ccl}$. This file governs the interaction between this thorn and others; more information can be found in the [official Einstein Toolkit documentation](http://cactuscode.org/documentation/referencemanual/ReferenceManualch8.html#x12-260000C2.2). \n",
    "With \"implements\", we give our thorn its unique name. By \"inheriting\" other thorns, we tell the Toolkit that we will rely on variables that exist within those functions. Then, we tell the toolkit that we want the scalars $\\text{psi4r}$\n",
    "and $\\text{psi4i}$ to be visible to other thorns by using the keyword \"public\". "
   ]
  },
  {
   "cell_type": "code",
   "execution_count": 11,
   "metadata": {},
   "outputs": [
    {
     "name": "stdout",
     "output_type": "stream",
     "text": [
      "Overwriting WeylScal4NRPy/interface.ccl\n"
     ]
    }
   ],
   "source": [
    "%%writefile WeylScal4NRPy/interface.ccl\n",
    "\n",
    "implements: WeylScal4NRPy\n",
    "\n",
    "inherits:   admbase Boundary Grid methodoflines\n",
    "\n",
    "public:\n",
    "CCTK_REAL Psi4r_group type=GF timelevels=3 tags='tensortypealias=\"Scalar\" tensorweight=0 tensorparity=1'\n",
    "{\n",
    "  psi4r\n",
    "} \"Psi4r_group\"\n",
    "\n",
    "public:\n",
    "CCTK_REAL Psi4i_group type=GF timelevels=3 tags='tensortypealias=\"Scalar\" tensorweight=0 tensorparity=-1'\n",
    "{\n",
    "  psi4i\n",
    "} \"Psi4i_group\""
   ]
  },
  {
   "cell_type": "markdown",
   "metadata": {},
   "source": [
    "We will now write the file $\\text{param.ccl}$. This file allows the listed parameters to be set at runtime. We also give allowed ranges and default values for each parameter. More information on this file's syntax can be found in the [official Einstein Toolkit documentation](http://cactuscode.org/documentation/referencemanual/ReferenceManualch8.html#x12-265000C2.3). Here, the first two parameters tell the Method of Lines thorn that none of our variables need to be evolved in time. The last two determine how often we will calculate $\\psi_4$ and how many timesteps to skip at the beginning; currently, they are set to calculate $\\psi_4$ at every timestep, starting from the first in the simulation. "
   ]
  },
  {
   "cell_type": "code",
   "execution_count": 12,
   "metadata": {},
   "outputs": [
    {
     "name": "stdout",
     "output_type": "stream",
     "text": [
      "Overwriting WeylScal4NRPy/param.ccl\n"
     ]
    }
   ],
   "source": [
    "%%writefile WeylScal4NRPy/param.ccl\n",
    "\n",
    "restricted:\n",
    "CCTK_INT WeylScal4NRPy_MaxNumEvolvedVars \"Number of evolved variables used by this thorn\" ACCUMULATOR-BASE=MethodofLines::MoL_Num_Evolved_Vars STEERABLE=RECOVER\n",
    "{\n",
    "  0:0 :: \"Number of evolved variables used by this thorn\"\n",
    "} 0\n",
    "\n",
    "restricted:\n",
    "CCTK_INT WeylScal4NRPy_MaxNumArrayEvolvedVars \"Number of Array evolved variables used by this thorn\" ACCUMULATOR-BASE=MethodofLines::MoL_Num_ArrayEvolved_Vars STEERABLE=RECOVER\n",
    "{\n",
    "  0:0 :: \"Number of Array evolved variables used by this thorn\"\n",
    "} 0\n",
    "\n",
    "restricted:\n",
    "CCTK_INT timelevels \"Number of active timelevels\" STEERABLE=RECOVER\n",
    "{\n",
    "  0:3 :: \"\"\n",
    "} 3\n",
    "\n",
    "restricted:\n",
    "CCTK_INT WeylScal4NRPy_calc_every \"WeylScal4_psi4_calc_Nth_calc_every\" STEERABLE=ALWAYS\n",
    "{\n",
    "  *:* :: \"\"\n",
    "} 1\n",
    "\n",
    "restricted:\n",
    "CCTK_INT WeylScal4NRPy_calc_offset \"WeylScal4_psi4_calc_4th_calc_offset\" STEERABLE=ALWAYS\n",
    "{\n",
    "  *:* :: \"\"\n",
    "} 0"
   ]
  },
  {
   "cell_type": "markdown",
   "metadata": {},
   "source": [
    "Finally, we will write the file $\\text{schedule.ccl}$; the official documentation is found [here](http://cactuscode.org/documentation/referencemanual/ReferenceManualch8.html#x12-268000C2.4). This file dictates when the various parts of the thorn will be run. We first assign storage for both the real and imaginary components of $\\psi_4$, and then specify that we want our code run in  the $\\text{MoL_PseudoEvolution}$ schedule group, after the ADM variables are set. At this step, we declare that we will be writing code in C. We also specify the gridfunctions that we wish to read in from memory--in our case, we need all the components of $K_{ij}$ and $g_{ij}$ (which we have been calling $\\gamma_{ij}$) in addition to the coordinate values."
   ]
  },
  {
   "cell_type": "code",
   "execution_count": 13,
   "metadata": {},
   "outputs": [
    {
     "name": "stdout",
     "output_type": "stream",
     "text": [
      "Overwriting WeylScal4NRPy/schedule.ccl\n"
     ]
    }
   ],
   "source": [
    "%%writefile WeylScal4NRPy/schedule.ccl\n",
    "\n",
    "STORAGE: Psi4r_group[timelevels]\n",
    "\n",
    "STORAGE: Psi4i_group[timelevels]\n",
    "\n",
    "schedule group WeylScal4NRPy_group in MoL_PseudoEvolution after ADMBase_SetADMVars\n",
    "{\n",
    "} \"WeylScal4NRPy\"\n",
    "\n",
    "schedule WeylScal4NRPy in WeylScal4NRPy_group\n",
    "{\n",
    "  LANG: C\n",
    "  READS: admbase::kxx(Everywhere)\n",
    "  READS: admbase::kxy(Everywhere)\n",
    "  READS: admbase::kxz(Everywhere)\n",
    "  READS: admbase::kyy(Everywhere)\n",
    "  READS: admbase::kyz(Everywhere)\n",
    "  READS: admbase::kzz(Everywhere)\n",
    "  READS: admbase::gxx(Everywhere)\n",
    "  READS: admbase::gxy(Everywhere)\n",
    "  READS: admbase::gxz(Everywhere)\n",
    "  READS: admbase::gyy(Everywhere)\n",
    "  READS: admbase::gyz(Everywhere)\n",
    "  READS: admbase::gzz(Everywhere)\n",
    "  READS: grid::x(Everywhere)\n",
    "  READS: grid::y(Everywhere)\n",
    "  READS: grid::z(Everywhere)\n",
    "  WRITES: WeylScal4::psi4i(Interior)\n",
    "  WRITES: WeylScal4::psi4r(Interior)\n",
    "} \"WeylScal4NRPy\"\n"
   ]
  },
  {
   "cell_type": "markdown",
   "metadata": {},
   "source": [
    "We will also need $\\text{make.code.defn}$, which states which files need to be compiled. This thorn only has the one C file to compile."
   ]
  },
  {
   "cell_type": "code",
   "execution_count": 14,
   "metadata": {},
   "outputs": [
    {
     "name": "stdout",
     "output_type": "stream",
     "text": [
      "Overwriting WeylScal4NRPy/src/make.code.defn\n"
     ]
    }
   ],
   "source": [
    "%%writefile WeylScal4NRPy/src/make.code.defn\n",
    "\n",
    "SRCS = WeylScal4_NRPy.c"
   ]
  }
 ],
 "metadata": {
  "kernelspec": {
   "display_name": "Python 3",
   "language": "python",
   "name": "python3"
  },
  "language_info": {
   "codemirror_mode": {
    "name": "ipython",
    "version": 3
   },
   "file_extension": ".py",
   "mimetype": "text/x-python",
   "name": "python",
   "nbconvert_exporter": "python",
   "pygments_lexer": "ipython3",
   "version": "3.6.5"
  }
 },
 "nbformat": 4,
 "nbformat_minor": 2
}
