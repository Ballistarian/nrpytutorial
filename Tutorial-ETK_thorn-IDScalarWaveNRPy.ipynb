{
 "cells": [
  {
   "cell_type": "markdown",
   "metadata": {},
   "source": [
    "# The Scalar Wave Equation: Creating an Einstein Toolkit Initial Data thorn\n",
    "\n",
    "### NRPy+ Source Code for this module: [ScalarWave/InitialData_PlaneWave.py](../edit/ScalarWave/InitialData_PlaneWave.py) , which is fully documented in the [previous NRPy+ tutorial module on using NRPy+ to construct these scalar wave initial data as SymPy expressions](Tutorial-ScalarWave.ipynb).\n"
   ]
  },
  {
   "cell_type": "markdown",
   "metadata": {},
   "source": [
    "## Scalar Wave Initial Data\n",
    "\n",
    "Now, we will move on to the second thorn. This thorn will set the initial data.\n",
    "\n",
    "### Step 1: Call on NRPy+ to convert the SymPy expressions for the Weyl scalars and associated invariants into one C-code kernel for each. \n",
    "\n",
    "The plane wave initial data are already constructed by [ScalarWave/InitialData_PlaneWave.py](../edit/ScalarWave/InitialData_PlaneWave.py), so we can simply import them to use here.\n",
    "\n",
    "We will now output the C code for the header file to set plane wave initial data that will be evolved by the first thorn we made in this tutorial."
   ]
  },
  {
   "cell_type": "code",
   "execution_count": 1,
   "metadata": {},
   "outputs": [],
   "source": [
    "# Step 1a: Import needed NRPy+ core modules:\n",
    "import NRPy_param_funcs as par\n",
    "import indexedexp as ixp\n",
    "import grid as gri\n",
    "import finite_difference as fin\n",
    "from outputC import *\n",
    "import loop\n",
    "\n",
    "# Step 1b: This is an Einstein Toolkit (ETK) thorn. Here we\n",
    "#          tell NRPy+ that gridfunction memory access will \n",
    "#          therefore be in the \"ETK\" style.\n",
    "par.set_parval_from_str(\"grid::GridFuncMemAccess\",\"ETK\")\n",
    "\n",
    "# Step 1c: Call the InitialData_PlaneWave() function from within the\n",
    "#         ScalarWave/InitialData_PlaneWave.py module,\n",
    "#         which should do exactly the same as in Steps 1-5 above.\n",
    "import ScalarWave.InitialData_PlaneWave as swid\n",
    "\n",
    "# Step 2: Within the ETK, the 3D gridfunctions x, y, and z store the\n",
    "#         Cartesian grid coordinates. Setting the gri.xx[] arrays\n",
    "#         to point to these gridfunctions forces NRPy+ to treat\n",
    "#         the Cartesian coordinate gridfunctions properly --\n",
    "#         reading them from memory as needed.\n",
    "x,y,z = gri.register_gridfunctions(\"AUX\",[\"x\",\"y\",\"z\"])\n",
    "gri.xx[0] = x\n",
    "gri.xx[1] = y\n",
    "gri.xx[2] = z\n",
    "\n",
    "# Step 3: Set up the plane wave initial data. This sets uu_ID and vv_ID.\n",
    "swid.InitialData_PlaneWave()\n",
    "\n",
    "# Step 4: Register uu and vv gridfunctions so they can be written to by NRPy.\n",
    "uu,vv = gri.register_gridfunctions(\"EVOL\",[\"uu\",\"vv\"])\n",
    "\n",
    "# Step 5: Set the uu and vv gridfunctions to the uu_ID & vv_ID variables \n",
    "#         defined by InitialData_PlaneWave().\n",
    "uu = swid.uu_ID\n",
    "vv = swid.vv_ID\n",
    "\n",
    "# Step 6: Create directories for the thorn if they don't exist.\n",
    "!mkdir IDScalarWaveNRPy     2>/dev/null # 2>/dev/null: Don't throw an error if the directory already exists.\n",
    "!mkdir IDScalarWaveNRPy/src 2>/dev/null # 2>/dev/null: Don't throw an error if the directory already exists.\n",
    "\n",
    "# Step 7: Create the C code output kernel.\n",
    "scalar_PWID_to_print = [\\\n",
    "                        lhrh(lhs=gri.gfaccess(\"out_gfs\",\"uu\"),rhs=uu),\\\n",
    "                        lhrh(lhs=gri.gfaccess(\"out_gfs\",\"vv\"),rhs=vv),]\n",
    "scalar_PWID_CcodeKernel = fin.FD_outputC(\"returnstring\",scalar_PWID_to_print)\n",
    "\n",
    "scalar_PWID_looped = loop.loop([\"i2\",\"i1\",\"i0\"],[\"1\",\"1\",\"1\"],[\"cctk_lsh[2]-1\",\"cctk_lsh[1]-1\",\"cctk_lsh[0]-1\"],\\\n",
    "                               [\"1\",\"1\",\"1\"],[\"#pragma omp parallel for\",\"\",\"\"],\"\",\\\n",
    "                               scalar_PWID_CcodeKernel.replace(\"time\",\"cctk_time\"))\n",
    "\n",
    "# Step 8: Write the C code kernel to file.\n",
    "with open(\"IDScalarWaveNRPy/src/ScalarWave_PWID.h\", \"w\") as file:\n",
    "    file.write(str(scalar_PWID_looped))\n"
   ]
  },
  {
   "cell_type": "markdown",
   "metadata": {},
   "source": [
    "### Step 2: Interfacing with the Einstein Toolkit\n",
    "\n",
    "#### Step 2a: Constructing the Einstein Toolkit calling functions that include the C code kernels.\n",
    "\n",
    "We will write another C file with the functions we need here."
   ]
  },
  {
   "cell_type": "code",
   "execution_count": 2,
   "metadata": {},
   "outputs": [
    {
     "name": "stdout",
     "output_type": "stream",
     "text": [
      "Overwriting IDScalarWaveNRPy/src/InitialData.c\n"
     ]
    }
   ],
   "source": [
    "%%writefile IDScalarWaveNRPy/src/InitialData.c\n",
    "#include <math.h>\n",
    "\n",
    "#include \"cctk.h\"\n",
    "#include \"cctk_Parameters.h\"\n",
    "#include \"cctk_Arguments.h\"\n",
    "\n",
    "void IDScalarWaveNRPy_InitialData(CCTK_ARGUMENTS)\n",
    "{\n",
    "  DECLARE_CCTK_ARGUMENTS\n",
    "  DECLARE_CCTK_PARAMETERS\n",
    "  \n",
    "  const CCTK_REAL *xGF = x;\n",
    "  const CCTK_REAL *yGF = y;\n",
    "  const CCTK_REAL *zGF = z;\n",
    "#include \"ScalarWave_PWID.h\"\n",
    "}"
   ]
  },
  {
   "cell_type": "markdown",
   "metadata": {},
   "source": [
    "### Step 2b: CCL files - Define how this module interacts and interfaces with the larger Einstein Toolkit infrastructure\n",
    "\n",
    "Writing a module (\"thorn\") within the Einstein Toolkit requires that three \"ccl\" files be constructed, all in the root directory of the thorn:\n",
    "\n",
    "1. $\\text{interface.ccl}$: defines the gridfunction groups needed, and provides keywords denoting what this thorn provides and what it should inherit from other thorns.\n",
    "1. $\\text{param.ccl}$: specifies free parameters within the thorn.\n",
    "1. $\\text{schedule.ccl}$: allocates storage for gridfunctions, defines how the thorn's functions should be scheduled in a broader simulation, and specifies the regions of memory written to or read from gridfunctions.\n",
    "\n",
    "We will also need to write an interface file for this thorn."
   ]
  },
  {
   "cell_type": "code",
   "execution_count": 3,
   "metadata": {},
   "outputs": [
    {
     "name": "stdout",
     "output_type": "stream",
     "text": [
      "Overwriting IDScalarWaveNRPy/interface.ccl\n"
     ]
    }
   ],
   "source": [
    "%%writefile IDScalarWaveNRPy/interface.ccl\n",
    "implements: IDScalarWaveNRPy\n",
    "inherits: WaveToyNRPy grid\n"
   ]
  },
  {
   "cell_type": "markdown",
   "metadata": {},
   "source": [
    "We will need to write a param file for this thorn."
   ]
  },
  {
   "cell_type": "code",
   "execution_count": 4,
   "metadata": {},
   "outputs": [
    {
     "name": "stdout",
     "output_type": "stream",
     "text": [
      "Overwriting IDScalarWaveNRPy/param.ccl\n"
     ]
    }
   ],
   "source": [
    "%%writefile IDScalarWaveNRPy/param.ccl\n",
    "shares: grid\n",
    "\n",
    "USES KEYWORD type\n",
    "\n",
    "shares: WaveToyNRPy\n",
    "    \n",
    "USES REAL wavespeed\n",
    "\n",
    "restricted:\n",
    "CCTK_KEYWORD initial_data \"Type of initial data\"\n",
    "{\n",
    "  \"plane\"      :: \"Plane wave\"\n",
    "} \"plane\"\n",
    "\n",
    "restricted:\n",
    "CCTK_REAL kk0 \"The wave number in the x-direction\"\n",
    "{\n",
    " *:* :: \"No restriction\"\n",
    "} 4.0\n",
    "\n",
    "restricted:\n",
    "CCTK_REAL kk1 \"The wave number in the y-direction\"\n",
    "{\n",
    " *:* :: \"No restriction\"\n",
    "} 0.0\n",
    "\n",
    "restricted:\n",
    "CCTK_REAL kk2 \"The wave number in the z-direction\"\n",
    "{\n",
    " *:* :: \"No restriction\"\n",
    "} 0.0\n"
   ]
  },
  {
   "cell_type": "markdown",
   "metadata": {},
   "source": [
    "We will need to write a schedule file for this thorn."
   ]
  },
  {
   "cell_type": "code",
   "execution_count": 5,
   "metadata": {},
   "outputs": [
    {
     "name": "stdout",
     "output_type": "stream",
     "text": [
      "Overwriting IDScalarWaveNRPy/schedule.ccl\n"
     ]
    }
   ],
   "source": [
    "%%writefile IDScalarWaveNRPy/schedule.ccl\n",
    "schedule IDScalarWaveNRPy_InitialData at CCTK_INITIAL as WaveToy_InitialData\n",
    "{\n",
    "  STORAGE:       WaveToyNRPy::scalar_fields[3]\n",
    "  LANG:          C\n",
    "  READS: grid::x(Everywhere)\n",
    "  READS: grid::y(Everywhere)\n",
    "  READS: grid::y(Everywhere)\n",
    "  WRITES: uuGF(Everywhere)\n",
    "  WRITES: vvGF(Everywhere)\n",
    "} \"Initial data for 3D wave equation\"\n"
   ]
  },
  {
   "cell_type": "markdown",
   "metadata": {},
   "source": [
    "#### Step 2c: Tell the Einstein Toolkit to compile the C code.\n",
    "\n",
    "We will also need $\\text{make.code.defn}$, which states which files need to be compiled. This thorn only has the one C file to compile so far."
   ]
  },
  {
   "cell_type": "code",
   "execution_count": 6,
   "metadata": {},
   "outputs": [
    {
     "name": "stdout",
     "output_type": "stream",
     "text": [
      "Overwriting IDScalarWaveNRPy/src/make.code.defn\n"
     ]
    }
   ],
   "source": [
    "%%writefile IDScalarWaveNRPy/src/make.code.defn\n",
    "SRCS = InitialData.c"
   ]
  }
 ],
 "metadata": {
  "kernelspec": {
   "display_name": "Python 3",
   "language": "python",
   "name": "python3"
  },
  "language_info": {
   "codemirror_mode": {
    "name": "ipython",
    "version": 3
   },
   "file_extension": ".py",
   "mimetype": "text/x-python",
   "name": "python",
   "nbconvert_exporter": "python",
   "pygments_lexer": "ipython3",
   "version": "3.6.5"
  }
 },
 "nbformat": 4,
 "nbformat_minor": 2
}
