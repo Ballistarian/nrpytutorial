{
 "cells": [
  {
   "cell_type": "markdown",
   "metadata": {},
   "source": [
    "## Generating C code for the right-hand-side of the scalar wave equation, in ***curvilinear*** coordinates, using a reference metric formalism\n",
    "\n",
    "### NRPy+ Source Code for this module: [scalarwave_RHSs.py](../edit/scalarwave_RHSs.py)\n",
    "\n",
    "Recall from [NRPy+ tutorial module on the Cartesian scalar wave equation](Tutorial-ScalarWave.ipynb), the scalar wave equation in 3D Cartesian coordinates is given by\n",
    "\n",
    "$$\\partial_t^2 u = c^2 \\nabla^2 u \\text{,}$$\n",
    "where $u$ (the amplitude of the wave) is a function of time and Cartesian coordinates in space: $u = u(t,x,y,z)$ (spatial dimension as-yet unspecified), and subject to some initial condition\n",
    "$$u(0,x,y,z) = f(x,y,z),$$\n",
    "\n",
    "with suitable (sometimes approximate) spatial boundary conditions.\n",
    "\n",
    "To simplify this equation, let's first choose units such that $c=1$. Alternative wave speeds can be constructed\n",
    "by simply rescaling the time coordinate, with the net effect being that the time $t$ is replaced with time in dimensions of space; i.e., $t\\to c t$:\n",
    "\n",
    "$$\\partial_t^2 u = \\nabla^2 u.$$\n",
    "\n",
    "As we learned in the [NRPy+ tutorial module on reference metrics](Tutorial-Reference_Metric.ipynb), reference metrics are a means to pick the best coordinate system for the PDE we wish to solve. However, to take advantage of reference metrics requires first that we generalize the PDE. In the case of the scalar wave equation, this involves first rewriting in [Einstein notation](https://en.wikipedia.org/wiki/Einstein_notation) via\n",
    "\n",
    "$$(-\\partial_t^2 + \\nabla^2) u = \\eta^{\\mu\\nu} u_{,\\mu\\nu} = 0,$$\n",
    "\n",
    "where $u_{,\\mu\\nu} = \\partial_\\mu \\partial_\\nu u$, and $\\eta^{\\mu\\nu}$ is the contravariant flat-space metric tensor with components $\\text{diag}(-1,1,1,1)$.\n",
    "\n",
    "Next we apply the \"comma-goes-to-semicolon rule\" and replace $\\eta^{\\mu\\nu}$ with $\\hat{g}^{\\mu\\nu}$ to generalize the scalar wave equation to an arbitrary reference metric $\\hat{g}^{\\mu\\nu}$:\n",
    "\n",
    "$$\\hat{g}^{\\mu\\nu} u_{;\\mu\\nu} = \\hat{\\nabla}_{\\mu} \\hat{\\nabla}_{\\nu} u = 0,$$\n",
    "\n",
    "where $\\hat{\\nabla}_{\\mu}$ denotes the [covariant derivative](https://en.wikipedia.org/wiki/Covariant_derivative) with respect to the reference metric basis vectors $\\hat{x}^{\\mu}$, and $\\hat{g}^{\\mu \\nu} \\hat{\\nabla}_{\\mu} \\hat{\\nabla}_{\\nu} u$ is the covariant\n",
    "[D'Alembertian](https://en.wikipedia.org/wiki/D%27Alembert_operator) of $u$.\n",
    "\n",
    "For example, suppose we wish to model a short-wavelength wave that is nearly spherical. In this case, if we were to solve the wave equation PDE in Cartesian coordinates, we would in principle need high resolution in all three cardinal directions. If instead we chose spherical coordinates centered at the center of the wave, we might need high resolution only in the radial direction, with only a few points required in the angular directions. Thus choosing spherical coordinates would be far more computationally efficient than modeling the wave in Cartesian coordinates.\n",
    "\n",
    "Let's now expand the covariant scalar wave equation in arbitrary coordinates. Since the covariant derivative of a scalar is equivalent to the partial derivative, we have\n",
    "\\begin{align}\n",
    "0 &= \\hat{g}^{\\mu \\nu} \\hat{\\nabla}_{\\mu} \\hat{\\nabla}_{\\nu} u \\\\\n",
    "&= \\hat{g}^{\\mu \\nu} \\hat{\\nabla}_{\\mu} \\partial_{\\nu} u.\n",
    "\\end{align}\n",
    "\n",
    "$\\partial_{\\nu} u$ transforms as a one-form under covariant differentiation, so we have\n",
    "$$\\hat{\\nabla}_{\\mu} \\partial_{\\nu} u = \\partial_{\\mu} \\partial_{\\nu} u - \\hat{\\Gamma}^\\tau_{\\mu\\nu} \\partial_\\tau u,$$\n",
    "where \n",
    "\n",
    "$$\\hat{\\Gamma}^\\tau_{\\mu\\nu} = \\frac{1}{2} \\hat{g}^{\\tau\\alpha} \\left(\\partial_\\nu \\hat{g}_{\\alpha\\mu} + \\partial_\\mu \\hat{g}_{\\alpha\\nu} - \\partial_\\alpha \\hat{g}_{\\mu\\nu} \\right)$$\n",
    "is the Christoffel symbol associated with the reference metric $\\hat{g}_{\\mu\\nu}$.\n",
    "\n",
    "Then the scalar wave equation is written:\n",
    "$$0 = \\hat{g}^{\\mu \\nu} \\left( \\partial_{\\mu} \\partial_{\\nu} u - \\hat{\\Gamma}^\\tau_{\\mu\\nu} \\partial_\\tau u\\right).$$\n",
    "\n",
    "Define the contracted Christoffel symbols:\n",
    "$$\\hat{\\Gamma}^\\tau = \\hat{g}^{\\mu\\nu} \\hat{\\Gamma}^\\tau_{\\mu\\nu}.$$\n",
    "\n",
    "Then the scalar wave equation is given by\n",
    "$$0 = \\hat{g}^{\\mu \\nu} \\partial_{\\mu} \\partial_{\\nu} u - \\hat{\\Gamma}^\\tau \\partial_\\tau u.$$"
   ]
  },
  {
   "cell_type": "code",
   "execution_count": null,
   "metadata": {},
   "outputs": [],
   "source": []
  }
 ],
 "metadata": {
  "kernelspec": {
   "display_name": "Python 3",
   "language": "python",
   "name": "python3"
  },
  "language_info": {
   "codemirror_mode": {
    "name": "ipython",
    "version": 3
   },
   "file_extension": ".py",
   "mimetype": "text/x-python",
   "name": "python",
   "nbconvert_exporter": "python",
   "pygments_lexer": "ipython3",
   "version": "3.4.3"
  }
 },
 "nbformat": 4,
 "nbformat_minor": 2
}
