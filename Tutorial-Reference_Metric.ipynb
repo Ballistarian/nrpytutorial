{
 "cells": [
  {
   "cell_type": "code",
   "execution_count": 1,
   "metadata": {},
   "outputs": [
    {
     "name": "stdout",
     "output_type": "stream",
     "text": [
      "xx0*sin(xx1)\n",
      "[sqrt(bScale**2 + xx0**2)*sin(xx1)*cos(xx2)/sqrt(bScale**2*sin(xx1)**2 + xx0**2), sqrt(bScale**2 + xx0**2)*sin(xx1)*sin(xx2)/sqrt(bScale**2*sin(xx1)**2 + xx0**2), xx0*cos(xx1)/sqrt(bScale**2*sin(xx1)**2 + xx0**2)]\n",
      "[xx0*cos(xx1)*cos(xx2)/sqrt(bScale**2*sin(xx1)**2 + xx0**2), xx0*sin(xx2)*cos(xx1)/sqrt(bScale**2*sin(xx1)**2 + xx0**2), -sqrt(bScale**2 + xx0**2)*sin(xx1)/sqrt(bScale**2*sin(xx1)**2 + xx0**2)]\n",
      "[-sin(xx1)*sin(xx2)/Abs(sin(xx1)), sin(xx1)*cos(xx2)/Abs(sin(xx1)), 0]\n"
     ]
    }
   ],
   "source": [
    "from reference_metric import *\n",
    "reference_metric()\n",
    "print(scalefactor_orthog[2])\n",
    "xxhats = UnitVectors3D()\n",
    "print(xxhats[0])\n",
    "print(xxhats[1])\n",
    "print(xxhats[2])"
   ]
  },
  {
   "cell_type": "code",
   "execution_count": 2,
   "metadata": {},
   "outputs": [
    {
     "data": {
      "text/plain": [
       "1"
      ]
     },
     "execution_count": 2,
     "metadata": {},
     "output_type": "execute_result"
    }
   ],
   "source": [
    "xx0,xx1 = sp.symbols('xx0 xx1',positive=True)\n",
    "xx0/sp.sqrt(xx0**2)"
   ]
  },
  {
   "cell_type": "code",
   "execution_count": null,
   "metadata": {},
   "outputs": [],
   "source": []
  }
 ],
 "metadata": {
  "kernelspec": {
   "display_name": "Python 3",
   "language": "python",
   "name": "python3"
  },
  "language_info": {
   "codemirror_mode": {
    "name": "ipython",
    "version": 3
   },
   "file_extension": ".py",
   "mimetype": "text/x-python",
   "name": "python",
   "nbconvert_exporter": "python",
   "pygments_lexer": "ipython3",
   "version": "3.4.3"
  }
 },
 "nbformat": 4,
 "nbformat_minor": 2
}
