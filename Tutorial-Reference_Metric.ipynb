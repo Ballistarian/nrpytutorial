{
 "cells": [
  {
   "cell_type": "markdown",
   "metadata": {},
   "source": [
    "# NRPy+'s Reference Metric Interface\n",
    "\n",
    "### NRPy+ Source Code for this module: [reference_metric.py](../edit/reference_metric.py), [reference_metric__hatted_quantities.py](../edit/reference_metric__hatted_quantities.py)"
   ]
  },
  {
   "cell_type": "markdown",
   "metadata": {},
   "source": [
    "### Why use a reference metric? Benefits of choosing the best coordinate system for the problem\n",
    "\n",
    "When solving a partial differential equation on the computer, it is useful to first pick a coordinate system well-suited to the physical scenario we are modeling. \n",
    "\n",
    "For example, if we are modeling a spherically-symmetric star, it would be hugely wasteful to model the star in 3-dimensional Cartesian coordinates ($x$,$y$,$z$). This is because in Cartesian coordinates, we would need to choose high sampling in all three Cartesian directions. If instead we chose to model the star in spherical coordinates ($r$,$\\theta$,$\\phi$), so long as the star is centered at $r=0$, we would not need to model the star in more than one point in the $\\theta$ and $\\phi$ directions!\n",
    "\n",
    "The same argument holds for stars that vary slowly in $\\theta$ and $\\phi$ directions (like isolated neutron stars or black holes), in which case the number of points needed to sample the angular directions will still be much smaller than in the radial direction.\n",
    "\n",
    "Thus choice of an appropriate reference metric may directly mitigate the [Curse of Dimensionality](https://en.wikipedia.org/wiki/Curse_of_dimensionality)."
   ]
  },
  {
   "cell_type": "markdown",
   "metadata": {},
   "source": [
    "### *reference_metric.py*: Defining a reference metric\n",
    "\n",
    "***Note that currently only orthogonal reference metrics of dimension 3 or fewer are supported. This can be extended if desired.***\n",
    "\n",
    "NRPy+ assumes all curvilinear coordinate systems map directly from a uniform, Cartesian numerical grid with coordinates $(x,y,z)$=(xx\\[0\\],xx\\[1\\],xx\\[2\\]). Thus when defining reference metrics, all defined coordinate quantities must be in terms of the xx\\[\\] array. As we will see, this adds a great deal of flexibility\n",
    "\n",
    "For example, **reference_metric.py** requires that the *orthogonal coordinate scale factors* be defined. As described [here](https://en.wikipedia.org/wiki/Curvilinear_coordinates), the $i$th scale factor is the positive root of the metric element $g_{ii}$. In ordinary spherical coordinates $(r,\\theta,\\phi)$, with line element $ds^2 = g_{ij} dx^i dx^j = dr^2+ r^2 d \\theta^2 + r^2 \\sin^2\\theta \\ d\\phi^2$, we would first define\n",
    "* $r = xx_0$\n",
    "* $\\theta = xx_1$\n",
    "* $\\phi = xx_2$,\n",
    "\n",
    "so that the scale factors are defined as\n",
    "* scalefactor_orthog[0] = $1$\n",
    "* scalefactor_orthog[1] = $r$\n",
    "* scalefactor_orthog[2] = $r \\sin \\theta$\n",
    "\n",
    "Here is the corresponding code:"
   ]
  },
  {
   "cell_type": "code",
   "execution_count": 1,
   "metadata": {},
   "outputs": [
    {
     "name": "stdout",
     "output_type": "stream",
     "text": [
      "r*sin(th) = xx0*sin(xx1)\n"
     ]
    }
   ],
   "source": [
    "import sympy as sp\n",
    "import NRPy_param_funcs as par\n",
    "import reference_metric as rfm\n",
    "\n",
    "r = rfm.xx[0]\n",
    "th = rfm.xx[1]\n",
    "ph = rfm.xx[2]\n",
    "\n",
    "rfm.scalefactor_orthog[0] = 1\n",
    "rfm.scalefactor_orthog[1] = r\n",
    "rfm.scalefactor_orthog[2] = r*sp.sin(th)\n",
    "\n",
    "# Notice that the scale factor will be given \n",
    "#    in terms of the fundamental Cartesian\n",
    "#    grid variables, and not {r,th,ph}:\n",
    "print(\"r*sin(th) = \"+str(rfm.scalefactor_orthog[2]))"
   ]
  },
  {
   "cell_type": "markdown",
   "metadata": {},
   "source": [
    "Next suppose we wish to modify our radial coordinate $r(xx_0)$ to be an exponentially increasing function, so that our numerical grid $(xx_0,xx_1,xx_2)$ will map to a spherical grid with radial grid spacing ($\\Delta r$) that *increases* with $r$. Generally we will find it useful to define $r(xx_0)$ to be an odd function, so let's choose\n",
    "\n",
    "$$r(xx_0) = a \\sinh(xx_0/s),$$\n",
    "\n",
    "where $a$ is an overall radial scaling factor, and $s$ denotes the scale (in units of $xx_0$ over which exponential growth will take place. In our implementation below, note that we use the relation\n",
    "\n",
    "$$\\sinh(x) = \\frac{e^x - e^{-x}}{2},$$\n",
    "\n",
    "as SymPy finds it easier to evaluate exponentials than hyperbolic trigonometric functions."
   ]
  },
  {
   "cell_type": "code",
   "execution_count": 2,
   "metadata": {},
   "outputs": [
    {
     "name": "stdout",
     "output_type": "stream",
     "text": [
      "a*(exp(xx0/s) - exp(-xx0/s))*sin(xx1)/2\n"
     ]
    }
   ],
   "source": [
    "a,s = sp.symbols('a s',positive=True)\n",
    "xx0_rescaled = rfm.xx[0] / s\n",
    "r = a*(sp.exp(xx0_rescaled) - sp.exp(-xx0_rescaled))/2\n",
    "\n",
    "# Must redefine the scalefactors since 'r' has been updated!\n",
    "rfm.scalefactor_orthog[0] = 1\n",
    "rfm.scalefactor_orthog[1] = r\n",
    "rfm.scalefactor_orthog[2] = r*sp.sin(th)\n",
    "\n",
    "print(rfm.scalefactor_orthog[2])"
   ]
  },
  {
   "cell_type": "markdown",
   "metadata": {},
   "source": [
    "Often we will find it useful to also define the appropriate mappings from (xx\\[0\\],xx\\[1\\],xx\\[2\\]) to Cartesian coordinates (for plotting purposes) and ordinary spherical coordinates (e.g., in case initial data when solving a PDE are naturally written in spherical coordinates). For this purpose, reference_metric.py also declares lists **xxCart\\[\\]** and **xxSph\\[\\]**, which in this case are defined as"
   ]
  },
  {
   "cell_type": "code",
   "execution_count": 3,
   "metadata": {},
   "outputs": [
    {
     "name": "stdout",
     "output_type": "stream",
     "text": [
      "                        ⎛xx₀⎞\n",
      "a⋅sin(xx₁)⋅cos(xx₂)⋅sinh⎜───⎟\n",
      "                        ⎝ s ⎠\n"
     ]
    }
   ],
   "source": [
    "rfm.xxSph[0] = r\n",
    "rfm.xxSph[1] = th\n",
    "rfm.xxSph[2] = ph\n",
    "\n",
    "rfm.xxCart[0] = r*sp.sin(th)*sp.cos(ph)\n",
    "rfm.xxCart[1] = r*sp.sin(th)*sp.sin(ph)\n",
    "rfm.xxCart[2] = r*sp.cos(th)\n",
    "\n",
    "# Here we show off SymPy's pretty_print() \n",
    "#   and simplify() functions. Nice, no?\n",
    "sp.pretty_print(sp.simplify(rfm.xxCart[0]))"
   ]
  },
  {
   "cell_type": "markdown",
   "metadata": {},
   "source": [
    "### ***reference_metric__hatted_quantities.py***: Computing basic geometric quantities\n",
    "\n",
    "Based on the quantities defined in reference_metric.py (actually just the orthogonal scale factors scalefactor_orthog\\[\\]), **reference_metric__hatted_quantities.py** evaluates a number of geometric quantities useful for solving PDEs in curvilinear coordinate systems. We call geometric quantities related to the reference metric \"hatted\" quantities, adopting the nomenclature of Baumgarte (2012). For example, the reference metric itself is defined as $\\hat{g}_{ij}$=ghatDD\\[i\\]\\[j\\]:"
   ]
  },
  {
   "cell_type": "code",
   "execution_count": 4,
   "metadata": {},
   "outputs": [
    {
     "name": "stdout",
     "output_type": "stream",
     "text": [
      "⎡1           0                         0              ⎤\n",
      "⎢                                                     ⎥\n",
      "⎢                     2                               ⎥\n",
      "⎢      ⎛ xx₀    -xx₀ ⎞                                ⎥\n",
      "⎢      ⎜ ───    ─────⎟                                ⎥\n",
      "⎢    2 ⎜  s       s  ⎟                                ⎥\n",
      "⎢   a ⋅⎝ℯ    - ℯ     ⎠                                ⎥\n",
      "⎢0  ───────────────────                0              ⎥\n",
      "⎢            4                                        ⎥\n",
      "⎢                                                     ⎥\n",
      "⎢                                          2          ⎥\n",
      "⎢                           ⎛ xx₀    -xx₀ ⎞           ⎥\n",
      "⎢                           ⎜ ───    ─────⎟           ⎥\n",
      "⎢                         2 ⎜  s       s  ⎟     2     ⎥\n",
      "⎢                        a ⋅⎝ℯ    - ℯ     ⎠ ⋅sin (xx₁)⎥\n",
      "⎢0           0           ─────────────────────────────⎥\n",
      "⎣                                      4              ⎦\n"
     ]
    }
   ],
   "source": [
    "import reference_metric__hatted_quantities as rhq\n",
    "\n",
    "rhq.reference_metric__hatted_quantities()\n",
    "\n",
    "sp.pretty_print(sp.Matrix(sp.simplify(rhq.ghatDD)))"
   ]
  },
  {
   "cell_type": "markdown",
   "metadata": {},
   "source": [
    "In addition to $\\hat{g}_{ij}$, **reference_metric__hatted_quantities.py** also provides:\n",
    "* The rescaling \"matrix\" ReDD\\[i\\]\\[j\\], used for separating singular (due to chosen coordinate system) pieces of smooth rank-2 tensor components from the smooth parts, so that the smooth parts can be used within temporal and spatial differential operators.\n",
    "* First and second derivatives of the reference metric: $\\hat{g}_{ij,k}$=ghatDD_dD\\[i\\]\\[j\\]\\[k\\]; $\\hat{g}_{ij,kl}$=ghatDD_dDD\\[i\\]\\[j\\]\\[k\\]\\[l\\]\n",
    "* Christoffel symbols associated with the reference metric, $\\hat{\\Gamma}^i_{jk}$ = GammahatUDD\\[i\\]\\[j\\]\\[k\\] and their first derivatives $\\hat{\\Gamma}^i_{jk,l}$ = GammahatUDD_dD\\[i\\]\\[j\\]\\[k\\]\\[l\\]\n"
   ]
  },
  {
   "cell_type": "code",
   "execution_count": null,
   "metadata": {},
   "outputs": [],
   "source": []
  }
 ],
 "metadata": {
  "kernelspec": {
   "display_name": "Python 3",
   "language": "python",
   "name": "python3"
  },
  "language_info": {
   "codemirror_mode": {
    "name": "ipython",
    "version": 3
   },
   "file_extension": ".py",
   "mimetype": "text/x-python",
   "name": "python",
   "nbconvert_exporter": "python",
   "pygments_lexer": "ipython3",
   "version": "3.4.3"
  }
 },
 "nbformat": 4,
 "nbformat_minor": 2
}
