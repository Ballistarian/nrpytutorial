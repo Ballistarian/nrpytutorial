{
 "cells": [
  {
   "cell_type": "markdown",
   "metadata": {},
   "source": [
    "# NRPy+'s Reference Metric Interface\n",
    "\n",
    "### NRPy+ Source Code for this module: [reference_metric.py](../edit/reference_metric.py), [reference_metric__hatted_quantities.py](../edit/reference_metric__hatted_quantities.py)"
   ]
  },
  {
   "cell_type": "markdown",
   "metadata": {},
   "source": [
    "### Why use a reference metric? Benefits of choosing the best coordinate system for the problem\n",
    "\n",
    "When solving a partial differential equation on the computer, it is useful to first pick a coordinate system well-suited to the physical scenario we are modeling. \n",
    "\n",
    "For example, if we are modeling a spherically-symmetric star, it would be hugely wasteful to model the star in 3-dimensional Cartesian coordinates ($x$,$y$,$z$). This is because in Cartesian coordinates, we would need to choose high sampling in all three Cartesian directions. If instead we chose to model the star in spherical coordinates ($r$,$\\theta$,$\\phi$), so long as the star is centered at $r=0$, we would not need to model the star in more than one point in the $\\theta$ and $\\phi$ directions!\n",
    "\n",
    "The same argument holds for stars that vary slowly in $\\theta$ and $\\phi$ directions (like isolated neutron stars or black holes), in which case the number of points needed to sample the angular directions will still be much smaller than in the radial direction.\n",
    "\n",
    "Thus choice of an appropriate reference metric may directly mitigate the [Curse of Dimensionality](https://en.wikipedia.org/wiki/Curse_of_dimensionality)."
   ]
  },
  {
   "cell_type": "markdown",
   "metadata": {},
   "source": [
    "### *reference_metric.py*: Defining a reference metric\n",
    "\n",
    "***Note that currently only orthogonal reference metrics of dimension 3 or fewer are supported. This can be extended if desired.***\n",
    "\n",
    "**reference_metric.py** initializes three quantities essential to defining coordinate systems:\n",
    "1. **scalefactor_orthog[]**: The three orthogonal coordinate scale factors. As described [here](https://en.wikipedia.org/wiki/Curvilinear_coordinates), the $i$th scale factor is the positive root of the metric element $g_{ii}$. For example,\n",
    "    * Cylindrical coordinates $(\\rho,\\phi,z)$, with line element $ds^2 = g_{ij} dx^i dx^j = d\\rho^2 + \\rho^2 d \\phi^2 + dz^2$, has scale factors:\n",
    "        * scalefactor_orthog[0] = $1$\n",
    "        * scalefactor_orthog[1] = $\\rho$\n",
    "        * scalefactor_orthog[2] = $1$\n",
    "    * Spherical coordinates $(r,\\theta,\\phi)$, with line element $ds^2 = g_{ij} dx^i dx^j = dr^2+ r^2 d \\theta^2 + r^2 \\sin^2\\theta \\ d\\phi^2$, has scale factors:\n",
    "        * scalefactor_orthog[0] = $1$\n",
    "        * scalefactor_orthog[1] = $r$\n",
    "        * scalefactor_orthog[2] = $r \\sin \\theta$\n",
    "2. **\n",
    "3. f"
   ]
  },
  {
   "cell_type": "code",
   "execution_count": 2,
   "metadata": {},
   "outputs": [
    {
     "name": "stdout",
     "output_type": "stream",
     "text": [
      "⎡1   0          0       ⎤\n",
      "⎢                       ⎥\n",
      "⎢      2                ⎥\n",
      "⎢0  xx₀         0       ⎥\n",
      "⎢                       ⎥\n",
      "⎢            2    2     ⎥\n",
      "⎣0   0    xx₀ ⋅sin (xx₁)⎦\n"
     ]
    }
   ],
   "source": [
    "import sympy as sp\n",
    "import NRPy_param_funcs as par\n",
    "import reference_metric as rfm\n",
    "import reference_metric__hatted_quantities as rhq\n",
    "\n",
    "\n",
    "\n",
    "par.set_parval_from_str(\"reference_metric::CoordSystem\",\"Spherical\")\n",
    "rhq.reference_metric__hatted_quantities()\n",
    "\n",
    "sp.pretty_print(sp.Matrix(rhq.ghatDD))"
   ]
  },
  {
   "cell_type": "code",
   "execution_count": null,
   "metadata": {},
   "outputs": [],
   "source": []
  }
 ],
 "metadata": {
  "kernelspec": {
   "display_name": "Python 3",
   "language": "python",
   "name": "python3"
  },
  "language_info": {
   "codemirror_mode": {
    "name": "ipython",
    "version": 3
   },
   "file_extension": ".py",
   "mimetype": "text/x-python",
   "name": "python",
   "nbconvert_exporter": "python",
   "pygments_lexer": "ipython3",
   "version": "3.4.3"
  }
 },
 "nbformat": 4,
 "nbformat_minor": 2
}
