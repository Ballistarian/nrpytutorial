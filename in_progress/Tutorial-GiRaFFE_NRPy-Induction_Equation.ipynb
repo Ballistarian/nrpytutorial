{
 "cells": [
  {
   "cell_type": "markdown",
   "metadata": {},
   "source": [
    "# `GiRaFFE_NRPy`: Solving the Induction Equation\n",
    "\n",
    "## Author: Patrick Nelson\n",
    "\n",
    "Our goal in this module is to write the code necessary to solve the induction equation \n",
    "$$\n",
    "\\partial_t A_i = \\underbrace{\\epsilon_{ijk} v^j B^k}_{\\rm No\\ Gauge\\ terms} - \\underbrace{\\partial_i \\left(\\alpha \\Phi - \\beta^j A_j \\right)}_{\\rm Gauge\\ terms}\n",
    "$$\n",
    "We will do so by first documenting the code that does this same thing in the original `GiRaFFE`\n",
    "\n",
    "First, we will take a look at the code that computes the term $$\\epsilon_{ijk} v^j B^k$$\n",
    "\n"
   ]
  },
  {
   "cell_type": "markdown",
   "metadata": {},
   "source": [
    "This function starts in the usual way, with a declaration that includes which component of $A_i$ is to be calculated, grid parameters, the reconstructed primitive variables, and the interpolated scalar potential. "
   ]
  },
  {
   "cell_type": "markdown",
   "metadata": {},
   "source": [
    "```C\n",
    "/* Compute the part of A_i_rhs that excludes the gauge terms. I.e., we set\n",
    " *   A_i_rhs = \\partial_t A_i = \\psi^{6} (v^z B^x - v^x B^z)   here.\n",
    " */\n",
    "static void A_i_rhs_no_gauge_terms(const int A_dirn,const cGH *cctkGH,const int *cctk_lsh,const int *cctk_nghostzones,gf_and_gz_struct *out_prims_r,gf_and_gz_struct *out_prims_l,\n",
    "                                   CCTK_REAL *phi_interped,CCTK_REAL *cmax_1,CCTK_REAL *cmin_1,CCTK_REAL *cmax_2,CCTK_REAL *cmin_2, CCTK_REAL *A3_rhs) {\n",
    "```"
   ]
  },
  {
   "cell_type": "markdown",
   "metadata": {},
   "source": [
    "Next, two offsets are set so that the cyclic permutation of the indices can be easily carried out in order to set the components of $v^i$ and $B^i$ that must be used for any given component of $A_i$. Then, pointers are set to the reconstructed variables using the offsets."
   ]
  },
  {
   "cell_type": "markdown",
   "metadata": {},
   "source": [
    "```C\n",
    "// If A_dirn=1, then v1_offset=1 (v1=VY) and v2_offset=2 (v2=VZ)\n",
    "  // If A_dirn=2, then v1_offset=2 (v1=VZ) and v2_offset=0 (v2=VX)\n",
    "  // If A_dirn=3, then v1_offset=0 (v1=VX) and v2_offset=1 (v2=VY)\n",
    "  const int v1_offset  = ((A_dirn-1)+1)%3,        v2_offset = ((A_dirn-1)+2)%3;\n",
    "\n",
    "  const CCTK_REAL *v1rr=out_prims_r[VXR+v1_offset].gf, *v2rr=out_prims_r[VXR+v2_offset].gf;\n",
    "  const CCTK_REAL *v1rl=out_prims_l[VXR+v1_offset].gf, *v2rl=out_prims_l[VXR+v2_offset].gf;\n",
    "  const CCTK_REAL *v1lr=out_prims_r[VXL+v1_offset].gf, *v2lr=out_prims_r[VXL+v2_offset].gf;\n",
    "  const CCTK_REAL *v1ll=out_prims_l[VXL+v1_offset].gf, *v2ll=out_prims_l[VXL+v2_offset].gf;\n",
    "\n",
    "  const CCTK_REAL *B1r=out_prims_r[BX_STAGGER+v1_offset].gf, *B1l=out_prims_l[BX_STAGGER+v1_offset].gf;\n",
    "  const CCTK_REAL *B2r=out_prims_r[BX_STAGGER+v2_offset].gf, *B2l=out_prims_l[BX_STAGGER+v2_offset].gf;\n",
    "\n",
    "```"
   ]
  },
  {
   "cell_type": "markdown",
   "metadata": {},
   "source": [
    "Now, some arrays of offsets are set. These are needed in original `GiRaFFE` because $v^i$, $B^i$, and $A_i$ are all stored with different staggerings. These define the staggerings of $v^i$ and $B^i$ with respect to the staggering of $A_i$."
   ]
  },
  {
   "cell_type": "markdown",
   "metadata": {},
   "source": [
    "```C\n",
    "/**** V DEPENDENCIES ****/\n",
    "  /* In the case of Ax_rhs, we need v{y,z}{r,l} at (i,j+1/2,k+1/2). \n",
    "   *    However, v{y,z}{r,l}{r,l} are defined at (i,j-1/2,k-1/2), so\n",
    "   *    v{y,z}{r,l} at (i,j+1/2,k+1/2) is stored at v{y,z}{r,l}{r,l}(i,j+1,k+1).\n",
    "   * In the case of Ay_rhs, we need v{x,z}{r,l} at (i+1/2,j,k+1/2). \n",
    "   *    However, v{x,z}{r,l}{r,l} are defined at (i-1/2,j,k-1/2), so\n",
    "   *    v{x,z}{r,l} at (i+1/2,j,k+1/2) is stored at v{x,z}{r,l}{r,l}(i+1,j,k+1).\n",
    "   * In the case of Az_rhs, we need v{x,y}{r,l} at (i+1/2,j+1/2,k). \n",
    "   *    However, v{x,y}{r,l}{r,l} are defined at (i-1/2,j-1/2,k), so\n",
    "   *    v{x,y}{r,l} at (i+1/2,j+1/2,k) is stored at v{x,y}{r,l}{r,l}(i+1,j+1,k). */\n",
    "  static const int vs_ijk_offset[4][3] = { {0,0,0} , {0,1,1} , {1,0,1} , {1,1,0} }; // Note that vs_ijk_offset[0] is UNUSED; we choose a 1-offset for convenience.\n",
    "\n",
    "  /**** B DEPENDENCIES ****/\n",
    "  /* In the case of Ax_rhs, we need B{y,z}{r,l} at (i,j+1/2,k+1/2).\n",
    "   *    However, By_stagger{r,l} is defined at (i,j+1/2,k-1/2), and \n",
    "   *             Bz_stagger{r,l} is defined at (i,j-1/2,k+1/2), so\n",
    "   *             By_stagger{r,l} at (i,j+1/2,k+1/2) is stored at By_stagger{r,l}(i,j,k+1), and\n",
    "   *             Bz_stagger{r,l} at (i,j+1/2,k+1/2) is stored at Bz_stagger{r,l}(i,j+1,k).\n",
    "   * In the case of Ay_rhs, we need B{z,x}_stagger{r,l} at (i+1/2,j,k+1/2).\n",
    "   *    However, Bz_stagger{r,l} is defined at (i-1/2,j,k+1/2), and\n",
    "   *             Bx_stagger{r,l} is defined at (i+1/2,j,k-1/2), so\n",
    "   *             Bz_stagger{r,l} at (i+1/2,j,k+1/2) is stored at Bz_stagger{r,l}(i+1,j,k), and\n",
    "   *             Bx_stagger{r,l} at (i+1/2,j,k+1/2) is stored at Bx_stagger{r,l}(i,j,k+1).\n",
    "   * In the case of Az_rhs, we need B{x,y}_stagger{r,l} at (i+1/2,j+1/2,k).\n",
    "   *    However, Bx_stagger{r,l} is defined at (i+1/2,j-1/2,k), and \n",
    "   *             By_stagger{r,l} is defined at (i-1/2,j+1/2,k), so\n",
    "   *             Bx_stagger{r,l} at (i+1/2,j+1/2,k) is stored at Bx_stagger{r,l}(i,j+1,k), and\n",
    "   *             By_stagger{r,l} at (i+1/2,j+1/2,k) is stored at By_stagger{r,l}(i+1,j,k).\n",
    "   */\n",
    "  static const int B1_ijk_offset[4][3] = { {0,0,0} , {0,0,1} , {1,0,0} , {0,1,0} }; // Note that B1_ijk_offset[0] is UNUSED; we choose a 1-offset for convenience.\n",
    "  static const int B2_ijk_offset[4][3] = { {0,0,0} , {0,1,0} , {0,0,1} , {1,0,0} }; // Note that B2_ijk_offset[0] is UNUSED; we choose a 1-offset for convenience.\n",
    "\n",
    "```"
   ]
  },
  {
   "cell_type": "markdown",
   "metadata": {},
   "source": [
    "We define a loop over the grid interior. Indices are set: `index` defines a point for whichever component of $A_i$ is being worked on, and then `index_v`, `index_B1`, and `index_B2` are set to indicate the correct positions given the different staggerings."
   ]
  },
  {
   "cell_type": "markdown",
   "metadata": {},
   "source": [
    "```C\n",
    "#pragma omp parallel for\n",
    "  for(int k=cctk_nghostzones[2];k<cctk_lsh[2]-cctk_nghostzones[2];k++) for(int j=cctk_nghostzones[1];j<cctk_lsh[1]-cctk_nghostzones[1];j++) for(int i=cctk_nghostzones[0];i<cctk_lsh[0]-cctk_nghostzones[0];i++) {\n",
    "        const int index=CCTK_GFINDEX3D(cctkGH,i,j,k);\n",
    "        // The following lines set the indices appropriately. See justification in exorbitant comments above.\n",
    "        const int index_v =CCTK_GFINDEX3D(cctkGH,i+vs_ijk_offset[A_dirn][0],j+vs_ijk_offset[A_dirn][1],k+vs_ijk_offset[A_dirn][2]);\n",
    "        const int index_B1=CCTK_GFINDEX3D(cctkGH,i+B1_ijk_offset[A_dirn][0],j+B1_ijk_offset[A_dirn][1],k+B1_ijk_offset[A_dirn][2]);\n",
    "        const int index_B2=CCTK_GFINDEX3D(cctkGH,i+B2_ijk_offset[A_dirn][0],j+B2_ijk_offset[A_dirn][1],k+B2_ijk_offset[A_dirn][2]);\n",
    "\n",
    "```"
   ]
  },
  {
   "cell_type": "code",
   "execution_count": null,
   "metadata": {},
   "outputs": [],
   "source": []
  },
  {
   "cell_type": "markdown",
   "metadata": {},
   "source": [
    "```C\n",
    "// Stores 1/sqrt(gamma)==exp(6 phi) at (i+1/2,j+1/2,k) for Az, (i+1/2,j,k+1/2) for Ay, and (i,j+1/2,k+1/2) for Az.\n",
    "        const CCTK_REAL psi6_interped=exp(6.0*(phi_interped[index]));\n",
    "\n",
    "        const CCTK_REAL B1lL = B1l[index_B1];\n",
    "        const CCTK_REAL B1rL = B1r[index_B1];\n",
    "        const CCTK_REAL B2lL = B2l[index_B2];\n",
    "        const CCTK_REAL B2rL = B2r[index_B2];\n",
    "\n",
    "        const CCTK_REAL A3_rhs_rr = psi6_interped*(v1rr[index_v]*B2rL - v2rr[index_v]*B1rL);\n",
    "        const CCTK_REAL A3_rhs_rl = psi6_interped*(v1rl[index_v]*B2rL - v2rl[index_v]*B1lL);\n",
    "        const CCTK_REAL A3_rhs_lr = psi6_interped*(v1lr[index_v]*B2lL - v2lr[index_v]*B1rL);\n",
    "        const CCTK_REAL A3_rhs_ll = psi6_interped*(v1ll[index_v]*B2lL - v2ll[index_v]*B1lL);\n",
    "\n",
    "\n",
    "        // All variables for the A_i_rhs computation are now at the appropriate staggered point,\n",
    "        //   so it's time to compute the HLL flux!\n",
    "\n",
    "        // Note that with PPM, cmin and cmax are defined between ijk=3 and ijk<cctk_lsh[]-2 for all directions.\n",
    "        const CCTK_REAL cmax_1L = cmax_1[index_B2];\n",
    "        const CCTK_REAL cmin_1L = cmin_1[index_B2];\n",
    "        const CCTK_REAL cmax_2L = cmax_2[index_B1];\n",
    "        const CCTK_REAL cmin_2L = cmin_2[index_B1];\n",
    "\n",
    "        const CCTK_REAL B1tilder_minus_B1tildel = psi6_interped*( B1rL - B1lL );\n",
    "        const CCTK_REAL B2tilder_minus_B2tildel = psi6_interped*( B2rL - B2lL );\n",
    "\n",
    "        /*---------------------------\n",
    "         * Implement 2D HLL flux \n",
    "         * [see Del Zanna, Bucciantini & Londrillo A&A 400, 397 (2003), Eq. (44)]\n",
    "         *\n",
    "         * Note that cmax/cmin (\\alpha^{\\pm}  as defined in that paper) is at a slightly DIFFERENT \n",
    "         * point than that described in the Del Zanna et al paper (e.g., (i+1/2,j,k) instead of\n",
    "         * (i+1/2,j+1/2,k) for F3).  Yuk Tung Liu discussed this point with M. Shibata,\n",
    "         * who found that the effect is negligible.\n",
    "         ---------------------------*/\n",
    "        A3_rhs[index] = (cmax_1L*cmax_2L*A3_rhs_ll + cmax_1L*cmin_2L*A3_rhs_lr +\n",
    "                         cmin_1L*cmax_2L*A3_rhs_rl + cmin_1L*cmin_2L*A3_rhs_rr)\n",
    "          /( (cmax_1L+cmin_1L)*(cmax_2L+cmin_2L) ) \n",
    "          - cmax_1L*cmin_1L*(B2tilder_minus_B2tildel)/(cmax_1L+cmin_1L) \n",
    "          + cmax_2L*cmin_2L*(B1tilder_minus_B1tildel)/(cmax_2L+cmin_2L);\n",
    "      }\n",
    "}\n",
    "```"
   ]
  },
  {
   "cell_type": "markdown",
   "metadata": {},
   "source": [
    "Here, however, since do not have any staggered gridfunctions to worry about, this algorithm can be greatly simplified. We turn to T&oacute;th's [paper](https://www.sciencedirect.com/science/article/pii/S0021999100965197?via%3Dihub), Eqs. 30 and 31, and a 3D version of the same algorithm in **TODO: RIT paper**. \n",
    "\n",
    "Consider the electric field $E_i = \\epsilon_{ijk} v^j B^k$ (this relation assumes the ideal MHD limit, which is also assumed in FFE). \n",
    "\n",
    "Consider the point $i,j,k$. Let components of tensors be indicated with braces, i.e. the $i^{\\rm th}$ component of the electric field at point $i,j,k$ will be written as $\\left(E_{\\{i\\}}\\right)_{i,j,k}$. Then\n",
    "\\begin{align}\n",
    "\\left(E_{\\{1\\}}\\right)_{i,j,k} = \\frac{1}{4}(v^{\\{2\\}})B^{\\{3\\}})_{i,j-\\tfrac{1}{2},k} &+ \\frac{1}{4}(v^{\\{2\\}})B^{\\{3\\}})_{i,j+\\tfrac{1}{2},k}\\\\\n",
    "- \\frac{1}{4}(v^{\\{3\\}})B^{\\{2\\}})_{i,j,k-\\tfrac{1}{2}} &- \\frac{1}{4}(v^{\\{3\\}})B^{\\{2\\}})_{i,j,k+\\tfrac{1}{2}}\n",
    "\\end{align}\n",
    "\n",
    "The other components follow via a cyclic permutation of the indices. Note a potential complication here: When we are calculating $i^{\\rm th}$ component of the electric field, we are concerned with the reconstructed quantities in the $j^{\\rm th}$ and $k^{\\rm th}$ directions. This means that it will be sensible to do something similar to what we do with the A2B module and think first about the directions in which a stencil goes, and *then* the terms that involve it. \n",
    "\n",
    "In this case, we will compute the face-value products of $v^i$ and $B^i$ in, say, the 0th direction **TODO: rectify off-by-one above**. Then, we will compute the parts of components of the electric field that depend on those: the 1st and 2nd direction."
   ]
  },
  {
   "cell_type": "code",
   "execution_count": null,
   "metadata": {},
   "outputs": [],
   "source": []
  }
 ],
 "metadata": {
  "kernelspec": {
   "display_name": "Python 3",
   "language": "python",
   "name": "python3"
  },
  "language_info": {
   "codemirror_mode": {
    "name": "ipython",
    "version": 3
   },
   "file_extension": ".py",
   "mimetype": "text/x-python",
   "name": "python",
   "nbconvert_exporter": "python",
   "pygments_lexer": "ipython3",
   "version": "3.8.0"
  }
 },
 "nbformat": 4,
 "nbformat_minor": 2
}
