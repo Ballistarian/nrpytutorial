{
 "cells": [
  {
   "cell_type": "markdown",
   "metadata": {},
   "source": [
    "# Unit Testing `GiRaFFE_NRPy`: $A_k$ to $B^i$\n",
    "\n",
    "### Author: Patrick Nelson\n",
    "\n",
    "This notebook validates our A-to-B solver for use in `GiRaFFE_NRPy`. Because the original `GiRaFFE` used staggered grids and we do not, we can not trivially do a direct comparison to the old code. Instead, we will compare the numerical results with the expected analytic results. \n",
    "\n",
    "**Module Status:** <font color=red><b> In-Progress </b></font>\n",
    "\n",
    "**Validation Notes:** This module will validate the routines in [Tutorial-GiRaFFE_HO_C_code_library-A2B](../Tutorial-GiRaFFE_HO_C_code_library-A2B.ipynb).\n",
    "\n",
    "It is, in general, good coding practice to unit test functions individually to verify that they produce the expected and intended output. Here, we expect our functions to produce the correct cross product in an arbitrary spacetime. To that end, we will choose functions that are easy to differentiate, but lack the symmetries that would trivialize the finite-difference algorithm. Higher-order polynomials are one such type of function. \n",
    "\n",
    "We will start with the simplest case - testing the second-order solver. In second-order finite-differencing, we use a three-point stencil that can exactly differentiate polynomials up to quadratic. So, we will use cubic functions three variables. For instance,\n",
    "\n",
    "\\begin{align}\n",
    "A_x &= ax^3 + by^3 + cz^3 + dy^2 + ez^2 + f \\\\\n",
    "A_y &= gx^3 + hy^3 + lz^3 + mx^2 + nz^2 + p \\\\\n",
    "A_z &= px^3 + qy^3 + rz^3 + sx^2 + ty^2 + u. \\\\\n",
    "\\end{align}\n",
    "\n",
    "It will be much simpler to let NRPy+ handle most of this work. So, we will import the core functionality of NRPy+, build the expressions, and then output them using `outputC()`."
   ]
  },
  {
   "cell_type": "code",
   "execution_count": 1,
   "metadata": {},
   "outputs": [],
   "source": [
    "import shutil, os, sys           # Standard Python modules for multiplatform OS-level functions\n",
    "# First, we'll add the parent directory to the list of directories Python will check for modules.\n",
    "nrpy_dir_path = os.path.join(\"..\")\n",
    "if nrpy_dir_path not in sys.path:\n",
    "    sys.path.append(nrpy_dir_path)\n",
    "nrpy_dir_path = os.path.join(\"..\",\"..\")\n",
    "if nrpy_dir_path not in sys.path:\n",
    "    sys.path.append(nrpy_dir_path)\n",
    "\n",
    "from outputC import *            # NRPy+: Core C code output module\n",
    "import finite_difference as fin  # NRPy+: Finite difference C code generation module\n",
    "import NRPy_param_funcs as par   # NRPy+: Parameter interface\n",
    "import grid as gri               # NRPy+: Functions having to do with numerical grids\n",
    "import loop as lp                # NRPy+: Generate C code loops\n",
    "import indexedexp as ixp         # NRPy+: Symbolic indexed expression (e.g., tensors, vectors, etc.) support\n",
    "import reference_metric as rfm   # NRPy+: Reference metric support\n",
    "import cmdline_helper as cmd     # NRPy+: Multi-platform Python command-line interface\n",
    "\n",
    "out_dir = \"Validation/\"\n",
    "cmd.mkdir(out_dir)\n",
    "\n",
    "thismodule = \"Unit_Test_GiRaFFE_NRPy_Ccode_library_A2B\"\n",
    "a,b,c,d,e,f,g,h,l,m,n,o,p,q,r,s,t,u = par.Cparameters(\"REAL\",thismodule,[\"a\",\"b\",\"c\",\"d\",\"e\",\"f\",\"g\",\"h\",\"l\",\"m\",\"n\",\"o\",\"p\",\"q\",\"r\",\"s\",\"t\",\"u\"],10.0)\n",
    "gammadet = gri.register_gridfunctions(\"AUXEVOL\",\"gammadet\")\n",
    "\n",
    "DIM = 3\n",
    "par.set_parval_from_str(\"grid::DIM\",DIM)\n",
    "\n",
    "par.set_parval_from_str(\"reference_metric::CoordSystem\",\"Cartesian\")\n",
    "rfm.reference_metric()\n",
    "x = rfm.xxCart[0]\n",
    "y = rfm.xxCart[1]\n",
    "z = rfm.xxCart[2]\n",
    "\n",
    "AD = ixp.register_gridfunctions_for_single_rank1(\"EVOL\",\"AD\")\n",
    "AD[0] = a*x**3 + b*y**3 + c*z**3 + d*y**2 + e*z**2 + f\n",
    "AD[1] = g*x**3 + h*y**3 + l*z**3 + m*x**2 + n*z**2 + o\n",
    "AD[2] = p*x**3 + q*y**3 + r*z**3 + s*x**2 + t*y**2 + u\n"
   ]
  },
  {
   "cell_type": "markdown",
   "metadata": {},
   "source": [
    "We also need to create the files that interact with NRPy's C parameter interface. (This is for the newer version of the A2B routine, as we replace the old with it in this unit test.)"
   ]
  },
  {
   "cell_type": "code",
   "execution_count": 2,
   "metadata": {},
   "outputs": [],
   "source": [
    "# Step 3.d.i: Generate declare_Cparameters_struct.h, set_Cparameters_default.h, and set_Cparameters[-SIMD].h\n",
    "par.generate_Cparameters_Ccodes(os.path.join(out_dir))\n",
    "\n",
    "# Step 3.d.ii: Set free_parameters.h\n",
    "with open(os.path.join(out_dir,\"free_parameters.h\"),\"w\") as file:\n",
    "    file.write(\"\"\"\n",
    "// Override parameter defaults with values based on command line arguments and NGHOSTS.\n",
    "// We'll use this grid. It has one point and one ghost zone.\n",
    "params.Nxx0 = atoi(argv[1]);\n",
    "params.Nxx1 = atoi(argv[2]);\n",
    "params.Nxx2 = atoi(argv[3]);\n",
    "params.Nxx_plus_2NGHOSTS0 = params.Nxx0 + 2*NGHOSTS;\n",
    "params.Nxx_plus_2NGHOSTS1 = params.Nxx1 + 2*NGHOSTS;\n",
    "params.Nxx_plus_2NGHOSTS2 = params.Nxx2 + 2*NGHOSTS;\n",
    "// Step 0d: Set up space and time coordinates\n",
    "// Step 0d.i: Declare \\Delta x^i=dxx{0,1,2} and invdxx{0,1,2}, as well as xxmin[3] and xxmax[3]:\n",
    "const REAL xxmin[3] = {-0.01,-0.01,-0.01};\n",
    "const REAL xxmax[3] = { 0.01, 0.01, 0.01};\n",
    "\n",
    "params.dxx0 = (xxmax[0] - xxmin[0]) / ((REAL)params.Nxx0);\n",
    "params.dxx1 = (xxmax[1] - xxmin[1]) / ((REAL)params.Nxx1);\n",
    "params.dxx2 = (xxmax[2] - xxmin[2]) / ((REAL)params.Nxx2);\n",
    "params.invdx0 = 1.0 / params.dxx0;\n",
    "params.invdx1 = 1.0 / params.dxx1;\n",
    "params.invdx2 = 1.0 / params.dxx2;\n",
    "\\n\"\"\")\n",
    "\n",
    "# Generates declare_Cparameters_struct.h, set_Cparameters_default.h, and set_Cparameters[-SIMD].h\n",
    "par.generate_Cparameters_Ccodes(os.path.join(out_dir))"
   ]
  },
  {
   "cell_type": "markdown",
   "metadata": {},
   "source": [
    "Next, we'll let NRPy+ compute derivatives analytically according to $$B^i = \\frac{[ijk]}{\\sqrt{\\gamma}} \\partial_j A_k.$$ Then we can carry out two separate tests to verify the numerical derivatives. First, we will verify that when we let the cubic terms be zero, the two calculations of $B^i$ agree to roundoff error. Second, we will verify that when we set the cubic terms, our error is dominated by trunction error that converges to zero at the expected rate. "
   ]
  },
  {
   "cell_type": "code",
   "execution_count": 3,
   "metadata": {},
   "outputs": [],
   "source": [
    "import WeylScal4NRPy.WeylScalars_Cartesian as weyl\n",
    "LeviCivitaDDD = weyl.define_LeviCivitaSymbol_rank3()\n",
    "LeviCivitaUUU = ixp.zerorank3()\n",
    "for i in range(DIM):\n",
    "    for j in range(DIM):\n",
    "        for k in range(DIM):\n",
    "            LeviCivitaUUU[i][j][k] = LeviCivitaDDD[i][j][k] / sp.sqrt(gammadet)\n",
    "            \n",
    "B_analyticU = ixp.register_gridfunctions_for_single_rank1(\"AUXEVOL\",\"B_analyticU\")\n",
    "for i in range(DIM):\n",
    "    B_analyticU[i] = 0\n",
    "    for j in range(DIM):\n",
    "        for k in range(DIM):\n",
    "            B_analyticU[i] += LeviCivitaUUU[i][j][k] * sp.diff(AD[k],rfm.xxCart[j])\n"
   ]
  },
  {
   "cell_type": "markdown",
   "metadata": {},
   "source": [
    "Now that we have our vector potential and analytic magnetic field to compare against, we will start writing our unit test. We'll also import common C functionality, define `REAL`, the number of ghost zones, and the faces, and set the standard macros for NRPy+ style memory access."
   ]
  },
  {
   "cell_type": "code",
   "execution_count": 4,
   "metadata": {},
   "outputs": [],
   "source": [
    "out_string = \"\"\"\n",
    "// These are common packages that we are likely to need.\n",
    "#include \"stdio.h\"\n",
    "#include \"stdlib.h\"\n",
    "#include \"math.h\"\n",
    "#include \"string.h\" // Needed for strncmp, etc.\n",
    "#include \"stdint.h\" // Needed for Windows GCC 6.x compatibility\n",
    "#include <time.h>   // Needed to set a random seed.\n",
    "\n",
    "#define REAL double\n",
    "#include \"declare_Cparameters_struct.h\"\n",
    "\n",
    "const int MAXFACE = -1;\n",
    "const int NUL     = +0;\n",
    "const int MINFACE = +1;\n",
    "const int NGHOSTS = 1;\n",
    "\n",
    "// Standard NRPy+ memory access:\n",
    "#define IDX4(g,i,j,k) \\\n",
    "( (i) + Nxx_plus_2NGHOSTS[0] * ( (j) + Nxx_plus_2NGHOSTS[1] * ( (k) + Nxx_plus_2NGHOSTS[2] * (g) ) ) )\n",
    "#define IDX3(i,j,k) ( (i) + Nxx_plus_2NGHOSTS[0] * ( (j) + Nxx_plus_2NGHOSTS[1] * (k) ) )\n",
    "// Assuming idx = IDX3(i,j,k). Much faster if idx can be reused over and over:\n",
    "#define IDX4pt(g,idx)   ( (idx) + (Nxx_plus_2NGHOSTS[0]*Nxx_plus_2NGHOSTS[1]*Nxx_plus_2NGHOSTS[2]) * (g) )\n",
    "#define IDX4S(g,i,j,k) \\\n",
    "( (i) + Nxx_plus_2NGHOSTS0 * ( (j) + Nxx_plus_2NGHOSTS1 * ( (k) + Nxx_plus_2NGHOSTS2 * (g) ) ) )\n",
    "\n",
    "\"\"\""
   ]
  },
  {
   "cell_type": "markdown",
   "metadata": {},
   "source": [
    "We'll now define the gridfunction names."
   ]
  },
  {
   "cell_type": "code",
   "execution_count": 5,
   "metadata": {},
   "outputs": [],
   "source": [
    "out_string += \"\"\"\n",
    "// Let's also #define the NRPy+ gridfunctions\n",
    "#define AD0GF 0\n",
    "#define AD1GF 1\n",
    "#define AD2GF 2\n",
    "#define NUM_EVOL_GFS 3\n",
    "\n",
    "#define GAMMADETGF 0\n",
    "#define B_ANALYTICU0GF 1\n",
    "#define B_ANALYTICU1GF 2\n",
    "#define B_ANALYTICU2GF 3\n",
    "#define BU0GF 4\n",
    "#define BU1GF 5\n",
    "#define BU2GF 6\n",
    "#define NUM_AUXEVOL_GFS 7\n",
    "\n",
    "\"\"\""
   ]
  },
  {
   "cell_type": "markdown",
   "metadata": {},
   "source": [
    "Now, we'll handle the different A2B codes. There are several things to do here. First, we'll add `#include`s to the C code so that we have access to the functions we want to test. We must also create a directory and copy the files to that directory. We will choose to do this in the subfolder `A2B` relative to this tutorial.\n",
    "\n",
    "**TODO: Fix the copy command**"
   ]
  },
  {
   "cell_type": "code",
   "execution_count": 6,
   "metadata": {},
   "outputs": [
    {
     "data": {
      "text/plain": [
       "'A2B/driver_AtoB.c'"
      ]
     },
     "execution_count": 6,
     "metadata": {},
     "output_type": "execute_result"
    }
   ],
   "source": [
    "out_string += \"\"\"\n",
    "#include \"../A2B/driver_AtoB_new.c\" // This file contains both functions we need.\n",
    "\n",
    "\"\"\"\n",
    "\n",
    "cmd.mkdir(os.path.join(\"A2B/\"))\n",
    "shutil.copy(os.path.join(\"../GiRaFFE_HO/GiRaFFE_Ccode_library/A2B/driver_AtoB.c\"),os.path.join(\"A2B/\"))\n"
   ]
  },
  {
   "cell_type": "markdown",
   "metadata": {},
   "source": [
    "We also should write a function that will use the analytic formulae for $B^i$. Then, we'll need to call the function from the module `GiRaFFE_HO_A2B` to generate the different header files. Also, we will declare the parameters for the vector potential functions."
   ]
  },
  {
   "cell_type": "code",
   "execution_count": 7,
   "metadata": {},
   "outputs": [
    {
     "name": "stdout",
     "output_type": "stream",
     "text": [
      "Wrote to file \"A2B/B_from_A_order10.h\"\n"
     ]
    },
    {
     "ename": "KeyboardInterrupt",
     "evalue": "",
     "output_type": "error",
     "traceback": [
      "\u001b[0;31m---------------------------------------------------------------------------\u001b[0m",
      "\u001b[0;31mKeyboardInterrupt\u001b[0m                         Traceback (most recent call last)",
      "\u001b[0;32m<ipython-input-7-45a7a638f8e6>\u001b[0m in \u001b[0;36m<module>\u001b[0;34m\u001b[0m\n\u001b[1;32m     27\u001b[0m \u001b[0;31m# We'll generate these into the A2B subdirectory since that's where the functions\u001b[0m\u001b[0;34m\u001b[0m\u001b[0;34m\u001b[0m\u001b[0;34m\u001b[0m\u001b[0m\n\u001b[1;32m     28\u001b[0m \u001b[0;31m# we're testing expect them to be.\u001b[0m\u001b[0;34m\u001b[0m\u001b[0;34m\u001b[0m\u001b[0;34m\u001b[0m\u001b[0m\n\u001b[0;32m---> 29\u001b[0;31m \u001b[0mA2B\u001b[0m\u001b[0;34m.\u001b[0m\u001b[0mGiRaFFE_HO_A2B\u001b[0m\u001b[0;34m(\u001b[0m\u001b[0;34m\"A2B/\"\u001b[0m\u001b[0;34m)\u001b[0m\u001b[0;34m\u001b[0m\u001b[0;34m\u001b[0m\u001b[0m\n\u001b[0m",
      "\u001b[0;32m~/jup38/nrpytutorial/in_progress/GiRaFFE_HO/GiRaFFE_HO_A2B.py\u001b[0m in \u001b[0;36mGiRaFFE_HO_A2B\u001b[0;34m(outdir)\u001b[0m\n\u001b[1;32m     46\u001b[0m \u001b[0;34m\u001b[0m\u001b[0m\n\u001b[1;32m     47\u001b[0m     \u001b[0mpar\u001b[0m\u001b[0;34m.\u001b[0m\u001b[0mset_parval_from_str\u001b[0m\u001b[0;34m(\u001b[0m\u001b[0;34m\"finite_difference::FD_CENTDERIVS_ORDER\"\u001b[0m\u001b[0;34m,\u001b[0m \u001b[0;36m8\u001b[0m\u001b[0;34m)\u001b[0m\u001b[0;34m\u001b[0m\u001b[0;34m\u001b[0m\u001b[0m\n\u001b[0;32m---> 48\u001b[0;31m     \u001b[0mfin\u001b[0m\u001b[0;34m.\u001b[0m\u001b[0mFD_outputC\u001b[0m\u001b[0;34m(\u001b[0m\u001b[0mos\u001b[0m\u001b[0;34m.\u001b[0m\u001b[0mpath\u001b[0m\u001b[0;34m.\u001b[0m\u001b[0mjoin\u001b[0m\u001b[0;34m(\u001b[0m\u001b[0moutdir\u001b[0m\u001b[0;34m,\u001b[0m\u001b[0;34m\"B_from_A_order8.h\"\u001b[0m\u001b[0;34m)\u001b[0m\u001b[0;34m,\u001b[0m\u001b[0mset_BU_to_print\u001b[0m\u001b[0;34m(\u001b[0m\u001b[0;34m)\u001b[0m\u001b[0;34m,\u001b[0m\u001b[0mparams\u001b[0m\u001b[0;34m=\u001b[0m\u001b[0;34m\"outCverbose=False\"\u001b[0m\u001b[0;34m)\u001b[0m\u001b[0;34m\u001b[0m\u001b[0;34m\u001b[0m\u001b[0m\n\u001b[0m\u001b[1;32m     49\u001b[0m \u001b[0;34m\u001b[0m\u001b[0m\n\u001b[1;32m     50\u001b[0m     \u001b[0mpar\u001b[0m\u001b[0;34m.\u001b[0m\u001b[0mset_parval_from_str\u001b[0m\u001b[0;34m(\u001b[0m\u001b[0;34m\"finite_difference::FD_CENTDERIVS_ORDER\"\u001b[0m\u001b[0;34m,\u001b[0m \u001b[0;36m6\u001b[0m\u001b[0;34m)\u001b[0m\u001b[0;34m\u001b[0m\u001b[0;34m\u001b[0m\u001b[0m\n",
      "\u001b[0;32m~/jup38/nrpytutorial/finite_difference.py\u001b[0m in \u001b[0;36mFD_outputC\u001b[0;34m(filename, sympyexpr_list, params, upwindcontrolvec)\u001b[0m\n\u001b[1;32m    449\u001b[0m         \u001b[0;32mfor\u001b[0m \u001b[0mj\u001b[0m \u001b[0;32min\u001b[0m \u001b[0mrange\u001b[0m\u001b[0;34m(\u001b[0m\u001b[0mlen\u001b[0m\u001b[0;34m(\u001b[0m\u001b[0mfdcoeffs\u001b[0m\u001b[0;34m[\u001b[0m\u001b[0mi\u001b[0m\u001b[0;34m]\u001b[0m\u001b[0;34m)\u001b[0m\u001b[0;34m)\u001b[0m\u001b[0;34m:\u001b[0m\u001b[0;34m\u001b[0m\u001b[0;34m\u001b[0m\u001b[0m\n\u001b[1;32m    450\u001b[0m             \u001b[0mvarname\u001b[0m \u001b[0;34m=\u001b[0m \u001b[0mstr\u001b[0m\u001b[0;34m(\u001b[0m\u001b[0mvar\u001b[0m\u001b[0;34m)\u001b[0m\u001b[0;34m+\u001b[0m\u001b[0mvarsuffix\u001b[0m\u001b[0;34m(\u001b[0m\u001b[0mfdstencl\u001b[0m\u001b[0;34m[\u001b[0m\u001b[0mi\u001b[0m\u001b[0;34m]\u001b[0m\u001b[0;34m[\u001b[0m\u001b[0mj\u001b[0m\u001b[0;34m]\u001b[0m\u001b[0;34m)\u001b[0m\u001b[0;34m\u001b[0m\u001b[0;34m\u001b[0m\u001b[0m\n\u001b[0;32m--> 451\u001b[0;31m             \u001b[0mexprs\u001b[0m\u001b[0;34m[\u001b[0m\u001b[0mi\u001b[0m\u001b[0;34m]\u001b[0m \u001b[0;34m+=\u001b[0m \u001b[0mfdcoeffs\u001b[0m\u001b[0;34m[\u001b[0m\u001b[0mi\u001b[0m\u001b[0;34m]\u001b[0m\u001b[0;34m[\u001b[0m\u001b[0mj\u001b[0m\u001b[0;34m]\u001b[0m\u001b[0;34m*\u001b[0m\u001b[0msp\u001b[0m\u001b[0;34m.\u001b[0m\u001b[0msympify\u001b[0m\u001b[0;34m(\u001b[0m\u001b[0mvarname\u001b[0m\u001b[0;34m)\u001b[0m\u001b[0;34m\u001b[0m\u001b[0;34m\u001b[0m\u001b[0m\n\u001b[0m\u001b[1;32m    452\u001b[0m \u001b[0;34m\u001b[0m\u001b[0m\n\u001b[1;32m    453\u001b[0m         \u001b[0;31m# Multiply each expression by the appropriate power\u001b[0m\u001b[0;34m\u001b[0m\u001b[0;34m\u001b[0m\u001b[0;34m\u001b[0m\u001b[0m\n",
      "\u001b[0;32m~/jup38/lib/python3.8/site-packages/sympy/core/sympify.py\u001b[0m in \u001b[0;36msympify\u001b[0;34m(a, locals, convert_xor, strict, rational, evaluate)\u001b[0m\n\u001b[1;32m    382\u001b[0m     \u001b[0;32mtry\u001b[0m\u001b[0;34m:\u001b[0m\u001b[0;34m\u001b[0m\u001b[0;34m\u001b[0m\u001b[0m\n\u001b[1;32m    383\u001b[0m         \u001b[0ma\u001b[0m \u001b[0;34m=\u001b[0m \u001b[0ma\u001b[0m\u001b[0;34m.\u001b[0m\u001b[0mreplace\u001b[0m\u001b[0;34m(\u001b[0m\u001b[0;34m'\\n'\u001b[0m\u001b[0;34m,\u001b[0m \u001b[0;34m''\u001b[0m\u001b[0;34m)\u001b[0m\u001b[0;34m\u001b[0m\u001b[0;34m\u001b[0m\u001b[0m\n\u001b[0;32m--> 384\u001b[0;31m         \u001b[0mexpr\u001b[0m \u001b[0;34m=\u001b[0m \u001b[0mparse_expr\u001b[0m\u001b[0;34m(\u001b[0m\u001b[0ma\u001b[0m\u001b[0;34m,\u001b[0m \u001b[0mlocal_dict\u001b[0m\u001b[0;34m=\u001b[0m\u001b[0mlocals\u001b[0m\u001b[0;34m,\u001b[0m \u001b[0mtransformations\u001b[0m\u001b[0;34m=\u001b[0m\u001b[0mtransformations\u001b[0m\u001b[0;34m,\u001b[0m \u001b[0mevaluate\u001b[0m\u001b[0;34m=\u001b[0m\u001b[0mevaluate\u001b[0m\u001b[0;34m)\u001b[0m\u001b[0;34m\u001b[0m\u001b[0;34m\u001b[0m\u001b[0m\n\u001b[0m\u001b[1;32m    385\u001b[0m     \u001b[0;32mexcept\u001b[0m \u001b[0;34m(\u001b[0m\u001b[0mTokenError\u001b[0m\u001b[0;34m,\u001b[0m \u001b[0mSyntaxError\u001b[0m\u001b[0;34m)\u001b[0m \u001b[0;32mas\u001b[0m \u001b[0mexc\u001b[0m\u001b[0;34m:\u001b[0m\u001b[0;34m\u001b[0m\u001b[0;34m\u001b[0m\u001b[0m\n\u001b[1;32m    386\u001b[0m         \u001b[0;32mraise\u001b[0m \u001b[0mSympifyError\u001b[0m\u001b[0;34m(\u001b[0m\u001b[0;34m'could not parse %r'\u001b[0m \u001b[0;34m%\u001b[0m \u001b[0ma\u001b[0m\u001b[0;34m,\u001b[0m \u001b[0mexc\u001b[0m\u001b[0;34m)\u001b[0m\u001b[0;34m\u001b[0m\u001b[0;34m\u001b[0m\u001b[0m\n",
      "\u001b[0;32m~/jup38/lib/python3.8/site-packages/sympy/parsing/sympy_parser.py\u001b[0m in \u001b[0;36mparse_expr\u001b[0;34m(s, local_dict, transformations, global_dict, evaluate)\u001b[0m\n\u001b[1;32m    957\u001b[0m     \u001b[0;32mif\u001b[0m \u001b[0mglobal_dict\u001b[0m \u001b[0;32mis\u001b[0m \u001b[0;32mNone\u001b[0m\u001b[0;34m:\u001b[0m\u001b[0;34m\u001b[0m\u001b[0;34m\u001b[0m\u001b[0m\n\u001b[1;32m    958\u001b[0m         \u001b[0mglobal_dict\u001b[0m \u001b[0;34m=\u001b[0m \u001b[0;34m{\u001b[0m\u001b[0;34m}\u001b[0m\u001b[0;34m\u001b[0m\u001b[0;34m\u001b[0m\u001b[0m\n\u001b[0;32m--> 959\u001b[0;31m         \u001b[0mexec_\u001b[0m\u001b[0;34m(\u001b[0m\u001b[0;34m'from sympy import *'\u001b[0m\u001b[0;34m,\u001b[0m \u001b[0mglobal_dict\u001b[0m\u001b[0;34m)\u001b[0m\u001b[0;34m\u001b[0m\u001b[0;34m\u001b[0m\u001b[0m\n\u001b[0m\u001b[1;32m    960\u001b[0m \u001b[0;34m\u001b[0m\u001b[0m\n\u001b[1;32m    961\u001b[0m     \u001b[0mcode\u001b[0m \u001b[0;34m=\u001b[0m \u001b[0mstringify_expr\u001b[0m\u001b[0;34m(\u001b[0m\u001b[0ms\u001b[0m\u001b[0;34m,\u001b[0m \u001b[0mlocal_dict\u001b[0m\u001b[0;34m,\u001b[0m \u001b[0mglobal_dict\u001b[0m\u001b[0;34m,\u001b[0m \u001b[0mtransformations\u001b[0m\u001b[0;34m)\u001b[0m\u001b[0;34m\u001b[0m\u001b[0;34m\u001b[0m\u001b[0m\n",
      "\u001b[0;32m<string>\u001b[0m in \u001b[0;36m<module>\u001b[0;34m\u001b[0m\n",
      "\u001b[0;31mKeyboardInterrupt\u001b[0m: "
     ]
    }
   ],
   "source": [
    "out_string += \"\"\"\n",
    "REAL a,b,c,d,e,f,g,h,l,m,n,o,p,q,r,s,t,u;\n",
    "\n",
    "void calculate_exact_BU(const int Nxx_plus_2NGHOSTS[3],REAL *xx[3],double *auxevol_gfs) {\n",
    "    for(int i2=0;i2<Nxx_plus_2NGHOSTS[2];i2++) for(int i1=0;i1<Nxx_plus_2NGHOSTS[1];i1++) for(int i0=0;i0<Nxx_plus_2NGHOSTS[0];i0++) {\n",
    "        REAL xx0 = xx[0][i0];\n",
    "        REAL xx1 = xx[1][i1];\n",
    "        REAL xx2 = xx[2][i2];\n",
    "\"\"\"\n",
    "\n",
    "B_analyticU_to_print   = [\\\n",
    "                           lhrh(lhs=gri.gfaccess(\"out_gfs\",\"B_analyticU0\"),rhs=B_analyticU[0]),\\\n",
    "                           lhrh(lhs=gri.gfaccess(\"out_gfs\",\"B_analyticU1\"),rhs=B_analyticU[1]),\\\n",
    "                           lhrh(lhs=gri.gfaccess(\"out_gfs\",\"B_analyticU2\"),rhs=B_analyticU[2]),\\\n",
    "                          ]\n",
    "B_analyticU_kernel = fin.FD_outputC(\"returnstring\",B_analyticU_to_print,params=\"outCverbose=False\")\n",
    "out_string += B_analyticU_kernel\n",
    "\n",
    "out_string += \"\"\"        \n",
    "    }\n",
    "}\n",
    "\n",
    "\"\"\"\n",
    "\n",
    "gri.glb_gridfcs_list = []\n",
    "import GiRaFFE_HO.GiRaFFE_HO_A2B as A2B\n",
    "# We'll generate these into the A2B subdirectory since that's where the functions\n",
    "# we're testing expect them to be.\n",
    "A2B.GiRaFFE_HO_A2B(\"A2B/\")\n"
   ]
  },
  {
   "cell_type": "markdown",
   "metadata": {},
   "source": [
    "We'll now write a function to set the vector potential $A_k$. This simply uses NRPy+ to generte most of the code from the expressions we wrote at the beginning. "
   ]
  },
  {
   "cell_type": "code",
   "execution_count": null,
   "metadata": {},
   "outputs": [],
   "source": [
    "out_string += \"\"\"\n",
    "void calculate_AD(const int Nxx_plus_2NGHOSTS[3],REAL *xx[3],double *out_gfs) {\n",
    "    for(int i2=0;i2<Nxx_plus_2NGHOSTS[2];i2++) for(int i1=0;i1<Nxx_plus_2NGHOSTS[1];i1++) for(int i0=0;i0<Nxx_plus_2NGHOSTS[0];i0++) {\n",
    "        REAL xx0 = xx[0][i0];\n",
    "        REAL xx1 = xx[1][i1];\n",
    "        REAL xx2 = xx[2][i2];\n",
    "\"\"\"\n",
    "\n",
    "AD_to_print = [\\\n",
    "               lhrh(lhs=gri.gfaccess(\"out_gfs\",\"AD0\"),rhs=AD[0]),\\\n",
    "               lhrh(lhs=gri.gfaccess(\"out_gfs\",\"AD1\"),rhs=AD[1]),\\\n",
    "               lhrh(lhs=gri.gfaccess(\"out_gfs\",\"AD2\"),rhs=AD[2]),\\\n",
    "              ]\n",
    "AD_kernel = fin.FD_outputC(\"returnstring\",AD_to_print,params=\"outCverbose=False\")\n",
    "out_string += AD_kernel\n",
    "\n",
    "out_string += \"\"\"        \n",
    "    }\n",
    "}\n",
    "\"\"\""
   ]
  },
  {
   "cell_type": "markdown",
   "metadata": {},
   "source": [
    "Now, we'll write the main method. First, we'll set up the grid. In this test, we cannot use only one point. As we are testing a three-point stencil, we can get away with a minimal $3 \\times 3 \\times 3$ grid. Then, we'll write the A fields. After that, we'll calculate the magnetic field two ways."
   ]
  },
  {
   "cell_type": "code",
   "execution_count": null,
   "metadata": {},
   "outputs": [],
   "source": [
    "out_string += \"\"\"\n",
    "main(int argc, const char *argv[]) {\n",
    "#include \"set_Cparameters_default.h\"\n",
    "\n",
    "    // Let the first argument be the test we're doing. 1 = coarser grid, 0 = finer grid.\n",
    "    int do_quadratic_test = atoi(argv[4]);\n",
    "    \n",
    "    // Step 0c: Set free parameters, overwriting Cparameters defaults \n",
    "    //          by hand or with command-line input, as desired.\n",
    "#include \"free_parameters.h\"\n",
    "#include \"set_Cparameters-nopointer.h\"\n",
    "\n",
    "    // We'll define our grid slightly different from how we normally would. We let our outermost\n",
    "    // ghostzones coincide with xxmin and xxmax instead of the interior of the grid. This means\n",
    "    // that the ghostzone points will have identical positions so we can do convergence tests of them.    // Step 0d.ii: Set up uniform coordinate grids\n",
    "    REAL *xx[3];\n",
    "    for(int i=0;i<3;i++) {\n",
    "        xx[i] = (REAL *)malloc(sizeof(REAL)*Nxx_plus_2NGHOSTS[i]);\n",
    "        for(int j=0;j<Nxx_plus_2NGHOSTS[i];j++) {\n",
    "            xx[i][j] = xxmin[i] + ((REAL)(j))*dxx[i]; // Face-centered grid.\n",
    "        }\n",
    "    }\n",
    "    //for(int i=0;i<Nxx_plus_2NGHOSTS[0];i++) printf(\"xx[0][%d] = %.15e\\\\n\",i,xx[0][i]);\n",
    "    \n",
    "    // This is the array to which we'll write the NRPy+ variables.\n",
    "    REAL *auxevol_gfs  = (REAL *)malloc(sizeof(REAL) * NUM_AUXEVOL_GFS * Nxx_plus_2NGHOSTS[2] * Nxx_plus_2NGHOSTS[1] * Nxx_plus_2NGHOSTS[0]);\n",
    "    REAL *evol_gfs  = (REAL *)malloc(sizeof(REAL) * NUM_EVOL_GFS * Nxx_plus_2NGHOSTS[2] * Nxx_plus_2NGHOSTS[1] * Nxx_plus_2NGHOSTS[0]);\n",
    "    \n",
    "    for(int i2=0;i2<Nxx_plus_2NGHOSTS[2];i2++) for(int i1=0;i1<Nxx_plus_2NGHOSTS[1];i1++) for(int i0=0;i0<Nxx_plus_2NGHOSTS[0];i0++) {\n",
    "        //auxevol_gfs[IDX4(GAMMADETGF,i0,i1,i2)] = 1.0; // Flat Space\n",
    "        auxevol_gfs[IDX4(GAMMADETGF,i0,i1,i2)] = 1.0 - 1.0/(2.0+xx[0][i0]*xx[0][i0]+xx[1][i1]*xx[1][i1]+xx[2][i2]*xx[2][i2]);\n",
    "    }\n",
    "    \n",
    "    // We now want to set up the vector potential. First, we must set the coefficients. \n",
    "    // We will use random integers between -10 and 10. For the first test, we let the \n",
    "    // Cubic coefficients remain zero. Those are a,b,c,g,h,l,p,q, and r.\n",
    "    d = (double)(rand()%20-10);\n",
    "    e = (double)(rand()%20-10);\n",
    "    f = (double)(rand()%20-10);\n",
    "    m = (double)(rand()%20-10);\n",
    "    n = (double)(rand()%20-10);\n",
    "    o = (double)(rand()%20-10);\n",
    "    s = (double)(rand()%20-10);\n",
    "    t = (double)(rand()%20-10);\n",
    "    u = (double)(rand()%20-10);\n",
    "\n",
    "    if(do_quadratic_test) {\n",
    "        calculate_AD(Nxx_plus_2NGHOSTS,xx,evol_gfs);\n",
    "\n",
    "        // We'll also calculate the exact solution for B^i\n",
    "        calculate_exact_BU(Nxx_plus_2NGHOSTS,xx,auxevol_gfs);\n",
    "\n",
    "        // And now for the numerical derivatives:\n",
    "        driver_A_to_B(&params,evol_gfs,auxevol_gfs);\n",
    "\n",
    "        printf(\"This test uses quadratic vector potentials, so the magnetic fields should agree to roundoff error.\\\\n\");\n",
    "        printf(\"Below, each row represents one point. Each column represents a component of the magnetic field.\\\\n\");\n",
    "        printf(\"Shown is the number of Significant Digits of Agreement, at least 13 is good, higher is better:\\\\n\\\\n\");\n",
    "        //Two variables for inside the loop:\n",
    "        int ghost_zone_overlap;int indices[3];\n",
    "        for(int i2=0;i2<Nxx_plus_2NGHOSTS[2];i2++) for(int i1=0;i1<Nxx_plus_2NGHOSTS[1];i1++) for(int i0=0;i0<Nxx_plus_2NGHOSTS[0];i0++) {\n",
    "            // Are we on an edge/vertex? This algorithm can probably be improved.\n",
    "            ghost_zone_overlap = 0;\n",
    "            indices[0] = i0;\n",
    "            indices[1] = i1;\n",
    "            indices[2] = i2;\n",
    "            for(int dim=0;dim<3;dim++) {\n",
    "                if(indices[dim]%(Nxx[dim]+NGHOSTS)<NGHOSTS) {\n",
    "                    ghost_zone_overlap++;\n",
    "                }\n",
    "            }\n",
    "            if (ghost_zone_overlap < 2) {\n",
    "                // Don't print if we're on an edge or vertex\n",
    "                printf(\"SDA: %.3f, %.3f, %.3f\\\\n\",\n",
    "                       1.0-log10(2.0*fabs(auxevol_gfs[IDX4(B_ANALYTICU0GF,i0,i1,i2)]-auxevol_gfs[IDX4(BU0GF,i0,i1,i2)])/(fabs(auxevol_gfs[IDX4(B_ANALYTICU0GF,i0,i1,i2)])+fabs(auxevol_gfs[IDX4(BU0GF,i0,i1,i2)])+1.e-15)),\n",
    "                       1.0-log10(2.0*fabs(auxevol_gfs[IDX4(B_ANALYTICU1GF,i0,i1,i2)]-auxevol_gfs[IDX4(BU1GF,i0,i1,i2)])/(fabs(auxevol_gfs[IDX4(B_ANALYTICU1GF,i0,i1,i2)])+fabs(auxevol_gfs[IDX4(BU1GF,i0,i1,i2)])+1.e-15)),\n",
    "                       1.0-log10(2.0*fabs(auxevol_gfs[IDX4(B_ANALYTICU2GF,i0,i1,i2)]-auxevol_gfs[IDX4(BU2GF,i0,i1,i2)])/(fabs(auxevol_gfs[IDX4(B_ANALYTICU2GF,i0,i1,i2)])+fabs(auxevol_gfs[IDX4(BU2GF,i0,i1,i2)])+1.e-15))\n",
    "                       );\n",
    "            }\n",
    "        }\n",
    "    }\n",
    "    \n",
    "    // Now, we'll set the cubic coefficients:\n",
    "    a = (double)(rand()%20-10);\n",
    "    b = (double)(rand()%20-10);\n",
    "    c = (double)(rand()%20-10);\n",
    "    g = (double)(rand()%20-10);\n",
    "    h = (double)(rand()%20-10);\n",
    "    l = (double)(rand()%20-10);\n",
    "    p = (double)(rand()%20-10);\n",
    "    q = (double)(rand()%20-10);\n",
    "    r = (double)(rand()%20-10);\n",
    "    \n",
    "    // And recalculate on our initial grid:\n",
    "    calculate_AD(Nxx_plus_2NGHOSTS,xx,evol_gfs);\n",
    "\n",
    "    // We'll also calculate the exact solution for B^i\n",
    "    calculate_exact_BU(Nxx_plus_2NGHOSTS,xx,auxevol_gfs);\n",
    "    \n",
    "    // And now for the numerical derivatives:\n",
    "    driver_A_to_B(&params,evol_gfs,auxevol_gfs);\n",
    "    \n",
    "    // Some variables needed for the loop:\n",
    "    int ghost_zone_overlap; int indices[3];\n",
    "    \n",
    "    char filename[100];\n",
    "    sprintf(filename,\"out%d-numer.txt\",Nxx[0]);\n",
    "    FILE *out2D = fopen(filename, \"w\");\n",
    "    if(do_quadratic_test) {\n",
    "        for(int i2=0;i2<Nxx_plus_2NGHOSTS[2];i2++) for(int i1=0;i1<Nxx_plus_2NGHOSTS[1];i1++) for(int i0=0;i0<Nxx_plus_2NGHOSTS[0];i0++) {\n",
    "            ghost_zone_overlap = 0;\n",
    "            indices[0] = i0;\n",
    "            indices[1] = i1;\n",
    "            indices[2] = i2;\n",
    "            for(int dim=0;dim<3;dim++) {\n",
    "                if(indices[dim]%(Nxx[dim]+NGHOSTS)<NGHOSTS) {\n",
    "                    ghost_zone_overlap++;\n",
    "                }\n",
    "            }\n",
    "            if (ghost_zone_overlap < 2) {\n",
    "                // We print the difference between approximate and exact numbers.\n",
    "                fprintf(out2D,\"%.16e\\t%.16e\\t%.16e\\\\n\",\n",
    "                        auxevol_gfs[IDX4(B_ANALYTICU0GF,i0,i1,i2)]-auxevol_gfs[IDX4(BU0GF,i0,i1,i2)],\n",
    "                        auxevol_gfs[IDX4(B_ANALYTICU1GF,i0,i1,i2)]-auxevol_gfs[IDX4(BU1GF,i0,i1,i2)],\n",
    "                        auxevol_gfs[IDX4(B_ANALYTICU2GF,i0,i1,i2)]-auxevol_gfs[IDX4(BU2GF,i0,i1,i2)]\n",
    "                        );\n",
    "            }\n",
    "        }\n",
    "    }\n",
    "    else {\n",
    "        for(int i2=0;i2<Nxx_plus_2NGHOSTS[2];i2++) for(int i1=0;i1<Nxx_plus_2NGHOSTS[1];i1++) for(int i0=0;i0<Nxx_plus_2NGHOSTS[0];i0++) {\n",
    "            ghost_zone_overlap = 0;\n",
    "            indices[0] = i0;\n",
    "            indices[1] = i1;\n",
    "            indices[2] = i2;\n",
    "            for(int dim=0;dim<3;dim++) {\n",
    "                if(indices[dim]%(Nxx[dim]+NGHOSTS)<NGHOSTS) {\n",
    "                    ghost_zone_overlap++;\n",
    "                }\n",
    "            }\n",
    "            // Don't print on the edges or corners\n",
    "            if (ghost_zone_overlap < 2) {\n",
    "                // Only print points shared between the grids\n",
    "                if (i0%2==0 && i1%2==0 && i2%2==0) {\n",
    "                    // We print the difference between approximate and exact numbers.\n",
    "                    fprintf(out2D,\"%.16e\\t%.16e\\t%.16e\\\\n\",\n",
    "                            auxevol_gfs[IDX4(B_ANALYTICU0GF,i0,i1,i2)]-auxevol_gfs[IDX4(BU0GF,i0,i1,i2)],\n",
    "                            auxevol_gfs[IDX4(B_ANALYTICU1GF,i0,i1,i2)]-auxevol_gfs[IDX4(BU1GF,i0,i1,i2)],\n",
    "                            auxevol_gfs[IDX4(B_ANALYTICU2GF,i0,i1,i2)]-auxevol_gfs[IDX4(BU2GF,i0,i1,i2)]\n",
    "                            );\n",
    "                }\n",
    "            }\n",
    "        }\n",
    "\n",
    "    }\n",
    "    fclose(out2D);\n",
    "}\n",
    "\"\"\"\n"
   ]
  },
  {
   "cell_type": "markdown",
   "metadata": {},
   "source": [
    "Now, we must write out the code to a `.C` file."
   ]
  },
  {
   "cell_type": "code",
   "execution_count": null,
   "metadata": {},
   "outputs": [],
   "source": [
    "with open(os.path.join(out_dir,\"A2B_unit_test.C\"),\"w\") as file:\n",
    "    file.write(out_string)"
   ]
  },
  {
   "cell_type": "markdown",
   "metadata": {},
   "source": [
    "Now that we have our file, we can compile it and run the executable."
   ]
  },
  {
   "cell_type": "code",
   "execution_count": null,
   "metadata": {
    "scrolled": false
   },
   "outputs": [],
   "source": [
    "import time\n",
    "\n",
    "print(\"Now compiling, should take ~2 seconds...\\n\")\n",
    "start = time.time()\n",
    "cmd.C_compile(os.path.join(out_dir,\"A2B_unit_test.C\"), os.path.join(out_dir,\"A2B_unit_test\"))\n",
    "end = time.time()\n",
    "print(\"Finished in \"+str(end-start)+\" seconds.\\n\\n\")\n",
    "\n",
    "# os.chdir(out_dir)\n",
    "print(\"Now running...\\n\")\n",
    "start = time.time()\n",
    "# cmd.Execute(os.path.join(\"Stilde_flux_unit_test\"))\n",
    "!./Validation/A2B_unit_test 1 1 1 1\n",
    "# To do a convergence test, we'll also need a second grid with twice the resolution.\n",
    "!./Validation/A2B_unit_test 3 3 3 0\n",
    "end = time.time()\n",
    "print(\"Finished in \"+str(end-start)+\" seconds.\\n\\n\")\n",
    "# os.chdir(os.path.join(\"../\"))\n"
   ]
  },
  {
   "cell_type": "markdown",
   "metadata": {},
   "source": [
    "Now that we have shown that when we use a quadratic vector potential, we get roundoff-level agreement (which is to be expected, since the finite-differencing used approximates the underlying function with a quadratic), we will use do a convergence test to show that when we can't exactly model the function, the truncation error dominates and converges to zero at the expected rate. For this, we use cubic functions for the vector potential. In the code above, we output the difference beteween the numeric and exact magnetic fields at the overlapping, non-edge, non-vertex points of two separate grids. Here, we import that data and calculate the convergence in the usual way, \n",
    "$$\n",
    "k = \\log_2 \\left( \\frac{F - F_1}{F - F_2} \\right),\n",
    "$$\n",
    "where $k$ is the convergence order, $F$ is the exact solution, $F_1$ is the approximate solution on the coarser grid with resolution $\\Delta x$, and $F_2$ is the approximate solution on the finer grid with resolution $\\Delta x/2$."
   ]
  },
  {
   "cell_type": "code",
   "execution_count": null,
   "metadata": {},
   "outputs": [],
   "source": [
    "import numpy as np\n",
    "import matplotlib.pyplot as plt\n",
    "\n",
    "Data1 = np.loadtxt(\"out1-numer.txt\")\n",
    "Data2 = np.loadtxt(\"out3-numer.txt\")\n",
    "\n",
    "convergence = np.log(np.divide(np.abs(Data1),np.abs(Data2)))/np.log(2)\n",
    "print(\"Convergence test: All should be approximately 2\\n\")\n",
    "print(convergence)"
   ]
  }
 ],
 "metadata": {
  "kernelspec": {
   "display_name": "Python 3",
   "language": "python",
   "name": "python3"
  },
  "language_info": {
   "codemirror_mode": {
    "name": "ipython",
    "version": 3
   },
   "file_extension": ".py",
   "mimetype": "text/x-python",
   "name": "python",
   "nbconvert_exporter": "python",
   "pygments_lexer": "ipython3",
   "version": "3.8.0"
  }
 },
 "nbformat": 4,
 "nbformat_minor": 2
}
