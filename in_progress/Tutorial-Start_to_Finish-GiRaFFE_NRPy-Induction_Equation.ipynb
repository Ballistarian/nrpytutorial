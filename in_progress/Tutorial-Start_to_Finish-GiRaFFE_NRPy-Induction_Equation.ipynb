{
 "cells": [
  {
   "cell_type": "markdown",
   "metadata": {},
   "source": [
    "<script async src=\"https://www.googletagmanager.com/gtag/js?id=UA-59152712-8\"></script>\n",
    "<script>\n",
    "  window.dataLayer = window.dataLayer || [];\n",
    "  function gtag(){dataLayer.push(arguments);}\n",
    "  gtag('js', new Date());\n",
    "\n",
    "  gtag('config', 'UA-59152712-8');\n",
    "</script>\n",
    "\n",
    "# Start-to-Finish Example: Unit Testing `GiRaFFE_NRPy`: Induction Equation\n",
    "\n",
    "## Author: Patrick Nelson\n",
    "### Formatting improvements courtesy Brandon Clark\n",
    "\n",
    "## This module validates the routine to compute the flux of $\\epsilon_{ijk} v^j B^k$ for `GiRaFFE`.\n",
    "\n",
    "**Notebook Status:** <font color='red'><b>In-Progress</b></font>\n",
    "\n",
    "**Validation Notes:** This module will validate the routines in [Tutorial-GiRaFFE_NRPy-Induction_Equation](Tutorial-GiRaFFE_NRPy-Induction_Equation.ipynb).\n",
    "\n",
    "### NRPy+ Source Code for this module: \n",
    "* [GiRaFFE_NRPy/Induction_Equation.py](../../edit/in_progress/GiRaFFE_NRPy/Induction_Equation.py) [\\[**tutorial**\\]](Tutorial-GiRaFFE_NRPy-Induction_Equation.ipynb) Generates the driver to compute the magnetic field from the vector potential in arbitrary spactimes.\n",
    "\n",
    "## Introduction:\n",
    "\n",
    "This notebook validates our algorithm to compute the flux of $\\epsilon_{ijk} v^j B^k$ through cell faces, which contributes to the right-hand side of the evolution equation for $A_i$, for use in `GiRaFFE_NRPy`. Because the original `GiRaFFE` used staggered grids and we do not, we can not trivially do a direct comparison to the old code. Instead, we will compare the numerical results with the expected analytic results. \n",
    "\n",
    "It is, in general, good coding practice to unit test functions individually to verify that they produce the expected and intended output. Here, we expect our functions to produce the correct cross product between the velocity and magnetic field in an arbitrary spacetime. To that end, we will choose functions with relatively simple analytic forms.\n",
    "\n",
    "In this test, we will generate analytic forms for the magnetic field and three-velocity. We will need to do this in a $7 \\times 7 \\times 7$ cube in order to run the PPM routine on the data to generate the inputs compute the non-gauge terms of the RHS of the induction equation, unless there's a way to usefully spoof the left- and right-face values for the HLLE solver. We care about this here, because we are comparing against an analytic expression and not the old code."
   ]
  },
  {
   "cell_type": "markdown",
   "metadata": {},
   "source": [
    "<a id='toc'></a>\n",
    "\n",
    "# Table of Contents\n",
    "$$\\label{toc}$$\n",
    "\n",
    "This notebook is organized as follows\n",
    "\n",
    "1. [Step 1](#setup): Set up core functions and parameters for unit testing the A2B algorithm\n",
    "    1. [Step 1.a](#magnetic) Set analytic magnetic field\n",
    "    1. [Step 1.b](#velocity) Set analytic Valencia three-velocity\n",
    "    1. [Step 1.c](#free_parameters) Set free parameters in the code\n",
    "1. [Step 2](#mainc): `Induction_Equation_unit_test.c`: The Main C Code\n",
    "    1. [Step 2.a](#compile_run): Compile and run the code\n",
    "1. [Step 3](#latex_pdf_output): Output this notebook to $\\LaTeX$-formatted PDF file"
   ]
  },
  {
   "cell_type": "markdown",
   "metadata": {},
   "source": [
    "<a id='setup'></a>\n",
    "\n",
    "# Step 1: Set up core functions and parameters for unit testing the A2B algorithm \\[Back to [top](#toc)\\]\n",
    "\n",
    "$$\\label{setup}$$\n",
    "\n",
    "We'll start by appending the relevant paths to `sys.path` so that we can access sympy modules in other places. Then, we'll import NRPy+ core functionality and set up a directory in which to carry out our test. We must also set the desired finite differencing order."
   ]
  },
  {
   "cell_type": "code",
   "execution_count": 1,
   "metadata": {},
   "outputs": [],
   "source": [
    "import shutil, os, sys           # Standard Python modules for multiplatform OS-level functions\n",
    "# First, we'll add the parent directory to the list of directories Python will check for modules.\n",
    "nrpy_dir_path = os.path.join(\"..\")\n",
    "if nrpy_dir_path not in sys.path:\n",
    "    sys.path.append(nrpy_dir_path)\n",
    "nrpy_dir_path = os.path.join(\"..\",\"..\")\n",
    "if nrpy_dir_path not in sys.path:\n",
    "    sys.path.append(nrpy_dir_path)\n",
    "\n",
    "from outputC import *            # NRPy+: Core C code output module\n",
    "import finite_difference as fin  # NRPy+: Finite difference C code generation module\n",
    "import NRPy_param_funcs as par   # NRPy+: Parameter interface\n",
    "import grid as gri               # NRPy+: Functions having to do with numerical grids\n",
    "import loop as lp                # NRPy+: Generate C code loops\n",
    "import indexedexp as ixp         # NRPy+: Symbolic indexed expression (e.g., tensors, vectors, etc.) support\n",
    "import reference_metric as rfm   # NRPy+: Reference metric support\n",
    "import cmdline_helper as cmd     # NRPy+: Multi-platform Python command-line interface\n",
    "\n",
    "out_dir = \"Validation/\"\n",
    "cmd.mkdir(out_dir)\n",
    "\n",
    "thismodule = \"Start_to_Finish-GiRaFFE_NRPy-Induction_Equation\"\n",
    "Use_Shock_Data = False\n"
   ]
  },
  {
   "cell_type": "markdown",
   "metadata": {},
   "source": [
    "<a id='velocity'></a>\n",
    "\n",
    "## Step 1.a: Valencia three-velocity \\[Back to [top](#toc)\\]\n",
    "$$\\label{velocity}$$\n",
    "\n",
    "Here, we'll generate some functions for the velocity. Let's choose arctangents, since those have asymptotes that can be easily manipulated to prevent accidentally setting superluminal speeds. \n",
    "\\begin{align}\n",
    "\\bar{v}^x &= \\frac{2}{\\pi} \\arctan(ax + by + cz) \\\\\n",
    "\\bar{v}^y &= \\frac{2}{\\pi} \\arctan(bx + cy + az) \\\\\n",
    "\\bar{v}^z &= \\frac{2}{\\pi} \\arctan(cx + ay + bz) \\\\\n",
    "\\end{align}\n",
    "If we want to add a jump at the origin, we can simply add $\\max(0,x)$ to the argument of the arctangent. This will add a shock in the $x$-direction. The maximum will be described without the use of if statements as \n",
    "$$\n",
    "\\max(a,b) = \\tfrac{1}{2} \\left( a+b + \\lvert a-b \\rvert \\right). \n",
    "$$"
   ]
  },
  {
   "cell_type": "code",
   "execution_count": 2,
   "metadata": {},
   "outputs": [],
   "source": [
    "def max_noif(a,b):\n",
    "    return sp.Rational(1,2)*(a+b+nrpyAbs(a-b))\n",
    "\n",
    "a,b,c = par.Cparameters(\"REAL\",thismodule,[\"a\",\"b\",\"c\"],1e300) # Note that this default value allows us to set\n",
    "                                                               # these directly in the C code\n",
    "M_PI  = par.Cparameters(\"#define\",thismodule,[\"M_PI\"], \"\")\n",
    "\n",
    "par.set_parval_from_str(\"reference_metric::CoordSystem\",\"Cartesian\")\n",
    "rfm.reference_metric()\n",
    "x = rfm.xxCart[0]\n",
    "y = rfm.xxCart[1]\n",
    "z = rfm.xxCart[2]\n",
    "\n",
    "args = ixp.zerorank1()\n",
    "args[0] = a*x + b*y + c*z\n",
    "args[1] = b*x + c*y + a*z\n",
    "args[2] = c*x + a*y + b*z\n",
    "if Use_Shock_Data: \n",
    "    for i in range(3): \n",
    "        args[i] += max_noif(0,x)\n",
    "\n",
    "ValenciavU = ixp.register_gridfunctions_for_single_rank1(\"AUXEVOL\",\"ValenciavU\")\n",
    "for i in range(3): \n",
    "    ValenciavU[i] = (sp.sympify(2.0)/M_PI)*sp.atan(args[i])"
   ]
  },
  {
   "cell_type": "markdown",
   "metadata": {},
   "source": [
    "<a id='magnetic'></a>\n",
    "\n",
    "## Step 1.b: Magnetic field \\[Back to [top](#toc)\\]\n",
    "$$\\label{magnetic}$$\n",
    "\n",
    "We'll also need some functions for the magnetic field. Exponentials sound fun.\n",
    "\\begin{align}\n",
    "B^x &= \\exp(ey+fz) \\\\\n",
    "B^y &= \\exp(fz+dx) \\\\\n",
    "B^z &= \\exp(dx+ey) \\\\\n",
    "\\end{align}\n",
    "In this case, we'll add $\\max{0,x}$ to the field to add the jump."
   ]
  },
  {
   "cell_type": "code",
   "execution_count": 3,
   "metadata": {},
   "outputs": [],
   "source": [
    "d,e,f = par.Cparameters(\"REAL\",thismodule,[\"d\",\"e\",\"f\"],1e300) # Note that this default value allows us to set\n",
    "                                                               # these directly in the C code\n",
    "BU = ixp.register_gridfunctions_for_single_rank1(\"AUXEVOL\",\"BU\")\n",
    "BU[0] = sp.exp(e*y+f*z)\n",
    "BU[1] = sp.exp(f*z+d*x)\n",
    "BU[2] = sp.exp(d*x+e*y)\n",
    "if Use_Shock_Data: \n",
    "    for i in range(3): \n",
    "        BU[i] += max_noif(0,x)\n"
   ]
  },
  {
   "cell_type": "markdown",
   "metadata": {},
   "source": [
    "<a id='functions'></a>\n",
    "\n",
    "## Step 1.c: Generate C functions to write the test data \\[Back to [top](#toc)\\]\n",
    "$$\\label{functions}$$\n"
   ]
  },
  {
   "cell_type": "code",
   "execution_count": 4,
   "metadata": {},
   "outputs": [],
   "source": [
    "BU_to_print = [\\\n",
    "                lhrh(lhs=gri.gfaccess(\"out_gfs\",\"BU0\"),rhs=BU[0]),\\\n",
    "                lhrh(lhs=gri.gfaccess(\"out_gfs\",\"BU1\"),rhs=BU[1]),\\\n",
    "                lhrh(lhs=gri.gfaccess(\"out_gfs\",\"BU2\"),rhs=BU[2]),\\\n",
    "               ]\n",
    "\n",
    "desc = \"Calculate sample magnetic field data\"\n",
    "name = \"calculate_BU\"\n",
    "outCfunction(\n",
    "    outfile  = os.path.join(out_dir,name+\".h\"), desc=desc, name=name,\n",
    "    params   =\"const paramstruct *params,REAL *xx[3],REAL *auxevol_gfs\",\n",
    "    body     = fin.FD_outputC(\"returnstring\",BU_to_print,params=\"outCverbose=False\").replace(\"IDX4\",\"IDX4S\"),\n",
    "    loopopts=\"AllPoints,Read_xxs\")\n",
    "\n",
    "ValenciavU_to_print = [\\\n",
    "                       lhrh(lhs=gri.gfaccess(\"out_gfs\",\"ValenciavU0\"),rhs=ValenciavU[0]),\\\n",
    "                       lhrh(lhs=gri.gfaccess(\"out_gfs\",\"ValenciavU1\"),rhs=ValenciavU[1]),\\\n",
    "                       lhrh(lhs=gri.gfaccess(\"out_gfs\",\"ValenciavU2\"),rhs=ValenciavU[2]),\\\n",
    "                      ]\n",
    "\n",
    "desc = \"Calculate sample velocity data\"\n",
    "name = \"calculate_ValenciavU\"\n",
    "outCfunction(\n",
    "    outfile  = os.path.join(out_dir,name+\".h\"), desc=desc, name=name,\n",
    "    params   =\"const paramstruct *params,REAL *xx[3],REAL *auxevol_gfs\",\n",
    "    body     = fin.FD_outputC(\"returnstring\",ValenciavU_to_print,params=\"outCverbose=False\").replace(\"IDX4\",\"IDX4S\"),\n",
    "    loopopts=\"AllPoints,Read_xxs\")\n"
   ]
  },
  {
   "cell_type": "markdown",
   "metadata": {},
   "source": [
    "<a id='free_parameters'></a>\n",
    "\n",
    "## Step 1.d: Set free parameters in the code \\[Back to [top](#toc)\\]\n",
    "$$\\label{free_parameters}$$\n",
    "\n",
    "We also need to create the files that interact with NRPy's C parameter interface. "
   ]
  },
  {
   "cell_type": "code",
   "execution_count": null,
   "metadata": {},
   "outputs": [],
   "source": [
    "# Step 3.d.i: Generate declare_Cparameters_struct.h, set_Cparameters_default.h, and set_Cparameters[-SIMD].h\n",
    "\n",
    "# Step 3.d.ii: Set free_parameters.h\n",
    "with open(os.path.join(out_dir,\"free_parameters.h\"),\"w\") as file:\n",
    "    file.write(\"\"\"\n",
    "// Override parameter defaults with values based on command line arguments and NGHOSTS.\n",
    "// We'll use this grid. It has one point and one ghost zone.\n",
    "const int NGHOSTS = 3;\n",
    "params.Nxx0 = 1;\n",
    "params.Nxx1 = 1;\n",
    "params.Nxx2 = 1;\n",
    "params.Nxx_plus_2NGHOSTS0 = params.Nxx0 + 2*NGHOSTS;\n",
    "params.Nxx_plus_2NGHOSTS1 = params.Nxx1 + 2*NGHOSTS;\n",
    "params.Nxx_plus_2NGHOSTS2 = params.Nxx2 + 2*NGHOSTS;\n",
    "// Step 0d: Set up space and time coordinates\n",
    "// Step 0d.i: Declare \\Delta x^i=dxx{0,1,2} and invdxx{0,1,2}, as well as xxmin[3] and xxmax[3]:\n",
    "const REAL xxmin[3] = {-1.0,-1.0,-1.0};\n",
    "const REAL xxmax[3] = { 1.0, 1.0, 1.0};\n",
    "\n",
    "params.dxx0 = (xxmax[0] - xxmin[0]) / ((REAL)params.Nxx_plus_2NGHOSTS0-1.0);\n",
    "params.dxx1 = (xxmax[1] - xxmin[1]) / ((REAL)params.Nxx_plus_2NGHOSTS1-1.0);\n",
    "params.dxx2 = (xxmax[2] - xxmin[2]) / ((REAL)params.Nxx_plus_2NGHOSTS2-1.0);\n",
    "//printf(\"dxx0,dxx1,dxx2 = %.5e,%.5e,%.5e\\\\n\",params.dxx0,params.dxx1,params.dxx2);\n",
    "params.invdx0 = 1.0 / params.dxx0;\n",
    "params.invdx1 = 1.0 / params.dxx1;\n",
    "params.invdx2 = 1.0 / params.dxx2;\n",
    "\\n\"\"\")\n",
    "\n",
    "# Generates declare_Cparameters_struct.h, set_Cparameters_default.h, and set_Cparameters[-SIMD].h\n",
    "par.generate_Cparameters_Ccodes(os.path.join(out_dir))"
   ]
  },
  {
   "cell_type": "markdown",
   "metadata": {},
   "source": [
    "<a id='module'></a>\n",
    "\n",
    "## Step 1.e: Generate `GiRaFFE_NRPy` Files \\[Back to [top](#toc)\\]\n",
    "$$\\label{module}$$\n",
    "\n",
    "Here, we generate the functions we want to test by calling the function found [here](../../edit/in_progress/GiRaFFE_NRPy/GiRaFFE_NRPy_PPM.py) and documented in [this tutorial](Tutorial-Start_to_Finish-GiRaFFE_NRPy-PPM.ipynb)."
   ]
  },
  {
   "cell_type": "code",
   "execution_count": null,
   "metadata": {},
   "outputs": [],
   "source": [
    "import GiRaFFE_NRPy.GiRaFFE_NRPy_PPM as PPM\n",
    "PPM.GiRaFFE_NRPy_PPM(out_dir)"
   ]
  },
  {
   "cell_type": "markdown",
   "metadata": {},
   "source": [
    "<a id='electric_flux'></a>\n",
    "\n",
    "## Step 1.f: Calculate the flux of $\\epsilon_{ijk} v^j B^k$ \\[Back to [top](#toc)\\]\n",
    "$$\\label{electric_flux}$$\n",
    "\n",
    "Here, we generate the functions necessary to calculate the electric flux on the cell faces, which is the algorithm we are specifically trying to test. "
   ]
  },
  {
   "cell_type": "code",
   "execution_count": null,
   "metadata": {},
   "outputs": [],
   "source": [
    "import GiRaFFE_NRPy.Induction_Equation as Ef\n",
    "\n",
    "# We will pass values of the gridfunction on the cell faces into the function. This requires us\n",
    "# to declare them as C parameters in NRPy+. We will denote this with the _face infix/suffix.\n",
    "alpha_face = gri.register_gridfunctions(\"AUXEVOL\",\"alpha_face\")\n",
    "gamma_faceDD = ixp.register_gridfunctions_for_single_rank2(\"AUXEVOL\",\"gamma_faceDD\",\"sym01\")\n",
    "beta_faceU = ixp.register_gridfunctions_for_single_rank1(\"AUXEVOL\",\"beta_faceU\")\n",
    "\n",
    "# We'll need some more gridfunctions, now, to represent the reconstructions of BU and ValenciavU\n",
    "# on the right and left faces\n",
    "Valenciav_rU = ixp.register_gridfunctions_for_single_rank1(\"AUXEVOL\",\"Valenciav_rU\",DIM=3)\n",
    "B_rU = ixp.register_gridfunctions_for_single_rank1(\"AUXEVOL\",\"B_rU\",DIM=3)\n",
    "Valenciav_lU = ixp.register_gridfunctions_for_single_rank1(\"AUXEVOL\",\"Valenciav_lU\",DIM=3)\n",
    "B_lU = ixp.register_gridfunctions_for_single_rank1(\"AUXEVOL\",\"B_lU\",DIM=3)\n",
    "\n",
    "Ef.calculate_E_i_flux(True,alpha_face,gamma_faceDD,beta_faceU,\\\n",
    "                      Valenciav_rU,B_rU,Valenciav_lU,B_lU)\n",
    "\n",
    "for flux_dirn in range(3):\n",
    "    E_i_flux_to_print = [\\\n",
    "                         lhrh(lhs=gri.gfaccess(\"out_gfs\",\"E_fluxD0\"),rhs=E_fluxD[0]),\\\n",
    "                         lhrh(lhs=gri.gfaccess(\"out_gfs\",\"E_fluxD1\"),rhs=E_fluxD[1]),\\\n",
    "                         lhrh(lhs=gri.gfaccess(\"out_gfs\",\"E_fluxD2\"),rhs=E_fluxD[2]),\\\n",
    "                        ]\n",
    "\n",
    "    desc = \"Calculate the electric flux in direction \" + str(flux_dirn) + \".\"\n",
    "    name = \"calculate_E_fluxD\" + str(flux_dirn)\n",
    "    outCfunction(\n",
    "        outfile  = os.path.join(out_dir,name+\".h\"), desc=desc, name=name,\n",
    "        params   =\"const paramstruct *params,REAL *xx[3],REAL *auxevol_gfs\",\n",
    "        body     = fin.FD_outputC(\"returnstring\",E_i_flux_to_print,params=\"outCverbose=False\").replace(\"IDX4\",\"IDX4S\"),\n",
    "        loopopts =\"InteriorPoints,Read_xxs\")\n"
   ]
  },
  {
   "cell_type": "markdown",
   "metadata": {},
   "source": [
    "<a id='exact_flux'></a>\n",
    "\n",
    "## Step 1.g: Calculate the *exact* flux of $\\epsilon_{ijk} v^j B^k$ \\[Back to [top](#toc)\\]\n",
    "$$\\label{exact_flux}$$\n",
    "\n",
    "Here, we generate a function to analytically calculate the electric flux on the cell faces for comparison. We'll need to import the Levi-Civita tensor for this."
   ]
  },
  {
   "cell_type": "code",
   "execution_count": null,
   "metadata": {},
   "outputs": [],
   "source": [
    "import WeylScal4NRPy.WeylScalars_Cartesian as weyl\n",
    "LeviCivitaDDD = weyl.define_LeviCivitaSymbol_rank3()\n",
    "# We'll re-enable this once we move into curved spacetimes.\n",
    "# for i in range(3):\n",
    "#     for j in range(3):\n",
    "#         for k in range(3):\n",
    "#             LeviCivitaDDD[i][j][k] = LeviCivitaDDD[i][j][k] / sp.sqrt(gammadet)\n",
    "\n",
    "AD = ixp.zerorank1()\n",
    "for i in range(3):\n",
    "    for j in range(3):\n",
    "        for k in range(3):\n",
    "            AD[i] = LeviCivitaDDD[i][j][k]*driftvU[j]*BU[k] # TODO: Find best way to get driftvU here. \n"
   ]
  },
  {
   "cell_type": "markdown",
   "metadata": {},
   "source": [
    "<a id='mainc'></a>\n",
    "\n",
    "# Step 2: `Induction_Equation_unit_test.c`: The Main C Code \\[Back to [top](#toc)\\]\n",
    "$$\\label{mainc}$$\n",
    "\n",
    "Now that we have our vector potential and analytic magnetic field to compare against, we will start writing our unit test. We'll also import common C functionality, define `REAL`, the number of ghost zones, and the faces, and set the standard macros for NRPy+ style memory access."
   ]
  },
  {
   "cell_type": "code",
   "execution_count": 8,
   "metadata": {},
   "outputs": [
    {
     "name": "stdout",
     "output_type": "stream",
     "text": [
      "Overwriting Validation//A2B_unit_test.c\n"
     ]
    }
   ],
   "source": [
    "%%writefile $out_dir/Induction_Equation_unit_test.c\n",
    "// These are common packages that we are likely to need.\n",
    "#include \"stdio.h\"\n",
    "#include \"stdlib.h\"\n",
    "#include \"math.h\"\n",
    "#include \"string.h\" // Needed for strncmp, etc.\n",
    "#include \"stdint.h\" // Needed for Windows GCC 6.x compatibility\n",
    "#include <time.h>   // Needed to set a random seed.\n",
    "\n",
    "#define REAL double\n",
    "#include \"declare_Cparameters_struct.h\"\n",
    "\n",
    "REAL a,b,c,d,e,f;\n",
    "\n",
    "// Standard NRPy+ memory access:\n",
    "#define IDX4S(g,i,j,k) \\\n",
    "( (i) + Nxx_plus_2NGHOSTS0 * ( (j) + Nxx_plus_2NGHOSTS1 * ( (k) + Nxx_plus_2NGHOSTS2 * (g) ) ) )\n",
    "\n",
    "#define LOOP_REGION(i0min,i0max, i1min,i1max, i2min,i2max) \\\n",
    "  for(int i2=i2min;i2<i2max;i2++) for(int i1=i1min;i1<i1max;i1++) for(int i0=i0min;i0<i0max;i0++)\n"
   ]
  },
  {
   "cell_type": "markdown",
   "metadata": {},
   "source": [
    "We'll now define the gridfunction names."
   ]
  },
  {
   "cell_type": "code",
   "execution_count": 9,
   "metadata": {},
   "outputs": [
    {
     "name": "stdout",
     "output_type": "stream",
     "text": [
      "Appending to Validation//A2B_unit_test.c\n"
     ]
    }
   ],
   "source": [
    "%%writefile -a $out_dir/Induction_Equation_unit_test.c\n",
    "// Let's also #define the NRPy+ gridfunctions\n",
    "#define VALENCIAVU0GF 0\n",
    "#define VALENCIAVU1GF 1\n",
    "#define VALENCIAVU2GF 2\n",
    "#define BU0GF 3\n",
    "#define BU1GF 4\n",
    "#define BU2GF 5\n",
    "#define VALENCIAV_RU0GF 6\n",
    "#define VALENCIAV_RU1GF 7\n",
    "#define VALENCIAV_RU2GF 8\n",
    "#define B_RU0GF 9\n",
    "#define B_RU1GF 10\n",
    "#define B_RU2GF 11\n",
    "#define VALENCIAV_LU0GF 12\n",
    "#define VALENCIAV_LU1GF 13\n",
    "#define VALENCIAV_LU2GF 14\n",
    "#define B_LU0GF 15\n",
    "#define B_LU1GF 16\n",
    "#define B_LU2GF 17\n",
    "#define GAMMA_FACEDD00GF 18\n",
    "#define GAMMA_FACEDD01GF 19\n",
    "#define GAMMA_FACEDD02GF 20\n",
    "#define GAMMA_FACEDD11GF 21\n",
    "#define GAMMA_FACEDD12GF 22\n",
    "#define GAMMA_FACEDD22GF 23\n",
    "#define BETA_FACEU0GF 24\n",
    "#define BETA_FACEU1GF 25\n",
    "#define BETA_FACEU2GF 26\n",
    "#define ALPHA_FACEGF 27\n",
    "#define NUM_AUXEVOL_GFS 28\n",
    "\n",
    "#define AD0GF 0\n",
    "#define AD1GF 1\n",
    "#define AD2GF 2\n",
    "#define NUM_EVOL_GFS 3"
   ]
  },
  {
   "cell_type": "markdown",
   "metadata": {},
   "source": [
    "Now, we'll handle the different A2B codes. There are several things to do here. First, we'll add `#include`s to the C code so that we have access to the functions we want to test. We must also create a directory and copy the files to that directory. We will choose to do this in the subfolder `A2B` relative to this tutorial.\n"
   ]
  },
  {
   "cell_type": "code",
   "execution_count": 10,
   "metadata": {},
   "outputs": [
    {
     "name": "stdout",
     "output_type": "stream",
     "text": [
      "Appending to Validation//A2B_unit_test.c\n"
     ]
    }
   ],
   "source": [
    "%%writefile -a $out_dir/Induction_Equation_unit_test.c\n",
    "// Some specific definitions needed for this file\n",
    "typedef struct __gf_and_gz_struct__ {\n",
    "  REAL *gf;\n",
    "  int gz_lo[4],gz_hi[4];\n",
    "} gf_and_gz_struct;\n",
    "\n",
    "const int VX=0,VY=1,VZ=2,BX=3,BY=4,BZ=5;\n",
    "const int NUM_RECONSTRUCT_GFS = 6;\n",
    "const int MAXNUMVARS = NUM_RECONSTRUCT_GFS; // For the CCTK version\n",
    "\n",
    "#include \"reconstruct_set_of_prims_PPM_GRFFE_NRPy.c\"\n",
    "#include \"loop_defines_reconstruction_NRPy.h\"\n",
    "\n",
    "#include \"calculate_BU.h\"\n",
    "#include \"calculate_ValenciavU.h\"\n",
    "\n",
    "#include \".h\" // This file contains both functions we need.\n"
   ]
  },
  {
   "cell_type": "markdown",
   "metadata": {},
   "source": [
    "Now, we'll write the main method. First, we'll set up the grid. In this test, we cannot use only one point. As we are testing a three-point stencil, we can get away with a minimal $3 \\times 3 \\times 3$ grid. Then, we'll write the A fields. After that, we'll calculate the magnetic field two ways."
   ]
  },
  {
   "cell_type": "code",
   "execution_count": 11,
   "metadata": {},
   "outputs": [
    {
     "name": "stdout",
     "output_type": "stream",
     "text": [
      "Appending to Validation//A2B_unit_test.c\n"
     ]
    }
   ],
   "source": [
    "%%writefile -a $out_dir/Induction_Equation_unit_test.c\n",
    "int main(int argc, const char *argv[]) {\n",
    "    paramstruct params;\n",
    "#include \"set_Cparameters_default.h\"\n",
    "\n",
    "    // Step 0c: Set free parameters, overwriting Cparameters defaults \n",
    "    //          by hand or with command-line input, as desired.\n",
    "#include \"free_parameters.h\"\n",
    "#include \"set_Cparameters-nopointer.h\"\n",
    "\n",
    "    // We'll define our grid slightly different from how we normally would. We let our outermost\n",
    "    // ghostzones coincide with xxmin and xxmax instead of the interior of the grid. This means\n",
    "    // that the ghostzone points will have identical positions so we can do convergence tests of them.    // Step 0d.ii: Set up uniform coordinate grids\n",
    "    REAL *xx[3];\n",
    "    xx[0] = (REAL *)malloc(sizeof(REAL)*Nxx_plus_2NGHOSTS0);\n",
    "    xx[1] = (REAL *)malloc(sizeof(REAL)*Nxx_plus_2NGHOSTS1);\n",
    "    xx[2] = (REAL *)malloc(sizeof(REAL)*Nxx_plus_2NGHOSTS2);\n",
    "    for(int j=0;j<Nxx_plus_2NGHOSTS0;j++) xx[0][j] = xxmin[0] + ((REAL)(j))*dxx0;\n",
    "    for(int j=0;j<Nxx_plus_2NGHOSTS1;j++) xx[1][j] = xxmin[1] + ((REAL)(j))*dxx1;\n",
    "    for(int j=0;j<Nxx_plus_2NGHOSTS2;j++) xx[2][j] = xxmin[2] + ((REAL)(j))*dxx2;\n",
    "    \n",
    "    for(int j=0;j<Nxx_plus_2NGHOSTS0;j++) printf(\"x[%d] = %.5e\\n\",j,xx[0][j]);\n",
    "\n",
    "    // This is the array to which we'll write the NRPy+ variables.\n",
    "    REAL *auxevol_gfs  = (REAL *)malloc(sizeof(REAL) * NUM_AUXEVOL_GFS * Nxx_plus_2NGHOSTS2 * Nxx_plus_2NGHOSTS1 * Nxx_plus_2NGHOSTS0);\n",
    "    REAL *rhs_gfs  = (REAL *)malloc(sizeof(REAL) * NUM_EVOL_GFS * Nxx_plus_2NGHOSTS2 * Nxx_plus_2NGHOSTS1 * Nxx_plus_2NGHOSTS0);\n",
    "    REAL *rhs_exact_gfs  = (REAL *)malloc(sizeof(REAL) * NUM_EVOL_GFS * Nxx_plus_2NGHOSTS2 * Nxx_plus_2NGHOSTS1 * Nxx_plus_2NGHOSTS0);\n",
    "    \n",
    "    LOOP_REGION(0,Nxx_plus_2NGHOSTS2,0,Nxx_plus_2NGHOSTS1,0,Nxx_plus_2NGHOSTS0) {\n",
    "        auxevol_gfs[IDX4S(GAMMA_FACEDD00GF,i0,i1,i2)] = 1.0; // Flat Space\n",
    "        auxevol_gfs[IDX4S(GAMMA_FACEDD01GF,i0,i1,i2)] = 0.0; // Flat Space\n",
    "        auxevol_gfs[IDX4S(GAMMA_FACEDD02GF,i0,i1,i2)] = 0.0; // Flat Space\n",
    "        auxevol_gfs[IDX4S(GAMMA_FACEDD11GF,i0,i1,i2)] = 1.0; // Flat Space\n",
    "        auxevol_gfs[IDX4S(GAMMA_FACEDD12GF,i0,i1,i2)] = 0.0; // Flat Space\n",
    "        auxevol_gfs[IDX4S(GAMMA_FACEDD22GF,i0,i1,i2)] = 1.0; // Flat Space\n",
    "        auxevol_gfs[IDX4S(BETA_FACEU0GF,i0,i1,i2)] = 0.0; // Flat Space\n",
    "        auxevol_gfs[IDX4S(BETA_FACEU1GF,i0,i1,i2)] = 0.0; // Flat Space\n",
    "        auxevol_gfs[IDX4S(BETA_FACEU2GF,i0,i1,i2)] = 0.0; // Flat Space\n",
    "        auxevol_gfs[IDX4S(ALPHA_FACEGF,i0,i1,i2)] = 1.0; // Flat Space\n",
    "    }\n",
    "    \n",
    "    a = (double)(rand()%10-5);\n",
    "    b = (double)(rand()%10-5);\n",
    "    c = (double)(rand()%10-5);\n",
    "    d = (double)(rand()%10-5);\n",
    "    e = (double)(rand()%10-5);\n",
    "    f = (double)(rand()%10-5);\n",
    "\n",
    "        gf_and_gz_struct in_prims[NUM_RECONSTRUCT_GFS], out_prims_r[NUM_RECONSTRUCT_GFS], out_prims_l[NUM_RECONSTRUCT_GFS];\n",
    "    int which_prims_to_reconstruct[NUM_RECONSTRUCT_GFS],num_prims_to_reconstruct;\n",
    "\n",
    "    const int Nxxp2NG012 = Nxx_plus_2NGHOSTS0*Nxx_plus_2NGHOSTS1*Nxx_plus_2NGHOSTS2;\n",
    "    REAL temporary[Nxxp2NG012];\n",
    "\n",
    "    int ww=0;\n",
    "    in_prims[ww].gf      = auxevol_gfs + Nxxp2NG012*VALENCIAVU0GF; \n",
    "      out_prims_r[ww].gf = auxevol_gfs + Nxxp2NG012*VALENCIAV_RU0GF; \n",
    "      out_prims_l[ww].gf = auxevol_gfs + Nxxp2NG012*VALENCIAV_LU0GF; \n",
    "    ww++;\n",
    "    in_prims[ww].gf      = auxevol_gfs + Nxxp2NG012*VALENCIAVU1GF; \n",
    "      out_prims_r[ww].gf = auxevol_gfs + Nxxp2NG012*VALENCIAV_RU1GF; \n",
    "      out_prims_l[ww].gf = auxevol_gfs + Nxxp2NG012*VALENCIAV_LU1GF; \n",
    "    ww++;\n",
    "    in_prims[ww].gf      = auxevol_gfs + Nxxp2NG012*VALENCIAVU2GF; \n",
    "      out_prims_r[ww].gf = auxevol_gfs + Nxxp2NG012*VALENCIAV_RU2GF; \n",
    "      out_prims_l[ww].gf = auxevol_gfs + Nxxp2NG012*VALENCIAV_LU2GF; \n",
    "    ww++;\n",
    "    in_prims[ww].gf      = auxevol_gfs + Nxxp2NG012*BU0GF; \n",
    "      out_prims_r[ww].gf = auxevol_gfs + Nxxp2NG012*B_RU0GF; \n",
    "      out_prims_l[ww].gf = auxevol_gfs + Nxxp2NG012*B_LU0GF; \n",
    "    ww++;\n",
    "    in_prims[ww].gf      = auxevol_gfs + Nxxp2NG012*BU1GF; \n",
    "      out_prims_r[ww].gf = auxevol_gfs + Nxxp2NG012*B_RU1GF; \n",
    "      out_prims_l[ww].gf = auxevol_gfs + Nxxp2NG012*B_LU1GF; \n",
    "    ww++;\n",
    "    in_prims[ww].gf      = auxevol_gfs + Nxxp2NG012*BU2GF; \n",
    "      out_prims_r[ww].gf = auxevol_gfs + Nxxp2NG012*B_RU2GF; \n",
    "      out_prims_l[ww].gf = auxevol_gfs + Nxxp2NG012*B_LU2GF; \n",
    "    ww++;\n",
    "\n",
    "    // Prims are defined AT ALL GRIDPOINTS, so we set the # of ghostzones to zero:\n",
    "    for(int i=0;i<NUM_RECONSTRUCT_GFS;i++) for(int j=1;j<=3;j++) { in_prims[i].gz_lo[j]=0; in_prims[i].gz_hi[j]=0; }\n",
    "    // Left/right variables are not yet defined, yet we set the # of gz's to zero by default:\n",
    "    for(int i=0;i<NUM_RECONSTRUCT_GFS;i++) for(int j=1;j<=3;j++) { out_prims_r[i].gz_lo[j]=0; out_prims_r[i].gz_hi[j]=0; }\n",
    "    for(int i=0;i<NUM_RECONSTRUCT_GFS;i++) for(int j=1;j<=3;j++) { out_prims_l[i].gz_lo[j]=0; out_prims_l[i].gz_hi[j]=0; }\n",
    "\n",
    "    ww=0;\n",
    "    which_prims_to_reconstruct[ww]=VX; ww++;\n",
    "    which_prims_to_reconstruct[ww]=VY; ww++;\n",
    "    which_prims_to_reconstruct[ww]=VZ; ww++;\n",
    "    which_prims_to_reconstruct[ww]=BX; ww++;\n",
    "    which_prims_to_reconstruct[ww]=BY; ww++;\n",
    "    which_prims_to_reconstruct[ww]=BZ; ww++;\n",
    "    num_prims_to_reconstruct=ww;\n",
    "\n",
    "    REAL quarter = 0.25;\n",
    "    \n",
    "    for(int flux_dirn=0;flux_dirn<3;flux_dirn++) {\n",
    "        // This function is housed in the file: \"reconstruct_set_of_prims_PPM_GRFFE_NRPy.c\"\n",
    "        reconstruct_set_of_prims_PPM_GRFFE_NRPy(&params, auxevol_gfs, flux_dirn, num_prims_to_reconstruct,                                                          \n",
    "                                                which_prims_to_reconstruct, in_prims, out_prims_r, out_prims_l, temporary);\n",
    "        if(flux_dirn==0) {\n",
    "            calculate_E_fluxD0(params,xx,auxevol_gfs);\n",
    "            LOOP_REGION(0,Nxx_plus_2NGHOSTS2,0,Nxx_plus_2NGHOSTS1,0,Nxx_plus_2NGHOSTS0) {\n",
    "                rhs_gfs[IDX4S(AD2GF,i0,i1,i2)] -= quarter*(auxevol_gfs[IDX4S(E_FLUXD0GF,i0,i1,i2)] + auxevol_gfs[IDX4S(E_FLUXD0GF,i0+1,i1,i2)]);\n",
    "                rhs_gfs[IDX4S(AD1GF,i0,i1,i2)] += quarter*(auxevol_gfs[IDX4S(E_FLUXD0GF,i0,i1,i2)] + auxevol_gfs[IDX4S(E_FLUXD0GF,i0+1,i1,i2)]);\n",
    "            }\n",
    "        }\n",
    "        else if(flux_dirn==1) {\n",
    "            calculate_E_fluxD1(params,xx,auxevol_gfs);\n",
    "            LOOP_REGION(0,Nxx_plus_2NGHOSTS2,0,Nxx_plus_2NGHOSTS1,0,Nxx_plus_2NGHOSTS0) {\n",
    "                rhs_gfs[IDX4S(AD0GF,i0,i1,i2)] -= quarter*(auxevol_gfs[IDX4S(E_FLUXD1GF,i0,i1,i2)] + auxevol_gfs[IDX4S(E_FLUXD1GF,i0,i1+1,i2)]);\n",
    "                rhs_gfs[IDX4S(AD2GF,i0,i1,i2)] += quarter*(auxevol_gfs[IDX4S(E_FLUXD1GF,i0,i1,i2)] + auxevol_gfs[IDX4S(E_FLUXD1GF,i0,i1+1,i2)]);\n",
    "            }\n",
    "        }\n",
    "        else {\n",
    "            calculate_E_fluxD2(params,xx,auxevol_gfs);\n",
    "            LOOP_REGION(0,Nxx_plus_2NGHOSTS2,0,Nxx_plus_2NGHOSTS1,0,Nxx_plus_2NGHOSTS0) {\n",
    "                rhs_gfs[IDX4S(AD1GF,i0,i1,i2)] -= quarter*(auxevol_gfs[IDX4S(E_FLUXD2GF,i0,i1,i2)] + auxevol_gfs[IDX4S(E_FLUXD2GF,i0,i1,i2+1)]);\n",
    "                rhs_gfs[IDX4S(AD0GF,i0,i1,i2)] += quarter*(auxevol_gfs[IDX4S(E_FLUXD2GF,i0,i1,i2)] + auxevol_gfs[IDX4S(E_FLUXD2GF,i0,i1,i2+1)]);\n",
    "            }\n",
    "        }\n",
    "    }\n",
    "}\n"
   ]
  },
  {
   "cell_type": "markdown",
   "metadata": {},
   "source": [
    "<a id='compile_run'></a>\n",
    "\n",
    "## Step 2.a: Compile and run the code\n",
    "\n",
    "$$\\label{compile_run}$$\n",
    "\n",
    "Now that we have our file, we can compile it and run the executable."
   ]
  },
  {
   "cell_type": "code",
   "execution_count": 12,
   "metadata": {
    "scrolled": true
   },
   "outputs": [
    {
     "name": "stdout",
     "output_type": "stream",
     "text": [
      "Now compiling, should take ~2 seconds...\n",
      "\n",
      "Compiling executable...\n",
      "Executing `gcc -Ofast -fopenmp -march=native -funroll-loops Validation/A2B_unit_test.c -o Validation/A2B_unit_test -lm`...\n",
      "Finished executing in 0.8151066303253174 seconds.\n",
      "Finished compilation.\n",
      "Finished in 0.8266806602478027 seconds.\n",
      "\n",
      "\n",
      "Now running...\n",
      "\n",
      "dxx0,dxx1,dxx2 = 3.33333e-03,3.33333e-03,3.33333e-03\n",
      "x[0] = -1.00000e-02\n",
      "x[1] = -6.66667e-03\n",
      "x[2] = -3.33333e-03\n",
      "x[3] = 4.33681e-19\n",
      "x[4] = 3.33333e-03\n",
      "x[5] = 6.66667e-03\n",
      "x[6] = 1.00000e-02\n",
      "dxx0,dxx1,dxx2 = 1.66667e-03,1.66667e-03,1.66667e-03\n",
      "x[0] = -1.00000e-02\n",
      "x[1] = -8.33333e-03\n",
      "x[2] = -6.66667e-03\n",
      "x[3] = -5.00000e-03\n",
      "x[4] = -3.33333e-03\n",
      "x[5] = -1.66667e-03\n",
      "x[6] = 4.33681e-19\n",
      "x[7] = 1.66667e-03\n",
      "x[8] = 3.33333e-03\n",
      "x[9] = 5.00000e-03\n",
      "x[10] = 6.66667e-03\n",
      "x[11] = 8.33333e-03\n",
      "x[12] = 1.00000e-02\n",
      "dxx0,dxx1,dxx2 = 8.33333e-04,8.33333e-04,8.33333e-04\n",
      "x[0] = -1.00000e-02\n",
      "x[1] = -9.16667e-03\n",
      "x[2] = -8.33333e-03\n",
      "x[3] = -7.50000e-03\n",
      "x[4] = -6.66667e-03\n",
      "x[5] = -5.83333e-03\n",
      "x[6] = -5.00000e-03\n",
      "x[7] = -4.16667e-03\n",
      "x[8] = -3.33333e-03\n",
      "x[9] = -2.50000e-03\n",
      "x[10] = -1.66667e-03\n",
      "x[11] = -8.33333e-04\n",
      "x[12] = 4.33681e-19\n",
      "x[13] = 8.33333e-04\n",
      "x[14] = 1.66667e-03\n",
      "x[15] = 2.50000e-03\n",
      "x[16] = 3.33333e-03\n",
      "x[17] = 4.16667e-03\n",
      "x[18] = 5.00000e-03\n",
      "x[19] = 5.83333e-03\n",
      "x[20] = 6.66667e-03\n",
      "x[21] = 7.50000e-03\n",
      "x[22] = 8.33333e-03\n",
      "x[23] = 9.16667e-03\n",
      "x[24] = 1.00000e-02\n",
      "Finished in 0.4406452178955078 seconds.\n",
      "\n",
      "\n"
     ]
    }
   ],
   "source": [
    "import time\n",
    "\n",
    "print(\"Now compiling, should take ~2 seconds...\\n\")\n",
    "start = time.time()\n",
    "cmd.C_compile(os.path.join(out_dir,\"Induction_Equation_unit_test.c\"), os.path.join(out_dir,\"Induction_Equation_unit_test\"))\n",
    "end = time.time()\n",
    "print(\"Finished in \"+str(end-start)+\" seconds.\\n\\n\")\n",
    "\n",
    "print(\"Now running...\\n\")\n",
    "start = time.time()\n",
    "!./Validation/Induction_Equation_unit_test\n",
    "# To do a convergence test, we'll also need a second grid with twice the resolution.\n",
    "end = time.time()\n",
    "print(\"Finished in \"+str(end-start)+\" seconds.\\n\\n\")\n"
   ]
  },
  {
   "cell_type": "markdown",
   "metadata": {},
   "source": [
    "<a id='latex_pdf_output'></a>\n",
    "\n",
    "# Step 3: Output this notebook to $\\LaTeX$-formatted PDF file \\[Back to [top](#toc)\\]\n",
    "\n",
    "$$\\label{latex_pdf_output}$$\n",
    "\n",
    "The following code cell converts this Jupyter notebook into a proper, clickable $\\LaTeX$-formatted PDF file. After the cell is successfully run, the generated PDF may be found in the root NRPy+ tutorial directory, with filename\n",
    "[Tutorial-Start_to_Finish-GiRaFFE_NRPy-A2B.pdf](Tutorial-Start_to_Finish-GiRaFFE_NRPy-A2B.pdf) (Note that clicking on this link may not work; you may need to open the PDF file through another means.)"
   ]
  },
  {
   "cell_type": "code",
   "execution_count": 14,
   "metadata": {},
   "outputs": [
    {
     "name": "stdout",
     "output_type": "stream",
     "text": [
      "This is pdfTeX, Version 3.14159265-2.6-1.40.18 (TeX Live 2017/Debian) (preloaded format=pdflatex)\n",
      " restricted \\write18 enabled.\n",
      "entering extended mode\n",
      "This is pdfTeX, Version 3.14159265-2.6-1.40.18 (TeX Live 2017/Debian) (preloaded format=pdflatex)\n",
      " restricted \\write18 enabled.\n",
      "entering extended mode\n",
      "This is pdfTeX, Version 3.14159265-2.6-1.40.18 (TeX Live 2017/Debian) (preloaded format=pdflatex)\n",
      " restricted \\write18 enabled.\n",
      "entering extended mode\n"
     ]
    }
   ],
   "source": [
    "!jupyter nbconvert --to latex --template latex_nrpy_style.tplx --log-level='WARN' Tutorial-Start_to_Finish-GiRaFFE_NRPy-A2B.ipynb\n",
    "!pdflatex -interaction=batchmode Tutorial-Start_to_Finish-GiRaFFE_NRPy-A2B.tex\n",
    "!pdflatex -interaction=batchmode Tutorial-Start_to_Finish-GiRaFFE_NRPy-A2B.tex\n",
    "!pdflatex -interaction=batchmode Tutorial-Start_to_Finish-GiRaFFE_NRPy-A2B.tex\n",
    "!rm -f Tut*.out Tut*.aux Tut*.log"
   ]
  }
 ],
 "metadata": {
  "kernelspec": {
   "display_name": "Python 3",
   "language": "python",
   "name": "python3"
  },
  "language_info": {
   "codemirror_mode": {
    "name": "ipython",
    "version": 3
   },
   "file_extension": ".py",
   "mimetype": "text/x-python",
   "name": "python",
   "nbconvert_exporter": "python",
   "pygments_lexer": "ipython3",
   "version": "3.8.0"
  }
 },
 "nbformat": 4,
 "nbformat_minor": 2
}
