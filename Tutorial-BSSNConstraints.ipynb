{
 "cells": [
  {
   "cell_type": "markdown",
   "metadata": {},
   "source": [
    "# [BSSN](http://www2.yukawa.kyoto-u.ac.jp/~yuichiro.sekiguchi/3+1.pdf) Hamiltonian and momentum constraint equations, in ***curvilinear*** coordinates, using a covariant reference metric approach: C code generation\n",
    "\n",
    "## Python module containing the final expressions: [BSSN/BSSN_Constraints.py](../edit/BSSN/BSSN_Constraints.py)\n",
    "\n",
    "### ***Citations***: Generic curvilinear coordinate reference metric approach matches that of [Ruchlin, Etienne, and Baumgarte (2018)](https://arxiv.org/abs/1712.07658), which is an extension of the spherical coordinate reference metric approach of [Baumgarte, Montero, Cordero-Carrión, and Müller (2012)](https://arxiv.org/abs/1211.6632), which builds upon the covariant \"Lagrangian\" BSSN formalism of [Brown (2009)](https://arxiv.org/abs/0902.3652). *See also citations within each article.*"
   ]
  },
  {
   "cell_type": "markdown",
   "metadata": {},
   "source": [
    "Eqs. 13 and 14 of [Baumgarte *et al.*](https://arxiv.org/pdf/1211.6632.pdf):\n",
    "\\begin{align}\n",
    "H &= \\frac{2}{3} K^2 - \\bar{A}_{ij} \\bar{A}^{ij} + e^{-4\\phi} \\left(\\bar{R} - 8 \\bar{D}^i \\phi \\bar{D}_i \\phi - 8 \\bar{D}^2 \\phi\\right) \\\\\n",
    "\\mathcal{M}^i &= e^{-4\\phi} \\left(\\frac{1}{\\bar{\\gamma}} \\hat{D}_j\\left(\\sqrt{\\bar{\\gamma}}\\bar{A^{ij}}\\right) + 6 \\bar{A}^{ij}\\partial_j \\phi - \\frac{2}{3} \\bar{\\gamma}^{ij}\\partial_j K + \\bar{A}^{jk} \\Delta\\Gamma^i_{jk}\\right)\n",
    "\\end{align} "
   ]
  },
  {
   "cell_type": "code",
   "execution_count": 1,
   "metadata": {},
   "outputs": [],
   "source": [
    "import sympy as sp\n",
    "import NRPy_param_funcs as par\n",
    "import indexedexp as ixp\n",
    "import grid as gri\n",
    "\n",
    "import BSSN.BSSN_RHSs as bssnrhs\n",
    "bssnrhs.BSSN_RHSs()\n",
    "\n",
    "# Step 2: Set spatial dimension (must be 3 for BSSN)\n",
    "DIM = 3\n",
    "par.set_parval_from_str(\"grid::DIM\",DIM)\n",
    "\n",
    "bssnrhs.exp_m4phi\n",
    "\n",
    "RbarUU = ixp.zerorank2()\n",
    "\n",
    "Rbartrace = sp.sympify(0)\n",
    "for i in range(DIM):\n",
    "    for j in range(DIM):\n",
    "        Rbartrace += bssnrhs.gammabarUU[i][j]*bssnrhs.RbarDD[i][j]\n",
    "        \n",
    "        \n",
    "phi_dBar_times_phi_dBar = sp.sympify(0)\n",
    "phi_dBarDD_contraction = sp.sympify(0)\n",
    "for i in range(DIM):\n",
    "    for j in range(DIM):\n",
    "        phi_dBar_times_phi_dBar += bssnrhs.gammabarUU[i][j]*bssnrhs.phi_dBarD[i]*bssnrhs.phi_dBarD[j]\n",
    "        phi_dBarDD_contraction  += bssnrhs.gammabarUU[i][j]*bssnrhs.phi_dBarDD[i][j]\n",
    "        \n",
    "H = sp.sympify(0)\n",
    "\n"
   ]
  },
  {
   "cell_type": "code",
   "execution_count": null,
   "metadata": {},
   "outputs": [],
   "source": []
  }
 ],
 "metadata": {
  "kernelspec": {
   "display_name": "Python 3",
   "language": "python",
   "name": "python3"
  },
  "language_info": {
   "codemirror_mode": {
    "name": "ipython",
    "version": 3
   },
   "file_extension": ".py",
   "mimetype": "text/x-python",
   "name": "python",
   "nbconvert_exporter": "python",
   "pygments_lexer": "ipython3",
   "version": "3.6.6"
  }
 },
 "nbformat": 4,
 "nbformat_minor": 2
}
