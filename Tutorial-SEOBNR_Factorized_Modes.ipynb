{
 "cells": [
  {
   "cell_type": "markdown",
   "metadata": {},
   "source": [
    "# The Spinning Effective One-Body Factorized Modes\n",
    "\n",
    "### Author: Tyler Knowles\n",
    "\n",
    "## This module documents the reduced spinning effective one-body factorized modes as numerically implemented in LALSuite's SEOBNRv3 gravitational waveform approximant.  That is, we follow the appendix of of [Taracchini, et. al. (2012)](https://arxiv.org/abs/1202.0790).\n",
    "\n",
    "### Throughout this module, we will refer to\n",
    "* [Taracchini, et. al. (2012)](https://arxiv.org/abs/1202.0790) as T2012,\n",
    "* [Pan, et. al (2011)](https://arxiv.org/abs/1006.0431) as P2011, and\n",
    "* [Damour, et. al. (2009)](https://arxiv.org/abs/0811.2069v2) as D2009.\n",
    "\n",
    "<font color='green'>**This module has been validated against the LALSuite SEOBNRv3/SEOBNRv3_opt code that was reviewed and approved for LIGO parameter estimation by the LIGO Scientific Collaboration.**</font>"
   ]
  },
  {
   "cell_type": "markdown",
   "metadata": {},
   "source": [
    "<a id='toc'></a>\n",
    "\n",
    "# Table of Contents\n",
    "$$\\label{toc}$$\n",
    "\n",
    "This module is organized as follows, matching the \"steps\" listed in [BCD2006](https://arxiv.org/abs/gr-qc/0508067):\n",
    "\n",
    "0. [Introduction:](#intro) The Physical System of Interest\n",
    "1. [Step 1:](#step1) A Step of Importance"
   ]
  },
  {
   "cell_type": "markdown",
   "metadata": {},
   "source": [
    "<a id='intro'></a>\n",
    "\n",
    "# Introduction: The Physical System of Interest \\[Back to [top](#toc)\\]\n",
    "$$\\label{intro}$$\n",
    "\n",
    "Consider two compact objects (e.g. black holes or neutron stars) with masses $m_{1}$, $m_{2}$ (in solar masses) and spin angular momenta ${\\bf S}_{1}$, ${\\bf S}_{2}$ in a binary system.  The spinning effective one-body (\"SEOB\") Hamiltonian $H_{\\rm real}$ (see [BB2010](https://arxiv.org/abs/0912.3517) Equation (5.69)) describes the dynamics of this system.  We seek to computed the factorized modes for this system, as described in the appendix of [T2012](https://arxiv.org/abs/1202.0790).\n",
    "\n",
    "This routine takes as input\n",
    "1. the masses $m_{1}$, $m_{2}$,\n",
    "1. the symmetic mass ratio $\\eta$ and Kerr spin parameter $a$, and\n",
    "1. dimensionless spin parameters $\\chi_{A}$, $\\chi_{S}$."
   ]
  },
  {
   "cell_type": "markdown",
   "metadata": {},
   "source": [
    "<a id='step1'></a>\n",
    "\n",
    "# Step 1: A Step of Importance \\[Back to [top](#toc)\\]\n",
    "$$\\label{step1}$$\n",
    "\n",
    "We define the input variables."
   ]
  },
  {
   "cell_type": "code",
   "execution_count": 1,
   "metadata": {},
   "outputs": [],
   "source": [
    "import sympy as sp\n",
    "m1,m2,eta,a,chiA,chiS = sp.symbols(\"m1 m2 eta a chiA chiS\",real=True)"
   ]
  },
  {
   "cell_type": "markdown",
   "metadata": {},
   "source": [
    "<a id='deltam'></a>\n",
    "\n",
    "## $\\delta m$ \\[Back to [top](#toc)\\]\n",
    "$$\\label{deltam}$$\n",
    "\n",
    "From [T2012](https://arxiv.org/abs/1202.0790) Equation (A7a) and LALSimIMRSpinEOBFactorizedWaveformCoefficientsPrec.c Lines 75 and 84 we define\n",
    "\n",
    "\\begin{align*}\n",
    "    \\left( \\delta m \\right)^{2} &= 1 - 4 \\eta \\\\\n",
    "    \\delta m &= \\sqrt{ \\left( \\delta m \\right)^{2} }.\n",
    "\\end{align*}"
   ]
  },
  {
   "cell_type": "code",
   "execution_count": 2,
   "metadata": {},
   "outputs": [],
   "source": [
    "deltamsq = 1 - 4*eta\n",
    "deltam = sp.sqrt(deltamsq)"
   ]
  },
  {
   "cell_type": "markdown",
   "metadata": {},
   "source": [
    "<a id='delta22'></a>\n",
    "\n",
    "## $\\delta_{22}$ \\[Back to [top](#toc)\\]\n",
    "$$\\label{delta22}$$\n",
    "\n",
    "From [D2009](https://arxiv.org/abs/0811.2069v2) Equation (20) and [P2011](https://arxiv.org/abs/1006.0431) Equation (27a) with $\\nu = \\eta$ and $q = 0$ <font color='red'>(why?)</font>,\n",
    "\n",
    "\\begin{equation*}\n",
    "    \\delta_{22} = \\frac{ 7 }{ 3 } \\eta^{3} + \\frac{ 428 \\pi }{ 105 } \\eta^{6} + \\left( \\frac{ 1712 \\pi^{2} }{ 315 } - \\frac{ 2203 }{ 81 } \\right) \\eta^{9} - 24 \\eta.\n",
    "\\end{equation*}\n",
    "\n",
    "We will write each coefficient separately.  See LALSimIMRSpinEOBFactorizedWaveformCoefficientsPrec.c Lines 109--114.\n",
    "\n"
   ]
  },
  {
   "cell_type": "code",
   "execution_count": 3,
   "metadata": {},
   "outputs": [],
   "source": [
    "delta22v3 = 7./3.\n",
    "delta22v5 = 24*eta\n",
    "delta22v6 = 428.*sp.pi/105.\n",
    "delta22v9 = 1712*sp.pi*sp.pi/315. - 2203./81."
   ]
  },
  {
   "cell_type": "markdown",
   "metadata": {},
   "source": [
    "<a id='chi'></a>\n",
    "\n",
    "## $\\chi$ \\[Back to [top](#toc)\\]\n",
    "$$\\label{chi}$$\n",
    "\n",
    "<font color='red'>Need a paper reference for this term!</font>\n",
    "\n",
    "\\begin{equation*}\n",
    "    \\chi = \\chi_{\\rm S} + \\frac{ \\chi_{\\rm A} \\delta m }{ 1 - 2 \\eta }\n",
    "\\end{equation*}\n",
    "\n",
    "so that we can get another term for $\\delta_{22}$:\n",
    "\n",
    "\\begin{equation*}\n",
    "    \\eta \\left( \\frac{ 1 }{ 4 } \\left( 1 - 1080 \\chi - \\sqrt{\\left( 1 - 1080 \\chi \\right)^{2} + 8 \\left( 13.5 + 270 \\chi + 13.5 \\chi^{2} \\right)} \\right) \\right).\n",
    "\\end{equation*}\n",
    "\n",
    "We will write each coefficient separately.  See LALSimIMRSpinEOBFactorizedWaveformCoefficientsPrec.c Lines 109--114."
   ]
  },
  {
   "cell_type": "code",
   "execution_count": 4,
   "metadata": {},
   "outputs": [],
   "source": [
    "chi = chiS + (chiA*deltam)/(1 - 2*eta)\n",
    "delta22vh6 = eta*(1./4.*(1 - 1080*chi - sp.sqrt((1 - 1080*chi)**2 + 8*(13.5 + 270*chi + 13.5*chi**2))))"
   ]
  },
  {
   "cell_type": "markdown",
   "metadata": {},
   "source": [
    "<a id='rho22'></a>\n",
    "\n",
    "## $\\rho_{22}$ \\[Back to [top](#toc)\\]\n",
    "$$\\label{rho22}$$\n",
    "\n",
    "Combining [T2012](https://arxiv.org/abs/1202.0790) Equation (A8a) and [P2011](https://arxiv.org/abs/1006.0431) Equation (29a),\n",
    "\n",
    "\\begin{equation*}\n",
    "    \\rho_{22} = 1 + \\left( \\frac{ 55 \\eta }{ 84 } - \\frac{ 43 }{ 42 } \\right) v_{\\Omega}^{2} - \\frac{ 2 }{ 3 } \\left( \\chi_{\\rm S} \\left( 1 - \\eta \\right) + \\chi_{\\rm A} \\delta m \\right) v_{\\Omega}^{3} + \\left( \\frac{ 19583 \\eta^{2} }{ 42336 } - \\frac{ 33025 \\eta }{ 21168 } - \\frac{ 20555 }{ 10584 } + \\frac{ \\left( \\chi_{\\rm S} + \\chi_{\\rm A} \\delta m \\right) }{ 2 } \\right) v_{\\Omega}^{4} - \\frac{ 34 a }{ 21 } v_{\\Omega}^{5} + \\left( {\\rm confusion} \\right) v_{\\Omega}^{6}.\n",
    "\\end{equation*}\n",
    "\n",
    "<font color='red'>It seems there's not an exact overlap in equations (that we're not including all terms; it may be some are refined in the later paper).  It's also not clear to me what $v$ is.  There's an additional term on LALSimIMRSpinEOBFactorizedWaveformCoefficientsPrec.c Line 138 for which I need a source.  Determine if\n",
    "\n",
    "\\begin{align*}\n",
    "a &= \\chi_{\\rm S} \\left( 1 - \\eta \\right) + \\chi_{\\rm A} \\delta m \\\\\n",
    "\\left( \\chi_{\\rm S} \\left( 1 - \\eta \\right) + \\chi_{\\rm A} \\delta m \\right)^{2} &= \\left( \\chi_{\\rm S} + \\chi_{\\rm A} \\delta m \\right)^{2}\n",
    "\\end{align*}\n",
    "and how $a$ relates to these (they seem to be used interchangably?).</font>.\n",
    "\n",
    "We will write each coefficient separately."
   ]
  },
  {
   "cell_type": "code",
   "execution_count": 7,
   "metadata": {},
   "outputs": [],
   "source": [
    "rho22v2 = 55.*eta/84. - 43./42\n",
    "rho22v3 = 2.*(chiS*(1 - eta) + chiA*deltam)/3.\n",
    "rho22v4 = 19583*eta*eta/42336 - 33025*eta/21168 - 20555/10584\n",
    "rho22v5 = 34.*a/21\n",
    "rho22v6 = 1556919113./122245200. + (89.*a*a)/252. - (48993925.*eta)/9779616. - (6292061.\n",
    "                    *eta*eta)/3259872. + (10620745.*eta*eta*eta)/39118464. + (41.*eta*sp.pi*sp.pi)/192.\n",
    "rho22v6l = -428./105.\n",
    "rho22v7 = (18733.*a)/15876. + a*a*a/3.\n",
    "rho22v8 = -387216563023./160190110080. + (18353.*a*a)/21168. - a*a*a*a/8.\n",
    "rho22v8l = 9202./2205.\n",
    "rho22v10 = -16094530514677./533967033600.\n",
    "rho22v10l = 439877./55566."
   ]
  },
  {
   "cell_type": "markdown",
   "metadata": {},
   "source": [
    "<a id='rho21'></a>\n",
    "\n",
    "## $\\rho_{21}$ \\[Back to [top](#toc)\\]\n",
    "$$\\label{rho21}$$\n",
    "\n",
    "Combining [T2012](https://arxiv.org/abs/1202.0790) Equation (A8b) and [P2011](https://arxiv.org/abs/1006.0431) Equation (29b),\n",
    "\n",
    "\\begin{equation*}\n",
    "    \\rho_{21} = \\ldots\n",
    "\\end{equation*}\n",
    "\n",
    "<font color='red'>It seems there's not an exact overlap in equations (that we're not including all terms; it may be some are refined in the later paper).  It's also not clear to me what $v$ is.  There's an additional term on LALSimIMRSpinEOBFactorizedWaveformCoefficientsPrec.c Line 138 for which I need a source.  Determine if\n",
    "\n",
    "\\begin{align*}\n",
    "a &= \\chi_{\\rm S} \\left( 1 - \\eta \\right) + \\chi_{\\rm A} \\delta m \\\\\n",
    "\\left( \\chi_{\\rm S} \\left( 1 - \\eta \\right) + \\chi_{\\rm A} \\delta m \\right)^{2} &= \\left( \\chi_{\\rm S} + \\chi_{\\rm A} \\delta m \\right)^{2}\n",
    "\\end{align*}\n",
    "and how $a$ relates to these (they seem to be used interchangably?).</font>.\n",
    "\n",
    "We will write each coefficient separately."
   ]
  },
  {
   "cell_type": "code",
   "execution_count": null,
   "metadata": {},
   "outputs": [],
   "source": [
    "delta21vh3 = 2./3.\n",
    "delta21vh6 = (107.*sp.pi)/105.\n",
    "delta21vh9 = -272./81. + (214.*sp.pi*sp.pi)/315.\n",
    "delta21v5 = -493.*eta/42.\n",
    "delta21v7 = 0.0"
   ]
  }
 ],
 "metadata": {
  "kernelspec": {
   "display_name": "Python 2",
   "language": "python",
   "name": "python2"
  },
  "language_info": {
   "codemirror_mode": {
    "name": "ipython",
    "version": 2
   },
   "file_extension": ".py",
   "mimetype": "text/x-python",
   "name": "python",
   "nbconvert_exporter": "python",
   "pygments_lexer": "ipython2",
   "version": "2.7.13"
  }
 },
 "nbformat": 4,
 "nbformat_minor": 2
}
