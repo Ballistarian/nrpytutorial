{
 "cells": [
  {
   "cell_type": "markdown",
   "metadata": {},
   "source": [
    "# The Spinning Effective One-Body Factorized Modes\n",
    "\n",
    "### Author: Tyler Knowles\n",
    "\n",
    "## This module documents the reduced spinning effective one-body factorized modes as numerically implemented in LALSuite's SEOBNRv3 gravitational waveform approximant.  That is, we follow the appendix of of [Taracchini, et. al. (2012)](https://arxiv.org/abs/1202.0790).\n",
    "\n",
    "### Throughout this module, we will refer to\n",
    "* [Taracchini, et. al. (2012)](https://arxiv.org/abs/1202.0790) as T2012.\n",
    "\n",
    "<font color='green'>**This module has been validated against the LALSuite SEOBNRv3/SEOBNRv3_opt code that was reviewed and approved for LIGO parameter estimation by the LIGO Scientific Collaboration.**</font>"
   ]
  },
  {
   "cell_type": "markdown",
   "metadata": {},
   "source": [
    "<a id='toc'></a>\n",
    "\n",
    "# Table of Contents\n",
    "$$\\label{toc}$$\n",
    "\n",
    "This module is organized as follows, matching the \"steps\" listed in [BCD2006](https://arxiv.org/abs/gr-qc/0508067):\n",
    "\n",
    "0. [Introduction:](#intro) The Physical System of Interest\n",
    "1. [Step 1:](#step1) A Step of Importance"
   ]
  },
  {
   "cell_type": "markdown",
   "metadata": {},
   "source": [
    "<a id='intro'></a>\n",
    "\n",
    "# Introduction: The Physical System of Interest \\[Back to [top](#toc)\\]\n",
    "$$\\label{intro}$$\n",
    "\n",
    "Consider two compact objects (e.g. black holes or neutron stars) with masses $m_{1}$, $m_{2}$ (in solar masses) and spin angular momenta ${\\bf S}_{1}$, ${\\bf S}_{2}$ in a binary system.  The spinning effective one-body (\"SEOB\") Hamiltonian $H_{\\rm real}$ (see [BB2010](https://arxiv.org/abs/0912.3517) Equation (5.69)) describes the dynamics of this system.  We seek to computed the factorized modes for this system, as described in the appendix of [T2012](https://arxiv.org/abs/1202.0790).\n",
    "\n",
    "This routine takes as input\n",
    "1. the masses $m_{1}$, $m_{2}$,\n",
    "1. the symmetic mass ratio $\\eta$ and Kerr spin parameter $a$, and\n",
    "1. dimensionless spin parameters $\\chi_{A}$, $\\chi_{S}$."
   ]
  },
  {
   "cell_type": "markdown",
   "metadata": {},
   "source": [
    "<a id='step1'></a>\n",
    "\n",
    "# Step 1: A Step of Importance \\[Back to [top](#toc)\\]\n",
    "$$\\label{step1}$$\n",
    "\n",
    "We define the input variables."
   ]
  },
  {
   "cell_type": "code",
   "execution_count": 1,
   "metadata": {},
   "outputs": [],
   "source": [
    "import sympy as sp\n",
    "m1,m2,eta,a,chiA,chiS = sp.symbols(\"m1 m2 eta a chiA chiS\",real=True)"
   ]
  },
  {
   "cell_type": "markdown",
   "metadata": {},
   "source": [
    "<a id='deltam'></a>\n",
    "\n",
    "## $\\delta m$ \\[Back to [top](#toc)\\]\n",
    "$$\\label{deltam}$$\n",
    "\n",
    "From [T2012](https://arxiv.org/abs/1202.0790) Equation (A7a) and LALSimIMRSpinEOBFactorizedWaveformCoefficientsPrec.c Lines 75 and 84 we define\n",
    "\n",
    "\\begin{align*}\n",
    "    \\left( \\delta m \\right)^{2} &= 1 - 4 \\eta \\\\\n",
    "    \\delta m &= \\sqrt{ \\left( \\delta m \\right)^{2} }.\n",
    "\\end{align*}"
   ]
  },
  {
   "cell_type": "code",
   "execution_count": 2,
   "metadata": {},
   "outputs": [],
   "source": [
    "deltamsq = 1 - 4*eta"
   ]
  },
  {
   "cell_type": "code",
   "execution_count": null,
   "metadata": {},
   "outputs": [],
   "source": []
  }
 ],
 "metadata": {
  "kernelspec": {
   "display_name": "Python 2",
   "language": "python",
   "name": "python2"
  },
  "language_info": {
   "codemirror_mode": {
    "name": "ipython",
    "version": 2
   },
   "file_extension": ".py",
   "mimetype": "text/x-python",
   "name": "python",
   "nbconvert_exporter": "python",
   "pygments_lexer": "ipython2",
   "version": "2.7.13"
  }
 },
 "nbformat": 4,
 "nbformat_minor": 2
}
