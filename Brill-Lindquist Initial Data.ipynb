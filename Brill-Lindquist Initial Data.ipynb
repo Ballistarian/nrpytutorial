{
 "cells": [
  {
   "cell_type": "markdown",
   "metadata": {},
   "source": [
    "# Brill-Lindquist Initial Data\n",
    "\n",
    "### Brill-Lindquist initial data ([Brill & Lindquist, Phys. Rev. 131, 471, 1963](https://journals.aps.org/pr/abstract/10.1103/PhysRev.131.471); see also Eq. 1 of [Brandt & Brügmann, arXiv:gr-qc/9711015v1](https://arxiv.org/pdf/gr-qc/9711015v1.pdf)) may be written in terms of the BSSN conformal factor and ADM extrinsic curvature as\n",
    "\n",
    "$$\\psi = e^{\\phi} = 1 + \\sum_{i=1}^N \\frac{m_{(i)}}{2 \\left|\\vec{r}_{(i)} - \\vec{r}\\right|};\\quad K_{ij}=0.$$\n",
    "\n",
    "### These data consist of $N$ nonspinning black holes initially at rest. This module restricts to the case of two such black holes, positioned along either the $x$ or $z$ axis.\n",
    "\n",
    "### Singularities to avoid: The positions of the black hole centroids, $\\vec{r}_i$, in addition to any coordinate singularities.\n",
    "\n",
    "### This initial data module is written in ***Cartesian*** coordinates, in the Cartesian basis. Other coordinates/bases are supported with appropriate coordinate and basis transformations ***after the data are set up***.\n",
    "\n",
    "#### Inputs: \n",
    "* The position and (bare) mass of black hole 1: $\\left(x_{(1)},y_{(1)},z_{(1)}\\right)$ and $m_{(1)}$, respectively\n",
    "* The position and (bare) mass of black hole 2: $\\left(x_{(2)},y_{(2)},z_{(2)}\\right)$ and $m_{(2)}$, respectively\n",
    "\n",
    "#### Outputs: (in ***Cartesian*** coordinates, in the Cartesian basis)\n",
    "* The ADM physical 3-metric $\\gamma_{ij}$, which is related to the BSSN conformal metric via $\\gamma_{ij} = \\psi^4 \\bar{\\gamma}_{ij}$. For these initial data, the background metric is initially conformally flat, so $\\bar{\\gamma}_{ij}=\\hat{\\gamma}_{ij}$, where $\\hat{\\gamma}_{ij}$ is the flat-space metric. Since this module adopts Cartesian coordinates, $\\hat{\\gamma}_{ij}=\\delta_{ij}$, where $\\delta_{ij}$ is the [Kronecker delta](https://en.wikipedia.org/wiki/Kronecker_delta).\n",
    "* The ADM extrinsic curvature $K_{ij} = 0$\n",
    "\n",
    "#### Initial lapse and shift are set using the \"Initial Lapse and Shift\" module."
   ]
  },
  {
   "cell_type": "code",
   "execution_count": 1,
   "metadata": {},
   "outputs": [],
   "source": [
    "import sympy as sp\n",
    "import NRPy_param_funcs as par\n",
    "import indexedexp as ixp\n",
    "import grid as gri\n",
    "import finite_difference as fin"
   ]
  },
  {
   "cell_type": "code",
   "execution_count": 2,
   "metadata": {},
   "outputs": [],
   "source": [
    "thismodule = \"Brill-Lindquist\"\n",
    "par.initialize_param(par.glb_param(\"REAL\", thismodule, \"BH1_posn_x\", \"1\"))\n",
    "par.initialize_param(par.glb_param(\"REAL\", thismodule, \"BH1_posn_y\", \"0\"))\n",
    "par.initialize_param(par.glb_param(\"REAL\", thismodule, \"BH1_posn_z\", \"0\"))\n",
    "par.initialize_param(par.glb_param(\"REAL\", thismodule, \"BH1_mass\", \"1\"))\n",
    "\n",
    "par.initialize_param(par.glb_param(\"REAL\", thismodule, \"BH2_posn_x\", \"-1\"))\n",
    "par.initialize_param(par.glb_param(\"REAL\", thismodule, \"BH2_posn_y\", \"0\"))\n",
    "par.initialize_param(par.glb_param(\"REAL\", thismodule, \"BH2_posn_z\", \"0\"))\n",
    "par.initialize_param(par.glb_param(\"REAL\", thismodule, \"BH2_mass\", \"1\"))\n",
    "\n",
    "# Step 2b: Set spatial dimension (must be 3 for BSSN)\n",
    "DIM = 3\n",
    "par.set_parval_from_str(\"grid::DIM\",DIM)"
   ]
  },
  {
   "cell_type": "code",
   "execution_count": 3,
   "metadata": {},
   "outputs": [
    {
     "ename": "TypeError",
     "evalue": "unsupported operand type(s) for -: 'Symbol' and 'str'",
     "output_type": "error",
     "traceback": [
      "\u001b[0;31m---------------------------------------------------------------------------\u001b[0m",
      "\u001b[0;31mTypeError\u001b[0m                                 Traceback (most recent call last)",
      "\u001b[0;32m<ipython-input-3-f2e6202e81f1>\u001b[0m in \u001b[0;36m<module>\u001b[0;34m()\u001b[0m\n\u001b[1;32m     14\u001b[0m \u001b[0;34m\u001b[0m\u001b[0m\n\u001b[1;32m     15\u001b[0m \u001b[0mpsi\u001b[0m \u001b[0;34m=\u001b[0m \u001b[0msp\u001b[0m\u001b[0;34m.\u001b[0m\u001b[0msympify\u001b[0m\u001b[0;34m(\u001b[0m\u001b[0;36m1\u001b[0m\u001b[0;34m)\u001b[0m\u001b[0;34m\u001b[0m\u001b[0m\n\u001b[0;32m---> 16\u001b[0;31m \u001b[0mpsi\u001b[0m \u001b[0;34m+=\u001b[0m \u001b[0mm_1\u001b[0m \u001b[0;34m/\u001b[0m \u001b[0msp\u001b[0m\u001b[0;34m.\u001b[0m\u001b[0msqrt\u001b[0m\u001b[0;34m(\u001b[0m\u001b[0;34m(\u001b[0m\u001b[0mx\u001b[0m\u001b[0;34m-\u001b[0m\u001b[0mx_1\u001b[0m\u001b[0;34m[\u001b[0m\u001b[0;36m0\u001b[0m\u001b[0;34m]\u001b[0m\u001b[0;34m)\u001b[0m\u001b[0;34m**\u001b[0m\u001b[0;36m2\u001b[0m \u001b[0;34m+\u001b[0m \u001b[0;34m(\u001b[0m\u001b[0my\u001b[0m\u001b[0;34m-\u001b[0m\u001b[0mx_1\u001b[0m\u001b[0;34m[\u001b[0m\u001b[0;36m1\u001b[0m\u001b[0;34m]\u001b[0m\u001b[0;34m)\u001b[0m\u001b[0;34m**\u001b[0m\u001b[0;36m2\u001b[0m \u001b[0;34m+\u001b[0m \u001b[0;34m(\u001b[0m\u001b[0mz\u001b[0m\u001b[0;34m-\u001b[0m\u001b[0mx_1\u001b[0m\u001b[0;34m[\u001b[0m\u001b[0;36m2\u001b[0m\u001b[0;34m]\u001b[0m\u001b[0;34m)\u001b[0m\u001b[0;34m**\u001b[0m\u001b[0;36m2\u001b[0m\u001b[0;34m)\u001b[0m\u001b[0;34m\u001b[0m\u001b[0m\n\u001b[0m\u001b[1;32m     17\u001b[0m \u001b[0mpsi\u001b[0m \u001b[0;34m+=\u001b[0m \u001b[0mm_2\u001b[0m \u001b[0;34m/\u001b[0m \u001b[0msp\u001b[0m\u001b[0;34m.\u001b[0m\u001b[0msqrt\u001b[0m\u001b[0;34m(\u001b[0m\u001b[0;34m(\u001b[0m\u001b[0mx\u001b[0m\u001b[0;34m-\u001b[0m\u001b[0mx_2\u001b[0m\u001b[0;34m[\u001b[0m\u001b[0;36m0\u001b[0m\u001b[0;34m]\u001b[0m\u001b[0;34m)\u001b[0m\u001b[0;34m**\u001b[0m\u001b[0;36m2\u001b[0m \u001b[0;34m+\u001b[0m \u001b[0;34m(\u001b[0m\u001b[0my\u001b[0m\u001b[0;34m-\u001b[0m\u001b[0mx_2\u001b[0m\u001b[0;34m[\u001b[0m\u001b[0;36m1\u001b[0m\u001b[0;34m]\u001b[0m\u001b[0;34m)\u001b[0m\u001b[0;34m**\u001b[0m\u001b[0;36m2\u001b[0m \u001b[0;34m+\u001b[0m \u001b[0;34m(\u001b[0m\u001b[0mz\u001b[0m\u001b[0;34m-\u001b[0m\u001b[0mx_2\u001b[0m\u001b[0;34m[\u001b[0m\u001b[0;36m2\u001b[0m\u001b[0;34m]\u001b[0m\u001b[0;34m)\u001b[0m\u001b[0;34m**\u001b[0m\u001b[0;36m2\u001b[0m\u001b[0;34m)\u001b[0m\u001b[0;34m\u001b[0m\u001b[0m\n",
      "\u001b[0;31mTypeError\u001b[0m: unsupported operand type(s) for -: 'Symbol' and 'str'"
     ]
    }
   ],
   "source": [
    "x,y,z = par.Cparameters(\"REAL\",thismodule,[\"x\",\"y\",\"z\"])\n",
    "\n",
    "x_1 = ixp.zerorank1()\n",
    "x_1[0] = par.parval_from_str(\"Brill-Lindquist::BH1_posn_x\")\n",
    "x_1[1] = par.parval_from_str(\"Brill-Lindquist::BH1_posn_y\")\n",
    "x_1[2] = par.parval_from_str(\"Brill-Lindquist::BH1_posn_z\")\n",
    "m_1    = par.parval_from_str(\"Brill-Lindquist::BH1_mass\")\n",
    "\n",
    "x_2 = ixp.zerorank1()\n",
    "x_2[0] = par.parval_from_str(\"Brill-Lindquist::BH2_posn_x\")\n",
    "x_2[1] = par.parval_from_str(\"Brill-Lindquist::BH2_posn_y\")\n",
    "x_2[2] = par.parval_from_str(\"Brill-Lindquist::BH2_posn_z\")\n",
    "m_2    = par.parval_from_str(\"Brill-Lindquist::BH2_mass\")\n",
    "\n",
    "psi = sp.sympify(1)\n",
    "psi += m_1 / sp.sqrt((x-x_1[0])**2 + (y-x_1[1])**2 + (z-x_1[2])**2)\n",
    "psi += m_2 / sp.sqrt((x-x_2[0])**2 + (y-x_2[1])**2 + (z-x_2[2])**2)"
   ]
  }
 ],
 "metadata": {
  "kernelspec": {
   "display_name": "Python 3",
   "language": "python",
   "name": "python3"
  },
  "language_info": {
   "codemirror_mode": {
    "name": "ipython",
    "version": 3
   },
   "file_extension": ".py",
   "mimetype": "text/x-python",
   "name": "python",
   "nbconvert_exporter": "python",
   "pygments_lexer": "ipython3",
   "version": "3.4.3"
  }
 },
 "nbformat": 4,
 "nbformat_minor": 2
}
