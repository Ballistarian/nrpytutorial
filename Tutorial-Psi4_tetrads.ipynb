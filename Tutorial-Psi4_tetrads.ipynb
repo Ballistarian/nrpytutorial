{
 "cells": [
  {
   "cell_type": "markdown",
   "metadata": {},
   "source": [
    "# Tetrads for Evaluating $\\psi_4$\n",
    "\n",
    "### Authors: Patrick Nelson & Zach Etienne\n",
    "\n"
   ]
  },
  {
   "cell_type": "markdown",
   "metadata": {},
   "source": [
    "<a id='initializenrpy'></a>\n",
    "\n",
    "# Step 1: Initialize core NRPy+ modules \\[Back to [top](#toc)\\]\n",
    "$$\\label{initializenrpy}$$"
   ]
  },
  {
   "cell_type": "code",
   "execution_count": 1,
   "metadata": {},
   "outputs": [
    {
     "name": "stdout",
     "output_type": "stream",
     "text": [
      "initialize_param() minor warning: Did nothing; already initialized parameter reference_metric::M_PI\n",
      "initialize_param() minor warning: Did nothing; already initialized parameter reference_metric::RMAX\n"
     ]
    }
   ],
   "source": [
    "# Step 1.a: import all needed modules from NRPy+:\n",
    "import sympy as sp\n",
    "import NRPy_param_funcs as par\n",
    "import indexedexp as ixp\n",
    "import grid as gri\n",
    "import finite_difference as fin\n",
    "import reference_metric as rfm\n",
    "\n",
    "# Step 1.b: Set the coordinate system for the numerical grid\n",
    "par.set_parval_from_str(\"reference_metric::CoordSystem\",\"Spherical\")\n",
    "\n",
    "# Step 1.c: Given the chosen coordinate system, set up \n",
    "#           corresponding reference metric and needed\n",
    "#           reference metric quantities\n",
    "# The following function call sets up the reference metric\n",
    "#    and related quantities, including rescaling matrices ReDD,\n",
    "#    ReU, and hatted quantities.\n",
    "rfm.reference_metric()\n",
    "\n",
    "# Step 1.d: Set spatial dimension (must be 3 for BSSN, as BSSN is \n",
    "#           a 3+1-dimensional decomposition of the general \n",
    "#           relativistic field equations)\n",
    "DIM = 3\n",
    "\n",
    "# Step 1.e: Import all ADM quantities as written in terms of BSSN quantities\n",
    "import BSSN.ADM_in_terms_of_BSSN as AB\n",
    "AB.ADM_in_terms_of_BSSN()\n",
    "\n",
    "# Step 1.f: Initialize TetradChoice parameter\n",
    "thismodule = __name__\n",
    "# Current option: QuasiKinnersley = choice made in Baker, Campanelli, and Lousto. PRD 65, 044001 (2002)\n",
    "par.initialize_param(par.glb_param(\"char\", thismodule, \"TetradChoice\", \"QuasiKinnersley\"))"
   ]
  },
  {
   "cell_type": "markdown",
   "metadata": {},
   "source": [
    "# Step 2: The quasi-Kinnersley tetrad\n",
    "\n",
    "To define the Weyl scalars, first a tetrad must be chosen. Below, for compatibility with the [WeylScal4 diagnostic module](https://bitbucket.org/einsteintoolkit/einsteinanalysis/src/master/WeylScal4/), we implement the quasi-Kinnersley tetrad of [Baker, Campanelli, Lousto (2001)](https://arxiv.org/pdf/gr-qc/0104063.pdf).\n",
    "\n",
    "We begin with the vectors given in eqs. 5.6 and 5.7 of the BCL paper, which are orthogonal to each other in flat spacetime; one is in the $\\phi$ direction, one is in $r$, and the third is the cross product of the first two:\n",
    "\\begin{align}\n",
    "    v_1^a &= [-y,x,0] \\\\\n",
    "    v_2^a &= [x,y,z] \\\\\n",
    "    v_3^a &= {\\rm det}(\\gamma)^{1/2} \\gamma^{ad} \\epsilon_{dbc} v_1^b v_2^c,\n",
    "\\end{align}\n",
    "\n",
    "To evaluate the above, we will need the Levi-Civita symbol $\\epsilon_{dbc}$, "
   ]
  },
  {
   "cell_type": "code",
   "execution_count": 2,
   "metadata": {},
   "outputs": [],
   "source": [
    "# Step 2.a: Declare the Cartesian x,y,z as input parameters\n",
    "#           and v_1^a, v_2^a, and v_3^a tetrads, \n",
    "#           as well as detgamma and gammaUU from \n",
    "#           BSSN.ADM_in_terms_of_BSSN\n",
    "x,y,z = par.Cparameters(\"REAL\",thismodule,[\"x\",\"y\",\"z\"])\n",
    "\n",
    "v1U = ixp.zerorank1()\n",
    "v2U = ixp.zerorank1()\n",
    "v3U = ixp.zerorank1()\n",
    "\n",
    "detgamma = AB.detgamma\n",
    "gammaUU  = AB.gammaUU\n",
    "\n",
    "# Step 2.b: Define the rank-3 version of the Levi-Civita symbol. Amongst\n",
    "#         other uses, this is needed for the construction of the approximate \n",
    "#         quasi-Kinnersley tetrad.\n",
    "def define_LeviCivitaSymbol_rank3(DIM=-1):\n",
    "    if DIM == -1:\n",
    "        DIM = par.parval_from_str(\"DIM\")\n",
    "\n",
    "    LeviCivitaSymbol = ixp.zerorank3()\n",
    "\n",
    "    for i in range(DIM):\n",
    "        for j in range(DIM):\n",
    "            for k in range(DIM):\n",
    "                # From https://codegolf.stackexchange.com/questions/160359/levi-civita-symbol :\n",
    "                LeviCivitaSymbol[i][j][k] = (i - j) * (j - k) * (k - i) / 2\n",
    "    return LeviCivitaSymbol\n",
    "\n",
    "# Step 2.c: define v1U and v2U\n",
    "v1U = [-y,x,sp.sympify(0)]\n",
    "v2U = [x,y,z]\n",
    "\n",
    "# Step 2.d: define v3U\n",
    "LeviCivitaSymbolDDD = define_LeviCivitaSymbol_rank3(DIM=3)\n",
    "for a in range(DIM):\n",
    "    for b in range(DIM):\n",
    "        for c in range(DIM):\n",
    "            for d in range(DIM):\n",
    "                v3U[a] += sp.sqrt(detgamma)*gammaUU[a][d]*LeviCivitaSymbolDDD[d][b][c]*v1U[b]*v2U[c]"
   ]
  },
  {
   "cell_type": "markdown",
   "metadata": {},
   "source": [
    "As our next step, we carry out the Gram-Schmidt orthonormalization process. The vectors $v_i^a$ are placeholders in the code; the final product of the orthonormalization is the vectors $e_i^a$. So,\n",
    "\\begin{align}\n",
    "e_1^a &= \\frac{v_1^a}{\\omega_{11}} \\\\\n",
    "e_2^a &= \\frac{v_2^a - \\omega_{12} e_1^a}{\\omega_{22}} \\\\\n",
    "e_3^a &= \\frac{v_3^a - \\omega_{13} e_1^a - \\omega_{23} e_2^a}{\\omega_{33}}, \\\\\n",
    "\\end{align}\n",
    "where $\\omega_{ij} = v_i^a v_j^b \\gamma_{ab}$:"
   ]
  },
  {
   "cell_type": "code",
   "execution_count": 3,
   "metadata": {},
   "outputs": [],
   "source": [
    "# Step 2.e: Define omega_{ij}\n",
    "omegaDD = ixp.zerorank2()\n",
    "gammaDD = AB.gammaDD\n",
    "def v_vectorDU(v1U,v2U,v3U,  i,a):\n",
    "    if i==0:\n",
    "        return v1U[a]\n",
    "    elif i==1:\n",
    "        return v2U[a]\n",
    "    elif i==2:\n",
    "        return v3U[a]\n",
    "    else:\n",
    "        print(\"ERROR: unknown vector!\")\n",
    "        exit(1)\n",
    "        \n",
    "for i in range(DIM):\n",
    "    for j in range(DIM):\n",
    "        for a in range(DIM):\n",
    "            for b in range(DIM):\n",
    "                omegaDD[i][j] += v_vectorDU(v1U,v2U,v3U, i,a)*v_vectorDU(v1U,v2U,v3U, j,b)*gammaDD[a][b]\n",
    "\n",
    "# Step 2.f: Define e^a_i. Note that:\n",
    "#           omegaDD[0][0] = \\omega_{11} above; \n",
    "#           omegaDD[1][1] = \\omega_{22} above, etc.\n",
    "e1U = ixp.zerorank1()\n",
    "e2U = ixp.zerorank1()\n",
    "e3U = ixp.zerorank1()\n",
    "for a in range(DIM):\n",
    "    e1U[a] = v1U[a]/omegaDD[0][0]\n",
    "    e2U[a] = (v2U[a] - omegaDD[0][1]*e1U[a])/omegaDD[1][1]\n",
    "    e3U[a] = (v3U[a] - omegaDD[0][2]*e1U[a] - omegaDD[1][2]*e2U[a])/omegaDD[2][2]"
   ]
  },
  {
   "cell_type": "markdown",
   "metadata": {},
   "source": [
    "Once we have orthogonal, normalized vectors, we can construct the tetrad itself, again drawing on eqs. 5.6. We can draw on SymPy's built-in tools for complex numbers to build the complex vector $m^a$:\n",
    "\\begin{align}\n",
    "    l^a &= \\frac{1}{\\sqrt{2}} e_2^a \\\\\n",
    "    n^a &= -\\frac{1}{\\sqrt{2}} e_2^a \\\\\n",
    "    m^a &= \\frac{1}{\\sqrt{2}} (e_3^a + i e_1^a) \\\\\n",
    "    \\implies \\Re(m^a) &= \\frac{1}{\\sqrt{2}} e_3^a \\\\\n",
    "             \\Im(m^a) &= \\frac{1}{\\sqrt{2}} e_1^a\n",
    "\\end{align}\n",
    "\n",
    "We will also assume that $n^0 = l^0 = \\frac{1}{\\sqrt{2}}$ and that $m^0 = 0$. This last assumption in particular will significantly reduce the terms needed to find $\\psi_4$."
   ]
  },
  {
   "cell_type": "code",
   "execution_count": 4,
   "metadata": {},
   "outputs": [],
   "source": [
    "# Step 2.g: Construct l^a, n^a, and m^a\n",
    "isqrt2 = 1/sp.sqrt(2)\n",
    "l4U = ixp.zerorank1(DIM=4)\n",
    "n4U = ixp.zerorank1(DIM=4)\n",
    "mre4U  = ixp.zerorank1(DIM=4)\n",
    "mim4U  = ixp.zerorank1(DIM=4)\n",
    "l4U[0] = isqrt2\n",
    "n4U[0] = isqrt2\n",
    "mre4U[0] = sp.sympify(0)\n",
    "mim4U[0] = sp.sympify(0)\n",
    "for a in range(DIM):\n",
    "    l4U[a+1] =  isqrt2 * e2U[a]\n",
    "    n4U[a+1] = -isqrt2 * e2U[a]\n",
    "    mre4U[a+1] =  isqrt2 * e3U[a]\n",
    "    mim4U[a+1] =  isqrt2 * e1U[a]"
   ]
  }
 ],
 "metadata": {
  "kernelspec": {
   "display_name": "Python 2",
   "language": "python",
   "name": "python2"
  },
  "language_info": {
   "codemirror_mode": {
    "name": "ipython",
    "version": 2
   },
   "file_extension": ".py",
   "mimetype": "text/x-python",
   "name": "python",
   "nbconvert_exporter": "python",
   "pygments_lexer": "ipython2",
   "version": "2.7.13"
  }
 },
 "nbformat": 4,
 "nbformat_minor": 2
}
