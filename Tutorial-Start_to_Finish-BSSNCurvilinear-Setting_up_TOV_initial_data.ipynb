{
 "cells": [
  {
   "cell_type": "markdown",
   "metadata": {},
   "source": [
    "# Start-to-Finish Example: Setting up Polytropic [TOV](https://en.wikipedia.org/wiki/Tolman%E2%80%93Oppenheimer%E2%80%93Volkoff_equation) Initial Data, in Curvilinear Coordinates\n",
    "\n",
    "## Authors: Zach Etienne & Phil Chang\n",
    "### Formatting improvements courtesy Brandon Clark\n",
    "\n",
    "## This module sets up initial data for a TOV star in *spherical, isotropic coordinates*, using the *Numerical* ADM Spherical to BSSN Curvilinear initial data module (numerical = BSSN $\\lambda^i$'s are computed using finite-difference derivatives instead of exact expressions).\n",
    "\n",
    "**Module Status:** <font color='green'><b> Validated </b></font>\n",
    "\n",
    "**Validation Notes:** This module has been validated to exhibit convergence to zero of the Hamiltonian constraint violation at the expected order to the exact solution (see [plots](#convergence) at bottom). Note that convergence at the surface of the star will be lower order due to the sharp drop to zero in $T^{\\mu\\nu}$.**</font>\n",
    "\n",
    "### NRPy+ Source Code for this module: \n",
    "* [TOV/TOV_Solver.py](../edit/TOV/TOV_Solver.py) [\\[**tutorial**\\]](Tutorial-ADM_Initial_Data-TOV.ipynb): Tolman-Oppenheimer-Volkoff (TOV) initial data; defines all ADM variables and nonzero $T^{\\mu\\nu}$ components in Spherical basis.\n",
    "* [BSSN/ADM_Numerical_Spherical_or_Cartesian_to_BSSNCurvilinear.py](../edit/BSSN/ADM_Numerical_Spherical_or_Cartesian_to_BSSNCurvilinear.py); [\\[**tutorial**\\]](Tutorial-ADM_Initial_Data-Converting_Numerical_ADM_Spherical_or_Cartesian_to_BSSNCurvilinear.ipynb): *Numerical* Spherical ADM$\\to$Curvilinear BSSN converter function\n",
    "* [BSSN/BSSN_constraints.py](../edit/BSSN/BSSN_constraints.py); [\\[**tutorial**\\]](Tutorial-BSSN_constraints.ipynb): Hamiltonian constraint in BSSN curvilinear basis/coordinates\n",
    "\n",
    "## Introduction:\n",
    "Here we use NRPy+ to generate initial data for a [simple polytrope TOV star](https://en.wikipedia.org/wiki/Tolman%E2%80%93Oppenheimer%E2%80%93Volkoff_equation).\n",
    "\n",
    "The entire algorithm is outlined below, with NRPy+-based components highlighted in <font color='green'>green</font>.\n",
    "\n",
    "1. Allocate memory for gridfunctions, including temporary storage for the RK4 time integration.\n",
    "1. <font color='green'>Set gridfunction values to initial data (**This module**).</font>\n",
    "1. Evolve the system forward in time using RK4 time integration. At each RK4 substep, do the following:\n",
    "    1. <font color='green'>Evaluate BSSN RHS expressions.</font>\n",
    "    1. Apply singular, curvilinear coordinate boundary conditions [*a la* the SENR/NRPy+ paper](https://arxiv.org/abs/1712.07658)\n",
    "    1. <font color='green'>Apply constraints on conformal 3-metric: $\\det{\\bar{\\gamma}_{ij}}=\\det{\\hat{\\gamma}_{ij}}$</font>\n",
    "1. At the end of each iteration in time, output the <font color='green'>Hamiltonian constraint violation</font>.\n",
    "1. Repeat above steps at two numerical resolutions to confirm convergence to zero."
   ]
  },
  {
   "cell_type": "markdown",
   "metadata": {},
   "source": [
    "<a id='toc'></a>\n",
    "\n",
    "# Table of Contents\n",
    "$$\\label{toc}$$\n",
    "\n",
    "This module is organized as follows\n",
    "\n",
    "1. [Step 1](#initializenrpy): Set core NRPy+ parameters for numerical grids and reference metric\n",
    "1. [Step 2](#adm_id_tov): Set up ADM initial data for polytropic TOV Star\n",
    "    1. [Step 2.a](#tov_interp): Interpolating the TOV data file as needed\n",
    "    1. [Step 2.b](#source): Compute source terms $S_{ij}$, $S_{i}$, $S$, and $\\rho$\n",
    "    1. [Step 2.c](#jacobian): Jacobian transformation on the ADM/BSSN source terms\n",
    "    1. [Step 2.d](#tensor): Rescale tensorial quantities\n",
    "1. [Step 3](#adm_id_spacetime): Convert ADM spacetime quantity initial data from Spherical to BSSN Curvilinear coordinates\n",
    "1. [Step 4](#validate): Validating that the TOV initial data satisfy the Hamiltonian constraint\n",
    "    1. [Step 4.a](#ham_const_output): Output the Hamiltonian Constraint\n",
    "    1. [Step 4.b](#apply_bcs): Apply singular, curvilinear coordinate boundary conditions\n",
    "    1. [Step 4.c](#enforce3metric): Enforce conformal 3-metric $\\det{\\bar{\\gamma}_{ij}}=\\det{\\hat{\\gamma}_{ij}}$ \n",
    "1. [Step 5](#mainc): `TOV_Playground.c`: The Main C Code\n",
    "1. [Step 6](#plot): Plotting the single-neutron-star initial data\n",
    "1. [Step 7](#convergence): Validation: Convergence of numerical errors (Hamiltonian constraint violation) to zero\n",
    "1. [Step 8](#latex_pdf_output): Output this module to $\\LaTeX$-formatted PDF file"
   ]
  },
  {
   "cell_type": "markdown",
   "metadata": {},
   "source": [
    "<a id='initalizenrpy'></a>\n",
    "\n",
    "# Step 1: Set core NRPy+ parameters for numerical grids and reference metric \\[Back to [top](#toc)\\]\n",
    "$$\\label{initializenrpy}$$\n"
   ]
  },
  {
   "cell_type": "code",
   "execution_count": 1,
   "metadata": {},
   "outputs": [
    {
     "name": "stdout",
     "output_type": "stream",
     "text": [
      "Wrote to file \"BSSN/xxCart.h\"\n"
     ]
    }
   ],
   "source": [
    "# First we import needed core NRPy+ modules\n",
    "from outputC import *\n",
    "import NRPy_param_funcs as par\n",
    "import grid as gri\n",
    "import loop as lp\n",
    "import indexedexp as ixp\n",
    "import finite_difference as fin\n",
    "import reference_metric as rfm\n",
    "\n",
    "thismodule = \"TOV_ID_setup\"\n",
    "\n",
    "# Set spatial dimension (must be 3 for BSSN)\n",
    "DIM = 3\n",
    "par.set_parval_from_str(\"grid::DIM\",DIM)\n",
    "\n",
    "# Then we set the coordinate system for the numerical grid\n",
    "par.set_parval_from_str(\"reference_metric::CoordSystem\",\"Spherical\")\n",
    "rfm.reference_metric() # Create ReU, ReDD needed for rescaling B-L initial data, generating BSSN RHSs, etc.\n",
    "\n",
    "import BSSN.BSSN_quantities as Bq\n",
    "par.set_parval_from_str(\"BSSN.BSSN_quantities::EvolvedConformalFactor_cf\",\"phi\")\n",
    "\n",
    "#################\n",
    "# Next output C headers related to the numerical grids we just set up:\n",
    "#################\n",
    "\n",
    "# First output the coordinate bounds xxmin[] and xxmax[]:\n",
    "with open(\"BSSN/xxminmax.h\", \"w\") as file:\n",
    "    file.write(\"const REAL xxmin[3] = {\"+str(rfm.xxmin[0])+\",\"+str(rfm.xxmin[1])+\",\"+str(rfm.xxmin[2])+\"};\\n\")\n",
    "    file.write(\"const REAL xxmax[3] = {\"+str(rfm.xxmax[0])+\",\"+str(rfm.xxmax[1])+\",\"+str(rfm.xxmax[2])+\"};\\n\")\n",
    "\n",
    "# Generic coordinate NRPy+ file output, Part 2: output the conversion from (x0,x1,x2) to Cartesian (x,y,z)\n",
    "outputC([rfm.xxCart[0],rfm.xxCart[1],rfm.xxCart[2]],[\"xCart[0]\",\"xCart[1]\",\"xCart[2]\"],\n",
    "        \"BSSN/xxCart.h\")\n",
    "\n",
    "# Register the Hamiltonian as a gridfunction, to be used later.\n",
    "H = gri.register_gridfunctions(\"AUX\",\"H\")"
   ]
  },
  {
   "cell_type": "markdown",
   "metadata": {},
   "source": [
    "<a id='adm_id_tov'></a>\n",
    "\n",
    "# Step 2: Set up ADM initial data for polytropic TOV Star \\[Back to [top](#toc)\\]\n",
    "$$\\label{adm_id_tov}$$\n",
    "\n",
    "As documented [in the TOV Initial Data NRPy+ Tutorial Module](Tutorial-TOV_Initial_Data.ipynb) ([older version here](Tutorial-GRMHD_UnitConversion.ipynb)), we will now set up TOV initial data, storing the densely-sampled result to file (***Courtesy Phil Chang***).\n",
    "\n",
    "The TOV solver uses an ODE integration routine provided by scipy, so we first make sure that scipy is installed:"
   ]
  },
  {
   "cell_type": "code",
   "execution_count": 2,
   "metadata": {
    "scrolled": true
   },
   "outputs": [
    {
     "name": "stdout",
     "output_type": "stream",
     "text": [
      "\u001b[33mDEPRECATION: A future version of pip will drop support for Python 2.7.\u001b[0m\r\n"
     ]
    }
   ],
   "source": [
    "!pip install scipy > /dev/null"
   ]
  },
  {
   "cell_type": "markdown",
   "metadata": {},
   "source": [
    "Next we call the [`TOV.TOV_Solver()` function](../edit/TOV/TOV_Solver.py) ([NRPy+ Tutorial module](Tutorial-ADM_Initial_Data-TOV.ipynb)) to set up the initial data, using the default parameters for initial data. This function outputs the solution to a file named \"outputTOVpolytrope.txt\"."
   ]
  },
  {
   "cell_type": "code",
   "execution_count": 3,
   "metadata": {},
   "outputs": [
    {
     "name": "stdout",
     "output_type": "stream",
     "text": [
      "Just generated a TOV star with R_Schw = 0.956568142523 , M = 0.14050303285288188 , M/R_Schw = 0.1468824086931645 .\n"
     ]
    }
   ],
   "source": [
    "import TOV.TOV_Solver as TOV\n",
    "TOV.TOV_Solver()"
   ]
  },
  {
   "cell_type": "markdown",
   "metadata": {},
   "source": [
    "<a id='tov_interp'></a>\n",
    "\n",
    "## Step 2.a: Interpolating the TOV data file as needed \\[Back to [top](#toc)\\]\n",
    "$$\\label{tov_interp}$$\n",
    "\n",
    "The TOV data file just written stored $\\left(r,\\rho(r),P(r),M(r),e^{\\nu(r)}\\right)$, where $\\rho(r)$ is the total mass-energy density (cf. $\\rho_{\\text{baryonic}}$).\n",
    "\n",
    "**METRIC DATA IN TERMS OF ADM QUANTITIES**\n",
    "\n",
    "The [TOV line element](https://en.wikipedia.org/wiki/Tolman%E2%80%93Oppenheimer%E2%80%93Volkoff_equation) in *Schwarzschild coordinates* is written (in the $-+++$ form):\n",
    "$$\n",
    "ds^2 = - c^2 e^\\nu dt^2 + \\left(1 - \\frac{2GM}{rc^2}\\right)^{-1} dr^2 + r^2 d\\Omega^2.\n",
    "$$\n",
    "\n",
    "In *isotropic coordinates* with $G=c=1$ (i.e., the coordinate system and units we'd prefer to use), the ($-+++$ form) line element is written:\n",
    "$$\n",
    "ds^2 = - e^{\\nu} dt^2 + e^{4\\phi} \\left(d\\bar{r}^2 + \\bar{r}^2 d\\Omega^2\\right),\n",
    "$$\n",
    "where $\\phi$ here is the *conformal factor*.\n",
    "\n",
    "The ADM 3+1 line element for this diagonal metric in isotropic spherical coordinates is given by:\n",
    "$$\n",
    "ds^2 = (-\\alpha^2 + \\beta_k \\beta^k) dt^2 + \\gamma_{\\bar{r}\\bar{r}} d\\bar{r}^2 + \\gamma_{\\theta\\theta} d\\theta^2+ \\gamma_{\\phi\\phi} d\\phi^2,\n",
    "$$\n",
    "\n",
    "from which we can immediately read off the ADM quantities:\n",
    "\\begin{align}\n",
    "\\alpha &= e^{\\nu(\\bar{r})/2} \\\\\n",
    "\\beta^k &= 0 \\\\\n",
    "\\gamma_{\\bar{r}\\bar{r}} &= e^{4\\phi}\\\\\n",
    "\\gamma_{\\theta\\theta} &= e^{4\\phi} \\bar{r}^2 \\\\\n",
    "\\gamma_{\\phi\\phi} &= e^{4\\phi} \\bar{r}^2 \\sin^2 \\theta \\\\\n",
    "\\end{align}\n",
    "\n",
    "**STRESS-ENERGY TENSOR $T^{\\mu\\nu}$**\n",
    "\n",
    "We will also need the stress-energy tensor $T^{\\mu\\nu}$. [As discussed here](https://en.wikipedia.org/wiki/Tolman%E2%80%93Oppenheimer%E2%80%93Volkoff_equation), the stress-energy tensor is diagonal:\n",
    "\n",
    "\\begin{align}\n",
    "T^t_t &= -\\rho \\\\\n",
    "T^i_j &= P \\delta^i_j \\\\\n",
    "\\text{All other components of }T^\\mu_\\nu &= 0.\n",
    "\\end{align}\n",
    "\n",
    "Since $\\beta^i=0$ the inverse metric expression simplifies to (Eq. 4.49 in [Gourgoulhon](https://arxiv.org/pdf/gr-qc/0703035.pdf)):\n",
    "$$\n",
    "g^{\\mu\\nu} = \\begin{pmatrix} \n",
    "-\\frac{1}{\\alpha^2} & \\frac{\\beta^i}{\\alpha^2} \\\\\n",
    "\\frac{\\beta^i}{\\alpha^2} & \\gamma^{ij} - \\frac{\\beta^i\\beta^j}{\\alpha^2}\n",
    "\\end{pmatrix} =\n",
    "\\begin{pmatrix} \n",
    "-\\frac{1}{\\alpha^2} & 0 \\\\\n",
    "0 & \\gamma^{ij}\n",
    "\\end{pmatrix},\n",
    "$$\n",
    "\n",
    "and since the 3-metric is diagonal we get\n",
    "\n",
    "\\begin{align}\n",
    "\\gamma^{\\bar{r}\\bar{r}} &= e^{-4\\phi}\\\\\n",
    "\\gamma^{\\theta\\theta} &= e^{-4\\phi}\\frac{1}{\\bar{r}^2} \\\\\n",
    "\\gamma^{\\phi\\phi} &= e^{-4\\phi}\\frac{1}{\\bar{r}^2 \\sin^2 \\theta}.\n",
    "\\end{align}\n",
    "\n",
    "Thus raising $T^\\mu_\\nu$ yields a diagonal $T^{\\mu\\nu}$\n",
    "\n",
    "\\begin{align}\n",
    "T^{tt} &= -g^{tt} \\rho = \\frac{1}{\\alpha^2} \\rho = e^{-\\nu(\\bar{r})} \\rho \\\\\n",
    "T^{\\bar{r}\\bar{r}} &= g^{\\bar{r}\\bar{r}} P = \\frac{1}{e^{4 \\phi}} P \\\\\n",
    "T^{\\theta\\theta} &= g^{\\theta\\theta} P = \\frac{1}{e^{4 \\phi}\\bar{r}^2} P\\\\\n",
    "T^{\\phi\\phi} &= g^{\\phi\\phi} P = \\frac{1}{e^{4\\phi}\\bar{r}^2 \\sin^2 \\theta} P \n",
    "\\end{align}\n",
    "\n",
    "As all input quantities are functions of $r$, we will simply read the solution from file and interpolate it to the values of $r$ needed by the initial data.\n",
    "\n",
    "1. First we define functions `ID_TOV_ADM_quantities()` and `ID_TOV_TUPMUNU()` that call the [1D TOV interpolator function](../edit/TOV/tov_interp.h) to evaluate the ADM spacetime quantities and $T^{\\mu\\nu}$, respectively, at any given point $(r,\\theta,\\phi)$ in the Spherical basis. All quantities are defined as above.\n",
    "1. Next we will construct the BSSN/ADM source terms $\\{S_{ij},S_{i},S,\\rho\\}$ in the Spherical basis\n",
    "1. Then we will perform the Jacobian transformation on $\\{S_{ij},S_{i},S,\\rho\\}$ to the desired (xx0,xx1,xx2) basis\n",
    "1. Next we call the *Numerical* Spherical ADM$\\to$Curvilinear BSSN converter function to conver the above ADM quantities to the rescaled BSSN quantities in the desired curvilinear coordinate system: [BSSN/ADM_Numerical_Spherical_or_Cartesian_to_BSSNCurvilinear.py](../edit/BSSN/ADM_Numerical_Spherical_or_Cartesian_to_BSSNCurvilinear.py); [\\[**tutorial**\\]](Tutorial-ADM_Initial_Data-Converting_Numerical_ADM_Spherical_or_Cartesian_to_BSSNCurvilinear.ipynb).\n"
   ]
  },
  {
   "cell_type": "code",
   "execution_count": 4,
   "metadata": {},
   "outputs": [],
   "source": [
    "with open(\"BSSN/ID_TOV_ADM_quantities.h\", \"w\") as file:\n",
    "    file.write(\"\"\"\n",
    "// This function takes as input either (x,y,z) or (r,th,ph) and outputs\n",
    "//   all ADM quantities in the Cartesian or Spherical basis, respectively.\n",
    "void ID_TOV_ADM_quantities(\n",
    "                     const REAL xyz_or_rthph[3], \n",
    "                     \n",
    "                     const ID_inputs other_inputs,\n",
    "                     \n",
    "                     REAL *gammaDD00,REAL *gammaDD01,REAL *gammaDD02,REAL *gammaDD11,REAL *gammaDD12,REAL *gammaDD22,\n",
    "                     REAL *KDD00,REAL *KDD01,REAL *KDD02,REAL *KDD11,REAL *KDD12,REAL *KDD22,\n",
    "                     REAL *alpha,\n",
    "                     REAL *betaU0,REAL *betaU1,REAL *betaU2,\n",
    "                     REAL *BU0,REAL *BU1,REAL *BU2) {\n",
    "      const REAL r  = xyz_or_rthph[0];\n",
    "      const REAL th = xyz_or_rthph[1];\n",
    "      const REAL ph = xyz_or_rthph[2];\n",
    "\n",
    "      REAL rho,P,M,expnu,exp4phi;\n",
    "      TOV_interpolate_1D(r,other_inputs.Rbar,other_inputs.Rbar_idx,other_inputs.interp_stencil_size,  \n",
    "                         other_inputs.numlines_in_file,\n",
    "                         other_inputs.r_Schw_arr,other_inputs.rho_arr,other_inputs.P_arr,other_inputs.M_arr,\n",
    "                         other_inputs.expnu_arr,other_inputs.exp4phi_arr,other_inputs.rbar_arr,  \n",
    "                         &rho,&P,&M,&expnu,&exp4phi);\n",
    "    \n",
    "      *alpha = sqrt(expnu);\n",
    "      // \\gamma_{rbar rbar} = exp(4 phi)\n",
    "      *gammaDD00 = exp4phi;\n",
    "      // \\gamma_{thth} = r^2 * exp(4 phi)\n",
    "      *gammaDD11 = r*r * exp4phi;\n",
    "      // \\gamma_{phph} = r^2 sin^2(th) * exp(4 phi)\n",
    "      *gammaDD22 = r*r*sin(th)*sin(th) * exp4phi;\n",
    "      \n",
    "      // All other quantities ARE ZERO:\n",
    "      *gammaDD01 = 0.0;\n",
    "      *gammaDD02 = 0.0;\n",
    "      *gammaDD12 = 0.0;\n",
    "      \n",
    "      *KDD00 = 0.0;\n",
    "      *KDD01 = 0.0;\n",
    "      *KDD02 = 0.0;\n",
    "      *KDD11 = 0.0;\n",
    "      *KDD12 = 0.0;\n",
    "      *KDD22 = 0.0;\n",
    "      \n",
    "      *betaU0 = 0.0;\n",
    "      *betaU1 = 0.0;\n",
    "      *betaU2 = 0.0;\n",
    "      \n",
    "      *BU0 = 0.0;\n",
    "      *BU1 = 0.0;\n",
    "      *BU2 = 0.0;\n",
    "}\\n\"\"\")\n",
    "\n",
    "with open(\"BSSN/ID_TOV_TUPMUNU.h\", \"w\") as file:\n",
    "    file.write(\"\"\"\n",
    "// This function takes as input either (x,y,z) or (r,th,ph) and outputs\n",
    "//   all ADM quantities in the Cartesian or Spherical basis, respectively.\n",
    "void ID_TOV_TUPMUNU(const REAL xyz_or_rthph[3], const ID_inputs other_inputs,\n",
    "                    \n",
    "                    REAL *T4UU00,REAL *T4UU01,REAL *T4UU02,REAL *T4UU03,\n",
    "                    /**/         REAL *T4UU11,REAL *T4UU12,REAL *T4UU13,\n",
    "                    /**/                      REAL *T4UU22,REAL *T4UU23,\n",
    "                    /**/                                   REAL *T4UU33) {\n",
    "      const REAL r  = xyz_or_rthph[0];\n",
    "      const REAL th = xyz_or_rthph[1];\n",
    "      const REAL ph = xyz_or_rthph[2];\n",
    "\n",
    "      REAL rho,P,M,expnu,exp4phi;\n",
    "      TOV_interpolate_1D(r,other_inputs.Rbar,other_inputs.Rbar_idx,other_inputs.interp_stencil_size,  \n",
    "                         other_inputs.numlines_in_file,\n",
    "                         other_inputs.r_Schw_arr,other_inputs.rho_arr,other_inputs.P_arr,other_inputs.M_arr,\n",
    "                         other_inputs.expnu_arr,other_inputs.exp4phi_arr,other_inputs.rbar_arr,\n",
    "                         &rho,&P,&M,&expnu,&exp4phi);\n",
    "\n",
    "      //T^tt = e^(-nu) * rho\n",
    "      *T4UU00 = rho / expnu;\n",
    "      //T^rr = P / exp4phi\n",
    "      *T4UU11 = P / exp4phi;\n",
    "      //T^thth = P / (r^2 * exp4phi)\n",
    "      *T4UU22 = P / (r*r * exp4phi);\n",
    "      //T^phph = P / (r^2 * sin^2(th) * exp4phi)\n",
    "      *T4UU33 = P / (r*r * sin(th)*sin(th) * exp4phi);\n",
    "\n",
    "      // All other components ARE ZERO:\n",
    "      *T4UU01 = 0; *T4UU02 = 0; *T4UU03 = 0;\n",
    "      /**/         *T4UU12 = 0; *T4UU13 = 0;\n",
    "      /**/                      *T4UU23 = 0;\n",
    "}\\n\"\"\")"
   ]
  },
  {
   "cell_type": "markdown",
   "metadata": {},
   "source": [
    "<a id='source'></a>\n",
    "\n",
    "## Step 2.b: Compute source terms $S_{ij}$, $S_{i}$, $S$, and $\\rho$ \\[Back to [top](#toc)\\]\n",
    "$$\\label{source}$$\n",
    "\n",
    "Compute source terms $S_{ij}$, $S_{i}$, $S$, and $\\rho$, via Eqs. 10 of [Baumgarte, Montero, Cordero-Carrión, and Müller](https://arxiv.org/pdf/1211.6632.pdf):\n",
    "\n",
    "\\begin{array}\n",
    "\\ S_{ij} &= \\gamma_{i \\mu} \\gamma_{j \\nu} T^{\\mu \\nu} \\\\\n",
    "S_{i} &= -\\gamma_{i\\mu} n_\\nu T^{\\mu\\nu} \\\\\n",
    "S &= \\gamma^{ij} S_{ij} \\\\\n",
    "\\rho &= n_\\mu n_\\nu T^{\\mu\\nu},\n",
    "\\end{array}\n",
    "\n",
    "`ID_TOV_TUPMUNU()` provides numerical values for $T^{\\mu\\nu}$, but we do not have $\\gamma_{\\mu \\nu}$ or $n_\\mu$ directly. So here we will construct the latter quantities.\n",
    "\n",
    "First, B&S Eq. 2.27 defines $\\gamma_{\\mu \\nu}$ as:\n",
    "\n",
    "$$\\gamma_{\\mu\\nu} = g_{\\mu\\nu} + n_\\mu n_\\nu$$\n",
    "\n",
    "where \n",
    "\n",
    "$$\n",
    "n_\\mu = \\{-\\alpha,0,0,0\\}.\n",
    "$$\n",
    "\n",
    "So we will first need to construct the 4-metric based on ADM quantities. This is provided by Eq 4.47 in [Gourgoulhon](https://arxiv.org/pdf/gr-qc/0703035.pdf):\n",
    "$$\n",
    "g_{\\mu\\nu} = \\begin{pmatrix} \n",
    "-\\alpha^2 + \\beta^k \\beta_k & \\beta_i \\\\\n",
    "\\beta_j & \\gamma_{ij}\n",
    "\\end{pmatrix}.\n",
    "$$"
   ]
  },
  {
   "cell_type": "code",
   "execution_count": 5,
   "metadata": {},
   "outputs": [],
   "source": [
    "gammaDD = ixp.declarerank2(\"gammaDD\", \"sym01\",DIM=3)\n",
    "betaU   = ixp.declarerank1(\"betaU\",DIM=3)\n",
    "alpha   = sp.symbols(\"alpha\")\n",
    "\n",
    "# To get \\gamma_{\\mu \\nu} = gammabar4DD[mu][nu], we'll need to construct the 4-metric, using Eq. 2.122 in B&S:\n",
    "\n",
    "# Eq. 2.121 in B&S\n",
    "betaD = ixp.zerorank1()\n",
    "for i in range(DIM):\n",
    "    for j in range(DIM):\n",
    "        betaD[i] += gammaDD[i][j]*betaU[j]\n",
    "\n",
    "# Now compute the beta contraction.\n",
    "beta2 = sp.sympify(0)\n",
    "for i in range(DIM):\n",
    "    beta2 += betaU[i]*betaD[i]\n",
    "\n",
    "# Eq. 2.122 in B&S\n",
    "g4DD = ixp.zerorank2(DIM=4)\n",
    "g4DD[0][0] = -alpha**2 + beta2\n",
    "for i in range(DIM):\n",
    "    g4DD[i+1][0] = g4DD[0][i+1] = betaD[i]\n",
    "for i in range(DIM):\n",
    "    for j in range(DIM):\n",
    "        g4DD[i+1][j+1] = gammaDD[i][j]"
   ]
  },
  {
   "cell_type": "markdown",
   "metadata": {},
   "source": [
    "Now let's construct $\\gamma_{\\mu\\nu}$=`gamma4DD[mu][nu]` via $\\gamma_{\\mu\\nu} = g_{\\mu\\nu} + n_\\mu n_\\nu$:"
   ]
  },
  {
   "cell_type": "code",
   "execution_count": 6,
   "metadata": {},
   "outputs": [],
   "source": [
    "n4D = ixp.zerorank1(DIM=4)\n",
    "n4D[0] = -alpha\n",
    "\n",
    "gamma4DD = ixp.zerorank2(DIM=4)\n",
    "for mu in range(4):\n",
    "    for nu in range(4):\n",
    "        gamma4DD[mu][nu] = g4DD[mu][nu] + n4D[mu]*n4D[nu]"
   ]
  },
  {
   "cell_type": "markdown",
   "metadata": {},
   "source": [
    "We now have all we need to construct the BSSN source terms in the current basis (for TOV, the Spherical basis):\n",
    "\n",
    "\\begin{array}\n",
    "\\ S_{ij} &= \\gamma_{i \\mu} \\gamma_{j \\nu} T^{\\mu \\nu} \\\\\n",
    "S_{i} &= -\\gamma_{i\\mu} n_\\nu T^{\\mu\\nu} \\\\\n",
    "S &= \\gamma^{ij} S_{ij} \\\\\n",
    "\\rho &= n_\\mu n_\\nu T^{\\mu\\nu},\n",
    "\\end{array}"
   ]
  },
  {
   "cell_type": "code",
   "execution_count": 7,
   "metadata": {},
   "outputs": [],
   "source": [
    "T4UU = ixp.declarerank2(\"T4UU\", \"sym01\",DIM=4)\n",
    "\n",
    "SDD = ixp.zerorank2()\n",
    "SD  = ixp.zerorank1()\n",
    "S   = sp.sympify(0)\n",
    "rho = sp.sympify(0)\n",
    "\n",
    "for i in range(DIM):\n",
    "    for j in range(DIM):\n",
    "        for mu in range(4):\n",
    "            for nu in range(4):\n",
    "                SDD[i][j] += gamma4DD[i+1][mu]*gamma4DD[j+1][nu] * T4UU[mu][nu]\n",
    "\n",
    "for i in range(DIM):\n",
    "    for mu in range(4):\n",
    "        for nu in range(4):\n",
    "            SD[i] += -gamma4DD[i+1][mu]*n4D[nu] * T4UU[mu][nu]\n",
    "\n",
    "gammaUU, gammaDET = ixp.symm_matrix_inverter3x3(gammaDD)\n",
    "for i in range(DIM):\n",
    "    for j in range(DIM):\n",
    "        S += gammaUU[i][j]*SDD[i][j]\n",
    "\n",
    "for mu in range(4):\n",
    "    for nu in range(4):\n",
    "        rho += n4D[mu]*n4D[nu] * T4UU[mu][nu]"
   ]
  },
  {
   "cell_type": "markdown",
   "metadata": {},
   "source": [
    "<a id='jacobian'></a>\n",
    "\n",
    "## Step 2.c: Jacobian transformation on the ADM/BSSN source terms \\[Back to [top](#toc)\\]\n",
    "$$\\label{jacobian}$$\n",
    "\n",
    "\n",
    "The following discussion holds for either Spherical or Cartesian input data, so for simplicity let's just assume the data are given in Spherical coordinates.\n",
    "\n",
    "All ADM tensors and vectors are in the Spherical coordinate basis $x^i_{\\rm Sph} = (r,\\theta,\\phi)$, but we need them in the curvilinear coordinate basis $x^i_{\\rm rfm}=$`(xx0,xx1,xx2)` set by the `\"reference_metric::CoordSystem\"` variable. Empirically speaking, it is far easier to write `(x(xx0,xx1,xx2),y(xx0,xx1, xx2),z(xx0,xx1,xx2))` than the inverse, so we will compute the Jacobian matrix\n",
    "\n",
    "$$\n",
    "{\\rm Jac\\_dUSph\\_dDrfmUD[i][j]} = \\frac{\\partial x^i_{\\rm Sph}}{\\partial x^j_{\\rm rfm}},\n",
    "$$\n",
    "\n",
    "via exact differentiation (courtesy SymPy), and the inverse Jacobian\n",
    "$$\n",
    "{\\rm Jac\\_dUrfm\\_dDSphUD[i][j]} = \\frac{\\partial x^i_{\\rm rfm}}{\\partial x^j_{\\rm Sph}},\n",
    "$$\n",
    "\n",
    "using NRPy+'s `generic_matrix_inverter3x3()` function. In terms of these, the transformation of BSSN tensors from Spherical to `\"reference_metric::CoordSystem\"` coordinates may be written:\n",
    "\n",
    "\\begin{align}\n",
    "S^{\\rm rfm}_{ij} &= \n",
    "\\frac{\\partial x^\\ell_{\\rm Sph}}{\\partial x^i_{\\rm rfm}}\n",
    "\\frac{\\partial x^m_{\\rm Sph}}{\\partial x^j_{\\rm rfm}} S^{\\rm Sph}_{\\ell m}\\\\\n",
    "S^{\\rm rfm}_{i} &= \n",
    "\\frac{\\partial x^\\ell_{\\rm Sph}}{\\partial x^i_{\\rm rfm}}\n",
    "S^{\\rm Sph}_{\\ell}\n",
    "\\end{align}"
   ]
  },
  {
   "cell_type": "code",
   "execution_count": 8,
   "metadata": {},
   "outputs": [],
   "source": [
    "# UIUC Black Hole initial data are given in Spherical coordinates.\n",
    "CoordType_in = \"Spherical\"\n",
    "\n",
    "SSphorCartDD = ixp.zerorank2()\n",
    "SSphorCartD  = ixp.zerorank1()\n",
    "\n",
    "# Copy what we had written above, which was in Spherical coordinates, to the new tensors SSphorCartDD / SSphorCartD:\n",
    "for i in range(3):\n",
    "    SSphorCartD[i] = SD[i]\n",
    "    for j in range(3):\n",
    "        SSphorCartDD[i][j] = SDD[i][j]\n",
    "\n",
    "# Zero out the original tensors; we're going to store the result to SD and SDD:\n",
    "SDD = ixp.zerorank2()\n",
    "SD  = ixp.zerorank1()\n",
    "\n",
    "# Make sure that rfm.reference_metric() has been called.\n",
    "#    We'll need the variables it defines throughout this module.\n",
    "if rfm.have_already_called_reference_metric_function == False:\n",
    "    print(\"Error. Called Convert_Spherical_ADM_to_BSSN_curvilinear() without\")\n",
    "    print(\"       first setting up reference metric, by calling rfm.reference_metric().\")\n",
    "    exit(1)\n",
    "\n",
    "r_th_ph_or_Cart_xyz_oID_xx = []\n",
    "if CoordType_in == \"Spherical\":\n",
    "    r_th_ph_or_Cart_xyz_oID_xx = rfm.xxSph\n",
    "elif CoordType_in == \"Cartesian\":\n",
    "    r_th_ph_or_Cart_xyz_oID_xx = rfm.xxCart\n",
    "else:\n",
    "    print(\"Error: Can only convert ADM Cartesian or Spherical initial data to BSSN Curvilinear coords.\")\n",
    "    exit(1)\n",
    "\n",
    "# Next apply Jacobian transformations to convert into the (xx0,xx1,xx2) basis\n",
    "\n",
    "# rho and S are scalar, so no Jacobian transformations are necessary.\n",
    "\n",
    "Jac_dUSphorCart_dDrfmUD = ixp.zerorank2()\n",
    "for i in range(DIM):\n",
    "    for j in range(DIM):\n",
    "        Jac_dUSphorCart_dDrfmUD[i][j] = sp.diff(r_th_ph_or_Cart_xyz_oID_xx[i],rfm.xx[j])\n",
    "\n",
    "Jac_dUrfm_dDSphorCartUD, dummyDET = ixp.generic_matrix_inverter3x3(Jac_dUSphorCart_dDrfmUD)\n",
    "\n",
    "for i in range(DIM):\n",
    "    for j in range(DIM):\n",
    "        SD[i] += Jac_dUSphorCart_dDrfmUD[j][i] * SSphorCartD[j]\n",
    "        for k in range(DIM):\n",
    "            for l in range(DIM):\n",
    "                SDD[i][j] += Jac_dUSphorCart_dDrfmUD[k][i]*Jac_dUSphorCart_dDrfmUD[l][j] * SSphorCartDD[k][l]"
   ]
  },
  {
   "cell_type": "markdown",
   "metadata": {},
   "source": [
    "<a id='tensor'></a>\n",
    "\n",
    "## Step 2.d: Rescale tensorial quantities \\[Back to [top](#toc)\\]\n",
    "$$\\label{tensor}$$\n",
    "\n",
    "We rescale tensorial quantities according to the prescription described in the [BSSN in curvilinear coordinates tutorial module](Tutorial-BSSNCurvilinear.ipynb) (also [Ruchlin *et al.*](https://arxiv.org/pdf/1712.07658.pdf)):\n",
    "\n",
    "Since `ReD[i]}=1/ReU[i]`, we have\n",
    "\n",
    "\\begin{align}\n",
    "s_{ij} &= S_{ij} /\\text{ReDD[i][j]}\\\\\n",
    "s_{i} &= S_i \\text{ReU[i]}\n",
    "\\end{align}"
   ]
  },
  {
   "cell_type": "code",
   "execution_count": 9,
   "metadata": {},
   "outputs": [],
   "source": [
    "# Finally rescale the tensorial quantities:\n",
    "sD = ixp.zerorank1()\n",
    "sDD = ixp.zerorank2()\n",
    "for i in range(DIM):\n",
    "    sD[i] = SD[i] * rfm.ReU[i] # ReD[i] = 1/ReU[i]\n",
    "    for j in range(DIM):\n",
    "        sDD[i][j] = SDD[i][j] / rfm.ReDD[i][j]"
   ]
  },
  {
   "cell_type": "markdown",
   "metadata": {},
   "source": [
    "Next we use NRPy+ to write a C function that reads in $T^{\\mu\\nu}$ in the given (Spherical) basis and outputs the source terms $\\{S_{ij},S_{i},S,\\rho\\}$ in the `(xx0,xx1,xx2)` basis:"
   ]
  },
  {
   "cell_type": "code",
   "execution_count": 10,
   "metadata": {
    "scrolled": true
   },
   "outputs": [
    {
     "name": "stdout",
     "output_type": "stream",
     "text": [
      "Appended to file \"BSSN/ID_TOV_BSSN_Source_Terms.h\"\n"
     ]
    }
   ],
   "source": [
    "with open(\"BSSN/ID_TOV_BSSN_Source_Terms.h\", \"w\") as file:\n",
    "    file.write(\"\"\"void ID_TOV_BSSN_Source_Terms(\n",
    "                    REAL xx0xx1xx2[3], \n",
    "                    \n",
    "                    const REAL gammaDD00,const REAL gammaDD01,const REAL gammaDD02,\n",
    "                    /**/                 const REAL gammaDD11,const REAL gammaDD12,\n",
    "                    /**/                                      const REAL gammaDD22,\n",
    "                    \n",
    "                    const REAL betaU0,const REAL betaU1,const REAL betaU2,\n",
    "                    const REAL alpha,\n",
    "                    \n",
    "                    const REAL T4UU00,const REAL T4UU01,const REAL T4UU02,const REAL T4UU03,\n",
    "                    /**/              const REAL T4UU11,const REAL T4UU12,const REAL T4UU13,\n",
    "                    /**/                                const REAL T4UU22,const REAL T4UU23,\n",
    "                    /**/                                                  const REAL T4UU33,\n",
    "\n",
    "                    REAL *sDD00,REAL *sDD01,REAL *sDD02,\n",
    "                    /**/        REAL *sDD11,REAL *sDD12,\n",
    "                    /**/                    REAL *sDD22,\n",
    "                    \n",
    "                    REAL *sD0, REAL *sD1, REAL *sD2, \n",
    "                    \n",
    "                    REAL *S, REAL *rho) {\n",
    "                    \n",
    "    const REAL xx0 = xx0xx1xx2[0];\n",
    "    const REAL xx1 = xx0xx1xx2[1];\n",
    "    const REAL xx2 = xx0xx1xx2[2];\\n\"\"\")\n",
    "outCparams = \"preindent=1,outCfileaccess=a,outCverbose=False,includebraces=False\"\n",
    "\n",
    "outputC([sDD[0][0],sDD[0][1],sDD[0][2],sDD[1][1],sDD[1][2],sDD[2][2],\n",
    "         sD[0],sD[1],sD[2], S, rho], \n",
    "        [\"*sDD00\",\"*sDD01\",\"*sDD02\",\"*sDD11\",\"*sDD12\",\"*sDD22\",\n",
    "         \"*sD0\",\"*sD1\",\"*sD2\",\"*S\",\"*rho\"], \"BSSN/ID_TOV_BSSN_Source_Terms.h\",outCparams)\n",
    "\n",
    "with open(\"BSSN/ID_TOV_BSSN_Source_Terms.h\", \"a\") as file:\n",
    "    file.write(\"}\\n\")"
   ]
  },
  {
   "cell_type": "markdown",
   "metadata": {},
   "source": [
    "<a id='adm_id_spacetime'></a>\n",
    "\n",
    "# Step 3: Convert ADM spacetime quantity initial data from Spherical to BSSN Curvilinear coordinates \\[Back to [top](#toc)\\]\n",
    "$$\\label{adm_id_spacetime}$$\n",
    "\n",
    "We convert ADM spacetime quantity initial data from Spherical to BSSN Curvilinear coordinates [as documented in the corresponding tutorial module](Tutorial-ADM_Initial_Data-Converting_Numerical_ADM_Spherical_or_Cartesian_to_BSSNCurvilinear.ipynb)"
   ]
  },
  {
   "cell_type": "code",
   "execution_count": 11,
   "metadata": {},
   "outputs": [
    {
     "name": "stdout",
     "output_type": "stream",
     "text": [
      "Appended to file \"BSSN/ID_ADM_xx0xx1xx2_to_BSSN_xx0xx1xx2__ALL_BUT_LAMBDAs.h\"\n",
      "Appended to file \"BSSN/ID_ADM_xx0xx1xx2_to_BSSN_xx0xx1xx2__ALL_BUT_LAMBDAs.h\"\n"
     ]
    }
   ],
   "source": [
    "import BSSN.ADM_Numerical_Spherical_or_Cartesian_to_BSSNCurvilinear as AtoBnum\n",
    "AtoBnum.Convert_Spherical_or_Cartesian_ADM_to_BSSN_curvilinear(\"Spherical\",\"ID_TOV_ADM_quantities\")"
   ]
  },
  {
   "cell_type": "markdown",
   "metadata": {},
   "source": [
    "<a id='validate'></a>\n",
    "\n",
    "# Step 4: Validating that the TOV initial data satisfy the Hamiltonian constraint \\[Back to [top](#toc)\\]\n",
    "$$\\label{validate}$$\n",
    "\n",
    "We will validate that the TOV initial data satisfy the Hamiltonian constraint, modulo numerical finite differencing error"
   ]
  },
  {
   "cell_type": "markdown",
   "metadata": {},
   "source": [
    "<a id='ham_const_output'></a>\n",
    "\n",
    "## Step 4.a: Output the Hamiltonian constraint \\[Back to [top](#toc)\\]\n",
    "$$\\label{ham_const_output}$$\n",
    "\n",
    "First output the Hamiltonian constraint [as documented in the corresponding NRPy+ tutorial module](Tutorial-BSSN_constraints.ipynb)"
   ]
  },
  {
   "cell_type": "code",
   "execution_count": 12,
   "metadata": {},
   "outputs": [
    {
     "name": "stdout",
     "output_type": "stream",
     "text": [
      "initialize_param() minor warning: Did nothing; already initialized parameter reference_metric::M_PI\n",
      "initialize_param() minor warning: Did nothing; already initialized parameter reference_metric::M_SQRT1_2\n",
      "initialize_param() minor warning: Did nothing; already initialized parameter reference_metric::RMAX\n",
      "Generating optimized C code for Hamiltonian constraint. May take a while, depending on CoordSystem.\n",
      "Finished in 15.0513930321 seconds.\n",
      "Output C implementation of Hamiltonian constraint to BSSN/Hamiltonian.h\n"
     ]
    }
   ],
   "source": [
    "import BSSN.BSSN_constraints as bssncon\n",
    "bssncon.output_C__Hamiltonian_h(add_T4UUmunu_source_terms=True)"
   ]
  },
  {
   "cell_type": "markdown",
   "metadata": {},
   "source": [
    "<a id='apply_bcs'></a>\n",
    "\n",
    "## Step 4.b: Apply singular, curvilinear coordinate boundary conditions \\[Back to [top](#toc)\\]\n",
    "$$\\label{apply_bcs}$$\n",
    "\n",
    "Next apply singular, curvilinear coordinate boundary conditions [as documented in the corresponding NRPy+ tutorial module](Tutorial-Start_to_Finish-Curvilinear_BCs.ipynb)."
   ]
  },
  {
   "cell_type": "code",
   "execution_count": 13,
   "metadata": {
    "scrolled": true
   },
   "outputs": [
    {
     "name": "stdout",
     "output_type": "stream",
     "text": [
      "Wrote to file \"CurviBoundaryConditions/gridfunction_defines.h\"\n",
      "Wrote to file \"CurviBoundaryConditions/set_parity_conditions.h\"\n",
      "Wrote to file \"CurviBoundaryConditions/xxCart.h\"\n",
      "Wrote to file \"CurviBoundaryConditions/xxminmax.h\"\n",
      "Wrote to file \"CurviBoundaryConditions/Cart_to_xx.h\"\n"
     ]
    }
   ],
   "source": [
    "import CurviBoundaryConditions.CurviBoundaryConditions as cbcs\n",
    "cbcs.Set_up_CurviBoundaryConditions()"
   ]
  },
  {
   "cell_type": "markdown",
   "metadata": {},
   "source": [
    "<a id='enforce3metric'></a>\n",
    "\n",
    "## Step 4.c: Enforce conformal 3-metric $\\det{\\bar{\\gamma}_{ij}}=\\det{\\hat{\\gamma}_{ij}}$ constraint \\[Back to [top](#toc)\\]\n",
    "$$\\label{enforce3metric}$$\n",
    "\n",
    "Then enforce conformal 3-metric $\\det{\\bar{\\gamma}_{ij}}=\\det{\\hat{\\gamma}_{ij}}$ constraint (Eq. 53 of [Ruchlin, Etienne, and Baumgarte (2018)](https://arxiv.org/abs/1712.07658)), as [documented in the corresponding NRPy+ tutorial module](Tutorial-BSSN-Enforcing_Determinant_gammabar_equals_gammahat_Constraint.ipynb).\n",
    "\n",
    "Applying curvilinear boundary conditions should affect the initial data at the outer boundary, and will in general cause the $\\det{\\bar{\\gamma}_{ij}}=\\det{\\hat{\\gamma}_{ij}}$ constraint to be violated there. Thus after we apply these boundary conditions, we must always call the routine for enforcing the $\\det{\\bar{\\gamma}_{ij}}=\\det{\\hat{\\gamma}_{ij}}$ constraint:"
   ]
  },
  {
   "cell_type": "code",
   "execution_count": 14,
   "metadata": {},
   "outputs": [
    {
     "name": "stdout",
     "output_type": "stream",
     "text": [
      "initialize_param() minor warning: Did nothing; already initialized parameter reference_metric::M_PI\n",
      "initialize_param() minor warning: Did nothing; already initialized parameter reference_metric::M_SQRT1_2\n",
      "initialize_param() minor warning: Did nothing; already initialized parameter reference_metric::RMAX\n",
      "Output C implementation of det(gammabar) constraint to file BSSN/enforce_detgammabar_constraint.h\n"
     ]
    }
   ],
   "source": [
    "import BSSN.Enforce_Detgammabar_Constraint as EGC\n",
    "EGC.output_Enforce_Detgammabar_Constraint_Ccode()"
   ]
  },
  {
   "cell_type": "markdown",
   "metadata": {},
   "source": [
    "<a id='mainc'></a>\n",
    "\n",
    "# Step 5: `TOV_Playground.c`: The Main C Code \\[Back to [top](#toc)\\]\n",
    "$$\\label{mainc}$$\n"
   ]
  },
  {
   "cell_type": "code",
   "execution_count": 15,
   "metadata": {},
   "outputs": [],
   "source": [
    "# Part P0: Set the number of ghost cells, from NRPy+'s FD_CENTDERIVS_ORDER\n",
    "with open(\"BSSN/NGHOSTS.h\", \"w\") as file:\n",
    "    file.write(\"// Part P0: Set the number of ghost zones, from NRPy+'s FD_CENTDERIVS_ORDER\\n\")\n",
    "    # Upwinding in BSSN requires that NGHOSTS = FD_CENTDERIVS_ORDER/2 + 1 <- Notice the +1.\n",
    "    file.write(\"#define NGHOSTS \"+str(int(par.parval_from_str(\"finite_difference::FD_CENTDERIVS_ORDER\")/2)+1)+\"\\n\")"
   ]
  },
  {
   "cell_type": "code",
   "execution_count": 16,
   "metadata": {},
   "outputs": [
    {
     "name": "stdout",
     "output_type": "stream",
     "text": [
      "Overwriting BSSN/TOV_Playground.c\n"
     ]
    }
   ],
   "source": [
    "%%writefile BSSN/TOV_Playground.c\n",
    "\n",
    "// Part P1: Import needed header files\n",
    "#include \"NGHOSTS.h\" // A NRPy+-generated file, which is set based on FD_CENTDERIVS_ORDER.\n",
    "#include \"stdio.h\"\n",
    "#include \"stdlib.h\"\n",
    "#include \"math.h\"\n",
    "#include \"stdint.h\" // Needed for Windows GCC 6.x compatibility\n",
    "\n",
    "// Part P2: Add needed #define's to set data type, the IDX4() macro, and the gridfunctions\n",
    "// Part P2a: set REAL=double, so that all floating point numbers are stored to at least ~16 significant digits.\n",
    "#define REAL double\n",
    "\n",
    "// Step P3: Set free parameters for the numerical grid\n",
    "const REAL RMAX    = 3.0;\n",
    "\n",
    "typedef struct __ID_inputs {\n",
    "    REAL Rbar;\n",
    "    int Rbar_idx;\n",
    "    int interp_stencil_size;\n",
    "    int numlines_in_file;\n",
    "    REAL *r_Schw_arr,*rho_arr,*P_arr,*M_arr,*expnu_arr,*exp4phi_arr,*rbar_arr;\n",
    "} ID_inputs;\n",
    "\n",
    "// Part P4b: Declare the IDX4(gf,i,j,k) macro, which enables us to store 4-dimensions of\n",
    "//           data in a 1D array. In this case, consecutive values of \"i\" \n",
    "//           (all other indices held to a fixed value) are consecutive in memory, where \n",
    "//           consecutive values of \"j\" (fixing all other indices) are separated by \n",
    "//           Nxx_plus_2NGHOSTS[0] elements in memory. Similarly, consecutive values of\n",
    "//           \"k\" are separated by Nxx_plus_2NGHOSTS[0]*Nxx_plus_2NGHOSTS[1] in memory, etc.\n",
    "#define IDX4(g,i,j,k) \\\n",
    "( (i) + Nxx_plus_2NGHOSTS[0] * ( (j) + Nxx_plus_2NGHOSTS[1] * ( (k) + Nxx_plus_2NGHOSTS[2] * (g) ) ) )\n",
    "#define IDX3(i,j,k) ( (i) + Nxx_plus_2NGHOSTS[0] * ( (j) + Nxx_plus_2NGHOSTS[1] * (k) ) )\n",
    "// Assuming idx = IDX3(i,j,k). Much faster if idx can be reused over and over:\n",
    "#define IDX4pt(g,idx)   ( (idx) + (Nxx_plus_2NGHOSTS[0]*Nxx_plus_2NGHOSTS[1]*Nxx_plus_2NGHOSTS[2]) * (g) )\n",
    "\n",
    "// Part P4c: Set #define's for BSSN gridfunctions. C code generated above\n",
    "#include \"../CurviBoundaryConditions/gridfunction_defines.h\"\n",
    "\n",
    "#define LOOP_REGION(i0min,i0max, i1min,i1max, i2min,i2max) \\\n",
    "  for(int i2=i2min;i2<i2max;i2++) for(int i1=i1min;i1<i1max;i1++) for(int i0=i0min;i0<i0max;i0++)\n",
    "\n",
    "// Step P5: Function for converting uniform grid coord \n",
    "//         (xx[0][i0],xx[1][i1],xx[2][i2]) to \n",
    "//          corresponding Cartesian coordinate.\n",
    "void xxCart(REAL *xx[3],const int i0,const int i1,const int i2, REAL xCart[3]) {\n",
    "    REAL xx0 = xx[0][i0];\n",
    "    REAL xx1 = xx[1][i1];\n",
    "    REAL xx2 = xx[2][i2];\n",
    "#include \"xxCart.h\"\n",
    "}\n",
    "\n",
    "// Step P6: Include basic functions needed to impose curvilinear\n",
    "//          parity and boundary conditions.\n",
    "#include \"../CurviBoundaryConditions/curvilinear_parity_and_outer_boundary_conditions.h\"\n",
    "\n",
    "// Step P7: Function for enforcing the gammabar=gammahat constraint:\n",
    "#include \"enforce_detgammabar_constraint.h\"\n",
    "\n",
    "// Part P8: Declare all functions for setting up UIUC initial data.\n",
    "/* Routines to interpolate the TOV solution and convert to ADM & T^{munu}: */\n",
    "#include \"../TOV/tov_interp.h\"\n",
    "#include \"ID_TOV_ADM_quantities.h\"\n",
    "#include \"ID_TOV_TUPMUNU.h\"\n",
    "\n",
    "/* Next perform the basis conversion and compute all needed BSSN quantities */\n",
    "#include \"ID_TOV_BSSN_Source_Terms.h\"\n",
    "#include \"ID_ADM_xx0xx1xx2_to_BSSN_xx0xx1xx2__ALL_BUT_LAMBDAs.h\"\n",
    "#include \"ID_BSSN__ALL_BUT_LAMBDAs.h\"\n",
    "#include \"ID_BSSN_lambdas.h\"\n",
    "    \n",
    "// Part P9: Declare function for computing the Hamiltonian\n",
    "//           constraint violation, which should converge to\n",
    "//           zero with increasing numerical resolution.\n",
    "void Hamiltonian_constraint(const int Nxx[3],const int Nxx_plus_2NGHOSTS[3],const REAL dxx[3], REAL *xx[3], \n",
    "                            REAL *in_gfs, REAL *aux_gfs) {\n",
    "#include \"Hamiltonian.h\"    \n",
    "}\n",
    "\n",
    "// main() function:\n",
    "// Step 0: Read command-line input, set up grid structure, allocate memory for gridfunctions, set up coordinates\n",
    "// Step 1: Set up scalar wave initial data\n",
    "// Step 2: Evolve scalar wave initial data forward in time using Method of Lines with RK4 algorithm,\n",
    "//         applying quadratic extrapolation outer boundary conditions.\n",
    "// Step 3: Output relative error between numerical and exact solution.\n",
    "// Step 4: Free all allocated memory\n",
    "int main(int argc, const char *argv[]) {\n",
    "    // Step 0a: Read command-line input, error out if nonconformant\n",
    "    if(argc != 4 || atoi(argv[1]) < NGHOSTS) {\n",
    "        fprintf(stderr,\"Error: Expected three command-line arguments: ./TOV_Playground Nx0 Nx1 Nx2,\\n\");\n",
    "        fprintf(stderr,\"where Nx[0,1,2] is the number of grid points in the 0, 1, and 2 directions.\\n\");\n",
    "        fprintf(stderr,\"Nx[] MUST BE larger than NGHOSTS (= %d)\\n\",NGHOSTS);\n",
    "        exit(1);\n",
    "    }\n",
    "    // Step 0b: Set up numerical grid structure, first in space...\n",
    "    if(atoi(argv[1])%2 != 0 || atoi(argv[2])%2 != 0 || atoi(argv[2])%2 != 0) {\n",
    "        fprintf(stderr,\"Error: Cannot guarantee a proper cell-centered grid if number of grid cells not set to even number.\\n\");\n",
    "        fprintf(stderr,\"       For example, in case of angular directions, proper symmetry zones will not exist.\\n\");\n",
    "        exit(1);\n",
    "    }\n",
    "    const int Nxx[3] = { atoi(argv[1]), atoi(argv[2]), atoi(argv[3]) };\n",
    "    const int Nxx_plus_2NGHOSTS[3] = { Nxx[0]+2*NGHOSTS, Nxx[1]+2*NGHOSTS, Nxx[2]+2*NGHOSTS };\n",
    "    const int Nxx_plus_2NGHOSTS_tot = Nxx_plus_2NGHOSTS[0]*Nxx_plus_2NGHOSTS[1]*Nxx_plus_2NGHOSTS[2];\n",
    "#include \"xxminmax.h\"\n",
    "\n",
    "    /* TOV INPUT ROUTINE */\n",
    "    // Open the data file:\n",
    "    char filename[100];\n",
    "    sprintf(filename,\"./outputTOVpolytrope.txt\");\n",
    "    FILE *in1Dpolytrope = fopen(filename, \"r\");\n",
    "    if (in1Dpolytrope == NULL) {\n",
    "        fprintf(stderr,\"ERROR: could not open file %s\\n\",filename);\n",
    "        exit(1);\n",
    "    }\n",
    "    // Count the number of lines in the data file:\n",
    "    int numlines_in_file = count_num_lines_in_file(in1Dpolytrope);\n",
    "    // Allocate space for all data arrays:\n",
    "    REAL *r_Schw_arr  = (REAL *)malloc(sizeof(REAL)*numlines_in_file);\n",
    "    REAL *rho_arr     = (REAL *)malloc(sizeof(REAL)*numlines_in_file);\n",
    "    REAL *P_arr       = (REAL *)malloc(sizeof(REAL)*numlines_in_file);\n",
    "    REAL *M_arr       = (REAL *)malloc(sizeof(REAL)*numlines_in_file);\n",
    "    REAL *expnu_arr   = (REAL *)malloc(sizeof(REAL)*numlines_in_file);\n",
    "    REAL *exp4phi_arr = (REAL *)malloc(sizeof(REAL)*numlines_in_file);\n",
    "    REAL *rbar_arr    = (REAL *)malloc(sizeof(REAL)*numlines_in_file);\n",
    "\n",
    "    // Read from the data file, filling in arrays\n",
    "    if(read_datafile__set_arrays(in1Dpolytrope, r_Schw_arr,rho_arr,P_arr,M_arr,expnu_arr,exp4phi_arr,rbar_arr) == 1) {\n",
    "        fprintf(stderr,\"ERROR WHEN READING FILE %s!\\n\",filename);\n",
    "        exit(1);\n",
    "    }\n",
    "    fclose(in1Dpolytrope);\n",
    "    REAL Rbar = -100;\n",
    "    int Rbar_idx = -100;\n",
    "    for(int i=1;i<numlines_in_file;i++) {\n",
    "        if(rho_arr[i-1]>0 && rho_arr[i]==0) { Rbar = rbar_arr[i-1]; Rbar_idx = i-1; }\n",
    "    }\n",
    "    if(Rbar<0) {\n",
    "        fprintf(stderr,\"Error: could not find rbar=Rbar from data file.\\n\");\n",
    "        exit(1);\n",
    "    }\n",
    "    \n",
    "    ID_inputs TOV_in;\n",
    "    TOV_in.Rbar = Rbar;\n",
    "    TOV_in.Rbar_idx = Rbar_idx;\n",
    "    \n",
    "    const int interp_stencil_size = 12;\n",
    "    TOV_in.interp_stencil_size = interp_stencil_size;\n",
    "    TOV_in.numlines_in_file = numlines_in_file;\n",
    "    \n",
    "    TOV_in.r_Schw_arr = r_Schw_arr;\n",
    "    TOV_in.rho_arr = rho_arr;\n",
    "    TOV_in.P_arr = P_arr;\n",
    "    TOV_in.M_arr = M_arr;\n",
    "    TOV_in.expnu_arr = expnu_arr;\n",
    "    TOV_in.exp4phi_arr = exp4phi_arr;\n",
    "    TOV_in.rbar_arr = rbar_arr;\n",
    "    /* END TOV INPUT ROUTINE */\n",
    "\n",
    "    // Step 0c: Allocate memory for gridfunctions\n",
    "    REAL *evol_gfs = (REAL *)malloc(sizeof(REAL) * NUM_EVOL_GFS * Nxx_plus_2NGHOSTS_tot);\n",
    "    REAL *aux_gfs  = (REAL *)malloc(sizeof(REAL) * NUM_AUX_GFS * Nxx_plus_2NGHOSTS_tot);\n",
    "\n",
    "    // Step 0d: Set up space and time coordinates\n",
    "    // Step 0d.i: Set \\Delta x^i on uniform grids.\n",
    "    REAL dxx[3];\n",
    "    for(int i=0;i<3;i++) dxx[i] = (xxmax[i] - xxmin[i]) / ((REAL)Nxx[i]);\n",
    "\n",
    "    // Step 0d.ii: Set up uniform coordinate grids\n",
    "    REAL *xx[3];\n",
    "    for(int i=0;i<3;i++) {\n",
    "        xx[i] = (REAL *)malloc(sizeof(REAL)*Nxx_plus_2NGHOSTS[i]);\n",
    "        for(int j=0;j<Nxx_plus_2NGHOSTS[i];j++) {\n",
    "            xx[i][j] = xxmin[i] + ((REAL)(j-NGHOSTS) + (1.0/2.0))*dxx[i]; // Cell-centered grid.\n",
    "        }\n",
    "    }\n",
    "\n",
    "    // Step 0e: Find ghostzone mappings and parities:\n",
    "    gz_map *bc_gz_map = (gz_map *)malloc(sizeof(gz_map)*Nxx_plus_2NGHOSTS_tot);\n",
    "    parity_condition *bc_parity_conditions = (parity_condition *)malloc(sizeof(parity_condition)*Nxx_plus_2NGHOSTS_tot);\n",
    "    set_up_bc_gz_map_and_parity_conditions(Nxx_plus_2NGHOSTS,xx,dxx,xxmin,xxmax,  bc_gz_map, bc_parity_conditions);\n",
    "\n",
    "    // Step 1: Set up initial data to an exact solution at time=0:\n",
    "    ID_BSSN__ALL_BUT_LAMBDAs(Nxx_plus_2NGHOSTS,xx,TOV_in, evol_gfs);\n",
    "    apply_bcs(Nxx, Nxx_plus_2NGHOSTS, bc_gz_map,bc_parity_conditions,NUM_EVOL_GFS,evol_gf_parity, evol_gfs);\n",
    "    enforce_detgammabar_constraint(Nxx_plus_2NGHOSTS, xx, evol_gfs);\n",
    "    ID_BSSN_lambdas(Nxx, Nxx_plus_2NGHOSTS, xx,dxx, evol_gfs);\n",
    "    apply_bcs(Nxx, Nxx_plus_2NGHOSTS, bc_gz_map,bc_parity_conditions,NUM_EVOL_GFS,evol_gf_parity, evol_gfs);\n",
    "    enforce_detgammabar_constraint(Nxx_plus_2NGHOSTS, xx, evol_gfs);\n",
    "{\n",
    "    #pragma omp parallel for\n",
    "    for(int i2=0; i2<Nxx_plus_2NGHOSTS[2]; i2++) {\n",
    "        const REAL xx2 = xx[2][i2];\n",
    "        for(int i1=0; i1<Nxx_plus_2NGHOSTS[1]; i1++) {\n",
    "            const REAL xx1 = xx[1][i1];\n",
    "            for(int i0=0; i0<Nxx_plus_2NGHOSTS[0]; i0++) {\n",
    "                const REAL xx0 = xx[0][i0];\n",
    "                REAL xx0xx1xx2[3] = {xx0,xx1,xx2};\n",
    "                REAL gammaDD00,gammaDD01,gammaDD02,gammaDD11,gammaDD12,gammaDD22;\n",
    "                REAL KDD00,KDD01,KDD02,KDD11,KDD12,KDD22;\n",
    "                REAL alpha,betaU0,betaU1,betaU2;\n",
    "                REAL BU0,BU1,BU2;\n",
    "                REAL xyz_or_rthph[3] =  {xx0,xx1,xx2}; //FIXME\n",
    "                \n",
    "                // FIRST INTERPOLATE TO SET THE ADM AND TMUNU QUANTITIES\n",
    "                ID_TOV_ADM_quantities(xyz_or_rthph, TOV_in,\n",
    "\n",
    "                    &gammaDD00,&gammaDD01,&gammaDD02,&gammaDD11,&gammaDD12,&gammaDD22,\n",
    "                    &KDD00,&KDD01,&KDD02,&KDD11,&KDD12,&KDD22,\n",
    "                    &alpha,  &betaU0,&betaU1,&betaU2,  &BU0,&BU1,&BU2);\n",
    "\n",
    "                REAL T4UU00,T4UU01,T4UU02,T4UU03,\n",
    "                /**/        T4UU11,T4UU12,T4UU13,\n",
    "                /**/               T4UU22,T4UU23,\n",
    "                /**/                      T4UU33;\n",
    "\n",
    "                \n",
    "                ID_TOV_TUPMUNU(xyz_or_rthph, TOV_in,\n",
    "                    \n",
    "                    &T4UU00,&T4UU01,&T4UU02,&T4UU03,\n",
    "                    /**/    &T4UU11,&T4UU12,&T4UU13,\n",
    "                    /**/            &T4UU22,&T4UU23,\n",
    "                    /**/                    &T4UU33);\n",
    "                \n",
    "                const int idx = IDX3(i0,i1,i2);\n",
    "                // THEN EVALUATE THE BSSN SOURCE TERMS\n",
    "                ID_TOV_BSSN_Source_Terms(xx0xx1xx2, \n",
    "                                         gammaDD00, gammaDD01, gammaDD02,\n",
    "                    /**/                            gammaDD11, gammaDD12,\n",
    "                    /**/                                       gammaDD22,\n",
    "                    \n",
    "                    betaU0,betaU1,betaU2, alpha,\n",
    "                    \n",
    "                    T4UU00, T4UU01, T4UU02, T4UU03,\n",
    "                    /**/    T4UU11, T4UU12, T4UU13,\n",
    "                    /**/            T4UU22, T4UU23,\n",
    "                    /**/                    T4UU33,\n",
    "\n",
    "                    &aux_gfs[IDX4pt(SDD00GF,idx)], &aux_gfs[IDX4pt(SDD01GF,idx)], &aux_gfs[IDX4pt(SDD02GF,idx)],\n",
    "                    /**/                           &aux_gfs[IDX4pt(SDD11GF,idx)], &aux_gfs[IDX4pt(SDD12GF,idx)],\n",
    "                    /**/                                                          &aux_gfs[IDX4pt(SDD22GF,idx)],\n",
    "                    \n",
    "                    &aux_gfs[IDX4pt(SD0GF,idx)], &aux_gfs[IDX4pt(SD1GF,idx)], &aux_gfs[IDX4pt(SD2GF,idx)],\n",
    "                    \n",
    "                    &aux_gfs[IDX4pt(SGF,idx)], &aux_gfs[IDX4pt(RHOGF,idx)]);\n",
    "                //aux_gfs[IDX4pt(SGF,idx)] = T4UU11*gammaDD00;\n",
    "            }\n",
    "        }\n",
    "    }\n",
    "}\n",
    "\n",
    "    // Step 1b: Apply boundary conditions, as initial data \n",
    "    //          are sometimes ill-defined in ghost zones.\n",
    "    //          E.g., spherical initial data might not be\n",
    "    //          properly defined at points where r=-1.\n",
    "//    apply_bcs(Nxx, Nxx_plus_2NGHOSTS, bc_gz_map,bc_parity_conditions,NUM_EVOL_GFS,evol_gf_parity, evol_gfs);\n",
    "//    enforce_detgammabar_constraint(Nxx_plus_2NGHOSTS, xx, evol_gfs);\n",
    "        \n",
    "    // Step 2: Evaluate Hamiltonian constraint violation\n",
    "    Hamiltonian_constraint(Nxx,Nxx_plus_2NGHOSTS,dxx, xx, evol_gfs, aux_gfs);\n",
    "\n",
    "    /* Step 3: Output relative error between numerical and exact solution, */\n",
    "    const int i0MIN=NGHOSTS; // In spherical, r=Delta r/2.\n",
    "    const int i1mid=Nxx_plus_2NGHOSTS[1]/2;\n",
    "    const int i2mid=Nxx_plus_2NGHOSTS[2]/2;\n",
    "    LOOP_REGION(NGHOSTS,Nxx_plus_2NGHOSTS[0]-NGHOSTS, i1mid,i1mid+1, NGHOSTS,Nxx_plus_2NGHOSTS[2]-NGHOSTS) {\n",
    "        REAL xx0 = xx[0][i0];\n",
    "        REAL xx1 = xx[1][i1];\n",
    "        REAL xx2 = xx[2][i2];\n",
    "        REAL xCart[3];\n",
    "#include \"xxCart.h\"\n",
    "        int idx = IDX3(i0,i1,i2);\n",
    "        printf(\"%e %e %e %e\\n\",xCart[0],xCart[1], aux_gfs[IDX4pt(SGF,idx)],log10(fabs(aux_gfs[IDX4pt(HGF,idx)])));\n",
    "    }\n",
    "\n",
    "    /* Step 4: Free all allocated memory */\n",
    "    free(bc_gz_map);\n",
    "    free(bc_parity_conditions);\n",
    "    free(rbar_arr);\n",
    "    free(rho_arr);\n",
    "    free(P_arr);\n",
    "    free(M_arr);\n",
    "    free(expnu_arr);\n",
    "\n",
    "    free(aux_gfs);\n",
    "    free(evol_gfs);\n",
    "    for(int i=0;i<3;i++) free(xx[i]);\n",
    "    return 0;\n",
    "}"
   ]
  },
  {
   "cell_type": "code",
   "execution_count": 17,
   "metadata": {},
   "outputs": [
    {
     "name": "stdout",
     "output_type": "stream",
     "text": [
      "Compiling executable...\n",
      "Executing `gcc -Ofast -fopenmp -march=native BSSN/TOV_Playground.c -o TOV_Playground -lm`...\n",
      "Finished executing in 6.46209216118 seconds.\n",
      "Finished compilation.\n",
      "Executing `taskset -c 0,1 ./TOV_Playground 96 96 96`...\n",
      "Finished executing in 2.04207015038 seconds.\n"
     ]
    }
   ],
   "source": [
    "import cmdline_helper as cmd\n",
    "cmd.C_compile(\"BSSN/TOV_Playground.c\", \"TOV_Playground\")\n",
    "cmd.delete_existing_files(\"out96.txt\")\n",
    "cmd.Execute(\"TOV_Playground\", \"96 96 96\", \"out96.txt\")"
   ]
  },
  {
   "cell_type": "markdown",
   "metadata": {},
   "source": [
    "<a id='plot'></a>\n",
    "\n",
    "# Step 6: Plotting the single-neutron-star initial data \\[Back to [top](#toc)\\]\n",
    "$$\\label{plot}$$\n",
    "\n",
    "Here we plot the conformal factor of these initial data on a 2D grid, such that darker colors imply stronger gravitational fields. Hence, we see the single neutron star centered at the origin: $x/M=y/M=z/M=0$, where $M$ is an arbitrary mass scale (conventionally the [ADM mass](https://en.wikipedia.org/w/index.php?title=ADM_formalism&oldid=846335453) is chosen), and our formulation of Einstein's equations adopt $G=c=1$ [geometrized units](https://en.wikipedia.org/w/index.php?title=Geometrized_unit_system&oldid=861682626)."
   ]
  },
  {
   "cell_type": "code",
   "execution_count": 18,
   "metadata": {},
   "outputs": [
    {
     "data": {
      "image/png": "[encoded data removed]",
      "text/plain": [
       "<IPython.core.display.Image object>"
      ]
     },
     "execution_count": 18,
     "metadata": {},
     "output_type": "execute_result"
    }
   ],
   "source": [
    "import numpy as np\n",
    "from scipy.interpolate import griddata\n",
    "from pylab import savefig\n",
    "import matplotlib.pyplot as plt\n",
    "import matplotlib.cm as cm\n",
    "from IPython.display import Image\n",
    "\n",
    "x96,y96,valuesCF96,valuesHam96 = np.loadtxt('out96.txt').T #Transposed for easier unpacking\n",
    "\n",
    "bounds = 2.0\n",
    "pl_xmin = -bounds\n",
    "pl_xmax = +bounds\n",
    "pl_ymin = -bounds\n",
    "pl_ymax = +bounds\n",
    "\n",
    "grid_x, grid_y = np.mgrid[pl_xmin:pl_xmax:100j, pl_ymin:pl_ymax:100j]\n",
    "points96 = np.zeros((len(x96), 2))\n",
    "for i in range(len(x96)):\n",
    "    points96[i][0] = x96[i]\n",
    "    points96[i][1] = y96[i]\n",
    "\n",
    "grid96 = griddata(points96, valuesCF96, (grid_x, grid_y), method='nearest')\n",
    "grid96cub = griddata(points96, valuesCF96, (grid_x, grid_y), method='cubic')\n",
    "\n",
    "plt.clf()\n",
    "plt.title(\"TOV Polytrope Initial Data: log10(Density)\")\n",
    "plt.xlabel(\"x/M\")\n",
    "plt.ylabel(\"y/M\")\n",
    "\n",
    "# fig, ax = plt.subplots()\n",
    "# ax.plot(grid96cub.T, extent=(pl_xmin,pl_xmax, pl_ymin,pl_ymax))\n",
    "# plt.close(fig)\n",
    "fig96cf = plt.imshow(grid96.T, extent=(pl_xmin,pl_xmax, pl_ymin,pl_ymax))\n",
    "cb = plt.colorbar(fig96cf)\n",
    "savefig(\"BHB.png\")\n",
    "from IPython.display import Image\n",
    "Image(\"BHB.png\")\n",
    "# #           interpolation='nearest', cmap=cm.gist_rainbow)"
   ]
  },
  {
   "cell_type": "markdown",
   "metadata": {},
   "source": [
    "<a id='convergence'></a>\n",
    "\n",
    "# Step 7: Validation: Convergence of numerical errors (Hamiltonian constraint violation) to zero \\[Back to [top](#toc)\\]\n",
    "$$\\label{convergence}$$\n",
    "\n",
    "The equations behind these initial data solve Einstein's equations exactly, at a single instant in time. One reflection of this solution is that the Hamiltonian constraint violation should be exactly zero in the initial data. \n",
    "\n",
    "However, when evaluated on numerical grids, the Hamiltonian constraint violation will *not* generally evaluate to zero due to the associated numerical derivatives not being exact. However, these numerical derivatives (finite difference derivatives in this case) should *converge* to the exact derivatives as the density of numerical sampling points approaches infinity.\n",
    "\n",
    "In this case, all of our finite difference derivatives agree with the exact solution, with an error term that drops with the uniform gridspacing to the fourth power: $\\left(\\Delta x^i\\right)^4$. \n",
    "\n",
    "Here, as in the [Start-to-Finish Scalar Wave (Cartesian grids) NRPy+ tutorial](Tutorial-Start_to_Finish-ScalarWave.ipynb) and the [Start-to-Finish Scalar Wave (curvilinear grids) NRPy+ tutorial](Tutorial-Start_to_Finish-ScalarWaveCurvilinear.ipynb) we confirm this convergence.\n",
    "\n",
    "First, let's take a look at what the numerical error looks like on the x-y plane at a given numerical resolution, plotting $\\log_{10}|H|$, where $H$ is the Hamiltonian constraint violation:"
   ]
  },
  {
   "cell_type": "code",
   "execution_count": 19,
   "metadata": {},
   "outputs": [
    {
     "data": {
      "image/png": "[encoded data removed]",
      "text/plain": [
       "<Figure size 432x288 with 2 Axes>"
      ]
     },
     "metadata": {
      "needs_background": "light"
     },
     "output_type": "display_data"
    }
   ],
   "source": [
    "grid96 = griddata(points96, valuesHam96, (grid_x, grid_y), method='nearest')\n",
    "grid96cub = griddata(points96, valuesHam96, (grid_x, grid_y), method='cubic')\n",
    "\n",
    "# fig, ax = plt.subplots()\n",
    "\n",
    "plt.clf()\n",
    "plt.title(\"96^3 Numerical Err.: log_{10}|Ham|\")\n",
    "plt.xlabel(\"x/M\")\n",
    "plt.ylabel(\"y/M\")\n",
    "\n",
    "fig96cub = plt.imshow(grid96cub.T, extent=(pl_xmin,pl_xmax, pl_ymin,pl_ymax))\n",
    "cb = plt.colorbar(fig96cub)"
   ]
  },
  {
   "cell_type": "markdown",
   "metadata": {},
   "source": [
    "Next, we set up the same initial data but on a lower-resolution, $48\\times 8\\times 2$ grid (axisymmetric in the $\\phi$ direction). Since the constraint violation (numerical error associated with the fourth-order-accurate, finite-difference derivatives) should converge to zero with the uniform gridspacing to the fourth power: $\\left(\\Delta x^i\\right)^4$, we expect the constraint violation will increase (relative to the $96\\times 16\\times 2$ grid) by a factor of $\\left(96/48\\right)^4$. Here we demonstrate that indeed this order of convergence is observed as expected, *except* at the star's surface where the stress-energy tensor $T^{\\mu\\nu}$ sharply drops to zero."
   ]
  },
  {
   "cell_type": "code",
   "execution_count": 20,
   "metadata": {
    "scrolled": false
   },
   "outputs": [
    {
     "name": "stdout",
     "output_type": "stream",
     "text": [
      "Executing `taskset -c 0,1 ./TOV_Playground 48 48 48`...\n",
      "Finished executing in 0.435659885406 seconds.\n"
     ]
    },
    {
     "data": {
      "text/plain": [
       "<Figure size 432x288 with 0 Axes>"
      ]
     },
     "metadata": {},
     "output_type": "display_data"
    },
    {
     "data": {
      "image/png": "[encoded data removed]",
      "text/plain": [
       "<Figure size 432x288 with 1 Axes>"
      ]
     },
     "metadata": {
      "needs_background": "light"
     },
     "output_type": "display_data"
    }
   ],
   "source": [
    "# Now rerun TOV_Playground with twice lower resolution.\n",
    "cmd.delete_existing_files(\"out48.txt\")\n",
    "cmd.Execute(\"TOV_Playground\", \"48 48 48\", \"out48.txt\")\n",
    "\n",
    "x48,y48,valuesCF48,valuesHam48 = np.loadtxt('out48.txt').T #Transposed for easier unpacking\n",
    "points48 = np.zeros((len(x48), 2))\n",
    "for i in range(len(x48)):\n",
    "    points48[i][0] = x48[i]\n",
    "    points48[i][1] = y48[i]\n",
    "\n",
    "grid48 = griddata(points48, valuesHam48, (grid_x, grid_y), method='cubic')\n",
    "\n",
    "griddiff_48_minus_96 = np.zeros((100,100))\n",
    "griddiff_48_minus_96_1darray = np.zeros(100*100)\n",
    "gridx_1darray_yeq0 = np.zeros(100)\n",
    "grid48_1darray_yeq0 = np.zeros(100)\n",
    "grid96_1darray_yeq0 = np.zeros(100)\n",
    "count = 0\n",
    "outarray = []\n",
    "for i in range(100):\n",
    "    for j in range(100):\n",
    "        griddiff_48_minus_96[i][j] = grid48[i][j] - grid96[i][j]\n",
    "        griddiff_48_minus_96_1darray[count] = griddiff_48_minus_96[i][j]\n",
    "        if j==49:\n",
    "            gridx_1darray_yeq0[i] = grid_x[i][j]\n",
    "            grid48_1darray_yeq0[i] = grid48[i][j] + np.log10((48./96.)**4)\n",
    "            grid96_1darray_yeq0[i] = grid96[i][j]\n",
    "        count = count + 1\n",
    "\n",
    "plt.clf()\n",
    "fig, ax = plt.subplots()\n",
    "plt.title(\"Plot Demonstrating 4th-order Convergence\")\n",
    "plt.xlabel(\"x/M\")\n",
    "plt.ylabel(\"log10(Relative error)\")\n",
    "\n",
    "ax.plot(gridx_1darray_yeq0, grid96_1darray_yeq0, 'k-', label='Nr=96')\n",
    "ax.plot(gridx_1darray_yeq0, grid48_1darray_yeq0, 'k--', label='Nr=48, mult by (48/96)^4')\n",
    "ax.set_ylim([-12.5,1.5])\n",
    "\n",
    "legend = ax.legend(loc='lower right', shadow=True, fontsize='x-large')\n",
    "legend.get_frame().set_facecolor('C1')\n",
    "plt.show()"
   ]
  },
  {
   "cell_type": "markdown",
   "metadata": {},
   "source": [
    "<a id='latex_pdf_output'></a>\n",
    "\n",
    "# Step 8: Output this module to $\\LaTeX$-formatted PDF file \\[Back to [top](#toc)\\]\n",
    "$$\\label{latex_pdf_output}$$\n",
    "\n",
    "The following code cell converts this Jupyter notebook into a proper, clickable $\\LaTeX$-formatted PDF file. After the cell is successfully run, the generated PDF may be found in the root NRPy+ tutorial directory, with filename\n",
    "[Tutorial-Start_to_Finish-BSSNCurvilinear-Setting_up_TOV_initial_data.pdf](Tutorial-Start_to_Finish-BSSNCurvilinear-Setting_up_TOV_initial_data.pdf) (Note that clicking on this link may not work; you may need to open the PDF file through another means.)"
   ]
  },
  {
   "cell_type": "code",
   "execution_count": 21,
   "metadata": {
    "scrolled": true
   },
   "outputs": [
    {
     "name": "stdout",
     "output_type": "stream",
     "text": [
      "[NbConvertApp] Converting notebook Tutorial-Start_to_Finish-BSSNCurvilinear-Setting_up_TOV_initial_data.ipynb to latex\n",
      "[NbConvertApp] Writing 110429 bytes to Tutorial-Start_to_Finish-BSSNCurvilinear-Setting_up_TOV_initial_data.tex\n",
      "This is pdfTeX, Version 3.14159265-2.6-1.40.18 (TeX Live 2017/Debian) (preloaded format=pdflatex)\n",
      " restricted \\write18 enabled.\n",
      "entering extended mode\n",
      "This is pdfTeX, Version 3.14159265-2.6-1.40.18 (TeX Live 2017/Debian) (preloaded format=pdflatex)\n",
      " restricted \\write18 enabled.\n",
      "entering extended mode\n",
      "This is pdfTeX, Version 3.14159265-2.6-1.40.18 (TeX Live 2017/Debian) (preloaded format=pdflatex)\n",
      " restricted \\write18 enabled.\n",
      "entering extended mode\n"
     ]
    }
   ],
   "source": [
    "!jupyter nbconvert --to latex --template latex_nrpy_style.tplx Tutorial-Start_to_Finish-BSSNCurvilinear-Setting_up_TOV_initial_data.ipynb\n",
    "!pdflatex -interaction=batchmode Tutorial-Start_to_Finish-BSSNCurvilinear-Setting_up_TOV_initial_data.tex\n",
    "!pdflatex -interaction=batchmode Tutorial-Start_to_Finish-BSSNCurvilinear-Setting_up_TOV_initial_data.tex\n",
    "!pdflatex -interaction=batchmode Tutorial-Start_to_Finish-BSSNCurvilinear-Setting_up_TOV_initial_data.tex\n",
    "!rm -f Tut*.out Tut*.aux Tut*.log"
   ]
  }
 ],
 "metadata": {
  "kernelspec": {
   "display_name": "Python 2",
   "language": "python",
   "name": "python2"
  },
  "language_info": {
   "codemirror_mode": {
    "name": "ipython",
    "version": 2
   },
   "file_extension": ".py",
   "mimetype": "text/x-python",
   "name": "python",
   "nbconvert_exporter": "python",
   "pygments_lexer": "ipython2",
   "version": "2.7.13"
  }
 },
 "nbformat": 4,
 "nbformat_minor": 2
}
