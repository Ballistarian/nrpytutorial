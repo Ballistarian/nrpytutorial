{
 "cells": [
  {
   "cell_type": "markdown",
   "metadata": {},
   "source": [
    "<a id='top'></a>\n",
    "\n",
    "\n",
    "# $\\texttt{GiRaFFEfood}$: Initial data for $\\texttt{GiRaFFE}$\n",
    "\n",
    "## Alfv&eacute;n Wave\n",
    "\n",
    "$$\\label{top}$$\n",
    "\n",
    "This module provides another initial data option for $\\texttt{GiRaFFE}$, drawn from [this paper](https://arxiv.org/abs/1310.3274) . This is a flat-spacetime test with initial data \n",
    "\\begin{align}\n",
    "A_x &= 0 \\\\\n",
    "A_y &= \\left \\{ \\begin{array}{lll}\\gamma_\\mu x - 0.015 & \\mbox{if} & x \\leq -0.1/\\gamma_\\mu \\\\\n",
    "1.15 \\gamma_\\mu x - 0.03g(x) & \\mbox{if} & -0.1/\\gamma_\\mu \\leq x \\leq 0.1/\\gamma_\\mu \\\\ \n",
    "1.3 \\gamma_\\mu x - 0.015 & \\mbox{if} & x \\geq 0.1/\\gamma_\\mu \\end{array} \\right. , \\\\\n",
    " A_z = &\\ y - \\gamma_\\mu (1-\\mu)x ,\n",
    "\\end{align}\n",
    "which generates the magnetic field in the wave frame,\n",
    "\\begin{align}\n",
    "B'^{x'}(x') = &\\ 1.0,\\ B'^y(x') = 1.0, \\\\\n",
    "B'^z(x') = &\\ \\left \\{ \\begin{array}{lll} 1.0 & \\mbox{if} & x' \\leq -0.1 \\\\\n",
    "\t\t\t\t1.0+0.15 f(x') & \\mbox{if} & -0.1 \\leq x' \\leq 0.1 \\\\\n",
    "\t\t\t\t1.3 & \\mbox{if} & x' \\geq 0.1 \\end{array} \\right. ,\n",
    "\\end{align}\n",
    "and the electric field in the wave frame, \n",
    "$$E'^{x'}(x') = -B'^z(0,x') \\ \\ , \\ \\ E'^y(x') = 0.0 \\ \\ , \\ \\ E'^z(x') = 1.0  .$$\n",
    "\n",
    "These are converted to the grid frame by \n",
    "\\begin{align}\n",
    "  B^x(0,x) = &\\ B'^{x'}(\\gamma_\\mu x) , \\\\\n",
    "  B^y(0,x) = &\\ \\gamma_\\mu [ B'^y(\\gamma_\\mu x) - \\mu E'^z(\\gamma_\\mu x) ] , \\\\ \n",
    "  B^z(0,x) = &\\ \\gamma_\\mu [ B'^z(\\gamma_\\mu x) + \\mu E'^y(\\gamma_\\mu x) ] , \n",
    "\\end{align}\n",
    "and\n",
    "\\begin{align}\n",
    "  E^x(0,x) = &\\ E'^{x'}(\\gamma_\\mu x) , \\\\ \n",
    "  E^y(0,x) = &\\ \\gamma_\\mu [ E'^y(\\gamma_\\mu x) + \\mu B'^z(\\gamma_\\mu x) ] ,\\\\ \n",
    "  E^z(0,x) = &\\ \\gamma_\\mu [ E'^z(\\gamma_\\mu x) - \\mu B'^y(\\gamma_\\mu x) ],\n",
    "\\end{align}\n",
    "and the velocity is given by $$\\mathbf{v} = \\frac{\\mathbf{E} \\times \\mathbf{B}}{B^2}$$ in flat spacetime. Additionally, $f(x)=1+\\sin (5\\pi x)$, $-1<\\mu<1$ is the wave speed relative to the grid frame and $\\gamma_\\mu = (1-\\mu^2)^{-1/2}$, and $g(x) = \\cos (5\\pi \\gamma_\\mu x)/\\pi$.\n",
    "\n",
    "For the eventual purpose of testing convergence, any quantity $Q$ evolves as $Q(t,x) = Q(0,x-\\mu t)$\n",
    "\n",
    "See [previous NRPy+ tutorial module](Tutorial-GiRaFFEfood_HO.ipynb) for more general detail on how this is used.\n",
    "\n",
    "#### Table of Contents:\n",
    "1. [Steps 0-1:](#preliminaries) Preliminaries\n",
    "1. [Step 2:](#step2) Set the vector $A_k$\n",
    "1. [Step 3:](#step3) Set the vectors $B^i$ and $E^i$ for the velocity\n",
    "1. [Step 4:](#step4) Calculate $v^i$\n",
    "1. [Step 5:](#step6) NRPy+ Module Code Validation\n"
   ]
  },
  {
   "cell_type": "markdown",
   "metadata": {},
   "source": [
    "<a id='preliminaries'></a>\n",
    "\n",
    "### Steps 0-1: Preliminaries \\[Back to [top](#top)\\]\n",
    "\n",
    "Here, we will import the NRPy+ core modules and set the reference metric to Cartesian, set commonly used NRPy+ parameters, and set C parameters that will be set from outside the code eventually generated from these expressions. We will also set up a parameter to determine what initial data is set up, although it won't do much yet.\n",
    "$$\\label{preliminaries}$$"
   ]
  },
  {
   "cell_type": "code",
   "execution_count": 1,
   "metadata": {},
   "outputs": [],
   "source": [
    "# Step 0: Import the NRPy+ core modules and set the reference metric to Cartesian\n",
    "import NRPy_param_funcs as par\n",
    "import indexedexp as ixp\n",
    "import grid as gri\n",
    "import finite_difference as fin\n",
    "from outputC import *\n",
    "import loop\n",
    "\n",
    "import reference_metric as rfm\n",
    "par.set_parval_from_str(\"reference_metric::CoordSystem\",\"Cartesian\")\n",
    "rfm.reference_metric()\n",
    "\n",
    "# Step 1a: Set commonly used parameters.\n",
    "thismodule = \"GiRaFFEfood_HO_1D\"\n",
    "# Set the spatial dimension parameter to 3.\n",
    "par.set_parval_from_str(\"grid::DIM\", 3)\n",
    "DIM = par.parval_from_str(\"grid::DIM\")\n"
   ]
  },
  {
   "cell_type": "markdown",
   "metadata": {},
   "source": [
    "<a id='step2'></a>\n",
    "### Set the vector $A_k$\n",
    "The vector potential is given as\n",
    "\\begin{align}\n",
    "A_x &= 0 \\\\\n",
    "A_y &= \\left \\{ \\begin{array}{lll}\\gamma_\\mu x - 0.015 & \\mbox{if} & x \\leq -0.1/\\gamma_\\mu \\\\\n",
    "1.15 \\gamma_\\mu x - 0.03g(x) & \\mbox{if} & -0.1/\\gamma_\\mu \\leq x \\leq 0.1/\\gamma_\\mu \\\\ \n",
    "1.3 \\gamma_\\mu x - 0.015 & \\mbox{if} & x \\geq 0.1/\\gamma_\\mu \\end{array} \\right. , \\\\\n",
    " A_z = &\\ y - \\gamma_\\mu (1-\\mu)x .\n",
    "\\end{align}\n",
    "First, however, we must set $$\\gamma_\\mu = (1-\\mu^2)^{-1/2}$$ and $$g(x) = \\cos (5\\pi \\gamma_\\mu x)/\\pi$$.\n",
    "$$\\label{step2}$$"
   ]
  },
  {
   "cell_type": "code",
   "execution_count": 3,
   "metadata": {},
   "outputs": [
    {
     "name": "stdout",
     "output_type": "stream",
     "text": [
      "initialize_param() minor warning: Did nothing; already initialized parameter GiRaFFEfood_HO_1D::mu_AW\n"
     ]
    }
   ],
   "source": [
    "mu_AW,M_PI = par.Cparameters(\"REAL\",thismodule,[\"mu_AW\",\"M_PI\"]) # The wave speed and pi in C\n",
    "gammamu = (1-mu_AW**2)**(-1/2)\n",
    "\n",
    "# We'll use reference_metric.py to define x\n",
    "x = rfm.xxCart[0]\n",
    "\n",
    "g_AW = sp.cos(5*M_PI*gammamu)/M_PI"
   ]
  },
  {
   "cell_type": "markdown",
   "metadata": {},
   "source": [
    "Now, we can define the vector potential."
   ]
  }
 ],
 "metadata": {
  "kernelspec": {
   "display_name": "Python 2",
   "language": "python",
   "name": "python2"
  },
  "language_info": {
   "codemirror_mode": {
    "name": "ipython",
    "version": 2
   },
   "file_extension": ".py",
   "mimetype": "text/x-python",
   "name": "python",
   "nbconvert_exporter": "python",
   "pygments_lexer": "ipython2",
   "version": "2.7.13"
  }
 },
 "nbformat": 4,
 "nbformat_minor": 2
}
