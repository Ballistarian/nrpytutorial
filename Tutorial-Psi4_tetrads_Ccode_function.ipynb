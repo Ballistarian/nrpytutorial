{
 "cells": [
  {
   "cell_type": "markdown",
   "metadata": {},
   "source": [
    "# Generating the C Function for the $\\psi_4$ Tetrad\n",
    "\n",
    "### Author: Zach Etienne\n",
    "\n",
    "<font color='red'>**This module has not yet undergone validation testing.**</font>\n",
    "\n",
    "<a id='toc'></a>\n",
    "\n",
    "# Introduction, Table of Contents\n",
    "$$\\label{toc}$$\n",
    "\n",
    "In the [$\\psi_4$ tutorial module](Tutorial-Psi4.ipynb), we constructed $\\psi_4$ assuming an *arbitrary* tetrad. Then, given the Cartesian coordinate $(x,y,z)$ at which we want to evaluate $\\psi_4$, the [tetrad module](../edit/BSSN/Psi4_tetrads.py) (**[tutorial](Tutorial-Psi4_tetrads.ipynb)**) outputs the tetrad in the $xx^i$ basis.\n",
    "\n",
    "In this module, we will construct the C tetrad function. The C function works as follows:\n",
    "\n",
    "1. Convert the BSSN grid coordinates $\\left(xx_0,xx_1,xx_2\\right)$ (given by the chosen reference metric [i.e., the chosen \"reference_metric::CoordSystem\" parameter]) to Cartesian coordinates $(x,y,z)$, which is the expected coordinate system for the tetrad.\n",
    "1. Return the tetrad in the reference metric basis.\n",
    "\n",
    "**This tutorial module is organized as follows:**\n",
    "\n",
    "1. [Step 1](#initializenrpy): Initialize needed NRPy+ modules\n",
    "1. [Step 2](#converttocartesian): Convert the coordinate location $\\left(xx_0,xx_1,xx_2\\right)$ at which we want the tetrad evaluated to the corresponding Cartesian coordinate $(x,y,z)$\n",
    "1. [Step 3](#outtetrad): Output the tetrad in the reference-metric basis\n",
    "1. [Step 4](#code_validation): Code Validation against BSSN.Psi4 NRPy+ module\n",
    "1. [Step 5](#latex_pdf_output): Output this module to $\\LaTeX$-formatted PDF"
   ]
  },
  {
   "cell_type": "markdown",
   "metadata": {},
   "source": [
    "<a id='initializenrpy'></a>\n",
    "\n",
    "# Step 1: Initialize core NRPy+ modules \\[Back to [top](#toc)\\]\n",
    "$$\\label{initializenrpy}$$\n",
    "\n",
    "Let's start by importing all the needed modules from NRPy+:"
   ]
  },
  {
   "cell_type": "code",
   "execution_count": null,
   "metadata": {},
   "outputs": [],
   "source": [
    "# Step 1.a: import all needed modules from NRPy+:\n",
    "import sympy as sp\n",
    "import NRPy_param_funcs as par\n",
    "import indexedexp as ixp\n",
    "import grid as gri\n",
    "import finite_difference as fin\n",
    "import reference_metric as rfm\n",
    "\n",
    "# Step 1.b: Set the coordinate system for the numerical grid\n",
    "par.set_parval_from_str(\"reference_metric::CoordSystem\",\"Spherical\")\n",
    "\n",
    "# Step 1.c: Given the chosen coordinate system, set up \n",
    "#           corresponding reference metric and needed\n",
    "#           reference metric quantities\n",
    "# The following function call sets up the reference metric\n",
    "#    and related quantities, including rescaling matrices ReDD,\n",
    "#    ReU, and hatted quantities.\n",
    "rfm.reference_metric()\n",
    "\n",
    "# Step 1.d: Set spatial dimension (must be 3 for BSSN, as BSSN is \n",
    "#           a 3+1-dimensional decomposition of the general \n",
    "#           relativistic field equations)\n",
    "DIM = 3\n",
    "\n",
    "# Step 1.e: Import the tetrad module\n",
    "import BSSN.Psi4_tetrads as BP4T"
   ]
  },
  {
   "cell_type": "code",
   "execution_count": null,
   "metadata": {},
   "outputs": [],
   "source": []
  },
  {
   "cell_type": "markdown",
   "metadata": {},
   "source": [
    "<a id='converttocartesian'></a>\n",
    "\n",
    "# Step 2: Initialize core NRPy+ modules \\[Back to [top](#toc)\\]\n",
    "$$\\label{converttocartesian}$$\n",
    "\n",
    "Let's start by importing all the needed modules from NRPy+:"
   ]
  },
  {
   "cell_type": "code",
   "execution_count": null,
   "metadata": {},
   "outputs": [],
   "source": []
  },
  {
   "cell_type": "markdown",
   "metadata": {},
   "source": [
    "<a id='code_validation'></a>\n",
    "\n",
    "# Step 3: Code validation against BSSN.Psi4_tetrads_Ccode_function NRPy+ module \\[Back to [top](#toc)\\]\n",
    "$$\\label{code_validation}$$\n",
    "\n",
    "As a code validation check, we verify agreement in the SymPy expressions for the RHSs of the BSSN equations between\n",
    "1. this tutorial and \n",
    "2. the NRPy+ BSSN.Psi4_tetrads_Ccode_function module.\n",
    "\n",
    "By default, we compare all quantities in Spherical coordinates, though other coordinate systems may be chosen."
   ]
  },
  {
   "cell_type": "code",
   "execution_count": null,
   "metadata": {},
   "outputs": [],
   "source": []
  },
  {
   "cell_type": "markdown",
   "metadata": {},
   "source": [
    "<a id='latex_pdf_output'></a>\n",
    "\n",
    "# Step 4: Output this module to $\\LaTeX$-formatted PDF file \\[Back to [top](#toc)\\]\n",
    "$$\\label{latex_pdf_output}$$"
   ]
  },
  {
   "cell_type": "code",
   "execution_count": null,
   "metadata": {},
   "outputs": [],
   "source": []
  }
 ],
 "metadata": {
  "kernelspec": {
   "display_name": "Python 2",
   "language": "python",
   "name": "python2"
  },
  "language_info": {
   "codemirror_mode": {
    "name": "ipython",
    "version": 2
   },
   "file_extension": ".py",
   "mimetype": "text/x-python",
   "name": "python",
   "nbconvert_exporter": "python",
   "pygments_lexer": "ipython2",
   "version": "2.7.13"
  }
 },
 "nbformat": 4,
 "nbformat_minor": 2
}
