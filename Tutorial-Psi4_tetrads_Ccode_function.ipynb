{
 "cells": [
  {
   "cell_type": "markdown",
   "metadata": {},
   "source": [
    "# Generating the C Function for the $\\psi_4$ Tetrad\n",
    "\n",
    "### Author: Zach Etienne\n",
    "\n",
    "<font color='red'>**This module has not yet undergone validation testing.**</font>\n",
    "\n",
    "<a id='toc'></a>\n",
    "\n",
    "# Introduction, Table of Contents\n",
    "$$\\label{toc}$$\n",
    "\n",
    "In the [$\\psi_4$ tutorial module](Tutorial-Psi4.ipynb), we constructed $\\psi_4$ assuming an *arbitrary* tetrad. Then, given the Cartesian coordinate $(x,y,z)$ at which we want to evaluate $\\psi_4$, the [tetrad module](../edit/BSSN/Psi4_tetrads.py) (**[tutorial](Tutorial-Psi4_tetrads.ipynb)**) outputs the tetrad in the $xx^i$ basis.\n",
    "\n",
    "In this module, we will construct the C tetrad function. The C function works as follows:\n",
    "\n",
    "1. Convert the BSSN grid coordinates $\\left(xx_0,xx_1,xx_2\\right)$ (given by the chosen reference metric [i.e., the chosen \"reference_metric::CoordSystem\" parameter]) to Cartesian coordinates $(x,y,z)$, which is the expected coordinate system for the tetrad.\n",
    "1. Return the tetrad in the reference metric basis.\n",
    "\n",
    "**This tutorial module is organized as follows:**\n",
    "\n",
    "1. [Step 1](#initializenrpy): Initialize needed NRPy+ modules\n",
    "1. [Step 2](#converttocartesian): Convert the coordinate location $\\left(xx_0,xx_1,xx_2\\right)$ at which we want the tetrad to the corresponding Cartesian coordinate $(x,y,z)$\n",
    "1. [Step 3](#outtetrad): Output the tetrad in the reference-metric basis\n",
    "1. [Step 4](#code_validation): Code Validation against BSSN.Psi4 NRPy+ module\n",
    "1. [Step 5](#latex_pdf_output): Output this module to $\\LaTeX$-formatted PDF"
   ]
  },
  {
   "cell_type": "markdown",
   "metadata": {},
   "source": [
    "<a id='initializenrpy'></a>\n",
    "\n",
    "# Step 1: Initialize core NRPy+ modules \\[Back to [top](#toc)\\]\n",
    "$$\\label{initializenrpy}$$\n",
    "\n",
    "Let's start by importing all the needed modules from NRPy+:"
   ]
  },
  {
   "cell_type": "code",
   "execution_count": 1,
   "metadata": {},
   "outputs": [],
   "source": [
    "# Step 1.a: import all needed modules from NRPy+:\n",
    "import sympy as sp\n",
    "from outputC import *\n",
    "import NRPy_param_funcs as par\n",
    "import indexedexp as ixp\n",
    "import grid as gri\n",
    "import finite_difference as fin\n",
    "import reference_metric as rfm\n",
    "\n",
    "# Step 1.b: Set the coordinate system for the numerical grid\n",
    "par.set_parval_from_str(\"reference_metric::CoordSystem\",\"Spherical\")\n",
    "\n",
    "# Step 1.c: Given the chosen coordinate system, set up \n",
    "#           corresponding reference metric and needed\n",
    "#           reference metric quantities\n",
    "# The following function call sets up the reference metric\n",
    "#    and related quantities, including rescaling matrices ReDD,\n",
    "#    ReU, and hatted quantities.\n",
    "rfm.reference_metric()\n",
    "\n",
    "# Step 1.d: Set spatial dimension (must be 3 for BSSN, as BSSN is \n",
    "#           a 3+1-dimensional decomposition of the general \n",
    "#           relativistic field equations)\n",
    "DIM = 3\n",
    "\n",
    "# Step 1.e: Import the tetrad module\n",
    "import BSSN.Psi4_tetrads as BP4T\n",
    "par.set_parval_from_str(\"BSSN.Psi4_tetrads::TetradChoice\", \"QuasiKinnersley\")"
   ]
  },
  {
   "cell_type": "markdown",
   "metadata": {},
   "source": [
    "<a id='converttocartesian'></a>\n",
    "\n",
    "# Step 2: Convert the coordinate location $\\left(xx_0,xx_1,xx_2\\right)$ at which we want the tetrad to the corresponding Cartesian coordinate $(x,y,z)$ \\[Back to [top](#toc)\\]\n",
    "$$\\label{converttocartesian}$$\n",
    "\n",
    "The C function uses as input $\\left(xx_0,xx_1,xx_2\\right)$, but the BSSN.Psi4_tetrads function uses $(x,y,z)$ as input. Thus the C function must first convert the coordinate $\\left(xx_0,xx_1,xx_2\\right)$ to the corresponding Cartesian coordinate."
   ]
  },
  {
   "cell_type": "code",
   "execution_count": 2,
   "metadata": {},
   "outputs": [
    {
     "name": "stdout",
     "output_type": "stream",
     "text": [
      "Appended to file \"BSSN/Psi4_tetrads.h\"\n"
     ]
    }
   ],
   "source": [
    "# Step 2: Construct the C function header and \n",
    "#         convert (xx0,xx1,xx2) to the corresponding\n",
    "#         (x,y,z), as both are needed for the tetrad\n",
    "#         expressions.\n",
    "outCparams = \"preindent=1,outCfileaccess=a,outCverbose=False,includebraces=False\"\n",
    "tetrad_Ccode_filename = \"BSSN/Psi4_tetrads.h\"\n",
    "\n",
    "with open(tetrad_Ccode_filename, \"w\") as file:\n",
    "    file.write(\"\"\"\n",
    "// Taking as input (xx0,xx1,xx2), this function outputs\n",
    "//   the chosen Psi4 tetrad in the (xx0,xx1,xx2) basis\n",
    "void Psi4_tetrad(REAL xx0xx1xx2[3], const REAL *in_gfs,\n",
    "                 REAL n4U[4],REAL mre4U[4],REAL mim4U[4]) {\n",
    "    const REAL xx0 = xx0xx1xx2[0];\n",
    "    const REAL xx1 = xx0xx1xx2[1];\n",
    "    const REAL xx2 = xx0xx1xx2[2];\n",
    "\"\"\")\n",
    "outputC([rfm.xxCart[0],rfm.xxCart[1],rfm.xxCart[2]],[\"REAL x\",\"REAL y\",\"REAL z\"],tetrad_Ccode_filename,outCparams)"
   ]
  },
  {
   "cell_type": "markdown",
   "metadata": {},
   "source": [
    "<a id='outtetrad'></a>\n",
    "\n",
    "# Step 3: Output the tetrad in the reference-metric basis \\[Back to [top](#toc)\\]\n",
    "$$\\label{outtetrad}$$\n",
    "\n",
    "Next we call BP4T.Psi4_tetrads() to construct the symbolic expressions for the tetrad vectors $n^\\mu$, $\\Re m^\\mu$, and $\\Im m^\\mu$, which are needed to construct $\\Psi_4$. \n",
    "\n",
    "As the tetrad expressions depend on BSSN gridfunctions, we pass the expressions into fin.FD_outputC() so that the needed gridfunction values are read in from memory as appropriate."
   ]
  },
  {
   "cell_type": "code",
   "execution_count": 3,
   "metadata": {
    "scrolled": true
   },
   "outputs": [
    {
     "name": "stdout",
     "output_type": "stream",
     "text": [
      "initialize_param() minor warning: Did nothing; already initialized parameter reference_metric::M_PI\n",
      "initialize_param() minor warning: Did nothing; already initialized parameter reference_metric::RMAX\n",
      "initialize_param() minor warning: Did nothing; already initialized parameter reference_metric::M_PI\n",
      "initialize_param() minor warning: Did nothing; already initialized parameter reference_metric::RMAX\n",
      "Appended to file \"BSSN/Psi4_tetrads.h\"\n"
     ]
    }
   ],
   "source": [
    "# Step 3: Output the tetrad in the reference-metric basis.\n",
    "\n",
    "# Step 3.a: BP4T.Psi4_tetrads() to construct the symbolic \n",
    "#           expressions for the tetrad vectors $n^\\mu$, \n",
    "#           $\\Re m^\\mu$, and $\\Im m^\\mu$, which are needed \n",
    "#           to construct $\\Psi_4$. \n",
    "\n",
    "BP4T.Psi4_tetrads()\n",
    "Psi4_tetrad_vecs = []\n",
    "\n",
    "# Step 3.b: As the tetrad expressions depend on BSSN \n",
    "#           gridfunctions, we pass the expressions into \n",
    "#           fin.FD_outputC() so that the needed gridfunction\n",
    "#           values are read in from memory as appropriate.\n",
    "for i in range(4):\n",
    "    Psi4_tetrad_vecs.append(lhrh(lhs=\"n4U[\"+str(i)+\"]\",  rhs=BP4T.n4U[i]))\n",
    "    Psi4_tetrad_vecs.append(lhrh(lhs=\"mre4U[\"+str(i)+\"]\",rhs=BP4T.mre4U[i]))\n",
    "    Psi4_tetrad_vecs.append(lhrh(lhs=\"mim4U[\"+str(i)+\"]\",rhs=BP4T.mim4U[i]))\n",
    "\n",
    "fin.FD_outputC(tetrad_Ccode_filename,Psi4_tetrad_vecs, outCparams)\n",
    "\n",
    "with open(tetrad_Ccode_filename, \"a\") as file:\n",
    "    file.write(\"}\\n\")"
   ]
  },
  {
   "cell_type": "markdown",
   "metadata": {},
   "source": [
    "<a id='code_validation'></a>\n",
    "\n",
    "# Step 4: Code validation against BSSN.Psi4_tetrads_Ccode_function NRPy+ module \\[Back to [top](#toc)\\]\n",
    "$$\\label{code_validation}$$\n",
    "\n",
    "As a code validation check, we verify agreement in the SymPy expressions for the RHSs of the BSSN equations between\n",
    "1. this tutorial and \n",
    "2. the NRPy+ BSSN.Psi4_tetrads_Ccode_function module.\n",
    "\n",
    "By default, we compare the file that is output, assuming quantities are expressed in Spherical coordinates. Other coordinate systems may be chosen if desired."
   ]
  },
  {
   "cell_type": "code",
   "execution_count": 4,
   "metadata": {},
   "outputs": [
    {
     "name": "stdout",
     "output_type": "stream",
     "text": [
      "initialize_param() minor warning: Did nothing; already initialized parameter reference_metric::M_PI\n",
      "initialize_param() minor warning: Did nothing; already initialized parameter reference_metric::RMAX\n",
      "Appended to file \"BSSN/Psi4_tetrads-validation.h\"\n",
      "initialize_param() minor warning: Did nothing; already initialized parameter reference_metric::M_PI\n",
      "initialize_param() minor warning: Did nothing; already initialized parameter reference_metric::RMAX\n",
      "initialize_param() minor warning: Did nothing; already initialized parameter reference_metric::M_PI\n",
      "initialize_param() minor warning: Did nothing; already initialized parameter reference_metric::RMAX\n",
      "initialize_param() minor warning: Did nothing; already initialized parameter BSSN.Psi4_tetrads::x\n",
      "initialize_param() minor warning: Did nothing; already initialized parameter BSSN.Psi4_tetrads::y\n",
      "initialize_param() minor warning: Did nothing; already initialized parameter BSSN.Psi4_tetrads::z\n",
      "Appended to file \"BSSN/Psi4_tetrads-validation.h\"\n",
      "\n",
      "Validation test PASSED.\n"
     ]
    }
   ],
   "source": [
    "import filecmp\n",
    "\n",
    "import BSSN.Psi4_tetrads_Ccode_function as Psi4C\n",
    "Psi4C.Psi4_tetrads_Ccode_function(tetrad_Ccode_filename=\"BSSN/Psi4_tetrads-validation.h\")\n",
    "\n",
    "if filecmp.cmp('BSSN/Psi4_tetrads.h',\n",
    "               'BSSN/Psi4_tetrads-validation.h') == False:\n",
    "    print(\"\\nERROR: Validation test FAILED!\")\n",
    "    exit(1)\n",
    "else:\n",
    "    print(\"\\nValidation test PASSED.\")"
   ]
  },
  {
   "cell_type": "markdown",
   "metadata": {},
   "source": [
    "<a id='latex_pdf_output'></a>\n",
    "\n",
    "# Step 5: Output this module to $\\LaTeX$-formatted PDF file \\[Back to [top](#toc)\\]\n",
    "$$\\label{latex_pdf_output}$$"
   ]
  },
  {
   "cell_type": "code",
   "execution_count": 5,
   "metadata": {},
   "outputs": [
    {
     "name": "stdout",
     "output_type": "stream",
     "text": [
      "[NbConvertApp] Converting notebook Tutorial-Psi4_tetrads_Ccode_function.ipynb to latex\n",
      "[NbConvertApp] Writing 32617 bytes to Tutorial-Psi4_tetrads_Ccode_function.tex\n",
      "This is pdfTeX, Version 3.14159265-2.6-1.40.18 (TeX Live 2017/Debian) (preloaded format=pdflatex)\n",
      " restricted \\write18 enabled.\n",
      "entering extended mode\n",
      "This is pdfTeX, Version 3.14159265-2.6-1.40.18 (TeX Live 2017/Debian) (preloaded format=pdflatex)\n",
      " restricted \\write18 enabled.\n",
      "entering extended mode\n",
      "This is pdfTeX, Version 3.14159265-2.6-1.40.18 (TeX Live 2017/Debian) (preloaded format=pdflatex)\n",
      " restricted \\write18 enabled.\n",
      "entering extended mode\n"
     ]
    }
   ],
   "source": [
    "!jupyter nbconvert --to latex --template latex_nrpy_style.tplx Tutorial-Psi4_tetrads_Ccode_function.ipynb\n",
    "!pdflatex -interaction=batchmode Tutorial-Psi4_tetrads_Ccode_function.tex\n",
    "!pdflatex -interaction=batchmode Tutorial-Psi4_tetrads_Ccode_function.tex\n",
    "!pdflatex -interaction=batchmode Tutorial-Psi4_tetrads_Ccode_function.tex\n",
    "!rm -f Tut*.out Tut*.aux Tut*.log"
   ]
  }
 ],
 "metadata": {
  "kernelspec": {
   "display_name": "Python 2",
   "language": "python",
   "name": "python2"
  },
  "language_info": {
   "codemirror_mode": {
    "name": "ipython",
    "version": 2
   },
   "file_extension": ".py",
   "mimetype": "text/x-python",
   "name": "python",
   "nbconvert_exporter": "python",
   "pygments_lexer": "ipython2",
   "version": "2.7.13"
  }
 },
 "nbformat": 4,
 "nbformat_minor": 2
}
