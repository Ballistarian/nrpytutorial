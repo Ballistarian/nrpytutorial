{
 "cells": [
  {
   "cell_type": "markdown",
   "metadata": {},
   "source": [
    "# The Scalar Wave Equation: Creating an Einstein Toolkit thorn\n",
    "\n",
    "### NRPy+ Source Code for this module:[ScalarWave/ScalarWave_RHSs.py](../edit/ScalarWave/ScalarWave_RHSs.py) and [ScalarWave/InitialData_PlaneWave.py](../edit/ScalarWave/InitialData_PlaneWave.py), which are fully documented in the [previous NRPy+ tutorial module on using NRPy+ to construct the Weyl scalars and invariants as SymPy expressions](Tutorial-ScalarWave.ipynb).\n"
   ]
  },
  {
   "cell_type": "markdown",
   "metadata": {},
   "source": [
    "The goal of this tutorial is to construct an Einstein Toolkit (ETK) thorn that will evolve some initial data according to the scalar wave equation, subject to appropriate boundary conditions. In a [previous tutorial](Tutorial-ScalarWave.ipynb), we contructed the evolution equations and initial data to do this. This thorn should function identically to the $\\text{WaveToy}$ thorns included in the Einstein Toolkit (ETK).\n",
    "\n",
    "We will approach this in two steps.\n",
    "\n",
    "1. Call on NRPy+ to convert the SymPy expressions for the initial data/evolution equations into one C-code kernel.\n",
    "1. Write the C code and build up the needed Einstein Toolkit infrastructure (i.e., the .ccl files).\n",
    "\n",
    "## Evolving the Scalar Wave equation\n",
    "\n",
    "### Step 1: Call on NRPy+ to convert the SymPy expressions for the Scalar Wave RHS a C-code kernel. \n",
    "\n",
    "After importing the core modules, we will set $\\text{GridFuncMemAccess}$ to $\\text{ETK}$. The scalar wave right-hand sides are already built by [ScalarWave/ScalarWave_RHSs.py](../edit/ScalarWave/ScalarWave_RHSs.py), so we can simply import them to use here. We will also need to instruct the system to create the directories for our thorn."
   ]
  },
  {
   "cell_type": "code",
   "execution_count": 1,
   "metadata": {},
   "outputs": [],
   "source": [
    "# Step 1a: Import needed NRPy+ core modules:\n",
    "import NRPy_param_funcs as par\n",
    "import indexedexp as ixp\n",
    "import grid as gri\n",
    "import finite_difference as fin\n",
    "from outputC import *\n",
    "import loop\n",
    "\n",
    "# Step 1b: This is an Einstein Toolkit (ETK) thorn. Here we\n",
    "#          tell NRPy+ that gridfunction memory access will \n",
    "#          therefore be in the \"ETK\" style.\n",
    "par.set_parval_from_str(\"grid::GridFuncMemAccess\",\"ETK\")\n",
    "\n",
    "# Step 1c: Set the finite differencing order. \n",
    "#         IMPORTANT: If you set FD_CENTDERIVS_ORDER to 8, be sure to use\n",
    "#                    the parameter files and scripts in the directory:\n",
    "#                    WaveToyNRPy/example_parfiles/8thOrder_ConvergenceTest\n",
    "#                    If you set FD_CENTDERIVS_ORDER to 4, be sure to use\n",
    "#                    the parameter files and scripts in the directory:\n",
    "#                    WaveToyNRPy/example_parfiles/4thOrder_ConvergenceTests\n",
    "par.set_parval_from_str(\"finite_difference::FD_CENTDERIVS_ORDER\",4) # SET TO EIGHTH ORDER\n",
    "\n",
    "# Step 1d: Call the ScalarWave_RHSs() function from within the\n",
    "#          ScalarWave/ScalarWave_RHSs.py module. \n",
    "#          This sets swrhs.uu_rhs and swrhs.vv_rhs.\n",
    "import ScalarWave.ScalarWave_RHSs as swrhs\n",
    "swrhs.ScalarWave_RHSs()"
   ]
  },
  {
   "cell_type": "markdown",
   "metadata": {},
   "source": [
    "Now, we need to output these expressions to C code. We will do this the same way as in the Weyl scalars ETK tutorial: export these to a .h file, which can then be included in a main .c file to do the calculations."
   ]
  },
  {
   "cell_type": "code",
   "execution_count": 2,
   "metadata": {},
   "outputs": [],
   "source": [
    "# Step 2: Register uu_rhs and vv_rhs gridfunctions so \n",
    "#         they can be written to by NRPy.\n",
    "uu_rhs,vv_rhs = gri.register_gridfunctions(\"AUX\",[\"uu_rhs\",\"vv_rhs\"])\n",
    "\n",
    "# Step 3: Create the C code output kernel.\n",
    "scalar_RHSs_to_print = [\\\n",
    "                        lhrh(lhs=gri.gfaccess(\"out_gfs\",\"uu_rhs\"),rhs=swrhs.uu_rhs),\\\n",
    "                        lhrh(lhs=gri.gfaccess(\"out_gfs\",\"vv_rhs\"),rhs=swrhs.vv_rhs),]\n",
    "scalar_RHSs_CcodeKernel = fin.FD_outputC(\"returnstring\",scalar_RHSs_to_print)\n",
    "\n",
    "scalar_RHSs_looped = loop.loop([\"i2\",\"i1\",\"i0\"],[\"cctk_nghostzones[2]\",\"cctk_nghostzones[1]\",\"cctk_nghostzones[0]\"],\\\n",
    "                               [\"cctk_lsh[2]-cctk_nghostzones[2]\",\"cctk_lsh[1]-cctk_nghostzones[1]\",\\\n",
    "                                \"cctk_lsh[0]-cctk_nghostzones[0]\"],\\\n",
    "                               [\"1\",\"1\",\"1\"],[\"#pragma omp parallel for\",\"\",\"\"],\"\",scalar_RHSs_CcodeKernel)\n",
    "\n",
    "# Step 4: Create directories for the thorn if they don't exist.\n",
    "!mkdir WaveToyNRPy     2>/dev/null # 2>/dev/null: Don't throw an error if the directory already exists.\n",
    "!mkdir WaveToyNRPy/src 2>/dev/null # 2>/dev/null: Don't throw an error if the directory already exists.\n",
    "\n",
    "# Step 5: Write the C code kernel to file.\n",
    "with open(\"WaveToyNRPy/src/ScalarWave_RHSs.h\", \"w\") as file:\n",
    "    file.write(str(scalar_RHSs_looped))\n",
    "\n",
    "with open(\"WaveToyNRPy/src/NRPy_params.h\", \"w\") as file:\n",
    "    file.write(\"#define FD_CENTDERIVS_ORDER \"+str(par.parval_from_str(\"finite_difference::FD_CENTDERIVS_ORDER\"))+\"\\n\")"
   ]
  },
  {
   "cell_type": "markdown",
   "metadata": {},
   "source": [
    "### Step 2: Interfacing with the Einstein Toolkit\n",
    "\n",
    "#### Step 2a: Constructing the Einstein Toolkit calling functions that include the C code kernels.\n",
    "\n",
    "Now that we have generated the C code kernel *WaveToyNRPy.c*, we will need to write C code to call these header files that we have output. To do this, we can follow the examples of WaveToyC and our Weyl Scalar ETK thorn. Functions defined by these files will be called by the Einstein Toolkit scheduler."
   ]
  },
  {
   "cell_type": "code",
   "execution_count": 3,
   "metadata": {},
   "outputs": [
    {
     "name": "stdout",
     "output_type": "stream",
     "text": [
      "Writing WaveToyNRPy/src/WaveToyNRPy.c\n"
     ]
    }
   ],
   "source": [
    "%%writefile WaveToyNRPy/src/WaveToyNRPy.c\n",
    "#include <math.h>\n",
    "#include <stdio.h>\n",
    "\n",
    "#include \"cctk.h\"\n",
    "#include \"cctk_Arguments.h\"\n",
    "#include \"cctk_Parameters.h\"\n",
    "#include \"Symmetry.h\"\n",
    "\n",
    "#include \"NRPy_params.h\"\n",
    "\n",
    "void WaveToyNRPy_check_params(CCTK_ARGUMENTS) {\n",
    "    DECLARE_CCTK_ARGUMENTS;\n",
    "\n",
    "    if( (cctk_nghostzones[0] != FD_CENTDERIVS_ORDER/2) || \n",
    "        (cctk_nghostzones[1] != FD_CENTDERIVS_ORDER/2) || \n",
    "        (cctk_nghostzones[2] != FD_CENTDERIVS_ORDER/2) ) {\n",
    "            char error_string[200];\n",
    "            sprintf(error_string,\"WaveToyNRPy_check_params: expected ghost_size to be set to %d , but found ghostxyz = %d %d %d\\n\",\n",
    "                    FD_CENTDERIVS_ORDER/2,cctk_nghostzones[0],cctk_nghostzones[1],cctk_nghostzones[2]);\n",
    "            CCTK_WARN (0, error_string);\n",
    "    }\n",
    "}\n",
    "\n",
    "void WaveToyNRPy_set_rhs(CCTK_ARGUMENTS) {\n",
    "  DECLARE_CCTK_ARGUMENTS;\n",
    "  DECLARE_CCTK_PARAMETERS;\n",
    "  \n",
    "  const CCTK_REAL invdx0 = 1.0 / (CCTK_DELTA_SPACE(0));\n",
    "  const CCTK_REAL invdx1 = 1.0 / (CCTK_DELTA_SPACE(1));\n",
    "  const CCTK_REAL invdx2 = 1.0 / (CCTK_DELTA_SPACE(2));\n",
    "  \n",
    "#include \"ScalarWave_RHSs.h\" \n",
    "}\n",
    "\n",
    "/* Boundary Condition code adapted from WaveToyC thorn in ETK, implementing built-in\n",
    " * ETK BC functionality\n",
    " */\n",
    "void WaveToyNRPy_SelectBCs(CCTK_ARGUMENTS)\n",
    "{\n",
    "  DECLARE_CCTK_ARGUMENTS;\n",
    "  DECLARE_CCTK_PARAMETERS;\n",
    "\n",
    "  const char *bctype;\n",
    "\n",
    "\n",
    "  bctype = NULL;\n",
    "  if (CCTK_EQUALS(bound,\"flat\") || CCTK_EQUALS(bound,\"static\") ||\n",
    "      CCTK_EQUALS(bound,\"radiation\") || CCTK_EQUALS(bound,\"robin\") ||\n",
    "      CCTK_EQUALS(bound,\"none\"))\n",
    "  {\n",
    "    bctype = bound;\n",
    "  }\n",
    "  else if (CCTK_EQUALS(bound,\"zero\"))\n",
    "  {\n",
    "    bctype = \"scalar\";\n",
    "  }\n",
    "\n",
    "  /* Uses all default arguments, so invalid table handle -1 can be passed */\n",
    "  if (bctype && Boundary_SelectVarForBC (cctkGH, CCTK_ALL_FACES, 1, -1,\n",
    "                                         \"WaveToyNRPy::uuGF\", bctype) < 0)\n",
    "  {\n",
    "    CCTK_WARN (0, \"ScalarWave_Boundaries: Error selecting boundary condition\");\n",
    "  }\n",
    "  if (bctype && Boundary_SelectVarForBC (cctkGH, CCTK_ALL_FACES, 1, -1,\n",
    "                                         \"WaveToyNRPy::vvGF\", bctype) < 0)\n",
    "  {\n",
    "    CCTK_WARN (0, \"ScalarWave_Boundaries: Error selecting boundary condition\");\n",
    "  }\n",
    "}\n",
    "\n",
    "void WaveToyNRPy_InitSymBound(CCTK_ARGUMENTS)\n",
    "{\n",
    "  DECLARE_CCTK_ARGUMENTS;\n",
    "      \n",
    "  int sym[3];\n",
    "\n",
    "  sym[0] = 1;\n",
    "  sym[1] = 1;\n",
    "  sym[2] = 1;\n",
    "\n",
    "  SetCartSymVN(cctkGH, sym,\"WaveToyNRPy::uuGF\");\n",
    "  SetCartSymVN(cctkGH, sym,\"WaveToyNRPy::vvGF\");\n",
    "\n",
    "  return;\n",
    "}\n",
    "\n",
    "void WaveToyNRPy_RegisterVars(CCTK_ARGUMENTS)\n",
    "{\n",
    "  DECLARE_CCTK_ARGUMENTS;\n",
    "  DECLARE_CCTK_PARAMETERS;\n",
    "  \n",
    "  CCTK_INT ierr CCTK_ATTRIBUTE_UNUSED = 0;\n",
    "  /* Register all the evolved grid functions with MoL */\n",
    "  ierr += MoLRegisterEvolved(CCTK_VarIndex(\"WaveToyNRPy::uuGF\"),  CCTK_VarIndex(\"WaveToyNRPy::uu_rhsGF\"));\n",
    "  ierr += MoLRegisterEvolved(CCTK_VarIndex(\"WaveToyNRPy::vvGF\"),  CCTK_VarIndex(\"WaveToyNRPy::vv_rhsGF\"));\n",
    "  /* Register all the evolved Array functions with MoL */\n",
    "  return;\n",
    "}"
   ]
  },
  {
   "cell_type": "markdown",
   "metadata": {},
   "source": [
    "#### Step 2b: CCL files - Define how this module interacts and interfaces with the larger Einstein Toolkit infrastructure\n",
    "\n",
    "Writing a module (\"thorn\") within the Einstein Toolkit requires that three \"ccl\" files be constructed, all in the root directory of the thorn:\n",
    "\n",
    "1. $\\text{interface.ccl}$: defines the gridfunction groups needed, and provides keywords denoting what this thorn provides and what it should inherit from other thorns.\n",
    "1. $\\text{param.ccl}$: specifies free parameters within the thorn.\n",
    "1. $\\text{schedule.ccl}$: allocates storage for gridfunctions, defines how the thorn's functions should be scheduled in a broader simulation, and specifies the regions of memory written to or read from gridfunctions.\n",
    "\n",
    "We will start with the file $\\text{interface.ccl}$. This file governs the interaction between this thorn and others; more information can be found in the [official Einstein Toolkit documentation](http://cactuscode.org/documentation/referencemanual/ReferenceManualch8.html#x12-260000C2.2). \n",
    "With \"implements\", we give our thorn its unique name. By \"inheriting\" other thorns, we tell the Toolkit that we will rely on variables that exist within those functions. Then, we tell the toolkit that we want the scalars $\\text{uuGF}$ and $\\text{vvGF}$ to be visible to other thorns by using the keyword \"public\". "
   ]
  },
  {
   "cell_type": "code",
   "execution_count": 4,
   "metadata": {},
   "outputs": [
    {
     "name": "stdout",
     "output_type": "stream",
     "text": [
      "Writing WaveToyNRPy/interface.ccl\n"
     ]
    }
   ],
   "source": [
    "%%writefile WaveToyNRPy/interface.ccl\n",
    "implements: WaveToyNRPy\n",
    "\n",
    "inherits: Boundary grid\n",
    "\n",
    "USES INCLUDE: loopcontrol.h\n",
    "USES INCLUDE: Symmetry.h\n",
    "USES INCLUDE: Boundary.h\n",
    "    \n",
    "CCTK_INT FUNCTION MoLRegisterEvolved(CCTK_INT IN EvolvedIndex, CCTK_INT IN RHSIndex)\n",
    "USES FUNCTION MoLRegisterEvolved\n",
    "\n",
    "CCTK_INT FUNCTION GetBoundarySpecification(CCTK_INT IN size, CCTK_INT OUT ARRAY nboundaryzones, CCTK_INT OUT ARRAY is_internal, CCTK_INT OUT ARRAY is_staggered, CCTK_INT OUT ARRAY shiftout)\n",
    "USES FUNCTION GetBoundarySpecification\n",
    "\n",
    "CCTK_INT FUNCTION SymmetryTableHandleForGrid(CCTK_POINTER_TO_CONST IN cctkGH)\n",
    "USES FUNCTION SymmetryTableHandleForGrid\n",
    "\n",
    "CCTK_INT FUNCTION Boundary_SelectGroupForBC(CCTK_POINTER_TO_CONST IN GH, CCTK_INT IN faces, CCTK_INT IN boundary_width, CCTK_INT IN table_handle, CCTK_STRING IN group_name, CCTK_STRING IN bc_name)\n",
    "USES FUNCTION Boundary_SelectGroupForBC\n",
    "\n",
    "CCTK_INT FUNCTION Boundary_SelectVarForBC(CCTK_POINTER_TO_CONST IN GH, CCTK_INT IN faces, CCTK_INT IN boundary_width, CCTK_INT IN table_handle, CCTK_STRING IN var_name, CCTK_STRING IN bc_name)\n",
    "USES FUNCTION Boundary_SelectVarForBC\n",
    "\n",
    "public:\n",
    "cctk_real scalar_fields_rhs type = GF Timelevels=3 tags='tensortypealias=\"Scalar\"'\n",
    "{\n",
    "  uu_rhsGF,vv_rhsGF\n",
    "} \"The evolved scalar fields\"\n",
    "\n",
    "public:\n",
    "cctk_real scalar_fields type = GF Timelevels=3 tags='tensortypealias=\"Scalar\"'\n",
    "{\n",
    "  uuGF,vvGF\n",
    "} \"The evolved scalar fields\"\n"
   ]
  },
  {
   "cell_type": "markdown",
   "metadata": {},
   "source": [
    "We will now write the file $\\text{param.ccl}$. This file allows the listed parameters to be set at runtime. We also give allowed ranges and default values for each parameter. More information on this file's syntax can be found in the [official Einstein Toolkit documentation](http://cactuscode.org/documentation/referencemanual/ReferenceManualch8.html#x12-265000C2.3). We first set a Keyword to determine our boundary conditions; this is not implemented yet, but more options can be added later. We also set the number of timelevels we will store in memory."
   ]
  },
  {
   "cell_type": "code",
   "execution_count": 5,
   "metadata": {},
   "outputs": [
    {
     "name": "stdout",
     "output_type": "stream",
     "text": [
      "Writing WaveToyNRPy/param.ccl\n"
     ]
    }
   ],
   "source": [
    "%%writefile WaveToyNRPy/param.ccl\n",
    "shares: MethodOfLines\n",
    "\n",
    "USES CCTK_INT MoL_Num_Evolved_Vars\n",
    "USES CCTK_INT MoL_Num_ArrayEvolved_Vars\n",
    "\n",
    "restricted:\n",
    "CCTK_INT SimpleWave_MaxNumEvolvedVars \"Number of evolved variables used by this thorn\" ACCUMULATOR-BASE=MethodofLines::MoL_Num_Evolved_Vars STEERABLE=RECOVER\n",
    "{\n",
    "  2:2 :: \"Number of evolved variables used by this thorn\"\n",
    "} 2\n",
    "\n",
    "restricted:\n",
    "CCTK_INT SimpleWave_MaxNumArrayEvolvedVars \"Number of Array evolved variables used by this thorn\" ACCUMULATOR-BASE=MethodofLines::MoL_Num_ArrayEvolved_Vars STEERABLE=RECOVER\n",
    "{\n",
    "  0:0 :: \"Number of Array evolved variables used by this thorn\"\n",
    "} 0\n",
    "\n",
    "restricted:\n",
    "KEYWORD bound \"Type of boundary condition to use\"\n",
    "{\n",
    "  \"flat\"      :: \"Flat (von Neumann, n grad phi = 0) boundary condition\"\n",
    "  \"static\"    :: \"Static (Dirichlet, dphi/dt=0) boundary condition\"\n",
    "  \"radiation\" :: \"Radiation boundary condition\"\n",
    "  \"robin\"     :: \"Robin (phi(r) = C/r) boundary condition\"\n",
    "  \"zero\"      :: \"Zero (Dirichlet, phi=0) boundary condition\"\n",
    "  \"none\"      :: \"Apply no boundary condition\"\n",
    "} \"static\"\n",
    "\n",
    "restricted:\n",
    "CCTK_INT timelevels \"Number of active timelevels\" STEERABLE=RECOVER\n",
    "{\n",
    "  0:3 :: \"\"\n",
    "} 3\n",
    "\n",
    "restricted:\n",
    "CCTK_REAL wavespeed \"The speed at which the wave propagates\"\n",
    "{\n",
    " *:* :: \"Wavespeed as a multiple of c\"\n",
    "} 1.0"
   ]
  },
  {
   "cell_type": "markdown",
   "metadata": {},
   "source": [
    "Finally, we will write the file $\\text{schedule.ccl}$; its official documentation is found [here](http://cactuscode.org/documentation/referencemanual/ReferenceManualch8.html#x12-268000C2.4). This file dictates when the various parts of the thorn will be run. We first assign storage for both scalar gridfunctions, and then specify that we want our code run "
   ]
  },
  {
   "cell_type": "code",
   "execution_count": 6,
   "metadata": {},
   "outputs": [
    {
     "name": "stdout",
     "output_type": "stream",
     "text": [
      "Writing WaveToyNRPy/schedule.ccl\n"
     ]
    }
   ],
   "source": [
    "%%writefile WaveToyNRPy/schedule.ccl\n",
    "STORAGE: scalar_fields_rhs[timelevels]\n",
    "STORAGE: scalar_fields[timelevels]\n",
    "\n",
    "schedule WaveToyNRPy_InitSymBound at BASEGRID\n",
    "{\n",
    "  LANG: C\n",
    "  OPTIONS: global\n",
    "} \"Schedule symmetries\"\n",
    "\n",
    "schedule WaveToyNRPy_check_params at CCTK_PARAMCHECK\n",
    "{\n",
    "  LANG: C\n",
    "  OPTIONS: global\n",
    "} \"Check sanity of parameters\"\n",
    "\n",
    "schedule WaveToyNRPy_set_rhs as WaveToy_Evolution IN MoL_CalcRHS\n",
    "{\n",
    "  LANG: C\n",
    "  READS: uuGF(Everywhere)\n",
    "  READS: vvGF(Everywhere)\n",
    "  WRITES: uu_rhsGF(Interior)\n",
    "  WRITES: VV_rhsGF(Interior)\n",
    "    # FIXME: Add syncs\n",
    "} \"Evolution of 3D wave equation\"\n",
    "\n",
    "schedule WaveToyNRPy_SelectBCs in MoL_PostStep\n",
    "{\n",
    "  LANG: C\n",
    "  OPTIONS: level\n",
    "  SYNC: scalar_fields\n",
    "} \"Boundaries of 3D wave equation\"\n",
    "\n",
    "schedule GROUP ApplyBCs as WaveToyNRPy_ApplyBCs in MoL_PostStep after WaveToyNRPy_SelectBCs\n",
    "{\n",
    "} \"Apply boundary conditions\"\n",
    "\n",
    "\n",
    "schedule GROUP ApplyBCs as WaveToyNRPy_ApplyBCs at POSTRESTRICT\n",
    "{\n",
    "} \"Apply boundary conditions\"\n",
    "\n",
    "schedule WaveToyNRPy_RegisterVars in MoL_Register\n",
    "{\n",
    "  LANG: C\n",
    "  OPTIONS: meta\n",
    "} \"Register Variables for MoL\"\n"
   ]
  },
  {
   "cell_type": "markdown",
   "metadata": {},
   "source": [
    "#### Step 2c: Add the C file to Einstein Toolkit compilation list.\n",
    "\n",
    "We will also need $\\text{make.code.defn}$, which indicates the list of files that need to be compiled. This thorn only has the one C file to compile."
   ]
  },
  {
   "cell_type": "code",
   "execution_count": 7,
   "metadata": {},
   "outputs": [
    {
     "name": "stdout",
     "output_type": "stream",
     "text": [
      "Writing WaveToyNRPy/src/make.code.defn\n"
     ]
    }
   ],
   "source": [
    "%%writefile WaveToyNRPy/src/make.code.defn\n",
    "SRCS = WaveToyNRPy.c"
   ]
  },
  {
   "cell_type": "markdown",
   "metadata": {},
   "source": [
    "### Step 3: Compiling and Solving the Scalar Wave Equation with the Einstein Toolkit\n",
    "\n",
    "Step-by-step guide:\n",
    "1. Grab the [latest Release of the Einstein Toolkit](https://einsteintoolkit.org/download.html).\n",
    "1. \n",
    "Follow the Einstein Toolkit [Simplified Tutorial for New Users](https://docs.einsteintoolkit.org/et-docs/Simplified_Tutorial_for_New_Users) to Download \n"
   ]
  },
  {
   "cell_type": "code",
   "execution_count": 8,
   "metadata": {},
   "outputs": [
    {
     "data": {
      "image/png": "[encoded data removed]",
      "text/plain": [
       "<wand.image.Image: a43c6c2 'PDF' (792x612)>"
      ]
     },
     "execution_count": 8,
     "metadata": {},
     "output_type": "execute_result"
    }
   ],
   "source": [
    "from wand.image import Image as WImage\n",
    "WImage(filename='WaveToyNRPy/example_parfiles/4thOrder_ConvergenceTests/out-RK4-FD4-3D.pdf')"
   ]
  },
  {
   "cell_type": "code",
   "execution_count": null,
   "metadata": {},
   "outputs": [],
   "source": []
  },
  {
   "cell_type": "code",
   "execution_count": null,
   "metadata": {},
   "outputs": [],
   "source": []
  }
 ],
 "metadata": {
  "kernelspec": {
   "display_name": "Python 3",
   "language": "python",
   "name": "python3"
  },
  "language_info": {
   "codemirror_mode": {
    "name": "ipython",
    "version": 3
   },
   "file_extension": ".py",
   "mimetype": "text/x-python",
   "name": "python",
   "nbconvert_exporter": "python",
   "pygments_lexer": "ipython3",
   "version": "3.6.5"
  }
 },
 "nbformat": 4,
 "nbformat_minor": 2
}
