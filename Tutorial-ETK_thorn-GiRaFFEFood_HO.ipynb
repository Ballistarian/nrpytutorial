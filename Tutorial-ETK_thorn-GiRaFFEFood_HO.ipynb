{
 "cells": [
  {
   "cell_type": "markdown",
   "metadata": {},
   "source": [
    "$\\newcommand{\\giraffe}{\\texttt{GiRaFFE}}$\n",
    "$\\newcommand{\\gf}{\\texttt{GiRaFFEFood}}$\n",
    "## $\\gf$: An Einstein Toolkit Initial Data Thorn for $\\giraffe$\n",
    "\n",
    "### NRPy+ Source Code for this module: [GiRaFFEFood_HO.py](../edit/GiRaFFEFood_HO.py) , which is fully documented in the [previous NRPy+ tutorial module](Tutorial-GiRaFFEFood_HO.ipynb) on using NRPy+ to construct these Exact Wald initial data as SymPy expressions.\n"
   ]
  },
  {
   "cell_type": "markdown",
   "metadata": {},
   "source": [
    "In this part of the tutorial, we will construct an Einstein Toolkit (ETK) thorn (module) that will set up *initial data* for $\\giraffe$. In a [previous tutorial module](Tutorial-MaxwellCartesian.ipynb), we used NRPy+ to contruct the SymPy expressions for plane-wave initial data. \n",
    "\n",
    "We will construct this thorn in two steps.\n",
    "\n",
    "1. Call on NRPy+ to convert the SymPy expressions for the initial data into one C-code kernel.\n",
    "1. Write the C code and linkages to the Einstein Toolkit infrastructure (i.e., the .ccl files) to complete this Einstein Toolkit module.\n",
    "\n",
    "### Step 1: Call on NRPy+ to convert the SymPy expression for the Eact Wald initial data into a C-code kernel. \n",
    "\n",
    "After importing the core modules, we will set $\\text{GridFuncMemAccess}$ to $\\text{ETK}$. SymPy expressions for plane wave initial data are written inside [GiRaFFEFood_HO.py](../edit/GiRaFFEFood_HO.py), and we simply import them for use here."
   ]
  },
  {
   "cell_type": "code",
   "execution_count": 1,
   "metadata": {},
   "outputs": [],
   "source": [
    "# Step 1a: Import needed NRPy+ core modules:\n",
    "import NRPy_param_funcs as par\n",
    "import indexedexp as ixp\n",
    "import grid as gri\n",
    "import finite_difference as fin\n",
    "from outputC import *\n",
    "import loop\n",
    "\n",
    "\n",
    "# Step 1b: This is an Einstein Toolkit (ETK) thorn. Here we\n",
    "#          tell NRPy+ that gridfunction memory access will \n",
    "#          therefore be in the \"ETK\" style.\n",
    "par.set_parval_from_str(\"grid::GridFuncMemAccess\",\"ETK\")\n",
    "#Set the spatial dimension parameter to 3.\n",
    "par.set_parval_from_str(\"grid::DIM\", 3)\n",
    "DIM = par.parval_from_str(\"grid::DIM\")\n",
    "\n",
    "import GiRaFFEFood_HO as gfho\n",
    "gfho.GiRaFFEFood_HO()\n",
    "\n",
    "# Step 2: Create the C code output kernel.\n",
    "GiRaFFEFood_to_print = [\\\n",
    "                        lhrh(lhs=gri.gfaccess(\"out_gfs\",\"AD0\"),rhs=gfho.AD[0]),\\\n",
    "                        lhrh(lhs=gri.gfaccess(\"out_gfs\",\"AD1\"),rhs=gfho.AD[1]),\\\n",
    "                        lhrh(lhs=gri.gfaccess(\"out_gfs\",\"AD2\"),rhs=gfho.AD[2]),\\\n",
    "                        lhrh(lhs=gri.gfaccess(\"out_gfs\",\"BU0\"),rhs=gfho.BU[0]),\\\n",
    "                        lhrh(lhs=gri.gfaccess(\"out_gfs\",\"BU1\"),rhs=gfho.BU[1]),\\\n",
    "                        lhrh(lhs=gri.gfaccess(\"out_gfs\",\"BU2\"),rhs=gfho.BU[2]),\\\n",
    "                        lhrh(lhs=gri.gfaccess(\"out_gfs\",\"ValenciavU0\"),rhs=gfho.ValenciavU[0]),\\\n",
    "                        lhrh(lhs=gri.gfaccess(\"out_gfs\",\"ValenciavU1\"),rhs=gfho.ValenciavU[1]),\\\n",
    "                        lhrh(lhs=gri.gfaccess(\"out_gfs\",\"ValenciavU2\"),rhs=gfho.ValenciavU[2]),\\\n",
    "                        lhrh(lhs=gri.gfaccess(\"out_gfs\",\"StildeD0\"),rhs=gfho.StildeD[0]),\\\n",
    "                        lhrh(lhs=gri.gfaccess(\"out_gfs\",\"StildeD1\"),rhs=gfho.StildeD[1]),\\\n",
    "                        lhrh(lhs=gri.gfaccess(\"out_gfs\",\"StildeD2\"),rhs=gfho.StildeD[2]),\\\n",
    "                        ]\n",
    "\n",
    "GiRaFFEFood_CKernel = fin.FD_outputC(\"returnstring\",GiRaFFEFood_to_print)\n",
    "\n",
    "GiRaFFEFood_looped = loop.loop([\"i2\",\"i1\",\"i0\"],[\"0\",\"0\",\"0\"],[\"cctk_lsh[2]\",\"cctk_lsh[1]\",\"cctk_lsh[0]\"],\\\n",
    "                               [\"1\",\"1\",\"1\"],[\"#pragma omp parallel for\",\"\",\"\"],\"\",\\\n",
    "                               GiRaFFEFood_CKernel.replace(\"time\",\"cctk_time\"))\n",
    "\n",
    "# Step 3: Create directories for the thorn if they don't exist.\n",
    "!mkdir GiRaFFEFood     2>/dev/null # 2>/dev/null: Don't throw an error if the directory already exists.\n",
    "!mkdir GiRaFFEFood/src 2>/dev/null # 2>/dev/null: Don't throw an error if the directory already exists.\n",
    "\n",
    "# Step 4: Write the C code kernel to file.\n",
    "with open(\"GiRaFFEFood/src/GiRaFFEFood_ExactWald.h\", \"w\") as file:\n",
    "    file.write(str(GiRaFFEFood_looped))\n"
   ]
  },
  {
   "cell_type": "markdown",
   "metadata": {},
   "source": [
    "### Step 2: Interfacing with the Einstein Toolkit\n",
    "\n",
    "#### Step 2a: Constructing the Einstein Toolkit C-code calling functions that include the C code kernels.\n",
    "\n",
    "We will write another C file with the functions we need here."
   ]
  },
  {
   "cell_type": "code",
   "execution_count": null,
   "metadata": {},
   "outputs": [],
   "source": []
  },
  {
   "cell_type": "markdown",
   "metadata": {},
   "source": [
    "### Step 2b: CCL files - Define how this module interacts and interfaces with the larger Einstein Toolkit infrastructure\n",
    "\n",
    "Writing a module (\"thorn\") within the Einstein Toolkit requires that three \"ccl\" files be constructed, all in the root directory of the thorn:\n",
    "\n",
    "1. $\\text{interface.ccl}$: defines the gridfunction groups needed, and provides keywords denoting what this thorn provides and what it should inherit from other thorns. Specifically, this file governs the interaction between this thorn and others; more information can be found in the [official Einstein Toolkit documentation](http://cactuscode.org/documentation/referencemanual/ReferenceManualch8.html#x12-260000C2.2). \n",
    "With \"implements\", we give our thorn its unique name. By \"inheriting\" other thorns, we tell the Toolkit that we will rely on variables that exist and are declared \"public\" within those functions."
   ]
  },
  {
   "cell_type": "code",
   "execution_count": null,
   "metadata": {},
   "outputs": [],
   "source": []
  },
  {
   "cell_type": "markdown",
   "metadata": {},
   "source": [
    "2. $\\text{param.ccl}$: specifies free parameters within the thorn, enabling them to be set at runtime. It is required to provide allowed ranges and default values for each parameter. More information on this file's syntax can be found in the [official Einstein Toolkit documentation](http://cactuscode.org/documentation/referencemanual/ReferenceManualch8.html#x12-265000C2.3)."
   ]
  },
  {
   "cell_type": "code",
   "execution_count": null,
   "metadata": {},
   "outputs": [],
   "source": []
  },
  {
   "cell_type": "markdown",
   "metadata": {},
   "source": [
    "3. $\\text{schedule.ccl}$: allocates storage for gridfunctions, defines how the thorn's functions should be scheduled in a broader simulation, and specifies the regions of memory written to or read from gridfunctions. $\\text{schedule.ccl}$'s official documentation may be found [here](http://cactuscode.org/documentation/referencemanual/ReferenceManualch8.html#x12-268000C2.4). \n",
    "\n",
    "We specify here the standardized ETK \"scheduling bins\" in which we want each of our thorn's functions to run."
   ]
  },
  {
   "cell_type": "code",
   "execution_count": null,
   "metadata": {},
   "outputs": [],
   "source": []
  },
  {
   "cell_type": "markdown",
   "metadata": {},
   "source": [
    "#### Step 2c: Add the C code to the Einstein Toolkit compilation list.\n",
    "\n",
    "We will also need $\\text{make.code.defn}$, which indicates the list of files that need to be compiled. This thorn only has the one C file to compile."
   ]
  },
  {
   "cell_type": "code",
   "execution_count": null,
   "metadata": {},
   "outputs": [],
   "source": []
  }
 ],
 "metadata": {
  "kernelspec": {
   "display_name": "Python 3",
   "language": "python",
   "name": "python3"
  },
  "language_info": {
   "codemirror_mode": {
    "name": "ipython",
    "version": 3
   },
   "file_extension": ".py",
   "mimetype": "text/x-python",
   "name": "python",
   "nbconvert_exporter": "python",
   "pygments_lexer": "ipython3",
   "version": "3.6.6"
  }
 },
 "nbformat": 4,
 "nbformat_minor": 2
}
