{
 "cells": [
  {
   "cell_type": "markdown",
   "metadata": {},
   "source": [
    "$\\newcommand{\\giraffe}{\\texttt{GiRaFFE}}$\n",
    "$\\newcommand{\\gf}{\\texttt{GiRaFFEFood}}$\n",
    "## $\\gf$: An Einstein Toolkit Initial Data Thorn for $\\giraffe$\n",
    "\n",
    "### NRPy+ Source Code for this module: [GiRaFFEFood_HO.py](../edit/GiRaFFEFood_HO.py) , which is fully documented in the [previous NRPy+ tutorial module](Tutorial-GiRaFFEFood_HO.ipynb) on using NRPy+ to construct these Exact Wald initial data as SymPy expressions.\n"
   ]
  },
  {
   "cell_type": "markdown",
   "metadata": {},
   "source": [
    "In this part of the tutorial, we will construct an Einstein Toolkit (ETK) thorn (module) that will set up *initial data* for $\\giraffe$. In a [previous tutorial module](Tutorial-MaxwellCartesian.ipynb), we used NRPy+ to contruct the SymPy expressions for plane-wave initial data. \n",
    "\n",
    "We will construct this thorn in two steps.\n",
    "\n",
    "1. Call on NRPy+ to convert the SymPy expressions for the initial data into one C-code kernel.\n",
    "1. Write the C code and linkages to the Einstein Toolkit infrastructure (i.e., the .ccl files) to complete this Einstein Toolkit module.\n",
    "\n",
    "### Step 1: Call on NRPy+ to convert the SymPy expression for the Eact Wald initial data into a C-code kernel. \n",
    "\n",
    "After importing the core modules, we will set $\\text{GridFuncMemAccess}$ to $\\text{ETK}$. SymPy expressions for plane wave initial data are written inside [GiRaFFEFood_HO.py](../edit/GiRaFFEFood_HO.py), and we simply import them for use here."
   ]
  },
  {
   "cell_type": "code",
   "execution_count": 1,
   "metadata": {},
   "outputs": [],
   "source": [
    "# Step 1a: Import needed NRPy+ core modules:\n",
    "import NRPy_param_funcs as par\n",
    "import indexedexp as ixp\n",
    "import grid as gri\n",
    "import finite_difference as fin\n",
    "from outputC import *\n",
    "import loop\n",
    "\n",
    "\n",
    "# Step 1b: This is an Einstein Toolkit (ETK) thorn. Here we\n",
    "#          tell NRPy+ that gridfunction memory access will \n",
    "#          therefore be in the \"ETK\" style.\n",
    "par.set_parval_from_str(\"grid::GridFuncMemAccess\",\"ETK\")\n",
    "#Set the spatial dimension parameter to 3.\n",
    "par.set_parval_from_str(\"grid::DIM\", 3)\n",
    "DIM = par.parval_from_str(\"grid::DIM\")\n",
    "\n",
    "import GiRaFFEFood_HO as gfho\n",
    "gfho.GiRaFFEFood_HO()\n",
    "\n",
    "# Step 2: Create the C code output kernel.\n",
    "GiRaFFEFood_A_v_to_print = [\\\n",
    "                            lhrh(lhs=gri.gfaccess(\"out_gfs\",\"AD0\"),rhs=gfho.AD[0]),\\\n",
    "                            lhrh(lhs=gri.gfaccess(\"out_gfs\",\"AD1\"),rhs=gfho.AD[1]),\\\n",
    "                            lhrh(lhs=gri.gfaccess(\"out_gfs\",\"AD2\"),rhs=gfho.AD[2]),\\\n",
    "                            lhrh(lhs=gri.gfaccess(\"out_gfs\",\"ValenciavU0\"),rhs=gfho.ValenciavU[0]),\\\n",
    "                            lhrh(lhs=gri.gfaccess(\"out_gfs\",\"ValenciavU1\"),rhs=gfho.ValenciavU[1]),\\\n",
    "                            lhrh(lhs=gri.gfaccess(\"out_gfs\",\"ValenciavU2\"),rhs=gfho.ValenciavU[2]),\\\n",
    "                            ]\n",
    "\n",
    "GiRaFFEFood_S_B_to_print = [\\\n",
    "                            lhrh(lhs=gri.gfaccess(\"out_gfs\",\"BU0\"),rhs=gfho.BU[0]),\\\n",
    "                            lhrh(lhs=gri.gfaccess(\"out_gfs\",\"BU1\"),rhs=gfho.BU[1]),\\\n",
    "                            lhrh(lhs=gri.gfaccess(\"out_gfs\",\"BU2\"),rhs=gfho.BU[2]),\\\n",
    "                            lhrh(lhs=gri.gfaccess(\"out_gfs\",\"StildeD0\"),rhs=gfho.StildeD[0]),\\\n",
    "                            lhrh(lhs=gri.gfaccess(\"out_gfs\",\"StildeD1\"),rhs=gfho.StildeD[1]),\\\n",
    "                            lhrh(lhs=gri.gfaccess(\"out_gfs\",\"StildeD2\"),rhs=gfho.StildeD[2]),\\\n",
    "                            ]\n",
    "\n",
    "GiRaFFEFood_A_v_CKernel = fin.FD_outputC(\"returnstring\",GiRaFFEFood_A_v_to_print)\n",
    "GiRaFFEFood_A_v_CKernel = \"const double u0 = u0GF[CCTK_GFINDEX3D(cctkGH, i0,i1,i2)];\\n\" + GiRaFFEFood_A_v_CKernel\n",
    "GiRaFFEFood_S_B_CKernel = fin.FD_outputC(\"returnstring\",GiRaFFEFood_S_B_to_print)\n",
    "GiRaFFEFood_S_B_CKernel = \"const double u0 = u0GF[CCTK_GFINDEX3D(cctkGH, i0,i1,i2)];\\n\" + GiRaFFEFood_S_B_CKernel\n",
    "\n",
    "GiRaFFEFood_A_v_looped = loop.loop([\"i2\",\"i1\",\"i0\"],[\"0\",\"0\",\"0\"],[\"cctk_lsh[2]\",\"cctk_lsh[1]\",\"cctk_lsh[0]\"],\\\n",
    "                                   [\"1\",\"1\",\"1\"],[\"#pragma omp parallel for\",\"\",\"\"],\"\",\\\n",
    "                                   GiRaFFEFood_A_v_CKernel.replace(\"time\",\"cctk_time\"))\n",
    "GiRaFFEFood_S_B_looped = loop.loop([\"i2\",\"i1\",\"i0\"],[\"0\",\"0\",\"0\"],[\"cctk_lsh[2]\",\"cctk_lsh[1]\",\"cctk_lsh[0]\"],\\\n",
    "                                   [\"1\",\"1\",\"1\"],[\"#pragma omp parallel for\",\"\",\"\"],\"\",\\\n",
    "                                   GiRaFFEFood_S_B_CKernel.replace(\"time\",\"cctk_time\"))\n",
    "\n",
    "# Step 3: Create directories for the thorn if they don't exist.\n",
    "!mkdir GiRaFFEFood     2>/dev/null # 2>/dev/null: Don't throw an error if the directory already exists.\n",
    "!mkdir GiRaFFEFood/src 2>/dev/null # 2>/dev/null: Don't throw an error if the directory already exists.\n",
    "\n",
    "# Step 4: Write the C code kernel to file.\n",
    "with open(\"GiRaFFEFood/src/GiRaFFEFood_A_v_ExactWald.h\", \"w\") as file:\n",
    "    file.write(str(GiRaFFEFood_A_v_looped))\n",
    "\n",
    "with open(\"GiRaFFEFood/src/GiRaFFEFood_S_B_ExactWald.h\", \"w\") as file:\n",
    "    file.write(str(GiRaFFEFood_S_B_looped))\n"
   ]
  },
  {
   "cell_type": "markdown",
   "metadata": {},
   "source": [
    "### Step 2: Interfacing with the Einstein Toolkit\n",
    "\n",
    "#### Step 2a: Constructing the Einstein Toolkit C-code calling functions that include the C code kernels.\n",
    "\n",
    "We will write another C file with the functions we need here."
   ]
  },
  {
   "cell_type": "code",
   "execution_count": 2,
   "metadata": {},
   "outputs": [
    {
     "name": "stdout",
     "output_type": "stream",
     "text": [
      "Overwriting GiRaFFEFood/src/InitialData.c\n"
     ]
    }
   ],
   "source": [
    "%%writefile GiRaFFEFood/src/InitialData.c\n",
    "#include <math.h>\n",
    "#include <stdio.h>\n",
    "\n",
    "#include \"cctk.h\"\n",
    "#include \"cctk_Parameters.h\"\n",
    "#include \"cctk_Arguments.h\"\n",
    "\n",
    "void GiRaFFE_ExactWaldID(CCTK_ARGUMENTS)\n",
    "{\n",
    "  DECLARE_CCTK_ARGUMENTS;\n",
    "  DECLARE_CCTK_PARAMETERS;\n",
    "  \n",
    "  const CCTK_REAL *xGF = x;\n",
    "  const CCTK_REAL *yGF = y;\n",
    "  const CCTK_REAL *zGF = z;\n",
    "  const CCTK_REAL *gammaDD00GF = gxx;\n",
    "  const CCTK_REAL *gammaDD01GF = gxy;\n",
    "  const CCTK_REAL *gammaDD02GF = gxz;\n",
    "  const CCTK_REAL *gammaDD11GF = gyy;\n",
    "  const CCTK_REAL *gammaDD12GF = gyz;\n",
    "  const CCTK_REAL *gammaDD22GF = gzz;\n",
    "  const CCTK_REAL *alphaGF = alp;\n",
    "  const CCTK_REAL *betaU0GF = betax;\n",
    "  const CCTK_REAL *betaU1GF = betay;\n",
    "  const CCTK_REAL *betaU2GF = betaz;\n",
    "    \n",
    "  CCTK_REAL *ValenciavU0GF = ValenciavU0;\n",
    "  CCTK_REAL *ValenciavU1GF = ValenciavU1;\n",
    "  CCTK_REAL *ValenciavU2GF = ValenciavU2;\n",
    "  CCTK_REAL *StildeD0GF = StildeD0;\n",
    "  CCTK_REAL *StildeD1GF = StildeD1;\n",
    "  CCTK_REAL *StildeD2GF = StildeD2;\n",
    "  CCTK_REAL *BU0GF = BU0;\n",
    "  CCTK_REAL *BU1GF = BU1;\n",
    "  CCTK_REAL *BU2GF = BU2;\n",
    "  CCTK_REAL *AD0GF = AD0;\n",
    "  CCTK_REAL *AD1GF = AD1;\n",
    "  CCTK_REAL *AD2GF = AD2;\n",
    "  {\n",
    "#include \"GiRaFFEFood_ExactWald.h\"\n",
    "  }\n",
    "}"
   ]
  },
  {
   "cell_type": "markdown",
   "metadata": {},
   "source": [
    "### Step 2b: CCL files - Define how this module interacts and interfaces with the larger Einstein Toolkit infrastructure\n",
    "\n",
    "Writing a module (\"thorn\") within the Einstein Toolkit requires that three \"ccl\" files be constructed, all in the root directory of the thorn:\n",
    "\n",
    "1. $\\text{interface.ccl}$: defines the gridfunction groups needed, and provides keywords denoting what this thorn provides and what it should inherit from other thorns. Specifically, this file governs the interaction between this thorn and others; more information can be found in the [official Einstein Toolkit documentation](http://cactuscode.org/documentation/referencemanual/ReferenceManualch8.html#x12-260000C2.2). \n",
    "With \"implements\", we give our thorn its unique name. By \"inheriting\" other thorns, we tell the Toolkit that we will rely on variables that exist and are declared \"public\" within those functions."
   ]
  },
  {
   "cell_type": "code",
   "execution_count": 3,
   "metadata": {},
   "outputs": [
    {
     "name": "stdout",
     "output_type": "stream",
     "text": [
      "Overwriting GiRaFFEFood/interface.ccl\n"
     ]
    }
   ],
   "source": [
    "%%writefile GiRaFFEFood/interface.ccl\n",
    "implements: GiRaFFEFood_HO\n",
    "inherits: admbase GiRaFFE_HO grid HydroBase\n",
    "\n",
    "void FUNCTION GiRaFFE_to_HydroBase()\n",
    "USES FUNCTION GiRaFFE_to_HydroBase\n"
   ]
  },
  {
   "cell_type": "markdown",
   "metadata": {},
   "source": [
    "2. $\\text{param.ccl}$: specifies free parameters within the thorn, enabling them to be set at runtime. It is required to provide allowed ranges and default values for each parameter. More information on this file's syntax can be found in the [official Einstein Toolkit documentation](http://cactuscode.org/documentation/referencemanual/ReferenceManualch8.html#x12-265000C2.3)."
   ]
  },
  {
   "cell_type": "code",
   "execution_count": 4,
   "metadata": {},
   "outputs": [
    {
     "name": "stdout",
     "output_type": "stream",
     "text": [
      "Overwriting GiRaFFEFood/param.ccl\n"
     ]
    }
   ],
   "source": [
    "%%writefile GiRaFFEFood/param.ccl\n",
    "shares: grid\n",
    "\n",
    "USES KEYWORD type\n",
    "\n",
    "restricted:\n",
    "CCTK_KEYWORD initial_data \"Type of initial data\"\n",
    "{\n",
    "  \"ExactWald\"      :: \"Exact Wald initial data\"\n",
    "} \"ExactWald\"\n",
    "\n",
    "restricted:\n",
    "CCTK_REAL M \"Kerr-Schild BH mass. Probably should always set M=1.\"\n",
    "{\n",
    "  0.0:* :: \"Must be positive\"\n",
    "} 1.0\n"
   ]
  },
  {
   "cell_type": "markdown",
   "metadata": {},
   "source": [
    "3. $\\text{schedule.ccl}$: allocates storage for gridfunctions, defines how the thorn's functions should be scheduled in a broader simulation, and specifies the regions of memory written to or read from gridfunctions. $\\text{schedule.ccl}$'s official documentation may be found [here](http://cactuscode.org/documentation/referencemanual/ReferenceManualch8.html#x12-268000C2.4). \n",
    "\n",
    "We specify here the standardized ETK \"scheduling bins\" in which we want each of our thorn's functions to run."
   ]
  },
  {
   "cell_type": "code",
   "execution_count": 5,
   "metadata": {},
   "outputs": [
    {
     "name": "stdout",
     "output_type": "stream",
     "text": [
      "Overwriting GiRaFFEFood/schedule.ccl\n"
     ]
    }
   ],
   "source": [
    "%%writefile GiRaFFEFood/schedule.ccl\n",
    "schedule GiRaFFE_ExactWaldID at CCTK_INITIAL as GiRaFFEFood\n",
    "{\n",
    "  STORAGE: GiRaFFE_HO::GiRaFFE_vars[3]\n",
    "  STORAGE: GiRaFFE_HO::GiRaFFE_Vs[1]\n",
    "  STORAGE: GiRaFFE_HO::GiRaFFE_Bs[1]\n",
    "  STORAGE: GiRaFFE_HO::GiRaFFE_u0[1]\n",
    "  LANG: C\n",
    "  READS: admbase::gxx(Everywhere)\n",
    "  READS: admbase::gxy(Everywhere)\n",
    "  READS: admbase::gxz(Everywhere)\n",
    "  READS: admbase::gyy(Everywhere)\n",
    "  READS: admbase::gyz(Everywhere)\n",
    "  READS: admbase::gzz(Everywhere)\n",
    "  READS: grid::x(Everywhere)\n",
    "  READS: grid::y(Everywhere)\n",
    "  READS: grid::y(Everywhere)\n",
    "  WRITES: GiRaFFE_HO::BU0(Everywhere)\n",
    "  WRITES: GiRaFFE_HO::BU1(Everywhere)\n",
    "  WRITES: GiRaFFE_HO::BU2(Everywhere)\n",
    "  WRITES: GiRaFFE_HO::AD0(Everywhere)\n",
    "  WRITES: GiRaFFE_HO::AD1(Everywhere)\n",
    "  WRITES: GiRaFFE_HO::AD2(Everywhere)\n",
    "  WRITES: GiRaFFE_HO::ValenciavU0(Everywhere)\n",
    "  WRITES: GiRaFFE_HO::ValenciavU1(Everywhere)\n",
    "  WRITES: GiRaFFE_HO::ValenciavU2(Everywhere)\n",
    "  WRITES: GiRaFFE_HO::StildeD0(Everywhere)\n",
    "  WRITES: GiRaFFE_HO::StildeD1(Everywhere)\n",
    "  WRITES: GiRaFFE_HO::StildeD2(Everywhere)\n",
    "} \"Initial data for GiRaFFE\"\n",
    "\n",
    "schedule GiRaFFE_to_HydroBase at CCTK_INITIAL AFTER GiRaFFEFood\n",
    "{\n",
    "  LANG:C\n",
    "  READS: GiRaFFE_HO::BU0(Everywhere)\n",
    "  READS: GiRaFFE_HO::BU1(Everywhere)\n",
    "  READS: GiRaFFE_HO::BU2(Everywhere)\n",
    "  READS: GiRaFFE_HO::AD0(Everywhere)\n",
    "  READS: GiRaFFE_HO::AD1(Everywhere)\n",
    "  READS: GiRaFFE_HO::AD2(Everywhere)\n",
    "  READS: GiRaFFE_HO::ValenciavU0(Everywhere)\n",
    "  READS: GiRaFFE_HO::ValenciavU1(Everywhere)\n",
    "  READS: GiRaFFE_HO::ValenciavU2(Everywhere)\n",
    "  WRITES: HydroBase::Avec(Everywhere)\n",
    "  WRITES: HydroBase::Bvec(Everywhere)\n",
    "  WRITES: HydroBase::vel(Everywhere)\n",
    "} \"Converts the GiRaFFE variables to HydroBase variables\"\n"
   ]
  },
  {
   "cell_type": "markdown",
   "metadata": {},
   "source": [
    "#### Step 2c: Add the C code to the Einstein Toolkit compilation list.\n",
    "\n",
    "We will also need $\\text{make.code.defn}$, which indicates the list of files that need to be compiled. This thorn only has the one C file to compile."
   ]
  },
  {
   "cell_type": "code",
   "execution_count": 6,
   "metadata": {},
   "outputs": [
    {
     "name": "stdout",
     "output_type": "stream",
     "text": [
      "Overwriting GiRaFFEFood/src/make.code.defn\n"
     ]
    }
   ],
   "source": [
    "%%writefile GiRaFFEFood/src/make.code.defn\n",
    "SRCS = InitialData.c"
   ]
  }
 ],
 "metadata": {
  "kernelspec": {
   "display_name": "Python 3",
   "language": "python",
   "name": "python3"
  },
  "language_info": {
   "codemirror_mode": {
    "name": "ipython",
    "version": 3
   },
   "file_extension": ".py",
   "mimetype": "text/x-python",
   "name": "python",
   "nbconvert_exporter": "python",
   "pygments_lexer": "ipython3",
   "version": "3.6.6"
  }
 },
 "nbformat": 4,
 "nbformat_minor": 2
}
