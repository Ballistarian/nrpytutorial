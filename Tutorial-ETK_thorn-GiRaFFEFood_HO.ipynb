{
 "cells": [
  {
   "cell_type": "markdown",
   "metadata": {},
   "source": [
    "$\\newcommand{\\giraffe}{\\texttt{GiRaFFE}}$\n",
    "$\\newcommand{\\gf}{\\texttt{GiRaFFEFood}}$\n",
    "## $\\gf$: An Einstein Toolkit Initial Data Thorn for $\\giraffe$\n",
    "\n",
    "### NRPy+ Source Code for this module: [GiRaFFEFood_HO.py](../edit/GiRaFFEFood_HO.py) , which is fully documented in the [previous NRPy+ tutorial module](Tutorial-GiRaFFEFood_HO.ipynb) on using NRPy+ to construct these Exact Wald initial data as SymPy expressions.\n"
   ]
  },
  {
   "cell_type": "markdown",
   "metadata": {},
   "source": [
    "In this part of the tutorial, we will construct an Einstein Toolkit (ETK) thorn (module) that will set up *initial data* for $\\giraffe$. In a [previous tutorial module](Tutorial-MaxwellCartesian.ipynb), we used NRPy+ to contruct the SymPy expressions for plane-wave initial data. \n",
    "\n",
    "We will construct this thorn in two steps.\n",
    "\n",
    "1. Call on NRPy+ to convert the SymPy expressions for the initial data into one C-code kernel.\n",
    "1. Write the C code and linkages to the Einstein Toolkit infrastructure (i.e., the .ccl files) to complete this Einstein Toolkit module.\n",
    "\n",
    "### Step 1: Call on NRPy+ to convert the SymPy expression for the Eact Wald initial data into a C-code kernel. \n",
    "\n",
    "After importing the core modules, we will set $\\text{GridFuncMemAccess}$ to $\\text{ETK}$. SymPy expressions for plane wave initial data are written inside [GiRaFFEFood_HO.py](../edit/GiRaFFEFood_HO.py), and we simply import them for use here."
   ]
  },
  {
   "cell_type": "code",
   "execution_count": 1,
   "metadata": {},
   "outputs": [],
   "source": [
    "# Step 1a: Import needed NRPy+ core modules:\n",
    "import NRPy_param_funcs as par\n",
    "import indexedexp as ixp\n",
    "import grid as gri\n",
    "import finite_difference as fin\n",
    "from outputC import *\n",
    "import loop\n",
    "\n",
    "\n",
    "# Step 1b: This is an Einstein Toolkit (ETK) thorn. Here we\n",
    "#          tell NRPy+ that gridfunction memory access will \n",
    "#          therefore be in the \"ETK\" style.\n",
    "par.set_parval_from_str(\"grid::GridFuncMemAccess\",\"ETK\")\n",
    "#Set the spatial dimension parameter to 3.\n",
    "par.set_parval_from_str(\"grid::DIM\", 3)\n",
    "DIM = par.parval_from_str(\"grid::DIM\")\n",
    "\n",
    "# Step 1c: Within the ETK, the 3D gridfunctions x, y, and z store the\n",
    "#          Cartesian grid coordinates. Setting the gri.xx[] arrays\n",
    "#          to point to these gridfunctions forces NRPy+ to treat\n",
    "#          the Cartesian coordinate gridfunctions properly --\n",
    "#          reading them from memory as needed.\n",
    "x,y,z = gri.register_gridfunctions(\"AUX\",[\"x\",\"y\",\"z\"])\n",
    "gri.xx[0] = x\n",
    "gri.xx[1] = y\n",
    "gri.xx[2] = z\n",
    "\n",
    "import GiRaFFEFood_HO as gfho\n",
    "gfho.GiRaFFEFood_HO()\n",
    "\n",
    "# Step 2: Create the C code output kernel.\n",
    "GiRaFFEFood_A_v_to_print = [\\\n",
    "                            lhrh(lhs=gri.gfaccess(\"out_gfs\",\"AD0\"),rhs=gfho.AD[0]),\\\n",
    "                            lhrh(lhs=gri.gfaccess(\"out_gfs\",\"AD1\"),rhs=gfho.AD[1]),\\\n",
    "                            lhrh(lhs=gri.gfaccess(\"out_gfs\",\"AD2\"),rhs=gfho.AD[2]),\\\n",
    "                            lhrh(lhs=gri.gfaccess(\"out_gfs\",\"ValenciavU0\"),rhs=gfho.ValenciavU[0]),\\\n",
    "                            lhrh(lhs=gri.gfaccess(\"out_gfs\",\"ValenciavU1\"),rhs=gfho.ValenciavU[1]),\\\n",
    "                            lhrh(lhs=gri.gfaccess(\"out_gfs\",\"ValenciavU2\"),rhs=gfho.ValenciavU[2]),\\\n",
    "                            ]\n",
    "\n",
    "GiRaFFEFood_S_B_to_print = [\\\n",
    "                            lhrh(lhs=gri.gfaccess(\"out_gfs\",\"BU0\"),rhs=gfho.BU[0]),\\\n",
    "                            lhrh(lhs=gri.gfaccess(\"out_gfs\",\"BU1\"),rhs=gfho.BU[1]),\\\n",
    "                            lhrh(lhs=gri.gfaccess(\"out_gfs\",\"BU2\"),rhs=gfho.BU[2]),\\\n",
    "                            lhrh(lhs=gri.gfaccess(\"out_gfs\",\"StildeD0\"),rhs=gfho.StildeD[0]),\\\n",
    "                            lhrh(lhs=gri.gfaccess(\"out_gfs\",\"StildeD1\"),rhs=gfho.StildeD[1]),\\\n",
    "                            lhrh(lhs=gri.gfaccess(\"out_gfs\",\"StildeD2\"),rhs=gfho.StildeD[2]),\\\n",
    "                            ]\n",
    "\n",
    "GiRaFFEFood_A_v_CKernel = fin.FD_outputC(\"returnstring\",GiRaFFEFood_A_v_to_print)\n",
    "GiRaFFEFood_S_B_CKernel = fin.FD_outputC(\"returnstring\",GiRaFFEFood_S_B_to_print)\n",
    "GiRaFFEFood_S_B_CKernel = \"const double u0 = u0GF[CCTK_GFINDEX3D(cctkGH, i0,i1,i2)];\\n\" + GiRaFFEFood_S_B_CKernel\n",
    "\n",
    "GiRaFFEFood_A_v_looped = loop.loop([\"i2\",\"i1\",\"i0\"],[\"0\",\"0\",\"0\"],[\"cctk_lsh[2]\",\"cctk_lsh[1]\",\"cctk_lsh[0]\"],\\\n",
    "                                   [\"1\",\"1\",\"1\"],[\"#pragma omp parallel for\",\"\",\"\"],\"\",\\\n",
    "                                   GiRaFFEFood_A_v_CKernel.replace(\"time\",\"cctk_time\"))\n",
    "GiRaFFEFood_S_B_looped = loop.loop([\"i2\",\"i1\",\"i0\"],[\"0\",\"0\",\"0\"],[\"cctk_lsh[2]\",\"cctk_lsh[1]\",\"cctk_lsh[0]\"],\\\n",
    "                                   [\"1\",\"1\",\"1\"],[\"#pragma omp parallel for\",\"\",\"\"],\"\",\\\n",
    "                                   GiRaFFEFood_S_B_CKernel.replace(\"time\",\"cctk_time\"))\n",
    "\n",
    "# Step 3: Create directories for the thorn if they don't exist.\n",
    "!mkdir GiRaFFEFood     2>/dev/null # 2>/dev/null: Don't throw an error if the directory already exists.\n",
    "!mkdir GiRaFFEFood/src 2>/dev/null # 2>/dev/null: Don't throw an error if the directory already exists.\n",
    "\n",
    "# Step 4: Write the C code kernel to file.\n",
    "with open(\"GiRaFFEFood/src/GiRaFFEFood_A_v_ExactWald.h\", \"w\") as file:\n",
    "    file.write(str(GiRaFFEFood_A_v_looped))\n",
    "\n",
    "with open(\"GiRaFFEFood/src/GiRaFFEFood_S_B_ExactWald.h\", \"w\") as file:\n",
    "    file.write(str(GiRaFFEFood_S_B_looped))\n",
    "\n",
    "# Step 5: Import the function to calculate u0 and write it to a file.\n",
    "import u0_smallb_Poynting__Cartesian.u0_smallb_Poynting__Cartesian as u0etc\n",
    "#u0etc.compute_u0_smallb_Poynting__Cartesian(gammaDD,betaU,alpha,ValenciavU,BU)\n",
    "\n",
    "with open(\"GiRaFFEFood/src/computeu0_Cfunction.h\", \"w\") as file:\n",
    "    file.write(u0etc.computeu0_Cfunction)\n"
   ]
  },
  {
   "cell_type": "markdown",
   "metadata": {},
   "source": [
    "### Step 2: Interfacing with the Einstein Toolkit\n",
    "\n",
    "#### Step 2a: Constructing the Einstein Toolkit C-code calling functions that include the C code kernels.\n",
    "\n",
    "We will write another C file with the functions we need here."
   ]
  },
  {
   "cell_type": "code",
   "execution_count": 2,
   "metadata": {},
   "outputs": [
    {
     "name": "stdout",
     "output_type": "stream",
     "text": [
      "Overwriting GiRaFFEFood/src/InitialData.c\n"
     ]
    }
   ],
   "source": [
    "%%writefile GiRaFFEFood/src/InitialData.c\n",
    "#include <math.h>\n",
    "#include <stdio.h>\n",
    "\n",
    "#include \"cctk.h\"\n",
    "#include \"cctk_Parameters.h\"\n",
    "#include \"cctk_Arguments.h\"\n",
    "void GiRaFFE_set_A_v(const cGH* restrict const cctkGH,const int *cctk_lsh,const int *cctk_nghostzones,\n",
    "                     const CCTK_REAL *xGF,const CCTK_REAL *yGF,const CCTK_REAL *zGF,const CCTK_REAL *u0GF,\n",
    "                     CCTK_REAL *AD0GF,CCTK_REAL *AD1GF,CCTK_REAL *AD2GF,\n",
    "                     CCTK_REAL *ValenciavU0GF,CCTK_REAL *ValenciavU1GF,CCTK_REAL *ValenciavU2GF) {\n",
    "\n",
    "  DECLARE_CCTK_PARAMETERS;\n",
    "\n",
    "#include \"GiRaFFEFood_A_v_ExactWald.h\"\n",
    "\n",
    "}\n",
    "\n",
    "void GiRaFFE_set_S_B(const cGH* restrict const cctkGH,const int *cctk_lsh,const int *cctk_nghostzones,\n",
    "                     const CCTK_REAL *ValenciavU0GF,const CCTK_REAL *ValenciavU1GF,const CCTK_REAL *ValenciavU2GF,const CCTK_REAL *u0GF,\n",
    "                     const CCTK_REAL *alphaGF,const CCTK_REAL *betaU0GF,const CCTK_REAL *betaU1GF,const CCTK_REAL *betaU2GF,\n",
    "                     const CCTK_REAL *gammaDD00GF,const CCTK_REAL *gammaDD01GF,const CCTK_REAL *gammaDD02GF,const CCTK_REAL *gammaDD11GF,const CCTK_REAL *gammaDD12GF,const CCTK_REAL *gammaDD22GF,\n",
    "                     CCTK_REAL *BU0GF,CCTK_REAL *BU1GF,CCTK_REAL *BU2GF,\n",
    "                     CCTK_REAL *StildeD0GF,CCTK_REAL *StildeD1GF,CCTK_REAL *StildeD2GF) {\n",
    "\n",
    "  DECLARE_CCTK_PARAMETERS;\n",
    "\n",
    "#include \"GiRaFFEFood_S_B_ExactWald.h\"\n",
    "\n",
    "}\n",
    "\n",
    "void Write_to_HydroBase(const cGH* restrict const cctkGH,const int *cctk_lsh,const int *cctk_nghostzones,\n",
    "                        const CCTK_REAL *ValenciavU0,const CCTK_REAL *ValenciavU1,const CCTK_REAL *ValenciavU2,\n",
    "                        const CCTK_REAL *AD0,const CCTK_REAL *AD1,const CCTK_REAL *AD2,\n",
    "                        const CCTK_REAL *BU0,const CCTK_REAL *BU1,const CCTK_REAL *BU2,\n",
    "                        CCTK_REAL *vel, CCTK_REAL *Avec,CCTK_REAL *Bvec) {\n",
    "  /* Bvec[i] <- BUi\n",
    "   * Avec[i] <- ADi\n",
    "   * vel[i]  <- ValenciavUi\n",
    "   */\n",
    "  DECLARE_CCTK_PARAMETERS;\n",
    "  \n",
    "  CCTK_INT idx3;\n",
    "  CCTK_INT idx4[3];\n",
    "#pragma omp parallel for\n",
    "  for(int i2=0; i2<cctk_lsh[2]; i2++) {\n",
    "      for(int i1=0; i1<cctk_lsh[1]; i1++) {\n",
    "          for(int i0=0; i0<cctk_lsh[0]; i0++) {\n",
    "              idx3 = CCTK_GFINDEX3D(cctkGH, i0,i1,i2);\n",
    "              idx4[0] = CCTK_GFINDEX4D(cctkGH, i0,i1,i2,0);\n",
    "              idx4[1] = CCTK_GFINDEX4D(cctkGH, i0,i1,i2,1);\n",
    "              idx4[2] = CCTK_GFINDEX4D(cctkGH, i0,i1,i2,2);\n",
    "              Bvec[idx4[0]] = BU0[idx3];\n",
    "              Bvec[idx4[1]] = BU1[idx3];\n",
    "              Bvec[idx4[2]] = BU2[idx3];\n",
    "              Avec[idx4[0]] = AD0[idx3];\n",
    "              Avec[idx4[1]] = AD1[idx3];\n",
    "              Avec[idx4[2]] = AD2[idx3];\n",
    "              vel[idx4[0]] = ValenciavU0[idx3];\n",
    "              vel[idx4[1]] = ValenciavU1[idx3];\n",
    "              vel[idx4[2]] = ValenciavU2[idx3];\n",
    "              // We don't set Phi, because it is always set to zero in GiRaFFE ID thorns.\n",
    "          }\n",
    "      }\n",
    "  }\n",
    "}\n",
    "\n",
    "void find_u0(CCTK_REAL *ValenciavU0GF,CCTK_REAL *ValenciavU1GF,CCTK_REAL *ValenciavU2GF,CCTK_REAL alpha,\n",
    "             const CCTK_REAL gammaDD00,const CCTK_REAL gammaDD01,const CCTK_REAL gammaDD02,const CCTK_REAL gammaDD11,const CCTK_REAL gammaDD12,const CCTK_REAL gammaDD22,\n",
    "             CCTK_REAL *u0GF,const CCTK_INT idx)\n",
    "{\n",
    "  DECLARE_CCTK_PARAMETERS;\n",
    "  CCTK_REAL u0;\n",
    "  CCTK_REAL ValenciavU0 = ValenciavU0GF[idx];\n",
    "  CCTK_REAL ValenciavU1 = ValenciavU1GF[idx];\n",
    "  CCTK_REAL ValenciavU2 = ValenciavU2GF[idx];\n",
    "\n",
    "#include \"computeu0_Cfunction.h\"\n",
    "\n",
    "  u0GF[idx] = u0;\n",
    "  ValenciavU0GF[idx] = ValenciavU0;\n",
    "  ValenciavU1GF[idx] = ValenciavU1;\n",
    "  ValenciavU2GF[idx] = ValenciavU2;\n",
    "}\n",
    "\n",
    "void GiRaFFE_ExactWaldID(CCTK_ARGUMENTS)\n",
    "{\n",
    "  DECLARE_CCTK_ARGUMENTS;\n",
    "  DECLARE_CCTK_PARAMETERS;\n",
    "  \n",
    "  GiRaFFE_set_A_v(cctkGH,cctk_lsh,cctk_nghostzones,\n",
    "                  x,y,z,u0,\n",
    "                  AD0,AD1,AD2,\n",
    "                  ValenciavU0,ValenciavU1,ValenciavU2);\n",
    "\n",
    "  #pragma omp parallel for\n",
    "  for(int i2=0; i2<cctk_lsh[2]; i2++) {\n",
    "      for(int i1=0; i1<cctk_lsh[1]; i1++) {\n",
    "          for(int i0=0; i0<cctk_lsh[0]; i0++) {\n",
    "              const CCTK_INT idx = CCTK_GFINDEX3D(cctkGH, i0,i1,i2);\n",
    "              find_u0(ValenciavU0,ValenciavU1,ValenciavU2,alp[idx],\n",
    "                      gxx[idx],gxy[idx],gxz[idx],gyy[idx],gyz[idx],gzz[idx],\n",
    "                      u0,idx);\n",
    "          }\n",
    "      }\n",
    "  }\n",
    "  \n",
    "  GiRaFFE_set_S_B(cctkGH,cctk_lsh,cctk_nghostzones,\n",
    "                  ValenciavU0,ValenciavU1,ValenciavU2,u0,\n",
    "                  alp,betax,betay,betaz,\n",
    "                  gxx,gxy,gxz,gyy,gyz,gzz,\n",
    "                  BU0,BU1,BU2,\n",
    "                  StildeD0,StildeD1,StildeD2);\n",
    "  \n",
    "  Write_to_HydroBase(cctkGH,cctk_lsh,cctk_nghostzones,\n",
    "                     ValenciavU0,ValenciavU1,ValenciavU2,\n",
    "                     AD0,AD1,AD2,\n",
    "                     BU0,BU1,BU2,\n",
    "                     vel,Avec,Bvec);\n",
    "}"
   ]
  },
  {
   "cell_type": "markdown",
   "metadata": {},
   "source": [
    "### Step 2b: CCL files - Define how this module interacts and interfaces with the larger Einstein Toolkit infrastructure\n",
    "\n",
    "Writing a module (\"thorn\") within the Einstein Toolkit requires that three \"ccl\" files be constructed, all in the root directory of the thorn:\n",
    "\n",
    "1. $\\text{interface.ccl}$: defines the gridfunction groups needed, and provides keywords denoting what this thorn provides and what it should inherit from other thorns. Specifically, this file governs the interaction between this thorn and others; more information can be found in the [official Einstein Toolkit documentation](http://cactuscode.org/documentation/referencemanual/ReferenceManualch8.html#x12-260000C2.2). \n",
    "With \"implements\", we give our thorn its unique name. By \"inheriting\" other thorns, we tell the Toolkit that we will rely on variables that exist and are declared \"public\" within those functions."
   ]
  },
  {
   "cell_type": "code",
   "execution_count": 3,
   "metadata": {},
   "outputs": [
    {
     "name": "stdout",
     "output_type": "stream",
     "text": [
      "Overwriting GiRaFFEFood/interface.ccl\n"
     ]
    }
   ],
   "source": [
    "%%writefile GiRaFFEFood/interface.ccl\n",
    "implements: GiRaFFEFood_HO\n",
    "inherits: admbase GiRaFFE_HO grid HydroBase\n"
   ]
  },
  {
   "cell_type": "markdown",
   "metadata": {},
   "source": [
    "2. $\\text{param.ccl}$: specifies free parameters within the thorn, enabling them to be set at runtime. It is required to provide allowed ranges and default values for each parameter. More information on this file's syntax can be found in the [official Einstein Toolkit documentation](http://cactuscode.org/documentation/referencemanual/ReferenceManualch8.html#x12-265000C2.3)."
   ]
  },
  {
   "cell_type": "code",
   "execution_count": 4,
   "metadata": {},
   "outputs": [
    {
     "name": "stdout",
     "output_type": "stream",
     "text": [
      "Overwriting GiRaFFEFood/param.ccl\n"
     ]
    }
   ],
   "source": [
    "%%writefile GiRaFFEFood/param.ccl\n",
    "shares: grid\n",
    "\n",
    "USES KEYWORD type\n",
    "\n",
    "shares: GiRaFFE_HO\n",
    "USES CCTK_REAL GAMMA_SPEED_LIMIT\n",
    "\n",
    "restricted:\n",
    "CCTK_KEYWORD initial_data \"Type of initial data\"\n",
    "{\n",
    "  \"ExactWald\"      :: \"Exact Wald initial data\"\n",
    "} \"ExactWald\"\n",
    "\n",
    "restricted:\n",
    "CCTK_REAL M \"Kerr-Schild BH mass. Probably should always set M=1.\"\n",
    "{\n",
    "  0.0:* :: \"Must be positive\"\n",
    "} 1.0\n"
   ]
  },
  {
   "cell_type": "markdown",
   "metadata": {},
   "source": [
    "3. $\\text{schedule.ccl}$: allocates storage for gridfunctions, defines how the thorn's functions should be scheduled in a broader simulation, and specifies the regions of memory written to or read from gridfunctions. $\\text{schedule.ccl}$'s official documentation may be found [here](http://cactuscode.org/documentation/referencemanual/ReferenceManualch8.html#x12-268000C2.4). \n",
    "\n",
    "We specify here the standardized ETK \"scheduling bins\" in which we want each of our thorn's functions to run."
   ]
  },
  {
   "cell_type": "code",
   "execution_count": 5,
   "metadata": {},
   "outputs": [
    {
     "name": "stdout",
     "output_type": "stream",
     "text": [
      "Overwriting GiRaFFEFood/schedule.ccl\n"
     ]
    }
   ],
   "source": [
    "%%writefile GiRaFFEFood/schedule.ccl\n",
    "schedule GiRaFFE_ExactWaldID at CCTK_INITIAL as GiRaFFEFood\n",
    "{\n",
    "  STORAGE: GiRaFFE_HO::GiRaFFE_vars[3]\n",
    "  STORAGE: GiRaFFE_HO::GiRaFFE_Vs[1]\n",
    "  STORAGE: GiRaFFE_HO::GiRaFFE_Bs[1]\n",
    "  STORAGE: GiRaFFE_HO::GiRaFFE_u0[1]\n",
    "  LANG: C\n",
    "  READS: admbase::alp(Everywhere)\n",
    "  READS: admbase::betax(Everywhere)\n",
    "  READS: admbase::betay(Everywhere)\n",
    "  READS: admbase::betaz(Everywhere)\n",
    "  READS: admbase::gxx(Everywhere)\n",
    "  READS: admbase::gxy(Everywhere)\n",
    "  READS: admbase::gxz(Everywhere)\n",
    "  READS: admbase::gyy(Everywhere)\n",
    "  READS: admbase::gyz(Everywhere)\n",
    "  READS: admbase::gzz(Everywhere)\n",
    "  READS: grid::x(Everywhere)\n",
    "  READS: grid::y(Everywhere)\n",
    "  READS: grid::y(Everywhere)\n",
    "  WRITES: GiRaFFE_HO::BU0(Everywhere)\n",
    "  WRITES: GiRaFFE_HO::BU1(Everywhere)\n",
    "  WRITES: GiRaFFE_HO::BU2(Everywhere)\n",
    "  WRITES: GiRaFFE_HO::AD0(Everywhere)\n",
    "  WRITES: GiRaFFE_HO::AD1(Everywhere)\n",
    "  WRITES: GiRaFFE_HO::AD2(Everywhere)\n",
    "  WRITES: GiRaFFE_HO::ValenciavU0(Everywhere)\n",
    "  WRITES: GiRaFFE_HO::ValenciavU1(Everywhere)\n",
    "  WRITES: GiRaFFE_HO::ValenciavU2(Everywhere)\n",
    "  WRITES: GiRaFFE_HO::StildeD0(Everywhere)\n",
    "  WRITES: GiRaFFE_HO::StildeD1(Everywhere)\n",
    "  WRITES: GiRaFFE_HO::StildeD2(Everywhere)\n",
    "} \"Initial data for GiRaFFE\"\n"
   ]
  },
  {
   "cell_type": "markdown",
   "metadata": {},
   "source": [
    "#### Step 2c: Add the C code to the Einstein Toolkit compilation list.\n",
    "\n",
    "We will also need $\\text{make.code.defn}$, which indicates the list of files that need to be compiled. This thorn only has the one C file to compile."
   ]
  },
  {
   "cell_type": "code",
   "execution_count": 6,
   "metadata": {},
   "outputs": [
    {
     "name": "stdout",
     "output_type": "stream",
     "text": [
      "Overwriting GiRaFFEFood/src/make.code.defn\n"
     ]
    }
   ],
   "source": [
    "%%writefile GiRaFFEFood/src/make.code.defn\n",
    "SRCS = InitialData.c"
   ]
  }
 ],
 "metadata": {
  "kernelspec": {
   "display_name": "Python 3",
   "language": "python",
   "name": "python3"
  },
  "language_info": {
   "codemirror_mode": {
    "name": "ipython",
    "version": 3
   },
   "file_extension": ".py",
   "mimetype": "text/x-python",
   "name": "python",
   "nbconvert_exporter": "python",
   "pygments_lexer": "ipython3",
   "version": "3.6.6"
  }
 },
 "nbformat": 4,
 "nbformat_minor": 2
}
