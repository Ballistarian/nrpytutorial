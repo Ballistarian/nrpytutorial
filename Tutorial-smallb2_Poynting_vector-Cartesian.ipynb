{
 "cells": [
  {
   "cell_type": "markdown",
   "metadata": {},
   "source": [
    "## Computing $b^{\\mu}$ and $S^i$, using [Duez *et al* (2005)](https://arxiv.org/pdf/astro-ph/0503420.pdf)\n",
    "\n",
    "First some definitions. The spatial components of $b^{\\mu}$ are simply the magnetic field as measured by an observer comoving with the plasma $B^{\\mu}_{\\rm (u)}$, divided by $\\sqrt{4\\pi}$. In addition, in the ideal MHD limit, $B^{\\mu}_{\\rm (u)}$ is orthogonal to the plasma 4-velocity $u^\\mu$, which sets the $\\mu=0$ component. \n",
    "\n",
    "Note also that $B^{\\mu}_{\\rm (u)}$ is related to the magnetic field as measured by a *normal* observer $B^i$ via a simple projection (Eq 21 in Duez et al), which results in the expressions (Eqs 23 and 24 in Duez et al):\n",
    "\n",
    "\\begin{align}\n",
    "\\sqrt{4\\pi} b^0 = B^0_{\\rm (u)} &= \\frac{u_j B^j}{\\alpha} \\\\\n",
    "\\sqrt{4\\pi} b^i = B^i_{\\rm (u)} &= \\frac{B^i + (u_j B^j) u^i}{\\alpha u^0}\\\\\n",
    "\\end{align}\n",
    "\n",
    "$B^i$ is related to the actual magnetic field evaluated in IllinoisGRMHD, $\\tilde{B}^i$ via\n",
    "\n",
    "$$B^i = \\frac{\\tilde{B}^i}{\\gamma},$$\n",
    "\n",
    "where $\\gamma$ is the determinant of the spatial 3-metric.\n",
    "\n",
    "The above expressions will require that we compute\n",
    "1. the 4-metric $g_{\\mu\\nu}$ from the ADM 3+1 variables\n",
    "1. $u^0$ from the Valencia 3-velocity\n",
    "1. $u_j$ from $u^0$, the Valencia 3-velocity, and $g_{\\mu\\nu}$\n",
    "1. $\\gamma$ from the ADM 3+1 variables"
   ]
  },
  {
   "cell_type": "code",
   "execution_count": null,
   "metadata": {},
   "outputs": [],
   "source": []
  }
 ],
 "metadata": {
  "kernelspec": {
   "display_name": "Python 3",
   "language": "python",
   "name": "python3"
  },
  "language_info": {
   "codemirror_mode": {
    "name": "ipython",
    "version": 3
   },
   "file_extension": ".py",
   "mimetype": "text/x-python",
   "name": "python",
   "nbconvert_exporter": "python",
   "pygments_lexer": "ipython3",
   "version": "3.6.6"
  }
 },
 "nbformat": 4,
 "nbformat_minor": 2
}
