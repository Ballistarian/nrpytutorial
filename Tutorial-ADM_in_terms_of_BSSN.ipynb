{
 "cells": [
  {
   "cell_type": "markdown",
   "metadata": {},
   "source": [
    "# ADM Quantities in terms of BSSN Quantities\n",
    "\n",
    "### Author: Zach Etienne\n",
    "\n",
    "This tutorial module constructs all quantities in the [ADM formalism](https://en.wikipedia.org/wiki/ADM_formalism) (see also Chapter 2 in Baumgarte & Shapiro's book *Numerical Relativity*) in terms of quantities in our adopted (covariant, tensor-rescaled) BSSN formalism. That is to say, we will write the ADM quantities $\\left\\{\\gamma_{ij},K_{ij},\\alpha,\\beta^i\\right\\}$ and their derivatives in terms of the BSSN quantities $\\left\\{\\bar{\\gamma}_{ij},\\text{cf},\\bar{A}_{ij},\\text{tr}K,\\alpha,\\beta^i\\right\\}$ and their derivatives.\n",
    "\n",
    "## A Note on Notation\n",
    "\n",
    "As is standard in NRPy+, \n",
    "\n",
    "* Greek indices refer to four-dimensional quantities where the zeroth component indicates temporal (time) component.\n",
    "* Latin indices refer to three-dimensional quantities. This is somewhat counterintuitive since Python always indexes its lists starting from 0. As a result, the zeroth component of three-dimensional quantities will necessarily indicate the first *spatial* direction.\n",
    "\n",
    "As a corollary, any expressions in NRPy+ involving mixed Greek and Latin indices will need to offset one set of indices by one; a Latin index in a four-vector will be incremented and a Greek index in a three-vector will be decremented (however, the latter case does not occur in this tutorial module)."
   ]
  },
  {
   "cell_type": "markdown",
   "metadata": {},
   "source": [
    "<a id='toc'></a>\n",
    "\n",
    "# Table of Contents\n",
    "$$\\label{toc}$$\n",
    "\n",
    "This module is organized as follows\n",
    "\n",
    "1. [Step 1](#initializenrpy): Initialize core NRPy+ modules\n",
    "1. [Step 2](#threemetric): The ADM three-metric $\\gamma_{ij}$ and its derivatives in terms of rescaled BSSN quantities.\n",
    "1. [Step 3](#extrinsiccurvature): The ADM extrinsic curvature $K_{ij}$ and its derivatives in terms of rescaled BSSN quantities.\n",
    "1. [Step 4](#code_validation): Code validation; comparing this tutorial module's output with the corresponding NRPy+ Python module [BSSN.ADM_in_terms_of_BSSN](../BSSN/ADM_in_terms_of_BSSN.py).\n",
    "1. [Step 5](#latex_pdf_output) Output this module to $\\LaTeX$-formatted PDF file"
   ]
  },
  {
   "cell_type": "markdown",
   "metadata": {},
   "source": [
    "<a id='initializenrpy'></a>\n",
    "\n",
    "# Step 1: Initialize core NRPy+ modules \\[Back to [top](#toc)\\]\n",
    "$$\\label{initializenrpy}$$\n",
    "\n",
    "Let's start by importing all the needed modules from NRPy+:"
   ]
  },
  {
   "cell_type": "code",
   "execution_count": 1,
   "metadata": {},
   "outputs": [],
   "source": [
    "# Step 1.a: import all needed modules from NRPy+:\n",
    "import sympy as sp\n",
    "import NRPy_param_funcs as par\n",
    "import indexedexp as ixp\n",
    "import grid as gri\n",
    "import finite_difference as fin\n",
    "import reference_metric as rfm\n",
    "\n",
    "# Step 1.b: Set the coordinate system for the numerical grid\n",
    "par.set_parval_from_str(\"reference_metric::CoordSystem\",\"Spherical\")\n",
    "\n",
    "# Step 1.c: Given the chosen coordinate system, set up \n",
    "#           corresponding reference metric and needed\n",
    "#           reference metric quantities\n",
    "# The following function call sets up the reference metric\n",
    "#    and related quantities, including rescaling matrices ReDD,\n",
    "#    ReU, and hatted quantities.\n",
    "rfm.reference_metric()\n",
    "\n",
    "# Step 1.d: Set spatial dimension (must be 3 for BSSN, as BSSN is \n",
    "#           a 3+1-dimensional decomposition of the general \n",
    "#           relativistic field equations)\n",
    "DIM = 3\n",
    "\n",
    "# Step 1.e: Import all basic (unrescaled) BSSN scalars & tensors\n",
    "import BSSN.BSSN_quantities as Bq\n",
    "Bq.BSSN_basic_tensors()\n",
    "gammabarDD = Bq.gammabarDD\n",
    "cf         = Bq.cf\n",
    "AbarDD     = Bq.AbarDD\n",
    "trK        = Bq.trK"
   ]
  },
  {
   "cell_type": "markdown",
   "metadata": {},
   "source": [
    "<a id='threemetric'></a>\n",
    "\n",
    "# Step 1: The ADM three-metric $\\gamma_{ij}$ and its derivatives in terms of rescaled BSSN quantities. \\[Back to [top](#toc)\\]\n",
    "$$\\label{threemetric}$$\n",
    "\n",
    "The ADM three-metric is written in terms of the covariant BSSN three-metric tensor as (Eqs. 2 and 3 of [Ruchlin *et al.*](https://arxiv.org/pdf/1712.07658.pdf)):\n",
    "$$\n",
    "\\gamma_{ij} = \\left(\\frac{\\gamma}{\\bar{\\gamma}}\\right)^{1/3} \\bar{\\gamma}_{i j},\n",
    "$$\n",
    "where $\\gamma=\\det{\\gamma_{ij}}$ and $\\bar{\\gamma}=\\det{\\bar{\\gamma}_{ij}}$. \n",
    "\n",
    "The \"standard\" BSSN conformal factor $\\phi$ is given by (Eq. 3 of [Ruchlin *et al.*](https://arxiv.org/pdf/1712.07658.pdf)):\n",
    "\n",
    "\\begin{align}\n",
    "\\phi &= \\frac{1}{12} \\log\\left(\\frac{\\gamma}{\\bar{\\gamma}}\\right) \\\\\n",
    "\\implies e^{\\phi} &= \\left(\\frac{\\gamma}{\\bar{\\gamma}}\\right)^{1/12} \\\\\n",
    "\\implies e^{4 \\phi} &= \\left(\\frac{\\gamma}{\\bar{\\gamma}}\\right)^{1/3}\n",
    "\\end{align}\n",
    "\n",
    "Thus the ADM three-metric may be written in terms of the BSSN three-metric and conformal factor $\\phi$ as\n",
    "\n",
    "$$\n",
    "\\gamma_{ij} = e^{4 \\phi} \\bar{\\gamma}_{i j}.\n",
    "$$\n",
    "\n",
    "NRPy+'s implementation of BSSN allows for $\\phi$ and two other alternative conformal factors to be defined:\n",
    "\n",
    "\\begin{align}\n",
    "\\chi &= e^{-4\\phi} \\\\\n",
    "W &= e^{-2\\phi},\n",
    "\\end{align}\n",
    "\n",
    "Thus if \"BSSN_quantities::ConformalFactor\" is set to \"chi\", then\n",
    "\n",
    "\\begin{align}\n",
    "\\gamma_{ij} &= \\frac{1}{\\chi} \\bar{\\gamma}_{i j} \\\\\n",
    "&= \\frac{1}{\\text{cf}} \\bar{\\gamma}_{i j},\n",
    "\\end{align}\n",
    "\n",
    "and if \"BSSN_quantities::ConformalFactor\" is set to \"W\", then\n",
    "\\begin{align}\n",
    "\\gamma_{ij} &= \\frac{1}{W^2} \\bar{\\gamma}_{i j} \\\\\n",
    "&= \\frac{1}{\\text{cf}^2} \\bar{\\gamma}_{i j}.\n",
    "\\end{align}"
   ]
  },
  {
   "cell_type": "code",
   "execution_count": 2,
   "metadata": {},
   "outputs": [],
   "source": [
    "gammaDD = ixp.zerorank2()\n",
    "\n",
    "exp4phi = sp.sympify(0)\n",
    "if par.parval_from_str(\"ConformalFactor\") == \"phi\":\n",
    "    exp4phi = sp.exp(4*cf)\n",
    "elif par.parval_from_str(\"ConformalFactor\") == \"chi\":\n",
    "    exp4phi = (1 / cf)\n",
    "elif par.parval_from_str(\"ConformalFactor\") == \"W\":\n",
    "    exp4phi = (1 / cf**2)\n",
    "else:\n",
    "    print(\"Error ConformalFactor type = \\\"\"+par.parval_from_str(\"ConformalFactor\")+\"\\\" unknown.\")\n",
    "    exit(1)            \n",
    "\n",
    "for i in range(DIM):\n",
    "    for j in range(DIM):\n",
    "        gammaDD[i][j] = exp4phi*gammabarDD[i][j]"
   ]
  },
  {
   "cell_type": "markdown",
   "metadata": {},
   "source": [
    "<a id='extrinsiccurvature'></a>\n",
    "\n",
    "# Step 2: The ADM extrinsic curvature $K_{ij}$ and its derivatives in terms of rescaled BSSN quantities. \\[Back to [top](#toc)\\]\n",
    "$$\\label{extrinsiccurvature}$$\n",
    "\n",
    "The ADM extrinsic curvature may be written in terms of the BSSN trace-free extrinsic curvature tensor $\\bar{A}_{ij}$ and the trace of the ADM extrinsic curvature $K$:\n",
    "\n",
    "\\begin{align}\n",
    "K_{ij} &= \\left(\\frac{\\gamma}{\\bar{\\gamma}}\\right)^{1/3} \\bar{A}_{ij} + \\frac{1}{3} \\gamma_{ij} K \\\\\n",
    "&= e^{4\\phi} \\bar{A}_{ij} + \\frac{1}{3} \\gamma_{ij} K \\\\\n",
    "\\end{align}"
   ]
  },
  {
   "cell_type": "code",
   "execution_count": 3,
   "metadata": {},
   "outputs": [],
   "source": [
    "KDD = ixp.zerorank2()\n",
    "\n",
    "for i in range(DIM):\n",
    "    for j in range(DIM):\n",
    "        KDD[i][j] = exp4phi*AbarDD[i][j] + sp.Rational(1,3)*gammaDD[i][j]*trK"
   ]
  },
  {
   "cell_type": "markdown",
   "metadata": {},
   "source": [
    "<a id='code_validation'></a>\n",
    "\n",
    "# Step 3: Code validation; comparing this tutorial module's output with the corresponding NRPy+ Python module [BSSN.ADM_in_terms_of_BSSN](../BSSN/ADM_in_terms_of_BSSN.py)\n",
    "$$\\label{code_validation}$$\n",
    "\n"
   ]
  },
  {
   "cell_type": "markdown",
   "metadata": {},
   "source": [
    "<a id='latex_pdf_output'></a>\n",
    "\n",
    "# Step 4: Output this module to $\\LaTeX$-formatted PDF file \\[Back to [top](#toc)\\]\n",
    "$$\\label{latex_pdf_output}$$"
   ]
  },
  {
   "cell_type": "code",
   "execution_count": null,
   "metadata": {
    "scrolled": true
   },
   "outputs": [
    {
     "name": "stdout",
     "output_type": "stream",
     "text": [
      "[NbConvertApp] Converting notebook Tutorial-ADM_in_terms_of_BSSN.ipynb to latex\r\n"
     ]
    }
   ],
   "source": [
    "!jupyter nbconvert --to latex --template latex_nrpy_style.tplx Tutorial-ADM_in_terms_of_BSSN.ipynb\n",
    "!pdflatex -interaction=batchmode Tutorial-ADM_in_terms_of_BSSN.tex\n",
    "!pdflatex -interaction=batchmode Tutorial-ADM_in_terms_of_BSSN.tex\n",
    "!pdflatex -interaction=batchmode Tutorial-ADM_in_terms_of_BSSN.tex\n",
    "!rm -f Tut*.out Tut*.aux Tut*.log"
   ]
  }
 ],
 "metadata": {
  "kernelspec": {
   "display_name": "Python 2",
   "language": "python",
   "name": "python2"
  },
  "language_info": {
   "codemirror_mode": {
    "name": "ipython",
    "version": 2
   },
   "file_extension": ".py",
   "mimetype": "text/x-python",
   "name": "python",
   "nbconvert_exporter": "python",
   "pygments_lexer": "ipython2",
   "version": "2.7.13"
  }
 },
 "nbformat": 4,
 "nbformat_minor": 2
}
