{
 "cells": [
  {
   "cell_type": "markdown",
   "metadata": {},
   "source": [
    "# The Piecewise-Parabolic Method\n",
    "\n",
    "This notebook documents the function from the original `GiRaFFE` that calculates the flux for $\\tilde{S}_i$ according to the  piecewise-parabolic method (PPM) of [Colella and Woodward (1984)](https://crd.lbl.gov/assets/pubs_presos/AMCS/ANAG/A141984.pdf). \n",
    "\n",
    "The differential equations that `GiRaFFE` evolves have two different terms that contribute to the time evolution of some quantity: the flux term and the source term. The PPM method is what the original `GiRaFFE` uses to handle the flux term; hopefully, using this instead of finite-differencing will fix some of the problems we've been having with `GiRaFFE_HO`.\n",
    "\n",
    "This algorithm is not quite as accessible as the much simpler finite-difference methods; as such, [this notebook](https://mybinder.org/v2/gh/python-hydro/how_to_write_a_hydro_code/master) is recommended as an introduction. It covers a simpler reconstruction scheme, and proved useful in preparing the documentation for this more complicated scheme.\n",
    "\n",
    "The algorithm for finite-volume methods in general is as follows: \n",
    "\n",
    "1. The Reconstruction Step\n",
    "    1. Within each cell, fit to a function that conserves the volume in that cell using information from the neighboring cells\n",
    "        * For PPM, we will naturally use parabolas\n",
    "    1. Use that fit to define the state at the left and right interface of each cell\n",
    "    1. Apply a slope limiter to mitigate Gibbs phenomenon\n",
    "1. **Solving the Riemann Problem (This notebook, $\\tilde{S}_i$ only)**\n",
    "    1. **Use the left and right reconstructed states to calculate the unique state at boundary**\n",
    "    1. **Use the unique state to estimate the derivative in the cell**\n",
    "1. Repeat the above for each conservative gridfunction in each direction"
   ]
  },
  {
   "cell_type": "markdown",
   "metadata": {},
   "source": [
    "<a id='toc'></a>\n",
    "\n",
    "# Table of Contents\n",
    "$$\\label{toc}$$\n",
    "\n",
    "This module is organized as follows\n",
    "\n",
    "0. [Step 0](#prelim): Preliminaries\n",
    "1. [Step 1](#): \n"
   ]
  },
  {
   "cell_type": "markdown",
   "metadata": {},
   "source": [
    "<a id='prelim'></a>\n",
    "\n",
    "## Step 0: Preliminaries \\[Back to [top](#toc)\\]\n",
    "$$\\label{prelim}$$\n",
    "\n",
    "This first block of code just sets up a subdirectory within `GiRaFFE_standalone_Ccodes/` to which we will write the C code."
   ]
  },
  {
   "cell_type": "code",
   "execution_count": null,
   "metadata": {},
   "outputs": [],
   "source": [
    "import cmdline_helper as cmd\n",
    "import os\n",
    "outdir = \"GiRaFFE_standalone_Ccodes/PPM\"\n",
    "cmd.mkdir(os.path.join(outdir,\"/\"))"
   ]
  },
  {
   "cell_type": "markdown",
   "metadata": {},
   "source": [
    "In GRFFE, the evolution equation for the Poynting flux $\\tilde{S}_i$ is given as \n",
    "$$\n",
    "\\partial_t \\tilde{S}_i + \\partial_j \\left( \\alpha \\sqrt{\\gamma} T^j_{{\\rm EM} i} \\right) = \\frac{1}{2} \\alpha \\sqrt{\\gamma} T^{\\mu \\nu}_{\\rm EM} \\partial_i g_{\\mu \\nu}.\n",
    "$$\n",
    "We can then see that, if we rewrite this, the right-hand side (RHS) describing the time evolution $\\partial_t \\tilde{S}_i$ consists of two terms:\n",
    "$$\n",
    "\\partial_t \\tilde{S}_i = \\underbrace{- \\partial_j \\left( \\alpha \\sqrt{\\gamma} T^j_{{\\rm EM} i} \\right)}_{\\rm Flux\\ term} + \\underbrace{\\frac{1}{2} \\alpha \\sqrt{\\gamma} T^{\\mu \\nu}_{\\rm EM} \\partial_i g_{\\mu \\nu}}_{\\rm Source\\ term}.\n",
    "$$\n",
    "\n",
    "It is the flux term that concerns us here; the following function will compute its value and add it to $\\partial_t \\tilde{S}_i$."
   ]
  },
  {
   "cell_type": "markdown",
   "metadata": {},
   "source": [
    "<a id='s_i_flux'></a>\n",
    "\n",
    "## Step 1: The $\\tilde{S}_i$ function \\[Back to [top](#toc)\\]\n",
    "$$\\label{s_i_flux}$$\n",
    "\n",
    "<a id='define'></a>\n",
    "\n",
    "### Step 1.a: The function declaration \\[Back to [top](#toc)\\]\n",
    "$$\\label{define}$$\n",
    "\n",
    "First, we give the function definition. This function will take as parameters the integers `i`, `j`, and `k`; these indicate a point on the grid, but appear not to be used. The function also needs the parameter `flux_dirn` to know which direction to compute the flux in, the face values `Ul` and `Ur` (see [the previous tutorial](Tutorial-GiRaFFE_HO_Ccode_library-PPM.ipynb)), the interpolated quantities on the cell interfaces `FACEVAL` and `FACEVAL_LAPSE_PSI4`, the speeds `cmax` and `cmin`, and the fluxes `st_x_flux`, `st_y_flux`, and `st_z_flux`. We also calculate quantities related to the conformal factor $\\psi$ (including the square root of the determinant of the metric $\\sqrt{\\gamma}$) and the lapse $\\alpha$; these lines will need to be modified to use the values actually stored by our `GiRaFFE`."
   ]
  },
  {
   "cell_type": "code",
   "execution_count": null,
   "metadata": {},
   "outputs": [],
   "source": [
    "%%writefile $outdir/GRFFE__S_i__flux.C\n",
    "//-----------------------------------------------------------------------------\n",
    "// Compute the flux for advecting S_i .\n",
    "//-----------------------------------------------------------------------------\n",
    "static inline void GRFFE__S_i__flux(const int i,const int j,const int k,const int flux_dirn, CCTK_REAL *Ul, CCTK_REAL *Ur, CCTK_REAL *FACEVAL,const CCTK_REAL *FACEVAL_LAPSE_PSI4,\n",
    "                                    CCTK_REAL &cmax,CCTK_REAL &cmin,\n",
    "                                    CCTK_REAL &st_x_flux,CCTK_REAL &st_y_flux,CCTK_REAL &st_z_flux) {\n",
    "  const CCTK_REAL psi4 = FACEVAL_LAPSE_PSI4[PSI4];\n",
    "  const CCTK_REAL psi6 = FACEVAL_LAPSE_PSI4[PSI4]*FACEVAL_LAPSE_PSI4[PSI2];\n",
    "  const CCTK_REAL psim4 = 1.0/(psi4);\n",
    "\n",
    "  const CCTK_REAL alpha_sqrt_gamma = FACEVAL_LAPSE_PSI4[LAPSE]*psi6;\n",
    "  const CCTK_REAL ONE_OVER_LAPSE = 1.0/FACEVAL_LAPSE_PSI4[LAPSE];\n",
    "  const CCTK_REAL ONE_OVER_LAPSE_SQUARED=SQR(ONE_OVER_LAPSE);\n"
   ]
  },
  {
   "cell_type": "markdown",
   "metadata": {},
   "source": [
    "Next, we compute the speed-limited velocities on the faces. This function is found in `inlined_functions.C`, and will be documented elsewhere **(TODO: link)**. This function also counts how often the speed had to be limited."
   ]
  },
  {
   "cell_type": "code",
   "execution_count": null,
   "metadata": {},
   "outputs": [],
   "source": [
    "%%writefile -a $outdir/GRFFE__S_i__flux.C\n",
    "\n",
    "  //Compute face velocities\n",
    "  // Begin by computing u0\n",
    "  output_stats stats; stats.failure_checker=0;\n",
    "  CCTK_REAL u0_r,u0_l;\n",
    "  impose_speed_limit_output_u0(FACEVAL,Ur,psi4,ONE_OVER_LAPSE,stats,u0_r);\n",
    "  impose_speed_limit_output_u0(FACEVAL,Ul,psi4,ONE_OVER_LAPSE,stats,u0_l);\n"
   ]
  },
  {
   "cell_type": "markdown",
   "metadata": {},
   "source": [
    "Now, we will compute the magnetic field in the comoving fluid frame $b^\\mu$ , as defined in [Gammie's paper](https://arxiv.org/pdf/astro-ph/0301509.pdf).  We will also compute the four velocities on the faces $u_\\mu$."
   ]
  },
  {
   "cell_type": "code",
   "execution_count": null,
   "metadata": {},
   "outputs": [],
   "source": [
    "%%writefile -a $outdir/GRFFE__S_i__flux.C\n",
    "\n",
    "  //Next compute b^{\\mu}, the magnetic field measured in the comoving fluid frame:\n",
    "  const CCTK_REAL ONE_OVER_LAPSE_SQRT_4PI = ONE_OVER_LAPSE*ONE_OVER_SQRT_4PI;\n",
    "  /***********************************************************/\n",
    "  /********** RIGHT FACE ************/\n",
    "  // Note that smallbr[4] = b^a defined in Gammie's paper, on the right face.\n",
    "  CCTK_REAL u_x_over_u0_psi4r,u_y_over_u0_psi4r,u_z_over_u0_psi4r;\n",
    "  CCTK_REAL smallbr[NUMVARS_SMALLB];\n",
    "  // Compute b^{a}, b^2, and u_i over u^0\n",
    "  compute_smallba_b2_and_u_i_over_u0_psi4(FACEVAL,FACEVAL_LAPSE_PSI4,Ur,u0_r,ONE_OVER_LAPSE_SQRT_4PI,  \n",
    "                                          u_x_over_u0_psi4r,u_y_over_u0_psi4r,u_z_over_u0_psi4r,smallbr);\n",
    "  // Then compute u_xr,u_yr, and u_zr. We need to set the zeroth component so we can specify U_LOWER{r,l}[{UX,UY,UZ}] (UX=1,UY=2,UZ=3).\n",
    "  const CCTK_REAL U_LOWERr[4] = { 0.0, u_x_over_u0_psi4r*u0_r*FACEVAL_LAPSE_PSI4[PSI4], u_y_over_u0_psi4r*u0_r*FACEVAL_LAPSE_PSI4[PSI4], \n",
    "                                  u_z_over_u0_psi4r*u0_r*FACEVAL_LAPSE_PSI4[PSI4] };\n",
    "  /********** LEFT FACE ************/\n",
    "  // Note that smallbl[4] = b^a defined in Gammie's paper, on the left face.\n",
    "  CCTK_REAL u_x_over_u0_psi4l,u_y_over_u0_psi4l,u_z_over_u0_psi4l;\n",
    "  CCTK_REAL smallbl[NUMVARS_SMALLB];\n",
    "  // Compute b^{a}, b^2, and u_i over u^0\n",
    "  compute_smallba_b2_and_u_i_over_u0_psi4(FACEVAL,FACEVAL_LAPSE_PSI4,Ul,u0_l,ONE_OVER_LAPSE_SQRT_4PI,  \n",
    "                                          u_x_over_u0_psi4l,u_y_over_u0_psi4l,u_z_over_u0_psi4l,smallbl);\n",
    "  // Then compute u_xr,u_yr, and u_zr. We need to set the zeroth component so we can specify U_LOWER{r,l}[{UX,UY,UZ}]\n",
    "  const CCTK_REAL U_LOWERl[4] = { 0.0, u_x_over_u0_psi4l*u0_l*FACEVAL_LAPSE_PSI4[PSI4], u_y_over_u0_psi4l*u0_l*FACEVAL_LAPSE_PSI4[PSI4], \n",
    "                                  u_z_over_u0_psi4l*u0_l*FACEVAL_LAPSE_PSI4[PSI4] };\n",
    "  /***********************************************************/\n"
   ]
  },
  {
   "cell_type": "markdown",
   "metadata": {},
   "source": [
    "Next, we will find the speeds at which the hydrodynamics waves propagate. We start from the speed of light (since FFE deals with very diffuse plasmas), which is $c=1.0$ in our chosen units. We then find the speeds $c_+$ and $c_-$ on each face with the function `find_cp_cm` **(TODO: link to documentation)**; then, we find minimum and maximum speeds possible from among those."
   ]
  },
  {
   "cell_type": "code",
   "execution_count": null,
   "metadata": {},
   "outputs": [],
   "source": [
    "%%writefile -a $outdir/GRFFE__S_i__flux.C\n",
    "\n",
    "  // v02 is the speed of light in FFE, which is 1.0 in G=c=1.0.\n",
    "  const CCTK_REAL v02r=1.0,v02l=1.0;\n",
    "  \n",
    "  int offset=flux_dirn-1;\n",
    "\n",
    "  CCTK_REAL cplusr,cminusr,cplusl,cminusl;\n",
    "  find_cp_cm(cplusr,cminusr,v02r,u0_r,\n",
    "             Ur[VX+offset],ONE_OVER_LAPSE_SQUARED,FACEVAL[SHIFTX+offset],psim4,FACEVAL[GUPXX+offset]);\n",
    "  find_cp_cm(cplusl,cminusl,v02l,u0_l,\n",
    "             Ul[VX+offset],ONE_OVER_LAPSE_SQUARED,FACEVAL[SHIFTX+offset],psim4,FACEVAL[GUPXX+offset]);\n",
    "\n",
    "  // Then compute cmax, cmin. This is required for the HLL flux.\n",
    "  const CCTK_REAL cmaxL =  MAX(0.0,MAX(cplusl,cplusr));\n",
    "  const CCTK_REAL cminL = -MIN(0.0,MIN(cminusl,cminusr));\n",
    "\n",
    "\n",
    "  //*********************************************************************\n",
    "  // momentum flux = \\alpha \\sqrt{\\gamma} T^m_j, where m is the current flux direction (the m index)\n",
    "  //*********************************************************************\n",
    "  // b_j = g_{ij} (b^i + b^t shift^i), g_{ij} = physical metric\n",
    "  //CCTK_REAL sbtr=0,sbtl=0;\n",
    "  CCTK_REAL smallb_lowerr[NUMVARS_SMALLB],smallb_lowerl[NUMVARS_SMALLB];\n",
    "  lower_4vector_output_spatial_part(psi4,FACEVAL,smallbr,smallb_lowerr);\n",
    "  lower_4vector_output_spatial_part(psi4,FACEVAL,smallbl,smallb_lowerl);\n",
    "\n",
    "  /********** Flux for S_x **********/\n",
    "  // [S_x flux] = \\alpha \\sqrt{\\gamma} T^m_x, where m is the current flux direction (the m index)\n",
    "  //    Again, offset = 0 for reconstruction in x direction, 1 for y, and 2 for z\n",
    "  //    Note that kronecker_delta[flux_dirn][0] = { 1 if flux_dirn==1, 0 otherwise }.\n",
    "  /********** RIGHT FACE ************/\n",
    "  // Compute a couple useful hydro quantities:\n",
    "  const CCTK_REAL rho0_h_plus_b2_r = smallbr[SMALLB2];     // Since rho=0 in GRFFE\n",
    "  const CCTK_REAL P_plus_half_b2_r = 0.5*smallbr[SMALLB2]; // Since P=0 in GRFFE\n",
    "  /********** LEFT FACE *************/\n",
    "  // Compute a couple useful hydro quantities:\n",
    "  const CCTK_REAL rho0_h_plus_b2_l = smallbl[SMALLB2];     // Since rho=0 in GRFFE\n",
    "  const CCTK_REAL P_plus_half_b2_l = 0.5*smallbl[SMALLB2]; // Since P=0 in GRFFE\n",
    "  CCTK_REAL Fr = alpha_sqrt_gamma*( rho0_h_plus_b2_r*(u0_r*Ur[VX+offset])*U_LOWERr[UX] \n",
    "                                    + P_plus_half_b2_r*kronecker_delta[flux_dirn][0] - smallbr[SMALLBX+offset]*smallb_lowerr[SMALLBX] );\n",
    "  CCTK_REAL Fl = alpha_sqrt_gamma*( rho0_h_plus_b2_l*(u0_l*Ul[VX+offset])*U_LOWERl[UX] \n",
    "                                    + P_plus_half_b2_l*kronecker_delta[flux_dirn][0] - smallbl[SMALLBX+offset]*smallb_lowerl[SMALLBX] );\n",
    "\n",
    "  //        S_x =\\alpha\\sqrt{\\gamma}( T^0_x )\n",
    "  const CCTK_REAL st_x_r = alpha_sqrt_gamma*( rho0_h_plus_b2_r*u0_r*U_LOWERr[UX] - smallbr[SMALLBT]*smallb_lowerr[SMALLBX] );\n",
    "  const CCTK_REAL st_x_l = alpha_sqrt_gamma*( rho0_h_plus_b2_l*u0_l*U_LOWERl[UX] - smallbl[SMALLBT]*smallb_lowerl[SMALLBX] );\n",
    "\n",
    "  // HLL step for Sx:\n",
    "  st_x_flux = (cminL*Fr + cmaxL*Fl - cminL*cmaxL*(st_x_r-st_x_l) )/(cmaxL + cminL);\n",
    "\n",
    "  /********** Flux for S_y **********/\n",
    "  // [S_y flux] = \\alpha \\sqrt{\\gamma} T^m_y, where m is the current flux direction (the m index)\n",
    "  //    Again, offset = 1 for reconstruction in x direction, 2 for y, and 3 for z\n",
    "  //    Note that kronecker_delta[flux_dirn][1] = { 1 if flux_dirn==2, 0 otherwise }.\n",
    "  Fr = alpha_sqrt_gamma*( rho0_h_plus_b2_r*(u0_r*Ur[VX+offset])*U_LOWERr[UY] + P_plus_half_b2_r*kronecker_delta[flux_dirn][1] \n",
    "                          - smallbr[SMALLBX+offset]*smallb_lowerr[SMALLBY] );\n",
    "  Fl = alpha_sqrt_gamma*( rho0_h_plus_b2_l*(u0_l*Ul[VX+offset])*U_LOWERl[UY] + P_plus_half_b2_l*kronecker_delta[flux_dirn][1] \n",
    "                          - smallbl[SMALLBX+offset]*smallb_lowerl[SMALLBY] );\n",
    "\n",
    "  //        S_y =\\alpha\\sqrt{\\gamma}( T^0_y )\n",
    "  const CCTK_REAL st_y_r = alpha_sqrt_gamma*( rho0_h_plus_b2_r*u0_r*U_LOWERr[UY] - smallbr[SMALLBT]*smallb_lowerr[SMALLBY] );\n",
    "  const CCTK_REAL st_y_l = alpha_sqrt_gamma*( rho0_h_plus_b2_l*u0_l*U_LOWERl[UY] - smallbl[SMALLBT]*smallb_lowerl[SMALLBY] );\n",
    "\n",
    "  // HLL step for Sy:\n",
    "  st_y_flux = (cminL*Fr + cmaxL*Fl - cminL*cmaxL*(st_y_r-st_y_l) )/(cmaxL + cminL);\n",
    "  /********** Flux for S_z **********/\n",
    "  // [S_z flux] = \\alpha \\sqrt{\\gamma} T^m_z, where m is the current flux direction (the m index)\n",
    "  //    Again, offset = 1 for reconstruction in x direction, 2 for y, and 3 for z\n",
    "  //    Note that kronecker_delta[flux_dirn][2] = { 1 if flux_dirn==3, 0 otherwise }.\n",
    "  Fr = alpha_sqrt_gamma*( rho0_h_plus_b2_r*(u0_r*Ur[VX+offset])*U_LOWERr[UZ] + P_plus_half_b2_r*kronecker_delta[flux_dirn][2] \n",
    "                          - smallbr[SMALLBX+offset]*smallb_lowerr[SMALLBZ] );\n",
    "  Fl = alpha_sqrt_gamma*( rho0_h_plus_b2_l*(u0_l*Ul[VX+offset])*U_LOWERl[UZ] + P_plus_half_b2_l*kronecker_delta[flux_dirn][2] \n",
    "                          - smallbl[SMALLBX+offset]*smallb_lowerl[SMALLBZ] );\n",
    "\n",
    "  //        S_z =\\alpha\\sqrt{\\gamma}( T^0_z )\n",
    "  const CCTK_REAL st_z_r = alpha_sqrt_gamma*( rho0_h_plus_b2_r*u0_r*U_LOWERr[UZ] - smallbr[SMALLBT]*smallb_lowerr[SMALLBZ] );\n",
    "  const CCTK_REAL st_z_l = alpha_sqrt_gamma*( rho0_h_plus_b2_l*u0_l*U_LOWERl[UZ] - smallbl[SMALLBT]*smallb_lowerl[SMALLBZ] );\n",
    "\n",
    "  // HLL step for Sz:\n",
    "  st_z_flux = (cminL*Fr + cmaxL*Fl - cminL*cmaxL*(st_z_r-st_z_l) )/(cmaxL + cminL);\n",
    "\n",
    "  cmax = cmaxL;\n",
    "  cmin = cminL;\n",
    "}\n"
   ]
  }
 ],
 "metadata": {
  "kernelspec": {
   "display_name": "Python 2",
   "language": "python",
   "name": "python2"
  },
  "language_info": {
   "codemirror_mode": {
    "name": "ipython",
    "version": 2
   },
   "file_extension": ".py",
   "mimetype": "text/x-python",
   "name": "python",
   "nbconvert_exporter": "python",
   "pygments_lexer": "ipython2",
   "version": "2.7.13"
  }
 },
 "nbformat": 4,
 "nbformat_minor": 2
}
