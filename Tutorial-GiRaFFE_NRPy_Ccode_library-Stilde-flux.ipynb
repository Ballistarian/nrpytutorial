{
 "cells": [
  {
   "cell_type": "markdown",
   "metadata": {},
   "source": [
    "# The Piecewise-Parabolic Method\n",
    "\n",
    "This notebook documents the function from the original `GiRaFFE` that calculates the flux for $\\tilde{S}_i$ according to the  piecewise-parabolic method (PPM) of [Colella and Woodward (1984)](https://crd.lbl.gov/assets/pubs_presos/AMCS/ANAG/A141984.pdf). \n",
    "\n",
    "The differential equations that `GiRaFFE` evolves have two different terms that contribute to the time evolution of some quantity: the flux term and the source term. The PPM method is what the original `GiRaFFE` uses to handle the flux term; hopefully, using this instead of finite-differencing will fix some of the problems we've been having with `GiRaFFE_HO`.\n",
    "\n",
    "This algorithm is not quite as accessible as the much simpler finite-difference methods; as such, [this notebook](https://mybinder.org/v2/gh/python-hydro/how_to_write_a_hydro_code/master) is recommended as an introduction. It covers a simpler reconstruction scheme, and proved useful in preparing the documentation for this more complicated scheme.\n",
    "\n",
    "The algorithm for finite-volume methods in general is as follows: \n",
    "\n",
    "1. The Reconstruction Step\n",
    "    1. Within each cell, fit to a function that conserves the volume in that cell using information from the neighboring cells\n",
    "        * For PPM, we will naturally use parabolas\n",
    "    1. Use that fit to define the state at the left and right interface of each cell\n",
    "    1. Apply a slope limiter to mitigate Gibbs phenomenon\n",
    "1. **Solving the Riemann Problem (This notebook, $\\tilde{S}_i$ only)**\n",
    "    1. **Use the left and right reconstructed states to calculate the unique state at boundary**\n",
    "    1. **Use the unique state to estimate the derivative in the cell**\n",
    "1. Repeat the above for each conservative gridfunction in each direction"
   ]
  },
  {
   "cell_type": "markdown",
   "metadata": {},
   "source": [
    "<a id='toc'></a>\n",
    "\n",
    "# Table of Contents\n",
    "$$\\label{toc}$$\n",
    "\n",
    "This module is organized as follows\n",
    "\n",
    "0. [Step 0](#prelim): Preliminaries\n",
    "1. [Step 1](#s_i_flux): The $\\tilde{S}_i$ function\n",
    "    1. [Step 1.a](#define): The function declaration\n",
    "    1. [Step 1.b](#speed_limit): Speed-limit the velocities\n",
    "    1. [Step 1.c](#smallb): Magnetic field in the comoving fluid frame\n",
    "    1. [Step 1.d](#hydro_speed): Hydrodynamic wave speeds\n",
    "    1. [Step 1.e](#useful_quantities): Some final needed quantities\n",
    "    1. [Step 1.f](#fluxes): Compute the fluxes\n",
    "1. [Step 2](#latex_pdf_output): Output this module to $\\LaTeX$-formatted PDF file\n"
   ]
  },
  {
   "cell_type": "markdown",
   "metadata": {},
   "source": [
    "<a id='prelim'></a>\n",
    "\n",
    "## Step 0: Preliminaries \\[Back to [top](#toc)\\]\n",
    "$$\\label{prelim}$$\n",
    "\n",
    "This first block of code just sets up a subdirectory within `GiRaFFE_standalone_Ccodes/` to which we will write the C code. We will also import the core NRPy+ functionality and register the needed gridfunctions. Doing so will let NRPy+ figure out where to read and write data from/to. "
   ]
  },
  {
   "cell_type": "code",
   "execution_count": 1,
   "metadata": {},
   "outputs": [
    {
     "name": "stdout",
     "output_type": "stream",
     "text": [
      "Error: Tried to register the gridfunction \"gammaDD00\" twice (ignored type)\n",
      "\n",
      "\n"
     ]
    },
    {
     "ename": "SystemExit",
     "evalue": "1",
     "output_type": "error",
     "traceback": [
      "An exception has occurred, use %tb to see the full traceback.\n",
      "\u001b[0;31mSystemExit\u001b[0m\u001b[0;31m:\u001b[0m 1\n"
     ]
    },
    {
     "name": "stderr",
     "output_type": "stream",
     "text": [
      "/home/penelson/juppp/site-packages/IPython/core/interactiveshell.py:2886: UserWarning: To exit: use 'exit', 'quit', or Ctrl-D.\n",
      "  warn(\"To exit: use 'exit', 'quit', or Ctrl-D.\", stacklevel=1)\n"
     ]
    }
   ],
   "source": [
    "import cmdline_helper as cmd\n",
    "import os\n",
    "outdir = \"GiRaFFE_standalone_Ccodes/PPM\"\n",
    "cmd.mkdir(os.path.join(outdir,\"/\"))\n",
    "\n",
    "import NRPy_param_funcs as par\n",
    "import indexedexp as ixp\n",
    "import grid as gri\n",
    "import finite_difference as fin\n",
    "from outputC import *\n",
    "\n",
    "par.set_parval_from_str(\"grid::DIM\", 3)\n",
    "DIM = par.parval_from_str(\"grid::DIM\")\n",
    "\n",
    "# These are the standard gridfunctions we've used before.\n",
    "gammaDD = ixp.register_gridfunctions_for_single_rank2(\"AUXEVOL\",\"gammaDD\", \"sym01\",DIM=3)\n",
    "betaU   = ixp.register_gridfunctions_for_single_rank1(\"AUXEVOL\",\"betaU\",DIM=3)\n",
    "alpha   = gri.register_gridfunctions(\"AUXEVOL\",\"alpha\")\n",
    "ValenciavU = ixp.register_gridfunctions_for_single_rank1(\"AUXEVOL\",\"ValenciavU\",DIM=3)\n",
    "AD = ixp.register_gridfunctions_for_single_rank1(\"EVOL\",\"AD\",DIM=3)\n",
    "BU = ixp.register_gridfunctions_for_single_rank1(\"AUXEVOL\",\"BU\",DIM=3)\n",
    "gammaUU = ixp.register_gridfunctions_for_single_rank2(\"AUXEVOL\",\"gammaDD\", \"sym01\",DIM=3)\n",
    "gammadet = ixp.gri.register_gridfunctions(\"AUXEVOL\",\"gammadet\")\n",
    "\n",
    "# We'll need some more gridfunctions, now, to represent the reconstructions of BU and ValenciavU\n",
    "Valenciav_rU = ixp.register_gridfunctions_for_single_rank1(\"AUXEVOL\",\"Valenciav_rU\",DIM=3)\n",
    "B_rU = ixp.register_gridfunctions_for_single_rank1(\"AUXEVOL\",\"B_rU\",DIM=3)\n",
    "Valenciav_lU = ixp.register_gridfunctions_for_single_rank1(\"AUXEVOL\",\"Valenciav_lU\",DIM=3)\n",
    "B_lU = ixp.register_gridfunctions_for_single_rank1(\"AUXEVOL\",\"B_lU\",DIM=3)\n",
    "\n",
    "Stilde_rhsD = ixp.zerorank1(\"Stilde_rhsD\",DIM=3)"
   ]
  },
  {
   "cell_type": "markdown",
   "metadata": {},
   "source": [
    "In GRFFE, the evolution equation for the Poynting flux $\\tilde{S}_i$ is given as \n",
    "$$\n",
    "\\partial_t \\tilde{S}_i + \\partial_j \\left( \\alpha \\sqrt{\\gamma} T^j_{{\\rm EM} i} \\right) = \\frac{1}{2} \\alpha \\sqrt{\\gamma} T^{\\mu \\nu}_{\\rm EM} \\partial_i g_{\\mu \\nu}.\n",
    "$$\n",
    "We can then see that, if we rewrite this, the right-hand side (RHS) describing the time evolution $\\partial_t \\tilde{S}_i$ consists of two terms:\n",
    "$$\n",
    "\\partial_t \\tilde{S}_i = \\underbrace{- \\partial_j \\left( \\alpha \\sqrt{\\gamma} T^j_{{\\rm EM} i} \\right)}_{\\rm Flux\\ term} + \\underbrace{\\frac{1}{2} \\alpha \\sqrt{\\gamma} T^{\\mu \\nu}_{\\rm EM} \\partial_i g_{\\mu \\nu}}_{\\rm Source\\ term}.\n",
    "$$\n",
    "\n",
    "It is the flux term that concerns us here; the following function will compute its value and add it to $\\partial_t \\tilde{S}_i$."
   ]
  },
  {
   "cell_type": "markdown",
   "metadata": {},
   "source": [
    "<a id='s_i_flux'></a>\n",
    "\n",
    "## Step 1: The $\\tilde{S}_i$ function \\[Back to [top](#toc)\\]\n",
    "$$\\label{s_i_flux}$$\n",
    "\n",
    "<a id='define'></a>\n",
    "\n",
    "### Step 1.a: The function declaration \\[Back to [top](#toc)\\]\n",
    "$$\\label{define}$$\n",
    "\n",
    "First, we give the function definition. This function will take as parameters the integers `i`, `j`, and `k`; these indicate a point on the grid, but appear not to be used. The function also needs the parameter `flux_dirn` to know which direction to compute the flux in, the face values `Ul` and `Ur` (see [the previous tutorial](Tutorial-GiRaFFE_HO_Ccode_library-PPM.ipynb)), the interpolated quantities on the cell interfaces `FACEVAL` and `FACEVAL_LAPSE_PSI4`, the speeds `cmax` and `cmin`, and the fluxes `st_x_flux`, `st_y_flux`, and `st_z_flux`. We also calculate quantities related to the conformal factor $\\psi$ (including the square root of the determinant of the metric $\\sqrt{\\gamma}$) and the lapse $\\alpha$; these lines will need to be modified to use the values actually stored by our `GiRaFFE`."
   ]
  },
  {
   "cell_type": "code",
   "execution_count": null,
   "metadata": {},
   "outputs": [],
   "source": [
    "%%writefile $outdir/GRFFE__S_i__flux.C\n",
    "//-----------------------------------------------------------------------------\n",
    "// Compute the flux for advecting S_i .\n",
    "//-----------------------------------------------------------------------------\n",
    "static inline void GRFFE__S_i__flux(const int i,const int j,const int k,const int flux_dirn, REAL *Ul, REAL *Ur, REAL *FACEVAL,const REAL *FACEVAL_LAPSE_PSI4,\n",
    "                                    REAL &cmax,REAL &cmin,\n",
    "                                    REAL &st_x_flux,REAL &st_y_flux,REAL &st_z_flux) {\n"
   ]
  },
  {
   "cell_type": "code",
   "execution_count": null,
   "metadata": {},
   "outputs": [],
   "source": [
    "# Conveniently, we store the metric determinant gamma directly.\n",
    "alpha_sqrt_gamma = alpha*sp.sqrt(gammadet)\n",
    "\n",
    "# We'll also compute some powers of the conformal factor psi:\n",
    "# Since psi^6 = gammadet,\n",
    "psi = gammadet**(1.0/6.0)\n",
    "psim4 = 1.0/(psi**4.0)"
   ]
  },
  {
   "cell_type": "code",
   "execution_count": null,
   "metadata": {},
   "outputs": [],
   "source": [
    "# OLD:\n",
    "#   const REAL psi4 = FACEVAL_LAPSE_PSI4[PSI4];\n",
    "#   const REAL psi6 = FACEVAL_LAPSE_PSI4[PSI4]*FACEVAL_LAPSE_PSI4[PSI2];\n",
    "#   const REAL psim4 = 1.0/(psi4);\n",
    "\n",
    "#   const REAL alpha_sqrt_gamma = FACEVAL_LAPSE_PSI4[LAPSE]*psi6;\n",
    "#   const REAL ONE_OVER_LAPSE = 1.0/FACEVAL_LAPSE_PSI4[LAPSE];\n",
    "#   const REAL ONE_OVER_LAPSE_SQUARED=SQR(ONE_OVER_LAPSE);"
   ]
  },
  {
   "cell_type": "markdown",
   "metadata": {},
   "source": [
    "<a id='speed_limit'></a>\n",
    "\n",
    "### Step 1.b: Speed-limit the velocities \\[Back to [top](#toc)\\]\n",
    "$$\\label{speed_limit}$$\n",
    "\n",
    "Next, we compute the speed-limited velocities on the faces. This function is found in `inlined_functions.C`, and will be documented elsewhere **(TODO: link)**. This function also counts how often the speed had to be limited."
   ]
  },
  {
   "cell_type": "code",
   "execution_count": null,
   "metadata": {},
   "outputs": [],
   "source": [
    "%%writefile -a $outdir/GRFFE__S_i__flux.C\n",
    "\n",
    "  //Compute face velocities\n",
    "  // Begin by computing u0\n",
    "  output_stats stats; stats.failure_checker=0;\n",
    "  REAL u0_r,u0_l;\n",
    "  impose_speed_limit_output_u0(FACEVAL,Ur,psi4,ONE_OVER_LAPSE,stats,u0_r);\n",
    "  impose_speed_limit_output_u0(FACEVAL,Ul,psi4,ONE_OVER_LAPSE,stats,u0_l);\n"
   ]
  },
  {
   "cell_type": "code",
   "execution_count": null,
   "metadata": {},
   "outputs": [],
   "source": [
    "# We shouldn't have to do anything here? Or we need to rerun our function on \n",
    "# the reconstructed data. Is that necessary?"
   ]
  },
  {
   "cell_type": "markdown",
   "metadata": {},
   "source": [
    "<a id='smallb'></a>\n",
    "\n",
    "### Step 1.c: Magnetic field in the comoving fluid frame \\[Back to [top](#toc)\\]\n",
    "$$\\label{smallb}$$\n",
    "\n",
    "Now, we will compute the magnetic field in the comoving fluid frame $b^\\mu$ , as defined in [Gammie's paper](https://arxiv.org/pdf/astro-ph/0301509.pdf).  We will also compute the four velocities on the faces $u_\\mu$."
   ]
  },
  {
   "cell_type": "code",
   "execution_count": null,
   "metadata": {},
   "outputs": [],
   "source": [
    "%%writefile -a $outdir/GRFFE__S_i__flux.C\n",
    "\n",
    "  //Next compute b^{\\mu}, the magnetic field measured in the comoving fluid frame:\n",
    "  const REAL ONE_OVER_LAPSE_SQRT_4PI = ONE_OVER_LAPSE*ONE_OVER_SQRT_4PI;\n",
    "  /***********************************************************/\n",
    "  /********** RIGHT FACE ************/\n",
    "  // Note that smallbr[4] = b^a defined in Gammie's paper, on the right face.\n",
    "  REAL u_x_over_u0_psi4r,u_y_over_u0_psi4r,u_z_over_u0_psi4r;\n",
    "  REAL smallbr[NUMVARS_SMALLB];\n",
    "  // Compute b^{a}, b^2, and u_i over u^0\n",
    "  compute_smallba_b2_and_u_i_over_u0_psi4(FACEVAL,FACEVAL_LAPSE_PSI4,Ur,u0_r,ONE_OVER_LAPSE_SQRT_4PI,  \n",
    "                                          u_x_over_u0_psi4r,u_y_over_u0_psi4r,u_z_over_u0_psi4r,smallbr);\n",
    "  // Then compute u_xr,u_yr, and u_zr. We need to set the zeroth component so we can specify U_LOWER{r,l}[{UX,UY,UZ}] (UX=1,UY=2,UZ=3).\n",
    "  const REAL U_LOWERr[4] = { 0.0, u_x_over_u0_psi4r*u0_r*FACEVAL_LAPSE_PSI4[PSI4], u_y_over_u0_psi4r*u0_r*FACEVAL_LAPSE_PSI4[PSI4], \n",
    "                                  u_z_over_u0_psi4r*u0_r*FACEVAL_LAPSE_PSI4[PSI4] };\n",
    "  /********** LEFT FACE ************/\n",
    "  // Note that smallbl[4] = b^a defined in Gammie's paper, on the left face.\n",
    "  REAL u_x_over_u0_psi4l,u_y_over_u0_psi4l,u_z_over_u0_psi4l;\n",
    "  REAL smallbl[NUMVARS_SMALLB];\n",
    "  // Compute b^{a}, b^2, and u_i over u^0\n",
    "  compute_smallba_b2_and_u_i_over_u0_psi4(FACEVAL,FACEVAL_LAPSE_PSI4,Ul,u0_l,ONE_OVER_LAPSE_SQRT_4PI,  \n",
    "                                          u_x_over_u0_psi4l,u_y_over_u0_psi4l,u_z_over_u0_psi4l,smallbl);\n",
    "  // Then compute u_xr,u_yr, and u_zr. We need to set the zeroth component so we can specify U_LOWER{r,l}[{UX,UY,UZ}]\n",
    "  const REAL U_LOWERl[4] = { 0.0, u_x_over_u0_psi4l*u0_l*FACEVAL_LAPSE_PSI4[PSI4], u_y_over_u0_psi4l*u0_l*FACEVAL_LAPSE_PSI4[PSI4], \n",
    "                                  u_z_over_u0_psi4l*u0_l*FACEVAL_LAPSE_PSI4[PSI4] };\n",
    "  /***********************************************************/\n"
   ]
  },
  {
   "cell_type": "code",
   "execution_count": null,
   "metadata": {},
   "outputs": [],
   "source": [
    "# We already did something like this in GiRaFFE_Higher_Order_v2; we'll \n",
    "# paste that code here, but using the face variables.\n",
    "import u0_smallb_Poynting__Cartesian.u0_smallb_Poynting__Cartesian as u0b\n",
    "\n",
    "# LEFT\n",
    "u0b.compute_u0_smallb_Poynting__Cartesian(gammaDD,betaU,alpha,Valenciav_lU,B_lU)\n",
    "u_lD = ixp.zerorank1()\n",
    "u_lU = ixp.zerorank1()\n",
    "u4upperZero_l = gri.register_gridfunctions(\"AUX\",\"u4upperZero_l\")\n",
    "\n",
    "for i in range(DIM):\n",
    "    u_lD[i] = u0b.u_lD[i].subs(u0b.u0,u4upperZero_l)\n",
    "    u_lU[i] = u0b.u_lU[i].subs(u0b.u0,u4upperZero_l)\n",
    "\n",
    "smallb4_lU = ixp.zerorank1(DIM=4)\n",
    "smallb4_lD = ixp.zerorank1(DIM=4)\n",
    "for mu in range(4):\n",
    "    smallb4_lU[mu] = u0b.smallb4_lU[mu].subs(u0b.u0,u4upperZero_l)\n",
    "    smallb4_lD[mu] = u0b.smallb4_lD[mu].subs(u0b.u0,u4upperZero_l)\n",
    "\n",
    "smallb2 = u0b.smallb2etk.subs(u0b.u0,u4upperZero_l)\n",
    "\n",
    "# RIGHT\n",
    "u0b.compute_u0_smallb_Poynting__Cartesian(gammaDD,betaU,alpha,Valenciav_rU,B_rU)\n",
    "u_rD = ixp.zerorank1()\n",
    "u_rU = ixp.zerorank1()\n",
    "u4upperZero_r = gri.register_gridfunctions(\"AUX\",\"u4upperZero_r\")\n",
    "\n",
    "for i in range(DIM):\n",
    "    u_rD[i] = u0b.u_rD[i].subs(u0b.u0,u4upperZero_r)\n",
    "    u_rU[i] = u0b.u_rU[i].subs(u0b.u0,u4upperZero_r)\n",
    "\n",
    "smallb4_rU = ixp.zerorank1(DIM=4)\n",
    "smallb4_rD = ixp.zerorank1(DIM=4)\n",
    "for mu in range(4):\n",
    "    smallb4_rU[mu] = u0b.smallb4_rU[mu].subs(u0b.u0,u4upperZero_r)\n",
    "    smallb4_rD[mu] = u0b.smallb4_rD[mu].subs(u0b.u0,u4upperZero_r)\n",
    "\n",
    "smallb2 = u0b.smallb2etk.subs(u0b.u0,u4upperZero_r)\n"
   ]
  },
  {
   "cell_type": "markdown",
   "metadata": {},
   "source": [
    "<a id='hydro_speed'></a>\n",
    "\n",
    "### Step 1.d: Hydrodynamic wave speeds \\[Back to [top](#toc)\\]\n",
    "$$\\label{hydro_speed}$$\n",
    "\n",
    "Next, we will find the speeds at which the hydrodynamics waves propagate. We start from the speed of light (since FFE deals with very diffuse plasmas), which is $c=1.0$ in our chosen units. We then find the speeds $c_+$ and $c_-$ on each face with the function `find_cp_cm` **(TODO: link to documentation)**; then, we find minimum and maximum speeds possible from among those."
   ]
  },
  {
   "cell_type": "code",
   "execution_count": null,
   "metadata": {},
   "outputs": [],
   "source": [
    "%%writefile -a $outdir/GRFFE__S_i__flux.C\n",
    "\n",
    "  // v02 is the speed of light in FFE, which is 1.0 in G=c=1.0.\n",
    "  const REAL v02r=1.0,v02l=1.0;\n",
    "  \n",
    "  int offset=flux_dirn-1;\n",
    "\n",
    "  REAL cplusr,cminusr,cplusl,cminusl;\n",
    "  find_cp_cm(cplusr,cminusr,v02r,u0_r,\n",
    "             Ur[VX+offset],ONE_OVER_LAPSE_SQUARED,FACEVAL[SHIFTX+offset],psim4,FACEVAL[GUPXX+offset]);\n",
    "  find_cp_cm(cplusl,cminusl,v02l,u0_l,\n",
    "             Ul[VX+offset],ONE_OVER_LAPSE_SQUARED,FACEVAL[SHIFTX+offset],psim4,FACEVAL[GUPXX+offset]);\n",
    "\n",
    "  // Then compute cmax, cmin. This is required for the HLL flux.\n",
    "  const REAL cmaxL =  MAX(0.0,MAX(cplusl,cplusr));\n",
    "  const REAL cminL = -MIN(0.0,MIN(cminusl,cminusr));\n",
    "\n"
   ]
  },
  {
   "cell_type": "markdown",
   "metadata": {},
   "source": [
    "<a id='useful_quantities'></a>\n",
    "\n",
    "### Step 1.e: Some final needed quantities \\[Back to [top](#toc)\\]\n",
    "$$\\label{useful_quantities}$$\n",
    "\n",
    "Now, we lower the index on the spatial parts of $b^\\mu$, $b^i$. Since $b_\\nu = g_{\\mu\\nu} b^\\mu$ and \n",
    "$$\n",
    "g_{\\mu\\nu} = \\begin{pmatrix} \n",
    "-\\alpha^2 + \\beta^k \\beta_k & \\beta_j \\\\\n",
    "\\beta_i & \\gamma_{ij}\n",
    "\\end{pmatrix},\n",
    "$$\n",
    "it follows that $b_j = g_{ij}(b^i + b^t \\beta^i)$. We calculate this on both the left and right face of the cell."
   ]
  },
  {
   "cell_type": "code",
   "execution_count": null,
   "metadata": {},
   "outputs": [],
   "source": [
    "%%writefile -a $outdir/GRFFE__S_i__flux.C\n",
    "\n",
    "  //*********************************************************************\n",
    "  // momentum flux = \\alpha \\sqrt{\\gamma} T^m_j, where m is the current flux direction (the m index)\n",
    "  //*********************************************************************\n",
    "  // b_j = g_{ij} (b^i + b^t shift^i), g_{ij} = physical metric\n",
    "  //REAL sbtr=0,sbtl=0;\n",
    "  REAL smallb_lowerr[NUMVARS_SMALLB],smallb_lowerl[NUMVARS_SMALLB];\n",
    "  lower_4vector_output_spatial_part(psi4,FACEVAL,smallbr,smallb_lowerr);\n",
    "  lower_4vector_output_spatial_part(psi4,FACEVAL,smallbl,smallb_lowerl);\n"
   ]
  },
  {
   "cell_type": "markdown",
   "metadata": {},
   "source": [
    "We will also compute some useful hydrodynamics quantities on each face. These are simplified by the fact that pressure and density are both zero in FFE: \n",
    "\\begin{align}\n",
    "\\rho + b^2 &= b^2 \\\\\n",
    "P + \\frac{1}{2} b^2 &= \\frac{1}{2} b^2\\\\\n",
    "\\end{align}"
   ]
  },
  {
   "cell_type": "code",
   "execution_count": null,
   "metadata": {},
   "outputs": [],
   "source": [
    "%%writefile -a $outdir/GRFFE__S_i__flux.C\n",
    "\n",
    "  /********** Flux for S_x **********/\n",
    "  // [S_x flux] = \\alpha \\sqrt{\\gamma} T^m_x, where m is the current flux direction (the m index)\n",
    "  //    Again, offset = 0 for reconstruction in x direction, 1 for y, and 2 for z\n",
    "  //    Note that kronecker_delta[flux_dirn][0] = { 1 if flux_dirn==1, 0 otherwise }.\n",
    "  /********** RIGHT FACE ************/\n",
    "  // Compute a couple useful hydro quantities:\n",
    "  const REAL rho0_h_plus_b2_r = smallbr[SMALLB2];     // Since rho=0 in GRFFE\n",
    "  const REAL P_plus_half_b2_r = 0.5*smallbr[SMALLB2]; // Since P=0 in GRFFE\n",
    "  /********** LEFT FACE *************/\n",
    "  // Compute a couple useful hydro quantities:\n",
    "  const REAL rho0_h_plus_b2_l = smallbl[SMALLB2];     // Since rho=0 in GRFFE\n",
    "  const REAL P_plus_half_b2_l = 0.5*smallbl[SMALLB2]; // Since P=0 in GRFFE\n"
   ]
  },
  {
   "cell_type": "markdown",
   "metadata": {},
   "source": [
    "<a id='fluxes'></a>\n",
    "\n",
    "### Step 1.f: Compute the fluxes \\[Back to [top](#toc)\\]\n",
    "$$\\label{fluxes}$$\n",
    "\n",
    "Finally, we can compute the flux in each direction. This momentum flux in the $m$ direction is defined as $\\alpha \\sqrt{\\gamma} T^m_{\\ \\ j}$. We have already defined $\\alpha \\sqrt{\\gamma}$, so all we need to do is calculate $T^m_{\\ \\ j}$. We will do so in accordance with the method published by [Harten, Lax, and von Leer](https://epubs.siam.org/doi/pdf/10.1137/1025002) (hereafter HLL) to solve the Riemann problem. So, we define $f(u) = T^m_{\\ \\ j}$ on each face as \n",
    "$$\n",
    "f = \\alpha \\sqrt{\\gamma} \\left( (\\rho+b^2)(u^0 v^j) v_x + (P+\\frac{1}{2}b^2) \\delta_{jx} - b^j b_x \\right);\n",
    "$$\n",
    "we use $j$ to correspond to the direction in which we are calculating the flux, based on the input `flux_dirn`; that is, $j=1$ corresponds to $x$, and so forth. $\\delta_{ij}$ is the standard Kronecker delta. We also define `st_x_r` and `st_x_l` (called $u_{\\rm R}$ and $u_{\\rm L}$ in HLL; we'll not do that, since we're using $u$ for four-velocity):\n",
    "$$\n",
    "{\\rm st\\_x} = \\alpha \\sqrt{\\gamma} \\left( (\\rho+b^2) u^0 v^j v_x - b^t b_x \\right)\n",
    "$$\n",
    "and combine based on eq. 3.15 in the HLL paper."
   ]
  },
  {
   "cell_type": "code",
   "execution_count": null,
   "metadata": {},
   "outputs": [],
   "source": [
    "%%writefile -a $outdir/GRFFE__S_i__flux.C\n",
    "\n",
    "  REAL Fr = alpha_sqrt_gamma*( rho0_h_plus_b2_r*(u0_r*Ur[VX+offset])*U_LOWERr[UX] \n",
    "                                    + P_plus_half_b2_r*kronecker_delta[flux_dirn][0] - smallbr[SMALLBX+offset]*smallb_lowerr[SMALLBX] );\n",
    "  REAL Fl = alpha_sqrt_gamma*( rho0_h_plus_b2_l*(u0_l*Ul[VX+offset])*U_LOWERl[UX] \n",
    "                                    + P_plus_half_b2_l*kronecker_delta[flux_dirn][0] - smallbl[SMALLBX+offset]*smallb_lowerl[SMALLBX] );\n",
    "\n",
    "  //        S_x =\\alpha\\sqrt{\\gamma}( T^0_x )\n",
    "  const REAL st_x_r = alpha_sqrt_gamma*( rho0_h_plus_b2_r*u0_r*U_LOWERr[UX] - smallbr[SMALLBT]*smallb_lowerr[SMALLBX] );\n",
    "  const REAL st_x_l = alpha_sqrt_gamma*( rho0_h_plus_b2_l*u0_l*U_LOWERl[UX] - smallbl[SMALLBT]*smallb_lowerl[SMALLBX] );\n",
    "\n",
    "  // HLL step for Sx:\n",
    "  st_x_flux = (cminL*Fr + cmaxL*Fl - cminL*cmaxL*(st_x_r-st_x_l) )/(cmaxL + cminL);\n",
    "%%writefile -a $outdir/GRFFE__S_i__flux.C\n"
   ]
  },
  {
   "cell_type": "markdown",
   "metadata": {},
   "source": [
    "We repeat this step in the $y$ direction:\n",
    "$$\n",
    "f = \\alpha \\sqrt{\\gamma} \\left( (\\rho+b^2)(u^0 v^j) v_y + (P+\\frac{1}{2}b^2) \\delta_{jy} - b^j b_y \\right);\n",
    "$$\n",
    "and \n",
    "$$\n",
    "{\\rm st\\_y} = \\alpha \\sqrt{\\gamma} \\left( (\\rho+b^2) u^0 v^j v_y - b^t b_y \\right),\n",
    "$$"
   ]
  },
  {
   "cell_type": "code",
   "execution_count": null,
   "metadata": {},
   "outputs": [],
   "source": [
    "%%writefile -a $outdir/GRFFE__S_i__flux.C\n",
    "\n",
    "  /********** Flux for S_y **********/\n",
    "  // [S_y flux] = \\alpha \\sqrt{\\gamma} T^m_y, where m is the current flux direction (the m index)\n",
    "  //    Again, offset = 1 for reconstruction in x direction, 2 for y, and 3 for z\n",
    "  //    Note that kronecker_delta[flux_dirn][1] = { 1 if flux_dirn==2, 0 otherwise }.\n",
    "  Fr = alpha_sqrt_gamma*( rho0_h_plus_b2_r*(u0_r*Ur[VX+offset])*U_LOWERr[UY] + P_plus_half_b2_r*kronecker_delta[flux_dirn][1] \n",
    "                          - smallbr[SMALLBX+offset]*smallb_lowerr[SMALLBY] );\n",
    "  Fl = alpha_sqrt_gamma*( rho0_h_plus_b2_l*(u0_l*Ul[VX+offset])*U_LOWERl[UY] + P_plus_half_b2_l*kronecker_delta[flux_dirn][1] \n",
    "                          - smallbl[SMALLBX+offset]*smallb_lowerl[SMALLBY] );\n",
    "\n",
    "  //        S_y =\\alpha\\sqrt{\\gamma}( T^0_y )\n",
    "  const REAL st_y_r = alpha_sqrt_gamma*( rho0_h_plus_b2_r*u0_r*U_LOWERr[UY] - smallbr[SMALLBT]*smallb_lowerr[SMALLBY] );\n",
    "  const REAL st_y_l = alpha_sqrt_gamma*( rho0_h_plus_b2_l*u0_l*U_LOWERl[UY] - smallbl[SMALLBT]*smallb_lowerl[SMALLBY] );\n",
    "\n",
    "  // HLL step for Sy:\n",
    "  st_y_flux = (cminL*Fr + cmaxL*Fl - cminL*cmaxL*(st_y_r-st_y_l) )/(cmaxL + cminL);\n"
   ]
  },
  {
   "cell_type": "markdown",
   "metadata": {},
   "source": [
    "and in z:\n",
    "$$\n",
    "f = \\alpha \\sqrt{\\gamma} \\left( (\\rho+b^2)(u^0 v^j) v_z + (P+\\frac{1}{2}b^2) \\delta_{jz} - b^j b_z \\right);\n",
    "$$\n",
    "and \n",
    "$$\n",
    "{\\rm st\\_z} = \\alpha \\sqrt{\\gamma} \\left( (\\rho+b^2) u^0 v^j v_z - b^t b_z \\right)\n",
    "$$"
   ]
  },
  {
   "cell_type": "code",
   "execution_count": null,
   "metadata": {},
   "outputs": [],
   "source": [
    "%%writefile -a $outdir/GRFFE__S_i__flux.C\n",
    "\n",
    "  /********** Flux for S_z **********/\n",
    "  // [S_z flux] = \\alpha \\sqrt{\\gamma} T^m_z, where m is the current flux direction (the m index)\n",
    "  //    Again, offset = 1 for reconstruction in x direction, 2 for y, and 3 for z\n",
    "  //    Note that kronecker_delta[flux_dirn][2] = { 1 if flux_dirn==3, 0 otherwise }.\n",
    "  Fr = alpha_sqrt_gamma*( rho0_h_plus_b2_r*(u0_r*Ur[VX+offset])*U_LOWERr[UZ] + P_plus_half_b2_r*kronecker_delta[flux_dirn][2] \n",
    "                          - smallbr[SMALLBX+offset]*smallb_lowerr[SMALLBZ] );\n",
    "  Fl = alpha_sqrt_gamma*( rho0_h_plus_b2_l*(u0_l*Ul[VX+offset])*U_LOWERl[UZ] + P_plus_half_b2_l*kronecker_delta[flux_dirn][2] \n",
    "                          - smallbl[SMALLBX+offset]*smallb_lowerl[SMALLBZ] );\n",
    "\n",
    "  //        S_z =\\alpha\\sqrt{\\gamma}( T^0_z )\n",
    "  const REAL st_z_r = alpha_sqrt_gamma*( rho0_h_plus_b2_r*u0_r*U_LOWERr[UZ] - smallbr[SMALLBT]*smallb_lowerr[SMALLBZ] );\n",
    "  const REAL st_z_l = alpha_sqrt_gamma*( rho0_h_plus_b2_l*u0_l*U_LOWERl[UZ] - smallbl[SMALLBT]*smallb_lowerl[SMALLBZ] );\n",
    "\n",
    "  // HLL step for Sz:\n",
    "  st_z_flux = (cminL*Fr + cmaxL*Fl - cminL*cmaxL*(st_z_r-st_z_l) )/(cmaxL + cminL);\n",
    "\n",
    "  cmax = cmaxL;\n",
    "  cmin = cminL;\n",
    "}\n"
   ]
  },
  {
   "cell_type": "markdown",
   "metadata": {},
   "source": [
    "<a id='latex_pdf_output'></a>\n",
    "\n",
    "# Step 2: Output this module to $\\LaTeX$-formatted PDF file \\[Back to [top](#toc)\\]\n",
    "$$\\label{latex_pdf_output}$$\n",
    "\n",
    "The following code cell converts this Jupyter notebook into a proper, clickable $\\LaTeX$-formatted PDF file. After the cell is successfully run, the generated PDF may be found in the root NRPy+ tutorial directory, with filename\n",
    "[Tutorial-GiRaFFE_HO_Ccode_library-Stilde-flux.pdf](Tutorial-GiRaFFE_HO_Ccode_library-Stilde-flux.pdf) (Note that clicking on this link may not work; you may need to open the PDF file through another means.)"
   ]
  },
  {
   "cell_type": "code",
   "execution_count": null,
   "metadata": {},
   "outputs": [],
   "source": [
    "!jupyter nbconvert --to latex --template latex_nrpy_style.tplx Tutorial-GiRaFFE_HO_Ccode_library-Stilde-flux.ipynb\n",
    "!pdflatex -interaction=batchmode Tutorial-GiRaFFE_HO_Ccode_library-Stilde-flux.tex\n",
    "!pdflatex -interaction=batchmode Tutorial-GiRaFFE_HO_Ccode_library-Stilde-flux.tex\n",
    "!pdflatex -interaction=batchmode Tutorial-GiRaFFE_HO_Ccode_library-Stilde-flux.tex\n",
    "!rm -f Tut*.out Tut*.aux Tut*.log"
   ]
  }
 ],
 "metadata": {
  "kernelspec": {
   "display_name": "Python 2",
   "language": "python",
   "name": "python2"
  },
  "language_info": {
   "codemirror_mode": {
    "name": "ipython",
    "version": 2
   },
   "file_extension": ".py",
   "mimetype": "text/x-python",
   "name": "python",
   "nbconvert_exporter": "python",
   "pygments_lexer": "ipython2",
   "version": "2.7.13"
  }
 },
 "nbformat": 4,
 "nbformat_minor": 2
}
