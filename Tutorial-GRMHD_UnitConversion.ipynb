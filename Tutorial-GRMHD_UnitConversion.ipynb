{
 "cells": [
  {
   "cell_type": "markdown",
   "metadata": {},
   "source": [
    "# Code and Physical Units\n",
    "$\\newcommand{\\rhoCode}{{\\tilde{\\rho}}}$\n",
    "$\\newcommand{\\MCode}{{\\tilde{M}}}$ $\\newcommand{\\rCode}{{\\tilde{r}}}$ $\\newcommand{\\PCode}{{\\tilde{P}}}$$\\newcommand{\\tCode}{{\\tilde{t}}}$\n",
    "In GRMHD, we can set an equation of state of the form\n",
    "\\begin{equation}\n",
    "P = K\\rho^{1+1/n}\n",
    "\\end{equation}\n",
    "Noting that $P = \\gamma^{-1} c_s^2 (\\rho/\\rho_0)^{1+1/n}$, we can choose $\\rho_0$ such that $c_s = \\gamma c$ or \n",
    "\\begin{equation}\n",
    "\\frac{P}{\\rho_0} = c^2 = \\rho_0^{1/n} \\rightarrow \\rho_0 = \\left(\\frac{K}{c^2}\\right)^n\n",
    "\\end{equation}\n",
    "This is equivalent to setting the isothermal sound speed to $c$.  With this definition of $\\rho_0$, we can write\n",
    "\\begin{equation}\n",
    "P = c^2\\left(\\frac{\\rho}{\\rho_0}\\right)^{1+1/n}\n",
    "\\end{equation}\n",
    "which allows us to define the dimensionless density $\\rhoCode = \\rho/\\rho_0$ and dimensionless pressure\n",
    "\\begin{equation}\n",
    "\\PCode = \\rhoCode^{1+1/n},\n",
    "\\end{equation}\n",
    "where we adopt code units where $c=1$.  These dimensionless pressure and density are in $G=c=1$ units and can be used in GRMHD code including inclusion in the spacetime solver via $T_{\\mu\\nu}$.\n",
    "\n",
    "To find a dimensionless mass, $\\MCode$, dimensionless distance, $\\rCode$, and dimensionless time, $\\tCode$, we note\n",
    "$GM/rc^2$ is dimensionless\n",
    "\\begin{equation}\n",
    "\\frac{GM}{rc^2} = \\frac{G\\rho_0 r^2}{c^2} = \\frac{GK^n}{c^{2(n+1)}}r^2 \\rightarrow \\rCode = \\frac{\\sqrt{G}K^{n/2}}{c^{n+1}} r = \\frac r {r_0},\n",
    "\\end{equation}\n",
    "where $r_0 = c^{n+1}/\\sqrt{G}K^{n/2}$.  Then\n",
    "\\begin{eqnarray}\n",
    "\\tCode &=& \\frac{t}{t_0} = \\frac{t}{r_0/c} = \\frac{\\sqrt{G}K^{n/2}}{c^n} t \\\\\n",
    "\\MCode &=& \\frac{M}{M_0} = \\frac{M}{\\rho_0 r_0^3} = M\\frac{c^{2n}}{K^n}\\frac{G^{3/2}K^{3n/2}}{c^{3(n+1)}} = \\frac{G^{3/2}K^{n/2}}{c^{n+3}} M\n",
    "\\end{eqnarray}\n"
   ]
  },
  {
   "cell_type": "code",
   "execution_count": null,
   "metadata": {},
   "outputs": [],
   "source": []
  }
 ],
 "metadata": {
  "kernelspec": {
   "display_name": "Python 3",
   "language": "python",
   "name": "python3"
  },
  "language_info": {
   "codemirror_mode": {
    "name": "ipython",
    "version": 3
   },
   "file_extension": ".py",
   "mimetype": "text/x-python",
   "name": "python",
   "nbconvert_exporter": "python",
   "pygments_lexer": "ipython3",
   "version": "3.6.5"
  }
 },
 "nbformat": 4,
 "nbformat_minor": 2
}
