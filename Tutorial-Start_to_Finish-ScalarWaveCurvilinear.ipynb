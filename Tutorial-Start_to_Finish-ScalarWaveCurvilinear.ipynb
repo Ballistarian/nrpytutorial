{
 "cells": [
  {
   "cell_type": "markdown",
   "metadata": {},
   "source": [
    "# Start-to-Finish Example: Numerical Solution of the Scalar Wave Equation, in Curvilinear Coordinates\n",
    "\n",
    "### NRPy+ Source Code for this module: [ScalarWaveCurvilinear/ScalarWaveCurvilinear_RHSs.py](../edit/ScalarWaveCurvlinear/ScalarWaveCurvilinear_RHSs.py); [ScalarWave/InitialData_PlaneWave.py](../edit/ScalarWave/InitialData_PlaneWave.py)\n",
    "\n",
    "As outlined in the [previous NRPy+ tutorial module](Tutorial-ScalarWaveCurvilinear.ipynb), we first use NRPy+ to generate initial data for the scalar wave equation, and then we use it to generate the RHS expressions for [Method of Lines](https://reference.wolfram.com/language/tutorial/NDSolveMethodOfLines.html) time integration based on the [explicit Runge-Kutta fourth-order scheme](https://en.wikipedia.org/wiki/Runge%E2%80%93Kutta_methods) (RK4).\n",
    "\n",
    "The entire algorithm is outlined below, with NRPy+-based components highlighted in <font color='green'>green</font>.\n",
    "\n",
    "1. Allocate memory for gridfunctions, including temporary storage for the RK4 time integration.\n",
    "1. <font color='green'>Set gridfunction values to initial data.</font>\n",
    "1. Evolve the system forward in time using RK4 time integration. At each RK4 substep, do the following:\n",
    "    1. <font color='green'>Evaluate scalar wave RHS expressions.</font>\n",
    "    1. Apply boundary conditions.\n",
    "1. At the end of each iteration in time, output the relative error between numerical and exact solutions."
   ]
  },
  {
   "cell_type": "code",
   "execution_count": 1,
   "metadata": {},
   "outputs": [],
   "source": [
    "# Step P1: Import needed NRPy+ core modules:\n",
    "import NRPy_param_funcs as par\n",
    "import indexedexp as ixp\n",
    "import grid as gri\n",
    "import reference_metric as rfm\n",
    "import finite_difference as fin\n",
    "import loop as lp\n",
    "from outputC import *\n",
    "\n",
    "# Step 1: Import the ScalarWave.InitialData module. \n",
    "#         This command only declares ScalarWave initial data \n",
    "#         parameters and the InitialData_PlaneWave() function.\n",
    "import ScalarWave.InitialData_PlaneWave as swid\n",
    "\n",
    "# Step 2: Import ScalarWave_RHSs module. \n",
    "#         This command only declares ScalarWave RHS parameters\n",
    "#         and the ScalarWave_RHSs function (called later)\n",
    "import ScalarWaveCurvilinear.ScalarWaveCurvilinear_RHSs as swrhs\n",
    "\n",
    "# Step 3: Enable SIMD\n",
    "par.set_parval_from_str(\"outputC::SIMD_enable\",False)\n",
    "\n",
    "# Step 4: Set the spatial dimension parameter \n",
    "#         to *FOUR* this time, and then read\n",
    "#         the parameter as DIM.\n",
    "par.set_parval_from_str(\"grid::DIM\",3)\n",
    "DIM = par.parval_from_str(\"grid::DIM\")\n",
    "\n",
    "# Step 5: Set the finite differencing order to 4.\n",
    "par.set_parval_from_str(\"finite_difference::FD_CENTDERIVS_ORDER\",4)\n",
    "\n",
    "# Step 6: Call the InitialData_PlaneWave() function to set up\n",
    "#         monochromatic (single frequency/wavelength) scalar\n",
    "#         wave initial data.\n",
    "swid.InitialData_PlaneWave()\n",
    "\n",
    "# Step 7: Generate SymPy symbolic expressions for\n",
    "#         uu_rhs and vv_rhs; the ScalarWave RHSs.\n",
    "#         This function also declares the uu and vv\n",
    "#         gridfunctions, which need to be declared\n",
    "#         to output even the initial data to C file.\n",
    "swrhs.ScalarWaveCurvilinear_RHSs()\n",
    "\n",
    "# Step 8: Generate C code for the initial data,\n",
    "#         output to a file named \"SENR/ScalarWave_InitialData.h\".\n",
    "IDstring = fin.FD_outputC(\"returnstring\",[lhrh(lhs=gri.gfaccess(\"in_gfs\",\"uu\"),rhs=swid.uu_ID),\n",
    "                                          lhrh(lhs=gri.gfaccess(\"in_gfs\",\"vv\"),rhs=swid.vv_ID)])\n",
    "with open(\"ScalarWaveCurvilinear/ScalarWaveCartesian_InitialData.h\", \"w\") as file:\n",
    "    file.write(IDstring)\n",
    "\n",
    "# Step 9: Generate C code for scalarwave RHSs,\n",
    "#         output to a file named \"SENR/ScalarWave_RHSs.h\".\n",
    "RHSstring = fin.FD_outputC(\"returnstring\",[lhrh(lhs=gri.gfaccess(\"rhs_gfs\",\"uu\"),rhs=swrhs.uu_rhs),\n",
    "                                           lhrh(lhs=gri.gfaccess(\"rhs_gfs\",\"vv\"),rhs=swrhs.vv_rhs)])\n",
    "with open(\"ScalarWaveCurvilinear/ScalarWaveCurvilinear_RHSs.h\", \"w\") as file:\n",
    "    file.write(lp.loop([\"i2\",\"i1\",\"i0\"],[\"NGHOSTS\",\"NGHOSTS\",\"NGHOSTS\"],\n",
    "                       [\"NGHOSTS+Nxx[2]\",\"NGHOSTS+Nxx[1]\",\"NGHOSTS+Nxx[0]\"],\n",
    "                       [\"1\",\"1\",\"1\"],[\"const REAL invdx0 = 1.0/dxx[0];\\n\"+\n",
    "                                      \"const REAL invdx1 = 1.0/dxx[1];\\n\"+\n",
    "                                      \"const REAL invdx2 = 1.0/dxx[2];\\n\"+\n",
    "                                      \"#pragma omp parallel for\",\"\",\"\"],\"\",RHSstring))"
   ]
  },
  {
   "cell_type": "code",
   "execution_count": 2,
   "metadata": {},
   "outputs": [
    {
     "name": "stdout",
     "output_type": "stream",
     "text": [
      "Wrote to file \"ScalarWaveCurvilinear/xxCart.h\"\n",
      "Wrote to file \"ScalarWaveCurvilinear/Cart_to_xx.h\"\n"
     ]
    }
   ],
   "source": [
    "outputC([rfm.xxCart[0],rfm.xxCart[1],rfm.xxCart[2]],[\"xx_to_Cart0\",\"xx_to_Cart1\",\"xx_to_Cart2\"],\n",
    "        \"ScalarWaveCurvilinear/xxCart.h\")\n",
    "outputC([rfm.Cart_to_xx[0],rfm.Cart_to_xx[1],rfm.Cart_to_xx[2]],\n",
    "        [\"Cart_to_xx0_inbounds\",\"Cart_to_xx1_inbounds\",\"Cart_to_xx2_inbounds\"],\n",
    "        \"ScalarWaveCurvilinear/Cart_to_xx.h\")"
   ]
  },
  {
   "cell_type": "markdown",
   "metadata": {},
   "source": [
    "## Basic C Code Infrastructure\n",
    "\n",
    "Next we will write the C code infrastructure necessary to make use of the above NRPy+-generated codes. Again, we'll be using RK4 time integration via the Method of Lines."
   ]
  }
 ],
 "metadata": {
  "kernelspec": {
   "display_name": "Python 3",
   "language": "python",
   "name": "python3"
  },
  "language_info": {
   "codemirror_mode": {
    "name": "ipython",
    "version": 3
   },
   "file_extension": ".py",
   "mimetype": "text/x-python",
   "name": "python",
   "nbconvert_exporter": "python",
   "pygments_lexer": "ipython3",
   "version": "3.6.6"
  }
 },
 "nbformat": 4,
 "nbformat_minor": 2
}
