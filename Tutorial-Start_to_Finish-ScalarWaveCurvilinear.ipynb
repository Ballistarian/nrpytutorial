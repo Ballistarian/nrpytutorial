{
 "cells": [
  {
   "cell_type": "markdown",
   "metadata": {},
   "source": [
    "# Start-to-Finish Example: Numerical Solution of the Scalar Wave Equation, in Curvilinear Coordinates\n",
    "\n",
    "### NRPy+ Source Code for this module: [ScalarWaveCurvilinear/ScalarWaveCurvilinear_RHSs.py](../edit/ScalarWaveCurvlinear/ScalarWaveCurvilinear_RHSs.py); [ScalarWave/InitialData_PlaneWave.py](../edit/ScalarWave/InitialData_PlaneWave.py)\n",
    "\n",
    "As outlined in the [previous NRPy+ tutorial module](Tutorial-ScalarWaveCurvilinear.ipynb), we first use NRPy+ to generate initial data for the scalar wave equation, and then we use it to generate the RHS expressions for [Method of Lines](https://reference.wolfram.com/language/tutorial/NDSolveMethodOfLines.html) time integration based on the [explicit Runge-Kutta fourth-order scheme](https://en.wikipedia.org/wiki/Runge%E2%80%93Kutta_methods) (RK4).\n",
    "\n",
    "The entire algorithm is outlined below, with NRPy+-based components highlighted in <font color='green'>green</font>.\n",
    "\n",
    "1. Allocate memory for gridfunctions, including temporary storage for the RK4 time integration.\n",
    "1. <font color='green'>Set gridfunction values to initial data.</font>\n",
    "1. Evolve the system forward in time using RK4 time integration. At each RK4 substep, do the following:\n",
    "    1. <font color='green'>Evaluate scalar wave RHS expressions.</font>\n",
    "    1. Apply boundary conditions.\n",
    "1. At the end of each iteration in time, output the relative error between numerical and exact solutions."
   ]
  },
  {
   "cell_type": "markdown",
   "metadata": {},
   "source": [
    "## Step 1 of 2: Call on NRPy+ to output needed C code for initial data and scalar wave RHSs\n",
    "\n",
    "We choose simple plane wave initial data, which is documented in the [Cartesian scalar wave module](Tutorial-ScalarWave.ipynb). Specifically, we implement monochromatic (single-wavelength) wave traveling in the $\\hat{k}$ direction with speed $c$\n",
    "$$u(\\vec{x},t) = f(\\hat{k}\\cdot\\vec{x} - c t),$$\n",
    "where $\\hat{k}$ is a unit vector.\n",
    "\n",
    "The scalar wave RHSs in curvilinear coordinates (documented [in the previous module](Tutorial-ScalarWaveCurvilinear.ipynb)) are simply the right-hand sides of the scalar wave equation written in curvilinear coordinates\n",
    "\\begin{align}\n",
    "\\partial_t u &= v \\\\\n",
    "\\partial_t v &= c^2 \\left(\\hat{g}^{ij} \\partial_{i} \\partial_{j} u - \\hat{\\Gamma}^i \\partial_i u\\right),\n",
    "\\end{align}\n",
    "where $\\hat{g}^{ij}$ is the inverse reference 3-metric (i.e., the metric corresponding to the underlying coordinate system we choose$-$spherical coordinates in our example below), and $\\hat{\\Gamma}^i$ is the contracted Christoffel symbol $\\hat{\\Gamma}^\\tau = \\hat{g}^{\\mu\\nu} \\hat{\\Gamma}^\\tau_{\\mu\\nu}$.\n",
    "\n",
    "Below we generate \n",
    "+ the initial data by calling InitialData_PlaneWave() inside the NRPy+ [ScalarWave/InitialData_PlaneWave.py](../edit/ScalarWave/InitialData_PlaneWave.py) module (documented in [this NRPy+ Jupyter notebook](Tutorial-ScalarWave.ipynb)), and \n",
    "+ the RHS expressions by calling ScalarWaveCurvilinear_RHSs() inside the NRPy+ [ScalarWaveCurvilinear/ScalarWaveCurvilinear_RHSs.py](../edit/ScalarWaveCurvilinear/ScalarWaveCurvilinear_RHSs.py) module (documented in [this NRPy+ Jupyter notebook](Tutorial-ScalarWaveCurvilinear.ipynb))."
   ]
  },
  {
   "cell_type": "code",
   "execution_count": 1,
   "metadata": {},
   "outputs": [],
   "source": [
    "# Step P1: Import needed NRPy+ core modules:\n",
    "import NRPy_param_funcs as par\n",
    "import indexedexp as ixp\n",
    "import grid as gri\n",
    "import reference_metric as rfm\n",
    "import finite_difference as fin\n",
    "import loop as lp\n",
    "from outputC import *\n",
    "\n",
    "# Step 1: Import the ScalarWave.InitialData module. \n",
    "#         This command only declares ScalarWave initial data \n",
    "#         parameters and the InitialData_PlaneWave() function.\n",
    "import ScalarWave.InitialData_PlaneWave as swid\n",
    "\n",
    "# Step 2: Import ScalarWave_RHSs module. \n",
    "#         This command only declares ScalarWave RHS parameters\n",
    "#         and the ScalarWave_RHSs function (called later)\n",
    "import ScalarWaveCurvilinear.ScalarWaveCurvilinear_RHSs as swrhs\n",
    "\n",
    "# Step 3: Enable SIMD\n",
    "par.set_parval_from_str(\"outputC::SIMD_enable\",False)\n",
    "\n",
    "# Step 4: Set the spatial dimension parameter \n",
    "#         to *FOUR* this time, and then read\n",
    "#         the parameter as DIM.\n",
    "par.set_parval_from_str(\"grid::DIM\",3)\n",
    "DIM = par.parval_from_str(\"grid::DIM\")\n",
    "\n",
    "# Step 5: Set the finite differencing order to 4.\n",
    "par.set_parval_from_str(\"finite_difference::FD_CENTDERIVS_ORDER\",4)\n",
    "\n",
    "# Step 6: Call the InitialData_PlaneWave() function to set up\n",
    "#         monochromatic (single frequency/wavelength) scalar\n",
    "#         wave initial data.\n",
    "swid.InitialData_PlaneWave()\n",
    "\n",
    "# Step 7: Generate SymPy symbolic expressions for\n",
    "#         uu_rhs and vv_rhs; the ScalarWave RHSs.\n",
    "#         This function also declares the uu and vv\n",
    "#         gridfunctions, which need to be declared\n",
    "#         to output even the initial data to C file.\n",
    "swrhs.ScalarWaveCurvilinear_RHSs()\n",
    "\n",
    "# Step 8: Generate C code for the initial data,\n",
    "#         output to a file named \"SENR/ScalarWave_InitialData.h\".\n",
    "IDstring = fin.FD_outputC(\"returnstring\",[lhrh(lhs=gri.gfaccess(\"in_gfs\",\"uu\"),rhs=swid.uu_ID),\n",
    "                                          lhrh(lhs=gri.gfaccess(\"in_gfs\",\"vv\"),rhs=swid.vv_ID)])\n",
    "with open(\"ScalarWaveCurvilinear/ScalarWaveCartesian_ExactSolution.h\", \"w\") as file:\n",
    "    file.write(IDstring)\n",
    "\n",
    "# Step 9: Generate C code for scalarwave RHSs,\n",
    "#         output to a file named \"SENR/ScalarWave_RHSs.h\".\n",
    "RHSstring = fin.FD_outputC(\"returnstring\",[lhrh(lhs=gri.gfaccess(\"rhs_gfs\",\"uu\"),rhs=swrhs.uu_rhs),\n",
    "                                           lhrh(lhs=gri.gfaccess(\"rhs_gfs\",\"vv\"),rhs=swrhs.vv_rhs)])\n",
    "with open(\"ScalarWaveCurvilinear/ScalarWaveCurvilinear_RHSs.h\", \"w\") as file:\n",
    "    file.write(lp.loop([\"i2\",\"i1\",\"i0\"],[\"NGHOSTS\",\"NGHOSTS\",\"NGHOSTS\"],\n",
    "                       [\"NGHOSTS+Nxx[2]\",\"NGHOSTS+Nxx[1]\",\"NGHOSTS+Nxx[0]\"],\n",
    "                       [\"1\",\"1\",\"1\"],[\"const REAL invdx0 = 1.0/dxx[0];\\n\"+\n",
    "                                      \"const REAL invdx1 = 1.0/dxx[1];\\n\"+\n",
    "                                      \"const REAL invdx2 = 1.0/dxx[2];\\n\"+\n",
    "                                      \"#pragma omp parallel for\",\n",
    "                                      \"    const REAL xx2 = xx[2][i2];\",\n",
    "                                      \"        const REAL xx1 = xx[1][i1];\"],\"\",\n",
    "                                     \"const REAL xx0 = xx[0][i0];\\n\"+RHSstring))"
   ]
  },
  {
   "cell_type": "markdown",
   "metadata": {},
   "source": [
    "## Step 1 of 2, continued: Output quantities related to reference metric\n",
    "\n",
    "There are several subtleties when generalizing the [start-to-finish scalar wave tutorial in Cartesian coordinates](Tutorial-Start_to_Finish-ScalarWave.ipynb) to curvilinear coordinates. \n",
    "\n",
    "Consider for example *ordinary* (as opposed to, e.g., logarithmic-radial) spherical coordinates. In these coordinates, we choose a *uniform* grid in $(x_0,x_1,x_2)=(r,\\theta,\\phi)$. That is to say, we sample $r$, $\\theta$, and $\\phi$ uniformly within their bounds.\n",
    "+ Unlike Cartesian coordinates, in which our uniform numerical grids with coordinates $(x_0,x_1,x_2)=(x,y,z)$ will generally extend from arbitrary ranges $x_i \\in [x_{i, \\rm min},x_{i, \\rm max}]$, spherical coordinates will range from \n",
    "    + $x_0 = r \\in [0,{\\rm RMAX}]$, \n",
    "    + $x_1 = \\theta \\in [0,\\pi]$, and\n",
    "    + $x_2 = \\phi \\in [-\\pi,\\pi]$. (Notice how we do not choose $x_2= \\phi \\in [0,2\\pi]$ so that our conversion from Cartesian to spherical coordinates is compatible with the output range from the ${\\rm atan2}(y,x)$ function: $\\phi={\\rm atan2}(y,x)\\in[-\\pi,\\pi]$.)\n",
    "+ Also, unlike Cartesian coordinates, the boundaries of our grid $x_i \\in [x_{i, \\rm min},x_{i, \\rm max}]$ in spherical coordinates are not all outer boundaries. This presents some additional challenges, as we must fill in ghost zones in regions $x_i < x_{i,\\rm min}$ and $x_i > x_{i, \\rm max}$. While in Cartesian coordinates, these ghost zones map to regions outside the grid domain $x_i \\in [x_{i, \\rm min},x_{i, \\rm max}]$, in spherical coordinates, most ghost zones map to regions *inside* the grid domain. E.g., the ghost zone point $(r,\\theta,2\\pi+\\Delta \\phi/2)$ would map to the interior point $(r,\\theta,\\Delta \\phi/2)$ because the $\\phi$ coordinate is periodic. Thus we are faced with the problem of addressing the following two questions:\n",
    "    1. Does a given ghost zone map to an interior point, or is it an outer boundary point (i.e., a point exterior to the domain)?\n",
    "    1. If the ghost zone maps to an interior point, to which interior point does it map?\n",
    "\n",
    "We address the above two questions via the following three-step process:\n",
    "1. Convert the coordinate $(x_0,x_1,x_2)$ for the ghost zone point to Cartesian coordinates $\\left(x(x_0,x_1,x_2),y(x_0,x_1,x_2),z(x_0,x_1,x_2)\\right)$. For example, if we choose ordinary spherical coordinates $(x_0,x_1,x_2)=(r,\\theta,\\phi)$\n",
    "1. blah\n"
   ]
  },
  {
   "cell_type": "code",
   "execution_count": 2,
   "metadata": {},
   "outputs": [
    {
     "name": "stdout",
     "output_type": "stream",
     "text": [
      "Wrote to file \"ScalarWaveCurvilinear/xxCart.h\"\n",
      "Wrote to file \"ScalarWaveCurvilinear/Cart_to_xx.h\"\n",
      "Wrote to file \"ScalarWaveCurvilinear/ds_dirn.h\"\n"
     ]
    }
   ],
   "source": [
    "with open(\"ScalarWaveCurvilinear/xxminmax.h\", \"w\") as file:\n",
    "    file.write(\"const REAL xxmin[3] = {\"+str(rfm.xxmin[0])+\",\"+str(rfm.xxmin[1])+\",\"+str(rfm.xxmin[2])+\"};\\n\")\n",
    "    file.write(\"const REAL xxmax[3] = {\"+str(rfm.xxmax[0])+\",\"+str(rfm.xxmax[1])+\",\"+str(rfm.xxmax[2])+\"};\\n\")\n",
    "outputC([rfm.xxCart[0],rfm.xxCart[1],rfm.xxCart[2]],[\"xCart[0]\",\"xCart[1]\",\"xCart[2]\"],\n",
    "        \"ScalarWaveCurvilinear/xxCart.h\")\n",
    "outputC([rfm.Cart_to_xx[0],rfm.Cart_to_xx[1],rfm.Cart_to_xx[2]],\n",
    "        [\"Cart_to_xx0_inbounds\",\"Cart_to_xx1_inbounds\",\"Cart_to_xx2_inbounds\"],\n",
    "        \"ScalarWaveCurvilinear/Cart_to_xx.h\")\n",
    "dxx     = ixp.declarerank1(\"dxx\",DIM=3)\n",
    "ds_dirn = rfm.ds_dirn(dxx)\n",
    "outputC([ds_dirn[0],ds_dirn[1],ds_dirn[2]],[\"ds_dirn0\",\"ds_dirn1\",\"ds_dirn2\"],\"ScalarWaveCurvilinear/ds_dirn.h\")"
   ]
  },
  {
   "cell_type": "markdown",
   "metadata": {},
   "source": [
    "## Basic C Code Infrastructure\n",
    "\n",
    "Moving to curvilinear coordinates\n",
    "\n",
    "Next we will write the C code infrastructure necessary to make use of the above NRPy+-generated codes. Again, we'll be using RK4 time integration via the Method of Lines."
   ]
  }
 ],
 "metadata": {
  "kernelspec": {
   "display_name": "Python 3",
   "language": "python",
   "name": "python3"
  },
  "language_info": {
   "codemirror_mode": {
    "name": "ipython",
    "version": 3
   },
   "file_extension": ".py",
   "mimetype": "text/x-python",
   "name": "python",
   "nbconvert_exporter": "python",
   "pygments_lexer": "ipython3",
   "version": "3.6.6"
  }
 },
 "nbformat": 4,
 "nbformat_minor": 2
}
