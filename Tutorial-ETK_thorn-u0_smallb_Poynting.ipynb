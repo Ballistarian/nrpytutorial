{
 "cells": [
  {
   "cell_type": "markdown",
   "metadata": {},
   "source": [
    "# sbPoynETNRPy: An Einstein Toolkit Thorn for Computing the 4-Velocity Time-Component $u^0$, the Magnetic Field Measured by a Comoving Observer $b^{\\mu}$, and the Poynting Vector $S^i$\n",
    "\n",
    "<font color='red'>**This module has not yet been validated against a trusted code.**</font>\n",
    "\n",
    "In the [previous tutorial module](Tutorial-u0_smallb_Poynting-Cartesian.ipynb), we constructed within SymPy full expressions for the 4-velocity time-component $u^0$, the magnetic field (measured by a comoving observer) $b^{\\mu}$, and the Poynting vector $S^i$.\n",
    "\n",
    "Here we will work through the steps necessary to construct an Einstein Toolkit diagnostic thorn (module) that uses ADMBase and HydroBase variables as input into the NRPy+-generated SymPy expressions for $b^{\\mu}$, $b^2$, and the Poynting Vector $S^i$, outputting to gridfunctions $\\text{smallb4U[]}$, $\\text{smallb2}$, and $\\text{SPoyn[]}$, respectively. This tutorial is in two steps:\n",
    "\n",
    "1. Call on NRPy+ to convert the SymPy expressions for $b^{\\mu}$, $b^2$, and the Poynting Vector $S^i$\n",
    "1. Write the C code and build up the needed Einstein Toolkit infrastructure (i.e., the .ccl files)."
   ]
  },
  {
   "cell_type": "code",
   "execution_count": 1,
   "metadata": {},
   "outputs": [],
   "source": [
    "# Step 1: import all needed modules from NRPy+:\n",
    "import NRPy_param_funcs as par\n",
    "import indexedexp as ixp\n",
    "import grid as gri\n",
    "from outputC import *\n",
    "import sympy as sp"
   ]
  },
  {
   "cell_type": "code",
   "execution_count": 2,
   "metadata": {},
   "outputs": [],
   "source": [
    "# Step 2: Initialize  parameters (stub; there are none for this module)\n",
    "thismodule = __name__"
   ]
  },
  {
   "cell_type": "markdown",
   "metadata": {},
   "source": [
    "Additionally, we need to turn off verbose output in the outputC functions. This is an important step in this case, because our final expressions are very large. Verbose output, when enabled, will print (in comments) the input SymPy expressions to the top of the file $\\it{without}$ CSE, resulting here in an *enormous* output file.\n",
    "\n",
    "We will also declare the additional gridfunctions we need for this thorn:\n",
    "\n",
    "**Inputs from ADMBase:**\n",
    "* the physical metric $\\gamma_{ij}$\n",
    "* the spacetime gauge quantities $\\alpha$ and $\\beta^i$\n",
    "\n",
    "**Inputs from HydroBase:**\n",
    "* the Valencia 3-velocity $v^i_{(n)}$\n",
    "* the densitized magnetic field of a normal observer $\\tilde{B}^i$\n",
    "\n",
    "**Output gridfunctions:**\n",
    "* the magnetic field as observed in a frame comoving with the plasma $b^\\mu$ ($\\text{smallb4U[]}$)\n",
    "* twice the magnetic pressure $2 P_{\\rm mag} = b_\\mu b^\\mu = b^2$ ($\\text{smallb2}$)\n",
    "* the Poynting vector $S^i$ ($\\text{SPoyn[]}$)"
   ]
  },
  {
   "cell_type": "code",
   "execution_count": 3,
   "metadata": {},
   "outputs": [],
   "source": [
    "# Step 1a: Force outputC::outCverbose to be false for this module to avoid gigantic C files\n",
    "#          filled with the non-CSE expressions for the Weyl scalars.\n",
    "par.set_parval_from_str(\"outputC::outCverbose\",False) # To prevent absurdly large output files.\n",
    "# Step 1b: Set spatial dimension (must be 3 for BSSN)\n",
    "DIM = 3\n",
    "par.set_parval_from_str(\"grid::DIM\",DIM)\n",
    "\n",
    "# Step 1c: declare the additional gridfunctions (i.e., functions whose values are declared \n",
    "#          at every grid point, either inside or outside of our SymPy expressions) needed\n",
    "#         for this thorn:\n",
    "#           * the physical metric $\\gamma_{ij}$, \n",
    "#           * the extrinsic curvature $K_{ij}$, \n",
    "#           * the real and imaginary components of $\\psi_4$, and\n",
    "#           * the Weyl curvature invariants:\n",
    "\n",
    "# INPUT GRIDFUNCTIONS:\n",
    "gammaDD = ixp.register_gridfunctions_for_single_rank2(\"AUX\",\"gammaDD\", \"sym01\") # The AUX or EVOL designation is *not*\n",
    "                                                                                # used in diagnostic modules.\n",
    "beta = ixp.register_gridfunctions_for_single_rank1(\"AUX\",\"betaU\") # The AUX or EVOL designation is *not*\n",
    "                                                                  # used in diagnostic modules.\n",
    "alpha = gri.register_gridfunctions(\"AUX\",\"alpha\") # The AUX or EVOL designation is *not*\n",
    "                                                  # used in diagnostic modules.\n",
    "ValenciavU = ixp.register_gridfunctions_for_single_rank1(\"AUX\",\"ValenciavU\") # The AUX or EVOL designation is *not*\n",
    "                                                                             # used in diagnostic modules.\n",
    "BtildeU = ixp.register_gridfunctions_for_single_rank1(\"AUX\",\"BtildeU\") # The AUX or EVOL designation is *not*\n",
    "                                                                       # used in diagnostic modules.\n",
    "\n",
    "# OUTPUT GRIDFUNCTIONS:\n",
    "smallb4U = ixp.register_gridfunctions_for_single_rank1(\"AUX\",\"smallb4U\",DIM=4) # The AUX or EVOL designation is *not*\n",
    "                                                                               # used in diagnostic modules.\n",
    "smallb2 = gri.register_gridfunctions(\"AUX\",\"smallb2\") # The AUX or EVOL designation is *not*\n",
    "                                                    # used in diagnostic modules.\n",
    "PoynSU = ixp.register_gridfunctions_for_single_rank1(\"AUX\",\"PoynSU\") # The AUX or EVOL designation is *not*\n",
    "                                                                     # used in diagnostic modules."
   ]
  }
 ],
 "metadata": {
  "kernelspec": {
   "display_name": "Python 3",
   "language": "python",
   "name": "python3"
  },
  "language_info": {
   "codemirror_mode": {
    "name": "ipython",
    "version": 3
   },
   "file_extension": ".py",
   "mimetype": "text/x-python",
   "name": "python",
   "nbconvert_exporter": "python",
   "pygments_lexer": "ipython3",
   "version": "3.6.6"
  }
 },
 "nbformat": 4,
 "nbformat_minor": 2
}
