{
 "cells": [
  {
   "cell_type": "markdown",
   "metadata": {},
   "source": [
    "# sbPoynETNRPy: An Einstein Toolkit Thorn for Computing the 4-Velocity Time-Component $u^0$, the Magnetic Field Measured by a Comoving Observer $b^{\\mu}$, and the Poynting Vector $S^i$\n",
    "\n",
    "<font color='red'>**This module has not yet been validated against a trusted code.**</font>\n",
    "\n",
    "In the [previous tutorial module](Tutorial-u0_smallb_Poynting-Cartesian.ipynb), we constructed within SymPy full expressions for the 4-velocity time-component $u^0$, the magnetic field (measured by a comoving observer) $b^{\\mu}$, and the Poynting vector $S^i$.\n",
    "\n",
    "Here we will work through the steps necessary to construct an Einstein Toolkit diagnostic thorn (module) that uses ADMBase and HydroBase variables as input into the NRPy+-generated SymPy expressions for $b^{\\mu}$, $b^2$, and the Poynting Vector $S^i$, outputting to gridfunctions $\\text{smallb4U[]}$, $\\text{smallb2}$, and $\\text{SPoyn[]}$, respectively. This tutorial is in two steps:\n",
    "\n",
    "1. Call on NRPy+ to convert the SymPy expressions for $b^{\\mu}$, $b^2$, and the Poynting Vector $S^i$ to C code kernels\n",
    "1. Build up the needed Einstein Toolkit infrastructure to implement the kernels\n",
    "    1. The C code calling routines, and\n",
    "    1. The .ccl files"
   ]
  },
  {
   "cell_type": "markdown",
   "metadata": {},
   "source": [
    "## Step 1: Call on NRPy+ to convert the SymPy expressions for $b^{\\mu}$, $b^2$, and the Poynting Vector $S^i$ to C code kernels"
   ]
  },
  {
   "cell_type": "code",
   "execution_count": 1,
   "metadata": {},
   "outputs": [],
   "source": [
    "# Step 1a: import all needed modules from NRPy+:\n",
    "import NRPy_param_funcs as par\n",
    "import indexedexp as ixp\n",
    "import grid as gri\n",
    "from outputC import *\n",
    "import sympy as sp"
   ]
  },
  {
   "cell_type": "code",
   "execution_count": 2,
   "metadata": {},
   "outputs": [],
   "source": [
    "# Step 1b: Initialize  parameters (stub; there are none for this module)\n",
    "thismodule = __name__"
   ]
  },
  {
   "cell_type": "markdown",
   "metadata": {},
   "source": [
    "We will to disable verbose output in the NRPy+ outputC function. This is an important step in this case, because our final expressions are very large. Verbose output, when enabled, will print (in comments) the input SymPy expressions to the top of the file *without* CSE, resulting here in an *enormous* output file.\n",
    "\n",
    "We will also declare the additional gridfunctions we need for this thorn:\n",
    "\n",
    "**Inputs from ADMBase:**\n",
    "* the physical metric $\\gamma_{ij}$\n",
    "* the spacetime gauge quantities $\\alpha$ and $\\beta^i$\n",
    "\n",
    "**Inputs from HydroBase:**\n",
    "* the Valencia 3-velocity $v^i_{(n)}$\n",
    "* the densitized magnetic field of a normal observer $\\tilde{B}^i$\n",
    "\n",
    "**Output gridfunctions:**\n",
    "* the magnetic field as observed in a frame comoving with the plasma $b^\\mu$ ($\\text{smallb4U[]}$)\n",
    "* twice the magnetic pressure $2 P_{\\rm mag} = b_\\mu b^\\mu = b^2$ ($\\text{smallb2}$)\n",
    "* the Poynting vector $S^i$ ($\\text{SPoyn[]}$)"
   ]
  },
  {
   "cell_type": "code",
   "execution_count": 3,
   "metadata": {},
   "outputs": [
    {
     "name": "stdout",
     "output_type": "stream",
     "text": [
      "Wrote to file \"sbPoynETNRPy/src/u0.h\"\n",
      "Wrote to file \"sbPoynETNRPy/src/smallb4U_smallb2_PoynSU.h\"\n"
     ]
    }
   ],
   "source": [
    "# Step 1c: Force outputC::outCverbose to be false for this module to avoid gigantic C files\n",
    "#          filled with the non-CSE expressions for the Weyl scalars.\n",
    "par.set_parval_from_str(\"outputC::outCverbose\",False) # To prevent absurdly large output files.\n",
    "# Step 1d: Set spatial dimension (must be 3 for BSSN)\n",
    "DIM = 3\n",
    "par.set_parval_from_str(\"grid::DIM\",DIM)\n",
    "\n",
    "# Step 1e: declare the additional gridfunctions (i.e., functions whose values are declared \n",
    "#          at every grid point, either inside or outside of our SymPy expressions) needed\n",
    "#         for this thorn\n",
    "\n",
    "# INPUT GRIDFUNCTIONS:\n",
    "gammaDD = ixp.register_gridfunctions_for_single_rank2(\"AUX\",\"gammaDD\", \"sym01\") # The AUX or EVOL designation is *not*\n",
    "                                                                                # used in diagnostic modules.\n",
    "betaU = ixp.register_gridfunctions_for_single_rank1(\"AUX\",\"betaU\") # The AUX or EVOL designation is *not*\n",
    "                                                                   # used in diagnostic modules.\n",
    "alpha = gri.register_gridfunctions(\"AUX\",\"alpha\") # The AUX or EVOL designation is *not*\n",
    "                                                  # used in diagnostic modules.\n",
    "ValenciavU = ixp.register_gridfunctions_for_single_rank1(\"AUX\",\"ValenciavU\") # The AUX or EVOL designation is *not*\n",
    "                                                                             # used in diagnostic modules.\n",
    "BtildeU = ixp.register_gridfunctions_for_single_rank1(\"AUX\",\"BtildeU\") # The AUX or EVOL designation is *not*\n",
    "                                                                       # used in diagnostic modules.\n",
    "\n",
    "# OUTPUT GRIDFUNCTIONS:\n",
    "smallb4U = ixp.register_gridfunctions_for_single_rank1(\"AUX\",\"smallb4U\",DIM=4) # The AUX or EVOL designation is *not*\n",
    "                                                                               # used in diagnostic modules.\n",
    "smallb2 = gri.register_gridfunctions(\"AUX\",\"smallb2\") # The AUX or EVOL designation is *not*\n",
    "                                                    # used in diagnostic modules.\n",
    "PoynSU = ixp.register_gridfunctions_for_single_rank1(\"AUX\",\"PoynSU\") # The AUX or EVOL designation is *not*\n",
    "                                                                     # used in diagnostic modules.\n",
    "\n",
    "# Step 1f: Call the NRPy+ module to set up the SymPy expressions for the output, as well as the C code for computing u^0\n",
    "import u0_smallb_Poynting__Cartesian.u0_smallb_Poynting__Cartesian as u0etc\n",
    "u0etc.compute_u0_smallb_Poynting__Cartesian(gammaDD,betaU,alpha,ValenciavU,BtildeU)\n",
    "\n",
    "# Step 1g: Set the gridfunction memory access type to \"ETK\":\n",
    "par.set_parval_from_str(\"GridFuncMemAccess\",\"ETK\")\n",
    "\n",
    "# Step 1h: Make output directories:\n",
    "!mkdir sbPoynETNRPy     2>/dev/null # 2>/dev/null: Don't throw an error or warning if the directory already exists.\n",
    "!mkdir sbPoynETNRPy/src 2>/dev/null # 2>/dev/null: Don't throw an error or warning if the directory already exists.\n",
    "\n",
    "# Step 1i: Output routine for computing u0:\n",
    "with open(\"sbPoynETNRPy/src/u0.h\", \"w\") as file:\n",
    "    file.write(str(u0etc.computeu0_Cfunction))\n",
    "    print(\"Wrote to file \\\"\"+file.name+\"\\\"\")\n",
    "\n",
    "# Step 1j: Use NRPy+'s outputC to convert the SymPy expressions for smallb4U, smallb2, and PoynSU to C code:\n",
    "outputC([u0etc.smallb4U[0],u0etc.smallb4U[1],u0etc.smallb4U[2],u0etc.smallb4U[3],u0etc.smallb2, \n",
    "         u0etc.PoynSU[0],u0etc.PoynSU[1],u0etc.PoynSU[2]],\n",
    "         [gri.gfaccess(\"\",\"smallb4U0\"),gri.gfaccess(\"\",\"smallb4U1\"),gri.gfaccess(\"\",\"smallb4U2\"),gri.gfaccess(\"\",\"smallb4U3\"),\n",
    "          gri.gfaccess(\"\",\"smallb2\"),\n",
    "          gri.gfaccess(\"\",\"PoynSU0\"),gri.gfaccess(\"\",\"PoynSU1\"),gri.gfaccess(\"\",\"PoynSU2\")],\n",
    "       filename=\"sbPoynETNRPy/src/smallb4U_smallb2_PoynSU.h\")"
   ]
  },
  {
   "cell_type": "markdown",
   "metadata": {},
   "source": [
    "## Step 2: Build up the needed Einstein Toolkit infrastructure to implement the NRPy+-generated C code kernels\n",
    "\n",
    "### Step 2a: We next need to write the C code functions called by the Einstein Toolkit scheduler that incorporate the above \".h\" files:"
   ]
  },
  {
   "cell_type": "code",
   "execution_count": 4,
   "metadata": {},
   "outputs": [
    {
     "name": "stdout",
     "output_type": "stream",
     "text": [
      "Overwriting sbPoynETNRPy/src/sbPoynETNRPy.c\n"
     ]
    }
   ],
   "source": [
    "%%writefile sbPoynETNRPy/src/sbPoynETNRPy.c\n",
    "\n",
    "#include <math.h>\n",
    "#include <stdio.h>\n",
    "#include <stdlib.h>\n",
    "#include <string.h>\n",
    "#include \"cctk.h\"\n",
    "#include \"cctk_Arguments.h\"\n",
    "#include \"cctk_Parameters.h\"\n",
    "\n",
    "void sbPoynETNRPy_lowlevel(const cGH* restrict const cctkGH,const int *cctk_lsh,\n",
    "                           const CCTK_REAL *gammaDD00GF,const CCTK_REAL *gammaDD01GF,const CCTK_REAL *gammaDD02GF,\n",
    "                           const CCTK_REAL *gammaDD11GF,const CCTK_REAL *gammaDD12GF,const CCTK_REAL *gammaDD22GF,\n",
    "                           const CCTK_REAL *alphaGF,\n",
    "                           const CCTK_REAL *betaU0GF,const CCTK_REAL *betaU1GF,const CCTK_REAL *betaU2GF,\n",
    "                           const CCTK_REAL *ValenciavU0GF,const CCTK_REAL *ValenciavU1GF,const CCTK_REAL *ValenciavU2GF,\n",
    "                           const CCTK_REAL *BtildeU0GF,const CCTK_REAL *BtildeU1GF,const CCTK_REAL *BtildeU2GF,\n",
    "\n",
    "                           CCTK_REAL *smallb4U0GF,CCTK_REAL *smallb4U1GF,CCTK_REAL *smallb4U2GF,CCTK_REAL *smallb4U3GF,\n",
    "                           CCTK_REAL *smallb2GF,\n",
    "                           CCTK_REAL *PoynSU0GF,CCTK_REAL *PoynSU1GF,CCTK_REAL *PoynSU2GF) {\n",
    "\n",
    "#pragma omp parallel for\n",
    "    for(int i2=0;i2<cctk_lsh[2];i2++) for(int i1=0;i1<cctk_lsh[1];i1++) for(int i0=0;i0<cctk_lsh[0];i0++) {\n",
    "        const CCTK_REAL gammaDD00 = gammaDD00GF[CCTK_GFINDEX3D(cctkGH, i0,i1,i2)];\n",
    "        const CCTK_REAL gammaDD01 = gammaDD01GF[CCTK_GFINDEX3D(cctkGH, i0,i1,i2)];\n",
    "        const CCTK_REAL gammaDD02 = gammaDD02GF[CCTK_GFINDEX3D(cctkGH, i0,i1,i2)];\n",
    "        const CCTK_REAL gammaDD11 = gammaDD11GF[CCTK_GFINDEX3D(cctkGH, i0,i1,i2)];\n",
    "        const CCTK_REAL gammaDD12 = gammaDD12GF[CCTK_GFINDEX3D(cctkGH, i0,i1,i2)];\n",
    "        const CCTK_REAL gammaDD22 = gammaDD22GF[CCTK_GFINDEX3D(cctkGH, i0,i1,i2)];\n",
    "\n",
    "        const CCTK_REAL alpha = alphaGF[CCTK_GFINDEX3D(cctkGH, i0,i1,i2)];\n",
    "\n",
    "        const CCTK_REAL betaU0 = betaU0GF[CCTK_GFINDEX3D(cctkGH, i0,i1,i2)];\n",
    "        const CCTK_REAL betaU1 = betaU1GF[CCTK_GFINDEX3D(cctkGH, i0,i1,i2)];\n",
    "        const CCTK_REAL betaU2 = betaU2GF[CCTK_GFINDEX3D(cctkGH, i0,i1,i2)];\n",
    "        \n",
    "        // Valencia 3-velocity may be ceiling\n",
    "        CCTK_REAL ValenciavU0 = ValenciavU0GF[CCTK_GFINDEX3D(cctkGH, i0,i1,i2)];\n",
    "        CCTK_REAL ValenciavU1 = ValenciavU1GF[CCTK_GFINDEX3D(cctkGH, i0,i1,i2)];\n",
    "        CCTK_REAL ValenciavU2 = ValenciavU2GF[CCTK_GFINDEX3D(cctkGH, i0,i1,i2)];\n",
    "\n",
    "        const CCTK_REAL BtildeU0 = BtildeU0GF[CCTK_GFINDEX3D(cctkGH, i0,i1,i2)];\n",
    "        const CCTK_REAL BtildeU1 = BtildeU1GF[CCTK_GFINDEX3D(cctkGH, i0,i1,i2)];\n",
    "        const CCTK_REAL BtildeU2 = BtildeU2GF[CCTK_GFINDEX3D(cctkGH, i0,i1,i2)];\n",
    "\n",
    "        CCTK_REAL u0;\n",
    "#include \"u0.h\"\n",
    "#include \"smallb4U_smallb2_PoynSU.h\"\"\n",
    "    }\n",
    "}"
   ]
  }
 ],
 "metadata": {
  "kernelspec": {
   "display_name": "Python 3",
   "language": "python",
   "name": "python3"
  },
  "language_info": {
   "codemirror_mode": {
    "name": "ipython",
    "version": 3
   },
   "file_extension": ".py",
   "mimetype": "text/x-python",
   "name": "python",
   "nbconvert_exporter": "python",
   "pygments_lexer": "ipython3",
   "version": "3.6.6"
  }
 },
 "nbformat": 4,
 "nbformat_minor": 2
}
