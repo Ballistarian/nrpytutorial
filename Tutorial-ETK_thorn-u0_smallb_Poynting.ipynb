{
 "cells": [
  {
   "cell_type": "markdown",
   "metadata": {},
   "source": [
    "# sbPoynETNRPy: An Einstein Toolkit Thorn for Computing the 4-Velocity Time-Component $u^0$, the Magnetic Field Measured by a Comoving Observer $b^{\\mu}$, and the Poynting Vector $S^i$\n",
    "\n",
    "<font color='red'>**This module has not yet been validated against a trusted code.**</font>\n",
    "\n",
    "In the [previous tutorial module](Tutorial-u0_smallb_Poynting-Cartesian.ipynb), we constructed within SymPy full expressions for the 4-velocity time-component $u^0$, the magnetic field (measured by a comoving observer) $b^{\\mu}$, and the Poynting vector $S^i$.\n",
    "\n",
    "Here we will work through the steps necessary to construct an Einstein Toolkit diagnostic thorn (module) that uses ADMBase and HydroBase variables as input into the NRPy+-generated SymPy expressions for $b^{\\mu}$, $b^2$, and the Poynting Vector $S^i$, outputting to gridfunctions $\\text{smallb4U[]}$, $\\text{smallb2}$, and $\\text{SPoyn[]}$, respectively. This tutorial is in two steps:\n",
    "\n",
    "1. Call on NRPy+ to convert the SymPy expressions for $b^{\\mu}$, $b^2$, and the Poynting Vector $S^i$ to C code kernels\n",
    "1. Build up the needed Einstein Toolkit infrastructure to implement the kernels\n",
    "    1. The C code calling routines, and\n",
    "    1. The .ccl files"
   ]
  },
  {
   "cell_type": "markdown",
   "metadata": {},
   "source": [
    "## Step 1: Call on NRPy+ to convert the SymPy expressions for $b^{\\mu}$, $b^2$, and the Poynting Vector $S^i$ to C code kernels"
   ]
  },
  {
   "cell_type": "code",
   "execution_count": 1,
   "metadata": {},
   "outputs": [],
   "source": [
    "# Step 1a: import all needed modules from NRPy+:\n",
    "import NRPy_param_funcs as par\n",
    "import indexedexp as ixp\n",
    "import grid as gri\n",
    "from outputC import *\n",
    "import sympy as sp"
   ]
  },
  {
   "cell_type": "code",
   "execution_count": 2,
   "metadata": {},
   "outputs": [],
   "source": [
    "# Step 1b: Initialize  parameters (stub; there are none for this module)\n",
    "thismodule = __name__"
   ]
  },
  {
   "cell_type": "markdown",
   "metadata": {},
   "source": [
    "We will to disable verbose output in the NRPy+ outputC function. This is an important step in this case, because our final expressions are very large. Verbose output, when enabled, will print (in comments) the input SymPy expressions to the top of the file *without* CSE, resulting here in an *enormous* output file.\n",
    "\n",
    "We will also declare the additional gridfunctions we need for this thorn:\n",
    "\n",
    "**Inputs from ADMBase:**\n",
    "* the physical metric $\\gamma_{ij}$\n",
    "* the spacetime gauge quantities $\\alpha$ and $\\beta^i$\n",
    "\n",
    "**Inputs from HydroBase:**\n",
    "* the Valencia 3-velocity $v^i_{(n)}$\n",
    "* the densitized magnetic field of a normal observer $\\tilde{B}^i$\n",
    "\n",
    "**Output gridfunctions:**\n",
    "* the magnetic field as observed in a frame comoving with the plasma $b^\\mu$ ($\\text{smallb4U[]}$)\n",
    "* twice the magnetic pressure $2 P_{\\rm mag} = b_\\mu b^\\mu = b^2$ ($\\text{smallb2}$)\n",
    "* the Poynting vector $S^i$ ($\\text{SPoyn[]}$)"
   ]
  },
  {
   "cell_type": "code",
   "execution_count": 3,
   "metadata": {},
   "outputs": [
    {
     "name": "stdout",
     "output_type": "stream",
     "text": [
      "{\n",
      "   const double tmp0 = ValenciavU0*alpha;\n",
      "   const double tmp1 = tmp0*u0;\n",
      "   const double tmp2 = gammaDD11*gammaDD22;\n",
      "   const double tmp3 = gammaDD01*gammaDD12;\n",
      "   const double tmp4 = pow(gammaDD12, 2);\n",
      "   const double tmp5 = pow(gammaDD01, 2);\n",
      "   const double tmp6 = pow(gammaDD02, 2);\n",
      "   const double tmp7 = 1.0/(gammaDD00*tmp2 - gammaDD00*tmp4 + 2*gammaDD02*tmp3 - gammaDD11*tmp6 - gammaDD22*tmp5);\n",
      "   const double tmp8 = BtildeU0*tmp7;\n",
      "   const double tmp9 = ValenciavU1*alpha;\n",
      "   const double tmp10 = tmp9*u0;\n",
      "   const double tmp11 = BtildeU1*tmp7;\n",
      "   const double tmp12 = ValenciavU2*alpha;\n",
      "   const double tmp13 = tmp12*u0;\n",
      "   const double tmp14 = BtildeU2*tmp7;\n",
      "   const double tmp15 = tmp11*(gammaDD01*tmp10 + gammaDD11*tmp10 + gammaDD12*tmp10) + tmp14*(gammaDD02*tmp13 + gammaDD12*tmp13 + gammaDD22*tmp13) + tmp8*(gammaDD00*tmp1 + gammaDD01*tmp1 + gammaDD02*tmp1);\n",
      "   const double tmp16 = 1/(sqrt(M_PI)*alpha);\n",
      "   const double tmp17 = (1.0/2.0)*tmp16;\n",
      "   const double tmp18 = tmp15*tmp17;\n",
      "   const double tmp19 = -betaU0 + tmp0;\n",
      "   const double tmp20 = tmp15*u0;\n",
      "   const double tmp21 = tmp19*tmp20 + tmp8;\n",
      "   const double tmp22 = 1.0/u0;\n",
      "   const double tmp23 = tmp17*tmp22;\n",
      "   const double tmp24 = tmp21*tmp23;\n",
      "   const double tmp25 = -betaU1 + tmp9;\n",
      "   const double tmp26 = tmp11 + tmp20*tmp25;\n",
      "   const double tmp27 = tmp23*tmp26;\n",
      "   const double tmp28 = -betaU2 + tmp12;\n",
      "   const double tmp29 = tmp14 + tmp20*tmp28;\n",
      "   const double tmp30 = tmp23*tmp29;\n",
      "   const double tmp31 = betaU0*gammaDD00 + betaU1*gammaDD01 + betaU2*gammaDD02;\n",
      "   const double tmp32 = gammaDD00*tmp24 + gammaDD01*tmp27 + gammaDD02*tmp30 + tmp18*tmp31;\n",
      "   const double tmp33 = betaU0*gammaDD01 + betaU1*gammaDD11 + betaU2*gammaDD12;\n",
      "   const double tmp34 = gammaDD01*tmp24 + gammaDD11*tmp27 + gammaDD12*tmp30 + tmp18*tmp33;\n",
      "   const double tmp35 = betaU0*gammaDD02 + betaU1*gammaDD12 + betaU2*gammaDD22;\n",
      "   const double tmp36 = gammaDD02*tmp24 + gammaDD12*tmp27 + gammaDD22*tmp30 + tmp18*tmp35;\n",
      "   const double tmp37 = pow(alpha, 2);\n",
      "   const double tmp38 = betaU0*tmp31 + betaU1*tmp33 + betaU2*tmp35 - tmp37;\n",
      "   const double tmp39 = tmp18*tmp38 + tmp24*tmp31 + tmp27*tmp33 + tmp30*tmp35;\n",
      "   const double tmp40 = tmp18*tmp39 + tmp24*tmp32 + tmp27*tmp34 + tmp30*tmp36;\n",
      "   const double tmp41 = tmp25*u0;\n",
      "   const double tmp42 = tmp28*u0;\n",
      "   const double tmp43 = tmp38*u0;\n",
      "   const double tmp44 = tmp40*(tmp19*tmp43 + tmp31*tmp41 + tmp33*tmp42 + tmp43);\n",
      "   const double tmp45 = tmp38/tmp37;\n",
      "   const double tmp46 = -gammaDD02*gammaDD11 + tmp3;\n",
      "   const double tmp47 = tmp35*tmp7;\n",
      "   const double tmp48 = -gammaDD01*gammaDD22 + gammaDD02*gammaDD12;\n",
      "   const double tmp49 = tmp33*tmp7;\n",
      "   const double tmp50 = tmp31*tmp7;\n",
      "   const double tmp51 = (1.0/4.0)*tmp16;\n",
      "   const double tmp52 = tmp22*tmp51;\n",
      "   const double tmp53 = tmp15*tmp39*tmp51 + tmp21*tmp32*tmp52 + tmp26*tmp34*tmp52 + tmp29*tmp36*tmp52;\n",
      "   const double tmp54 = -gammaDD00*gammaDD12 + gammaDD01*gammaDD02;\n",
      "   smallb4U0GF[CCTK_GFINDEX3D(cctkGH, i0, i1, i2)] = tmp18;\n",
      "   smallb4U1GF[CCTK_GFINDEX3D(cctkGH, i0, i1, i2)] = tmp24;\n",
      "   smallb4U2GF[CCTK_GFINDEX3D(cctkGH, i0, i1, i2)] = tmp27;\n",
      "   smallb4U3GF[CCTK_GFINDEX3D(cctkGH, i0, i1, i2)] = tmp30;\n",
      "   smallb2GF[CCTK_GFINDEX3D(cctkGH, i0, i1, i2)] = tmp40;\n",
      "   PoynSU0GF[CCTK_GFINDEX3D(cctkGH, i0, i1, i2)] = alpha*(tmp19*tmp44*u0 - tmp24*tmp39 + tmp53*(betaU0*tmp45 + tmp46*tmp47 + tmp48*tmp49 + tmp50*(tmp2 - tmp4)));\n",
      "   PoynSU1GF[CCTK_GFINDEX3D(cctkGH, i0, i1, i2)] = alpha*(-tmp27*tmp39 + tmp41*tmp44 + tmp53*(betaU1*tmp45 + tmp47*tmp54 + tmp48*tmp50 + tmp49*(gammaDD00*gammaDD22 - tmp6)));\n",
      "   PoynSU2GF[CCTK_GFINDEX3D(cctkGH, i0, i1, i2)] = alpha*(-tmp30*tmp39 + tmp42*tmp44 + tmp53*(betaU2*tmp45 + tmp46*tmp50 + tmp47*(gammaDD00*gammaDD11 - tmp5) + tmp49*tmp54));\n",
      "}\n"
     ]
    }
   ],
   "source": [
    "# Step 1c: Force outputC::outCverbose to be false for this module to avoid gigantic C files\n",
    "#          filled with the non-CSE expressions for the Weyl scalars.\n",
    "par.set_parval_from_str(\"outputC::outCverbose\",False) # To prevent absurdly large output files.\n",
    "# Step 1d: Set spatial dimension (must be 3 for BSSN)\n",
    "DIM = 3\n",
    "par.set_parval_from_str(\"grid::DIM\",DIM)\n",
    "\n",
    "# Step 1e: declare the additional gridfunctions (i.e., functions whose values are declared \n",
    "#          at every grid point, either inside or outside of our SymPy expressions) needed\n",
    "#         for this thorn\n",
    "\n",
    "# INPUT GRIDFUNCTIONS:\n",
    "gammaDD = ixp.register_gridfunctions_for_single_rank2(\"AUX\",\"gammaDD\", \"sym01\") # The AUX or EVOL designation is *not*\n",
    "                                                                                # used in diagnostic modules.\n",
    "betaU = ixp.register_gridfunctions_for_single_rank1(\"AUX\",\"betaU\") # The AUX or EVOL designation is *not*\n",
    "                                                                   # used in diagnostic modules.\n",
    "alpha = gri.register_gridfunctions(\"AUX\",\"alpha\") # The AUX or EVOL designation is *not*\n",
    "                                                  # used in diagnostic modules.\n",
    "ValenciavU = ixp.register_gridfunctions_for_single_rank1(\"AUX\",\"ValenciavU\") # The AUX or EVOL designation is *not*\n",
    "                                                                             # used in diagnostic modules.\n",
    "BtildeU = ixp.register_gridfunctions_for_single_rank1(\"AUX\",\"BtildeU\") # The AUX or EVOL designation is *not*\n",
    "                                                                       # used in diagnostic modules.\n",
    "\n",
    "# OUTPUT GRIDFUNCTIONS:\n",
    "smallb4U = ixp.register_gridfunctions_for_single_rank1(\"AUX\",\"smallb4U\",DIM=4) # The AUX or EVOL designation is *not*\n",
    "                                                                               # used in diagnostic modules.\n",
    "smallb2 = gri.register_gridfunctions(\"AUX\",\"smallb2\") # The AUX or EVOL designation is *not*\n",
    "                                                    # used in diagnostic modules.\n",
    "PoynSU = ixp.register_gridfunctions_for_single_rank1(\"AUX\",\"PoynSU\") # The AUX or EVOL designation is *not*\n",
    "                                                                     # used in diagnostic modules.\n",
    "\n",
    "# Step 1f: Call the NRPy+ module to set up the SymPy expressions for the output, as well as the C code for computing u^0\n",
    "import u0_smallb_Poynting__Cartesian.u0_smallb_Poynting__Cartesian as u0etc\n",
    "u0etc.compute_u0_smallb_Poynting__Cartesian(gammaDD,betaU,alpha,ValenciavU,BtildeU)\n",
    "\n",
    "# Step 1g: Set the gridfunction memory access type to \"ETK\":\n",
    "par.set_parval_from_str(\"GridFuncMemAccess\",\"ETK\")\n",
    "\n",
    "# Step 1h: Use NRPy+'s outputC to convert the SymPy expressions for smallb4U, smallb2, and PoynSU to C code:\n",
    "outputC([u0etc.smallb4U[0],u0etc.smallb4U[1],u0etc.smallb4U[2],u0etc.smallb4U[3],u0etc.smallb2, \n",
    "         u0etc.PoynSU[0],u0etc.PoynSU[1],u0etc.PoynSU[2]],\n",
    "         [gri.gfaccess(\"\",\"smallb4U0\"),gri.gfaccess(\"\",\"smallb4U1\"),gri.gfaccess(\"\",\"smallb4U2\"),gri.gfaccess(\"\",\"smallb4U3\"),\n",
    "          gri.gfaccess(\"\",\"smallb2\"),\n",
    "          gri.gfaccess(\"\",\"PoynSU0\"),gri.gfaccess(\"\",\"PoynSU1\"),gri.gfaccess(\"\",\"PoynSU2\")])"
   ]
  },
  {
   "cell_type": "code",
   "execution_count": null,
   "metadata": {},
   "outputs": [],
   "source": []
  }
 ],
 "metadata": {
  "kernelspec": {
   "display_name": "Python 3",
   "language": "python",
   "name": "python3"
  },
  "language_info": {
   "codemirror_mode": {
    "name": "ipython",
    "version": 3
   },
   "file_extension": ".py",
   "mimetype": "text/x-python",
   "name": "python",
   "nbconvert_exporter": "python",
   "pygments_lexer": "ipython3",
   "version": "3.6.6"
  }
 },
 "nbformat": 4,
 "nbformat_minor": 2
}
