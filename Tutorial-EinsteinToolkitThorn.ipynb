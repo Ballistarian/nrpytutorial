{
 "cells": [
  {
   "cell_type": "markdown",
   "metadata": {},
   "source": [
    "# Creating an Einstein Toolkit thorn\n",
    "\n",
    "### Now that we have coded of the Weyl scalars and associated invariants, we need to create a thorn to incorporate the generated C code into the Toolkit to calculate the scalars.\n",
    "\n",
    "To create an Einstein Toolkit thorn to numerically compare the two codes, we will need a few more files, as required by the Einstein Toolkit: the scheduling, parameter, and interface $\\text{.ccl files}$ (our specific thorn does not require the optional $\\text{configuration.ccl}$ file). \n",
    "\n",
    "We will start with the file $\\text{interface.ccl}$. This file governs the interaction between this thorn and others; more information can be found in the [official Einstein Toolkit documentation](http://cactuscode.org/documentation/referencemanual/ReferenceManualch8.html#x12-260000C2.2). \n",
    "With \"implements\", we give our thorn its unique name. By \"inheriting\" other thorns, we tell the Toolkit that we will rely on variables that exist within those functions. Then, we tell the toolkit that we want the scalars $\\text{psi4r}$\n",
    "and $\\text{psi4i}$ to be visible to other thorns by using the keyword \"public\". "
   ]
  },
  {
   "cell_type": "code",
   "execution_count": 35,
   "metadata": {},
   "outputs": [
    {
     "name": "stdout",
     "output_type": "stream",
     "text": [
      "Overwriting WeylScal4NRPy/interface.ccl\n"
     ]
    }
   ],
   "source": [
    "%%writefile WeylScal4NRPy/interface.ccl\n",
    "\n",
    "implements: WeylScal4NRPy\n",
    "\n",
    "inherits:   admbase Boundary Grid methodoflines\n",
    "\n",
    "public:\n",
    "CCTK_REAL NRPyPsi4r_group type=GF timelevels=3 tags='tensortypealias=\"Scalar\" tensorweight=0 tensorparity=1'\n",
    "{\n",
    "  psi4r\n",
    "} \"Psi4r_group\"\n",
    "\n",
    "public:\n",
    "CCTK_REAL NRPyPsi4i_group type=GF timelevels=3 tags='tensortypealias=\"Scalar\" tensorweight=0 tensorparity=-1'\n",
    "{\n",
    "  psi4i\n",
    "} \"Psi4i_group\"\n",
    "\n",
    "public:\n",
    "CCTK_REAL NRPyPsi3r_group type=GF timelevels=3 tags='tensortypealias=\"Scalar\" tensorweight=0 tensorparity=1'\n",
    "{\n",
    "  psi3r\n",
    "} \"Psi3r_group\"\n",
    "\n",
    "public:\n",
    "CCTK_REAL NRPyPsi3i_group type=GF timelevels=3 tags='tensortypealias=\"Scalar\" tensorweight=0 tensorparity=-1'\n",
    "{\n",
    "  psi3i\n",
    "} \"Psi3i_group\"\n",
    "\n",
    "public:\n",
    "CCTK_REAL NRPyPsi2r_group type=GF timelevels=3 tags='tensortypealias=\"Scalar\" tensorweight=0 tensorparity=1'\n",
    "{\n",
    "  psi2r\n",
    "} \"Psi2r_group\"\n",
    "\n",
    "public:\n",
    "CCTK_REAL NRPyPsi2i_group type=GF timelevels=3 tags='tensortypealias=\"Scalar\" tensorweight=0 tensorparity=-1'\n",
    "{\n",
    "  psi2i\n",
    "} \"Psi2i_group\"\n",
    "\n",
    "public:\n",
    "CCTK_REAL NRPyPsi1r_group type=GF timelevels=3 tags='tensortypealias=\"Scalar\" tensorweight=0 tensorparity=1'\n",
    "{\n",
    "  psi1r\n",
    "} \"Psi1r_group\"\n",
    "\n",
    "public:\n",
    "CCTK_REAL NRPyPsi1i_group type=GF timelevels=3 tags='tensortypealias=\"Scalar\" tensorweight=0 tensorparity=-1'\n",
    "{\n",
    "  psi1i\n",
    "} \"Psi1i_group\"\n",
    "\n",
    "public:\n",
    "CCTK_REAL NRPyPsi0r_group type=GF timelevels=3 tags='tensortypealias=\"Scalar\" tensorweight=0 tensorparity=1'\n",
    "{\n",
    "  psi0r\n",
    "} \"Psi0r_group\"\n",
    "\n",
    "public:\n",
    "CCTK_REAL NRPyPsi0i_group type=GF timelevels=3 tags='tensortypealias=\"Scalar\" tensorweight=0 tensorparity=-1'\n",
    "{\n",
    "  psi0i\n",
    "} \"Psi0i_group\"\n",
    "\n",
    "public:\n",
    "CCTK_REAL NRPyCurvIr_group type=GF timelevels=3 tags='tensortypealias=\"Scalar\" tensorweight=0 tensorparity=1'\n",
    "{\n",
    "  NRPycurvIr\n",
    "} \"CurvIr_group\"\n",
    "\n",
    "public:\n",
    "CCTK_REAL NRPyCurvIi_group type=GF timelevels=3 tags='tensortypealias=\"Scalar\" tensorweight=0 tensorparity=1'\n",
    "{\n",
    "  NRPycurvIi\n",
    "} \"CurvIi_group\"\n",
    "\n",
    "public:\n",
    "CCTK_REAL NRPyCurvJr_group type=GF timelevels=3 tags='tensortypealias=\"Scalar\" tensorweight=0 tensorparity=1'\n",
    "{\n",
    "  NRPycurvJr\n",
    "} \"CurvJr_group\"\n",
    "\n",
    "public:\n",
    "CCTK_REAL NRPyCurvJi_group type=GF timelevels=3 tags='tensortypealias=\"Scalar\" tensorweight=0 tensorparity=1'\n",
    "{\n",
    "  NRPycurvJi\n",
    "} \"CurvJi_group\"\n",
    "\n",
    "public:\n",
    "CCTK_REAL NRPyCurvJ1_group type=GF timelevels=3 tags='tensortypealias=\"Scalar\" tensorweight=0 tensorparity=1'\n",
    "{\n",
    "  NRPycurvJ1\n",
    "} \"CurvJ1_group\"\n",
    "\n",
    "public:\n",
    "CCTK_REAL NRPyCurvJ2_group type=GF timelevels=3 tags='tensortypealias=\"Scalar\" tensorweight=0 tensorparity=1'\n",
    "{\n",
    "  NRPycurvJ2\n",
    "} \"CurvJ2_group\"\n",
    "\n",
    "public:\n",
    "CCTK_REAL NRPyCurvJ3_group type=GF timelevels=3 tags='tensortypealias=\"Scalar\" tensorweight=0 tensorparity=1'\n",
    "{\n",
    "  NRPycurvJ3\n",
    "} \"CurvJ3_group\"\n",
    "\n",
    "public:\n",
    "CCTK_REAL NRPyCurvJ4_group type=GF timelevels=3 tags='tensortypealias=\"Scalar\" tensorweight=0 tensorparity=1'\n",
    "{\n",
    "  NRPycurvJ4\n",
    "} \"CurvJ4_group\"\n",
    "\n"
   ]
  },
  {
   "cell_type": "markdown",
   "metadata": {},
   "source": [
    "We will now write the file $\\text{param.ccl}$. This file allows the listed parameters to be set at runtime. We also give allowed ranges and default values for each parameter. More information on this file's syntax can be found in the [official Einstein Toolkit documentation](http://cactuscode.org/documentation/referencemanual/ReferenceManualch8.html#x12-265000C2.3). Here, the first two parameters tell the Method of Lines thorn that none of our variables need to be evolved in time. The last two determine how often we will calculate $\\psi_4$ and how many timesteps to skip at the beginning; currently, they are set to calculate $\\psi_4$ at every timestep, starting from the first in the simulation. "
   ]
  },
  {
   "cell_type": "code",
   "execution_count": 36,
   "metadata": {},
   "outputs": [
    {
     "name": "stdout",
     "output_type": "stream",
     "text": [
      "Overwriting WeylScal4NRPy/param.ccl\n"
     ]
    }
   ],
   "source": [
    "%%writefile WeylScal4NRPy/param.ccl\n",
    "\n",
    "restricted:\n",
    "CCTK_INT WeylScal4NRPy_MaxNumEvolvedVars \"Number of evolved variables used by this thorn\" ACCUMULATOR-BASE=MethodofLines::MoL_Num_Evolved_Vars STEERABLE=RECOVER\n",
    "{\n",
    "  0:0 :: \"Number of evolved variables used by this thorn\"\n",
    "} 0\n",
    "\n",
    "restricted:\n",
    "CCTK_INT WeylScal4NRPy_MaxNumArrayEvolvedVars \"Number of Array evolved variables used by this thorn\" ACCUMULATOR-BASE=MethodofLines::MoL_Num_ArrayEvolved_Vars STEERABLE=RECOVER\n",
    "{\n",
    "  0:0 :: \"Number of Array evolved variables used by this thorn\"\n",
    "} 0\n",
    "\n",
    "restricted:\n",
    "CCTK_INT timelevels \"Number of active timelevels\" STEERABLE=RECOVER\n",
    "{\n",
    "  0:3 :: \"\"\n",
    "} 3\n",
    "\n",
    "restricted:\n",
    "CCTK_INT WeylScal4NRPy_calc_every \"WeylScal4_psi4_calc_Nth_calc_every\" STEERABLE=ALWAYS\n",
    "{\n",
    "  *:* :: \"\"\n",
    "} 1\n",
    "\n",
    "restricted:\n",
    "CCTK_INT WeylScal4NRPy_calc_offset \"WeylScal4_psi4_calc_4th_calc_offset\" STEERABLE=ALWAYS\n",
    "{\n",
    "  *:* :: \"\"\n",
    "} 0\n",
    "\n",
    "private:\n",
    "CCTK_BOOLEAN output_all_psis \"Whether to output all Weyl scalars or just psi4\" \n",
    "{\n",
    "} \"true\"\n",
    "\n",
    "private:\n",
    "CCTK_BOOLEAN output_invars \"Whether or not to output the invariant scalars\" \n",
    "{\n",
    "} \"true\""
   ]
  },
  {
   "cell_type": "markdown",
   "metadata": {},
   "source": [
    "Finally, we will write the file $\\text{schedule.ccl}$; its official documentation is found [here](http://cactuscode.org/documentation/referencemanual/ReferenceManualch8.html#x12-268000C2.4). This file dictates when the various parts of the thorn will be run. We first assign storage for both the real and imaginary components of $\\psi_4$, and then specify that we want our code run in  the $\\text{MoL_PseudoEvolution}$ schedule group, after the ADM variables are set. At this step, we declare that we will be writing code in C. We also specify the gridfunctions that we wish to read in from memory--in our case, we need all the components of $K_{ij}$ and $g_{ij}$ (which we have been calling $\\gamma_{ij}$) in addition to the coordinate values."
   ]
  },
  {
   "cell_type": "code",
   "execution_count": 37,
   "metadata": {},
   "outputs": [
    {
     "name": "stdout",
     "output_type": "stream",
     "text": [
      "Overwriting WeylScal4NRPy/schedule.ccl\n"
     ]
    }
   ],
   "source": [
    "%%writefile WeylScal4NRPy/schedule.ccl\n",
    "\n",
    "STORAGE: NRPyPsi4r_group[timelevels]\n",
    "STORAGE: NRPyPsi4i_group[timelevels]\n",
    "STORAGE: NRPyPsi3r_group[timelevels]\n",
    "STORAGE: NRPyPsi3i_group[timelevels]\n",
    "STORAGE: NRPyPsi2r_group[timelevels]\n",
    "STORAGE: NRPyPsi2i_group[timelevels]\n",
    "STORAGE: NRPyPsi1r_group[timelevels]\n",
    "STORAGE: NRPyPsi1i_group[timelevels]\n",
    "STORAGE: NRPyPsi0r_group[timelevels]\n",
    "STORAGE: NRPyPsi0i_group[timelevels]\n",
    "STORAGE: NRPyCurvIr_group[timelevels]\n",
    "STORAGE: NRPyCurvIi_group[timelevels]\n",
    "STORAGE: NRPyCurvJr_group[timelevels]\n",
    "STORAGE: NRPyCurvJi_group[timelevels]\n",
    "STORAGE: NRPyCurvJ1_group[timelevels]\n",
    "STORAGE: NRPyCurvJ2_group[timelevels]\n",
    "STORAGE: NRPyCurvJ3_group[timelevels]\n",
    "STORAGE: NRPyCurvJ4_group[timelevels]\n",
    "\n",
    "schedule group WeylScal4NRPy_group in MoL_PseudoEvolution after ADMBase_SetADMVars\n",
    "{\n",
    "} \"Schedule WeylScal4NRPy group\"\n",
    "\n",
    "schedule weylscal4_mainfunction in WeylScal4NRPy_group\n",
    "{\n",
    "  LANG: C\n",
    "  READS: admbase::kxx(Everywhere)\n",
    "  READS: admbase::kxy(Everywhere)\n",
    "  READS: admbase::kxz(Everywhere)\n",
    "  READS: admbase::kyy(Everywhere)\n",
    "  READS: admbase::kyz(Everywhere)\n",
    "  READS: admbase::kzz(Everywhere)\n",
    "  READS: admbase::gxx(Everywhere)\n",
    "  READS: admbase::gxy(Everywhere)\n",
    "  READS: admbase::gxz(Everywhere)\n",
    "  READS: admbase::gyy(Everywhere)\n",
    "  READS: admbase::gyz(Everywhere)\n",
    "  READS: admbase::gzz(Everywhere)\n",
    "  READS: grid::x(Everywhere)\n",
    "  READS: grid::y(Everywhere)\n",
    "  READS: grid::z(Everywhere)\n",
    "  WRITES: WeylScal4::psi4i(Interior)\n",
    "  WRITES: WeylScal4::psi4r(Interior)\n",
    "  WRITES: WeylScal4::psi3i(Interior)\n",
    "  WRITES: WeylScal4::psi3r(Interior)\n",
    "  WRITES: WeylScal4::psi2i(Interior)\n",
    "  WRITES: WeylScal4::psi2r(Interior)\n",
    "  WRITES: WeylScal4::psi1i(Interior)\n",
    "  WRITES: WeylScal4::psi1r(Interior)\n",
    "  WRITES: WeylScal4::psi0i(Interior)\n",
    "  WRITES: WeylScal4::psi0r(Interior)\n",
    "  WRITES: WeylScal4::NRPycurvIi(Interior)\n",
    "  WRITES: WeylScal4::NRPycurvIr(Interior)\n",
    "  WRITES: WeylScal4::NRPycurvJi(Interior)\n",
    "  WRITES: WeylScal4::NRPycurvJr(Interior)\n",
    "  WRITES: WeylScal4::NRPycurvJ1(Interior)\n",
    "  WRITES: WeylScal4::NRPycurvJ2(Interior)\n",
    "  WRITES: WeylScal4::NRPycurvJ3(Interior)\n",
    "  WRITES: WeylScal4::NRPycurvJ4(Interior)\n",
    "\n",
    "} \"Call WeylScal4NRPy main function\"\n"
   ]
  },
  {
   "cell_type": "code",
   "execution_count": null,
   "metadata": {},
   "outputs": [],
   "source": [
    "#if (CCTK_EQUALS(output_all_psis,\"true\"))\n",
    "#{\n",
    "#    {\n",
    "#  } /*\"Allocate storage for the other psis if desired\"*/\n",
    "#    if (CCTK_EQUALS(output_invars,\"true\"))\n",
    "#    {\n",
    "#        {\n",
    "#        } /*\"Allocate storage for scalar invariants if desired\"*/\n",
    "#    }\n",
    "#}"
   ]
  },
  {
   "cell_type": "markdown",
   "metadata": {},
   "source": [
    "We will also need $\\text{make.code.defn}$, which states which files need to be compiled. This thorn only has the one C file to compile."
   ]
  },
  {
   "cell_type": "code",
   "execution_count": 19,
   "metadata": {},
   "outputs": [
    {
     "name": "stdout",
     "output_type": "stream",
     "text": [
      "Overwriting WeylScal4NRPy/src/make.code.defn\n"
     ]
    }
   ],
   "source": [
    "%%writefile WeylScal4NRPy/src/make.code.defn\n",
    "\n",
    "SRCS = WeylScal4NRPy.c"
   ]
  }
 ],
 "metadata": {
  "kernelspec": {
   "display_name": "Python 3",
   "language": "python",
   "name": "python3"
  },
  "language_info": {
   "codemirror_mode": {
    "name": "ipython",
    "version": 3
   },
   "file_extension": ".py",
   "mimetype": "text/x-python",
   "name": "python",
   "nbconvert_exporter": "python",
   "pygments_lexer": "ipython3",
   "version": "3.6.5"
  }
 },
 "nbformat": 4,
 "nbformat_minor": 2
}
